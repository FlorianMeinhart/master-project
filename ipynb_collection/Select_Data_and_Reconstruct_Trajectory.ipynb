{
 "cells": [
  {
   "cell_type": "markdown",
   "metadata": {},
   "source": [
    "# Select Data and Reconstruct Trajectory"
   ]
  },
  {
   "cell_type": "code",
   "execution_count": 1,
   "metadata": {
    "ExecuteTime": {
     "end_time": "2018-11-23T20:14:57.237760Z",
     "start_time": "2018-11-23T20:14:55.596666Z"
    }
   },
   "outputs": [
    {
     "name": "stdout",
     "output_type": "stream",
     "text": [
      "Using matplotlib backend: TkAgg\n"
     ]
    }
   ],
   "source": [
    "import os\n",
    "import numpy as np\n",
    "import matplotlib.pyplot as plt\n",
    "from scipy.signal import savgol_filter\n",
    "import functionsMasterProjectMeinhart as fmpm\n",
    "\n",
    "%matplotlib auto"
   ]
  },
  {
   "cell_type": "markdown",
   "metadata": {},
   "source": [
    "## Select file, time range and sampling rate"
   ]
  },
  {
   "cell_type": "code",
   "execution_count": 2,
   "metadata": {
    "ExecuteTime": {
     "end_time": "2018-11-22T13:27:35.197526Z",
     "start_time": "2018-11-22T13:27:35.186525Z"
    }
   },
   "outputs": [],
   "source": [
    "# select file (csv)\n",
    "file_dir  = r'E:\\Physio_Data\\Subject_01'\n",
    "file_name = 'subject01.csv'\n",
    "\n",
    "# selecet time range [min:sec]\n",
    "start_min_sec = '02:20.0' # Raises Oblique\n",
    "stop_min_sec  = '02:37.1'\n",
    "\n",
    "sampling_rate = 256 # [Hz]"
   ]
  },
  {
   "cell_type": "code",
   "execution_count": 61,
   "metadata": {
    "ExecuteTime": {
     "end_time": "2018-11-19T13:25:58.208994Z",
     "start_time": "2018-11-19T13:25:58.199993Z"
    }
   },
   "outputs": [],
   "source": [
    "# select file (csv)\n",
    "file_dir  = r'E:\\Physio_Data\\Subject_01'\n",
    "file_name = 'subject01.csv'\n",
    "\n",
    "# selecet time range [min:sec]\n",
    "start_min_sec = '21:24.0' # Raises Side\n",
    "stop_min_sec  = '21:40.2'\n",
    "\n",
    "sampling_rate = 256 # [Hz]"
   ]
  },
  {
   "cell_type": "code",
   "execution_count": 4,
   "metadata": {
    "ExecuteTime": {
     "end_time": "2018-11-22T13:28:51.024863Z",
     "start_time": "2018-11-22T13:28:51.018863Z"
    }
   },
   "outputs": [],
   "source": [
    "# select file (csv)\n",
    "file_dir  = r'E:\\Physio_Data\\Subject_01'\n",
    "file_name = 'subject01.csv'\n",
    "\n",
    "# selecet time range [min:sec]\n",
    "start_min_sec = '18:58.0' # Biceps Curls\n",
    "stop_min_sec  = '19:12.0'\n",
    "\n",
    "sampling_rate = 256 # [Hz]"
   ]
  },
  {
   "cell_type": "code",
   "execution_count": 5,
   "metadata": {
    "ExecuteTime": {
     "end_time": "2018-11-20T07:26:40.196207Z",
     "start_time": "2018-11-20T07:26:40.185207Z"
    }
   },
   "outputs": [],
   "source": [
    "# select file (csv)\n",
    "file_dir  = r'E:\\Physio_Data\\Subject_01'\n",
    "file_name = 'subject01.csv'\n",
    "\n",
    "# selecet time range [min:sec]\n",
    "start_min_sec = '25:48.7' # PNF Diagonal 1\n",
    "stop_min_sec  = '26:04.6'\n",
    "\n",
    "sampling_rate = 256 # [Hz]"
   ]
  },
  {
   "cell_type": "code",
   "execution_count": 6,
   "metadata": {
    "ExecuteTime": {
     "end_time": "2018-11-22T13:31:02.077359Z",
     "start_time": "2018-11-22T13:31:02.071359Z"
    }
   },
   "outputs": [],
   "source": [
    "# select file (csv)\n",
    "file_dir  = r'E:\\Physio_Data\\Subject_05'\n",
    "file_name = 'subject05.csv'\n",
    "\n",
    "# selecet time range [min:sec]\n",
    "start_min_sec = '33:49.3' # PNF Diagonal 1\n",
    "stop_min_sec  = '34:01.5'\n",
    "\n",
    "sampling_rate = 256 # [Hz]"
   ]
  },
  {
   "cell_type": "code",
   "execution_count": 2,
   "metadata": {
    "ExecuteTime": {
     "end_time": "2018-11-23T20:15:29.095582Z",
     "start_time": "2018-11-23T20:15:29.081581Z"
    }
   },
   "outputs": [],
   "source": [
    "# select file (csv)\n",
    "file_dir  = r'E:\\Physio_Data\\Subject_06'\n",
    "file_name = 'subject06.csv'\n",
    "\n",
    "# selecet time range [min:sec]\n",
    "start_min_sec = '28:47' # PNF Diagonal 1\n",
    "stop_min_sec  = '29:00'\n",
    "\n",
    "sampling_rate = 256 # [Hz]"
   ]
  },
  {
   "cell_type": "markdown",
   "metadata": {},
   "source": [
    "## Plot raw and filtered data of selected time range $\\rightarrow$ calculate trajectory of new selected time range"
   ]
  },
  {
   "cell_type": "code",
   "execution_count": 3,
   "metadata": {
    "ExecuteTime": {
     "end_time": "2018-11-23T20:15:48.104669Z",
     "start_time": "2018-11-23T20:15:30.022635Z"
    }
   },
   "outputs": [
    {
     "name": "stderr",
     "output_type": "stream",
     "text": [
      "E:\\Programme\\WinPython-64bit-3.6.2.0Qt5\\python-3.6.2.amd64\\lib\\site-packages\\matplotlib\\backend_bases.py:2453: MatplotlibDeprecationWarning: Using default event loop until function specific to this GUI is implemented\n",
      "  warnings.warn(str, mplDeprecation)\n"
     ]
    }
   ],
   "source": [
    "# split time string and convert to float\n",
    "start_min = float(start_min_sec.split(':')[0])\n",
    "start_sec = float(start_min_sec.split(':')[1])\n",
    "stop_min = float(stop_min_sec.split(':')[0])\n",
    "stop_sec = float(stop_min_sec.split(':')[1])\n",
    "\n",
    "# start and stop time in seconds\n",
    "start_time = start_min*60 + start_sec # [s]\n",
    "stop_time = stop_min*60 + stop_sec # [s]\n",
    "\n",
    "# join data path\n",
    "data_path = os.path.join(file_dir, file_name)\n",
    "\n",
    "# get data from selected file\n",
    "sensor_data = fmpm.get_sensor_data(in_file=data_path,\n",
    "                                   sampling_rate=sampling_rate,\n",
    "                                   start_time=start_time,\n",
    "                                   stop_time=stop_time)\n",
    "\n",
    "# filter acceleration and angualar velocity with Savitzky-Golay filter and plot data\n",
    "window_length = 51\n",
    "polyorder = 3\n",
    "acc_filt = savgol_filter(sensor_data['Acc'],window_length, polyorder, axis=0)\n",
    "gyr_filt = savgol_filter(sensor_data['Gyr'],window_length, polyorder, axis=0)\n",
    "\n",
    "\n",
    "# plot raw data (acceleration and angular velocity) !!! only works with %matplotlib auto\n",
    "fig, axs = plt.subplots(2,2,figsize=(16,8))\n",
    "plt.sca(axs[0,0])\n",
    "fmpm.plot_signal(sensor_data['Acc'],sensor_data['time'],\n",
    "            Title='Acceleration Profile',\n",
    "            g_to_ms2=True)\n",
    "plt.gca().set_xlabel('')\n",
    "plt.sca(axs[0,1])\n",
    "fmpm.plot_signal(sensor_data['Gyr'],sensor_data['time'],\n",
    "            Title='Angular Velocity Profile',\n",
    "            xLabel=r'$time \\enspace [s]$',\n",
    "            yLabel=r'$vel \\enspace [\\frac{deg}{s}]$')\n",
    "plt.gca().set_xlabel('')\n",
    "\n",
    "# plot filtered data (acceleration and angular velocity)\n",
    "plt.sca(axs[1,0])\n",
    "fmpm.plot_signal(acc_filt,sensor_data['time'],\n",
    "            Title=r'Acceleration Profile $\\rightarrow$ filtered',\n",
    "            g_to_ms2=True)\n",
    "plt.sca(axs[1,1])\n",
    "fmpm.plot_signal(gyr_filt,sensor_data['time'],\n",
    "            Title=r'Angular Velocity Profile $\\rightarrow$ filtered',\n",
    "            xLabel=r'$time \\enspace [s]$',\n",
    "            yLabel=r'$vel \\enspace [\\frac{deg}{s}]$')\n",
    "fig.suptitle('Select time range via mouse clicks ...', fontsize=20)\n",
    "plt.show()\n",
    "\n",
    "\n",
    "# select two points for time range\n",
    "selected_points = plt.ginput(2)\n",
    "\n",
    "# check if two points are selected\n",
    "if np.shape(selected_points)[0] is 2:\n",
    "    \n",
    "    # selected start and stop time\n",
    "    start_time_sel = selected_points[0][0]\n",
    "    stop_time_sel  = selected_points[1][0]\n",
    "    \n",
    "    # change start and stop time if start time is higher than stop time\n",
    "    if start_time_sel > stop_time_sel:\n",
    "        puffer = start_time_sel\n",
    "        start_time_sel = stop_time_sel\n",
    "        stop_time_sel = puffer\n",
    "    \n",
    "    # calculate corresponding index   !!! minus general start time\n",
    "    start_time_sel_index = int((start_time_sel-start_time)*sampling_rate)\n",
    "    stop_time_sel_index  = int((stop_time_sel-start_time)*sampling_rate)\n",
    "    \n",
    "    # refresh title of figure and show selected time range\n",
    "    fig.suptitle(r'Selected time range: {0:02d}:{1:05.2f} $\\rightarrow$ {2:02d}:{3:05.2f}'.format(\n",
    "        int(start_time_sel/60),start_time_sel%60,int(stop_time_sel/60),stop_time_sel%60),fontsize=20)\n",
    "    \n",
    "    # mark selected area\n",
    "    for ii in range(2):\n",
    "        for jj in range(2):\n",
    "            plt.sca(axs[ii,jj])\n",
    "            plt.axvspan(start_time_sel, stop_time_sel, color='y', alpha=0.3, lw=0)\n",
    "    \n",
    "    # get selected filtered acceleration and angular velocity\n",
    "    acc_filt_selected = acc_filt[start_time_sel_index:stop_time_sel_index,:]\n",
    "    gyr_filt_selected = gyr_filt[start_time_sel_index:stop_time_sel_index,:]\n",
    "    # time_selected = sensor_data['time'][start_time_sel_index:stop_time_sel_index] not necessary\n",
    "    \n",
    "    # calculate trajectory in an upright frame\n",
    "    traj_data_filt = fmpm.calc_trajectory(acc_filt_selected,\n",
    "                                          gyr_filt_selected,\n",
    "                                          sampling_rate=sampling_rate)\n",
    "    \n",
    "    # plot trajectory in an upright frame as well as the initial orientation\n",
    "    fmpm.plot_trajectory(pos_data=traj_data_filt['pos'],\n",
    "                         scale_plot_section = 0.7,\n",
    "                         rotmat_upright_init=traj_data_filt['R_upright_init'],\n",
    "                         scale_arrow=0.2,\n",
    "                         fig_size=(8,8))"
   ]
  },
  {
   "cell_type": "code",
   "execution_count": null,
   "metadata": {},
   "outputs": [],
   "source": []
  }
 ],
 "metadata": {
  "kernelspec": {
   "display_name": "Python 3",
   "language": "python",
   "name": "python3"
  },
  "language_info": {
   "codemirror_mode": {
    "name": "ipython",
    "version": 3
   },
   "file_extension": ".py",
   "mimetype": "text/x-python",
   "name": "python",
   "nbconvert_exporter": "python",
   "pygments_lexer": "ipython3",
   "version": "3.6.2"
  },
  "toc": {
   "base_numbering": 1,
   "nav_menu": {},
   "number_sections": true,
   "sideBar": true,
   "skip_h1_title": false,
   "title_cell": "Table of Contents",
   "title_sidebar": "Contents",
   "toc_cell": false,
   "toc_position": {},
   "toc_section_display": true,
   "toc_window_display": false
  },
  "varInspector": {
   "cols": {
    "lenName": 16,
    "lenType": 16,
    "lenVar": 40
   },
   "kernels_config": {
    "python": {
     "delete_cmd_postfix": "",
     "delete_cmd_prefix": "del ",
     "library": "var_list.py",
     "varRefreshCmd": "print(var_dic_list())"
    },
    "r": {
     "delete_cmd_postfix": ") ",
     "delete_cmd_prefix": "rm(",
     "library": "var_list.r",
     "varRefreshCmd": "cat(var_dic_list()) "
    }
   },
   "types_to_exclude": [
    "module",
    "function",
    "builtin_function_or_method",
    "instance",
    "_Feature"
   ],
   "window_display": false
  }
 },
 "nbformat": 4,
 "nbformat_minor": 2
}
