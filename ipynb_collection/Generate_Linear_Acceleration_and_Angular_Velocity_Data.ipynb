{
 "cells": [
  {
   "cell_type": "markdown",
   "metadata": {},
   "source": [
    "# Generate Linear Acceleration and Angular Velocity Data\n",
    "\n",
    "In order to test the function for calculating the trajectory it seems to be necessary to generate own data."
   ]
  },
  {
   "cell_type": "code",
   "execution_count": 1,
   "metadata": {
    "ExecuteTime": {
     "end_time": "2018-11-17T01:05:51.498374Z",
     "start_time": "2018-11-17T01:05:49.527261Z"
    }
   },
   "outputs": [],
   "source": [
    "import skinematics as skin\n",
    "import numpy as np\n",
    "import matplotlib.pyplot as plt\n",
    "import matplotlib as mpl\n",
    "from mpl_toolkits.mplot3d import Axes3D\n",
    "import functionsMasterProjectMeinhart as fmpm"
   ]
  },
  {
   "cell_type": "code",
   "execution_count": 2,
   "metadata": {
    "ExecuteTime": {
     "end_time": "2018-11-17T01:05:51.540376Z",
     "start_time": "2018-11-17T01:05:51.501374Z"
    }
   },
   "outputs": [
    {
     "name": "stdout",
     "output_type": "stream",
     "text": [
      "Using matplotlib backend: TkAgg\n"
     ]
    }
   ],
   "source": [
    "%matplotlib auto"
   ]
  },
  {
   "cell_type": "code",
   "execution_count": 3,
   "metadata": {
    "ExecuteTime": {
     "end_time": "2018-11-17T01:05:51.734387Z",
     "start_time": "2018-11-17T01:05:51.670384Z"
    }
   },
   "outputs": [],
   "source": [
    "g_mps2 = 9.80665 # [m/s^2]\n",
    "sampling_rate = 100 # [Hz]\n",
    "delta_t = 1/ sampling_rate\n",
    "\n",
    "num_data_points = 1000\n",
    "\n",
    "# reserve space for 10 s data (due to sampling rate of 100 Hz)\n",
    "acc_lin = np.zeros((num_data_points,3))\n",
    "time = np.arange(np.shape(acc_lin)[0])/sampling_rate\n",
    "\n",
    "q0 = np.array([0,0,0])\n",
    "q_vec = np.zeros((num_data_points + 1,3)) # +1 because of initial orientation\n",
    "\n",
    "# define angular velocity in rad/s \n",
    "omega = np.tile([0,90,0], (num_data_points,1))*np.pi/180"
   ]
  },
  {
   "cell_type": "markdown",
   "metadata": {},
   "source": [
    "## Let's generate the acceleration profile for a rotating sensor, only influenced by gravity"
   ]
  },
  {
   "cell_type": "code",
   "execution_count": 4,
   "metadata": {
    "ExecuteTime": {
     "end_time": "2018-11-17T01:05:51.882396Z",
     "start_time": "2018-11-17T01:05:51.793391Z"
    }
   },
   "outputs": [],
   "source": [
    "acc_lin_start = [0,0,1] # starting position"
   ]
  },
  {
   "cell_type": "code",
   "execution_count": 5,
   "metadata": {
    "ExecuteTime": {
     "end_time": "2018-11-17T01:05:52.037405Z",
     "start_time": "2018-11-17T01:05:51.935399Z"
    }
   },
   "outputs": [],
   "source": [
    "#quat = skin.quat.calc_quat(omega, q0, rate=sampling_rate, CStype='bf')"
   ]
  },
  {
   "cell_type": "code",
   "execution_count": 6,
   "metadata": {
    "ExecuteTime": {
     "end_time": "2018-11-17T01:05:52.368424Z",
     "start_time": "2018-11-17T01:05:52.096408Z"
    }
   },
   "outputs": [],
   "source": [
    "for ii in range(np.shape(omega)[0]):\n",
    "    \n",
    "    omega_abs = np.linalg.norm(omega[ii])\n",
    "        \n",
    "    if omega_abs < 0.00001 and omega_abs > -0.00001:\n",
    "        q_vec[ii+1] = [0,0,0]\n",
    "\n",
    "    else:\n",
    "        delta_q_vec = omega[ii]/omega_abs * np.sin(omega_abs*delta_t/2)\n",
    "        q_vec[ii+1] = skin.quat.q_mult(q_vec[ii], delta_q_vec)"
   ]
  },
  {
   "cell_type": "code",
   "execution_count": 7,
   "metadata": {
    "ExecuteTime": {
     "end_time": "2018-11-17T01:05:52.435427Z",
     "start_time": "2018-11-17T01:05:52.424427Z"
    }
   },
   "outputs": [],
   "source": [
    "rotmat_set = skin.quat.convert(q_vec[1:], to='rotmat')"
   ]
  },
  {
   "cell_type": "code",
   "execution_count": 8,
   "metadata": {
    "ExecuteTime": {
     "end_time": "2018-11-17T01:05:52.559435Z",
     "start_time": "2018-11-17T01:05:52.498431Z"
    }
   },
   "outputs": [],
   "source": [
    "acc = np.array([np.dot(np.matrix.transpose(rotmat_set[ii].reshape((3,3))), acc_lin_start) for ii in range(len(rotmat_set ))])"
   ]
  },
  {
   "cell_type": "code",
   "execution_count": 9,
   "metadata": {
    "ExecuteTime": {
     "end_time": "2018-11-17T01:05:52.887453Z",
     "start_time": "2018-11-17T01:05:52.619438Z"
    }
   },
   "outputs": [],
   "source": [
    "plt.figure()\n",
    "fmpm.plot_signal(acc,time)"
   ]
  },
  {
   "cell_type": "code",
   "execution_count": 10,
   "metadata": {
    "ExecuteTime": {
     "end_time": "2018-11-17T01:05:53.470487Z",
     "start_time": "2018-11-17T01:05:53.296477Z"
    }
   },
   "outputs": [],
   "source": [
    "plt.figure()\n",
    "fmpm.plot_signal(q_vec[1:],time,\n",
    "            Title='Vector Part of Quaternion',\n",
    "            xLabel=r'$time \\enspace [s]$',\n",
    "            yLabel=r'$q$')"
   ]
  },
  {
   "cell_type": "code",
   "execution_count": 11,
   "metadata": {
    "ExecuteTime": {
     "end_time": "2018-11-17T01:05:53.700500Z",
     "start_time": "2018-11-17T01:05:53.685499Z"
    }
   },
   "outputs": [
    {
     "data": {
      "text/plain": [
       "array([[-1.57073173e-02,  0.00000000e+00,  9.99876632e-01],\n",
       "       [-3.14107591e-02,  0.00000000e+00,  9.99506560e-01],\n",
       "       [-4.71064507e-02,  0.00000000e+00,  9.98889875e-01],\n",
       "       ...,\n",
       "       [-3.14107889e-02,  0.00000000e+00, -9.99506559e-01],\n",
       "       [-1.57073471e-02,  0.00000000e+00, -9.99876632e-01],\n",
       "       [-2.98023224e-08,  0.00000000e+00, -1.00000000e+00]])"
      ]
     },
     "execution_count": 11,
     "metadata": {},
     "output_type": "execute_result"
    }
   ],
   "source": [
    "acc"
   ]
  },
  {
   "cell_type": "code",
   "execution_count": 12,
   "metadata": {
    "ExecuteTime": {
     "end_time": "2018-11-17T01:05:54.219530Z",
     "start_time": "2018-11-17T01:05:53.754503Z"
    }
   },
   "outputs": [],
   "source": [
    "traj_data = fmpm.calc_trajectory_orientation(acc,\n",
    "                                            omega*180/np.pi,\n",
    "                                            acc_init=acc_lin_start,\n",
    "                                            sampling_rate=sampling_rate)"
   ]
  },
  {
   "cell_type": "code",
   "execution_count": 13,
   "metadata": {
    "ExecuteTime": {
     "end_time": "2018-11-17T01:05:54.492545Z",
     "start_time": "2018-11-17T01:05:54.274533Z"
    }
   },
   "outputs": [],
   "source": [
    "plt.figure()\n",
    "fmpm.plot_signal(traj_data['q_vec'][1:],time,\n",
    "            Title='Vector Part of Quaternion',\n",
    "            xLabel=r'$time \\enspace [s]$',\n",
    "            yLabel=r'$q$')"
   ]
  },
  {
   "cell_type": "code",
   "execution_count": 14,
   "metadata": {
    "ExecuteTime": {
     "end_time": "2018-11-17T01:05:55.087579Z",
     "start_time": "2018-11-17T01:05:54.863566Z"
    }
   },
   "outputs": [
    {
     "name": "stdout",
     "output_type": "stream",
     "text": [
      "Using matplotlib backend: TkAgg\n"
     ]
    }
   ],
   "source": [
    "[pos_x, pos_y, pos_z] = [traj_data['pos'][:,ii] for ii in range(3)]\n",
    "\n",
    "%matplotlib auto\n",
    "fig = plt.figure()\n",
    "ax = fig.gca(projection='3d')\n",
    "ax.plot(pos_x, pos_y, pos_z, label='trajectory')\n",
    "ax.set_xlabel(r'$x [m]$')\n",
    "ax.set_ylabel(r'$y [m]$')\n",
    "ax.set_zlabel(r'$z [m]$')\n",
    "ax.legend()\n",
    "plt.show()"
   ]
  },
  {
   "cell_type": "markdown",
   "metadata": {},
   "source": [
    "## Let's add acceleration in the beginning for 1 second"
   ]
  },
  {
   "cell_type": "code",
   "execution_count": 31,
   "metadata": {
    "ExecuteTime": {
     "end_time": "2018-11-17T01:21:24.357730Z",
     "start_time": "2018-11-17T01:21:24.350730Z"
    }
   },
   "outputs": [],
   "source": [
    "acc_total_begin = acc_lin_start + np.array([1,1,0])/np.sqrt(2)/g_mps2 # + 1m/s^2\n",
    "acc_first_sec = np.tile(acc_total_begin, (sampling_rate,1)) # data for 1 sec"
   ]
  },
  {
   "cell_type": "code",
   "execution_count": 32,
   "metadata": {
    "ExecuteTime": {
     "end_time": "2018-11-17T01:21:25.080772Z",
     "start_time": "2018-11-17T01:21:25.075771Z"
    }
   },
   "outputs": [],
   "source": [
    "# no angular velocity in the first second\n",
    "omega_first_sec = np.tile([0,0,0], (sampling_rate,1))"
   ]
  },
  {
   "cell_type": "code",
   "execution_count": 33,
   "metadata": {
    "ExecuteTime": {
     "end_time": "2018-11-17T01:21:25.832815Z",
     "start_time": "2018-11-17T01:21:25.825814Z"
    }
   },
   "outputs": [],
   "source": [
    "acc_new = np.vstack((acc_first_sec, acc))\n",
    "omega_new = np.vstack((omega_first_sec, omega))\n",
    "time_new = np.arange(np.shape(acc_new)[0])/sampling_rate"
   ]
  },
  {
   "cell_type": "code",
   "execution_count": 34,
   "metadata": {
    "ExecuteTime": {
     "end_time": "2018-11-17T01:21:26.898876Z",
     "start_time": "2018-11-17T01:21:26.570857Z"
    }
   },
   "outputs": [],
   "source": [
    "traj_data = fmpm.calc_trajectory_orientation(acc_new,\n",
    "                                            omega_new*180/np.pi,\n",
    "                                            acc_init=acc_lin_start,\n",
    "                                            sampling_rate=sampling_rate)"
   ]
  },
  {
   "cell_type": "code",
   "execution_count": 35,
   "metadata": {
    "ExecuteTime": {
     "end_time": "2018-11-17T01:21:27.785926Z",
     "start_time": "2018-11-17T01:21:27.610916Z"
    }
   },
   "outputs": [],
   "source": [
    "plt.figure()\n",
    "fmpm.plot_signal(traj_data['q_vec'][:-1],\n",
    "                 time_new,\n",
    "                 Title='Vector Part of Quaternion',\n",
    "                 xLabel=r'$time \\enspace [s]$',\n",
    "                 yLabel=r'$q$')"
   ]
  },
  {
   "cell_type": "code",
   "execution_count": 36,
   "metadata": {
    "ExecuteTime": {
     "end_time": "2018-11-17T01:21:29.166005Z",
     "start_time": "2018-11-17T01:21:28.963994Z"
    }
   },
   "outputs": [
    {
     "name": "stdout",
     "output_type": "stream",
     "text": [
      "Using matplotlib backend: TkAgg\n"
     ]
    }
   ],
   "source": [
    "[pos_x, pos_y, pos_z] = [traj_data['pos'][:,ii] for ii in range(3)]\n",
    "\n",
    "%matplotlib auto\n",
    "fig = plt.figure()\n",
    "ax = fig.gca(projection='3d')\n",
    "ax.plot(pos_x, pos_y, pos_z, label='trajectory')\n",
    "ax.set_xlabel(r'$x [m]$')\n",
    "ax.set_ylabel(r'$y [m]$')\n",
    "ax.set_zlabel(r'$z [m]$')\n",
    "ax.legend()\n",
    "plt.show()"
   ]
  },
  {
   "cell_type": "code",
   "execution_count": null,
   "metadata": {},
   "outputs": [],
   "source": []
  },
  {
   "cell_type": "code",
   "execution_count": null,
   "metadata": {},
   "outputs": [],
   "source": []
  },
  {
   "cell_type": "code",
   "execution_count": null,
   "metadata": {},
   "outputs": [],
   "source": []
  },
  {
   "cell_type": "code",
   "execution_count": null,
   "metadata": {},
   "outputs": [],
   "source": []
  },
  {
   "cell_type": "code",
   "execution_count": 16,
   "metadata": {
    "ExecuteTime": {
     "end_time": "2018-11-17T01:05:55.627610Z",
     "start_time": "2018-11-17T01:05:55.378596Z"
    }
   },
   "outputs": [],
   "source": [
    "def calc_trajectory_orientation(acc_lin_g, vel_ang_degps, acc_init, sampling_rate=256):\n",
    "    '''\n",
    "    This function calculates the trajectory by means of a set of linear acceleration and angular velocity data.\n",
    "    The sampling rate has to be given in Hz.\n",
    "    Moreover, the initial acceleration is taken as gravity.\n",
    "    This allows to calculate the position in an upright frame (z-axis aligned with gravity).\n",
    "    \n",
    "    Inputs\n",
    "    ------\n",
    "    acc_lin_g: linear acceleration [g]\n",
    "    \n",
    "    vel_ang_degps: angular velocity [deg/s]\n",
    "    \n",
    "    acc_init: initial linear acceleration, shall be only caused by gravity\n",
    "    \n",
    "    sampling_rate: sampling rate of the measured signals in Hz\n",
    "    \n",
    "    \n",
    "    Returns\n",
    "    -------\n",
    "    Dictionary with upright position, velocity and orientation (vector-part of quaternion)\n",
    "    '''\n",
    "    \n",
    "    g_mps2 = 9.80665 # [m/s^2]\n",
    "    \n",
    "    acc_lin = np.array(acc_lin_g) * g_mps2 # linear acceleration in m/s^2\n",
    "    \n",
    "    vel_ang = np.array(vel_ang_degps) * np.pi/180 # angular velocity in rad/s\n",
    "    \n",
    "    delta_t = 1/sampling_rate\n",
    "    \n",
    "    \n",
    "    # initial acceleration shall be only caused by gravity\n",
    "    acc_init_abs = np.linalg.norm(acc_init)\n",
    "    acc_init_norm = np.array(acc_init) / acc_init_abs # normalize\n",
    "    \n",
    "    beta = np.arcsin(acc_init_norm[0]) # rotation angle (y)\n",
    "    alpha = np.arccos(acc_init_norm[2]/np.cos(beta)) # rotation angle (x)\n",
    "    \n",
    "    R_upright_init = np.matrix.transpose(np.array([[np.cos(beta), 0, np.sin(beta)],\n",
    "       [-np.sin(alpha)*np.sin(beta), np.cos(alpha), -np.sin(alpha)*np.cos(beta)],\n",
    "       [np.sin(beta)*np.cos(alpha), np.sin(alpha), np.cos(alpha)*np.cos(beta)]]))\n",
    "\n",
    "\n",
    "    acc_upright_gravity = np.array([0, 0, g_mps2]) # gravity in upright position [m/s^2]\n",
    "    \n",
    "    # check number of data points\n",
    "    if acc_lin.ndim is 1 or vel_ang.ndim is 1:\n",
    "        num_steps = 1\n",
    "    elif np.shape(acc_lin)[0] <= np.shape(vel_ang)[0]:\n",
    "        num_steps = np.shape(acc_lin)[0]\n",
    "    else:\n",
    "        num_steps = np.shape(vel_ang)[0]\n",
    "    \n",
    "    # reserve memory for position and orientation vectors\n",
    "    #    --> one step more, because of initial condition\n",
    "    pos_upright = np.zeros((num_steps+1, 3))\n",
    "    vel_upright = np.zeros((num_steps+1, 3))\n",
    "    q_vec = np.zeros((num_steps+1, 3)) # vector part of quaternion\n",
    "         \n",
    "    \n",
    "    \n",
    "    for ii in range(num_steps):\n",
    "        \n",
    "        omega_abs = np.linalg.norm(vel_ang[ii])\n",
    "        \n",
    "        # avoid division by zero (or value close to zero)\n",
    "        if omega_abs < 0.00001 and omega_abs > -0.00001:\n",
    "            q_vec[ii+1] = q_vec[ii]\n",
    "        \n",
    "        else:\n",
    "            delta_q_vec = vel_ang[ii]/omega_abs * np.sin(omega_abs*delta_t/2)\n",
    "            q_vec[ii+1] = skin.quat.q_mult(q_vec[ii], delta_q_vec)\n",
    "        \n",
    "        R_space_obj_new = skin.quat.convert(q_vec[ii+1] , to='rotmat')\n",
    "        \n",
    "        acc_upright_movement = np.dot(R_upright_init, np.dot(R_space_obj_new, acc_lin[ii])) - acc_upright_gravity\n",
    "    \n",
    "        vel_upright[ii+1] = vel_upright[ii] + acc_upright_movement*delta_t\n",
    "\n",
    "        pos_upright[ii+1] = pos_upright[ii] +  vel_upright[ii]*delta_t + 0.5*acc_upright_movement*delta_t**2\n",
    "        \n",
    "        \n",
    "    data_dict = {}\n",
    "    data_dict['pos'] = pos_upright\n",
    "    data_dict['vel'] = vel_upright\n",
    "    data_dict['q_vec'] = q_vec\n",
    "    \n",
    "    return data_dict"
   ]
  },
  {
   "cell_type": "code",
   "execution_count": null,
   "metadata": {},
   "outputs": [],
   "source": []
  },
  {
   "cell_type": "code",
   "execution_count": null,
   "metadata": {},
   "outputs": [],
   "source": []
  }
 ],
 "metadata": {
  "kernelspec": {
   "display_name": "Python 3",
   "language": "python",
   "name": "python3"
  },
  "language_info": {
   "codemirror_mode": {
    "name": "ipython",
    "version": 3
   },
   "file_extension": ".py",
   "mimetype": "text/x-python",
   "name": "python",
   "nbconvert_exporter": "python",
   "pygments_lexer": "ipython3",
   "version": "3.6.2"
  },
  "toc": {
   "base_numbering": 1,
   "nav_menu": {},
   "number_sections": true,
   "sideBar": true,
   "skip_h1_title": false,
   "title_cell": "Table of Contents",
   "title_sidebar": "Contents",
   "toc_cell": false,
   "toc_position": {},
   "toc_section_display": true,
   "toc_window_display": false
  },
  "varInspector": {
   "cols": {
    "lenName": 16,
    "lenType": 16,
    "lenVar": 40
   },
   "kernels_config": {
    "python": {
     "delete_cmd_postfix": "",
     "delete_cmd_prefix": "del ",
     "library": "var_list.py",
     "varRefreshCmd": "print(var_dic_list())"
    },
    "r": {
     "delete_cmd_postfix": ") ",
     "delete_cmd_prefix": "rm(",
     "library": "var_list.r",
     "varRefreshCmd": "cat(var_dic_list()) "
    }
   },
   "types_to_exclude": [
    "module",
    "function",
    "builtin_function_or_method",
    "instance",
    "_Feature"
   ],
   "window_display": false
  }
 },
 "nbformat": 4,
 "nbformat_minor": 2
}
