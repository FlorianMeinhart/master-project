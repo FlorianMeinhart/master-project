{
 "cells": [
  {
   "cell_type": "markdown",
   "metadata": {},
   "source": [
    "# Dimension Reduction and Feature Generation according to Crema\n",
    "\n",
    "\n",
    "***The following section of the paper \"Characterization of a Wearable System for Automatic Supervision of Fitness Exercises\" describes how the features are generated for classification:***\n",
    "\n",
    "IV.\tTHE ACTUAL IMPLEMENTATION\n",
    "\n",
    "...\n",
    "\n",
    "*A.\tClassification Stage*\n",
    "\n",
    "The first step of the Classifier is the pre-processing. Accelerometer and gyroscope data are first smoothed with a 8th order Butterworth low pass filter (cutoff frequency 20 Hz), and then windowing the smoothed data into 5 s blocks, sliding with an increment of 200 ms.\n",
    "\n",
    "For each window, six one-dimensional signals are computed:\n",
    "\n",
    "•\taX, the x-axis accelerometer signal;\n",
    "\n",
    "•\taYZPC1, the projection of the y and z accelerometer signals onto the first PC (this captures movement perpendicular to the arm, which allows deriving information from the y and z axes despite the unknown rotation of the armband);\n",
    "\n",
    "•\tgPC1, the projection of the three gyroscope signals onto its first PC (this is the movement along the axis that demonstrates the most variance within this window).\n",
    "\n",
    "The Classifier assigns each window to one of *k+1* exercise classes; in this work k = 9 different target exercises have been performed, while the 10th class represent NULL class, i.e. when the user is not performing a target exercise. The block scheme of the Classifier is shown in Fig. 3.\n",
    "\n",
    "\n",
    "<img src=\"Images/Block_scheme_of_the_Classifier_stage.png\" alt=\"Drawing\" style=\"width: 500px;\"/>\n",
    "\n",
    "*Fig. 3.\tBlock scheme of the Classifier stage*\n",
    " \n",
    " \n",
    "It is important to notice that exercises are divided into “sets”, which are subsequent repetitions of the same movement, divided by pauses. From the algorithm point of view, a set is the collection of subsequent windows. The final results produced by the Classifier will refer to sets, and not to single labels.\n",
    "\n",
    "For each 5 s long observation interval of the pre-processed signals, 24 features are calculated.\n",
    "Among possible energy-related features, the following have been evaluated:\n",
    "\n",
    "•\tamplitude frequency distribution within five classes;\n",
    "\n",
    "•\tRMS, mean, and standard deviation values;\n",
    "\n",
    "•\tpower bands, i.e., the magnitude of power spectrum in ten linearly-spaced bands, in the range 0.1-25 Hz.\n",
    "\n",
    "Among possible periodicity-related features, the following have been evaluated:\n",
    "\n",
    "•\tautocorrelation maximum value;\n",
    "\n",
    "•\tprominent peaks, i.e., the number of autocorrelation peaks (the local maxima) that are larger than their neighboring peaks by a threshold and are more than a threshold lag away from their neighboring peaks;\n",
    "\n",
    "•\tweak peaks, i.e., the number of autocorrelation peaks that are not prominent;\n",
    "\n",
    "•\tvalue of the first autocorrelation peak after a zero-crossing.\n",
    "\n",
    "Among possible shape-related features, the following have been evaluated:\n",
    "\n",
    "•\tasymmetry in the value distribution, evaluated by means of the fourth order moment (kurtosis);\n",
    "\n",
    "•\tinterquartile range, i.e., a measure of statistical dispersion, equal to the difference between 75th and 25th percentiles.\n",
    "\n",
    "The number of features is then reduced with the PCA. The optimal number of the principal components (PCs) has been determined empirically: a tradeoff among computational complexity and system performance led to the choice of the first 20 PCs. These PCs are processed by the LDA, which actually outputs data classes (number of exercise).\n",
    "\n",
    "A purposely designed filter has been implemented in order to reduce wrong classifications. In particular, observation intervals (i.e. windows) having confidence value smaller than a fixed threshold (typically between 0.9 0.95 [37]) are ignored. The remaining windows are processed according to an event-duration algorithm, similar to the approaches described in [38] and [39], in order to produce the final exercise set (EX-SET) classification.\n",
    "\n",
    "\n"
   ]
  },
  {
   "cell_type": "code",
   "execution_count": 3,
   "metadata": {
    "ExecuteTime": {
     "end_time": "2018-12-11T08:45:02.894100Z",
     "start_time": "2018-12-11T08:44:39.698774Z"
    }
   },
   "outputs": [],
   "source": [
    "import scipy\n",
    "import numpy as np\n",
    "import matplotlib.pyplot as plt\n",
    "import peakutils\n",
    "from sklearn.decomposition import PCA\n",
    "import functionsMasterProjectMeinhart as fmpm"
   ]
  },
  {
   "cell_type": "markdown",
   "metadata": {},
   "source": [
    "## Load and filter an arbitrary sensor data for testing"
   ]
  },
  {
   "cell_type": "code",
   "execution_count": 4,
   "metadata": {
    "ExecuteTime": {
     "end_time": "2018-12-11T08:45:05.335240Z",
     "start_time": "2018-12-11T08:45:02.904101Z"
    }
   },
   "outputs": [],
   "source": [
    "# select file (csv)\n",
    "file_dir  = r'E:\\Physio_Data\\Subject_01'\n",
    "file_name = 'subject01.csv'\n",
    "\n",
    "# selecet time range [min:sec]\n",
    "#start_min_sec = '02:20.0' # Raises Oblique\n",
    "#stop_min_sec  = '02:37.1'\n",
    "\n",
    "# Let's take the first 10 min, after filtering we split into 5 s windows\n",
    "# selecet time range [min:sec]\n",
    "start_min_sec = '00:00.0'\n",
    "stop_min_sec  = '10:00.0'\n",
    "\n",
    "sampling_rate = 256 # [Hz]\n",
    "\n",
    "# split time string and convert to float\n",
    "start_min = float(start_min_sec.split(':')[0])\n",
    "start_sec = float(start_min_sec.split(':')[1])\n",
    "stop_min = float(stop_min_sec.split(':')[0])\n",
    "stop_sec = float(stop_min_sec.split(':')[1])\n",
    "\n",
    "# start and stop time in seconds\n",
    "start_time = start_min*60 + start_sec # [s]\n",
    "stop_time = stop_min*60 + stop_sec # [s]\n",
    "\n",
    "# join data path\n",
    "data_path = os.path.join(file_dir, file_name)\n",
    "\n",
    "# get data from selected file\n",
    "sensor_data = fmpm.get_sensor_data(in_file=data_path,\n",
    "                                   sampling_rate=sampling_rate,\n",
    "                                   start_time=start_time,\n",
    "                                   stop_time=stop_time)\n",
    "\n",
    "# filter properties according to Crema\n",
    "cutoff = 20 # [Hz]\n",
    "order = 8 # butterworth order\n",
    "\n",
    "# filter data with butterworth filter and save to new dictionary\n",
    "signal_keys = ['Acc', 'Gyr']\n",
    "sensor_data_filt = {}\n",
    "for signal in signal_keys:\n",
    "    sensor_data_filt[signal] = fmpm.butter_lowpass_filter(sensor_data[signal], \n",
    "                                                          cutoff=cutoff, \n",
    "                                                          fs=sampling_rate, \n",
    "                                                          order=order)"
   ]
  },
  {
   "cell_type": "markdown",
   "metadata": {},
   "source": [
    "## Function to select a window of a certain time from a dictionary with signals"
   ]
  },
  {
   "cell_type": "code",
   "execution_count": 5,
   "metadata": {
    "ExecuteTime": {
     "end_time": "2018-12-11T08:45:05.480248Z",
     "start_time": "2018-12-11T08:45:05.338240Z"
    }
   },
   "outputs": [],
   "source": [
    "def select_window(signals, window_length=5, start_time=None, start_index=0, sampling_rate=256):\n",
    "    '''\n",
    "    This function returns the signal data of a certain time range,\n",
    "    selected via start time (or start index) and window length.\n",
    "    If stop index is out of range, None is returned.\n",
    "    All signals in the incoming dict must have the same length.\n",
    "    \n",
    "    Parameters\n",
    "    ----------\n",
    "    signals : dicitionary\n",
    "        the values of all items have to be 1- or 2-dimensional arrays\n",
    "        \n",
    "    window_length : float or int\n",
    "        window length in seconds to select data\n",
    "        \n",
    "    start_time : float or int\n",
    "        start time in seconds where data selection starts\n",
    "        \n",
    "    start_index :  int\n",
    "        only used, if start_time is None;\n",
    "        start index where data selection starts\n",
    "        \n",
    "    sampling_rate : float or int\n",
    "        sampling rate of signal data\n",
    "    \n",
    "    Returns\n",
    "    -------\n",
    "    dict --> same keys as input dictionary (signals),\n",
    "        contains selected data\n",
    "    '''\n",
    "    \n",
    "    signal_keys = [*signals]\n",
    "    \n",
    "    # if start time is given --> convert to start index\n",
    "    if start_time is not None:\n",
    "        start_index = int(start_time * sampling_rate)\n",
    "    \n",
    "    # calculate stop index\n",
    "    stop_index = start_index + int(window_length * sampling_rate)\n",
    "    \n",
    "    out_dict = {}\n",
    "    \n",
    "    # check if stop index is out of range (compare with all signals)\n",
    "    for sig in signal_keys:\n",
    "        if stop_index > len(signals[sig]):\n",
    "            # return None if stop index is out of range\n",
    "            return None\n",
    "        else:\n",
    "            #check dimensions of item values for slicing\n",
    "            if np.array(signals[sig]).ndim == 1:\n",
    "                # save selected 1-dimensional array to out dicitionary\n",
    "                out_dict[sig] = signals[sig][start_index:stop_index]\n",
    "            elif np.array(signals[sig]).ndim == 2:\n",
    "                # save selected 2-dimensional array to out dicitionary\n",
    "                out_dict[sig] = signals[sig][start_index:stop_index,:]\n",
    "            else:\n",
    "                # raise error if dimensions are wrong\n",
    "                raise NameError('Wrong dimensions --> dict key: ' + sig)\n",
    "    \n",
    "    return out_dict"
   ]
  },
  {
   "cell_type": "markdown",
   "metadata": {},
   "source": [
    "***Apply the function with the filtered signals from above and select a window with a length of 5 seconds***"
   ]
  },
  {
   "cell_type": "code",
   "execution_count": 6,
   "metadata": {
    "ExecuteTime": {
     "end_time": "2018-12-11T08:45:05.659259Z",
     "start_time": "2018-12-11T08:45:05.493249Z"
    }
   },
   "outputs": [
    {
     "data": {
      "text/plain": [
       "(1280, 3)"
      ]
     },
     "execution_count": 6,
     "metadata": {},
     "output_type": "execute_result"
    }
   ],
   "source": [
    "signals_5s = select_window(signals=sensor_data_filt, \n",
    "                           window_length=5, \n",
    "                           start_time=120, \n",
    "                           start_index=0,\n",
    "                           sampling_rate=256)\n",
    "np.shape(signals_5s['Gyr'])"
   ]
  },
  {
   "cell_type": "markdown",
   "metadata": {},
   "source": [
    "## Function to perform dimension reduction (PCA) for signals according to Crema"
   ]
  },
  {
   "cell_type": "code",
   "execution_count": 7,
   "metadata": {
    "ExecuteTime": {
     "end_time": "2018-12-11T08:45:05.777265Z",
     "start_time": "2018-12-11T08:45:05.669259Z"
    }
   },
   "outputs": [],
   "source": [
    "def signal_dim_reduc(signals):\n",
    "    '''\n",
    "    This function performs a dimension reduction by means of PCA\n",
    "    with respect to the input signals (acceleration, angular velocity).\n",
    "    \n",
    "    Parameters\n",
    "    ----------\n",
    "    signals : dicitionary\n",
    "        signals has to have the keys 'Acc' and 'Gyr';\n",
    "        the values of both items have to be arrays of shape n x 3,\n",
    "        where the 1st column contains the x values, the 2nd the y values and the 3rd the z values\n",
    "    \n",
    "    Returns\n",
    "    -------\n",
    "    dict --> 3 keys: aX, aYZPC1, gPC1\n",
    "        aX:     the x-axis accelerometer signal\n",
    "        aYZPC1: the projection of the y and z accelerometer signals onto the first PC \n",
    "        gPC1:   the projection of the three gyroscope signals onto its first PC\n",
    "    '''\n",
    "    \n",
    "    # aX, the x-axis accelerometer signal\n",
    "    aX = signals['Acc'][:,0] # x axis of acc. signal\n",
    "\n",
    "    # aYZPC1, the projection of the y and z accelerometer signals onto the first PC \n",
    "    # (this captures movement perpendicular to the arm, which allows deriving information \n",
    "    # from the y and z axes despite the unknown rotation of the armband)\n",
    "    pca_aYZPC1 = PCA(n_components=1)\n",
    "    aYZPC1 = pca_aYZPC1.fit_transform(signals['Acc'][:,1:]) # y and z axes of acc. signal\n",
    "    \n",
    "    # gPC1, the projection of the three gyroscope signals onto its first PC \n",
    "    # (this is the movement along the axis that demonstrates the most variance within this window)\n",
    "    pca_gPC1 = PCA(n_components=1)\n",
    "    gPC1 = pca_gPC1.fit_transform(signals['Gyr']) # all axes of gyr. signal\n",
    "    \n",
    "    out_dict = {}\n",
    "    out_dict['aX'] = aX\n",
    "    out_dict['aYZPC1'] = np.ravel(aYZPC1) #  ensure that array has one dimension with np.ravel\n",
    "    out_dict['gPC1'] = np.ravel(gPC1) #  ensure that array has one dimension with np.ravel\n",
    "    \n",
    "    return out_dict"
   ]
  },
  {
   "cell_type": "markdown",
   "metadata": {},
   "source": [
    "***Apply the function with the signals of the selected 5 s window from above***"
   ]
  },
  {
   "cell_type": "code",
   "execution_count": 8,
   "metadata": {
    "ExecuteTime": {
     "end_time": "2018-12-11T08:45:06.896329Z",
     "start_time": "2018-12-11T08:45:05.783266Z"
    }
   },
   "outputs": [
    {
     "data": {
      "image/png": "[encoded data removed]",
      "text/plain": [
       "<Figure size 720x576 with 3 Axes>"
      ]
     },
     "metadata": {},
     "output_type": "display_data"
    }
   ],
   "source": [
    "signals_dimred = signal_dim_reduc(signals_5s)\n",
    "\n",
    "fig, axes  = plt.subplots(3,1,figsize=(10,8))\n",
    "axes[0].set_title('Dimensional Reduced Signals', fontsize=15)\n",
    "axes[2].set_xlabel('time [s]', fontsize=13)\n",
    "for sig, ax in zip([*signals_dimred], axes):\n",
    "    ax.set_ylabel(sig, fontsize=13)\n",
    "    ax.plot(np.arange(0,len(signals_dimred[sig]))/256, signals_dimred[sig])"
   ]
  },
  {
   "cell_type": "markdown",
   "metadata": {},
   "source": [
    "## Actual Feature Generation\n",
    "\n",
    "\n",
    "***In total 24 features have to be calculated:***\n",
    "\n",
    "\n",
    "*Among possible energy-related features, the following have been evaluated:*\n",
    "\n",
    ">•\tamplitude frequency distribution within five classes;\n",
    "\n",
    ">•\tRMS, mean, and standard deviation values;\n",
    "\n",
    ">•\tpower bands, i.e., the magnitude of power spectrum in ten linearly-spaced bands, in the range 0.1-25 Hz.\n",
    "\n",
    "<br>\n",
    "\n",
    "*Among possible periodicity-related features, the following have been evaluated:*\n",
    "\n",
    ">•\tautocorrelation maximum value;\n",
    "\n",
    ">•\tprominent peaks, i.e., the number of autocorrelation peaks (the local maxima) that are larger than their neighboring peaks by a threshold and are more than a threshold lag away from their neighboring peaks;\n",
    "\n",
    ">•\tweak peaks, i.e., the number of autocorrelation peaks that are not prominent;\n",
    "\n",
    ">•\tvalue of the first autocorrelation peak after a zero-crossing.\n",
    "\n",
    "<br>\n",
    "\n",
    "*Among possible shape-related features, the following have been evaluated:*\n",
    "\n",
    ">•\tasymmetry in the value distribution, evaluated by means of the fourth order moment (kurtosis);\n",
    "\n",
    ">•\tinterquartile range, i.e., a measure of statistical dispersion, equal to the difference between 75th and 25th percentiles.\n",
    "\n",
    "<br>\n",
    "\n",
    "***The following subsections present functions to generate the desired features of a signal.***"
   ]
  },
  {
   "cell_type": "markdown",
   "metadata": {},
   "source": [
    "### Amplitude frequency distribution within five classes"
   ]
  },
  {
   "cell_type": "code",
   "execution_count": 9,
   "metadata": {
    "ExecuteTime": {
     "end_time": "2018-12-11T08:45:06.930331Z",
     "start_time": "2018-12-11T08:45:06.899330Z"
    }
   },
   "outputs": [],
   "source": [
    "def amp_freq_dist_classes(signal, num_classes=5, min_val=None, max_val=None):\n",
    "    '''\n",
    "    Function to count the frequency of amplitude values of a signal\n",
    "    corresponding to a certain number of classes.\n",
    "    Class boundaries are linearly spaced from min_val to max_val.\n",
    "    \n",
    "    Parameters\n",
    "    ----------\n",
    "    signal : array (1-dim)\n",
    "        Signal which is used at counting frequency of amplitude values.\n",
    "        \n",
    "    num_class :  int\n",
    "         Number of classes for the frequency distribution.\n",
    "         \n",
    "    min_val : None or float\n",
    "        Lower limiting value of the the class for the lowest values.\n",
    "        --> if None: min of signal values is taken\n",
    "        \n",
    "    max_val : None or float\n",
    "        Upper limiting value of the the class for the highest values.\n",
    "        --> if None: max of signal values is taken\n",
    "        \n",
    "    Returns\n",
    "    -------\n",
    "    list \n",
    "        One element for each class, which represents the number of\n",
    "        values of the signal within the corresponding class.\n",
    "    '''\n",
    "    \n",
    "    # take the min/max of the signal if the corresponding parameter is None\n",
    "    if min_val is None:\n",
    "        min_val = min(signal)\n",
    "    if max_val is None:\n",
    "        max_val = max(signal)\n",
    "    \n",
    "    # define class boundaries (linearly spaced)\n",
    "    class_bound = np.linspace(min_val, max_val, num_classes+1) # num_class+1, because one bound. more than classes\n",
    "    \n",
    "    # list to count values in classes\n",
    "    class_count = []\n",
    "    \n",
    "    #  count values in classes\n",
    "    for ii in range(num_classes):\n",
    "        class_count.append(len([x for x in signal if x >= class_bound[ii] and x <= class_bound[ii+1]]))\n",
    "        \n",
    "    return class_count"
   ]
  },
  {
   "cell_type": "code",
   "execution_count": 10,
   "metadata": {
    "ExecuteTime": {
     "end_time": "2018-12-11T08:45:07.064339Z",
     "start_time": "2018-12-11T08:45:06.934332Z"
    }
   },
   "outputs": [
    {
     "name": "stdout",
     "output_type": "stream",
     "text": [
      "Amplitude frequency distribution within five classes:\n",
      "(classes linearly spaced from min (-0.344) to max (-0.121)\n",
      "Class 1:\t78\n",
      "Class 2:\t818\n",
      "Class 3:\t314\n",
      "Class 4:\t55\n",
      "Class 5:\t15\n"
     ]
    }
   ],
   "source": [
    "class_count = amp_freq_dist_classes(signals_dimred['aX'], num_classes=5, min_val=None, max_val=None)\n",
    "\n",
    "print('Amplitude frequency distribution within five classes:')\n",
    "print('(classes linearly spaced from min ({0:.3}) to max ({1:.3})'.format(min(signals_dimred['aX']),\n",
    "                                                                          max(signals_dimred['aX'])))\n",
    "for ii in range(5):\n",
    "    print('Class {0:}:\\t{1:}'.format(ii+1, class_count[ii]))"
   ]
  },
  {
   "cell_type": "markdown",
   "metadata": {},
   "source": [
    "### RMS, mean, and standard deviation values"
   ]
  },
  {
   "cell_type": "code",
   "execution_count": 11,
   "metadata": {
    "ExecuteTime": {
     "end_time": "2018-12-11T08:45:07.184346Z",
     "start_time": "2018-12-11T08:45:07.070339Z"
    }
   },
   "outputs": [],
   "source": [
    "rms = np.sqrt(np.mean(signals_dimred['aX']**2))\n",
    "mean = np.mean(signals_dimred['aX'])\n",
    "std = np.std(signals_dimred['aX'])"
   ]
  },
  {
   "cell_type": "code",
   "execution_count": 12,
   "metadata": {
    "ExecuteTime": {
     "end_time": "2018-12-11T08:45:07.318353Z",
     "start_time": "2018-12-11T08:45:07.189346Z"
    }
   },
   "outputs": [
    {
     "name": "stdout",
     "output_type": "stream",
     "text": [
      "RMS:\t0.263\n",
      "mean:\t-0.2615\n",
      "std:\t0.02808\n"
     ]
    }
   ],
   "source": [
    "print('RMS:\\t{:.4}'.format(rms))\n",
    "print('mean:\\t{:.4}'.format(mean))\n",
    "print('std:\\t{:.4}'.format(std))"
   ]
  },
  {
   "cell_type": "markdown",
   "metadata": {},
   "source": [
    "### Power bands"
   ]
  },
  {
   "cell_type": "code",
   "execution_count": 13,
   "metadata": {
    "ExecuteTime": {
     "end_time": "2018-12-11T08:45:07.431360Z",
     "start_time": "2018-12-11T08:45:07.325354Z"
    }
   },
   "outputs": [],
   "source": [
    "def bandpower(signal, fs, fmin, fmax):\n",
    "    '''\n",
    "    This function calculates the bandpower of a selected frequency range.\n",
    "    \n",
    "    Parameters\n",
    "    ----------\n",
    "    signal : array (1-dim)\n",
    "        Signal for which the bandpower is calculated.\n",
    "        \n",
    "    fs : float or int\n",
    "        Sampling rate of the input signal [Hz].\n",
    "        \n",
    "    fmin : float or int\n",
    "        Lower limiting frequency of the power band [Hz].\n",
    "    \n",
    "    fmax : float or int\n",
    "        Upper limiting frequency of the power band [Hz].\n",
    "    \n",
    "    Returns\n",
    "    -------\n",
    "    float\n",
    "        Bandpower of the choosen frequency range.\n",
    "    '''\n",
    "    f, Pxx = scipy.signal.periodogram(signal, fs=fs) # Pxx has units of V**2/Hz if x is measured in V\n",
    "    ind_min = scipy.argmax(f > fmin) - 1 # get lower limiting frequency index\n",
    "    ind_max = scipy.argmax(f > fmax) - 1 # get upper limiting frequency index\n",
    "    return scipy.trapz(Pxx[ind_min: ind_max], f[ind_min: ind_max]) # integrate selected power densitiy spectrum & return"
   ]
  },
  {
   "cell_type": "code",
   "execution_count": 14,
   "metadata": {
    "ExecuteTime": {
     "end_time": "2018-12-11T08:45:07.538366Z",
     "start_time": "2018-12-11T08:45:07.436360Z"
    }
   },
   "outputs": [],
   "source": [
    "def power_band_sequence(signal, num_power_bands=10, start_freq=0.1, stop_freq=25):\n",
    "    '''\n",
    "    This function calculates a number of powerbands, linearly spaced from start freq. to stop freq.\n",
    "    The function 'bandpower' is used.\n",
    "    \n",
    "    Parameters\n",
    "    ----------\n",
    "    signal : array (1-dim)\n",
    "        Signal for which the power bands are calculated.\n",
    "        \n",
    "    num_power_bands : int\n",
    "        Number of power bands to be calculated.\n",
    "        \n",
    "    start_freq : float or int\n",
    "        Lower limiting frequency of the lowest power band [Hz].\n",
    "    \n",
    "    stop_freq : float or int\n",
    "        Upper limiting frequency of the highest power band [Hz].\n",
    "    \n",
    "    Returns\n",
    "    -------\n",
    "    list\n",
    "        Bandpower values of the different frequency ranges.\n",
    "    '''\n",
    "    \n",
    "    # split the range from start freq. to stop freq. into linearly spaced bands\n",
    "    freq_range = np.linspace(start_freq, stop_freq, num_power_bands + 1) # e.g. 10 bands spaced linearly from 0.1-25 Hz\n",
    "    \n",
    "    # list for bandpower values\n",
    "    power_bands = []\n",
    "    \n",
    "    # calculation for each power band\n",
    "    for ii in range(num_power_bands):\n",
    "         power_bands.append(bandpower(signal,\n",
    "                                      fs = sampling_rate, \n",
    "                                      fmin = freq_range[ii],\n",
    "                                      fmax = freq_range[ii+1]))\n",
    "    return power_bands"
   ]
  },
  {
   "cell_type": "code",
   "execution_count": 15,
   "metadata": {
    "ExecuteTime": {
     "end_time": "2018-12-11T08:45:08.017393Z",
     "start_time": "2018-12-11T08:45:07.543366Z"
    }
   },
   "outputs": [
    {
     "data": {
      "image/png": "[encoded data removed]",
      "text/plain": [
       "<Figure size 720x288 with 1 Axes>"
      ]
     },
     "metadata": {},
     "output_type": "display_data"
    }
   ],
   "source": [
    "power_bands = power_band_sequence(signals_dimred['aX'], num_power_bands=10, start_freq=0.1, stop_freq=25)\n",
    "\n",
    "# 10 bands spaced linearly from 0.1-25 Hz\n",
    "freq_range = np.linspace(0.1, 25, 10+1)\n",
    "\n",
    "# get the values in the middle of the different frequency ranges for plotting bars\n",
    "freq_plot = np.array([(freq_range[ii]+freq_range[ii+1])/2 for ii in range(10)])\n",
    "\n",
    "# frequency steps\n",
    "freq_delta = freq_plot[1]-freq_plot[0]\n",
    "\n",
    "# plot the bandpower values\n",
    "fig_pb, ax_pb = plt.subplots(figsize=(10,4))\n",
    "fig_pb.suptitle('Power Bands', fontsize=15)\n",
    "ax_pb.bar(freq_plot, power_bands, align='center', width=freq_delta)\n",
    "ax_pb.set_xticks(freq_range);\n",
    "ax_pb.set_ylabel('aX', fontsize=13)  \n",
    "ax_pb.set_xlabel('frequency ranges [Hz]', fontsize=13)\n",
    "plt.show();"
   ]
  },
  {
   "cell_type": "markdown",
   "metadata": {},
   "source": [
    "### Autocorrelation (max. value, num. of prominent & weak peaks, value of first peak after zero-crossing)"
   ]
  },
  {
   "cell_type": "code",
   "execution_count": 16,
   "metadata": {
    "ExecuteTime": {
     "end_time": "2018-12-11T08:45:08.147401Z",
     "start_time": "2018-12-11T08:45:08.022394Z"
    }
   },
   "outputs": [],
   "source": [
    "def autocorrelation_features(signal, thres_prominent=0.5, min_time_shift_prominent=0.1, \n",
    "                             thres_weak=0.1, min_time_shift_weak=0.1, sampling_rate=256, show_plot=False):\n",
    "    '''\n",
    "    This function calculates a number of powerbands, linearly spaced from start freq. to stop freq.\n",
    "    The function 'bandpower' is used.\n",
    "    \n",
    "    Parameters\n",
    "    ----------\n",
    "    signal : array (1-dim)\n",
    "        Signal for which the autocorrelation is performed.\n",
    "        \n",
    "    thres_prominent : float\n",
    "        Threshold for prominent peak finding, but with respect to the normalized autocorrelation\n",
    "        where the max value is 1. Hence, thres_prominent has to be bewteen 0 and 1.\n",
    "        \n",
    "    min_time_shift_prominent : float or int\n",
    "        Minimum lag between two prominent peaks [s].\n",
    "        Indices calculated by means of sampling rate.\n",
    "    \n",
    "    thres_weak : float\n",
    "        Threshold for weak peak finding, but with respect to the normalized autocorrelation\n",
    "        where the max value is 1. Hence, thres_weak has to be bewteen 0 and 1.\n",
    "        \n",
    "    min_time_shift_weak : float or int\n",
    "        Minimum lag between two weak peaks [s].\n",
    "        Indices calculated by means of sampling rate.\n",
    "    \n",
    "    sampling_rate : float or int\n",
    "        Sampling rate of the input signal [Hz].\n",
    "        \n",
    "    show_plot : boolean\n",
    "        If True, plot normalized autocorreation and peaks.\n",
    "    \n",
    "    Returns\n",
    "    -------\n",
    "    list\n",
    "        4 elements:\n",
    "        list[0]:   max value of the autocorrelation\n",
    "        list[1]:   number of prominent peaks\n",
    "        list[2]:   number of weak peaks\n",
    "        list[3]:   value of first peak after zero-crossing\n",
    "    '''\n",
    "    \n",
    "    # perform the autocorrelation\n",
    "    autocorr = np.correlate(signal, signal, mode='full')\n",
    "    \n",
    "    # take only the right half of the spectrum (due to symmetry)\n",
    "    autocorr = autocorr[int(len(autocorr)/2):]\n",
    "    \n",
    "    # get the max value of the autocorrelation\n",
    "    autocorr_max = max(autocorr)\n",
    "    \n",
    "    # normalize the autocorr. to get a max value of 1\n",
    "    autocorr_norm = autocorr / max(autocorr)\n",
    "    \n",
    "    # convert the minimal time shifts for the peak detection to indices\n",
    "    min_dist_prominent = min_time_shift_prominent * sampling_rate\n",
    "    min_dist_weak = min_time_shift_weak * sampling_rate\n",
    "    \n",
    "    # get indices of prominent peaks (the highest value at fully overlapping is not considered as peak)\n",
    "    idx_prominent = peakutils.indexes(autocorr_norm, thres=thres_prominent, min_dist=min_dist_prominent, thres_abs=True)\n",
    "    num_idx_prominent = len(idx_prominent)\n",
    "      \n",
    "    # take only the weak peaks which belong to a smaller value than thres_prominent\n",
    "    idx_weak = peakutils.indexes(autocorr_norm, thres=thres_weak, min_dist=min_dist_weak, thres_abs=True)\n",
    "    idx_weak = [x for x in idx_weak if autocorr_norm[x] < thres_prominent]\n",
    "    num_idx_weak = len(idx_weak)\n",
    "    \n",
    "    # value of first peak after zero-crossing\n",
    "    val_1st_peak = 0\n",
    "    for idx in np.sort(np.concatenate((idx_prominent, idx_weak))):\n",
    "        if np.any(autocorr[:int(idx)] < 0):\n",
    "            val_1st_peak = autocorr[int(idx)]\n",
    "            break\n",
    "    \n",
    "    # plot autocorreation and peaks if desired\n",
    "    if show_plot:\n",
    "        plt.figure(figsize=(10,5))\n",
    "        plt.plot(autocorr_norm)\n",
    "        plt.plot(idx_prominent, autocorr_norm[idx_prominent],'r+', label='prominent', markersize=10)\n",
    "        plt.plot(idx_weak, autocorr_norm[idx_weak],'g+', label='weak', markersize=10)\n",
    "        plt.legend()\n",
    "        plt.title('Normalized Autocorrelation', fontsize=15)\n",
    "        plt.xlabel('index shift', fontsize=13)\n",
    "        plt.grid(True)\n",
    "        plt.show();\n",
    "    \n",
    "    return [autocorr_max, num_idx_prominent, num_idx_weak, val_1st_peak]\n",
    "    "
   ]
  },
  {
   "cell_type": "code",
   "execution_count": 17,
   "metadata": {
    "ExecuteTime": {
     "end_time": "2018-12-11T08:45:08.538423Z",
     "start_time": "2018-12-11T08:45:08.150401Z"
    }
   },
   "outputs": [
    {
     "data": {
      "image/png": "[encoded data removed]",
      "text/plain": [
       "<Figure size 720x360 with 1 Axes>"
      ]
     },
     "metadata": {},
     "output_type": "display_data"
    },
    {
     "name": "stdout",
     "output_type": "stream",
     "text": [
      "Max value of autocorrelation: 1044854.2617763807\n",
      "Number of prominent peaks: 1\n",
      "Number of weak peaks: 4\n",
      "Value of first peak after zero-crossing: 135531.5848676862\n"
     ]
    }
   ],
   "source": [
    "autcorr_feat = autocorrelation_features(signals_dimred['gPC1'], thres_prominent=0.2, min_time_shift_prominent=0.1, \n",
    "                             thres_weak=0.05, min_time_shift_weak=0.1, sampling_rate=256, show_plot=True)\n",
    "\n",
    "print('Max value of autocorrelation: {}'.format(autcorr_feat[0]))\n",
    "print('Number of prominent peaks: {}'.format(autcorr_feat[1]))\n",
    "print('Number of weak peaks: {}'.format(autcorr_feat[2]))\n",
    "print('Value of first peak after zero-crossing: {}'.format(autcorr_feat[3]))"
   ]
  },
  {
   "cell_type": "markdown",
   "metadata": {},
   "source": [
    "### Asymmetry in the value distribution\n",
    "\n",
    "evaluated by means of the fourth order moment (kurtosis)"
   ]
  },
  {
   "cell_type": "code",
   "execution_count": 18,
   "metadata": {
    "ExecuteTime": {
     "end_time": "2018-12-11T08:45:08.557424Z",
     "start_time": "2018-12-11T08:45:08.545424Z"
    },
    "scrolled": true
   },
   "outputs": [
    {
     "data": {
      "text/plain": [
       "3.739193901073537"
      ]
     },
     "execution_count": 18,
     "metadata": {},
     "output_type": "execute_result"
    }
   ],
   "source": [
    "scipy.stats.kurtosis(signals_dimred['gPC1'])"
   ]
  },
  {
   "cell_type": "markdown",
   "metadata": {},
   "source": [
    "### Interquartile range"
   ]
  },
  {
   "cell_type": "code",
   "execution_count": 19,
   "metadata": {
    "ExecuteTime": {
     "end_time": "2018-12-11T08:45:08.684432Z",
     "start_time": "2018-12-11T08:45:08.564425Z"
    },
    "scrolled": true
   },
   "outputs": [
    {
     "data": {
      "text/plain": [
       "11.848992727953874"
      ]
     },
     "execution_count": 19,
     "metadata": {},
     "output_type": "execute_result"
    }
   ],
   "source": [
    "scipy.stats.iqr(signals_dimred['gPC1'])"
   ]
  },
  {
   "cell_type": "markdown",
   "metadata": {},
   "source": [
    "## Function to generate all 24 features for each of the 3 signals (aX, aYZPC1, gPC1)"
   ]
  },
  {
   "cell_type": "code",
   "execution_count": 20,
   "metadata": {
    "ExecuteTime": {
     "end_time": "2018-12-11T08:45:08.816439Z",
     "start_time": "2018-12-11T08:45:08.690432Z"
    }
   },
   "outputs": [],
   "source": [
    "def generate_features_Crema(signals,\n",
    "                            ampFreqDist_num_classes=5,\n",
    "                            ampFreqDist_min_val=None,\n",
    "                            ampFreqDist_max_val=None,\n",
    "                            powerbands_num=10,\n",
    "                            powerbands_start_freq=0.1,\n",
    "                            powerbands_stop_freq=25,\n",
    "                            autocorrelation_thres_prominent=0.2,\n",
    "                            autocorrelation_min_time_shift_prominent=0.1,\n",
    "                            autocorrelation_thres_weak=0.05,\n",
    "                            autocorrelation_min_time_shift_weak=0.1,\n",
    "                            sampling_rate=256):\n",
    "    '''\n",
    "    This function generates all 24 features according to Crema for an incoming signal.\n",
    "    (see \"Characterization of a Wearable System for Automatic Supervision of Fitness Exercises\")\n",
    "    \n",
    "    Parameters\n",
    "    ----------\n",
    "    signals : dict\n",
    "        Dictionary with signals (1-dim) for which the features are generated.\n",
    "        \n",
    "    ampFreqDist_num_class : int\n",
    "        --> Feature: amplitude frequency distribution\n",
    "        Number of classes for the frequency distribution.\n",
    "         \n",
    "    ampFreqDist_min_val : None or float\n",
    "        --> Feature: amplitude frequency distribution\n",
    "        Lower limiting value of the the class for the lowest values.\n",
    "        --> if None: min of signal values is taken\n",
    "        \n",
    "    ampFreqDist_max_val : None or float\n",
    "        --> Feature: amplitude frequency distribution\n",
    "        Upper limiting value of the the class for the highest values.\n",
    "        --> if None: max of signal values is taken\n",
    "    \n",
    "    powerbands_num : int\n",
    "        --> Feature: powerbands\n",
    "        Number of power bands to be calculated.\n",
    "        \n",
    "    powerbands_start_freq : float or int\n",
    "        --> Feature: powerbands\n",
    "        Lower limiting frequency of the lowest power band [Hz].\n",
    "    \n",
    "    powerbands_stop_freq : float or int\n",
    "        --> Feature: powerbands\n",
    "        Upper limiting frequency of the highest power band [Hz].\n",
    "        \n",
    "    autocorrelation_thres_prominent : float\n",
    "        --> Feature: autocorrelation\n",
    "        Threshold for prominent peak finding, but with respect to the normalized autocorrelation\n",
    "        where the max value is 1. Hence, thres_prominent has to be bewteen 0 and 1.\n",
    "        \n",
    "    autocorrelation_min_time_shift_prominent : float or int\n",
    "        --> Feature: autocorrelation\n",
    "        Minimum lag between two prominent peaks [s].\n",
    "        Indices calculated by means of sampling rate.\n",
    "    \n",
    "    autocorrelation_thres_weak : float\n",
    "        --> Feature: autocorrelation\n",
    "        Threshold for weak peak finding, but with respect to the normalized autocorrelation\n",
    "        where the max value is 1. Hence, thres_weak has to be bewteen 0 and 1.\n",
    "        \n",
    "    autocorrelation_min_time_shift_weak : float or int\n",
    "        --> Feature: autocorrelation\n",
    "        Minimum lag between two weak peaks [s].\n",
    "        Indices calculated by means of sampling rate.\n",
    "    \n",
    "    sampling_rate : float or int\n",
    "        Sampling rate of the input signal [Hz].\n",
    "    \n",
    "    Returns\n",
    "    -------\n",
    "    dict\n",
    "        Dictionary with features for each signal.\n",
    "        Dict keys consist of signal keys of incoming dict, feature names and feature number.\n",
    "        (e.g. aX_maxValAutocorr_19)\n",
    "    '''\n",
    "    feature_dict = {}\n",
    "    \n",
    "    for sig in [*signals]:\n",
    "        feature_dict[sig+'_ampFreqDist_01_05'] = amp_freq_dist_classes(signals[sig],\n",
    "                                                                   num_classes=ampFreqDist_num_classes,\n",
    "                                                                   min_val=ampFreqDist_min_val,\n",
    "                                                                   max_val=ampFreqDist_max_val)\n",
    "        \n",
    "        feature_dict[sig+'_rms_06'] = np.sqrt(np.mean(signals[sig]**2))\n",
    "        \n",
    "        feature_dict[sig+'_mean_07'] = np.mean(signals[sig])\n",
    "        \n",
    "        feature_dict[sig+'_std_08'] = np.std(signals[sig])\n",
    "        \n",
    "        feature_dict[sig+'_powerbands_09_18'] = power_band_sequence(signals[sig], \n",
    "                                                                    num_power_bands=powerbands_num, \n",
    "                                                                    start_freq=powerbands_start_freq, \n",
    "                                                                    stop_freq=powerbands_stop_freq)\n",
    "        \n",
    "        autcorr_feat = autocorrelation_features(signals[sig], \n",
    "                                                thres_prominent=autocorrelation_thres_prominent, \n",
    "                                                min_time_shift_prominent=autocorrelation_min_time_shift_prominent, \n",
    "                                                thres_weak=autocorrelation_thres_weak, \n",
    "                                                min_time_shift_weak=autocorrelation_min_time_shift_weak, \n",
    "                                                sampling_rate=sampling_rate)\n",
    "        \n",
    "        feature_dict[sig+'_maxValAutocorr_19'] = autcorr_feat[0]\n",
    "        \n",
    "        feature_dict[sig+'_numPromPeaks_20'] = autcorr_feat[1]\n",
    "        \n",
    "        feature_dict[sig+'_numWeakPeaks_21'] = autcorr_feat[2]\n",
    "        \n",
    "        feature_dict[sig+'_valFirstPeak_22'] = autcorr_feat[3]\n",
    "        \n",
    "        feature_dict[sig+'_kurtosis_23'] = scipy.stats.kurtosis(signals[sig])\n",
    "        \n",
    "        feature_dict[sig+'_intQuatRange_24'] = scipy.stats.iqr(signals[sig])\n",
    "        \n",
    "    return feature_dict   "
   ]
  },
  {
   "cell_type": "code",
   "execution_count": 21,
   "metadata": {
    "ExecuteTime": {
     "end_time": "2018-12-11T08:45:09.016451Z",
     "start_time": "2018-12-11T08:45:08.819439Z"
    }
   },
   "outputs": [
    {
     "name": "stdout",
     "output_type": "stream",
     "text": [
      "aX_ampFreqDist_01_05 : [78, 818, 314, 55, 15]\n",
      "aX_rms_06 : 0.26302634954758547\n",
      "aX_mean_07 : -0.2615233710437336\n",
      "aX_std_08 : 0.028078229186511486\n",
      "aX_powerbands_09_18 : [0.0003889500904519298, 0.00014798140307679004, 7.832328630789813e-05, 5.0794810627825934e-05, 2.5882641824726115e-05, 3.875193419873993e-05, 9.168967059259666e-06, 5.6144194539543894e-06, 1.5977407339490858e-06, 3.387594516515204e-07]\n",
      "aX_maxValAutocorr_19 : 88.55406151210062\n",
      "aX_numPromPeaks_20 : 0\n",
      "aX_numWeakPeaks_21 : 0\n",
      "aX_valFirstPeak_22 : 0\n",
      "aX_kurtosis_23 : 4.356136856551694\n",
      "aX_intQuatRange_24 : 0.024333490965448568\n",
      "aYZPC1_ampFreqDist_01_05 : [45, 838, 296, 74, 27]\n",
      "aYZPC1_rms_06 : 0.11323875748769083\n",
      "aYZPC1_mean_07 : -3.712308238590367e-17\n",
      "aYZPC1_std_08 : 0.11323875748769081\n",
      "aYZPC1_powerbands_09_18 : [0.007301266610819566, 0.0023183631833734613, 0.001085087350165827, 0.00043266213255794053, 0.00028083951444835166, 0.00019600434439819548, 6.130612295548782e-05, 8.165554989105331e-05, 1.3293337864499537e-05, 5.292147615227952e-06]\n",
      "aYZPC1_maxValAutocorr_19 : 16.41346073261575\n",
      "aYZPC1_numPromPeaks_20 : 1\n",
      "aYZPC1_numWeakPeaks_21 : 1\n",
      "aYZPC1_valFirstPeak_22 : 1.0319307235705135\n",
      "aYZPC1_kurtosis_23 : 3.7238870549826357\n",
      "aYZPC1_intQuatRange_24 : 0.09435534589276091\n",
      "gPC1_ampFreqDist_01_05 : [57, 238, 859, 83, 43]\n",
      "gPC1_rms_06 : 28.570831139692054\n",
      "gPC1_mean_07 : 0.0\n",
      "gPC1_std_08 : 28.570831139692054\n",
      "gPC1_powerbands_09_18 : [404.16786477061464, 243.8671461531565, 48.24305528920487, 8.727122693829463, 3.8798895645872222, 1.604773635444965, 0.86402579374043, 0.6347667961322618, 0.10234222773940609, 0.019535390755562137]\n",
      "gPC1_maxValAutocorr_19 : 1044854.2617763807\n",
      "gPC1_numPromPeaks_20 : 1\n",
      "gPC1_numWeakPeaks_21 : 4\n",
      "gPC1_valFirstPeak_22 : 135531.5848676862\n",
      "gPC1_kurtosis_23 : 3.739193901073537\n",
      "gPC1_intQuatRange_24 : 11.848992727953874\n"
     ]
    }
   ],
   "source": [
    "feature_dict = generate_features_Crema(signals_dimred)\n",
    "\n",
    "for feature in [*feature_dict]:\n",
    "    print(feature + ' : {}'.format(feature_dict[feature]))"
   ]
  },
  {
   "cell_type": "code",
   "execution_count": null,
   "metadata": {},
   "outputs": [],
   "source": []
  }
 ],
 "metadata": {
  "kernelspec": {
   "display_name": "Python 3",
   "language": "python",
   "name": "python3"
  },
  "language_info": {
   "codemirror_mode": {
    "name": "ipython",
    "version": 3
   },
   "file_extension": ".py",
   "mimetype": "text/x-python",
   "name": "python",
   "nbconvert_exporter": "python",
   "pygments_lexer": "ipython3",
   "version": "3.6.2"
  },
  "toc": {
   "base_numbering": 1,
   "nav_menu": {},
   "number_sections": true,
   "sideBar": true,
   "skip_h1_title": false,
   "title_cell": "Table of Contents",
   "title_sidebar": "Contents",
   "toc_cell": false,
   "toc_position": {
    "height": "calc(100% - 180px)",
    "left": "10px",
    "top": "150px",
    "width": "307px"
   },
   "toc_section_display": true,
   "toc_window_display": true
  },
  "varInspector": {
   "cols": {
    "lenName": 16,
    "lenType": 16,
    "lenVar": 40
   },
   "kernels_config": {
    "python": {
     "delete_cmd_postfix": "",
     "delete_cmd_prefix": "del ",
     "library": "var_list.py",
     "varRefreshCmd": "print(var_dic_list())"
    },
    "r": {
     "delete_cmd_postfix": ") ",
     "delete_cmd_prefix": "rm(",
     "library": "var_list.r",
     "varRefreshCmd": "cat(var_dic_list()) "
    }
   },
   "types_to_exclude": [
    "module",
    "function",
    "builtin_function_or_method",
    "instance",
    "_Feature"
   ],
   "window_display": false
  }
 },
 "nbformat": 4,
 "nbformat_minor": 2
}
