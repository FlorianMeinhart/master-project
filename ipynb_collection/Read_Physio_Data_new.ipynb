{
 "cells": [
  {
   "cell_type": "markdown",
   "metadata": {},
   "source": [
    "# Read Physio Data\n",
    "\n",
    "It would be convenient to have a function which allows to simply read the data of a certain time range of the measurements with an IMU."
   ]
  },
  {
   "cell_type": "code",
   "execution_count": 1,
   "metadata": {
    "ExecuteTime": {
     "end_time": "2018-11-15T11:34:02.381285Z",
     "start_time": "2018-11-15T11:33:58.503063Z"
    }
   },
   "outputs": [],
   "source": [
    "import os\n",
    "import numpy as np\n",
    "import pandas as pd"
   ]
  },
  {
   "cell_type": "code",
   "execution_count": null,
   "metadata": {
    "ExecuteTime": {
     "end_time": "2018-11-13T20:42:21.136495Z",
     "start_time": "2018-11-13T20:42:21.126495Z"
    }
   },
   "outputs": [],
   "source": [
    "os.getcwd()"
   ]
  },
  {
   "cell_type": "code",
   "execution_count": null,
   "metadata": {
    "ExecuteTime": {
     "end_time": "2018-11-13T20:42:56.487517Z",
     "start_time": "2018-11-13T20:42:56.482517Z"
    }
   },
   "outputs": [],
   "source": [
    "in_file = 'Subject_01/subject01.csv'"
   ]
  },
  {
   "cell_type": "code",
   "execution_count": null,
   "metadata": {
    "ExecuteTime": {
     "end_time": "2018-11-13T20:43:00.464745Z",
     "start_time": "2018-11-13T20:42:59.023662Z"
    }
   },
   "outputs": [],
   "source": [
    "data = pd.read_csv(in_file, skiprows=0, sep=',')"
   ]
  },
  {
   "cell_type": "code",
   "execution_count": null,
   "metadata": {
    "ExecuteTime": {
     "end_time": "2018-11-13T20:43:41.331082Z",
     "start_time": "2018-11-13T20:43:41.304081Z"
    }
   },
   "outputs": [],
   "source": [
    "data.head()"
   ]
  },
  {
   "cell_type": "code",
   "execution_count": null,
   "metadata": {
    "ExecuteTime": {
     "end_time": "2018-11-13T21:33:22.375588Z",
     "start_time": "2018-11-13T21:33:22.315585Z"
    }
   },
   "outputs": [],
   "source": [
    "num_steps = np.shape(data.values)[0]\n",
    "\n",
    "sampling_rate = 256 # [Hz]\n",
    "\n",
    "duration = num_steps/sampling_rate # [s]\n",
    "duration/60"
   ]
  },
  {
   "cell_type": "code",
   "execution_count": 4,
   "metadata": {
    "ExecuteTime": {
     "end_time": "2018-11-14T15:40:24.336659Z",
     "start_time": "2018-11-14T15:40:24.326658Z"
    }
   },
   "outputs": [],
   "source": [
    "# 02:22.1 02:37.1\n",
    "start_min = 2\n",
    "start_sec = 22.1\n",
    "\n",
    "stop_min = 2\n",
    "stop_sec = 37.1"
   ]
  },
  {
   "cell_type": "code",
   "execution_count": null,
   "metadata": {
    "ExecuteTime": {
     "end_time": "2018-11-13T22:09:14.131662Z",
     "start_time": "2018-11-13T22:09:14.065658Z"
    }
   },
   "outputs": [],
   "source": [
    "signals = ['Acc', 'Gyr', 'Mag']\n",
    "start_time = start_min*60 + start_sec # [s]\n",
    "stop_time = stop_min*60 + stop_sec # [s]\n",
    "\n",
    "start_index = round(start_time * sampling_rate)\n",
    "stop_index = round(stop_time * sampling_rate)\n",
    "\n",
    "if start_index >= stop_index:\n",
    "    start_index='NaN'\n",
    "\n",
    "try:\n",
    "    data_dict = {}\n",
    "    for signal in signals:\n",
    "        data_dict[signal] = data.filter(regex=signal+'*').values[start_index:stop_index]\n",
    "except:\n",
    "    raise Exception('Error at selecting data from given time range.')"
   ]
  },
  {
   "cell_type": "code",
   "execution_count": null,
   "metadata": {
    "ExecuteTime": {
     "end_time": "2018-11-13T22:09:53.680924Z",
     "start_time": "2018-11-13T22:09:53.667923Z"
    }
   },
   "outputs": [],
   "source": [
    "stop_index"
   ]
  },
  {
   "cell_type": "code",
   "execution_count": null,
   "metadata": {
    "ExecuteTime": {
     "end_time": "2018-11-13T22:09:32.386706Z",
     "start_time": "2018-11-13T22:09:32.369705Z"
    }
   },
   "outputs": [],
   "source": [
    "data_dict['Acc']"
   ]
  },
  {
   "cell_type": "code",
   "execution_count": null,
   "metadata": {},
   "outputs": [],
   "source": []
  },
  {
   "cell_type": "code",
   "execution_count": 2,
   "metadata": {
    "ExecuteTime": {
     "end_time": "2018-11-15T11:34:58.845514Z",
     "start_time": "2018-11-15T11:34:58.774510Z"
    }
   },
   "outputs": [],
   "source": [
    "def get_sensor_data(in_file, signals=['Acc','Gyr','Mag'], sampling_rate=256, start_time=None, stop_time=None, skip_rows=0, sep=','):\n",
    "    '''\n",
    "    Function to read sensor data from a file, in order to return data from selected sensors and time range.\n",
    "    \n",
    "    Inputs\n",
    "    ------\n",
    "    in_file: directory and file name of data (e.g. 'Subject_01/subject01.csv')\n",
    "    \n",
    "    signals: list of sensor signal abbreviations (have to be equal to the first letters of the data column names!)\n",
    "    \n",
    "    sampling_rate: sampling rate of the measured signals in Hz\n",
    "    \n",
    "    start_time: start time for selecting data in sec (if None --> start from beginning)\n",
    "    \n",
    "    stop_time: stop time for selecting data in sec (if None --> until end of data)\n",
    "    \n",
    "    skip_rows: number of rows to skip for pandas read_csv() function\n",
    "    \n",
    "    sep: seperator for pandas read_csv() function\n",
    "    \n",
    "    \n",
    "    Returns\n",
    "    -------\n",
    "    Dictionary with selected data and time array [s]\n",
    "    '''\n",
    "    \n",
    "    data = pd.read_csv(in_file, skiprows=skip_rows, sep=sep)\n",
    "    \n",
    "    num_steps = np.shape(data.values)[0] # total number of data points\n",
    "    \n",
    "    if start_time is None:\n",
    "        start_index = 0\n",
    "    else:\n",
    "        start_index = round(start_time * sampling_rate)\n",
    "        \n",
    "    if stop_time is None:\n",
    "        stop_index = num_steps\n",
    "    else:\n",
    "        stop_index = round(stop_time * sampling_rate)\n",
    "        \n",
    "    if start_index < 0 or stop_index > num_steps or start_index >= stop_index:\n",
    "        print('Error at selecting data from given time range.')\n",
    "        return 0\n",
    "        \n",
    "    data_dict = {}\n",
    "    for signal in signals:\n",
    "        data_dict[signal] = data.filter(regex=signal+'*').values[start_index:stop_index]\n",
    "        \n",
    "    data_dict['time'] = np.arange(num_steps)[start_index:stop_index] / sampling_rate\n",
    "    \n",
    "    return data_dict"
   ]
  },
  {
   "cell_type": "code",
   "execution_count": null,
   "metadata": {},
   "outputs": [],
   "source": []
  },
  {
   "cell_type": "code",
   "execution_count": null,
   "metadata": {},
   "outputs": [],
   "source": []
  },
  {
   "cell_type": "code",
   "execution_count": 6,
   "metadata": {
    "ExecuteTime": {
     "end_time": "2018-11-14T15:40:53.509327Z",
     "start_time": "2018-11-14T15:40:53.500327Z"
    }
   },
   "outputs": [],
   "source": [
    "# 02:22.1 02:37.1\n",
    "start_min = 2\n",
    "start_sec = 22.1\n",
    "\n",
    "stop_min = 2\n",
    "stop_sec = 37.1\n",
    "\n",
    "start_time = start_min*60 + start_sec # [s]\n",
    "stop_time = stop_min*60 + stop_sec # [s]"
   ]
  },
  {
   "cell_type": "code",
   "execution_count": 7,
   "metadata": {
    "ExecuteTime": {
     "end_time": "2018-11-14T15:41:12.094390Z",
     "start_time": "2018-11-14T15:41:10.578304Z"
    }
   },
   "outputs": [],
   "source": [
    "import functionsMasterProjectMeinhart as fmpm\n",
    "sensor_data = fmpm.get_sensor_data(in_file='Subject_01/subject01.csv', start_time=start_time, stop_time=stop_time)"
   ]
  },
  {
   "cell_type": "code",
   "execution_count": 8,
   "metadata": {
    "ExecuteTime": {
     "end_time": "2018-11-14T15:41:13.920495Z",
     "start_time": "2018-11-14T15:41:13.912494Z"
    }
   },
   "outputs": [
    {
     "data": {
      "text/plain": [
       "(3840,)"
      ]
     },
     "execution_count": 8,
     "metadata": {},
     "output_type": "execute_result"
    }
   ],
   "source": [
    "np.shape(sensor_data['time'])"
   ]
  },
  {
   "cell_type": "code",
   "execution_count": 9,
   "metadata": {
    "ExecuteTime": {
     "end_time": "2018-11-14T15:41:21.988956Z",
     "start_time": "2018-11-14T15:41:21.976956Z"
    }
   },
   "outputs": [
    {
     "data": {
      "text/plain": [
       "array([142.1015625 , 142.10546875, 142.109375  , ..., 157.08984375,\n",
       "       157.09375   , 157.09765625])"
      ]
     },
     "execution_count": 9,
     "metadata": {},
     "output_type": "execute_result"
    }
   ],
   "source": [
    "sensor_data['time']"
   ]
  },
  {
   "cell_type": "code",
   "execution_count": 19,
   "metadata": {
    "ExecuteTime": {
     "end_time": "2018-11-14T15:52:59.598857Z",
     "start_time": "2018-11-14T15:52:59.579856Z"
    }
   },
   "outputs": [
    {
     "name": "stdout",
     "output_type": "stream",
     "text": [
      "Start time:  2 min 22.102 sec\n",
      "Stop time:   2 min 37.098 sec\n"
     ]
    }
   ],
   "source": [
    "startMin = int(sensor_data['time'][0] / 60)\n",
    "startSec = sensor_data['time'][0] - startMin*60\n",
    "\n",
    "stopMin = int(sensor_data['time'][-1] / 60)\n",
    "stopSec = sensor_data['time'][-1] - stopMin*60\n",
    "\n",
    "print('Start time: ', startMin, 'min', '%.3f'%(startSec), 'sec')\n",
    "\n",
    "print('Stop time:  ', stopMin, 'min', '%.3f'%(stopSec), 'sec')"
   ]
  },
  {
   "cell_type": "code",
   "execution_count": 20,
   "metadata": {
    "ExecuteTime": {
     "end_time": "2018-11-14T15:57:19.512724Z",
     "start_time": "2018-11-14T15:57:19.501723Z"
    }
   },
   "outputs": [
    {
     "data": {
      "text/plain": [
       "(3840, 3)"
      ]
     },
     "execution_count": 20,
     "metadata": {},
     "output_type": "execute_result"
    }
   ],
   "source": [
    "np.shape(sensor_data['Acc'])"
   ]
  }
 ],
 "metadata": {
  "kernelspec": {
   "display_name": "Python 3",
   "language": "python",
   "name": "python3"
  },
  "language_info": {
   "codemirror_mode": {
    "name": "ipython",
    "version": 3
   },
   "file_extension": ".py",
   "mimetype": "text/x-python",
   "name": "python",
   "nbconvert_exporter": "python",
   "pygments_lexer": "ipython3",
   "version": "3.6.2"
  },
  "toc": {
   "base_numbering": 1,
   "nav_menu": {},
   "number_sections": true,
   "sideBar": true,
   "skip_h1_title": false,
   "title_cell": "Table of Contents",
   "title_sidebar": "Contents",
   "toc_cell": false,
   "toc_position": {},
   "toc_section_display": true,
   "toc_window_display": false
  },
  "varInspector": {
   "cols": {
    "lenName": 16,
    "lenType": 16,
    "lenVar": 40
   },
   "kernels_config": {
    "python": {
     "delete_cmd_postfix": "",
     "delete_cmd_prefix": "del ",
     "library": "var_list.py",
     "varRefreshCmd": "print(var_dic_list())"
    },
    "r": {
     "delete_cmd_postfix": ") ",
     "delete_cmd_prefix": "rm(",
     "library": "var_list.r",
     "varRefreshCmd": "cat(var_dic_list()) "
    }
   },
   "types_to_exclude": [
    "module",
    "function",
    "builtin_function_or_method",
    "instance",
    "_Feature"
   ],
   "window_display": false
  }
 },
 "nbformat": 4,
 "nbformat_minor": 2
}
