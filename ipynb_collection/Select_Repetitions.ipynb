{
 "cells": [
  {
   "cell_type": "markdown",
   "metadata": {},
   "source": [
    "# Select Repetitions"
   ]
  },
  {
   "cell_type": "code",
   "execution_count": 1,
   "metadata": {
    "ExecuteTime": {
     "end_time": "2018-11-26T10:47:03.974067Z",
     "start_time": "2018-11-26T10:46:51.880375Z"
    }
   },
   "outputs": [],
   "source": [
    "import functionsMasterProjectMeinhart as fmpm\n",
    "from matplotlib.widgets import Button, CheckButtons\n",
    "import pandas as pd\n",
    "import re\n",
    "from scipy.signal import butter, lfilter\n",
    "from os import walk\n",
    "import shutil"
   ]
  },
  {
   "cell_type": "code",
   "execution_count": 2,
   "metadata": {
    "ExecuteTime": {
     "end_time": "2018-11-26T10:47:04.362089Z",
     "start_time": "2018-11-26T10:47:04.272084Z"
    }
   },
   "outputs": [
    {
     "name": "stdout",
     "output_type": "stream",
     "text": [
      "Using matplotlib backend: TkAgg\n"
     ]
    }
   ],
   "source": [
    "%matplotlib auto"
   ]
  },
  {
   "cell_type": "markdown",
   "metadata": {},
   "source": [
    "## Function to filter data"
   ]
  },
  {
   "cell_type": "code",
   "execution_count": 3,
   "metadata": {
    "ExecuteTime": {
     "end_time": "2018-11-26T10:47:05.180136Z",
     "start_time": "2018-11-26T10:47:05.150134Z"
    }
   },
   "outputs": [],
   "source": [
    "\n",
    "# filter requirements\n",
    "order = 6 # order of filter\n",
    "sampling_rate = 256 # [Hz]\n",
    "cutoff = 10 # cutoff frequency of the filter [Hz]\n",
    "\n",
    "def butter_lowpass(cutoff, fs, order=5):\n",
    "    nyq = 0.5 * fs\n",
    "    normal_cutoff = cutoff / nyq\n",
    "    b, a = butter(order, normal_cutoff, btype='low', analog=False)\n",
    "    return b, a\n",
    "\n",
    "def butter_lowpass_filter(data, cutoff, fs, order=5):\n",
    "    b, a = butter_lowpass(cutoff, fs, order=order)\n",
    "    y = lfilter(b, a, data, axis=0)\n",
    "    return y\n",
    "\n",
    "\n",
    "#data_filt_dict = {}\n",
    "#data_filt_dict['time'] = data_dict['time']           \n",
    "#for signal in ['Acc','Gyr','Mag']:\n",
    "#    data_filt_dict[signal] = butter_lowpass_filter(data_dict[signal], cutoff, sampling_rate, order)\n",
    "    \n"
   ]
  },
  {
   "cell_type": "markdown",
   "metadata": {},
   "source": [
    "## Load, Plot, select and save data"
   ]
  },
  {
   "cell_type": "code",
   "execution_count": 4,
   "metadata": {
    "ExecuteTime": {
     "end_time": "2018-11-26T10:47:08.604332Z",
     "start_time": "2018-11-26T10:47:05.376147Z"
    }
   },
   "outputs": [
    {
     "data": {
      "text/plain": [
       "0"
      ]
     },
     "execution_count": 4,
     "metadata": {},
     "output_type": "execute_result"
    }
   ],
   "source": [
    "# directory of data files\n",
    "file_dir = 'E:\\Physio_Data_Split_Exercise'\n",
    "\n",
    "# path of file to write selected times\n",
    "times_file_path = 'E:\\Physio_Data_Split_Exercise_done\\selected_times.csv'\n",
    "\n",
    "# destination directory to shift file if selected times are saved\n",
    "dir_destination = 'E:\\Physio_Data_Split_Exercise_done'\n",
    "\n",
    "subject_nums = ['01','02','03','04','05','06','07','08','09'] # subject 10: no timetable available\n",
    "exercise_abbrs  = ['RF','RO','RS','LR','BC','TC','MP','SA','P1','P2']\n",
    "repetitions = ['05','10','15']\n",
    "\n",
    "\n",
    "\n",
    "fig, axs = plt.subplots(2,1, sharex=True, figsize=(18,9))\n",
    "plt.subplots_adjust(bottom=0.2, left=0.2) # make space for buttons\n",
    "\n",
    "# class for marking area via button        \n",
    "class MarkPlot:\n",
    "\n",
    "    selected_times = []\n",
    "    file_name = 'no_file_selected'\n",
    "    \n",
    "    selected_exercises = ['RF'] # start exercise\n",
    "    selected_subjects = ['01'] # start subject\n",
    "    selected_repetitions = ['05'] # start number of repetition\n",
    "    \n",
    "    \n",
    "    def load_data(self):\n",
    "        # Load all file names of desired folder\n",
    "        files = []\n",
    "        for (dirpath, dirnames, filenames) in walk(file_dir):\n",
    "            files.extend(filenames)\n",
    "            break\n",
    "        \n",
    "        for ii in range(len(files)):\n",
    "            # split current file\n",
    "            current_sub = re.split('[t_.]',files[ii])[1]\n",
    "            current_ex  = re.split('[t_.]',files[ii])[2]\n",
    "            current_rep = re.split('[t_.]',files[ii])[3]\n",
    "            \n",
    "            # check if file is selected\n",
    "            if (current_sub in self.selected_subjects) and \\\n",
    "            (current_ex in self.selected_exercises) and (current_rep in self.selected_repetitions):\n",
    "                self.file_name = files[ii]\n",
    "                \n",
    "                file_path = os.path.join(file_dir, self.file_name)\n",
    "                \n",
    "                # get data as dictionary\n",
    "                global data_dict\n",
    "                data_dict = fmpm.get_sensor_data(in_file=file_path, signals=['Acc','Gyr','Mag'])\n",
    "                \n",
    "                # filter data\n",
    "                global data_filt_dict\n",
    "                data_filt_dict = {}\n",
    "                data_filt_dict['time'] = data_dict['time']\n",
    "                for signal in ['Acc','Gyr','Mag']:\n",
    "                    data_filt_dict[signal] = butter_lowpass_filter(data_dict[signal], cutoff, sampling_rate, order)\n",
    "                \n",
    "                self.new_plot()\n",
    "                return\n",
    "        \n",
    "        self.file_name = 'no_file_selected'\n",
    "        self.new_plot()\n",
    "\n",
    "    \n",
    "    \n",
    "    def new_plot(self):\n",
    "        \n",
    "        if self.file_name == 'no_file_selected':\n",
    "            fig.suptitle('No file found.', fontsize=18)\n",
    "            axs[0].clear()\n",
    "            axs[1].clear()\n",
    "            plt.draw()\n",
    "            return\n",
    "            \n",
    "        \n",
    "        fig.suptitle(self.file_name + '\\n' + \\\n",
    "                     r'Start selection (button) $\\rightarrow$ ' + \\\n",
    "                     r'select points (left click) $\\rightarrow$ ' +\\\n",
    "                     r'finish selection (right click) $\\rightarrow$ ' +\\\n",
    "                     r'save (button)', fontsize=18)\n",
    "\n",
    "        plt.sca(axs[0])\n",
    "        axs[0].clear()\n",
    "        fmpm.plot_signal(data_filt_dict['Acc'],data_filt_dict['time'],\n",
    "                         Title='Acceleration Profile')\n",
    "        plt.gca().set_xlabel('')\n",
    "        plt.sca(axs[1])\n",
    "        axs[1].clear()\n",
    "        fmpm.plot_signal(data_filt_dict['Gyr'],data_filt_dict['time'],\n",
    "                         Title='Angular Velocity Profile',\n",
    "                         xLabel=r'$time \\enspace [s]$',\n",
    "                         yLabel=r'$vel \\enspace [\\frac{deg}{s}]$')\n",
    "        \n",
    "        plt.draw()\n",
    "\n",
    "        \n",
    "    def unmark(self, event):\n",
    "        self.selected_times = []\n",
    "        self.new_plot()\n",
    "\n",
    "        \n",
    "    def select_points(self, event):\n",
    "        \n",
    "        if self.file_name == 'no_file_selected':\n",
    "            fig.suptitle(r'Selecting not possibel $\\rightarrow$ no file found.', fontsize=18)\n",
    "            axs[0].clear()\n",
    "            axs[1].clear()\n",
    "            plt.draw()\n",
    "            return\n",
    "        \n",
    "        fig.suptitle(self.file_name + '\\n' + \\\n",
    "                     r'Start selection (button) $\\rightarrow$ ' + \\\n",
    "                     r'select points (left click) $\\rightarrow$ ' +\\\n",
    "                     r'finish selection (right click) $\\rightarrow$ ' +\\\n",
    "                     r'save (button)', fontsize=18)\n",
    "\n",
    "        # select points\n",
    "        selected_points = plt.ginput(-1, mouse_pop=2, mouse_stop=3, show_clicks=True)\n",
    "\n",
    "        # check number of selected points\n",
    "        num_points = np.shape(selected_points)[0]\n",
    "        \n",
    "        if num_points > 1:\n",
    "            \n",
    "            # go through all selected points\n",
    "            for ii in range(num_points):\n",
    "\n",
    "                self.selected_times.append(selected_points[ii][0])\n",
    "\n",
    "                # draw vertical line at selected points\n",
    "                plt.sca(axs[0])\n",
    "                plt.axvline(selected_points[ii][0])\n",
    "                plt.sca(axs[1])\n",
    "                plt.axvline(selected_points[ii][0])\n",
    "            \n",
    "            plt.draw()\n",
    "            \n",
    "            \n",
    "    def save(self, event):\n",
    "        \n",
    "        if self.file_name == 'no_file_selected':\n",
    "            fig.suptitle(r'Saving not possibel $\\rightarrow$ no file found.', fontsize=18)\n",
    "            axs[0].clear()\n",
    "            axs[1].clear()\n",
    "            plt.draw()\n",
    "            return\n",
    "            \n",
    "        if not self.selected_times: # if list empty\n",
    "            fig.suptitle(self.file_name + '\\n' + 'No valid selection!', fontsize=18)\n",
    "        \n",
    "        else:    \n",
    "            with open(times_file_path, \"a\") as time_file:\n",
    "                time_file.write(self.file_name + '\\t' + '\\t'.join(str(string) for string in self.selected_times) + '\\n')\n",
    "            \n",
    "            self.selected_times = []\n",
    "            \n",
    "            file_path = os.path.join(file_dir, self.file_name)\n",
    "            destination_path = os.path.join(dir_destination, self.file_name)\n",
    "            \n",
    "            # shift file to other destination folder\n",
    "            shutil.move(file_path, dir_destination)\n",
    "            \n",
    "            # load new data\n",
    "            self.load_data()\n",
    "    \n",
    "    \n",
    "    def select_exercise(self, label):\n",
    "        # remove label (exercise abbreviation) from list if it already exists\n",
    "        if label in self.selected_exercises:\n",
    "            self.selected_exercises.remove(label)\n",
    "            \n",
    "        # otherwise append label (exercise abbreviation)\n",
    "        else:\n",
    "            self.selected_exercises.append(label)\n",
    "        \n",
    "        self.load_data()\n",
    "        \n",
    "        \n",
    "    def select_subject(self, label):\n",
    "        # remove label (exercise abbreviation) from list if it already exists\n",
    "        if label in self.selected_subjects:\n",
    "            self.selected_subjects.remove(label)\n",
    "            \n",
    "        # otherwise append label (exercise abbreviation)\n",
    "        else:\n",
    "            self.selected_subjects.append(label)\n",
    "        \n",
    "        self.load_data()\n",
    "        \n",
    "        \n",
    "    def select_repetitions(self, label):\n",
    "        # remove label (exercise abbreviation) from list if it already exists\n",
    "        if label in self.selected_repetitions:\n",
    "            self.selected_repetitions.remove(label)\n",
    "            \n",
    "        # otherwise append label (exercise abbreviation)\n",
    "        else:\n",
    "            self.selected_repetitions.append(label)\n",
    "            \n",
    "        self.load_data()\n",
    "            \n",
    "    plt.draw()\n",
    "\n",
    "\n",
    "callback = MarkPlot()\n",
    "callback.load_data()\n",
    "\n",
    "\n",
    "# checkbuttons to select exercise\n",
    "rax_exercise = plt.axes([0.01, 0.48, 0.2, 0.35], frameon=False)\n",
    "init_state_exercise = np.zeros(len(exercise_abbrs))\n",
    "init_state_exercise[0] = 1\n",
    "b_select_exercise = CheckButtons(rax_exercise, exercise_abbrs, init_state_exercise)\n",
    "b_select_exercise.on_clicked(callback.select_exercise)\n",
    "fig.text(0.01, 0.87, 'Select Exercises:', fontsize=12)\n",
    "\n",
    "# checkbuttons to select subject\n",
    "rax_subject = plt.axes([0.01, 0.014, 0.2, 0.35], frameon=False)\n",
    "init_state_subject = np.zeros(len(subject_nums))\n",
    "init_state_subject[0] = 1\n",
    "b_select_subject = CheckButtons(rax_subject, subject_nums, init_state_subject)\n",
    "b_select_subject.on_clicked(callback.select_subject)\n",
    "fig.text(0.01, 0.4, 'Select Subjects:', fontsize=12)\n",
    "\n",
    "# checkbuttons to select number of repetitions\n",
    "rax_repetitions = plt.axes([0.1, 0.014, 0.1, 0.13], frameon=False)\n",
    "init_state_repetitions = np.zeros(len(repetitions))\n",
    "init_state_repetitions[0] = 1\n",
    "b_select_repetitions = CheckButtons(rax_repetitions, repetitions, init_state_repetitions)\n",
    "b_select_repetitions.on_clicked(callback.select_repetitions)\n",
    "fig.text(0.1, 0.14, 'Select Repetitions:', fontsize=12)\n",
    "\n",
    "# buttons to unmark, save and select time range\n",
    "ax_unmark = plt.axes([0.40, 0.05, 0.15, 0.075])\n",
    "ax_save   = plt.axes([0.57, 0.05, 0.15, 0.075])\n",
    "ax_select = plt.axes([0.74, 0.05, 0.15, 0.075])\n",
    "\n",
    "b_unmark = Button(ax_unmark, 'Unmark')\n",
    "b_unmark.on_clicked(callback.unmark)\n",
    "b_save = Button(ax_save, 'Save')\n",
    "b_save.on_clicked(callback.save)\n",
    "b_select = Button(ax_select, 'Start Selection')\n",
    "b_select.on_clicked(callback.select_points)"
   ]
  },
  {
   "cell_type": "code",
   "execution_count": null,
   "metadata": {},
   "outputs": [],
   "source": []
  },
  {
   "cell_type": "code",
   "execution_count": null,
   "metadata": {},
   "outputs": [],
   "source": []
  },
  {
   "cell_type": "code",
   "execution_count": null,
   "metadata": {},
   "outputs": [],
   "source": []
  },
  {
   "cell_type": "code",
   "execution_count": null,
   "metadata": {},
   "outputs": [],
   "source": []
  },
  {
   "cell_type": "code",
   "execution_count": null,
   "metadata": {},
   "outputs": [],
   "source": []
  },
  {
   "cell_type": "code",
   "execution_count": null,
   "metadata": {},
   "outputs": [],
   "source": []
  },
  {
   "cell_type": "code",
   "execution_count": null,
   "metadata": {
    "ExecuteTime": {
     "end_time": "2018-11-22T12:25:44.041846Z",
     "start_time": "2018-11-22T12:25:44.011844Z"
    }
   },
   "outputs": [],
   "source": []
  },
  {
   "cell_type": "code",
   "execution_count": 13,
   "metadata": {
    "ExecuteTime": {
     "end_time": "2018-11-21T22:37:10.680580Z",
     "start_time": "2018-11-21T22:37:10.155550Z"
    }
   },
   "outputs": [],
   "source": [
    "files = []\n",
    "for (dirpath, dirnames, filenames) in walk('E:\\Physio_Data_Split'):\n",
    "    files.extend(filenames)\n",
    "    break"
   ]
  },
  {
   "cell_type": "code",
   "execution_count": 14,
   "metadata": {
    "ExecuteTime": {
     "end_time": "2018-11-21T22:37:15.330846Z",
     "start_time": "2018-11-21T22:37:15.309845Z"
    }
   },
   "outputs": [
    {
     "data": {
      "text/plain": [
       "['subject01_BC_05.csv',\n",
       " 'subject01_BC_10.csv',\n",
       " 'subject01_BC_15.csv',\n",
       " 'subject01_LR_05.csv',\n",
       " 'subject01_LR_10.csv',\n",
       " 'subject01_LR_15.csv',\n",
       " 'subject01_MP_05.csv',\n",
       " 'subject01_MP_10.csv',\n",
       " 'subject01_MP_15.csv',\n",
       " 'subject01_P1_05.csv',\n",
       " 'subject01_P1_10.csv',\n",
       " 'subject01_P1_15.csv',\n",
       " 'subject01_P2_05.csv',\n",
       " 'subject01_P2_10.csv',\n",
       " 'subject01_P2_15.csv',\n",
       " 'subject01_RF_05.csv',\n",
       " 'subject01_RF_10.csv',\n",
       " 'subject01_RF_15.csv',\n",
       " 'subject01_RO_05.csv',\n",
       " 'subject01_RO_10.csv',\n",
       " 'subject01_RO_15.csv',\n",
       " 'subject01_RS_05.csv',\n",
       " 'subject01_RS_10.csv',\n",
       " 'subject01_RS_15.csv',\n",
       " 'subject01_SA_05.csv',\n",
       " 'subject01_SA_10.csv',\n",
       " 'subject01_SA_15.csv',\n",
       " 'subject01_TC_05.csv',\n",
       " 'subject01_TC_10.csv',\n",
       " 'subject01_TC_15.csv',\n",
       " 'subject02_BC_05.csv',\n",
       " 'subject02_BC_10.csv',\n",
       " 'subject02_BC_15.csv',\n",
       " 'subject02_LR_05.csv',\n",
       " 'subject02_LR_10.csv',\n",
       " 'subject02_LR_15.csv',\n",
       " 'subject02_MP_05.csv',\n",
       " 'subject02_MP_10.csv',\n",
       " 'subject02_MP_15.csv',\n",
       " 'subject02_P1_05.csv',\n",
       " 'subject02_P1_10.csv',\n",
       " 'subject02_P1_15.csv',\n",
       " 'subject02_P2_05.csv',\n",
       " 'subject02_P2_10.csv',\n",
       " 'subject02_P2_15.csv',\n",
       " 'subject02_RF_05.csv',\n",
       " 'subject02_RF_10.csv',\n",
       " 'subject02_RF_15.csv',\n",
       " 'subject02_RO_05.csv',\n",
       " 'subject02_RO_10.csv',\n",
       " 'subject02_RO_15.csv',\n",
       " 'subject02_RS_05.csv',\n",
       " 'subject02_RS_10.csv',\n",
       " 'subject02_RS_15.csv',\n",
       " 'subject02_SA_05.csv',\n",
       " 'subject02_SA_10.csv',\n",
       " 'subject02_SA_15.csv',\n",
       " 'subject02_TC_05.csv',\n",
       " 'subject02_TC_10.csv',\n",
       " 'subject02_TC_15.csv',\n",
       " 'subject03_BC_05.csv',\n",
       " 'subject03_BC_10.csv',\n",
       " 'subject03_BC_15.csv',\n",
       " 'subject03_LR_05.csv',\n",
       " 'subject03_LR_10.csv',\n",
       " 'subject03_LR_15.csv',\n",
       " 'subject03_MP_05.csv',\n",
       " 'subject03_MP_10.csv',\n",
       " 'subject03_MP_15.csv',\n",
       " 'subject03_P1_05.csv',\n",
       " 'subject03_P1_10.csv',\n",
       " 'subject03_P1_15.csv',\n",
       " 'subject03_P2_05.csv',\n",
       " 'subject03_P2_10.csv',\n",
       " 'subject03_P2_15.csv',\n",
       " 'subject03_RF_05.csv',\n",
       " 'subject03_RF_10.csv',\n",
       " 'subject03_RF_15.csv',\n",
       " 'subject03_RO_05.csv',\n",
       " 'subject03_RO_10.csv',\n",
       " 'subject03_RO_15.csv',\n",
       " 'subject03_RS_05.csv',\n",
       " 'subject03_RS_10.csv',\n",
       " 'subject03_RS_15.csv',\n",
       " 'subject03_SA_05.csv',\n",
       " 'subject03_SA_10.csv',\n",
       " 'subject03_SA_15.csv',\n",
       " 'subject03_TC_05.csv',\n",
       " 'subject03_TC_10.csv',\n",
       " 'subject03_TC_15.csv',\n",
       " 'subject04_BC_05.csv',\n",
       " 'subject04_BC_10.csv',\n",
       " 'subject04_BC_15.csv',\n",
       " 'subject04_LR_05.csv',\n",
       " 'subject04_LR_10.csv',\n",
       " 'subject04_LR_15.csv',\n",
       " 'subject04_MP_05.csv',\n",
       " 'subject04_MP_10.csv',\n",
       " 'subject04_MP_15.csv',\n",
       " 'subject04_P1_05.csv',\n",
       " 'subject04_P1_10.csv',\n",
       " 'subject04_P1_15.csv',\n",
       " 'subject04_P2_05.csv',\n",
       " 'subject04_P2_10.csv',\n",
       " 'subject04_P2_15.csv',\n",
       " 'subject04_RF_05.csv',\n",
       " 'subject04_RF_10.csv',\n",
       " 'subject04_RF_15.csv',\n",
       " 'subject04_RO_05.csv',\n",
       " 'subject04_RO_10.csv',\n",
       " 'subject04_RO_15.csv',\n",
       " 'subject04_RS_05.csv',\n",
       " 'subject04_RS_10.csv',\n",
       " 'subject04_RS_15.csv',\n",
       " 'subject04_SA_05.csv',\n",
       " 'subject04_SA_10.csv',\n",
       " 'subject04_SA_15.csv',\n",
       " 'subject04_TC_05.csv',\n",
       " 'subject04_TC_10.csv',\n",
       " 'subject04_TC_15.csv',\n",
       " 'subject05_BC_05.csv',\n",
       " 'subject05_BC_10.csv',\n",
       " 'subject05_BC_15.csv',\n",
       " 'subject05_LR_05.csv',\n",
       " 'subject05_LR_10.csv',\n",
       " 'subject05_LR_15.csv',\n",
       " 'subject05_MP_05.csv',\n",
       " 'subject05_MP_10.csv',\n",
       " 'subject05_MP_15.csv',\n",
       " 'subject05_P1_05.csv',\n",
       " 'subject05_P1_10.csv',\n",
       " 'subject05_P1_15.csv',\n",
       " 'subject05_P2_05.csv',\n",
       " 'subject05_P2_10.csv',\n",
       " 'subject05_P2_15.csv',\n",
       " 'subject05_RF_05.csv',\n",
       " 'subject05_RF_10.csv',\n",
       " 'subject05_RF_15.csv',\n",
       " 'subject05_RO_05.csv',\n",
       " 'subject05_RO_10.csv',\n",
       " 'subject05_RO_15.csv',\n",
       " 'subject05_RS_05.csv',\n",
       " 'subject05_RS_10.csv',\n",
       " 'subject05_RS_15.csv',\n",
       " 'subject05_SA_05.csv',\n",
       " 'subject05_SA_10.csv',\n",
       " 'subject05_SA_15.csv',\n",
       " 'subject05_TC_05.csv',\n",
       " 'subject05_TC_10.csv',\n",
       " 'subject05_TC_15.csv',\n",
       " 'subject06_BC_05.csv',\n",
       " 'subject06_BC_10.csv',\n",
       " 'subject06_BC_15.csv',\n",
       " 'subject06_LR_05.csv',\n",
       " 'subject06_LR_10.csv',\n",
       " 'subject06_LR_15.csv',\n",
       " 'subject06_MP_05.csv',\n",
       " 'subject06_MP_10.csv',\n",
       " 'subject06_MP_15.csv',\n",
       " 'subject06_P1_05.csv',\n",
       " 'subject06_P1_10.csv',\n",
       " 'subject06_P1_15.csv',\n",
       " 'subject06_P2_05.csv',\n",
       " 'subject06_P2_10.csv',\n",
       " 'subject06_P2_15.csv',\n",
       " 'subject06_RF_05.csv',\n",
       " 'subject06_RF_10.csv',\n",
       " 'subject06_RF_15.csv',\n",
       " 'subject06_RO_05.csv',\n",
       " 'subject06_RO_10.csv',\n",
       " 'subject06_RO_15.csv',\n",
       " 'subject06_RS_05.csv',\n",
       " 'subject06_RS_10.csv',\n",
       " 'subject06_RS_15.csv',\n",
       " 'subject06_SA_05.csv',\n",
       " 'subject06_SA_10.csv',\n",
       " 'subject06_SA_15.csv',\n",
       " 'subject06_TC_05.csv',\n",
       " 'subject06_TC_10.csv',\n",
       " 'subject06_TC_15.csv',\n",
       " 'subject07_BC_05.csv',\n",
       " 'subject07_BC_10.csv',\n",
       " 'subject07_BC_15.csv',\n",
       " 'subject07_LR_05.csv',\n",
       " 'subject07_LR_10.csv',\n",
       " 'subject07_LR_15.csv',\n",
       " 'subject07_MP_05.csv',\n",
       " 'subject07_MP_10.csv',\n",
       " 'subject07_MP_15.csv',\n",
       " 'subject07_P1_05.csv',\n",
       " 'subject07_P1_10.csv',\n",
       " 'subject07_P1_15.csv',\n",
       " 'subject07_P2_05.csv',\n",
       " 'subject07_P2_10.csv',\n",
       " 'subject07_P2_15.csv',\n",
       " 'subject07_RF_05.csv',\n",
       " 'subject07_RF_10.csv',\n",
       " 'subject07_RF_15.csv',\n",
       " 'subject07_RO_05.csv',\n",
       " 'subject07_RO_10.csv',\n",
       " 'subject07_RO_15.csv',\n",
       " 'subject07_RS_05.csv',\n",
       " 'subject07_RS_10.csv',\n",
       " 'subject07_RS_15.csv',\n",
       " 'subject07_SA_05.csv',\n",
       " 'subject07_SA_10.csv',\n",
       " 'subject07_SA_15.csv',\n",
       " 'subject07_TC_05.csv',\n",
       " 'subject07_TC_10.csv',\n",
       " 'subject07_TC_15.csv',\n",
       " 'subject08_BC_05.csv',\n",
       " 'subject08_BC_10.csv',\n",
       " 'subject08_BC_15.csv',\n",
       " 'subject08_LR_05.csv',\n",
       " 'subject08_LR_10.csv',\n",
       " 'subject08_LR_15.csv',\n",
       " 'subject08_MP_05.csv',\n",
       " 'subject08_MP_10.csv',\n",
       " 'subject08_MP_15.csv',\n",
       " 'subject08_P1_05.csv',\n",
       " 'subject08_P1_10.csv',\n",
       " 'subject08_P1_15.csv',\n",
       " 'subject08_P2_05.csv',\n",
       " 'subject08_P2_10.csv',\n",
       " 'subject08_P2_15.csv',\n",
       " 'subject08_RF_05.csv',\n",
       " 'subject08_RF_10.csv',\n",
       " 'subject08_RF_15.csv',\n",
       " 'subject08_RO_05.csv',\n",
       " 'subject08_RO_10.csv',\n",
       " 'subject08_RO_15.csv',\n",
       " 'subject08_RS_05.csv',\n",
       " 'subject08_RS_10.csv',\n",
       " 'subject08_RS_15.csv',\n",
       " 'subject08_SA_05.csv',\n",
       " 'subject08_SA_10.csv',\n",
       " 'subject08_SA_15.csv',\n",
       " 'subject08_TC_05.csv',\n",
       " 'subject08_TC_10.csv',\n",
       " 'subject08_TC_15.csv',\n",
       " 'subject09_BC_05.csv',\n",
       " 'subject09_BC_10.csv',\n",
       " 'subject09_BC_15.csv',\n",
       " 'subject09_LR_05.csv',\n",
       " 'subject09_LR_10.csv',\n",
       " 'subject09_LR_15.csv',\n",
       " 'subject09_MP_05.csv',\n",
       " 'subject09_MP_10.csv',\n",
       " 'subject09_MP_15.csv',\n",
       " 'subject09_P1_05.csv',\n",
       " 'subject09_P1_10.csv',\n",
       " 'subject09_P1_15.csv',\n",
       " 'subject09_P2_05.csv',\n",
       " 'subject09_P2_10.csv',\n",
       " 'subject09_P2_15.csv',\n",
       " 'subject09_RF_05.csv',\n",
       " 'subject09_RF_10.csv',\n",
       " 'subject09_RF_15.csv',\n",
       " 'subject09_RO_05.csv',\n",
       " 'subject09_RO_10.csv',\n",
       " 'subject09_RO_15.csv',\n",
       " 'subject09_RS_05.csv',\n",
       " 'subject09_RS_10.csv',\n",
       " 'subject09_RS_15.csv',\n",
       " 'subject09_SA_05.csv',\n",
       " 'subject09_SA_10.csv',\n",
       " 'subject09_SA_15.csv',\n",
       " 'subject09_TC_05.csv',\n",
       " 'subject09_TC_10.csv',\n",
       " 'subject09_TC_15.csv']"
      ]
     },
     "execution_count": 14,
     "metadata": {},
     "output_type": "execute_result"
    }
   ],
   "source": [
    "files"
   ]
  },
  {
   "cell_type": "code",
   "execution_count": 18,
   "metadata": {
    "ExecuteTime": {
     "end_time": "2018-11-21T22:55:40.766073Z",
     "start_time": "2018-11-21T22:55:40.738071Z"
    }
   },
   "outputs": [
    {
     "data": {
      "text/plain": [
       "'E:\\\\Physio_Data_Split_done\\\\just_a_test.csv'"
      ]
     },
     "execution_count": 18,
     "metadata": {},
     "output_type": "execute_result"
    }
   ],
   "source": [
    "\n",
    "file_name_test = 'just_a_test.csv'\n",
    "file_path = os.path.join(file_dir, file_name_test)\n",
    "\n",
    "dir_destination = 'E:\\Physio_Data_Split_done'\n",
    "destination_path = os.path.join(dir_destination, file_name_test)\n",
    "\n",
    "# shift file to other folder\n",
    "shutil.move(file_path, dir_destination)"
   ]
  },
  {
   "cell_type": "code",
   "execution_count": null,
   "metadata": {},
   "outputs": [],
   "source": []
  },
  {
   "cell_type": "code",
   "execution_count": 24,
   "metadata": {
    "ExecuteTime": {
     "end_time": "2018-11-21T23:18:37.882840Z",
     "start_time": "2018-11-21T23:18:37.861838Z"
    }
   },
   "outputs": [
    {
     "data": {
      "text/plain": [
       "'1\\t2\\t3'"
      ]
     },
     "execution_count": 24,
     "metadata": {},
     "output_type": "execute_result"
    }
   ],
   "source": [
    "list1 = ['1', '2', '3']\n",
    "'\\t'.join(list1)"
   ]
  },
  {
   "cell_type": "code",
   "execution_count": 25,
   "metadata": {
    "ExecuteTime": {
     "end_time": "2018-11-21T23:20:45.644147Z",
     "start_time": "2018-11-21T23:20:45.628146Z"
    }
   },
   "outputs": [],
   "source": [
    "L = [1,2,3]"
   ]
  },
  {
   "cell_type": "code",
   "execution_count": null,
   "metadata": {},
   "outputs": [],
   "source": []
  },
  {
   "cell_type": "code",
   "execution_count": 53,
   "metadata": {
    "ExecuteTime": {
     "end_time": "2018-11-22T00:19:27.942611Z",
     "start_time": "2018-11-22T00:19:27.925610Z"
    }
   },
   "outputs": [
    {
     "data": {
      "text/html": [
       "<div>\n",
       "<style>\n",
       "    .dataframe thead tr:only-child th {\n",
       "        text-align: right;\n",
       "    }\n",
       "\n",
       "    .dataframe thead th {\n",
       "        text-align: left;\n",
       "    }\n",
       "\n",
       "    .dataframe tbody tr th {\n",
       "        vertical-align: top;\n",
       "    }\n",
       "</style>\n",
       "<table border=\"1\" class=\"dataframe\">\n",
       "  <thead>\n",
       "    <tr style=\"text-align: right;\">\n",
       "      <th></th>\n",
       "      <th>0</th>\n",
       "    </tr>\n",
       "  </thead>\n",
       "  <tbody>\n",
       "    <tr>\n",
       "      <th>0</th>\n",
       "      <td>subject01_RF_05.csv\\t0.11776573700716897\\t2.16...</td>\n",
       "    </tr>\n",
       "    <tr>\n",
       "      <th>1</th>\n",
       "      <td>subject01_RF_05.csv\\t0.05104866711469569\\t2.73...</td>\n",
       "    </tr>\n",
       "    <tr>\n",
       "      <th>2</th>\n",
       "      <td>subject01_RF_05.csv\\t0.03992915546595022\\t2.83...</td>\n",
       "    </tr>\n",
       "    <tr>\n",
       "      <th>3</th>\n",
       "      <td>subject01_RF_05.csv\\t2.91988267249104\\t5.67752...</td>\n",
       "    </tr>\n",
       "    <tr>\n",
       "      <th>4</th>\n",
       "      <td>subject01_RF_05.csv\\t0.42911206317204353\\t1.21...</td>\n",
       "    </tr>\n",
       "  </tbody>\n",
       "</table>\n",
       "</div>"
      ],
      "text/plain": [
       "                                                   0\n",
       "0  subject01_RF_05.csv\\t0.11776573700716897\\t2.16...\n",
       "1  subject01_RF_05.csv\\t0.05104866711469569\\t2.73...\n",
       "2  subject01_RF_05.csv\\t0.03992915546595022\\t2.83...\n",
       "3  subject01_RF_05.csv\\t2.91988267249104\\t5.67752...\n",
       "4  subject01_RF_05.csv\\t0.42911206317204353\\t1.21..."
      ]
     },
     "execution_count": 53,
     "metadata": {},
     "output_type": "execute_result"
    }
   ],
   "source": [
    "rep_time_data = pd.read_csv(os.path.join('E:\\Physio_Data_Split_done','just_a_test.csv'),\n",
    "                            skiprows=0, sep='|', header=None) # delimiter --> '|' to get one column\n",
    "rep_time_data.head()"
   ]
  },
  {
   "cell_type": "code",
   "execution_count": 57,
   "metadata": {
    "ExecuteTime": {
     "end_time": "2018-11-22T00:20:26.951986Z",
     "start_time": "2018-11-22T00:20:26.944986Z"
    }
   },
   "outputs": [
    {
     "data": {
      "text/plain": [
       "['subject01_RF_05.csv',\n",
       " '0.11776573700716897',\n",
       " '2.1637558803763444',\n",
       " '5.032589885752689',\n",
       " '7.923662914426524',\n",
       " '7.923662914426524',\n",
       " '7.923662914426524']"
      ]
     },
     "execution_count": 57,
     "metadata": {},
     "output_type": "execute_result"
    }
   ],
   "source": [
    "rep_time_data.values[0][0].split('\\t')"
   ]
  },
  {
   "cell_type": "code",
   "execution_count": 59,
   "metadata": {
    "ExecuteTime": {
     "end_time": "2018-11-22T00:21:01.529964Z",
     "start_time": "2018-11-22T00:21:01.522964Z"
    }
   },
   "outputs": [
    {
     "data": {
      "text/plain": [
       "0.11776573700716897"
      ]
     },
     "execution_count": 59,
     "metadata": {},
     "output_type": "execute_result"
    }
   ],
   "source": [
    "float(rep_time_data.values[0][0].split('\\t')[1])"
   ]
  },
  {
   "cell_type": "code",
   "execution_count": 9,
   "metadata": {
    "ExecuteTime": {
     "end_time": "2018-11-22T08:55:35.938704Z",
     "start_time": "2018-11-22T08:55:35.926703Z"
    }
   },
   "outputs": [],
   "source": [
    "file_dir = r'E:\\Physio_Data_Split'\n",
    "\n",
    "files = []\n",
    "for (dirpath, dirnames, filenames) in walk(file_dir):\n",
    "    files.extend(filenames)\n",
    "    break"
   ]
  },
  {
   "cell_type": "code",
   "execution_count": 62,
   "metadata": {
    "ExecuteTime": {
     "end_time": "2018-11-22T10:15:34.885188Z",
     "start_time": "2018-11-22T10:15:34.872187Z"
    }
   },
   "outputs": [
    {
     "data": {
      "text/plain": [
       "['subjec', '01', 'BC', '05', 'csv']"
      ]
     },
     "execution_count": 62,
     "metadata": {},
     "output_type": "execute_result"
    }
   ],
   "source": [
    "re.split('[t_.]',files[0])"
   ]
  },
  {
   "cell_type": "code",
   "execution_count": 13,
   "metadata": {
    "ExecuteTime": {
     "end_time": "2018-11-22T08:57:03.327702Z",
     "start_time": "2018-11-22T08:57:03.310701Z"
    }
   },
   "outputs": [
    {
     "data": {
      "text/plain": [
       "True"
      ]
     },
     "execution_count": 13,
     "metadata": {},
     "output_type": "execute_result"
    }
   ],
   "source": [
    "files[0].split('_')[1] == 'BC'"
   ]
  },
  {
   "cell_type": "code",
   "execution_count": 64,
   "metadata": {
    "ExecuteTime": {
     "end_time": "2018-11-22T10:22:38.246403Z",
     "start_time": "2018-11-22T10:22:38.236402Z"
    }
   },
   "outputs": [
    {
     "name": "stdout",
     "output_type": "stream",
     "text": [
      "Super\n"
     ]
    }
   ],
   "source": [
    "if 1 is 1 \\\n",
    "and 0 is 0:\n",
    "    print('Super')"
   ]
  },
  {
   "cell_type": "code",
   "execution_count": null,
   "metadata": {},
   "outputs": [],
   "source": []
  },
  {
   "cell_type": "code",
   "execution_count": 84,
   "metadata": {
    "ExecuteTime": {
     "end_time": "2018-11-22T11:04:36.566442Z",
     "start_time": "2018-11-22T11:04:36.520440Z"
    }
   },
   "outputs": [
    {
     "data": {
      "text/plain": [
       "'subject01_RF_05.csv'"
      ]
     },
     "execution_count": 84,
     "metadata": {},
     "output_type": "execute_result"
    }
   ],
   "source": [
    "selected_exercises = ['RF'] # start exercise\n",
    "selected_subjects = ['01'] # start subject\n",
    "selected_repetitions = ['05'] # start number of repetition\n",
    "\n",
    "files = []\n",
    "for (dirpath, dirnames, filenames) in walk(file_dir):\n",
    "    files.extend(filenames)\n",
    "    break\n",
    "\n",
    "for ii in range(len(files)):\n",
    "    # split current file\n",
    "    current_sub = re.split('[t_.]',files[ii])[1]\n",
    "    current_ex  = re.split('[t_.]',files[ii])[2]\n",
    "    current_rep = re.split('[t_.]',files[ii])[3]\n",
    "\n",
    "    # check if file is selected\n",
    "    if (current_sub in selected_subjects) and \\\n",
    "    (current_ex in selected_exercises) and (current_rep in selected_repetitions):\n",
    "        file_name = files[ii]\n",
    "\n",
    "        break\n",
    "\n",
    "file_name"
   ]
  },
  {
   "cell_type": "code",
   "execution_count": null,
   "metadata": {},
   "outputs": [],
   "source": []
  },
  {
   "cell_type": "code",
   "execution_count": 3,
   "metadata": {
    "ExecuteTime": {
     "end_time": "2018-11-22T11:19:42.654268Z",
     "start_time": "2018-11-22T11:19:42.647267Z"
    }
   },
   "outputs": [],
   "source": [
    "list_01 = ['RF']"
   ]
  },
  {
   "cell_type": "code",
   "execution_count": 47,
   "metadata": {
    "ExecuteTime": {
     "end_time": "2018-11-22T11:20:47.484976Z",
     "start_time": "2018-11-22T11:20:47.466975Z"
    }
   },
   "outputs": [
    {
     "data": {
      "text/plain": [
       "['RS', 'RF', 'RO']"
      ]
     },
     "execution_count": 47,
     "metadata": {},
     "output_type": "execute_result"
    }
   ],
   "source": [
    "# remove label (exercise abbreviation) from list if it already exists\n",
    "label = 'RO'\n",
    "\n",
    "if label in list_01:\n",
    "    list_01.remove(label)\n",
    "\n",
    "# otherwise append label (exercise abbreviation)\n",
    "else:\n",
    "    list_01.append(label)\n",
    "    \n",
    "list_01"
   ]
  },
  {
   "cell_type": "code",
   "execution_count": null,
   "metadata": {},
   "outputs": [],
   "source": []
  },
  {
   "cell_type": "code",
   "execution_count": null,
   "metadata": {},
   "outputs": [],
   "source": []
  }
 ],
 "metadata": {
  "kernelspec": {
   "display_name": "Python 3",
   "language": "python",
   "name": "python3"
  },
  "language_info": {
   "codemirror_mode": {
    "name": "ipython",
    "version": 3
   },
   "file_extension": ".py",
   "mimetype": "text/x-python",
   "name": "python",
   "nbconvert_exporter": "python",
   "pygments_lexer": "ipython3",
   "version": "3.6.2"
  },
  "toc": {
   "base_numbering": 1,
   "nav_menu": {},
   "number_sections": true,
   "sideBar": true,
   "skip_h1_title": false,
   "title_cell": "Table of Contents",
   "title_sidebar": "Contents",
   "toc_cell": false,
   "toc_position": {},
   "toc_section_display": true,
   "toc_window_display": false
  },
  "varInspector": {
   "cols": {
    "lenName": 16,
    "lenType": 16,
    "lenVar": 40
   },
   "kernels_config": {
    "python": {
     "delete_cmd_postfix": "",
     "delete_cmd_prefix": "del ",
     "library": "var_list.py",
     "varRefreshCmd": "print(var_dic_list())"
    },
    "r": {
     "delete_cmd_postfix": ") ",
     "delete_cmd_prefix": "rm(",
     "library": "var_list.r",
     "varRefreshCmd": "cat(var_dic_list()) "
    }
   },
   "types_to_exclude": [
    "module",
    "function",
    "builtin_function_or_method",
    "instance",
    "_Feature"
   ],
   "window_display": false
  }
 },
 "nbformat": 4,
 "nbformat_minor": 2
}
