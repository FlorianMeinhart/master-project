{
 "cells": [
  {
   "cell_type": "markdown",
   "metadata": {},
   "source": [
    "# Reconstruct Trajectory - New Approach\n",
    "\n",
    "Since previous approaches haven't been successful, let's try something different. It turned out that it is not possible to eliminate the influence of gravity only by knowing its initial direction. This is far too inaccurate, hence there is a big drift if you try to calculate the position.\n",
    "\n",
    "The following idea came up: We can assume that after one repetition of an exercise the sensor is in the same position as in the beginning. Hence, it should be possible first to calculate the position without eliminating the influence of gravity and afterwards we can look at the resulting position, which gives us the direction of gravity. Moreover, we can also quantitative determine the influence of gravity, because we know the distance traveled as well as the time."
   ]
  },
  {
   "cell_type": "code",
   "execution_count": 2,
   "metadata": {
    "ExecuteTime": {
     "end_time": "2018-11-18T11:21:57.823474Z",
     "start_time": "2018-11-18T11:21:56.032371Z"
    }
   },
   "outputs": [],
   "source": [
    "import skinematics as skin\n",
    "import numpy as np\n",
    "import matplotlib.pyplot as plt\n",
    "import matplotlib as mpl\n",
    "from mpl_toolkits.mplot3d import Axes3D\n",
    "from scipy.signal import savgol_filter\n",
    "import functionsMasterProjectMeinhart as fmpm"
   ]
  },
  {
   "cell_type": "code",
   "execution_count": 3,
   "metadata": {
    "ExecuteTime": {
     "end_time": "2018-11-18T11:22:00.476625Z",
     "start_time": "2018-11-18T11:22:00.460625Z"
    }
   },
   "outputs": [
    {
     "name": "stdout",
     "output_type": "stream",
     "text": [
      "Using matplotlib backend: TkAgg\n"
     ]
    }
   ],
   "source": [
    "%matplotlib auto"
   ]
  },
  {
   "cell_type": "code",
   "execution_count": 17,
   "metadata": {
    "ExecuteTime": {
     "end_time": "2018-11-18T11:24:32.261307Z",
     "start_time": "2018-11-18T11:24:31.937288Z"
    }
   },
   "outputs": [],
   "source": [
    "def calc_trajectory_orientation(acc_lin_g, vel_ang_degps, sampling_rate=256):\n",
    "    '''\n",
    "    This function calculates the trajectory by means of a set of linear acceleration and angular velocity data.\n",
    "    The sampling rate has to be given in Hz.\n",
    "    Calculate the position in an upright frame (z-axis aligned with gravity).\n",
    "    \n",
    "    Inputs\n",
    "    ------\n",
    "    acc_lin_g: linear acceleration [g]\n",
    "    \n",
    "    vel_ang_degps: angular velocity [deg/s]\n",
    "    \n",
    "    sampling_rate: sampling rate of the measured signals in Hz\n",
    "    \n",
    "    \n",
    "    Returns\n",
    "    -------\n",
    "    Dictionary with upright position, velocity and orientation (vector-part of quaternion)\n",
    "    '''\n",
    "    \n",
    "    \n",
    "    g_mps2 = 9.80665 # [m/s^2]\n",
    "    \n",
    "    acc_lin = np.array(acc_lin_g) * g_mps2 # linear acceleration in m/s^2\n",
    "    \n",
    "    vel_ang = np.array(vel_ang_degps) * np.pi/180 # angular velocity in rad/s\n",
    "    \n",
    "    delta_t = 1/sampling_rate\n",
    "    \n",
    "\n",
    "\n",
    "    acc_upright_gravity = np.array([0, 0, g_mps2]) # gravity in upright position [m/s^2]\n",
    "    \n",
    "    # check number of data points\n",
    "    if acc_lin.ndim is 1 or vel_ang.ndim is 1:\n",
    "        num_steps = 1\n",
    "    elif np.shape(acc_lin)[0] <= np.shape(vel_ang)[0]:\n",
    "        num_steps = np.shape(acc_lin)[0]\n",
    "    else:\n",
    "        num_steps = np.shape(vel_ang)[0]\n",
    "    \n",
    "    # reserve memory for position and orientation vectors\n",
    "    #    --> one step more, because of initial condition\n",
    "    pos_init_space = np.zeros((num_steps+1, 3))\n",
    "    vel_init_space = np.zeros((num_steps+1, 3))\n",
    "    q_vec = np.zeros((num_steps+1, 3)) # vector part of quaternion\n",
    "         \n",
    "    \n",
    "    for ii in range(num_steps):\n",
    "        \n",
    "        omega_abs = np.linalg.norm(vel_ang[ii])\n",
    "        \n",
    "        # avoid division by zero (or value close to zero)\n",
    "        if omega_abs < 0.00001 and omega_abs > -0.00001:\n",
    "            q_vec[ii+1] = q_vec[ii]\n",
    "        \n",
    "        else:\n",
    "            delta_q_vec = vel_ang[ii]/omega_abs * np.sin(omega_abs*delta_t/2)\n",
    "            q_vec[ii+1] = skin.quat.q_mult(q_vec[ii], delta_q_vec)\n",
    "        \n",
    "        R_init_space_obj = skin.quat.convert(q_vec[ii+1] , to='rotmat')\n",
    "        \n",
    "        acc_init_space = np.dot(R_init_space_obj, acc_lin[ii])\n",
    "        \n",
    "        vel_init_space[ii+1] = vel_init_space[ii] + acc_init_space*delta_t\n",
    "\n",
    "        pos_init_space[ii+1] = pos_init_space[ii] +  vel_init_space[ii]*delta_t + 0.5*acc_init_space*delta_t**2\n",
    "    \n",
    "    \n",
    "    # bring velocity and position in an upright frame:\n",
    "    \n",
    "    acc_gravity = np.array(pos_init_space[-1]) *2 / (delta_t*num_steps)**2\n",
    "    \n",
    "    acc_gravity_abs = np.linalg.norm(acc_gravity)\n",
    "    acc_gravity_norm = np.array(acc_gravity) / acc_gravity_abs # normalize\n",
    "\n",
    "    vec_upright = np.array([0,0,1])\n",
    "\n",
    "    v = np.cross(acc_gravity_norm, vec_upright)\n",
    "    s = np.linalg.norm(v) # sine of angle\n",
    "    c = np.dot(acc_gravity_norm, vec_upright) # cosine of angle\n",
    "\n",
    "    # skew-symmetric cross-product matrix of v\n",
    "    Vx = np.array([[ 0,   -v[2], v[1] ],\n",
    "                   [ v[2], 0 ,  -v[0] ],\n",
    "                   [-v[1], v[0], 0    ]])\n",
    "\n",
    "    R_upright_init = np.identity(3) + Vx + np.dot(Vx,Vx) * (1-c)/s**2\n",
    "    \n",
    "    # rotate velocity and position profile into upright frame\n",
    "    vel_upright_gravity = np.array([np.dot(R_upright_init, vel_init_space[ii]) for ii in range(num_steps+1)])\n",
    "    pos_upright_gravity = np.array([np.dot(R_upright_init, pos_init_space[ii]) for ii in range(num_steps+1)])\n",
    "    \n",
    "    \n",
    "    # eliminate influence of gravity:\n",
    "    \n",
    "    vel_upright = np.zeros((num_steps+1, 3))\n",
    "    pos_upright = np.zeros((num_steps+1, 3))\n",
    "    \n",
    "    for ii in np.arange(num_steps+1):\n",
    "        vel_upright[ii] = vel_upright_gravity[ii] - np.array([0,0,acc_gravity_abs])*(delta_t*ii)\n",
    "        pos_upright[ii] = pos_upright_gravity[ii] - 0.5*np.array([0,0,acc_gravity_abs])*(delta_t*ii)**2\n",
    "    \n",
    "      \n",
    "    data_dict = {}\n",
    "    data_dict['pos'] = pos_upright\n",
    "    data_dict['vel'] = vel_upright\n",
    "    data_dict['q_vec'] = q_vec\n",
    "    data_dict['R_upright_init'] = R_upright_init\n",
    "    \n",
    "    return data_dict"
   ]
  },
  {
   "cell_type": "code",
   "execution_count": 5,
   "metadata": {
    "ExecuteTime": {
     "end_time": "2018-11-18T11:22:01.783700Z",
     "start_time": "2018-11-18T11:22:01.773700Z"
    }
   },
   "outputs": [
    {
     "data": {
      "text/plain": [
       "array([0., 0., 0.])"
      ]
     },
     "execution_count": 5,
     "metadata": {},
     "output_type": "execute_result"
    }
   ],
   "source": [
    "np.zeros(3)"
   ]
  },
  {
   "cell_type": "code",
   "execution_count": null,
   "metadata": {},
   "outputs": [],
   "source": []
  },
  {
   "cell_type": "code",
   "execution_count": 6,
   "metadata": {
    "ExecuteTime": {
     "end_time": "2018-11-18T11:22:05.768928Z",
     "start_time": "2018-11-18T11:22:04.152836Z"
    }
   },
   "outputs": [],
   "source": [
    "'''start_min = 2\n",
    "start_sec = 20\n",
    "\n",
    "stop_min = 2\n",
    "stop_sec = 23.8'''\n",
    "\n",
    "sampling_rate = 256 # [Hz]\n",
    "\n",
    "start_min = 2\n",
    "start_sec = 20\n",
    "\n",
    "stop_min = 2\n",
    "stop_sec = 37.1\n",
    "\n",
    "start_time = start_min*60 + start_sec # [s]\n",
    "stop_time = stop_min*60 + stop_sec # [s]\n",
    "\n",
    "sensor_data = fmpm.get_sensor_data(in_file='Subject_01/subject01.csv',\n",
    "                                   start_time=start_time,\n",
    "                                   stop_time=stop_time)\n",
    "\n",
    "plt.figure()\n",
    "fmpm.plot_signal(sensor_data['Acc'],sensor_data['time'],g_to_ms2=True)"
   ]
  },
  {
   "cell_type": "code",
   "execution_count": 7,
   "metadata": {
    "ExecuteTime": {
     "end_time": "2018-11-18T11:22:06.584975Z",
     "start_time": "2018-11-18T11:22:06.367962Z"
    }
   },
   "outputs": [],
   "source": [
    "window_length = 81\n",
    "polyorder = 3\n",
    "\n",
    "gyr_filt = savgol_filter(sensor_data['Gyr'],window_length, polyorder, axis=0)\n",
    "plt.figure()\n",
    "fmpm.plot_signal(gyr_filt,sensor_data['time'],\n",
    "            Title='Angular Velocity Profile (filtered)',\n",
    "            xLabel=r'$time \\enspace [s]$',\n",
    "            yLabel=r'$vel \\enspace [\\frac{deg}{s}]$')"
   ]
  },
  {
   "cell_type": "code",
   "execution_count": 10,
   "metadata": {
    "ExecuteTime": {
     "end_time": "2018-11-18T11:23:05.304333Z",
     "start_time": "2018-11-18T11:22:57.778903Z"
    }
   },
   "outputs": [
    {
     "name": "stderr",
     "output_type": "stream",
     "text": [
      "E:\\Programme\\WinPython-64bit-3.6.2.0Qt5\\python-3.6.2.amd64\\lib\\site-packages\\matplotlib\\backend_bases.py:2453: MatplotlibDeprecationWarning: Using default event loop until function specific to this GUI is implemented\n",
      "  warnings.warn(str, mplDeprecation)\n"
     ]
    }
   ],
   "source": [
    "window_length = 81\n",
    "polyorder = 3\n",
    "\n",
    "acc_filt = savgol_filter(sensor_data['Acc'],window_length, polyorder, axis=0)\n",
    "plt.figure()\n",
    "fmpm.plot_signal(acc_filt,sensor_data['time'],\n",
    "            Title='Accelereation Profile (filtered) --> select time range',\n",
    "            g_to_ms2=False)\n",
    "\n",
    "selected_points = plt.ginput(2)\n",
    "start_time_sel_index = int((selected_points[0][0]-start_time)*sampling_rate)\n",
    "stop_time_sel_index  = int((selected_points[1][0]-start_time)*sampling_rate)"
   ]
  },
  {
   "cell_type": "code",
   "execution_count": 11,
   "metadata": {
    "ExecuteTime": {
     "end_time": "2018-11-18T11:23:09.338564Z",
     "start_time": "2018-11-18T11:23:09.332564Z"
    }
   },
   "outputs": [],
   "source": [
    "acc_filt_selected = acc_filt[start_time_sel_index:stop_time_sel_index,:]\n",
    "gyr_filt_selected = gyr_filt[start_time_sel_index:stop_time_sel_index,:]\n",
    "time_selected = sensor_data['time'][start_time_sel_index:stop_time_sel_index]"
   ]
  },
  {
   "cell_type": "code",
   "execution_count": 12,
   "metadata": {
    "ExecuteTime": {
     "end_time": "2018-11-18T11:23:10.745645Z",
     "start_time": "2018-11-18T11:23:10.722643Z"
    }
   },
   "outputs": [
    {
     "data": {
      "text/plain": [
       "(747,)"
      ]
     },
     "execution_count": 12,
     "metadata": {},
     "output_type": "execute_result"
    }
   ],
   "source": [
    "np.shape(time_selected)"
   ]
  },
  {
   "cell_type": "code",
   "execution_count": 13,
   "metadata": {
    "ExecuteTime": {
     "end_time": "2018-11-18T11:23:11.669697Z",
     "start_time": "2018-11-18T11:23:11.474686Z"
    }
   },
   "outputs": [],
   "source": [
    "plt.figure()\n",
    "fmpm.plot_signal(acc_filt_selected,time_selected,\n",
    "            Title='Selected Accelereation Profile (filtered)',\n",
    "            g_to_ms2=False)"
   ]
  },
  {
   "cell_type": "code",
   "execution_count": 18,
   "metadata": {
    "ExecuteTime": {
     "end_time": "2018-11-18T11:24:37.509607Z",
     "start_time": "2018-11-18T11:24:37.248592Z"
    }
   },
   "outputs": [],
   "source": [
    "traj_data_filt = calc_trajectory_orientation(acc_filt_selected,\n",
    "                                             gyr_filt_selected,\n",
    "                                             sampling_rate=sampling_rate)"
   ]
  },
  {
   "cell_type": "code",
   "execution_count": 19,
   "metadata": {
    "ExecuteTime": {
     "end_time": "2018-11-18T11:24:38.042638Z",
     "start_time": "2018-11-18T11:24:38.034637Z"
    }
   },
   "outputs": [
    {
     "data": {
      "text/plain": [
       "array([[ 0.00000000e+00,  0.00000000e+00,  0.00000000e+00],\n",
       "       [ 8.66885333e-07,  5.62358305e-06, -2.33150201e-07],\n",
       "       [ 3.46479403e-06,  2.24607836e-05, -8.66578159e-07],\n",
       "       ...,\n",
       "       [-2.83432839e-04, -2.52616750e-05,  4.10665700e-05],\n",
       "       [-1.44683259e-04, -1.74185314e-05,  1.89531318e-05],\n",
       "       [-3.55271368e-15,  8.88178420e-16,  0.00000000e+00]])"
      ]
     },
     "execution_count": 19,
     "metadata": {},
     "output_type": "execute_result"
    }
   ],
   "source": [
    "traj_data_filt['pos']"
   ]
  },
  {
   "cell_type": "code",
   "execution_count": null,
   "metadata": {
    "ExecuteTime": {
     "start_time": "2018-11-18T01:00:39.259Z"
    }
   },
   "outputs": [],
   "source": []
  },
  {
   "cell_type": "code",
   "execution_count": 29,
   "metadata": {
    "ExecuteTime": {
     "end_time": "2018-11-18T11:48:33.053716Z",
     "start_time": "2018-11-18T11:48:32.769699Z"
    }
   },
   "outputs": [],
   "source": [
    "# get position values in x,y,z-direction\n",
    "[pos_x, pos_y, pos_z] = [traj_data_filt['pos'][:,ii] for ii in range(3)]\n",
    "\n",
    "# generate vectors for initial sensor position\n",
    "scale_arrow = 0.2 # scale arroe length\n",
    "[init_x, init_y, init_z] = [traj_data_filt['R_upright_init'][:,ii] for ii in range(3)]\n",
    "[init_x, init_y, init_z]= np.array([init_x, init_y, init_z]) * scale_arrow\n",
    "origin = [0,0,0]\n",
    "X, Y, Z = zip(origin,origin,origin) \n",
    "U, V, W = zip(init_x, init_y, init_z)\n",
    "\n",
    "# define section for plotting (if scale = 1 --> x,y,z-limits = 1 [m])\n",
    "scale_plot_section = 0.7\n",
    "\n",
    "fig = plt.figure(figsize=(8,8))\n",
    "ax = fig.gca(projection='3d')\n",
    "ax.plot(pos_x, pos_y, pos_z)\n",
    "ax.set_title('Calculated Trajectory',fontsize='13',fontweight='bold')\n",
    "ax.set_xlim(np.array([-1,1])*scale_plot_section)\n",
    "ax.set_ylim(np.array([-1,1])*scale_plot_section)\n",
    "ax.set_zlim(np.array([-1,1])*scale_plot_section)\n",
    "ax.set_xlabel(r'$x \\enspace [m]$')\n",
    "ax.set_ylabel(r'$y \\enspace [m]$')\n",
    "ax.set_zlabel(r'$z \\enspace [m]$')\n",
    "ax.set_aspect('equal')\n",
    "\n",
    "# plot initial sensor orientation\n",
    "ax.quiver(X,Y,Z,U,V,W,arrow_length_ratio=0.2,color='r')\n",
    "\n",
    "# add text for axis labels of initial orientation\n",
    "text_dis_scale = 1.1 # to ensure that labels and arrows do not overlap\n",
    "for label, pos in zip(['x','y','z'], np.array([init_x, init_y, init_z])*text_dis_scale):\n",
    "    ax.text(pos[0], pos[1], pos[2], label, color='red', fontsize='11')\n",
    "\n",
    "plt.show()"
   ]
  },
  {
   "cell_type": "code",
   "execution_count": null,
   "metadata": {},
   "outputs": [],
   "source": []
  },
  {
   "cell_type": "code",
   "execution_count": null,
   "metadata": {},
   "outputs": [],
   "source": []
  },
  {
   "cell_type": "code",
   "execution_count": null,
   "metadata": {},
   "outputs": [],
   "source": []
  },
  {
   "cell_type": "code",
   "execution_count": null,
   "metadata": {
    "ExecuteTime": {
     "start_time": "2018-11-18T01:00:39.282Z"
    }
   },
   "outputs": [],
   "source": [
    "acc_gravity = np.array(traj_data_filt['pos'][-1]) *2 / (stop_time-start_time)**2 \n",
    "np.linalg.norm(acc_gravity)"
   ]
  },
  {
   "cell_type": "code",
   "execution_count": null,
   "metadata": {
    "ExecuteTime": {
     "start_time": "2018-11-18T01:00:39.287Z"
    }
   },
   "outputs": [],
   "source": [
    "# initial acceleration shall be only caused by gravity\n",
    "acc_gravity_abs = np.linalg.norm(acc_gravity)\n",
    "acc_gravity_norm = np.array(acc_gravity) / acc_gravity_abs # normalize\n",
    "\n",
    "a = acc_gravity_norm\n",
    "b = np.array([0,0,1])\n",
    "\n",
    "v = np.cross(a, b)\n",
    "s = np.linalg.norm(v) # sine of angle\n",
    "c = np.dot(a, b) # cosine of angle\n",
    "\n",
    "# skew-symmetric cross-product matrix of v\n",
    "Vx = np.array([[ 0,   -v[2], v[1] ],\n",
    "               [ v[2], 0 ,  -v[0] ],\n",
    "               [-v[1], v[0], 0    ]])\n",
    "\n",
    "R_upright_init = np.identity(3) + Vx + np.dot(Vx,Vx) * (1-c)/s**2\n",
    "\n",
    "pos_upright = np.array(np.dot(R_upright_init, acc_gravity))"
   ]
  },
  {
   "cell_type": "code",
   "execution_count": null,
   "metadata": {
    "ExecuteTime": {
     "start_time": "2018-11-18T01:00:39.293Z"
    }
   },
   "outputs": [],
   "source": [
    "pos_upright"
   ]
  },
  {
   "cell_type": "code",
   "execution_count": null,
   "metadata": {},
   "outputs": [],
   "source": []
  },
  {
   "cell_type": "markdown",
   "metadata": {},
   "source": [
    "Suppose you want to find a rotation matrix R that rotates unit vector a onto unit vector b."
   ]
  },
  {
   "cell_type": "code",
   "execution_count": null,
   "metadata": {
    "ExecuteTime": {
     "start_time": "2018-11-18T01:00:39.301Z"
    }
   },
   "outputs": [],
   "source": [
    "a = np.array([1/np.sqrt(2), 1/np.sqrt(2), 0])\n",
    "b = np.array([0,0,1])\n",
    "\n",
    "v = np.cross(a, b)\n",
    "s = np.linalg.norm(v) # sine of angle\n",
    "c = np.dot(a, b) # cosine of angle\n",
    "\n",
    "# skew-symmetric cross-product matrix of v\n",
    "Vx = np.array([[ 0,   -v[2], v[1] ],\n",
    "               [ v[2], 0 ,  -v[0] ],\n",
    "               [-v[1], v[0], 0    ]])\n",
    "\n",
    "R = np.identity(3) + Vx + np.dot(Vx,Vx) * (1-c)/s**2"
   ]
  },
  {
   "cell_type": "code",
   "execution_count": null,
   "metadata": {
    "ExecuteTime": {
     "start_time": "2018-11-18T01:00:39.306Z"
    }
   },
   "outputs": [],
   "source": [
    "np.dot(R, a)"
   ]
  },
  {
   "cell_type": "code",
   "execution_count": null,
   "metadata": {},
   "outputs": [],
   "source": []
  },
  {
   "cell_type": "code",
   "execution_count": null,
   "metadata": {},
   "outputs": [],
   "source": []
  },
  {
   "cell_type": "code",
   "execution_count": null,
   "metadata": {
    "ExecuteTime": {
     "start_time": "2018-11-18T01:00:39.321Z"
    }
   },
   "outputs": [],
   "source": [
    "np.rad2deg(np.arcsin(s))"
   ]
  },
  {
   "cell_type": "code",
   "execution_count": null,
   "metadata": {
    "ExecuteTime": {
     "start_time": "2018-11-18T01:00:39.328Z"
    }
   },
   "outputs": [],
   "source": [
    "np.rad2deg(np.arccos(c))"
   ]
  },
  {
   "cell_type": "code",
   "execution_count": null,
   "metadata": {
    "ExecuteTime": {
     "start_time": "2018-11-18T01:00:39.335Z"
    }
   },
   "outputs": [],
   "source": [
    "Vx"
   ]
  },
  {
   "cell_type": "code",
   "execution_count": null,
   "metadata": {
    "ExecuteTime": {
     "start_time": "2018-11-18T01:00:39.342Z"
    }
   },
   "outputs": [],
   "source": [
    "R"
   ]
  },
  {
   "cell_type": "code",
   "execution_count": null,
   "metadata": {},
   "outputs": [],
   "source": []
  },
  {
   "cell_type": "code",
   "execution_count": null,
   "metadata": {},
   "outputs": [],
   "source": []
  },
  {
   "cell_type": "markdown",
   "metadata": {},
   "source": [
    "$9.81\\frac{m}{s^2}$\n",
    "\n",
    "The next idea is to use an upright space as reference frame. This should be possible because we assume that the sensor is not moved or rotated in the beginning. Therefore we know the direction of the gravity vector in the beginning. Hence, we can calculate a transformation matrix for an upright position, even if we only know the z-axis of the upright frame. Consequently, the new reference frame's z-component is independent from the starting position, but the alignment of the other two components (x,y) depend on the starting position.\n",
    "\n",
    "In order to clarify this, let's assume we measure the following acceleration values in the beginning (when the sensor is not moved or rotated):\n",
    "\n",
    "$$\\vec{acc}^{initial}_{gravity} = \\begin{pmatrix} 2.5 \\\\ 3.3 \\\\ 8.9 \\end{pmatrix}\\frac{m}{s^2}$$\n",
    "\n",
    "This yields and absolute value of approximately $9.81\\frac{m}{s^2}$.\n",
    "\n",
    "Now we want to find the rotation matrix $\\textbf{R}_{upright}^{initial}$, which allows us to align both z-axes of the two frames.\n",
    "\n",
    "By using rotations around x-axis and y-axis, we have to define now the sequence of the two rotations. So let's say first we want to rotate the initial frame (sensor) with respect to it's x-axis and afterwards we rotate around the body-fixed y-axis. This gives us the following equation: \n",
    "\n",
    "$\\textbf{R}_{x}(\\alpha) \\cdot \\textbf{R}_{y}(\\beta) = \\textbf{R}_{upright}^{initial}$\n",
    "\n",
    "We already know the z-component of $\\textbf{R}_{upright}^{initial}$, which is $$\\frac{1}{\\begin{vmatrix}\\vec{acc}^{initial}_{gravity}\\end{vmatrix}} \\cdot \\vec{acc}^{initial}_{gravity} = \\begin{pmatrix} 0.255 \\\\ 0.336 \\\\ 0.907 \\end{pmatrix}$$\n",
    "\n",
    "So let's calculate the two angles $\\alpha$ and $\\beta$ as well as the corresponding rotation matrix:"
   ]
  },
  {
   "cell_type": "code",
   "execution_count": null,
   "metadata": {},
   "outputs": [],
   "source": []
  },
  {
   "cell_type": "code",
   "execution_count": null,
   "metadata": {},
   "outputs": [],
   "source": []
  }
 ],
 "metadata": {
  "kernelspec": {
   "display_name": "Python 3",
   "language": "python",
   "name": "python3"
  },
  "language_info": {
   "codemirror_mode": {
    "name": "ipython",
    "version": 3
   },
   "file_extension": ".py",
   "mimetype": "text/x-python",
   "name": "python",
   "nbconvert_exporter": "python",
   "pygments_lexer": "ipython3",
   "version": "3.6.2"
  },
  "toc": {
   "base_numbering": 1,
   "nav_menu": {},
   "number_sections": true,
   "sideBar": true,
   "skip_h1_title": false,
   "title_cell": "Table of Contents",
   "title_sidebar": "Contents",
   "toc_cell": false,
   "toc_position": {},
   "toc_section_display": true,
   "toc_window_display": false
  },
  "varInspector": {
   "cols": {
    "lenName": 16,
    "lenType": 16,
    "lenVar": 40
   },
   "kernels_config": {
    "python": {
     "delete_cmd_postfix": "",
     "delete_cmd_prefix": "del ",
     "library": "var_list.py",
     "varRefreshCmd": "print(var_dic_list())"
    },
    "r": {
     "delete_cmd_postfix": ") ",
     "delete_cmd_prefix": "rm(",
     "library": "var_list.r",
     "varRefreshCmd": "cat(var_dic_list()) "
    }
   },
   "types_to_exclude": [
    "module",
    "function",
    "builtin_function_or_method",
    "instance",
    "_Feature"
   ],
   "window_display": false
  }
 },
 "nbformat": 4,
 "nbformat_minor": 2
}
