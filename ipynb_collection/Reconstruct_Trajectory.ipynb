{
 "cells": [
  {
   "cell_type": "markdown",
   "metadata": {},
   "source": [
    "# Reconstruction of Trajectory\n",
    "\n",
    "by use of linear acceleration and angular velocity (IMU)\n",
    "\n",
    "Equations and systematic procedure are mainly taken from the work **3D Kinematics** by Thomas Haslwanter (MME script for 1st semester 3D Kinematics).\n"
   ]
  },
  {
   "cell_type": "code",
   "execution_count": 1,
   "metadata": {
    "ExecuteTime": {
     "end_time": "2018-11-19T08:49:57.435772Z",
     "start_time": "2018-11-19T08:49:55.697672Z"
    }
   },
   "outputs": [],
   "source": [
    "import skinematics as skin\n",
    "import numpy as np\n",
    "import matplotlib.pyplot as plt\n",
    "import matplotlib as mpl\n",
    "from mpl_toolkits.mplot3d import Axes3D\n",
    "from scipy.signal import savgol_filter\n",
    "import functionsMasterProjectMeinhart as fmpm"
   ]
  },
  {
   "cell_type": "code",
   "execution_count": 3,
   "metadata": {
    "ExecuteTime": {
     "end_time": "2018-11-18T22:54:24.098135Z",
     "start_time": "2018-11-18T22:54:24.062133Z"
    }
   },
   "outputs": [
    {
     "name": "stdout",
     "output_type": "stream",
     "text": [
      "Using matplotlib backend: TkAgg\n"
     ]
    }
   ],
   "source": [
    "#%matplotlib inline\n",
    "%matplotlib auto"
   ]
  },
  {
   "cell_type": "markdown",
   "metadata": {},
   "source": [
    "**Some general definitons:**"
   ]
  },
  {
   "cell_type": "code",
   "execution_count": 2,
   "metadata": {
    "ExecuteTime": {
     "end_time": "2018-11-19T08:50:02.595067Z",
     "start_time": "2018-11-19T08:50:02.567065Z"
    }
   },
   "outputs": [],
   "source": [
    "sampling_rate = 256 # [Hz] sampling rate of IMU\n",
    "delta_t = 1/sampling_rate # [s]\n",
    "\n",
    "\n",
    "pos_pre = np.array([0,0,0]) # [m] initial value\n",
    "vel_pre = np.array([0,0,0]) # [m/s] initial value\n",
    "q_vec_pre = np.array([0,0,0]) # initial or previous quaternion (vector part)\n",
    "\n",
    "\n",
    "# arbitrary values for testing:\n",
    "angular_vel = np.array([0,0,90]) * np.pi/180 # [rad/s]\n",
    "acc_obj_measured = np.array([0.1, 0.3, 1]) * 9.81 # g --> [m/s^2]\n",
    "\n",
    "acc_space_gravity = np.array([0, 0, 1]) * 9.81 # initial measurement [m/s^2]\n"
   ]
  },
  {
   "cell_type": "markdown",
   "metadata": {},
   "source": [
    "## Orientation in Space\n",
    "\n",
    "First we have to find the new orientation of the object with respect to space:\n",
    "\n",
    "$\\textbf{R}_{object}^{space} = \\textbf{R}_{object, previous}^{space} \\cdot \\Delta \\textbf{R}^{object}$\n",
    "\n",
    "This is easier to do by means of quaternions, because we get the angular velocity $\\vec{\\omega}^{object}$ for each step directly from the sensor:\n",
    "\n",
    "$q_{new}^{space} = q_{previous}^{space} \\circ \\Delta q^{object}$\n",
    "\n",
    "$\\Delta \\vec{q}^{object} = \\vec{n}(t) \\: sin\\left(\\frac{\\Delta\\phi}{2}\\right) = \\frac{\\vec{\\omega}^{object}}{|\\vec{\\omega}^{object}|} \\: sin\\left(\\frac{|\\vec{\\omega}^{object}| \\Delta t}{2}\\right)$\n",
    "\n",
    "Let's use the library for scientific data analysis $\\textbf{skinematics} \\rightarrow$ http://work.thaslwanter.at/skinematics/html/"
   ]
  },
  {
   "cell_type": "code",
   "execution_count": 6,
   "metadata": {
    "ExecuteTime": {
     "end_time": "2018-11-18T22:54:28.782403Z",
     "start_time": "2018-11-18T22:54:28.764402Z"
    }
   },
   "outputs": [],
   "source": [
    "angular_vel_abs = np.linalg.norm(angular_vel) # absolute value of current angular velocity\n",
    "\n",
    "# avoid division by zero (or value close to zero)\n",
    "if angular_vel_abs < 0.00001 and angular_vel_abs > -0.00001:\n",
    "    q_vec_new = q_vec_pre\n",
    "\n",
    "else:\n",
    "    delta_q_vec = angular_vel/angular_vel_abs * np.sin(angular_vel_abs*delta_t/2)\n",
    "    q_vec_new = skin.quat.q_mult(q_vec_pre, delta_q_vec)"
   ]
  },
  {
   "cell_type": "markdown",
   "metadata": {},
   "source": [
    "Now we know the current orientation by means of the quaternion $q^{space}_{new}$, consequently we can calculate the corresponding rotation matrix $\\textbf{R}^{space}_{object}$.\n",
    "\n",
    "That is exactly what we wanted to achieve at this step. The calculation itself is a little bit tricky, so let's again use a $skinemtaics$ function."
   ]
  },
  {
   "cell_type": "code",
   "execution_count": 7,
   "metadata": {
    "ExecuteTime": {
     "end_time": "2018-11-18T22:54:30.333492Z",
     "start_time": "2018-11-18T22:54:30.307491Z"
    }
   },
   "outputs": [
    {
     "data": {
      "text/plain": [
       "array([[ 0.99998118, -0.00613588,  0.        ],\n",
       "       [ 0.00613588,  0.99998118,  0.        ],\n",
       "       [ 0.        ,  0.        ,  1.        ]])"
      ]
     },
     "execution_count": 7,
     "metadata": {},
     "output_type": "execute_result"
    }
   ],
   "source": [
    "R_space_obj = skin.quat.convert(q_vec_new, to='rotmat')\n",
    "R_space_obj"
   ]
  },
  {
   "cell_type": "markdown",
   "metadata": {
    "ExecuteTime": {
     "end_time": "2018-11-13T10:59:43.990031Z",
     "start_time": "2018-11-13T10:59:43.973030Z"
    },
    "deletable": false,
    "editable": false
   },
   "source": [
    "## Position in Space\n",
    "\n",
    "Let's first define the space (reference frame) by the initial (starting) position.\n",
    "\n",
    "As a next step the following formula can be used to calculate the object's linear acceleration for movement in the defined space:\n",
    "\n",
    "$\\vec{acc}^{space}_{movement} = \\textbf{R}_{object}^{space} \\cdot \\vec{acc}^{object}_{measurement} - \\vec{acc}^{space}_{gravity}$\n",
    "\n",
    "As can be seen, now the previously calculated rotation matrix $\\textbf{R}_{object}^{space}$ is used.\n",
    "\n",
    "Furthermore, it can be seen that the formula above already eliminates the influence of gravity. But so far, the exact orientation of the gravity vector is not known in the defined space.\n",
    "\n",
    "*The question is: how to get the orientation of gravity in the defined space?*\n",
    "\n",
    "I think we have to make an assumption here: Linear velocity is zero in the beginning, the sensor does not move.\n",
    "\n",
    "$\\vec{pos}^{space}_{start} = \\begin{pmatrix} 0 \\\\ 0 \\\\ 0 \\end{pmatrix}m$\n",
    "\n",
    "When eliminating the influence of gravity, the position immediately after performing an exercise should be quite similar to the starting position. Hence, by deliberately keeping the influence of gravity at calculating the trajectory we should end up somewhere just above the starting position. Consequently, it should be possible first to calculate the position without eliminating the influence of gravity so that we can look at the resulting position, which then gives us the direction of gravity in our defined space. Moreover, we can also quantitative determine the influence of gravity, because we know the distance traveled as well as the time.\n",
    "\n",
    "$\\vec{acc}^{space}_{movement} = \\textbf{R}_{object}^{space} \\cdot \\vec{acc}^{object}_{measurement}$\n"
   ]
  },
  {
   "cell_type": "code",
   "execution_count": 8,
   "metadata": {
    "ExecuteTime": {
     "end_time": "2018-11-18T22:54:32.241601Z",
     "start_time": "2018-11-18T22:54:32.218600Z"
    }
   },
   "outputs": [
    {
     "data": {
      "text/plain": [
       "array([0.96292362, 2.9489639 , 9.81      ])"
      ]
     },
     "execution_count": 8,
     "metadata": {},
     "output_type": "execute_result"
    }
   ],
   "source": [
    "acc_space_movement = np.dot(R_space_obj, acc_obj_measured)\n",
    "acc_space_movement "
   ]
  },
  {
   "cell_type": "markdown",
   "metadata": {},
   "source": [
    "In order to calculate now the new position and velocity in the defined space the following equations can be used:\n",
    "\n",
    "$\\vec{vel}^{space}_{new} = \\vec{vel}^{space}_{pre} + \\vec{acc}^{space}_{movement}*\\Delta t$\n",
    "\n",
    "$\\vec{pos}^{space}_{new} = \\vec{pos}^{space}_{pre} + \\vec{vel}^{space}_{pre}*\\Delta t + \\frac{\\vec{acc}^{space}_{movement}}{2}*\\Delta t^2$"
   ]
  },
  {
   "cell_type": "code",
   "execution_count": 9,
   "metadata": {
    "ExecuteTime": {
     "end_time": "2018-11-18T22:54:33.883695Z",
     "start_time": "2018-11-18T22:54:33.862694Z"
    }
   },
   "outputs": [
    {
     "name": "stdout",
     "output_type": "stream",
     "text": [
      "Velocity:  [0.00376142 0.01151939 0.03832031]\n",
      "Position:  [7.34652423e-06 2.24988091e-05 7.48443604e-05]\n"
     ]
    }
   ],
   "source": [
    "vel_new = vel_pre + acc_space_movement*delta_t\n",
    "print(\"Velocity: \", vel_new)\n",
    "\n",
    "pos_new = pos_pre +  vel_pre*delta_t + 0.5*acc_space_movement*delta_t**2\n",
    "print(\"Position: \", pos_new)"
   ]
  },
  {
   "cell_type": "markdown",
   "metadata": {},
   "source": [
    "Now we are done with updating orientation and position for this step, thus we can fetch the next values from the IMU and restart again from 1.1."
   ]
  },
  {
   "cell_type": "markdown",
   "metadata": {},
   "source": [
    "## Using an Upright Space\n",
    "\n",
    "Using an upright space shall mean that gravity points in z-direction $\\rightarrow$ $\\vec{acc}^{upright}_{gravity} = \\begin{pmatrix} 0 \\\\ 0 \\\\ 9.81 \\end{pmatrix}\\frac{m}{s^2}$\n",
    "\n",
    "As described before we get the gravity vector in the previously defined space from the final position and the duration of an exercise.\n",
    "\n",
    "$$\\vec{acc}^{space}_{gravity} =  \\frac{2}{(t_{stop}-t_{start})^2} \\cdot \\vec{pos}^{space}_{final}$$\n",
    "\n",
    "If we now want to find the matrix $\\textbf{R}^{upright}_{space}$, which rotates points from the initial space into an upright space, we can proceed as follows:\n",
    "\n",
    "$\\vec{acc}^{space}_{gravity,norm} = \\frac{1}{|\\vec{acc}^{space}_{gravity}|} \\cdot \\vec{acc}^{space}_{gravity}$\n",
    "\n",
    "$\\vec{v} = \\vec{acc}^{space}_{gravity,norm} \\times \\begin{pmatrix} 0 \\\\ 0 \\\\ 1 \\end{pmatrix}$\n",
    "\n",
    "$s = |\\vec{v}| \\quad$ ... sine of angle\n",
    "\n",
    "$c = \\vec{acc}^{space}_{gravity,norm} \\cdot \\begin{pmatrix} 0 \\\\ 0 \\\\ 1 \\end{pmatrix} \\quad$ ... cosine of angle\n",
    "\n",
    "$[v]_{\\times} \\quad$ ... skew-symmetric cross-product matrix of $\\vec{v}$\n",
    "\n",
    "$[v]_{\\times} = \\begin{bmatrix} 0 & -v_3 & v_2\\\\ v_3 & 0 & -v_1 \\\\ -v_2 & v_1 & 0 \\end{bmatrix}$\n",
    "\n",
    "$\\textbf{R}^{upright}_{space} = \\textbf{I} + [v]_{\\times} + [v]_{\\times}^2 \\frac{1-c}{s^2}$\n",
    "\n",
    "https://math.stackexchange.com/questions/180418/calculate-rotation-matrix-to-align-vector-a-to-vector-b-in-3d"
   ]
  },
  {
   "cell_type": "code",
   "execution_count": null,
   "metadata": {
    "ExecuteTime": {
     "end_time": "2018-11-18T22:20:13.619855Z",
     "start_time": "2018-11-18T22:20:13.051822Z"
    }
   },
   "outputs": [],
   "source": [
    "# CODE NOT EXECUTABLE --> JUST A TEMPLATE FOR A FUNCTION (see below)\n",
    "\n",
    "# bring velocity and position in an upright frame:\n",
    "    \n",
    "acc_gravity = np.array(pos_init_space[-1]) *2 / (delta_t*num_steps)**2\n",
    "\n",
    "acc_gravity_abs = np.linalg.norm(acc_gravity)\n",
    "acc_gravity_norm = np.array(acc_gravity) / acc_gravity_abs # normalize\n",
    "\n",
    "vec_upright = np.array([0,0,1])\n",
    "\n",
    "v = np.cross(acc_gravity_norm, vec_upright)\n",
    "s = np.linalg.norm(v) # sine of angle\n",
    "c = np.dot(acc_gravity_norm, vec_upright) # cosine of angle\n",
    "\n",
    "# skew-symmetric cross-product matrix of v\n",
    "Vx = np.array([[ 0,   -v[2], v[1] ],\n",
    "               [ v[2], 0 ,  -v[0] ],\n",
    "               [-v[1], v[0], 0    ]])\n",
    "\n",
    "R_upright_init = np.identity(3) + Vx + np.dot(Vx,Vx) * (1-c)/s**2\n",
    "\n",
    "# rotate velocity and position profile into upright frame\n",
    "vel_upright = np.array([np.dot(R_upright_init, vel_init_space[ii]) for ii in range(num_steps+1)])\n",
    "pos_upright = np.array([np.dot(R_upright_init, pos_init_space[ii]) for ii in range(num_steps+1)])\n"
   ]
  },
  {
   "cell_type": "markdown",
   "metadata": {
    "ExecuteTime": {
     "end_time": "2018-11-18T19:02:19.552003Z",
     "start_time": "2018-11-18T19:02:19.548003Z"
    }
   },
   "source": [
    "## Eliminating Influence of Gravity\n",
    "\n",
    "Now we can simply eliminate the influence of gravity on the velocity and position profile."
   ]
  },
  {
   "cell_type": "code",
   "execution_count": null,
   "metadata": {
    "ExecuteTime": {
     "end_time": "2018-11-18T22:20:13.621855Z",
     "start_time": "2018-11-18T22:19:57.791Z"
    }
   },
   "outputs": [],
   "source": [
    "# CODE NOT EXECUTABLE --> JUST A TEMPLATE FOR A FUNCTION (see below)\n",
    "\n",
    "# eliminate influence of gravity:\n",
    "for ii in np.arange(num_steps+1):\n",
    "    vel_upright[ii] = vel_upright[ii] - np.array([0,0,acc_gravity_abs])*(delta_t*ii)\n",
    "    pos_upright[ii] = pos_upright[ii] - 0.5*np.array([0,0,acc_gravity_abs])*(delta_t*ii)**2\n"
   ]
  },
  {
   "cell_type": "markdown",
   "metadata": {},
   "source": [
    "## Function to calculate Trajectory\n",
    "\n",
    "It would be nice to have a function, which automatically calculates orientation and trajectory for a whole set of linear acceleration and angular velocity data."
   ]
  },
  {
   "cell_type": "code",
   "execution_count": 3,
   "metadata": {
    "ExecuteTime": {
     "end_time": "2018-11-19T08:50:10.250505Z",
     "start_time": "2018-11-19T08:50:09.922486Z"
    }
   },
   "outputs": [],
   "source": [
    "def calc_trajectory(acc_lin_g, vel_ang_degps, sampling_rate=256):\n",
    "    '''\n",
    "    This function calculates the trajectory in an upright frame (z-axis aligned with gravity)\n",
    "    by means of a set of linear acceleration [g] and angular velocity [deg/s] data.\n",
    "    The sampling rate has to be given in Hz.\n",
    "    \n",
    "    Inputs\n",
    "    ------\n",
    "    acc_lin_g: linear acceleration [g]\n",
    "    \n",
    "    vel_ang_degps: angular velocity [deg/s]\n",
    "    \n",
    "    sampling_rate: sampling rate of the measured signals in Hz\n",
    "    \n",
    "    \n",
    "    Returns\n",
    "    -------\n",
    "    Dictionary with upright position, \n",
    "                    velocity,\n",
    "                    orientation (vector-part of quaternion) and\n",
    "                    rotation matrix from initial orientation to upright space\n",
    "    '''\n",
    "    \n",
    "    \n",
    "    g_mps2 = 9.80665 # gravity [m/s^2]\n",
    "    \n",
    "    acc_lin = np.array(acc_lin_g) * g_mps2 # linear acceleration in m/s^2\n",
    "    \n",
    "    vel_ang = np.array(vel_ang_degps) * np.pi/180 # angular velocity in rad/s\n",
    "    \n",
    "    delta_t = 1/sampling_rate\n",
    "    \n",
    "    \n",
    "    # check number of data points\n",
    "    if acc_lin.ndim is 1 or vel_ang.ndim is 1:\n",
    "        num_steps = 1\n",
    "    elif np.shape(acc_lin)[0] <= np.shape(vel_ang)[0]:\n",
    "        num_steps = np.shape(acc_lin)[0]\n",
    "    else:\n",
    "        num_steps = np.shape(vel_ang)[0]\n",
    "    \n",
    "    # reserve memory for position and orientation vectors\n",
    "    #    --> one step more, because of initial condition\n",
    "    pos_init_space = np.zeros((num_steps+1, 3))\n",
    "    vel_init_space = np.zeros((num_steps+1, 3))\n",
    "    q_vec = np.zeros((num_steps+1, 3)) # vector part of quaternion\n",
    "         \n",
    "    \n",
    "    for ii in range(num_steps):\n",
    "        \n",
    "        omega_abs = np.linalg.norm(vel_ang[ii])\n",
    "        \n",
    "        # avoid division by zero (or value close to zero)\n",
    "        if omega_abs < 0.00001 and omega_abs > -0.00001:\n",
    "            q_vec[ii+1] = q_vec[ii]\n",
    "        \n",
    "        else:\n",
    "            # calculate new quaternion (new orientation)\n",
    "            delta_q_vec = vel_ang[ii]/omega_abs * np.sin(omega_abs*delta_t/2)\n",
    "            q_vec[ii+1] = skin.quat.q_mult(q_vec[ii], delta_q_vec)\n",
    "        \n",
    "        # get corresponding rotation matrix for new orientation\n",
    "        R_init_space_obj = skin.quat.convert(q_vec[ii+1] , to='rotmat')\n",
    "        \n",
    "        # get current acceleration in initial space\n",
    "        acc_init_space = np.dot(R_init_space_obj, acc_lin[ii])\n",
    "        \n",
    "        # calculate linear velocity for next point in initial space\n",
    "        vel_init_space[ii+1] = vel_init_space[ii] + acc_init_space*delta_t\n",
    "        \n",
    "        # calculate position for next point in initial space\n",
    "        pos_init_space[ii+1] = pos_init_space[ii] +  vel_init_space[ii]*delta_t + 0.5*acc_init_space*delta_t**2\n",
    "    \n",
    "    \n",
    "    # calculate gravity by means of final position and duration\n",
    "    acc_gravity = np.array(pos_init_space[-1]) *2 / (delta_t*num_steps)**2\n",
    "    \n",
    "    acc_gravity_abs = np.linalg.norm(acc_gravity)\n",
    "    acc_gravity_norm = np.array(acc_gravity) / acc_gravity_abs # normalize\n",
    "    \n",
    "    vec_upright = np.array([0,0,1]) # upright vector\n",
    "\n",
    "    v = np.cross(acc_gravity_norm, vec_upright)\n",
    "    s = np.linalg.norm(v) # sine of angle\n",
    "    c = np.dot(acc_gravity_norm, vec_upright) # cosine of angle\n",
    "\n",
    "    # skew-symmetric cross-product matrix of v\n",
    "    Vx = np.array([[ 0,   -v[2], v[1] ],\n",
    "                   [ v[2], 0 ,  -v[0] ],\n",
    "                   [-v[1], v[0], 0    ]])\n",
    "\n",
    "    # calculate matrix for rotation from initial space to upright space\n",
    "    R_upright_init = np.identity(3) + Vx + np.dot(Vx,Vx) * (1-c)/s**2\n",
    "    \n",
    "    # rotate velocity and position profile into upright frame\n",
    "    vel_upright = np.array([np.dot(R_upright_init, vel_init_space[ii]) for ii in range(num_steps+1)])\n",
    "    pos_upright = np.array([np.dot(R_upright_init, pos_init_space[ii]) for ii in range(num_steps+1)])\n",
    "    \n",
    "    \n",
    "    # eliminate influence of gravity:  \n",
    "    for ii in np.arange(num_steps+1):\n",
    "        vel_upright[ii] = vel_upright[ii] - np.array([0,0,acc_gravity_abs])*(delta_t*ii)\n",
    "        pos_upright[ii] = pos_upright[ii] - 0.5*np.array([0,0,acc_gravity_abs])*(delta_t*ii)**2\n",
    "    \n",
    "    # create dictionary for return\n",
    "    data_dict = {}\n",
    "    data_dict['pos'] = pos_upright\n",
    "    data_dict['vel'] = vel_upright\n",
    "    data_dict['q_vec'] = q_vec\n",
    "    data_dict['R_upright_init'] = R_upright_init\n",
    "    \n",
    "    return data_dict"
   ]
  },
  {
   "cell_type": "markdown",
   "metadata": {},
   "source": [
    "## Try it"
   ]
  },
  {
   "cell_type": "code",
   "execution_count": 4,
   "metadata": {
    "ExecuteTime": {
     "end_time": "2018-11-19T08:50:17.393913Z",
     "start_time": "2018-11-19T08:50:15.796822Z"
    }
   },
   "outputs": [],
   "source": [
    "start_min = 2\n",
    "start_sec = 20 #22.1\n",
    "\n",
    "stop_min = 2\n",
    "stop_sec = 23.8 #37.1\n",
    "\n",
    "start_time = start_min*60 + start_sec # [s]\n",
    "stop_time = stop_min*60 + stop_sec # [s]\n",
    "\n",
    "sensor_data = fmpm.get_sensor_data(in_file='Subject_01/subject01.csv',\n",
    "                                   start_time=start_time,\n",
    "                                   stop_time=stop_time)"
   ]
  },
  {
   "cell_type": "code",
   "execution_count": 5,
   "metadata": {
    "ExecuteTime": {
     "end_time": "2018-11-19T08:50:19.239019Z",
     "start_time": "2018-11-19T08:50:18.729990Z"
    }
   },
   "outputs": [
    {
     "data": {
      "image/png": "[encoded data removed]",
      "text/plain": [
       "<matplotlib.figure.Figure at 0x134d52b0>"
      ]
     },
     "metadata": {},
     "output_type": "display_data"
    }
   ],
   "source": [
    "fmpm.plot_signal(sensor_data['Acc'],sensor_data['time'])"
   ]
  },
  {
   "cell_type": "code",
   "execution_count": 6,
   "metadata": {
    "ExecuteTime": {
     "end_time": "2018-11-19T08:50:24.555323Z",
     "start_time": "2018-11-19T08:50:23.401257Z"
    },
    "scrolled": true
   },
   "outputs": [
    {
     "data": {
      "image/png": "[encoded data removed]",
      "text/plain": [
       "<matplotlib.figure.Figure at 0x134d5080>"
      ]
     },
     "metadata": {},
     "output_type": "display_data"
    },
    {
     "ename": "KeyError",
     "evalue": "<matplotlib.axes._subplots.AxesSubplot object at 0x0000000015A218D0>",
     "output_type": "error",
     "traceback": [
      "\u001b[1;31m---------------------------------------------------------------------------\u001b[0m",
      "\u001b[1;31mKeyError\u001b[0m                                  Traceback (most recent call last)",
      "\u001b[1;32m<ipython-input-6-5f939818d508>\u001b[0m in \u001b[0;36m<module>\u001b[1;34m()\u001b[0m\n\u001b[0;32m     16\u001b[0m \u001b[0mplt\u001b[0m\u001b[1;33m.\u001b[0m\u001b[0mgca\u001b[0m\u001b[1;33m(\u001b[0m\u001b[1;33m)\u001b[0m\u001b[1;33m.\u001b[0m\u001b[0mset_xlabel\u001b[0m\u001b[1;33m(\u001b[0m\u001b[1;34m''\u001b[0m\u001b[1;33m)\u001b[0m\u001b[1;33m\u001b[0m\u001b[0m\n\u001b[0;32m     17\u001b[0m \u001b[1;33m\u001b[0m\u001b[0m\n\u001b[1;32m---> 18\u001b[1;33m \u001b[0mplt\u001b[0m\u001b[1;33m.\u001b[0m\u001b[0maxes\u001b[0m\u001b[1;33m(\u001b[0m\u001b[0maxs\u001b[0m\u001b[1;33m[\u001b[0m\u001b[1;36m1\u001b[0m\u001b[1;33m]\u001b[0m\u001b[1;33m)\u001b[0m\u001b[1;33m\u001b[0m\u001b[0m\n\u001b[0m\u001b[0;32m     19\u001b[0m fmpm.plot_signal(gyr_filt,sensor_data['time'],\n\u001b[0;32m     20\u001b[0m             \u001b[0mTitle\u001b[0m\u001b[1;33m=\u001b[0m\u001b[1;34m'Angular Velocity Profile (filtered)'\u001b[0m\u001b[1;33m,\u001b[0m\u001b[1;33m\u001b[0m\u001b[0m\n",
      "\u001b[1;32mE:\\Programme\\WinPython-64bit-3.6.2.0Qt5\\python-3.6.2.amd64\\lib\\site-packages\\matplotlib\\pyplot.py\u001b[0m in \u001b[0;36maxes\u001b[1;34m(*args, **kwargs)\u001b[0m\n\u001b[0;32m    893\u001b[0m \u001b[1;33m\u001b[0m\u001b[0m\n\u001b[0;32m    894\u001b[0m     \u001b[1;32mif\u001b[0m \u001b[0misinstance\u001b[0m\u001b[1;33m(\u001b[0m\u001b[0marg\u001b[0m\u001b[1;33m,\u001b[0m \u001b[0mAxes\u001b[0m\u001b[1;33m)\u001b[0m\u001b[1;33m:\u001b[0m\u001b[1;33m\u001b[0m\u001b[0m\n\u001b[1;32m--> 895\u001b[1;33m         \u001b[0ma\u001b[0m \u001b[1;33m=\u001b[0m \u001b[0mgcf\u001b[0m\u001b[1;33m(\u001b[0m\u001b[1;33m)\u001b[0m\u001b[1;33m.\u001b[0m\u001b[0msca\u001b[0m\u001b[1;33m(\u001b[0m\u001b[0marg\u001b[0m\u001b[1;33m)\u001b[0m\u001b[1;33m\u001b[0m\u001b[0m\n\u001b[0m\u001b[0;32m    896\u001b[0m     \u001b[1;32melse\u001b[0m\u001b[1;33m:\u001b[0m\u001b[1;33m\u001b[0m\u001b[0m\n\u001b[0;32m    897\u001b[0m         \u001b[0mrect\u001b[0m \u001b[1;33m=\u001b[0m \u001b[0marg\u001b[0m\u001b[1;33m\u001b[0m\u001b[0m\n",
      "\u001b[1;32mE:\\Programme\\WinPython-64bit-3.6.2.0Qt5\\python-3.6.2.amd64\\lib\\site-packages\\matplotlib\\figure.py\u001b[0m in \u001b[0;36msca\u001b[1;34m(self, a)\u001b[0m\n\u001b[0;32m   1371\u001b[0m     \u001b[1;32mdef\u001b[0m \u001b[0msca\u001b[0m\u001b[1;33m(\u001b[0m\u001b[0mself\u001b[0m\u001b[1;33m,\u001b[0m \u001b[0ma\u001b[0m\u001b[1;33m)\u001b[0m\u001b[1;33m:\u001b[0m\u001b[1;33m\u001b[0m\u001b[0m\n\u001b[0;32m   1372\u001b[0m         \u001b[1;34m'Set the current axes to be a and return a'\u001b[0m\u001b[1;33m\u001b[0m\u001b[0m\n\u001b[1;32m-> 1373\u001b[1;33m         \u001b[0mself\u001b[0m\u001b[1;33m.\u001b[0m\u001b[0m_axstack\u001b[0m\u001b[1;33m.\u001b[0m\u001b[0mbubble\u001b[0m\u001b[1;33m(\u001b[0m\u001b[0ma\u001b[0m\u001b[1;33m)\u001b[0m\u001b[1;33m\u001b[0m\u001b[0m\n\u001b[0m\u001b[0;32m   1374\u001b[0m         \u001b[1;32mfor\u001b[0m \u001b[0mfunc\u001b[0m \u001b[1;32min\u001b[0m \u001b[0mself\u001b[0m\u001b[1;33m.\u001b[0m\u001b[0m_axobservers\u001b[0m\u001b[1;33m:\u001b[0m\u001b[1;33m\u001b[0m\u001b[0m\n\u001b[0;32m   1375\u001b[0m             \u001b[0mfunc\u001b[0m\u001b[1;33m(\u001b[0m\u001b[0mself\u001b[0m\u001b[1;33m)\u001b[0m\u001b[1;33m\u001b[0m\u001b[0m\n",
      "\u001b[1;32mE:\\Programme\\WinPython-64bit-3.6.2.0Qt5\\python-3.6.2.amd64\\lib\\site-packages\\matplotlib\\figure.py\u001b[0m in \u001b[0;36mbubble\u001b[1;34m(self, a)\u001b[0m\n\u001b[0;32m    107\u001b[0m         \u001b[0mstack\u001b[0m\u001b[1;33m,\u001b[0m \u001b[0mto\u001b[0m \u001b[0mthe\u001b[0m \u001b[0mtop\u001b[0m\u001b[1;33m.\u001b[0m\u001b[1;33m\u001b[0m\u001b[0m\n\u001b[0;32m    108\u001b[0m         \"\"\"\n\u001b[1;32m--> 109\u001b[1;33m         \u001b[1;32mreturn\u001b[0m \u001b[0mStack\u001b[0m\u001b[1;33m.\u001b[0m\u001b[0mbubble\u001b[0m\u001b[1;33m(\u001b[0m\u001b[0mself\u001b[0m\u001b[1;33m,\u001b[0m \u001b[0mself\u001b[0m\u001b[1;33m.\u001b[0m\u001b[0m_entry_from_axes\u001b[0m\u001b[1;33m(\u001b[0m\u001b[0ma\u001b[0m\u001b[1;33m)\u001b[0m\u001b[1;33m)\u001b[0m\u001b[1;33m\u001b[0m\u001b[0m\n\u001b[0m\u001b[0;32m    110\u001b[0m \u001b[1;33m\u001b[0m\u001b[0m\n\u001b[0;32m    111\u001b[0m     \u001b[1;32mdef\u001b[0m \u001b[0madd\u001b[0m\u001b[1;33m(\u001b[0m\u001b[0mself\u001b[0m\u001b[1;33m,\u001b[0m \u001b[0mkey\u001b[0m\u001b[1;33m,\u001b[0m \u001b[0ma\u001b[0m\u001b[1;33m)\u001b[0m\u001b[1;33m:\u001b[0m\u001b[1;33m\u001b[0m\u001b[0m\n",
      "\u001b[1;32mE:\\Programme\\WinPython-64bit-3.6.2.0Qt5\\python-3.6.2.amd64\\lib\\site-packages\\matplotlib\\figure.py\u001b[0m in \u001b[0;36m_entry_from_axes\u001b[1;34m(self, e)\u001b[0m\n\u001b[0;32m     95\u001b[0m \u001b[1;33m\u001b[0m\u001b[0m\n\u001b[0;32m     96\u001b[0m     \u001b[1;32mdef\u001b[0m \u001b[0m_entry_from_axes\u001b[0m\u001b[1;33m(\u001b[0m\u001b[0mself\u001b[0m\u001b[1;33m,\u001b[0m \u001b[0me\u001b[0m\u001b[1;33m)\u001b[0m\u001b[1;33m:\u001b[0m\u001b[1;33m\u001b[0m\u001b[0m\n\u001b[1;32m---> 97\u001b[1;33m         \u001b[0mind\u001b[0m\u001b[1;33m,\u001b[0m \u001b[0mk\u001b[0m \u001b[1;33m=\u001b[0m \u001b[0mdict\u001b[0m\u001b[1;33m(\u001b[0m\u001b[1;33m[\u001b[0m\u001b[1;33m(\u001b[0m\u001b[0ma\u001b[0m\u001b[1;33m,\u001b[0m \u001b[1;33m(\u001b[0m\u001b[0mind\u001b[0m\u001b[1;33m,\u001b[0m \u001b[0mk\u001b[0m\u001b[1;33m)\u001b[0m\u001b[1;33m)\u001b[0m \u001b[1;32mfor\u001b[0m \u001b[1;33m(\u001b[0m\u001b[0mk\u001b[0m\u001b[1;33m,\u001b[0m \u001b[1;33m(\u001b[0m\u001b[0mind\u001b[0m\u001b[1;33m,\u001b[0m \u001b[0ma\u001b[0m\u001b[1;33m)\u001b[0m\u001b[1;33m)\u001b[0m \u001b[1;32min\u001b[0m \u001b[0mself\u001b[0m\u001b[1;33m.\u001b[0m\u001b[0m_elements\u001b[0m\u001b[1;33m]\u001b[0m\u001b[1;33m)\u001b[0m\u001b[1;33m[\u001b[0m\u001b[0me\u001b[0m\u001b[1;33m]\u001b[0m\u001b[1;33m\u001b[0m\u001b[0m\n\u001b[0m\u001b[0;32m     98\u001b[0m         \u001b[1;32mreturn\u001b[0m \u001b[1;33m(\u001b[0m\u001b[0mk\u001b[0m\u001b[1;33m,\u001b[0m \u001b[1;33m(\u001b[0m\u001b[0mind\u001b[0m\u001b[1;33m,\u001b[0m \u001b[0me\u001b[0m\u001b[1;33m)\u001b[0m\u001b[1;33m)\u001b[0m\u001b[1;33m\u001b[0m\u001b[0m\n\u001b[0;32m     99\u001b[0m \u001b[1;33m\u001b[0m\u001b[0m\n",
      "\u001b[1;31mKeyError\u001b[0m: <matplotlib.axes._subplots.AxesSubplot object at 0x0000000015A218D0>"
     ]
    },
    {
     "data": {
      "image/png": "[encoded data removed]",
      "text/plain": [
       "<matplotlib.figure.Figure at 0x134d5b70>"
      ]
     },
     "metadata": {},
     "output_type": "display_data"
    }
   ],
   "source": [
    "# filtering with Savitzky-Golay filter and plot data\n",
    "\n",
    "window_length = 51\n",
    "polyorder = 3\n",
    "\n",
    "acc_filt = savgol_filter(sensor_data['Acc'],window_length, polyorder, axis=0)\n",
    "gyr_filt = savgol_filter(sensor_data['Gyr'],window_length, polyorder, axis=0)\n",
    "\n",
    "\n",
    "fig, axs = plt.subplots(2,1,figsize=(8,8))\n",
    "\n",
    "plt.axes(axs[0])\n",
    "fmpm.plot_signal(acc_filt,sensor_data['time'],\n",
    "            Title='Acceleration Profile (filtered)',\n",
    "            g_to_ms2=True)\n",
    "plt.gca().set_xlabel('')\n",
    "\n",
    "plt.axes(axs[1])\n",
    "fmpm.plot_signal(gyr_filt,sensor_data['time'],\n",
    "            Title='Angular Velocity Profile (filtered)',\n",
    "            xLabel=r'$time \\enspace [s]$',\n",
    "            yLabel=r'$vel \\enspace [\\frac{deg}{s}]$')\n",
    "plt.show()"
   ]
  },
  {
   "cell_type": "code",
   "execution_count": 20,
   "metadata": {
    "ExecuteTime": {
     "end_time": "2018-11-18T23:00:17.921373Z",
     "start_time": "2018-11-18T23:00:17.507349Z"
    }
   },
   "outputs": [],
   "source": [
    "traj_data = calc_trajectory(sensor_data['Acc'],\n",
    "                            sensor_data['Gyr'],\n",
    "                            sampling_rate=256)"
   ]
  },
  {
   "cell_type": "code",
   "execution_count": 23,
   "metadata": {
    "ExecuteTime": {
     "end_time": "2018-11-18T23:01:19.523896Z",
     "start_time": "2018-11-18T23:01:19.096872Z"
    }
   },
   "outputs": [],
   "source": [
    "traj_data_filt = calc_trajectory(acc_filt,\n",
    "                                 gyr_filt,\n",
    "                                 sampling_rate=sampling_rate)"
   ]
  },
  {
   "cell_type": "code",
   "execution_count": 28,
   "metadata": {
    "ExecuteTime": {
     "end_time": "2018-11-18T23:02:46.190853Z",
     "start_time": "2018-11-18T23:02:45.911838Z"
    }
   },
   "outputs": [],
   "source": [
    "fmpm.plot_trajectory(pos_data=traj_data_filt['pos'],\n",
    "                     scale_plot_section = 0.7,\n",
    "                     rotmat_upright_init=traj_data_filt['R_upright_init'],\n",
    "                     scale_arrow=0.2,\n",
    "                     fig_size=(8,8))"
   ]
  },
  {
   "cell_type": "code",
   "execution_count": null,
   "metadata": {},
   "outputs": [],
   "source": []
  }
 ],
 "metadata": {
  "kernelspec": {
   "display_name": "Python 3",
   "language": "python",
   "name": "python3"
  },
  "language_info": {
   "codemirror_mode": {
    "name": "ipython",
    "version": 3
   },
   "file_extension": ".py",
   "mimetype": "text/x-python",
   "name": "python",
   "nbconvert_exporter": "python",
   "pygments_lexer": "ipython3",
   "version": "3.6.2"
  },
  "toc": {
   "base_numbering": 1,
   "nav_menu": {},
   "number_sections": true,
   "sideBar": true,
   "skip_h1_title": false,
   "title_cell": "Table of Contents",
   "title_sidebar": "Contents",
   "toc_cell": false,
   "toc_position": {
    "height": "calc(100% - 180px)",
    "left": "10px",
    "top": "150px",
    "width": "307px"
   },
   "toc_section_display": true,
   "toc_window_display": true
  },
  "varInspector": {
   "cols": {
    "lenName": 16,
    "lenType": 16,
    "lenVar": 40
   },
   "kernels_config": {
    "python": {
     "delete_cmd_postfix": "",
     "delete_cmd_prefix": "del ",
     "library": "var_list.py",
     "varRefreshCmd": "print(var_dic_list())"
    },
    "r": {
     "delete_cmd_postfix": ") ",
     "delete_cmd_prefix": "rm(",
     "library": "var_list.r",
     "varRefreshCmd": "cat(var_dic_list()) "
    }
   },
   "types_to_exclude": [
    "module",
    "function",
    "builtin_function_or_method",
    "instance",
    "_Feature"
   ],
   "window_display": false
  }
 },
 "nbformat": 4,
 "nbformat_minor": 2
}
