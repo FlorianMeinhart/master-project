{
 "cells": [
  {
   "cell_type": "markdown",
   "metadata": {},
   "source": [
    "# Show Selected Data with bokeh"
   ]
  },
  {
   "cell_type": "code",
   "execution_count": 1,
   "metadata": {
    "ExecuteTime": {
     "end_time": "2018-11-29T13:16:28.498711Z",
     "start_time": "2018-11-29T13:16:26.679607Z"
    }
   },
   "outputs": [],
   "source": [
    "import functionsMasterProjectMeinhart as fmpm"
   ]
  },
  {
   "cell_type": "code",
   "execution_count": 2,
   "metadata": {
    "ExecuteTime": {
     "end_time": "2018-11-29T13:16:29.759783Z",
     "start_time": "2018-11-29T13:16:28.538713Z"
    }
   },
   "outputs": [
    {
     "data": {
      "text/html": [
       "\n",
       "    <div class=\"bk-root\">\n",
       "        <a href=\"http://bokeh.pydata.org\" target=\"_blank\" class=\"bk-logo bk-logo-small bk-logo-notebook\"></a>\n",
       "        <span id=\"cfe12dac-eefc-40cb-97c2-a9b8f320d67a\">Loading BokehJS ...</span>\n",
       "    </div>"
      ]
     },
     "metadata": {},
     "output_type": "display_data"
    },
    {
     "data": {
      "application/javascript": [
       "\n",
       "(function(global) {\n",
       "  function now() {\n",
       "    return new Date();\n",
       "  }\n",
       "\n",
       "  var force = true;\n",
       "\n",
       "  if (typeof (window._bokeh_onload_callbacks) === \"undefined\" || force === true) {\n",
       "    window._bokeh_onload_callbacks = [];\n",
       "    window._bokeh_is_loading = undefined;\n",
       "  }\n",
       "\n",
       "\n",
       "  \n",
       "  if (typeof (window._bokeh_timeout) === \"undefined\" || force === true) {\n",
       "    window._bokeh_timeout = Date.now() + 5000;\n",
       "    window._bokeh_failed_load = false;\n",
       "  }\n",
       "\n",
       "  var NB_LOAD_WARNING = {'data': {'text/html':\n",
       "     \"<div style='background-color: #fdd'>\\n\"+\n",
       "     \"<p>\\n\"+\n",
       "     \"BokehJS does not appear to have successfully loaded. If loading BokehJS from CDN, this \\n\"+\n",
       "     \"may be due to a slow or bad network connection. Possible fixes:\\n\"+\n",
       "     \"</p>\\n\"+\n",
       "     \"<ul>\\n\"+\n",
       "     \"<li>re-rerun `output_notebook()` to attempt to load from CDN again, or</li>\\n\"+\n",
       "     \"<li>use INLINE resources instead, as so:</li>\\n\"+\n",
       "     \"</ul>\\n\"+\n",
       "     \"<code>\\n\"+\n",
       "     \"from bokeh.resources import INLINE\\n\"+\n",
       "     \"output_notebook(resources=INLINE)\\n\"+\n",
       "     \"</code>\\n\"+\n",
       "     \"</div>\"}};\n",
       "\n",
       "  function display_loaded() {\n",
       "    if (window.Bokeh !== undefined) {\n",
       "      var el = document.getElementById(\"cfe12dac-eefc-40cb-97c2-a9b8f320d67a\");\n",
       "      el.textContent = \"BokehJS \" + Bokeh.version + \" successfully loaded.\";\n",
       "    } else if (Date.now() < window._bokeh_timeout) {\n",
       "      setTimeout(display_loaded, 100)\n",
       "    }\n",
       "  }\n",
       "\n",
       "  function run_callbacks() {\n",
       "    try {\n",
       "      window._bokeh_onload_callbacks.forEach(function(callback) { callback() });\n",
       "    }\n",
       "    finally {\n",
       "      delete window._bokeh_onload_callbacks\n",
       "    }\n",
       "    console.info(\"Bokeh: all callbacks have finished\");\n",
       "  }\n",
       "\n",
       "  function load_libs(js_urls, callback) {\n",
       "    window._bokeh_onload_callbacks.push(callback);\n",
       "    if (window._bokeh_is_loading > 0) {\n",
       "      console.log(\"Bokeh: BokehJS is being loaded, scheduling callback at\", now());\n",
       "      return null;\n",
       "    }\n",
       "    if (js_urls == null || js_urls.length === 0) {\n",
       "      run_callbacks();\n",
       "      return null;\n",
       "    }\n",
       "    console.log(\"Bokeh: BokehJS not loaded, scheduling load and callback at\", now());\n",
       "    window._bokeh_is_loading = js_urls.length;\n",
       "    for (var i = 0; i < js_urls.length; i++) {\n",
       "      var url = js_urls[i];\n",
       "      var s = document.createElement('script');\n",
       "      s.src = url;\n",
       "      s.async = false;\n",
       "      s.onreadystatechange = s.onload = function() {\n",
       "        window._bokeh_is_loading--;\n",
       "        if (window._bokeh_is_loading === 0) {\n",
       "          console.log(\"Bokeh: all BokehJS libraries loaded\");\n",
       "          run_callbacks()\n",
       "        }\n",
       "      };\n",
       "      s.onerror = function() {\n",
       "        console.warn(\"failed to load library \" + url);\n",
       "      };\n",
       "      console.log(\"Bokeh: injecting script tag for BokehJS library: \", url);\n",
       "      document.getElementsByTagName(\"head\")[0].appendChild(s);\n",
       "    }\n",
       "  };var element = document.getElementById(\"cfe12dac-eefc-40cb-97c2-a9b8f320d67a\");\n",
       "  if (element == null) {\n",
       "    console.log(\"Bokeh: ERROR: autoload.js configured with elementid 'cfe12dac-eefc-40cb-97c2-a9b8f320d67a' but no matching script tag was found. \")\n",
       "    return false;\n",
       "  }\n",
       "\n",
       "  var js_urls = [\"https://cdn.pydata.org/bokeh/release/bokeh-0.12.6.min.js\", \"https://cdn.pydata.org/bokeh/release/bokeh-widgets-0.12.6.min.js\"];\n",
       "\n",
       "  var inline_js = [\n",
       "    function(Bokeh) {\n",
       "      Bokeh.set_log_level(\"info\");\n",
       "    },\n",
       "    \n",
       "    function(Bokeh) {\n",
       "      \n",
       "    },\n",
       "    \n",
       "    function(Bokeh) {\n",
       "      \n",
       "      document.getElementById(\"cfe12dac-eefc-40cb-97c2-a9b8f320d67a\").textContent = \"BokehJS is loading...\";\n",
       "    },\n",
       "    function(Bokeh) {\n",
       "      console.log(\"Bokeh: injecting CSS: https://cdn.pydata.org/bokeh/release/bokeh-0.12.6.min.css\");\n",
       "      Bokeh.embed.inject_css(\"https://cdn.pydata.org/bokeh/release/bokeh-0.12.6.min.css\");\n",
       "      console.log(\"Bokeh: injecting CSS: https://cdn.pydata.org/bokeh/release/bokeh-widgets-0.12.6.min.css\");\n",
       "      Bokeh.embed.inject_css(\"https://cdn.pydata.org/bokeh/release/bokeh-widgets-0.12.6.min.css\");\n",
       "    }\n",
       "  ];\n",
       "\n",
       "  function run_inline_js() {\n",
       "    \n",
       "    if ((window.Bokeh !== undefined) || (force === true)) {\n",
       "      for (var i = 0; i < inline_js.length; i++) {\n",
       "        inline_js[i](window.Bokeh);\n",
       "      }if (force === true) {\n",
       "        display_loaded();\n",
       "      }} else if (Date.now() < window._bokeh_timeout) {\n",
       "      setTimeout(run_inline_js, 100);\n",
       "    } else if (!window._bokeh_failed_load) {\n",
       "      console.log(\"Bokeh: BokehJS failed to load within specified timeout.\");\n",
       "      window._bokeh_failed_load = true;\n",
       "    } else if (force !== true) {\n",
       "      var cell = $(document.getElementById(\"cfe12dac-eefc-40cb-97c2-a9b8f320d67a\")).parents('.cell').data().cell;\n",
       "      cell.output_area.append_execute_result(NB_LOAD_WARNING)\n",
       "    }\n",
       "\n",
       "  }\n",
       "\n",
       "  if (window._bokeh_is_loading === 0) {\n",
       "    console.log(\"Bokeh: BokehJS loaded, going straight to plotting\");\n",
       "    run_inline_js();\n",
       "  } else {\n",
       "    load_libs(js_urls, function() {\n",
       "      console.log(\"Bokeh: BokehJS plotting callback run at\", now());\n",
       "      run_inline_js();\n",
       "    });\n",
       "  }\n",
       "}(this));"
      ]
     },
     "metadata": {},
     "output_type": "display_data"
    }
   ],
   "source": [
    "from bokeh.io import show, output_notebook\n",
    "from bokeh.layouts import row, widgetbox\n",
    "from bokeh.models import Select, TextInput\n",
    "from bokeh.application.handlers import FunctionHandler\n",
    "from bokeh.application import Application\n",
    "\n",
    "from bokeh.models.widgets import Tabs, Panel, RadioGroup\n",
    "from bokeh.plotting import figure\n",
    "from bokeh.layouts import layout\n",
    "from bokeh.models import BoxSelectTool\n",
    "\n",
    "output_notebook()"
   ]
  },
  {
   "cell_type": "code",
   "execution_count": 3,
   "metadata": {
    "ExecuteTime": {
     "end_time": "2018-11-29T13:16:30.576830Z",
     "start_time": "2018-11-29T13:16:29.884790Z"
    }
   },
   "outputs": [],
   "source": [
    "# Create the Document Application\n",
    "def modify_doc(doc):\n",
    "    \n",
    "    subject_number=1,\n",
    "    exercise_abbreviation='RF',\n",
    "    number_repetitions=5,\n",
    "    sequence_number=1,\n",
    "    db_name='DataBase_Pysio.db',\n",
    "    csv_dir='E:\\Physio_Data_Split_Exercise_done',\n",
    "    sampling_rate=256,\n",
    "    cutoff=10, \n",
    "    order=6\n",
    "    \n",
    "    signals = ['Acc','Mag']\n",
    "    axis = ['x', 'y', 'z']\n",
    "    colors = ['blue', 'orange', 'green']\n",
    "    \n",
    "    \n",
    "    selected_data = fmpm.get_data_one_rep(subject_number=subject_number[0],\n",
    "                                          exercise_abbreviation=exercise_abbreviation[0],\n",
    "                                          number_repetitions=number_repetitions[0],\n",
    "                                          sequence_number=sequence_number[0],\n",
    "                                          db_name=db_name[0],\n",
    "                                          csv_dir=csv_dir[0],\n",
    "                                          sampling_rate=sampling_rate[0],\n",
    "                                          cutoff=cutoff[0], \n",
    "                                          order=order)\n",
    "    \n",
    "    # Create the main plot\n",
    "    def create_figure():\n",
    "        \n",
    "        p = figure(plot_height=400, title=\"Selected Data\")\n",
    "        \n",
    "        for ind, ax in zip([0,1,2], axis):\n",
    "            p.line(x=selected_data['time'], y=selected_data['Acc'][:,ind], line_color=colors[ind], line_width=1.2, legend=ax)\n",
    "\n",
    "        \n",
    "        #f1.line([1, 2, 3, 4, 5], [6, 7, 2, 4, 5], line_width=2)\n",
    "        #current_feature_name = feature_name.value\n",
    "        #p = Histogram(iris_df, current_feature_name, title=current_feature_name, color='Species', \n",
    "        #    bins=20, legend='top_right', width=600, height=400)\n",
    "\n",
    "        # Set the x axis label\n",
    "        p.xaxis.axis_label = 'time [s]'\n",
    "\n",
    "        # Set the y axis label\n",
    "        p.yaxis.axis_label = 'Acc [g]'\n",
    "        \n",
    "        return p\n",
    "    \n",
    "    def select_subject(attr, old, new):\n",
    "        sub_num = radio_group.active + 1\n",
    "        feature_name.title = str(radio_group.active + 1)\n",
    "        selected_data.clear()\n",
    "        selected_data = fmpm.get_data_one_rep(subject_number=sub_num)   \n",
    "        layout.children[1] = create_figure()\n",
    "\n",
    "    # Update the plot\n",
    "    def update(attr, old, new):                                   \n",
    "        layout.children[1] = create_figure()\n",
    "        \n",
    "    def my_text_input_handler(attr, old, new):\n",
    "        feature_name.title = new\n",
    "        layout.children[0] = widgetbox([text_input,feature_name], width=200)\n",
    "        \n",
    "    \n",
    "    radio_group = RadioGroup(\n",
    "        labels=[\"Subject 1\", \n",
    "                \"Subject 2\", \n",
    "                \"Subject 3\",\n",
    "                \"Subject 4\",\n",
    "                \"Subject 5\",\n",
    "                \"Subject 6\",\n",
    "                \"Subject 7\",\n",
    "                \"Subject 8\",\n",
    "                \"Subject 9\",\n",
    "                \"Subject 10\"], \n",
    "                active=0)\n",
    "    radio_group.on_change(\"active\", select_subject)                                      \n",
    "\n",
    "    text_input = TextInput(value=\"default\", title=\"Label:\")\n",
    "    text_input.on_change(\"value\", my_text_input_handler)\n",
    "    \n",
    "    # Controls\n",
    "    #feature_name = Select(title=\"Iris Feature:\", options=legend_label)\n",
    "    #feature_name.on_change('value', update)\n",
    "    controls = widgetbox([text_input, radio_group], width=200)\n",
    "    p = create_figure()\n",
    "    layout1 = row(controls, p)\n",
    "    \n",
    "    fig1 = figure()\n",
    "    fig1.circle([0,1,2],[1,3,2])\n",
    "    fig1.add_tools(BoxSelectTool())\n",
    "    layout2 = layout([[fig1]],sizing_mode='fixed')\n",
    "    \n",
    "    tab1 = Panel(child=layout1,title=\"Acc\")\n",
    "    tab2 = Panel(child=layout2,title=\"Gyr\")\n",
    "    tabs = Tabs(tabs=[ tab1, tab2 ])\n",
    "    \n",
    "    doc.add_root(tabs)\n",
    "\n",
    "# Set up the Application \n",
    "handler = FunctionHandler(modify_doc)\n",
    "app = Application(handler)\n",
    "\n",
    "# Create the Document\n",
    "# Not strictly necessary, but helps w/ debugging\n",
    "doc = app.create_document()"
   ]
  },
  {
   "cell_type": "code",
   "execution_count": 4,
   "metadata": {
    "ExecuteTime": {
     "end_time": "2018-11-29T13:16:31.964909Z",
     "start_time": "2018-11-29T13:16:30.609832Z"
    }
   },
   "outputs": [
    {
     "data": {
      "text/html": [
       "<script type='text/javascript'>\n",
       "\n",
       "var target = document.getElementById('notebook-container');\n",
       "\n",
       "var observer = new MutationObserver(function(mutations) {\n",
       "\n",
       "   for (var i = 0; i < mutations.length; i++) {\n",
       "      for (var j=0; j < mutations[i].removedNodes.length; j++) {\n",
       "        for (var k=0; k < mutations[i].removedNodes[j].childNodes.length; k++)\n",
       "          var bokeh_selector = $(mutations[i].removedNodes[j].childNodes[k]).find(\".bokeh_class\");\n",
       "          if (bokeh_selector) {\n",
       "            if (bokeh_selector.length > 0) {\n",
       "               var destroyed_id = bokeh_selector[0].id;\n",
       "                \n",
       "var cmd = \"from bokeh import io; io._destroy_server('<%= destroyed_id %>')\";\n",
       "var command = _.template(cmd)({destroyed_id:destroyed_id});\n",
       "Jupyter.notebook.kernel.execute(command);\n",
       "\n",
       "            }\n",
       "          }\n",
       "      }\n",
       "   }\n",
       "});\n",
       "observer.observe(target, { childList: true, subtree:true });</script>"
      ]
     },
     "metadata": {},
     "output_type": "display_data"
    },
    {
     "data": {
      "text/html": [
       "<div class='bokeh_class' id='e0caa3c50dab44efb0adc23bdcd8f869'>\n",
       "<script\n",
       "    src=\"http://127.0.0.1:50075/autoload.js?bokeh-autoload-element=4bd964b7-9ed6-4904-9c1b-2653227ae2b9&bokeh-app-path=/&bokeh-absolute-url=http://127.0.0.1:50075\"\n",
       "    id=\"4bd964b7-9ed6-4904-9c1b-2653227ae2b9\"\n",
       "    data-bokeh-model-id=\"\"\n",
       "    data-bokeh-doc-id=\"\"\n",
       "></script></div>"
      ],
      "text/plain": [
       "<IPython.core.display.HTML object>"
      ]
     },
     "metadata": {},
     "output_type": "display_data"
    }
   ],
   "source": [
    "# Show the application\n",
    "# Make sure the URL matches your Jupyter instance\n",
    "show(app, notebook_url=\"localhost:8888\")"
   ]
  },
  {
   "cell_type": "code",
   "execution_count": null,
   "metadata": {},
   "outputs": [],
   "source": []
  },
  {
   "cell_type": "code",
   "execution_count": null,
   "metadata": {},
   "outputs": [],
   "source": []
  },
  {
   "cell_type": "code",
   "execution_count": null,
   "metadata": {},
   "outputs": [],
   "source": []
  },
  {
   "cell_type": "code",
   "execution_count": null,
   "metadata": {},
   "outputs": [],
   "source": []
  },
  {
   "cell_type": "code",
   "execution_count": 5,
   "metadata": {
    "ExecuteTime": {
     "end_time": "2018-11-29T12:17:24.577647Z",
     "start_time": "2018-11-29T12:17:24.568646Z"
    }
   },
   "outputs": [],
   "source": [
    "#selected_data = fmpm.get_data_one_rep(subject_number=1,\n",
    "#                                      exercise_abbreviation='RF',\n",
    "#                                      number_repetitions=5,\n",
    "#                                      sequence_number=1,\n",
    "#                                      db_name='DataBase_Pysio.db',\n",
    "#                                      csv_dir='E:\\Physio_Data_Split_Exercise_done',\n",
    "#                                      sampling_rate=256,\n",
    "#                                      cutoff=10, \n",
    "#                                      order=6)"
   ]
  },
  {
   "cell_type": "code",
   "execution_count": null,
   "metadata": {},
   "outputs": [],
   "source": []
  },
  {
   "cell_type": "code",
   "execution_count": null,
   "metadata": {},
   "outputs": [],
   "source": []
  }
 ],
 "metadata": {
  "kernelspec": {
   "display_name": "Python 3",
   "language": "python",
   "name": "python3"
  },
  "language_info": {
   "codemirror_mode": {
    "name": "ipython",
    "version": 3
   },
   "file_extension": ".py",
   "mimetype": "text/x-python",
   "name": "python",
   "nbconvert_exporter": "python",
   "pygments_lexer": "ipython3",
   "version": "3.6.2"
  },
  "toc": {
   "base_numbering": 1,
   "nav_menu": {},
   "number_sections": true,
   "sideBar": true,
   "skip_h1_title": false,
   "title_cell": "Table of Contents",
   "title_sidebar": "Contents",
   "toc_cell": false,
   "toc_position": {},
   "toc_section_display": true,
   "toc_window_display": false
  },
  "varInspector": {
   "cols": {
    "lenName": 16,
    "lenType": 16,
    "lenVar": 40
   },
   "kernels_config": {
    "python": {
     "delete_cmd_postfix": "",
     "delete_cmd_prefix": "del ",
     "library": "var_list.py",
     "varRefreshCmd": "print(var_dic_list())"
    },
    "r": {
     "delete_cmd_postfix": ") ",
     "delete_cmd_prefix": "rm(",
     "library": "var_list.r",
     "varRefreshCmd": "cat(var_dic_list()) "
    }
   },
   "types_to_exclude": [
    "module",
    "function",
    "builtin_function_or_method",
    "instance",
    "_Feature"
   ],
   "window_display": false
  }
 },
 "nbformat": 4,
 "nbformat_minor": 2
}
