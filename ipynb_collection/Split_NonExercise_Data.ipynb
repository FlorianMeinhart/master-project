{
 "cells": [
  {
   "cell_type": "markdown",
   "metadata": {
    "extensions": {
     "jupyter_dashboards": {
      "version": 1,
      "views": {
       "grid_default": {},
       "report_default": {
        "hidden": false
       }
      }
     }
    }
   },
   "source": [
    "# Split Non-Exercise Data"
   ]
  },
  {
   "cell_type": "code",
   "execution_count": 1,
   "metadata": {
    "ExecuteTime": {
     "end_time": "2018-12-13T13:40:03.555692Z",
     "start_time": "2018-12-13T13:40:01.561578Z"
    },
    "extensions": {
     "jupyter_dashboards": {
      "version": 1,
      "views": {
       "grid_default": {},
       "report_default": {
        "hidden": true
       }
      }
     }
    }
   },
   "outputs": [],
   "source": [
    "import numpy as np\n",
    "import pandas as pd\n",
    "import os\n",
    "import re\n",
    "import matplotlib.pyplot as plt\n",
    "from matplotlib.widgets import Button\n",
    "import functionsMasterProjectMeinhart as fmpm"
   ]
  },
  {
   "cell_type": "markdown",
   "metadata": {
    "extensions": {
     "jupyter_dashboards": {
      "version": 1,
      "views": {
       "grid_default": {},
       "report_default": {
        "hidden": false
       }
      }
     }
    }
   },
   "source": [
    "## Functions to automatize procedure"
   ]
  },
  {
   "cell_type": "code",
   "execution_count": 2,
   "metadata": {
    "ExecuteTime": {
     "end_time": "2018-12-13T13:40:03.588693Z",
     "start_time": "2018-12-13T13:40:03.558692Z"
    },
    "extensions": {
     "jupyter_dashboards": {
      "version": 1,
      "views": {
       "grid_default": {},
       "report_default": {
        "hidden": true
       }
      }
     }
    }
   },
   "outputs": [],
   "source": [
    "def convert_time_format_to_index(min_sec, sampling_rate, time_offset=0, max_index=None):\n",
    "    '''\n",
    "    Functions converts a string with the time format 'min:sec' (e.g. 5:17.2)\n",
    "    to a corresponding index, considering the sampling rate.\n",
    "    If index would be negative, 0 is returned.\n",
    "    \n",
    "    Inputs\n",
    "    ------\n",
    "    min_sec : string\n",
    "        Time data, defined format: 'min:sec'\n",
    "    \n",
    "    sampling_rate : float or int\n",
    "        Sampling rate for the index calculation. [Hz]\n",
    "        \n",
    "    time_offset : float of int\n",
    "        Time offset, considered at the index calculation. [s]\n",
    "        \n",
    "    max_index : int\n",
    "        Maximum valid index.\n",
    "        If provided and calculated index is out of range,\n",
    "        max_index is returned instead.\n",
    "     \n",
    "    Returns\n",
    "    -------\n",
    "    int\n",
    "        Corresponding index to parameter 'min_max'.\n",
    "    '''\n",
    "    \n",
    "    # split time string and convert to float\n",
    "    minutes = float(min_sec.split(':')[0])\n",
    "    seconds = float(min_sec.split(':')[1])\n",
    "    \n",
    "    # start and stop time in seconds\n",
    "    time_s = minutes*60 + seconds + time_offset\n",
    "    \n",
    "    # get corresponding index\n",
    "    index = round(time_s * sampling_rate)\n",
    "    \n",
    "    # ensure that index is not below 0\n",
    "    if index < 0:\n",
    "        index = 0\n",
    "    \n",
    "    # ensure that index is in valid range if max index is given\n",
    "    if max_index is not None and index > max_index:\n",
    "        index = max_index\n",
    "            \n",
    "    return index"
   ]
  },
  {
   "cell_type": "code",
   "execution_count": 3,
   "metadata": {
    "ExecuteTime": {
     "end_time": "2018-12-13T13:40:03.812706Z",
     "start_time": "2018-12-13T13:40:03.593694Z"
    },
    "extensions": {
     "jupyter_dashboards": {
      "version": 1,
      "views": {
       "grid_default": {},
       "report_default": {
        "hidden": true
       }
      }
     }
    }
   },
   "outputs": [],
   "source": [
    "def split_sensor_data_nonEx(time_file_dir = r'E:\\Physio_Data\\Exercise_time_tables',\n",
    "                            time_file_name = 'Timetable_subject01.txt',\n",
    "                            signal_file_dir  = r'E:\\Physio_Data\\Subject_01',\n",
    "                            signal_file_name = 'subject01.csv',\n",
    "                            save_dir  = r'E:\\Physio_Data_Split_nonEx',\n",
    "                            time_offset_before = 0,\n",
    "                            time_offset_after = 0,\n",
    "                            sampling_rate = 256):\n",
    "    \n",
    "    '''\n",
    "    Function splits non-exercise signal data according to a txt-file with a timetable of predefined format:\n",
    "    \n",
    "    Name of exercise, sequence of repetitions, start and stop times of exerc. (one pair for each number of repetitions)\n",
    "    \n",
    "    Example:\n",
    "    \n",
    "    Raises Oblique\t15\t5\t10\t01:18.6\t01:58.3\t02:22.1\t02:37.1\t02:54.8\t03:23.3\n",
    "    PNF Diagonal 2\t10\t5\t15\t04:27.1\t04:54.3\t05:24.5\t05:38.9\t06:25.8\t07:05.1\n",
    "    Triceps Curls\t15\t5\t10\t07:32.3\t08:14.8\t08:49.5\t09:04.9\t09:46.1\t10:12.6\n",
    "    Rotation Wrist\t5\t10\t15\t10:43.1\t10:57.3\t11:25.6\t11:51.8\t12:12.1\t12:52.4\n",
    "    ...\n",
    "    ...\n",
    "\n",
    "    \n",
    "    For non-exercise data only the time ranges between the exercises are relevant.\n",
    "    \n",
    "    Each splitted non-execeise section is then written to a csv-file, whose name contains:\n",
    "    \n",
    "    Subject number, sequence number, non-exercise info\n",
    "    \n",
    "    Example: subject01_01_nonEx.csv\n",
    "    \n",
    "    \n",
    "    Inputs\n",
    "    ------\n",
    "    time_file_dir : directory of time timetable file \n",
    "    \n",
    "    time_file_name : name of timetable file\n",
    "    \n",
    "    signal_file_dir : directory of signal file\n",
    "    \n",
    "    signal_file_name : name of signal file\n",
    "    \n",
    "    save_dir : directory to save splitted non-exercise data\n",
    "    \n",
    "    time_offset_before : opportunity to decrease start times [s]\n",
    "    \n",
    "    time_offset_after : opportunity to increase stop times [s]\n",
    "    \n",
    "    sampling_rate : sampling rate of the measured signal data\n",
    "    \n",
    "    \n",
    "    Returns\n",
    "    -------\n",
    "    no returns\n",
    "    '''\n",
    "    \n",
    "    # remember the subject number\n",
    "    subject = re.split('[_.]',time_file_name)[1]\n",
    "    \n",
    "    # read in time table\n",
    "    time_data_path = os.path.join(time_file_dir, time_file_name)\n",
    "    time_data = pd.read_csv(time_data_path, skiprows=0, sep='\\t', header=None)\n",
    "    num_exercises = time_data.shape[0] # number of exercises\n",
    "\n",
    "    # read in signal data\n",
    "    signal_data_path = os.path.join(signal_file_dir, signal_file_name)\n",
    "    signal_data = pd.read_csv(signal_data_path, skiprows=0, sep=',')\n",
    "    num_data_points = signal_data.shape[0] #  number of data points\n",
    "    \n",
    "    \n",
    "    # column of the table with the stop times\n",
    "    stop_col = 4\n",
    "    \n",
    "    # column of the table with the start times\n",
    "    start_col = 5\n",
    "    \n",
    "    # first start index is always 0\n",
    "    start_index = 0\n",
    "    \n",
    "    # sequence number for non-exercise data\n",
    "    seq_num = 0\n",
    "    \n",
    "    # give time_offset_before a negative sign if it isn't alreda there\n",
    "    if time_offset_before > 0:\n",
    "            time_offset_before = -time_offset_before\n",
    "    \n",
    "    # split data according to the timetable and save non-exercise data to a corresponding csv-file:\n",
    "\n",
    "    # go through all exercises\n",
    "    for num_ex in range(num_exercises):\n",
    "        \n",
    "        # for loop for different sections between the exercise data\n",
    "        for jj in range(3): \n",
    "            \n",
    "            # get stop index (start index is already know here)\n",
    "            stop_index = convert_time_format_to_index(min_sec = time_data.values[num_ex,stop_col+2*jj], \n",
    "                                                      sampling_rate = sampling_rate, \n",
    "                                                      time_offset = time_offset_after, \n",
    "                                                      max_index = num_data_points)\n",
    "\n",
    "            # select corresponding signal data (from Pandas DataFrame)\n",
    "            signal_data_selected = signal_data.iloc[start_index:stop_index+1] # +1 to include stop index\n",
    "\n",
    "            # put out-file name together (subject number + sequence number with leading 0 + 'nonEx')\n",
    "            out_file_name = subject \\\n",
    "                             + '_' + str(seq_num).zfill(2) \\\n",
    "                             + '_nonEx.csv'\n",
    "\n",
    "            # join save directory and out-file name\n",
    "            out_file_path = os.path.join(save_dir, out_file_name)\n",
    "\n",
    "            # save seleceted data as csv-file\n",
    "            signal_data_selected.to_csv(out_file_path, sep=',')\n",
    "            \n",
    "            # get the start index for the next run\n",
    "            start_index = convert_time_format_to_index(min_sec = time_data.values[num_ex,start_col+2*jj], \n",
    "                                                      sampling_rate = sampling_rate, \n",
    "                                                      time_offset = time_offset_before, \n",
    "                                                      max_index = num_data_points)\n",
    "            \n",
    "            # increase sequence number\n",
    "            seq_num += 1\n",
    "            \n",
    "    # after the two for loops one non-exercise data set is still left --> signal until the end\n",
    "    signal_data_selected = signal_data.iloc[start_index:] # select all data until end\n",
    "\n",
    "    # put out-file name together (subject number + sequence number with leading 0 + 'nonEx')\n",
    "    out_file_name = subject \\\n",
    "                     + '_' + str(seq_num).zfill(2) \\\n",
    "                     + '_nonEx.csv'\n",
    "\n",
    "    # join save directory and out-file name\n",
    "    out_file_path = os.path.join(save_dir, out_file_name)\n",
    "\n",
    "    # save seleceted data as csv-file\n",
    "    signal_data_selected.to_csv(out_file_path, sep=',')"
   ]
  },
  {
   "cell_type": "markdown",
   "metadata": {
    "extensions": {
     "jupyter_dashboards": {
      "version": 1,
      "views": {
       "grid_default": {},
       "report_default": {
        "hidden": false
       }
      }
     }
    }
   },
   "source": [
    "## Apply the function"
   ]
  },
  {
   "cell_type": "code",
   "execution_count": 23,
   "metadata": {
    "ExecuteTime": {
     "end_time": "2018-12-08T22:14:28.491157Z",
     "start_time": "2018-12-08T22:13:13.692879Z"
    },
    "deletable": false,
    "editable": false,
    "extensions": {
     "jupyter_dashboards": {
      "version": 1,
      "views": {
       "grid_default": {},
       "report_default": {
        "hidden": true
       }
      }
     }
    },
    "run_control": {
     "frozen": true
    }
   },
   "outputs": [],
   "source": [
    "# apply it for all subjects (except #10 --> there is no timetable)\n",
    "subject_nums = ['01','02','03','04','05','06','07','08','09']\n",
    "\n",
    "for subject_num in subject_nums:\n",
    "    split_sensor_data_nonEx(time_file_dir = r'E:\\Physio_Data\\Exercise_time_tables',\n",
    "                            time_file_name = 'Timetable_subject' + subject_num + '.txt',\n",
    "                            signal_file_dir  = r'E:\\Physio_Data\\Subject_' + subject_num,\n",
    "                            signal_file_name = 'subject' + subject_num + '.csv',\n",
    "                            save_dir  = r'E:\\Physio_Data_Split_nonEx',\n",
    "                            time_offset_before = 0,\n",
    "                            time_offset_after = 0,\n",
    "                            sampling_rate = 256)"
   ]
  },
  {
   "cell_type": "markdown",
   "metadata": {
    "extensions": {
     "jupyter_dashboards": {
      "version": 1,
      "views": {
       "grid_default": {},
       "report_default": {
        "hidden": false
       }
      }
     }
    }
   },
   "source": [
    "## Read and plot the split data"
   ]
  },
  {
   "cell_type": "code",
   "execution_count": 4,
   "metadata": {
    "ExecuteTime": {
     "end_time": "2018-12-13T13:40:17.913513Z",
     "start_time": "2018-12-13T13:40:03.816707Z"
    },
    "extensions": {
     "jupyter_dashboards": {
      "version": 1,
      "views": {
       "grid_default": {},
       "report_default": {
        "hidden": true
       }
      }
     }
    }
   },
   "outputs": [],
   "source": [
    "subject_nums = ['01','02','03','04','05','06','07','08','09'] # (except #10 --> there is no timetable)\n",
    "sequence_nums = [str(ii).zfill(2) for ii in range(31)] #  in total 31 sequence numbers per subject (00 ... 30)\n",
    "\n",
    "file_dir = r'E:\\Physio_Data_Split_nonEx'\n",
    "\n",
    "# create big nested dictionary for all data\n",
    "allData = {}\n",
    "\n",
    "for sub_num in subject_nums:\n",
    "    allData[sub_num] = {}\n",
    "    \n",
    "    for seq_num in sequence_nums:\n",
    "        allData[sub_num][seq_num] = {}\n",
    "\n",
    "        # put file name together\n",
    "        file_name = 'subject' + sub_num + '_' + seq_num + '_nonEx.csv'\n",
    "\n",
    "        # join directory and file name\n",
    "        file_path = os.path.join(file_dir, file_name)\n",
    "\n",
    "        allData[sub_num][seq_num] =  fmpm.get_sensor_data(in_file=file_path, \n",
    "                                     signals=['Acc','Gyr','Mag'], \n",
    "                                     sampling_rate=256, \n",
    "                                     start_time=None, \n",
    "                                     stop_time=None, \n",
    "                                     skip_rows=0, \n",
    "                                     sep=',',\n",
    "                                     add_info=file_name)"
   ]
  },
  {
   "cell_type": "code",
   "execution_count": 5,
   "metadata": {
    "ExecuteTime": {
     "end_time": "2018-12-13T13:40:17.935514Z",
     "start_time": "2018-12-13T13:40:17.916513Z"
    },
    "extensions": {
     "jupyter_dashboards": {
      "version": 1,
      "views": {
       "grid_default": {},
       "report_default": {
        "hidden": false
       }
      }
     }
    }
   },
   "outputs": [
    {
     "name": "stdout",
     "output_type": "stream",
     "text": [
      "Using matplotlib backend: TkAgg\n"
     ]
    }
   ],
   "source": [
    "%matplotlib auto"
   ]
  },
  {
   "cell_type": "code",
   "execution_count": 7,
   "metadata": {
    "ExecuteTime": {
     "end_time": "2018-12-13T15:23:13.859757Z",
     "start_time": "2018-12-13T15:23:13.453734Z"
    },
    "extensions": {
     "jupyter_dashboards": {
      "version": 1,
      "views": {
       "grid_default": {},
       "report_default": {
        "hidden": true
       }
      }
     }
    }
   },
   "outputs": [],
   "source": [
    "fig, axs = plt.subplots(2,1, sharex=True, figsize=(18,9))\n",
    "plt.subplots_adjust(bottom=0.2, hspace=0.4) # make space for buttons\n",
    "\n",
    "\n",
    "class Index(object):\n",
    "    \n",
    "    ind_sub = 0\n",
    "    ind_nonEx = 0\n",
    "\n",
    "    def next_subject(self, event):\n",
    "        self.ind_sub = (self.ind_sub + 1) % len(subject_nums)\n",
    "        self.plot_signals()\n",
    "\n",
    "    def prev_subject(self, event):\n",
    "        self.ind_sub = (self.ind_sub - 1) % len(subject_nums)\n",
    "        self.plot_signals()\n",
    "        \n",
    "    def next_nonEx(self, event):\n",
    "        self.ind_nonEx = (self.ind_nonEx + 1) % len(sequence_nums)\n",
    "        self.plot_signals()\n",
    "\n",
    "    def prev_nonEx(self, event):\n",
    "        self.ind_nonEx = (self.ind_nonEx - 1) % len(sequence_nums)\n",
    "        self.plot_signals()\n",
    "        \n",
    "    def plot_signals(self):\n",
    "                \n",
    "        fig.suptitle('Subject: ' + subject_nums[self.ind_sub] + \\\n",
    "                     '     Sequence #' + sequence_nums[self.ind_nonEx], fontsize=22, fontweight='bold')\n",
    "       \n",
    "        # plot linear acceleration\n",
    "        plt.sca(axs[0])\n",
    "        axs[0].clear()\n",
    "        fmpm.plot_signal(allData[subject_nums[self.ind_sub]][sequence_nums[self.ind_nonEx]]['Acc'],\n",
    "                         allData[subject_nums[self.ind_sub]][sequence_nums[self.ind_nonEx]]['time'],\n",
    "                         Title='Acceleration')\n",
    "\n",
    "        # plot angular velocity\n",
    "        plt.sca(axs[1])\n",
    "        axs[1].clear()\n",
    "        fmpm.plot_signal(allData[subject_nums[self.ind_sub]][sequence_nums[self.ind_nonEx]]['Gyr'],\n",
    "                         allData[subject_nums[self.ind_sub]][sequence_nums[self.ind_nonEx]]['time'],\n",
    "                         Title='Angular Velocity',\n",
    "                         yLabel=r'$vel \\enspace [\\frac{deg}{s}]$')\n",
    "        \n",
    "        plt.draw()\n",
    "\n",
    "\n",
    "callback = Index()\n",
    "callback.plot_signals()\n",
    "\n",
    "ax_prev_sub = plt.axes([0.57, 0.05, 0.15, 0.075])\n",
    "ax_next_sub = plt.axes([0.74, 0.05, 0.15, 0.075])\n",
    "ax_prev_nonEx =  plt.axes([0.15, 0.05, 0.15, 0.075])\n",
    "ax_next_nonEx =  plt.axes([0.32, 0.05, 0.15, 0.075])\n",
    "\n",
    "b_next_sub = Button(ax_next_sub, 'Next Subject')\n",
    "b_next_sub.on_clicked(callback.next_subject)\n",
    "b_prev_sub = Button(ax_prev_sub, 'Previous Subject')\n",
    "b_prev_sub.on_clicked(callback.prev_subject)\n",
    "\n",
    "b_next_nonEx = Button(ax_next_nonEx, 'Next nonEx')\n",
    "b_next_nonEx.on_clicked(callback.next_nonEx)\n",
    "b_prev_nonEx = Button(ax_prev_nonEx, 'Previous nonEx')\n",
    "b_prev_nonEx.on_clicked(callback.prev_nonEx)\n",
    "\n",
    "plt.show()"
   ]
  },
  {
   "cell_type": "code",
   "execution_count": null,
   "metadata": {
    "extensions": {
     "jupyter_dashboards": {
      "version": 1,
      "views": {
       "grid_default": {},
       "report_default": {
        "hidden": true
       }
      }
     }
    }
   },
   "outputs": [],
   "source": []
  }
 ],
 "metadata": {
  "extensions": {
   "jupyter_dashboards": {
    "activeView": "report_default",
    "version": 1,
    "views": {
     "grid_default": {
      "name": "grid",
      "type": "grid"
     },
     "report_default": {
      "name": "report",
      "type": "report"
     }
    }
   }
  },
  "kernelspec": {
   "display_name": "Python 3",
   "language": "python",
   "name": "python3"
  },
  "language_info": {
   "codemirror_mode": {
    "name": "ipython",
    "version": 3
   },
   "file_extension": ".py",
   "mimetype": "text/x-python",
   "name": "python",
   "nbconvert_exporter": "python",
   "pygments_lexer": "ipython3",
   "version": "3.6.2"
  },
  "toc": {
   "base_numbering": 1,
   "nav_menu": {},
   "number_sections": true,
   "sideBar": true,
   "skip_h1_title": false,
   "title_cell": "Table of Contents",
   "title_sidebar": "Contents",
   "toc_cell": false,
   "toc_position": {},
   "toc_section_display": true,
   "toc_window_display": true
  },
  "varInspector": {
   "cols": {
    "lenName": 16,
    "lenType": 16,
    "lenVar": 40
   },
   "kernels_config": {
    "python": {
     "delete_cmd_postfix": "",
     "delete_cmd_prefix": "del ",
     "library": "var_list.py",
     "varRefreshCmd": "print(var_dic_list())"
    },
    "r": {
     "delete_cmd_postfix": ") ",
     "delete_cmd_prefix": "rm(",
     "library": "var_list.r",
     "varRefreshCmd": "cat(var_dic_list()) "
    }
   },
   "types_to_exclude": [
    "module",
    "function",
    "builtin_function_or_method",
    "instance",
    "_Feature"
   ],
   "window_display": false
  }
 },
 "nbformat": 4,
 "nbformat_minor": 2
}
