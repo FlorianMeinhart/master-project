{
 "cells": [
  {
   "cell_type": "markdown",
   "metadata": {},
   "source": [
    "# Plot Split Data"
   ]
  },
  {
   "cell_type": "code",
   "execution_count": 1,
   "metadata": {
    "ExecuteTime": {
     "end_time": "2018-11-22T13:08:17.005281Z",
     "start_time": "2018-11-22T13:08:15.170176Z"
    }
   },
   "outputs": [],
   "source": [
    "import functionsMasterProjectMeinhart as fmpm\n",
    "from matplotlib.widgets import Button\n",
    "from scipy.signal import butter, lfilter"
   ]
  },
  {
   "cell_type": "markdown",
   "metadata": {},
   "source": [
    "## First load split data"
   ]
  },
  {
   "cell_type": "code",
   "execution_count": 2,
   "metadata": {
    "ExecuteTime": {
     "end_time": "2018-11-22T13:08:28.496939Z",
     "start_time": "2018-11-22T13:08:21.636546Z"
    }
   },
   "outputs": [],
   "source": [
    "subject_nums = ['01','02','03','04','05','07','08','09'] # subject 06, 10: no timetable available\n",
    "exercise_abbrs  = ['RF','RO','RS','LR','BC','TC','MP','SA','P1','P2']\n",
    "repetitions = ['05','10','15']\n",
    "\n",
    "file_dir = r'E:\\Physio_Data_Split'\n",
    "\n",
    "# create big nested dictionary for all data\n",
    "allData_raw = {}\n",
    "\n",
    "for sub_num in subject_nums:\n",
    "    allData_raw[sub_num] = {}\n",
    "    \n",
    "    for ex_abb in exercise_abbrs:\n",
    "        allData_raw[sub_num][ex_abb] = {}\n",
    "        \n",
    "        for rep in repetitions:\n",
    "            allData_raw[sub_num][ex_abb][rep] = {}\n",
    "            \n",
    "            # put file name together\n",
    "            file_name = 'subject' + sub_num + '_' + ex_abb + '_' + rep + '.csv'\n",
    "            \n",
    "            # join directory and file name\n",
    "            file_path = os.path.join(file_dir, file_name)\n",
    "            \n",
    "            # use written function to get data from corresponding csv-file\n",
    "            allData_raw[sub_num][ex_abb][rep] =  fmpm.get_sensor_data(in_file=file_path, \n",
    "                                                 signals=['Acc','Gyr','Mag'], \n",
    "                                                 sampling_rate=256, \n",
    "                                                 start_time=None, \n",
    "                                                 stop_time=None, \n",
    "                                                 skip_rows=0, \n",
    "                                                 sep=',',\n",
    "                                                 add_info=file_name)"
   ]
  },
  {
   "cell_type": "markdown",
   "metadata": {},
   "source": [
    "## Filter data"
   ]
  },
  {
   "cell_type": "code",
   "execution_count": 3,
   "metadata": {
    "ExecuteTime": {
     "end_time": "2018-11-22T13:08:32.674177Z",
     "start_time": "2018-11-22T13:08:32.166148Z"
    }
   },
   "outputs": [],
   "source": [
    "def butter_lowpass(cutoff, fs, order=5):\n",
    "    nyq = 0.5 * fs\n",
    "    normal_cutoff = cutoff / nyq\n",
    "    b, a = butter(order, normal_cutoff, btype='low', analog=False)\n",
    "    return b, a\n",
    "\n",
    "def butter_lowpass_filter(data, cutoff, fs, order=5):\n",
    "    b, a = butter_lowpass(cutoff, fs, order=order)\n",
    "    y = lfilter(b, a, data, axis=0)\n",
    "    return y\n",
    "\n",
    "\n",
    "# filter requirements\n",
    "order = 6 # order of filter\n",
    "sampling_rate = 256 # [Hz]\n",
    "cutoff = 10 # cutoff frequency of the filter [Hz]\n",
    "\n",
    "\n",
    "allData_filt = {}\n",
    "\n",
    "for sub_num in subject_nums:\n",
    "    allData_filt[sub_num] = {}\n",
    "    \n",
    "    for ex_abb in exercise_abbrs:\n",
    "        allData_filt[sub_num][ex_abb] = {}\n",
    "        \n",
    "        for rep in repetitions:\n",
    "            allData_filt[sub_num][ex_abb][rep] = {}\n",
    "            \n",
    "            allData_filt[sub_num][ex_abb][rep]['time'] = allData_raw[sub_num][ex_abb][rep]['time']\n",
    "            \n",
    "            for signal in ['Acc','Gyr','Mag']:\n",
    "                allData_filt[sub_num][ex_abb][rep][signal] = butter_lowpass_filter(allData_raw[sub_num][ex_abb][rep][signal], \n",
    "                                                                                   cutoff, sampling_rate, order)\n"
   ]
  },
  {
   "cell_type": "markdown",
   "metadata": {},
   "source": [
    "## Plot split data"
   ]
  },
  {
   "cell_type": "code",
   "execution_count": 4,
   "metadata": {
    "ExecuteTime": {
     "end_time": "2018-11-22T13:08:43.792813Z",
     "start_time": "2018-11-22T13:08:42.229724Z"
    }
   },
   "outputs": [
    {
     "name": "stdout",
     "output_type": "stream",
     "text": [
      "Using matplotlib backend: TkAgg\n"
     ]
    }
   ],
   "source": [
    "%matplotlib auto\n",
    "\n",
    "# Select data to plot:\n",
    "#allData = allData_raw\n",
    "allData = allData_filt\n",
    "\n",
    "\n",
    "# dictionary for exercises\n",
    "exercise = {}\n",
    "exercise['RF'] = 'Raises Front'\n",
    "exercise['RO'] = 'Raises Oblique'\n",
    "exercise['RS'] = 'Raises Side'\n",
    "exercise['LR'] = 'Rotation Wrist'\n",
    "exercise['BC'] = 'Biceps Curls'\n",
    "exercise['TC'] = 'Triceps Curls'\n",
    "exercise['MP'] = 'Military Press'\n",
    "exercise['SA'] = 'Shoulder Adduct.'\n",
    "exercise['P1'] = 'PNF Diagonal 1'\n",
    "exercise['P2'] = 'PNF Diagonal 2'\n",
    "\n",
    "\n",
    "fig, axs = plt.subplots(3,2, sharex=True, figsize=(18,9))\n",
    "plt.subplots_adjust(bottom=0.2, hspace=0.4) # make space for buttons\n",
    "\n",
    "\n",
    "class Index(object):\n",
    "    \n",
    "    ind_sub = 0\n",
    "    ind_ex = 0\n",
    "\n",
    "    def next_subject(self, event):\n",
    "        self.ind_sub = (self.ind_sub + 1) % len(subject_nums)\n",
    "        self.plot_signals()\n",
    "\n",
    "    def prev_subject(self, event):\n",
    "        self.ind_sub = (self.ind_sub - 1) % len(subject_nums)\n",
    "        self.plot_signals()\n",
    "        \n",
    "    def next_exercise(self, event):\n",
    "        self.ind_ex = (self.ind_ex + 1) % len(exercise_abbrs)\n",
    "        self.plot_signals()\n",
    "\n",
    "    def prev_exercise(self, event):\n",
    "        self.ind_ex = (self.ind_ex - 1) % len(exercise_abbrs)\n",
    "        self.plot_signals()\n",
    "        \n",
    "    def plot_signals(self):\n",
    "                \n",
    "        fig.suptitle('Subject: ' + subject_nums[self.ind_sub] + \\\n",
    "                     '     Exercise: ' + exercise[exercise_abbrs[self.ind_ex]], fontsize=22, fontweight='bold')\n",
    "       \n",
    "        # plot linear acceleration\n",
    "        plt.sca(axs[0,0])\n",
    "        axs[0,0].clear()\n",
    "        fmpm.plot_signal(allData[subject_nums[self.ind_sub]][exercise_abbrs[self.ind_ex]][repetitions[0]]['Acc'],\n",
    "                         allData[subject_nums[self.ind_sub]][exercise_abbrs[self.ind_ex]][repetitions[0]]['time'],\n",
    "                         Title='Acceleration ('+repetitions[0]+' rep.)',\n",
    "                         xLabel='')\n",
    "        \n",
    "        plt.sca(axs[1,0])\n",
    "        axs[1,0].clear()\n",
    "        fmpm.plot_signal(allData[subject_nums[self.ind_sub]][exercise_abbrs[self.ind_ex]][repetitions[1]]['Acc'],\n",
    "                         allData[subject_nums[self.ind_sub]][exercise_abbrs[self.ind_ex]][repetitions[1]]['time'],\n",
    "                         Title='Acceleration ('+repetitions[1]+' rep.)',\n",
    "                         xLabel='')\n",
    "        \n",
    "        plt.sca(axs[2,0])\n",
    "        axs[2,0].clear()\n",
    "        fmpm.plot_signal(allData[subject_nums[self.ind_sub]][exercise_abbrs[self.ind_ex]][repetitions[2]]['Acc'],\n",
    "                         allData[subject_nums[self.ind_sub]][exercise_abbrs[self.ind_ex]][repetitions[2]]['time'],\n",
    "                         Title='Acceleration ('+repetitions[2]+' rep.)')\n",
    "\n",
    "        # plot angular velocity\n",
    "        plt.sca(axs[0,1])\n",
    "        axs[0,1].clear()\n",
    "        fmpm.plot_signal(allData[subject_nums[self.ind_sub]][exercise_abbrs[self.ind_ex]][repetitions[0]]['Gyr'],\n",
    "                         allData[subject_nums[self.ind_sub]][exercise_abbrs[self.ind_ex]][repetitions[0]]['time'],\n",
    "                         Title='Angular Velocity ('+repetitions[0]+' rep.)',\n",
    "                         yLabel=r'$vel \\enspace [\\frac{deg}{s}]$',\n",
    "                         xLabel='')\n",
    "        \n",
    "        plt.sca(axs[1,1])\n",
    "        axs[1,1].clear()\n",
    "        fmpm.plot_signal(allData[subject_nums[self.ind_sub]][exercise_abbrs[self.ind_ex]][repetitions[1]]['Gyr'],\n",
    "                         allData[subject_nums[self.ind_sub]][exercise_abbrs[self.ind_ex]][repetitions[1]]['time'],\n",
    "                         Title='Angular Velocity ('+repetitions[1]+' rep.)',\n",
    "                         yLabel=r'$vel \\enspace [\\frac{deg}{s}]$',\n",
    "                         xLabel='')\n",
    "        \n",
    "        plt.sca(axs[2,1])\n",
    "        axs[2,1].clear()\n",
    "        fmpm.plot_signal(allData[subject_nums[self.ind_sub]][exercise_abbrs[self.ind_ex]][repetitions[2]]['Gyr'],\n",
    "                         allData[subject_nums[self.ind_sub]][exercise_abbrs[self.ind_ex]][repetitions[2]]['time'],\n",
    "                         Title='Angular Velocity ('+repetitions[2]+' rep.)',\n",
    "                         yLabel=r'$vel \\enspace [\\frac{deg}{s}]$')\n",
    "        \n",
    "        plt.draw()\n",
    "\n",
    "\n",
    "callback = Index()\n",
    "callback.plot_signals()\n",
    "\n",
    "ax_prev_sub = plt.axes([0.57, 0.05, 0.15, 0.075])\n",
    "ax_next_sub = plt.axes([0.74, 0.05, 0.15, 0.075])\n",
    "ax_prev_ex =  plt.axes([0.15, 0.05, 0.15, 0.075])\n",
    "ax_next_ex =  plt.axes([0.32, 0.05, 0.15, 0.075])\n",
    "\n",
    "b_next_sub = Button(ax_next_sub, 'Next Subject')\n",
    "b_next_sub.on_clicked(callback.next_subject)\n",
    "b_prev_sub = Button(ax_prev_sub, 'Previous Subject')\n",
    "b_prev_sub.on_clicked(callback.prev_subject)\n",
    "\n",
    "b_next_ex = Button(ax_next_ex, 'Next Exercise')\n",
    "b_next_ex.on_clicked(callback.next_exercise)\n",
    "b_prev_ex = Button(ax_prev_ex, 'Previous Exercise')\n",
    "b_prev_ex.on_clicked(callback.prev_exercise)\n",
    "\n",
    "plt.show()"
   ]
  },
  {
   "cell_type": "code",
   "execution_count": null,
   "metadata": {},
   "outputs": [],
   "source": []
  }
 ],
 "metadata": {
  "kernelspec": {
   "display_name": "Python 3",
   "language": "python",
   "name": "python3"
  },
  "language_info": {
   "codemirror_mode": {
    "name": "ipython",
    "version": 3
   },
   "file_extension": ".py",
   "mimetype": "text/x-python",
   "name": "python",
   "nbconvert_exporter": "python",
   "pygments_lexer": "ipython3",
   "version": "3.6.2"
  },
  "toc": {
   "base_numbering": 1,
   "nav_menu": {},
   "number_sections": true,
   "sideBar": true,
   "skip_h1_title": false,
   "title_cell": "Table of Contents",
   "title_sidebar": "Contents",
   "toc_cell": false,
   "toc_position": {},
   "toc_section_display": true,
   "toc_window_display": false
  },
  "varInspector": {
   "cols": {
    "lenName": 16,
    "lenType": 16,
    "lenVar": 40
   },
   "kernels_config": {
    "python": {
     "delete_cmd_postfix": "",
     "delete_cmd_prefix": "del ",
     "library": "var_list.py",
     "varRefreshCmd": "print(var_dic_list())"
    },
    "r": {
     "delete_cmd_postfix": ") ",
     "delete_cmd_prefix": "rm(",
     "library": "var_list.r",
     "varRefreshCmd": "cat(var_dic_list()) "
    }
   },
   "types_to_exclude": [
    "module",
    "function",
    "builtin_function_or_method",
    "instance",
    "_Feature"
   ],
   "window_display": false
  }
 },
 "nbformat": 4,
 "nbformat_minor": 2
}
