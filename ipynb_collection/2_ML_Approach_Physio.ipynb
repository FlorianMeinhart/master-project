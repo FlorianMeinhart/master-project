{
 "cells": [
  {
   "cell_type": "markdown",
   "metadata": {},
   "source": [
    "# Second Machine Learning Approach for Physio Data"
   ]
  },
  {
   "cell_type": "code",
   "execution_count": 2,
   "metadata": {
    "ExecuteTime": {
     "end_time": "2018-11-30T22:38:11.666302Z",
     "start_time": "2018-11-30T22:37:55.332368Z"
    }
   },
   "outputs": [],
   "source": [
    "import matplotlib.pyplot as plt\n",
    "import pandas as pd\n",
    "import sqlite3\n",
    "import functionsMasterProjectMeinhart as fmpm"
   ]
  },
  {
   "cell_type": "markdown",
   "metadata": {},
   "source": [
    "## Splitting the signals into sections and taking them directly as features for ML\n",
    "\n",
    "One repetition is considered as one data point for ML.\n",
    "\n",
    "In total we have approximately 2700 data points $\\rightarrow$ (5 + 10 + 15) rep. x 9 sub. x 10 exerc. (a few more or less because of incorrect exercise repetitions of some subjects).\n",
    "\n",
    "The signals will be split into a defined number of equally distributed sections. For each section the mean will be calculated. Hence, all received signal arrays have same length."
   ]
  },
  {
   "cell_type": "markdown",
   "metadata": {},
   "source": [
    "***The first step is to extract all data from the database (start_time, stop_time, csv-file), ***\n",
    "\n",
    "***and to save them in a dictionary with the exercise abbreviations as keys.***"
   ]
  },
  {
   "cell_type": "code",
   "execution_count": 3,
   "metadata": {
    "ExecuteTime": {
     "end_time": "2018-11-30T22:38:12.847370Z",
     "start_time": "2018-11-30T22:38:11.708304Z"
    }
   },
   "outputs": [],
   "source": [
    "db_name='DataBase_Pysio.db' # database name\n",
    "\n",
    "exercise_abbrs = ['RF','RO','RS','LR','BC','TC','MP','SA','P1','P2'] # exercise abbreviations\n",
    "\n",
    "\n",
    "# Connect to an existing database\n",
    "conn = sqlite3.connect(db_name)\n",
    "cur = conn.cursor()\n",
    "\n",
    "# dictionary with the exercise abbreviation as key\n",
    "data_points = {}\n",
    "\n",
    "for key in exercise_abbrs:\n",
    "    # sql command to extract data\n",
    "    query_sql = \"\"\"\n",
    "        SELECT r.start_time, r.stop_time, e.csv_file\n",
    "        FROM subjects s\n",
    "        INNER JOIN exercises e\n",
    "        ON s.id = e.subject_id\n",
    "        INNER JOIN paradigms p\n",
    "        ON p.id = e.paradigm_id\n",
    "        INNER JOIN repetitions r\n",
    "        ON e.id = r.exercise_id\n",
    "        WHERE p.abbreviation = '{}'\n",
    "        \"\"\".format(key)\n",
    "\n",
    "    # get data from data base and close connection\n",
    "    data_points[key] = pd.read_sql_query(query_sql, conn)\n",
    "    \n",
    "conn.close()"
   ]
  },
  {
   "cell_type": "code",
   "execution_count": 3,
   "metadata": {
    "ExecuteTime": {
     "end_time": "2018-11-30T19:32:19.003710Z",
     "start_time": "2018-11-30T19:32:18.978709Z"
    }
   },
   "outputs": [
    {
     "name": "stdout",
     "output_type": "stream",
     "text": [
      "Head of one loaded data frame as an example:\n"
     ]
    },
    {
     "data": {
      "text/html": [
       "<div>\n",
       "<style>\n",
       "    .dataframe thead tr:only-child th {\n",
       "        text-align: right;\n",
       "    }\n",
       "\n",
       "    .dataframe thead th {\n",
       "        text-align: left;\n",
       "    }\n",
       "\n",
       "    .dataframe tbody tr th {\n",
       "        vertical-align: top;\n",
       "    }\n",
       "</style>\n",
       "<table border=\"1\" class=\"dataframe\">\n",
       "  <thead>\n",
       "    <tr style=\"text-align: right;\">\n",
       "      <th></th>\n",
       "      <th>start_time</th>\n",
       "      <th>stop_time</th>\n",
       "      <th>csv_file</th>\n",
       "    </tr>\n",
       "  </thead>\n",
       "  <tbody>\n",
       "    <tr>\n",
       "      <th>0</th>\n",
       "      <td>1.1482924107142871</td>\n",
       "      <td>3.699122023809525</td>\n",
       "      <td>subject01_RF_05.csv</td>\n",
       "    </tr>\n",
       "    <tr>\n",
       "      <th>1</th>\n",
       "      <td>3.699122023809525</td>\n",
       "      <td>6.49581473214286</td>\n",
       "      <td>subject01_RF_05.csv</td>\n",
       "    </tr>\n",
       "    <tr>\n",
       "      <th>2</th>\n",
       "      <td>6.49581473214286</td>\n",
       "      <td>9.384706101190478</td>\n",
       "      <td>subject01_RF_05.csv</td>\n",
       "    </tr>\n",
       "    <tr>\n",
       "      <th>3</th>\n",
       "      <td>9.384706101190478</td>\n",
       "      <td>12.073833705357146</td>\n",
       "      <td>subject01_RF_05.csv</td>\n",
       "    </tr>\n",
       "    <tr>\n",
       "      <th>4</th>\n",
       "      <td>12.073833705357146</td>\n",
       "      <td>14.809060639880954</td>\n",
       "      <td>subject01_RF_05.csv</td>\n",
       "    </tr>\n",
       "  </tbody>\n",
       "</table>\n",
       "</div>"
      ],
      "text/plain": [
       "           start_time           stop_time             csv_file\n",
       "0  1.1482924107142871   3.699122023809525  subject01_RF_05.csv\n",
       "1   3.699122023809525    6.49581473214286  subject01_RF_05.csv\n",
       "2    6.49581473214286   9.384706101190478  subject01_RF_05.csv\n",
       "3   9.384706101190478  12.073833705357146  subject01_RF_05.csv\n",
       "4  12.073833705357146  14.809060639880954  subject01_RF_05.csv"
      ]
     },
     "execution_count": 3,
     "metadata": {},
     "output_type": "execute_result"
    }
   ],
   "source": [
    "print('Head of one loaded data frame as an example:')\n",
    "data_points['RF'].head()"
   ]
  },
  {
   "cell_type": "code",
   "execution_count": 4,
   "metadata": {
    "ExecuteTime": {
     "end_time": "2018-11-30T22:38:45.421233Z",
     "start_time": "2018-11-30T22:38:45.396231Z"
    }
   },
   "outputs": [
    {
     "name": "stdout",
     "output_type": "stream",
     "text": [
      "Length of the individual data frames:\n",
      "RF:\t269\n",
      "RO:\t270\n",
      "RS:\t270\n",
      "LR:\t271\n",
      "BC:\t273\n",
      "TC:\t273\n",
      "MP:\t272\n",
      "SA:\t273\n",
      "P1:\t270\n",
      "P2:\t269\n",
      "total:\t2710\n"
     ]
    }
   ],
   "source": [
    "print('Length of the individual data frames:')\n",
    "count = 0\n",
    "for key in exercise_abbrs:\n",
    "    print(key + ':\\t' + str(data_points[key].shape[0]))\n",
    "    count += data_points[key].shape[0]\n",
    "print('total:\\t' + str(count))"
   ]
  },
  {
   "cell_type": "markdown",
   "metadata": {},
   "source": [
    "As we can see from above, there are a few more than 2700 data points, because obviously some exercises were performed with too much repetitions. "
   ]
  },
  {
   "cell_type": "markdown",
   "metadata": {},
   "source": [
    "*** Function to split signals into equally distributed sections and calculating the mean ***"
   ]
  },
  {
   "cell_type": "code",
   "execution_count": 5,
   "metadata": {
    "ExecuteTime": {
     "end_time": "2018-11-30T22:40:34.862492Z",
     "start_time": "2018-11-30T22:40:34.798489Z"
    }
   },
   "outputs": [],
   "source": [
    "def split_into_sections(signal_data, num_sec=20, signals=['Acc','Gyr']):\n",
    "    '''This Function splits the input signals data into a defined number \n",
    "    of equally distributed sections. For each signal and section the mean is calculated,\n",
    "    and afterwards returned by means of a dictionary.\n",
    "    \n",
    "    Parameters\n",
    "    ----------\n",
    "    signal_data : dict\n",
    "        Dictionary with the signals in the signals-argument as keys.\n",
    "    \n",
    "    num_sec : int\n",
    "        Number of sections to split the signals.\n",
    "        \n",
    "    signals : list\n",
    "        Keys to select signals in the signal_data dictionary.\n",
    "        If no keys are provided, all keys of the signal_data\n",
    "        dictionary are taken.\n",
    "    \n",
    "    Returns\n",
    "    -------\n",
    "    Dictionary with section means for each signal --> keys are same as the selected\n",
    "    in the list \"signals\".\n",
    "    '''\n",
    "    \n",
    "    # if no signals are given as keys, select all keys of the input dictionary\n",
    "    if not signals:\n",
    "        signals = [*signal_data]\n",
    "    \n",
    "    # number of input data points of each signal (signals have to be of the same length --> take index 0)\n",
    "    len_signals = np.shape(signal_data[signals[0]])[0]\n",
    "    \n",
    "    # get indices of the sections (+1 due to start and end index of each section)\n",
    "    sec_ind = np.linspace(0, len_signals, num_sec+1).round().astype(int)\n",
    "    \n",
    "    # dicitonary to save sections means for each signal\n",
    "    section_means = {}\n",
    "\n",
    "    for signal in signals:\n",
    "        # generate row with zeros in order to use np.vstack afterwards\n",
    "        section_means[signal] = np.zeros([1, np.shape(signal_data[signal])[1]])\n",
    "\n",
    "        # add the mean of each section\n",
    "        for ii in range(len(sec_ind)-1):\n",
    "            section_means[signal] = np.vstack([section_means[signal], \n",
    "                                               np.mean(signal_data[signal][sec_ind[ii]:sec_ind[ii+1]], axis=0)])\n",
    "\n",
    "        # delete the first row with the zeros\n",
    "        section_means[signal] = np.delete(section_means[signal], 0, axis=0)\n",
    "        \n",
    "    return section_means"
   ]
  },
  {
   "cell_type": "markdown",
   "metadata": {},
   "source": [
    "*** Load the data and split them into sections***\n",
    "\n",
    "The number of features depends on the number of sections and the number of signals (3 x Acc + 3 x Gyr).\n",
    "\n",
    "Hence, for 20 sections we get 120 features $\\rightarrow$ (3 x Acc + 3 x Gyr) x 20 sections"
   ]
  },
  {
   "cell_type": "code",
   "execution_count": 11,
   "metadata": {
    "ExecuteTime": {
     "end_time": "2018-11-30T23:16:54.674171Z",
     "start_time": "2018-11-30T23:15:04.161850Z"
    }
   },
   "outputs": [],
   "source": [
    "number_sections = 20 # number of sections to split the signals\n",
    "\n",
    "csv_dir='E:\\Physio_Data_Split_Exercise_done' # directory of csv files\n",
    "sampling_rate = 256 # [Hz]\n",
    "signals = ['Acc','Gyr'] # signals which shall be considered for the mean calculation\n",
    "\n",
    "feature_csv_file = '1_ML_Approach_Features/features_sections.csv' #  csv-file to save the features\n",
    "\n",
    "# putting the header of the feature-file together\n",
    "header_string = 'label;' # first column contains the labels\n",
    "\n",
    "for sig in signals:\n",
    "    for ax in ['_x','_y','_z']:\n",
    "        for ii in range(number_sections):\n",
    "            header_string +=  sig + ax + '_{:02}'.format(ii+1) + ';'\n",
    "\n",
    "# remove last separator (;)\n",
    "idx_last_sep = header_string.rfind(\";\")\n",
    "header_string =  header_string[:idx_last_sep]\n",
    "\n",
    "# write header to file\n",
    "with open(feature_csv_file, 'w') as feature_file:\n",
    "    feature_file.writelines(header_string + '\\n')\n",
    "\n",
    "\n",
    "# go through all exercises\n",
    "for ex in exercise_abbrs:\n",
    "    \n",
    "    # go through all repetitions (data points) of the current exercise\n",
    "    for ii in range(len(data_points[ex])):\n",
    "        \n",
    "        # join file path\n",
    "        file_path = os.path.join(csv_dir, data_points[ex]['csv_file'][ii])\n",
    "        \n",
    "        # load the signal data of the corresponding time range of the current repetition\n",
    "        selected_data = fmpm.get_sensor_data(in_file = file_path, \n",
    "                                             signals = signals, \n",
    "                                             sampling_rate = sampling_rate, \n",
    "                                             start_time = float(data_points[ex]['start_time'][ii]), \n",
    "                                             stop_time = float(data_points[ex]['stop_time'][ii]))\n",
    "         \n",
    "        # calculate the corresponding section means of the current repetition\n",
    "        section_means = split_into_sections(signal_data = selected_data,\n",
    "                                            num_sec = number_sections,\n",
    "                                            signals = signals)\n",
    "        \n",
    "        # string to write data of the current data point to the csv-file\n",
    "        data_point_string = ex + ';' # first column contains the label\n",
    "        \n",
    "        # copy section mean values to string\n",
    "        for sig in signals:\n",
    "            for jj in [0,1,2]: # x, y, z comp. of the corresponding signal\n",
    "                for ll in range(number_sections):\n",
    "                    \n",
    "                    # append to string for writing to csv file (5 decimals)\n",
    "                    data_point_string += \"{:.5f};\".format(section_means[sig][ll,jj])\n",
    "                    \n",
    "        # remove last separator (;)\n",
    "        idx_last_sep = data_point_string.rfind(\";\")\n",
    "        data_point_string =  data_point_string[:idx_last_sep]\n",
    "        \n",
    "        # append values of current data point to file\n",
    "        with open(feature_csv_file, 'a') as feature_file:\n",
    "            feature_file.writelines(data_point_string + '\\n')\n",
    "                    "
   ]
  },
  {
   "cell_type": "markdown",
   "metadata": {},
   "source": [
    "***Now all the features are calculated and saved to a csv-file. Let's now load the feature data with pandas.***"
   ]
  },
  {
   "cell_type": "code",
   "execution_count": 12,
   "metadata": {
    "ExecuteTime": {
     "end_time": "2018-11-30T23:17:16.252405Z",
     "start_time": "2018-11-30T23:17:16.081395Z"
    }
   },
   "outputs": [],
   "source": [
    "feature_csv_file = '1_ML_Approach_Features/features_sections.csv'\n",
    "feature_data = pd.read_csv(feature_csv_file, skiprows=0, sep=';')"
   ]
  },
  {
   "cell_type": "code",
   "execution_count": 13,
   "metadata": {
    "ExecuteTime": {
     "end_time": "2018-11-30T23:17:17.225460Z",
     "start_time": "2018-11-30T23:17:17.214460Z"
    }
   },
   "outputs": [
    {
     "name": "stdout",
     "output_type": "stream",
     "text": [
      "<class 'pandas.core.frame.DataFrame'>\n",
      "RangeIndex: 2710 entries, 0 to 2709\n",
      "Columns: 121 entries, label to Gyr_z_20\n",
      "dtypes: float64(120), object(1)\n",
      "memory usage: 2.5+ MB\n"
     ]
    }
   ],
   "source": [
    "feature_data.info()"
   ]
  },
  {
   "cell_type": "code",
   "execution_count": 14,
   "metadata": {
    "ExecuteTime": {
     "end_time": "2018-11-30T23:18:20.588085Z",
     "start_time": "2018-11-30T23:18:20.550082Z"
    }
   },
   "outputs": [
    {
     "data": {
      "text/html": [
       "<div>\n",
       "<style>\n",
       "    .dataframe thead tr:only-child th {\n",
       "        text-align: right;\n",
       "    }\n",
       "\n",
       "    .dataframe thead th {\n",
       "        text-align: left;\n",
       "    }\n",
       "\n",
       "    .dataframe tbody tr th {\n",
       "        vertical-align: top;\n",
       "    }\n",
       "</style>\n",
       "<table border=\"1\" class=\"dataframe\">\n",
       "  <thead>\n",
       "    <tr style=\"text-align: right;\">\n",
       "      <th></th>\n",
       "      <th>label</th>\n",
       "      <th>Acc_x_01</th>\n",
       "      <th>Acc_x_02</th>\n",
       "      <th>Acc_x_03</th>\n",
       "      <th>Acc_x_04</th>\n",
       "      <th>Acc_x_05</th>\n",
       "      <th>Acc_x_06</th>\n",
       "      <th>Acc_x_07</th>\n",
       "      <th>Acc_x_08</th>\n",
       "      <th>Acc_x_09</th>\n",
       "      <th>...</th>\n",
       "      <th>Gyr_z_11</th>\n",
       "      <th>Gyr_z_12</th>\n",
       "      <th>Gyr_z_13</th>\n",
       "      <th>Gyr_z_14</th>\n",
       "      <th>Gyr_z_15</th>\n",
       "      <th>Gyr_z_16</th>\n",
       "      <th>Gyr_z_17</th>\n",
       "      <th>Gyr_z_18</th>\n",
       "      <th>Gyr_z_19</th>\n",
       "      <th>Gyr_z_20</th>\n",
       "    </tr>\n",
       "  </thead>\n",
       "  <tbody>\n",
       "    <tr>\n",
       "      <th>0</th>\n",
       "      <td>RF</td>\n",
       "      <td>-0.88836</td>\n",
       "      <td>-0.99646</td>\n",
       "      <td>-1.02021</td>\n",
       "      <td>-0.66443</td>\n",
       "      <td>-0.26080</td>\n",
       "      <td>0.13043</td>\n",
       "      <td>0.44185</td>\n",
       "      <td>0.60414</td>\n",
       "      <td>0.62367</td>\n",
       "      <td>...</td>\n",
       "      <td>-77.94697</td>\n",
       "      <td>-122.77462</td>\n",
       "      <td>-143.82617</td>\n",
       "      <td>-166.58902</td>\n",
       "      <td>-146.50000</td>\n",
       "      <td>-122.16797</td>\n",
       "      <td>-94.47538</td>\n",
       "      <td>-32.60417</td>\n",
       "      <td>-11.41016</td>\n",
       "      <td>1.83523</td>\n",
       "    </tr>\n",
       "    <tr>\n",
       "      <th>1</th>\n",
       "      <td>RF</td>\n",
       "      <td>-0.92166</td>\n",
       "      <td>-0.93620</td>\n",
       "      <td>-1.01498</td>\n",
       "      <td>-0.99034</td>\n",
       "      <td>-0.69744</td>\n",
       "      <td>-0.27005</td>\n",
       "      <td>0.07515</td>\n",
       "      <td>0.36391</td>\n",
       "      <td>0.55178</td>\n",
       "      <td>...</td>\n",
       "      <td>-26.75174</td>\n",
       "      <td>-89.55208</td>\n",
       "      <td>-146.36607</td>\n",
       "      <td>-165.08507</td>\n",
       "      <td>-169.20139</td>\n",
       "      <td>-120.53993</td>\n",
       "      <td>-80.79688</td>\n",
       "      <td>-51.69821</td>\n",
       "      <td>-1.85069</td>\n",
       "      <td>8.97743</td>\n",
       "    </tr>\n",
       "    <tr>\n",
       "      <th>2</th>\n",
       "      <td>RF</td>\n",
       "      <td>-0.91815</td>\n",
       "      <td>-0.87466</td>\n",
       "      <td>-1.01370</td>\n",
       "      <td>-0.88283</td>\n",
       "      <td>-0.62962</td>\n",
       "      <td>-0.10910</td>\n",
       "      <td>0.19482</td>\n",
       "      <td>0.39330</td>\n",
       "      <td>0.53644</td>\n",
       "      <td>...</td>\n",
       "      <td>-34.30208</td>\n",
       "      <td>-86.99493</td>\n",
       "      <td>-121.62669</td>\n",
       "      <td>-140.86149</td>\n",
       "      <td>-153.22466</td>\n",
       "      <td>-132.71622</td>\n",
       "      <td>-94.19932</td>\n",
       "      <td>-42.53209</td>\n",
       "      <td>3.47128</td>\n",
       "      <td>2.54730</td>\n",
       "    </tr>\n",
       "    <tr>\n",
       "      <th>3</th>\n",
       "      <td>RF</td>\n",
       "      <td>-0.93641</td>\n",
       "      <td>-0.90483</td>\n",
       "      <td>-0.96628</td>\n",
       "      <td>-0.99289</td>\n",
       "      <td>-0.79710</td>\n",
       "      <td>-0.41034</td>\n",
       "      <td>-0.01136</td>\n",
       "      <td>0.25777</td>\n",
       "      <td>0.46615</td>\n",
       "      <td>...</td>\n",
       "      <td>-47.41786</td>\n",
       "      <td>-81.34743</td>\n",
       "      <td>-108.54464</td>\n",
       "      <td>-136.09926</td>\n",
       "      <td>-146.68036</td>\n",
       "      <td>-133.19118</td>\n",
       "      <td>-117.08214</td>\n",
       "      <td>-65.66360</td>\n",
       "      <td>-15.07500</td>\n",
       "      <td>10.29412</td>\n",
       "    </tr>\n",
       "    <tr>\n",
       "      <th>4</th>\n",
       "      <td>RF</td>\n",
       "      <td>-0.91934</td>\n",
       "      <td>-0.95460</td>\n",
       "      <td>-0.94056</td>\n",
       "      <td>-0.79266</td>\n",
       "      <td>-0.46904</td>\n",
       "      <td>-0.06963</td>\n",
       "      <td>0.14795</td>\n",
       "      <td>0.39058</td>\n",
       "      <td>0.51182</td>\n",
       "      <td>...</td>\n",
       "      <td>-28.08036</td>\n",
       "      <td>-66.05893</td>\n",
       "      <td>-96.75714</td>\n",
       "      <td>-123.46964</td>\n",
       "      <td>-123.80357</td>\n",
       "      <td>-108.53929</td>\n",
       "      <td>-107.76607</td>\n",
       "      <td>-83.72500</td>\n",
       "      <td>-34.83036</td>\n",
       "      <td>7.36607</td>\n",
       "    </tr>\n",
       "  </tbody>\n",
       "</table>\n",
       "<p>5 rows × 121 columns</p>\n",
       "</div>"
      ],
      "text/plain": [
       "  label  Acc_x_01  Acc_x_02  Acc_x_03  Acc_x_04  Acc_x_05  Acc_x_06  Acc_x_07  \\\n",
       "0    RF  -0.88836  -0.99646  -1.02021  -0.66443  -0.26080   0.13043   0.44185   \n",
       "1    RF  -0.92166  -0.93620  -1.01498  -0.99034  -0.69744  -0.27005   0.07515   \n",
       "2    RF  -0.91815  -0.87466  -1.01370  -0.88283  -0.62962  -0.10910   0.19482   \n",
       "3    RF  -0.93641  -0.90483  -0.96628  -0.99289  -0.79710  -0.41034  -0.01136   \n",
       "4    RF  -0.91934  -0.95460  -0.94056  -0.79266  -0.46904  -0.06963   0.14795   \n",
       "\n",
       "   Acc_x_08  Acc_x_09    ...     Gyr_z_11   Gyr_z_12   Gyr_z_13   Gyr_z_14  \\\n",
       "0   0.60414   0.62367    ...    -77.94697 -122.77462 -143.82617 -166.58902   \n",
       "1   0.36391   0.55178    ...    -26.75174  -89.55208 -146.36607 -165.08507   \n",
       "2   0.39330   0.53644    ...    -34.30208  -86.99493 -121.62669 -140.86149   \n",
       "3   0.25777   0.46615    ...    -47.41786  -81.34743 -108.54464 -136.09926   \n",
       "4   0.39058   0.51182    ...    -28.08036  -66.05893  -96.75714 -123.46964   \n",
       "\n",
       "    Gyr_z_15   Gyr_z_16   Gyr_z_17  Gyr_z_18  Gyr_z_19  Gyr_z_20  \n",
       "0 -146.50000 -122.16797  -94.47538 -32.60417 -11.41016   1.83523  \n",
       "1 -169.20139 -120.53993  -80.79688 -51.69821  -1.85069   8.97743  \n",
       "2 -153.22466 -132.71622  -94.19932 -42.53209   3.47128   2.54730  \n",
       "3 -146.68036 -133.19118 -117.08214 -65.66360 -15.07500  10.29412  \n",
       "4 -123.80357 -108.53929 -107.76607 -83.72500 -34.83036   7.36607  \n",
       "\n",
       "[5 rows x 121 columns]"
      ]
     },
     "execution_count": 14,
     "metadata": {},
     "output_type": "execute_result"
    }
   ],
   "source": [
    "feature_data.head()"
   ]
  },
  {
   "cell_type": "markdown",
   "metadata": {},
   "source": [
    "*** Let's quickly check visually the correlation between a few features (not necessary)***"
   ]
  },
  {
   "cell_type": "code",
   "execution_count": 15,
   "metadata": {
    "ExecuteTime": {
     "end_time": "2018-11-30T23:19:09.132861Z",
     "start_time": "2018-11-30T23:19:08.311814Z"
    }
   },
   "outputs": [
    {
     "data": {
      "image/png": "[encoded data removed]",
      "text/plain": [
       "<matplotlib.figure.Figure at 0x10012438>"
      ]
     },
     "metadata": {},
     "output_type": "display_data"
    }
   ],
   "source": [
    "feature_data.plot(kind=\"scatter\", x=\"Acc_x_01\", y=\"Acc_x_20\",alpha=0.2)\n",
    "plt.show()"
   ]
  },
  {
   "cell_type": "code",
   "execution_count": 18,
   "metadata": {
    "ExecuteTime": {
     "end_time": "2018-11-30T23:21:12.065893Z",
     "start_time": "2018-11-30T23:21:10.738817Z"
    }
   },
   "outputs": [
    {
     "data": {
      "image/png": "[encoded data removed]",
      "text/plain": [
       "<matplotlib.figure.Figure at 0x1c1089b0>"
      ]
     },
     "metadata": {},
     "output_type": "display_data"
    }
   ],
   "source": [
    "from pandas.plotting import scatter_matrix\n",
    "\n",
    "attributes = [\"Gyr_x_05\", \"Gyr_x_10\", \"Gyr_x_15\"]\n",
    "scatter_matrix(feature_data[attributes], figsize=(12, 8));"
   ]
  },
  {
   "cell_type": "code",
   "execution_count": null,
   "metadata": {},
   "outputs": [],
   "source": []
  },
  {
   "cell_type": "markdown",
   "metadata": {},
   "source": [
    "## Classification"
   ]
  },
  {
   "cell_type": "code",
   "execution_count": 19,
   "metadata": {
    "ExecuteTime": {
     "end_time": "2018-11-30T23:21:32.714074Z",
     "start_time": "2018-11-30T23:21:27.949801Z"
    }
   },
   "outputs": [],
   "source": [
    "from sklearn.model_selection import train_test_split\n",
    "from sklearn.ensemble import RandomForestClassifier\n",
    "from sklearn.linear_model import LogisticRegression\n",
    "from sklearn.svm import SVC\n",
    "from sklearn.ensemble import VotingClassifier\n",
    "from sklearn.metrics import accuracy_score"
   ]
  },
  {
   "cell_type": "code",
   "execution_count": 20,
   "metadata": {
    "ExecuteTime": {
     "end_time": "2018-11-30T23:21:33.679129Z",
     "start_time": "2018-11-30T23:21:33.634126Z"
    }
   },
   "outputs": [
    {
     "data": {
      "text/plain": [
       "(2710, 120)"
      ]
     },
     "execution_count": 20,
     "metadata": {},
     "output_type": "execute_result"
    }
   ],
   "source": [
    "# get feature matrix X\n",
    "X = feature_data.values[:,1:]\n",
    "np.shape(X)"
   ]
  },
  {
   "cell_type": "code",
   "execution_count": 21,
   "metadata": {
    "ExecuteTime": {
     "end_time": "2018-11-30T23:22:25.542095Z",
     "start_time": "2018-11-30T23:21:36.014262Z"
    }
   },
   "outputs": [
    {
     "data": {
      "text/plain": [
       "(2710,)"
      ]
     },
     "execution_count": 21,
     "metadata": {},
     "output_type": "execute_result"
    }
   ],
   "source": [
    "# dictionary for labels\n",
    "label_ex = {'RF':0,\n",
    "            'RO':1,\n",
    "            'RS':2,\n",
    "            'LR':3,\n",
    "            'BC':4,\n",
    "            'TC':5,\n",
    "            'MP':6,\n",
    "            'SA':7,\n",
    "            'P1':8,\n",
    "            'P2':9}\n",
    "\n",
    "# get label array with labels (0 ... 9)\n",
    "y = [label_ex[feature_data.values[ii,0]] for ii in range(len(feature_data.values[:,0]))]\n",
    "np.shape(y)"
   ]
  },
  {
   "cell_type": "markdown",
   "metadata": {},
   "source": [
    "### Split the data points  into train (75%) and test (25%) data sets\n",
    "\n",
    "Use *stratify=y* to ensure that there is approximately the same number of each label (exercise) in the training set.  "
   ]
  },
  {
   "cell_type": "code",
   "execution_count": 22,
   "metadata": {
    "ExecuteTime": {
     "end_time": "2018-11-30T23:22:28.178246Z",
     "start_time": "2018-11-30T23:22:27.988235Z"
    }
   },
   "outputs": [
    {
     "name": "stdout",
     "output_type": "stream",
     "text": [
      "Train set shape: (2032, 120)\n",
      "Test set shape:  (678, 120)\n"
     ]
    }
   ],
   "source": [
    "# split the data in train and test set (stratified)\n",
    "X_train, X_test, y_train, y_test = train_test_split(X, y, stratify=y, test_size=0.25, random_state=42)\n",
    "print('Train set shape: {}'.format(np.shape(X_train)))\n",
    "print('Test set shape:  {}'.format(np.shape(X_test)))"
   ]
  },
  {
   "cell_type": "code",
   "execution_count": 23,
   "metadata": {
    "ExecuteTime": {
     "end_time": "2018-11-30T23:22:34.484607Z",
     "start_time": "2018-11-30T23:22:34.452605Z"
    }
   },
   "outputs": [],
   "source": [
    "def print_precision_recall_accuracy():\n",
    "    print('Exercise\\tPrecision [%]\\tRecall [%]\\tAccuracy[%]')\n",
    "    \n",
    "    for ex in exercise_abbrs:\n",
    "        TP = sum((y_pred == label_ex[ex]) & (np.array(y_test) == label_ex[ex])) # True Positives\n",
    "        TN = sum((y_pred != label_ex[ex]) & (np.array(y_test) != label_ex[ex])) # True Negatives\n",
    "        FP = sum((y_pred == label_ex[ex]) & (np.array(y_test) != label_ex[ex])) # False Positives\n",
    "        FN = sum((y_pred != label_ex[ex]) & (np.array(y_test) == label_ex[ex])) # False Negatives\n",
    "\n",
    "        precision = TP / (TP+FP)\n",
    "        recall = TP / (TP+FN)\n",
    "        accuracy = (TP+TN) / (TP+TN+FP+FN)\n",
    "        \n",
    "        print('  '+ ex +'\\t\\t  {:6.2f}'.format(precision*100)+ \\\n",
    "              '\\t  {:6.2f}'.format(recall*100)+'\\t  {:6.2f}'.format(accuracy*100))"
   ]
  },
  {
   "cell_type": "markdown",
   "metadata": {},
   "source": [
    "### Random Forest Classifier"
   ]
  },
  {
   "cell_type": "code",
   "execution_count": 24,
   "metadata": {
    "ExecuteTime": {
     "end_time": "2018-11-30T23:22:43.303111Z",
     "start_time": "2018-11-30T23:22:40.474949Z"
    }
   },
   "outputs": [
    {
     "name": "stdout",
     "output_type": "stream",
     "text": [
      "Total Accuracy: 0.99558\n"
     ]
    }
   ],
   "source": [
    "# apply a random forest classifier\n",
    "rnd_clf = RandomForestClassifier(n_estimators=500, max_leaf_nodes=40, n_jobs=-1, random_state=42)\n",
    "rnd_clf.fit(X_train, y_train)\n",
    "y_pred = rnd_clf.predict(X_test)\n",
    "\n",
    "print('Total Accuracy: {:.5f}'.format((accuracy_score(y_test, y_pred))))"
   ]
  },
  {
   "cell_type": "code",
   "execution_count": 25,
   "metadata": {
    "ExecuteTime": {
     "end_time": "2018-11-30T23:22:49.338456Z",
     "start_time": "2018-11-30T23:22:49.220449Z"
    }
   },
   "outputs": [
    {
     "name": "stdout",
     "output_type": "stream",
     "text": [
      "Exercise\tPrecision [%]\tRecall [%]\tAccuracy[%]\n",
      "  RF\t\t  100.00\t   95.52\t   99.56\n",
      "  RO\t\t   95.77\t  100.00\t   99.56\n",
      "  RS\t\t  100.00\t  100.00\t  100.00\n",
      "  LR\t\t  100.00\t  100.00\t  100.00\n",
      "  BC\t\t  100.00\t  100.00\t  100.00\n",
      "  TC\t\t  100.00\t  100.00\t  100.00\n",
      "  MP\t\t  100.00\t  100.00\t  100.00\n",
      "  SA\t\t  100.00\t  100.00\t  100.00\n",
      "  P1\t\t  100.00\t  100.00\t  100.00\n",
      "  P2\t\t  100.00\t  100.00\t  100.00\n"
     ]
    }
   ],
   "source": [
    "print_precision_recall_accuracy()"
   ]
  },
  {
   "cell_type": "code",
   "execution_count": 26,
   "metadata": {
    "ExecuteTime": {
     "end_time": "2018-11-30T23:22:58.649989Z",
     "start_time": "2018-11-30T23:22:58.622987Z"
    }
   },
   "outputs": [
    {
     "name": "stdout",
     "output_type": "stream",
     "text": [
      "3 misclassified (678 test data points)\n",
      "RF classified as RO\n",
      "RF classified as RO\n",
      "RF classified as RO\n"
     ]
    }
   ],
   "source": [
    "# display the misclassified data points\n",
    "\n",
    "ind_misclassified = np.flatnonzero(y_test != y_pred) # indices of misclassified data points\n",
    "\n",
    "exercise_abbrs = ['RF','RO','RS','LR','BC','TC','MP','SA','P1','P2'] # exercise abbreviations\n",
    "\n",
    "print('{0} misclassified ({1} test data points)'.format(sum(y_test != y_pred), len(y_test)))\n",
    "for ii in ind_misclassified:\n",
    "    print(exercise_abbrs[y_test[ii]] + ' classified as ' + exercise_abbrs[y_pred[ii]])"
   ]
  },
  {
   "cell_type": "markdown",
   "metadata": {},
   "source": [
    "### Voting Classifier"
   ]
  },
  {
   "cell_type": "code",
   "execution_count": 27,
   "metadata": {
    "ExecuteTime": {
     "end_time": "2018-11-30T23:23:19.341172Z",
     "start_time": "2018-11-30T23:23:04.924348Z"
    }
   },
   "outputs": [
    {
     "name": "stderr",
     "output_type": "stream",
     "text": [
      "E:\\Programme\\WinPython-64bit-3.6.2.0Qt5\\python-3.6.2.amd64\\lib\\site-packages\\sklearn\\linear_model\\logistic.py:758: ConvergenceWarning: lbfgs failed to converge. Increase the number of iterations.\n",
      "  \"of iterations.\", ConvergenceWarning)\n",
      "E:\\Programme\\WinPython-64bit-3.6.2.0Qt5\\python-3.6.2.amd64\\lib\\site-packages\\sklearn\\svm\\base.py:196: FutureWarning: The default value of gamma will change from 'auto' to 'scale' in version 0.22 to account better for unscaled features. Set gamma explicitly to 'auto' or 'scale' to avoid this warning.\n",
      "  \"avoid this warning.\", FutureWarning)\n",
      "E:\\Programme\\WinPython-64bit-3.6.2.0Qt5\\python-3.6.2.amd64\\lib\\site-packages\\sklearn\\linear_model\\logistic.py:758: ConvergenceWarning: lbfgs failed to converge. Increase the number of iterations.\n",
      "  \"of iterations.\", ConvergenceWarning)\n",
      "E:\\Programme\\WinPython-64bit-3.6.2.0Qt5\\python-3.6.2.amd64\\lib\\site-packages\\sklearn\\svm\\base.py:196: FutureWarning: The default value of gamma will change from 'auto' to 'scale' in version 0.22 to account better for unscaled features. Set gamma explicitly to 'auto' or 'scale' to avoid this warning.\n",
      "  \"avoid this warning.\", FutureWarning)\n"
     ]
    },
    {
     "name": "stdout",
     "output_type": "stream",
     "text": [
      "Total Accuracy:\n",
      "LogisticRegression 0.96460\n",
      "RandomForestClassifier 0.96460\n",
      "SVC 0.96460\n",
      "VotingClassifier 0.96460\n",
      "\n",
      "\n"
     ]
    }
   ],
   "source": [
    "# use a voting classifier with the following classifiers:\n",
    "log_clf = LogisticRegression(multi_class=\"multinomial\", solver=\"lbfgs\", C=10, random_state=42)\n",
    "rnd_clf = RandomForestClassifier(n_estimators=500, max_leaf_nodes=40, n_jobs=-1, random_state=42)\n",
    "svm_clf = SVC(kernel=\"poly\", degree=3, coef0=1, C=5, random_state=42)\n",
    "\n",
    "voting_clf = VotingClassifier(\n",
    "    estimators=[('lr', log_clf), ('rf', rnd_clf), ('svc', svm_clf)],\n",
    "    voting='hard')\n",
    "\n",
    "for clf in (log_clf, rnd_clf, svm_clf, voting_clf):\n",
    "    clf.fit(X_train, y_train)\n",
    "    y_pred = clf.predict(X_test)\n",
    "\n",
    "print('Total Accuracy:')\n",
    "for clf in (log_clf, rnd_clf, svm_clf, voting_clf):\n",
    "    print(clf.__class__.__name__, '{:.5f}'.format(accuracy_score(y_test, y_pred)))\n",
    "print('\\n')"
   ]
  },
  {
   "cell_type": "code",
   "execution_count": 28,
   "metadata": {
    "ExecuteTime": {
     "end_time": "2018-11-30T23:23:19.876203Z",
     "start_time": "2018-11-30T23:23:19.742195Z"
    }
   },
   "outputs": [
    {
     "name": "stdout",
     "output_type": "stream",
     "text": [
      "Exercise\tPrecision [%]\tRecall [%]\tAccuracy[%]\n",
      "  RF\t\t   94.44\t   76.12\t   97.20\n",
      "  RO\t\t   79.27\t   95.59\t   97.05\n",
      "  RS\t\t   95.77\t  100.00\t   99.56\n",
      "  LR\t\t   98.55\t  100.00\t   99.85\n",
      "  BC\t\t  100.00\t  100.00\t  100.00\n",
      "  TC\t\t  100.00\t  100.00\t  100.00\n",
      "  MP\t\t  100.00\t  100.00\t  100.00\n",
      "  SA\t\t  100.00\t  100.00\t  100.00\n",
      "  P1\t\t  100.00\t  100.00\t  100.00\n",
      "  P2\t\t  100.00\t   92.54\t   99.26\n"
     ]
    }
   ],
   "source": [
    "print_precision_recall_accuracy()"
   ]
  },
  {
   "cell_type": "code",
   "execution_count": 29,
   "metadata": {
    "ExecuteTime": {
     "end_time": "2018-11-30T23:23:58.949438Z",
     "start_time": "2018-11-30T23:23:58.926436Z"
    }
   },
   "outputs": [
    {
     "name": "stdout",
     "output_type": "stream",
     "text": [
      "24 misclassified (678 test data points)\n",
      "P2 classified as RS\n",
      "RF classified as RO\n",
      "RF classified as RO\n",
      "RF classified as RO\n",
      "RF classified as RO\n",
      "RO classified as RF\n",
      "RO classified as RF\n",
      "P2 classified as RS\n",
      "RF classified as RO\n",
      "P2 classified as RS\n",
      "RF classified as RO\n",
      "RO classified as RF\n",
      "RF classified as RO\n",
      "RF classified as RO\n",
      "RF classified as RO\n",
      "RF classified as RO\n",
      "RF classified as RO\n",
      "RF classified as RO\n",
      "RF classified as RO\n",
      "RF classified as RO\n",
      "RF classified as RO\n",
      "P2 classified as LR\n",
      "P2 classified as RO\n",
      "RF classified as RO\n"
     ]
    }
   ],
   "source": [
    "# display the misclassified data points\n",
    "\n",
    "ind_misclassified = np.flatnonzero(y_test != y_pred) # indices of misclassified data points\n",
    "\n",
    "print('{0} misclassified ({1} test data points)'.format(sum(y_test != y_pred), len(y_test)))\n",
    "for ii in ind_misclassified:\n",
    "    print(exercise_abbrs[y_test[ii]] + ' classified as ' + exercise_abbrs[y_pred[ii]])"
   ]
  },
  {
   "cell_type": "markdown",
   "metadata": {},
   "source": [
    "### Linear Discriminant Analysis as Classifier"
   ]
  },
  {
   "cell_type": "code",
   "execution_count": 30,
   "metadata": {
    "ExecuteTime": {
     "end_time": "2018-11-30T23:24:04.509756Z",
     "start_time": "2018-11-30T23:24:03.954724Z"
    }
   },
   "outputs": [
    {
     "name": "stdout",
     "output_type": "stream",
     "text": [
      "Total Accuracy: 0.98230\n"
     ]
    }
   ],
   "source": [
    "from sklearn.discriminant_analysis import LinearDiscriminantAnalysis\n",
    "\n",
    "lda_clf = LinearDiscriminantAnalysis()\n",
    "lda_clf.fit(X, y)\n",
    "y_pred = lda_clf.predict(X_test)\n",
    "\n",
    "print('Total Accuracy: {:.5f}'.format((accuracy_score(y_test, y_pred))))"
   ]
  },
  {
   "cell_type": "code",
   "execution_count": 31,
   "metadata": {
    "ExecuteTime": {
     "end_time": "2018-11-30T23:24:05.568816Z",
     "start_time": "2018-11-30T23:24:05.459810Z"
    }
   },
   "outputs": [
    {
     "name": "stdout",
     "output_type": "stream",
     "text": [
      "Exercise\tPrecision [%]\tRecall [%]\tAccuracy[%]\n",
      "  RF\t\t   96.61\t   85.07\t   98.23\n",
      "  RO\t\t   86.84\t   97.06\t   98.23\n",
      "  RS\t\t  100.00\t  100.00\t  100.00\n",
      "  LR\t\t  100.00\t  100.00\t  100.00\n",
      "  BC\t\t  100.00\t  100.00\t  100.00\n",
      "  TC\t\t  100.00\t  100.00\t  100.00\n",
      "  MP\t\t  100.00\t  100.00\t  100.00\n",
      "  SA\t\t  100.00\t  100.00\t  100.00\n",
      "  P1\t\t  100.00\t  100.00\t  100.00\n",
      "  P2\t\t  100.00\t  100.00\t  100.00\n"
     ]
    }
   ],
   "source": [
    "print_precision_recall_accuracy()"
   ]
  },
  {
   "cell_type": "code",
   "execution_count": 32,
   "metadata": {
    "ExecuteTime": {
     "end_time": "2018-11-30T23:24:07.669936Z",
     "start_time": "2018-11-30T23:24:07.647935Z"
    }
   },
   "outputs": [
    {
     "name": "stdout",
     "output_type": "stream",
     "text": [
      "12 misclassified (678 test data points)\n",
      "RF classified as RO\n",
      "RF classified as RO\n",
      "RF classified as RO\n",
      "RF classified as RO\n",
      "RF classified as RO\n",
      "RO classified as RF\n",
      "RO classified as RF\n",
      "RF classified as RO\n",
      "RF classified as RO\n",
      "RF classified as RO\n",
      "RF classified as RO\n",
      "RF classified as RO\n"
     ]
    }
   ],
   "source": [
    "# display the misclassified data points\n",
    "\n",
    "ind_misclassified = np.flatnonzero(y_test != y_pred) # indices of misclassified data points\n",
    "\n",
    "print('{0} misclassified ({1} test data points)'.format(sum(y_test != y_pred), len(y_test)))\n",
    "for ii in ind_misclassified:\n",
    "    print(exercise_abbrs[y_test[ii]] + ' classified as ' + exercise_abbrs[y_pred[ii]])"
   ]
  },
  {
   "cell_type": "code",
   "execution_count": null,
   "metadata": {},
   "outputs": [],
   "source": []
  }
 ],
 "metadata": {
  "kernelspec": {
   "display_name": "Python 3",
   "language": "python",
   "name": "python3"
  },
  "language_info": {
   "codemirror_mode": {
    "name": "ipython",
    "version": 3
   },
   "file_extension": ".py",
   "mimetype": "text/x-python",
   "name": "python",
   "nbconvert_exporter": "python",
   "pygments_lexer": "ipython3",
   "version": "3.6.2"
  },
  "toc": {
   "base_numbering": 1,
   "nav_menu": {},
   "number_sections": true,
   "sideBar": true,
   "skip_h1_title": false,
   "title_cell": "Table of Contents",
   "title_sidebar": "Contents",
   "toc_cell": false,
   "toc_position": {},
   "toc_section_display": true,
   "toc_window_display": false
  },
  "varInspector": {
   "cols": {
    "lenName": 16,
    "lenType": 16,
    "lenVar": 40
   },
   "kernels_config": {
    "python": {
     "delete_cmd_postfix": "",
     "delete_cmd_prefix": "del ",
     "library": "var_list.py",
     "varRefreshCmd": "print(var_dic_list())"
    },
    "r": {
     "delete_cmd_postfix": ") ",
     "delete_cmd_prefix": "rm(",
     "library": "var_list.r",
     "varRefreshCmd": "cat(var_dic_list()) "
    }
   },
   "types_to_exclude": [
    "module",
    "function",
    "builtin_function_or_method",
    "instance",
    "_Feature"
   ],
   "window_display": false
  }
 },
 "nbformat": 4,
 "nbformat_minor": 2
}
