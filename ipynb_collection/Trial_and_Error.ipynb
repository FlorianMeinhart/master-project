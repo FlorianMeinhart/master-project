{
 "cells": [
  {
   "cell_type": "markdown",
   "metadata": {},
   "source": [
    "# Trial and Error\n",
    "\n",
    "Just to try something out\n",
    "\n",
    "\n",
    "-------------------------------------------------------"
   ]
  },
  {
   "cell_type": "code",
   "execution_count": 1,
   "metadata": {
    "ExecuteTime": {
     "end_time": "2018-11-15T09:33:54.387984Z",
     "start_time": "2018-11-15T09:33:38.602081Z"
    }
   },
   "outputs": [],
   "source": [
    "import numpy as np\n",
    "import pandas as pd\n",
    "import matplotlib.pyplot as plt\n",
    "import matplotlib as mpl\n",
    "from mpl_toolkits.mplot3d import Axes3D\n",
    "import sympy as sp\n",
    "from sympy import sin, cos, tan, asin, acos, atan, pi, pprint, simplify\n",
    "from IPython.display import display\n",
    "import os\n",
    "import scipy.integrate as integrate\n",
    "import skinematics as skin"
   ]
  },
  {
   "cell_type": "code",
   "execution_count": null,
   "metadata": {},
   "outputs": [],
   "source": []
  },
  {
   "cell_type": "code",
   "execution_count": null,
   "metadata": {},
   "outputs": [],
   "source": []
  },
  {
   "cell_type": "code",
   "execution_count": null,
   "metadata": {},
   "outputs": [],
   "source": []
  },
  {
   "cell_type": "code",
   "execution_count": null,
   "metadata": {},
   "outputs": [],
   "source": [
    "#import sys\n",
    "#sys.path\n",
    "\n",
    "#import os\n",
    "#os.environ[\"PATH\"] += os.pathsep + r'E:\\Programme\\graphviz-2.38\\release\\bin'\n",
    "#os.environ[\"PATH\"]"
   ]
  },
  {
   "cell_type": "code",
   "execution_count": null,
   "metadata": {},
   "outputs": [],
   "source": [
    "%run -i test_print"
   ]
  },
  {
   "cell_type": "code",
   "execution_count": null,
   "metadata": {},
   "outputs": [],
   "source": [
    "from graphviz import Digraph\n",
    "\n",
    "dot = Digraph(comment='The Round Table')\n",
    "dot.node('A', 'King Arthur')\n",
    "dot.node('B', 'Sir Bedevere the Wise')\n",
    "dot.node('L', 'Sir Lancelot the Brave')\n",
    "dot.edges(['AB', 'AL'])\n",
    "dot.edge('B', 'L', constraint='false')\n",
    "\n",
    "print(dot.source)\n",
    "dot.render('round-table.gv', view=True)"
   ]
  },
  {
   "cell_type": "code",
   "execution_count": null,
   "metadata": {},
   "outputs": [],
   "source": []
  },
  {
   "cell_type": "code",
   "execution_count": null,
   "metadata": {},
   "outputs": [],
   "source": []
  },
  {
   "cell_type": "code",
   "execution_count": null,
   "metadata": {},
   "outputs": [],
   "source": []
  },
  {
   "cell_type": "code",
   "execution_count": 35,
   "metadata": {
    "ExecuteTime": {
     "end_time": "2018-11-23T15:22:29.935376Z",
     "start_time": "2018-11-23T15:22:29.922375Z"
    }
   },
   "outputs": [],
   "source": [
    "d = {}"
   ]
  },
  {
   "cell_type": "code",
   "execution_count": 37,
   "metadata": {
    "ExecuteTime": {
     "end_time": "2018-11-23T15:24:01.717626Z",
     "start_time": "2018-11-23T15:24:01.709625Z"
    }
   },
   "outputs": [],
   "source": [
    "keys = ['subject01','RF','05','01']"
   ]
  },
  {
   "cell_type": "code",
   "execution_count": 54,
   "metadata": {
    "ExecuteTime": {
     "end_time": "2018-11-23T15:35:01.236348Z",
     "start_time": "2018-11-23T15:35:01.206346Z"
    }
   },
   "outputs": [
    {
     "name": "stdout",
     "output_type": "stream",
     "text": [
      "super\n",
      "super\n"
     ]
    }
   ],
   "source": [
    "try:\n",
    "    if isinstance(d[keys[0]], dict):\n",
    "        print('super')\n",
    "        \n",
    "except:\n",
    "    d[keys[0]] = {}\n",
    "    print('1st key added')"
   ]
  },
  {
   "cell_type": "code",
   "execution_count": 34,
   "metadata": {
    "ExecuteTime": {
     "end_time": "2018-11-23T15:17:38.175689Z",
     "start_time": "2018-11-23T15:17:38.157688Z"
    }
   },
   "outputs": [
    {
     "data": {
      "text/plain": [
       "['b']"
      ]
     },
     "execution_count": 34,
     "metadata": {},
     "output_type": "execute_result"
    }
   ],
   "source": [
    "[*d2]"
   ]
  },
  {
   "cell_type": "code",
   "execution_count": 84,
   "metadata": {
    "ExecuteTime": {
     "end_time": "2018-11-23T15:53:50.079914Z",
     "start_time": "2018-11-23T15:53:50.071914Z"
    }
   },
   "outputs": [],
   "source": [
    "keys = ['subject01','RS','10','02']"
   ]
  },
  {
   "cell_type": "code",
   "execution_count": 79,
   "metadata": {
    "ExecuteTime": {
     "end_time": "2018-11-23T15:52:11.652285Z",
     "start_time": "2018-11-23T15:52:11.619283Z"
    }
   },
   "outputs": [
    {
     "data": {
      "text/plain": [
       "{'subject01': {'RF': {'05': {'01': {}}},\n",
       "  'RS': {'05': {'01': {}}, '10': {'01': {}}}},\n",
       " 'subject02': {'RS': {'10': {'01': {}}}},\n",
       " 'subject03': {'RS': {'10': {'01': {}, '02': {}}}}}"
      ]
     },
     "execution_count": 79,
     "metadata": {},
     "output_type": "execute_result"
    }
   ],
   "source": [
    "if keys[0] not in d:\n",
    "    d[keys[0]] = {}\n",
    "    \n",
    "if keys[1] not in d[keys[0]]:\n",
    "    d[keys[0]][keys[1]] = {}\n",
    "    \n",
    "if keys[2] not in d[keys[0]][keys[1]]:\n",
    "    d[keys[0]][keys[1]][keys[2]] = {}\n",
    "    \n",
    "if keys[3] not in d[keys[0]][keys[1]][keys[2]]:\n",
    "    d[keys[0]][keys[1]][keys[2]][keys[3]] = {}\n",
    "\n",
    "d"
   ]
  },
  {
   "cell_type": "code",
   "execution_count": 86,
   "metadata": {
    "ExecuteTime": {
     "end_time": "2018-11-23T15:54:34.256441Z",
     "start_time": "2018-11-23T15:54:34.238440Z"
    }
   },
   "outputs": [
    {
     "data": {
      "text/plain": [
       "[{'RF': {'05': {'01': {}}}, 'RS': {'05': {'01': {}}, '10': {'01': {}}}}]"
      ]
     },
     "execution_count": 86,
     "metadata": {},
     "output_type": "execute_result"
    }
   ],
   "source": [
    "[d[keys[0]]]"
   ]
  },
  {
   "cell_type": "code",
   "execution_count": null,
   "metadata": {},
   "outputs": [],
   "source": []
  },
  {
   "cell_type": "code",
   "execution_count": null,
   "metadata": {
    "ExecuteTime": {
     "end_time": "2018-11-23T15:25:26.883497Z",
     "start_time": "2018-11-23T15:25:26.868496Z"
    }
   },
   "outputs": [],
   "source": []
  },
  {
   "cell_type": "code",
   "execution_count": null,
   "metadata": {},
   "outputs": [],
   "source": []
  },
  {
   "cell_type": "code",
   "execution_count": null,
   "metadata": {},
   "outputs": [],
   "source": []
  },
  {
   "cell_type": "code",
   "execution_count": null,
   "metadata": {
    "ExecuteTime": {
     "end_time": "2018-11-12T10:27:46.754059Z",
     "start_time": "2018-11-12T10:27:46.739058Z"
    }
   },
   "outputs": [],
   "source": []
  },
  {
   "cell_type": "markdown",
   "metadata": {},
   "source": [
    "Function to design acceleration profiles:"
   ]
  },
  {
   "cell_type": "code",
   "execution_count": 101,
   "metadata": {
    "ExecuteTime": {
     "end_time": "2018-11-12T10:38:05.194432Z",
     "start_time": "2018-11-12T10:38:05.171431Z"
    }
   },
   "outputs": [],
   "source": [
    "# different slopes for time periods\n",
    "#k = [5, 0, -5] # slopes\n",
    "#tp = [0.1, 0.9, 1] # time periods\n",
    "\n",
    "\n",
    "def f_acc(k,tp,t):\n",
    "    tp = [0] + tp\n",
    "    for ii in range(len(k)):\n",
    "        if t <= tp[ii+1]:\n",
    "            return k[ii]*(t - tp[ii]) + sum([k[jj]*(tp[jj+1]-tp[jj]) for jj in range(ii)])"
   ]
  },
  {
   "cell_type": "code",
   "execution_count": 102,
   "metadata": {
    "ExecuteTime": {
     "end_time": "2018-11-12T10:38:05.506450Z",
     "start_time": "2018-11-12T10:38:05.491449Z"
    }
   },
   "outputs": [],
   "source": [
    "# Just another example for an acceleration profile\n",
    "k = [-1, 0, 3, 2, 1, 0, -1, -2, -3, -0.5, -1, 0, 1, 2, 0, -3]\n",
    "tp = [0.1, 0.2, 0.3, 0.4, 0.5, 0.6, 0.7, 0.8, 0.9, 1.3, 1.5, 1.6, 1.7, 2, 2.2, 2.8]\n",
    "\n",
    "tend = tp[-1] # end time of simulation\n",
    "\n",
    "dt = 0.01  # simulation time step size\n",
    "\n",
    "t_val =  np.arange(0,tend,dt) # time vector"
   ]
  },
  {
   "cell_type": "code",
   "execution_count": 103,
   "metadata": {
    "ExecuteTime": {
     "end_time": "2018-11-12T10:38:06.015479Z",
     "start_time": "2018-11-12T10:38:05.774465Z"
    }
   },
   "outputs": [
    {
     "data": {
      "text/plain": [
       "<matplotlib.text.Text at 0x19b106a0>"
      ]
     },
     "execution_count": 103,
     "metadata": {},
     "output_type": "execute_result"
    },
    {
     "data": {
      "image/png": "[encoded data removed]",
      "text/plain": [
       "<matplotlib.figure.Figure at 0x19ab4908>"
      ]
     },
     "metadata": {},
     "output_type": "display_data"
    }
   ],
   "source": [
    "y_acc = [f_acc(k,tp,t_val[ii]) for ii in range(len(t_val))]\n",
    "plt.plot(t_val,y_acc)\n",
    "plt.grid(True)\n",
    "plt.xlabel('time [s]')\n",
    "plt.ylabel('y [m/s^2]')\n",
    "plt.title('acceleration profile')"
   ]
  },
  {
   "cell_type": "code",
   "execution_count": 104,
   "metadata": {
    "ExecuteTime": {
     "end_time": "2018-11-12T10:38:06.325497Z",
     "start_time": "2018-11-12T10:38:06.080483Z"
    }
   },
   "outputs": [
    {
     "data": {
      "text/plain": [
       "<matplotlib.text.Text at 0x19bac588>"
      ]
     },
     "execution_count": 104,
     "metadata": {},
     "output_type": "execute_result"
    },
    {
     "data": {
      "image/png": "[encoded data removed]",
      "text/plain": [
       "<matplotlib.figure.Figure at 0x198ef160>"
      ]
     },
     "metadata": {},
     "output_type": "display_data"
    }
   ],
   "source": [
    "# first time integration --> velocity\n",
    "\n",
    "y_vel = integrate.cumtrapz(y_acc, dx=dt)\n",
    "\n",
    "plt.plot(t_val[1:],y_vel)\n",
    "plt.grid(True)\n",
    "plt.xlabel('time [s]')\n",
    "plt.ylabel('y [m/s]')\n",
    "plt.title('velocity profile')"
   ]
  },
  {
   "cell_type": "code",
   "execution_count": 105,
   "metadata": {
    "ExecuteTime": {
     "end_time": "2018-11-12T10:38:07.042538Z",
     "start_time": "2018-11-12T10:38:06.826525Z"
    }
   },
   "outputs": [
    {
     "data": {
      "text/plain": [
       "<matplotlib.text.Text at 0x19c4e0f0>"
      ]
     },
     "execution_count": 105,
     "metadata": {},
     "output_type": "execute_result"
    },
    {
     "data": {
      "image/png": "[encoded data removed]",
      "text/plain": [
       "<matplotlib.figure.Figure at 0x198e2710>"
      ]
     },
     "metadata": {},
     "output_type": "display_data"
    }
   ],
   "source": [
    "# second time integration --> position\n",
    "\n",
    "y_pos = integrate.cumtrapz(y_vel, dx=dt)\n",
    "start_height = 0\n",
    "y_pos += start_height# add offset as start position\n",
    "\n",
    "plt.plot(t_val[2:],y_pos)\n",
    "plt.grid(True)\n",
    "plt.xlabel('time [s]')\n",
    "plt.ylabel('y [m]')\n",
    "plt.title('position profile')"
   ]
  },
  {
   "cell_type": "code",
   "execution_count": null,
   "metadata": {},
   "outputs": [],
   "source": []
  },
  {
   "cell_type": "code",
   "execution_count": 130,
   "metadata": {
    "ExecuteTime": {
     "end_time": "2018-11-12T11:17:09.117497Z",
     "start_time": "2018-11-12T11:17:08.600467Z"
    }
   },
   "outputs": [
    {
     "data": {
      "image/png": "[encoded data removed]",
      "text/plain": [
       "<matplotlib.figure.Figure at 0x1ab32630>"
      ]
     },
     "metadata": {},
     "output_type": "display_data"
    }
   ],
   "source": [
    "k = [-1, 0, 3, 2, 1, 0, -1, -2, -3, -0.5, -1, 0, 1, 2, 0, -3]\n",
    "tp = [0.1, 0.2, 0.3, 0.4, 0.5, 0.6, 0.7, 0.8, 0.9, 1.3, 1.5, 1.6, 1.7, 2, 2.2, 2.8]\n",
    "\n",
    "dt = 0.01  # simulation time step size\n",
    "t_val =  np.arange(0,tp[-1],dt) # time vector\n",
    "\n",
    "y_acc = [f_acc(k,tp,t_val[ii]) for ii in range(len(t_val))]\n",
    "y_vel = integrate.cumtrapz(y_acc, dx=dt)\n",
    "y_pos = integrate.cumtrapz(y_vel, dx=dt)\n",
    "\n",
    "fig01, (ax01, ax02, ax03) = plt.subplots(nrows=3, figsize=(10, 10), sharex=True)\n",
    "\n",
    "ax01.set_title('acceleration profile')\n",
    "ax01.plot(t_val,y_acc)\n",
    "ax01.set_xlabel('time [s]')\n",
    "ax01.set_ylabel('y [m/^2]')\n",
    "ax01.grid(True)\n",
    "\n",
    "ax02.set_title('velocity profile')\n",
    "ax02.plot(t_val[1:],y_vel)\n",
    "ax02.set_xlabel('time [s]')\n",
    "ax02.set_ylabel('y [m/s]')\n",
    "ax02.grid(True)\n",
    "\n",
    "ax03.set_title('position profile')\n",
    "ax03.plot(t_val[2:],y_pos)\n",
    "ax03.set_xlabel('time [s]')\n",
    "ax03.set_ylabel('y [m]')\n",
    "ax03.grid(True)\n",
    "\n",
    "plt.show()"
   ]
  },
  {
   "cell_type": "code",
   "execution_count": 131,
   "metadata": {
    "ExecuteTime": {
     "end_time": "2018-11-12T11:17:12.013662Z",
     "start_time": "2018-11-12T11:17:11.448630Z"
    }
   },
   "outputs": [
    {
     "data": {
      "image/png": "[encoded data removed]",
      "text/plain": [
       "<matplotlib.figure.Figure at 0x1a2e8b70>"
      ]
     },
     "metadata": {},
     "output_type": "display_data"
    }
   ],
   "source": [
    "k = [-1, 0, 3, 2, 1, 0, -1, -2, -3, -0.5, -1, 0, 1, 2, 0, -3] # slopes\n",
    "tp = [0.1, 0.2, 0.3, 0.4, 0.5, 0.6, 0.7, 0.8, 0.9, 1.3, 1.5, 1.6, 1.7, 2, 2.2, 2.8] # time points\n",
    "\n",
    "dt = 0.01  # simulation time step size\n",
    "t_val =  np.arange(0,tp[-1],dt) # time vector\n",
    "\n",
    "# same acc. profile (same amplitudes) as before\n",
    "y_acc = [f_acc(k,tp,t_val[ii]) for ii in range(len(t_val))]\n",
    "\n",
    "# but now let us shorten the time\n",
    "time_factor = 0.5\n",
    "t_val_new = [x * time_factor for x in t_val]\n",
    "\n",
    "# consequently, let us change the acc. profile in order to get the same position profile as before\n",
    "y_acc[:] = [acc/time_factor**2 for acc in y_acc]\n",
    "\n",
    "y_vel = integrate.cumtrapz(y_acc, dx= dt * time_factor)\n",
    "y_pos = integrate.cumtrapz(y_vel, dx= dt * time_factor)\n",
    "\n",
    "\n",
    "fig01, (ax01, ax02, ax03) = plt.subplots(nrows=3, figsize=(10, 10), sharex=True)\n",
    "\n",
    "ax01.set_title('acceleration profile')\n",
    "ax01.plot(t_val_new,y_acc)\n",
    "ax01.set_xlabel('time [s]')\n",
    "ax01.set_ylabel('y [m/s^2]')\n",
    "ax01.grid(True)\n",
    "\n",
    "ax02.set_title('velocity profile')\n",
    "ax02.plot(t_val_new[1:],y_vel)\n",
    "ax02.set_xlabel('time [s]')\n",
    "ax02.set_ylabel('y [m/s]')\n",
    "ax02.grid(True)\n",
    "\n",
    "ax03.set_title('position profile')\n",
    "ax03.plot(t_val_new[2:],y_pos)\n",
    "ax03.set_xlabel('time [s]')\n",
    "ax03.set_ylabel('y [m]')\n",
    "ax03.grid(True)\n",
    "\n",
    "plt.show()"
   ]
  },
  {
   "cell_type": "code",
   "execution_count": null,
   "metadata": {},
   "outputs": [],
   "source": []
  },
  {
   "cell_type": "markdown",
   "metadata": {},
   "source": [
    "## Generating Acceleration Profile for Testing"
   ]
  },
  {
   "cell_type": "code",
   "execution_count": null,
   "metadata": {},
   "outputs": [],
   "source": [
    "g_mps2 = 9.80665 # [m/s^2]\n",
    "sampling_rate = 100\n",
    "\n",
    "acc_lin = np.zeros((10000,3))\n",
    "vel_ang = np.zeros((10000,3))"
   ]
  },
  {
   "cell_type": "code",
   "execution_count": null,
   "metadata": {},
   "outputs": [],
   "source": [
    "# let's set the x-component of the linear acceleration to 1 m/s^2 for the first second\n",
    "acc_lin[1:501,0] = 1/g_mps2 # m/s^2 --> g\n",
    "acc_lin[3001:3501,0] = -1/g_mps2\n",
    "time = np.arange(1000)/sampling_rate\n",
    "\n",
    "# let's set the z-component to 1 g (upright position)\n",
    "acc_lin[:,2] = 1 # g\n",
    "\n",
    "# let's make some rotation (1 deg/s around z-axis after 1 s)\n",
    "vel_ang[101:501,2] = 10"
   ]
  },
  {
   "cell_type": "markdown",
   "metadata": {},
   "source": [
    "## Additional Staff - Trajectory"
   ]
  },
  {
   "cell_type": "code",
   "execution_count": null,
   "metadata": {},
   "outputs": [],
   "source": [
    "array = np.array([1,1,1])\n",
    "M1 = np.ones((3,3))\n",
    "M2 = np.ones((3,3))\n",
    "np.dot(M2, np.dot(M1, array))"
   ]
  },
  {
   "cell_type": "code",
   "execution_count": null,
   "metadata": {},
   "outputs": [],
   "source": [
    "np.mean(sensor_data['Acc'][300:500], axis=0)"
   ]
  },
  {
   "cell_type": "code",
   "execution_count": null,
   "metadata": {},
   "outputs": [],
   "source": [
    "def butter_lowpass(cutoff, fs, order=5):\n",
    "    nyq = 0.5 * fs\n",
    "    normal_cutoff = cutoff / nyq\n",
    "    b, a = butter(order, normal_cutoff, btype='low', analog=False)\n",
    "    return b, a\n",
    "\n",
    "def butter_lowpass_filter(data, cutoff, fs, order=5):\n",
    "    b, a = butter_lowpass(cutoff, fs, order=order)\n",
    "    y = lfilter(b, a, data)\n",
    "    return y\n",
    "\n",
    "\n",
    "# Filter requirements.\n",
    "order = 3\n",
    "fs = 256       # sample rate, Hz\n",
    "cutoff = 50  # cutoff frequency of the filter, Hz\n",
    "\n",
    "# Get the filter coefficients so we can check its frequency response.\n",
    "b, a = butter_lowpass(cutoff, fs, order)\n",
    "\n",
    "\n",
    "acc_filt = butter_lowpass_filter(sensor_data['Acc'], cutoff, fs, order)\n",
    "gyr_filt = butter_lowpass_filter(sensor_data['Gyr'], cutoff, fs, order)\n",
    "\n",
    "plt.plot(acc_filt);"
   ]
  },
  {
   "cell_type": "code",
   "execution_count": null,
   "metadata": {},
   "outputs": [],
   "source": []
  },
  {
   "cell_type": "code",
   "execution_count": null,
   "metadata": {},
   "outputs": [],
   "source": []
  },
  {
   "cell_type": "code",
   "execution_count": null,
   "metadata": {},
   "outputs": [],
   "source": [
    "import pylab\n",
    "\n",
    "class plotter:\n",
    "    def __init__(self, initial_values):\n",
    "        self.values = np.array(initial_values)\n",
    "        self.fig = plt.figure(figsize=(12,8))\n",
    "\n",
    "        self.ax1 = self.fig.add_subplot(211)\n",
    "        self.ax2 = self.fig.add_subplot(212)\n",
    "        self.draw()\n",
    "        self.fig.canvas.mpl_connect('key_press_event',self.key)\n",
    "\n",
    "    def draw(self):\n",
    "        self.ax1.clear()\n",
    "        self.ax1.plot(self.values)\n",
    "\n",
    "\n",
    "    def key(self, event):\n",
    "        if event.key=='right':\n",
    "            self.values = self.values + 1\n",
    "        elif event.key == 'left':\n",
    "            self.values = self.values - 1\n",
    "\n",
    "        self.draw()\n",
    "        self.fig.canvas.draw()\n",
    "        \n",
    "%matplotlib auto\n",
    "plot = plotter([1,2,4,8])"
   ]
  },
  {
   "cell_type": "code",
   "execution_count": null,
   "metadata": {},
   "outputs": [],
   "source": []
  },
  {
   "cell_type": "code",
   "execution_count": null,
   "metadata": {},
   "outputs": [],
   "source": [
    "def positionFigure(figure, geometry):\n",
    "    '''Position one figure on a given location on the screen.\n",
    "    This works for Tk and for Qt5 backends, but may fail on others.'''\n",
    "    \n",
    "    mgr = figure.canvas.manager\n",
    "    (pos_x, pos_y, width, height) = geometry\n",
    "    \n",
    "    # positioning commands for Tk\n",
    "    position = '{0}x{1}+{2}+{3}'.format(width, height, pos_x, pos_y)\n",
    "    mgr.window.geometry(position)"
   ]
  },
  {
   "cell_type": "code",
   "execution_count": null,
   "metadata": {},
   "outputs": [],
   "source": [
    "# Get the screen size\n",
    "root = tk.Tk()\n",
    "(screen_w, screen_h) = (root.winfo_screenwidth(), root.winfo_screenheight())\n",
    "root.destroy()\n",
    "(screen_w, screen_h)"
   ]
  },
  {
   "cell_type": "code",
   "execution_count": null,
   "metadata": {},
   "outputs": [],
   "source": [
    "geometry = (0, 0, screen_w, screen_h)\n",
    "positionFigure(fig, geometry)"
   ]
  },
  {
   "cell_type": "code",
   "execution_count": null,
   "metadata": {},
   "outputs": [],
   "source": []
  },
  {
   "cell_type": "code",
   "execution_count": null,
   "metadata": {},
   "outputs": [],
   "source": []
  },
  {
   "cell_type": "code",
   "execution_count": 36,
   "metadata": {
    "ExecuteTime": {
     "end_time": "2018-11-23T12:40:19.717269Z",
     "start_time": "2018-11-23T12:40:19.699268Z"
    }
   },
   "outputs": [],
   "source": [
    "data = 33\n",
    "dictionary = {}\n",
    "file_name_split = ['subject01','RA','05','01']"
   ]
  },
  {
   "cell_type": "code",
   "execution_count": 45,
   "metadata": {
    "ExecuteTime": {
     "end_time": "2018-11-23T12:42:46.399658Z",
     "start_time": "2018-11-23T12:42:46.377657Z"
    }
   },
   "outputs": [],
   "source": [
    "def nested_dict(dictionary ,file_name_split, data):\n",
    "    \n",
    "    # check if there is still a key\n",
    "    if file_name_split:\n",
    "\n",
    "        key = file_name_split[0] # get current key for dictionary\n",
    "        file_name_split.pop(0) # remove first element\n",
    "        \n",
    "        d[key] = {}\n",
    "        d[key] = nested_dict(dictionary[key], file_name_split[:], data)\n",
    "    \n",
    "    else:\n",
    "        return data\n",
    "        \n",
    "    \n",
    "    "
   ]
  },
  {
   "cell_type": "code",
   "execution_count": 47,
   "metadata": {
    "ExecuteTime": {
     "end_time": "2018-11-23T12:42:53.045038Z",
     "start_time": "2018-11-23T12:42:53.031038Z"
    }
   },
   "outputs": [],
   "source": [
    "a = nested_dict(dictionary ,file_name_split[:], data)\n",
    "a"
   ]
  },
  {
   "cell_type": "code",
   "execution_count": 44,
   "metadata": {
    "ExecuteTime": {
     "end_time": "2018-11-23T12:41:19.290676Z",
     "start_time": "2018-11-23T12:41:19.273675Z"
    }
   },
   "outputs": [
    {
     "data": {
      "text/plain": [
       "['subject01', 'RA', '05', '01']"
      ]
     },
     "execution_count": 44,
     "metadata": {},
     "output_type": "execute_result"
    }
   ],
   "source": [
    "file_name_split"
   ]
  },
  {
   "cell_type": "code",
   "execution_count": 28,
   "metadata": {
    "ExecuteTime": {
     "end_time": "2018-11-23T12:37:07.518275Z",
     "start_time": "2018-11-23T12:37:07.495274Z"
    }
   },
   "outputs": [
    {
     "data": {
      "text/plain": [
       "{'a': {'b': 3}}"
      ]
     },
     "execution_count": 28,
     "metadata": {},
     "output_type": "execute_result"
    }
   ],
   "source": [
    "dictionary = {}\n",
    "dictionary['a'] = {}\n",
    "dictionary['a']['b'] = 3\n",
    "dictionary"
   ]
  },
  {
   "cell_type": "code",
   "execution_count": null,
   "metadata": {},
   "outputs": [],
   "source": []
  },
  {
   "cell_type": "code",
   "execution_count": null,
   "metadata": {},
   "outputs": [],
   "source": []
  }
 ],
 "metadata": {
  "kernelspec": {
   "display_name": "Python 3",
   "language": "python",
   "name": "python3"
  },
  "language_info": {
   "codemirror_mode": {
    "name": "ipython",
    "version": 3
   },
   "file_extension": ".py",
   "mimetype": "text/x-python",
   "name": "python",
   "nbconvert_exporter": "python",
   "pygments_lexer": "ipython3",
   "version": "3.6.2"
  },
  "toc": {
   "base_numbering": 1,
   "nav_menu": {},
   "number_sections": true,
   "sideBar": true,
   "skip_h1_title": false,
   "title_cell": "Table of Contents",
   "title_sidebar": "Contents",
   "toc_cell": false,
   "toc_position": {},
   "toc_section_display": true,
   "toc_window_display": false
  },
  "varInspector": {
   "cols": {
    "lenName": 16,
    "lenType": 16,
    "lenVar": 40
   },
   "kernels_config": {
    "python": {
     "delete_cmd_postfix": "",
     "delete_cmd_prefix": "del ",
     "library": "var_list.py",
     "varRefreshCmd": "print(var_dic_list())"
    },
    "r": {
     "delete_cmd_postfix": ") ",
     "delete_cmd_prefix": "rm(",
     "library": "var_list.r",
     "varRefreshCmd": "cat(var_dic_list()) "
    }
   },
   "types_to_exclude": [
    "module",
    "function",
    "builtin_function_or_method",
    "instance",
    "_Feature"
   ],
   "window_display": false
  }
 },
 "nbformat": 4,
 "nbformat_minor": 2
}
