{
 "cells": [
  {
   "cell_type": "markdown",
   "metadata": {},
   "source": [
    "# Class for Signal Data"
   ]
  },
  {
   "cell_type": "code",
   "execution_count": 1,
   "metadata": {
    "ExecuteTime": {
     "end_time": "2018-11-29T12:04:52.277617Z",
     "start_time": "2018-11-29T12:04:50.182498Z"
    }
   },
   "outputs": [],
   "source": [
    "import os\n",
    "import re\n",
    "import json\n",
    "import numpy as np\n",
    "\n",
    "from functionsMasterProjectMeinhart import get_sensor_data"
   ]
  },
  {
   "cell_type": "code",
   "execution_count": null,
   "metadata": {},
   "outputs": [],
   "source": []
  },
  {
   "cell_type": "code",
   "execution_count": 2,
   "metadata": {
    "ExecuteTime": {
     "end_time": "2018-11-29T12:04:52.466628Z",
     "start_time": "2018-11-29T12:04:52.297619Z"
    }
   },
   "outputs": [],
   "source": [
    "def load_data_from_directory(file_dir, data_dict):\n",
    "    '''\n",
    "    Function to load all signal data from files of desired folder,\n",
    "    then saving them to dictionary.\n",
    "    '''\n",
    "    # load all file names of desired folder\n",
    "    files = []\n",
    "    for (dirpath, dirnames, filenames) in os.walk(file_dir):\n",
    "        files.extend(filenames)\n",
    "        break\n",
    "    \n",
    "    # go through all files and save data to dictionary\n",
    "    for ii in range(len(files)):\n",
    "        \n",
    "        current_rep_flag = False\n",
    "        \n",
    "        # check if file name contains subject, exercise and number of repetitions (e.g. 'subject01_RF_05.csv')\n",
    "        if len(re.split('[_.]',files[ii])) is 4:\n",
    "            # split current file\n",
    "            current_sub = re.split('[_.]',files[ii])[0]\n",
    "            current_ex  = re.split('[_.]',files[ii])[1]\n",
    "            current_num_reps = re.split('[_.]',files[ii])[2]\n",
    "            \n",
    "        # check if file name contains additionaly current repetition (e.g. 'subject01_RF_05_01.csv')\n",
    "        elif len(re.split('[_.]',files[ii])) is 5:\n",
    "            current_rep_flag = True\n",
    "            \n",
    "            # split current file\n",
    "            current_sub = re.split('[_.]',files[ii])[0]\n",
    "            current_ex  = re.split('[_.]',files[ii])[1]\n",
    "            current_num_reps = re.split('[_.]',files[ii])[2]\n",
    "            current_rep = re.split('[_.]',files[ii])[3]\n",
    "        \n",
    "        # list for keys of dictionary (e.g. ['subject01','RS','10','02'])\n",
    "        if current_rep_flag:\n",
    "            keys = [current_sub, current_ex, current_num_reps, current_rep]\n",
    "        else:\n",
    "            keys = [current_sub, current_ex, current_num_reps]\n",
    "        \n",
    "        # create nested dictionary entry if it does not already exist\n",
    "        if keys[0] not in data_dict:\n",
    "            data_dict[keys[0]] = {}\n",
    "        if keys[1] not in data_dict[keys[0]]:\n",
    "            data_dict[keys[0]][keys[1]] = {}\n",
    "        if keys[2] not in data_dict[keys[0]][keys[1]]:\n",
    "            data_dict[keys[0]][keys[1]][keys[2]] = {}\n",
    "        if current_rep_flag:\n",
    "            if keys[3] not in data_dict[keys[0]][keys[1]][keys[2]]:\n",
    "                data_dict[keys[0]][keys[1]][keys[2]][keys[3]] = {}\n",
    "        \n",
    "        # put current file path together\n",
    "        file_path = os.path.join(file_dir, files[ii])\n",
    "        \n",
    "        # load signal data and save to dictionary\n",
    "        if current_rep_flag:\n",
    "            data_dict[keys[0]][keys[1]][keys[2]][keys[3]] = \\\n",
    "                get_sensor_data(in_file=file_path, signals=['Acc','Gyr','Mag'])\n",
    "        else:\n",
    "            data_dict[keys[0]][keys[1]][keys[2]] = \\\n",
    "                get_sensor_data(in_file=file_path, signals=['Acc','Gyr','Mag'])\n",
    "        \n",
    "                  "
   ]
  },
  {
   "cell_type": "code",
   "execution_count": 3,
   "metadata": {
    "ExecuteTime": {
     "end_time": "2018-11-29T12:04:52.584635Z",
     "start_time": "2018-11-29T12:04:52.482629Z"
    }
   },
   "outputs": [],
   "source": [
    "def print_dict_keys_func(data_dict, indent):\n",
    "    \n",
    "    indent += 1\n",
    "    \n",
    "    for key in [*data_dict]:\n",
    "        print('\\t' * indent + key)\n",
    "            \n",
    "        # check if dictionary is still nested\n",
    "        if isinstance(data_dict[key], dict):\n",
    "            print_dict_keys_func(data_dict[key], indent)\n",
    "    \n",
    "    indent -= 1\n",
    "            "
   ]
  },
  {
   "cell_type": "code",
   "execution_count": 4,
   "metadata": {
    "ExecuteTime": {
     "end_time": "2018-11-29T12:04:52.687641Z",
     "start_time": "2018-11-29T12:04:52.608636Z"
    }
   },
   "outputs": [],
   "source": [
    "class NumpyEncoder(json.JSONEncoder):\n",
    "    \"\"\" Special json encoder for numpy types \"\"\"\n",
    "    def default(self, obj):\n",
    "        if isinstance(obj, (np.int_, np.intc, np.intp, np.int8,\n",
    "            np.int16, np.int32, np.int64, np.uint8,\n",
    "            np.uint16, np.uint32, np.uint64)):\n",
    "            return int(obj)\n",
    "        elif isinstance(obj, (np.float_, np.float16, np.float32, \n",
    "            np.float64)):\n",
    "            return float(obj)\n",
    "        elif isinstance(obj,(np.ndarray,)): #### This is the fix\n",
    "            return obj.tolist()\n",
    "        return json.JSONEncoder.default(self, obj)\n",
    "\n",
    "\n",
    "def save_dict_as_json_file(data_dict, save_path):\n",
    "    # save dumped data to json file\n",
    "    with open(save_path, 'w') as write_file:\n",
    "        json.dump(data_dict, write_file, cls=NumpyEncoder, indent=2)"
   ]
  },
  {
   "cell_type": "code",
   "execution_count": 5,
   "metadata": {
    "ExecuteTime": {
     "end_time": "2018-11-29T12:04:52.785646Z",
     "start_time": "2018-11-29T12:04:52.703642Z"
    }
   },
   "outputs": [],
   "source": [
    "def convert_data_in_dictionary_to_numpyArray(data_dict):\n",
    "    for key in [*data_dict]:\n",
    "        # check if dictionary is still nested\n",
    "        if isinstance(data_dict[key], dict):\n",
    "            convert_data_in_dictionary_to_numpyArray(data_dict[key])\n",
    "        else:\n",
    "            data_dict[key] = np.array(data_dict[key])"
   ]
  },
  {
   "cell_type": "markdown",
   "metadata": {},
   "source": [
    "Below is the actual class for the data"
   ]
  },
  {
   "cell_type": "code",
   "execution_count": 6,
   "metadata": {
    "ExecuteTime": {
     "end_time": "2018-11-29T12:04:52.908654Z",
     "start_time": "2018-11-29T12:04:52.813648Z"
    }
   },
   "outputs": [],
   "source": [
    "class SignalData():\n",
    "    '''\n",
    "    Class for signal data.\n",
    "    '''\n",
    "    def __init__(self, csv_dir=None, json_file=None, sampling_rate=256):\n",
    "        self.csv_dir = csv_dir\n",
    "        self.json_file = json_file\n",
    "        self.sampling_rate = sampling_rate\n",
    "        self.data_dict = {}\n",
    "        \n",
    "        # load data in the beginning if csv-directory or json-file name is given\n",
    "        if csv_dir:\n",
    "            load_data_from_directory(csv_dir, self.data_dict)\n",
    "        elif json_file:\n",
    "            self.get_data_json(json_file)\n",
    "            \n",
    "    def get_data_csv(self, csv_dir):\n",
    "        self.data_dict.clear()\n",
    "        load_data_from_directory(csv_dir, self.data_dict)\n",
    "            \n",
    "    def print_all_dict_keys(self):\n",
    "        indent = -1\n",
    "        if self.data_dict:\n",
    "            print_dict_keys_func(self.data_dict, indent)\n",
    "        else:\n",
    "            print('No dictionary available.')\n",
    "            \n",
    "    def save_data_json(self, json_file_name, save_file_dir=None):\n",
    "        if save_file_dir:\n",
    "            json_file_path = os.path.join(save_file_dir, json_file_name)\n",
    "        else:\n",
    "            json_file_path = json_file_name\n",
    "            \n",
    "        save_dict_as_json_file(self.data_dict, json_file_path)\n",
    "        \n",
    "    def get_data_json(self, json_file_name, file_dir=None):\n",
    "        if file_dir:\n",
    "            json_file_path = os.path.join(file_dir, json_file_name)\n",
    "        else:\n",
    "            json_file_path = json_file_name\n",
    "        \n",
    "        self.data_dict.clear()\n",
    "        with open(json_file_path, 'r') as read_file:\n",
    "            self.data_dict = json.load(read_file)\n",
    "    \n",
    "        convert_data_in_dictionary_to_numpyArray(self.data_dict)\n",
    "        "
   ]
  },
  {
   "cell_type": "code",
   "execution_count": null,
   "metadata": {},
   "outputs": [],
   "source": []
  },
  {
   "cell_type": "code",
   "execution_count": null,
   "metadata": {},
   "outputs": [],
   "source": []
  },
  {
   "cell_type": "code",
   "execution_count": null,
   "metadata": {},
   "outputs": [],
   "source": []
  },
  {
   "cell_type": "code",
   "execution_count": 7,
   "metadata": {
    "ExecuteTime": {
     "end_time": "2018-11-29T12:04:57.037890Z",
     "start_time": "2018-11-29T12:04:56.626866Z"
    }
   },
   "outputs": [],
   "source": [
    "my_data = SignalData('E:\\Physio_Data_Split_Exercise_test')"
   ]
  },
  {
   "cell_type": "code",
   "execution_count": 8,
   "metadata": {
    "ExecuteTime": {
     "end_time": "2018-11-29T12:05:24.910484Z",
     "start_time": "2018-11-29T12:05:24.893483Z"
    }
   },
   "outputs": [
    {
     "name": "stdout",
     "output_type": "stream",
     "text": [
      "subject01\n",
      "\tBC\n",
      "\t\t05\n",
      "\t\t\tAcc\n",
      "\t\t\tGyr\n",
      "\t\t\tMag\n",
      "\t\t\ttime\n",
      "\t\t10\n",
      "\t\t\tAcc\n",
      "\t\t\tGyr\n",
      "\t\t\tMag\n",
      "\t\t\ttime\n",
      "\t\t15\n",
      "\t\t\tAcc\n",
      "\t\t\tGyr\n",
      "\t\t\tMag\n",
      "\t\t\ttime\n"
     ]
    }
   ],
   "source": [
    "my_data.print_all_dict_keys()"
   ]
  },
  {
   "cell_type": "code",
   "execution_count": 9,
   "metadata": {
    "ExecuteTime": {
     "end_time": "2018-11-29T12:06:03.665701Z",
     "start_time": "2018-11-29T12:06:03.571695Z"
    }
   },
   "outputs": [
    {
     "data": {
      "text/plain": [
       "array([[-0.8818359 ,  0.2978516 , -0.3535156 ],\n",
       "       [-0.8740234 ,  0.3251953 , -0.3691406 ],\n",
       "       [-0.8662109 ,  0.3447266 , -0.3969727 ],\n",
       "       ...,\n",
       "       [ 0.1010742 ,  0.4145508 ,  0.8261719 ],\n",
       "       [ 0.09716797,  0.3681641 ,  0.8300781 ],\n",
       "       [ 0.112793  ,  0.3525391 ,  0.8144531 ]])"
      ]
     },
     "execution_count": 9,
     "metadata": {},
     "output_type": "execute_result"
    }
   ],
   "source": [
    "my_data.data_dict['subject01']['BC']['05']['Acc']"
   ]
  },
  {
   "cell_type": "code",
   "execution_count": null,
   "metadata": {},
   "outputs": [],
   "source": []
  },
  {
   "cell_type": "code",
   "execution_count": null,
   "metadata": {},
   "outputs": [],
   "source": []
  },
  {
   "cell_type": "code",
   "execution_count": 8,
   "metadata": {
    "ExecuteTime": {
     "end_time": "2018-11-25T18:14:32.545170Z",
     "start_time": "2018-11-25T18:14:32.417163Z"
    }
   },
   "outputs": [],
   "source": [
    "my_data_2 = SignalData()\n",
    "my_data_2.get_data_csv('E:\\Physio_Data_Split_Exercise_test')"
   ]
  },
  {
   "cell_type": "code",
   "execution_count": 9,
   "metadata": {
    "ExecuteTime": {
     "end_time": "2018-11-25T18:14:32.567172Z",
     "start_time": "2018-11-25T18:14:32.553171Z"
    }
   },
   "outputs": [
    {
     "data": {
      "text/plain": [
       "numpy.ndarray"
      ]
     },
     "execution_count": 9,
     "metadata": {},
     "output_type": "execute_result"
    }
   ],
   "source": [
    "type(my_data_2.data_dict['subject01']['BC']['05']['Acc'])"
   ]
  },
  {
   "cell_type": "code",
   "execution_count": null,
   "metadata": {},
   "outputs": [],
   "source": []
  },
  {
   "cell_type": "code",
   "execution_count": 10,
   "metadata": {
    "ExecuteTime": {
     "end_time": "2018-11-25T18:14:34.427278Z",
     "start_time": "2018-11-25T18:14:32.572172Z"
    }
   },
   "outputs": [],
   "source": [
    "my_data.save_data_json('data_dict.json')"
   ]
  },
  {
   "cell_type": "code",
   "execution_count": 19,
   "metadata": {
    "ExecuteTime": {
     "end_time": "2018-11-25T18:18:29.590729Z",
     "start_time": "2018-11-25T18:18:29.276711Z"
    }
   },
   "outputs": [],
   "source": [
    "new_data = SignalData(json_file='data_dict.json')"
   ]
  },
  {
   "cell_type": "code",
   "execution_count": null,
   "metadata": {
    "ExecuteTime": {
     "end_time": "2018-11-25T18:18:30.777796Z",
     "start_time": "2018-11-25T18:18:30.745795Z"
    }
   },
   "outputs": [],
   "source": []
  },
  {
   "cell_type": "code",
   "execution_count": 21,
   "metadata": {
    "ExecuteTime": {
     "end_time": "2018-11-25T18:18:36.269110Z",
     "start_time": "2018-11-25T18:18:36.246109Z"
    }
   },
   "outputs": [
    {
     "data": {
      "text/plain": [
       "numpy.ndarray"
      ]
     },
     "execution_count": 21,
     "metadata": {},
     "output_type": "execute_result"
    }
   ],
   "source": [
    "type(new_data.data_dict['subject01']['BC']['05']['Acc'])"
   ]
  },
  {
   "cell_type": "code",
   "execution_count": null,
   "metadata": {},
   "outputs": [],
   "source": []
  }
 ],
 "metadata": {
  "kernelspec": {
   "display_name": "Python 3",
   "language": "python",
   "name": "python3"
  },
  "language_info": {
   "codemirror_mode": {
    "name": "ipython",
    "version": 3
   },
   "file_extension": ".py",
   "mimetype": "text/x-python",
   "name": "python",
   "nbconvert_exporter": "python",
   "pygments_lexer": "ipython3",
   "version": "3.6.2"
  },
  "toc": {
   "base_numbering": 1,
   "nav_menu": {},
   "number_sections": true,
   "sideBar": true,
   "skip_h1_title": false,
   "title_cell": "Table of Contents",
   "title_sidebar": "Contents",
   "toc_cell": false,
   "toc_position": {},
   "toc_section_display": true,
   "toc_window_display": false
  },
  "varInspector": {
   "cols": {
    "lenName": 16,
    "lenType": 16,
    "lenVar": 40
   },
   "kernels_config": {
    "python": {
     "delete_cmd_postfix": "",
     "delete_cmd_prefix": "del ",
     "library": "var_list.py",
     "varRefreshCmd": "print(var_dic_list())"
    },
    "r": {
     "delete_cmd_postfix": ") ",
     "delete_cmd_prefix": "rm(",
     "library": "var_list.r",
     "varRefreshCmd": "cat(var_dic_list()) "
    }
   },
   "types_to_exclude": [
    "module",
    "function",
    "builtin_function_or_method",
    "instance",
    "_Feature"
   ],
   "window_display": false
  }
 },
 "nbformat": 4,
 "nbformat_minor": 2
}
