{
 "cells": [
  {
   "cell_type": "markdown",
   "metadata": {},
   "source": [
    "# Read and Plot Data"
   ]
  },
  {
   "cell_type": "code",
   "execution_count": 1,
   "metadata": {
    "ExecuteTime": {
     "end_time": "2018-11-23T21:02:25.695682Z",
     "start_time": "2018-11-23T21:02:24.058589Z"
    }
   },
   "outputs": [
    {
     "name": "stdout",
     "output_type": "stream",
     "text": [
      "Using matplotlib backend: TkAgg\n"
     ]
    }
   ],
   "source": [
    "import functionsMasterProjectMeinhart as fmpm\n",
    "from scipy.signal import savgol_filter\n",
    "from matplotlib.widgets import Button\n",
    "\n",
    "%matplotlib auto"
   ]
  },
  {
   "cell_type": "code",
   "execution_count": 7,
   "metadata": {
    "ExecuteTime": {
     "end_time": "2018-11-23T21:37:33.508242Z",
     "start_time": "2018-11-23T21:37:31.338118Z"
    }
   },
   "outputs": [],
   "source": [
    "# select file (csv)\n",
    "file_dir  = r'E:\\Physio_Data\\Subject_06'\n",
    "file_name = 'subject06.csv'\n",
    "\n",
    "# selecet time range [min:sec]\n",
    "start_min_sec = '15:0'\n",
    "stop_min_sec  = '31:0'\n",
    "\n",
    "\n",
    "\n",
    "sampling_rate = 256 # [Hz]\n",
    "\n",
    "# split time string and convert to float\n",
    "start_min = float(start_min_sec.split(':')[0])\n",
    "start_sec = float(start_min_sec.split(':')[1])\n",
    "stop_min = float(stop_min_sec.split(':')[0])\n",
    "stop_sec = float(stop_min_sec.split(':')[1])\n",
    "\n",
    "# start and stop time in seconds\n",
    "start_time = start_min*60 + start_sec # [s]\n",
    "stop_time = stop_min*60 + stop_sec # [s]\n",
    "\n",
    "# join data path\n",
    "data_path = os.path.join(file_dir, file_name)\n",
    "\n",
    "# get data from selected file\n",
    "sensor_data = fmpm.get_sensor_data(in_file=data_path,\n",
    "                                   sampling_rate=sampling_rate,\n",
    "                                   start_time=start_time,\n",
    "                                   stop_time=stop_time,\n",
    "                                   add_info=file_name)\n",
    "\n",
    "if sensor_data is not 0:\n",
    "    \n",
    "    fig, axs = plt.subplots(2,1, sharex=True, figsize=(18,9))\n",
    "    plt.subplots_adjust(bottom=0.2) # make space for buttons\n",
    "    \n",
    "    \n",
    "    # class for marking area via button        \n",
    "    class MarkPlot:\n",
    "\n",
    "        def new_plot(self):\n",
    "            \n",
    "            fig.suptitle(' ')\n",
    "            \n",
    "            plt.sca(axs[0])\n",
    "            axs[0].clear()\n",
    "            fmpm.plot_signal(sensor_data['Acc'],sensor_data['time'],\n",
    "                        Title='Acceleration Profile')\n",
    "            plt.gca().set_xlabel('')\n",
    "            plt.sca(axs[1])\n",
    "            axs[1].clear()\n",
    "            fmpm.plot_signal(sensor_data['Gyr'],sensor_data['time'],\n",
    "                        Title='Angular Velocity Profile',\n",
    "                        xLabel=r'$time \\enspace [s]$',\n",
    "                        yLabel=r'$vel \\enspace [\\frac{deg}{s}]$')\n",
    "            plt.draw()\n",
    "        \n",
    "        def unmark(self, event):\n",
    "            self.new_plot()\n",
    "        \n",
    "        def select_mark_area(self, event):\n",
    "            \n",
    "            # self.new_plot()\n",
    "            \n",
    "            # select two points for time range\n",
    "            selected_points = plt.ginput(2)\n",
    "\n",
    "            # check if two points are selected\n",
    "            if np.shape(selected_points)[0] is 2:\n",
    "\n",
    "                # selected start and stop time\n",
    "                start_time_sel = selected_points[0][0]\n",
    "                stop_time_sel  = selected_points[1][0]\n",
    "\n",
    "                # change start and stop time if start time is higher than stop time\n",
    "                if start_time_sel > stop_time_sel:\n",
    "                    puffer = start_time_sel\n",
    "                    start_time_sel = stop_time_sel\n",
    "                    stop_time_sel = puffer\n",
    "\n",
    "                # calculate corresponding index   !!! minus general start time\n",
    "                start_time_sel_index = int((start_time_sel-start_time)*sampling_rate)\n",
    "                stop_time_sel_index  = int((stop_time_sel-start_time)*sampling_rate)\n",
    "\n",
    "                # refresh title of figure and show selected time range\n",
    "                fig.suptitle(r'Selected time range: {0:02d}:{1:05.2f} $\\rightarrow$ {2:02d}:{3:05.2f}'.format(\n",
    "                    int(start_time_sel/60),start_time_sel%60,int(stop_time_sel/60),stop_time_sel%60),fontsize=20)\n",
    "\n",
    "\n",
    "                # mark selected area\n",
    "                for ii in range(2):\n",
    "                        plt.sca(axs[ii])\n",
    "                        plt.axvspan(start_time_sel, stop_time_sel, color='y', alpha=0.3, lw=0)\n",
    "                plt.draw()\n",
    "\n",
    "\n",
    "    callback = MarkPlot()\n",
    "    callback.new_plot()\n",
    "\n",
    "    ax_unmark = plt.axes([0.57, 0.05, 0.15, 0.075])\n",
    "    ax_select = plt.axes([0.74, 0.05, 0.15, 0.075])\n",
    "\n",
    "    b_unmark = Button(ax_unmark, 'Unmark Area')\n",
    "    b_unmark.on_clicked(callback.unmark)\n",
    "    b_select = Button(ax_select, 'Select Time Range')\n",
    "    b_select.on_clicked(callback.select_mark_area)\n"
   ]
  },
  {
   "cell_type": "code",
   "execution_count": null,
   "metadata": {},
   "outputs": [],
   "source": []
  }
 ],
 "metadata": {
  "kernelspec": {
   "display_name": "Python 3",
   "language": "python",
   "name": "python3"
  },
  "toc": {
   "base_numbering": 1,
   "nav_menu": {},
   "number_sections": true,
   "sideBar": true,
   "skip_h1_title": false,
   "title_cell": "Table of Contents",
   "title_sidebar": "Contents",
   "toc_cell": false,
   "toc_position": {},
   "toc_section_display": true,
   "toc_window_display": false
  },
  "varInspector": {
   "cols": {
    "lenName": 16,
    "lenType": 16,
    "lenVar": 40
   },
   "kernels_config": {
    "python": {
     "delete_cmd_postfix": "",
     "delete_cmd_prefix": "del ",
     "library": "var_list.py",
     "varRefreshCmd": "print(var_dic_list())"
    },
    "r": {
     "delete_cmd_postfix": ") ",
     "delete_cmd_prefix": "rm(",
     "library": "var_list.r",
     "varRefreshCmd": "cat(var_dic_list()) "
    }
   },
   "types_to_exclude": [
    "module",
    "function",
    "builtin_function_or_method",
    "instance",
    "_Feature"
   ],
   "window_display": false
  }
 },
 "nbformat": 4,
 "nbformat_minor": 2
}
