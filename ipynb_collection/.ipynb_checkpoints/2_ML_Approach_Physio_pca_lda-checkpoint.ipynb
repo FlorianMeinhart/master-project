{
 "cells": [
  {
   "cell_type": "markdown",
   "metadata": {
    "extensions": {
     "jupyter_dashboards": {
      "version": 1,
      "views": {
       "grid_default": {
        "col": 0,
        "height": 4,
        "hidden": false,
        "row": 0,
        "width": 12
       },
       "report_default": {}
      }
     }
    }
   },
   "source": [
    "# Second Machine Learning Approach for Physio Data \n",
    "   **with dimension reduction**"
   ]
  },
  {
   "cell_type": "code",
   "execution_count": 10,
   "metadata": {
    "ExecuteTime": {
     "end_time": "2018-12-06T14:22:09.261665Z",
     "start_time": "2018-12-06T14:22:07.968591Z"
    },
    "extensions": {
     "jupyter_dashboards": {
      "version": 1,
      "views": {
       "grid_default": {
        "hidden": true
       },
       "report_default": {}
      }
     }
    }
   },
   "outputs": [],
   "source": [
    "import matplotlib.pyplot as plt\n",
    "import pandas as pd\n",
    "import sqlite3\n",
    "import functionsMasterProjectMeinhart as fmpm"
   ]
  },
  {
   "cell_type": "markdown",
   "metadata": {
    "extensions": {
     "jupyter_dashboards": {
      "version": 1,
      "views": {
       "grid_default": {
        "col": 0,
        "height": 7,
        "hidden": false,
        "row": 4,
        "width": null
       },
       "report_default": {}
      }
     }
    }
   },
   "source": [
    "## Splitting the signals into sections and taking them directly as features for ML\n",
    "\n",
    "One repetition is considered as one data point for ML.\n",
    "\n",
    "In total we have approximately 2700 data points $\\rightarrow$ (5 + 10 + 15) rep. x 9 sub. x 10 exerc. (a few more or less because of incorrect exercise repetitions of some subjects).\n",
    "\n",
    "The signals will be split into a defined number of equally distributed sections. For each section the mean will be calculated. Hence, all received signal arrays have same length."
   ]
  },
  {
   "cell_type": "markdown",
   "metadata": {
    "extensions": {
     "jupyter_dashboards": {
      "version": 1,
      "views": {
       "grid_default": {
        "col": 0,
        "height": 4,
        "hidden": false,
        "row": 11,
        "width": 4
       },
       "report_default": {}
      }
     }
    }
   },
   "source": [
    "***The first step is to extract all data from the database (start_time, stop_time, csv-file), ***\n",
    "\n",
    "***and to save them in a dictionary with the exercise abbreviations as keys.***"
   ]
  },
  {
   "cell_type": "code",
   "execution_count": 2,
   "metadata": {
    "ExecuteTime": {
     "end_time": "2018-12-06T08:17:34.141569Z",
     "start_time": "2018-12-06T08:17:33.911556Z"
    },
    "extensions": {
     "jupyter_dashboards": {
      "version": 1,
      "views": {
       "grid_default": {
        "hidden": true
       },
       "report_default": {}
      }
     }
    }
   },
   "outputs": [],
   "source": [
    "db_name='DataBase_Physio.db' # database name\n",
    "\n",
    "exercise_abbrs = ['RF','RO','RS','LR','BC','TC','MP','SA','P1','P2'] # exercise abbreviations\n",
    "\n",
    "\n",
    "# Connect to an existing database\n",
    "conn = sqlite3.connect(db_name)\n",
    "cur = conn.cursor()\n",
    "\n",
    "# dictionary with the exercise abbreviation as key\n",
    "data_points = {}\n",
    "\n",
    "for key in exercise_abbrs:\n",
    "    # sql command to extract data\n",
    "    query_sql = \"\"\"\n",
    "        SELECT r.start_time, r.stop_time, e.csv_file\n",
    "        FROM subjects s\n",
    "        INNER JOIN exercises e\n",
    "        ON s.id = e.subject_id\n",
    "        INNER JOIN paradigms p\n",
    "        ON p.id = e.paradigm_id\n",
    "        INNER JOIN repetitions r\n",
    "        ON e.id = r.exercise_id\n",
    "        WHERE p.abbreviation = '{}'\n",
    "        \"\"\".format(key)\n",
    "\n",
    "    # get data from data base and close connection\n",
    "    data_points[key] = pd.read_sql_query(query_sql, conn)\n",
    "    \n",
    "conn.close()"
   ]
  },
  {
   "cell_type": "code",
   "execution_count": 3,
   "metadata": {
    "ExecuteTime": {
     "end_time": "2018-12-06T08:17:34.174571Z",
     "start_time": "2018-12-06T08:17:34.144569Z"
    },
    "extensions": {
     "jupyter_dashboards": {
      "version": 1,
      "views": {
       "grid_default": {
        "col": 4,
        "height": 8,
        "hidden": false,
        "row": 11,
        "width": 5
       },
       "report_default": {}
      }
     }
    }
   },
   "outputs": [
    {
     "name": "stdout",
     "output_type": "stream",
     "text": [
      "Head of one loaded data frame as an example:\n"
     ]
    },
    {
     "data": {
      "text/html": [
       "<div>\n",
       "<style>\n",
       "    .dataframe thead tr:only-child th {\n",
       "        text-align: right;\n",
       "    }\n",
       "\n",
       "    .dataframe thead th {\n",
       "        text-align: left;\n",
       "    }\n",
       "\n",
       "    .dataframe tbody tr th {\n",
       "        vertical-align: top;\n",
       "    }\n",
       "</style>\n",
       "<table border=\"1\" class=\"dataframe\">\n",
       "  <thead>\n",
       "    <tr style=\"text-align: right;\">\n",
       "      <th></th>\n",
       "      <th>start_time</th>\n",
       "      <th>stop_time</th>\n",
       "      <th>csv_file</th>\n",
       "    </tr>\n",
       "  </thead>\n",
       "  <tbody>\n",
       "    <tr>\n",
       "      <th>0</th>\n",
       "      <td>1.1482924107142871</td>\n",
       "      <td>3.699122023809525</td>\n",
       "      <td>subject01_RF_05.csv</td>\n",
       "    </tr>\n",
       "    <tr>\n",
       "      <th>1</th>\n",
       "      <td>3.699122023809525</td>\n",
       "      <td>6.49581473214286</td>\n",
       "      <td>subject01_RF_05.csv</td>\n",
       "    </tr>\n",
       "    <tr>\n",
       "      <th>2</th>\n",
       "      <td>6.49581473214286</td>\n",
       "      <td>9.384706101190478</td>\n",
       "      <td>subject01_RF_05.csv</td>\n",
       "    </tr>\n",
       "    <tr>\n",
       "      <th>3</th>\n",
       "      <td>9.384706101190478</td>\n",
       "      <td>12.073833705357146</td>\n",
       "      <td>subject01_RF_05.csv</td>\n",
       "    </tr>\n",
       "    <tr>\n",
       "      <th>4</th>\n",
       "      <td>12.073833705357146</td>\n",
       "      <td>14.809060639880954</td>\n",
       "      <td>subject01_RF_05.csv</td>\n",
       "    </tr>\n",
       "  </tbody>\n",
       "</table>\n",
       "</div>"
      ],
      "text/plain": [
       "           start_time           stop_time             csv_file\n",
       "0  1.1482924107142871   3.699122023809525  subject01_RF_05.csv\n",
       "1   3.699122023809525    6.49581473214286  subject01_RF_05.csv\n",
       "2    6.49581473214286   9.384706101190478  subject01_RF_05.csv\n",
       "3   9.384706101190478  12.073833705357146  subject01_RF_05.csv\n",
       "4  12.073833705357146  14.809060639880954  subject01_RF_05.csv"
      ]
     },
     "execution_count": 3,
     "metadata": {},
     "output_type": "execute_result"
    }
   ],
   "source": [
    "print('Head of one loaded data frame as an example:')\n",
    "data_points['RF'].head()"
   ]
  },
  {
   "cell_type": "code",
   "execution_count": 4,
   "metadata": {
    "ExecuteTime": {
     "end_time": "2018-12-06T08:17:34.294578Z",
     "start_time": "2018-12-06T08:17:34.179571Z"
    },
    "extensions": {
     "jupyter_dashboards": {
      "version": 1,
      "views": {
       "grid_default": {
        "col": 0,
        "height": 8,
        "hidden": false,
        "row": 15,
        "width": 4
       },
       "report_default": {}
      }
     }
    }
   },
   "outputs": [
    {
     "name": "stdout",
     "output_type": "stream",
     "text": [
      "Length of the individual data frames:\n",
      "RF:\t269\n",
      "RO:\t270\n",
      "RS:\t270\n",
      "LR:\t271\n",
      "BC:\t273\n",
      "TC:\t273\n",
      "MP:\t272\n",
      "SA:\t273\n",
      "P1:\t270\n",
      "P2:\t269\n",
      "total:\t2710\n"
     ]
    }
   ],
   "source": [
    "print('Length of the individual data frames:')\n",
    "count = 0\n",
    "for key in exercise_abbrs:\n",
    "    print(key + ':\\t' + str(data_points[key].shape[0]))\n",
    "    count += data_points[key].shape[0]\n",
    "print('total:\\t' + str(count))"
   ]
  },
  {
   "cell_type": "markdown",
   "metadata": {
    "extensions": {
     "jupyter_dashboards": {
      "version": 1,
      "views": {
       "grid_default": {
        "col": 4,
        "height": 4,
        "hidden": false,
        "row": 19,
        "width": 4
       },
       "report_default": {}
      }
     }
    }
   },
   "source": [
    "As we can see from above, there are a few more than 2700 data points, because obviously some exercises were performed with too much repetitions. "
   ]
  },
  {
   "cell_type": "markdown",
   "metadata": {
    "extensions": {
     "jupyter_dashboards": {
      "version": 1,
      "views": {
       "grid_default": {
        "col": 8,
        "height": 4,
        "hidden": false,
        "row": 19,
        "width": 4
       },
       "report_default": {}
      }
     }
    }
   },
   "source": [
    "*** Function to split signals into equally distributed sections and calculating the mean ***"
   ]
  },
  {
   "cell_type": "code",
   "execution_count": 5,
   "metadata": {
    "ExecuteTime": {
     "end_time": "2018-12-06T08:17:34.403584Z",
     "start_time": "2018-12-06T08:17:34.299578Z"
    },
    "extensions": {
     "jupyter_dashboards": {
      "version": 1,
      "views": {
       "grid_default": {
        "hidden": true
       },
       "report_default": {}
      }
     }
    }
   },
   "outputs": [],
   "source": [
    "def split_into_sections(signal_data, num_sec=20, signals=['Acc','Gyr']):\n",
    "    '''This function splits the input signals data into a defined number \n",
    "    of equally distributed sections. For each signal and section the mean is calculated,\n",
    "    and afterwards returned by means of a dictionary.\n",
    "    \n",
    "    Parameters\n",
    "    ----------\n",
    "    signal_data : dict\n",
    "        Dictionary with the signals in the 'signals' argument as keys.\n",
    "    \n",
    "    num_sec : int\n",
    "        Number of sections to split the signals.\n",
    "        \n",
    "    signals : list\n",
    "        Keys to select signals in the signal_data dictionary.\n",
    "        If no keys are provided, all keys of the signal_data\n",
    "        dictionary are taken.\n",
    "    \n",
    "    Returns\n",
    "    -------\n",
    "    Dictionary with section means for each signal --> keys are same as the selected\n",
    "    in the list \"signals\".\n",
    "    '''\n",
    "    \n",
    "    # if no signals are given as keys, select all keys of the input dictionary\n",
    "    if not signals:\n",
    "        signals = [*signal_data]\n",
    "    \n",
    "    # number of input data points of each signal (signals have to be of the same length --> take index 0)\n",
    "    len_signals = np.shape(signal_data[signals[0]])[0]\n",
    "    \n",
    "    # get indices of the sections (+1 due to start and end index of each section)\n",
    "    sec_ind = np.linspace(0, len_signals, num_sec+1).round().astype(int)\n",
    "    \n",
    "    # dicitonary to save sections means for each signal\n",
    "    section_means = {}\n",
    "\n",
    "    for signal in signals:\n",
    "        # generate row with zeros in order to use np.vstack afterwards\n",
    "        section_means[signal] = np.zeros([1, np.shape(signal_data[signal])[1]])\n",
    "\n",
    "        # add the mean of each section\n",
    "        for ii in range(len(sec_ind)-1):\n",
    "            section_means[signal] = np.vstack([section_means[signal], \n",
    "                                               np.mean(signal_data[signal][sec_ind[ii]:sec_ind[ii+1]], axis=0)])\n",
    "\n",
    "        # delete the first row with the zeros\n",
    "        section_means[signal] = np.delete(section_means[signal], 0, axis=0)\n",
    "        \n",
    "    return section_means"
   ]
  },
  {
   "cell_type": "markdown",
   "metadata": {
    "extensions": {
     "jupyter_dashboards": {
      "version": 1,
      "views": {
       "grid_default": {
        "col": 9,
        "height": 4,
        "hidden": false,
        "row": 11,
        "width": null
       },
       "report_default": {}
      }
     }
    }
   },
   "source": [
    "*** Load the data and split them into sections***\n",
    "\n",
    "The number of features depends on the number of sections and the number of signals (3 x Acc + 3 x Gyr).\n",
    "\n",
    "Hence, for n sections we get n x 6 features $\\rightarrow$ (3 x Acc + 3 x Gyr) x n sections"
   ]
  },
  {
   "cell_type": "code",
   "execution_count": 6,
   "metadata": {
    "ExecuteTime": {
     "end_time": "2018-12-06T08:17:34.503590Z",
     "start_time": "2018-12-06T08:17:34.407584Z"
    },
    "extensions": {
     "jupyter_dashboards": {
      "version": 1,
      "views": {
       "grid_default": {
        "hidden": true
       },
       "report_default": {}
      }
     }
    }
   },
   "outputs": [],
   "source": [
    "number_sections = 20 # number of sections to split the signals\n"
   ]
  },
  {
   "cell_type": "code",
   "execution_count": 7,
   "metadata": {
    "ExecuteTime": {
     "end_time": "2018-12-06T08:19:14.329299Z",
     "start_time": "2018-12-06T08:17:34.508590Z"
    },
    "extensions": {
     "jupyter_dashboards": {
      "version": 1,
      "views": {
       "grid_default": {
        "hidden": true
       },
       "report_default": {}
      }
     }
    }
   },
   "outputs": [],
   "source": [
    "csv_dir='E:\\Physio_Data_Split_Exercise_done' # directory of csv files\n",
    "sampling_rate = 256 # [Hz]\n",
    "signals = ['Acc','Gyr'] # signals which shall be considered for the mean calculation\n",
    "\n",
    "#  csv-file to save the features\n",
    "feature_csv_file = '1_ML_Approach_Features/features_sections_'+'{:02}'.format(number_sections)+'.csv' \n",
    "\n",
    "# putting the header of the feature-file together\n",
    "header_string = 'label;' # first column contains the labels\n",
    "\n",
    "for sig in signals:\n",
    "    for ax in ['_x','_y','_z']:\n",
    "        for ii in range(number_sections):\n",
    "            header_string +=  sig + ax + '_{:02}'.format(ii+1) + ';'\n",
    "\n",
    "# remove last separator (;)\n",
    "idx_last_sep = header_string.rfind(\";\")\n",
    "header_string =  header_string[:idx_last_sep]\n",
    "\n",
    "# write header to file\n",
    "with open(feature_csv_file, 'w') as feature_file:\n",
    "    feature_file.writelines(header_string + '\\n')\n",
    "\n",
    "\n",
    "# go through all exercises\n",
    "for ex in exercise_abbrs:\n",
    "    \n",
    "    # go through all repetitions (data points) of the current exercise\n",
    "    for ii in range(len(data_points[ex])):\n",
    "        \n",
    "        # join file path\n",
    "        file_path = os.path.join(csv_dir, data_points[ex]['csv_file'][ii])\n",
    "        \n",
    "        # load the signal data of the corresponding time range of the current repetition\n",
    "        selected_data = fmpm.get_sensor_data(in_file = file_path, \n",
    "                                             signals = signals, \n",
    "                                             sampling_rate = sampling_rate, \n",
    "                                             start_time = float(data_points[ex]['start_time'][ii]), \n",
    "                                             stop_time = float(data_points[ex]['stop_time'][ii]))\n",
    "         \n",
    "        # calculate the corresponding section means of the current repetition\n",
    "        section_means = split_into_sections(signal_data = selected_data,\n",
    "                                            num_sec = number_sections,\n",
    "                                            signals = signals)\n",
    "        \n",
    "        # string to write data of the current data point to the csv-file\n",
    "        data_point_string = ex + ';' # first column contains the label\n",
    "        \n",
    "        # copy section mean values to string\n",
    "        for sig in signals:\n",
    "            for jj in [0,1,2]: # x, y, z comp. of the corresponding signal\n",
    "                for ll in range(number_sections):\n",
    "                    \n",
    "                    # append to string for writing to csv file (5 decimals)\n",
    "                    data_point_string += \"{:.5f};\".format(section_means[sig][ll,jj])\n",
    "                    \n",
    "        # remove last separator (;)\n",
    "        idx_last_sep = data_point_string.rfind(\";\")\n",
    "        data_point_string =  data_point_string[:idx_last_sep]\n",
    "        \n",
    "        # append values of current data point to file\n",
    "        with open(feature_csv_file, 'a') as feature_file:\n",
    "            feature_file.writelines(data_point_string + '\\n')\n",
    "                    "
   ]
  },
  {
   "cell_type": "markdown",
   "metadata": {
    "extensions": {
     "jupyter_dashboards": {
      "version": 1,
      "views": {
       "grid_default": {
        "col": 0,
        "height": 4,
        "hidden": false,
        "row": 23,
        "width": 4
       },
       "report_default": {}
      }
     }
    }
   },
   "source": [
    "***Now all the features are calculated and saved to a csv-file. Let's now load the feature data with pandas.***"
   ]
  },
  {
   "cell_type": "code",
   "execution_count": 13,
   "metadata": {
    "ExecuteTime": {
     "end_time": "2018-12-06T14:23:01.743666Z",
     "start_time": "2018-12-06T14:23:00.745609Z"
    },
    "extensions": {
     "jupyter_dashboards": {
      "version": 1,
      "views": {
       "grid_default": {
        "hidden": true
       },
       "report_default": {}
      }
     }
    }
   },
   "outputs": [],
   "source": [
    "#feature_csv_file = '1_ML_Approach_Features/features_sections_'+'{:02}'.format(number_sections)+'.csv'\n",
    "#feature_csv_file = '1_ML_Approach_Features/features_sections_'+'{:02}'.format(20)+'.csv'\n",
    "feature_data = pd.read_csv(feature_csv_file, skiprows=0, sep=';')"
   ]
  },
  {
   "cell_type": "code",
   "execution_count": 14,
   "metadata": {
    "ExecuteTime": {
     "end_time": "2018-12-06T14:23:01.814670Z",
     "start_time": "2018-12-06T14:23:01.803670Z"
    },
    "extensions": {
     "jupyter_dashboards": {
      "version": 1,
      "views": {
       "grid_default": {
        "col": 4,
        "height": 4,
        "hidden": false,
        "row": 23,
        "width": 4
       },
       "report_default": {}
      }
     }
    }
   },
   "outputs": [
    {
     "name": "stdout",
     "output_type": "stream",
     "text": [
      "<class 'pandas.core.frame.DataFrame'>\n",
      "RangeIndex: 2710 entries, 0 to 2709\n",
      "Columns: 121 entries, label to Gyr_z_20\n",
      "dtypes: float64(120), object(1)\n",
      "memory usage: 2.5+ MB\n"
     ]
    }
   ],
   "source": [
    "feature_data.info()"
   ]
  },
  {
   "cell_type": "code",
   "execution_count": 15,
   "metadata": {
    "ExecuteTime": {
     "end_time": "2018-12-06T14:23:03.037740Z",
     "start_time": "2018-12-06T14:23:02.992738Z"
    },
    "extensions": {
     "jupyter_dashboards": {
      "version": 1,
      "views": {
       "grid_default": {
        "col": 0,
        "height": 8,
        "hidden": false,
        "row": 27,
        "width": 12
       },
       "report_default": {}
      }
     }
    }
   },
   "outputs": [
    {
     "data": {
      "text/html": [
       "<div>\n",
       "<style>\n",
       "    .dataframe thead tr:only-child th {\n",
       "        text-align: right;\n",
       "    }\n",
       "\n",
       "    .dataframe thead th {\n",
       "        text-align: left;\n",
       "    }\n",
       "\n",
       "    .dataframe tbody tr th {\n",
       "        vertical-align: top;\n",
       "    }\n",
       "</style>\n",
       "<table border=\"1\" class=\"dataframe\">\n",
       "  <thead>\n",
       "    <tr style=\"text-align: right;\">\n",
       "      <th></th>\n",
       "      <th>label</th>\n",
       "      <th>Acc_x_01</th>\n",
       "      <th>Acc_x_02</th>\n",
       "      <th>Acc_x_03</th>\n",
       "      <th>Acc_x_04</th>\n",
       "      <th>Acc_x_05</th>\n",
       "      <th>Acc_x_06</th>\n",
       "      <th>Acc_x_07</th>\n",
       "      <th>Acc_x_08</th>\n",
       "      <th>Acc_x_09</th>\n",
       "      <th>...</th>\n",
       "      <th>Gyr_z_11</th>\n",
       "      <th>Gyr_z_12</th>\n",
       "      <th>Gyr_z_13</th>\n",
       "      <th>Gyr_z_14</th>\n",
       "      <th>Gyr_z_15</th>\n",
       "      <th>Gyr_z_16</th>\n",
       "      <th>Gyr_z_17</th>\n",
       "      <th>Gyr_z_18</th>\n",
       "      <th>Gyr_z_19</th>\n",
       "      <th>Gyr_z_20</th>\n",
       "    </tr>\n",
       "  </thead>\n",
       "  <tbody>\n",
       "    <tr>\n",
       "      <th>0</th>\n",
       "      <td>RF</td>\n",
       "      <td>-0.88836</td>\n",
       "      <td>-0.99646</td>\n",
       "      <td>-1.02021</td>\n",
       "      <td>-0.66443</td>\n",
       "      <td>-0.26080</td>\n",
       "      <td>0.13043</td>\n",
       "      <td>0.44185</td>\n",
       "      <td>0.60414</td>\n",
       "      <td>0.62367</td>\n",
       "      <td>...</td>\n",
       "      <td>-77.94697</td>\n",
       "      <td>-122.77462</td>\n",
       "      <td>-143.82617</td>\n",
       "      <td>-166.58902</td>\n",
       "      <td>-146.50000</td>\n",
       "      <td>-122.16797</td>\n",
       "      <td>-94.47538</td>\n",
       "      <td>-32.60417</td>\n",
       "      <td>-11.41016</td>\n",
       "      <td>1.83523</td>\n",
       "    </tr>\n",
       "    <tr>\n",
       "      <th>1</th>\n",
       "      <td>RF</td>\n",
       "      <td>-0.92166</td>\n",
       "      <td>-0.93620</td>\n",
       "      <td>-1.01498</td>\n",
       "      <td>-0.99034</td>\n",
       "      <td>-0.69744</td>\n",
       "      <td>-0.27005</td>\n",
       "      <td>0.07515</td>\n",
       "      <td>0.36391</td>\n",
       "      <td>0.55178</td>\n",
       "      <td>...</td>\n",
       "      <td>-26.75174</td>\n",
       "      <td>-89.55208</td>\n",
       "      <td>-146.36607</td>\n",
       "      <td>-165.08507</td>\n",
       "      <td>-169.20139</td>\n",
       "      <td>-120.53993</td>\n",
       "      <td>-80.79688</td>\n",
       "      <td>-51.69821</td>\n",
       "      <td>-1.85069</td>\n",
       "      <td>8.97743</td>\n",
       "    </tr>\n",
       "    <tr>\n",
       "      <th>2</th>\n",
       "      <td>RF</td>\n",
       "      <td>-0.91815</td>\n",
       "      <td>-0.87466</td>\n",
       "      <td>-1.01370</td>\n",
       "      <td>-0.88283</td>\n",
       "      <td>-0.62962</td>\n",
       "      <td>-0.10910</td>\n",
       "      <td>0.19482</td>\n",
       "      <td>0.39330</td>\n",
       "      <td>0.53644</td>\n",
       "      <td>...</td>\n",
       "      <td>-34.30208</td>\n",
       "      <td>-86.99493</td>\n",
       "      <td>-121.62669</td>\n",
       "      <td>-140.86149</td>\n",
       "      <td>-153.22466</td>\n",
       "      <td>-132.71622</td>\n",
       "      <td>-94.19932</td>\n",
       "      <td>-42.53209</td>\n",
       "      <td>3.47128</td>\n",
       "      <td>2.54730</td>\n",
       "    </tr>\n",
       "    <tr>\n",
       "      <th>3</th>\n",
       "      <td>RF</td>\n",
       "      <td>-0.93641</td>\n",
       "      <td>-0.90483</td>\n",
       "      <td>-0.96628</td>\n",
       "      <td>-0.99289</td>\n",
       "      <td>-0.79710</td>\n",
       "      <td>-0.41034</td>\n",
       "      <td>-0.01136</td>\n",
       "      <td>0.25777</td>\n",
       "      <td>0.46615</td>\n",
       "      <td>...</td>\n",
       "      <td>-47.41786</td>\n",
       "      <td>-81.34743</td>\n",
       "      <td>-108.54464</td>\n",
       "      <td>-136.09926</td>\n",
       "      <td>-146.68036</td>\n",
       "      <td>-133.19118</td>\n",
       "      <td>-117.08214</td>\n",
       "      <td>-65.66360</td>\n",
       "      <td>-15.07500</td>\n",
       "      <td>10.29412</td>\n",
       "    </tr>\n",
       "    <tr>\n",
       "      <th>4</th>\n",
       "      <td>RF</td>\n",
       "      <td>-0.91934</td>\n",
       "      <td>-0.95460</td>\n",
       "      <td>-0.94056</td>\n",
       "      <td>-0.79266</td>\n",
       "      <td>-0.46904</td>\n",
       "      <td>-0.06963</td>\n",
       "      <td>0.14795</td>\n",
       "      <td>0.39058</td>\n",
       "      <td>0.51182</td>\n",
       "      <td>...</td>\n",
       "      <td>-28.08036</td>\n",
       "      <td>-66.05893</td>\n",
       "      <td>-96.75714</td>\n",
       "      <td>-123.46964</td>\n",
       "      <td>-123.80357</td>\n",
       "      <td>-108.53929</td>\n",
       "      <td>-107.76607</td>\n",
       "      <td>-83.72500</td>\n",
       "      <td>-34.83036</td>\n",
       "      <td>7.36607</td>\n",
       "    </tr>\n",
       "  </tbody>\n",
       "</table>\n",
       "<p>5 rows × 121 columns</p>\n",
       "</div>"
      ],
      "text/plain": [
       "  label  Acc_x_01  Acc_x_02  Acc_x_03  Acc_x_04  Acc_x_05  Acc_x_06  Acc_x_07  \\\n",
       "0    RF  -0.88836  -0.99646  -1.02021  -0.66443  -0.26080   0.13043   0.44185   \n",
       "1    RF  -0.92166  -0.93620  -1.01498  -0.99034  -0.69744  -0.27005   0.07515   \n",
       "2    RF  -0.91815  -0.87466  -1.01370  -0.88283  -0.62962  -0.10910   0.19482   \n",
       "3    RF  -0.93641  -0.90483  -0.96628  -0.99289  -0.79710  -0.41034  -0.01136   \n",
       "4    RF  -0.91934  -0.95460  -0.94056  -0.79266  -0.46904  -0.06963   0.14795   \n",
       "\n",
       "   Acc_x_08  Acc_x_09    ...     Gyr_z_11   Gyr_z_12   Gyr_z_13   Gyr_z_14  \\\n",
       "0   0.60414   0.62367    ...    -77.94697 -122.77462 -143.82617 -166.58902   \n",
       "1   0.36391   0.55178    ...    -26.75174  -89.55208 -146.36607 -165.08507   \n",
       "2   0.39330   0.53644    ...    -34.30208  -86.99493 -121.62669 -140.86149   \n",
       "3   0.25777   0.46615    ...    -47.41786  -81.34743 -108.54464 -136.09926   \n",
       "4   0.39058   0.51182    ...    -28.08036  -66.05893  -96.75714 -123.46964   \n",
       "\n",
       "    Gyr_z_15   Gyr_z_16   Gyr_z_17  Gyr_z_18  Gyr_z_19  Gyr_z_20  \n",
       "0 -146.50000 -122.16797  -94.47538 -32.60417 -11.41016   1.83523  \n",
       "1 -169.20139 -120.53993  -80.79688 -51.69821  -1.85069   8.97743  \n",
       "2 -153.22466 -132.71622  -94.19932 -42.53209   3.47128   2.54730  \n",
       "3 -146.68036 -133.19118 -117.08214 -65.66360 -15.07500  10.29412  \n",
       "4 -123.80357 -108.53929 -107.76607 -83.72500 -34.83036   7.36607  \n",
       "\n",
       "[5 rows x 121 columns]"
      ]
     },
     "execution_count": 15,
     "metadata": {},
     "output_type": "execute_result"
    }
   ],
   "source": [
    "feature_data.head()"
   ]
  },
  {
   "cell_type": "markdown",
   "metadata": {
    "extensions": {
     "jupyter_dashboards": {
      "version": 1,
      "views": {
       "grid_default": {
        "col": 8,
        "height": 4,
        "hidden": false,
        "row": 23,
        "width": 4
       },
       "report_default": {}
      }
     }
    }
   },
   "source": [
    "*** Let's quickly check visually the correlation between a few features (not necessary)***"
   ]
  },
  {
   "cell_type": "code",
   "execution_count": 16,
   "metadata": {
    "ExecuteTime": {
     "end_time": "2018-12-06T14:23:12.511282Z",
     "start_time": "2018-12-06T14:23:12.287269Z"
    },
    "extensions": {
     "jupyter_dashboards": {
      "version": 1,
      "views": {
       "grid_default": {
        "col": 0,
        "height": 9,
        "hidden": false,
        "row": 35,
        "width": 4
       },
       "report_default": {}
      }
     }
    }
   },
   "outputs": [
    {
     "data": {
      "image/png": "[encoded data removed]",
      "text/plain": [
       "<matplotlib.figure.Figure at 0x1c2ed9b0>"
      ]
     },
     "metadata": {},
     "output_type": "display_data"
    }
   ],
   "source": [
    "feature_data.plot(kind=\"scatter\", x=\"Acc_x_01\", y=\"Acc_x_10\",alpha=0.2)\n",
    "plt.show()"
   ]
  },
  {
   "cell_type": "code",
   "execution_count": 17,
   "metadata": {
    "ExecuteTime": {
     "end_time": "2018-12-06T14:23:14.065371Z",
     "start_time": "2018-12-06T14:23:12.750296Z"
    },
    "extensions": {
     "jupyter_dashboards": {
      "version": 1,
      "views": {
       "grid_default": {
        "col": 4,
        "height": 9,
        "hidden": false,
        "row": 35,
        "width": 4
       },
       "report_default": {}
      }
     }
    }
   },
   "outputs": [
    {
     "data": {
      "image/png": "[encoded data removed]",
      "text/plain": [
       "<matplotlib.figure.Figure at 0x1c33ac50>"
      ]
     },
     "metadata": {},
     "output_type": "display_data"
    }
   ],
   "source": [
    "from pandas.plotting import scatter_matrix\n",
    "\n",
    "attributes = [\"Gyr_x_05\", \"Gyr_x_03\", \"Gyr_x_07\"]\n",
    "scatter_matrix(feature_data[attributes], figsize=(12, 8));"
   ]
  },
  {
   "cell_type": "markdown",
   "metadata": {
    "extensions": {
     "jupyter_dashboards": {
      "version": 1,
      "views": {
       "grid_default": {
        "col": 8,
        "height": 4,
        "hidden": false,
        "row": 35,
        "width": 4
       },
       "report_default": {}
      }
     }
    }
   },
   "source": [
    "## Dimensionality Reduction"
   ]
  },
  {
   "cell_type": "markdown",
   "metadata": {
    "extensions": {
     "jupyter_dashboards": {
      "version": 1,
      "views": {
       "grid_default": {
        "col": 8,
        "height": 4,
        "hidden": false,
        "row": 39,
        "width": 4
       },
       "report_default": {}
      }
     }
    }
   },
   "source": [
    "*** Let's first save the original features and corresponding labels to a matrix / array:***"
   ]
  },
  {
   "cell_type": "code",
   "execution_count": 18,
   "metadata": {
    "ExecuteTime": {
     "end_time": "2018-12-06T14:23:19.613688Z",
     "start_time": "2018-12-06T14:23:19.579687Z"
    },
    "extensions": {
     "jupyter_dashboards": {
      "version": 1,
      "views": {
       "grid_default": {
        "col": 8,
        "height": 4,
        "hidden": false,
        "row": 43,
        "width": 4
       },
       "report_default": {}
      }
     }
    }
   },
   "outputs": [
    {
     "data": {
      "text/plain": [
       "(2710, 120)"
      ]
     },
     "execution_count": 18,
     "metadata": {},
     "output_type": "execute_result"
    }
   ],
   "source": [
    "# get feature matrix\n",
    "X_original = feature_data.values[:,1:]\n",
    "np.shape(X_original)"
   ]
  },
  {
   "cell_type": "code",
   "execution_count": 19,
   "metadata": {
    "ExecuteTime": {
     "end_time": "2018-12-06T14:24:09.456539Z",
     "start_time": "2018-12-06T14:23:22.184836Z"
    },
    "extensions": {
     "jupyter_dashboards": {
      "version": 1,
      "views": {
       "grid_default": {
        "col": 0,
        "height": 4,
        "hidden": false,
        "row": 44,
        "width": 4
       },
       "report_default": {}
      }
     }
    }
   },
   "outputs": [
    {
     "data": {
      "text/plain": [
       "(2710,)"
      ]
     },
     "execution_count": 19,
     "metadata": {},
     "output_type": "execute_result"
    }
   ],
   "source": [
    "# dictionary for labels\n",
    "label_ex = {'RF':0,\n",
    "            'RO':1,\n",
    "            'RS':2,\n",
    "            'LR':3,\n",
    "            'BC':4,\n",
    "            'TC':5,\n",
    "            'MP':6,\n",
    "            'SA':7,\n",
    "            'P1':8,\n",
    "            'P2':9}\n",
    "\n",
    "# get label array with labels (0 ... 9)\n",
    "y = [label_ex[feature_data.values[ii,0]] for ii in range(len(feature_data.values[:,0]))]\n",
    "np.shape(y)"
   ]
  },
  {
   "cell_type": "markdown",
   "metadata": {
    "extensions": {
     "jupyter_dashboards": {
      "version": 1,
      "views": {
       "grid_default": {
        "col": 4,
        "height": 4,
        "hidden": false,
        "row": 44,
        "width": 4
       },
       "report_default": {}
      }
     }
    }
   },
   "source": [
    "### Principal Component Analysis (PCA)"
   ]
  },
  {
   "cell_type": "code",
   "execution_count": 20,
   "metadata": {
    "ExecuteTime": {
     "end_time": "2018-12-06T14:24:09.535544Z",
     "start_time": "2018-12-06T14:24:09.527543Z"
    },
    "extensions": {
     "jupyter_dashboards": {
      "version": 1,
      "views": {
       "grid_default": {
        "hidden": true
       },
       "report_default": {}
      }
     }
    }
   },
   "outputs": [],
   "source": [
    "from sklearn.decomposition import PCA\n",
    "from sklearn.decomposition import KernelPCA"
   ]
  },
  {
   "cell_type": "code",
   "execution_count": 21,
   "metadata": {
    "ExecuteTime": {
     "end_time": "2018-12-06T14:24:09.915566Z",
     "start_time": "2018-12-06T14:24:09.640550Z"
    },
    "extensions": {
     "jupyter_dashboards": {
      "version": 1,
      "views": {
       "grid_default": {
        "col": 8,
        "height": 4,
        "hidden": false,
        "row": 47,
        "width": 4
       },
       "report_default": {}
      }
     }
    }
   },
   "outputs": [],
   "source": [
    "# set number of principal components\n",
    "number_principal_comp = 30\n",
    "\n",
    "# make pca model\n",
    "pca = PCA(n_components=number_principal_comp)\n",
    "kpca = KernelPCA(n_components=number_principal_comp)"
   ]
  },
  {
   "cell_type": "markdown",
   "metadata": {
    "extensions": {
     "jupyter_dashboards": {
      "version": 1,
      "views": {
       "grid_default": {
        "col": 4,
        "height": 4,
        "hidden": false,
        "row": 48,
        "width": 4
       },
       "report_default": {}
      }
     }
    }
   },
   "source": [
    "### Linear Discriminant Analysis (LDA)\n",
    "(only used for dimensionality reduction here)"
   ]
  },
  {
   "cell_type": "code",
   "execution_count": 22,
   "metadata": {
    "ExecuteTime": {
     "end_time": "2018-12-06T14:24:13.392764Z",
     "start_time": "2018-12-06T14:24:13.385764Z"
    },
    "extensions": {
     "jupyter_dashboards": {
      "version": 1,
      "views": {
       "grid_default": {
        "hidden": true
       },
       "report_default": {}
      }
     }
    }
   },
   "outputs": [],
   "source": [
    "from sklearn.discriminant_analysis import LinearDiscriminantAnalysis as LDA"
   ]
  },
  {
   "cell_type": "code",
   "execution_count": 23,
   "metadata": {
    "ExecuteTime": {
     "end_time": "2018-12-06T14:24:13.677781Z",
     "start_time": "2018-12-06T14:24:13.671780Z"
    },
    "extensions": {
     "jupyter_dashboards": {
      "version": 1,
      "views": {
       "grid_default": {
        "hidden": true
       },
       "report_default": {}
      }
     }
    }
   },
   "outputs": [],
   "source": [
    "# make LDA model\n",
    "lda = LDA()\n",
    "\n",
    "# !!! we have to do this after the splitting --> otherwise we introduce some bias\n",
    "# create new feature from LDA projections\n",
    "#X_lda = lda.fit_transform(X_original, y)\n",
    "#np.shape(X_lda)"
   ]
  },
  {
   "cell_type": "markdown",
   "metadata": {
    "extensions": {
     "jupyter_dashboards": {
      "version": 1,
      "views": {
       "grid_default": {
        "col": 9,
        "height": 4,
        "hidden": false,
        "row": 15,
        "width": null
       },
       "report_default": {}
      }
     }
    }
   },
   "source": [
    "$\\rightarrow$ we get 9 components for dimensionality reduction (n_classes - 1) $\\rightarrow$ 9 features"
   ]
  },
  {
   "cell_type": "markdown",
   "metadata": {
    "extensions": {
     "jupyter_dashboards": {
      "version": 1,
      "views": {
       "grid_default": {
        "col": 0,
        "height": 5,
        "hidden": false,
        "row": 52,
        "width": 12
       },
       "report_default": {}
      }
     }
    }
   },
   "source": [
    "###  Take half the Sections per Signal (by taking the mean of two following columns)\n",
    "\n",
    "(only works if the original number of sections is even)\n",
    "\n",
    "*** In our case we get 10 instead of 20 sections per signal, which leads to 60 features ((3 x Acc + 3 x Gyr) x 10)***"
   ]
  },
  {
   "cell_type": "code",
   "execution_count": 24,
   "metadata": {
    "ExecuteTime": {
     "end_time": "2018-12-06T14:24:14.373821Z",
     "start_time": "2018-12-06T14:24:14.361820Z"
    },
    "extensions": {
     "jupyter_dashboards": {
      "version": 1,
      "views": {
       "grid_default": {
        "col": 0,
        "height": 4,
        "hidden": false,
        "row": 57,
        "width": 4
       },
       "report_default": {}
      }
     }
    }
   },
   "outputs": [
    {
     "data": {
      "text/plain": [
       "(2710, 60)"
      ]
     },
     "execution_count": 24,
     "metadata": {},
     "output_type": "execute_result"
    }
   ],
   "source": [
    "# get number of half sections and data points\n",
    "num_half_sec = int(np.shape(X_original)[1]/2)\n",
    "num_data_points = int(np.shape(X_original)[0])\n",
    "\n",
    "# reserve memory\n",
    "X_orig_half = np.zeros((num_data_points, num_half_sec))\n",
    "np.shape(X_orig_half)"
   ]
  },
  {
   "cell_type": "code",
   "execution_count": 25,
   "metadata": {
    "ExecuteTime": {
     "end_time": "2018-12-06T14:24:14.857848Z",
     "start_time": "2018-12-06T14:24:14.830847Z"
    },
    "extensions": {
     "jupyter_dashboards": {
      "version": 1,
      "views": {
       "grid_default": {
        "col": 4,
        "height": 4,
        "hidden": false,
        "row": 57,
        "width": 4
       },
       "report_default": {}
      }
     }
    }
   },
   "outputs": [
    {
     "data": {
      "text/plain": [
       "(2710, 60)"
      ]
     },
     "execution_count": 25,
     "metadata": {},
     "output_type": "execute_result"
    }
   ],
   "source": [
    "# calculate the values for the mean of two following sections\n",
    "for ii in range(num_half_sec):\n",
    "    X_orig_half[:,ii] = np.mean(X_original[:,2*ii:2*ii+1], axis=1)\n",
    "np.shape(X_orig_half)"
   ]
  },
  {
   "cell_type": "markdown",
   "metadata": {
    "ExecuteTime": {
     "end_time": "2018-12-06T15:28:56.256852Z",
     "start_time": "2018-12-06T15:28:56.247851Z"
    },
    "extensions": {
     "jupyter_dashboards": {
      "version": 1,
      "views": {
       "grid_default": {
        "col": 0,
        "height": 5,
        "hidden": false,
        "row": 164,
        "width": 12
       },
       "report_default": {}
      }
     }
    }
   },
   "source": [
    "###  Take 1/4 of the Sections per Signal (by taking the mean of two following columns)\n",
    "\n",
    "(only works if the original number of sections is even)\n",
    "\n",
    "*** In our case we get 5 instead of 20 sections per signal, which leads to 30 features ((3 x Acc + 3 x Gyr) x 5)***"
   ]
  },
  {
   "cell_type": "code",
   "execution_count": 34,
   "metadata": {
    "ExecuteTime": {
     "end_time": "2018-12-06T15:29:45.160649Z",
     "start_time": "2018-12-06T15:29:45.146648Z"
    },
    "extensions": {
     "jupyter_dashboards": {
      "version": 1,
      "views": {
       "grid_default": {
        "col": 0,
        "height": 4,
        "hidden": false,
        "row": 48,
        "width": 4
       },
       "report_default": {}
      }
     }
    }
   },
   "outputs": [
    {
     "data": {
      "text/plain": [
       "(2710, 30)"
      ]
     },
     "execution_count": 34,
     "metadata": {},
     "output_type": "execute_result"
    }
   ],
   "source": [
    "# get number of 1/4 sections and data points\n",
    "num_quater_sec = int(np.shape(X_original)[1]/4)\n",
    "num_data_points = int(np.shape(X_original)[0])\n",
    "\n",
    "# reserve memory\n",
    "X_orig_quater = np.zeros((num_data_points, num_quater_sec))\n",
    "np.shape(X_orig_quater)"
   ]
  },
  {
   "cell_type": "code",
   "execution_count": 35,
   "metadata": {
    "ExecuteTime": {
     "end_time": "2018-12-06T15:30:27.844090Z",
     "start_time": "2018-12-06T15:30:27.811088Z"
    },
    "extensions": {
     "jupyter_dashboards": {
      "version": 1,
      "views": {
       "grid_default": {
        "col": 4,
        "height": 4,
        "hidden": false,
        "row": 148,
        "width": 4
       },
       "report_default": {}
      }
     }
    }
   },
   "outputs": [
    {
     "data": {
      "text/plain": [
       "(2710, 30)"
      ]
     },
     "execution_count": 35,
     "metadata": {},
     "output_type": "execute_result"
    }
   ],
   "source": [
    "# calculate the values for the mean of two following sections\n",
    "for ii in range(num_quater_sec):\n",
    "    X_orig_quater[:,ii] = np.mean(X_original[:,2*ii:2*ii+1], axis=1)\n",
    "np.shape(X_orig_quater)"
   ]
  },
  {
   "cell_type": "markdown",
   "metadata": {
    "extensions": {
     "jupyter_dashboards": {
      "version": 1,
      "views": {
       "grid_default": {
        "col": 0,
        "height": 4,
        "hidden": false,
        "row": 61,
        "width": 12
       },
       "report_default": {}
      }
     }
    }
   },
   "source": [
    "## Split the data points  into train (75%) and test (25%) data sets\n",
    "\n",
    "Use *stratify=y* to ensure that there is approximately the same number of each label (exercise) in the training set.  "
   ]
  },
  {
   "cell_type": "code",
   "execution_count": 26,
   "metadata": {
    "ExecuteTime": {
     "end_time": "2018-12-06T14:24:15.678895Z",
     "start_time": "2018-12-06T14:24:15.671895Z"
    },
    "extensions": {
     "jupyter_dashboards": {
      "version": 1,
      "views": {
       "grid_default": {
        "hidden": true
       },
       "report_default": {}
      }
     }
    }
   },
   "outputs": [],
   "source": [
    "from sklearn.model_selection import train_test_split"
   ]
  },
  {
   "cell_type": "code",
   "execution_count": 27,
   "metadata": {
    "ExecuteTime": {
     "end_time": "2018-12-06T14:24:16.036916Z",
     "start_time": "2018-12-06T14:24:16.030915Z"
    },
    "extensions": {
     "jupyter_dashboards": {
      "version": 1,
      "views": {
       "grid_default": {
        "hidden": true
       },
       "report_default": {}
      }
     }
    }
   },
   "outputs": [],
   "source": [
    "# set ration of test set\n",
    "test_size = 0.25"
   ]
  },
  {
   "cell_type": "markdown",
   "metadata": {
    "extensions": {
     "jupyter_dashboards": {
      "version": 1,
      "views": {
       "grid_default": {
        "col": 8,
        "height": 4,
        "hidden": false,
        "row": 57,
        "width": 4
       },
       "report_default": {}
      }
     }
    }
   },
   "source": [
    "### Split the original features (all section means)"
   ]
  },
  {
   "cell_type": "code",
   "execution_count": 28,
   "metadata": {
    "ExecuteTime": {
     "end_time": "2018-12-06T14:24:16.908966Z",
     "start_time": "2018-12-06T14:24:16.854962Z"
    },
    "extensions": {
     "jupyter_dashboards": {
      "version": 1,
      "views": {
       "grid_default": {
        "col": 0,
        "height": 4,
        "hidden": false,
        "row": 65,
        "width": 4
       },
       "report_default": {}
      }
     }
    }
   },
   "outputs": [
    {
     "name": "stdout",
     "output_type": "stream",
     "text": [
      "Train set shape (orig.): (2032, 120)\n",
      "Test set shape (orig.):  (678, 120)\n"
     ]
    }
   ],
   "source": [
    "# split the data in train and test set (stratified)\n",
    "X_train_orig, X_test_orig, y_train_orig, y_test_orig = train_test_split(X_original, y, stratify=y, \n",
    "                                                                        test_size=test_size, random_state=42)\n",
    "print('Train set shape (orig.): {}'.format(np.shape(X_train_orig)))\n",
    "print('Test set shape (orig.):  {}'.format(np.shape(X_test_orig)))"
   ]
  },
  {
   "cell_type": "markdown",
   "metadata": {
    "extensions": {
     "jupyter_dashboards": {
      "version": 1,
      "views": {
       "grid_default": {
        "col": 4,
        "height": 4,
        "hidden": false,
        "row": 65,
        "width": 4
       },
       "report_default": {}
      }
     }
    }
   },
   "source": [
    "### Split the features from PCA"
   ]
  },
  {
   "cell_type": "code",
   "execution_count": 29,
   "metadata": {
    "ExecuteTime": {
     "end_time": "2018-12-06T14:24:20.364163Z",
     "start_time": "2018-12-06T14:24:17.972026Z"
    },
    "extensions": {
     "jupyter_dashboards": {
      "version": 1,
      "views": {
       "grid_default": {
        "col": 8,
        "height": 4,
        "hidden": false,
        "row": 65,
        "width": 4
       },
       "report_default": {}
      }
     }
    }
   },
   "outputs": [
    {
     "name": "stdout",
     "output_type": "stream",
     "text": [
      "Train set shape (pca): (2032, 30)\n",
      "Test set shape (pca):  (678, 30)\n"
     ]
    }
   ],
   "source": [
    "# First we have to split the original features, then we fit the PCA model ONLY with the train data\n",
    "X_train_for_pca, X_test_for_pca, y_train_pca, y_test_pca = train_test_split(X_original, y, stratify=y, \n",
    "                                                                    test_size=test_size, random_state=42)\n",
    "\n",
    "\n",
    "# create new features from PCA projections\n",
    "X_train_pca = pca.fit_transform(X_train_for_pca)\n",
    "X_test_pca = pca.transform(X_test_for_pca)\n",
    "\n",
    "# create new features from Kernel PCA projections\n",
    "X_train_kpca = kpca.fit_transform(X_train_for_pca)\n",
    "X_test_kpca = kpca.transform(X_test_for_pca)\n",
    "y_train_kpca = y_train_pca # labels are the same\n",
    "y_test_kpca = y_test_pca\n",
    "\n",
    "print('Train set shape (pca): {}'.format(np.shape(X_train_pca)))\n",
    "print('Test set shape (pca):  {}'.format(np.shape(X_test_pca)))"
   ]
  },
  {
   "cell_type": "code",
   "execution_count": 30,
   "metadata": {
    "ExecuteTime": {
     "end_time": "2018-12-06T14:24:20.903194Z",
     "start_time": "2018-12-06T14:24:20.440168Z"
    },
    "extensions": {
     "jupyter_dashboards": {
      "version": 1,
      "views": {
       "grid_default": {
        "col": 4,
        "height": 6,
        "hidden": false,
        "row": 152,
        "width": 4
       },
       "report_default": {}
      }
     }
    }
   },
   "outputs": [
    {
     "data": {
      "text/plain": [
       "<matplotlib.legend.Legend at 0x1d40ab38>"
      ]
     },
     "execution_count": 30,
     "metadata": {},
     "output_type": "execute_result"
    },
    {
     "data": {
      "image/png": "[encoded data removed]",
      "text/plain": [
       "<matplotlib.figure.Figure at 0x1d41aa58>"
      ]
     },
     "metadata": {},
     "output_type": "display_data"
    }
   ],
   "source": [
    "# percentage of variance explained by each of the selected components\n",
    "pca_perc_expl_var = pca.explained_variance_ratio_\n",
    "kpca_perc_expl_var = np.var(X_train_kpca, axis=0) # little bit different for kernel PCA\n",
    "kpca_perc_expl_var = kpca_perc_expl_var / np.sum(kpca_perc_expl_var)\n",
    "\n",
    "# cumulative sum of percentage of variance explained\n",
    "pca_perc_expl_var_sum =  pca.explained_variance_ratio_.cumsum()\n",
    "kpca_perc_expl_var_sum =  kpca_perc_expl_var.cumsum()\n",
    "\n",
    "# plot cumulative sum of percentage of variance explained\n",
    "start_xtick = 2\n",
    "pc_plot_num = np.arange(start_xtick-1,number_principal_comp+start_xtick-1,start_xtick)\n",
    "\n",
    "fig_pca, ax_pca = plt.subplots(figsize = (18,5))\n",
    "\n",
    "ax_pca.plot(pca_perc_expl_var_sum*100, 'o-', label='PCA')\n",
    "ax_pca.plot(kpca_perc_expl_var_sum*100, 'ro-', label='Kernel PCA')\n",
    "ax_pca.set_ylim([0,100])\n",
    "ax_pca.set_xticks(pc_plot_num)\n",
    "ax_pca.set_xticklabels(pc_plot_num+1, rotation=65)\n",
    "ax_pca.set_title('Cumulative sum of percentage of variance explained by the principal components', fontsize=15)\n",
    "ax_pca.set_ylabel('sum variance explained [%]', fontsize=13)\n",
    "ax_pca.set_xlabel('# principal component', fontsize=13)\n",
    "ax_pca.grid(True)\n",
    "plt.legend();"
   ]
  },
  {
   "cell_type": "markdown",
   "metadata": {
    "extensions": {
     "jupyter_dashboards": {
      "version": 1,
      "views": {
       "grid_default": {
        "col": 0,
        "height": 4,
        "hidden": false,
        "row": 69,
        "width": 4
       },
       "report_default": {}
      }
     }
    }
   },
   "source": [
    "### Split the features from LDA"
   ]
  },
  {
   "cell_type": "code",
   "execution_count": 31,
   "metadata": {
    "ExecuteTime": {
     "end_time": "2018-12-06T14:24:21.213212Z",
     "start_time": "2018-12-06T14:24:20.992199Z"
    },
    "extensions": {
     "jupyter_dashboards": {
      "version": 1,
      "views": {
       "grid_default": {
        "col": 4,
        "height": 4,
        "hidden": false,
        "row": 69,
        "width": 4
       },
       "report_default": {}
      }
     }
    }
   },
   "outputs": [
    {
     "name": "stdout",
     "output_type": "stream",
     "text": [
      "Train set shape (lda): (2032, 9)\n",
      "Test set shape (lda):  (678, 9)\n"
     ]
    }
   ],
   "source": [
    "# First we have to split the original features, then we fit the LDA model ONLY with the train data\n",
    "X_train_for_lda, X_test_for_lda, y_train_lda, y_test_lda = train_test_split(X_original, y, stratify=y, \n",
    "                                                                    test_size=test_size, random_state=42)\n",
    "\n",
    "# create new features from LDA projections\n",
    "X_train_lda = lda.fit_transform(X_train_for_lda, y_train_lda)\n",
    "X_test_lda = lda.transform(X_test_for_lda)\n",
    "\n",
    "print('Train set shape (lda): {}'.format(np.shape(X_train_lda)))\n",
    "print('Test set shape (lda):  {}'.format(np.shape(X_test_lda)))"
   ]
  },
  {
   "cell_type": "markdown",
   "metadata": {
    "extensions": {
     "jupyter_dashboards": {
      "version": 1,
      "views": {
       "grid_default": {
        "col": 8,
        "height": 4,
        "hidden": false,
        "row": 69,
        "width": 4
       },
       "report_default": {}
      }
     }
    }
   },
   "source": [
    "### Split the features of half the number of sections"
   ]
  },
  {
   "cell_type": "code",
   "execution_count": 32,
   "metadata": {
    "ExecuteTime": {
     "end_time": "2018-12-06T14:24:21.333219Z",
     "start_time": "2018-12-06T14:24:21.313217Z"
    },
    "extensions": {
     "jupyter_dashboards": {
      "version": 1,
      "views": {
       "grid_default": {
        "col": 0,
        "height": 4,
        "hidden": false,
        "row": 73,
        "width": 4
       },
       "report_default": {}
      }
     }
    }
   },
   "outputs": [
    {
     "name": "stdout",
     "output_type": "stream",
     "text": [
      "Train set shape (half sect.): (2032, 60)\n",
      "Test set shape (half sect.):  (678, 60)\n"
     ]
    }
   ],
   "source": [
    "X_train_orig_half, X_test_orig_half, y_train_orig_half, y_test_orig_half = train_test_split(X_orig_half, y, stratify=y, \n",
    "                                                                    test_size=test_size, random_state=42)\n",
    "print('Train set shape (half sect.): {}'.format(np.shape(X_train_orig_half)))\n",
    "print('Test set shape (half sect.):  {}'.format(np.shape(X_test_orig_half)))"
   ]
  },
  {
   "cell_type": "markdown",
   "metadata": {
    "ExecuteTime": {
     "end_time": "2018-12-06T15:31:04.409181Z",
     "start_time": "2018-12-06T15:31:04.405181Z"
    },
    "extensions": {
     "jupyter_dashboards": {
      "version": 1,
      "views": {
       "grid_default": {
        "col": 0,
        "height": 4,
        "hidden": false,
        "row": 154,
        "width": 4
       },
       "report_default": {}
      }
     }
    }
   },
   "source": [
    "### Split the features of 1/4 the number of sections"
   ]
  },
  {
   "cell_type": "code",
   "execution_count": 37,
   "metadata": {
    "ExecuteTime": {
     "end_time": "2018-12-06T15:31:57.166199Z",
     "start_time": "2018-12-06T15:31:57.152198Z"
    },
    "extensions": {
     "jupyter_dashboards": {
      "version": 1,
      "views": {
       "grid_default": {
        "col": 0,
        "height": 4,
        "hidden": false,
        "row": 158,
        "width": 4
       },
       "report_default": {}
      }
     }
    }
   },
   "outputs": [
    {
     "name": "stdout",
     "output_type": "stream",
     "text": [
      "Train set shape (half sect.): (2032, 30)\n",
      "Test set shape (half sect.):  (678, 30)\n"
     ]
    }
   ],
   "source": [
    "X_train_orig_quater, X_test_orig_quater, y_train_orig_quater, y_test_orig_quater = train_test_split(\n",
    "                                                                    X_orig_quater, y, stratify=y, \n",
    "                                                                    test_size=test_size, random_state=42)\n",
    "\n",
    "print('Train set shape (half sect.): {}'.format(np.shape(X_train_orig_quater)))\n",
    "print('Test set shape (half sect.):  {}'.format(np.shape(X_test_orig_quater)))"
   ]
  },
  {
   "cell_type": "markdown",
   "metadata": {
    "extensions": {
     "jupyter_dashboards": {
      "version": 1,
      "views": {
       "grid_default": {
        "col": 4,
        "height": 4,
        "hidden": false,
        "row": 73,
        "width": 4
       },
       "report_default": {}
      }
     }
    }
   },
   "source": [
    "## Classification"
   ]
  },
  {
   "cell_type": "code",
   "execution_count": 39,
   "metadata": {
    "ExecuteTime": {
     "end_time": "2018-12-06T15:34:06.065572Z",
     "start_time": "2018-12-06T15:34:05.634547Z"
    },
    "extensions": {
     "jupyter_dashboards": {
      "version": 1,
      "views": {
       "grid_default": {
        "hidden": true
       },
       "report_default": {}
      }
     }
    }
   },
   "outputs": [],
   "source": [
    "from sklearn.preprocessing import StandardScaler\n",
    "from sklearn.ensemble import RandomForestClassifier\n",
    "from sklearn.linear_model import LogisticRegression\n",
    "from sklearn.svm import SVC\n",
    "from sklearn.ensemble import VotingClassifier\n",
    "from sklearn.metrics import accuracy_score\n",
    "from sklearn.pipeline import Pipeline\n",
    "from sklearn.pipeline import make_pipeline"
   ]
  },
  {
   "cell_type": "markdown",
   "metadata": {
    "extensions": {
     "jupyter_dashboards": {
      "version": 1,
      "views": {
       "grid_default": {
        "col": 8,
        "height": 4,
        "hidden": false,
        "row": 73,
        "width": 4
       },
       "report_default": {}
      }
     }
    }
   },
   "source": [
    "### Functions for evaluation"
   ]
  },
  {
   "cell_type": "code",
   "execution_count": 40,
   "metadata": {
    "ExecuteTime": {
     "end_time": "2018-12-06T15:34:06.276584Z",
     "start_time": "2018-12-06T15:34:06.212580Z"
    },
    "extensions": {
     "jupyter_dashboards": {
      "version": 1,
      "views": {
       "grid_default": {
        "hidden": true
       },
       "report_default": {}
      }
     }
    }
   },
   "outputs": [],
   "source": [
    "def print_precision_recall_accuracy(y_pred, y_test):\n",
    "    '''\n",
    "    This function prints precision, recall and accuracy for each exercise.\n",
    "    \n",
    "    Parameters\n",
    "    ----------\n",
    "    y_pred : array\n",
    "        Prediceted classes (0...9).\n",
    "    \n",
    "    y_test : array\n",
    "        Actual classes (0...9).\n",
    "    \n",
    "    Returns\n",
    "    -------\n",
    "    None\n",
    "    '''\n",
    "    \n",
    "    # exercise abbreviations\n",
    "    exercise_abbrs = ['RF','RO','RS','LR','BC','TC','MP','SA','P1','P2']\n",
    "    \n",
    "    # dictionary for labels\n",
    "    label_ex = {'RF':0,'RO':1,'RS':2,'LR':3,'BC':4,'TC':5,'MP':6,'SA':7,'P1':8,'P2':9}\n",
    "\n",
    "    \n",
    "    print('Exercise\\tPrecision [%]\\tRecall [%]\\tAccuracy[%]')\n",
    "    \n",
    "    for ex in exercise_abbrs:\n",
    "        TP = sum((y_pred == label_ex[ex]) & (np.array(y_test) == label_ex[ex])) # True Positives\n",
    "        TN = sum((y_pred != label_ex[ex]) & (np.array(y_test) != label_ex[ex])) # True Negatives\n",
    "        FP = sum((y_pred == label_ex[ex]) & (np.array(y_test) != label_ex[ex])) # False Positives\n",
    "        FN = sum((y_pred != label_ex[ex]) & (np.array(y_test) == label_ex[ex])) # False Negatives\n",
    "\n",
    "        precision = TP / (TP+FP)\n",
    "        recall = TP / (TP+FN)\n",
    "        accuracy = (TP+TN) / (TP+TN+FP+FN)\n",
    "        \n",
    "        print('  '+ ex +'\\t\\t  {:6.2f}'.format(precision*100)+ \\\n",
    "              '\\t  {:6.2f}'.format(recall*100)+'\\t  {:6.2f}'.format(accuracy*100))"
   ]
  },
  {
   "cell_type": "code",
   "execution_count": 41,
   "metadata": {
    "ExecuteTime": {
     "end_time": "2018-12-06T15:34:06.514597Z",
     "start_time": "2018-12-06T15:34:06.495596Z"
    },
    "extensions": {
     "jupyter_dashboards": {
      "version": 1,
      "views": {
       "grid_default": {
        "hidden": true
       },
       "report_default": {}
      }
     }
    }
   },
   "outputs": [],
   "source": [
    "def print_misclassified_data_points(y_pred, y_test):\n",
    "    '''\n",
    "    This funciton prints all misclassified data points.\n",
    "    \n",
    "    Parameters\n",
    "    ----------\n",
    "    y_pred : array\n",
    "        Prediceted classes (0...9).\n",
    "    \n",
    "    y_test : array\n",
    "        Actual classes (0...9).\n",
    "    \n",
    "    Returns\n",
    "    -------\n",
    "    None\n",
    "    '''\n",
    "    \n",
    "    # exercise abbreviations\n",
    "    exercise_abbrs = ['RF','RO','RS','LR','BC','TC','MP','SA','P1','P2'] \n",
    "    \n",
    "    # indices of misclassified data points\n",
    "    ind_misclassified = np.flatnonzero(y_test != y_pred) \n",
    "\n",
    "    # print misclassified data points\n",
    "    print('{0} misclassified ({1} test data points):'.format(sum(y_test != y_pred), len(y_test)))\n",
    "    for ii in ind_misclassified:\n",
    "        print(exercise_abbrs[y_test[ii]] + ' classified as ' + exercise_abbrs[y_pred[ii]])"
   ]
  },
  {
   "cell_type": "code",
   "execution_count": 42,
   "metadata": {
    "ExecuteTime": {
     "end_time": "2018-12-06T15:34:06.730610Z",
     "start_time": "2018-12-06T15:34:06.714609Z"
    },
    "extensions": {
     "jupyter_dashboards": {
      "version": 1,
      "views": {
       "grid_default": {
        "hidden": true
       },
       "report_default": {}
      }
     }
    }
   },
   "outputs": [],
   "source": [
    "def plot_feature_importances_decision_tree(model, feature_names, fig_size):\n",
    "    '''\n",
    "    Function to plot the feature importances of a decision tree model.\n",
    "    \n",
    "    Parameters\n",
    "    ----------\n",
    "    model : object\n",
    "        Sklearn classifier model.\n",
    "    \n",
    "    feature_names : list\n",
    "        List with feature names --> e.g. [*feature_data][1:]\n",
    "        \n",
    "    fig_size : tuple\n",
    "        Size of the figure.\n",
    "    \n",
    "    Returns\n",
    "    -------\n",
    "    None\n",
    "    '''\n",
    "    \n",
    "    fig = plt.figure(figsize = fig_size)\n",
    "    plt.barh(range(len(feature_names)), model.feature_importances_, align='center')\n",
    "    plt.yticks(np.arange(len(feature_names)), feature_names, fontsize=12)\n",
    "    plt.xlabel(r'feature importances $\\rightarrow$ sum of all = 1', fontsize=15)\n",
    "    plt.ylabel('feature', fontsize=15)\n",
    "    plt.title('Importances of Features\\nfor Classification with Decision Tree', fontsize=20)\n",
    "    plt.gca().invert_yaxis() #  show first feature on top"
   ]
  },
  {
   "cell_type": "markdown",
   "metadata": {
    "extensions": {
     "jupyter_dashboards": {
      "version": 1,
      "views": {
       "grid_default": {
        "col": 0,
        "height": 4,
        "hidden": false,
        "row": 77,
        "width": 4
       },
       "report_default": {}
      }
     }
    }
   },
   "source": [
    "### Random Forest Classifier"
   ]
  },
  {
   "cell_type": "markdown",
   "metadata": {
    "extensions": {
     "jupyter_dashboards": {
      "version": 1,
      "views": {
       "grid_default": {
        "col": 4,
        "height": 4,
        "hidden": false,
        "row": 77,
        "width": 4
       },
       "report_default": {}
      }
     }
    }
   },
   "source": [
    "#### Original features (section means):"
   ]
  },
  {
   "cell_type": "code",
   "execution_count": 43,
   "metadata": {
    "ExecuteTime": {
     "end_time": "2018-12-06T15:34:11.286870Z",
     "start_time": "2018-12-06T15:34:07.487653Z"
    },
    "extensions": {
     "jupyter_dashboards": {
      "version": 1,
      "views": {
       "grid_default": {
        "col": 8,
        "height": 22,
        "hidden": false,
        "row": 77,
        "width": 4
       },
       "report_default": {}
      }
     }
    }
   },
   "outputs": [
    {
     "name": "stdout",
     "output_type": "stream",
     "text": [
      "Model: Random Forest Classifier\n",
      "\n",
      "Features: Means of 20 sections per signal (3 x Acc + 3 x Gyr) --> 120 features\n",
      "\n",
      "Total Accuracy: 0.99558\n",
      "\n",
      "\n",
      "Exercise\tPrecision [%]\tRecall [%]\tAccuracy[%]\n",
      "  RF\t\t  100.00\t   95.52\t   99.56\n",
      "  RO\t\t   95.77\t  100.00\t   99.56\n",
      "  RS\t\t  100.00\t  100.00\t  100.00\n",
      "  LR\t\t  100.00\t  100.00\t  100.00\n",
      "  BC\t\t  100.00\t  100.00\t  100.00\n",
      "  TC\t\t  100.00\t  100.00\t  100.00\n",
      "  MP\t\t  100.00\t  100.00\t  100.00\n",
      "  SA\t\t  100.00\t  100.00\t  100.00\n",
      "  P1\t\t  100.00\t  100.00\t  100.00\n",
      "  P2\t\t  100.00\t  100.00\t  100.00\n",
      "\n",
      "\n",
      "3 misclassified (678 test data points):\n",
      "RF classified as RO\n",
      "RF classified as RO\n",
      "RF classified as RO\n"
     ]
    }
   ],
   "source": [
    "# create random forest classifier\n",
    "rnd_clf_orig = RandomForestClassifier(n_estimators=500, max_leaf_nodes=40, n_jobs=-1, random_state=42)\n",
    "\n",
    "# train the model\n",
    "rnd_clf_orig.fit(X_train_orig, y_train_orig)\n",
    "\n",
    "# predict labels\n",
    "y_pred_orig = rnd_clf_orig.predict(X_test_orig)\n",
    "\n",
    "# show results\n",
    "print('Model: Random Forest Classifier\\n')\n",
    "print('Features: Means of 20 sections per signal (3 x Acc + 3 x Gyr) --> 120 features\\n')\n",
    "print('Total Accuracy: {:.5f}'.format((accuracy_score(y_test_orig, y_pred_orig))))\n",
    "print('\\n')\n",
    "print_precision_recall_accuracy(y_pred_orig, y_test_orig)\n",
    "print('\\n')\n",
    "print_misclassified_data_points(y_pred_orig, y_test_orig)"
   ]
  },
  {
   "cell_type": "code",
   "execution_count": 44,
   "metadata": {
    "ExecuteTime": {
     "end_time": "2018-12-06T15:34:13.173978Z",
     "start_time": "2018-12-06T15:34:11.383876Z"
    },
    "extensions": {
     "jupyter_dashboards": {
      "version": 1,
      "views": {
       "grid_default": {
        "col": 0,
        "height": 12,
        "hidden": false,
        "row": 81,
        "width": 4
       },
       "report_default": {}
      }
     }
    },
    "scrolled": false
   },
   "outputs": [
    {
     "data": {
      "image/png": "[encoded data removed]",
      "text/plain": [
       "<matplotlib.figure.Figure at 0x1d3d1470>"
      ]
     },
     "metadata": {},
     "output_type": "display_data"
    }
   ],
   "source": [
    "plot_feature_importances_decision_tree(rnd_clf_orig, [*feature_data][1:], fig_size=(10,35))"
   ]
  },
  {
   "cell_type": "markdown",
   "metadata": {
    "ExecuteTime": {
     "end_time": "2018-12-02T08:02:07.971664Z",
     "start_time": "2018-12-02T08:02:07.850657Z"
    },
    "extensions": {
     "jupyter_dashboards": {
      "version": 1,
      "views": {
       "grid_default": {
        "col": 4,
        "height": 4,
        "hidden": false,
        "row": 81,
        "width": 4
       },
       "report_default": {}
      }
     }
    }
   },
   "source": [
    "#### Features reduced with PCA"
   ]
  },
  {
   "cell_type": "code",
   "execution_count": 45,
   "metadata": {
    "ExecuteTime": {
     "end_time": "2018-12-06T15:34:15.488111Z",
     "start_time": "2018-12-06T15:34:13.268984Z"
    },
    "extensions": {
     "jupyter_dashboards": {
      "version": 1,
      "views": {
       "grid_default": {
        "col": 4,
        "height": 12,
        "hidden": false,
        "row": 85,
        "width": 4
       },
       "report_default": {}
      }
     }
    },
    "scrolled": false
   },
   "outputs": [
    {
     "name": "stdout",
     "output_type": "stream",
     "text": [
      "Model: Random Forest Classifier\n",
      "\n",
      "Features: 30 principal components of means of 20 sections per signal (3 x Acc + 3 x Gyr)\n",
      "\n",
      "Total Accuracy: 0.92035\n",
      "\n",
      "\n",
      "Exercise\tPrecision [%]\tRecall [%]\tAccuracy[%]\n",
      "  RF\t\t   75.00\t   76.12\t   95.13\n",
      "  RO\t\t   74.63\t   73.53\t   94.84\n",
      "  RS\t\t   89.71\t   89.71\t   97.94\n",
      "  LR\t\t   94.20\t   95.59\t   98.97\n",
      "  BC\t\t   98.55\t  100.00\t   99.85\n",
      "  TC\t\t  100.00\t   98.53\t   99.85\n",
      "  MP\t\t   95.77\t  100.00\t   99.56\n",
      "  SA\t\t  100.00\t   98.53\t   99.85\n",
      "  P1\t\t  100.00\t  100.00\t  100.00\n",
      "  P2\t\t   92.19\t   88.06\t   98.08\n",
      "\n",
      "\n",
      "54 misclassified (678 test data points):\n",
      "RO classified as RF\n",
      "P2 classified as RS\n",
      "RO classified as P2\n",
      "RF classified as RO\n",
      "RO classified as RF\n",
      "P2 classified as MP\n",
      "RF classified as RO\n",
      "P2 classified as RS\n",
      "RF classified as RO\n",
      "RF classified as RO\n",
      "RF classified as RO\n",
      "RS classified as LR\n",
      "RS classified as P2\n",
      "TC classified as MP\n",
      "P2 classified as RS\n",
      "RO classified as RF\n",
      "RO classified as RF\n",
      "RS classified as LR\n",
      "RO classified as RF\n",
      "RO classified as RF\n",
      "P2 classified as MP\n",
      "RS classified as P2\n",
      "RS classified as P2\n",
      "LR classified as P2\n",
      "RO classified as RF\n",
      "LR classified as RS\n",
      "P2 classified as RS\n",
      "RS classified as LR\n",
      "RF classified as RO\n",
      "RF classified as RO\n",
      "RO classified as RF\n",
      "RF classified as RO\n",
      "RS classified as LR\n",
      "RO classified as RF\n",
      "RF classified as RO\n",
      "RF classified as RO\n",
      "RF classified as RO\n",
      "RO classified as RF\n",
      "RF classified as RO\n",
      "RO classified as RF\n",
      "RO classified as RF\n",
      "RF classified as RO\n",
      "RO classified as RF\n",
      "RF classified as RO\n",
      "RO classified as RF\n",
      "RO classified as RF\n",
      "RF classified as RO\n",
      "LR classified as RS\n",
      "RO classified as RF\n",
      "SA classified as BC\n",
      "RO classified as RF\n",
      "P2 classified as RS\n",
      "P2 classified as RO\n",
      "RF classified as RO\n"
     ]
    }
   ],
   "source": [
    "# create random forest classifier\n",
    "rnd_clf_pca = RandomForestClassifier(n_estimators=500, max_leaf_nodes=40, n_jobs=-1, random_state=42)\n",
    "\n",
    "# train the model\n",
    "rnd_clf_pca.fit(X_train_pca, y_train_pca)\n",
    "\n",
    "# predict labels\n",
    "y_pred_pca = rnd_clf_pca.predict(X_test_pca)\n",
    "\n",
    "# show results\n",
    "print('Model: Random Forest Classifier\\n')\n",
    "print('Features: {:d} principal components of means of 20 sections per signal (3 x Acc + 3 x Gyr)\\n'.format(\n",
    "    number_principal_comp))\n",
    "print('Total Accuracy: {:.5f}'.format((accuracy_score(y_test_pca, y_pred_pca))))\n",
    "print('\\n')\n",
    "print_precision_recall_accuracy(y_pred_pca, y_test_pca)\n",
    "print('\\n')\n",
    "print_misclassified_data_points(y_pred_pca, y_test_pca)"
   ]
  },
  {
   "cell_type": "code",
   "execution_count": 46,
   "metadata": {
    "ExecuteTime": {
     "end_time": "2018-12-06T15:34:16.233153Z",
     "start_time": "2018-12-06T15:34:15.583116Z"
    },
    "extensions": {
     "jupyter_dashboards": {
      "version": 1,
      "views": {
       "grid_default": {
        "col": 0,
        "height": 12,
        "hidden": false,
        "row": 93,
        "width": 4
       },
       "report_default": {}
      }
     }
    },
    "scrolled": false
   },
   "outputs": [
    {
     "data": {
      "image/png": "[encoded data removed]",
      "text/plain": [
       "<matplotlib.figure.Figure at 0x1c2e3ba8>"
      ]
     },
     "metadata": {},
     "output_type": "display_data"
    }
   ],
   "source": [
    "# generat the y ticks for plotting the feature importances\n",
    "feature_names = ['PC {:2}'.format(ii+1) for ii in np.arange(number_principal_comp)]\n",
    "plot_feature_importances_decision_tree(rnd_clf_pca, feature_names, fig_size=(10,15))"
   ]
  },
  {
   "cell_type": "markdown",
   "metadata": {
    "extensions": {
     "jupyter_dashboards": {
      "version": 1,
      "views": {
       "grid_default": {
        "col": 4,
        "height": 4,
        "hidden": false,
        "row": 158,
        "width": 4
       },
       "report_default": {}
      }
     }
    }
   },
   "source": [
    "#### Features reduced with Kernel PCA"
   ]
  },
  {
   "cell_type": "code",
   "execution_count": 51,
   "metadata": {
    "ExecuteTime": {
     "end_time": "2018-12-06T15:34:23.903592Z",
     "start_time": "2018-12-06T15:34:21.746469Z"
    },
    "extensions": {
     "jupyter_dashboards": {
      "version": 1,
      "views": {
       "grid_default": {
        "col": 0,
        "height": 51,
        "hidden": false,
        "row": 169,
        "width": 4
       },
       "report_default": {}
      }
     }
    }
   },
   "outputs": [
    {
     "name": "stdout",
     "output_type": "stream",
     "text": [
      "Model: Random Forest Classifier\n",
      "\n",
      "Features: 30 kernel principal components of means of 20 sections per signal (3 x Acc + 3 x Gyr)\n",
      "\n",
      "Total Accuracy: 0.92035\n",
      "\n",
      "\n",
      "Exercise\tPrecision [%]\tRecall [%]\tAccuracy[%]\n",
      "  RF\t\t   75.00\t   76.12\t   95.13\n",
      "  RO\t\t   74.63\t   73.53\t   94.84\n",
      "  RS\t\t   90.91\t   88.24\t   97.94\n",
      "  LR\t\t   91.55\t   95.59\t   98.67\n",
      "  BC\t\t   98.55\t  100.00\t   99.85\n",
      "  TC\t\t  100.00\t   98.53\t   99.85\n",
      "  MP\t\t   95.77\t  100.00\t   99.56\n",
      "  SA\t\t  100.00\t   98.53\t   99.85\n",
      "  P1\t\t  100.00\t  100.00\t  100.00\n",
      "  P2\t\t   93.75\t   89.55\t   98.38\n",
      "\n",
      "\n",
      "54 misclassified (678 test data points):\n",
      "RO classified as P2\n",
      "RF classified as RO\n",
      "RO classified as RF\n",
      "P2 classified as MP\n",
      "RF classified as RO\n",
      "P2 classified as RS\n",
      "RF classified as RO\n",
      "RF classified as RO\n",
      "RF classified as RO\n",
      "RS classified as LR\n",
      "RS classified as P2\n",
      "TC classified as MP\n",
      "P2 classified as RS\n",
      "RO classified as RF\n",
      "RO classified as RF\n",
      "RS classified as LR\n",
      "RO classified as RF\n",
      "RO classified as RF\n",
      "P2 classified as MP\n",
      "RS classified as P2\n",
      "LR classified as P2\n",
      "RO classified as RF\n",
      "LR classified as RS\n",
      "RS classified as LR\n",
      "RS classified as LR\n",
      "P2 classified as RS\n",
      "RS classified as LR\n",
      "RO classified as RF\n",
      "RF classified as RO\n",
      "RF classified as RO\n",
      "RO classified as RF\n",
      "RF classified as RO\n",
      "RS classified as LR\n",
      "RO classified as RF\n",
      "RF classified as RO\n",
      "RF classified as RO\n",
      "RF classified as RO\n",
      "RO classified as RF\n",
      "RF classified as RO\n",
      "RO classified as RF\n",
      "RO classified as RF\n",
      "RO classified as RF\n",
      "RO classified as RF\n",
      "RF classified as RO\n",
      "RO classified as RF\n",
      "RF classified as RO\n",
      "LR classified as RS\n",
      "RO classified as RF\n",
      "SA classified as BC\n",
      "RF classified as RO\n",
      "RO classified as RF\n",
      "P2 classified as RS\n",
      "P2 classified as RO\n",
      "RF classified as RO\n"
     ]
    }
   ],
   "source": [
    "# create random forest classifier\n",
    "rnd_clf_kpca = RandomForestClassifier(n_estimators=500, max_leaf_nodes=40, n_jobs=-1, random_state=42)\n",
    "\n",
    "# train the model\n",
    "rnd_clf_kpca.fit(X_train_kpca, y_train_kpca)\n",
    "\n",
    "# predict labels\n",
    "y_pred_kpca = rnd_clf_kpca.predict(X_test_kpca)\n",
    "\n",
    "# show results\n",
    "print('Model: Random Forest Classifier\\n')\n",
    "print('Features: {:d} kernel principal components of means of 20 sections per signal (3 x Acc + 3 x Gyr)\\n'.format(\n",
    "    number_principal_comp))\n",
    "print('Total Accuracy: {:.5f}'.format((accuracy_score(y_test_kpca, y_pred_kpca))))\n",
    "print('\\n')\n",
    "print_precision_recall_accuracy(y_pred_kpca, y_test_kpca)\n",
    "print('\\n')\n",
    "print_misclassified_data_points(y_pred_kpca, y_test_kpca)"
   ]
  },
  {
   "cell_type": "code",
   "execution_count": 52,
   "metadata": {
    "ExecuteTime": {
     "end_time": "2018-12-06T15:34:24.648635Z",
     "start_time": "2018-12-06T15:34:23.987597Z"
    },
    "extensions": {
     "jupyter_dashboards": {
      "version": 1,
      "views": {
       "grid_default": {
        "col": 4,
        "height": 18,
        "hidden": false,
        "row": 169,
        "width": 4
       },
       "report_default": {}
      }
     }
    }
   },
   "outputs": [
    {
     "data": {
      "image/png": "[encoded data removed]",
      "text/plain": [
       "<matplotlib.figure.Figure at 0x215bea90>"
      ]
     },
     "metadata": {},
     "output_type": "display_data"
    }
   ],
   "source": [
    "# generat the y ticks for plotting the feature importances\n",
    "feature_names = ['PC {:2}'.format(ii+1) for ii in np.arange(number_principal_comp)]\n",
    "plot_feature_importances_decision_tree(rnd_clf_kpca, feature_names, fig_size=(10,15))"
   ]
  },
  {
   "cell_type": "markdown",
   "metadata": {
    "extensions": {
     "jupyter_dashboards": {
      "version": 1,
      "views": {
       "grid_default": {
        "col": 4,
        "height": 4,
        "hidden": false,
        "row": 97,
        "width": 4
       },
       "report_default": {}
      }
     }
    }
   },
   "source": [
    "#### Features reduced with LDA"
   ]
  },
  {
   "cell_type": "code",
   "execution_count": 53,
   "metadata": {
    "ExecuteTime": {
     "end_time": "2018-12-06T15:34:30.225954Z",
     "start_time": "2018-12-06T15:34:28.795872Z"
    },
    "extensions": {
     "jupyter_dashboards": {
      "version": 1,
      "views": {
       "grid_default": {
        "col": 8,
        "height": 26,
        "hidden": false,
        "row": 99,
        "width": 4
       },
       "report_default": {}
      }
     }
    },
    "scrolled": false
   },
   "outputs": [
    {
     "name": "stdout",
     "output_type": "stream",
     "text": [
      "Model: Random Forest Classifier\n",
      "\n",
      "Features: 9 LDA components (of means of 20 sections per signal (3 x Acc + 3 x Gyr))\n",
      "\n",
      "Total Accuracy: 0.98525\n",
      "\n",
      "\n",
      "Exercise\tPrecision [%]\tRecall [%]\tAccuracy[%]\n",
      "  RF\t\t   95.31\t   91.04\t   98.67\n",
      "  RO\t\t   91.55\t   95.59\t   98.67\n",
      "  RS\t\t  100.00\t  100.00\t  100.00\n",
      "  LR\t\t  100.00\t  100.00\t  100.00\n",
      "  BC\t\t  100.00\t  100.00\t  100.00\n",
      "  TC\t\t   98.55\t  100.00\t   99.85\n",
      "  MP\t\t  100.00\t   98.53\t   99.85\n",
      "  SA\t\t  100.00\t  100.00\t  100.00\n",
      "  P1\t\t  100.00\t  100.00\t  100.00\n",
      "  P2\t\t  100.00\t  100.00\t  100.00\n",
      "\n",
      "\n",
      "10 misclassified (678 test data points):\n",
      "RF classified as RO\n",
      "RF classified as RO\n",
      "RF classified as RO\n",
      "RF classified as RO\n",
      "MP classified as TC\n",
      "RO classified as RF\n",
      "RF classified as RO\n",
      "RO classified as RF\n",
      "RO classified as RF\n",
      "RF classified as RO\n"
     ]
    }
   ],
   "source": [
    "# create random forest classifier\n",
    "rnd_clf_lda = RandomForestClassifier(n_estimators=500, max_leaf_nodes=40, n_jobs=-1, random_state=42)\n",
    "\n",
    "# train the model\n",
    "rnd_clf_lda.fit(X_train_lda, y_train_lda)\n",
    "\n",
    "# predict labels\n",
    "y_pred_lda = rnd_clf_lda.predict(X_test_lda)\n",
    "\n",
    "# show results\n",
    "print('Model: Random Forest Classifier\\n')\n",
    "print('Features: 9 LDA components (of means of 20 sections per signal (3 x Acc + 3 x Gyr))\\n')\n",
    "print('Total Accuracy: {:.5f}'.format((accuracy_score(y_test_lda, y_pred_lda))))\n",
    "print('\\n')\n",
    "print_precision_recall_accuracy(y_pred_lda, y_test_lda)\n",
    "print('\\n')\n",
    "print_misclassified_data_points(y_pred_lda, y_test_lda)"
   ]
  },
  {
   "cell_type": "code",
   "execution_count": 54,
   "metadata": {
    "ExecuteTime": {
     "end_time": "2018-12-06T15:34:30.919993Z",
     "start_time": "2018-12-06T15:34:30.323959Z"
    },
    "extensions": {
     "jupyter_dashboards": {
      "version": 1,
      "views": {
       "grid_default": {
        "col": 4,
        "height": 9,
        "hidden": false,
        "row": 101,
        "width": 4
       },
       "report_default": {}
      }
     }
    }
   },
   "outputs": [
    {
     "data": {
      "image/png": "[encoded data removed]",
      "text/plain": [
       "<matplotlib.figure.Figure at 0x215a55c0>"
      ]
     },
     "metadata": {},
     "output_type": "display_data"
    }
   ],
   "source": [
    "# generat the y ticks for plotting the feature importances\n",
    "feature_names = ['LDA {}'.format(ii+1) for ii in np.arange(np.shape(X_train_lda)[1])]\n",
    "plot_feature_importances_decision_tree(rnd_clf_lda, feature_names, fig_size=(10,6))"
   ]
  },
  {
   "cell_type": "markdown",
   "metadata": {
    "extensions": {
     "jupyter_dashboards": {
      "version": 1,
      "views": {
       "grid_default": {
        "col": 0,
        "height": 4,
        "hidden": false,
        "row": 105,
        "width": 4
       },
       "report_default": {}
      }
     }
    }
   },
   "source": [
    "#### Half the sections (original features)"
   ]
  },
  {
   "cell_type": "code",
   "execution_count": 55,
   "metadata": {
    "ExecuteTime": {
     "end_time": "2018-12-06T15:34:33.444138Z",
     "start_time": "2018-12-06T15:34:31.006998Z"
    },
    "extensions": {
     "jupyter_dashboards": {
      "version": 1,
      "views": {
       "grid_default": {
        "col": 0,
        "height": 22,
        "hidden": false,
        "row": 109,
        "width": 4
       },
       "report_default": {}
      }
     }
    }
   },
   "outputs": [
    {
     "name": "stdout",
     "output_type": "stream",
     "text": [
      "Model: Random Forest Classifier\n",
      "\n",
      "Features: Means of 10 sections per signal (3 x Acc + 3 x Gyr) --> 60 features\n",
      "\n",
      "Total Accuracy: 0.99558\n",
      "\n",
      "\n",
      "Exercise\tPrecision [%]\tRecall [%]\tAccuracy[%]\n",
      "  RF\t\t  100.00\t   95.52\t   99.56\n",
      "  RO\t\t   95.77\t  100.00\t   99.56\n",
      "  RS\t\t  100.00\t  100.00\t  100.00\n",
      "  LR\t\t  100.00\t  100.00\t  100.00\n",
      "  BC\t\t  100.00\t  100.00\t  100.00\n",
      "  TC\t\t  100.00\t  100.00\t  100.00\n",
      "  MP\t\t  100.00\t  100.00\t  100.00\n",
      "  SA\t\t  100.00\t  100.00\t  100.00\n",
      "  P1\t\t  100.00\t  100.00\t  100.00\n",
      "  P2\t\t  100.00\t  100.00\t  100.00\n",
      "\n",
      "\n",
      "3 misclassified (678 test data points):\n",
      "RF classified as RO\n",
      "RF classified as RO\n",
      "RF classified as RO\n"
     ]
    }
   ],
   "source": [
    "# create random forest classifier\n",
    "rnd_clf_orig_half = RandomForestClassifier(n_estimators=500, max_leaf_nodes=40, n_jobs=-1, random_state=42)\n",
    "\n",
    "# train the model\n",
    "rnd_clf_orig_half.fit(X_train_orig_half, y_train_orig_half)\n",
    "\n",
    "# predict labels\n",
    "y_pred_orig_half = rnd_clf_orig_half.predict(X_test_orig_half)\n",
    "\n",
    "# show results\n",
    "print('Model: Random Forest Classifier\\n')\n",
    "print('Features: Means of 10 sections per signal (3 x Acc + 3 x Gyr) --> 60 features\\n')\n",
    "print('Total Accuracy: {:.5f}'.format((accuracy_score(y_test_orig_half, y_pred_orig_half))))\n",
    "print('\\n')\n",
    "print_precision_recall_accuracy(y_pred_orig_half, y_test_orig_half)\n",
    "print('\\n')\n",
    "print_misclassified_data_points(y_pred_orig_half, y_test_orig_half)"
   ]
  },
  {
   "cell_type": "markdown",
   "metadata": {
    "extensions": {
     "jupyter_dashboards": {
      "version": 1,
      "views": {
       "grid_default": {
        "col": 8,
        "height": 4,
        "hidden": false,
        "row": 169,
        "width": 4
       },
       "report_default": {}
      }
     }
    }
   },
   "source": [
    "#### 1/4 of the sections (original features)"
   ]
  },
  {
   "cell_type": "code",
   "execution_count": 56,
   "metadata": {
    "ExecuteTime": {
     "end_time": "2018-12-06T15:34:38.687437Z",
     "start_time": "2018-12-06T15:34:36.857333Z"
    },
    "extensions": {
     "jupyter_dashboards": {
      "version": 1,
      "views": {
       "grid_default": {
        "col": 8,
        "height": 24,
        "hidden": false,
        "row": 173,
        "width": 4
       },
       "report_default": {}
      }
     }
    }
   },
   "outputs": [
    {
     "name": "stdout",
     "output_type": "stream",
     "text": [
      "Model: Random Forest Classifier\n",
      "\n",
      "Features: Means of 5 sections per signal (3 x Acc + 3 x Gyr) --> 30 features\n",
      "\n",
      "Total Accuracy: 0.98820\n",
      "\n",
      "\n",
      "Exercise\tPrecision [%]\tRecall [%]\tAccuracy[%]\n",
      "  RF\t\t   95.38\t   92.54\t   98.82\n",
      "  RO\t\t   92.86\t   95.59\t   98.82\n",
      "  RS\t\t  100.00\t  100.00\t  100.00\n",
      "  LR\t\t  100.00\t  100.00\t  100.00\n",
      "  BC\t\t  100.00\t  100.00\t  100.00\n",
      "  TC\t\t  100.00\t  100.00\t  100.00\n",
      "  MP\t\t  100.00\t  100.00\t  100.00\n",
      "  SA\t\t  100.00\t  100.00\t  100.00\n",
      "  P1\t\t  100.00\t  100.00\t  100.00\n",
      "  P2\t\t  100.00\t  100.00\t  100.00\n",
      "\n",
      "\n",
      "8 misclassified (678 test data points):\n",
      "RF classified as RO\n",
      "RO classified as RF\n",
      "RF classified as RO\n",
      "RF classified as RO\n",
      "RF classified as RO\n",
      "RO classified as RF\n",
      "RO classified as RF\n",
      "RF classified as RO\n"
     ]
    }
   ],
   "source": [
    "# create random forest classifier\n",
    "rnd_clf_orig_quater = RandomForestClassifier(n_estimators=500, max_leaf_nodes=40, n_jobs=-1, random_state=42)\n",
    "\n",
    "# train the model\n",
    "rnd_clf_orig_quater.fit(X_train_orig_quater, y_train_orig_quater)\n",
    "\n",
    "# predict labels\n",
    "y_pred_orig_quater = rnd_clf_orig_quater.predict(X_test_orig_quater)\n",
    "\n",
    "# show results\n",
    "print('Model: Random Forest Classifier\\n')\n",
    "print('Features: Means of 5 sections per signal (3 x Acc + 3 x Gyr) --> 30 features\\n')\n",
    "print('Total Accuracy: {:.5f}'.format((accuracy_score(y_test_orig_quater, y_pred_orig_quater))))\n",
    "print('\\n')\n",
    "print_precision_recall_accuracy(y_pred_orig_quater, y_test_orig_quater)\n",
    "print('\\n')\n",
    "print_misclassified_data_points(y_pred_orig_quater, y_test_orig_quater)"
   ]
  },
  {
   "cell_type": "markdown",
   "metadata": {
    "extensions": {
     "jupyter_dashboards": {
      "version": 1,
      "views": {
       "grid_default": {
        "col": 4,
        "height": 4,
        "hidden": false,
        "row": 110,
        "width": 4
       },
       "report_default": {}
      }
     }
    }
   },
   "source": [
    "### Linear Discriminant Analysis as Classifier"
   ]
  },
  {
   "cell_type": "markdown",
   "metadata": {
    "extensions": {
     "jupyter_dashboards": {
      "version": 1,
      "views": {
       "grid_default": {
        "col": 4,
        "height": 4,
        "hidden": false,
        "row": 114,
        "width": 4
       },
       "report_default": {}
      }
     }
    }
   },
   "source": [
    "#### Original features (section means):"
   ]
  },
  {
   "cell_type": "code",
   "execution_count": 70,
   "metadata": {
    "ExecuteTime": {
     "end_time": "2018-12-06T10:42:59.734644Z",
     "start_time": "2018-12-06T10:42:59.379624Z"
    },
    "extensions": {
     "jupyter_dashboards": {
      "version": 1,
      "views": {
       "grid_default": {
        "col": 4,
        "height": 30,
        "hidden": false,
        "row": 118,
        "width": 4
       },
       "report_default": {}
      }
     }
    },
    "scrolled": false
   },
   "outputs": [
    {
     "name": "stdout",
     "output_type": "stream",
     "text": [
      "Model: Linear Discriminant Analysis as Classifier \n",
      "\n",
      "Features: Means of 20 sections per signal (3 x Acc + 3 x Gyr) --> 120 features\n",
      "\n",
      "Total Accuracy: 0.97640\n",
      "\n",
      "\n",
      "Exercise\tPrecision [%]\tRecall [%]\tAccuracy[%]\n",
      "  RF\t\t   94.92\t   83.58\t   97.94\n",
      "  RO\t\t   85.53\t   95.59\t   97.94\n",
      "  RS\t\t  100.00\t  100.00\t  100.00\n",
      "  LR\t\t   97.14\t  100.00\t   99.71\n",
      "  BC\t\t  100.00\t  100.00\t  100.00\n",
      "  TC\t\t  100.00\t  100.00\t  100.00\n",
      "  MP\t\t  100.00\t  100.00\t  100.00\n",
      "  SA\t\t  100.00\t  100.00\t  100.00\n",
      "  P1\t\t  100.00\t  100.00\t  100.00\n",
      "  P2\t\t  100.00\t   97.01\t   99.71\n",
      "\n",
      "\n",
      "16 misclassified (678 test data points):\n",
      "RF classified as RO\n",
      "P2 classified as LR\n",
      "RF classified as RO\n",
      "RF classified as RO\n",
      "RF classified as RO\n",
      "RF classified as RO\n",
      "RO classified as RF\n",
      "P2 classified as LR\n",
      "RO classified as RF\n",
      "RF classified as RO\n",
      "RF classified as RO\n",
      "RO classified as RF\n",
      "RF classified as RO\n",
      "RF classified as RO\n",
      "RF classified as RO\n",
      "RF classified as RO\n"
     ]
    }
   ],
   "source": [
    "# create the model\n",
    "lda_clf_orig = LDA()\n",
    "\n",
    "# train the model\n",
    "lda_clf_orig.fit(X_train_orig, y_train_orig)\n",
    "\n",
    "# predict labels\n",
    "y_pred_orig = lda_clf_orig.predict(X_test_orig)\n",
    "\n",
    "# show results\n",
    "print('Model: Linear Discriminant Analysis as Classifier \\n')\n",
    "print('Features: Means of 20 sections per signal (3 x Acc + 3 x Gyr) --> 120 features\\n')\n",
    "print('Total Accuracy: {:.5f}'.format((accuracy_score(y_test_orig, y_pred_orig))))\n",
    "print('\\n')\n",
    "print_precision_recall_accuracy(y_pred_orig, y_test_orig)\n",
    "print('\\n')\n",
    "print_misclassified_data_points(y_pred_orig, y_test_orig)"
   ]
  },
  {
   "cell_type": "markdown",
   "metadata": {
    "extensions": {
     "jupyter_dashboards": {
      "version": 1,
      "views": {
       "grid_default": {
        "col": 8,
        "height": 4,
        "hidden": false,
        "row": 125,
        "width": 4
       },
       "report_default": {}
      }
     }
    }
   },
   "source": [
    "### Support Vector Classifier"
   ]
  },
  {
   "cell_type": "markdown",
   "metadata": {
    "extensions": {
     "jupyter_dashboards": {
      "version": 1,
      "views": {
       "grid_default": {
        "col": 8,
        "height": 4,
        "hidden": false,
        "row": 129,
        "width": 4
       },
       "report_default": {}
      }
     }
    }
   },
   "source": [
    "#### Original features (section means):"
   ]
  },
  {
   "cell_type": "code",
   "execution_count": 71,
   "metadata": {
    "ExecuteTime": {
     "end_time": "2018-12-06T10:43:00.161669Z",
     "start_time": "2018-12-06T10:42:59.743645Z"
    },
    "extensions": {
     "jupyter_dashboards": {
      "version": 1,
      "views": {
       "grid_default": {
        "col": 0,
        "height": 23,
        "hidden": false,
        "row": 131,
        "width": 4
       },
       "report_default": {}
      }
     }
    }
   },
   "outputs": [
    {
     "name": "stdout",
     "output_type": "stream",
     "text": [
      "Model: Support Vector Classifier \n",
      "\n",
      "Features: Means of 20 sections per signal (3 x Acc + 3 x Gyr) --> 120 features\n",
      "\n",
      "Total Accuracy: 0.99263\n",
      "\n",
      "\n",
      "Exercise\tPrecision [%]\tRecall [%]\tAccuracy[%]\n",
      "  RF\t\t  100.00\t   94.03\t   99.41\n",
      "  RO\t\t   94.44\t  100.00\t   99.41\n",
      "  RS\t\t  100.00\t  100.00\t  100.00\n",
      "  LR\t\t  100.00\t  100.00\t  100.00\n",
      "  BC\t\t  100.00\t  100.00\t  100.00\n",
      "  TC\t\t  100.00\t  100.00\t  100.00\n",
      "  MP\t\t  100.00\t  100.00\t  100.00\n",
      "  SA\t\t  100.00\t  100.00\t  100.00\n",
      "  P1\t\t  100.00\t   98.53\t   99.85\n",
      "  P2\t\t   98.53\t  100.00\t   99.85\n",
      "\n",
      "\n",
      "5 misclassified (678 test data points):\n",
      "P1 classified as P2\n",
      "RF classified as RO\n",
      "RF classified as RO\n",
      "RF classified as RO\n",
      "RF classified as RO\n"
     ]
    }
   ],
   "source": [
    "# Due to the StandardScaler we get the following warning:\n",
    "# --> DataConversionWarning: Data with input dtype object was converted to float64 by StandardScaler.\n",
    "# if we want to ignore that:\n",
    "import warnings\n",
    "from sklearn.exceptions import DataConversionWarning\n",
    "warnings.filterwarnings(action='ignore', category=DataConversionWarning)\n",
    "\n",
    "\n",
    "# create pipeline in order to scale the features before classifying\n",
    "scale_svc_clf_orig = make_pipeline(StandardScaler(), SVC(random_state=42))\n",
    "\n",
    "# train the model\n",
    "scale_svc_clf_orig.fit(X_train_orig, y_train_orig)\n",
    "\n",
    "# predict labels\n",
    "y_pred_orig = scale_svc_clf_orig.predict(X_test_orig)\n",
    "\n",
    "# show results\n",
    "print('Model: Support Vector Classifier \\n')\n",
    "print('Features: Means of 20 sections per signal (3 x Acc + 3 x Gyr) --> 120 features\\n')\n",
    "print('Total Accuracy: {:.5f}'.format((accuracy_score(y_test_orig, y_pred_orig))))\n",
    "print('\\n')\n",
    "print_precision_recall_accuracy(y_pred_orig, y_test_orig)\n",
    "print('\\n')\n",
    "print_misclassified_data_points(y_pred_orig, y_test_orig)"
   ]
  },
  {
   "cell_type": "markdown",
   "metadata": {
    "extensions": {
     "jupyter_dashboards": {
      "version": 1,
      "views": {
       "grid_default": {
        "col": 8,
        "height": 4,
        "hidden": false,
        "row": 133,
        "width": 4
       },
       "report_default": {}
      }
     }
    }
   },
   "source": [
    "### Voting Classifier"
   ]
  },
  {
   "cell_type": "markdown",
   "metadata": {
    "extensions": {
     "jupyter_dashboards": {
      "version": 1,
      "views": {
       "grid_default": {
        "col": 8,
        "height": 4,
        "hidden": false,
        "row": 137,
        "width": 4
       },
       "report_default": {}
      }
     }
    }
   },
   "source": [
    "#### Original features (section means):"
   ]
  },
  {
   "cell_type": "code",
   "execution_count": 72,
   "metadata": {
    "ExecuteTime": {
     "end_time": "2018-12-06T10:43:17.799677Z",
     "start_time": "2018-12-06T10:43:00.168669Z"
    },
    "extensions": {
     "jupyter_dashboards": {
      "version": 1,
      "views": {
       "grid_default": {
        "col": 8,
        "height": 23,
        "hidden": false,
        "row": 141,
        "width": 4
       },
       "report_default": {}
      }
     }
    }
   },
   "outputs": [
    {
     "name": "stdout",
     "output_type": "stream",
     "text": [
      "Model: Voting Classifier \n",
      "\n",
      "Features: Means of 20 sections per signal (3 x Acc + 3 x Gyr) --> 120 features\n",
      "\n",
      "Total Accuracy:\n",
      "Random Forest: 0.99558\n",
      "Scaled Log. Regr.: 0.99558\n",
      "Scaled SVC: 0.99853\n",
      "Voting Classifier: 0.99705\n",
      "\n",
      "\n",
      "Exercise\tPrecision [%]\tRecall [%]\tAccuracy[%]\n",
      "  RF\t\t  100.00\t   97.01\t   99.71\n",
      "  RO\t\t   97.14\t  100.00\t   99.71\n",
      "  RS\t\t  100.00\t  100.00\t  100.00\n",
      "  LR\t\t  100.00\t  100.00\t  100.00\n",
      "  BC\t\t  100.00\t  100.00\t  100.00\n",
      "  TC\t\t  100.00\t  100.00\t  100.00\n",
      "  MP\t\t  100.00\t  100.00\t  100.00\n",
      "  SA\t\t  100.00\t  100.00\t  100.00\n",
      "  P1\t\t  100.00\t  100.00\t  100.00\n",
      "  P2\t\t  100.00\t  100.00\t  100.00\n",
      "\n",
      "\n",
      "2 misclassified (678 test data points):\n",
      "RF classified as RO\n",
      "RF classified as RO\n"
     ]
    }
   ],
   "source": [
    "# use a voting classifier with the following classifiers:\n",
    "rnd_clf = RandomForestClassifier(n_estimators=500, max_leaf_nodes=40, n_jobs=-1, random_state=42)\n",
    "scale_log_clf = make_pipeline(StandardScaler(), LogisticRegression(multi_class=\"multinomial\", solver=\"newton-cg\", C=10, random_state=42))\n",
    "scale_svm_clf = make_pipeline(StandardScaler(), SVC(kernel=\"poly\", degree=3, coef0=1, C=5, random_state=42))\n",
    "\n",
    "\n",
    "# create voting classifier\n",
    "voting_clf = VotingClassifier(\n",
    "    estimators=[('lr', scale_log_clf), ('rf', rnd_clf), ('svc', scale_svm_clf)],\n",
    "    voting='hard')\n",
    "\n",
    "# show results\n",
    "print('Model: Voting Classifier \\n')\n",
    "print('Features: Means of 20 sections per signal (3 x Acc + 3 x Gyr) --> 120 features\\n')\n",
    "print('Total Accuracy:')\n",
    "\n",
    "for clf, name in zip((rnd_clf, scale_log_clf, scale_svm_clf, voting_clf), \n",
    "                     ('Random Forest', 'Scaled Log. Regr.', 'Scaled SVC', 'Voting Classifier')):\n",
    "    clf.fit(X_train_orig, y_train_orig)\n",
    "    y_pred_orig = clf.predict(X_test_orig)\n",
    "    print(name + ': {:.5f}'.format((accuracy_score(y_test_orig, y_pred_orig))))\n",
    "\n",
    "print('\\n')\n",
    "print_precision_recall_accuracy(y_pred_orig, y_test_orig)\n",
    "print('\\n')\n",
    "print_misclassified_data_points(y_pred_orig, y_test_orig)\n"
   ]
  },
  {
   "cell_type": "code",
   "execution_count": null,
   "metadata": {
    "extensions": {
     "jupyter_dashboards": {
      "version": 1,
      "views": {
       "grid_default": {
        "hidden": true
       },
       "report_default": {}
      }
     }
    }
   },
   "outputs": [],
   "source": []
  }
 ],
 "metadata": {
  "extensions": {
   "jupyter_dashboards": {
    "activeView": "grid_default",
    "version": 1,
    "views": {
     "grid_default": {
      "cellMargin": 10,
      "defaultCellHeight": 20,
      "maxColumns": 12,
      "name": "grid",
      "type": "grid"
     },
     "report_default": {
      "name": "report",
      "type": "report"
     }
    }
   }
  },
  "kernelspec": {
   "display_name": "Python 3",
   "language": "python",
   "name": "python3"
  },
  "language_info": {
   "codemirror_mode": {
    "name": "ipython",
    "version": 3
   },
   "file_extension": ".py",
   "mimetype": "text/x-python",
   "name": "python",
   "nbconvert_exporter": "python",
   "pygments_lexer": "ipython3",
   "version": "3.6.2"
  },
  "toc": {
   "base_numbering": 1,
   "nav_menu": {},
   "number_sections": true,
   "sideBar": true,
   "skip_h1_title": false,
   "title_cell": "Table of Contents",
   "title_sidebar": "Contents",
   "toc_cell": false,
   "toc_position": {
    "height": "calc(100% - 180px)",
    "left": "10px",
    "top": "150px",
    "width": "307px"
   },
   "toc_section_display": true,
   "toc_window_display": true
  },
  "varInspector": {
   "cols": {
    "lenName": 16,
    "lenType": 16,
    "lenVar": 40
   },
   "kernels_config": {
    "python": {
     "delete_cmd_postfix": "",
     "delete_cmd_prefix": "del ",
     "library": "var_list.py",
     "varRefreshCmd": "print(var_dic_list())"
    },
    "r": {
     "delete_cmd_postfix": ") ",
     "delete_cmd_prefix": "rm(",
     "library": "var_list.r",
     "varRefreshCmd": "cat(var_dic_list()) "
    }
   },
   "types_to_exclude": [
    "module",
    "function",
    "builtin_function_or_method",
    "instance",
    "_Feature"
   ],
   "window_display": false
  }
 },
 "nbformat": 4,
 "nbformat_minor": 2
}
