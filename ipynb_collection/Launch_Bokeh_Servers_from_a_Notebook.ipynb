{
 "cells": [
  {
   "cell_type": "markdown",
   "metadata": {},
   "source": [
    "# Launch Bokeh Servers from a Notebook"
   ]
  },
  {
   "cell_type": "code",
   "execution_count": null,
   "metadata": {},
   "outputs": [],
   "source": []
  },
  {
   "cell_type": "code",
   "execution_count": 1,
   "metadata": {
    "ExecuteTime": {
     "end_time": "2018-11-26T08:35:36.774976Z",
     "start_time": "2018-11-26T08:35:34.498846Z"
    }
   },
   "outputs": [],
   "source": [
    "from bokeh.server.server import Server\n",
    "from bokeh.application import Application\n",
    "from bokeh.application.handlers.function import FunctionHandler\n",
    "from bokeh.plotting import figure, ColumnDataSource"
   ]
  },
  {
   "cell_type": "code",
   "execution_count": 2,
   "metadata": {
    "ExecuteTime": {
     "end_time": "2018-11-26T08:35:36.801977Z",
     "start_time": "2018-11-26T08:35:36.777976Z"
    }
   },
   "outputs": [],
   "source": [
    "def make_document(doc):\n",
    "    fig = figure(title='Line plot!', plot_height=300, plot_width=600)\n",
    "    fig.line(x=[1, 2, 3], y=[1, 4, 9])\n",
    "\n",
    "    doc.title = \"Hello, world!\"\n",
    "    doc.add_root(fig)\n",
    "\n",
    "apps = {'/': Application(FunctionHandler(make_document))}\n",
    "\n",
    "server = Server(apps, port=5000)\n",
    "server.start()\n"
   ]
  },
  {
   "cell_type": "code",
   "execution_count": 3,
   "metadata": {
    "ExecuteTime": {
     "end_time": "2018-11-26T08:35:36.951986Z",
     "start_time": "2018-11-26T08:35:36.804978Z"
    }
   },
   "outputs": [],
   "source": [
    "import random\n",
    "\n",
    "def make_document(doc):\n",
    "    source = ColumnDataSource({'x': [], 'y': [], 'color': []})\n",
    "\n",
    "    def update():\n",
    "        new = {'x': [random.random()],\n",
    "               'y': [random.random()],\n",
    "               'color': [random.choice(['red', 'blue', 'green'])]}\n",
    "        source.stream(new)\n",
    "\n",
    "    doc.add_periodic_callback(update, 100)\n",
    "\n",
    "    fig = figure(title='Streaming Circle Plot!', sizing_mode='scale_width',\n",
    "                 x_range=[0, 1], y_range=[0, 1])\n",
    "    fig.circle(source=source, x='x', y='y', color='color', size=10)\n",
    "\n",
    "    doc.title = \"Now with live updating!\"\n",
    "    doc.add_root(fig)\n",
    "\n",
    "apps = {'/': Application(FunctionHandler(make_document))}\n",
    "\n",
    "server = Server(apps, port=5001)\n",
    "server.start()\n"
   ]
  },
  {
   "cell_type": "code",
   "execution_count": 4,
   "metadata": {
    "ExecuteTime": {
     "end_time": "2018-11-26T08:35:37.504018Z",
     "start_time": "2018-11-26T08:35:36.954986Z"
    }
   },
   "outputs": [
    {
     "data": {
      "text/plain": [
       "1"
      ]
     },
     "execution_count": 4,
     "metadata": {},
     "output_type": "execute_result"
    }
   ],
   "source": [
    "import subprocess\n",
    "\n",
    "subprocess.call([r'C:\\Program Files (x86)\\Mozilla Firefox\\firefox.exe',\n",
    "    '-new-tab', 'localhost:5001'])"
   ]
  },
  {
   "cell_type": "code",
   "execution_count": null,
   "metadata": {
    "ExecuteTime": {
     "start_time": "2018-11-26T09:00:21.915Z"
    }
   },
   "outputs": [],
   "source": [
    "dict(x=1,y=2,z=3)"
   ]
  },
  {
   "cell_type": "code",
   "execution_count": null,
   "metadata": {},
   "outputs": [],
   "source": []
  }
 ],
 "metadata": {
  "kernelspec": {
   "display_name": "Python 3",
   "language": "python",
   "name": "python3"
  },
  "language_info": {
   "codemirror_mode": {
    "name": "ipython",
    "version": 3
   },
   "file_extension": ".py",
   "mimetype": "text/x-python",
   "name": "python",
   "nbconvert_exporter": "python",
   "pygments_lexer": "ipython3",
   "version": "3.6.2"
  },
  "toc": {
   "base_numbering": 1,
   "nav_menu": {},
   "number_sections": true,
   "sideBar": true,
   "skip_h1_title": false,
   "title_cell": "Table of Contents",
   "title_sidebar": "Contents",
   "toc_cell": false,
   "toc_position": {},
   "toc_section_display": true,
   "toc_window_display": false
  },
  "varInspector": {
   "cols": {
    "lenName": 16,
    "lenType": 16,
    "lenVar": 40
   },
   "kernels_config": {
    "python": {
     "delete_cmd_postfix": "",
     "delete_cmd_prefix": "del ",
     "library": "var_list.py",
     "varRefreshCmd": "print(var_dic_list())"
    },
    "r": {
     "delete_cmd_postfix": ") ",
     "delete_cmd_prefix": "rm(",
     "library": "var_list.r",
     "varRefreshCmd": "cat(var_dic_list()) "
    }
   },
   "types_to_exclude": [
    "module",
    "function",
    "builtin_function_or_method",
    "instance",
    "_Feature"
   ],
   "window_display": false
  }
 },
 "nbformat": 4,
 "nbformat_minor": 2
}
