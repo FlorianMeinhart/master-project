{
 "cells": [
  {
   "cell_type": "markdown",
   "metadata": {},
   "source": [
    "# First Approach - Recurrent Neural Network"
   ]
  },
  {
   "cell_type": "code",
   "execution_count": 1,
   "metadata": {
    "ExecuteTime": {
     "end_time": "2019-02-18T17:36:30.314969Z",
     "start_time": "2019-02-18T17:36:21.163446Z"
    }
   },
   "outputs": [],
   "source": [
    "from IPython.display import clear_output\n",
    "from pivottablejs import pivot_ui\n",
    "from datetime import datetime\n",
    "import matplotlib.pyplot as plt\n",
    "from matplotlib.ticker import FuncFormatter\n",
    "from matplotlib.widgets import Slider, TextBox, Button\n",
    "import sqlite3\n",
    "import time\n",
    "import pandas as pd\n",
    "import numpy as np\n",
    "import os\n",
    "\n",
    "import sys\n",
    "sys.path.append('..') # in order to import modules from my own package\n",
    "from packageMeinhart import functionsMasterProjectMeinhart as fmpm\n",
    "from packageMeinhart.functionsMasterProjectMeinhart import print_precision_recall_accuracy\n",
    "from packageMeinhart.functionsMasterProjectMeinhart import print_misclassified_data_points\n"
   ]
  },
  {
   "cell_type": "markdown",
   "metadata": {},
   "source": [
    "## Class to handle data for RNN"
   ]
  },
  {
   "cell_type": "code",
   "execution_count": 2,
   "metadata": {
    "ExecuteTime": {
     "end_time": "2019-02-18T17:36:30.352971Z",
     "start_time": "2019-02-18T17:36:30.321970Z"
    }
   },
   "outputs": [],
   "source": [
    "def load_data_from_database(data_base_path='DataBase_Physio_with_nonEx.db'):\n",
    "    '''\n",
    "    Function to load the following data from data base:\n",
    "        - subject IDs\n",
    "        - exercise abbreviations\n",
    "        - number of repetitions\n",
    "        - sequence numbers\n",
    "        - start times\n",
    "        - stop times\n",
    "        - csv-file name\n",
    "    \n",
    "    Parameters\n",
    "    ----------\n",
    "    data_base_path : string\n",
    "        Path to data base.\n",
    "    \n",
    "    Returns\n",
    "    -------\n",
    "    DataFrame\n",
    "        DataFrame with the listet information (see above).\n",
    "    '''\n",
    "    # Connect to an existing database\n",
    "    conn = sqlite3.connect(data_base_path)\n",
    "    cur = conn.cursor()\n",
    "\n",
    "    # sql command to extract data\n",
    "    query_sql = \"\"\"\n",
    "        SELECT e.subject_id,\n",
    "        p.abbreviation,\n",
    "        e.num_rep,\n",
    "        r.sequence_num,\n",
    "        r.start_time, r.stop_time,\n",
    "        e.csv_file\n",
    "        FROM subjects s\n",
    "        INNER JOIN exercises e\n",
    "        ON s.id = e.subject_id\n",
    "        INNER JOIN paradigms p\n",
    "        ON p.id = e.paradigm_id\n",
    "        INNER JOIN repetitions r\n",
    "        ON e.id = r.exercise_id\n",
    "        \"\"\"\n",
    "    \n",
    "    # get data from data base and close connection\n",
    "    all_data_points_df = pd.read_sql_query(query_sql, conn)\n",
    "    conn.close()\n",
    "    \n",
    "    return all_data_points_df"
   ]
  },
  {
   "cell_type": "code",
   "execution_count": 3,
   "metadata": {
    "ExecuteTime": {
     "end_time": "2019-02-18T17:36:30.515981Z",
     "start_time": "2019-02-18T17:36:30.358972Z"
    }
   },
   "outputs": [],
   "source": [
    "def select_data_points_from_df(all_data_points_df,\n",
    "                               subject_ids=-1,\n",
    "                               subject_ids_complementary=[],\n",
    "                               reps=-1,\n",
    "                               abbrs=-1,\n",
    "                               with_non_Ex=True,\n",
    "                               sub_id_key='subject_id',\n",
    "                               num_rep_key='num_rep',\n",
    "                               abbreviation_key='abbreviation'):\n",
    "    '''\n",
    "    Function to select data points from a DataFrame based on subject IDs,\n",
    "    number of repetitions and exercise abbreviations.\n",
    "    \n",
    "    Parameters\n",
    "    ----------\n",
    "    all_data_points_df : pandas DataFrame\n",
    "        DataFrame with all data points.\n",
    "    \n",
    "    subject_ids : int or list\n",
    "        Subject IDs to select (e.g. [1, 2, 3]).\n",
    "        --> default -1: Select all subjects.\n",
    "        \n",
    "    subject_ids_complementary : int or list\n",
    "        If subject_ids is -1 --> select only subjects not in subject_ids_complementary.\n",
    "        \n",
    "    reps : int or list\n",
    "        Repetition numbers to select (e.g. [5, 10]).\n",
    "        --> default -1: Select all repetitions.\n",
    "        \n",
    "    abbrs : int or list\n",
    "        Exercise abbreviations to select (e.g. ['RF', 'SA']).\n",
    "        --> default -1: Select all exercise abbreviations.\n",
    "    \n",
    "    with_non_Ex : boolean\n",
    "        If False --> omit non exercise data (data points with zero repetitions).\n",
    "        \n",
    "    sub_id_key : string\n",
    "        Key of the DataFrame for subject IDs.\n",
    "        \n",
    "    num_rep_key : string\n",
    "        Key of the DataFrame for repetition numbers.\n",
    "        \n",
    "    abbreviation_key : string\n",
    "        Key of the DataFrame for exercise abbreviations.\n",
    "    \n",
    "    Returns\n",
    "    -------\n",
    "    DataFrame\n",
    "        DataFrame with selected data points.\n",
    "    '''\n",
    "    \n",
    "    data_points_df = all_data_points_df.copy()\n",
    "    \n",
    "    # select the subject IDs\n",
    "    if subject_ids is -1 and subject_ids_complementary:\n",
    "        if not isinstance(subject_ids_complementary, list): # if not list --> make list\n",
    "            subject_ids_complementary = [subject_ids_complementary]\n",
    "        data_points_df = data_points_df.loc[~data_points_df[sub_id_key].isin(subject_ids_complementary)]\n",
    "        \n",
    "    elif subject_ids is not -1:\n",
    "        if not isinstance(subject_ids, list): # if not list --> make list\n",
    "            subject_ids = [subject_ids]\n",
    "        data_points_df = data_points_df.loc[data_points_df[sub_id_key].isin(subject_ids)]\n",
    "\n",
    "    # select the repetition numbers\n",
    "    if reps is not -1:\n",
    "        if not isinstance(reps, list): # if not list --> make list\n",
    "            reps = [reps]\n",
    "        if with_non_Ex is True:\n",
    "            reps.append(0) # zero repetitions correspond to non exercise data\n",
    "        data_points_df = data_points_df.loc[data_points_df[num_rep_key].isin(reps)]\n",
    "\n",
    "    elif with_non_Ex is False:\n",
    "        data_points_df = data_points_df.loc[data_points_df[num_rep_key] != 0]\n",
    "        \n",
    "    # select the exercise abbreviations\n",
    "    if abbrs is not -1:\n",
    "        if not isinstance(abbrs, list): # if not list --> make list\n",
    "            abbrs = [abbrs]\n",
    "        data_points_df = data_points_df.loc[data_points_df[abbreviation_key].isin(abbrs)]\n",
    "\n",
    "    return data_points_df"
   ]
  },
  {
   "cell_type": "code",
   "execution_count": 4,
   "metadata": {
    "ExecuteTime": {
     "end_time": "2019-02-18T17:36:30.683990Z",
     "start_time": "2019-02-18T17:36:30.527981Z"
    }
   },
   "outputs": [],
   "source": [
    "def print_progress_func(current_num, max_num, prev_prog, add_info=None):\n",
    "    '''\n",
    "    Function to print progress [%] in a loop.\n",
    "    \n",
    "    Parameters\n",
    "    ----------\n",
    "    current_num : int\n",
    "        Number of the current run in a loop.\n",
    "        \n",
    "    max_num : int\n",
    "        Maximum number of runs in a loop.\n",
    "        \n",
    "    prev_prog : int\n",
    "        Previous progress, to print only if necessary.\n",
    "        \n",
    "    add_info : str\n",
    "        Additional information to print instead of \"Progress\".\n",
    "    \n",
    "    Returns\n",
    "    -------\n",
    "    int\n",
    "        Previous progress, important for next run.\n",
    "    '''\n",
    "    new_prog = int(current_num/max_num*100)\n",
    "    \n",
    "    if new_prog > prev_prog:\n",
    "        clear_output(wait=True)\n",
    "        \n",
    "        if isinstance(add_info, str):\n",
    "            print(add_info + ' {:3d}%'.format(new_prog))\n",
    "        else:\n",
    "            print('Progress: {:3d}%'.format(new_prog))\n",
    "        \n",
    "    return new_prog"
   ]
  },
  {
   "cell_type": "code",
   "execution_count": 5,
   "metadata": {
    "ExecuteTime": {
     "end_time": "2019-02-18T17:36:31.205020Z",
     "start_time": "2019-02-18T17:36:30.696991Z"
    }
   },
   "outputs": [],
   "source": [
    "def generate_sequences_from_separate_repetitions(data_points_df,\n",
    "                   max_sequence_length=6,\n",
    "                   orig_sampling_rate=256,\n",
    "                   new_sampling_rate=8,\n",
    "                   cutoff=10,\n",
    "                   order=6,\n",
    "                   csv_data_dir='E:\\Physio_Data_Split_Ex_and_NonEx',\n",
    "                   csv_skiprows=0,\n",
    "                   csv_separator=',',\n",
    "                   signal_abbrs=['Acc','Gyr'],\n",
    "                   signal_orientations=['x','y','z'],\n",
    "                   labels_abbr2num_dict={'RF':0,'RO':1,'RS':2,'LR':3,'BC':4,'TC':5,'MP':6,'SA':7,'P1':8,'P2':9,'NE':10},\n",
    "                   abbreviation_key='abbreviation',\n",
    "                   start_time_key='start_time',\n",
    "                   stop_time_key='stop_time',\n",
    "                   csv_file_key='csv_file',\n",
    "                   print_progress=True,\n",
    "                   progress_info='Generate sequences...'):\n",
    "    '''\n",
    "    Function to generate sequences from separate repetitions, changing the sampling rate\n",
    "    and saving them to a tensor.\n",
    "    \n",
    "    Parameters\n",
    "    ----------\n",
    "    data_points_df : DataFrame\n",
    "        DataFrame with information about data points (see load_data_from_database()).\n",
    "        \n",
    "    max_sequence_length : int or float\n",
    "        Maximum sequence length to consider in seconds.\n",
    "        \n",
    "    orig_sampling_rate : int or float\n",
    "        Original sampling rate of the signals in Hz.\n",
    "        \n",
    "    new_sampling_rate : int or float\n",
    "        New sampling rate of the signals in Hz.\n",
    "        \n",
    "    cutoff : int or float\n",
    "        Cutoff frequency for filtering.\n",
    "    \n",
    "    order : int\n",
    "        Order of butterworth filter.\n",
    "        \n",
    "    csv_data_dir : string\n",
    "        Directory of signal data csv-files.\n",
    "        \n",
    "    csv_skiprows : int\n",
    "        Number of rows to skip for signal data csv-files.\n",
    "        \n",
    "    csv_separator : string\n",
    "        Separator for signal data csv-files.\n",
    "        \n",
    "    signal_abbrs : list of strings\n",
    "        Abbreviations of the signals (e.g. ['Acc','Gyr']).\n",
    "    \n",
    "    signal_orientations : list of strings\n",
    "        Orientations of the signals (e.g. ['x','y','z']).\n",
    "        \n",
    "    labels_abbr2num_dict : dict\n",
    "        Dictionary to convert exercise abbreviations to number (e.g. ={'RF':0,'RO':1,'RS':2, ... }).\n",
    "    \n",
    "    abbreviation_key : strings\n",
    "        Exercise abbreviation key for DataFrame which contains data base entries.\n",
    "        \n",
    "    start_time_key : strings\n",
    "        Start time key for DataFrame which contains data base entries.\n",
    "        \n",
    "    stop_time_key : strings\n",
    "        Stop time key for DataFrame which contains data base entries.\n",
    "        \n",
    "    csv_file_key : strings\n",
    "        csv-file key for DataFrame which contains data base entries.\n",
    "        \n",
    "    print_progress : boolean\n",
    "        If True --> print progress at signal sequences generation.\n",
    "        \n",
    "    progress_info : strings\n",
    "        Additional information to print with progress.\n",
    "        \n",
    "    \n",
    "    Returns\n",
    "    -------\n",
    "    X_all, y_all, seqlens_all\n",
    "        \n",
    "        X_all ... tensor with signal sequences (dimensions: [number of data points, \n",
    "                                                             max sequence length, \n",
    "                                                             number of signals])\n",
    "        y_all ... array with labels\n",
    "        seqlens_all ... array with sequence lengths\n",
    "    '''\n",
    "    \n",
    "    # max index of new sequences\n",
    "    max_sequ_index = max_sequence_length * new_sampling_rate\n",
    "    \n",
    "    # number of signals (Acc: x, y, z; Gyr: x, y, z --> 6 signals)\n",
    "    num_signals = len(signal_abbrs) * len(signal_orientations)\n",
    "    \n",
    "    # number to exercise-abbreviations dict\n",
    "    labels_num2abbr_dict = {num: abbr for abbr, num in labels_abbr2num_dict.items()}\n",
    "                                                   \n",
    "    # create array for labels\n",
    "    y_all = np.zeros(len(data_points_df), dtype=np.int8)\n",
    "    \n",
    "    # create tensor for sequences\n",
    "    X_all = np.zeros((len(data_points_df), max_sequ_index, num_signals))\n",
    "    \n",
    "    # create matrix for sequence lengths\n",
    "    seqlens_all = np.zeros(len(data_points_df), dtype=np.int)\n",
    "    \n",
    "    # sampling rate ratio of original and new sampling rate (e.g. if ratio = 32 --> take every 32nd index)\n",
    "    sampling_rate_ratio = orig_sampling_rate / new_sampling_rate\n",
    "\n",
    "    # location counter for the sequence tensor\n",
    "    loc_count = 0\n",
    "\n",
    "    # variables for progress printing\n",
    "    if print_progress:\n",
    "        prog_count = 0\n",
    "        max_count = len(data_points_df.csv_file.unique()) # number of unique csv-files\n",
    "        prev_progress = 0 # previous progress\n",
    "\n",
    "    # going through all csv-files (unique --> only once for each file)\n",
    "    for current_csv_file in data_points_df.csv_file.unique():\n",
    "\n",
    "        # join file path\n",
    "        file_path = os.path.join(csv_data_dir, current_csv_file)\n",
    "\n",
    "        # load the signal data of the current file\n",
    "        selected_data_df = pd.read_csv(file_path, skiprows=csv_skiprows, sep=csv_separator)\n",
    "        \n",
    "        # write data with selected signals to dict\n",
    "        selected_data = {}\n",
    "        for sig in signal_abbrs:\n",
    "            selected_data[sig] = selected_data_df.filter(regex=sig+'*').values\n",
    "            \n",
    "        # filter data with butterworth filter and save to new dictionary\n",
    "        selected_data_filt = {}\n",
    "        for sig in signal_abbrs:\n",
    "            selected_data_filt[sig] = fmpm.butter_lowpass_filter(selected_data[sig], \n",
    "                                                                 cutoff=cutoff, \n",
    "                                                                 fs=orig_sampling_rate, \n",
    "                                                                 order=order)\n",
    "    \n",
    "        # data frame with all repetitions of the current file\n",
    "        current_data_points = data_points_df.loc[data_points_df[csv_file_key] == current_csv_file]\n",
    "\n",
    "        # going through all repetitions of the current file\n",
    "        for ii in range(len(current_data_points)):\n",
    "            \n",
    "            # get start and stop indices of current data point (current repetition)\n",
    "            start_time = float(current_data_points.reset_index().loc[ii, start_time_key])\n",
    "            stop_time = float(current_data_points.reset_index().loc[ii, stop_time_key])\n",
    "            start_idx = round(start_time * orig_sampling_rate)\n",
    "            stop_idx = round(stop_time * orig_sampling_rate)\n",
    "\n",
    "            # consider the new sampling rate for signal data selection\n",
    "            new_indices = np.arange(start_idx, stop_idx, sampling_rate_ratio).round().astype(int)\n",
    "            \n",
    "            # check if array of new indices is longer than max_sequ_index\n",
    "            if len(new_indices) > max_sequ_index:\n",
    "                new_indices = new_indices[:max_sequ_index] # take only that much indices\n",
    "            \n",
    "            # add current sequences with new sampling rate\n",
    "            for kk, sig in enumerate(signal_abbrs):\n",
    "                for ll in range(len(signal_orientations)):\n",
    "                    # explanation: X_all[index_of_current_data_point, \n",
    "                    #                    select_all_until_length_of_new_signal_data, \n",
    "                    #                    index_of_current_signal (0...5)]\n",
    "                    X_all[loc_count,:len(new_indices),kk*len(signal_orientations)+ll] = \\\n",
    "                        selected_data_filt[sig][new_indices,ll]\n",
    "\n",
    "            # add current label\n",
    "            current_ex_abbr = current_data_points.reset_index().loc[ii,abbreviation_key]\n",
    "            y_all[loc_count] = labels_abbr2num_dict[current_ex_abbr]\n",
    "            \n",
    "            # add current sequence length\n",
    "            seqlens_all[loc_count] = len(new_indices)\n",
    "\n",
    "            loc_count += 1\n",
    "\n",
    "        # print progress of feauture generation\n",
    "        if print_progress:\n",
    "            prog_count += 1\n",
    "            prev_progress = print_progress_func(prog_count, max_count, prev_progress, add_info=progress_info)\n",
    "    \n",
    "    if print_progress:\n",
    "        clear_output()\n",
    "    \n",
    "    return X_all, y_all, seqlens_all"
   ]
  },
  {
   "cell_type": "code",
   "execution_count": 6,
   "metadata": {
    "ExecuteTime": {
     "end_time": "2019-02-18T17:36:31.617044Z",
     "start_time": "2019-02-18T17:36:31.208020Z"
    }
   },
   "outputs": [],
   "source": [
    "def generate_sequences_from_repetition_blocks(data_points_df,\n",
    "                   max_sequence_length=80,\n",
    "                   orig_sampling_rate=256,\n",
    "                   new_sampling_rate=8,\n",
    "                   cutoff=10,\n",
    "                   order=6,\n",
    "                   csv_data_dir='E:\\Physio_Data_Split_Ex_and_NonEx',\n",
    "                   csv_skiprows=0,\n",
    "                   csv_separator=',',\n",
    "                   signal_abbrs=['Acc','Gyr'],\n",
    "                   signal_orientations=['x','y','z'],\n",
    "                   labels_abbr2num_dict={'RF':0,'RO':1,'RS':2,'LR':3,'BC':4,'TC':5,'MP':6,'SA':7,'P1':8,'P2':9,'NE':10},\n",
    "                   abbreviation_key='abbreviation',\n",
    "                   csv_file_key='csv_file',\n",
    "                   print_progress=True,\n",
    "                   progress_info='Generate sequences...'):\n",
    "    '''\n",
    "    Function to generate sequences from whole repetition blocks, changing the sampling rate\n",
    "    and saving them to a tensor.\n",
    "    \n",
    "    Parameters\n",
    "    ----------\n",
    "    data_points_df : DataFrame\n",
    "        DataFrame with information about data points (see load_data_from_database()).\n",
    "        \n",
    "    max_sequence_length : int or float\n",
    "        Maximum sequence length to consider in seconds.\n",
    "        \n",
    "    orig_sampling_rate : int or float\n",
    "        Original sampling rate of the signals in Hz.\n",
    "        \n",
    "    new_sampling_rate : int or float\n",
    "        New sampling rate of the signals in Hz.\n",
    "        \n",
    "    cutoff : int or float\n",
    "        Cutoff frequency for filtering.\n",
    "    \n",
    "    order : int\n",
    "        Order of butterworth filter.\n",
    "        \n",
    "    csv_data_dir : string\n",
    "        Directory of signal data csv-files.\n",
    "        \n",
    "    csv_skiprows : int\n",
    "        Number of rows to skip for signal data csv-files.\n",
    "        \n",
    "    csv_separator : string\n",
    "        Separator for signal data csv-files.\n",
    "        \n",
    "    signal_abbrs : list of strings\n",
    "        Abbreviations of the signals (e.g. ['Acc','Gyr']).\n",
    "    \n",
    "    signal_orientations : list of strings\n",
    "        Orientations of the signals (e.g. ['x','y','z']).\n",
    "        \n",
    "    labels_abbr2num_dict : dict\n",
    "        Dictionary to convert exercise abbreviations to number (e.g. ={'RF':0,'RO':1,'RS':2, ... }).\n",
    "    \n",
    "    abbreviation_key : strings\n",
    "        Exercise abbreviation key for DataFrame which contains data base entries.\n",
    "        \n",
    "    csv_file_key : strings\n",
    "        csv-file key for DataFrame which contains data base entries.\n",
    "        \n",
    "    print_progress : boolean\n",
    "        If True --> print progress at signal sequences generation.\n",
    "        \n",
    "    progress_info : strings\n",
    "        Additional information to print with progress.\n",
    "        \n",
    "    \n",
    "    Returns\n",
    "    -------\n",
    "    X_all, y_all, seqlens_all\n",
    "        \n",
    "        X_all ... tensor with signal sequences (dimensions: [number of data points, \n",
    "                                                             max sequence length, \n",
    "                                                             number of signals])\n",
    "        y_all ... array with labels\n",
    "        seqlens_all ... array with sequence lengths\n",
    "    '''\n",
    "    \n",
    "    # max index of new sequences\n",
    "    max_sequ_index = max_sequence_length * new_sampling_rate\n",
    "    \n",
    "    # number of signals (Acc: x, y, z; Gyr: x, y, z --> 6 signals)\n",
    "    num_signals = len(signal_abbrs) * len(signal_orientations)\n",
    "    \n",
    "    # number to exercise-abbreviations dict\n",
    "    labels_num2abbr_dict = {num: abbr for abbr, num in labels_abbr2num_dict.items()}\n",
    "    \n",
    "    # every csv-file is one repetition block --> one data point\n",
    "    csv_files_unique = data_points_df.csv_file.unique()\n",
    "    \n",
    "    # create array for labels\n",
    "    y_all = np.zeros(len(csv_files_unique), dtype=np.int8)\n",
    "    \n",
    "    # create tensor for sequences\n",
    "    X_all = np.zeros((len(csv_files_unique), max_sequ_index, num_signals))\n",
    "    \n",
    "    # create matrix for sequence lengths\n",
    "    seqlens_all = np.zeros(len(csv_files_unique), dtype=np.int)\n",
    "    \n",
    "    # sampling rate ratio of original and new sampling rate (e.g. if ratio = 32 --> take every 32nd index)\n",
    "    sampling_rate_ratio = orig_sampling_rate / new_sampling_rate\n",
    "\n",
    "    # location counter for the sequence tensor\n",
    "    loc_count = 0\n",
    "\n",
    "    # variables for progress printing\n",
    "    if print_progress:\n",
    "        prog_count = 0\n",
    "        max_count = len(csv_files_unique) # number of unique csv-files\n",
    "        prev_progress = 0 # previous progress\n",
    "\n",
    "    # going through all csv-files (unique --> only once for each file)\n",
    "    for current_csv_file in csv_files_unique:\n",
    "\n",
    "        # join file path\n",
    "        file_path = os.path.join(csv_data_dir, current_csv_file)\n",
    "\n",
    "        # load the signal data of the current file\n",
    "        selected_data_df = pd.read_csv(file_path, skiprows=csv_skiprows, sep=csv_separator)\n",
    "        \n",
    "        # write data with selected signals to dict\n",
    "        selected_data = {}\n",
    "        for sig in signal_abbrs:\n",
    "            selected_data[sig] = selected_data_df.filter(regex=sig+'*').values\n",
    "            \n",
    "        # filter data with butterworth filter and save to new dictionary\n",
    "        selected_data_filt = {}\n",
    "        for sig in signal_abbrs:\n",
    "            selected_data_filt[sig] = fmpm.butter_lowpass_filter(selected_data[sig], \n",
    "                                                                 cutoff=cutoff, \n",
    "                                                                 fs=orig_sampling_rate, \n",
    "                                                                 order=order)\n",
    "            \n",
    "        # start and stop indices of current data point (current repetition block)\n",
    "        start_idx = 0\n",
    "        # all signal columns must have the same length\n",
    "        stop_idx = len(selected_data_filt[signal_abbrs[0]][:,0])\n",
    "\n",
    "        # consider the new sampling rate for signal data selection\n",
    "        new_indices = np.arange(start_idx, stop_idx, sampling_rate_ratio).round().astype(int)\n",
    "            \n",
    "        # check if array of new indices is longer than max_sequ_index\n",
    "        if len(new_indices) > max_sequ_index:\n",
    "            new_indices = new_indices[:max_sequ_index] # take only that much indices\n",
    "            \n",
    "        # add current sequences with new sampling rate\n",
    "        for kk, sig in enumerate(signal_abbrs):\n",
    "            for ll in range(len(signal_orientations)):\n",
    "                # explanation: X_all[index_of_current_data_point, \n",
    "                #                    select_all_until_length_of_new_signal_data, \n",
    "                #                    index_of_current_signal (0...5)]\n",
    "                X_all[loc_count,:len(new_indices),kk*len(signal_orientations)+ll] = \\\n",
    "                    selected_data_filt[sig][new_indices,ll]\n",
    "\n",
    "        # add current label\n",
    "        # data frame with all repetitions of the current file\n",
    "        current_data_points = data_points_df.loc[data_points_df[csv_file_key] == current_csv_file]\n",
    "        current_ex_abbr = current_data_points.reset_index().loc[0,abbreviation_key]\n",
    "        y_all[loc_count] = labels_abbr2num_dict[current_ex_abbr]\n",
    "            \n",
    "        # add current sequence length\n",
    "        seqlens_all[loc_count] = len(new_indices)\n",
    "\n",
    "        loc_count += 1\n",
    "\n",
    "        # print progress of feauture generation\n",
    "        if print_progress:\n",
    "            prog_count += 1\n",
    "            prev_progress = print_progress_func(prog_count, max_count, prev_progress, add_info=progress_info)\n",
    "    \n",
    "    if print_progress:\n",
    "        clear_output()\n",
    "    \n",
    "    return X_all, y_all, seqlens_all"
   ]
  },
  {
   "cell_type": "code",
   "execution_count": 7,
   "metadata": {
    "ExecuteTime": {
     "end_time": "2019-02-18T17:36:32.178076Z",
     "start_time": "2019-02-18T17:36:31.621044Z"
    }
   },
   "outputs": [],
   "source": [
    "class PhysioData_RNN():\n",
    "    '''\n",
    "    Class to handle signal data for RNN.\n",
    "    \n",
    "    Detailed description follows ...\n",
    "    \n",
    "    For now: look at docstrings of the following functions:\n",
    "        - load_data_from_database()\n",
    "        - select_data_points_from_df()\n",
    "        - generate_sequences_from_separate_repetitions()\n",
    "        - generate_sequences_from_repetition_blocks()\n",
    "    \n",
    "    '''\n",
    "    def __init__(self,\n",
    "                 test_subject_ids=-1,\n",
    "                 train_subject_ids=-1,\n",
    "                 test_rep_nums=-1,\n",
    "                 train_rep_nums=-1,\n",
    "                 test_ex_abbrs=-1,\n",
    "                 train_ex_abbrs=-1,\n",
    "                 with_non_Ex=True,\n",
    "                 max_sequence_length_testing=6,\n",
    "                 max_sequence_length_training=6,\n",
    "                 orig_sampling_rate=256,\n",
    "                 new_sampling_rate=8,\n",
    "                 whole_rep_blocks_as_data_points_for_testing=False,\n",
    "                 whole_rep_blocks_as_data_points_for_training=False,\n",
    "                 cutoff=10,\n",
    "                 order=6,\n",
    "                 csv_data_dir='E:\\Physio_Data_Split_Ex_and_NonEx',\n",
    "                 csv_skiprows=0,\n",
    "                 csv_separator=',',\n",
    "                 data_base_path='E:\\Physio_Data\\DataBase_Physio_with_nonEx.db',\n",
    "                 print_progress=True,\n",
    "                 signal_abbrs=['Acc','Gyr'],\n",
    "                 signal_orientations=['x','y','z'],\n",
    "                 labels_abbr2num_dict={'RF':0,'RO':1,'RS':2,'LR':3,'BC':4,'TC':5,'MP':6,'SA':7,'P1':8,'P2':9,'NE':10},\n",
    "                 sub_id_key='subject_id',\n",
    "                 num_rep_key='num_rep',\n",
    "                 abbreviation_key='abbreviation',\n",
    "                 start_time_key='start_time',\n",
    "                 stop_time_key='stop_time',\n",
    "                 csv_file_key='csv_file'):\n",
    "        \n",
    "        # load all data from data points\n",
    "        self.all_data_points_df = load_data_from_database(data_base_path)\n",
    "        \n",
    "        # load data points for testing\n",
    "        self.test_data_points_df =  select_data_points_from_df(self.all_data_points_df,\n",
    "                                                               subject_ids=test_subject_ids,\n",
    "                                                               subject_ids_complementary=[],\n",
    "                                                               reps=test_rep_nums,\n",
    "                                                               abbrs=test_ex_abbrs,\n",
    "                                                               with_non_Ex=with_non_Ex,\n",
    "                                                               sub_id_key=sub_id_key,\n",
    "                                                               num_rep_key=num_rep_key,\n",
    "                                                               abbreviation_key=abbreviation_key)\n",
    "        \n",
    "        # load data points for training\n",
    "        self.train_data_points_df = select_data_points_from_df(self.all_data_points_df,\n",
    "                                                               subject_ids=train_subject_ids,\n",
    "                                                               subject_ids_complementary=test_subject_ids,\n",
    "                                                               reps=train_rep_nums,\n",
    "                                                               abbrs=train_ex_abbrs,\n",
    "                                                               with_non_Ex=with_non_Ex,\n",
    "                                                               sub_id_key=sub_id_key,\n",
    "                                                               num_rep_key=num_rep_key,\n",
    "                                                               abbreviation_key=abbreviation_key)\n",
    "        \n",
    "        # take whole repetition blocks as data points for testing\n",
    "        if whole_rep_blocks_as_data_points_for_testing is True:\n",
    "            \n",
    "            # generate sequences for testing\n",
    "            self.X_test, self.y_test, self.seqlens_test = generate_sequences_from_repetition_blocks(\n",
    "                                                                   self.test_data_points_df,\n",
    "                                                                   max_sequence_length=max_sequence_length_testing,\n",
    "                                                                   orig_sampling_rate=orig_sampling_rate,\n",
    "                                                                   new_sampling_rate=new_sampling_rate,\n",
    "                                                                   cutoff=cutoff,\n",
    "                                                                   order=order,\n",
    "                                                                   csv_data_dir=csv_data_dir,\n",
    "                                                                   csv_skiprows=csv_skiprows,\n",
    "                                                                   csv_separator=csv_separator,\n",
    "                                                                   signal_abbrs=signal_abbrs,\n",
    "                                                                   signal_orientations=signal_orientations,\n",
    "                                                                   labels_abbr2num_dict=labels_abbr2num_dict,\n",
    "                                                                   abbreviation_key=abbreviation_key,\n",
    "                                                                   csv_file_key=csv_file_key,\n",
    "                                                                   print_progress=print_progress,\n",
    "                                                                   progress_info='Generate sequences for testing...')\n",
    "        \n",
    "        # take single repetitions as data points for testing\n",
    "        else:\n",
    "            \n",
    "            # generate sequences for testing\n",
    "            self.X_test, self.y_test, self.seqlens_test = generate_sequences_from_separate_repetitions(\n",
    "                                                                   self.test_data_points_df,\n",
    "                                                                   max_sequence_length=max_sequence_length_testing,\n",
    "                                                                   orig_sampling_rate=orig_sampling_rate,\n",
    "                                                                   new_sampling_rate=new_sampling_rate,\n",
    "                                                                   cutoff=cutoff,\n",
    "                                                                   order=order,\n",
    "                                                                   csv_data_dir=csv_data_dir,\n",
    "                                                                   csv_skiprows=csv_skiprows,\n",
    "                                                                   csv_separator=csv_separator,\n",
    "                                                                   signal_abbrs=signal_abbrs,\n",
    "                                                                   signal_orientations=signal_orientations,\n",
    "                                                                   labels_abbr2num_dict=labels_abbr2num_dict,\n",
    "                                                                   abbreviation_key=abbreviation_key,\n",
    "                                                                   start_time_key=start_time_key,\n",
    "                                                                   stop_time_key=stop_time_key,\n",
    "                                                                   csv_file_key=csv_file_key,\n",
    "                                                                   print_progress=print_progress,\n",
    "                                                                   progress_info='Generate sequences for testing...')\n",
    "            \n",
    "        # take whole repetition blocks as data points for training\n",
    "        if whole_rep_blocks_as_data_points_for_training is True:\n",
    "\n",
    "            # generate sequences for training\n",
    "            self.X_train, self.y_train, self.seqlens_train = generate_sequences_from_repetition_blocks(\n",
    "                                                                   self.train_data_points_df,\n",
    "                                                                   max_sequence_length=max_sequence_length_training,\n",
    "                                                                   orig_sampling_rate=orig_sampling_rate,\n",
    "                                                                   new_sampling_rate=new_sampling_rate,\n",
    "                                                                   cutoff=cutoff,\n",
    "                                                                   order=order,\n",
    "                                                                   csv_data_dir=csv_data_dir,\n",
    "                                                                   csv_skiprows=csv_skiprows,\n",
    "                                                                   csv_separator=csv_separator,\n",
    "                                                                   signal_abbrs=signal_abbrs,\n",
    "                                                                   signal_orientations=signal_orientations,\n",
    "                                                                   labels_abbr2num_dict=labels_abbr2num_dict,\n",
    "                                                                   abbreviation_key=abbreviation_key,\n",
    "                                                                   csv_file_key=csv_file_key,\n",
    "                                                                   print_progress=print_progress,\n",
    "                                                                   progress_info='Generate sequences for training...')\n",
    "            \n",
    "        # take single repetitions as data points for training\n",
    "        else:\n",
    "\n",
    "            # generate sequences for training\n",
    "            self.X_train, self.y_train, self.seqlens_train = generate_sequences_from_separate_repetitions(\n",
    "                                                                   self.train_data_points_df,\n",
    "                                                                   max_sequence_length=max_sequence_length_training,\n",
    "                                                                   orig_sampling_rate=orig_sampling_rate,\n",
    "                                                                   new_sampling_rate=new_sampling_rate,\n",
    "                                                                   cutoff=cutoff,\n",
    "                                                                   order=order,\n",
    "                                                                   csv_data_dir=csv_data_dir,\n",
    "                                                                   csv_skiprows=csv_skiprows,\n",
    "                                                                   csv_separator=csv_separator,\n",
    "                                                                   signal_abbrs=signal_abbrs,\n",
    "                                                                   signal_orientations=signal_orientations,\n",
    "                                                                   labels_abbr2num_dict=labels_abbr2num_dict,\n",
    "                                                                   abbreviation_key=abbreviation_key,\n",
    "                                                                   start_time_key=start_time_key,\n",
    "                                                                   stop_time_key=stop_time_key,\n",
    "                                                                   csv_file_key=csv_file_key,\n",
    "                                                                   print_progress=print_progress,\n",
    "                                                                   progress_info='Generate sequences for training...')\n",
    "    \n",
    "    \n",
    "    def get_train_batch(self, batch_size):\n",
    "        '''\n",
    "        Method to get batch with randomly selected training data.\n",
    "        \n",
    "        Parameters\n",
    "        ----------\n",
    "        batch_size : int\n",
    "            Number of data points in batch.\n",
    "\n",
    "        Returns\n",
    "        -------\n",
    "        X_train_batch, y_train_batch, seqlens_train_batch\n",
    "        '''\n",
    "        \n",
    "        instance_indices = list(range(len(self.y_train))) # list with all train indices\n",
    "        np.random.shuffle(instance_indices) # shuffle the train indices\n",
    "        batch_indices = instance_indices[:batch_size] # randomly select train indices\n",
    "    \n",
    "        # select batch data with corresponding indices\n",
    "        X_train_batch = np.array(self.X_train)[batch_indices]\n",
    "        y_train_batch = self.y_train[batch_indices]\n",
    "        seqlens_train_batch = np.array(self.seqlens_train)[batch_indices]\n",
    "\n",
    "        return X_train_batch, y_train_batch, seqlens_train_batch\n",
    "\n",
    "    \n",
    "    # methods to get data\n",
    "    def get_X_test(self):\n",
    "        return self.X_test\n",
    "    \n",
    "    def get_y_test(self):\n",
    "        return self.y_test\n",
    "    \n",
    "    def get_seqlens_test(self):\n",
    "        return self.seqlens_test\n",
    "    \n",
    "    def get_X_train(self):\n",
    "        return self.X_train\n",
    "    \n",
    "    def get_y_train(self):\n",
    "        return self.y_train\n",
    "    \n",
    "    def get_sequlens_train(self):\n",
    "        return self.sequlens_train\n",
    "    \n",
    "    \n",
    "    # methods to get data points (DataFrames)\n",
    "    def get_test_data_points(self):\n",
    "        return self.test_data_points_df\n",
    "    \n",
    "    def get_train_data_points(self):\n",
    "        return self.train_data_points_df\n",
    "    \n",
    "    def get_all_data_points(self):\n",
    "        return self.all_data_points_df\n"
   ]
  },
  {
   "cell_type": "markdown",
   "metadata": {},
   "source": [
    "### Create instance of the class *PhysioData_RNN*"
   ]
  },
  {
   "cell_type": "code",
   "execution_count": 8,
   "metadata": {
    "ExecuteTime": {
     "end_time": "2019-02-18T17:37:20.074815Z",
     "start_time": "2019-02-18T17:36:32.181076Z"
    }
   },
   "outputs": [],
   "source": [
    "PD_RNN1 = PhysioData_RNN(test_subject_ids=1,\n",
    "                         max_sequence_length_testing=6,\n",
    "                         max_sequence_length_training=6,\n",
    "                         new_sampling_rate=4,\n",
    "                         whole_rep_blocks_as_data_points_for_testing=False,\n",
    "                         whole_rep_blocks_as_data_points_for_training=False)"
   ]
  },
  {
   "cell_type": "code",
   "execution_count": 9,
   "metadata": {
    "ExecuteTime": {
     "end_time": "2019-02-18T17:37:20.105817Z",
     "start_time": "2019-02-18T17:37:20.081816Z"
    }
   },
   "outputs": [
    {
     "data": {
      "text/plain": [
       "(709, 24, 6)"
      ]
     },
     "execution_count": 9,
     "metadata": {},
     "output_type": "execute_result"
    }
   ],
   "source": [
    "np.shape(PD_RNN1.get_X_test())"
   ]
  },
  {
   "cell_type": "code",
   "execution_count": 10,
   "metadata": {
    "ExecuteTime": {
     "end_time": "2019-02-18T17:37:20.259826Z",
     "start_time": "2019-02-18T17:37:20.115818Z"
    }
   },
   "outputs": [
    {
     "data": {
      "text/plain": [
       "(6120, 24, 6)"
      ]
     },
     "execution_count": 10,
     "metadata": {},
     "output_type": "execute_result"
    }
   ],
   "source": [
    "np.shape(PD_RNN1.get_X_train())"
   ]
  },
  {
   "cell_type": "code",
   "execution_count": 11,
   "metadata": {
    "ExecuteTime": {
     "end_time": "2019-02-18T17:37:20.419835Z",
     "start_time": "2019-02-18T17:37:20.266826Z"
    },
    "scrolled": true
   },
   "outputs": [
    {
     "data": {
      "text/plain": [
       "array([[-8.85008976e-01,  3.73013764e-01,  2.24020535e-01,\n",
       "         1.21751042e+01,  1.52829258e+00,  9.10124605e+00],\n",
       "       [-1.01528357e+00,  1.07474501e+00,  3.88348309e-01,\n",
       "        -2.42753698e+01, -2.82604112e+01,  1.39737623e+02],\n",
       "       [-6.34748614e-01,  9.63927847e-01,  2.02384178e-01,\n",
       "        -7.54283377e+00, -3.91051296e+01,  1.58483358e+02],\n",
       "       [ 1.04911864e-01,  5.41331501e-01,  2.45186189e-01,\n",
       "         4.44534291e+00, -1.63078708e+01,  1.13614763e+02],\n",
       "       [ 6.11687397e-01,  4.31368824e-01,  2.80606846e-01,\n",
       "        -1.46211643e+01, -3.62546694e+00,  1.43849657e+01],\n",
       "       [ 5.76487955e-01,  4.50268683e-01,  3.27837728e-01,\n",
       "        -1.50772590e+00,  2.06181750e+00, -1.68996313e+01],\n",
       "       [ 1.60316970e-01,  5.17148631e-01,  2.94741576e-01,\n",
       "        -2.82360611e+01,  2.85425109e+01, -1.19222601e+02],\n",
       "       [-5.50248195e-01,  1.01577925e+00,  3.24931914e-01,\n",
       "         8.48018451e+00,  1.93014588e+01, -1.57620844e+02],\n",
       "       [-1.06081757e+00,  8.50847948e-01,  3.23734638e-01,\n",
       "        -7.80314506e+00,  2.77927524e+01, -1.22591467e+02],\n",
       "       [-1.03250496e+00,  4.24830007e-01,  3.33556145e-01,\n",
       "        -1.44286634e+01,  2.42460802e+01, -4.55003833e+01],\n",
       "       [-9.44795597e-01,  2.54712710e-01,  2.17821080e-01,\n",
       "         5.63878809e+00,  2.21768665e+00, -3.30126554e+00],\n",
       "       [ 0.00000000e+00,  0.00000000e+00,  0.00000000e+00,\n",
       "         0.00000000e+00,  0.00000000e+00,  0.00000000e+00],\n",
       "       [ 0.00000000e+00,  0.00000000e+00,  0.00000000e+00,\n",
       "         0.00000000e+00,  0.00000000e+00,  0.00000000e+00],\n",
       "       [ 0.00000000e+00,  0.00000000e+00,  0.00000000e+00,\n",
       "         0.00000000e+00,  0.00000000e+00,  0.00000000e+00],\n",
       "       [ 0.00000000e+00,  0.00000000e+00,  0.00000000e+00,\n",
       "         0.00000000e+00,  0.00000000e+00,  0.00000000e+00],\n",
       "       [ 0.00000000e+00,  0.00000000e+00,  0.00000000e+00,\n",
       "         0.00000000e+00,  0.00000000e+00,  0.00000000e+00],\n",
       "       [ 0.00000000e+00,  0.00000000e+00,  0.00000000e+00,\n",
       "         0.00000000e+00,  0.00000000e+00,  0.00000000e+00],\n",
       "       [ 0.00000000e+00,  0.00000000e+00,  0.00000000e+00,\n",
       "         0.00000000e+00,  0.00000000e+00,  0.00000000e+00],\n",
       "       [ 0.00000000e+00,  0.00000000e+00,  0.00000000e+00,\n",
       "         0.00000000e+00,  0.00000000e+00,  0.00000000e+00],\n",
       "       [ 0.00000000e+00,  0.00000000e+00,  0.00000000e+00,\n",
       "         0.00000000e+00,  0.00000000e+00,  0.00000000e+00],\n",
       "       [ 0.00000000e+00,  0.00000000e+00,  0.00000000e+00,\n",
       "         0.00000000e+00,  0.00000000e+00,  0.00000000e+00],\n",
       "       [ 0.00000000e+00,  0.00000000e+00,  0.00000000e+00,\n",
       "         0.00000000e+00,  0.00000000e+00,  0.00000000e+00],\n",
       "       [ 0.00000000e+00,  0.00000000e+00,  0.00000000e+00,\n",
       "         0.00000000e+00,  0.00000000e+00,  0.00000000e+00],\n",
       "       [ 0.00000000e+00,  0.00000000e+00,  0.00000000e+00,\n",
       "         0.00000000e+00,  0.00000000e+00,  0.00000000e+00]])"
      ]
     },
     "execution_count": 11,
     "metadata": {},
     "output_type": "execute_result"
    }
   ],
   "source": [
    "PD_RNN1.get_X_test()[0]"
   ]
  },
  {
   "cell_type": "code",
   "execution_count": 12,
   "metadata": {
    "ExecuteTime": {
     "end_time": "2019-02-18T17:37:20.572844Z",
     "start_time": "2019-02-18T17:37:20.425835Z"
    }
   },
   "outputs": [
    {
     "data": {
      "text/plain": [
       "0"
      ]
     },
     "execution_count": 12,
     "metadata": {},
     "output_type": "execute_result"
    }
   ],
   "source": [
    "PD_RNN1.get_y_test()[0]"
   ]
  },
  {
   "cell_type": "code",
   "execution_count": 13,
   "metadata": {
    "ExecuteTime": {
     "end_time": "2019-02-18T17:37:20.725853Z",
     "start_time": "2019-02-18T17:37:20.578844Z"
    }
   },
   "outputs": [
    {
     "data": {
      "text/plain": [
       "11"
      ]
     },
     "execution_count": 13,
     "metadata": {},
     "output_type": "execute_result"
    }
   ],
   "source": [
    "PD_RNN1.get_seqlens_test()[0]"
   ]
  },
  {
   "cell_type": "code",
   "execution_count": 14,
   "metadata": {
    "ExecuteTime": {
     "end_time": "2019-02-18T17:37:20.898862Z",
     "start_time": "2019-02-18T17:37:20.734853Z"
    }
   },
   "outputs": [],
   "source": [
    "X_train_batch, y_train_batch, seqlens_train_batch = PD_RNN1.get_train_batch(batch_size=5)"
   ]
  },
  {
   "cell_type": "code",
   "execution_count": 15,
   "metadata": {
    "ExecuteTime": {
     "end_time": "2019-02-18T17:37:21.068872Z",
     "start_time": "2019-02-18T17:37:20.903863Z"
    }
   },
   "outputs": [
    {
     "data": {
      "text/plain": [
       "(5, 24, 6)"
      ]
     },
     "execution_count": 15,
     "metadata": {},
     "output_type": "execute_result"
    }
   ],
   "source": [
    "np.shape(X_train_batch)"
   ]
  },
  {
   "cell_type": "code",
   "execution_count": 16,
   "metadata": {
    "ExecuteTime": {
     "end_time": "2019-02-18T17:37:21.219881Z",
     "start_time": "2019-02-18T17:37:21.078873Z"
    }
   },
   "outputs": [
    {
     "data": {
      "text/plain": [
       "array([ 1, 10, 10, 10, 10], dtype=int8)"
      ]
     },
     "execution_count": 16,
     "metadata": {},
     "output_type": "execute_result"
    }
   ],
   "source": [
    "y_train_batch"
   ]
  },
  {
   "cell_type": "code",
   "execution_count": 17,
   "metadata": {
    "ExecuteTime": {
     "end_time": "2019-02-18T17:37:21.375890Z",
     "start_time": "2019-02-18T17:37:21.227881Z"
    }
   },
   "outputs": [
    {
     "data": {
      "text/plain": [
       "array([12, 13, 17, 13, 17])"
      ]
     },
     "execution_count": 17,
     "metadata": {},
     "output_type": "execute_result"
    }
   ],
   "source": [
    "seqlens_train_batch"
   ]
  },
  {
   "cell_type": "code",
   "execution_count": 18,
   "metadata": {
    "ExecuteTime": {
     "end_time": "2019-02-18T17:37:21.988925Z",
     "start_time": "2019-02-18T17:37:21.385890Z"
    }
   },
   "outputs": [
    {
     "data": {
      "image/png": "[encoded data removed]",
      "text/plain": [
       "<Figure size 432x288 with 1 Axes>"
      ]
     },
     "metadata": {},
     "output_type": "display_data"
    }
   ],
   "source": [
    "plt.plot(X_train_batch[0,:,:]);"
   ]
  },
  {
   "cell_type": "code",
   "execution_count": 19,
   "metadata": {
    "ExecuteTime": {
     "end_time": "2019-02-18T17:37:22.311943Z",
     "start_time": "2019-02-18T17:37:21.994925Z"
    }
   },
   "outputs": [
    {
     "data": {
      "image/png": "[encoded data removed]",
      "text/plain": [
       "<Figure size 432x288 with 1 Axes>"
      ]
     },
     "metadata": {},
     "output_type": "display_data"
    }
   ],
   "source": [
    "plt.plot(PD_RNN1.get_X_test()[0,:,:]);"
   ]
  },
  {
   "cell_type": "markdown",
   "metadata": {},
   "source": [
    "## Building a Recurrent Neural Network with *TensorFlow*"
   ]
  },
  {
   "cell_type": "code",
   "execution_count": 20,
   "metadata": {
    "ExecuteTime": {
     "end_time": "2019-02-18T17:37:24.181050Z",
     "start_time": "2019-02-18T17:37:22.315943Z"
    }
   },
   "outputs": [
    {
     "name": "stderr",
     "output_type": "stream",
     "text": [
      "E:\\Programme\\WinPython-64bit-3.6.2.0Qt5\\python-3.6.2.amd64\\lib\\site-packages\\h5py\\__init__.py:36: FutureWarning: Conversion of the second argument of issubdtype from `float` to `np.floating` is deprecated. In future, it will be treated as `np.float64 == np.dtype(float).type`.\n",
      "  from ._conv import register_converters as _register_converters\n"
     ]
    }
   ],
   "source": [
    "import tensorflow as tf"
   ]
  },
  {
   "cell_type": "code",
   "execution_count": 21,
   "metadata": {
    "ExecuteTime": {
     "end_time": "2019-02-18T17:37:24.213052Z",
     "start_time": "2019-02-18T17:37:24.189051Z"
    }
   },
   "outputs": [
    {
     "name": "stdout",
     "output_type": "stream",
     "text": [
      "tensorboard --logdir=E:\\Jupyter_Notebooks\\Master_Project_Meinhart_git\\logs\\RNN_with_summaries\n"
     ]
    }
   ],
   "source": [
    "# directory to save TensorBoard model summaries\n",
    "LOG_DIR_ALL = 'E:\\Jupyter_Notebooks\\Master_Project_Meinhart_git\\logs\\RNN_with_summaries'\n",
    "\n",
    "# run the command:\n",
    "print('tensorboard --logdir=' + LOG_DIR_ALL)\n",
    "\n",
    "#  --> open http://FlorianMeinhart:6006"
   ]
  },
  {
   "cell_type": "code",
   "execution_count": 22,
   "metadata": {
    "ExecuteTime": {
     "end_time": "2019-02-18T17:37:24.350060Z",
     "start_time": "2019-02-18T17:37:24.219052Z"
    }
   },
   "outputs": [],
   "source": [
    "# define parameters for RNN\n",
    "num_signals = 6 # number of signals (Acc: x, y, z; Gyr: x, y, z)\n",
    "num_classes = 11 # number of classes\n",
    "batch_size = 150 # number of data points for each batch\n",
    "time_steps = None # --> dynamic_rnn\n",
    "hidden_layer_size_rnn = 128 # number of neurons in the hidden layer of the RNN\n",
    "num_steps = 1501 # number of steps for training"
   ]
  },
  {
   "cell_type": "code",
   "execution_count": 23,
   "metadata": {
    "ExecuteTime": {
     "end_time": "2019-02-18T17:37:24.465066Z",
     "start_time": "2019-02-18T17:37:24.354060Z"
    }
   },
   "outputs": [],
   "source": [
    "# get time in order to append corresponding string to log directory\n",
    "now = datetime.now()\n",
    "LOG_DIR_TRAIN = LOG_DIR_ALL + now.strftime('\\%Y%m%d-%H%M%S' + '_train')\n",
    "LOG_DIR_TEST = LOG_DIR_ALL + now.strftime('\\%Y%m%d-%H%M%S' + '_test')"
   ]
  },
  {
   "cell_type": "code",
   "execution_count": 24,
   "metadata": {
    "ExecuteTime": {
     "end_time": "2019-02-18T17:37:26.017155Z",
     "start_time": "2019-02-18T17:37:24.469067Z"
    }
   },
   "outputs": [],
   "source": [
    "# create new tensorflow graph\n",
    "tf.reset_default_graph()\n",
    "\n",
    "# name scope for data\n",
    "with tf.name_scope('data'):\n",
    "    # placeholder for tensor with features (signals of repetitions)\n",
    "    inputs = tf.placeholder(tf.float32, shape=[None, time_steps, num_signals], name='inputs')\n",
    "    # placeholder for labels (exercises)\n",
    "    labels = tf.placeholder(tf.int32, shape=[None, num_classes], name='labels')\n",
    "    # placeholder for information of sequence lengths of single repetitions\n",
    "    seqlens = tf.placeholder(tf.int32, shape=[None], name='seqlens')\n",
    "\n",
    "# name scope for hidden RNN layer\n",
    "with tf.name_scope('RNN_layer'):\n",
    "    # used cell for the RNN\n",
    "    rnn_cell = tf.nn.rnn_cell.BasicRNNCell(hidden_layer_size_rnn)\n",
    "    #rnn_cell = tf.nn.rnn_cell.BasicLSTMCell(hidden_layer_size_rnn)\n",
    "    \n",
    "    # creating a RNN with the cell from above\n",
    "    # --> 'outputs' contains hidden states of whole input sequence\n",
    "    # --> 'states' contains only last hidden states\n",
    "    outputs, states = tf.nn.dynamic_rnn(rnn_cell, inputs, sequence_length=seqlens, dtype=tf.float32)\n",
    "\n",
    "# name scope for linear output layer\n",
    "with tf.name_scope('linear_layer'):\n",
    "    # weights for the linear output layer\n",
    "    W1 = tf.Variable(tf.truncated_normal([hidden_layer_size_rnn, num_classes], mean=0, stddev=0.1),\n",
    "                     name='weights_linear')\n",
    "    # bias terms for the linear output layer\n",
    "    b1 = tf.Variable(tf.truncated_normal([num_classes], mean=0, stddev=0.1),\n",
    "                     name='biases_linear')\n",
    "    # computation of final output, considering only the last RNN state of a whole input sequence\n",
    "    final_output = tf.matmul(states, W1) + b1\n",
    "    #final_output = tf.matmul(states[0], W1) + b1\n",
    "    \n",
    "    # computation of final output, considering all RNN states of a whole input sequence\n",
    "    final_output_all_states = tf.matmul(tf.reshape(outputs, [-1, hidden_layer_size_rnn]), W1) + b1\n",
    "    \n",
    "    # using softmax and cross entropy as cost function\n",
    "    softmax = tf.nn.softmax_cross_entropy_with_logits_v2(logits=final_output, labels=labels)\n",
    "    cross_entropy = tf.reduce_mean(softmax)\n",
    "    \n",
    "    # adding cross entropy to summary\n",
    "    tf.summary.scalar('cross_entropy', cross_entropy)\n",
    "\n",
    "# training of the RNN using cross entropy\n",
    "train_step = tf.train.RMSPropOptimizer(0.001, 0.9).minimize(cross_entropy)\n",
    "#train_step = tf.train.AdamOptimizer(0.001).minimize(cross_entropy)\n",
    "\n",
    "# name scope for the evaluation\n",
    "with tf.name_scope('evaluation'):\n",
    "    # determining the correct predictions\n",
    "    correct_prediction = tf.equal(tf.argmax(labels,1), tf.argmax(final_output,1), name='correct_prediction')\n",
    "    \n",
    "    # calculating the corresponding accuracy\n",
    "    accuracy = (tf.reduce_mean(tf.cast(correct_prediction, tf.float32)))*100\n",
    "    \n",
    "    # adding accuracy to summary\n",
    "    tf.summary.scalar('accuracy', accuracy)\n",
    "    \n",
    "    # getting predicted probabilities, considering only the last RNN state of a whole input sequence\n",
    "    pred_prob = tf.nn.softmax(logits=final_output, name='predicted_probabilities')\n",
    "    \n",
    "    # getting predicted probabilities, considering all RNN states of a whole input sequence\n",
    "    pred_prob_all_states = tf.nn.softmax(logits=final_output_all_states, name='predicted_probabilities_all_states')\n",
    "    \n",
    "\n",
    "# merging summaries and creating summary writers for training and testing\n",
    "merged = tf.summary.merge_all()\n",
    "train_writer = tf.summary.FileWriter(LOG_DIR_TRAIN)\n",
    "test_writer = tf.summary.FileWriter(LOG_DIR_TEST) "
   ]
  },
  {
   "cell_type": "code",
   "execution_count": 25,
   "metadata": {
    "ExecuteTime": {
     "end_time": "2019-02-18T17:37:26.037156Z",
     "start_time": "2019-02-18T17:37:26.021155Z"
    }
   },
   "outputs": [],
   "source": [
    "def one_hot(labels, num_classes):\n",
    "    '''\n",
    "    Convert lables to one-hot format.\n",
    "\n",
    "    Parameters\n",
    "    ----------\n",
    "    labels : array or list of integers\n",
    "        --> e.g. [0, 1, 4, 2, 0]\n",
    "        \n",
    "    num_classes : int\n",
    "        Number of classes.\n",
    "        (Has to be >= max(labels))\n",
    "\n",
    "    Returns\n",
    "    -------\n",
    "    matrix\n",
    "        Lables in one-hot format.\n",
    "    \n",
    "        --> e.g.\n",
    "              [[1., 0., 0., 0., 0.],\n",
    "               [0., 1., 0., 0., 0.],\n",
    "               [0., 0., 0., 0., 1.],\n",
    "               [0., 0., 1., 0., 0.],\n",
    "               [1., 0., 0., 0., 0.]]\n",
    "    '''\n",
    "    n = len(labels)\n",
    "    labels_one_hot = np.zeros((n, num_classes))\n",
    "    labels_one_hot[range(n), labels] = 1\n",
    "    return labels_one_hot"
   ]
  },
  {
   "cell_type": "code",
   "execution_count": 26,
   "metadata": {
    "ExecuteTime": {
     "end_time": "2019-02-18T17:38:40.007387Z",
     "start_time": "2019-02-18T17:37:26.047157Z"
    },
    "scrolled": false
   },
   "outputs": [
    {
     "name": "stdout",
     "output_type": "stream",
     "text": [
      "Accuracy at step 0\n",
      "\tTrain Set: 10.667\n",
      "\tTest Set:  16.502\n",
      "Accuracy at step 50\n",
      "\tTrain Set: 38.667\n",
      "\tTest Set:  30.889\n",
      "Accuracy at step 100\n",
      "\tTrain Set: 60.000\n",
      "\tTest Set:  55.289\n",
      "Accuracy at step 150\n",
      "\tTrain Set: 80.667\n",
      "\tTest Set:  74.048\n",
      "Accuracy at step 200\n",
      "\tTrain Set: 84.000\n",
      "\tTest Set:  82.087\n",
      "Accuracy at step 250\n",
      "\tTrain Set: 93.333\n",
      "\tTest Set:  85.049\n",
      "Accuracy at step 300\n",
      "\tTrain Set: 92.000\n",
      "\tTest Set:  87.306\n",
      "Accuracy at step 350\n",
      "\tTrain Set: 97.333\n",
      "\tTest Set:  88.999\n",
      "Accuracy at step 400\n",
      "\tTrain Set: 94.000\n",
      "\tTest Set:  89.845\n",
      "Accuracy at step 450\n",
      "\tTrain Set: 96.000\n",
      "\tTest Set:  91.678\n",
      "Accuracy at step 500\n",
      "\tTrain Set: 98.000\n",
      "\tTest Set:  92.243\n",
      "Accuracy at step 550\n",
      "\tTrain Set: 98.000\n",
      "\tTest Set:  92.243\n",
      "Accuracy at step 600\n",
      "\tTrain Set: 98.667\n",
      "\tTest Set:  92.666\n",
      "Accuracy at step 650\n",
      "\tTrain Set: 98.000\n",
      "\tTest Set:  93.512\n",
      "Accuracy at step 700\n",
      "\tTrain Set: 98.000\n",
      "\tTest Set:  94.217\n",
      "Accuracy at step 750\n",
      "\tTrain Set: 97.333\n",
      "\tTest Set:  94.781\n",
      "Accuracy at step 800\n",
      "\tTrain Set: 98.000\n",
      "\tTest Set:  95.205\n",
      "Accuracy at step 850\n",
      "\tTrain Set: 99.333\n",
      "\tTest Set:  95.346\n",
      "Accuracy at step 900\n",
      "\tTrain Set: 99.333\n",
      "\tTest Set:  95.910\n",
      "Accuracy at step 950\n",
      "\tTrain Set: 98.667\n",
      "\tTest Set:  94.922\n",
      "Accuracy at step 1000\n",
      "\tTrain Set: 100.000\n",
      "\tTest Set:  94.076\n",
      "Accuracy at step 1050\n",
      "\tTrain Set: 99.333\n",
      "\tTest Set:  95.063\n",
      "Accuracy at step 1100\n",
      "\tTrain Set: 99.333\n",
      "\tTest Set:  96.615\n",
      "Accuracy at step 1150\n",
      "\tTrain Set: 99.333\n",
      "\tTest Set:  96.192\n",
      "Accuracy at step 1200\n",
      "\tTrain Set: 98.667\n",
      "\tTest Set:  94.076\n",
      "Accuracy at step 1250\n",
      "\tTrain Set: 100.000\n",
      "\tTest Set:  95.205\n",
      "Accuracy at step 1300\n",
      "\tTrain Set: 100.000\n",
      "\tTest Set:  96.051\n",
      "Accuracy at step 1350\n",
      "\tTrain Set: 99.333\n",
      "\tTest Set:  96.897\n",
      "Accuracy at step 1400\n",
      "\tTrain Set: 100.000\n",
      "\tTest Set:  96.192\n",
      "Accuracy at step 1450\n",
      "\tTrain Set: 100.000\n",
      "\tTest Set:  96.615\n",
      "Accuracy at step 1500\n",
      "\tTrain Set: 100.000\n",
      "\tTest Set:  96.615\n"
     ]
    }
   ],
   "source": [
    "# open a session for the created graph\n",
    "with tf.Session() as sess:\n",
    "    # initializing variables\n",
    "    sess.run(tf.global_variables_initializer())\n",
    "    \n",
    "    # add graph to event files (in order to visualize it later)\n",
    "    train_writer.add_graph(sess.graph)\n",
    "    test_writer.add_graph(sess.graph)\n",
    "    \n",
    "    # get test labels in one-hot format\n",
    "    y_test_all_one_hot = one_hot(PD_RNN1.get_y_test(), num_classes)\n",
    "    \n",
    "    # get sequence tensor for testing and corresponding sequence lengths\n",
    "    X_test_all = PD_RNN1.get_X_test()\n",
    "    seqlens_test_all = PD_RNN1.get_seqlens_test()\n",
    "    \n",
    "    # train the RNN with a defined number of steps\n",
    "    for step in range(num_steps):\n",
    "        # get batch data\n",
    "        x_batch, y_batch, seqlens_batch = PD_RNN1.get_train_batch(batch_size)\n",
    "        \n",
    "        # get batch labels in one-hot format\n",
    "        y_batch_one_hot = one_hot(y_batch, num_classes)\n",
    "        \n",
    "        # run the session\n",
    "        sess.run(train_step, feed_dict={inputs:x_batch, labels:y_batch_one_hot, seqlens:seqlens_batch})\n",
    "        \n",
    "        # evaluate the RNN every 50 steps\n",
    "        if step % 50 == 0:\n",
    "            summary_train, accuracy_train = sess.run([merged, accuracy], \n",
    "                                                      feed_dict={inputs:x_batch, \n",
    "                                                                 labels:y_batch_one_hot, \n",
    "                                                                 seqlens:seqlens_batch})\n",
    "            print('Accuracy at step {}'.format(step))\n",
    "            print('\\tTrain Set: {:.3f}'.format(accuracy_train))\n",
    "            \n",
    "            # write to train summary\n",
    "            train_writer.add_summary(summary_train, step)\n",
    "    \n",
    "            summary_test, pred_prob_test, pred_prob_test_all, pred_test, accuracy_test = sess.run([merged, pred_prob,\n",
    "                                                        pred_prob_all_states, tf.argmax(final_output,1), accuracy],\n",
    "                                                        feed_dict={inputs:X_test_all, \n",
    "                                                                   labels:y_test_all_one_hot, \n",
    "                                                                   seqlens:seqlens_test_all})\n",
    "            # write to test summary\n",
    "            test_writer.add_summary(summary_test, step)\n",
    "    \n",
    "            print('\\tTest Set:  {:.3f}'.format(accuracy_test))\n",
    "    \n",
    "    outputs_RNN = sess.run(outputs, feed_dict={inputs:X_test_all, labels:y_test_all_one_hot, seqlens:seqlens_test_all})\n",
    "    \n",
    "    # Creates a saver.\n",
    "    saver = tf.train.Saver()\n",
    "    saver.save(sess, 'E:/TensorFlow_saved_models/final-RNN-model/RNN-model-1')\n",
    "    # Generates MetaGraphDef.\n",
    "    saver.export_meta_graph('E:/TensorFlow_saved_models/final-RNN-model/RNN-model-1.meta')\n"
   ]
  },
  {
   "cell_type": "code",
   "execution_count": 27,
   "metadata": {
    "ExecuteTime": {
     "end_time": "2019-02-18T17:38:40.026388Z",
     "start_time": "2019-02-18T17:38:40.015388Z"
    }
   },
   "outputs": [
    {
     "data": {
      "text/plain": [
       "(709, 24, 128)"
      ]
     },
     "execution_count": 27,
     "metadata": {},
     "output_type": "execute_result"
    }
   ],
   "source": [
    "np.shape(outputs_RNN)"
   ]
  },
  {
   "cell_type": "markdown",
   "metadata": {},
   "source": [
    "### Evaluate the results"
   ]
  },
  {
   "cell_type": "code",
   "execution_count": 28,
   "metadata": {
    "ExecuteTime": {
     "end_time": "2019-02-18T17:38:40.410410Z",
     "start_time": "2019-02-18T17:38:40.033389Z"
    }
   },
   "outputs": [
    {
     "name": "stdout",
     "output_type": "stream",
     "text": [
      "Exercise\tPrecision [%]\tRecall [%]\tAccuracy [%]\n",
      "  RF\t\t   87.88\t   96.67\t   99.29\n",
      "  RO\t\t   92.86\t   86.67\t   99.15\n",
      "  RS\t\t   87.10\t   90.00\t   99.01\n",
      "  LR\t\t  100.00\t  100.00\t  100.00\n",
      "  BC\t\t  100.00\t  100.00\t  100.00\n",
      "  TC\t\t  100.00\t  100.00\t  100.00\n",
      "  MP\t\t   87.88\t   96.67\t   99.29\n",
      "  SA\t\t  100.00\t  100.00\t  100.00\n",
      "  P1\t\t  100.00\t   83.33\t   99.29\n",
      "  P2\t\t   86.67\t   86.67\t   98.87\n",
      "  NE\t\t   98.53\t   98.53\t   98.31\n"
     ]
    }
   ],
   "source": [
    "print_precision_recall_accuracy(pred_test, PD_RNN1.get_y_test())"
   ]
  },
  {
   "cell_type": "code",
   "execution_count": 29,
   "metadata": {
    "ExecuteTime": {
     "end_time": "2019-02-18T17:38:40.445412Z",
     "start_time": "2019-02-18T17:38:40.416411Z"
    }
   },
   "outputs": [
    {
     "name": "stdout",
     "output_type": "stream",
     "text": [
      "24 misclassified (709 test data points):\n",
      "RF classified as RO\n",
      "RO classified as RF\n",
      "RO classified as RF\n",
      "RO classified as RF\n",
      "RO classified as RF\n",
      "RS classified as P2\n",
      "RS classified as P2\n",
      "RS classified as P2\n",
      "MP classified as NE\n",
      "P1 classified as NE\n",
      "P1 classified as NE\n",
      "P1 classified as NE\n",
      "P1 classified as NE\n",
      "P1 classified as NE\n",
      "P2 classified as RS\n",
      "P2 classified as RS\n",
      "P2 classified as RS\n",
      "P2 classified as RS\n",
      "NE classified as P2\n",
      "NE classified as RO\n",
      "NE classified as MP\n",
      "NE classified as MP\n",
      "NE classified as MP\n",
      "NE classified as MP\n"
     ]
    }
   ],
   "source": [
    "print_misclassified_data_points(pred_test, PD_RNN1.get_y_test())"
   ]
  },
  {
   "cell_type": "code",
   "execution_count": 30,
   "metadata": {
    "ExecuteTime": {
     "end_time": "2019-02-18T17:38:40.576420Z",
     "start_time": "2019-02-18T17:38:40.450413Z"
    }
   },
   "outputs": [
    {
     "data": {
      "text/plain": [
       "(709, 11)"
      ]
     },
     "execution_count": 30,
     "metadata": {},
     "output_type": "execute_result"
    }
   ],
   "source": [
    "np.shape(pred_prob_test)"
   ]
  },
  {
   "cell_type": "code",
   "execution_count": 31,
   "metadata": {
    "ExecuteTime": {
     "end_time": "2019-02-18T17:38:40.738429Z",
     "start_time": "2019-02-18T17:38:40.581420Z"
    }
   },
   "outputs": [
    {
     "data": {
      "text/plain": [
       "(17016, 11)"
      ]
     },
     "execution_count": 31,
     "metadata": {},
     "output_type": "execute_result"
    }
   ],
   "source": [
    "np.shape(pred_prob_test_all)"
   ]
  },
  {
   "cell_type": "code",
   "execution_count": 32,
   "metadata": {
    "ExecuteTime": {
     "end_time": "2019-02-18T17:38:40.898438Z",
     "start_time": "2019-02-18T17:38:40.758430Z"
    }
   },
   "outputs": [
    {
     "data": {
      "text/plain": [
       "48.0"
      ]
     },
     "execution_count": 32,
     "metadata": {},
     "output_type": "execute_result"
    }
   ],
   "source": [
    "34032 / 709"
   ]
  },
  {
   "cell_type": "code",
   "execution_count": 33,
   "metadata": {
    "ExecuteTime": {
     "end_time": "2019-02-18T17:38:41.060447Z",
     "start_time": "2019-02-18T17:38:40.903438Z"
    }
   },
   "outputs": [
    {
     "data": {
      "text/plain": [
       "array([6.0530370e-03, 1.6686041e-05, 1.0803991e-05, 5.4584484e-06,\n",
       "       6.1817381e-08, 6.1948043e-07, 2.8463788e-04, 8.8863503e-03,\n",
       "       7.5628185e-01, 8.1581193e-01, 8.9780724e-01, 8.0324173e-02,\n",
       "       8.0324173e-02, 8.0324173e-02, 8.0324173e-02, 8.0324173e-02,\n",
       "       8.0324173e-02, 8.0324173e-02, 8.0324173e-02, 8.0324173e-02,\n",
       "       8.0324173e-02, 8.0324173e-02, 8.0324173e-02, 8.0324173e-02,\n",
       "       2.0552829e-02, 3.3200482e-05, 1.4634718e-06, 3.9074289e-06,\n",
       "       2.5143711e-06, 4.2476626e-07, 5.5729834e-06, 4.3848398e-04,\n",
       "       3.4120120e-02, 9.0063518e-01, 9.9187827e-01, 9.6808761e-01,\n",
       "       8.0324173e-02, 8.0324173e-02, 8.0324173e-02, 8.0324173e-02,\n",
       "       8.0324173e-02, 8.0324173e-02, 8.0324173e-02, 8.0324173e-02,\n",
       "       8.0324173e-02, 8.0324173e-02, 8.0324173e-02, 8.0324173e-02],\n",
       "      dtype=float32)"
      ]
     },
     "execution_count": 33,
     "metadata": {},
     "output_type": "execute_result"
    }
   ],
   "source": [
    "pred_prob_test_all[0:48,0] # first 48 rows belong to the first data point"
   ]
  },
  {
   "cell_type": "code",
   "execution_count": 34,
   "metadata": {
    "ExecuteTime": {
     "end_time": "2019-02-18T17:38:41.235457Z",
     "start_time": "2019-02-18T17:38:41.069448Z"
    }
   },
   "outputs": [
    {
     "data": {
      "text/plain": [
       "11"
      ]
     },
     "execution_count": 34,
     "metadata": {},
     "output_type": "execute_result"
    }
   ],
   "source": [
    "PD_RNN1.get_seqlens_test()[0]"
   ]
  },
  {
   "cell_type": "code",
   "execution_count": 35,
   "metadata": {
    "ExecuteTime": {
     "end_time": "2019-02-18T17:38:41.379466Z",
     "start_time": "2019-02-18T17:38:41.242458Z"
    }
   },
   "outputs": [
    {
     "data": {
      "text/plain": [
       "0.89780724"
      ]
     },
     "execution_count": 35,
     "metadata": {},
     "output_type": "execute_result"
    }
   ],
   "source": [
    "pred_prob_test_all[PD_RNN1.get_seqlens_test()[0]-1,0]"
   ]
  },
  {
   "cell_type": "code",
   "execution_count": 36,
   "metadata": {
    "ExecuteTime": {
     "end_time": "2019-02-18T17:38:41.525474Z",
     "start_time": "2019-02-18T17:38:41.387466Z"
    }
   },
   "outputs": [
    {
     "data": {
      "text/plain": [
       "0.89780724"
      ]
     },
     "execution_count": 36,
     "metadata": {},
     "output_type": "execute_result"
    }
   ],
   "source": [
    "pred_prob_test[0,0]"
   ]
  },
  {
   "cell_type": "code",
   "execution_count": 37,
   "metadata": {
    "ExecuteTime": {
     "end_time": "2019-02-18T17:38:41.668482Z",
     "start_time": "2019-02-18T17:38:41.530474Z"
    }
   },
   "outputs": [
    {
     "data": {
      "text/plain": [
       "0"
      ]
     },
     "execution_count": 37,
     "metadata": {},
     "output_type": "execute_result"
    }
   ],
   "source": [
    "pred_test[0]"
   ]
  },
  {
   "cell_type": "code",
   "execution_count": null,
   "metadata": {},
   "outputs": [],
   "source": []
  },
  {
   "cell_type": "code",
   "execution_count": 38,
   "metadata": {
    "ExecuteTime": {
     "end_time": "2019-02-18T17:38:43.808605Z",
     "start_time": "2019-02-18T17:38:41.675483Z"
    }
   },
   "outputs": [
    {
     "name": "stdout",
     "output_type": "stream",
     "text": [
      "Predicted probabilities [%] for the different exercises:\n",
      "\n",
      "Ex. 0\tEx. 1\tEx. 2\tEx. 3\tEx. 4\tEx. 5\tEx. 6\tEx. 7\tEx. 8\tEx. 9\tEx. 10\tpred. class\n",
      "89.78\t9.22\t0.00\t0.00\t0.00\t0.00\t0.00\t0.29\t0.00\t0.70\t0.01\t--> 0\n",
      "96.81\t2.47\t0.00\t0.00\t0.00\t0.00\t0.00\t0.61\t0.00\t0.07\t0.04\t--> 0\n",
      "85.05\t14.28\t0.00\t0.00\t0.00\t0.00\t0.00\t0.38\t0.00\t0.25\t0.03\t--> 0\n",
      "96.54\t3.37\t0.00\t0.00\t0.00\t0.00\t0.00\t0.04\t0.00\t0.04\t0.01\t--> 0\n",
      "82.97\t15.38\t0.01\t0.09\t0.00\t0.00\t0.01\t0.16\t0.02\t1.01\t0.36\t--> 0\n",
      "98.15\t1.66\t0.00\t0.00\t0.00\t0.00\t0.00\t0.02\t0.00\t0.17\t0.01\t--> 0\n",
      "63.97\t28.10\t0.00\t0.03\t0.00\t0.00\t0.00\t0.82\t0.00\t6.92\t0.15\t--> 0\n",
      "98.31\t1.50\t0.00\t0.00\t0.00\t0.00\t0.00\t0.08\t0.00\t0.11\t0.00\t--> 0\n",
      "96.95\t2.84\t0.00\t0.00\t0.00\t0.00\t0.00\t0.13\t0.00\t0.07\t0.01\t--> 0\n",
      "98.83\t1.05\t0.00\t0.00\t0.00\t0.00\t0.00\t0.04\t0.00\t0.02\t0.05\t--> 0\n",
      "96.76\t2.65\t0.00\t0.00\t0.00\t0.00\t0.00\t0.20\t0.00\t0.35\t0.04\t--> 0\n",
      "98.69\t1.01\t0.00\t0.00\t0.00\t0.00\t0.00\t0.19\t0.00\t0.10\t0.01\t--> 0\n",
      "97.17\t1.69\t0.00\t0.00\t0.00\t0.00\t0.00\t0.13\t0.00\t0.96\t0.04\t--> 0\n",
      "94.55\t2.44\t0.00\t0.00\t0.00\t0.00\t0.00\t0.50\t0.00\t2.48\t0.03\t--> 0\n",
      "98.79\t1.11\t0.00\t0.00\t0.00\t0.00\t0.00\t0.04\t0.00\t0.03\t0.03\t--> 0\n",
      "98.20\t1.61\t0.00\t0.00\t0.00\t0.00\t0.00\t0.03\t0.00\t0.14\t0.01\t--> 0\n",
      "96.27\t3.65\t0.00\t0.00\t0.00\t0.00\t0.00\t0.01\t0.00\t0.05\t0.02\t--> 0\n",
      "98.25\t1.59\t0.00\t0.00\t0.00\t0.00\t0.00\t0.07\t0.00\t0.08\t0.00\t--> 0\n",
      "79.79\t20.06\t0.00\t0.00\t0.00\t0.00\t0.00\t0.06\t0.00\t0.07\t0.01\t--> 0\n",
      "82.91\t16.90\t0.00\t0.01\t0.00\t0.00\t0.00\t0.03\t0.00\t0.12\t0.03\t--> 0\n",
      "97.32\t2.62\t0.00\t0.00\t0.00\t0.00\t0.00\t0.02\t0.00\t0.02\t0.01\t--> 0\n",
      "98.46\t1.22\t0.00\t0.00\t0.00\t0.00\t0.00\t0.07\t0.00\t0.01\t0.24\t--> 0\n",
      "94.87\t4.64\t0.00\t0.02\t0.00\t0.00\t0.01\t0.16\t0.00\t0.05\t0.24\t--> 0\n",
      "97.08\t2.44\t0.00\t0.00\t0.00\t0.00\t0.00\t0.08\t0.00\t0.03\t0.37\t--> 0\n",
      "80.33\t17.65\t0.00\t0.01\t0.00\t0.00\t0.00\t0.95\t0.00\t0.26\t0.78\t--> 0\n",
      "95.66\t4.12\t0.00\t0.00\t0.00\t0.00\t0.00\t0.10\t0.00\t0.10\t0.01\t--> 0\n",
      "92.10\t7.47\t0.00\t0.02\t0.00\t0.00\t0.01\t0.12\t0.00\t0.13\t0.14\t--> 0\n",
      "39.31\t58.94\t0.04\t0.05\t0.01\t0.00\t0.01\t0.09\t0.00\t0.94\t0.61\t--> 1\n",
      "95.83\t3.92\t0.00\t0.00\t0.00\t0.00\t0.00\t0.03\t0.00\t0.21\t0.01\t--> 0\n",
      "95.95\t3.95\t0.00\t0.00\t0.00\t0.00\t0.00\t0.02\t0.00\t0.05\t0.02\t--> 0\n",
      "81.42\t18.51\t0.00\t0.00\t0.00\t0.00\t0.00\t0.04\t0.00\t0.02\t0.01\t--> 0\n",
      "40.48\t59.44\t0.00\t0.01\t0.00\t0.00\t0.01\t0.01\t0.00\t0.03\t0.02\t--> 1\n",
      "4.56\t85.47\t0.03\t0.01\t0.01\t0.00\t0.00\t0.01\t0.00\t9.80\t0.12\t--> 1\n",
      "27.01\t72.92\t0.00\t0.01\t0.00\t0.00\t0.01\t0.01\t0.00\t0.01\t0.03\t--> 1\n",
      "20.90\t78.99\t0.00\t0.00\t0.00\t0.00\t0.00\t0.04\t0.00\t0.05\t0.01\t--> 1\n",
      "74.80\t24.68\t0.00\t0.02\t0.00\t0.00\t0.00\t0.08\t0.00\t0.40\t0.02\t--> 0\n",
      "31.81\t38.76\t0.00\t0.05\t0.01\t0.00\t0.01\t0.20\t0.00\t29.09\t0.07\t--> 1\n",
      "21.06\t78.83\t0.00\t0.04\t0.00\t0.00\t0.00\t0.01\t0.00\t0.01\t0.04\t--> 1\n",
      "1.04\t98.87\t0.00\t0.01\t0.00\t0.00\t0.00\t0.00\t0.00\t0.01\t0.06\t--> 1\n",
      "6.25\t93.72\t0.00\t0.01\t0.00\t0.00\t0.00\t0.00\t0.00\t0.01\t0.01\t--> 1\n",
      "9.09\t90.88\t0.00\t0.01\t0.00\t0.00\t0.00\t0.00\t0.00\t0.01\t0.01\t--> 1\n",
      "9.25\t89.62\t0.00\t0.01\t0.00\t0.00\t0.01\t0.02\t0.00\t1.01\t0.06\t--> 1\n",
      "0.38\t99.46\t0.00\t0.02\t0.00\t0.00\t0.01\t0.00\t0.00\t0.01\t0.12\t--> 1\n",
      "19.01\t80.83\t0.00\t0.04\t0.01\t0.00\t0.01\t0.01\t0.00\t0.01\t0.07\t--> 1\n",
      "32.66\t67.18\t0.00\t0.02\t0.01\t0.00\t0.01\t0.01\t0.00\t0.07\t0.02\t--> 1\n",
      "41.62\t56.75\t0.01\t0.04\t0.01\t0.00\t0.00\t0.07\t0.00\t1.46\t0.05\t--> 1\n",
      "50.99\t48.15\t0.03\t0.04\t0.07\t0.00\t0.01\t0.02\t0.00\t0.45\t0.24\t--> 0\n",
      "3.72\t94.10\t0.13\t0.19\t0.06\t0.00\t0.06\t0.01\t0.00\t0.95\t0.79\t--> 1\n",
      "54.26\t45.55\t0.00\t0.01\t0.00\t0.00\t0.00\t0.03\t0.00\t0.06\t0.08\t--> 0\n",
      "13.51\t86.41\t0.00\t0.02\t0.00\t0.00\t0.00\t0.01\t0.00\t0.02\t0.03\t--> 1\n",
      "1.73\t97.65\t0.04\t0.02\t0.02\t0.00\t0.00\t0.00\t0.00\t0.21\t0.33\t--> 1\n",
      "20.50\t78.19\t0.03\t0.04\t0.06\t0.00\t0.00\t0.02\t0.00\t0.07\t1.08\t--> 1\n",
      "7.33\t92.60\t0.00\t0.02\t0.00\t0.00\t0.01\t0.00\t0.00\t0.01\t0.02\t--> 1\n",
      "33.19\t66.68\t0.00\t0.02\t0.00\t0.00\t0.01\t0.02\t0.00\t0.03\t0.06\t--> 1\n",
      "3.62\t86.66\t0.55\t0.16\t0.04\t0.00\t0.01\t0.01\t0.00\t6.29\t2.67\t--> 1\n",
      "7.28\t92.65\t0.00\t0.01\t0.00\t0.00\t0.00\t0.01\t0.00\t0.03\t0.01\t--> 1\n",
      "0.72\t99.24\t0.00\t0.01\t0.00\t0.00\t0.00\t0.00\t0.00\t0.01\t0.00\t--> 1\n",
      "6.70\t93.20\t0.00\t0.01\t0.00\t0.00\t0.00\t0.01\t0.00\t0.07\t0.01\t--> 1\n",
      "2.76\t97.20\t0.00\t0.01\t0.00\t0.00\t0.00\t0.00\t0.00\t0.03\t0.01\t--> 1\n",
      "2.05\t97.87\t0.00\t0.01\t0.01\t0.00\t0.00\t0.00\t0.00\t0.01\t0.05\t--> 1\n",
      "0.00\t0.00\t99.96\t0.00\t0.00\t0.00\t0.00\t0.00\t0.00\t0.04\t0.00\t--> 2\n",
      "0.00\t0.00\t99.90\t0.02\t0.00\t0.00\t0.00\t0.00\t0.00\t0.08\t0.00\t--> 2\n",
      "0.00\t0.00\t99.11\t0.01\t0.00\t0.00\t0.00\t0.00\t0.00\t0.86\t0.02\t--> 2\n",
      "0.00\t0.00\t99.72\t0.01\t0.00\t0.00\t0.00\t0.00\t0.00\t0.25\t0.03\t--> 2\n",
      "0.00\t0.00\t99.78\t0.02\t0.00\t0.00\t0.00\t0.00\t0.00\t0.19\t0.00\t--> 2\n",
      "0.00\t0.00\t99.93\t0.00\t0.00\t0.00\t0.00\t0.00\t0.00\t0.07\t0.00\t--> 2\n",
      "0.00\t0.01\t98.83\t0.03\t0.00\t0.00\t0.00\t0.00\t0.00\t1.00\t0.13\t--> 2\n",
      "0.00\t0.01\t99.22\t0.64\t0.00\t0.00\t0.00\t0.00\t0.00\t0.11\t0.01\t--> 2\n",
      "0.02\t1.06\t29.77\t13.90\t0.00\t0.01\t0.04\t0.00\t0.02\t54.66\t0.53\t--> 9\n",
      "0.00\t0.03\t97.05\t0.78\t0.00\t0.00\t0.00\t0.00\t0.01\t2.01\t0.12\t--> 2\n",
      "0.03\t1.52\t76.81\t3.79\t0.01\t0.00\t0.05\t0.00\t0.01\t15.79\t1.98\t--> 2\n",
      "0.00\t0.00\t99.91\t0.00\t0.00\t0.00\t0.00\t0.00\t0.00\t0.09\t0.00\t--> 2\n",
      "0.00\t0.00\t99.44\t0.04\t0.00\t0.00\t0.00\t0.00\t0.00\t0.51\t0.00\t--> 2\n",
      "0.00\t0.00\t99.56\t0.11\t0.00\t0.00\t0.00\t0.00\t0.00\t0.32\t0.00\t--> 2\n",
      "0.00\t0.00\t99.95\t0.01\t0.00\t0.00\t0.00\t0.00\t0.00\t0.05\t0.00\t--> 2\n",
      "0.00\t0.01\t2.35\t0.00\t0.00\t0.00\t0.00\t0.00\t0.00\t97.62\t0.02\t--> 9\n",
      "0.00\t0.00\t98.99\t0.00\t0.00\t0.00\t0.00\t0.00\t0.00\t1.00\t0.01\t--> 2\n",
      "0.00\t0.00\t67.78\t0.00\t0.00\t0.00\t0.00\t0.00\t0.00\t32.21\t0.01\t--> 2\n",
      "0.00\t0.00\t99.62\t0.00\t0.00\t0.00\t0.00\t0.00\t0.00\t0.37\t0.00\t--> 2\n",
      "0.00\t0.01\t99.53\t0.06\t0.00\t0.00\t0.00\t0.00\t0.00\t0.34\t0.07\t--> 2\n",
      "0.00\t0.15\t91.15\t0.72\t0.00\t0.00\t0.00\t0.00\t0.00\t7.88\t0.09\t--> 2\n",
      "0.00\t0.01\t98.76\t0.82\t0.00\t0.00\t0.00\t0.00\t0.00\t0.08\t0.33\t--> 2\n",
      "0.00\t0.00\t97.64\t0.00\t0.00\t0.00\t0.00\t0.00\t0.00\t2.36\t0.00\t--> 2\n",
      "0.00\t0.03\t99.12\t0.55\t0.00\t0.00\t0.00\t0.00\t0.00\t0.28\t0.02\t--> 2\n",
      "0.00\t0.15\t22.67\t0.35\t0.00\t0.00\t0.00\t0.00\t0.00\t76.77\t0.05\t--> 9\n",
      "0.00\t0.02\t96.74\t0.02\t0.00\t0.00\t0.00\t0.00\t0.00\t2.95\t0.27\t--> 2\n",
      "0.00\t0.00\t99.94\t0.01\t0.00\t0.00\t0.00\t0.00\t0.00\t0.05\t0.01\t--> 2\n",
      "0.00\t0.00\t99.90\t0.00\t0.00\t0.00\t0.00\t0.00\t0.00\t0.10\t0.00\t--> 2\n",
      "0.00\t0.00\t99.98\t0.00\t0.00\t0.00\t0.00\t0.00\t0.00\t0.02\t0.00\t--> 2\n",
      "0.00\t0.00\t99.99\t0.00\t0.00\t0.00\t0.00\t0.00\t0.00\t0.01\t0.00\t--> 2\n",
      "0.00\t0.00\t0.02\t99.98\t0.00\t0.00\t0.00\t0.00\t0.00\t0.00\t0.00\t--> 3\n",
      "0.00\t0.00\t0.00\t99.99\t0.00\t0.00\t0.00\t0.00\t0.00\t0.00\t0.00\t--> 3\n",
      "0.00\t0.00\t0.03\t99.97\t0.00\t0.00\t0.00\t0.00\t0.00\t0.00\t0.00\t--> 3\n",
      "0.00\t0.25\t16.99\t82.36\t0.00\t0.00\t0.02\t0.00\t0.01\t0.33\t0.05\t--> 3\n",
      "0.00\t0.00\t0.46\t99.51\t0.00\t0.00\t0.00\t0.00\t0.00\t0.03\t0.00\t--> 3\n",
      "0.00\t0.00\t0.12\t99.86\t0.00\t0.00\t0.00\t0.00\t0.00\t0.01\t0.01\t--> 3\n",
      "0.00\t0.00\t0.08\t99.91\t0.00\t0.00\t0.00\t0.00\t0.00\t0.01\t0.00\t--> 3\n",
      "0.00\t0.03\t0.16\t99.70\t0.00\t0.00\t0.01\t0.00\t0.00\t0.04\t0.05\t--> 3\n",
      "0.00\t0.02\t0.03\t99.89\t0.00\t0.00\t0.00\t0.00\t0.00\t0.00\t0.05\t--> 3\n",
      "0.00\t0.03\t2.92\t96.95\t0.00\t0.00\t0.00\t0.00\t0.00\t0.07\t0.03\t--> 3\n",
      "0.00\t0.00\t0.04\t99.95\t0.00\t0.00\t0.00\t0.00\t0.00\t0.00\t0.01\t--> 3\n",
      "0.00\t0.01\t0.03\t99.91\t0.00\t0.00\t0.00\t0.00\t0.00\t0.00\t0.03\t--> 3\n",
      "0.00\t0.00\t0.29\t99.70\t0.00\t0.00\t0.00\t0.00\t0.00\t0.01\t0.00\t--> 3\n",
      "0.00\t0.06\t0.42\t99.35\t0.00\t0.00\t0.01\t0.00\t0.00\t0.05\t0.11\t--> 3\n",
      "0.00\t0.04\t1.06\t98.25\t0.00\t0.00\t0.01\t0.00\t0.00\t0.65\t0.00\t--> 3\n",
      "0.00\t0.00\t0.04\t99.94\t0.00\t0.00\t0.00\t0.00\t0.00\t0.00\t0.01\t--> 3\n",
      "0.00\t0.00\t0.01\t99.98\t0.00\t0.00\t0.00\t0.00\t0.00\t0.00\t0.00\t--> 3\n",
      "0.00\t0.00\t3.13\t96.62\t0.00\t0.00\t0.00\t0.00\t0.00\t0.24\t0.00\t--> 3\n",
      "0.00\t0.00\t0.01\t99.98\t0.00\t0.00\t0.00\t0.00\t0.00\t0.00\t0.00\t--> 3\n",
      "0.00\t0.00\t0.05\t99.95\t0.00\t0.00\t0.00\t0.00\t0.00\t0.00\t0.00\t--> 3\n",
      "0.00\t0.01\t1.03\t98.92\t0.00\t0.00\t0.00\t0.00\t0.00\t0.04\t0.00\t--> 3\n",
      "0.00\t0.00\t0.11\t99.88\t0.00\t0.00\t0.00\t0.00\t0.00\t0.00\t0.00\t--> 3\n",
      "0.00\t0.00\t0.18\t99.81\t0.00\t0.00\t0.00\t0.00\t0.00\t0.01\t0.00\t--> 3\n",
      "0.00\t0.00\t0.18\t99.81\t0.00\t0.00\t0.00\t0.00\t0.00\t0.01\t0.00\t--> 3\n",
      "0.00\t0.00\t0.29\t99.69\t0.00\t0.00\t0.00\t0.00\t0.00\t0.01\t0.00\t--> 3\n",
      "0.00\t0.00\t0.07\t99.92\t0.00\t0.00\t0.00\t0.00\t0.00\t0.00\t0.00\t--> 3\n",
      "0.00\t0.02\t0.01\t99.81\t0.00\t0.00\t0.00\t0.00\t0.00\t0.00\t0.16\t--> 3\n",
      "0.00\t0.02\t0.49\t98.23\t0.00\t0.00\t0.01\t0.00\t0.00\t1.26\t0.00\t--> 3\n",
      "0.00\t0.01\t0.06\t99.92\t0.00\t0.00\t0.00\t0.00\t0.00\t0.00\t0.00\t--> 3\n",
      "0.00\t0.00\t0.02\t99.98\t0.00\t0.00\t0.00\t0.00\t0.00\t0.00\t0.00\t--> 3\n",
      "0.00\t0.00\t0.00\t0.00\t99.99\t0.00\t0.00\t0.01\t0.00\t0.00\t0.00\t--> 4\n",
      "0.00\t0.00\t0.00\t0.00\t99.95\t0.00\t0.00\t0.05\t0.00\t0.00\t0.00\t--> 4\n",
      "0.00\t0.00\t0.00\t0.00\t99.96\t0.00\t0.00\t0.04\t0.00\t0.00\t0.00\t--> 4\n",
      "0.00\t0.00\t0.00\t0.00\t100.00\t0.00\t0.00\t0.00\t0.00\t0.00\t0.00\t--> 4\n",
      "0.00\t0.00\t0.00\t0.00\t99.98\t0.00\t0.00\t0.02\t0.00\t0.00\t0.00\t--> 4\n",
      "0.00\t0.00\t0.00\t0.00\t99.97\t0.00\t0.00\t0.03\t0.00\t0.00\t0.00\t--> 4\n",
      "0.00\t0.00\t0.00\t0.00\t99.99\t0.00\t0.00\t0.01\t0.00\t0.00\t0.00\t--> 4\n",
      "0.00\t0.00\t0.00\t0.00\t99.96\t0.00\t0.00\t0.04\t0.00\t0.00\t0.00\t--> 4\n",
      "0.00\t0.00\t0.00\t0.00\t99.90\t0.00\t0.00\t0.10\t0.00\t0.00\t0.00\t--> 4\n",
      "0.00\t0.00\t0.00\t0.00\t99.99\t0.00\t0.00\t0.01\t0.00\t0.00\t0.00\t--> 4\n",
      "0.00\t0.00\t0.00\t0.00\t100.00\t0.00\t0.00\t0.00\t0.00\t0.00\t0.00\t--> 4\n",
      "0.00\t0.00\t0.00\t0.00\t99.99\t0.00\t0.00\t0.01\t0.00\t0.00\t0.00\t--> 4\n",
      "0.00\t0.00\t0.00\t0.00\t99.99\t0.00\t0.00\t0.01\t0.00\t0.00\t0.00\t--> 4\n",
      "0.00\t0.00\t0.00\t0.00\t100.00\t0.00\t0.00\t0.00\t0.00\t0.00\t0.00\t--> 4\n",
      "0.00\t0.00\t0.00\t0.00\t99.99\t0.00\t0.00\t0.01\t0.00\t0.00\t0.00\t--> 4\n",
      "0.00\t0.00\t0.00\t0.00\t100.00\t0.00\t0.00\t0.00\t0.00\t0.00\t0.00\t--> 4\n",
      "0.00\t0.00\t0.00\t0.00\t99.82\t0.00\t0.00\t0.17\t0.00\t0.00\t0.00\t--> 4\n",
      "0.00\t0.00\t0.00\t0.00\t99.98\t0.00\t0.00\t0.01\t0.00\t0.00\t0.00\t--> 4\n",
      "0.00\t0.00\t0.00\t0.00\t99.95\t0.00\t0.00\t0.05\t0.00\t0.00\t0.00\t--> 4\n",
      "0.00\t0.00\t0.00\t0.00\t99.96\t0.00\t0.00\t0.03\t0.00\t0.00\t0.00\t--> 4\n",
      "0.00\t0.00\t0.00\t0.00\t99.74\t0.00\t0.00\t0.24\t0.00\t0.00\t0.00\t--> 4\n",
      "0.00\t0.00\t0.00\t0.00\t99.98\t0.00\t0.00\t0.01\t0.00\t0.00\t0.00\t--> 4\n",
      "0.00\t0.00\t0.00\t0.00\t99.74\t0.00\t0.00\t0.25\t0.00\t0.00\t0.00\t--> 4\n",
      "0.00\t0.00\t0.00\t0.00\t99.98\t0.00\t0.00\t0.02\t0.00\t0.00\t0.00\t--> 4\n",
      "0.00\t0.00\t0.00\t0.00\t98.38\t0.00\t0.00\t1.61\t0.00\t0.00\t0.00\t--> 4\n",
      "0.00\t0.00\t0.00\t0.00\t99.98\t0.00\t0.00\t0.02\t0.00\t0.00\t0.00\t--> 4\n",
      "0.00\t0.00\t0.00\t0.00\t99.98\t0.00\t0.00\t0.02\t0.00\t0.00\t0.00\t--> 4\n",
      "0.00\t0.00\t0.00\t0.00\t99.99\t0.00\t0.00\t0.01\t0.00\t0.00\t0.00\t--> 4\n",
      "0.00\t0.00\t0.00\t0.00\t99.99\t0.00\t0.00\t0.01\t0.00\t0.00\t0.00\t--> 4\n",
      "0.00\t0.00\t0.00\t0.00\t99.54\t0.00\t0.00\t0.45\t0.00\t0.00\t0.00\t--> 4\n",
      "0.00\t0.00\t0.00\t0.00\t99.97\t0.00\t0.00\t0.03\t0.00\t0.00\t0.00\t--> 4\n",
      "0.00\t0.00\t0.00\t0.00\t0.00\t99.99\t0.00\t0.00\t0.01\t0.00\t0.00\t--> 5\n",
      "0.00\t0.00\t0.01\t0.00\t0.01\t99.98\t0.00\t0.00\t0.00\t0.00\t0.00\t--> 5\n",
      "0.00\t0.00\t0.00\t0.00\t0.00\t100.00\t0.00\t0.00\t0.00\t0.00\t0.00\t--> 5\n",
      "0.00\t0.00\t0.00\t0.00\t0.00\t99.99\t0.00\t0.00\t0.00\t0.00\t0.00\t--> 5\n",
      "0.00\t0.00\t0.02\t0.00\t0.00\t99.97\t0.00\t0.00\t0.01\t0.00\t0.01\t--> 5\n",
      "0.00\t0.00\t0.00\t0.00\t0.00\t100.00\t0.00\t0.00\t0.00\t0.00\t0.00\t--> 5\n",
      "0.00\t0.00\t0.03\t0.01\t0.05\t99.57\t0.03\t0.00\t0.11\t0.00\t0.19\t--> 5\n",
      "0.00\t0.00\t0.04\t0.01\t0.10\t99.00\t0.05\t0.01\t0.32\t0.00\t0.47\t--> 5\n",
      "0.00\t0.00\t0.01\t0.00\t0.00\t99.99\t0.00\t0.00\t0.00\t0.00\t0.00\t--> 5\n",
      "0.00\t0.00\t0.04\t0.00\t0.04\t99.73\t0.01\t0.00\t0.07\t0.00\t0.10\t--> 5\n",
      "0.00\t0.00\t0.00\t0.00\t0.00\t99.98\t0.00\t0.00\t0.00\t0.00\t0.01\t--> 5\n",
      "0.00\t0.00\t0.00\t0.00\t0.00\t99.99\t0.00\t0.00\t0.00\t0.00\t0.00\t--> 5\n",
      "0.00\t0.00\t0.01\t0.00\t0.02\t99.96\t0.00\t0.00\t0.01\t0.00\t0.01\t--> 5\n",
      "0.00\t0.00\t0.01\t0.00\t0.01\t99.99\t0.00\t0.00\t0.00\t0.00\t0.00\t--> 5\n",
      "0.00\t0.00\t0.01\t0.00\t0.01\t99.98\t0.00\t0.00\t0.00\t0.00\t0.00\t--> 5\n",
      "0.00\t0.00\t0.00\t0.00\t0.00\t99.99\t0.00\t0.00\t0.01\t0.00\t0.00\t--> 5\n",
      "0.00\t0.00\t0.05\t0.01\t0.08\t99.51\t0.01\t0.00\t0.24\t0.00\t0.11\t--> 5\n",
      "0.00\t0.00\t0.00\t0.00\t0.00\t99.99\t0.00\t0.00\t0.00\t0.00\t0.00\t--> 5\n",
      "0.00\t0.00\t0.01\t0.00\t0.01\t99.98\t0.00\t0.00\t0.00\t0.00\t0.00\t--> 5\n"
     ]
    },
    {
     "name": "stdout",
     "output_type": "stream",
     "text": [
      "0.00\t0.00\t0.01\t0.00\t0.01\t99.93\t0.01\t0.00\t0.02\t0.00\t0.03\t--> 5\n",
      "0.00\t0.00\t0.02\t0.00\t0.00\t99.97\t0.00\t0.00\t0.00\t0.00\t0.00\t--> 5\n",
      "0.00\t0.00\t0.01\t0.00\t0.01\t99.95\t0.00\t0.00\t0.01\t0.00\t0.01\t--> 5\n",
      "0.00\t0.00\t0.00\t0.00\t0.01\t99.96\t0.00\t0.00\t0.01\t0.00\t0.01\t--> 5\n",
      "0.00\t0.00\t0.01\t0.00\t0.01\t99.97\t0.00\t0.00\t0.00\t0.00\t0.01\t--> 5\n",
      "0.00\t0.00\t0.00\t0.00\t0.00\t99.99\t0.00\t0.00\t0.00\t0.00\t0.00\t--> 5\n",
      "0.00\t0.00\t0.00\t0.00\t0.01\t99.98\t0.00\t0.00\t0.00\t0.00\t0.00\t--> 5\n",
      "0.00\t0.00\t0.00\t0.00\t0.00\t100.00\t0.00\t0.00\t0.00\t0.00\t0.00\t--> 5\n",
      "0.00\t0.00\t0.00\t0.00\t0.00\t99.87\t0.00\t0.00\t0.11\t0.00\t0.02\t--> 5\n",
      "0.00\t0.00\t0.00\t0.00\t0.00\t99.99\t0.00\t0.00\t0.00\t0.00\t0.00\t--> 5\n",
      "0.00\t0.00\t0.00\t0.00\t0.00\t100.00\t0.00\t0.00\t0.00\t0.00\t0.00\t--> 5\n",
      "0.01\t0.39\t0.00\t0.09\t0.00\t0.00\t98.16\t0.03\t0.00\t0.00\t1.31\t--> 6\n",
      "0.00\t0.01\t0.00\t0.02\t0.00\t0.00\t99.91\t0.01\t0.00\t0.00\t0.05\t--> 6\n",
      "0.00\t0.02\t0.00\t0.03\t0.00\t0.01\t99.85\t0.06\t0.00\t0.00\t0.04\t--> 6\n",
      "0.00\t0.00\t0.00\t0.02\t0.00\t1.88\t97.75\t0.34\t0.00\t0.00\t0.00\t--> 6\n",
      "0.03\t0.13\t0.00\t0.12\t0.00\t0.00\t98.99\t0.31\t0.00\t0.02\t0.40\t--> 6\n",
      "0.00\t0.00\t0.00\t0.01\t0.00\t1.35\t98.63\t0.01\t0.00\t0.00\t0.00\t--> 6\n",
      "0.00\t0.00\t0.00\t0.04\t0.00\t0.00\t99.91\t0.00\t0.00\t0.00\t0.05\t--> 6\n",
      "0.00\t0.00\t0.00\t0.00\t0.00\t0.00\t99.83\t0.01\t0.00\t0.00\t0.15\t--> 6\n",
      "0.00\t0.00\t0.00\t0.03\t0.00\t0.00\t99.61\t0.06\t0.00\t0.00\t0.30\t--> 6\n",
      "0.00\t0.00\t0.00\t0.00\t0.00\t0.00\t99.78\t0.05\t0.00\t0.00\t0.17\t--> 6\n",
      "0.00\t0.00\t0.00\t0.00\t0.00\t0.00\t99.97\t0.02\t0.00\t0.00\t0.01\t--> 6\n",
      "0.00\t0.05\t0.00\t0.02\t0.00\t0.00\t98.53\t0.01\t0.00\t0.00\t1.39\t--> 6\n",
      "0.01\t0.09\t0.00\t0.01\t0.00\t0.00\t99.73\t0.02\t0.00\t0.00\t0.15\t--> 6\n",
      "0.00\t0.00\t0.00\t0.01\t0.00\t0.00\t99.98\t0.00\t0.00\t0.00\t0.01\t--> 6\n",
      "0.00\t0.00\t0.00\t0.03\t0.00\t0.00\t97.60\t0.00\t0.00\t0.00\t2.36\t--> 6\n",
      "0.00\t0.00\t0.00\t0.46\t0.00\t0.00\t99.09\t0.00\t0.00\t0.00\t0.44\t--> 6\n",
      "0.00\t0.00\t0.00\t0.04\t0.00\t0.01\t98.61\t0.00\t0.00\t0.00\t1.33\t--> 6\n",
      "0.00\t0.00\t0.00\t0.01\t0.00\t0.32\t98.56\t0.43\t0.01\t0.00\t0.66\t--> 6\n",
      "0.00\t0.00\t0.00\t0.02\t0.00\t0.16\t99.81\t0.01\t0.00\t0.00\t0.00\t--> 6\n",
      "0.00\t0.05\t0.00\t1.28\t0.00\t0.04\t88.01\t0.03\t0.01\t0.00\t10.57\t--> 6\n",
      "0.00\t0.00\t0.00\t0.03\t0.00\t0.07\t99.63\t0.05\t0.04\t0.00\t0.18\t--> 6\n",
      "0.00\t0.05\t0.00\t0.02\t0.00\t0.00\t99.92\t0.01\t0.00\t0.00\t0.00\t--> 6\n",
      "0.00\t0.00\t0.00\t0.00\t0.00\t0.00\t100.00\t0.00\t0.00\t0.00\t0.00\t--> 6\n",
      "0.00\t0.03\t0.00\t0.00\t0.00\t0.00\t99.59\t0.33\t0.00\t0.01\t0.04\t--> 6\n",
      "0.00\t0.01\t0.00\t0.01\t0.00\t0.00\t5.41\t0.03\t0.00\t0.00\t94.53\t--> 10\n",
      "0.00\t0.00\t0.00\t0.02\t0.00\t0.01\t99.87\t0.02\t0.01\t0.00\t0.07\t--> 6\n",
      "0.00\t0.01\t0.00\t0.03\t0.00\t0.01\t99.89\t0.05\t0.00\t0.00\t0.01\t--> 6\n",
      "0.00\t0.00\t0.00\t0.04\t0.00\t0.01\t99.94\t0.00\t0.00\t0.00\t0.00\t--> 6\n",
      "0.00\t0.00\t0.00\t0.00\t0.00\t0.00\t99.99\t0.00\t0.00\t0.00\t0.01\t--> 6\n",
      "0.00\t0.00\t0.00\t0.02\t0.00\t0.00\t99.97\t0.00\t0.00\t0.00\t0.00\t--> 6\n",
      "0.08\t0.01\t0.00\t0.00\t0.02\t0.00\t0.40\t91.97\t0.00\t0.00\t7.53\t--> 7\n",
      "0.01\t0.00\t0.00\t0.00\t0.09\t0.00\t0.07\t99.57\t0.00\t0.00\t0.26\t--> 7\n",
      "0.01\t0.00\t0.00\t0.00\t0.02\t0.00\t0.02\t99.95\t0.00\t0.00\t0.00\t--> 7\n",
      "0.01\t0.00\t0.00\t0.00\t0.00\t0.00\t0.03\t99.95\t0.00\t0.00\t0.00\t--> 7\n",
      "0.01\t0.00\t0.00\t0.00\t0.01\t0.00\t0.05\t99.92\t0.00\t0.00\t0.00\t--> 7\n",
      "0.01\t0.00\t0.00\t0.00\t0.01\t0.00\t0.01\t99.97\t0.00\t0.00\t0.00\t--> 7\n",
      "0.01\t0.00\t0.00\t0.00\t0.03\t0.00\t0.03\t99.93\t0.00\t0.00\t0.00\t--> 7\n",
      "0.01\t0.00\t0.00\t0.00\t0.01\t0.00\t0.02\t99.93\t0.01\t0.00\t0.02\t--> 7\n",
      "0.00\t0.00\t0.00\t0.00\t0.00\t0.00\t0.01\t99.98\t0.00\t0.00\t0.00\t--> 7\n",
      "0.01\t0.00\t0.00\t0.00\t0.01\t0.00\t0.01\t99.96\t0.00\t0.00\t0.00\t--> 7\n",
      "0.00\t0.00\t0.00\t0.00\t0.00\t0.00\t0.01\t99.98\t0.00\t0.00\t0.00\t--> 7\n",
      "0.01\t0.00\t0.00\t0.00\t0.01\t0.00\t0.03\t99.93\t0.00\t0.00\t0.03\t--> 7\n",
      "0.03\t0.00\t0.00\t0.00\t0.05\t0.00\t0.21\t99.64\t0.00\t0.00\t0.06\t--> 7\n",
      "0.02\t0.00\t0.00\t0.00\t0.04\t0.01\t0.01\t99.74\t0.02\t0.00\t0.16\t--> 7\n",
      "0.01\t0.00\t0.00\t0.00\t0.02\t0.00\t0.00\t99.97\t0.00\t0.00\t0.00\t--> 7\n",
      "0.01\t0.00\t0.00\t0.00\t0.01\t0.00\t0.03\t99.95\t0.00\t0.00\t0.00\t--> 7\n",
      "0.01\t0.00\t0.00\t0.00\t0.00\t0.00\t0.05\t99.93\t0.00\t0.00\t0.01\t--> 7\n",
      "0.00\t0.00\t0.00\t0.00\t0.02\t0.00\t0.02\t99.96\t0.00\t0.00\t0.00\t--> 7\n",
      "0.02\t0.00\t0.00\t0.00\t0.02\t0.00\t0.02\t99.87\t0.00\t0.00\t0.07\t--> 7\n",
      "0.01\t0.00\t0.00\t0.00\t0.03\t0.00\t0.01\t99.95\t0.00\t0.00\t0.00\t--> 7\n",
      "0.01\t0.00\t0.00\t0.00\t0.00\t0.00\t0.02\t99.92\t0.00\t0.00\t0.05\t--> 7\n",
      "0.01\t0.00\t0.00\t0.00\t0.00\t0.00\t0.12\t99.86\t0.00\t0.00\t0.00\t--> 7\n",
      "0.01\t0.00\t0.00\t0.00\t0.02\t0.00\t0.01\t99.95\t0.00\t0.00\t0.00\t--> 7\n",
      "0.01\t0.00\t0.00\t0.00\t0.00\t0.00\t0.01\t99.97\t0.00\t0.00\t0.00\t--> 7\n",
      "0.00\t0.00\t0.00\t0.00\t0.00\t0.00\t0.01\t99.98\t0.00\t0.00\t0.00\t--> 7\n",
      "0.26\t0.03\t0.00\t0.00\t1.45\t0.02\t0.02\t97.87\t0.01\t0.01\t0.34\t--> 7\n",
      "0.01\t0.00\t0.00\t0.00\t0.00\t0.00\t0.00\t99.98\t0.00\t0.00\t0.00\t--> 7\n",
      "0.00\t0.00\t0.00\t0.00\t0.00\t0.00\t0.02\t99.97\t0.00\t0.00\t0.00\t--> 7\n",
      "0.00\t0.00\t0.00\t0.00\t0.01\t0.00\t0.01\t99.97\t0.00\t0.00\t0.00\t--> 7\n",
      "0.01\t0.00\t0.00\t0.00\t0.01\t0.00\t0.02\t99.96\t0.00\t0.00\t0.00\t--> 7\n",
      "0.01\t0.00\t0.00\t0.00\t0.00\t0.00\t0.01\t99.98\t0.00\t0.00\t0.00\t--> 7\n",
      "0.00\t0.00\t0.00\t0.03\t0.00\t0.01\t0.00\t0.00\t99.90\t0.00\t0.06\t--> 8\n",
      "0.00\t0.00\t0.00\t0.00\t0.00\t0.00\t0.00\t0.00\t99.98\t0.00\t0.02\t--> 8\n",
      "0.00\t0.00\t0.00\t0.00\t0.00\t0.00\t0.00\t0.00\t99.29\t0.00\t0.70\t--> 8\n",
      "0.00\t0.00\t0.00\t0.01\t0.00\t0.02\t0.00\t0.00\t98.86\t0.00\t1.11\t--> 8\n",
      "0.00\t0.00\t0.00\t0.18\t0.00\t0.00\t0.00\t0.00\t15.66\t0.00\t84.16\t--> 10\n",
      "0.00\t0.01\t0.16\t0.92\t0.01\t0.08\t0.00\t0.00\t30.41\t0.00\t68.40\t--> 10\n",
      "0.00\t0.00\t0.00\t0.00\t0.00\t0.00\t0.00\t0.00\t99.99\t0.00\t0.01\t--> 8\n",
      "0.00\t0.00\t0.00\t0.01\t0.00\t0.00\t0.00\t0.00\t99.98\t0.00\t0.01\t--> 8\n",
      "0.00\t0.00\t0.00\t0.01\t0.00\t0.00\t0.00\t0.00\t99.88\t0.00\t0.11\t--> 8\n",
      "0.00\t0.00\t0.00\t0.00\t0.00\t0.00\t0.00\t0.00\t99.99\t0.00\t0.01\t--> 8\n",
      "0.00\t0.00\t0.07\t0.13\t0.00\t0.02\t0.01\t0.00\t15.52\t0.00\t84.25\t--> 10\n",
      "0.00\t0.00\t0.00\t0.00\t0.00\t0.00\t0.00\t0.00\t100.00\t0.00\t0.00\t--> 8\n",
      "0.00\t0.00\t0.00\t0.00\t0.00\t0.00\t0.00\t0.00\t100.00\t0.00\t0.00\t--> 8\n",
      "0.00\t0.00\t0.00\t0.01\t0.00\t0.00\t0.00\t0.00\t99.80\t0.00\t0.19\t--> 8\n",
      "0.00\t0.00\t0.09\t0.08\t0.00\t0.13\t0.00\t0.00\t97.85\t0.00\t1.85\t--> 8\n",
      "0.00\t0.00\t0.00\t0.15\t0.00\t0.00\t0.00\t0.00\t22.21\t0.00\t77.64\t--> 10\n",
      "0.00\t0.00\t0.00\t0.35\t0.00\t0.00\t0.00\t0.00\t67.76\t0.00\t31.88\t--> 8\n",
      "0.00\t0.00\t0.00\t0.00\t0.00\t0.00\t0.00\t0.00\t99.99\t0.00\t0.01\t--> 8\n",
      "0.00\t0.00\t0.01\t0.06\t0.00\t0.02\t0.00\t0.00\t88.32\t0.00\t11.59\t--> 8\n",
      "0.00\t0.00\t0.00\t0.07\t0.00\t0.00\t0.00\t0.00\t98.41\t0.00\t1.52\t--> 8\n",
      "0.00\t0.00\t0.00\t0.00\t0.00\t0.00\t0.00\t0.00\t99.18\t0.00\t0.81\t--> 8\n",
      "0.00\t0.00\t0.00\t0.00\t0.00\t0.00\t0.00\t0.00\t99.99\t0.00\t0.01\t--> 8\n",
      "0.00\t0.00\t0.00\t0.01\t0.00\t0.12\t0.00\t0.00\t99.39\t0.00\t0.48\t--> 8\n",
      "0.01\t0.00\t0.00\t0.02\t0.00\t0.00\t0.00\t0.01\t99.94\t0.00\t0.02\t--> 8\n",
      "0.00\t0.00\t0.00\t0.00\t0.00\t0.00\t0.00\t0.00\t99.96\t0.00\t0.03\t--> 8\n",
      "0.00\t0.00\t0.00\t0.00\t0.00\t0.00\t0.00\t0.00\t99.97\t0.00\t0.02\t--> 8\n",
      "0.00\t0.00\t0.01\t0.39\t0.00\t0.21\t0.00\t0.00\t81.73\t0.00\t17.66\t--> 8\n",
      "0.00\t0.00\t0.00\t0.09\t0.00\t0.00\t0.00\t0.00\t3.92\t0.00\t95.98\t--> 10\n",
      "0.00\t0.00\t0.01\t0.02\t0.00\t0.14\t0.00\t0.00\t99.49\t0.00\t0.34\t--> 8\n",
      "0.00\t0.00\t0.01\t0.25\t0.00\t0.06\t0.00\t0.00\t96.33\t0.00\t3.34\t--> 8\n",
      "0.00\t0.00\t1.89\t0.04\t0.00\t0.00\t0.00\t0.00\t0.00\t98.04\t0.02\t--> 9\n",
      "0.00\t0.01\t0.64\t0.41\t0.00\t0.00\t0.00\t0.00\t0.00\t98.94\t0.00\t--> 9\n",
      "0.00\t0.01\t0.16\t0.01\t0.00\t0.00\t0.00\t0.00\t0.00\t99.80\t0.01\t--> 9\n",
      "0.00\t0.01\t0.03\t0.02\t0.00\t0.00\t0.00\t0.00\t0.00\t99.93\t0.01\t--> 9\n",
      "0.00\t0.00\t0.70\t0.00\t0.00\t0.00\t0.00\t0.00\t0.00\t99.28\t0.02\t--> 9\n",
      "0.00\t0.00\t0.01\t0.00\t0.00\t0.00\t0.00\t0.00\t0.00\t99.97\t0.01\t--> 9\n",
      "0.00\t0.00\t6.10\t0.01\t0.00\t0.00\t0.00\t0.00\t0.00\t93.87\t0.02\t--> 9\n",
      "0.00\t0.00\t0.25\t0.01\t0.00\t0.00\t0.00\t0.00\t0.00\t99.72\t0.01\t--> 9\n",
      "0.00\t0.01\t57.24\t0.09\t0.00\t0.00\t0.00\t0.00\t0.00\t42.65\t0.01\t--> 2\n",
      "0.02\t0.07\t0.75\t5.16\t0.00\t0.00\t0.02\t0.00\t0.00\t93.65\t0.32\t--> 9\n",
      "0.01\t0.03\t32.67\t0.10\t0.00\t0.00\t0.01\t0.00\t0.00\t66.98\t0.20\t--> 9\n",
      "0.00\t0.00\t10.93\t0.00\t0.00\t0.00\t0.00\t0.00\t0.00\t89.06\t0.00\t--> 9\n",
      "0.00\t0.03\t0.12\t0.01\t0.00\t0.00\t0.00\t0.00\t0.00\t99.80\t0.04\t--> 9\n",
      "0.01\t0.05\t60.17\t0.97\t0.00\t0.00\t0.00\t0.00\t0.00\t38.39\t0.40\t--> 2\n",
      "0.00\t0.00\t66.50\t0.03\t0.00\t0.00\t0.00\t0.00\t0.00\t33.43\t0.03\t--> 2\n",
      "0.00\t0.03\t0.35\t0.31\t0.00\t0.00\t0.00\t0.00\t0.00\t99.30\t0.01\t--> 9\n",
      "0.00\t0.00\t0.14\t0.00\t0.00\t0.00\t0.00\t0.00\t0.00\t99.84\t0.01\t--> 9\n",
      "0.01\t0.04\t0.10\t0.01\t0.00\t0.00\t0.01\t0.00\t0.00\t99.80\t0.03\t--> 9\n",
      "0.03\t0.16\t7.06\t0.04\t0.00\t0.00\t0.04\t0.00\t0.00\t88.31\t4.37\t--> 9\n",
      "0.02\t0.02\t0.02\t0.05\t0.00\t0.00\t0.03\t0.00\t0.00\t99.67\t0.20\t--> 9\n",
      "0.00\t0.01\t0.41\t0.01\t0.00\t0.00\t0.00\t0.00\t0.00\t99.57\t0.00\t--> 9\n",
      "0.00\t0.00\t0.04\t0.00\t0.00\t0.00\t0.00\t0.00\t0.00\t99.95\t0.01\t--> 9\n",
      "0.00\t0.02\t0.16\t0.01\t0.00\t0.00\t0.00\t0.00\t0.00\t99.74\t0.06\t--> 9\n",
      "0.00\t0.02\t17.67\t0.03\t0.00\t0.00\t0.00\t0.00\t0.00\t82.06\t0.22\t--> 9\n",
      "0.02\t0.02\t0.06\t0.15\t0.00\t0.00\t0.01\t0.00\t0.00\t99.66\t0.08\t--> 9\n",
      "0.01\t0.01\t0.08\t0.04\t0.00\t0.00\t0.00\t0.00\t0.00\t99.73\t0.13\t--> 9\n",
      "0.00\t0.07\t51.67\t0.20\t0.00\t0.00\t0.01\t0.00\t0.00\t47.66\t0.38\t--> 2\n",
      "0.02\t0.07\t0.12\t0.16\t0.00\t0.01\t0.06\t0.00\t0.00\t99.41\t0.16\t--> 9\n",
      "0.00\t0.01\t0.74\t0.03\t0.00\t0.00\t0.00\t0.00\t0.00\t99.13\t0.09\t--> 9\n",
      "0.00\t0.02\t4.20\t0.04\t0.00\t0.00\t0.00\t0.00\t0.00\t95.57\t0.16\t--> 9\n",
      "0.00\t0.00\t0.00\t0.00\t0.00\t0.00\t0.00\t0.00\t0.00\t0.00\t100.00\t--> 10\n",
      "0.00\t0.00\t0.00\t0.00\t0.00\t0.00\t0.00\t0.00\t0.00\t0.00\t100.00\t--> 10\n",
      "0.00\t0.00\t0.00\t0.00\t0.00\t0.00\t0.00\t0.00\t0.00\t0.00\t100.00\t--> 10\n",
      "0.00\t0.00\t0.00\t0.00\t0.00\t0.00\t0.00\t0.00\t0.00\t0.00\t100.00\t--> 10\n",
      "0.00\t0.00\t0.00\t0.00\t0.00\t0.00\t0.00\t0.00\t0.00\t0.00\t100.00\t--> 10\n",
      "0.00\t0.00\t0.00\t0.00\t0.00\t0.00\t0.00\t0.00\t0.00\t0.00\t100.00\t--> 10\n",
      "0.00\t0.00\t0.00\t0.00\t0.00\t0.00\t0.00\t0.00\t0.00\t0.00\t100.00\t--> 10\n",
      "0.00\t0.00\t0.00\t0.00\t0.00\t0.00\t0.00\t0.00\t0.00\t0.00\t100.00\t--> 10\n",
      "0.00\t0.00\t0.00\t0.00\t0.00\t0.00\t0.00\t0.00\t0.00\t0.00\t100.00\t--> 10\n",
      "0.00\t0.00\t0.00\t0.00\t0.00\t0.00\t0.00\t0.00\t0.00\t0.00\t100.00\t--> 10\n",
      "0.00\t0.00\t0.00\t0.00\t0.00\t0.00\t0.00\t0.00\t0.00\t0.00\t100.00\t--> 10\n",
      "0.00\t0.00\t0.00\t0.00\t0.00\t0.00\t0.00\t0.00\t0.00\t0.00\t100.00\t--> 10\n",
      "0.00\t0.00\t0.00\t0.00\t0.00\t0.00\t0.00\t0.00\t0.00\t0.00\t100.00\t--> 10\n",
      "0.00\t0.00\t0.00\t0.00\t0.00\t0.00\t0.00\t0.00\t0.00\t0.00\t100.00\t--> 10\n",
      "0.01\t0.02\t0.00\t0.00\t0.00\t0.00\t0.00\t0.00\t0.00\t0.00\t99.96\t--> 10\n",
      "0.00\t0.00\t0.00\t0.00\t0.00\t0.00\t0.00\t0.00\t0.00\t0.00\t100.00\t--> 10\n"
     ]
    },
    {
     "name": "stdout",
     "output_type": "stream",
     "text": [
      "0.00\t0.00\t0.00\t0.00\t0.00\t0.00\t0.00\t0.00\t0.00\t0.00\t100.00\t--> 10\n",
      "0.00\t0.00\t0.00\t0.00\t0.00\t0.00\t0.00\t0.00\t0.00\t0.00\t100.00\t--> 10\n",
      "0.00\t0.00\t0.00\t0.01\t0.00\t0.00\t0.00\t0.00\t0.24\t0.00\t99.75\t--> 10\n",
      "0.00\t0.00\t0.00\t0.00\t0.00\t0.00\t0.00\t0.00\t0.00\t0.00\t100.00\t--> 10\n",
      "0.00\t0.00\t0.00\t0.00\t0.00\t0.00\t0.00\t0.00\t0.00\t0.00\t100.00\t--> 10\n",
      "0.00\t0.00\t0.00\t0.00\t0.00\t0.00\t0.00\t0.00\t0.00\t0.00\t100.00\t--> 10\n",
      "0.00\t0.00\t0.00\t0.00\t0.00\t0.00\t0.00\t0.01\t0.00\t0.00\t99.99\t--> 10\n",
      "0.00\t0.00\t0.00\t0.00\t0.00\t0.00\t0.00\t0.00\t0.00\t0.00\t100.00\t--> 10\n",
      "0.00\t0.00\t0.00\t0.00\t0.00\t0.00\t0.00\t0.01\t0.00\t0.00\t99.99\t--> 10\n",
      "0.00\t0.00\t0.00\t0.03\t0.00\t0.00\t0.00\t0.01\t0.01\t0.00\t99.94\t--> 10\n",
      "0.00\t0.00\t0.00\t0.00\t0.00\t0.00\t0.00\t0.00\t0.00\t0.00\t100.00\t--> 10\n",
      "0.00\t0.00\t0.00\t0.00\t0.00\t0.00\t0.00\t0.00\t0.00\t0.00\t100.00\t--> 10\n",
      "0.00\t0.00\t0.02\t0.04\t0.00\t2.16\t0.01\t0.00\t0.95\t0.00\t96.81\t--> 10\n",
      "0.00\t0.00\t0.00\t0.00\t0.00\t0.00\t0.00\t0.00\t0.00\t0.00\t100.00\t--> 10\n",
      "0.00\t0.00\t0.00\t0.00\t0.00\t0.00\t0.00\t0.00\t0.00\t0.00\t100.00\t--> 10\n",
      "0.05\t0.01\t0.00\t0.00\t0.00\t0.00\t0.00\t0.00\t0.00\t0.07\t99.86\t--> 10\n",
      "0.00\t0.00\t0.00\t0.00\t0.00\t0.00\t0.00\t0.00\t0.00\t0.00\t100.00\t--> 10\n",
      "0.00\t0.00\t0.00\t0.00\t0.00\t0.00\t0.00\t0.00\t0.00\t0.00\t99.99\t--> 10\n",
      "0.00\t0.00\t0.00\t0.00\t0.00\t0.00\t0.00\t0.00\t0.00\t0.00\t100.00\t--> 10\n",
      "0.00\t0.00\t0.00\t0.00\t0.00\t0.00\t0.00\t0.00\t0.00\t0.00\t100.00\t--> 10\n",
      "0.00\t0.00\t0.00\t0.02\t0.00\t0.11\t0.01\t0.00\t3.41\t0.00\t96.46\t--> 10\n",
      "0.04\t0.00\t0.00\t0.00\t0.01\t0.00\t0.00\t2.26\t0.00\t0.01\t97.68\t--> 10\n",
      "0.00\t0.00\t0.00\t0.00\t0.00\t0.00\t0.00\t0.00\t0.00\t0.00\t100.00\t--> 10\n",
      "0.00\t0.00\t0.00\t0.00\t0.00\t0.00\t0.00\t0.00\t0.00\t0.00\t100.00\t--> 10\n",
      "0.00\t0.00\t0.00\t0.00\t0.00\t0.00\t0.00\t0.00\t0.00\t0.00\t100.00\t--> 10\n",
      "0.00\t0.00\t0.00\t0.00\t0.00\t0.00\t0.00\t0.00\t0.00\t0.00\t100.00\t--> 10\n",
      "0.00\t0.00\t0.00\t0.00\t0.00\t0.00\t0.00\t0.00\t0.00\t0.00\t100.00\t--> 10\n",
      "0.00\t0.01\t0.00\t0.01\t0.00\t0.00\t0.00\t0.00\t0.01\t0.01\t99.96\t--> 10\n",
      "0.00\t0.00\t0.00\t0.00\t0.00\t0.00\t0.00\t0.00\t0.00\t0.00\t100.00\t--> 10\n",
      "0.00\t0.00\t0.00\t0.00\t0.00\t0.00\t0.00\t0.00\t0.00\t0.00\t100.00\t--> 10\n",
      "0.00\t0.00\t0.00\t0.00\t0.00\t0.00\t0.00\t0.00\t0.00\t0.00\t100.00\t--> 10\n",
      "0.00\t0.00\t0.00\t0.00\t0.00\t0.00\t0.00\t0.00\t0.00\t0.00\t100.00\t--> 10\n",
      "0.00\t0.00\t0.00\t0.00\t0.00\t0.00\t0.00\t0.00\t0.00\t0.00\t100.00\t--> 10\n",
      "0.00\t0.00\t0.00\t0.00\t0.00\t0.00\t0.00\t0.00\t0.00\t0.00\t100.00\t--> 10\n",
      "0.00\t0.00\t0.00\t0.00\t0.00\t0.00\t0.00\t0.00\t0.00\t0.00\t100.00\t--> 10\n",
      "0.00\t0.00\t0.00\t0.00\t0.00\t0.00\t0.00\t0.00\t0.00\t0.00\t100.00\t--> 10\n",
      "0.00\t0.00\t0.00\t0.00\t0.00\t0.00\t0.00\t0.00\t0.00\t0.00\t100.00\t--> 10\n",
      "0.00\t0.00\t0.00\t0.00\t0.00\t0.00\t0.00\t0.03\t0.00\t0.00\t99.97\t--> 10\n",
      "0.00\t0.00\t0.00\t0.00\t0.00\t0.00\t0.00\t0.00\t0.00\t0.02\t99.98\t--> 10\n",
      "0.00\t0.00\t0.00\t0.00\t0.00\t0.00\t0.00\t0.00\t0.00\t0.00\t99.99\t--> 10\n",
      "0.00\t0.00\t0.00\t0.00\t0.00\t0.00\t0.00\t0.00\t0.00\t0.00\t100.00\t--> 10\n",
      "0.00\t0.00\t0.00\t0.00\t0.00\t0.00\t0.00\t0.00\t0.00\t0.00\t100.00\t--> 10\n",
      "0.00\t0.00\t0.00\t0.00\t0.00\t0.00\t0.00\t0.00\t0.00\t0.00\t100.00\t--> 10\n",
      "0.00\t0.00\t0.00\t0.00\t0.00\t0.00\t0.00\t0.06\t0.00\t0.00\t99.94\t--> 10\n",
      "0.02\t0.03\t0.00\t0.00\t0.00\t0.00\t0.00\t0.06\t0.00\t0.00\t99.89\t--> 10\n",
      "0.00\t0.00\t0.00\t0.00\t0.00\t0.00\t0.00\t0.00\t0.00\t0.00\t100.00\t--> 10\n",
      "0.00\t0.00\t0.00\t0.00\t0.00\t0.00\t0.00\t0.00\t0.00\t0.00\t100.00\t--> 10\n",
      "0.00\t0.00\t0.00\t0.00\t0.00\t0.00\t0.00\t0.00\t0.00\t0.00\t100.00\t--> 10\n",
      "0.00\t0.00\t0.00\t0.00\t0.00\t0.00\t0.00\t0.02\t0.01\t0.00\t99.96\t--> 10\n",
      "0.00\t0.00\t0.00\t0.00\t0.00\t0.00\t0.00\t0.00\t0.00\t0.00\t100.00\t--> 10\n",
      "0.00\t0.00\t0.00\t0.00\t0.00\t0.00\t0.00\t0.01\t0.00\t0.00\t99.99\t--> 10\n",
      "0.00\t0.00\t0.00\t0.00\t0.00\t0.00\t0.00\t0.00\t0.00\t0.00\t100.00\t--> 10\n",
      "0.00\t0.00\t0.00\t0.00\t0.00\t0.00\t0.00\t0.00\t0.00\t0.00\t100.00\t--> 10\n",
      "0.00\t0.00\t0.00\t0.00\t0.00\t0.00\t0.00\t0.00\t0.00\t0.00\t100.00\t--> 10\n",
      "0.00\t0.01\t0.03\t0.09\t0.06\t11.64\t0.27\t0.04\t9.88\t0.00\t77.99\t--> 10\n",
      "0.14\t0.07\t0.11\t0.25\t0.00\t0.01\t0.09\t0.00\t0.03\t99.26\t0.03\t--> 9\n",
      "0.00\t0.00\t0.00\t0.00\t0.00\t0.00\t0.00\t0.00\t0.00\t0.00\t100.00\t--> 10\n",
      "0.00\t0.00\t0.00\t0.00\t0.00\t0.00\t0.00\t0.00\t0.21\t0.00\t99.78\t--> 10\n",
      "0.00\t0.00\t0.00\t0.00\t0.00\t0.00\t0.00\t0.00\t0.00\t0.00\t100.00\t--> 10\n",
      "0.00\t0.00\t0.00\t0.00\t0.00\t0.00\t0.00\t0.04\t0.01\t0.00\t99.94\t--> 10\n",
      "0.00\t0.00\t0.00\t0.00\t0.00\t0.00\t0.00\t0.00\t0.00\t0.00\t100.00\t--> 10\n",
      "0.01\t0.01\t0.00\t0.00\t0.00\t0.00\t0.00\t0.02\t0.00\t0.00\t99.96\t--> 10\n",
      "0.00\t0.01\t0.01\t0.00\t0.00\t0.00\t0.00\t0.00\t0.04\t0.00\t99.93\t--> 10\n",
      "0.00\t0.00\t0.00\t0.00\t0.00\t0.00\t0.00\t0.01\t3.11\t0.00\t96.87\t--> 10\n",
      "0.00\t0.00\t0.00\t0.00\t0.00\t0.00\t0.00\t0.00\t0.00\t0.00\t100.00\t--> 10\n",
      "0.01\t0.00\t0.00\t0.01\t0.00\t0.00\t0.00\t0.00\t0.02\t0.02\t99.95\t--> 10\n",
      "0.17\t0.22\t0.02\t0.04\t0.00\t0.00\t0.00\t0.00\t0.03\t0.07\t99.43\t--> 10\n",
      "0.00\t0.00\t0.00\t0.00\t0.00\t0.00\t0.00\t0.00\t0.00\t0.00\t99.99\t--> 10\n",
      "0.00\t0.00\t0.00\t0.00\t0.00\t0.00\t0.00\t0.00\t0.00\t0.00\t100.00\t--> 10\n",
      "0.00\t0.00\t0.00\t0.00\t0.00\t0.00\t0.00\t0.00\t0.00\t0.00\t100.00\t--> 10\n",
      "0.00\t0.00\t0.00\t0.00\t0.00\t0.00\t0.00\t0.00\t0.00\t0.00\t100.00\t--> 10\n",
      "0.02\t0.00\t0.00\t0.00\t0.00\t0.00\t0.00\t0.00\t0.02\t0.00\t99.95\t--> 10\n",
      "0.00\t0.00\t0.00\t0.00\t0.00\t0.00\t0.00\t0.00\t0.00\t0.00\t100.00\t--> 10\n",
      "0.00\t0.00\t0.00\t0.00\t0.00\t0.00\t0.00\t0.00\t0.36\t0.00\t99.64\t--> 10\n",
      "0.00\t0.00\t0.00\t0.00\t0.00\t0.00\t0.00\t0.00\t0.00\t0.00\t100.00\t--> 10\n",
      "0.00\t0.00\t0.00\t0.00\t0.00\t0.00\t0.00\t0.00\t0.00\t0.00\t100.00\t--> 10\n",
      "0.00\t0.00\t0.00\t0.00\t0.00\t0.00\t0.00\t0.00\t0.00\t0.00\t100.00\t--> 10\n",
      "0.03\t0.00\t0.00\t0.00\t0.01\t0.00\t0.05\t9.54\t0.10\t0.00\t90.26\t--> 10\n",
      "0.00\t0.00\t0.00\t0.00\t0.00\t0.00\t0.00\t0.00\t0.00\t0.00\t100.00\t--> 10\n",
      "0.00\t0.00\t0.00\t0.00\t0.00\t0.00\t0.00\t0.00\t0.00\t0.00\t100.00\t--> 10\n",
      "0.15\t0.01\t0.00\t0.00\t0.00\t0.00\t0.02\t0.59\t0.01\t0.01\t99.20\t--> 10\n",
      "0.00\t0.00\t0.00\t0.00\t0.00\t0.00\t0.00\t0.00\t0.00\t0.00\t100.00\t--> 10\n",
      "0.16\t0.32\t0.00\t0.53\t0.03\t0.00\t0.07\t0.34\t0.16\t1.01\t97.38\t--> 10\n",
      "0.00\t0.00\t0.00\t0.00\t0.00\t0.00\t0.00\t0.00\t0.00\t0.00\t99.99\t--> 10\n",
      "0.12\t0.02\t0.01\t0.00\t0.00\t0.00\t0.00\t0.00\t0.00\t0.22\t99.63\t--> 10\n",
      "0.00\t0.00\t0.00\t0.00\t0.00\t0.00\t0.00\t0.03\t0.28\t0.00\t99.68\t--> 10\n",
      "0.03\t0.07\t0.06\t0.06\t1.60\t6.48\t0.04\t0.04\t0.20\t0.00\t91.41\t--> 10\n",
      "0.58\t0.05\t0.00\t0.00\t0.00\t0.00\t0.01\t0.04\t0.00\t0.01\t99.31\t--> 10\n",
      "0.34\t0.02\t0.00\t0.00\t0.00\t0.00\t0.00\t0.01\t0.00\t0.01\t99.61\t--> 10\n",
      "0.00\t0.00\t0.00\t0.00\t0.00\t0.00\t0.00\t0.00\t0.00\t0.00\t100.00\t--> 10\n",
      "0.00\t0.00\t0.00\t0.00\t0.00\t0.00\t0.00\t0.00\t0.00\t0.00\t100.00\t--> 10\n",
      "0.00\t0.00\t0.00\t0.00\t0.00\t0.00\t0.00\t0.00\t0.00\t0.00\t100.00\t--> 10\n",
      "0.00\t0.00\t0.00\t0.00\t0.00\t0.00\t0.00\t0.00\t0.00\t0.00\t100.00\t--> 10\n",
      "0.00\t0.00\t0.00\t0.00\t0.00\t0.00\t0.00\t0.00\t0.00\t0.00\t100.00\t--> 10\n",
      "0.01\t0.01\t0.00\t0.00\t0.00\t0.00\t0.00\t0.00\t0.00\t0.00\t99.98\t--> 10\n",
      "0.00\t0.00\t0.00\t0.00\t0.00\t0.00\t0.00\t0.00\t0.00\t0.00\t100.00\t--> 10\n",
      "0.00\t0.00\t0.00\t0.00\t0.00\t0.00\t0.00\t0.00\t0.00\t0.00\t100.00\t--> 10\n",
      "0.03\t0.00\t0.00\t0.02\t0.00\t0.00\t0.06\t0.01\t0.00\t0.06\t99.82\t--> 10\n",
      "0.00\t0.00\t0.00\t0.00\t0.00\t0.00\t0.00\t0.00\t0.00\t0.00\t99.99\t--> 10\n",
      "0.00\t0.00\t0.00\t0.00\t0.00\t0.00\t0.00\t0.03\t0.12\t0.03\t99.79\t--> 10\n",
      "0.00\t0.00\t0.00\t0.00\t0.00\t0.00\t0.00\t0.00\t0.00\t0.00\t100.00\t--> 10\n",
      "0.00\t0.00\t0.00\t0.00\t0.00\t0.00\t0.00\t0.00\t0.00\t0.00\t100.00\t--> 10\n",
      "0.00\t0.00\t0.00\t0.00\t0.00\t0.00\t0.00\t0.00\t0.00\t0.00\t100.00\t--> 10\n",
      "0.00\t0.00\t0.00\t0.00\t0.00\t0.00\t0.00\t0.00\t0.00\t0.00\t100.00\t--> 10\n",
      "0.00\t0.00\t0.00\t0.00\t0.00\t0.00\t0.00\t0.00\t0.00\t0.00\t100.00\t--> 10\n",
      "0.00\t0.00\t0.00\t0.00\t0.00\t0.00\t0.00\t0.00\t0.00\t0.00\t100.00\t--> 10\n",
      "0.00\t0.00\t0.00\t0.00\t0.00\t0.00\t0.00\t0.00\t0.00\t0.00\t100.00\t--> 10\n",
      "0.00\t0.00\t0.00\t0.00\t0.00\t0.00\t0.00\t0.00\t0.00\t0.00\t100.00\t--> 10\n",
      "0.00\t0.00\t0.00\t0.00\t0.00\t0.00\t0.00\t0.00\t0.00\t0.00\t100.00\t--> 10\n",
      "0.00\t0.00\t0.00\t0.00\t0.00\t0.00\t0.00\t0.00\t0.00\t0.00\t100.00\t--> 10\n",
      "0.00\t0.00\t0.00\t0.00\t0.00\t0.00\t0.00\t0.00\t0.00\t0.00\t100.00\t--> 10\n",
      "0.00\t0.00\t0.00\t0.00\t0.00\t0.00\t0.00\t0.00\t0.00\t0.00\t100.00\t--> 10\n",
      "0.00\t0.00\t0.00\t0.00\t0.00\t0.00\t0.00\t0.00\t0.00\t0.00\t100.00\t--> 10\n",
      "0.00\t0.00\t0.00\t0.00\t0.00\t0.00\t0.00\t0.00\t0.00\t0.00\t100.00\t--> 10\n",
      "0.00\t0.00\t0.00\t0.00\t0.00\t0.00\t0.00\t0.00\t0.00\t0.00\t100.00\t--> 10\n",
      "0.01\t0.01\t0.29\t0.02\t0.08\t0.75\t0.02\t0.03\t0.77\t0.41\t97.60\t--> 10\n",
      "0.00\t0.00\t0.00\t0.00\t0.00\t0.00\t0.00\t0.00\t0.00\t0.00\t100.00\t--> 10\n",
      "3.19\t0.33\t0.03\t0.01\t0.00\t0.00\t0.00\t0.13\t0.02\t1.18\t95.12\t--> 10\n",
      "0.00\t0.00\t0.00\t0.00\t0.00\t0.00\t0.00\t0.00\t0.00\t0.00\t100.00\t--> 10\n",
      "0.00\t0.00\t0.00\t0.00\t0.00\t0.00\t0.00\t0.00\t0.02\t0.00\t99.97\t--> 10\n",
      "0.02\t0.01\t0.00\t0.01\t0.00\t0.00\t0.00\t0.01\t0.00\t0.23\t99.71\t--> 10\n",
      "0.00\t0.00\t0.00\t0.00\t0.00\t0.00\t0.00\t0.00\t0.00\t0.00\t99.99\t--> 10\n",
      "0.00\t0.00\t0.00\t0.00\t0.00\t0.00\t0.00\t0.00\t0.00\t0.00\t100.00\t--> 10\n",
      "0.00\t0.00\t0.00\t0.00\t0.00\t0.00\t0.00\t0.00\t0.00\t0.00\t99.99\t--> 10\n",
      "0.02\t0.04\t0.00\t0.00\t0.00\t0.00\t0.00\t0.11\t0.01\t0.00\t99.81\t--> 10\n",
      "0.00\t0.05\t0.00\t0.01\t0.00\t0.00\t0.02\t0.00\t0.01\t0.00\t99.90\t--> 10\n",
      "0.00\t0.00\t0.00\t0.00\t0.00\t0.00\t0.00\t0.00\t0.00\t0.00\t100.00\t--> 10\n",
      "0.00\t0.00\t0.00\t0.00\t0.00\t0.00\t0.00\t0.00\t0.00\t0.00\t100.00\t--> 10\n",
      "0.00\t0.00\t0.00\t0.00\t0.00\t0.00\t0.00\t0.00\t0.00\t0.00\t100.00\t--> 10\n",
      "0.00\t0.00\t0.00\t0.00\t0.00\t0.00\t0.00\t0.00\t0.00\t0.00\t100.00\t--> 10\n"
     ]
    },
    {
     "name": "stdout",
     "output_type": "stream",
     "text": [
      "0.00\t0.00\t0.00\t0.00\t0.00\t0.00\t0.00\t0.00\t0.00\t0.00\t100.00\t--> 10\n",
      "0.00\t0.00\t0.00\t0.00\t0.00\t0.00\t0.00\t0.00\t0.00\t0.00\t100.00\t--> 10\n",
      "0.00\t0.00\t0.00\t0.00\t0.00\t0.00\t0.00\t0.00\t0.00\t0.00\t100.00\t--> 10\n",
      "0.00\t0.00\t0.00\t0.00\t0.00\t0.00\t0.00\t0.00\t0.00\t0.00\t100.00\t--> 10\n",
      "0.00\t0.00\t0.00\t0.00\t0.00\t0.00\t0.00\t0.00\t0.00\t0.00\t100.00\t--> 10\n",
      "0.03\t0.00\t0.00\t0.00\t0.00\t0.00\t0.00\t0.00\t0.00\t0.01\t99.95\t--> 10\n",
      "0.00\t0.00\t0.00\t0.01\t0.00\t0.00\t0.00\t0.00\t0.00\t0.02\t99.97\t--> 10\n",
      "0.00\t0.00\t0.00\t0.00\t0.00\t0.00\t0.00\t0.00\t0.00\t0.00\t100.00\t--> 10\n",
      "0.00\t0.00\t0.00\t0.00\t0.00\t0.00\t0.00\t0.00\t0.00\t0.00\t100.00\t--> 10\n",
      "0.00\t0.00\t0.00\t0.00\t0.00\t0.00\t0.00\t0.00\t0.00\t0.00\t100.00\t--> 10\n",
      "0.00\t0.00\t0.00\t0.00\t0.00\t0.00\t0.00\t0.00\t0.00\t0.00\t100.00\t--> 10\n",
      "0.00\t0.01\t0.00\t0.00\t0.00\t0.00\t0.00\t0.01\t0.01\t0.00\t99.96\t--> 10\n",
      "0.00\t0.00\t0.00\t0.00\t0.00\t0.00\t0.00\t0.00\t0.00\t0.00\t100.00\t--> 10\n",
      "0.00\t0.00\t0.00\t0.00\t0.00\t0.00\t0.00\t0.00\t0.00\t0.00\t100.00\t--> 10\n",
      "0.00\t0.00\t0.00\t0.00\t0.00\t0.00\t0.00\t0.04\t0.00\t0.00\t99.96\t--> 10\n",
      "0.00\t0.01\t0.02\t0.01\t0.00\t0.00\t0.00\t0.00\t0.00\t0.01\t99.94\t--> 10\n",
      "0.00\t0.00\t0.00\t0.00\t0.00\t0.00\t0.00\t0.00\t0.00\t0.00\t100.00\t--> 10\n",
      "0.00\t0.00\t0.00\t0.00\t0.00\t0.00\t0.00\t0.00\t0.00\t0.00\t100.00\t--> 10\n",
      "0.00\t0.00\t0.00\t0.00\t0.00\t0.00\t0.00\t0.00\t0.00\t0.00\t100.00\t--> 10\n",
      "0.00\t0.00\t0.00\t0.00\t0.00\t0.00\t0.00\t0.00\t0.00\t0.00\t100.00\t--> 10\n",
      "0.00\t0.00\t0.00\t0.00\t0.00\t0.00\t0.00\t0.00\t0.00\t0.00\t100.00\t--> 10\n",
      "0.58\t0.41\t0.04\t0.08\t0.01\t0.00\t0.00\t0.01\t0.01\t0.36\t98.49\t--> 10\n",
      "0.00\t0.00\t0.00\t0.00\t0.00\t0.00\t0.00\t0.00\t0.00\t0.00\t100.00\t--> 10\n",
      "0.96\t0.01\t0.00\t0.00\t0.00\t0.00\t0.00\t0.98\t0.04\t0.32\t97.67\t--> 10\n",
      "0.00\t0.00\t0.00\t0.00\t0.00\t0.00\t0.00\t0.13\t0.00\t0.00\t99.86\t--> 10\n",
      "0.00\t0.00\t0.00\t0.00\t0.00\t0.00\t0.00\t0.00\t0.00\t0.00\t100.00\t--> 10\n",
      "0.00\t0.00\t0.00\t0.00\t0.00\t0.00\t0.00\t0.00\t0.00\t0.00\t100.00\t--> 10\n",
      "0.00\t0.00\t0.00\t0.00\t0.00\t0.00\t0.00\t0.00\t0.00\t0.00\t100.00\t--> 10\n",
      "0.00\t0.00\t0.00\t0.00\t0.00\t0.00\t0.00\t0.00\t0.00\t0.00\t100.00\t--> 10\n",
      "0.00\t0.00\t0.00\t0.00\t0.00\t0.00\t0.00\t0.00\t0.00\t0.00\t100.00\t--> 10\n",
      "0.00\t0.00\t0.00\t0.00\t0.00\t0.00\t0.00\t0.00\t0.00\t0.00\t99.99\t--> 10\n",
      "0.00\t0.00\t0.00\t0.00\t0.00\t0.00\t0.00\t0.00\t0.00\t0.00\t100.00\t--> 10\n",
      "0.00\t0.00\t0.00\t0.00\t0.00\t0.00\t0.00\t0.00\t0.00\t0.00\t100.00\t--> 10\n",
      "0.00\t0.00\t0.00\t0.00\t0.00\t0.00\t0.00\t0.00\t0.00\t0.00\t100.00\t--> 10\n",
      "0.00\t0.00\t0.00\t0.00\t0.00\t0.00\t0.00\t0.00\t0.00\t0.00\t100.00\t--> 10\n",
      "0.00\t0.00\t0.00\t0.00\t0.00\t0.00\t0.00\t0.00\t0.00\t0.00\t100.00\t--> 10\n",
      "0.00\t0.00\t0.00\t0.00\t0.00\t0.00\t0.00\t0.00\t0.00\t0.00\t100.00\t--> 10\n",
      "0.00\t0.00\t0.00\t0.00\t0.00\t0.00\t0.00\t0.00\t0.00\t0.00\t100.00\t--> 10\n",
      "0.00\t0.00\t0.00\t0.00\t0.00\t0.00\t0.00\t0.00\t0.00\t0.00\t100.00\t--> 10\n",
      "0.00\t0.00\t0.00\t0.00\t0.00\t0.00\t0.00\t0.00\t0.00\t0.00\t100.00\t--> 10\n",
      "0.00\t0.00\t0.00\t0.00\t0.00\t0.00\t0.00\t0.00\t0.00\t0.00\t100.00\t--> 10\n",
      "0.00\t0.00\t0.00\t0.00\t0.00\t0.00\t0.00\t0.00\t0.00\t0.00\t100.00\t--> 10\n",
      "0.00\t0.00\t0.00\t0.00\t0.00\t0.02\t0.00\t0.00\t0.02\t0.00\t99.95\t--> 10\n",
      "0.02\t0.01\t0.00\t0.00\t0.00\t0.00\t0.00\t0.02\t0.00\t0.01\t99.95\t--> 10\n",
      "0.00\t0.00\t0.00\t0.00\t0.00\t0.00\t0.00\t0.00\t0.00\t0.00\t100.00\t--> 10\n",
      "0.00\t0.00\t0.00\t0.00\t0.00\t0.00\t0.00\t0.00\t0.01\t0.00\t99.98\t--> 10\n",
      "0.03\t0.00\t0.00\t0.00\t0.00\t0.00\t0.00\t0.03\t0.01\t0.66\t99.27\t--> 10\n",
      "0.00\t0.00\t0.00\t0.00\t0.00\t0.00\t0.00\t0.00\t0.00\t0.00\t100.00\t--> 10\n",
      "0.00\t0.00\t0.00\t0.00\t0.00\t0.00\t0.00\t0.00\t0.00\t0.00\t99.99\t--> 10\n",
      "0.00\t0.00\t0.00\t0.00\t0.00\t0.00\t0.00\t0.00\t0.00\t0.00\t100.00\t--> 10\n",
      "0.00\t0.00\t0.00\t0.00\t0.00\t0.00\t0.00\t0.00\t0.00\t0.00\t99.99\t--> 10\n",
      "0.00\t0.00\t0.00\t0.00\t0.00\t0.00\t0.00\t0.00\t0.09\t0.00\t99.90\t--> 10\n",
      "0.00\t0.00\t0.00\t0.00\t0.00\t0.00\t0.01\t0.01\t0.00\t0.00\t99.97\t--> 10\n",
      "0.00\t0.00\t0.00\t0.00\t0.00\t0.00\t0.00\t0.00\t0.00\t0.00\t100.00\t--> 10\n",
      "0.00\t0.01\t0.18\t0.02\t0.00\t0.00\t0.00\t0.00\t0.03\t0.01\t99.74\t--> 10\n",
      "0.00\t0.00\t0.00\t0.00\t0.00\t0.00\t0.00\t0.00\t0.00\t0.00\t100.00\t--> 10\n",
      "0.00\t0.00\t0.00\t0.00\t0.00\t0.00\t0.00\t0.00\t0.00\t0.00\t100.00\t--> 10\n",
      "0.00\t0.00\t0.00\t0.00\t0.00\t0.00\t0.00\t0.00\t0.00\t0.00\t100.00\t--> 10\n",
      "0.00\t0.00\t0.00\t0.00\t0.00\t0.00\t0.00\t0.00\t0.00\t0.00\t100.00\t--> 10\n",
      "0.00\t0.00\t0.00\t0.00\t0.00\t0.00\t0.00\t0.00\t0.01\t0.00\t99.99\t--> 10\n",
      "0.00\t0.00\t0.00\t0.00\t0.00\t0.00\t0.00\t0.00\t0.00\t0.00\t99.99\t--> 10\n",
      "0.00\t0.00\t0.00\t0.00\t0.00\t0.00\t0.00\t0.00\t0.00\t0.00\t100.00\t--> 10\n",
      "0.00\t0.00\t0.00\t0.00\t0.00\t0.00\t0.00\t0.00\t0.00\t0.00\t100.00\t--> 10\n",
      "0.48\t0.01\t0.00\t0.00\t0.00\t0.00\t0.00\t0.03\t0.00\t0.50\t98.98\t--> 10\n",
      "0.90\t0.27\t0.06\t0.77\t0.00\t0.00\t0.02\t0.01\t0.00\t4.14\t93.82\t--> 10\n",
      "0.00\t0.01\t0.00\t0.01\t0.00\t0.00\t0.00\t0.03\t0.02\t0.00\t99.93\t--> 10\n",
      "0.00\t0.36\t0.00\t0.06\t0.00\t0.00\t0.00\t0.00\t0.00\t0.02\t99.55\t--> 10\n",
      "0.00\t0.00\t0.00\t0.00\t0.00\t0.00\t0.00\t0.00\t0.00\t0.00\t100.00\t--> 10\n",
      "0.00\t0.00\t0.00\t0.00\t0.00\t0.00\t0.00\t0.00\t0.00\t0.00\t100.00\t--> 10\n",
      "0.00\t0.03\t0.02\t0.02\t0.00\t0.00\t0.00\t0.00\t0.01\t0.00\t99.91\t--> 10\n",
      "0.00\t0.00\t0.00\t0.00\t0.00\t0.00\t0.00\t0.00\t0.00\t0.00\t99.99\t--> 10\n",
      "0.00\t0.00\t0.00\t0.00\t0.00\t0.00\t0.00\t0.00\t0.02\t0.00\t99.98\t--> 10\n",
      "0.00\t0.00\t0.00\t0.00\t0.00\t0.00\t0.00\t0.00\t0.00\t0.00\t99.99\t--> 10\n",
      "0.00\t0.00\t0.00\t0.00\t0.00\t0.00\t0.00\t0.00\t0.00\t0.00\t100.00\t--> 10\n",
      "0.00\t0.00\t0.00\t0.00\t0.00\t0.00\t0.00\t0.00\t0.00\t0.00\t100.00\t--> 10\n",
      "0.00\t0.00\t0.00\t0.00\t0.00\t0.00\t0.00\t0.00\t0.00\t0.00\t100.00\t--> 10\n",
      "0.00\t0.00\t0.00\t0.00\t0.00\t0.00\t0.00\t0.00\t0.00\t0.00\t100.00\t--> 10\n",
      "0.00\t0.00\t0.00\t0.00\t0.00\t0.00\t0.00\t0.00\t0.07\t0.01\t99.92\t--> 10\n",
      "0.01\t0.02\t0.00\t0.00\t0.00\t0.00\t0.02\t0.01\t0.00\t0.00\t99.94\t--> 10\n",
      "0.00\t0.00\t0.00\t0.00\t0.00\t0.00\t0.00\t0.01\t0.00\t0.00\t99.99\t--> 10\n",
      "0.00\t0.01\t0.02\t0.00\t0.00\t0.00\t0.00\t0.00\t0.00\t0.00\t99.96\t--> 10\n",
      "0.02\t0.00\t0.00\t0.00\t0.00\t0.00\t0.00\t0.14\t0.00\t0.00\t99.83\t--> 10\n",
      "0.00\t0.00\t0.00\t0.00\t0.00\t0.00\t0.00\t0.00\t0.00\t0.00\t100.00\t--> 10\n",
      "0.00\t0.00\t0.00\t0.00\t0.00\t0.00\t0.00\t0.00\t0.00\t0.00\t100.00\t--> 10\n",
      "0.00\t0.00\t0.00\t0.00\t0.00\t0.00\t0.00\t0.00\t0.00\t0.00\t100.00\t--> 10\n",
      "0.00\t0.00\t0.00\t0.00\t0.00\t0.00\t0.00\t0.00\t0.00\t0.00\t100.00\t--> 10\n",
      "0.00\t0.00\t0.00\t0.00\t0.00\t0.00\t0.00\t0.00\t0.00\t0.00\t100.00\t--> 10\n",
      "0.00\t0.00\t0.00\t0.00\t0.00\t0.00\t0.00\t0.00\t0.00\t0.00\t100.00\t--> 10\n",
      "0.00\t0.00\t0.00\t0.00\t0.00\t0.00\t0.00\t0.00\t0.00\t0.00\t100.00\t--> 10\n",
      "0.00\t0.01\t0.01\t0.00\t0.00\t0.00\t0.00\t0.00\t0.00\t0.00\t99.98\t--> 10\n",
      "0.00\t0.00\t0.00\t0.00\t0.00\t0.09\t0.00\t0.00\t0.32\t0.00\t99.59\t--> 10\n",
      "0.00\t0.00\t0.00\t0.00\t0.00\t0.00\t0.00\t0.00\t0.00\t0.00\t100.00\t--> 10\n",
      "0.00\t0.00\t0.00\t0.00\t0.00\t0.00\t0.00\t0.00\t0.00\t0.00\t100.00\t--> 10\n",
      "4.01\t87.86\t0.01\t0.14\t0.00\t0.00\t0.03\t0.02\t0.00\t0.07\t7.87\t--> 1\n",
      "0.00\t0.00\t0.00\t0.00\t0.00\t0.00\t0.00\t0.00\t0.00\t0.00\t100.00\t--> 10\n",
      "0.01\t0.00\t0.00\t0.00\t0.00\t0.00\t0.00\t0.08\t0.01\t0.00\t99.90\t--> 10\n",
      "0.00\t0.00\t0.02\t0.00\t0.00\t0.00\t0.00\t0.00\t0.00\t0.00\t99.97\t--> 10\n",
      "0.00\t0.00\t0.00\t0.00\t0.00\t0.00\t0.00\t0.00\t0.00\t0.00\t100.00\t--> 10\n",
      "0.00\t0.00\t0.00\t0.00\t0.00\t0.00\t0.00\t0.00\t0.00\t0.00\t100.00\t--> 10\n",
      "0.00\t0.00\t0.00\t0.00\t0.00\t0.00\t0.00\t0.00\t0.01\t0.00\t99.99\t--> 10\n",
      "0.00\t0.00\t0.00\t0.00\t0.00\t0.00\t0.00\t0.00\t0.00\t0.00\t100.00\t--> 10\n",
      "0.00\t0.00\t0.02\t0.01\t0.00\t0.00\t0.00\t0.00\t0.61\t0.00\t99.35\t--> 10\n",
      "0.00\t0.00\t0.00\t0.00\t0.00\t0.00\t0.00\t0.00\t0.00\t0.00\t99.99\t--> 10\n",
      "0.00\t0.00\t0.00\t0.00\t0.00\t0.00\t0.00\t0.00\t0.00\t0.00\t100.00\t--> 10\n",
      "0.00\t0.00\t0.00\t0.00\t0.00\t0.00\t0.00\t0.00\t0.00\t0.00\t100.00\t--> 10\n",
      "0.00\t0.00\t0.00\t0.00\t0.00\t0.00\t0.00\t0.00\t0.00\t0.00\t100.00\t--> 10\n",
      "0.00\t0.00\t0.00\t0.00\t0.00\t0.00\t0.00\t0.00\t0.00\t0.00\t100.00\t--> 10\n",
      "0.00\t0.00\t0.00\t0.00\t0.00\t0.00\t0.00\t0.00\t0.00\t0.00\t100.00\t--> 10\n",
      "0.00\t0.00\t0.00\t0.00\t0.00\t0.00\t0.00\t0.00\t0.00\t0.00\t100.00\t--> 10\n",
      "0.00\t0.00\t0.00\t0.00\t0.00\t0.00\t0.00\t0.00\t0.00\t0.00\t100.00\t--> 10\n",
      "0.00\t0.00\t0.00\t0.00\t0.00\t0.00\t0.00\t0.01\t0.00\t0.00\t99.99\t--> 10\n",
      "0.00\t0.00\t0.00\t0.00\t0.00\t0.00\t0.00\t0.00\t0.00\t0.00\t100.00\t--> 10\n",
      "0.00\t0.00\t0.00\t0.00\t0.00\t0.00\t0.00\t0.00\t0.00\t0.00\t100.00\t--> 10\n",
      "0.00\t0.00\t0.00\t0.00\t0.00\t0.00\t0.00\t0.00\t0.00\t0.00\t100.00\t--> 10\n",
      "0.00\t0.00\t0.00\t0.00\t0.00\t0.00\t0.00\t0.00\t0.00\t0.00\t100.00\t--> 10\n",
      "0.00\t0.00\t0.00\t0.00\t0.00\t0.00\t0.00\t0.00\t0.00\t0.00\t100.00\t--> 10\n",
      "0.00\t0.00\t0.00\t0.00\t0.00\t0.00\t0.00\t0.00\t0.00\t0.00\t100.00\t--> 10\n",
      "0.00\t0.00\t0.00\t0.00\t0.00\t0.00\t0.00\t0.00\t0.00\t0.00\t100.00\t--> 10\n",
      "0.00\t0.00\t0.00\t0.00\t0.00\t0.00\t0.00\t0.00\t0.00\t0.00\t100.00\t--> 10\n",
      "0.00\t0.00\t0.00\t0.00\t0.00\t0.00\t0.00\t0.00\t0.00\t0.00\t100.00\t--> 10\n",
      "0.00\t0.00\t0.00\t0.00\t0.00\t0.00\t0.00\t0.01\t0.00\t0.00\t99.99\t--> 10\n",
      "0.00\t0.00\t0.00\t0.00\t0.00\t0.00\t0.00\t0.00\t0.00\t0.00\t100.00\t--> 10\n",
      "0.00\t0.00\t0.00\t0.00\t0.00\t0.00\t0.00\t0.00\t0.00\t0.00\t100.00\t--> 10\n",
      "0.31\t0.12\t0.02\t0.24\t0.00\t0.00\t0.01\t0.01\t0.03\t0.07\t99.18\t--> 10\n",
      "0.01\t0.00\t0.00\t0.00\t0.00\t0.00\t0.00\t0.00\t0.00\t0.00\t99.99\t--> 10\n",
      "1.79\t1.32\t1.21\t0.25\t2.81\t0.06\t0.14\t0.21\t0.34\t4.64\t87.24\t--> 10\n",
      "4.40\t0.34\t0.02\t0.24\t0.00\t0.05\t0.10\t1.05\t0.17\t1.45\t92.17\t--> 10\n",
      "2.59\t0.34\t0.00\t0.02\t0.09\t0.03\t0.01\t10.64\t0.16\t1.93\t84.19\t--> 10\n",
      "0.00\t0.00\t0.00\t0.00\t0.00\t0.00\t0.00\t0.00\t0.00\t0.00\t100.00\t--> 10\n",
      "0.00\t0.00\t0.00\t0.00\t0.00\t0.00\t0.00\t0.00\t0.00\t0.00\t100.00\t--> 10\n",
      "0.00\t0.00\t0.00\t0.00\t0.00\t0.00\t0.00\t0.00\t0.00\t0.00\t100.00\t--> 10\n",
      "0.00\t0.00\t0.00\t0.00\t0.00\t0.00\t0.00\t0.06\t0.00\t0.00\t99.94\t--> 10\n",
      "0.00\t0.00\t0.00\t0.00\t0.00\t0.00\t0.00\t0.00\t0.00\t0.00\t100.00\t--> 10\n",
      "0.00\t0.00\t0.00\t0.00\t0.00\t0.00\t0.00\t0.00\t0.00\t0.00\t100.00\t--> 10\n",
      "0.00\t0.00\t0.00\t0.00\t0.00\t0.00\t0.00\t0.00\t0.00\t0.00\t100.00\t--> 10\n",
      "0.01\t0.01\t0.00\t0.01\t0.00\t0.00\t0.02\t0.12\t0.16\t0.00\t99.67\t--> 10\n",
      "0.06\t0.03\t0.01\t0.01\t0.00\t0.00\t0.02\t0.00\t0.00\t0.02\t99.85\t--> 10\n",
      "0.00\t0.01\t0.00\t0.02\t0.00\t0.00\t0.01\t0.00\t0.00\t0.00\t99.95\t--> 10\n",
      "5.04\t1.01\t0.00\t0.18\t0.01\t0.00\t0.09\t38.20\t2.93\t2.06\t50.48\t--> 10\n",
      "0.00\t0.00\t0.00\t0.00\t0.00\t0.00\t0.00\t0.00\t0.00\t0.00\t100.00\t--> 10\n",
      "0.00\t0.00\t0.00\t0.00\t0.00\t0.00\t0.00\t0.00\t0.00\t0.00\t100.00\t--> 10\n",
      "0.00\t0.00\t0.00\t0.00\t0.00\t0.00\t0.00\t0.00\t0.00\t0.00\t99.99\t--> 10\n",
      "0.00\t0.00\t0.00\t0.00\t0.00\t0.00\t0.00\t0.00\t0.00\t0.00\t100.00\t--> 10\n",
      "0.00\t0.00\t0.00\t0.00\t0.00\t0.00\t0.00\t0.00\t0.00\t0.00\t100.00\t--> 10\n",
      "0.00\t0.00\t0.00\t0.00\t0.00\t0.00\t0.00\t0.00\t0.00\t0.00\t100.00\t--> 10\n",
      "0.00\t0.00\t0.00\t0.00\t0.00\t0.00\t0.00\t0.00\t0.00\t0.00\t99.99\t--> 10\n",
      "0.01\t0.01\t0.00\t0.00\t0.00\t0.00\t0.00\t0.03\t0.00\t0.00\t99.94\t--> 10\n",
      "0.19\t0.02\t0.00\t0.05\t0.00\t0.00\t0.00\t0.04\t0.04\t0.01\t99.64\t--> 10\n",
      "0.00\t0.00\t0.00\t0.00\t0.00\t0.00\t0.00\t0.00\t0.00\t0.00\t100.00\t--> 10\n",
      "0.01\t0.00\t0.00\t0.00\t0.00\t0.00\t0.00\t0.00\t0.00\t0.00\t99.99\t--> 10\n",
      "0.00\t0.00\t0.00\t0.00\t0.00\t0.00\t0.00\t0.00\t0.00\t0.00\t100.00\t--> 10\n",
      "0.11\t0.29\t0.02\t0.01\t0.00\t0.00\t0.00\t0.00\t0.00\t0.10\t99.47\t--> 10\n",
      "0.00\t0.00\t0.00\t0.00\t0.00\t0.00\t0.00\t0.00\t0.00\t0.00\t100.00\t--> 10\n",
      "0.00\t0.00\t0.00\t0.00\t0.00\t0.00\t0.00\t0.00\t0.00\t0.00\t100.00\t--> 10\n",
      "0.00\t0.00\t0.00\t0.00\t0.00\t0.00\t0.00\t0.00\t0.00\t0.00\t100.00\t--> 10\n",
      "0.00\t0.00\t0.00\t0.00\t0.00\t0.00\t0.00\t0.00\t0.00\t0.00\t99.99\t--> 10\n",
      "0.04\t0.19\t0.70\t0.10\t0.00\t0.00\t0.02\t0.00\t0.01\t0.61\t98.33\t--> 10\n",
      "0.00\t0.00\t0.00\t0.00\t0.00\t0.00\t0.00\t0.12\t0.00\t0.00\t99.87\t--> 10\n",
      "0.00\t0.00\t0.00\t0.00\t0.00\t0.00\t0.00\t0.00\t0.00\t0.00\t100.00\t--> 10\n",
      "0.00\t0.00\t0.00\t0.00\t0.00\t0.00\t0.00\t0.00\t0.00\t0.00\t100.00\t--> 10\n",
      "0.00\t0.00\t0.00\t0.00\t0.00\t0.00\t0.00\t0.00\t0.00\t0.00\t100.00\t--> 10\n",
      "0.00\t0.00\t0.00\t0.00\t0.00\t0.00\t0.00\t0.00\t0.00\t0.00\t99.99\t--> 10\n",
      "0.00\t0.00\t0.00\t0.00\t0.00\t0.00\t0.00\t0.00\t0.00\t0.00\t100.00\t--> 10\n",
      "0.01\t0.00\t0.03\t0.00\t0.00\t0.00\t0.00\t0.00\t0.00\t0.02\t99.94\t--> 10\n",
      "0.01\t0.00\t0.00\t0.00\t0.00\t0.00\t0.00\t0.00\t0.00\t0.01\t99.98\t--> 10\n",
      "0.00\t0.00\t0.00\t0.00\t0.00\t0.00\t0.00\t0.00\t0.00\t0.00\t100.00\t--> 10\n",
      "0.00\t0.00\t0.00\t0.00\t0.00\t0.00\t0.00\t0.01\t0.00\t0.00\t99.99\t--> 10\n",
      "0.00\t0.00\t0.00\t0.00\t0.00\t0.00\t0.00\t0.00\t0.00\t0.00\t100.00\t--> 10\n",
      "0.03\t0.01\t0.00\t0.00\t0.00\t0.00\t0.01\t0.03\t0.00\t0.00\t99.91\t--> 10\n",
      "0.02\t0.00\t0.00\t0.00\t0.00\t0.00\t0.00\t0.00\t0.00\t0.02\t99.96\t--> 10\n",
      "0.00\t0.00\t0.00\t0.00\t0.00\t0.00\t0.00\t0.00\t0.00\t0.00\t100.00\t--> 10\n",
      "0.00\t0.00\t0.00\t0.00\t0.00\t0.00\t0.00\t0.00\t0.00\t0.00\t100.00\t--> 10\n",
      "0.00\t0.01\t0.01\t0.00\t0.00\t0.00\t0.00\t0.00\t0.00\t0.01\t99.96\t--> 10\n",
      "0.00\t0.00\t0.00\t0.00\t0.00\t0.00\t0.00\t0.00\t0.00\t0.00\t100.00\t--> 10\n",
      "0.00\t0.00\t0.00\t0.00\t0.00\t0.00\t0.00\t0.00\t0.00\t0.00\t100.00\t--> 10\n",
      "0.00\t0.00\t0.00\t0.00\t0.00\t0.00\t0.00\t0.00\t0.00\t0.00\t100.00\t--> 10\n",
      "0.00\t0.00\t0.00\t0.00\t0.00\t0.00\t0.00\t0.00\t0.00\t0.00\t100.00\t--> 10\n",
      "0.00\t0.00\t0.00\t0.00\t0.00\t0.00\t0.00\t0.00\t0.00\t0.00\t100.00\t--> 10\n",
      "0.00\t0.00\t0.00\t0.00\t0.00\t0.00\t0.00\t0.00\t0.00\t0.00\t99.99\t--> 10\n",
      "0.00\t0.00\t0.00\t0.00\t0.00\t0.00\t0.00\t0.00\t0.00\t0.00\t100.00\t--> 10\n",
      "0.00\t0.00\t0.00\t0.00\t0.00\t0.00\t0.00\t0.00\t0.00\t0.00\t100.00\t--> 10\n",
      "0.00\t0.00\t0.00\t0.00\t0.00\t0.00\t0.00\t0.00\t0.00\t0.00\t100.00\t--> 10\n",
      "0.00\t0.00\t0.00\t0.00\t0.00\t0.00\t0.00\t0.00\t0.00\t0.00\t100.00\t--> 10\n",
      "0.00\t0.00\t0.00\t0.00\t0.00\t0.00\t0.00\t0.00\t0.00\t0.00\t100.00\t--> 10\n",
      "0.00\t0.00\t0.00\t0.00\t0.00\t0.00\t0.00\t0.00\t0.00\t0.00\t100.00\t--> 10\n",
      "0.00\t0.00\t0.00\t0.00\t0.00\t0.00\t0.00\t0.00\t0.00\t0.00\t100.00\t--> 10\n",
      "0.00\t0.01\t0.02\t0.01\t0.00\t0.00\t0.00\t0.00\t0.00\t0.00\t99.95\t--> 10\n",
      "0.00\t0.00\t0.00\t0.00\t0.00\t0.00\t0.00\t0.00\t0.00\t0.00\t100.00\t--> 10\n",
      "0.00\t0.00\t0.00\t0.00\t0.00\t0.00\t0.00\t0.00\t0.00\t0.00\t100.00\t--> 10\n",
      "1.06\t0.10\t0.02\t0.18\t0.00\t0.01\t0.15\t0.24\t0.02\t0.50\t97.73\t--> 10\n",
      "0.00\t0.00\t0.01\t0.00\t0.00\t0.00\t0.00\t0.00\t0.00\t0.00\t99.99\t--> 10\n",
      "3.60\t0.31\t0.00\t0.10\t0.10\t0.00\t0.12\t4.87\t0.18\t0.02\t90.69\t--> 10\n",
      "0.00\t0.00\t0.00\t0.00\t0.00\t0.00\t0.00\t0.00\t0.00\t0.00\t100.00\t--> 10\n",
      "0.00\t0.00\t0.00\t0.00\t0.00\t0.00\t0.00\t0.00\t0.00\t0.00\t100.00\t--> 10\n",
      "0.00\t0.00\t0.01\t0.01\t0.00\t0.00\t0.00\t0.00\t0.00\t0.00\t99.98\t--> 10\n",
      "0.00\t0.00\t0.00\t0.00\t0.00\t0.00\t0.00\t0.00\t0.00\t0.00\t100.00\t--> 10\n",
      "0.00\t0.00\t0.00\t0.00\t0.00\t0.00\t0.01\t0.00\t0.00\t0.00\t99.99\t--> 10\n",
      "0.00\t0.01\t0.00\t0.00\t0.00\t0.00\t0.32\t0.01\t0.00\t0.00\t99.66\t--> 10\n",
      "0.00\t0.00\t0.00\t0.00\t0.00\t0.00\t0.36\t0.00\t0.00\t0.00\t99.64\t--> 10\n",
      "0.00\t0.01\t0.00\t0.13\t0.00\t0.00\t0.06\t0.00\t0.02\t0.00\t99.78\t--> 10\n",
      "0.00\t0.03\t0.00\t0.01\t0.00\t0.00\t66.48\t0.02\t0.00\t0.00\t33.45\t--> 6\n",
      "0.01\t0.00\t0.00\t0.00\t0.00\t0.00\t0.00\t0.02\t0.23\t0.00\t99.73\t--> 10\n",
      "0.00\t0.00\t0.00\t0.00\t0.00\t0.00\t0.00\t0.00\t0.00\t0.00\t100.00\t--> 10\n",
      "0.00\t0.01\t0.64\t0.29\t0.00\t0.00\t0.00\t0.00\t0.01\t0.00\t99.05\t--> 10\n",
      "0.00\t0.00\t0.00\t0.00\t0.00\t0.00\t0.00\t0.00\t0.01\t0.00\t99.99\t--> 10\n",
      "0.31\t0.50\t0.00\t0.00\t0.00\t0.00\t0.00\t0.01\t0.00\t0.00\t99.18\t--> 10\n",
      "1.03\t0.17\t0.01\t0.31\t0.01\t0.02\t0.07\t0.80\t2.62\t0.00\t94.96\t--> 10\n",
      "0.00\t0.00\t0.00\t0.00\t0.00\t0.00\t0.00\t0.00\t0.01\t0.00\t99.99\t--> 10\n",
      "0.00\t0.00\t0.00\t0.00\t0.00\t0.00\t0.00\t0.00\t0.00\t0.00\t99.99\t--> 10\n",
      "0.00\t0.00\t0.00\t0.00\t0.00\t0.00\t0.00\t0.00\t0.00\t0.00\t100.00\t--> 10\n",
      "0.00\t0.00\t0.00\t0.00\t0.00\t0.00\t0.00\t0.00\t0.00\t0.00\t100.00\t--> 10\n",
      "0.00\t0.01\t0.00\t0.00\t0.00\t0.00\t0.00\t0.01\t0.00\t0.00\t99.97\t--> 10\n",
      "0.00\t0.00\t0.00\t0.00\t0.00\t0.00\t0.00\t0.01\t0.00\t0.00\t99.99\t--> 10\n",
      "0.06\t0.02\t0.00\t0.01\t0.06\t0.00\t0.01\t0.29\t0.01\t0.01\t99.53\t--> 10\n",
      "0.00\t0.01\t0.00\t0.01\t0.00\t0.00\t25.64\t0.01\t0.00\t0.00\t74.34\t--> 10\n",
      "0.00\t0.01\t0.00\t0.10\t0.00\t0.00\t34.17\t0.01\t0.00\t0.00\t65.71\t--> 10\n",
      "0.00\t0.00\t0.00\t0.01\t0.00\t0.00\t87.32\t0.21\t0.00\t0.00\t12.46\t--> 6\n",
      "0.00\t0.00\t0.00\t0.00\t0.00\t0.00\t0.00\t0.00\t0.00\t0.03\t99.96\t--> 10\n",
      "0.00\t0.00\t0.00\t0.00\t0.00\t0.00\t0.00\t0.01\t0.00\t0.00\t99.99\t--> 10\n",
      "0.00\t0.01\t0.00\t0.00\t0.00\t0.00\t0.00\t0.00\t0.00\t0.00\t99.99\t--> 10\n",
      "0.00\t0.00\t0.00\t0.00\t0.00\t0.00\t0.00\t0.00\t0.00\t0.00\t100.00\t--> 10\n",
      "0.00\t0.00\t0.00\t0.00\t0.00\t0.00\t0.00\t0.00\t0.00\t0.00\t100.00\t--> 10\n",
      "0.00\t0.00\t0.00\t0.00\t0.00\t0.00\t0.00\t0.00\t0.00\t0.00\t100.00\t--> 10\n",
      "0.00\t0.00\t0.00\t0.00\t0.00\t0.00\t0.00\t0.00\t0.00\t0.00\t100.00\t--> 10\n",
      "0.00\t0.00\t0.00\t0.00\t0.00\t0.00\t0.00\t0.00\t0.00\t0.00\t100.00\t--> 10\n",
      "0.00\t0.00\t0.00\t0.00\t0.00\t0.00\t0.00\t0.00\t0.00\t0.00\t100.00\t--> 10\n",
      "0.00\t0.00\t0.00\t0.00\t0.00\t0.00\t0.00\t0.00\t0.00\t0.00\t100.00\t--> 10\n",
      "0.00\t0.00\t0.00\t0.00\t0.00\t0.00\t0.00\t0.00\t0.00\t0.00\t100.00\t--> 10\n",
      "0.02\t0.00\t0.00\t0.06\t0.00\t0.01\t0.26\t0.30\t0.86\t0.00\t98.48\t--> 10\n",
      "0.00\t0.00\t0.00\t0.00\t0.00\t0.00\t0.00\t0.00\t0.00\t0.00\t100.00\t--> 10\n",
      "0.00\t0.00\t0.00\t0.00\t0.00\t0.00\t0.00\t0.00\t0.00\t0.00\t100.00\t--> 10\n",
      "0.00\t0.00\t0.00\t0.00\t0.00\t0.00\t0.00\t0.00\t0.00\t0.00\t100.00\t--> 10\n",
      "0.00\t0.00\t0.00\t0.00\t0.00\t0.00\t0.00\t0.00\t0.00\t0.00\t100.00\t--> 10\n",
      "0.00\t0.00\t0.00\t0.00\t0.00\t0.00\t0.00\t0.00\t0.00\t0.00\t100.00\t--> 10\n",
      "0.02\t0.03\t0.01\t0.08\t0.00\t0.00\t0.03\t0.00\t0.07\t0.03\t99.73\t--> 10\n",
      "1.29\t0.06\t0.00\t0.00\t0.00\t0.00\t0.00\t0.38\t0.02\t0.07\t98.17\t--> 10\n",
      "0.00\t0.00\t0.00\t0.01\t0.00\t0.00\t0.00\t0.01\t0.00\t0.00\t99.97\t--> 10\n",
      "0.01\t0.03\t0.00\t0.00\t0.00\t0.00\t62.97\t0.62\t0.00\t0.00\t36.36\t--> 6\n",
      "0.00\t0.00\t0.00\t0.00\t0.00\t0.00\t82.94\t0.06\t0.00\t0.00\t16.99\t--> 6\n",
      "0.00\t0.00\t0.00\t0.00\t0.00\t0.00\t0.00\t0.00\t0.00\t0.00\t99.99\t--> 10\n",
      "0.00\t0.00\t0.00\t0.00\t0.00\t0.00\t0.00\t0.00\t0.00\t0.00\t99.99\t--> 10\n",
      "0.02\t0.01\t0.12\t0.01\t0.00\t0.00\t0.00\t0.00\t0.00\t0.03\t99.81\t--> 10\n",
      "0.00\t0.01\t0.00\t0.00\t0.00\t0.00\t0.00\t0.00\t0.00\t0.00\t99.98\t--> 10\n",
      "0.00\t0.00\t0.00\t0.00\t0.00\t0.00\t0.00\t0.00\t0.00\t0.00\t100.00\t--> 10\n",
      "0.00\t0.00\t0.00\t0.00\t0.00\t0.00\t0.00\t0.00\t0.00\t0.00\t100.00\t--> 10\n",
      "0.12\t0.09\t27.71\t1.86\t0.00\t0.63\t0.16\t0.01\t0.41\t5.58\t63.44\t--> 10\n",
      "0.00\t0.00\t0.00\t0.00\t0.00\t0.00\t0.00\t0.00\t0.00\t0.00\t100.00\t--> 10\n",
      "0.00\t0.00\t0.00\t0.00\t0.00\t0.00\t0.00\t0.00\t0.00\t0.00\t100.00\t--> 10\n",
      "0.00\t0.00\t0.00\t0.00\t0.00\t0.00\t0.00\t0.00\t0.00\t0.00\t100.00\t--> 10\n",
      "0.00\t0.00\t0.00\t0.00\t0.00\t0.00\t0.00\t0.00\t0.00\t0.00\t100.00\t--> 10\n",
      "0.00\t0.00\t0.00\t0.00\t0.00\t0.00\t0.00\t0.00\t0.00\t0.00\t100.00\t--> 10\n",
      "0.00\t0.00\t0.00\t0.00\t0.00\t0.00\t0.00\t0.00\t0.00\t0.00\t100.00\t--> 10\n",
      "0.00\t0.00\t0.00\t0.00\t0.00\t0.00\t0.00\t0.00\t0.00\t0.00\t100.00\t--> 10\n",
      "0.00\t0.00\t0.00\t0.00\t0.00\t0.00\t0.00\t0.00\t0.00\t0.00\t100.00\t--> 10\n",
      "0.00\t0.00\t0.00\t0.00\t0.00\t0.00\t0.00\t0.00\t0.00\t0.00\t100.00\t--> 10\n",
      "0.00\t0.00\t0.00\t0.00\t0.00\t0.00\t0.00\t0.00\t0.00\t0.00\t100.00\t--> 10\n",
      "0.00\t0.00\t0.00\t0.00\t0.00\t0.00\t0.00\t0.00\t0.00\t0.00\t100.00\t--> 10\n",
      "0.00\t0.00\t0.00\t0.00\t0.00\t0.00\t0.00\t0.00\t0.00\t0.00\t100.00\t--> 10\n",
      "0.00\t0.00\t0.00\t0.00\t0.00\t0.00\t0.00\t0.00\t0.00\t0.00\t100.00\t--> 10\n",
      "0.00\t0.00\t0.00\t0.00\t0.00\t0.00\t0.00\t0.00\t0.00\t0.00\t100.00\t--> 10\n",
      "0.00\t0.00\t0.00\t0.00\t0.00\t0.00\t0.00\t0.00\t0.00\t0.00\t100.00\t--> 10\n"
     ]
    }
   ],
   "source": [
    "print('Predicted probabilities [%] for the different exercises:\\n')\n",
    "for jj in range(np.shape(pred_prob_test)[1]):\n",
    "    print('Ex. {:d}\\t'.format(jj), end='')\n",
    "print('pred. class')\n",
    "        \n",
    "for ii in range(np.shape(pred_prob_test)[0]):\n",
    "    for jj in range(np.shape(pred_prob_test)[1]):\n",
    "        print('{:.2f}\\t'.format(pred_prob_test[ii,jj]*100), end='')\n",
    "    print('--> {:d}'.format(np.argmax(pred_prob_test[ii,:])))\n",
    "    "
   ]
  },
  {
   "cell_type": "code",
   "execution_count": 39,
   "metadata": {
    "ExecuteTime": {
     "end_time": "2019-02-18T17:38:43.838606Z",
     "start_time": "2019-02-18T17:38:43.813605Z"
    }
   },
   "outputs": [
    {
     "data": {
      "text/plain": [
       "array([ 0,  0,  0,  0,  0,  0,  0,  0,  0,  0,  0,  0,  0,  0,  0,  0,  0,\n",
       "        0,  0,  0,  0,  0,  0,  0,  0,  0,  0,  1,  0,  0,  0,  1,  1,  1,\n",
       "        1,  0,  1,  1,  1,  1,  1,  1,  1,  1,  1,  1,  0,  1,  0,  1,  1,\n",
       "        1,  1,  1,  1,  1,  1,  1,  1,  1,  2,  2,  2,  2,  2,  2,  2,  2,\n",
       "        9,  2,  2,  2,  2,  2,  2,  9,  2,  2,  2,  2,  2,  2,  2,  2,  9,\n",
       "        2,  2,  2,  2,  2,  3,  3,  3,  3,  3,  3,  3,  3,  3,  3,  3,  3,\n",
       "        3,  3,  3,  3,  3,  3,  3,  3,  3,  3,  3,  3,  3,  3,  3,  3,  3,\n",
       "        3,  4,  4,  4,  4,  4,  4,  4,  4,  4,  4,  4,  4,  4,  4,  4,  4,\n",
       "        4,  4,  4,  4,  4,  4,  4,  4,  4,  4,  4,  4,  4,  4,  4,  5,  5,\n",
       "        5,  5,  5,  5,  5,  5,  5,  5,  5,  5,  5,  5,  5,  5,  5,  5,  5,\n",
       "        5,  5,  5,  5,  5,  5,  5,  5,  5,  5,  5,  6,  6,  6,  6,  6,  6,\n",
       "        6,  6,  6,  6,  6,  6,  6,  6,  6,  6,  6,  6,  6,  6,  6,  6,  6,\n",
       "        6, 10,  6,  6,  6,  6,  6,  7,  7,  7,  7,  7,  7,  7,  7,  7,  7,\n",
       "        7,  7,  7,  7,  7,  7,  7,  7,  7,  7,  7,  7,  7,  7,  7,  7,  7,\n",
       "        7,  7,  7,  7,  8,  8,  8,  8, 10, 10,  8,  8,  8,  8, 10,  8,  8,\n",
       "        8,  8, 10,  8,  8,  8,  8,  8,  8,  8,  8,  8,  8,  8, 10,  8,  8,\n",
       "        9,  9,  9,  9,  9,  9,  9,  9,  2,  9,  9,  9,  9,  2,  2,  9,  9,\n",
       "        9,  9,  9,  9,  9,  9,  9,  9,  9,  2,  9,  9,  9, 10, 10, 10, 10,\n",
       "       10, 10, 10, 10, 10, 10, 10, 10, 10, 10, 10, 10, 10, 10, 10, 10, 10,\n",
       "       10, 10, 10, 10, 10, 10, 10, 10, 10, 10, 10, 10, 10, 10, 10, 10, 10,\n",
       "       10, 10, 10, 10, 10, 10, 10, 10, 10, 10, 10, 10, 10, 10, 10, 10, 10,\n",
       "       10, 10, 10, 10, 10, 10, 10, 10, 10, 10, 10, 10, 10, 10, 10, 10,  9,\n",
       "       10, 10, 10, 10, 10, 10, 10, 10, 10, 10, 10, 10, 10, 10, 10, 10, 10,\n",
       "       10, 10, 10, 10, 10, 10, 10, 10, 10, 10, 10, 10, 10, 10, 10, 10, 10,\n",
       "       10, 10, 10, 10, 10, 10, 10, 10, 10, 10, 10, 10, 10, 10, 10, 10, 10,\n",
       "       10, 10, 10, 10, 10, 10, 10, 10, 10, 10, 10, 10, 10, 10, 10, 10, 10,\n",
       "       10, 10, 10, 10, 10, 10, 10, 10, 10, 10, 10, 10, 10, 10, 10, 10, 10,\n",
       "       10, 10, 10, 10, 10, 10, 10, 10, 10, 10, 10, 10, 10, 10, 10, 10, 10,\n",
       "       10, 10, 10, 10, 10, 10, 10, 10, 10, 10, 10, 10, 10, 10, 10, 10, 10,\n",
       "       10, 10, 10, 10, 10, 10, 10, 10, 10, 10, 10, 10, 10, 10, 10, 10, 10,\n",
       "       10, 10, 10, 10, 10, 10, 10, 10, 10, 10, 10, 10, 10, 10, 10, 10, 10,\n",
       "       10, 10, 10, 10, 10, 10, 10, 10, 10, 10, 10, 10, 10, 10,  1, 10, 10,\n",
       "       10, 10, 10, 10, 10, 10, 10, 10, 10, 10, 10, 10, 10, 10, 10, 10, 10,\n",
       "       10, 10, 10, 10, 10, 10, 10, 10, 10, 10, 10, 10, 10, 10, 10, 10, 10,\n",
       "       10, 10, 10, 10, 10, 10, 10, 10, 10, 10, 10, 10, 10, 10, 10, 10, 10,\n",
       "       10, 10, 10, 10, 10, 10, 10, 10, 10, 10, 10, 10, 10, 10, 10, 10, 10,\n",
       "       10, 10, 10, 10, 10, 10, 10, 10, 10, 10, 10, 10, 10, 10, 10, 10, 10,\n",
       "       10, 10, 10, 10, 10, 10, 10, 10, 10, 10, 10, 10, 10, 10, 10, 10, 10,\n",
       "       10, 10,  6, 10, 10, 10, 10, 10, 10, 10, 10, 10, 10, 10, 10, 10, 10,\n",
       "       10,  6, 10, 10, 10, 10, 10, 10, 10, 10, 10, 10, 10, 10, 10, 10, 10,\n",
       "       10, 10, 10, 10, 10,  6,  6, 10, 10, 10, 10, 10, 10, 10, 10, 10, 10,\n",
       "       10, 10, 10, 10, 10, 10, 10, 10, 10, 10, 10, 10], dtype=int64)"
      ]
     },
     "execution_count": 39,
     "metadata": {},
     "output_type": "execute_result"
    }
   ],
   "source": [
    "np.argmax(pred_prob_test, axis=1)"
   ]
  },
  {
   "cell_type": "code",
   "execution_count": null,
   "metadata": {},
   "outputs": [],
   "source": []
  },
  {
   "cell_type": "markdown",
   "metadata": {},
   "source": [
    "# Use saved model"
   ]
  },
  {
   "cell_type": "code",
   "execution_count": 40,
   "metadata": {
    "ExecuteTime": {
     "end_time": "2019-02-18T17:38:44.008616Z",
     "start_time": "2019-02-18T17:38:43.846607Z"
    }
   },
   "outputs": [
    {
     "data": {
      "text/plain": [
       "(709, 24, 6)"
      ]
     },
     "execution_count": 40,
     "metadata": {},
     "output_type": "execute_result"
    }
   ],
   "source": [
    "X_testing = PD_RNN1.get_X_test()\n",
    "np.shape(X_testing)"
   ]
  },
  {
   "cell_type": "code",
   "execution_count": 41,
   "metadata": {
    "ExecuteTime": {
     "end_time": "2019-02-18T17:38:44.113622Z",
     "start_time": "2019-02-18T17:38:44.015616Z"
    }
   },
   "outputs": [],
   "source": [
    "# all sequence lengths shall now have the maximum length (--> np.shape(X_testing)[1])\n",
    "seqlens_testing =  np.full(np.shape(X_testing)[0], np.shape(X_testing)[1], dtype=np.int)"
   ]
  },
  {
   "cell_type": "code",
   "execution_count": 42,
   "metadata": {
    "ExecuteTime": {
     "end_time": "2019-02-18T17:38:44.755659Z",
     "start_time": "2019-02-18T17:38:44.121622Z"
    }
   },
   "outputs": [
    {
     "name": "stdout",
     "output_type": "stream",
     "text": [
      "INFO:tensorflow:Restoring parameters from E:/TensorFlow_saved_models/final-RNN-model/RNN-model-1\n"
     ]
    }
   ],
   "source": [
    "with tf.Session() as sess:    \n",
    "    \n",
    "    #First let's load meta graph and restore weights\n",
    "    new_saver = tf.train.import_meta_graph('E:/TensorFlow_saved_models/final-RNN-model/RNN-model-1.meta')\n",
    "    new_saver.restore(sess, 'E:/TensorFlow_saved_models/final-RNN-model/RNN-model-1')\n",
    "\n",
    "    # Now, let's access and create placeholders variables and\n",
    "    # create feed-dict to feed new data\n",
    "    graph = tf.get_default_graph()\n",
    "    inputs = graph.get_tensor_by_name('data/inputs:0')\n",
    "    seqlens = graph.get_tensor_by_name('data/seqlens:0')\n",
    "\n",
    "    # Now, access the op that you want to run. \n",
    "    pred_prob_all_states = graph.get_tensor_by_name(\"evaluation/predicted_probabilities_all_states:0\")\n",
    "\n",
    "    pred_prob_testing = sess.run(pred_prob_all_states, feed_dict={inputs: X_testing,\n",
    "                                                                  seqlens: seqlens_testing})"
   ]
  },
  {
   "cell_type": "code",
   "execution_count": 43,
   "metadata": {
    "ExecuteTime": {
     "end_time": "2019-02-18T17:38:44.778660Z",
     "start_time": "2019-02-18T17:38:44.764659Z"
    }
   },
   "outputs": [
    {
     "data": {
      "text/plain": [
       "(17016, 11)"
      ]
     },
     "execution_count": 43,
     "metadata": {},
     "output_type": "execute_result"
    }
   ],
   "source": [
    "np.shape(pred_prob_testing)"
   ]
  },
  {
   "cell_type": "code",
   "execution_count": 44,
   "metadata": {
    "ExecuteTime": {
     "end_time": "2019-02-18T17:38:44.909668Z",
     "start_time": "2019-02-18T17:38:44.782660Z"
    }
   },
   "outputs": [
    {
     "data": {
      "text/plain": [
       "array([6.0530370e-03, 1.6686041e-05, 1.0803991e-05, 5.4584484e-06,\n",
       "       6.1817381e-08, 6.1948043e-07, 2.8463788e-04, 8.8863503e-03,\n",
       "       7.5628185e-01, 8.1581193e-01, 8.9780724e-01, 9.8049301e-01,\n",
       "       9.7926015e-01, 9.2485857e-01, 6.5987998e-01, 1.1870885e-01,\n",
       "       2.1713637e-03, 8.5860074e-06, 6.3000201e-08, 2.6495739e-09,\n",
       "       7.9544010e-10, 5.9280209e-10, 6.3842304e-10, 6.4740280e-10,\n",
       "       2.0552829e-02, 3.3200482e-05, 1.4634718e-06, 3.9074289e-06,\n",
       "       2.5143711e-06, 4.2476626e-07, 5.5729834e-06, 4.3848398e-04,\n",
       "       3.4120120e-02, 9.0063518e-01, 9.9187827e-01, 9.6808761e-01,\n",
       "       9.8766893e-01, 9.6040261e-01, 7.7383125e-01, 1.5237492e-01,\n",
       "       2.9028703e-03, 1.4356607e-05, 9.5373323e-08, 3.0628149e-09,\n",
       "       7.6941570e-10, 5.9150096e-10, 6.2185590e-10, 6.2631250e-10],\n",
       "      dtype=float32)"
      ]
     },
     "execution_count": 44,
     "metadata": {},
     "output_type": "execute_result"
    }
   ],
   "source": [
    "pred_prob_testing[0:48,0]"
   ]
  },
  {
   "cell_type": "code",
   "execution_count": 45,
   "metadata": {
    "ExecuteTime": {
     "end_time": "2019-02-18T17:38:45.051676Z",
     "start_time": "2019-02-18T17:38:44.916668Z"
    }
   },
   "outputs": [
    {
     "data": {
      "text/plain": [
       "array([6.0530370e-03, 1.6686041e-05, 1.0803991e-05, 5.4584484e-06,\n",
       "       6.1817381e-08, 6.1948043e-07, 2.8463788e-04, 8.8863503e-03,\n",
       "       7.5628185e-01, 8.1581193e-01, 8.9780724e-01, 8.0324173e-02,\n",
       "       8.0324173e-02, 8.0324173e-02, 8.0324173e-02, 8.0324173e-02,\n",
       "       8.0324173e-02, 8.0324173e-02, 8.0324173e-02, 8.0324173e-02,\n",
       "       8.0324173e-02, 8.0324173e-02, 8.0324173e-02, 8.0324173e-02,\n",
       "       2.0552829e-02, 3.3200482e-05, 1.4634718e-06, 3.9074289e-06,\n",
       "       2.5143711e-06, 4.2476626e-07, 5.5729834e-06, 4.3848398e-04,\n",
       "       3.4120120e-02, 9.0063518e-01, 9.9187827e-01, 9.6808761e-01,\n",
       "       8.0324173e-02, 8.0324173e-02, 8.0324173e-02, 8.0324173e-02,\n",
       "       8.0324173e-02, 8.0324173e-02, 8.0324173e-02, 8.0324173e-02,\n",
       "       8.0324173e-02, 8.0324173e-02, 8.0324173e-02, 8.0324173e-02],\n",
       "      dtype=float32)"
      ]
     },
     "execution_count": 45,
     "metadata": {},
     "output_type": "execute_result"
    }
   ],
   "source": [
    "pred_prob_test_all[0:48,0] "
   ]
  },
  {
   "cell_type": "code",
   "execution_count": 46,
   "metadata": {
    "ExecuteTime": {
     "end_time": "2019-02-18T17:38:45.190684Z",
     "start_time": "2019-02-18T17:38:45.066677Z"
    }
   },
   "outputs": [
    {
     "data": {
      "text/plain": [
       "7.954401e-10"
      ]
     },
     "execution_count": 46,
     "metadata": {},
     "output_type": "execute_result"
    }
   ],
   "source": [
    "pred_prob_testing[20,0]"
   ]
  },
  {
   "cell_type": "code",
   "execution_count": 47,
   "metadata": {
    "ExecuteTime": {
     "end_time": "2019-02-18T17:38:45.340692Z",
     "start_time": "2019-02-18T17:38:45.198684Z"
    }
   },
   "outputs": [
    {
     "data": {
      "text/plain": [
       "0.08032417"
      ]
     },
     "execution_count": 47,
     "metadata": {},
     "output_type": "execute_result"
    }
   ],
   "source": [
    "pred_prob_test_all[20,0] "
   ]
  },
  {
   "cell_type": "code",
   "execution_count": null,
   "metadata": {},
   "outputs": [],
   "source": []
  },
  {
   "cell_type": "code",
   "execution_count": 48,
   "metadata": {
    "ExecuteTime": {
     "end_time": "2019-02-18T17:38:45.472700Z",
     "start_time": "2019-02-18T17:38:45.348693Z"
    }
   },
   "outputs": [
    {
     "data": {
      "text/plain": [
       "24"
      ]
     },
     "execution_count": 48,
     "metadata": {},
     "output_type": "execute_result"
    }
   ],
   "source": [
    "np.shape(X_testing)[1]"
   ]
  },
  {
   "cell_type": "code",
   "execution_count": 49,
   "metadata": {
    "ExecuteTime": {
     "end_time": "2019-02-18T17:38:45.612708Z",
     "start_time": "2019-02-18T17:38:45.476700Z"
    }
   },
   "outputs": [],
   "source": [
    "pred_prob_testing_reshape = np.reshape(pred_prob_testing, (-1, np.shape(X_testing)[1], 11))"
   ]
  },
  {
   "cell_type": "code",
   "execution_count": 50,
   "metadata": {
    "ExecuteTime": {
     "end_time": "2019-02-18T17:38:45.757716Z",
     "start_time": "2019-02-18T17:38:45.620708Z"
    }
   },
   "outputs": [
    {
     "data": {
      "text/plain": [
       "array([6.0530370e-03, 1.6686041e-05, 1.0803991e-05, 5.4584484e-06,\n",
       "       6.1817381e-08, 6.1948043e-07, 2.8463788e-04, 8.8863503e-03,\n",
       "       7.5628185e-01, 8.1581193e-01, 8.9780724e-01, 9.8049301e-01,\n",
       "       9.7926015e-01, 9.2485857e-01, 6.5987998e-01, 1.1870885e-01,\n",
       "       2.1713637e-03, 8.5860074e-06, 6.3000201e-08, 2.6495739e-09,\n",
       "       7.9544010e-10, 5.9280209e-10, 6.3842304e-10, 6.4740280e-10],\n",
       "      dtype=float32)"
      ]
     },
     "execution_count": 50,
     "metadata": {},
     "output_type": "execute_result"
    }
   ],
   "source": [
    "# probabilities of first data point, all time steps and first class (0: 'RF')\n",
    "pred_prob_testing_reshape[0,:,0]"
   ]
  },
  {
   "cell_type": "code",
   "execution_count": null,
   "metadata": {},
   "outputs": [],
   "source": []
  },
  {
   "cell_type": "code",
   "execution_count": null,
   "metadata": {},
   "outputs": [],
   "source": []
  },
  {
   "cell_type": "markdown",
   "metadata": {},
   "source": [
    "## Classification of a whole record"
   ]
  },
  {
   "cell_type": "code",
   "execution_count": 51,
   "metadata": {
    "ExecuteTime": {
     "end_time": "2019-02-18T17:38:47.535818Z",
     "start_time": "2019-02-18T17:38:45.766717Z"
    }
   },
   "outputs": [],
   "source": [
    "# define the test subject\n",
    "test_data_subject = 1\n",
    "\n",
    "test_subject_dir  = r'E:\\Physio_Data\\Subject_{:02}'.format(test_data_subject)\n",
    "test_subject_file = 'subject{:02}.csv'.format(test_data_subject)\n",
    "test_subject_path = os.path.join(test_subject_dir, test_subject_file)\n",
    "\n",
    "\n",
    "# signal names\n",
    "signal_abbrs = ['Acc','Gyr']\n",
    "\n",
    "# filter properties according to Crema\n",
    "cutoff = 10 # [Hz]\n",
    "order = 6 # butterworth order\n",
    "\n",
    "sampling_rate = 256 # [Hz]\n",
    "\n",
    "# get data from selected file\n",
    "sensor_data = fmpm.get_sensor_data(in_file=test_subject_path,\n",
    "                                   signals=signal_abbrs,\n",
    "                                   sampling_rate=sampling_rate)\n",
    "\n",
    "# filter data with butterworth filter and save to new dictionary\n",
    "sensor_data_filt = {}\n",
    "for signal in signal_abbrs:\n",
    "    sensor_data_filt[signal] = fmpm.butter_lowpass_filter(sensor_data[signal], \n",
    "                                                          cutoff=cutoff, \n",
    "                                                          fs=sampling_rate, \n",
    "                                                          order=order)"
   ]
  },
  {
   "cell_type": "markdown",
   "metadata": {},
   "source": [
    "### Down sampling"
   ]
  },
  {
   "cell_type": "code",
   "execution_count": 52,
   "metadata": {
    "ExecuteTime": {
     "end_time": "2019-02-18T17:38:47.556819Z",
     "start_time": "2019-02-18T17:38:47.538818Z"
    }
   },
   "outputs": [],
   "source": [
    "new_sampling_rate = 4 # [Hz]\n",
    "\n",
    "# sampling rate ratio of original and new sampling rate (e.g. if ratio = 32 --> take every 32nd index)\n",
    "sampling_rate_ratio = sampling_rate / new_sampling_rate\n",
    "\n",
    "\n",
    "# start and stop indices of current data point (current repetition block)\n",
    "start_idx = 0\n",
    "# all signal columns must have the same length\n",
    "stop_idx = len(sensor_data_filt[signal_abbrs[0]][:,0])\n",
    "\n",
    "# consider the new sampling rate for signal data selection\n",
    "new_indices = np.arange(start_idx, stop_idx, sampling_rate_ratio).round().astype(int)\n",
    "\n",
    "sensor_data_newHz = {}\n",
    "for signal in signal_abbrs:\n",
    "    sensor_data_newHz[signal] = sensor_data_filt[signal][new_indices,:]"
   ]
  },
  {
   "cell_type": "code",
   "execution_count": 53,
   "metadata": {
    "ExecuteTime": {
     "end_time": "2019-02-18T17:38:47.726829Z",
     "start_time": "2019-02-18T17:38:47.564819Z"
    }
   },
   "outputs": [
    {
     "data": {
      "text/plain": [
       "(8040, 3)"
      ]
     },
     "execution_count": 53,
     "metadata": {},
     "output_type": "execute_result"
    }
   ],
   "source": [
    "np.shape(sensor_data_newHz['Acc'])"
   ]
  },
  {
   "cell_type": "markdown",
   "metadata": {},
   "source": [
    "### Tensor with windowed data"
   ]
  },
  {
   "cell_type": "code",
   "execution_count": 54,
   "metadata": {
    "ExecuteTime": {
     "end_time": "2019-02-18T17:38:47.882838Z",
     "start_time": "2019-02-18T17:38:47.740829Z"
    }
   },
   "outputs": [
    {
     "data": {
      "text/plain": [
       "(8017, 24, 6)"
      ]
     },
     "execution_count": 54,
     "metadata": {},
     "output_type": "execute_result"
    }
   ],
   "source": [
    "max_seq_len = 24 # --> 6s * 4Hz\n",
    "num_signals = 6 # Acc, Gyr --> y, x, z\n",
    "\n",
    "data_len = np.shape(sensor_data_newHz['Acc'])[0]\n",
    "num_data_points = data_len - max_seq_len + 1 # number of data points after windowing\n",
    "\n",
    "Tensor_win = np.zeros((num_data_points, max_seq_len, num_signals))\n",
    "\n",
    "for ii in range(num_data_points):\n",
    "    Tensor_win[ii,:,0:3] = sensor_data_newHz['Acc'][ii:ii+max_seq_len, :] # corresponding acc. values \n",
    "    Tensor_win[ii,:,3:6] = sensor_data_newHz['Gyr'][ii:ii+max_seq_len, :] # corresponding ang. vel. values\n",
    "    \n",
    "np.shape(Tensor_win)"
   ]
  },
  {
   "cell_type": "markdown",
   "metadata": {},
   "source": [
    "### Predict probabilities with RNN"
   ]
  },
  {
   "cell_type": "code",
   "execution_count": 55,
   "metadata": {
    "ExecuteTime": {
     "end_time": "2019-02-18T17:38:49.792947Z",
     "start_time": "2019-02-18T17:38:47.888838Z"
    }
   },
   "outputs": [
    {
     "name": "stdout",
     "output_type": "stream",
     "text": [
      "INFO:tensorflow:Restoring parameters from E:/TensorFlow_saved_models/final-RNN-model/RNN-model-1\n"
     ]
    }
   ],
   "source": [
    "# all sequence lengths shall now have the maximum length (--> np.shape(Tensor_win)[1])\n",
    "seqlens_win =  np.full(np.shape(Tensor_win)[0], np.shape(Tensor_win)[1], dtype=np.int)\n",
    "\n",
    "with tf.Session() as sess:    \n",
    "    \n",
    "    #First let's load meta graph and restore weights\n",
    "    new_saver = tf.train.import_meta_graph('E:/TensorFlow_saved_models/final-RNN-model/RNN-model-1.meta')\n",
    "    new_saver.restore(sess, 'E:/TensorFlow_saved_models/final-RNN-model/RNN-model-1')\n",
    "\n",
    "    # Now, let's access and create placeholders variables and\n",
    "    # create feed-dict to feed new data\n",
    "    graph = tf.get_default_graph()\n",
    "    inputs = graph.get_tensor_by_name('data/inputs:0')\n",
    "    seqlens = graph.get_tensor_by_name('data/seqlens:0')\n",
    "\n",
    "    # Now, access the op that you want to run. \n",
    "    pred_prob_all_states = graph.get_tensor_by_name(\"evaluation/predicted_probabilities_all_states:0\")\n",
    "\n",
    "    pred_prob_win = sess.run(pred_prob_all_states, feed_dict={inputs: Tensor_win,\n",
    "                                                              seqlens: seqlens_win})"
   ]
  },
  {
   "cell_type": "code",
   "execution_count": 56,
   "metadata": {
    "ExecuteTime": {
     "end_time": "2019-02-18T17:38:49.810948Z",
     "start_time": "2019-02-18T17:38:49.797947Z"
    }
   },
   "outputs": [
    {
     "data": {
      "text/plain": [
       "(192408, 11)"
      ]
     },
     "execution_count": 56,
     "metadata": {},
     "output_type": "execute_result"
    }
   ],
   "source": [
    "np.shape(pred_prob_win)"
   ]
  },
  {
   "cell_type": "code",
   "execution_count": 57,
   "metadata": {
    "ExecuteTime": {
     "end_time": "2019-02-18T17:38:49.963957Z",
     "start_time": "2019-02-18T17:38:49.816948Z"
    }
   },
   "outputs": [],
   "source": [
    "ex_dict = {0:'RF',1:'RO',2:'RS',3:'LR',4:'BC',5:'TC',6:'MP',7:'SA',8:'P1',9:'P2',10:'NE'}\n",
    "\n",
    "pred_prob_win_dict = {}\n",
    "for ii in range(len(ex_dict)):\n",
    "    pred_prob_win_dict[ex_dict[ii]] = pred_prob_win[:,ii].reshape(-1,max_seq_len)"
   ]
  },
  {
   "cell_type": "code",
   "execution_count": 58,
   "metadata": {
    "ExecuteTime": {
     "end_time": "2019-02-18T17:38:50.089964Z",
     "start_time": "2019-02-18T17:38:49.967957Z"
    }
   },
   "outputs": [
    {
     "data": {
      "text/plain": [
       "(8017, 24)"
      ]
     },
     "execution_count": 58,
     "metadata": {},
     "output_type": "execute_result"
    }
   ],
   "source": [
    "np.shape(pred_prob_win_dict['RF'])"
   ]
  },
  {
   "cell_type": "markdown",
   "metadata": {},
   "source": [
    "### Plot the predicted probabilities"
   ]
  },
  {
   "cell_type": "code",
   "execution_count": 59,
   "metadata": {
    "ExecuteTime": {
     "end_time": "2019-02-18T17:38:50.303976Z",
     "start_time": "2019-02-18T17:38:50.093964Z"
    }
   },
   "outputs": [
    {
     "data": {
      "text/html": [
       "<div>\n",
       "<style>\n",
       "    .dataframe thead tr:only-child th {\n",
       "        text-align: right;\n",
       "    }\n",
       "\n",
       "    .dataframe thead th {\n",
       "        text-align: left;\n",
       "    }\n",
       "\n",
       "    .dataframe tbody tr th {\n",
       "        vertical-align: top;\n",
       "    }\n",
       "</style>\n",
       "<table border=\"1\" class=\"dataframe\">\n",
       "  <thead>\n",
       "    <tr style=\"text-align: right;\">\n",
       "      <th></th>\n",
       "      <th>0</th>\n",
       "      <th>1</th>\n",
       "      <th>2</th>\n",
       "      <th>3</th>\n",
       "      <th>4</th>\n",
       "      <th>5</th>\n",
       "      <th>6</th>\n",
       "      <th>7</th>\n",
       "      <th>8</th>\n",
       "      <th>9</th>\n",
       "    </tr>\n",
       "  </thead>\n",
       "  <tbody>\n",
       "    <tr>\n",
       "      <th>0</th>\n",
       "      <td>Raises Oblique</td>\n",
       "      <td>15</td>\n",
       "      <td>5</td>\n",
       "      <td>10</td>\n",
       "      <td>01:18.6</td>\n",
       "      <td>01:58.3</td>\n",
       "      <td>02:22.1</td>\n",
       "      <td>02:37.1</td>\n",
       "      <td>02:54.8</td>\n",
       "      <td>03:23.3</td>\n",
       "    </tr>\n",
       "    <tr>\n",
       "      <th>1</th>\n",
       "      <td>PNF Diagonal 2</td>\n",
       "      <td>10</td>\n",
       "      <td>5</td>\n",
       "      <td>15</td>\n",
       "      <td>04:27.1</td>\n",
       "      <td>04:54.3</td>\n",
       "      <td>05:24.5</td>\n",
       "      <td>05:38.9</td>\n",
       "      <td>06:25.8</td>\n",
       "      <td>07:05.1</td>\n",
       "    </tr>\n",
       "    <tr>\n",
       "      <th>2</th>\n",
       "      <td>Triceps Curls</td>\n",
       "      <td>15</td>\n",
       "      <td>5</td>\n",
       "      <td>10</td>\n",
       "      <td>07:32.3</td>\n",
       "      <td>08:14.8</td>\n",
       "      <td>08:49.5</td>\n",
       "      <td>09:04.9</td>\n",
       "      <td>09:46.1</td>\n",
       "      <td>10:12.6</td>\n",
       "    </tr>\n",
       "    <tr>\n",
       "      <th>3</th>\n",
       "      <td>Rotation Wrist</td>\n",
       "      <td>5</td>\n",
       "      <td>10</td>\n",
       "      <td>15</td>\n",
       "      <td>10:43.1</td>\n",
       "      <td>10:57.3</td>\n",
       "      <td>11:25.6</td>\n",
       "      <td>11:51.8</td>\n",
       "      <td>12:12.1</td>\n",
       "      <td>12:52.4</td>\n",
       "    </tr>\n",
       "    <tr>\n",
       "      <th>4</th>\n",
       "      <td>Raises Front</td>\n",
       "      <td>10</td>\n",
       "      <td>15</td>\n",
       "      <td>5</td>\n",
       "      <td>13:44.8</td>\n",
       "      <td>14:14</td>\n",
       "      <td>14:40.6</td>\n",
       "      <td>15:20</td>\n",
       "      <td>16:09.5</td>\n",
       "      <td>16:23.1</td>\n",
       "    </tr>\n",
       "    <tr>\n",
       "      <th>5</th>\n",
       "      <td>Biceps Curls</td>\n",
       "      <td>15</td>\n",
       "      <td>10</td>\n",
       "      <td>5</td>\n",
       "      <td>16:50.8</td>\n",
       "      <td>17:30.2</td>\n",
       "      <td>18:01.3</td>\n",
       "      <td>18:32.2</td>\n",
       "      <td>18:58.6</td>\n",
       "      <td>19:12</td>\n",
       "    </tr>\n",
       "    <tr>\n",
       "      <th>6</th>\n",
       "      <td>Raises Side</td>\n",
       "      <td>15</td>\n",
       "      <td>5</td>\n",
       "      <td>10</td>\n",
       "      <td>20:13</td>\n",
       "      <td>21:00.2</td>\n",
       "      <td>21:24.9</td>\n",
       "      <td>21:40.2</td>\n",
       "      <td>22:09.6</td>\n",
       "      <td>22:38.4</td>\n",
       "    </tr>\n",
       "    <tr>\n",
       "      <th>7</th>\n",
       "      <td>PNF Diagonal 1</td>\n",
       "      <td>10</td>\n",
       "      <td>15</td>\n",
       "      <td>5</td>\n",
       "      <td>23:43.9</td>\n",
       "      <td>24:15.9</td>\n",
       "      <td>24:42</td>\n",
       "      <td>25:25.1</td>\n",
       "      <td>25:48.7</td>\n",
       "      <td>26:04.6</td>\n",
       "    </tr>\n",
       "    <tr>\n",
       "      <th>8</th>\n",
       "      <td>Shoulder Adduct.</td>\n",
       "      <td>5</td>\n",
       "      <td>15</td>\n",
       "      <td>10</td>\n",
       "      <td>26:48.5</td>\n",
       "      <td>27:05.3</td>\n",
       "      <td>27:25.4</td>\n",
       "      <td>28:16.5</td>\n",
       "      <td>28:41.2</td>\n",
       "      <td>29:10.9</td>\n",
       "    </tr>\n",
       "    <tr>\n",
       "      <th>9</th>\n",
       "      <td>Military Press</td>\n",
       "      <td>15</td>\n",
       "      <td>10</td>\n",
       "      <td>5</td>\n",
       "      <td>29:45.6</td>\n",
       "      <td>30:37.4</td>\n",
       "      <td>31:14.6</td>\n",
       "      <td>31:47.3</td>\n",
       "      <td>32:13.6</td>\n",
       "      <td>32:28.1</td>\n",
       "    </tr>\n",
       "  </tbody>\n",
       "</table>\n",
       "</div>"
      ],
      "text/plain": [
       "                  0   1   2   3        4        5        6        7        8  \\\n",
       "0    Raises Oblique  15   5  10  01:18.6  01:58.3  02:22.1  02:37.1  02:54.8   \n",
       "1    PNF Diagonal 2  10   5  15  04:27.1  04:54.3  05:24.5  05:38.9  06:25.8   \n",
       "2     Triceps Curls  15   5  10  07:32.3  08:14.8  08:49.5  09:04.9  09:46.1   \n",
       "3    Rotation Wrist   5  10  15  10:43.1  10:57.3  11:25.6  11:51.8  12:12.1   \n",
       "4      Raises Front  10  15   5  13:44.8    14:14  14:40.6    15:20  16:09.5   \n",
       "5      Biceps Curls  15  10   5  16:50.8  17:30.2  18:01.3  18:32.2  18:58.6   \n",
       "6       Raises Side  15   5  10    20:13  21:00.2  21:24.9  21:40.2  22:09.6   \n",
       "7    PNF Diagonal 1  10  15   5  23:43.9  24:15.9    24:42  25:25.1  25:48.7   \n",
       "8  Shoulder Adduct.   5  15  10  26:48.5  27:05.3  27:25.4  28:16.5  28:41.2   \n",
       "9    Military Press  15  10   5  29:45.6  30:37.4  31:14.6  31:47.3  32:13.6   \n",
       "\n",
       "         9  \n",
       "0  03:23.3  \n",
       "1  07:05.1  \n",
       "2  10:12.6  \n",
       "3  12:52.4  \n",
       "4  16:23.1  \n",
       "5    19:12  \n",
       "6  22:38.4  \n",
       "7  26:04.6  \n",
       "8  29:10.9  \n",
       "9  32:28.1  "
      ]
     },
     "execution_count": 59,
     "metadata": {},
     "output_type": "execute_result"
    }
   ],
   "source": [
    "# loading the actual time ranges of the exercises of the test data for the subsequent plot \n",
    "# to compare with predicted values\n",
    "\n",
    "# select file with timetable (csv) of the test subject\n",
    "timetable_file_dir = r'E:\\Physio_Data\\Exercise_time_tables'\n",
    "timetable_file_name = 'Timetable_subject{:02}.txt'.format(test_data_subject)\n",
    "timetable_data_path = os.path.join(timetable_file_dir, timetable_file_name)\n",
    "\n",
    "# read in time table\n",
    "timetable_data = pd.read_csv(timetable_data_path, skiprows=0, sep='\\t', header=None)\n",
    "num_exercises = timetable_data.shape[0] # number of exercises\n",
    "timetable_data"
   ]
  },
  {
   "cell_type": "code",
   "execution_count": 60,
   "metadata": {
    "ExecuteTime": {
     "end_time": "2019-02-18T17:38:50.473986Z",
     "start_time": "2019-02-18T17:38:50.307976Z"
    }
   },
   "outputs": [],
   "source": [
    "# function to convert indices to time strings\n",
    "def indices_to_time(start_index, stop_index):\n",
    "    '''\n",
    "    Function convert indices to time string.\n",
    "    !! Global variables are used !!\n",
    "    \n",
    "    Parameters\n",
    "    ----------\n",
    "    start_index : int\n",
    "        \n",
    "    stop_index : int\n",
    "    \n",
    "    Returns\n",
    "    -------\n",
    "    str\n",
    "        String with start and stop time (e.g. '14:39.6 - 15:19.4').\n",
    "    '''\n",
    "    start_time_text = '{0:02}:{1:04.1f}'.format(int(start_index/new_sampling_rate/60), \n",
    "                                               (start_index/new_sampling_rate)%60)\n",
    "    stop_time_text = '{0:02}:{1:04.1f}'.format(int(stop_index/new_sampling_rate/60), \n",
    "                                               (stop_index/new_sampling_rate)%60)\n",
    "    return start_time_text + ' - ' + stop_time_text"
   ]
  },
  {
   "cell_type": "code",
   "execution_count": 61,
   "metadata": {
    "ExecuteTime": {
     "end_time": "2019-02-18T17:38:52.209085Z",
     "start_time": "2019-02-18T17:38:50.479986Z"
    }
   },
   "outputs": [
    {
     "name": "stdout",
     "output_type": "stream",
     "text": [
      "Using matplotlib backend: TkAgg\n"
     ]
    }
   ],
   "source": [
    "%matplotlib auto\n",
    "\n",
    "# text for current subject\n",
    "sub_text = 'Subject {}\\n'.format(test_data_subject)\n",
    "\n",
    "yticks = np.arange(0, max_seq_len)[::10]\n",
    "\n",
    "ylabels = np.arange(1, max_seq_len+1)/new_sampling_rate\n",
    "ylabels = ylabels[::10]\n",
    "\n",
    "fig, axis = plt.subplots(12,1,figsize=(18,9), sharex=True)\n",
    "\n",
    "# image color settings for RFC probabilities\n",
    "cmap = plt.cm.seismic\n",
    "vmin=0\n",
    "vmax=1\n",
    "\n",
    "exercise_abbrs = [ex_dict[ii] for ii in range(len(ex_dict))]\n",
    "\n",
    "for ax, ex in zip(axis, exercise_abbrs):\n",
    "    s = ax.imshow(pred_prob_win_dict[ex].transpose(), interpolation='nearest', \n",
    "                  aspect='auto', cmap=cmap, vmin=vmin, vmax=vmax)\n",
    "    ax.invert_yaxis()\n",
    "    ax.set_yticks(yticks)\n",
    "    ax.set_yticklabels(ylabels, fontsize=7)\n",
    "    ax.set_ylabel(ex, rotation=0, fontsize=13)\n",
    "    ax.yaxis.labelpad = 34\n",
    "    ax.xaxis.set_ticklabels([])\n",
    "\n",
    "    \n",
    "plt.gcf().text(0.09, 0.6, r'sequence length $[s]$', fontsize=10, rotation=90)\n",
    "# plt.gcf().text(0.078, 0.6, r'window length $[s]$', fontsize=10, rotation=90) # for half the window size\n",
    "\n",
    "#axis[-1].plot(range(num_start_points), np.zeros(num_start_points), 'k', alpha=0.0)\n",
    "formatter = FuncFormatter(lambda i, x: time.strftime('%M:%S', time.gmtime(i/new_sampling_rate)))\n",
    "axis[-1].xaxis.set_major_formatter(formatter)\n",
    "axis[-1].set_xlabel(r'time $[min:sec]$', fontsize=13)\n",
    "axis[-1].set_yticks([])\n",
    "axis[-1].set_ylim([0,1])\n",
    "\n",
    "fig.subplots_adjust(bottom=0.2, right=0.9) # make space for buttons and color bar\n",
    "cbar_ax = fig.add_axes([0.93, 0.255, 0.01, 0.625])\n",
    "fig.colorbar(s, cax=cbar_ax)\n",
    "\n",
    "# add slider for selections on the x axis\n",
    "Slider_shiftX_ax = plt.axes([0.125, 0.07, 0.775, 0.025])\n",
    "Slider_zoomX_ax = plt.axes([0.125, 0.035, 0.775, 0.025])\n",
    "\n",
    "axcolor = 'cornflowerblue'\n",
    "Slider_shiftX = Slider(Slider_shiftX_ax, 'time shift [%]', 0.0, 100.0, valinit=0, facecolor=axcolor)\n",
    "Slider_zoomX = Slider(Slider_zoomX_ax, 'time scale [%]', 0.1, 100.0, valinit=100, facecolor=axcolor)\n",
    "Slider_zoomX_ax.xaxis.set_visible(True)\n",
    "Slider_zoomX_ax.set_xticks(np.arange(0,105,5)) \n",
    "\n",
    "def updateX(val):\n",
    "    start_index = int(Slider_shiftX.val / 100 * num_data_points)\n",
    "    stop_index = start_index + Slider_zoomX.val / 100 * num_data_points\n",
    "    axis[-1].set_xlim((start_index, stop_index))\n",
    "    fig.suptitle('Predicted Probabilities ' + sub_text + indices_to_time(start_index, stop_index), fontsize=20)\n",
    "    plt.draw()\n",
    "\n",
    "Slider_shiftX.on_changed(updateX)\n",
    "Slider_zoomX.on_changed(updateX)\n",
    "\n",
    "# add button to reset view\n",
    "def resetX(val):\n",
    "    start_index = 0\n",
    "    stop_index = num_data_points\n",
    "    axis[-1].set_xlim((start_index, stop_index))\n",
    "    Slider_shiftX.reset()\n",
    "    Slider_zoomX.reset()\n",
    "    fig.suptitle('Predicted Probabilities ' + sub_text + indices_to_time(start_index, stop_index), fontsize=20)\n",
    "    plt.draw()\n",
    "\n",
    "Button_resetX_ax = plt.axes([0.85, 0.12, 0.05, 0.03])\n",
    "Button_resetX = Button(Button_resetX_ax, 'Reset view')\n",
    "Button_resetX.on_clicked(resetX)\n",
    "\n",
    "start_index = 0\n",
    "stop_index = num_data_points\n",
    "\n",
    "fig.suptitle('Predicted Probabilities ' + sub_text + indices_to_time(start_index, stop_index), fontsize=20)\n",
    "\n",
    "axis[-1].set_xlim(0, num_data_points)\n",
    "\n",
    "\n",
    "# Plotting the actual classes (exercises) on the last axis:\n",
    "\n",
    "# dictionary to get exercise abbreviations from exercise names in timetable\n",
    "exercise_names = {'Raises Front':'RF',\n",
    "                  'Raises Oblique':'RO',\n",
    "                  'Raises Side':'RS',\n",
    "                  'Rotation Wrist':'LR',\n",
    "                  'Biceps Curls':'BC',\n",
    "                  'Triceps Curls':'TC',\n",
    "                  'Military Press':'MP',\n",
    "                  'Shoulder Adduct.':'SA',\n",
    "                  'PNF Diagonal 1':'P1',\n",
    "                  'PNF Diagonal 2':'P2'}\n",
    "\n",
    "# going through all exercises in the timetable\n",
    "for ii, ex_name in enumerate(timetable_data.values[:,0]):\n",
    "    \n",
    "    # going through all repetition blocks in the timetable (5, 10 and 15 rep. blocks)\n",
    "    for rep_col, start_col, stop_col in zip([1,2,3],[4,6,8],[5,7,9]): # corresponding columns\n",
    "        rep_num = timetable_data.values[ii,rep_col]\n",
    "        left_border = fmpm.convert_time_format_to_index(timetable_data.values[ii,start_col], \n",
    "                                                        sampling_rate=new_sampling_rate)\n",
    "        right_border = fmpm.convert_time_format_to_index(timetable_data.values[ii,stop_col], \n",
    "                                                         sampling_rate=new_sampling_rate)\n",
    "        # mark the corresponding area\n",
    "        axis[-1].axvspan(left_border, right_border, color='y', alpha=0.3, lw=0)\n",
    "        # write text to the corresponding area\n",
    "        x_center = left_border + (right_border-left_border)/2 # x center of marked area\n",
    "        axis[-1].text(x_center, 0.5, str(rep_num) + '\\n' + exercise_names[ex_name], \n",
    "                      horizontalalignment='center', verticalalignment='center', fontsize=10, clip_on=True)\n",
    "        \n",
    "axis[-1].set_ylabel('Actual classes', rotation=0, fontsize=11)\n",
    "axis[-1].yaxis.labelpad = 50\n",
    "\n",
    "plt.show()"
   ]
  },
  {
   "cell_type": "code",
   "execution_count": null,
   "metadata": {},
   "outputs": [],
   "source": []
  },
  {
   "cell_type": "code",
   "execution_count": null,
   "metadata": {},
   "outputs": [],
   "source": []
  },
  {
   "cell_type": "code",
   "execution_count": null,
   "metadata": {},
   "outputs": [],
   "source": []
  }
 ],
 "metadata": {
  "kernelspec": {
   "display_name": "Python 3",
   "language": "python",
   "name": "python3"
  },
  "language_info": {
   "codemirror_mode": {
    "name": "ipython",
    "version": 3
   },
   "file_extension": ".py",
   "mimetype": "text/x-python",
   "name": "python",
   "nbconvert_exporter": "python",
   "pygments_lexer": "ipython3",
   "version": "3.6.2"
  },
  "toc": {
   "base_numbering": 1,
   "nav_menu": {},
   "number_sections": true,
   "sideBar": true,
   "skip_h1_title": false,
   "title_cell": "Table of Contents",
   "title_sidebar": "Contents",
   "toc_cell": false,
   "toc_position": {
    "height": "calc(100% - 180px)",
    "left": "10px",
    "top": "150px",
    "width": "282px"
   },
   "toc_section_display": true,
   "toc_window_display": true
  }
 },
 "nbformat": 4,
 "nbformat_minor": 2
}
