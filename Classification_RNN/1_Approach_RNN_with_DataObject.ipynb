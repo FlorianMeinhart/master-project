{
 "cells": [
  {
   "cell_type": "markdown",
   "metadata": {},
   "source": [
    "# First Approach - Recurrent Neural Network"
   ]
  },
  {
   "cell_type": "code",
   "execution_count": 1,
   "metadata": {
    "ExecuteTime": {
     "end_time": "2019-01-17T10:18:31.205894Z",
     "start_time": "2019-01-17T10:18:11.220751Z"
    }
   },
   "outputs": [],
   "source": [
    "from IPython.display import clear_output\n",
    "from pivottablejs import pivot_ui\n",
    "from datetime import datetime\n",
    "import matplotlib.pyplot as plt\n",
    "import sqlite3\n",
    "import pandas as pd\n",
    "import numpy as np\n",
    "import os\n",
    "\n",
    "import sys\n",
    "sys.path.append('..') # in order to import modules from my own package\n",
    "from packageMeinhart import functionsMasterProjectMeinhart as fmpm\n",
    "from packageMeinhart.functionsMasterProjectMeinhart import print_precision_recall_accuracy\n",
    "from packageMeinhart.functionsMasterProjectMeinhart import print_misclassified_data_points"
   ]
  },
  {
   "cell_type": "markdown",
   "metadata": {},
   "source": [
    "## Class to handle data for RNN"
   ]
  },
  {
   "cell_type": "code",
   "execution_count": 2,
   "metadata": {
    "ExecuteTime": {
     "end_time": "2019-01-17T10:18:31.252897Z",
     "start_time": "2019-01-17T10:18:31.212895Z"
    }
   },
   "outputs": [],
   "source": [
    "def load_data_from_database(data_base_path='DataBase_Physio_with_nonEx.db'):\n",
    "    '''\n",
    "    Function to load the following data from data base:\n",
    "        - subject IDs\n",
    "        - exercise abbreviations\n",
    "        - number of repetitions\n",
    "        - sequence numbers\n",
    "        - start times\n",
    "        - stop times\n",
    "        - csv-file name\n",
    "    \n",
    "    Parameters\n",
    "    ----------\n",
    "    data_base_path : string\n",
    "        Path to data base.\n",
    "    \n",
    "    Returns\n",
    "    -------\n",
    "    DataFrame\n",
    "        DataFrame with the listet information (see above).\n",
    "    '''\n",
    "    # Connect to an existing database\n",
    "    conn = sqlite3.connect(data_base_path)\n",
    "    cur = conn.cursor()\n",
    "\n",
    "    # sql command to extract data\n",
    "    query_sql = \"\"\"\n",
    "        SELECT e.subject_id,\n",
    "        p.abbreviation,\n",
    "        e.num_rep,\n",
    "        r.sequence_num,\n",
    "        r.start_time, r.stop_time,\n",
    "        e.csv_file\n",
    "        FROM subjects s\n",
    "        INNER JOIN exercises e\n",
    "        ON s.id = e.subject_id\n",
    "        INNER JOIN paradigms p\n",
    "        ON p.id = e.paradigm_id\n",
    "        INNER JOIN repetitions r\n",
    "        ON e.id = r.exercise_id\n",
    "        \"\"\"\n",
    "    \n",
    "    # get data from data base and close connection\n",
    "    all_data_points_df = pd.read_sql_query(query_sql, conn)\n",
    "    conn.close()\n",
    "    \n",
    "    return all_data_points_df"
   ]
  },
  {
   "cell_type": "code",
   "execution_count": 3,
   "metadata": {
    "ExecuteTime": {
     "end_time": "2019-01-17T10:18:31.411906Z",
     "start_time": "2019-01-17T10:18:31.260897Z"
    }
   },
   "outputs": [],
   "source": [
    "def select_data_points_from_df(all_data_points_df,\n",
    "                               subject_ids=-1,\n",
    "                               subject_ids_complementary=[],\n",
    "                               reps=-1,\n",
    "                               abbrs=-1,\n",
    "                               with_non_Ex=True,\n",
    "                               sub_id_key='subject_id',\n",
    "                               num_rep_key='num_rep',\n",
    "                               abbreviation_key='abbreviation'):\n",
    "    '''\n",
    "    Function to select data points from a DataFrame based on subject IDs,\n",
    "    number of repetitions and exercise abbreviations.\n",
    "    \n",
    "    Parameters\n",
    "    ----------\n",
    "    all_data_points_df : pandas DataFrame\n",
    "        DataFrame with all data points.\n",
    "    \n",
    "    subject_ids : int or list\n",
    "        Subject IDs to select (e.g. [1, 2, 3]).\n",
    "        --> default -1: Select all subjects.\n",
    "        \n",
    "    subject_ids_complementary : int or list\n",
    "        If subject_ids is -1 --> select only subjects not in subject_ids_complementary.\n",
    "        \n",
    "    reps : int or list\n",
    "        Repetition numbers to select (e.g. [5, 10]).\n",
    "        --> default -1: Select all repetitions.\n",
    "        \n",
    "    abbrs : int or list\n",
    "        Exercise abbreviations to select (e.g. ['RF', 'SA']).\n",
    "        --> default -1: Select all exercise abbreviations.\n",
    "    \n",
    "    with_non_Ex : boolean\n",
    "        If False --> omit non exercise data (data points with zero repetitions).\n",
    "        \n",
    "    sub_id_key : string\n",
    "        Key of the DataFrame for subject IDs.\n",
    "        \n",
    "    num_rep_key : string\n",
    "        Key of the DataFrame for repetition numbers.\n",
    "        \n",
    "    abbreviation_key : string\n",
    "        Key of the DataFrame for exercise abbreviations.\n",
    "    \n",
    "    Returns\n",
    "    -------\n",
    "    DataFrame\n",
    "        DataFrame with selected data points.\n",
    "    '''\n",
    "    \n",
    "    data_points_df = all_data_points_df.copy()\n",
    "    \n",
    "    # select the subject IDs\n",
    "    if subject_ids is -1 and subject_ids_complementary:\n",
    "        if not isinstance(subject_ids_complementary, list): # if not list --> make list\n",
    "            subject_ids_complementary = [subject_ids_complementary]\n",
    "        data_points_df = data_points_df.loc[~data_points_df[sub_id_key].isin(subject_ids_complementary)]\n",
    "        \n",
    "    elif subject_ids is not -1:\n",
    "        if not isinstance(subject_ids, list): # if not list --> make list\n",
    "            subject_ids = [subject_ids]\n",
    "        data_points_df = data_points_df.loc[data_points_df[sub_id_key].isin(subject_ids)]\n",
    "\n",
    "    # select the repetition numbers\n",
    "    if reps is not -1:\n",
    "        if not isinstance(reps, list): # if not list --> make list\n",
    "            reps = [reps]\n",
    "        if with_non_Ex is True:\n",
    "            reps.append(0) # zero repetitions correspond to non exercise data\n",
    "        data_points_df = data_points_df.loc[data_points_df[num_rep_key].isin(reps)]\n",
    "\n",
    "    elif with_non_Ex is False:\n",
    "        data_points_df = data_points_df.loc[data_points_df[num_rep_key] != 0]\n",
    "        \n",
    "    # select the exercise abbreviations\n",
    "    if abbrs is not -1:\n",
    "        if not isinstance(abbrs, list): # if not list --> make list\n",
    "            abbrs = [abbrs]\n",
    "        data_points_df = data_points_df.loc[data_points_df[abbreviation_key].isin(abbrs)]\n",
    "\n",
    "    return data_points_df"
   ]
  },
  {
   "cell_type": "code",
   "execution_count": 4,
   "metadata": {
    "ExecuteTime": {
     "end_time": "2019-01-17T10:18:31.615918Z",
     "start_time": "2019-01-17T10:18:31.414906Z"
    }
   },
   "outputs": [],
   "source": [
    "def print_progress_func(current_num, max_num, prev_prog, add_info=None):\n",
    "    '''\n",
    "    Function to print progress [%] in a loop.\n",
    "    \n",
    "    Parameters\n",
    "    ----------\n",
    "    current_num : int\n",
    "        Number of the current run in a loop.\n",
    "        \n",
    "    max_num : int\n",
    "        Maximum number of runs in a loop.\n",
    "        \n",
    "    prev_prog : int\n",
    "        Previous progress, to print only if necessary.\n",
    "        \n",
    "    add_info : str\n",
    "        Additional information to print instead of \"Progress\".\n",
    "    \n",
    "    Returns\n",
    "    -------\n",
    "    int\n",
    "        Previous progress, important for next run.\n",
    "    '''\n",
    "    new_prog = int(current_num/max_num*100)\n",
    "    \n",
    "    if new_prog > prev_prog:\n",
    "        clear_output(wait=True)\n",
    "        \n",
    "        if isinstance(add_info, str):\n",
    "            print(add_info + ' {:3d}%'.format(new_prog))\n",
    "        else:\n",
    "            print('Progress: {:3d}%'.format(new_prog))\n",
    "        \n",
    "    return new_prog"
   ]
  },
  {
   "cell_type": "code",
   "execution_count": 5,
   "metadata": {
    "ExecuteTime": {
     "end_time": "2019-01-17T10:18:32.090945Z",
     "start_time": "2019-01-17T10:18:31.623918Z"
    }
   },
   "outputs": [],
   "source": [
    "def generate_sequences_from_separate_repetitions(data_points_df,\n",
    "                   max_sequence_length=6,\n",
    "                   orig_sampling_rate=256,\n",
    "                   new_sampling_rate=8,\n",
    "                   cutoff=10,\n",
    "                   order=6,\n",
    "                   csv_data_dir='E:\\Physio_Data_Split_Ex_and_NonEx',\n",
    "                   csv_skiprows=0,\n",
    "                   csv_separator=',',\n",
    "                   signal_abbrs=['Acc','Gyr'],\n",
    "                   signal_orientations=['x','y','z'],\n",
    "                   labels_abbr2num_dict={'RF':0,'RO':1,'RS':2,'LR':3,'BC':4,'TC':5,'MP':6,'SA':7,'P1':8,'P2':9,'NE':10},\n",
    "                   abbreviation_key='abbreviation',\n",
    "                   start_time_key='start_time',\n",
    "                   stop_time_key='stop_time',\n",
    "                   csv_file_key='csv_file',\n",
    "                   print_progress=True,\n",
    "                   progress_info='Generate sequences...'):\n",
    "    '''\n",
    "    Function to generate sequences from separate repetitions, changing the sampling rate\n",
    "    and saving them to a tensor.\n",
    "    \n",
    "    Parameters\n",
    "    ----------\n",
    "    data_points_df : DataFrame\n",
    "        DataFrame with information about data points (see load_data_from_database()).\n",
    "        \n",
    "    max_sequence_length : int or float\n",
    "        Maximum sequence length to consider in seconds.\n",
    "        \n",
    "    orig_sampling_rate : int or float\n",
    "        Original sampling rate of the signals in Hz.\n",
    "        \n",
    "    new_sampling_rate : int or float\n",
    "        New sampling rate of the signals in Hz.\n",
    "        \n",
    "    cutoff : int or float\n",
    "        Cutoff frequency for filtering.\n",
    "    \n",
    "    order : int\n",
    "        Order of butterworth filter.\n",
    "        \n",
    "    csv_data_dir : string\n",
    "        Directory of signal data csv-files.\n",
    "        \n",
    "    csv_skiprows : int\n",
    "        Number of rows to skip for signal data csv-files.\n",
    "        \n",
    "    csv_separator : string\n",
    "        Separator for signal data csv-files.\n",
    "        \n",
    "    signal_abbrs : list of strings\n",
    "        Abbreviations of the signals (e.g. ['Acc','Gyr']).\n",
    "    \n",
    "    signal_orientations : list of strings\n",
    "        Orientations of the signals (e.g. ['x','y','z']).\n",
    "        \n",
    "    labels_abbr2num_dict : dict\n",
    "        Dictionary to convert exercise abbreviations to number (e.g. ={'RF':0,'RO':1,'RS':2, ... }).\n",
    "    \n",
    "    abbreviation_key : strings\n",
    "        Exercise abbreviation key for DataFrame which contains data base entries.\n",
    "        \n",
    "    start_time_key : strings\n",
    "        Start time key for DataFrame which contains data base entries.\n",
    "        \n",
    "    stop_time_key : strings\n",
    "        Stop time key for DataFrame which contains data base entries.\n",
    "        \n",
    "    csv_file_key : strings\n",
    "        csv-file key for DataFrame which contains data base entries.\n",
    "        \n",
    "    print_progress : boolean\n",
    "        If True --> print progress at signal sequences generation.\n",
    "        \n",
    "    progress_info : strings\n",
    "        Additional information to print with progress.\n",
    "        \n",
    "    \n",
    "    Returns\n",
    "    -------\n",
    "    X_all, y_all, seqlens_all\n",
    "        \n",
    "        X_all ... tensor with signal sequences (dimensions: [number of data points, \n",
    "                                                             max sequence length, \n",
    "                                                             number of signals])\n",
    "        y_all ... array with labels\n",
    "        seqlens_all ... array with sequence lengths\n",
    "    '''\n",
    "    \n",
    "    # max index of new sequences\n",
    "    max_sequ_index = max_sequence_length * new_sampling_rate\n",
    "    \n",
    "    # number of signals (Acc: x, y, z; Gyr: x, y, z --> 6 signals)\n",
    "    num_signals = len(signal_abbrs) * len(signal_orientations)\n",
    "    \n",
    "    # number to exercise-abbreviations dict\n",
    "    labels_num2abbr_dict = {num: abbr for abbr, num in labels_abbr2num_dict.items()}\n",
    "                                                   \n",
    "    # create array for labels\n",
    "    y_all = np.zeros(len(data_points_df), dtype=np.int8)\n",
    "    \n",
    "    # create tensor for sequences\n",
    "    X_all = np.zeros((len(data_points_df), max_sequ_index, num_signals))\n",
    "    \n",
    "    # create matrix for sequence lengths\n",
    "    seqlens_all = np.zeros(len(data_points_df), dtype=np.int)\n",
    "    \n",
    "    # sampling rate ratio of original and new sampling rate (e.g. if ratio = 32 --> take every 32nd index)\n",
    "    sampling_rate_ratio = orig_sampling_rate / new_sampling_rate\n",
    "\n",
    "    # location counter for the sequence tensor\n",
    "    loc_count = 0\n",
    "\n",
    "    # variables for progress printing\n",
    "    if print_progress:\n",
    "        prog_count = 0\n",
    "        max_count = len(data_points_df.csv_file.unique()) # number of unique csv-files\n",
    "        prev_progress = 0 # previous progress\n",
    "\n",
    "    # going through all csv-files (unique --> only once for each file)\n",
    "    for current_csv_file in data_points_df.csv_file.unique():\n",
    "\n",
    "        # join file path\n",
    "        file_path = os.path.join(csv_data_dir, current_csv_file)\n",
    "\n",
    "        # load the signal data of the current file\n",
    "        selected_data_df = pd.read_csv(file_path, skiprows=csv_skiprows, sep=csv_separator)\n",
    "        \n",
    "        # write data with selected signals to dict\n",
    "        selected_data = {}\n",
    "        for sig in signal_abbrs:\n",
    "            selected_data[sig] = selected_data_df.filter(regex=sig+'*').values\n",
    "            \n",
    "        # filter data with butterworth filter and save to new dictionary\n",
    "        selected_data_filt = {}\n",
    "        for sig in signal_abbrs:\n",
    "            selected_data_filt[sig] = fmpm.butter_lowpass_filter(selected_data[sig], \n",
    "                                                                 cutoff=cutoff, \n",
    "                                                                 fs=orig_sampling_rate, \n",
    "                                                                 order=order)\n",
    "    \n",
    "        # data frame with all repetitions of the current file\n",
    "        current_data_points = data_points_df.loc[data_points_df[csv_file_key] == current_csv_file]\n",
    "\n",
    "        # going through all repetitions of the current file\n",
    "        for ii in range(len(current_data_points)):\n",
    "            \n",
    "            # get start and stop indices of current data point (current repetition)\n",
    "            start_time = float(current_data_points.reset_index().loc[ii, start_time_key])\n",
    "            stop_time = float(current_data_points.reset_index().loc[ii, stop_time_key])\n",
    "            start_idx = round(start_time * orig_sampling_rate)\n",
    "            stop_idx = round(stop_time * orig_sampling_rate)\n",
    "\n",
    "            # consider the new sampling rate for signal data selection\n",
    "            new_indices = np.arange(start_idx, stop_idx, sampling_rate_ratio).round().astype(int)\n",
    "            \n",
    "            # check if array of new indices is longer than max_sequ_index\n",
    "            if len(new_indices) > max_sequ_index:\n",
    "                new_indices = new_indices[:max_sequ_index] # take only that much indices\n",
    "            \n",
    "            # add current sequences with new sampling rate\n",
    "            for kk, sig in enumerate(signal_abbrs):\n",
    "                for ll in range(len(signal_orientations)):\n",
    "                    # explanation: X_all[index_of_current_data_point, \n",
    "                    #                    select_all_until_length_of_new_signal_data, \n",
    "                    #                    index_of_current_signal (0...5)]\n",
    "                    X_all[loc_count,:len(new_indices),kk*len(signal_orientations)+ll] = \\\n",
    "                        selected_data_filt[sig][new_indices,ll]\n",
    "\n",
    "            # add current label\n",
    "            current_ex_abbr = current_data_points.reset_index().loc[ii,abbreviation_key]\n",
    "            y_all[loc_count] = labels_abbr2num_dict[current_ex_abbr]\n",
    "            \n",
    "            # add current sequence length\n",
    "            seqlens_all[loc_count] = len(new_indices)\n",
    "\n",
    "            loc_count += 1\n",
    "\n",
    "        # print progress of feauture generation\n",
    "        if print_progress:\n",
    "            prog_count += 1\n",
    "            prev_progress = print_progress_func(prog_count, max_count, prev_progress, add_info=progress_info)\n",
    "    \n",
    "    if print_progress:\n",
    "        clear_output()\n",
    "    \n",
    "    return X_all, y_all, seqlens_all"
   ]
  },
  {
   "cell_type": "code",
   "execution_count": 6,
   "metadata": {
    "ExecuteTime": {
     "end_time": "2019-01-17T10:18:32.488968Z",
     "start_time": "2019-01-17T10:18:32.094945Z"
    }
   },
   "outputs": [],
   "source": [
    "def generate_sequences_from_repetition_blocks(data_points_df,\n",
    "                   max_sequence_length=80,\n",
    "                   orig_sampling_rate=256,\n",
    "                   new_sampling_rate=8,\n",
    "                   cutoff=10,\n",
    "                   order=6,\n",
    "                   csv_data_dir='E:\\Physio_Data_Split_Ex_and_NonEx',\n",
    "                   csv_skiprows=0,\n",
    "                   csv_separator=',',\n",
    "                   signal_abbrs=['Acc','Gyr'],\n",
    "                   signal_orientations=['x','y','z'],\n",
    "                   labels_abbr2num_dict={'RF':0,'RO':1,'RS':2,'LR':3,'BC':4,'TC':5,'MP':6,'SA':7,'P1':8,'P2':9,'NE':10},\n",
    "                   abbreviation_key='abbreviation',\n",
    "                   csv_file_key='csv_file',\n",
    "                   print_progress=True,\n",
    "                   progress_info='Generate sequences...'):\n",
    "    '''\n",
    "    Function to generate sequences from whole repetition blocks, changing the sampling rate\n",
    "    and saving them to a tensor.\n",
    "    \n",
    "    Parameters\n",
    "    ----------\n",
    "    data_points_df : DataFrame\n",
    "        DataFrame with information about data points (see load_data_from_database()).\n",
    "        \n",
    "    max_sequence_length : int or float\n",
    "        Maximum sequence length to consider in seconds.\n",
    "        \n",
    "    orig_sampling_rate : int or float\n",
    "        Original sampling rate of the signals in Hz.\n",
    "        \n",
    "    new_sampling_rate : int or float\n",
    "        New sampling rate of the signals in Hz.\n",
    "        \n",
    "    cutoff : int or float\n",
    "        Cutoff frequency for filtering.\n",
    "    \n",
    "    order : int\n",
    "        Order of butterworth filter.\n",
    "        \n",
    "    csv_data_dir : string\n",
    "        Directory of signal data csv-files.\n",
    "        \n",
    "    csv_skiprows : int\n",
    "        Number of rows to skip for signal data csv-files.\n",
    "        \n",
    "    csv_separator : string\n",
    "        Separator for signal data csv-files.\n",
    "        \n",
    "    signal_abbrs : list of strings\n",
    "        Abbreviations of the signals (e.g. ['Acc','Gyr']).\n",
    "    \n",
    "    signal_orientations : list of strings\n",
    "        Orientations of the signals (e.g. ['x','y','z']).\n",
    "        \n",
    "    labels_abbr2num_dict : dict\n",
    "        Dictionary to convert exercise abbreviations to number (e.g. ={'RF':0,'RO':1,'RS':2, ... }).\n",
    "    \n",
    "    abbreviation_key : strings\n",
    "        Exercise abbreviation key for DataFrame which contains data base entries.\n",
    "        \n",
    "    csv_file_key : strings\n",
    "        csv-file key for DataFrame which contains data base entries.\n",
    "        \n",
    "    print_progress : boolean\n",
    "        If True --> print progress at signal sequences generation.\n",
    "        \n",
    "    progress_info : strings\n",
    "        Additional information to print with progress.\n",
    "        \n",
    "    \n",
    "    Returns\n",
    "    -------\n",
    "    X_all, y_all, seqlens_all\n",
    "        \n",
    "        X_all ... tensor with signal sequences (dimensions: [number of data points, \n",
    "                                                             max sequence length, \n",
    "                                                             number of signals])\n",
    "        y_all ... array with labels\n",
    "        seqlens_all ... array with sequence lengths\n",
    "    '''\n",
    "    \n",
    "    # max index of new sequences\n",
    "    max_sequ_index = max_sequence_length * new_sampling_rate\n",
    "    \n",
    "    # number of signals (Acc: x, y, z; Gyr: x, y, z --> 6 signals)\n",
    "    num_signals = len(signal_abbrs) * len(signal_orientations)\n",
    "    \n",
    "    # number to exercise-abbreviations dict\n",
    "    labels_num2abbr_dict = {num: abbr for abbr, num in labels_abbr2num_dict.items()}\n",
    "    \n",
    "    # every csv-file is one repetition block --> one data point\n",
    "    csv_files_unique = data_points_df.csv_file.unique()\n",
    "    \n",
    "    # create array for labels\n",
    "    y_all = np.zeros(len(csv_files_unique), dtype=np.int8)\n",
    "    \n",
    "    # create tensor for sequences\n",
    "    X_all = np.zeros((len(csv_files_unique), max_sequ_index, num_signals))\n",
    "    \n",
    "    # create matrix for sequence lengths\n",
    "    seqlens_all = np.zeros(len(csv_files_unique), dtype=np.int)\n",
    "    \n",
    "    # sampling rate ratio of original and new sampling rate (e.g. if ratio = 32 --> take every 32nd index)\n",
    "    sampling_rate_ratio = orig_sampling_rate / new_sampling_rate\n",
    "\n",
    "    # location counter for the sequence tensor\n",
    "    loc_count = 0\n",
    "\n",
    "    # variables for progress printing\n",
    "    if print_progress:\n",
    "        prog_count = 0\n",
    "        max_count = len(csv_files_unique) # number of unique csv-files\n",
    "        prev_progress = 0 # previous progress\n",
    "\n",
    "    # going through all csv-files (unique --> only once for each file)\n",
    "    for current_csv_file in csv_files_unique:\n",
    "\n",
    "        # join file path\n",
    "        file_path = os.path.join(csv_data_dir, current_csv_file)\n",
    "\n",
    "        # load the signal data of the current file\n",
    "        selected_data_df = pd.read_csv(file_path, skiprows=csv_skiprows, sep=csv_separator)\n",
    "        \n",
    "        # write data with selected signals to dict\n",
    "        selected_data = {}\n",
    "        for sig in signal_abbrs:\n",
    "            selected_data[sig] = selected_data_df.filter(regex=sig+'*').values\n",
    "            \n",
    "        # filter data with butterworth filter and save to new dictionary\n",
    "        selected_data_filt = {}\n",
    "        for sig in signal_abbrs:\n",
    "            selected_data_filt[sig] = fmpm.butter_lowpass_filter(selected_data[sig], \n",
    "                                                                 cutoff=cutoff, \n",
    "                                                                 fs=orig_sampling_rate, \n",
    "                                                                 order=order)\n",
    "            \n",
    "        # start and stop indices of current data point (current repetition block)\n",
    "        start_idx = 0\n",
    "        # all signal columns must have the same length\n",
    "        stop_idx = len(selected_data_filt[signal_abbrs[0]][:,0])\n",
    "\n",
    "        # consider the new sampling rate for signal data selection\n",
    "        new_indices = np.arange(start_idx, stop_idx, sampling_rate_ratio).round().astype(int)\n",
    "            \n",
    "        # check if array of new indices is longer than max_sequ_index\n",
    "        if len(new_indices) > max_sequ_index:\n",
    "            new_indices = new_indices[:max_sequ_index] # take only that much indices\n",
    "            \n",
    "        # add current sequences with new sampling rate\n",
    "        for kk, sig in enumerate(signal_abbrs):\n",
    "            for ll in range(len(signal_orientations)):\n",
    "                # explanation: X_all[index_of_current_data_point, \n",
    "                #                    select_all_until_length_of_new_signal_data, \n",
    "                #                    index_of_current_signal (0...5)]\n",
    "                X_all[loc_count,:len(new_indices),kk*len(signal_orientations)+ll] = \\\n",
    "                    selected_data_filt[sig][new_indices,ll]\n",
    "\n",
    "        # add current label\n",
    "        # data frame with all repetitions of the current file\n",
    "        current_data_points = data_points_df.loc[data_points_df[csv_file_key] == current_csv_file]\n",
    "        current_ex_abbr = current_data_points.reset_index().loc[0,abbreviation_key]\n",
    "        y_all[loc_count] = labels_abbr2num_dict[current_ex_abbr]\n",
    "            \n",
    "        # add current sequence length\n",
    "        seqlens_all[loc_count] = len(new_indices)\n",
    "\n",
    "        loc_count += 1\n",
    "\n",
    "        # print progress of feauture generation\n",
    "        if print_progress:\n",
    "            prog_count += 1\n",
    "            prev_progress = print_progress_func(prog_count, max_count, prev_progress, add_info=progress_info)\n",
    "    \n",
    "    if print_progress:\n",
    "        clear_output()\n",
    "    \n",
    "    return X_all, y_all, seqlens_all"
   ]
  },
  {
   "cell_type": "code",
   "execution_count": 7,
   "metadata": {
    "ExecuteTime": {
     "end_time": "2019-01-17T10:18:33.069001Z",
     "start_time": "2019-01-17T10:18:32.492968Z"
    }
   },
   "outputs": [],
   "source": [
    "class PhysioData_RNN():\n",
    "    '''\n",
    "    Class to handle signal data for RNN.\n",
    "    \n",
    "    Detailed description follows ...\n",
    "    \n",
    "    For now: look at docstrings of the following functions:\n",
    "        - load_data_from_database()\n",
    "        - select_data_points_from_df()\n",
    "        - generate_sequences_from_separate_repetitions()\n",
    "        - generate_sequences_from_repetition_blocks()\n",
    "    \n",
    "    '''\n",
    "    def __init__(self,\n",
    "                 test_subject_ids=-1,\n",
    "                 train_subject_ids=-1,\n",
    "                 test_rep_nums=-1,\n",
    "                 train_rep_nums=-1,\n",
    "                 test_ex_abbrs=-1,\n",
    "                 train_ex_abbrs=-1,\n",
    "                 with_non_Ex=True,\n",
    "                 max_sequence_length_testing=6,\n",
    "                 max_sequence_length_training=6,\n",
    "                 orig_sampling_rate=256,\n",
    "                 new_sampling_rate=8,\n",
    "                 whole_rep_blocks_as_data_points_for_testing=False,\n",
    "                 whole_rep_blocks_as_data_points_for_training=False,\n",
    "                 cutoff=10,\n",
    "                 order=6,\n",
    "                 csv_data_dir='E:\\Physio_Data_Split_Ex_and_NonEx',\n",
    "                 csv_skiprows=0,\n",
    "                 csv_separator=',',\n",
    "                 data_base_path='E:\\Physio_Data\\DataBase_Physio_with_nonEx.db',\n",
    "                 print_progress=True,\n",
    "                 signal_abbrs=['Acc','Gyr'],\n",
    "                 signal_orientations=['x','y','z'],\n",
    "                 labels_abbr2num_dict={'RF':0,'RO':1,'RS':2,'LR':3,'BC':4,'TC':5,'MP':6,'SA':7,'P1':8,'P2':9,'NE':10},\n",
    "                 sub_id_key='subject_id',\n",
    "                 num_rep_key='num_rep',\n",
    "                 abbreviation_key='abbreviation',\n",
    "                 start_time_key='start_time',\n",
    "                 stop_time_key='stop_time',\n",
    "                 csv_file_key='csv_file'):\n",
    "        \n",
    "        # load all data from data points\n",
    "        self.all_data_points_df = load_data_from_database(data_base_path)\n",
    "        \n",
    "        # load data points for testing\n",
    "        self.test_data_points_df =  select_data_points_from_df(self.all_data_points_df,\n",
    "                                                               subject_ids=test_subject_ids,\n",
    "                                                               subject_ids_complementary=[],\n",
    "                                                               reps=test_rep_nums,\n",
    "                                                               abbrs=test_ex_abbrs,\n",
    "                                                               with_non_Ex=with_non_Ex,\n",
    "                                                               sub_id_key=sub_id_key,\n",
    "                                                               num_rep_key=num_rep_key,\n",
    "                                                               abbreviation_key=abbreviation_key)\n",
    "        \n",
    "        # load data points for training\n",
    "        self.train_data_points_df = select_data_points_from_df(self.all_data_points_df,\n",
    "                                                               subject_ids=train_subject_ids,\n",
    "                                                               subject_ids_complementary=test_subject_ids,\n",
    "                                                               reps=train_rep_nums,\n",
    "                                                               abbrs=train_ex_abbrs,\n",
    "                                                               with_non_Ex=with_non_Ex,\n",
    "                                                               sub_id_key=sub_id_key,\n",
    "                                                               num_rep_key=num_rep_key,\n",
    "                                                               abbreviation_key=abbreviation_key)\n",
    "        \n",
    "        # take whole repetition blocks as data points for testing\n",
    "        if whole_rep_blocks_as_data_points_for_testing is True:\n",
    "            \n",
    "            # generate sequences for testing\n",
    "            self.X_test, self.y_test, self.seqlens_test = generate_sequences_from_repetition_blocks(\n",
    "                                                                   self.test_data_points_df,\n",
    "                                                                   max_sequence_length=max_sequence_length_testing,\n",
    "                                                                   orig_sampling_rate=orig_sampling_rate,\n",
    "                                                                   new_sampling_rate=new_sampling_rate,\n",
    "                                                                   cutoff=cutoff,\n",
    "                                                                   order=order,\n",
    "                                                                   csv_data_dir=csv_data_dir,\n",
    "                                                                   csv_skiprows=csv_skiprows,\n",
    "                                                                   csv_separator=csv_separator,\n",
    "                                                                   signal_abbrs=signal_abbrs,\n",
    "                                                                   signal_orientations=signal_orientations,\n",
    "                                                                   labels_abbr2num_dict=labels_abbr2num_dict,\n",
    "                                                                   abbreviation_key=abbreviation_key,\n",
    "                                                                   csv_file_key=csv_file_key,\n",
    "                                                                   print_progress=print_progress,\n",
    "                                                                   progress_info='Generate sequences for testing...')\n",
    "        \n",
    "        # take single repetitions as data points for testing\n",
    "        else:\n",
    "            \n",
    "            # generate sequences for testing\n",
    "            self.X_test, self.y_test, self.seqlens_test = generate_sequences_from_separate_repetitions(\n",
    "                                                                   self.test_data_points_df,\n",
    "                                                                   max_sequence_length=max_sequence_length_testing,\n",
    "                                                                   orig_sampling_rate=orig_sampling_rate,\n",
    "                                                                   new_sampling_rate=new_sampling_rate,\n",
    "                                                                   cutoff=cutoff,\n",
    "                                                                   order=order,\n",
    "                                                                   csv_data_dir=csv_data_dir,\n",
    "                                                                   csv_skiprows=csv_skiprows,\n",
    "                                                                   csv_separator=csv_separator,\n",
    "                                                                   signal_abbrs=signal_abbrs,\n",
    "                                                                   signal_orientations=signal_orientations,\n",
    "                                                                   labels_abbr2num_dict=labels_abbr2num_dict,\n",
    "                                                                   abbreviation_key=abbreviation_key,\n",
    "                                                                   start_time_key=start_time_key,\n",
    "                                                                   stop_time_key=stop_time_key,\n",
    "                                                                   csv_file_key=csv_file_key,\n",
    "                                                                   print_progress=print_progress,\n",
    "                                                                   progress_info='Generate sequences for testing...')\n",
    "            \n",
    "        # take whole repetition blocks as data points for training\n",
    "        if whole_rep_blocks_as_data_points_for_training is True:\n",
    "\n",
    "            # generate sequences for training\n",
    "            self.X_train, self.y_train, self.seqlens_train = generate_sequences_from_repetition_blocks(\n",
    "                                                                   self.train_data_points_df,\n",
    "                                                                   max_sequence_length=max_sequence_length_training,\n",
    "                                                                   orig_sampling_rate=orig_sampling_rate,\n",
    "                                                                   new_sampling_rate=new_sampling_rate,\n",
    "                                                                   cutoff=cutoff,\n",
    "                                                                   order=order,\n",
    "                                                                   csv_data_dir=csv_data_dir,\n",
    "                                                                   csv_skiprows=csv_skiprows,\n",
    "                                                                   csv_separator=csv_separator,\n",
    "                                                                   signal_abbrs=signal_abbrs,\n",
    "                                                                   signal_orientations=signal_orientations,\n",
    "                                                                   labels_abbr2num_dict=labels_abbr2num_dict,\n",
    "                                                                   abbreviation_key=abbreviation_key,\n",
    "                                                                   csv_file_key=csv_file_key,\n",
    "                                                                   print_progress=print_progress,\n",
    "                                                                   progress_info='Generate sequences for training...')\n",
    "            \n",
    "        # take single repetitions as data points for training\n",
    "        else:\n",
    "\n",
    "            # generate sequences for training\n",
    "            self.X_train, self.y_train, self.seqlens_train = generate_sequences_from_separate_repetitions(\n",
    "                                                                   self.train_data_points_df,\n",
    "                                                                   max_sequence_length=max_sequence_length_training,\n",
    "                                                                   orig_sampling_rate=orig_sampling_rate,\n",
    "                                                                   new_sampling_rate=new_sampling_rate,\n",
    "                                                                   cutoff=cutoff,\n",
    "                                                                   order=order,\n",
    "                                                                   csv_data_dir=csv_data_dir,\n",
    "                                                                   csv_skiprows=csv_skiprows,\n",
    "                                                                   csv_separator=csv_separator,\n",
    "                                                                   signal_abbrs=signal_abbrs,\n",
    "                                                                   signal_orientations=signal_orientations,\n",
    "                                                                   labels_abbr2num_dict=labels_abbr2num_dict,\n",
    "                                                                   abbreviation_key=abbreviation_key,\n",
    "                                                                   start_time_key=start_time_key,\n",
    "                                                                   stop_time_key=stop_time_key,\n",
    "                                                                   csv_file_key=csv_file_key,\n",
    "                                                                   print_progress=print_progress,\n",
    "                                                                   progress_info='Generate sequences for training...')\n",
    "    \n",
    "    \n",
    "    def get_train_batch(self, batch_size):\n",
    "        '''\n",
    "        Method to get batch with randomly selected training data.\n",
    "        \n",
    "        Parameters\n",
    "        ----------\n",
    "        batch_size : int\n",
    "            Number of data points in batch.\n",
    "\n",
    "        Returns\n",
    "        -------\n",
    "        X_train_batch, y_train_batch, seqlens_train_batch\n",
    "        '''\n",
    "        \n",
    "        instance_indices = list(range(len(self.y_train))) # list with all train indices\n",
    "        np.random.shuffle(instance_indices) # shuffle the train indices\n",
    "        batch_indices = instance_indices[:batch_size] # randomly select train indices\n",
    "    \n",
    "        # select batch data with corresponding indices\n",
    "        X_train_batch = np.array(self.X_train)[batch_indices]\n",
    "        y_train_batch = self.y_train[batch_indices]\n",
    "        seqlens_train_batch = np.array(self.seqlens_train)[batch_indices]\n",
    "\n",
    "        return X_train_batch, y_train_batch, seqlens_train_batch\n",
    "\n",
    "    \n",
    "    # methods to get data\n",
    "    def get_X_test(self):\n",
    "        return self.X_test\n",
    "    \n",
    "    def get_y_test(self):\n",
    "        return self.y_test\n",
    "    \n",
    "    def get_seqlens_test(self):\n",
    "        return self.seqlens_test\n",
    "    \n",
    "    def get_X_train(self):\n",
    "        return self.X_train\n",
    "    \n",
    "    def get_y_train(self):\n",
    "        return self.y_train\n",
    "    \n",
    "    def get_sequlens_train(self):\n",
    "        return self.sequlens_train\n",
    "    \n",
    "    \n",
    "    # methods to get data points (DataFrames)\n",
    "    def get_test_data_points(self):\n",
    "        return self.test_data_points_df\n",
    "    \n",
    "    def get_train_data_points(self):\n",
    "        return self.train_data_points_df\n",
    "    \n",
    "    def get_all_data_points(self):\n",
    "        return self.all_data_points_df\n"
   ]
  },
  {
   "cell_type": "markdown",
   "metadata": {},
   "source": [
    "### Create instance of the class *PhysioData_RNN*"
   ]
  },
  {
   "cell_type": "code",
   "execution_count": 8,
   "metadata": {
    "ExecuteTime": {
     "end_time": "2019-01-17T10:19:22.244814Z",
     "start_time": "2019-01-17T10:18:33.073001Z"
    }
   },
   "outputs": [],
   "source": [
    "PD_RNN1 = PhysioData_RNN(test_subject_ids=1,\n",
    "                         max_sequence_length_testing=6,\n",
    "                         max_sequence_length_training=6,\n",
    "                         whole_rep_blocks_as_data_points_for_testing=False,\n",
    "                         whole_rep_blocks_as_data_points_for_training=False)"
   ]
  },
  {
   "cell_type": "code",
   "execution_count": 9,
   "metadata": {
    "ExecuteTime": {
     "end_time": "2019-01-17T10:19:22.270815Z",
     "start_time": "2019-01-17T10:19:22.249814Z"
    }
   },
   "outputs": [
    {
     "data": {
      "text/plain": [
       "(709, 48, 6)"
      ]
     },
     "execution_count": 9,
     "metadata": {},
     "output_type": "execute_result"
    }
   ],
   "source": [
    "np.shape(PD_RNN1.get_X_test())"
   ]
  },
  {
   "cell_type": "code",
   "execution_count": 10,
   "metadata": {
    "ExecuteTime": {
     "end_time": "2019-01-17T10:19:22.431824Z",
     "start_time": "2019-01-17T10:19:22.275815Z"
    }
   },
   "outputs": [
    {
     "data": {
      "text/plain": [
       "(6120, 48, 6)"
      ]
     },
     "execution_count": 10,
     "metadata": {},
     "output_type": "execute_result"
    }
   ],
   "source": [
    "np.shape(PD_RNN1.get_X_train())"
   ]
  },
  {
   "cell_type": "code",
   "execution_count": 11,
   "metadata": {
    "ExecuteTime": {
     "end_time": "2019-01-17T10:19:22.622835Z",
     "start_time": "2019-01-17T10:19:22.436825Z"
    },
    "scrolled": true
   },
   "outputs": [
    {
     "data": {
      "text/plain": [
       "array([[-8.85008976e-01,  3.73013764e-01,  2.24020535e-01,\n",
       "         1.21751042e+01,  1.52829258e+00,  9.10124605e+00],\n",
       "       [-9.04367908e-01,  8.26654823e-01,  3.67851136e-01,\n",
       "        -1.01565373e+01,  5.38131320e+00,  7.39012265e+01],\n",
       "       [-1.01528357e+00,  1.07474501e+00,  3.88348309e-01,\n",
       "        -2.42753698e+01, -2.82604112e+01,  1.39737623e+02],\n",
       "       [-1.03430703e+00,  1.15137975e+00,  2.56821977e-01,\n",
       "         1.23076905e+01, -3.72862596e+01,  1.91338412e+02],\n",
       "       [-6.34748614e-01,  9.63927847e-01,  2.02384178e-01,\n",
       "        -7.54283377e+00, -3.91051296e+01,  1.58483358e+02],\n",
       "       [-2.93779369e-01,  7.57520082e-01,  2.75981183e-01,\n",
       "        -5.35511185e+00, -2.56590433e+01,  1.41178164e+02],\n",
       "       [ 1.04911864e-01,  5.41331501e-01,  2.45186189e-01,\n",
       "         4.44534291e+00, -1.63078708e+01,  1.13614763e+02],\n",
       "       [ 4.32216915e-01,  4.15494757e-01,  2.65919449e-01,\n",
       "         1.68503415e+00, -2.25416173e+00,  6.80021935e+01],\n",
       "       [ 6.11687397e-01,  4.31368824e-01,  2.80606846e-01,\n",
       "        -1.46211643e+01, -3.62546694e+00,  1.43849657e+01],\n",
       "       [ 6.21065955e-01,  5.10839768e-01,  3.34571072e-01,\n",
       "         2.23573633e+00,  1.75674248e+00, -4.89205622e-02],\n",
       "       [ 5.76487955e-01,  4.50268683e-01,  3.27837728e-01,\n",
       "        -1.50772590e+00,  2.06181750e+00, -1.68996313e+01],\n",
       "       [ 4.09856906e-01,  3.94621483e-01,  2.27177439e-01,\n",
       "         3.95772234e+00,  2.69890721e+00, -6.31377488e+01],\n",
       "       [ 1.60316970e-01,  5.17148631e-01,  2.94741576e-01,\n",
       "        -2.82360611e+01,  2.85425109e+01, -1.19222601e+02],\n",
       "       [-1.91762490e-01,  7.73961019e-01,  3.24831739e-01,\n",
       "         2.83235200e+01,  2.91210772e+01, -1.39990128e+02],\n",
       "       [-5.50248195e-01,  1.01577925e+00,  3.24931914e-01,\n",
       "         8.48018451e+00,  1.93014588e+01, -1.57620844e+02],\n",
       "       [-9.05278854e-01,  9.07200894e-01,  3.87678549e-01,\n",
       "        -2.45637713e+01,  2.33728910e+01, -1.54579808e+02],\n",
       "       [-1.06081757e+00,  8.50847948e-01,  3.23734638e-01,\n",
       "        -7.80314506e+00,  2.77927524e+01, -1.22591467e+02],\n",
       "       [-9.83693089e-01,  7.31427570e-01,  3.45395706e-01,\n",
       "         3.35026007e+01,  1.54412798e+01, -1.12633149e+02],\n",
       "       [-1.03250496e+00,  4.24830007e-01,  3.33556145e-01,\n",
       "        -1.44286634e+01,  2.42460802e+01, -4.55003833e+01],\n",
       "       [-8.73047459e-01,  3.91488597e-01,  2.36033804e-01,\n",
       "         2.69888523e+01,  8.09433261e+00, -1.69945675e+01],\n",
       "       [-9.44795597e-01,  2.54712710e-01,  2.17821080e-01,\n",
       "         5.63878809e+00,  2.21768665e+00, -3.30126554e+00],\n",
       "       [ 0.00000000e+00,  0.00000000e+00,  0.00000000e+00,\n",
       "         0.00000000e+00,  0.00000000e+00,  0.00000000e+00],\n",
       "       [ 0.00000000e+00,  0.00000000e+00,  0.00000000e+00,\n",
       "         0.00000000e+00,  0.00000000e+00,  0.00000000e+00],\n",
       "       [ 0.00000000e+00,  0.00000000e+00,  0.00000000e+00,\n",
       "         0.00000000e+00,  0.00000000e+00,  0.00000000e+00],\n",
       "       [ 0.00000000e+00,  0.00000000e+00,  0.00000000e+00,\n",
       "         0.00000000e+00,  0.00000000e+00,  0.00000000e+00],\n",
       "       [ 0.00000000e+00,  0.00000000e+00,  0.00000000e+00,\n",
       "         0.00000000e+00,  0.00000000e+00,  0.00000000e+00],\n",
       "       [ 0.00000000e+00,  0.00000000e+00,  0.00000000e+00,\n",
       "         0.00000000e+00,  0.00000000e+00,  0.00000000e+00],\n",
       "       [ 0.00000000e+00,  0.00000000e+00,  0.00000000e+00,\n",
       "         0.00000000e+00,  0.00000000e+00,  0.00000000e+00],\n",
       "       [ 0.00000000e+00,  0.00000000e+00,  0.00000000e+00,\n",
       "         0.00000000e+00,  0.00000000e+00,  0.00000000e+00],\n",
       "       [ 0.00000000e+00,  0.00000000e+00,  0.00000000e+00,\n",
       "         0.00000000e+00,  0.00000000e+00,  0.00000000e+00],\n",
       "       [ 0.00000000e+00,  0.00000000e+00,  0.00000000e+00,\n",
       "         0.00000000e+00,  0.00000000e+00,  0.00000000e+00],\n",
       "       [ 0.00000000e+00,  0.00000000e+00,  0.00000000e+00,\n",
       "         0.00000000e+00,  0.00000000e+00,  0.00000000e+00],\n",
       "       [ 0.00000000e+00,  0.00000000e+00,  0.00000000e+00,\n",
       "         0.00000000e+00,  0.00000000e+00,  0.00000000e+00],\n",
       "       [ 0.00000000e+00,  0.00000000e+00,  0.00000000e+00,\n",
       "         0.00000000e+00,  0.00000000e+00,  0.00000000e+00],\n",
       "       [ 0.00000000e+00,  0.00000000e+00,  0.00000000e+00,\n",
       "         0.00000000e+00,  0.00000000e+00,  0.00000000e+00],\n",
       "       [ 0.00000000e+00,  0.00000000e+00,  0.00000000e+00,\n",
       "         0.00000000e+00,  0.00000000e+00,  0.00000000e+00],\n",
       "       [ 0.00000000e+00,  0.00000000e+00,  0.00000000e+00,\n",
       "         0.00000000e+00,  0.00000000e+00,  0.00000000e+00],\n",
       "       [ 0.00000000e+00,  0.00000000e+00,  0.00000000e+00,\n",
       "         0.00000000e+00,  0.00000000e+00,  0.00000000e+00],\n",
       "       [ 0.00000000e+00,  0.00000000e+00,  0.00000000e+00,\n",
       "         0.00000000e+00,  0.00000000e+00,  0.00000000e+00],\n",
       "       [ 0.00000000e+00,  0.00000000e+00,  0.00000000e+00,\n",
       "         0.00000000e+00,  0.00000000e+00,  0.00000000e+00],\n",
       "       [ 0.00000000e+00,  0.00000000e+00,  0.00000000e+00,\n",
       "         0.00000000e+00,  0.00000000e+00,  0.00000000e+00],\n",
       "       [ 0.00000000e+00,  0.00000000e+00,  0.00000000e+00,\n",
       "         0.00000000e+00,  0.00000000e+00,  0.00000000e+00],\n",
       "       [ 0.00000000e+00,  0.00000000e+00,  0.00000000e+00,\n",
       "         0.00000000e+00,  0.00000000e+00,  0.00000000e+00],\n",
       "       [ 0.00000000e+00,  0.00000000e+00,  0.00000000e+00,\n",
       "         0.00000000e+00,  0.00000000e+00,  0.00000000e+00],\n",
       "       [ 0.00000000e+00,  0.00000000e+00,  0.00000000e+00,\n",
       "         0.00000000e+00,  0.00000000e+00,  0.00000000e+00],\n",
       "       [ 0.00000000e+00,  0.00000000e+00,  0.00000000e+00,\n",
       "         0.00000000e+00,  0.00000000e+00,  0.00000000e+00],\n",
       "       [ 0.00000000e+00,  0.00000000e+00,  0.00000000e+00,\n",
       "         0.00000000e+00,  0.00000000e+00,  0.00000000e+00],\n",
       "       [ 0.00000000e+00,  0.00000000e+00,  0.00000000e+00,\n",
       "         0.00000000e+00,  0.00000000e+00,  0.00000000e+00]])"
      ]
     },
     "execution_count": 11,
     "metadata": {},
     "output_type": "execute_result"
    }
   ],
   "source": [
    "PD_RNN1.get_X_test()[0]"
   ]
  },
  {
   "cell_type": "code",
   "execution_count": 12,
   "metadata": {
    "ExecuteTime": {
     "end_time": "2019-01-17T10:19:22.795845Z",
     "start_time": "2019-01-17T10:19:22.630836Z"
    }
   },
   "outputs": [
    {
     "data": {
      "text/plain": [
       "0"
      ]
     },
     "execution_count": 12,
     "metadata": {},
     "output_type": "execute_result"
    }
   ],
   "source": [
    "PD_RNN1.get_y_test()[0]"
   ]
  },
  {
   "cell_type": "code",
   "execution_count": 13,
   "metadata": {
    "ExecuteTime": {
     "end_time": "2019-01-17T10:19:22.951854Z",
     "start_time": "2019-01-17T10:19:22.800845Z"
    }
   },
   "outputs": [
    {
     "data": {
      "text/plain": [
       "21"
      ]
     },
     "execution_count": 13,
     "metadata": {},
     "output_type": "execute_result"
    }
   ],
   "source": [
    "PD_RNN1.get_seqlens_test()[0]"
   ]
  },
  {
   "cell_type": "code",
   "execution_count": 14,
   "metadata": {
    "ExecuteTime": {
     "end_time": "2019-01-17T10:19:23.152866Z",
     "start_time": "2019-01-17T10:19:22.965855Z"
    }
   },
   "outputs": [],
   "source": [
    "X_train_batch, y_train_batch, seqlens_train_batch = PD_RNN1.get_train_batch(batch_size=5)"
   ]
  },
  {
   "cell_type": "code",
   "execution_count": 15,
   "metadata": {
    "ExecuteTime": {
     "end_time": "2019-01-17T10:19:23.316875Z",
     "start_time": "2019-01-17T10:19:23.163866Z"
    }
   },
   "outputs": [
    {
     "data": {
      "text/plain": [
       "(5, 48, 6)"
      ]
     },
     "execution_count": 15,
     "metadata": {},
     "output_type": "execute_result"
    }
   ],
   "source": [
    "np.shape(X_train_batch)"
   ]
  },
  {
   "cell_type": "code",
   "execution_count": 16,
   "metadata": {
    "ExecuteTime": {
     "end_time": "2019-01-17T10:19:23.468884Z",
     "start_time": "2019-01-17T10:19:23.324875Z"
    }
   },
   "outputs": [
    {
     "data": {
      "text/plain": [
       "array([10, 10,  9, 10, 10], dtype=int8)"
      ]
     },
     "execution_count": 16,
     "metadata": {},
     "output_type": "execute_result"
    }
   ],
   "source": [
    "y_train_batch"
   ]
  },
  {
   "cell_type": "code",
   "execution_count": 17,
   "metadata": {
    "ExecuteTime": {
     "end_time": "2019-01-17T10:19:23.618892Z",
     "start_time": "2019-01-17T10:19:23.483884Z"
    }
   },
   "outputs": [
    {
     "data": {
      "text/plain": [
       "array([22, 24, 21, 25, 10])"
      ]
     },
     "execution_count": 17,
     "metadata": {},
     "output_type": "execute_result"
    }
   ],
   "source": [
    "seqlens_train_batch"
   ]
  },
  {
   "cell_type": "code",
   "execution_count": 18,
   "metadata": {
    "ExecuteTime": {
     "end_time": "2019-01-17T10:19:24.315932Z",
     "start_time": "2019-01-17T10:19:23.626893Z"
    }
   },
   "outputs": [
    {
     "data": {
      "image/png": "[encoded data removed]",
      "text/plain": [
       "<Figure size 432x288 with 1 Axes>"
      ]
     },
     "metadata": {},
     "output_type": "display_data"
    }
   ],
   "source": [
    "plt.plot(X_train_batch[0,:,:]);"
   ]
  },
  {
   "cell_type": "code",
   "execution_count": 19,
   "metadata": {
    "ExecuteTime": {
     "end_time": "2019-01-17T10:19:24.598948Z",
     "start_time": "2019-01-17T10:19:24.320932Z"
    }
   },
   "outputs": [
    {
     "data": {
      "image/png": "[encoded data removed]",
      "text/plain": [
       "<Figure size 432x288 with 1 Axes>"
      ]
     },
     "metadata": {},
     "output_type": "display_data"
    }
   ],
   "source": [
    "plt.plot(PD_RNN1.get_X_test()[0,:,:]);"
   ]
  },
  {
   "cell_type": "markdown",
   "metadata": {},
   "source": [
    "## Building a Recurrent Neural Network with *TensorFlow*"
   ]
  },
  {
   "cell_type": "code",
   "execution_count": 20,
   "metadata": {
    "ExecuteTime": {
     "end_time": "2019-01-17T10:19:34.709527Z",
     "start_time": "2019-01-17T10:19:24.606949Z"
    }
   },
   "outputs": [
    {
     "name": "stderr",
     "output_type": "stream",
     "text": [
      "E:\\Programme\\WinPython-64bit-3.6.2.0Qt5\\python-3.6.2.amd64\\lib\\site-packages\\h5py\\__init__.py:36: FutureWarning: Conversion of the second argument of issubdtype from `float` to `np.floating` is deprecated. In future, it will be treated as `np.float64 == np.dtype(float).type`.\n",
      "  from ._conv import register_converters as _register_converters\n"
     ]
    }
   ],
   "source": [
    "import tensorflow as tf"
   ]
  },
  {
   "cell_type": "code",
   "execution_count": 70,
   "metadata": {
    "ExecuteTime": {
     "end_time": "2019-01-17T11:14:57.092556Z",
     "start_time": "2019-01-17T11:14:57.080555Z"
    }
   },
   "outputs": [
    {
     "name": "stdout",
     "output_type": "stream",
     "text": [
      "tensorboard --logdir=E:\\Jupyter_Notebooks\\Master_Project_Meinhart_git\\logs\\RNN_with_summaries\n"
     ]
    }
   ],
   "source": [
    "# directory to save TensorBoard model summaries\n",
    "LOG_DIR_ALL = 'E:\\Jupyter_Notebooks\\Master_Project_Meinhart_git\\logs\\RNN_with_summaries'\n",
    "\n",
    "# run the command:\n",
    "print('tensorboard --logdir=' + LOG_DIR_ALL)\n",
    "\n",
    "#  --> open http://FlorianMeinhart:6006"
   ]
  },
  {
   "cell_type": "code",
   "execution_count": 78,
   "metadata": {
    "ExecuteTime": {
     "end_time": "2019-01-17T11:16:24.437552Z",
     "start_time": "2019-01-17T11:16:24.423551Z"
    }
   },
   "outputs": [],
   "source": [
    "# define parameters for RNN\n",
    "num_signals = 6 # number of signals (Acc: x, y, z; Gyr: x, y, z)\n",
    "num_classes = 11 # number of classes\n",
    "batch_size = 200 # number of data points for each batch\n",
    "time_steps = None # --> dynamic_rnn\n",
    "hidden_layer_size_rnn = 128 # number of neurons in the hidden layer of the RNN\n",
    "num_steps = 501 # number of steps for training"
   ]
  },
  {
   "cell_type": "code",
   "execution_count": 79,
   "metadata": {
    "ExecuteTime": {
     "end_time": "2019-01-17T11:16:24.818574Z",
     "start_time": "2019-01-17T11:16:24.811573Z"
    }
   },
   "outputs": [],
   "source": [
    "# get time in order to append corresponding string to log directory\n",
    "now = datetime.now()\n",
    "LOG_DIR_TRAIN = LOG_DIR_ALL + now.strftime('\\%Y%m%d-%H%M%S' + '_train')\n",
    "LOG_DIR_TEST = LOG_DIR_ALL + now.strftime('\\%Y%m%d-%H%M%S' + '_test')"
   ]
  },
  {
   "cell_type": "code",
   "execution_count": 80,
   "metadata": {
    "ExecuteTime": {
     "end_time": "2019-01-17T11:16:25.816631Z",
     "start_time": "2019-01-17T11:16:25.331603Z"
    }
   },
   "outputs": [],
   "source": [
    "# create new tensorflow graph\n",
    "tf.reset_default_graph()\n",
    "\n",
    "with tf.name_scope('data'):\n",
    "    inputs = tf.placeholder(tf.float32, shape=[None, time_steps, num_signals], name='inputs')\n",
    "    labels = tf.placeholder(tf.int32, shape=[None, num_classes], name='labels')\n",
    "    seqlens = tf.placeholder(tf.int32, shape=[None], name='seqlens')\n",
    "\n",
    "with tf.name_scope('RNN_layer'):\n",
    "    rnn_cell = tf.nn.rnn_cell.BasicRNNCell(hidden_layer_size_rnn)\n",
    "    #rnn_cell = tf.nn.rnn_cell.BasicLSTMCell(hidden_layer_size_rnn)\n",
    "    outputs, states = tf.nn.dynamic_rnn(rnn_cell, inputs, sequence_length=seqlens, dtype=tf.float32)\n",
    "\n",
    "with tf.name_scope('linear_layer'):\n",
    "    W1 = tf.Variable(tf.truncated_normal([hidden_layer_size_rnn, num_classes], mean=0, stddev=0.1),\n",
    "                     name='weights_linear')\n",
    "    b1 = tf.Variable(tf.truncated_normal([num_classes], mean=0, stddev=0.1),\n",
    "                     name='biases_linear')\n",
    "    final_output = tf.matmul(states, W1) + b1\n",
    "    #final_output = tf.matmul(states[0], W1) + b1\n",
    "    \n",
    "    final_output_all_states = tf.matmul(tf.reshape(outputs, [-1, hidden_layer_size_rnn]), W1) + b1\n",
    "    \n",
    "    softmax = tf.nn.softmax_cross_entropy_with_logits_v2(logits=final_output, labels=labels)\n",
    "    cross_entropy = tf.reduce_mean(softmax)\n",
    "    tf.summary.scalar('cross_entropy', cross_entropy)\n",
    "\n",
    "\n",
    "train_step = tf.train.RMSPropOptimizer(0.001, 0.9).minimize(cross_entropy)\n",
    "#train_step = tf.train.AdamOptimizer(0.001).minimize(cross_entropy)\n",
    "\n",
    "with tf.name_scope('evaluation'):\n",
    "    correct_prediction = tf.equal(tf.argmax(labels,1), tf.argmax(final_output,1), name='correct_prediction')\n",
    "    accuracy = (tf.reduce_mean(tf.cast(correct_prediction, tf.float32)))*100\n",
    "    pred_prob = tf.nn.softmax(logits=final_output, name='predicted_probabilities')\n",
    "    pred_prob_all_states = tf.nn.softmax(logits=final_output_all_states, name='predicted_probabilities_all_states')\n",
    "    tf.summary.scalar('accuracy', accuracy)\n",
    "\n",
    "\n",
    "# merge summaries and create summary writers for training and testing\n",
    "merged = tf.summary.merge_all()\n",
    "train_writer = tf.summary.FileWriter(LOG_DIR_TRAIN)\n",
    "test_writer = tf.summary.FileWriter(LOG_DIR_TEST) "
   ]
  },
  {
   "cell_type": "code",
   "execution_count": 81,
   "metadata": {
    "ExecuteTime": {
     "end_time": "2019-01-17T11:16:26.423665Z",
     "start_time": "2019-01-17T11:16:26.403664Z"
    }
   },
   "outputs": [],
   "source": [
    "def one_hot(labels, num_classes):\n",
    "    '''\n",
    "    Convert lables to one-hot format.\n",
    "\n",
    "    Parameters\n",
    "    ----------\n",
    "    labels : array or list of integers\n",
    "        --> e.g. [0, 1, 4, 2, 0]\n",
    "        \n",
    "    num_classes : int\n",
    "        Number of classes.\n",
    "        (Has to be >= max(labels))\n",
    "\n",
    "    Returns\n",
    "    -------\n",
    "    matrix\n",
    "        Lables in one-hot format.\n",
    "    \n",
    "        --> e.g.\n",
    "              [[1., 0., 0., 0., 0.],\n",
    "               [0., 1., 0., 0., 0.],\n",
    "               [0., 0., 0., 0., 1.],\n",
    "               [0., 0., 1., 0., 0.],\n",
    "               [1., 0., 0., 0., 0.]]\n",
    "    '''\n",
    "    n = len(labels)\n",
    "    labels_one_hot = np.zeros((n, num_classes))\n",
    "    labels_one_hot[range(n), labels] = 1\n",
    "    return labels_one_hot"
   ]
  },
  {
   "cell_type": "code",
   "execution_count": 83,
   "metadata": {
    "ExecuteTime": {
     "end_time": "2019-01-17T11:18:32.510877Z",
     "start_time": "2019-01-17T11:17:35.318606Z"
    },
    "scrolled": true
   },
   "outputs": [
    {
     "name": "stdout",
     "output_type": "stream",
     "text": [
      "Accuracy at step 0\n",
      "\tTrain Set: 4.500\n",
      "\tTest Set:  5.078\n",
      "Accuracy at step 20\n",
      "\tTrain Set: 6.000\n",
      "\tTest Set:  5.924\n",
      "Accuracy at step 40\n",
      "\tTrain Set: 11.500\n",
      "\tTest Set:  12.412\n",
      "Accuracy at step 60\n",
      "\tTrain Set: 24.500\n",
      "\tTest Set:  22.567\n",
      "Accuracy at step 80\n",
      "\tTrain Set: 41.500\n",
      "\tTest Set:  38.223\n",
      "Accuracy at step 100\n",
      "\tTrain Set: 59.000\n",
      "\tTest Set:  48.237\n",
      "Accuracy at step 120\n",
      "\tTrain Set: 66.500\n",
      "\tTest Set:  55.994\n",
      "Accuracy at step 140\n",
      "\tTrain Set: 79.000\n",
      "\tTest Set:  63.188\n",
      "Accuracy at step 160\n",
      "\tTrain Set: 82.000\n",
      "\tTest Set:  73.202\n",
      "Accuracy at step 180\n",
      "\tTrain Set: 83.500\n",
      "\tTest Set:  76.446\n",
      "Accuracy at step 200\n",
      "\tTrain Set: 86.500\n",
      "\tTest Set:  82.511\n",
      "Accuracy at step 220\n",
      "\tTrain Set: 90.500\n",
      "\tTest Set:  84.203\n",
      "Accuracy at step 240\n",
      "\tTrain Set: 88.500\n",
      "\tTest Set:  83.780\n",
      "Accuracy at step 260\n",
      "\tTrain Set: 91.500\n",
      "\tTest Set:  90.550\n",
      "Accuracy at step 280\n",
      "\tTrain Set: 95.000\n",
      "\tTest Set:  87.870\n",
      "Accuracy at step 300\n",
      "\tTrain Set: 93.000\n",
      "\tTest Set:  90.832\n",
      "Accuracy at step 320\n",
      "\tTrain Set: 94.000\n",
      "\tTest Set:  91.819\n",
      "Accuracy at step 340\n",
      "\tTrain Set: 92.500\n",
      "\tTest Set:  91.396\n",
      "Accuracy at step 360\n",
      "\tTrain Set: 95.000\n",
      "\tTest Set:  92.807\n",
      "Accuracy at step 380\n",
      "\tTrain Set: 96.000\n",
      "\tTest Set:  92.666\n",
      "Accuracy at step 400\n",
      "\tTrain Set: 98.000\n",
      "\tTest Set:  92.666\n",
      "Accuracy at step 420\n",
      "\tTrain Set: 98.000\n",
      "\tTest Set:  93.794\n",
      "Accuracy at step 440\n",
      "\tTrain Set: 96.000\n",
      "\tTest Set:  91.114\n",
      "Accuracy at step 460\n",
      "\tTrain Set: 99.000\n",
      "\tTest Set:  92.807\n",
      "Accuracy at step 480\n",
      "\tTrain Set: 94.500\n",
      "\tTest Set:  93.371\n",
      "Accuracy at step 500\n",
      "\tTrain Set: 95.000\n",
      "\tTest Set:  92.666\n"
     ]
    }
   ],
   "source": [
    "# open a session for the created graph\n",
    "with tf.Session() as sess:\n",
    "    sess.run(tf.global_variables_initializer())\n",
    "    train_writer.add_graph(sess.graph)\n",
    "    test_writer.add_graph(sess.graph)\n",
    "    \n",
    "    # get test labels in one-hot format\n",
    "    y_test_all_one_hot = one_hot(PD_RNN1.get_y_test(), num_classes)\n",
    "    \n",
    "    # get sequence tensor for testing and corresponding sequence lengths\n",
    "    X_test_all = PD_RNN1.get_X_test()\n",
    "    seqlens_test_all = PD_RNN1.get_seqlens_test()\n",
    "    \n",
    "    # train the RNN with a defined number of steps\n",
    "    for step in range(num_steps):\n",
    "        # get batch data\n",
    "        x_batch, y_batch, seqlens_batch = PD_RNN1.get_train_batch(batch_size)\n",
    "        \n",
    "        # get batch labels in one-hot format\n",
    "        y_batch_one_hot = one_hot(y_batch, num_classes)\n",
    "        \n",
    "        # run the session\n",
    "        sess.run(train_step, feed_dict={inputs:x_batch, labels:y_batch_one_hot, seqlens:seqlens_batch})\n",
    "        \n",
    "        # evaluate the RNN every 20 steps\n",
    "        if step % 20 == 0:\n",
    "            summary_train, accuracy_train = sess.run([merged, accuracy], \n",
    "                                                      feed_dict={inputs:x_batch, \n",
    "                                                                 labels:y_batch_one_hot, \n",
    "                                                                 seqlens:seqlens_batch})\n",
    "            print('Accuracy at step {}'.format(step))\n",
    "            print('\\tTrain Set: {:.3f}'.format(accuracy_train))\n",
    "            \n",
    "            # write to train summary\n",
    "            train_writer.add_summary(summary_train, step)\n",
    "    \n",
    "            summary_test, pred_prob_test, pred_prob_test_all, pred_test, accuracy_test = sess.run([merged, pred_prob,\n",
    "                                                        pred_prob_all_states, tf.argmax(final_output,1), accuracy],\n",
    "                                                        feed_dict={inputs:X_test_all, \n",
    "                                                                   labels:y_test_all_one_hot, \n",
    "                                                                   seqlens:seqlens_test_all})\n",
    "            # write to test summary\n",
    "            test_writer.add_summary(summary_test, step)\n",
    "    \n",
    "            print('\\tTest Set:  {:.3f}'.format(accuracy_test))\n",
    "    \n",
    "    # Creates a saver.\n",
    "    saver = tf.train.Saver()\n",
    "    saver.save(sess, 'E:/TensorFlow_saved_models/final-RNN-model/RNN-model-1')\n",
    "    # Generates MetaGraphDef.\n",
    "    saver.export_meta_graph('E:/TensorFlow_saved_models/final-RNN-model/RNN-model-1.meta')\n"
   ]
  },
  {
   "cell_type": "markdown",
   "metadata": {},
   "source": [
    "### Evaluate the results"
   ]
  },
  {
   "cell_type": "code",
   "execution_count": 84,
   "metadata": {
    "ExecuteTime": {
     "end_time": "2019-01-17T11:18:32.631884Z",
     "start_time": "2019-01-17T11:18:32.517878Z"
    }
   },
   "outputs": [
    {
     "name": "stdout",
     "output_type": "stream",
     "text": [
      "Exercise\tPrecision [%]\tRecall [%]\tAccuracy [%]\n",
      "  RF\t\t   72.73\t   80.00\t   97.88\n",
      "  RO\t\t   83.33\t   66.67\t   98.03\n",
      "  RS\t\t   63.64\t   93.33\t   97.46\n",
      "  LR\t\t  100.00\t   83.33\t   99.29\n",
      "  BC\t\t  100.00\t  100.00\t  100.00\n",
      "  TC\t\t  100.00\t  100.00\t  100.00\n",
      "  MP\t\t   71.43\t  100.00\t   98.31\n",
      "  SA\t\t  100.00\t  100.00\t  100.00\n",
      "  P1\t\t   93.75\t  100.00\t   99.72\n",
      "  P2\t\t   77.27\t   56.67\t   97.46\n",
      "  NE\t\t   98.99\t   96.07\t   97.18\n"
     ]
    }
   ],
   "source": [
    "print_precision_recall_accuracy(pred_test, PD_RNN1.get_y_test())"
   ]
  },
  {
   "cell_type": "code",
   "execution_count": 85,
   "metadata": {
    "ExecuteTime": {
     "end_time": "2019-01-17T11:18:32.709889Z",
     "start_time": "2019-01-17T11:18:32.639885Z"
    }
   },
   "outputs": [
    {
     "name": "stdout",
     "output_type": "stream",
     "text": [
      "52 misclassified (709 test data points):\n",
      "RF classified as RO\n",
      "RF classified as RO\n",
      "RF classified as NE\n",
      "RF classified as NE\n",
      "RF classified as NE\n",
      "RF classified as RO\n",
      "RO classified as RF\n",
      "RO classified as RF\n",
      "RO classified as RF\n",
      "RO classified as RF\n",
      "RO classified as RF\n",
      "RO classified as RF\n",
      "RO classified as RF\n",
      "RO classified as P2\n",
      "RO classified as RF\n",
      "RO classified as RF\n",
      "RS classified as P2\n",
      "RS classified as P2\n",
      "LR classified as P2\n",
      "LR classified as RS\n",
      "LR classified as RS\n",
      "LR classified as RS\n",
      "LR classified as RS\n",
      "P2 classified as RS\n",
      "P2 classified as RS\n",
      "P2 classified as RS\n",
      "P2 classified as NE\n",
      "P2 classified as RS\n",
      "P2 classified as RS\n",
      "P2 classified as RS\n",
      "P2 classified as RS\n",
      "P2 classified as RS\n",
      "P2 classified as RS\n",
      "P2 classified as RS\n",
      "P2 classified as RS\n",
      "P2 classified as RS\n",
      "NE classified as P1\n",
      "NE classified as P2\n",
      "NE classified as P1\n",
      "NE classified as MP\n",
      "NE classified as RO\n",
      "NE classified as MP\n",
      "NE classified as MP\n",
      "NE classified as MP\n",
      "NE classified as MP\n",
      "NE classified as MP\n",
      "NE classified as MP\n",
      "NE classified as MP\n",
      "NE classified as MP\n",
      "NE classified as MP\n",
      "NE classified as MP\n",
      "NE classified as MP\n"
     ]
    }
   ],
   "source": [
    "print_misclassified_data_points(pred_test, PD_RNN1.get_y_test())"
   ]
  },
  {
   "cell_type": "code",
   "execution_count": 86,
   "metadata": {
    "ExecuteTime": {
     "end_time": "2019-01-17T11:18:32.834896Z",
     "start_time": "2019-01-17T11:18:32.714889Z"
    }
   },
   "outputs": [
    {
     "data": {
      "text/plain": [
       "(709, 11)"
      ]
     },
     "execution_count": 86,
     "metadata": {},
     "output_type": "execute_result"
    }
   ],
   "source": [
    "np.shape(pred_prob_test)"
   ]
  },
  {
   "cell_type": "code",
   "execution_count": 36,
   "metadata": {
    "ExecuteTime": {
     "end_time": "2019-01-17T10:27:07.910448Z",
     "start_time": "2019-01-17T10:27:07.899448Z"
    }
   },
   "outputs": [
    {
     "data": {
      "text/plain": [
       "(34032, 11)"
      ]
     },
     "execution_count": 36,
     "metadata": {},
     "output_type": "execute_result"
    }
   ],
   "source": [
    "np.shape(pred_prob_test_all)"
   ]
  },
  {
   "cell_type": "code",
   "execution_count": 37,
   "metadata": {
    "ExecuteTime": {
     "end_time": "2019-01-17T10:27:22.267269Z",
     "start_time": "2019-01-17T10:27:22.257269Z"
    }
   },
   "outputs": [
    {
     "data": {
      "text/plain": [
       "48.0"
      ]
     },
     "execution_count": 37,
     "metadata": {},
     "output_type": "execute_result"
    }
   ],
   "source": [
    "34032 / 709"
   ]
  },
  {
   "cell_type": "code",
   "execution_count": 87,
   "metadata": {
    "ExecuteTime": {
     "end_time": "2019-01-17T11:18:53.288066Z",
     "start_time": "2019-01-17T11:18:53.273065Z"
    }
   },
   "outputs": [
    {
     "data": {
      "text/plain": [
       "array([3.33352685e-02, 5.88605506e-03, 1.43565959e-03, 9.18540230e-04,\n",
       "       3.12320801e-04, 2.33897867e-04, 2.42774055e-04, 1.19158176e-04,\n",
       "       4.62466669e-05, 1.97774880e-05, 1.48325917e-05, 1.39828830e-04,\n",
       "       7.41108903e-04, 2.31879554e-03, 5.67759247e-03, 6.94634719e-03,\n",
       "       2.20084451e-02, 6.32349253e-02, 2.81843156e-01, 4.30037707e-01,\n",
       "       6.52841568e-01, 8.74998271e-02, 8.74998271e-02, 8.74998271e-02,\n",
       "       8.74998271e-02, 8.74998271e-02, 8.74998271e-02, 8.74998271e-02,\n",
       "       8.74998271e-02, 8.74998271e-02, 8.74998271e-02, 8.74998271e-02,\n",
       "       8.74998271e-02, 8.74998271e-02, 8.74998271e-02, 8.74998271e-02,\n",
       "       8.74998271e-02, 8.74998271e-02, 8.74998271e-02, 8.74998271e-02,\n",
       "       8.74998271e-02, 8.74998271e-02, 8.74998271e-02, 8.74998271e-02,\n",
       "       8.74998271e-02, 8.74998271e-02, 8.74998271e-02, 8.74998271e-02],\n",
       "      dtype=float32)"
      ]
     },
     "execution_count": 87,
     "metadata": {},
     "output_type": "execute_result"
    }
   ],
   "source": [
    "pred_prob_test_all[0:48,0] # first 48 rows belong to the first data point"
   ]
  },
  {
   "cell_type": "code",
   "execution_count": 88,
   "metadata": {
    "ExecuteTime": {
     "end_time": "2019-01-17T11:18:58.346355Z",
     "start_time": "2019-01-17T11:18:58.331354Z"
    }
   },
   "outputs": [
    {
     "data": {
      "text/plain": [
       "21"
      ]
     },
     "execution_count": 88,
     "metadata": {},
     "output_type": "execute_result"
    }
   ],
   "source": [
    "PD_RNN1.get_seqlens_test()[0]"
   ]
  },
  {
   "cell_type": "code",
   "execution_count": 104,
   "metadata": {
    "ExecuteTime": {
     "end_time": "2019-01-17T11:23:26.783709Z",
     "start_time": "2019-01-17T11:23:26.743706Z"
    }
   },
   "outputs": [
    {
     "data": {
      "text/plain": [
       "0.65284157"
      ]
     },
     "execution_count": 104,
     "metadata": {},
     "output_type": "execute_result"
    }
   ],
   "source": [
    "pred_prob_test_all[PD_RNN1.get_seqlens_test()[0]-1,0]"
   ]
  },
  {
   "cell_type": "code",
   "execution_count": 106,
   "metadata": {
    "ExecuteTime": {
     "end_time": "2019-01-17T11:25:48.840834Z",
     "start_time": "2019-01-17T11:25:48.826833Z"
    }
   },
   "outputs": [
    {
     "data": {
      "text/plain": [
       "0.65284157"
      ]
     },
     "execution_count": 106,
     "metadata": {},
     "output_type": "execute_result"
    }
   ],
   "source": [
    "pred_prob_test[0,0]"
   ]
  },
  {
   "cell_type": "code",
   "execution_count": 108,
   "metadata": {
    "ExecuteTime": {
     "end_time": "2019-01-17T11:26:08.040932Z",
     "start_time": "2019-01-17T11:26:08.028931Z"
    }
   },
   "outputs": [
    {
     "data": {
      "text/plain": [
       "0"
      ]
     },
     "execution_count": 108,
     "metadata": {},
     "output_type": "execute_result"
    }
   ],
   "source": [
    "pred_test[0]"
   ]
  },
  {
   "cell_type": "code",
   "execution_count": null,
   "metadata": {},
   "outputs": [],
   "source": []
  },
  {
   "cell_type": "code",
   "execution_count": null,
   "metadata": {},
   "outputs": [],
   "source": []
  },
  {
   "cell_type": "code",
   "execution_count": null,
   "metadata": {},
   "outputs": [],
   "source": []
  },
  {
   "cell_type": "code",
   "execution_count": null,
   "metadata": {},
   "outputs": [],
   "source": []
  },
  {
   "cell_type": "code",
   "execution_count": 90,
   "metadata": {
    "ExecuteTime": {
     "end_time": "2019-01-17T11:19:07.903902Z",
     "start_time": "2019-01-17T11:19:06.063796Z"
    }
   },
   "outputs": [
    {
     "name": "stdout",
     "output_type": "stream",
     "text": [
      "Predicted probabilities [%] for the different exercises:\n",
      "\n",
      "Ex. 0\tEx. 1\tEx. 2\tEx. 3\tEx. 4\tEx. 5\tEx. 6\tEx. 7\tEx. 8\tEx. 9\tEx. 10\tpred. class\n",
      "65.28\t33.22\t0.01\t0.00\t0.02\t0.00\t0.01\t0.26\t0.01\t0.79\t0.39\t--> 0\n",
      "51.89\t12.39\t0.02\t0.02\t0.05\t0.00\t0.29\t5.73\t0.05\t4.69\t24.87\t--> 0\n",
      "71.07\t9.62\t0.03\t0.01\t0.02\t0.00\t0.09\t3.02\t0.24\t1.62\t14.28\t--> 0\n",
      "39.66\t48.21\t0.02\t0.02\t0.07\t0.00\t0.04\t1.13\t0.01\t5.17\t5.69\t--> 1\n",
      "31.11\t64.66\t0.02\t0.01\t0.09\t0.00\t0.02\t0.48\t0.01\t3.00\t0.60\t--> 1\n",
      "77.14\t21.82\t0.00\t0.01\t0.05\t0.00\t0.01\t0.42\t0.02\t0.47\t0.07\t--> 0\n",
      "8.12\t17.27\t0.59\t0.05\t0.08\t0.00\t0.15\t0.19\t0.02\t15.55\t57.97\t--> 10\n",
      "76.06\t22.52\t0.00\t0.00\t0.03\t0.00\t0.01\t0.38\t0.01\t0.82\t0.17\t--> 0\n",
      "76.01\t18.75\t0.00\t0.01\t0.05\t0.00\t0.02\t2.40\t0.02\t1.15\t1.59\t--> 0\n",
      "69.84\t24.35\t0.01\t0.01\t0.05\t0.00\t0.03\t1.36\t0.03\t1.19\t3.13\t--> 0\n",
      "86.39\t4.02\t0.01\t0.01\t0.02\t0.00\t0.04\t1.83\t0.05\t0.62\t7.02\t--> 0\n",
      "76.04\t6.46\t0.02\t0.01\t0.04\t0.00\t0.23\t3.37\t0.14\t2.60\t11.10\t--> 0\n",
      "70.12\t26.55\t0.00\t0.00\t0.03\t0.00\t0.02\t0.83\t0.01\t1.10\t1.33\t--> 0\n",
      "65.91\t22.73\t0.01\t0.01\t0.13\t0.00\t0.06\t4.00\t0.03\t2.97\t4.14\t--> 0\n",
      "70.57\t13.32\t0.00\t0.01\t0.03\t0.00\t0.07\t2.95\t0.02\t2.62\t10.40\t--> 0\n",
      "77.09\t20.29\t0.01\t0.01\t0.03\t0.00\t0.03\t0.69\t0.02\t0.83\t1.01\t--> 0\n",
      "72.87\t25.00\t0.00\t0.01\t0.02\t0.00\t0.01\t0.91\t0.01\t0.66\t0.51\t--> 0\n",
      "72.15\t26.37\t0.01\t0.01\t0.02\t0.00\t0.00\t0.69\t0.01\t0.61\t0.13\t--> 0\n",
      "69.74\t28.85\t0.01\t0.01\t0.03\t0.00\t0.01\t0.27\t0.01\t0.71\t0.38\t--> 0\n",
      "61.06\t31.13\t0.02\t0.01\t0.10\t0.00\t0.03\t2.43\t0.04\t2.25\t2.93\t--> 0\n",
      "45.13\t21.83\t0.03\t0.06\t0.17\t0.00\t0.06\t2.77\t0.20\t1.02\t28.72\t--> 0\n",
      "25.64\t11.16\t0.04\t0.10\t0.09\t0.00\t0.08\t2.08\t0.23\t0.79\t59.79\t--> 10\n",
      "54.71\t28.63\t0.02\t0.01\t0.16\t0.00\t0.07\t3.14\t0.09\t1.55\t11.60\t--> 0\n",
      "68.97\t22.25\t0.01\t0.04\t0.08\t0.00\t0.05\t1.28\t0.08\t0.96\t6.27\t--> 0\n",
      "13.50\t22.51\t0.06\t0.04\t0.19\t0.00\t0.20\t4.23\t0.14\t3.67\t55.45\t--> 10\n",
      "83.71\t9.86\t0.00\t0.01\t0.02\t0.00\t0.03\t1.83\t0.02\t0.92\t3.61\t--> 0\n",
      "52.10\t40.56\t0.05\t0.02\t0.11\t0.00\t0.09\t1.44\t0.06\t1.85\t3.72\t--> 0\n",
      "21.85\t74.12\t0.02\t0.00\t0.06\t0.00\t0.02\t0.30\t0.01\t3.23\t0.40\t--> 1\n",
      "78.23\t18.81\t0.00\t0.00\t0.03\t0.00\t0.02\t0.92\t0.01\t0.74\t1.23\t--> 0\n",
      "53.62\t37.44\t0.03\t0.02\t0.15\t0.00\t0.04\t2.71\t0.08\t2.49\t3.41\t--> 0\n",
      "82.41\t16.17\t0.00\t0.01\t0.06\t0.00\t0.01\t0.56\t0.02\t0.64\t0.12\t--> 0\n",
      "73.51\t24.75\t0.00\t0.02\t0.08\t0.00\t0.01\t0.63\t0.02\t0.86\t0.12\t--> 0\n",
      "8.81\t87.32\t0.03\t0.00\t0.04\t0.00\t0.00\t0.05\t0.00\t3.51\t0.24\t--> 1\n",
      "55.16\t43.33\t0.01\t0.01\t0.04\t0.00\t0.01\t0.40\t0.01\t0.89\t0.14\t--> 0\n",
      "52.49\t45.86\t0.02\t0.02\t0.07\t0.00\t0.01\t0.14\t0.02\t1.13\t0.25\t--> 0\n",
      "85.31\t12.86\t0.00\t0.01\t0.03\t0.00\t0.02\t0.73\t0.01\t0.54\t0.50\t--> 0\n",
      "29.46\t52.94\t0.03\t0.02\t0.20\t0.00\t0.07\t0.24\t0.01\t11.98\t5.04\t--> 1\n",
      "51.83\t46.71\t0.01\t0.01\t0.07\t0.00\t0.01\t0.30\t0.01\t0.97\t0.08\t--> 0\n",
      "22.41\t71.34\t0.02\t0.01\t0.05\t0.00\t0.01\t0.25\t0.00\t5.74\t0.17\t--> 1\n",
      "37.31\t60.16\t0.02\t0.02\t0.03\t0.00\t0.01\t0.16\t0.02\t2.00\t0.27\t--> 1\n",
      "36.00\t62.66\t0.01\t0.00\t0.01\t0.00\t0.00\t0.16\t0.00\t1.06\t0.10\t--> 1\n",
      "9.00\t71.42\t0.05\t0.02\t0.06\t0.00\t0.06\t0.12\t0.00\t18.12\t1.14\t--> 1\n",
      "20.13\t72.47\t0.03\t0.00\t0.06\t0.00\t0.01\t0.14\t0.00\t6.96\t0.20\t--> 1\n",
      "53.40\t44.00\t0.01\t0.01\t0.04\t0.00\t0.02\t0.39\t0.01\t1.75\t0.37\t--> 0\n",
      "11.70\t79.28\t0.04\t0.01\t0.08\t0.00\t0.02\t0.14\t0.00\t8.23\t0.48\t--> 1\n",
      "36.52\t57.22\t0.03\t0.01\t0.07\t0.00\t0.02\t0.90\t0.01\t4.58\t0.63\t--> 1\n",
      "40.39\t49.69\t0.09\t0.23\t0.23\t0.00\t0.05\t1.03\t0.20\t4.25\t3.84\t--> 1\n",
      "33.00\t48.71\t0.60\t0.25\t1.10\t0.00\t0.33\t1.98\t0.42\t7.50\t6.11\t--> 1\n",
      "34.40\t62.03\t0.04\t0.04\t0.07\t0.00\t0.02\t0.52\t0.05\t1.76\t1.06\t--> 1\n",
      "47.75\t48.49\t0.05\t0.03\t0.08\t0.00\t0.03\t0.58\t0.06\t1.91\t1.02\t--> 1\n",
      "42.34\t50.87\t0.05\t0.03\t0.07\t0.00\t0.08\t0.58\t0.03\t4.76\t1.18\t--> 1\n",
      "46.58\t49.91\t0.03\t0.07\t0.07\t0.00\t0.02\t0.55\t0.07\t1.80\t0.92\t--> 1\n",
      "43.05\t55.37\t0.01\t0.01\t0.02\t0.00\t0.01\t0.17\t0.01\t1.16\t0.19\t--> 1\n",
      "22.18\t64.05\t0.09\t0.03\t0.07\t0.00\t0.08\t0.46\t0.03\t4.65\t8.35\t--> 1\n",
      "16.97\t30.49\t0.19\t0.22\t0.34\t0.00\t0.24\t0.54\t0.09\t33.08\t17.83\t--> 9\n",
      "17.65\t69.03\t0.04\t0.00\t0.06\t0.00\t0.04\t0.45\t0.01\t11.84\t0.88\t--> 1\n",
      "11.84\t78.49\t0.05\t0.01\t0.03\t0.00\t0.01\t0.07\t0.00\t9.26\t0.25\t--> 1\n",
      "56.69\t41.04\t0.01\t0.01\t0.02\t0.00\t0.02\t0.33\t0.02\t1.45\t0.41\t--> 0\n",
      "41.99\t55.98\t0.01\t0.01\t0.04\t0.00\t0.01\t0.23\t0.01\t1.59\t0.14\t--> 1\n",
      "52.60\t46.42\t0.01\t0.01\t0.02\t0.00\t0.01\t0.23\t0.01\t0.61\t0.10\t--> 0\n",
      "0.00\t0.01\t99.54\t0.09\t0.00\t0.06\t0.01\t0.00\t0.00\t0.27\t0.02\t--> 2\n",
      "0.01\t0.03\t97.90\t0.30\t0.00\t0.08\t0.22\t0.00\t0.00\t1.41\t0.05\t--> 2\n",
      "0.03\t0.20\t74.72\t2.15\t0.02\t0.11\t0.26\t0.00\t0.00\t22.44\t0.08\t--> 2\n",
      "0.07\t0.53\t51.32\t2.74\t0.03\t0.16\t1.88\t0.00\t0.01\t42.66\t0.60\t--> 2\n",
      "0.02\t0.05\t94.22\t3.94\t0.00\t0.08\t0.11\t0.00\t0.01\t1.48\t0.10\t--> 2\n",
      "0.00\t0.01\t99.52\t0.07\t0.00\t0.04\t0.01\t0.00\t0.00\t0.33\t0.02\t--> 2\n",
      "0.00\t0.02\t98.57\t0.43\t0.00\t0.13\t0.05\t0.00\t0.00\t0.73\t0.06\t--> 2\n",
      "0.00\t0.01\t98.53\t0.59\t0.00\t0.11\t0.02\t0.00\t0.00\t0.73\t0.01\t--> 2\n",
      "0.32\t1.02\t18.10\t17.39\t0.01\t0.05\t1.55\t0.01\t0.03\t58.73\t2.79\t--> 9\n",
      "0.03\t0.21\t82.39\t3.11\t0.00\t0.04\t0.23\t0.00\t0.01\t13.55\t0.42\t--> 2\n",
      "0.01\t0.06\t96.64\t0.87\t0.00\t0.05\t0.09\t0.00\t0.00\t2.24\t0.04\t--> 2\n",
      "0.00\t0.02\t96.58\t2.32\t0.00\t0.17\t0.03\t0.00\t0.00\t0.84\t0.03\t--> 2\n",
      "0.00\t0.03\t97.76\t1.09\t0.00\t0.06\t0.05\t0.00\t0.00\t0.98\t0.03\t--> 2\n",
      "0.00\t0.01\t96.00\t3.17\t0.00\t0.08\t0.07\t0.00\t0.01\t0.62\t0.04\t--> 2\n",
      "0.00\t0.00\t99.23\t0.40\t0.00\t0.12\t0.02\t0.00\t0.00\t0.19\t0.02\t--> 2\n",
      "0.05\t0.52\t1.64\t0.08\t0.02\t0.03\t0.42\t0.00\t0.00\t97.10\t0.15\t--> 9\n",
      "0.02\t0.23\t87.78\t0.16\t0.01\t0.07\t0.17\t0.00\t0.00\t11.43\t0.13\t--> 2\n",
      "0.00\t0.03\t96.51\t0.10\t0.00\t0.03\t0.04\t0.00\t0.00\t3.25\t0.03\t--> 2\n",
      "0.01\t0.08\t87.03\t1.62\t0.01\t0.14\t0.18\t0.00\t0.00\t10.79\t0.13\t--> 2\n",
      "0.01\t0.05\t98.90\t0.10\t0.00\t0.03\t0.18\t0.00\t0.00\t0.70\t0.03\t--> 2\n",
      "0.01\t0.03\t96.69\t0.86\t0.00\t0.09\t0.09\t0.00\t0.00\t2.10\t0.13\t--> 2\n",
      "0.02\t0.05\t97.83\t0.77\t0.00\t0.09\t0.32\t0.00\t0.02\t0.83\t0.08\t--> 2\n",
      "0.02\t0.12\t89.04\t0.18\t0.00\t0.05\t0.22\t0.00\t0.00\t10.15\t0.20\t--> 2\n",
      "0.03\t0.16\t89.16\t3.00\t0.00\t0.05\t0.16\t0.00\t0.01\t7.30\t0.11\t--> 2\n",
      "0.11\t0.73\t48.57\t1.61\t0.02\t0.09\t1.06\t0.00\t0.00\t47.27\t0.54\t--> 2\n",
      "0.02\t0.31\t60.20\t0.08\t0.01\t0.13\t0.42\t0.00\t0.00\t38.72\t0.11\t--> 2\n",
      "0.02\t0.14\t96.58\t0.05\t0.01\t0.03\t0.31\t0.00\t0.00\t2.71\t0.14\t--> 2\n",
      "0.03\t0.18\t85.62\t1.39\t0.03\t0.17\t0.47\t0.00\t0.00\t11.72\t0.38\t--> 2\n",
      "0.00\t0.01\t99.14\t0.20\t0.00\t0.05\t0.04\t0.00\t0.00\t0.53\t0.03\t--> 2\n",
      "0.00\t0.01\t99.36\t0.29\t0.00\t0.07\t0.04\t0.00\t0.00\t0.20\t0.02\t--> 2\n",
      "0.00\t0.00\t0.47\t99.35\t0.00\t0.00\t0.01\t0.00\t0.00\t0.15\t0.01\t--> 3\n",
      "0.00\t0.00\t1.05\t97.64\t0.00\t0.01\t0.01\t0.00\t0.00\t1.27\t0.01\t--> 3\n",
      "0.00\t0.01\t9.73\t88.96\t0.00\t0.05\t0.04\t0.00\t0.00\t1.20\t0.02\t--> 3\n",
      "0.01\t0.12\t40.16\t10.32\t0.06\t0.33\t0.33\t0.00\t0.01\t48.28\t0.39\t--> 9\n",
      "0.00\t0.01\t4.82\t94.14\t0.00\t0.02\t0.01\t0.00\t0.00\t0.98\t0.01\t--> 3\n",
      "0.00\t0.00\t4.86\t94.42\t0.00\t0.04\t0.01\t0.00\t0.00\t0.66\t0.01\t--> 3\n",
      "0.00\t0.01\t8.84\t89.68\t0.00\t0.05\t0.02\t0.00\t0.00\t1.37\t0.02\t--> 3\n",
      "0.01\t0.03\t5.64\t92.24\t0.00\t0.01\t0.08\t0.00\t0.00\t1.92\t0.08\t--> 3\n",
      "0.00\t0.04\t16.03\t72.85\t0.00\t0.04\t0.05\t0.00\t0.00\t10.93\t0.05\t--> 3\n",
      "0.01\t0.07\t56.64\t32.82\t0.00\t0.07\t0.35\t0.00\t0.01\t9.90\t0.13\t--> 2\n",
      "0.00\t0.00\t3.70\t95.78\t0.00\t0.01\t0.03\t0.00\t0.00\t0.44\t0.02\t--> 3\n",
      "0.01\t0.06\t23.52\t70.30\t0.00\t0.06\t0.35\t0.00\t0.01\t5.45\t0.23\t--> 3\n",
      "0.00\t0.01\t44.16\t53.17\t0.00\t0.18\t0.08\t0.00\t0.01\t2.34\t0.05\t--> 3\n",
      "0.02\t0.10\t75.47\t15.58\t0.01\t0.24\t0.76\t0.00\t0.02\t7.65\t0.16\t--> 2\n",
      "0.00\t0.04\t35.02\t56.80\t0.00\t0.13\t0.04\t0.00\t0.01\t7.89\t0.05\t--> 3\n",
      "0.00\t0.01\t7.39\t91.85\t0.00\t0.02\t0.04\t0.00\t0.01\t0.64\t0.03\t--> 3\n",
      "0.00\t0.00\t0.52\t99.25\t0.00\t0.00\t0.01\t0.00\t0.00\t0.21\t0.01\t--> 3\n",
      "0.00\t0.01\t40.00\t57.17\t0.00\t0.24\t0.04\t0.00\t0.01\t2.49\t0.03\t--> 3\n",
      "0.00\t0.00\t0.84\t98.97\t0.00\t0.00\t0.01\t0.00\t0.00\t0.17\t0.01\t--> 3\n",
      "0.00\t0.00\t4.92\t94.41\t0.00\t0.04\t0.01\t0.00\t0.00\t0.61\t0.01\t--> 3\n",
      "0.00\t0.02\t56.94\t39.68\t0.00\t0.20\t0.08\t0.00\t0.01\t3.03\t0.04\t--> 2\n",
      "0.01\t0.02\t52.18\t44.68\t0.00\t0.18\t0.23\t0.00\t0.01\t2.61\t0.08\t--> 2\n",
      "0.00\t0.01\t5.72\t93.06\t0.00\t0.04\t0.02\t0.00\t0.00\t1.14\t0.01\t--> 3\n",
      "0.00\t0.01\t8.21\t90.82\t0.00\t0.04\t0.04\t0.00\t0.00\t0.84\t0.03\t--> 3\n",
      "0.00\t0.01\t18.12\t80.22\t0.00\t0.10\t0.03\t0.00\t0.01\t1.48\t0.03\t--> 3\n",
      "0.00\t0.01\t4.14\t95.12\t0.00\t0.03\t0.02\t0.00\t0.00\t0.67\t0.02\t--> 3\n",
      "0.00\t0.03\t24.58\t71.95\t0.00\t0.08\t0.08\t0.00\t0.00\t3.20\t0.08\t--> 3\n",
      "0.00\t0.01\t8.08\t89.66\t0.00\t0.09\t0.02\t0.00\t0.00\t2.11\t0.02\t--> 3\n",
      "0.01\t0.02\t16.78\t80.88\t0.00\t0.05\t0.08\t0.00\t0.01\t2.11\t0.06\t--> 3\n",
      "0.00\t0.01\t6.31\t91.49\t0.00\t0.05\t0.02\t0.00\t0.00\t2.11\t0.01\t--> 3\n",
      "0.03\t0.01\t0.00\t0.00\t98.71\t0.02\t0.00\t1.20\t0.02\t0.00\t0.01\t--> 4\n",
      "0.02\t0.04\t0.00\t0.00\t99.25\t0.08\t0.00\t0.57\t0.02\t0.01\t0.01\t--> 4\n",
      "0.01\t0.01\t0.00\t0.00\t99.39\t0.05\t0.00\t0.51\t0.02\t0.00\t0.00\t--> 4\n",
      "0.06\t0.11\t0.00\t0.01\t97.62\t0.13\t0.01\t1.89\t0.07\t0.07\t0.03\t--> 4\n",
      "0.01\t0.02\t0.00\t0.00\t99.32\t0.03\t0.00\t0.59\t0.01\t0.01\t0.01\t--> 4\n",
      "0.18\t0.04\t0.00\t0.00\t91.86\t0.03\t0.01\t7.42\t0.12\t0.02\t0.33\t--> 4\n",
      "0.06\t0.08\t0.00\t0.00\t97.47\t0.06\t0.00\t2.20\t0.04\t0.03\t0.06\t--> 4\n",
      "0.01\t0.02\t0.00\t0.00\t99.35\t0.03\t0.00\t0.56\t0.02\t0.01\t0.01\t--> 4\n",
      "0.02\t0.04\t0.00\t0.00\t99.00\t0.05\t0.00\t0.84\t0.02\t0.01\t0.02\t--> 4\n",
      "0.02\t0.01\t0.00\t0.00\t99.44\t0.01\t0.00\t0.50\t0.02\t0.00\t0.00\t--> 4\n",
      "0.02\t0.01\t0.00\t0.00\t99.46\t0.04\t0.00\t0.44\t0.02\t0.01\t0.00\t--> 4\n",
      "0.08\t0.12\t0.00\t0.01\t98.54\t0.21\t0.02\t0.82\t0.10\t0.06\t0.03\t--> 4\n",
      "0.02\t0.01\t0.00\t0.00\t99.72\t0.03\t0.00\t0.21\t0.02\t0.00\t0.00\t--> 4\n",
      "0.03\t0.01\t0.00\t0.00\t99.41\t0.02\t0.00\t0.50\t0.03\t0.00\t0.01\t--> 4\n",
      "0.03\t0.06\t0.00\t0.00\t99.03\t0.07\t0.01\t0.70\t0.06\t0.03\t0.02\t--> 4\n",
      "0.12\t0.12\t0.08\t0.00\t98.33\t0.28\t0.00\t0.26\t0.58\t0.11\t0.12\t--> 4\n",
      "0.03\t0.04\t0.00\t0.00\t97.90\t0.04\t0.00\t1.92\t0.03\t0.01\t0.03\t--> 4\n",
      "0.19\t0.23\t0.01\t0.03\t96.31\t0.51\t0.05\t2.16\t0.29\t0.12\t0.10\t--> 4\n",
      "0.15\t0.20\t0.00\t0.02\t97.16\t0.41\t0.04\t1.70\t0.18\t0.08\t0.08\t--> 4\n",
      "0.12\t0.16\t0.00\t0.01\t97.72\t0.28\t0.02\t1.41\t0.16\t0.08\t0.05\t--> 4\n",
      "0.36\t0.46\t0.02\t0.07\t92.56\t0.96\t0.15\t4.38\t0.70\t0.14\t0.21\t--> 4\n",
      "0.07\t0.12\t0.00\t0.00\t98.34\t0.23\t0.01\t1.09\t0.08\t0.03\t0.03\t--> 4\n",
      "0.37\t0.41\t0.02\t0.08\t93.17\t0.93\t0.12\t3.74\t0.77\t0.17\t0.23\t--> 4\n",
      "0.02\t0.03\t0.00\t0.00\t99.27\t0.03\t0.00\t0.61\t0.02\t0.01\t0.01\t--> 4\n",
      "0.07\t0.05\t0.00\t0.00\t97.59\t0.08\t0.00\t2.02\t0.11\t0.02\t0.05\t--> 4\n",
      "0.04\t0.10\t0.00\t0.00\t98.33\t0.27\t0.01\t1.14\t0.06\t0.03\t0.03\t--> 4\n",
      "0.07\t0.11\t0.00\t0.00\t98.40\t0.17\t0.01\t1.11\t0.07\t0.04\t0.03\t--> 4\n",
      "0.02\t0.04\t0.00\t0.00\t99.23\t0.05\t0.00\t0.59\t0.02\t0.02\t0.01\t--> 4\n",
      "0.04\t0.10\t0.00\t0.00\t98.41\t0.21\t0.01\t1.13\t0.06\t0.02\t0.02\t--> 4\n",
      "0.23\t0.38\t0.01\t0.01\t94.42\t0.69\t0.05\t3.86\t0.23\t0.04\t0.08\t--> 4\n",
      "0.17\t0.21\t0.01\t0.02\t97.33\t0.39\t0.04\t1.45\t0.22\t0.10\t0.07\t--> 4\n",
      "0.00\t0.00\t0.03\t0.01\t0.03\t99.24\t0.06\t0.01\t0.58\t0.00\t0.03\t--> 5\n",
      "0.00\t0.00\t0.11\t0.01\t0.02\t99.70\t0.06\t0.00\t0.09\t0.00\t0.02\t--> 5\n",
      "0.00\t0.00\t0.14\t0.01\t0.02\t99.46\t0.06\t0.00\t0.29\t0.00\t0.02\t--> 5\n",
      "0.00\t0.00\t0.24\t0.09\t0.04\t97.38\t0.79\t0.03\t1.22\t0.00\t0.22\t--> 5\n",
      "0.00\t0.00\t0.14\t0.02\t0.03\t99.08\t0.15\t0.01\t0.42\t0.00\t0.15\t--> 5\n",
      "0.00\t0.00\t0.07\t0.05\t0.01\t99.45\t0.09\t0.01\t0.29\t0.00\t0.03\t--> 5\n",
      "0.00\t0.00\t0.15\t0.05\t0.04\t99.34\t0.24\t0.01\t0.14\t0.00\t0.03\t--> 5\n",
      "0.00\t0.00\t0.33\t0.14\t0.07\t98.49\t0.58\t0.03\t0.27\t0.01\t0.09\t--> 5\n",
      "0.00\t0.00\t0.06\t0.01\t0.01\t99.78\t0.05\t0.00\t0.08\t0.00\t0.01\t--> 5\n",
      "0.00\t0.00\t0.15\t0.04\t0.03\t99.37\t0.15\t0.01\t0.22\t0.00\t0.02\t--> 5\n",
      "0.00\t0.00\t0.24\t0.11\t0.06\t98.95\t0.44\t0.02\t0.13\t0.01\t0.04\t--> 5\n",
      "0.00\t0.00\t0.06\t0.02\t0.01\t99.13\t0.16\t0.01\t0.60\t0.00\t0.02\t--> 5\n",
      "0.00\t0.00\t0.32\t0.10\t0.06\t98.88\t0.30\t0.02\t0.24\t0.00\t0.08\t--> 5\n",
      "0.00\t0.00\t0.14\t0.01\t0.03\t99.55\t0.06\t0.01\t0.18\t0.00\t0.02\t--> 5\n",
      "0.00\t0.00\t0.18\t0.05\t0.07\t99.07\t0.41\t0.02\t0.12\t0.00\t0.06\t--> 5\n",
      "0.00\t0.00\t0.06\t0.02\t0.01\t99.70\t0.03\t0.00\t0.17\t0.00\t0.01\t--> 5\n",
      "0.00\t0.00\t0.41\t0.02\t0.02\t99.14\t0.06\t0.00\t0.34\t0.00\t0.01\t--> 5\n",
      "0.00\t0.00\t0.08\t0.02\t0.01\t99.65\t0.10\t0.01\t0.11\t0.00\t0.02\t--> 5\n",
      "0.00\t0.00\t0.07\t0.11\t0.03\t98.60\t0.24\t0.02\t0.83\t0.00\t0.09\t--> 5\n",
      "0.00\t0.00\t0.13\t0.06\t0.02\t99.05\t0.15\t0.01\t0.54\t0.00\t0.05\t--> 5\n",
      "0.00\t0.00\t0.17\t0.01\t0.02\t99.50\t0.05\t0.01\t0.21\t0.00\t0.03\t--> 5\n",
      "0.00\t0.00\t0.35\t0.18\t0.05\t98.83\t0.24\t0.02\t0.23\t0.01\t0.10\t--> 5\n",
      "0.02\t0.00\t0.44\t0.41\t0.19\t96.99\t1.31\t0.08\t0.34\t0.06\t0.16\t--> 5\n",
      "0.00\t0.00\t0.35\t0.07\t0.08\t98.59\t0.56\t0.02\t0.26\t0.01\t0.06\t--> 5\n",
      "0.01\t0.00\t0.57\t0.15\t0.13\t97.97\t0.79\t0.05\t0.19\t0.03\t0.11\t--> 5\n",
      "0.00\t0.00\t0.15\t0.01\t0.01\t99.36\t0.07\t0.00\t0.37\t0.00\t0.01\t--> 5\n",
      "0.00\t0.00\t0.05\t0.00\t0.01\t99.88\t0.02\t0.00\t0.04\t0.00\t0.00\t--> 5\n",
      "0.00\t0.00\t0.17\t0.04\t0.05\t94.25\t0.49\t0.08\t4.86\t0.00\t0.06\t--> 5\n",
      "0.00\t0.00\t0.16\t0.02\t0.02\t99.59\t0.10\t0.00\t0.07\t0.00\t0.02\t--> 5\n",
      "0.00\t0.00\t0.13\t0.03\t0.02\t98.78\t0.13\t0.01\t0.87\t0.00\t0.04\t--> 5\n",
      "0.03\t0.04\t0.00\t0.00\t0.00\t0.02\t97.56\t0.14\t0.00\t0.26\t1.95\t--> 6\n",
      "0.00\t0.00\t0.00\t0.00\t0.00\t0.01\t99.55\t0.06\t0.00\t0.05\t0.33\t--> 6\n",
      "0.03\t0.03\t0.00\t0.00\t0.00\t0.03\t97.63\t0.16\t0.00\t0.12\t2.00\t--> 6\n",
      "0.00\t0.00\t0.11\t0.07\t0.00\t2.32\t88.37\t0.09\t0.10\t0.00\t8.93\t--> 6\n",
      "0.03\t0.01\t0.23\t0.01\t0.00\t0.20\t87.59\t0.24\t0.05\t0.04\t11.60\t--> 6\n",
      "0.00\t0.00\t0.04\t0.01\t0.00\t1.25\t94.96\t0.13\t0.02\t0.01\t3.57\t--> 6\n",
      "0.00\t0.00\t0.00\t0.00\t0.00\t0.06\t98.99\t0.01\t0.00\t0.00\t0.92\t--> 6\n",
      "0.00\t0.00\t0.11\t0.01\t0.00\t0.09\t98.24\t0.02\t0.01\t0.01\t1.51\t--> 6\n",
      "0.00\t0.00\t0.14\t0.01\t0.00\t0.30\t98.72\t0.02\t0.05\t0.00\t0.75\t--> 6\n",
      "0.00\t0.00\t0.00\t0.00\t0.00\t0.02\t97.81\t0.03\t0.00\t0.00\t2.13\t--> 6\n",
      "0.00\t0.00\t0.01\t0.00\t0.00\t0.01\t98.78\t0.05\t0.00\t0.03\t1.12\t--> 6\n",
      "0.00\t0.00\t0.00\t0.00\t0.00\t0.03\t99.13\t0.01\t0.00\t0.01\t0.81\t--> 6\n",
      "0.00\t0.00\t0.00\t0.00\t0.00\t0.00\t99.57\t0.05\t0.00\t0.02\t0.36\t--> 6\n",
      "0.00\t0.00\t0.00\t0.00\t0.00\t0.02\t99.61\t0.01\t0.00\t0.01\t0.35\t--> 6\n",
      "0.00\t0.00\t0.02\t0.01\t0.00\t0.14\t85.66\t0.14\t0.01\t0.11\t13.92\t--> 6\n",
      "0.00\t0.00\t0.04\t0.00\t0.00\t0.07\t97.09\t0.01\t0.00\t0.01\t2.79\t--> 6\n",
      "0.01\t0.01\t1.25\t0.32\t0.00\t2.94\t79.66\t0.07\t0.13\t0.02\t15.58\t--> 6\n",
      "0.02\t0.01\t0.43\t0.10\t0.00\t4.23\t88.23\t0.25\t0.42\t0.02\t6.29\t--> 6\n",
      "0.01\t0.01\t3.12\t0.17\t0.00\t5.89\t82.02\t0.06\t0.53\t0.01\t8.17\t--> 6\n",
      "0.01\t0.00\t0.72\t0.34\t0.00\t0.69\t91.10\t0.06\t0.15\t0.01\t6.92\t--> 6\n",
      "0.00\t0.00\t0.05\t0.03\t0.00\t0.32\t95.69\t0.08\t0.13\t0.00\t3.68\t--> 6\n",
      "0.00\t0.00\t0.00\t0.00\t0.00\t0.01\t99.31\t0.02\t0.00\t0.00\t0.65\t--> 6\n",
      "0.00\t0.00\t0.00\t0.00\t0.00\t0.03\t99.54\t0.01\t0.00\t0.00\t0.41\t--> 6\n",
      "0.03\t0.05\t0.06\t0.02\t0.00\t0.22\t79.62\t0.41\t0.00\t0.85\t18.74\t--> 6\n",
      "0.01\t0.00\t0.30\t0.01\t0.00\t0.33\t93.77\t0.03\t0.03\t0.04\t5.49\t--> 6\n",
      "0.00\t0.00\t0.06\t0.12\t0.00\t1.24\t90.31\t0.10\t0.08\t0.00\t8.08\t--> 6\n"
     ]
    },
    {
     "name": "stdout",
     "output_type": "stream",
     "text": [
      "0.02\t0.02\t0.00\t0.00\t0.00\t0.04\t97.15\t0.24\t0.00\t0.23\t2.29\t--> 6\n",
      "0.00\t0.00\t0.03\t0.01\t0.00\t0.14\t98.76\t0.01\t0.01\t0.00\t1.04\t--> 6\n",
      "0.00\t0.00\t0.00\t0.00\t0.00\t0.01\t99.31\t0.05\t0.00\t0.01\t0.62\t--> 6\n",
      "0.01\t0.01\t0.05\t0.02\t0.00\t1.89\t82.97\t0.22\t0.02\t0.04\t14.75\t--> 6\n",
      "0.31\t0.02\t0.00\t0.00\t0.05\t0.00\t0.05\t98.19\t0.07\t0.00\t1.31\t--> 7\n",
      "0.58\t0.04\t0.00\t0.00\t1.55\t0.02\t0.13\t96.30\t0.26\t0.01\t1.10\t--> 7\n",
      "0.34\t0.05\t0.00\t0.00\t0.05\t0.00\t0.02\t98.94\t0.04\t0.00\t0.55\t--> 7\n",
      "0.38\t0.04\t0.00\t0.00\t0.17\t0.00\t0.01\t98.90\t0.05\t0.00\t0.45\t--> 7\n",
      "0.34\t0.02\t0.00\t0.00\t0.26\t0.00\t0.01\t99.12\t0.04\t0.00\t0.22\t--> 7\n",
      "0.26\t0.04\t0.00\t0.00\t1.37\t0.00\t0.01\t97.91\t0.05\t0.01\t0.34\t--> 7\n",
      "0.36\t0.03\t0.00\t0.00\t0.26\t0.00\t0.02\t98.19\t0.05\t0.00\t1.10\t--> 7\n",
      "0.23\t0.01\t0.00\t0.00\t0.09\t0.00\t0.01\t98.73\t0.06\t0.00\t0.85\t--> 7\n",
      "0.21\t0.02\t0.00\t0.00\t0.19\t0.00\t0.01\t98.99\t0.02\t0.01\t0.55\t--> 7\n",
      "0.36\t0.06\t0.00\t0.00\t0.54\t0.00\t0.01\t98.37\t0.05\t0.01\t0.60\t--> 7\n",
      "0.44\t0.02\t0.00\t0.00\t0.30\t0.00\t0.01\t98.66\t0.05\t0.00\t0.52\t--> 7\n",
      "0.91\t0.03\t0.00\t0.00\t0.54\t0.00\t0.04\t97.31\t0.14\t0.00\t1.02\t--> 7\n",
      "0.25\t0.01\t0.00\t0.00\t0.04\t0.00\t0.16\t95.83\t0.07\t0.01\t3.64\t--> 7\n",
      "0.21\t0.02\t0.00\t0.00\t0.05\t0.00\t0.03\t95.70\t0.14\t0.00\t3.84\t--> 7\n",
      "0.35\t0.06\t0.00\t0.00\t0.43\t0.00\t0.02\t97.85\t0.04\t0.02\t1.22\t--> 7\n",
      "0.30\t0.04\t0.00\t0.00\t0.06\t0.00\t0.03\t98.40\t0.04\t0.00\t1.13\t--> 7\n",
      "0.71\t0.04\t0.00\t0.00\t0.11\t0.00\t0.01\t98.42\t0.03\t0.00\t0.68\t--> 7\n",
      "0.34\t0.03\t0.00\t0.00\t0.12\t0.00\t0.02\t98.70\t0.02\t0.00\t0.77\t--> 7\n",
      "0.32\t0.04\t0.00\t0.00\t0.77\t0.00\t0.01\t98.61\t0.05\t0.01\t0.19\t--> 7\n",
      "0.32\t0.03\t0.00\t0.00\t0.55\t0.00\t0.01\t98.77\t0.09\t0.00\t0.22\t--> 7\n",
      "0.30\t0.02\t0.00\t0.00\t0.06\t0.00\t0.02\t98.25\t0.06\t0.00\t1.28\t--> 7\n",
      "0.43\t0.05\t0.00\t0.00\t0.05\t0.00\t0.01\t99.03\t0.03\t0.00\t0.40\t--> 7\n",
      "0.33\t0.03\t0.00\t0.00\t0.09\t0.00\t0.01\t97.46\t0.30\t0.00\t1.77\t--> 7\n",
      "0.60\t0.03\t0.00\t0.00\t0.02\t0.00\t0.01\t98.38\t0.07\t0.00\t0.89\t--> 7\n",
      "0.26\t0.03\t0.00\t0.00\t0.08\t0.00\t0.01\t98.83\t0.05\t0.00\t0.74\t--> 7\n",
      "0.91\t0.36\t0.00\t0.02\t1.82\t0.20\t0.05\t92.34\t0.39\t0.06\t3.85\t--> 7\n",
      "0.30\t0.05\t0.00\t0.00\t0.12\t0.00\t0.01\t98.81\t0.13\t0.00\t0.58\t--> 7\n",
      "0.22\t0.01\t0.00\t0.00\t0.03\t0.00\t0.03\t92.76\t0.16\t0.00\t6.79\t--> 7\n",
      "0.23\t0.01\t0.00\t0.00\t0.11\t0.00\t0.02\t98.10\t0.19\t0.00\t1.35\t--> 7\n",
      "0.31\t0.03\t0.00\t0.00\t0.20\t0.00\t0.01\t99.05\t0.03\t0.00\t0.37\t--> 7\n",
      "0.26\t0.03\t0.00\t0.00\t0.05\t0.00\t0.01\t98.96\t0.13\t0.00\t0.57\t--> 7\n",
      "0.01\t0.00\t0.00\t0.02\t0.00\t0.05\t0.00\t0.04\t99.77\t0.00\t0.11\t--> 8\n",
      "0.01\t0.00\t0.05\t0.07\t0.01\t0.39\t0.01\t0.09\t98.48\t0.00\t0.89\t--> 8\n",
      "0.09\t0.01\t0.10\t0.06\t0.04\t0.41\t0.02\t0.26\t97.69\t0.00\t1.31\t--> 8\n",
      "0.07\t0.01\t0.05\t0.12\t0.11\t0.82\t0.03\t0.29\t97.75\t0.00\t0.74\t--> 8\n",
      "0.01\t0.00\t0.13\t0.08\t0.00\t0.39\t0.02\t0.05\t96.98\t0.00\t2.33\t--> 8\n",
      "0.00\t0.00\t0.03\t0.10\t0.01\t0.26\t0.00\t0.01\t99.18\t0.00\t0.41\t--> 8\n",
      "0.02\t0.00\t0.01\t0.01\t0.01\t0.06\t0.00\t0.08\t99.77\t0.00\t0.05\t--> 8\n",
      "0.00\t0.00\t0.01\t0.01\t0.01\t0.03\t0.00\t0.03\t99.88\t0.00\t0.03\t--> 8\n",
      "0.00\t0.00\t0.01\t0.03\t0.02\t0.13\t0.00\t0.03\t99.71\t0.00\t0.06\t--> 8\n",
      "0.00\t0.00\t0.01\t0.05\t0.03\t0.12\t0.00\t0.05\t99.64\t0.00\t0.09\t--> 8\n",
      "0.10\t0.01\t0.08\t0.24\t1.07\t1.54\t0.03\t0.60\t95.73\t0.01\t0.59\t--> 8\n",
      "0.01\t0.00\t0.00\t0.01\t0.00\t0.01\t0.00\t0.03\t99.91\t0.00\t0.02\t--> 8\n",
      "0.01\t0.00\t0.00\t0.02\t0.01\t0.03\t0.00\t0.04\t99.86\t0.00\t0.03\t--> 8\n",
      "0.05\t0.01\t0.02\t0.03\t0.08\t0.22\t0.00\t0.20\t99.32\t0.00\t0.06\t--> 8\n",
      "0.01\t0.00\t0.01\t0.03\t0.01\t0.12\t0.00\t0.05\t99.62\t0.00\t0.15\t--> 8\n",
      "0.01\t0.00\t0.00\t0.09\t0.01\t0.03\t0.00\t0.04\t99.70\t0.00\t0.12\t--> 8\n",
      "0.02\t0.00\t0.03\t0.11\t0.00\t0.07\t0.01\t0.08\t97.87\t0.00\t1.81\t--> 8\n",
      "0.01\t0.00\t0.00\t0.01\t0.01\t0.03\t0.00\t0.04\t99.86\t0.00\t0.04\t--> 8\n",
      "0.01\t0.00\t0.35\t0.12\t0.00\t0.24\t0.01\t0.01\t93.74\t0.00\t5.53\t--> 8\n",
      "0.01\t0.00\t0.08\t0.01\t0.01\t0.16\t0.00\t0.03\t99.38\t0.00\t0.31\t--> 8\n",
      "0.02\t0.00\t0.04\t0.08\t0.01\t0.48\t0.01\t0.08\t98.25\t0.00\t1.03\t--> 8\n",
      "0.02\t0.00\t0.01\t0.04\t0.02\t0.15\t0.00\t0.09\t99.52\t0.00\t0.16\t--> 8\n",
      "0.01\t0.00\t0.07\t0.25\t0.12\t4.00\t0.01\t0.17\t93.11\t0.00\t2.25\t--> 8\n",
      "0.90\t0.22\t0.12\t0.32\t0.60\t2.84\t0.16\t7.08\t86.41\t0.02\t1.33\t--> 8\n",
      "0.04\t0.00\t0.03\t0.03\t0.04\t0.39\t0.01\t0.20\t98.94\t0.00\t0.32\t--> 8\n",
      "0.12\t0.02\t0.10\t0.05\t0.22\t1.04\t0.01\t0.60\t97.50\t0.00\t0.33\t--> 8\n",
      "0.04\t0.00\t0.03\t0.04\t0.02\t0.36\t0.01\t0.15\t98.71\t0.00\t0.63\t--> 8\n",
      "0.01\t0.00\t0.15\t0.11\t0.00\t0.15\t0.00\t0.01\t98.83\t0.00\t0.74\t--> 8\n",
      "0.00\t0.00\t0.01\t0.03\t0.01\t0.13\t0.00\t0.03\t99.44\t0.00\t0.34\t--> 8\n",
      "0.00\t0.00\t0.02\t0.02\t0.01\t0.05\t0.00\t0.03\t99.71\t0.00\t0.16\t--> 8\n",
      "0.02\t0.19\t69.72\t14.80\t0.00\t0.06\t0.23\t0.00\t0.00\t14.49\t0.48\t--> 2\n",
      "0.01\t0.07\t91.55\t2.66\t0.00\t0.05\t0.14\t0.00\t0.00\t5.23\t0.29\t--> 2\n",
      "0.03\t0.52\t75.35\t0.52\t0.01\t0.06\t0.49\t0.00\t0.00\t22.50\t0.53\t--> 2\n",
      "0.08\t0.24\t1.37\t1.66\t0.00\t0.02\t1.38\t0.04\t0.01\t35.07\t60.13\t--> 10\n",
      "0.21\t1.32\t14.37\t0.50\t0.01\t0.04\t0.51\t0.00\t0.00\t82.57\t0.47\t--> 9\n",
      "0.05\t0.49\t5.42\t0.86\t0.01\t0.01\t0.50\t0.00\t0.00\t92.00\t0.66\t--> 9\n",
      "0.02\t0.31\t89.93\t0.09\t0.00\t0.03\t0.54\t0.00\t0.00\t8.94\t0.14\t--> 2\n",
      "0.04\t0.13\t75.63\t15.10\t0.00\t0.05\t0.33\t0.00\t0.01\t8.54\t0.16\t--> 2\n",
      "0.04\t0.23\t92.02\t1.34\t0.02\t0.06\t0.48\t0.00\t0.02\t5.50\t0.27\t--> 2\n",
      "0.15\t0.80\t65.90\t0.58\t0.01\t0.04\t3.49\t0.00\t0.00\t25.96\t3.07\t--> 2\n",
      "0.35\t1.13\t24.09\t1.74\t0.10\t0.10\t1.79\t0.00\t0.00\t70.29\t0.40\t--> 9\n",
      "0.01\t0.06\t96.92\t0.14\t0.00\t0.07\t0.05\t0.00\t0.00\t2.68\t0.06\t--> 2\n",
      "0.12\t1.24\t10.42\t2.37\t0.01\t0.02\t0.31\t0.00\t0.00\t84.43\t1.07\t--> 9\n",
      "0.02\t0.23\t81.56\t0.87\t0.01\t0.07\t0.40\t0.00\t0.00\t16.68\t0.14\t--> 2\n",
      "0.01\t0.04\t94.57\t3.12\t0.00\t0.04\t0.12\t0.00\t0.01\t1.96\t0.13\t--> 2\n",
      "0.90\t1.34\t13.76\t26.60\t0.04\t0.17\t2.08\t0.04\t0.38\t32.10\t22.59\t--> 9\n",
      "0.11\t0.75\t0.96\t0.28\t0.00\t0.00\t0.22\t0.00\t0.00\t97.51\t0.15\t--> 9\n",
      "0.30\t3.09\t2.68\t1.84\t0.45\t0.14\t0.83\t0.04\t0.07\t86.74\t3.81\t--> 9\n",
      "0.21\t0.79\t8.80\t0.75\t0.13\t0.11\t1.37\t0.00\t0.00\t87.19\t0.64\t--> 9\n",
      "0.58\t2.94\t5.40\t2.38\t0.58\t0.20\t1.96\t0.05\t0.08\t82.58\t3.25\t--> 9\n",
      "0.14\t0.63\t1.05\t0.76\t0.03\t0.01\t0.31\t0.00\t0.00\t96.57\t0.51\t--> 9\n",
      "0.14\t1.04\t0.32\t1.51\t0.01\t0.00\t0.17\t0.00\t0.00\t96.17\t0.62\t--> 9\n",
      "0.06\t0.47\t6.12\t0.32\t0.03\t0.04\t0.69\t0.00\t0.00\t92.14\t0.13\t--> 9\n",
      "0.10\t0.68\t1.91\t0.59\t0.04\t0.02\t0.56\t0.00\t0.00\t95.96\t0.13\t--> 9\n",
      "0.12\t0.69\t6.31\t2.17\t0.02\t0.03\t0.78\t0.00\t0.00\t89.07\t0.81\t--> 9\n",
      "0.40\t1.96\t11.99\t2.69\t0.19\t0.23\t6.25\t0.01\t0.03\t73.70\t2.54\t--> 9\n",
      "0.05\t0.30\t85.56\t1.26\t0.04\t0.13\t0.87\t0.00\t0.01\t11.39\t0.39\t--> 2\n",
      "0.19\t1.84\t4.15\t1.10\t0.18\t0.09\t0.87\t0.01\t0.01\t90.17\t1.39\t--> 9\n",
      "0.07\t0.46\t37.16\t0.86\t0.02\t0.08\t1.40\t0.00\t0.00\t59.80\t0.15\t--> 9\n",
      "0.12\t0.35\t85.07\t0.86\t0.01\t0.10\t0.61\t0.00\t0.00\t12.54\t0.34\t--> 2\n",
      "0.00\t0.00\t0.00\t0.00\t0.00\t0.00\t0.02\t0.02\t0.00\t0.00\t99.95\t--> 10\n",
      "0.00\t0.00\t0.00\t0.00\t0.00\t0.00\t0.02\t0.02\t0.00\t0.00\t99.95\t--> 10\n",
      "0.00\t0.00\t0.00\t0.00\t0.00\t0.00\t0.02\t0.02\t0.00\t0.00\t99.95\t--> 10\n",
      "0.00\t0.00\t0.00\t0.00\t0.00\t0.00\t0.02\t0.02\t0.00\t0.00\t99.95\t--> 10\n",
      "0.00\t0.00\t0.00\t0.00\t0.00\t0.00\t0.02\t0.02\t0.00\t0.00\t99.95\t--> 10\n",
      "0.00\t0.00\t0.00\t0.00\t0.00\t0.00\t0.02\t0.02\t0.00\t0.00\t99.95\t--> 10\n",
      "0.00\t0.00\t0.00\t0.00\t0.00\t0.00\t0.02\t0.02\t0.00\t0.00\t99.95\t--> 10\n",
      "0.00\t0.00\t0.00\t0.00\t0.00\t0.00\t0.02\t0.02\t0.00\t0.00\t99.95\t--> 10\n",
      "0.00\t0.00\t0.00\t0.00\t0.00\t0.00\t0.02\t0.02\t0.00\t0.00\t99.95\t--> 10\n",
      "0.00\t0.00\t0.00\t0.00\t0.00\t0.00\t0.02\t0.02\t0.00\t0.00\t99.95\t--> 10\n",
      "0.00\t0.00\t0.00\t0.00\t0.00\t0.00\t0.02\t0.02\t0.00\t0.00\t99.95\t--> 10\n",
      "0.00\t0.00\t0.00\t0.00\t0.00\t0.00\t0.02\t0.02\t0.00\t0.00\t99.95\t--> 10\n",
      "0.00\t0.00\t0.00\t0.00\t0.00\t0.00\t0.02\t0.02\t0.00\t0.00\t99.95\t--> 10\n",
      "0.00\t0.00\t0.01\t0.01\t0.00\t0.00\t0.06\t0.01\t0.05\t0.02\t99.83\t--> 10\n",
      "0.00\t0.00\t0.21\t0.00\t0.00\t0.05\t35.49\t0.08\t0.01\t0.02\t64.13\t--> 10\n",
      "0.00\t0.00\t0.00\t0.00\t0.00\t0.00\t0.05\t0.02\t0.01\t0.00\t99.91\t--> 10\n",
      "0.01\t0.00\t0.00\t0.00\t0.00\t0.00\t0.32\t0.06\t0.03\t0.00\t99.57\t--> 10\n",
      "0.00\t0.00\t0.00\t0.00\t0.00\t0.00\t0.07\t0.01\t0.01\t0.01\t99.90\t--> 10\n",
      "0.01\t0.00\t0.01\t0.03\t0.00\t0.00\t0.08\t0.03\t0.27\t0.00\t99.57\t--> 10\n",
      "0.01\t0.01\t0.00\t0.00\t0.00\t0.00\t0.04\t0.19\t0.05\t0.00\t99.69\t--> 10\n",
      "0.04\t0.01\t0.01\t0.00\t0.00\t0.00\t0.12\t0.12\t0.14\t0.00\t99.55\t--> 10\n",
      "0.07\t0.03\t0.01\t0.00\t0.00\t0.00\t0.38\t0.18\t0.01\t0.15\t99.17\t--> 10\n",
      "0.12\t0.11\t0.01\t0.06\t0.02\t0.04\t0.08\t0.55\t0.12\t0.11\t98.79\t--> 10\n",
      "0.02\t0.00\t0.00\t0.00\t0.00\t0.00\t0.04\t0.04\t0.01\t0.01\t99.86\t--> 10\n",
      "2.62\t1.28\t0.04\t0.07\t0.01\t0.00\t0.04\t0.99\t0.03\t1.03\t93.87\t--> 10\n",
      "0.17\t0.06\t0.01\t0.13\t0.01\t0.02\t0.07\t0.26\t0.14\t0.05\t99.08\t--> 10\n",
      "0.01\t0.00\t0.01\t0.00\t0.00\t0.00\t0.02\t0.03\t0.07\t0.00\t99.86\t--> 10\n",
      "0.00\t0.00\t0.00\t0.00\t0.00\t0.00\t0.01\t0.01\t0.00\t0.00\t99.97\t--> 10\n",
      "0.01\t0.00\t0.04\t0.05\t0.01\t0.07\t0.08\t0.02\t0.19\t0.06\t99.47\t--> 10\n",
      "0.00\t0.00\t0.00\t0.00\t0.00\t0.00\t0.01\t0.01\t0.00\t0.00\t99.96\t--> 10\n",
      "0.00\t0.00\t0.00\t0.00\t0.00\t0.00\t0.01\t0.01\t0.00\t0.00\t99.97\t--> 10\n",
      "0.68\t3.34\t0.05\t0.08\t0.03\t0.01\t0.29\t0.91\t0.18\t5.71\t88.73\t--> 10\n",
      "0.06\t0.03\t0.23\t0.10\t0.03\t0.09\t0.31\t0.01\t0.04\t0.08\t99.01\t--> 10\n",
      "0.98\t0.93\t0.09\t0.48\t0.04\t0.17\t4.11\t1.91\t0.11\t2.91\t88.27\t--> 10\n",
      "0.04\t0.05\t0.00\t0.00\t0.00\t0.00\t1.33\t0.26\t0.01\t0.19\t98.11\t--> 10\n",
      "0.00\t0.00\t0.00\t0.00\t0.00\t0.00\t0.01\t0.01\t0.01\t0.00\t99.97\t--> 10\n",
      "0.01\t0.00\t0.07\t0.04\t0.01\t0.07\t0.11\t0.03\t2.96\t0.00\t96.69\t--> 10\n",
      "0.73\t0.36\t0.00\t0.11\t0.61\t0.11\t0.61\t30.36\t0.27\t0.37\t66.47\t--> 10\n",
      "0.01\t0.00\t0.05\t0.00\t0.00\t0.00\t0.04\t0.02\t0.32\t0.00\t99.57\t--> 10\n",
      "0.04\t0.02\t0.00\t0.00\t0.00\t0.00\t0.05\t0.10\t0.00\t0.05\t99.74\t--> 10\n",
      "0.01\t0.01\t0.01\t0.00\t0.00\t0.00\t0.03\t0.04\t0.01\t0.01\t99.87\t--> 10\n",
      "0.00\t0.00\t0.00\t0.00\t0.00\t0.00\t0.01\t0.01\t0.00\t0.00\t99.98\t--> 10\n",
      "0.04\t0.01\t0.07\t0.05\t0.02\t0.06\t0.09\t0.02\t0.04\t0.24\t99.36\t--> 10\n",
      "0.16\t0.14\t0.16\t0.65\t0.03\t0.10\t0.63\t0.12\t0.20\t1.12\t96.68\t--> 10\n",
      "0.01\t0.00\t0.03\t0.00\t0.00\t0.00\t0.15\t0.02\t0.04\t0.00\t99.73\t--> 10\n",
      "0.03\t0.01\t0.09\t0.03\t0.00\t0.04\t0.86\t0.05\t0.01\t0.01\t98.85\t--> 10\n",
      "0.00\t0.00\t0.01\t0.01\t0.00\t0.00\t0.04\t0.00\t0.02\t0.00\t99.92\t--> 10\n",
      "0.00\t0.00\t0.00\t0.00\t0.00\t0.00\t0.02\t0.02\t0.01\t0.00\t99.94\t--> 10\n",
      "0.00\t0.00\t0.00\t0.00\t0.00\t0.00\t0.03\t0.01\t0.00\t0.00\t99.96\t--> 10\n",
      "0.00\t0.00\t0.00\t0.00\t0.00\t0.00\t0.02\t0.01\t0.00\t0.00\t99.97\t--> 10\n",
      "0.00\t0.00\t0.00\t0.00\t0.00\t0.00\t0.02\t0.01\t0.00\t0.00\t99.96\t--> 10\n",
      "0.00\t0.01\t0.00\t0.01\t0.01\t0.00\t0.11\t0.02\t0.00\t0.38\t99.46\t--> 10\n",
      "0.00\t0.00\t0.00\t0.00\t0.00\t0.00\t0.02\t0.03\t0.00\t0.01\t99.92\t--> 10\n",
      "0.26\t0.09\t0.00\t0.01\t0.00\t0.00\t0.04\t0.79\t0.00\t0.07\t98.73\t--> 10\n",
      "0.02\t0.05\t0.04\t0.01\t0.02\t0.04\t0.14\t0.03\t0.02\t0.34\t99.29\t--> 10\n",
      "0.07\t0.09\t0.03\t0.09\t0.01\t0.05\t0.15\t0.24\t0.09\t0.17\t99.00\t--> 10\n",
      "0.10\t0.10\t0.03\t0.08\t0.01\t0.01\t0.34\t0.23\t0.01\t1.04\t98.06\t--> 10\n",
      "0.04\t0.01\t0.00\t0.01\t0.01\t0.00\t0.08\t0.35\t0.18\t0.01\t99.30\t--> 10\n",
      "0.00\t0.00\t0.00\t0.00\t0.00\t0.00\t0.01\t0.02\t0.00\t0.00\t99.96\t--> 10\n",
      "0.02\t0.02\t0.00\t0.01\t0.00\t0.00\t0.19\t0.21\t0.01\t0.06\t99.48\t--> 10\n",
      "0.07\t0.00\t0.00\t0.00\t0.00\t0.00\t0.01\t0.06\t0.01\t0.03\t99.81\t--> 10\n",
      "0.01\t0.00\t0.04\t0.01\t0.00\t0.00\t0.04\t0.01\t0.61\t0.00\t99.28\t--> 10\n",
      "0.01\t0.01\t0.03\t0.01\t0.01\t0.00\t0.11\t0.02\t0.03\t0.12\t99.64\t--> 10\n",
      "0.00\t0.00\t0.00\t0.00\t0.00\t0.00\t0.01\t0.01\t0.00\t0.00\t99.97\t--> 10\n",
      "0.50\t0.19\t0.68\t0.07\t0.11\t0.38\t2.09\t0.31\t0.07\t0.05\t95.56\t--> 10\n",
      "0.02\t0.01\t0.00\t0.00\t0.00\t0.00\t0.11\t0.07\t0.00\t0.03\t99.76\t--> 10\n",
      "0.05\t0.04\t0.01\t0.02\t0.01\t0.01\t0.21\t0.28\t0.03\t0.09\t99.24\t--> 10\n",
      "0.00\t0.00\t0.00\t0.00\t0.00\t0.00\t0.01\t0.01\t0.00\t0.00\t99.97\t--> 10\n",
      "0.00\t0.00\t0.00\t0.00\t0.00\t0.00\t0.01\t0.01\t0.00\t0.00\t99.97\t--> 10\n",
      "0.49\t0.18\t0.27\t0.04\t0.11\t0.13\t0.84\t0.36\t0.05\t0.11\t97.40\t--> 10\n",
      "2.26\t0.44\t2.57\t0.67\t16.57\t15.28\t0.71\t10.49\t47.73\t0.80\t2.48\t--> 8\n",
      "2.11\t6.23\t3.94\t2.79\t0.73\t1.19\t2.72\t0.59\t3.50\t65.28\t10.92\t--> 9\n",
      "0.06\t0.02\t0.06\t0.01\t0.01\t0.02\t0.26\t0.04\t0.01\t0.07\t99.42\t--> 10\n",
      "1.62\t1.04\t0.24\t3.29\t1.09\t6.04\t0.26\t8.54\t44.65\t0.05\t33.18\t--> 8\n",
      "0.01\t0.03\t0.01\t0.00\t0.00\t0.00\t0.06\t0.06\t0.01\t0.06\t99.76\t--> 10\n",
      "0.40\t0.20\t0.23\t0.04\t0.20\t0.32\t1.45\t0.67\t0.06\t0.09\t96.36\t--> 10\n",
      "0.00\t0.00\t0.00\t0.00\t0.00\t0.00\t0.01\t0.02\t0.01\t0.00\t99.96\t--> 10\n",
      "0.03\t0.03\t0.00\t0.01\t0.00\t0.00\t0.08\t0.37\t0.02\t0.06\t99.41\t--> 10\n",
      "0.27\t0.05\t0.10\t0.06\t0.01\t0.02\t0.18\t0.07\t0.06\t0.25\t98.94\t--> 10\n",
      "0.00\t0.00\t0.01\t0.01\t0.01\t0.04\t0.16\t0.06\t0.85\t0.00\t98.85\t--> 10\n",
      "0.04\t0.05\t0.10\t0.10\t0.00\t0.02\t0.30\t0.05\t0.46\t0.02\t98.84\t--> 10\n",
      "0.38\t0.36\t0.45\t0.17\t0.07\t0.51\t3.17\t0.34\t0.77\t4.27\t89.51\t--> 10\n",
      "1.13\t0.33\t3.31\t0.34\t0.07\t0.02\t0.31\t0.11\t0.10\t5.80\t88.47\t--> 10\n",
      "0.00\t0.00\t0.04\t0.00\t0.00\t0.01\t0.04\t0.01\t0.02\t0.02\t99.86\t--> 10\n",
      "0.08\t0.01\t0.00\t0.00\t0.00\t0.00\t0.06\t0.51\t0.01\t0.07\t99.24\t--> 10\n",
      "0.01\t0.00\t0.00\t0.00\t0.00\t0.00\t0.03\t0.03\t0.00\t0.00\t99.92\t--> 10\n",
      "0.02\t0.01\t0.02\t0.03\t0.01\t0.01\t0.07\t0.02\t0.05\t0.06\t99.71\t--> 10\n",
      "0.05\t0.06\t0.01\t0.02\t0.02\t0.04\t0.31\t0.59\t1.18\t0.01\t97.72\t--> 10\n",
      "0.02\t0.01\t0.04\t0.00\t0.00\t0.00\t0.03\t0.01\t0.01\t0.20\t99.67\t--> 10\n",
      "0.00\t0.00\t0.01\t0.00\t0.00\t0.00\t0.02\t0.02\t0.01\t0.01\t99.91\t--> 10\n",
      "0.03\t0.02\t0.03\t0.00\t0.00\t0.00\t0.07\t0.04\t0.02\t0.02\t99.77\t--> 10\n",
      "0.02\t0.01\t0.00\t0.00\t0.00\t0.00\t0.03\t0.18\t0.02\t0.02\t99.71\t--> 10\n",
      "0.01\t0.00\t0.02\t0.00\t0.00\t0.00\t0.04\t0.01\t0.02\t0.00\t99.90\t--> 10\n",
      "0.08\t0.06\t0.00\t0.00\t0.09\t0.11\t1.47\t8.47\t0.16\t0.01\t89.55\t--> 10\n",
      "0.14\t0.03\t0.07\t0.01\t0.00\t0.00\t0.30\t0.07\t0.03\t0.10\t99.25\t--> 10\n",
      "0.00\t0.00\t0.01\t0.04\t0.01\t0.01\t0.11\t0.01\t0.03\t0.03\t99.74\t--> 10\n",
      "0.30\t0.09\t0.09\t0.04\t0.12\t0.12\t1.42\t0.99\t0.14\t0.19\t96.50\t--> 10\n",
      "0.02\t0.02\t0.01\t0.01\t0.00\t0.00\t0.05\t0.05\t0.03\t0.03\t99.78\t--> 10\n",
      "0.38\t0.39\t0.07\t1.27\t0.14\t0.05\t0.53\t0.41\t0.39\t10.16\t86.20\t--> 10\n",
      "0.11\t0.19\t0.02\t0.07\t0.01\t0.02\t0.47\t0.11\t0.03\t0.72\t98.26\t--> 10\n",
      "0.05\t0.14\t0.09\t0.05\t0.05\t0.07\t0.74\t0.08\t0.01\t1.13\t97.57\t--> 10\n",
      "0.13\t0.04\t0.06\t0.01\t0.01\t0.03\t0.07\t0.15\t0.17\t0.02\t99.31\t--> 10\n",
      "0.15\t0.01\t0.00\t0.00\t0.01\t0.03\t0.63\t5.88\t0.04\t0.00\t93.23\t--> 10\n",
      "0.39\t0.69\t0.07\t0.10\t0.07\t0.06\t6.10\t1.79\t0.14\t0.25\t90.33\t--> 10\n",
      "0.22\t0.24\t0.13\t0.14\t0.05\t0.04\t0.29\t0.22\t0.24\t0.55\t97.88\t--> 10\n",
      "0.01\t0.00\t0.00\t0.00\t0.00\t0.00\t0.02\t0.04\t0.00\t0.01\t99.91\t--> 10\n",
      "0.00\t0.00\t0.01\t0.00\t0.00\t0.00\t0.08\t0.02\t0.03\t0.03\t99.82\t--> 10\n",
      "0.00\t0.00\t0.00\t0.00\t0.00\t0.00\t0.02\t0.02\t0.01\t0.00\t99.95\t--> 10\n",
      "0.00\t0.00\t0.00\t0.00\t0.00\t0.00\t0.01\t0.01\t0.00\t0.00\t99.97\t--> 10\n",
      "0.01\t0.01\t0.00\t0.00\t0.00\t0.00\t0.07\t0.02\t0.00\t0.01\t99.89\t--> 10\n",
      "0.21\t0.24\t0.01\t0.06\t0.02\t0.02\t0.15\t0.16\t0.07\t0.08\t99.00\t--> 10\n",
      "0.00\t0.00\t0.01\t0.00\t0.00\t0.00\t0.05\t0.01\t0.10\t0.00\t99.83\t--> 10\n",
      "0.00\t0.00\t0.00\t0.00\t0.00\t0.00\t0.02\t0.01\t0.00\t0.00\t99.96\t--> 10\n",
      "0.13\t0.27\t0.01\t0.00\t0.00\t0.00\t0.08\t0.15\t0.00\t0.56\t98.80\t--> 10\n",
      "0.16\t0.13\t0.07\t0.24\t0.07\t0.51\t1.12\t1.83\t0.95\t0.17\t94.75\t--> 10\n",
      "0.68\t0.06\t1.20\t0.21\t0.21\t0.48\t0.66\t0.42\t0.12\t1.38\t94.56\t--> 10\n",
      "0.06\t0.06\t0.05\t0.01\t0.02\t0.46\t35.15\t0.73\t0.01\t0.08\t63.38\t--> 10\n",
      "0.00\t0.00\t0.07\t0.00\t0.00\t0.03\t41.24\t0.05\t0.01\t0.02\t58.58\t--> 10\n",
      "0.00\t0.00\t0.01\t0.00\t0.00\t0.00\t0.02\t0.01\t0.01\t0.05\t99.87\t--> 10\n",
      "0.07\t0.02\t0.00\t0.03\t0.02\t0.03\t0.29\t0.38\t0.05\t0.09\t99.02\t--> 10\n",
      "0.00\t0.00\t0.00\t0.00\t0.00\t0.00\t0.09\t0.01\t0.00\t0.03\t99.86\t--> 10\n",
      "0.00\t0.00\t0.00\t0.00\t0.00\t0.00\t0.03\t0.01\t0.01\t0.00\t99.94\t--> 10\n",
      "0.00\t0.00\t0.00\t0.00\t0.00\t0.00\t0.02\t0.02\t0.00\t0.00\t99.95\t--> 10\n",
      "0.00\t0.00\t0.00\t0.00\t0.00\t0.00\t0.01\t0.01\t0.00\t0.00\t99.97\t--> 10\n",
      "0.00\t0.00\t0.00\t0.00\t0.00\t0.00\t0.01\t0.01\t0.00\t0.00\t99.97\t--> 10\n",
      "0.00\t0.00\t0.00\t0.00\t0.00\t0.00\t0.02\t0.01\t0.00\t0.00\t99.97\t--> 10\n",
      "0.00\t0.00\t0.00\t0.00\t0.00\t0.00\t0.01\t0.01\t0.00\t0.00\t99.97\t--> 10\n",
      "0.00\t0.00\t0.00\t0.00\t0.00\t0.00\t0.02\t0.01\t0.00\t0.00\t99.97\t--> 10\n",
      "0.00\t0.00\t0.00\t0.00\t0.00\t0.00\t0.03\t0.01\t0.00\t0.00\t99.95\t--> 10\n",
      "0.00\t0.00\t0.00\t0.00\t0.00\t0.00\t0.01\t0.01\t0.00\t0.00\t99.97\t--> 10\n",
      "0.03\t0.04\t0.01\t0.01\t0.00\t0.01\t0.09\t0.10\t0.02\t0.08\t99.61\t--> 10\n",
      "1.81\t0.49\t4.86\t0.49\t0.43\t0.53\t1.24\t0.35\t0.15\t7.26\t82.39\t--> 10\n",
      "0.11\t0.08\t0.01\t0.00\t0.01\t0.02\t0.91\t0.49\t0.03\t0.06\t98.28\t--> 10\n",
      "0.20\t0.34\t0.28\t0.28\t0.11\t0.09\t0.41\t0.22\t0.24\t0.87\t96.95\t--> 10\n",
      "0.03\t0.01\t0.05\t0.02\t0.02\t0.06\t0.07\t0.03\t0.34\t0.02\t99.36\t--> 10\n",
      "0.17\t0.04\t0.09\t0.04\t0.02\t0.05\t0.09\t0.06\t0.04\t0.48\t98.93\t--> 10\n",
      "0.03\t0.08\t0.05\t0.11\t0.07\t0.12\t45.80\t0.14\t0.00\t17.72\t35.88\t--> 6\n",
      "0.10\t0.13\t0.11\t0.06\t0.15\t0.04\t0.21\t0.08\t0.02\t1.04\t98.06\t--> 10\n",
      "0.52\t0.04\t0.03\t0.01\t0.00\t0.00\t0.19\t0.26\t0.05\t0.12\t98.76\t--> 10\n",
      "0.01\t0.01\t0.02\t0.01\t0.03\t0.02\t0.17\t0.06\t0.17\t0.05\t99.46\t--> 10\n",
      "0.29\t0.07\t0.02\t0.14\t0.06\t0.09\t0.41\t0.70\t0.26\t0.22\t97.75\t--> 10\n",
      "0.08\t0.06\t0.02\t0.03\t0.11\t0.02\t0.30\t0.30\t0.07\t0.35\t98.66\t--> 10\n",
      "0.01\t0.00\t0.01\t0.01\t0.00\t0.00\t0.06\t0.01\t0.01\t0.00\t99.89\t--> 10\n",
      "0.10\t0.02\t0.01\t0.01\t0.00\t0.01\t0.11\t0.16\t0.05\t0.02\t99.51\t--> 10\n",
      "0.00\t0.00\t0.01\t0.00\t0.00\t0.00\t0.01\t0.01\t0.44\t0.00\t99.52\t--> 10\n",
      "0.00\t0.00\t0.00\t0.00\t0.00\t0.00\t0.02\t0.02\t0.01\t0.00\t99.95\t--> 10\n",
      "0.00\t0.00\t0.01\t0.00\t0.00\t0.00\t0.11\t0.01\t0.02\t0.06\t99.79\t--> 10\n",
      "0.01\t0.00\t0.01\t0.16\t0.00\t0.00\t0.15\t0.02\t0.01\t0.05\t99.59\t--> 10\n",
      "0.00\t0.00\t0.01\t0.00\t0.00\t0.00\t0.64\t0.01\t0.01\t0.00\t99.32\t--> 10\n",
      "0.01\t0.00\t0.00\t0.00\t0.00\t0.00\t0.07\t0.03\t0.00\t0.01\t99.87\t--> 10\n",
      "0.00\t0.00\t0.00\t0.00\t0.00\t0.00\t0.02\t0.01\t0.00\t0.00\t99.97\t--> 10\n",
      "0.02\t0.06\t0.02\t0.01\t0.01\t0.01\t0.12\t0.15\t0.06\t0.32\t99.22\t--> 10\n",
      "0.03\t0.08\t0.07\t0.71\t0.00\t0.00\t0.47\t0.01\t0.00\t14.48\t84.14\t--> 10\n",
      "0.08\t0.03\t0.02\t0.01\t0.01\t0.01\t0.07\t0.14\t0.03\t0.03\t99.57\t--> 10\n",
      "0.00\t0.00\t0.00\t0.00\t0.00\t0.00\t0.01\t0.01\t0.00\t0.00\t99.96\t--> 10\n",
      "0.00\t0.00\t0.00\t0.00\t0.00\t0.00\t0.01\t0.01\t0.00\t0.00\t99.96\t--> 10\n",
      "0.00\t0.00\t0.00\t0.00\t0.00\t0.00\t0.01\t0.02\t0.00\t0.00\t99.96\t--> 10\n",
      "0.02\t0.00\t0.00\t0.01\t0.01\t0.03\t0.08\t0.13\t0.86\t0.01\t98.85\t--> 10\n",
      "0.02\t0.02\t0.00\t0.01\t0.00\t0.00\t0.15\t0.14\t0.01\t0.06\t99.59\t--> 10\n",
      "0.00\t0.00\t0.00\t0.00\t0.00\t0.00\t0.01\t0.01\t0.00\t0.00\t99.97\t--> 10\n",
      "0.10\t0.02\t0.01\t0.01\t0.01\t0.03\t0.21\t0.34\t0.05\t0.01\t99.21\t--> 10\n",
      "0.31\t0.36\t5.69\t0.28\t0.02\t0.21\t2.47\t0.32\t0.15\t3.21\t86.98\t--> 10\n",
      "0.01\t0.00\t0.00\t0.00\t0.00\t0.00\t0.02\t0.07\t0.01\t0.01\t99.87\t--> 10\n",
      "0.00\t0.00\t0.00\t0.00\t0.00\t0.00\t0.03\t0.01\t0.00\t0.06\t99.88\t--> 10\n",
      "0.00\t0.01\t0.01\t0.02\t0.01\t0.00\t0.08\t0.01\t0.02\t0.03\t99.81\t--> 10\n",
      "0.02\t0.05\t0.11\t0.02\t0.00\t0.01\t0.06\t0.04\t0.02\t0.09\t99.58\t--> 10\n",
      "0.01\t0.00\t0.00\t0.00\t0.00\t0.00\t0.04\t0.02\t0.01\t0.00\t99.92\t--> 10\n",
      "0.34\t0.41\t0.17\t0.18\t0.04\t0.36\t1.16\t0.27\t0.32\t0.19\t96.55\t--> 10\n",
      "0.05\t0.07\t0.01\t0.01\t0.01\t0.02\t0.07\t0.22\t0.02\t0.17\t99.34\t--> 10\n",
      "0.16\t0.17\t0.01\t0.01\t0.06\t0.00\t0.28\t0.49\t0.01\t1.74\t97.07\t--> 10\n",
      "1.41\t0.29\t0.02\t0.28\t0.41\t0.17\t0.38\t19.56\t3.66\t0.11\t73.72\t--> 10\n",
      "0.01\t0.00\t0.00\t0.00\t0.00\t0.00\t0.02\t0.12\t0.00\t0.01\t99.83\t--> 10\n",
      "0.01\t0.00\t0.00\t0.00\t0.00\t0.00\t0.04\t0.07\t0.00\t0.00\t99.88\t--> 10\n",
      "0.07\t0.05\t0.02\t0.15\t0.02\t0.06\t0.08\t0.11\t0.37\t0.05\t99.02\t--> 10\n",
      "0.07\t0.03\t0.14\t0.03\t0.03\t0.02\t0.07\t0.09\t0.07\t0.73\t98.72\t--> 10\n",
      "0.03\t0.01\t0.01\t0.01\t0.00\t0.00\t0.14\t0.03\t0.01\t0.02\t99.73\t--> 10\n",
      "0.01\t0.00\t0.00\t0.00\t0.00\t0.00\t0.03\t0.04\t0.00\t0.02\t99.89\t--> 10\n",
      "0.00\t0.00\t0.00\t0.00\t0.00\t0.00\t0.01\t0.01\t0.00\t0.00\t99.96\t--> 10\n",
      "0.06\t0.01\t0.07\t0.03\t0.01\t0.02\t0.07\t0.02\t0.03\t0.23\t99.45\t--> 10\n",
      "0.01\t0.00\t0.00\t0.00\t0.00\t0.00\t0.05\t0.02\t0.00\t0.00\t99.91\t--> 10\n",
      "0.00\t0.00\t0.00\t0.00\t0.00\t0.00\t0.02\t0.01\t0.00\t0.00\t99.96\t--> 10\n",
      "0.00\t0.00\t0.00\t0.00\t0.00\t0.00\t0.03\t0.01\t0.00\t0.00\t99.95\t--> 10\n",
      "0.00\t0.00\t0.00\t0.00\t0.00\t0.00\t0.02\t0.01\t0.00\t0.00\t99.97\t--> 10\n",
      "0.00\t0.00\t0.00\t0.00\t0.00\t0.00\t0.02\t0.01\t0.00\t0.00\t99.96\t--> 10\n",
      "0.00\t0.00\t0.00\t0.00\t0.00\t0.00\t0.06\t0.09\t0.01\t0.01\t99.83\t--> 10\n",
      "0.02\t0.01\t0.00\t0.01\t0.00\t0.00\t0.09\t0.10\t0.00\t0.07\t99.70\t--> 10\n",
      "0.02\t0.03\t0.01\t0.01\t0.01\t0.01\t0.08\t0.32\t0.04\t0.02\t99.45\t--> 10\n",
      "0.00\t0.00\t0.00\t0.00\t0.00\t0.00\t0.02\t0.04\t0.01\t0.01\t99.91\t--> 10\n",
      "0.02\t0.01\t0.06\t0.05\t0.02\t0.07\t0.10\t0.03\t0.16\t0.09\t99.40\t--> 10\n",
      "0.89\t0.62\t0.07\t0.04\t0.12\t0.01\t0.66\t0.47\t0.14\t2.48\t94.50\t--> 10\n",
      "0.00\t0.00\t0.00\t0.00\t0.00\t0.00\t0.03\t0.04\t0.00\t0.00\t99.92\t--> 10\n",
      "0.20\t0.03\t0.16\t0.03\t0.01\t0.01\t0.11\t0.06\t0.01\t0.05\t99.33\t--> 10\n",
      "0.03\t0.02\t0.00\t0.00\t0.00\t0.00\t0.11\t0.27\t0.01\t0.05\t99.50\t--> 10\n",
      "0.02\t0.02\t0.04\t0.03\t0.00\t0.01\t0.12\t0.07\t0.09\t0.10\t99.50\t--> 10\n",
      "0.18\t0.25\t0.30\t0.67\t0.01\t0.05\t0.83\t0.11\t0.18\t1.29\t96.12\t--> 10\n"
     ]
    },
    {
     "name": "stdout",
     "output_type": "stream",
     "text": [
      "0.00\t0.00\t0.00\t0.00\t0.00\t0.00\t0.02\t0.02\t0.00\t0.00\t99.95\t--> 10\n",
      "0.07\t0.11\t0.08\t0.46\t0.04\t0.06\t0.21\t0.07\t0.06\t2.15\t96.70\t--> 10\n",
      "0.02\t0.02\t0.28\t0.07\t0.01\t0.09\t0.13\t0.04\t0.58\t0.20\t98.56\t--> 10\n",
      "0.08\t0.07\t0.00\t0.02\t0.04\t0.01\t0.13\t0.33\t0.08\t0.12\t99.12\t--> 10\n",
      "0.03\t0.04\t0.01\t0.14\t0.01\t0.03\t0.35\t0.24\t0.05\t0.39\t98.72\t--> 10\n",
      "1.12\t1.11\t3.49\t10.93\t0.10\t0.49\t3.03\t0.19\t3.50\t11.52\t64.52\t--> 10\n",
      "0.03\t0.00\t0.02\t0.01\t0.00\t0.01\t0.03\t0.02\t0.13\t0.00\t99.74\t--> 10\n",
      "0.01\t0.00\t0.00\t0.00\t0.00\t0.00\t0.05\t0.02\t0.01\t0.00\t99.91\t--> 10\n",
      "0.01\t0.05\t0.01\t0.00\t0.00\t0.00\t0.09\t0.03\t0.00\t2.01\t97.81\t--> 10\n",
      "0.02\t0.00\t0.00\t0.00\t0.00\t0.00\t0.01\t0.21\t0.02\t0.00\t99.73\t--> 10\n",
      "0.02\t0.01\t0.06\t0.08\t0.02\t0.09\t0.10\t0.02\t0.05\t0.28\t99.26\t--> 10\n",
      "0.09\t0.01\t0.01\t0.02\t0.00\t0.01\t0.05\t0.09\t0.06\t0.01\t99.65\t--> 10\n",
      "0.00\t0.00\t0.00\t0.00\t0.00\t0.00\t0.04\t0.01\t0.02\t0.00\t99.93\t--> 10\n",
      "0.02\t0.01\t0.03\t0.01\t0.00\t0.00\t0.05\t0.02\t0.03\t0.13\t99.70\t--> 10\n",
      "0.91\t0.11\t0.21\t0.08\t0.02\t0.03\t0.73\t0.22\t0.02\t0.23\t97.44\t--> 10\n",
      "0.15\t0.28\t0.09\t0.25\t0.01\t0.01\t3.03\t0.09\t0.00\t5.83\t90.26\t--> 10\n",
      "0.48\t0.55\t0.71\t1.91\t0.94\t1.39\t2.99\t0.81\t12.28\t0.54\t77.40\t--> 10\n",
      "0.03\t0.04\t0.00\t0.00\t0.00\t0.00\t1.08\t0.11\t0.00\t0.27\t98.46\t--> 10\n",
      "0.01\t0.00\t0.00\t0.00\t0.00\t0.00\t0.01\t0.19\t0.07\t0.00\t99.72\t--> 10\n",
      "0.01\t0.00\t0.00\t0.00\t0.00\t0.00\t0.03\t0.04\t0.01\t0.01\t99.90\t--> 10\n",
      "1.04\t0.73\t3.26\t19.17\t0.09\t0.82\t4.49\t0.27\t2.02\t12.17\t55.93\t--> 10\n",
      "0.07\t0.16\t0.09\t0.22\t0.11\t0.48\t0.87\t0.31\t0.31\t1.21\t96.18\t--> 10\n",
      "0.03\t0.05\t0.00\t0.02\t0.01\t0.01\t0.10\t1.17\t0.07\t0.03\t98.50\t--> 10\n",
      "0.10\t0.10\t0.01\t0.02\t0.01\t0.01\t0.15\t0.21\t0.02\t0.28\t99.08\t--> 10\n",
      "0.00\t0.00\t0.00\t0.00\t0.00\t0.00\t0.01\t0.01\t0.00\t0.00\t99.97\t--> 10\n",
      "0.00\t0.00\t0.00\t0.00\t0.00\t0.00\t0.01\t0.01\t0.00\t0.00\t99.97\t--> 10\n",
      "0.00\t0.00\t0.00\t0.00\t0.00\t0.00\t0.02\t0.02\t0.00\t0.00\t99.95\t--> 10\n",
      "0.03\t0.08\t0.19\t0.15\t0.02\t0.83\t28.00\t0.27\t0.02\t4.57\t65.84\t--> 10\n",
      "0.00\t0.02\t0.07\t0.03\t0.01\t0.07\t0.19\t0.02\t0.18\t0.13\t99.29\t--> 10\n",
      "0.20\t0.14\t0.00\t0.03\t0.02\t0.00\t0.05\t0.22\t0.03\t0.07\t99.23\t--> 10\n",
      "0.09\t0.06\t0.00\t0.02\t0.06\t0.01\t0.16\t0.52\t0.05\t0.09\t98.94\t--> 10\n",
      "1.13\t0.69\t3.63\t2.58\t0.05\t0.44\t1.64\t0.30\t1.16\t7.33\t81.06\t--> 10\n",
      "0.18\t0.07\t0.00\t0.01\t0.01\t0.00\t0.08\t1.26\t0.01\t0.10\t98.29\t--> 10\n",
      "0.00\t0.00\t0.00\t0.00\t0.00\t0.00\t0.01\t0.02\t0.00\t0.00\t99.96\t--> 10\n",
      "0.01\t0.00\t0.00\t0.00\t0.00\t0.00\t0.04\t0.07\t0.01\t0.00\t99.88\t--> 10\n",
      "0.00\t0.00\t0.00\t0.00\t0.00\t0.00\t0.01\t0.01\t0.00\t0.00\t99.96\t--> 10\n",
      "0.00\t0.00\t0.00\t0.00\t0.00\t0.00\t0.01\t0.01\t0.00\t0.00\t99.97\t--> 10\n",
      "0.00\t0.00\t0.00\t0.00\t0.00\t0.00\t0.01\t0.01\t0.00\t0.00\t99.96\t--> 10\n",
      "0.01\t0.02\t0.02\t0.01\t0.00\t0.00\t0.09\t0.06\t0.01\t0.08\t99.70\t--> 10\n",
      "0.00\t0.00\t0.02\t0.00\t0.00\t0.00\t0.02\t0.00\t0.04\t0.01\t99.88\t--> 10\n",
      "1.21\t0.81\t3.28\t1.84\t0.08\t0.42\t1.59\t0.29\t1.07\t7.14\t82.29\t--> 10\n",
      "0.01\t0.00\t0.11\t0.03\t0.02\t0.14\t0.09\t0.03\t0.19\t0.06\t99.33\t--> 10\n",
      "0.00\t0.00\t0.00\t0.00\t0.00\t0.00\t0.03\t0.02\t0.00\t0.00\t99.94\t--> 10\n",
      "0.00\t0.00\t0.00\t0.00\t0.00\t0.00\t0.02\t0.01\t0.00\t0.00\t99.96\t--> 10\n",
      "19.44\t39.84\t1.92\t0.31\t0.47\t0.00\t0.53\t0.25\t0.13\t26.94\t10.16\t--> 1\n",
      "0.01\t0.01\t0.02\t0.01\t0.00\t0.00\t0.06\t0.02\t0.03\t0.08\t99.77\t--> 10\n",
      "0.07\t0.04\t0.01\t0.01\t0.01\t0.01\t0.25\t0.64\t0.04\t0.09\t98.83\t--> 10\n",
      "0.01\t0.01\t0.02\t0.01\t0.01\t0.00\t0.08\t0.05\t0.04\t0.06\t99.70\t--> 10\n",
      "0.01\t0.01\t0.02\t0.00\t0.01\t0.00\t0.01\t0.01\t0.03\t0.05\t99.84\t--> 10\n",
      "0.01\t0.00\t0.00\t0.00\t0.00\t0.00\t0.05\t0.05\t0.00\t0.00\t99.88\t--> 10\n",
      "0.01\t0.00\t0.01\t0.01\t0.00\t0.01\t0.01\t0.03\t0.36\t0.00\t99.55\t--> 10\n",
      "0.01\t0.03\t0.00\t0.00\t0.00\t0.00\t0.23\t0.03\t0.00\t0.30\t99.39\t--> 10\n",
      "0.00\t0.00\t0.03\t0.01\t0.00\t0.00\t0.04\t0.01\t0.08\t0.02\t99.80\t--> 10\n",
      "0.09\t0.03\t0.05\t0.09\t0.04\t0.05\t0.16\t0.05\t0.05\t1.61\t97.77\t--> 10\n",
      "0.00\t0.00\t0.00\t0.00\t0.00\t0.00\t0.02\t0.02\t0.01\t0.00\t99.95\t--> 10\n",
      "0.00\t0.00\t0.00\t0.00\t0.00\t0.00\t0.01\t0.01\t0.00\t0.00\t99.97\t--> 10\n",
      "0.05\t0.02\t0.11\t0.05\t0.01\t0.03\t0.14\t0.04\t0.02\t0.05\t99.48\t--> 10\n",
      "0.01\t0.02\t0.01\t0.01\t0.01\t0.01\t0.18\t0.04\t0.01\t0.18\t99.52\t--> 10\n",
      "0.03\t0.02\t0.00\t0.01\t0.00\t0.00\t0.03\t0.26\t0.01\t0.05\t99.60\t--> 10\n",
      "0.00\t0.00\t0.00\t0.00\t0.00\t0.00\t0.02\t0.01\t0.01\t0.00\t99.96\t--> 10\n",
      "0.00\t0.00\t0.00\t0.00\t0.00\t0.00\t0.02\t0.03\t0.00\t0.00\t99.94\t--> 10\n",
      "0.42\t0.08\t0.30\t0.08\t0.03\t0.10\t0.81\t0.17\t0.03\t0.05\t97.95\t--> 10\n",
      "0.00\t0.00\t0.00\t0.00\t0.00\t0.00\t0.03\t0.02\t0.00\t0.00\t99.95\t--> 10\n",
      "0.00\t0.00\t0.00\t0.00\t0.00\t0.00\t0.02\t0.01\t0.00\t0.00\t99.97\t--> 10\n",
      "0.00\t0.00\t0.00\t0.00\t0.00\t0.00\t0.02\t0.01\t0.00\t0.00\t99.96\t--> 10\n",
      "0.00\t0.00\t0.00\t0.00\t0.00\t0.00\t0.02\t0.01\t0.00\t0.00\t99.97\t--> 10\n",
      "0.00\t0.00\t0.00\t0.00\t0.00\t0.00\t0.02\t0.01\t0.00\t0.00\t99.97\t--> 10\n",
      "0.00\t0.00\t0.00\t0.00\t0.00\t0.00\t0.02\t0.01\t0.00\t0.00\t99.97\t--> 10\n",
      "0.00\t0.00\t0.00\t0.00\t0.00\t0.00\t0.02\t0.01\t0.00\t0.00\t99.96\t--> 10\n",
      "0.00\t0.00\t0.01\t0.01\t0.00\t0.00\t0.14\t0.01\t0.03\t0.02\t99.76\t--> 10\n",
      "0.00\t0.00\t0.00\t0.00\t0.00\t0.00\t0.04\t0.01\t0.00\t0.01\t99.92\t--> 10\n",
      "0.43\t0.07\t0.14\t0.05\t0.03\t0.09\t0.55\t0.44\t0.05\t0.06\t98.09\t--> 10\n",
      "0.00\t0.00\t0.00\t0.00\t0.00\t0.00\t0.01\t0.02\t0.00\t0.00\t99.96\t--> 10\n",
      "0.01\t0.00\t0.03\t0.00\t0.00\t0.00\t0.09\t0.04\t0.31\t0.00\t99.51\t--> 10\n",
      "0.63\t0.76\t0.11\t0.77\t0.29\t0.74\t1.23\t0.44\t1.31\t0.34\t93.37\t--> 10\n",
      "0.05\t0.15\t0.02\t0.00\t0.01\t0.01\t0.04\t0.15\t0.02\t0.06\t99.51\t--> 10\n",
      "0.40\t0.38\t0.14\t0.05\t0.16\t0.22\t0.75\t0.54\t0.13\t0.32\t96.91\t--> 10\n",
      "0.44\t0.92\t1.36\t2.65\t2.20\t6.78\t3.20\t2.14\t1.78\t1.02\t77.49\t--> 10\n",
      "0.08\t0.08\t0.00\t0.05\t0.01\t0.02\t0.14\t0.40\t0.01\t0.27\t98.93\t--> 10\n",
      "0.00\t0.00\t0.01\t0.00\t0.00\t0.00\t0.01\t0.00\t0.02\t0.00\t99.95\t--> 10\n",
      "0.01\t0.00\t0.03\t0.00\t0.00\t0.01\t0.09\t0.02\t0.03\t0.00\t99.80\t--> 10\n",
      "0.00\t0.00\t0.01\t0.00\t0.00\t0.00\t0.01\t0.02\t0.01\t0.00\t99.95\t--> 10\n",
      "0.27\t0.11\t0.26\t0.01\t0.05\t0.18\t1.25\t0.23\t0.02\t0.04\t97.58\t--> 10\n",
      "0.01\t0.00\t0.00\t0.00\t0.00\t0.00\t0.06\t0.04\t0.01\t0.01\t99.87\t--> 10\n",
      "0.01\t0.01\t0.02\t0.00\t0.01\t0.00\t0.43\t0.03\t0.00\t0.19\t99.30\t--> 10\n",
      "0.00\t0.00\t0.00\t0.01\t0.00\t0.00\t0.01\t0.00\t0.01\t0.01\t99.94\t--> 10\n",
      "0.03\t0.02\t0.49\t0.14\t0.00\t0.23\t28.25\t0.45\t0.30\t0.06\t70.02\t--> 10\n",
      "0.91\t0.72\t0.22\t0.11\t0.27\t0.12\t3.51\t0.73\t0.07\t17.72\t75.63\t--> 10\n",
      "0.41\t0.25\t0.60\t1.18\t0.01\t1.22\t22.36\t1.79\t0.07\t1.72\t70.40\t--> 10\n",
      "3.67\t1.07\t0.04\t0.94\t1.06\t0.65\t0.31\t20.99\t9.01\t0.45\t61.81\t--> 10\n",
      "0.01\t0.00\t0.02\t0.00\t0.01\t0.02\t0.03\t0.01\t0.04\t0.02\t99.84\t--> 10\n",
      "0.05\t0.01\t0.00\t0.00\t0.00\t0.00\t0.18\t0.20\t0.01\t0.04\t99.53\t--> 10\n",
      "0.03\t0.06\t0.00\t0.00\t0.02\t0.01\t0.12\t0.67\t0.16\t0.02\t98.90\t--> 10\n",
      "0.02\t0.01\t0.00\t0.00\t0.00\t0.00\t0.08\t0.23\t0.01\t0.00\t99.65\t--> 10\n",
      "0.14\t0.16\t0.02\t0.02\t0.04\t0.13\t0.12\t0.35\t0.88\t0.02\t98.12\t--> 10\n",
      "0.00\t0.00\t0.02\t0.01\t0.00\t0.00\t0.06\t0.01\t0.03\t0.03\t99.84\t--> 10\n",
      "0.01\t0.01\t0.02\t0.01\t0.01\t0.03\t0.32\t0.09\t1.07\t0.02\t98.41\t--> 10\n",
      "1.14\t1.41\t0.18\t0.55\t0.46\t1.18\t0.41\t7.00\t1.60\t0.58\t85.51\t--> 10\n",
      "0.32\t0.43\t0.02\t0.04\t0.03\t0.05\t0.16\t0.32\t0.50\t0.05\t98.09\t--> 10\n",
      "0.06\t0.02\t0.12\t0.68\t0.02\t0.37\t1.22\t0.19\t0.22\t0.21\t96.89\t--> 10\n",
      "0.02\t0.03\t0.01\t0.00\t0.01\t0.01\t0.10\t0.07\t0.03\t0.02\t99.70\t--> 10\n",
      "0.07\t0.05\t0.00\t0.01\t0.00\t0.00\t0.02\t0.34\t0.01\t0.10\t99.39\t--> 10\n",
      "0.62\t0.19\t0.08\t0.03\t0.02\t0.00\t0.05\t0.15\t0.01\t3.09\t95.76\t--> 10\n",
      "0.00\t0.00\t0.00\t0.00\t0.00\t0.00\t0.02\t0.01\t0.00\t0.00\t99.96\t--> 10\n",
      "0.00\t0.00\t0.01\t0.01\t0.00\t0.00\t0.02\t0.01\t0.02\t0.01\t99.91\t--> 10\n",
      "0.00\t0.00\t0.00\t0.00\t0.00\t0.00\t0.02\t0.01\t0.00\t0.00\t99.97\t--> 10\n",
      "0.20\t0.27\t0.32\t0.07\t0.11\t0.23\t2.63\t0.28\t0.08\t5.84\t89.97\t--> 10\n",
      "0.51\t1.28\t29.83\t1.48\t0.96\t0.41\t1.18\t0.04\t0.81\t4.52\t58.99\t--> 10\n",
      "0.05\t0.01\t0.00\t0.00\t0.00\t0.00\t0.06\t0.27\t0.00\t0.03\t99.58\t--> 10\n",
      "0.00\t0.00\t0.01\t0.00\t0.00\t0.00\t0.03\t0.01\t0.02\t0.01\t99.93\t--> 10\n",
      "0.01\t0.00\t0.00\t0.00\t0.00\t0.00\t0.07\t0.02\t0.00\t0.01\t99.88\t--> 10\n",
      "0.06\t0.03\t0.01\t0.05\t0.01\t0.01\t0.09\t0.33\t0.21\t0.03\t99.17\t--> 10\n",
      "0.04\t0.04\t0.12\t0.04\t0.08\t0.11\t0.28\t0.05\t0.18\t0.08\t98.97\t--> 10\n",
      "0.01\t0.01\t0.00\t0.00\t0.00\t0.00\t0.03\t0.13\t0.01\t0.01\t99.81\t--> 10\n",
      "0.22\t0.15\t0.10\t0.01\t0.73\t0.05\t1.38\t0.55\t0.07\t4.61\t92.14\t--> 10\n",
      "0.18\t0.05\t0.04\t0.05\t0.01\t0.00\t0.04\t0.07\t0.02\t0.77\t98.77\t--> 10\n",
      "0.00\t0.00\t0.00\t0.00\t0.00\t0.00\t0.01\t0.01\t0.00\t0.01\t99.95\t--> 10\n",
      "0.04\t0.03\t0.00\t0.00\t0.00\t0.00\t0.04\t0.54\t0.01\t0.03\t99.31\t--> 10\n",
      "0.08\t0.05\t0.00\t0.00\t0.00\t0.00\t0.35\t0.20\t0.00\t0.08\t99.22\t--> 10\n",
      "0.59\t0.57\t0.05\t0.51\t0.45\t1.17\t0.94\t1.09\t0.65\t0.14\t93.84\t--> 10\n",
      "0.08\t0.07\t0.05\t0.02\t0.03\t0.03\t0.34\t0.15\t0.07\t0.44\t98.71\t--> 10\n",
      "0.00\t0.00\t0.02\t0.00\t0.00\t0.00\t0.02\t0.01\t0.12\t0.00\t99.83\t--> 10\n",
      "0.08\t0.10\t0.02\t0.01\t0.04\t0.01\t0.29\t0.18\t0.02\t0.75\t98.50\t--> 10\n",
      "0.06\t0.01\t0.14\t0.11\t0.02\t0.07\t0.20\t0.04\t0.08\t0.33\t98.94\t--> 10\n",
      "0.00\t0.00\t0.05\t0.00\t0.00\t0.05\t0.06\t0.03\t0.60\t0.00\t99.20\t--> 10\n",
      "0.00\t0.00\t0.03\t0.00\t0.00\t0.00\t0.05\t0.01\t0.06\t0.00\t99.85\t--> 10\n",
      "0.00\t0.00\t0.01\t0.00\t0.00\t0.00\t0.02\t0.01\t0.03\t0.00\t99.92\t--> 10\n",
      "0.00\t0.00\t0.00\t0.00\t0.00\t0.00\t0.01\t0.01\t0.01\t0.00\t99.97\t--> 10\n",
      "0.00\t0.00\t0.00\t0.00\t0.00\t0.00\t0.01\t0.01\t0.00\t0.00\t99.97\t--> 10\n",
      "0.05\t0.04\t0.00\t0.01\t0.00\t0.01\t0.10\t0.61\t0.01\t0.10\t99.05\t--> 10\n",
      "0.00\t0.00\t0.02\t0.00\t0.01\t0.02\t0.03\t0.01\t0.04\t0.01\t99.86\t--> 10\n",
      "0.01\t0.00\t0.01\t0.00\t0.00\t0.00\t0.18\t0.04\t0.04\t0.00\t99.72\t--> 10\n",
      "0.00\t0.00\t0.00\t0.00\t0.00\t0.00\t0.04\t0.02\t0.01\t0.00\t99.92\t--> 10\n",
      "0.00\t0.00\t0.00\t0.00\t0.00\t0.00\t0.02\t0.03\t0.00\t0.00\t99.94\t--> 10\n",
      "0.00\t0.00\t0.00\t0.00\t0.00\t0.00\t0.02\t0.02\t0.01\t0.00\t99.94\t--> 10\n",
      "0.00\t0.00\t0.00\t0.00\t0.00\t0.00\t0.03\t0.03\t0.00\t0.00\t99.93\t--> 10\n",
      "0.00\t0.00\t0.00\t0.00\t0.00\t0.00\t0.02\t0.02\t0.00\t0.00\t99.95\t--> 10\n",
      "1.72\t1.46\t23.79\t10.58\t0.01\t0.43\t3.93\t0.28\t1.87\t7.83\t48.11\t--> 10\n",
      "0.09\t0.09\t0.04\t0.03\t0.01\t0.03\t0.22\t0.23\t0.05\t0.22\t98.99\t--> 10\n",
      "0.16\t0.08\t0.00\t0.00\t0.00\t0.00\t0.03\t0.90\t0.00\t0.04\t98.77\t--> 10\n",
      "0.24\t2.03\t0.58\t0.50\t0.28\t0.34\t1.27\t0.60\t1.14\t4.32\t88.70\t--> 10\n",
      "0.06\t0.02\t0.05\t0.02\t0.00\t0.00\t0.18\t0.03\t0.02\t0.15\t99.46\t--> 10\n",
      "0.39\t0.74\t0.04\t0.60\t0.44\t0.83\t1.06\t1.24\t1.33\t0.13\t93.19\t--> 10\n",
      "0.47\t0.12\t0.02\t0.21\t0.53\t0.11\t0.15\t4.76\t7.63\t0.04\t85.95\t--> 10\n",
      "0.01\t0.00\t0.00\t0.00\t0.00\t0.00\t0.09\t0.15\t0.00\t0.00\t99.74\t--> 10\n",
      "0.76\t0.49\t1.39\t0.71\t0.01\t0.17\t1.66\t0.28\t0.97\t1.64\t91.91\t--> 10\n",
      "0.02\t0.01\t0.02\t0.05\t0.01\t0.03\t0.06\t0.06\t0.45\t0.03\t99.26\t--> 10\n",
      "0.06\t0.04\t0.01\t0.03\t0.00\t0.00\t5.92\t0.46\t0.00\t1.68\t91.80\t--> 10\n",
      "0.00\t0.00\t0.01\t0.00\t0.00\t0.04\t97.31\t0.08\t0.00\t0.01\t2.55\t--> 6\n",
      "0.00\t0.00\t0.02\t0.00\t0.00\t0.03\t89.38\t0.03\t0.00\t0.01\t10.52\t--> 6\n",
      "0.17\t0.12\t2.59\t0.86\t0.01\t0.88\t13.36\t0.10\t0.13\t3.41\t78.37\t--> 10\n",
      "0.00\t0.00\t0.00\t0.00\t0.00\t0.02\t98.27\t0.03\t0.00\t0.00\t1.68\t--> 6\n",
      "0.68\t0.88\t0.07\t0.53\t0.08\t0.44\t0.25\t4.24\t0.27\t0.18\t92.38\t--> 10\n",
      "0.01\t0.01\t0.00\t0.00\t0.00\t0.00\t0.05\t0.12\t0.00\t0.02\t99.78\t--> 10\n",
      "0.40\t0.29\t9.52\t0.45\t0.00\t0.22\t2.37\t0.14\t1.66\t1.05\t83.91\t--> 10\n",
      "0.01\t0.01\t0.02\t0.02\t0.00\t0.00\t0.03\t0.03\t0.03\t0.03\t99.82\t--> 10\n",
      "0.55\t0.75\t0.02\t0.01\t0.03\t0.00\t0.21\t0.41\t0.12\t0.19\t97.70\t--> 10\n",
      "0.31\t0.43\t0.06\t0.37\t0.21\t0.33\t0.48\t1.26\t1.21\t0.09\t95.26\t--> 10\n",
      "0.02\t0.01\t0.02\t0.01\t0.00\t0.01\t0.05\t0.07\t0.06\t0.02\t99.74\t--> 10\n",
      "0.02\t0.01\t0.02\t0.01\t0.00\t0.00\t0.03\t0.01\t0.01\t0.02\t99.85\t--> 10\n",
      "0.04\t0.02\t0.00\t0.02\t0.00\t0.00\t0.28\t0.26\t0.05\t0.01\t99.32\t--> 10\n",
      "0.02\t0.00\t0.00\t0.01\t0.01\t0.00\t0.06\t0.06\t0.01\t0.02\t99.82\t--> 10\n",
      "0.03\t0.03\t0.01\t0.06\t0.01\t0.03\t0.28\t0.08\t0.04\t0.07\t99.36\t--> 10\n",
      "3.16\t0.80\t4.66\t0.12\t1.60\t0.40\t0.50\t1.15\t1.00\t1.82\t84.80\t--> 10\n",
      "1.46\t0.53\t1.38\t0.16\t0.20\t0.43\t2.78\t0.49\t0.17\t0.20\t92.20\t--> 10\n",
      "0.00\t0.00\t0.01\t0.00\t0.00\t0.04\t97.76\t0.02\t0.00\t0.01\t2.16\t--> 6\n",
      "0.00\t0.00\t0.24\t0.00\t0.00\t0.12\t97.08\t0.01\t0.01\t0.02\t2.52\t--> 6\n",
      "0.01\t0.00\t0.09\t0.01\t0.00\t0.07\t97.68\t0.04\t0.01\t0.00\t2.09\t--> 6\n",
      "0.02\t0.06\t1.10\t0.07\t0.01\t0.03\t1.51\t0.03\t0.06\t0.47\t96.64\t--> 10\n",
      "0.03\t0.01\t0.03\t0.21\t0.00\t0.02\t0.82\t0.09\t0.07\t0.09\t98.65\t--> 10\n",
      "0.29\t0.04\t0.00\t0.01\t0.00\t0.00\t14.94\t2.24\t0.00\t0.84\t81.65\t--> 10\n",
      "0.00\t0.00\t0.00\t0.00\t0.00\t0.00\t0.02\t0.03\t0.00\t0.00\t99.94\t--> 10\n",
      "0.00\t0.00\t0.00\t0.00\t0.00\t0.00\t0.02\t0.02\t0.00\t0.00\t99.95\t--> 10\n",
      "0.00\t0.00\t0.00\t0.00\t0.00\t0.00\t0.02\t0.01\t0.00\t0.00\t99.96\t--> 10\n",
      "0.00\t0.00\t0.00\t0.00\t0.00\t0.00\t0.02\t0.01\t0.00\t0.00\t99.96\t--> 10\n",
      "0.00\t0.00\t0.00\t0.00\t0.00\t0.00\t0.02\t0.01\t0.00\t0.00\t99.96\t--> 10\n",
      "0.01\t0.00\t0.00\t0.00\t0.00\t0.00\t0.03\t0.05\t0.02\t0.00\t99.89\t--> 10\n",
      "0.02\t0.00\t0.26\t0.02\t0.00\t0.03\t9.55\t0.14\t0.59\t0.01\t89.39\t--> 10\n",
      "0.01\t0.01\t0.52\t0.06\t0.00\t0.52\t80.73\t0.04\t0.02\t0.23\t17.85\t--> 6\n",
      "0.02\t0.01\t0.19\t0.09\t0.00\t0.06\t0.99\t0.07\t0.25\t0.05\t98.28\t--> 10\n",
      "0.00\t0.00\t0.01\t0.00\t0.00\t0.03\t96.95\t0.03\t0.00\t0.00\t2.97\t--> 6\n",
      "0.02\t0.00\t0.01\t0.00\t0.00\t0.00\t43.10\t0.46\t0.00\t0.05\t56.35\t--> 10\n",
      "0.00\t0.00\t0.00\t0.00\t0.00\t0.00\t0.01\t0.01\t0.00\t0.00\t99.97\t--> 10\n",
      "0.00\t0.00\t0.00\t0.00\t0.00\t0.00\t0.02\t0.01\t0.01\t0.00\t99.96\t--> 10\n",
      "0.00\t0.00\t0.00\t0.00\t0.00\t0.00\t0.01\t0.02\t0.00\t0.00\t99.96\t--> 10\n",
      "0.75\t0.13\t1.85\t0.28\t0.01\t0.03\t0.33\t0.04\t0.04\t1.11\t95.43\t--> 10\n",
      "0.99\t0.50\t0.26\t0.01\t0.15\t0.17\t0.56\t0.56\t0.18\t0.24\t96.37\t--> 10\n",
      "0.78\t0.65\t3.24\t0.05\t0.66\t1.42\t1.18\t1.08\t0.43\t0.05\t90.46\t--> 10\n",
      "0.00\t0.00\t0.01\t0.00\t0.00\t0.03\t98.51\t0.03\t0.00\t0.00\t1.42\t--> 6\n",
      "0.02\t0.01\t0.50\t0.26\t0.00\t6.37\t58.69\t0.32\t0.21\t0.02\t33.59\t--> 6\n",
      "0.15\t0.16\t0.00\t0.05\t0.05\t0.03\t0.15\t2.16\t0.23\t0.07\t96.94\t--> 10\n",
      "1.70\t0.95\t0.23\t0.05\t0.02\t0.00\t0.13\t0.11\t0.01\t6.04\t90.75\t--> 10\n",
      "0.53\t0.98\t0.55\t0.30\t0.74\t0.05\t1.12\t0.28\t0.06\t19.73\t75.63\t--> 10\n",
      "0.17\t0.01\t0.00\t0.00\t0.00\t0.00\t0.33\t0.62\t0.00\t0.05\t98.81\t--> 10\n",
      "0.00\t0.00\t0.18\t0.37\t0.00\t0.02\t0.43\t0.00\t0.11\t0.07\t98.81\t--> 10\n",
      "0.00\t0.00\t0.22\t0.00\t0.00\t0.13\t61.68\t0.03\t0.00\t0.02\t37.92\t--> 6\n",
      "0.19\t0.09\t8.14\t0.72\t0.07\t0.52\t1.98\t0.05\t0.04\t3.70\t84.50\t--> 10\n",
      "0.01\t0.00\t0.00\t0.00\t0.00\t0.00\t0.33\t0.10\t0.00\t0.00\t99.55\t--> 10\n",
      "0.00\t0.00\t0.00\t0.00\t0.00\t0.00\t0.02\t0.02\t0.00\t0.00\t99.95\t--> 10\n",
      "0.00\t0.00\t0.00\t0.00\t0.00\t0.00\t0.02\t0.02\t0.00\t0.00\t99.95\t--> 10\n",
      "0.00\t0.00\t0.00\t0.00\t0.00\t0.00\t0.02\t0.02\t0.00\t0.00\t99.95\t--> 10\n",
      "0.00\t0.00\t0.00\t0.00\t0.00\t0.00\t0.02\t0.02\t0.00\t0.00\t99.95\t--> 10\n",
      "0.00\t0.00\t0.00\t0.00\t0.00\t0.00\t0.02\t0.02\t0.00\t0.00\t99.95\t--> 10\n",
      "0.00\t0.00\t0.00\t0.00\t0.00\t0.00\t0.02\t0.02\t0.00\t0.00\t99.95\t--> 10\n",
      "0.00\t0.00\t0.00\t0.00\t0.00\t0.00\t0.02\t0.02\t0.00\t0.00\t99.95\t--> 10\n",
      "0.00\t0.00\t0.00\t0.00\t0.00\t0.00\t0.02\t0.02\t0.00\t0.00\t99.95\t--> 10\n",
      "0.00\t0.00\t0.00\t0.00\t0.00\t0.00\t0.02\t0.02\t0.00\t0.00\t99.95\t--> 10\n",
      "0.00\t0.00\t0.00\t0.00\t0.00\t0.00\t0.02\t0.02\t0.00\t0.00\t99.95\t--> 10\n",
      "0.00\t0.00\t0.00\t0.00\t0.00\t0.00\t0.02\t0.02\t0.00\t0.00\t99.95\t--> 10\n",
      "0.00\t0.00\t0.00\t0.00\t0.00\t0.00\t0.02\t0.02\t0.00\t0.00\t99.95\t--> 10\n",
      "0.00\t0.00\t0.00\t0.00\t0.00\t0.00\t0.02\t0.02\t0.00\t0.00\t99.95\t--> 10\n",
      "0.00\t0.00\t0.00\t0.00\t0.00\t0.00\t0.02\t0.02\t0.00\t0.00\t99.95\t--> 10\n"
     ]
    }
   ],
   "source": [
    "print('Predicted probabilities [%] for the different exercises:\\n')\n",
    "for jj in range(np.shape(pred_prob_test)[1]):\n",
    "    print('Ex. {:d}\\t'.format(jj), end='')\n",
    "print('pred. class')\n",
    "        \n",
    "for ii in range(np.shape(pred_prob_test)[0]):\n",
    "    for jj in range(np.shape(pred_prob_test)[1]):\n",
    "        print('{:.2f}\\t'.format(pred_prob_test[ii,jj]*100), end='')\n",
    "    print('--> {:d}'.format(np.argmax(pred_prob_test[ii,:])))\n",
    "    "
   ]
  },
  {
   "cell_type": "code",
   "execution_count": 160,
   "metadata": {
    "ExecuteTime": {
     "end_time": "2019-01-14T09:50:11.669770Z",
     "start_time": "2019-01-14T09:50:11.641769Z"
    }
   },
   "outputs": [
    {
     "data": {
      "text/plain": [
       "array([ 0,  0,  0,  0,  0,  0,  0,  0,  0,  0,  0,  0,  0,  0,  0,  0,  0,\n",
       "        0,  0,  0,  0,  0,  0,  0,  0,  0,  0,  1,  0,  0,  0,  0,  1,  0,\n",
       "        0,  0,  0,  0,  1,  1,  0,  1,  0,  0,  0,  0,  0,  1,  0,  0,  0,\n",
       "        0,  0,  0, 10,  0,  1,  0,  0,  0,  2,  2,  2,  2,  2,  2,  2,  3,\n",
       "        2,  2,  2,  2,  2,  3,  2,  9,  2,  2,  2,  2,  2,  2,  2,  2, 10,\n",
       "        2,  2,  2,  2,  2,  3,  3,  3,  3,  3,  3,  3,  3,  3,  3,  3,  3,\n",
       "        3,  3,  3,  3,  3,  3,  3,  3,  3,  3,  3,  3,  3,  3,  3,  3,  3,\n",
       "        3,  4,  4,  4,  4,  4,  4,  4,  4,  4,  4,  4,  4,  4,  4,  4,  4,\n",
       "        4,  4,  4,  4,  4,  4,  4,  4,  4,  4,  4,  4,  4,  4,  4,  5,  5,\n",
       "        5,  5,  5,  5,  5,  5,  5,  5,  5,  5,  5,  5,  5,  5,  5,  5,  5,\n",
       "        5,  5,  5,  5,  5,  5,  5,  5,  5,  5,  5,  6,  6,  6,  6,  6,  6,\n",
       "        6,  6,  6, 10,  6, 10,  6,  6, 10, 10, 10,  6,  6,  6,  6, 10,  6,\n",
       "       10, 10,  6,  6,  6,  6,  6,  7,  7,  7,  7,  7,  7,  7,  7,  7,  7,\n",
       "        7,  7,  7,  7,  7,  7,  7,  7,  7,  7,  7,  7,  7,  7,  7,  7,  7,\n",
       "        7,  7,  7,  7,  8,  8,  8,  8,  8,  8,  8,  8,  8,  8,  8,  8,  8,\n",
       "        8,  8,  8,  8,  8,  8,  8,  8,  8,  8,  8,  8,  8,  8,  8,  8,  8,\n",
       "        9,  2,  9,  9,  9,  9,  2,  2,  2,  9,  9,  2,  9,  2,  2,  9,  9,\n",
       "        9,  9,  9,  9,  9,  9,  9,  9,  9,  2,  9,  9,  2, 10, 10, 10, 10,\n",
       "       10, 10, 10, 10, 10, 10, 10, 10, 10, 10, 10, 10, 10, 10, 10, 10, 10,\n",
       "       10, 10, 10, 10, 10, 10, 10, 10, 10, 10, 10, 10, 10, 10, 10, 10, 10,\n",
       "       10, 10, 10, 10, 10, 10, 10, 10, 10, 10, 10, 10, 10, 10, 10, 10, 10,\n",
       "       10, 10, 10, 10, 10, 10, 10, 10, 10, 10, 10, 10, 10, 10, 10,  8, 10,\n",
       "       10, 10, 10, 10, 10, 10, 10, 10, 10, 10, 10, 10, 10, 10, 10, 10, 10,\n",
       "       10, 10, 10, 10, 10, 10, 10, 10, 10, 10, 10, 10, 10, 10, 10, 10, 10,\n",
       "       10, 10, 10, 10, 10, 10, 10, 10, 10, 10, 10, 10, 10, 10, 10, 10, 10,\n",
       "       10, 10, 10, 10, 10, 10, 10, 10, 10, 10, 10, 10, 10, 10, 10, 10, 10,\n",
       "        7, 10, 10, 10, 10, 10, 10, 10, 10, 10, 10, 10, 10, 10, 10, 10, 10,\n",
       "       10, 10, 10, 10, 10, 10, 10, 10, 10, 10, 10, 10, 10, 10, 10, 10, 10,\n",
       "       10, 10, 10, 10, 10, 10, 10, 10, 10, 10, 10, 10, 10, 10, 10, 10, 10,\n",
       "       10, 10, 10, 10, 10, 10, 10, 10, 10, 10, 10, 10, 10, 10, 10, 10, 10,\n",
       "       10, 10, 10, 10, 10, 10, 10, 10, 10, 10, 10, 10, 10, 10, 10, 10, 10,\n",
       "       10, 10, 10, 10, 10, 10, 10, 10, 10, 10, 10, 10, 10, 10, 10, 10, 10,\n",
       "       10, 10, 10, 10, 10, 10, 10, 10, 10, 10, 10, 10, 10, 10, 10, 10, 10,\n",
       "       10, 10, 10, 10, 10, 10, 10, 10, 10, 10, 10, 10, 10, 10, 10, 10, 10,\n",
       "       10, 10, 10, 10, 10, 10, 10, 10, 10, 10, 10, 10, 10, 10, 10, 10, 10,\n",
       "       10, 10, 10, 10, 10, 10, 10, 10, 10, 10, 10, 10, 10, 10, 10, 10, 10,\n",
       "       10, 10, 10, 10, 10, 10, 10, 10, 10, 10, 10, 10, 10, 10, 10, 10, 10,\n",
       "       10, 10, 10, 10, 10, 10, 10, 10, 10, 10, 10, 10, 10, 10, 10, 10, 10,\n",
       "       10, 10, 10, 10, 10, 10, 10, 10, 10, 10, 10, 10, 10, 10, 10, 10, 10,\n",
       "       10, 10, 10, 10, 10, 10, 10, 10, 10, 10, 10, 10, 10, 10, 10, 10, 10,\n",
       "       10, 10, 10, 10, 10,  6,  6, 10, 10, 10, 10, 10, 10, 10, 10, 10, 10,\n",
       "       10, 10, 10, 10, 10, 10, 10, 10, 10, 10, 10, 10], dtype=int64)"
      ]
     },
     "execution_count": 160,
     "metadata": {},
     "output_type": "execute_result"
    }
   ],
   "source": [
    "np.argmax(pred_prob_test, axis=1)"
   ]
  },
  {
   "cell_type": "code",
   "execution_count": null,
   "metadata": {},
   "outputs": [],
   "source": []
  },
  {
   "cell_type": "markdown",
   "metadata": {},
   "source": [
    "# Use saved model"
   ]
  },
  {
   "cell_type": "code",
   "execution_count": 91,
   "metadata": {
    "ExecuteTime": {
     "end_time": "2019-01-17T11:19:14.560282Z",
     "start_time": "2019-01-17T11:19:14.550282Z"
    }
   },
   "outputs": [
    {
     "data": {
      "text/plain": [
       "(709, 48, 6)"
      ]
     },
     "execution_count": 91,
     "metadata": {},
     "output_type": "execute_result"
    }
   ],
   "source": [
    "X_testing = PD_RNN1.get_X_test()\n",
    "np.shape(X_testing)"
   ]
  },
  {
   "cell_type": "code",
   "execution_count": 92,
   "metadata": {
    "ExecuteTime": {
     "end_time": "2019-01-17T11:19:16.188375Z",
     "start_time": "2019-01-17T11:19:16.179375Z"
    }
   },
   "outputs": [],
   "source": [
    "# all sequence lengths shall now have the maximum length (--> np.shape(X_testing)[1])\n",
    "seqlens_testing =  np.full(np.shape(X_testing)[0], np.shape(X_testing)[1], dtype=np.int)"
   ]
  },
  {
   "cell_type": "code",
   "execution_count": 93,
   "metadata": {
    "ExecuteTime": {
     "end_time": "2019-01-17T11:19:29.694148Z",
     "start_time": "2019-01-17T11:19:29.164118Z"
    }
   },
   "outputs": [
    {
     "name": "stdout",
     "output_type": "stream",
     "text": [
      "INFO:tensorflow:Restoring parameters from E:/TensorFlow_saved_models/final-RNN-model/RNN-model-1\n"
     ]
    }
   ],
   "source": [
    "with tf.Session() as sess:    \n",
    "    \n",
    "    #First let's load meta graph and restore weights\n",
    "    new_saver = tf.train.import_meta_graph('E:/TensorFlow_saved_models/final-RNN-model/RNN-model-1.meta')\n",
    "    new_saver.restore(sess, 'E:/TensorFlow_saved_models/final-RNN-model/RNN-model-1')\n",
    "\n",
    "    # Now, let's access and create placeholders variables and\n",
    "    # create feed-dict to feed new data\n",
    "    graph = tf.get_default_graph()\n",
    "    inputs = graph.get_tensor_by_name('data/inputs:0')\n",
    "    seqlens = graph.get_tensor_by_name('data/seqlens:0')\n",
    "\n",
    "    # Now, access the op that you want to run. \n",
    "    pred_prob_all_states = graph.get_tensor_by_name(\"evaluation/predicted_probabilities_all_states:0\")\n",
    "\n",
    "    pred_prob_testing = sess.run([pred_prob_all_states], feed_dict={inputs: X_testing,\n",
    "                                                                    seqlens: seqlens_testing})"
   ]
  },
  {
   "cell_type": "code",
   "execution_count": 94,
   "metadata": {
    "ExecuteTime": {
     "end_time": "2019-01-17T11:19:30.696205Z",
     "start_time": "2019-01-17T11:19:30.684205Z"
    }
   },
   "outputs": [
    {
     "data": {
      "text/plain": [
       "(34032, 11)"
      ]
     },
     "execution_count": 94,
     "metadata": {},
     "output_type": "execute_result"
    }
   ],
   "source": [
    "np.shape(pred_prob_testing[0])"
   ]
  },
  {
   "cell_type": "code",
   "execution_count": 95,
   "metadata": {
    "ExecuteTime": {
     "end_time": "2019-01-17T11:19:31.510252Z",
     "start_time": "2019-01-17T11:19:31.499251Z"
    }
   },
   "outputs": [
    {
     "data": {
      "text/plain": [
       "array([3.33352685e-02, 5.88605506e-03, 1.43565959e-03, 9.18540230e-04,\n",
       "       3.12320801e-04, 2.33897867e-04, 2.42774055e-04, 1.19158176e-04,\n",
       "       4.62466669e-05, 1.97774880e-05, 1.48325917e-05, 1.39828830e-04,\n",
       "       7.41108903e-04, 2.31879554e-03, 5.67759247e-03, 6.94634719e-03,\n",
       "       2.20084451e-02, 6.32349253e-02, 2.81843156e-01, 4.30037707e-01,\n",
       "       6.52841568e-01, 8.08882117e-01, 8.97103429e-01, 9.13316846e-01,\n",
       "       8.89100015e-01, 7.47825921e-01, 2.51204759e-01, 1.95315573e-02,\n",
       "       1.48602331e-03, 2.34666455e-04, 7.30523461e-05, 3.61680359e-05,\n",
       "       2.39510064e-05, 1.90347291e-05, 1.68728529e-05, 1.58985949e-05,\n",
       "       1.54700920e-05, 1.52949251e-05, 1.52280963e-05, 1.52040693e-05,\n",
       "       1.51957038e-05, 1.51925306e-05, 1.51910072e-05, 1.51900940e-05,\n",
       "       1.51894856e-05, 1.51890663e-05, 1.51888034e-05, 1.51886588e-05],\n",
       "      dtype=float32)"
      ]
     },
     "execution_count": 95,
     "metadata": {},
     "output_type": "execute_result"
    }
   ],
   "source": [
    "pred_prob_testing[0][0:48,0]"
   ]
  },
  {
   "cell_type": "code",
   "execution_count": 97,
   "metadata": {
    "ExecuteTime": {
     "end_time": "2019-01-17T11:20:13.219637Z",
     "start_time": "2019-01-17T11:20:13.204637Z"
    }
   },
   "outputs": [
    {
     "data": {
      "text/plain": [
       "array([3.33352685e-02, 5.88605506e-03, 1.43565959e-03, 9.18540230e-04,\n",
       "       3.12320801e-04, 2.33897867e-04, 2.42774055e-04, 1.19158176e-04,\n",
       "       4.62466669e-05, 1.97774880e-05, 1.48325917e-05, 1.39828830e-04,\n",
       "       7.41108903e-04, 2.31879554e-03, 5.67759247e-03, 6.94634719e-03,\n",
       "       2.20084451e-02, 6.32349253e-02, 2.81843156e-01, 4.30037707e-01,\n",
       "       6.52841568e-01, 8.74998271e-02, 8.74998271e-02, 8.74998271e-02,\n",
       "       8.74998271e-02, 8.74998271e-02, 8.74998271e-02, 8.74998271e-02,\n",
       "       8.74998271e-02, 8.74998271e-02, 8.74998271e-02, 8.74998271e-02,\n",
       "       8.74998271e-02, 8.74998271e-02, 8.74998271e-02, 8.74998271e-02,\n",
       "       8.74998271e-02, 8.74998271e-02, 8.74998271e-02, 8.74998271e-02,\n",
       "       8.74998271e-02, 8.74998271e-02, 8.74998271e-02, 8.74998271e-02,\n",
       "       8.74998271e-02, 8.74998271e-02, 8.74998271e-02, 8.74998271e-02],\n",
       "      dtype=float32)"
      ]
     },
     "execution_count": 97,
     "metadata": {},
     "output_type": "execute_result"
    }
   ],
   "source": [
    "pred_prob_test_all[0:48,0] "
   ]
  },
  {
   "cell_type": "code",
   "execution_count": 103,
   "metadata": {
    "ExecuteTime": {
     "end_time": "2019-01-17T11:23:02.504320Z",
     "start_time": "2019-01-17T11:23:02.491319Z"
    }
   },
   "outputs": [
    {
     "data": {
      "text/plain": [
       "0.65284157"
      ]
     },
     "execution_count": 103,
     "metadata": {},
     "output_type": "execute_result"
    }
   ],
   "source": [
    "pred_prob_testing[0][20,0]"
   ]
  },
  {
   "cell_type": "code",
   "execution_count": 102,
   "metadata": {
    "ExecuteTime": {
     "end_time": "2019-01-17T11:22:48.366511Z",
     "start_time": "2019-01-17T11:22:48.355511Z"
    }
   },
   "outputs": [
    {
     "data": {
      "text/plain": [
       "0.65284157"
      ]
     },
     "execution_count": 102,
     "metadata": {},
     "output_type": "execute_result"
    }
   ],
   "source": [
    "pred_prob_test_all[20,0] "
   ]
  },
  {
   "cell_type": "code",
   "execution_count": null,
   "metadata": {},
   "outputs": [],
   "source": []
  },
  {
   "cell_type": "code",
   "execution_count": null,
   "metadata": {},
   "outputs": [],
   "source": []
  },
  {
   "cell_type": "code",
   "execution_count": 109,
   "metadata": {
    "ExecuteTime": {
     "end_time": "2019-01-17T11:31:22.975945Z",
     "start_time": "2019-01-17T11:31:22.954944Z"
    }
   },
   "outputs": [
    {
     "data": {
      "text/plain": [
       "48"
      ]
     },
     "execution_count": 109,
     "metadata": {},
     "output_type": "execute_result"
    }
   ],
   "source": [
    "np.shape(X_testing)[1]"
   ]
  },
  {
   "cell_type": "code",
   "execution_count": 111,
   "metadata": {
    "ExecuteTime": {
     "end_time": "2019-01-17T11:32:13.515836Z",
     "start_time": "2019-01-17T11:32:13.505835Z"
    }
   },
   "outputs": [],
   "source": [
    "pred_prob_testing_reshape = np.reshape(pred_prob_testing[0], (-1, np.shape(X_testing)[1], 11))"
   ]
  },
  {
   "cell_type": "code",
   "execution_count": 115,
   "metadata": {
    "ExecuteTime": {
     "end_time": "2019-01-17T11:33:39.723767Z",
     "start_time": "2019-01-17T11:33:39.710766Z"
    }
   },
   "outputs": [
    {
     "data": {
      "text/plain": [
       "array([3.33352685e-02, 5.88605506e-03, 1.43565959e-03, 9.18540230e-04,\n",
       "       3.12320801e-04, 2.33897867e-04, 2.42774055e-04, 1.19158176e-04,\n",
       "       4.62466669e-05, 1.97774880e-05, 1.48325917e-05, 1.39828830e-04,\n",
       "       7.41108903e-04, 2.31879554e-03, 5.67759247e-03, 6.94634719e-03,\n",
       "       2.20084451e-02, 6.32349253e-02, 2.81843156e-01, 4.30037707e-01,\n",
       "       6.52841568e-01, 8.08882117e-01, 8.97103429e-01, 9.13316846e-01,\n",
       "       8.89100015e-01, 7.47825921e-01, 2.51204759e-01, 1.95315573e-02,\n",
       "       1.48602331e-03, 2.34666455e-04, 7.30523461e-05, 3.61680359e-05,\n",
       "       2.39510064e-05, 1.90347291e-05, 1.68728529e-05, 1.58985949e-05,\n",
       "       1.54700920e-05, 1.52949251e-05, 1.52280963e-05, 1.52040693e-05,\n",
       "       1.51957038e-05, 1.51925306e-05, 1.51910072e-05, 1.51900940e-05,\n",
       "       1.51894856e-05, 1.51890663e-05, 1.51888034e-05, 1.51886588e-05],\n",
       "      dtype=float32)"
      ]
     },
     "execution_count": 115,
     "metadata": {},
     "output_type": "execute_result"
    }
   ],
   "source": [
    "# probabilities of first data point, all time steps and first class (0: 'RF')\n",
    "pred_prob_testing_reshape[0,:,0]"
   ]
  },
  {
   "cell_type": "code",
   "execution_count": null,
   "metadata": {},
   "outputs": [],
   "source": []
  },
  {
   "cell_type": "code",
   "execution_count": null,
   "metadata": {},
   "outputs": [],
   "source": []
  },
  {
   "cell_type": "code",
   "execution_count": null,
   "metadata": {},
   "outputs": [],
   "source": []
  }
 ],
 "metadata": {
  "kernelspec": {
   "display_name": "Python 3",
   "language": "python",
   "name": "python3"
  },
  "language_info": {
   "codemirror_mode": {
    "name": "ipython",
    "version": 3
   },
   "file_extension": ".py",
   "mimetype": "text/x-python",
   "name": "python",
   "nbconvert_exporter": "python",
   "pygments_lexer": "ipython3",
   "version": "3.6.2"
  },
  "toc": {
   "base_numbering": 1,
   "nav_menu": {},
   "number_sections": true,
   "sideBar": true,
   "skip_h1_title": false,
   "title_cell": "Table of Contents",
   "title_sidebar": "Contents",
   "toc_cell": false,
   "toc_position": {},
   "toc_section_display": true,
   "toc_window_display": true
  }
 },
 "nbformat": 4,
 "nbformat_minor": 2
}
