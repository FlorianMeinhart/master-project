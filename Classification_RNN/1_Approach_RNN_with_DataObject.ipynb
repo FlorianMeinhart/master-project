{
 "cells": [
  {
   "cell_type": "markdown",
   "metadata": {},
   "source": [
    "# First Approach - Recurrent Neural Network"
   ]
  },
  {
   "cell_type": "code",
   "execution_count": 121,
   "metadata": {
    "ExecuteTime": {
     "end_time": "2019-01-17T15:08:46.773407Z",
     "start_time": "2019-01-17T15:08:46.754406Z"
    }
   },
   "outputs": [],
   "source": [
    "from IPython.display import clear_output\n",
    "from pivottablejs import pivot_ui\n",
    "from datetime import datetime\n",
    "import matplotlib.pyplot as plt\n",
    "from matplotlib.ticker import FuncFormatter\n",
    "from matplotlib.widgets import Slider, TextBox, Button\n",
    "import sqlite3\n",
    "import time\n",
    "import pandas as pd\n",
    "import numpy as np\n",
    "import os\n",
    "\n",
    "import sys\n",
    "sys.path.append('..') # in order to import modules from my own package\n",
    "from packageMeinhart import functionsMasterProjectMeinhart as fmpm\n",
    "from packageMeinhart.functionsMasterProjectMeinhart import print_precision_recall_accuracy\n",
    "from packageMeinhart.functionsMasterProjectMeinhart import print_misclassified_data_points\n"
   ]
  },
  {
   "cell_type": "markdown",
   "metadata": {},
   "source": [
    "## Class to handle data for RNN"
   ]
  },
  {
   "cell_type": "code",
   "execution_count": 2,
   "metadata": {
    "ExecuteTime": {
     "end_time": "2019-01-17T13:55:13.628990Z",
     "start_time": "2019-01-17T13:55:13.591988Z"
    }
   },
   "outputs": [],
   "source": [
    "def load_data_from_database(data_base_path='DataBase_Physio_with_nonEx.db'):\n",
    "    '''\n",
    "    Function to load the following data from data base:\n",
    "        - subject IDs\n",
    "        - exercise abbreviations\n",
    "        - number of repetitions\n",
    "        - sequence numbers\n",
    "        - start times\n",
    "        - stop times\n",
    "        - csv-file name\n",
    "    \n",
    "    Parameters\n",
    "    ----------\n",
    "    data_base_path : string\n",
    "        Path to data base.\n",
    "    \n",
    "    Returns\n",
    "    -------\n",
    "    DataFrame\n",
    "        DataFrame with the listet information (see above).\n",
    "    '''\n",
    "    # Connect to an existing database\n",
    "    conn = sqlite3.connect(data_base_path)\n",
    "    cur = conn.cursor()\n",
    "\n",
    "    # sql command to extract data\n",
    "    query_sql = \"\"\"\n",
    "        SELECT e.subject_id,\n",
    "        p.abbreviation,\n",
    "        e.num_rep,\n",
    "        r.sequence_num,\n",
    "        r.start_time, r.stop_time,\n",
    "        e.csv_file\n",
    "        FROM subjects s\n",
    "        INNER JOIN exercises e\n",
    "        ON s.id = e.subject_id\n",
    "        INNER JOIN paradigms p\n",
    "        ON p.id = e.paradigm_id\n",
    "        INNER JOIN repetitions r\n",
    "        ON e.id = r.exercise_id\n",
    "        \"\"\"\n",
    "    \n",
    "    # get data from data base and close connection\n",
    "    all_data_points_df = pd.read_sql_query(query_sql, conn)\n",
    "    conn.close()\n",
    "    \n",
    "    return all_data_points_df"
   ]
  },
  {
   "cell_type": "code",
   "execution_count": 3,
   "metadata": {
    "ExecuteTime": {
     "end_time": "2019-01-17T13:55:13.804000Z",
     "start_time": "2019-01-17T13:55:13.635990Z"
    }
   },
   "outputs": [],
   "source": [
    "def select_data_points_from_df(all_data_points_df,\n",
    "                               subject_ids=-1,\n",
    "                               subject_ids_complementary=[],\n",
    "                               reps=-1,\n",
    "                               abbrs=-1,\n",
    "                               with_non_Ex=True,\n",
    "                               sub_id_key='subject_id',\n",
    "                               num_rep_key='num_rep',\n",
    "                               abbreviation_key='abbreviation'):\n",
    "    '''\n",
    "    Function to select data points from a DataFrame based on subject IDs,\n",
    "    number of repetitions and exercise abbreviations.\n",
    "    \n",
    "    Parameters\n",
    "    ----------\n",
    "    all_data_points_df : pandas DataFrame\n",
    "        DataFrame with all data points.\n",
    "    \n",
    "    subject_ids : int or list\n",
    "        Subject IDs to select (e.g. [1, 2, 3]).\n",
    "        --> default -1: Select all subjects.\n",
    "        \n",
    "    subject_ids_complementary : int or list\n",
    "        If subject_ids is -1 --> select only subjects not in subject_ids_complementary.\n",
    "        \n",
    "    reps : int or list\n",
    "        Repetition numbers to select (e.g. [5, 10]).\n",
    "        --> default -1: Select all repetitions.\n",
    "        \n",
    "    abbrs : int or list\n",
    "        Exercise abbreviations to select (e.g. ['RF', 'SA']).\n",
    "        --> default -1: Select all exercise abbreviations.\n",
    "    \n",
    "    with_non_Ex : boolean\n",
    "        If False --> omit non exercise data (data points with zero repetitions).\n",
    "        \n",
    "    sub_id_key : string\n",
    "        Key of the DataFrame for subject IDs.\n",
    "        \n",
    "    num_rep_key : string\n",
    "        Key of the DataFrame for repetition numbers.\n",
    "        \n",
    "    abbreviation_key : string\n",
    "        Key of the DataFrame for exercise abbreviations.\n",
    "    \n",
    "    Returns\n",
    "    -------\n",
    "    DataFrame\n",
    "        DataFrame with selected data points.\n",
    "    '''\n",
    "    \n",
    "    data_points_df = all_data_points_df.copy()\n",
    "    \n",
    "    # select the subject IDs\n",
    "    if subject_ids is -1 and subject_ids_complementary:\n",
    "        if not isinstance(subject_ids_complementary, list): # if not list --> make list\n",
    "            subject_ids_complementary = [subject_ids_complementary]\n",
    "        data_points_df = data_points_df.loc[~data_points_df[sub_id_key].isin(subject_ids_complementary)]\n",
    "        \n",
    "    elif subject_ids is not -1:\n",
    "        if not isinstance(subject_ids, list): # if not list --> make list\n",
    "            subject_ids = [subject_ids]\n",
    "        data_points_df = data_points_df.loc[data_points_df[sub_id_key].isin(subject_ids)]\n",
    "\n",
    "    # select the repetition numbers\n",
    "    if reps is not -1:\n",
    "        if not isinstance(reps, list): # if not list --> make list\n",
    "            reps = [reps]\n",
    "        if with_non_Ex is True:\n",
    "            reps.append(0) # zero repetitions correspond to non exercise data\n",
    "        data_points_df = data_points_df.loc[data_points_df[num_rep_key].isin(reps)]\n",
    "\n",
    "    elif with_non_Ex is False:\n",
    "        data_points_df = data_points_df.loc[data_points_df[num_rep_key] != 0]\n",
    "        \n",
    "    # select the exercise abbreviations\n",
    "    if abbrs is not -1:\n",
    "        if not isinstance(abbrs, list): # if not list --> make list\n",
    "            abbrs = [abbrs]\n",
    "        data_points_df = data_points_df.loc[data_points_df[abbreviation_key].isin(abbrs)]\n",
    "\n",
    "    return data_points_df"
   ]
  },
  {
   "cell_type": "code",
   "execution_count": 4,
   "metadata": {
    "ExecuteTime": {
     "end_time": "2019-01-17T13:55:13.944008Z",
     "start_time": "2019-01-17T13:55:13.831001Z"
    }
   },
   "outputs": [],
   "source": [
    "def print_progress_func(current_num, max_num, prev_prog, add_info=None):\n",
    "    '''\n",
    "    Function to print progress [%] in a loop.\n",
    "    \n",
    "    Parameters\n",
    "    ----------\n",
    "    current_num : int\n",
    "        Number of the current run in a loop.\n",
    "        \n",
    "    max_num : int\n",
    "        Maximum number of runs in a loop.\n",
    "        \n",
    "    prev_prog : int\n",
    "        Previous progress, to print only if necessary.\n",
    "        \n",
    "    add_info : str\n",
    "        Additional information to print instead of \"Progress\".\n",
    "    \n",
    "    Returns\n",
    "    -------\n",
    "    int\n",
    "        Previous progress, important for next run.\n",
    "    '''\n",
    "    new_prog = int(current_num/max_num*100)\n",
    "    \n",
    "    if new_prog > prev_prog:\n",
    "        clear_output(wait=True)\n",
    "        \n",
    "        if isinstance(add_info, str):\n",
    "            print(add_info + ' {:3d}%'.format(new_prog))\n",
    "        else:\n",
    "            print('Progress: {:3d}%'.format(new_prog))\n",
    "        \n",
    "    return new_prog"
   ]
  },
  {
   "cell_type": "code",
   "execution_count": 5,
   "metadata": {
    "ExecuteTime": {
     "end_time": "2019-01-17T13:55:14.690050Z",
     "start_time": "2019-01-17T13:55:13.951008Z"
    }
   },
   "outputs": [],
   "source": [
    "def generate_sequences_from_separate_repetitions(data_points_df,\n",
    "                   max_sequence_length=6,\n",
    "                   orig_sampling_rate=256,\n",
    "                   new_sampling_rate=8,\n",
    "                   cutoff=10,\n",
    "                   order=6,\n",
    "                   csv_data_dir='E:\\Physio_Data_Split_Ex_and_NonEx',\n",
    "                   csv_skiprows=0,\n",
    "                   csv_separator=',',\n",
    "                   signal_abbrs=['Acc','Gyr'],\n",
    "                   signal_orientations=['x','y','z'],\n",
    "                   labels_abbr2num_dict={'RF':0,'RO':1,'RS':2,'LR':3,'BC':4,'TC':5,'MP':6,'SA':7,'P1':8,'P2':9,'NE':10},\n",
    "                   abbreviation_key='abbreviation',\n",
    "                   start_time_key='start_time',\n",
    "                   stop_time_key='stop_time',\n",
    "                   csv_file_key='csv_file',\n",
    "                   print_progress=True,\n",
    "                   progress_info='Generate sequences...'):\n",
    "    '''\n",
    "    Function to generate sequences from separate repetitions, changing the sampling rate\n",
    "    and saving them to a tensor.\n",
    "    \n",
    "    Parameters\n",
    "    ----------\n",
    "    data_points_df : DataFrame\n",
    "        DataFrame with information about data points (see load_data_from_database()).\n",
    "        \n",
    "    max_sequence_length : int or float\n",
    "        Maximum sequence length to consider in seconds.\n",
    "        \n",
    "    orig_sampling_rate : int or float\n",
    "        Original sampling rate of the signals in Hz.\n",
    "        \n",
    "    new_sampling_rate : int or float\n",
    "        New sampling rate of the signals in Hz.\n",
    "        \n",
    "    cutoff : int or float\n",
    "        Cutoff frequency for filtering.\n",
    "    \n",
    "    order : int\n",
    "        Order of butterworth filter.\n",
    "        \n",
    "    csv_data_dir : string\n",
    "        Directory of signal data csv-files.\n",
    "        \n",
    "    csv_skiprows : int\n",
    "        Number of rows to skip for signal data csv-files.\n",
    "        \n",
    "    csv_separator : string\n",
    "        Separator for signal data csv-files.\n",
    "        \n",
    "    signal_abbrs : list of strings\n",
    "        Abbreviations of the signals (e.g. ['Acc','Gyr']).\n",
    "    \n",
    "    signal_orientations : list of strings\n",
    "        Orientations of the signals (e.g. ['x','y','z']).\n",
    "        \n",
    "    labels_abbr2num_dict : dict\n",
    "        Dictionary to convert exercise abbreviations to number (e.g. ={'RF':0,'RO':1,'RS':2, ... }).\n",
    "    \n",
    "    abbreviation_key : strings\n",
    "        Exercise abbreviation key for DataFrame which contains data base entries.\n",
    "        \n",
    "    start_time_key : strings\n",
    "        Start time key for DataFrame which contains data base entries.\n",
    "        \n",
    "    stop_time_key : strings\n",
    "        Stop time key for DataFrame which contains data base entries.\n",
    "        \n",
    "    csv_file_key : strings\n",
    "        csv-file key for DataFrame which contains data base entries.\n",
    "        \n",
    "    print_progress : boolean\n",
    "        If True --> print progress at signal sequences generation.\n",
    "        \n",
    "    progress_info : strings\n",
    "        Additional information to print with progress.\n",
    "        \n",
    "    \n",
    "    Returns\n",
    "    -------\n",
    "    X_all, y_all, seqlens_all\n",
    "        \n",
    "        X_all ... tensor with signal sequences (dimensions: [number of data points, \n",
    "                                                             max sequence length, \n",
    "                                                             number of signals])\n",
    "        y_all ... array with labels\n",
    "        seqlens_all ... array with sequence lengths\n",
    "    '''\n",
    "    \n",
    "    # max index of new sequences\n",
    "    max_sequ_index = max_sequence_length * new_sampling_rate\n",
    "    \n",
    "    # number of signals (Acc: x, y, z; Gyr: x, y, z --> 6 signals)\n",
    "    num_signals = len(signal_abbrs) * len(signal_orientations)\n",
    "    \n",
    "    # number to exercise-abbreviations dict\n",
    "    labels_num2abbr_dict = {num: abbr for abbr, num in labels_abbr2num_dict.items()}\n",
    "                                                   \n",
    "    # create array for labels\n",
    "    y_all = np.zeros(len(data_points_df), dtype=np.int8)\n",
    "    \n",
    "    # create tensor for sequences\n",
    "    X_all = np.zeros((len(data_points_df), max_sequ_index, num_signals))\n",
    "    \n",
    "    # create matrix for sequence lengths\n",
    "    seqlens_all = np.zeros(len(data_points_df), dtype=np.int)\n",
    "    \n",
    "    # sampling rate ratio of original and new sampling rate (e.g. if ratio = 32 --> take every 32nd index)\n",
    "    sampling_rate_ratio = orig_sampling_rate / new_sampling_rate\n",
    "\n",
    "    # location counter for the sequence tensor\n",
    "    loc_count = 0\n",
    "\n",
    "    # variables for progress printing\n",
    "    if print_progress:\n",
    "        prog_count = 0\n",
    "        max_count = len(data_points_df.csv_file.unique()) # number of unique csv-files\n",
    "        prev_progress = 0 # previous progress\n",
    "\n",
    "    # going through all csv-files (unique --> only once for each file)\n",
    "    for current_csv_file in data_points_df.csv_file.unique():\n",
    "\n",
    "        # join file path\n",
    "        file_path = os.path.join(csv_data_dir, current_csv_file)\n",
    "\n",
    "        # load the signal data of the current file\n",
    "        selected_data_df = pd.read_csv(file_path, skiprows=csv_skiprows, sep=csv_separator)\n",
    "        \n",
    "        # write data with selected signals to dict\n",
    "        selected_data = {}\n",
    "        for sig in signal_abbrs:\n",
    "            selected_data[sig] = selected_data_df.filter(regex=sig+'*').values\n",
    "            \n",
    "        # filter data with butterworth filter and save to new dictionary\n",
    "        selected_data_filt = {}\n",
    "        for sig in signal_abbrs:\n",
    "            selected_data_filt[sig] = fmpm.butter_lowpass_filter(selected_data[sig], \n",
    "                                                                 cutoff=cutoff, \n",
    "                                                                 fs=orig_sampling_rate, \n",
    "                                                                 order=order)\n",
    "    \n",
    "        # data frame with all repetitions of the current file\n",
    "        current_data_points = data_points_df.loc[data_points_df[csv_file_key] == current_csv_file]\n",
    "\n",
    "        # going through all repetitions of the current file\n",
    "        for ii in range(len(current_data_points)):\n",
    "            \n",
    "            # get start and stop indices of current data point (current repetition)\n",
    "            start_time = float(current_data_points.reset_index().loc[ii, start_time_key])\n",
    "            stop_time = float(current_data_points.reset_index().loc[ii, stop_time_key])\n",
    "            start_idx = round(start_time * orig_sampling_rate)\n",
    "            stop_idx = round(stop_time * orig_sampling_rate)\n",
    "\n",
    "            # consider the new sampling rate for signal data selection\n",
    "            new_indices = np.arange(start_idx, stop_idx, sampling_rate_ratio).round().astype(int)\n",
    "            \n",
    "            # check if array of new indices is longer than max_sequ_index\n",
    "            if len(new_indices) > max_sequ_index:\n",
    "                new_indices = new_indices[:max_sequ_index] # take only that much indices\n",
    "            \n",
    "            # add current sequences with new sampling rate\n",
    "            for kk, sig in enumerate(signal_abbrs):\n",
    "                for ll in range(len(signal_orientations)):\n",
    "                    # explanation: X_all[index_of_current_data_point, \n",
    "                    #                    select_all_until_length_of_new_signal_data, \n",
    "                    #                    index_of_current_signal (0...5)]\n",
    "                    X_all[loc_count,:len(new_indices),kk*len(signal_orientations)+ll] = \\\n",
    "                        selected_data_filt[sig][new_indices,ll]\n",
    "\n",
    "            # add current label\n",
    "            current_ex_abbr = current_data_points.reset_index().loc[ii,abbreviation_key]\n",
    "            y_all[loc_count] = labels_abbr2num_dict[current_ex_abbr]\n",
    "            \n",
    "            # add current sequence length\n",
    "            seqlens_all[loc_count] = len(new_indices)\n",
    "\n",
    "            loc_count += 1\n",
    "\n",
    "        # print progress of feauture generation\n",
    "        if print_progress:\n",
    "            prog_count += 1\n",
    "            prev_progress = print_progress_func(prog_count, max_count, prev_progress, add_info=progress_info)\n",
    "    \n",
    "    if print_progress:\n",
    "        clear_output()\n",
    "    \n",
    "    return X_all, y_all, seqlens_all"
   ]
  },
  {
   "cell_type": "code",
   "execution_count": 6,
   "metadata": {
    "ExecuteTime": {
     "end_time": "2019-01-17T13:55:15.372089Z",
     "start_time": "2019-01-17T13:55:14.694051Z"
    }
   },
   "outputs": [],
   "source": [
    "def generate_sequences_from_repetition_blocks(data_points_df,\n",
    "                   max_sequence_length=80,\n",
    "                   orig_sampling_rate=256,\n",
    "                   new_sampling_rate=8,\n",
    "                   cutoff=10,\n",
    "                   order=6,\n",
    "                   csv_data_dir='E:\\Physio_Data_Split_Ex_and_NonEx',\n",
    "                   csv_skiprows=0,\n",
    "                   csv_separator=',',\n",
    "                   signal_abbrs=['Acc','Gyr'],\n",
    "                   signal_orientations=['x','y','z'],\n",
    "                   labels_abbr2num_dict={'RF':0,'RO':1,'RS':2,'LR':3,'BC':4,'TC':5,'MP':6,'SA':7,'P1':8,'P2':9,'NE':10},\n",
    "                   abbreviation_key='abbreviation',\n",
    "                   csv_file_key='csv_file',\n",
    "                   print_progress=True,\n",
    "                   progress_info='Generate sequences...'):\n",
    "    '''\n",
    "    Function to generate sequences from whole repetition blocks, changing the sampling rate\n",
    "    and saving them to a tensor.\n",
    "    \n",
    "    Parameters\n",
    "    ----------\n",
    "    data_points_df : DataFrame\n",
    "        DataFrame with information about data points (see load_data_from_database()).\n",
    "        \n",
    "    max_sequence_length : int or float\n",
    "        Maximum sequence length to consider in seconds.\n",
    "        \n",
    "    orig_sampling_rate : int or float\n",
    "        Original sampling rate of the signals in Hz.\n",
    "        \n",
    "    new_sampling_rate : int or float\n",
    "        New sampling rate of the signals in Hz.\n",
    "        \n",
    "    cutoff : int or float\n",
    "        Cutoff frequency for filtering.\n",
    "    \n",
    "    order : int\n",
    "        Order of butterworth filter.\n",
    "        \n",
    "    csv_data_dir : string\n",
    "        Directory of signal data csv-files.\n",
    "        \n",
    "    csv_skiprows : int\n",
    "        Number of rows to skip for signal data csv-files.\n",
    "        \n",
    "    csv_separator : string\n",
    "        Separator for signal data csv-files.\n",
    "        \n",
    "    signal_abbrs : list of strings\n",
    "        Abbreviations of the signals (e.g. ['Acc','Gyr']).\n",
    "    \n",
    "    signal_orientations : list of strings\n",
    "        Orientations of the signals (e.g. ['x','y','z']).\n",
    "        \n",
    "    labels_abbr2num_dict : dict\n",
    "        Dictionary to convert exercise abbreviations to number (e.g. ={'RF':0,'RO':1,'RS':2, ... }).\n",
    "    \n",
    "    abbreviation_key : strings\n",
    "        Exercise abbreviation key for DataFrame which contains data base entries.\n",
    "        \n",
    "    csv_file_key : strings\n",
    "        csv-file key for DataFrame which contains data base entries.\n",
    "        \n",
    "    print_progress : boolean\n",
    "        If True --> print progress at signal sequences generation.\n",
    "        \n",
    "    progress_info : strings\n",
    "        Additional information to print with progress.\n",
    "        \n",
    "    \n",
    "    Returns\n",
    "    -------\n",
    "    X_all, y_all, seqlens_all\n",
    "        \n",
    "        X_all ... tensor with signal sequences (dimensions: [number of data points, \n",
    "                                                             max sequence length, \n",
    "                                                             number of signals])\n",
    "        y_all ... array with labels\n",
    "        seqlens_all ... array with sequence lengths\n",
    "    '''\n",
    "    \n",
    "    # max index of new sequences\n",
    "    max_sequ_index = max_sequence_length * new_sampling_rate\n",
    "    \n",
    "    # number of signals (Acc: x, y, z; Gyr: x, y, z --> 6 signals)\n",
    "    num_signals = len(signal_abbrs) * len(signal_orientations)\n",
    "    \n",
    "    # number to exercise-abbreviations dict\n",
    "    labels_num2abbr_dict = {num: abbr for abbr, num in labels_abbr2num_dict.items()}\n",
    "    \n",
    "    # every csv-file is one repetition block --> one data point\n",
    "    csv_files_unique = data_points_df.csv_file.unique()\n",
    "    \n",
    "    # create array for labels\n",
    "    y_all = np.zeros(len(csv_files_unique), dtype=np.int8)\n",
    "    \n",
    "    # create tensor for sequences\n",
    "    X_all = np.zeros((len(csv_files_unique), max_sequ_index, num_signals))\n",
    "    \n",
    "    # create matrix for sequence lengths\n",
    "    seqlens_all = np.zeros(len(csv_files_unique), dtype=np.int)\n",
    "    \n",
    "    # sampling rate ratio of original and new sampling rate (e.g. if ratio = 32 --> take every 32nd index)\n",
    "    sampling_rate_ratio = orig_sampling_rate / new_sampling_rate\n",
    "\n",
    "    # location counter for the sequence tensor\n",
    "    loc_count = 0\n",
    "\n",
    "    # variables for progress printing\n",
    "    if print_progress:\n",
    "        prog_count = 0\n",
    "        max_count = len(csv_files_unique) # number of unique csv-files\n",
    "        prev_progress = 0 # previous progress\n",
    "\n",
    "    # going through all csv-files (unique --> only once for each file)\n",
    "    for current_csv_file in csv_files_unique:\n",
    "\n",
    "        # join file path\n",
    "        file_path = os.path.join(csv_data_dir, current_csv_file)\n",
    "\n",
    "        # load the signal data of the current file\n",
    "        selected_data_df = pd.read_csv(file_path, skiprows=csv_skiprows, sep=csv_separator)\n",
    "        \n",
    "        # write data with selected signals to dict\n",
    "        selected_data = {}\n",
    "        for sig in signal_abbrs:\n",
    "            selected_data[sig] = selected_data_df.filter(regex=sig+'*').values\n",
    "            \n",
    "        # filter data with butterworth filter and save to new dictionary\n",
    "        selected_data_filt = {}\n",
    "        for sig in signal_abbrs:\n",
    "            selected_data_filt[sig] = fmpm.butter_lowpass_filter(selected_data[sig], \n",
    "                                                                 cutoff=cutoff, \n",
    "                                                                 fs=orig_sampling_rate, \n",
    "                                                                 order=order)\n",
    "            \n",
    "        # start and stop indices of current data point (current repetition block)\n",
    "        start_idx = 0\n",
    "        # all signal columns must have the same length\n",
    "        stop_idx = len(selected_data_filt[signal_abbrs[0]][:,0])\n",
    "\n",
    "        # consider the new sampling rate for signal data selection\n",
    "        new_indices = np.arange(start_idx, stop_idx, sampling_rate_ratio).round().astype(int)\n",
    "            \n",
    "        # check if array of new indices is longer than max_sequ_index\n",
    "        if len(new_indices) > max_sequ_index:\n",
    "            new_indices = new_indices[:max_sequ_index] # take only that much indices\n",
    "            \n",
    "        # add current sequences with new sampling rate\n",
    "        for kk, sig in enumerate(signal_abbrs):\n",
    "            for ll in range(len(signal_orientations)):\n",
    "                # explanation: X_all[index_of_current_data_point, \n",
    "                #                    select_all_until_length_of_new_signal_data, \n",
    "                #                    index_of_current_signal (0...5)]\n",
    "                X_all[loc_count,:len(new_indices),kk*len(signal_orientations)+ll] = \\\n",
    "                    selected_data_filt[sig][new_indices,ll]\n",
    "\n",
    "        # add current label\n",
    "        # data frame with all repetitions of the current file\n",
    "        current_data_points = data_points_df.loc[data_points_df[csv_file_key] == current_csv_file]\n",
    "        current_ex_abbr = current_data_points.reset_index().loc[0,abbreviation_key]\n",
    "        y_all[loc_count] = labels_abbr2num_dict[current_ex_abbr]\n",
    "            \n",
    "        # add current sequence length\n",
    "        seqlens_all[loc_count] = len(new_indices)\n",
    "\n",
    "        loc_count += 1\n",
    "\n",
    "        # print progress of feauture generation\n",
    "        if print_progress:\n",
    "            prog_count += 1\n",
    "            prev_progress = print_progress_func(prog_count, max_count, prev_progress, add_info=progress_info)\n",
    "    \n",
    "    if print_progress:\n",
    "        clear_output()\n",
    "    \n",
    "    return X_all, y_all, seqlens_all"
   ]
  },
  {
   "cell_type": "code",
   "execution_count": 7,
   "metadata": {
    "ExecuteTime": {
     "end_time": "2019-01-17T13:55:16.153134Z",
     "start_time": "2019-01-17T13:55:15.382090Z"
    }
   },
   "outputs": [],
   "source": [
    "class PhysioData_RNN():\n",
    "    '''\n",
    "    Class to handle signal data for RNN.\n",
    "    \n",
    "    Detailed description follows ...\n",
    "    \n",
    "    For now: look at docstrings of the following functions:\n",
    "        - load_data_from_database()\n",
    "        - select_data_points_from_df()\n",
    "        - generate_sequences_from_separate_repetitions()\n",
    "        - generate_sequences_from_repetition_blocks()\n",
    "    \n",
    "    '''\n",
    "    def __init__(self,\n",
    "                 test_subject_ids=-1,\n",
    "                 train_subject_ids=-1,\n",
    "                 test_rep_nums=-1,\n",
    "                 train_rep_nums=-1,\n",
    "                 test_ex_abbrs=-1,\n",
    "                 train_ex_abbrs=-1,\n",
    "                 with_non_Ex=True,\n",
    "                 max_sequence_length_testing=6,\n",
    "                 max_sequence_length_training=6,\n",
    "                 orig_sampling_rate=256,\n",
    "                 new_sampling_rate=8,\n",
    "                 whole_rep_blocks_as_data_points_for_testing=False,\n",
    "                 whole_rep_blocks_as_data_points_for_training=False,\n",
    "                 cutoff=10,\n",
    "                 order=6,\n",
    "                 csv_data_dir='E:\\Physio_Data_Split_Ex_and_NonEx',\n",
    "                 csv_skiprows=0,\n",
    "                 csv_separator=',',\n",
    "                 data_base_path='E:\\Physio_Data\\DataBase_Physio_with_nonEx.db',\n",
    "                 print_progress=True,\n",
    "                 signal_abbrs=['Acc','Gyr'],\n",
    "                 signal_orientations=['x','y','z'],\n",
    "                 labels_abbr2num_dict={'RF':0,'RO':1,'RS':2,'LR':3,'BC':4,'TC':5,'MP':6,'SA':7,'P1':8,'P2':9,'NE':10},\n",
    "                 sub_id_key='subject_id',\n",
    "                 num_rep_key='num_rep',\n",
    "                 abbreviation_key='abbreviation',\n",
    "                 start_time_key='start_time',\n",
    "                 stop_time_key='stop_time',\n",
    "                 csv_file_key='csv_file'):\n",
    "        \n",
    "        # load all data from data points\n",
    "        self.all_data_points_df = load_data_from_database(data_base_path)\n",
    "        \n",
    "        # load data points for testing\n",
    "        self.test_data_points_df =  select_data_points_from_df(self.all_data_points_df,\n",
    "                                                               subject_ids=test_subject_ids,\n",
    "                                                               subject_ids_complementary=[],\n",
    "                                                               reps=test_rep_nums,\n",
    "                                                               abbrs=test_ex_abbrs,\n",
    "                                                               with_non_Ex=with_non_Ex,\n",
    "                                                               sub_id_key=sub_id_key,\n",
    "                                                               num_rep_key=num_rep_key,\n",
    "                                                               abbreviation_key=abbreviation_key)\n",
    "        \n",
    "        # load data points for training\n",
    "        self.train_data_points_df = select_data_points_from_df(self.all_data_points_df,\n",
    "                                                               subject_ids=train_subject_ids,\n",
    "                                                               subject_ids_complementary=test_subject_ids,\n",
    "                                                               reps=train_rep_nums,\n",
    "                                                               abbrs=train_ex_abbrs,\n",
    "                                                               with_non_Ex=with_non_Ex,\n",
    "                                                               sub_id_key=sub_id_key,\n",
    "                                                               num_rep_key=num_rep_key,\n",
    "                                                               abbreviation_key=abbreviation_key)\n",
    "        \n",
    "        # take whole repetition blocks as data points for testing\n",
    "        if whole_rep_blocks_as_data_points_for_testing is True:\n",
    "            \n",
    "            # generate sequences for testing\n",
    "            self.X_test, self.y_test, self.seqlens_test = generate_sequences_from_repetition_blocks(\n",
    "                                                                   self.test_data_points_df,\n",
    "                                                                   max_sequence_length=max_sequence_length_testing,\n",
    "                                                                   orig_sampling_rate=orig_sampling_rate,\n",
    "                                                                   new_sampling_rate=new_sampling_rate,\n",
    "                                                                   cutoff=cutoff,\n",
    "                                                                   order=order,\n",
    "                                                                   csv_data_dir=csv_data_dir,\n",
    "                                                                   csv_skiprows=csv_skiprows,\n",
    "                                                                   csv_separator=csv_separator,\n",
    "                                                                   signal_abbrs=signal_abbrs,\n",
    "                                                                   signal_orientations=signal_orientations,\n",
    "                                                                   labels_abbr2num_dict=labels_abbr2num_dict,\n",
    "                                                                   abbreviation_key=abbreviation_key,\n",
    "                                                                   csv_file_key=csv_file_key,\n",
    "                                                                   print_progress=print_progress,\n",
    "                                                                   progress_info='Generate sequences for testing...')\n",
    "        \n",
    "        # take single repetitions as data points for testing\n",
    "        else:\n",
    "            \n",
    "            # generate sequences for testing\n",
    "            self.X_test, self.y_test, self.seqlens_test = generate_sequences_from_separate_repetitions(\n",
    "                                                                   self.test_data_points_df,\n",
    "                                                                   max_sequence_length=max_sequence_length_testing,\n",
    "                                                                   orig_sampling_rate=orig_sampling_rate,\n",
    "                                                                   new_sampling_rate=new_sampling_rate,\n",
    "                                                                   cutoff=cutoff,\n",
    "                                                                   order=order,\n",
    "                                                                   csv_data_dir=csv_data_dir,\n",
    "                                                                   csv_skiprows=csv_skiprows,\n",
    "                                                                   csv_separator=csv_separator,\n",
    "                                                                   signal_abbrs=signal_abbrs,\n",
    "                                                                   signal_orientations=signal_orientations,\n",
    "                                                                   labels_abbr2num_dict=labels_abbr2num_dict,\n",
    "                                                                   abbreviation_key=abbreviation_key,\n",
    "                                                                   start_time_key=start_time_key,\n",
    "                                                                   stop_time_key=stop_time_key,\n",
    "                                                                   csv_file_key=csv_file_key,\n",
    "                                                                   print_progress=print_progress,\n",
    "                                                                   progress_info='Generate sequences for testing...')\n",
    "            \n",
    "        # take whole repetition blocks as data points for training\n",
    "        if whole_rep_blocks_as_data_points_for_training is True:\n",
    "\n",
    "            # generate sequences for training\n",
    "            self.X_train, self.y_train, self.seqlens_train = generate_sequences_from_repetition_blocks(\n",
    "                                                                   self.train_data_points_df,\n",
    "                                                                   max_sequence_length=max_sequence_length_training,\n",
    "                                                                   orig_sampling_rate=orig_sampling_rate,\n",
    "                                                                   new_sampling_rate=new_sampling_rate,\n",
    "                                                                   cutoff=cutoff,\n",
    "                                                                   order=order,\n",
    "                                                                   csv_data_dir=csv_data_dir,\n",
    "                                                                   csv_skiprows=csv_skiprows,\n",
    "                                                                   csv_separator=csv_separator,\n",
    "                                                                   signal_abbrs=signal_abbrs,\n",
    "                                                                   signal_orientations=signal_orientations,\n",
    "                                                                   labels_abbr2num_dict=labels_abbr2num_dict,\n",
    "                                                                   abbreviation_key=abbreviation_key,\n",
    "                                                                   csv_file_key=csv_file_key,\n",
    "                                                                   print_progress=print_progress,\n",
    "                                                                   progress_info='Generate sequences for training...')\n",
    "            \n",
    "        # take single repetitions as data points for training\n",
    "        else:\n",
    "\n",
    "            # generate sequences for training\n",
    "            self.X_train, self.y_train, self.seqlens_train = generate_sequences_from_separate_repetitions(\n",
    "                                                                   self.train_data_points_df,\n",
    "                                                                   max_sequence_length=max_sequence_length_training,\n",
    "                                                                   orig_sampling_rate=orig_sampling_rate,\n",
    "                                                                   new_sampling_rate=new_sampling_rate,\n",
    "                                                                   cutoff=cutoff,\n",
    "                                                                   order=order,\n",
    "                                                                   csv_data_dir=csv_data_dir,\n",
    "                                                                   csv_skiprows=csv_skiprows,\n",
    "                                                                   csv_separator=csv_separator,\n",
    "                                                                   signal_abbrs=signal_abbrs,\n",
    "                                                                   signal_orientations=signal_orientations,\n",
    "                                                                   labels_abbr2num_dict=labels_abbr2num_dict,\n",
    "                                                                   abbreviation_key=abbreviation_key,\n",
    "                                                                   start_time_key=start_time_key,\n",
    "                                                                   stop_time_key=stop_time_key,\n",
    "                                                                   csv_file_key=csv_file_key,\n",
    "                                                                   print_progress=print_progress,\n",
    "                                                                   progress_info='Generate sequences for training...')\n",
    "    \n",
    "    \n",
    "    def get_train_batch(self, batch_size):\n",
    "        '''\n",
    "        Method to get batch with randomly selected training data.\n",
    "        \n",
    "        Parameters\n",
    "        ----------\n",
    "        batch_size : int\n",
    "            Number of data points in batch.\n",
    "\n",
    "        Returns\n",
    "        -------\n",
    "        X_train_batch, y_train_batch, seqlens_train_batch\n",
    "        '''\n",
    "        \n",
    "        instance_indices = list(range(len(self.y_train))) # list with all train indices\n",
    "        np.random.shuffle(instance_indices) # shuffle the train indices\n",
    "        batch_indices = instance_indices[:batch_size] # randomly select train indices\n",
    "    \n",
    "        # select batch data with corresponding indices\n",
    "        X_train_batch = np.array(self.X_train)[batch_indices]\n",
    "        y_train_batch = self.y_train[batch_indices]\n",
    "        seqlens_train_batch = np.array(self.seqlens_train)[batch_indices]\n",
    "\n",
    "        return X_train_batch, y_train_batch, seqlens_train_batch\n",
    "\n",
    "    \n",
    "    # methods to get data\n",
    "    def get_X_test(self):\n",
    "        return self.X_test\n",
    "    \n",
    "    def get_y_test(self):\n",
    "        return self.y_test\n",
    "    \n",
    "    def get_seqlens_test(self):\n",
    "        return self.seqlens_test\n",
    "    \n",
    "    def get_X_train(self):\n",
    "        return self.X_train\n",
    "    \n",
    "    def get_y_train(self):\n",
    "        return self.y_train\n",
    "    \n",
    "    def get_sequlens_train(self):\n",
    "        return self.sequlens_train\n",
    "    \n",
    "    \n",
    "    # methods to get data points (DataFrames)\n",
    "    def get_test_data_points(self):\n",
    "        return self.test_data_points_df\n",
    "    \n",
    "    def get_train_data_points(self):\n",
    "        return self.train_data_points_df\n",
    "    \n",
    "    def get_all_data_points(self):\n",
    "        return self.all_data_points_df\n"
   ]
  },
  {
   "cell_type": "markdown",
   "metadata": {},
   "source": [
    "### Create instance of the class *PhysioData_RNN*"
   ]
  },
  {
   "cell_type": "code",
   "execution_count": 8,
   "metadata": {
    "ExecuteTime": {
     "end_time": "2019-01-17T13:56:00.894693Z",
     "start_time": "2019-01-17T13:55:16.164135Z"
    }
   },
   "outputs": [],
   "source": [
    "PD_RNN1 = PhysioData_RNN(test_subject_ids=1,\n",
    "                         max_sequence_length_testing=6,\n",
    "                         max_sequence_length_training=6,\n",
    "                         whole_rep_blocks_as_data_points_for_testing=False,\n",
    "                         whole_rep_blocks_as_data_points_for_training=False)"
   ]
  },
  {
   "cell_type": "code",
   "execution_count": 9,
   "metadata": {
    "ExecuteTime": {
     "end_time": "2019-01-17T13:56:00.932695Z",
     "start_time": "2019-01-17T13:56:00.906694Z"
    }
   },
   "outputs": [
    {
     "data": {
      "text/plain": [
       "(709, 48, 6)"
      ]
     },
     "execution_count": 9,
     "metadata": {},
     "output_type": "execute_result"
    }
   ],
   "source": [
    "np.shape(PD_RNN1.get_X_test())"
   ]
  },
  {
   "cell_type": "code",
   "execution_count": 10,
   "metadata": {
    "ExecuteTime": {
     "end_time": "2019-01-17T13:56:01.131707Z",
     "start_time": "2019-01-17T13:56:00.936696Z"
    }
   },
   "outputs": [
    {
     "data": {
      "text/plain": [
       "(6120, 48, 6)"
      ]
     },
     "execution_count": 10,
     "metadata": {},
     "output_type": "execute_result"
    }
   ],
   "source": [
    "np.shape(PD_RNN1.get_X_train())"
   ]
  },
  {
   "cell_type": "code",
   "execution_count": 11,
   "metadata": {
    "ExecuteTime": {
     "end_time": "2019-01-17T13:56:01.260714Z",
     "start_time": "2019-01-17T13:56:01.135707Z"
    },
    "scrolled": true
   },
   "outputs": [
    {
     "data": {
      "text/plain": [
       "array([[-8.85008976e-01,  3.73013764e-01,  2.24020535e-01,\n",
       "         1.21751042e+01,  1.52829258e+00,  9.10124605e+00],\n",
       "       [-9.04367908e-01,  8.26654823e-01,  3.67851136e-01,\n",
       "        -1.01565373e+01,  5.38131320e+00,  7.39012265e+01],\n",
       "       [-1.01528357e+00,  1.07474501e+00,  3.88348309e-01,\n",
       "        -2.42753698e+01, -2.82604112e+01,  1.39737623e+02],\n",
       "       [-1.03430703e+00,  1.15137975e+00,  2.56821977e-01,\n",
       "         1.23076905e+01, -3.72862596e+01,  1.91338412e+02],\n",
       "       [-6.34748614e-01,  9.63927847e-01,  2.02384178e-01,\n",
       "        -7.54283377e+00, -3.91051296e+01,  1.58483358e+02],\n",
       "       [-2.93779369e-01,  7.57520082e-01,  2.75981183e-01,\n",
       "        -5.35511185e+00, -2.56590433e+01,  1.41178164e+02],\n",
       "       [ 1.04911864e-01,  5.41331501e-01,  2.45186189e-01,\n",
       "         4.44534291e+00, -1.63078708e+01,  1.13614763e+02],\n",
       "       [ 4.32216915e-01,  4.15494757e-01,  2.65919449e-01,\n",
       "         1.68503415e+00, -2.25416173e+00,  6.80021935e+01],\n",
       "       [ 6.11687397e-01,  4.31368824e-01,  2.80606846e-01,\n",
       "        -1.46211643e+01, -3.62546694e+00,  1.43849657e+01],\n",
       "       [ 6.21065955e-01,  5.10839768e-01,  3.34571072e-01,\n",
       "         2.23573633e+00,  1.75674248e+00, -4.89205622e-02],\n",
       "       [ 5.76487955e-01,  4.50268683e-01,  3.27837728e-01,\n",
       "        -1.50772590e+00,  2.06181750e+00, -1.68996313e+01],\n",
       "       [ 4.09856906e-01,  3.94621483e-01,  2.27177439e-01,\n",
       "         3.95772234e+00,  2.69890721e+00, -6.31377488e+01],\n",
       "       [ 1.60316970e-01,  5.17148631e-01,  2.94741576e-01,\n",
       "        -2.82360611e+01,  2.85425109e+01, -1.19222601e+02],\n",
       "       [-1.91762490e-01,  7.73961019e-01,  3.24831739e-01,\n",
       "         2.83235200e+01,  2.91210772e+01, -1.39990128e+02],\n",
       "       [-5.50248195e-01,  1.01577925e+00,  3.24931914e-01,\n",
       "         8.48018451e+00,  1.93014588e+01, -1.57620844e+02],\n",
       "       [-9.05278854e-01,  9.07200894e-01,  3.87678549e-01,\n",
       "        -2.45637713e+01,  2.33728910e+01, -1.54579808e+02],\n",
       "       [-1.06081757e+00,  8.50847948e-01,  3.23734638e-01,\n",
       "        -7.80314506e+00,  2.77927524e+01, -1.22591467e+02],\n",
       "       [-9.83693089e-01,  7.31427570e-01,  3.45395706e-01,\n",
       "         3.35026007e+01,  1.54412798e+01, -1.12633149e+02],\n",
       "       [-1.03250496e+00,  4.24830007e-01,  3.33556145e-01,\n",
       "        -1.44286634e+01,  2.42460802e+01, -4.55003833e+01],\n",
       "       [-8.73047459e-01,  3.91488597e-01,  2.36033804e-01,\n",
       "         2.69888523e+01,  8.09433261e+00, -1.69945675e+01],\n",
       "       [-9.44795597e-01,  2.54712710e-01,  2.17821080e-01,\n",
       "         5.63878809e+00,  2.21768665e+00, -3.30126554e+00],\n",
       "       [ 0.00000000e+00,  0.00000000e+00,  0.00000000e+00,\n",
       "         0.00000000e+00,  0.00000000e+00,  0.00000000e+00],\n",
       "       [ 0.00000000e+00,  0.00000000e+00,  0.00000000e+00,\n",
       "         0.00000000e+00,  0.00000000e+00,  0.00000000e+00],\n",
       "       [ 0.00000000e+00,  0.00000000e+00,  0.00000000e+00,\n",
       "         0.00000000e+00,  0.00000000e+00,  0.00000000e+00],\n",
       "       [ 0.00000000e+00,  0.00000000e+00,  0.00000000e+00,\n",
       "         0.00000000e+00,  0.00000000e+00,  0.00000000e+00],\n",
       "       [ 0.00000000e+00,  0.00000000e+00,  0.00000000e+00,\n",
       "         0.00000000e+00,  0.00000000e+00,  0.00000000e+00],\n",
       "       [ 0.00000000e+00,  0.00000000e+00,  0.00000000e+00,\n",
       "         0.00000000e+00,  0.00000000e+00,  0.00000000e+00],\n",
       "       [ 0.00000000e+00,  0.00000000e+00,  0.00000000e+00,\n",
       "         0.00000000e+00,  0.00000000e+00,  0.00000000e+00],\n",
       "       [ 0.00000000e+00,  0.00000000e+00,  0.00000000e+00,\n",
       "         0.00000000e+00,  0.00000000e+00,  0.00000000e+00],\n",
       "       [ 0.00000000e+00,  0.00000000e+00,  0.00000000e+00,\n",
       "         0.00000000e+00,  0.00000000e+00,  0.00000000e+00],\n",
       "       [ 0.00000000e+00,  0.00000000e+00,  0.00000000e+00,\n",
       "         0.00000000e+00,  0.00000000e+00,  0.00000000e+00],\n",
       "       [ 0.00000000e+00,  0.00000000e+00,  0.00000000e+00,\n",
       "         0.00000000e+00,  0.00000000e+00,  0.00000000e+00],\n",
       "       [ 0.00000000e+00,  0.00000000e+00,  0.00000000e+00,\n",
       "         0.00000000e+00,  0.00000000e+00,  0.00000000e+00],\n",
       "       [ 0.00000000e+00,  0.00000000e+00,  0.00000000e+00,\n",
       "         0.00000000e+00,  0.00000000e+00,  0.00000000e+00],\n",
       "       [ 0.00000000e+00,  0.00000000e+00,  0.00000000e+00,\n",
       "         0.00000000e+00,  0.00000000e+00,  0.00000000e+00],\n",
       "       [ 0.00000000e+00,  0.00000000e+00,  0.00000000e+00,\n",
       "         0.00000000e+00,  0.00000000e+00,  0.00000000e+00],\n",
       "       [ 0.00000000e+00,  0.00000000e+00,  0.00000000e+00,\n",
       "         0.00000000e+00,  0.00000000e+00,  0.00000000e+00],\n",
       "       [ 0.00000000e+00,  0.00000000e+00,  0.00000000e+00,\n",
       "         0.00000000e+00,  0.00000000e+00,  0.00000000e+00],\n",
       "       [ 0.00000000e+00,  0.00000000e+00,  0.00000000e+00,\n",
       "         0.00000000e+00,  0.00000000e+00,  0.00000000e+00],\n",
       "       [ 0.00000000e+00,  0.00000000e+00,  0.00000000e+00,\n",
       "         0.00000000e+00,  0.00000000e+00,  0.00000000e+00],\n",
       "       [ 0.00000000e+00,  0.00000000e+00,  0.00000000e+00,\n",
       "         0.00000000e+00,  0.00000000e+00,  0.00000000e+00],\n",
       "       [ 0.00000000e+00,  0.00000000e+00,  0.00000000e+00,\n",
       "         0.00000000e+00,  0.00000000e+00,  0.00000000e+00],\n",
       "       [ 0.00000000e+00,  0.00000000e+00,  0.00000000e+00,\n",
       "         0.00000000e+00,  0.00000000e+00,  0.00000000e+00],\n",
       "       [ 0.00000000e+00,  0.00000000e+00,  0.00000000e+00,\n",
       "         0.00000000e+00,  0.00000000e+00,  0.00000000e+00],\n",
       "       [ 0.00000000e+00,  0.00000000e+00,  0.00000000e+00,\n",
       "         0.00000000e+00,  0.00000000e+00,  0.00000000e+00],\n",
       "       [ 0.00000000e+00,  0.00000000e+00,  0.00000000e+00,\n",
       "         0.00000000e+00,  0.00000000e+00,  0.00000000e+00],\n",
       "       [ 0.00000000e+00,  0.00000000e+00,  0.00000000e+00,\n",
       "         0.00000000e+00,  0.00000000e+00,  0.00000000e+00],\n",
       "       [ 0.00000000e+00,  0.00000000e+00,  0.00000000e+00,\n",
       "         0.00000000e+00,  0.00000000e+00,  0.00000000e+00]])"
      ]
     },
     "execution_count": 11,
     "metadata": {},
     "output_type": "execute_result"
    }
   ],
   "source": [
    "PD_RNN1.get_X_test()[0]"
   ]
  },
  {
   "cell_type": "code",
   "execution_count": 12,
   "metadata": {
    "ExecuteTime": {
     "end_time": "2019-01-17T13:56:01.404722Z",
     "start_time": "2019-01-17T13:56:01.265714Z"
    }
   },
   "outputs": [
    {
     "data": {
      "text/plain": [
       "0"
      ]
     },
     "execution_count": 12,
     "metadata": {},
     "output_type": "execute_result"
    }
   ],
   "source": [
    "PD_RNN1.get_y_test()[0]"
   ]
  },
  {
   "cell_type": "code",
   "execution_count": 13,
   "metadata": {
    "ExecuteTime": {
     "end_time": "2019-01-17T13:56:01.536730Z",
     "start_time": "2019-01-17T13:56:01.410723Z"
    }
   },
   "outputs": [
    {
     "data": {
      "text/plain": [
       "21"
      ]
     },
     "execution_count": 13,
     "metadata": {},
     "output_type": "execute_result"
    }
   ],
   "source": [
    "PD_RNN1.get_seqlens_test()[0]"
   ]
  },
  {
   "cell_type": "code",
   "execution_count": 14,
   "metadata": {
    "ExecuteTime": {
     "end_time": "2019-01-17T13:56:01.694739Z",
     "start_time": "2019-01-17T13:56:01.545730Z"
    }
   },
   "outputs": [],
   "source": [
    "X_train_batch, y_train_batch, seqlens_train_batch = PD_RNN1.get_train_batch(batch_size=5)"
   ]
  },
  {
   "cell_type": "code",
   "execution_count": 15,
   "metadata": {
    "ExecuteTime": {
     "end_time": "2019-01-17T13:56:01.830747Z",
     "start_time": "2019-01-17T13:56:01.699739Z"
    }
   },
   "outputs": [
    {
     "data": {
      "text/plain": [
       "(5, 48, 6)"
      ]
     },
     "execution_count": 15,
     "metadata": {},
     "output_type": "execute_result"
    }
   ],
   "source": [
    "np.shape(X_train_batch)"
   ]
  },
  {
   "cell_type": "code",
   "execution_count": 16,
   "metadata": {
    "ExecuteTime": {
     "end_time": "2019-01-17T13:56:01.968755Z",
     "start_time": "2019-01-17T13:56:01.834747Z"
    }
   },
   "outputs": [
    {
     "data": {
      "text/plain": [
       "array([10, 10, 10,  2,  3], dtype=int8)"
      ]
     },
     "execution_count": 16,
     "metadata": {},
     "output_type": "execute_result"
    }
   ],
   "source": [
    "y_train_batch"
   ]
  },
  {
   "cell_type": "code",
   "execution_count": 17,
   "metadata": {
    "ExecuteTime": {
     "end_time": "2019-01-17T13:56:02.129764Z",
     "start_time": "2019-01-17T13:56:01.983755Z"
    }
   },
   "outputs": [
    {
     "data": {
      "text/plain": [
       "array([33, 27, 24, 21, 19])"
      ]
     },
     "execution_count": 17,
     "metadata": {},
     "output_type": "execute_result"
    }
   ],
   "source": [
    "seqlens_train_batch"
   ]
  },
  {
   "cell_type": "code",
   "execution_count": 18,
   "metadata": {
    "ExecuteTime": {
     "end_time": "2019-01-17T13:56:02.909808Z",
     "start_time": "2019-01-17T13:56:02.132764Z"
    }
   },
   "outputs": [
    {
     "data": {
      "image/png": "[encoded data removed]",
      "text/plain": [
       "<Figure size 432x288 with 1 Axes>"
      ]
     },
     "metadata": {},
     "output_type": "display_data"
    }
   ],
   "source": [
    "plt.plot(X_train_batch[0,:,:]);"
   ]
  },
  {
   "cell_type": "code",
   "execution_count": 19,
   "metadata": {
    "ExecuteTime": {
     "end_time": "2019-01-17T13:56:03.067817Z",
     "start_time": "2019-01-17T13:56:02.912809Z"
    }
   },
   "outputs": [
    {
     "data": {
      "image/png": "[encoded data removed]",
      "text/plain": [
       "<Figure size 432x288 with 1 Axes>"
      ]
     },
     "metadata": {},
     "output_type": "display_data"
    }
   ],
   "source": [
    "plt.plot(PD_RNN1.get_X_test()[0,:,:]);"
   ]
  },
  {
   "cell_type": "markdown",
   "metadata": {},
   "source": [
    "## Building a Recurrent Neural Network with *TensorFlow*"
   ]
  },
  {
   "cell_type": "code",
   "execution_count": 20,
   "metadata": {
    "ExecuteTime": {
     "end_time": "2019-01-17T13:56:16.231570Z",
     "start_time": "2019-01-17T13:56:03.070818Z"
    }
   },
   "outputs": [
    {
     "name": "stderr",
     "output_type": "stream",
     "text": [
      "E:\\Programme\\WinPython-64bit-3.6.2.0Qt5\\python-3.6.2.amd64\\lib\\site-packages\\h5py\\__init__.py:36: FutureWarning: Conversion of the second argument of issubdtype from `float` to `np.floating` is deprecated. In future, it will be treated as `np.float64 == np.dtype(float).type`.\n",
      "  from ._conv import register_converters as _register_converters\n"
     ]
    }
   ],
   "source": [
    "import tensorflow as tf"
   ]
  },
  {
   "cell_type": "code",
   "execution_count": 21,
   "metadata": {
    "ExecuteTime": {
     "end_time": "2019-01-17T13:56:16.247571Z",
     "start_time": "2019-01-17T13:56:16.234571Z"
    }
   },
   "outputs": [
    {
     "name": "stdout",
     "output_type": "stream",
     "text": [
      "tensorboard --logdir=E:\\Jupyter_Notebooks\\Master_Project_Meinhart_git\\logs\\RNN_with_summaries\n"
     ]
    }
   ],
   "source": [
    "# directory to save TensorBoard model summaries\n",
    "LOG_DIR_ALL = 'E:\\Jupyter_Notebooks\\Master_Project_Meinhart_git\\logs\\RNN_with_summaries'\n",
    "\n",
    "# run the command:\n",
    "print('tensorboard --logdir=' + LOG_DIR_ALL)\n",
    "\n",
    "#  --> open http://FlorianMeinhart:6006"
   ]
  },
  {
   "cell_type": "code",
   "execution_count": 129,
   "metadata": {
    "ExecuteTime": {
     "end_time": "2019-01-17T15:33:25.700997Z",
     "start_time": "2019-01-17T15:33:25.694997Z"
    }
   },
   "outputs": [],
   "source": [
    "# define parameters for RNN\n",
    "num_signals = 6 # number of signals (Acc: x, y, z; Gyr: x, y, z)\n",
    "num_classes = 11 # number of classes\n",
    "batch_size = 150 # number of data points for each batch\n",
    "time_steps = None # --> dynamic_rnn\n",
    "hidden_layer_size_rnn = 128 # number of neurons in the hidden layer of the RNN\n",
    "num_steps = 1001 # number of steps for training"
   ]
  },
  {
   "cell_type": "code",
   "execution_count": 130,
   "metadata": {
    "ExecuteTime": {
     "end_time": "2019-01-17T15:33:26.167024Z",
     "start_time": "2019-01-17T15:33:26.158023Z"
    }
   },
   "outputs": [],
   "source": [
    "# get time in order to append corresponding string to log directory\n",
    "now = datetime.now()\n",
    "LOG_DIR_TRAIN = LOG_DIR_ALL + now.strftime('\\%Y%m%d-%H%M%S' + '_train')\n",
    "LOG_DIR_TEST = LOG_DIR_ALL + now.strftime('\\%Y%m%d-%H%M%S' + '_test')"
   ]
  },
  {
   "cell_type": "code",
   "execution_count": 131,
   "metadata": {
    "ExecuteTime": {
     "end_time": "2019-01-17T15:33:27.154080Z",
     "start_time": "2019-01-17T15:33:26.674053Z"
    }
   },
   "outputs": [],
   "source": [
    "# create new tensorflow graph\n",
    "tf.reset_default_graph()\n",
    "\n",
    "with tf.name_scope('data'):\n",
    "    inputs = tf.placeholder(tf.float32, shape=[None, time_steps, num_signals], name='inputs')\n",
    "    labels = tf.placeholder(tf.int32, shape=[None, num_classes], name='labels')\n",
    "    seqlens = tf.placeholder(tf.int32, shape=[None], name='seqlens')\n",
    "\n",
    "with tf.name_scope('RNN_layer'):\n",
    "    rnn_cell = tf.nn.rnn_cell.BasicRNNCell(hidden_layer_size_rnn)\n",
    "    #rnn_cell = tf.nn.rnn_cell.BasicLSTMCell(hidden_layer_size_rnn)\n",
    "    outputs, states = tf.nn.dynamic_rnn(rnn_cell, inputs, sequence_length=seqlens, dtype=tf.float32)\n",
    "\n",
    "with tf.name_scope('linear_layer'):\n",
    "    W1 = tf.Variable(tf.truncated_normal([hidden_layer_size_rnn, num_classes], mean=0, stddev=0.1),\n",
    "                     name='weights_linear')\n",
    "    b1 = tf.Variable(tf.truncated_normal([num_classes], mean=0, stddev=0.1),\n",
    "                     name='biases_linear')\n",
    "    final_output = tf.matmul(states, W1) + b1\n",
    "    #final_output = tf.matmul(states[0], W1) + b1\n",
    "    \n",
    "    final_output_all_states = tf.matmul(tf.reshape(outputs, [-1, hidden_layer_size_rnn]), W1) + b1\n",
    "    \n",
    "    softmax = tf.nn.softmax_cross_entropy_with_logits_v2(logits=final_output, labels=labels)\n",
    "    cross_entropy = tf.reduce_mean(softmax)\n",
    "    tf.summary.scalar('cross_entropy', cross_entropy)\n",
    "\n",
    "\n",
    "train_step = tf.train.RMSPropOptimizer(0.001, 0.9).minimize(cross_entropy)\n",
    "#train_step = tf.train.AdamOptimizer(0.001).minimize(cross_entropy)\n",
    "\n",
    "with tf.name_scope('evaluation'):\n",
    "    correct_prediction = tf.equal(tf.argmax(labels,1), tf.argmax(final_output,1), name='correct_prediction')\n",
    "    accuracy = (tf.reduce_mean(tf.cast(correct_prediction, tf.float32)))*100\n",
    "    pred_prob = tf.nn.softmax(logits=final_output, name='predicted_probabilities')\n",
    "    pred_prob_all_states = tf.nn.softmax(logits=final_output_all_states, name='predicted_probabilities_all_states')\n",
    "    tf.summary.scalar('accuracy', accuracy)\n",
    "\n",
    "\n",
    "# merge summaries and create summary writers for training and testing\n",
    "merged = tf.summary.merge_all()\n",
    "train_writer = tf.summary.FileWriter(LOG_DIR_TRAIN)\n",
    "test_writer = tf.summary.FileWriter(LOG_DIR_TEST) "
   ]
  },
  {
   "cell_type": "code",
   "execution_count": 132,
   "metadata": {
    "ExecuteTime": {
     "end_time": "2019-01-17T15:33:27.217084Z",
     "start_time": "2019-01-17T15:33:27.207083Z"
    }
   },
   "outputs": [],
   "source": [
    "def one_hot(labels, num_classes):\n",
    "    '''\n",
    "    Convert lables to one-hot format.\n",
    "\n",
    "    Parameters\n",
    "    ----------\n",
    "    labels : array or list of integers\n",
    "        --> e.g. [0, 1, 4, 2, 0]\n",
    "        \n",
    "    num_classes : int\n",
    "        Number of classes.\n",
    "        (Has to be >= max(labels))\n",
    "\n",
    "    Returns\n",
    "    -------\n",
    "    matrix\n",
    "        Lables in one-hot format.\n",
    "    \n",
    "        --> e.g.\n",
    "              [[1., 0., 0., 0., 0.],\n",
    "               [0., 1., 0., 0., 0.],\n",
    "               [0., 0., 0., 0., 1.],\n",
    "               [0., 0., 1., 0., 0.],\n",
    "               [1., 0., 0., 0., 0.]]\n",
    "    '''\n",
    "    n = len(labels)\n",
    "    labels_one_hot = np.zeros((n, num_classes))\n",
    "    labels_one_hot[range(n), labels] = 1\n",
    "    return labels_one_hot"
   ]
  },
  {
   "cell_type": "code",
   "execution_count": 133,
   "metadata": {
    "ExecuteTime": {
     "end_time": "2019-01-17T15:34:52.495961Z",
     "start_time": "2019-01-17T15:33:27.881122Z"
    },
    "scrolled": false
   },
   "outputs": [
    {
     "name": "stdout",
     "output_type": "stream",
     "text": [
      "Accuracy at step 0\n",
      "\tTrain Set: 12.667\n",
      "\tTest Set:  10.860\n",
      "Accuracy at step 50\n",
      "\tTrain Set: 38.667\n",
      "\tTest Set:  27.362\n",
      "Accuracy at step 100\n",
      "\tTrain Set: 58.667\n",
      "\tTest Set:  46.827\n",
      "Accuracy at step 150\n",
      "\tTrain Set: 72.667\n",
      "\tTest Set:  63.047\n",
      "Accuracy at step 200\n",
      "\tTrain Set: 90.667\n",
      "\tTest Set:  78.561\n",
      "Accuracy at step 250\n",
      "\tTrain Set: 92.667\n",
      "\tTest Set:  86.319\n",
      "Accuracy at step 300\n",
      "\tTrain Set: 90.000\n",
      "\tTest Set:  87.729\n",
      "Accuracy at step 350\n",
      "\tTrain Set: 92.667\n",
      "\tTest Set:  91.255\n",
      "Accuracy at step 400\n",
      "\tTrain Set: 91.333\n",
      "\tTest Set:  90.550\n",
      "Accuracy at step 450\n",
      "\tTrain Set: 97.333\n",
      "\tTest Set:  93.089\n",
      "Accuracy at step 500\n",
      "\tTrain Set: 94.667\n",
      "\tTest Set:  91.114\n",
      "Accuracy at step 550\n",
      "\tTrain Set: 98.000\n",
      "\tTest Set:  94.499\n",
      "Accuracy at step 600\n",
      "\tTrain Set: 96.000\n",
      "\tTest Set:  94.076\n",
      "Accuracy at step 650\n",
      "\tTrain Set: 96.667\n",
      "\tTest Set:  95.063\n",
      "Accuracy at step 700\n",
      "\tTrain Set: 97.333\n",
      "\tTest Set:  93.653\n",
      "Accuracy at step 750\n",
      "\tTrain Set: 98.000\n",
      "\tTest Set:  95.628\n",
      "Accuracy at step 800\n",
      "\tTrain Set: 96.000\n",
      "\tTest Set:  95.769\n",
      "Accuracy at step 850\n",
      "\tTrain Set: 98.000\n",
      "\tTest Set:  95.063\n",
      "Accuracy at step 900\n",
      "\tTrain Set: 98.667\n",
      "\tTest Set:  94.922\n",
      "Accuracy at step 950\n",
      "\tTrain Set: 98.000\n",
      "\tTest Set:  95.063\n",
      "Accuracy at step 1000\n",
      "\tTrain Set: 99.333\n",
      "\tTest Set:  96.474\n"
     ]
    }
   ],
   "source": [
    "# open a session for the created graph\n",
    "with tf.Session() as sess:\n",
    "    sess.run(tf.global_variables_initializer())\n",
    "    train_writer.add_graph(sess.graph)\n",
    "    test_writer.add_graph(sess.graph)\n",
    "    \n",
    "    # get test labels in one-hot format\n",
    "    y_test_all_one_hot = one_hot(PD_RNN1.get_y_test(), num_classes)\n",
    "    \n",
    "    # get sequence tensor for testing and corresponding sequence lengths\n",
    "    X_test_all = PD_RNN1.get_X_test()\n",
    "    seqlens_test_all = PD_RNN1.get_seqlens_test()\n",
    "    \n",
    "    # train the RNN with a defined number of steps\n",
    "    for step in range(num_steps):\n",
    "        # get batch data\n",
    "        x_batch, y_batch, seqlens_batch = PD_RNN1.get_train_batch(batch_size)\n",
    "        \n",
    "        # get batch labels in one-hot format\n",
    "        y_batch_one_hot = one_hot(y_batch, num_classes)\n",
    "        \n",
    "        # run the session\n",
    "        sess.run(train_step, feed_dict={inputs:x_batch, labels:y_batch_one_hot, seqlens:seqlens_batch})\n",
    "        \n",
    "        # evaluate the RNN every 20 steps\n",
    "        if step % 50 == 0:\n",
    "            summary_train, accuracy_train = sess.run([merged, accuracy], \n",
    "                                                      feed_dict={inputs:x_batch, \n",
    "                                                                 labels:y_batch_one_hot, \n",
    "                                                                 seqlens:seqlens_batch})\n",
    "            print('Accuracy at step {}'.format(step))\n",
    "            print('\\tTrain Set: {:.3f}'.format(accuracy_train))\n",
    "            \n",
    "            # write to train summary\n",
    "            train_writer.add_summary(summary_train, step)\n",
    "    \n",
    "            summary_test, pred_prob_test, pred_prob_test_all, pred_test, accuracy_test = sess.run([merged, pred_prob,\n",
    "                                                        pred_prob_all_states, tf.argmax(final_output,1), accuracy],\n",
    "                                                        feed_dict={inputs:X_test_all, \n",
    "                                                                   labels:y_test_all_one_hot, \n",
    "                                                                   seqlens:seqlens_test_all})\n",
    "            # write to test summary\n",
    "            test_writer.add_summary(summary_test, step)\n",
    "    \n",
    "            print('\\tTest Set:  {:.3f}'.format(accuracy_test))\n",
    "    \n",
    "    # Creates a saver.\n",
    "    saver = tf.train.Saver()\n",
    "    saver.save(sess, 'E:/TensorFlow_saved_models/final-RNN-model/RNN-model-1')\n",
    "    # Generates MetaGraphDef.\n",
    "    saver.export_meta_graph('E:/TensorFlow_saved_models/final-RNN-model/RNN-model-1.meta')\n"
   ]
  },
  {
   "cell_type": "markdown",
   "metadata": {},
   "source": [
    "### Evaluate the results"
   ]
  },
  {
   "cell_type": "code",
   "execution_count": 134,
   "metadata": {
    "ExecuteTime": {
     "end_time": "2019-01-17T15:35:04.640656Z",
     "start_time": "2019-01-17T15:35:04.522649Z"
    }
   },
   "outputs": [
    {
     "name": "stdout",
     "output_type": "stream",
     "text": [
      "Exercise\tPrecision [%]\tRecall [%]\tAccuracy [%]\n",
      "  RF\t\t   78.79\t   86.67\t   98.45\n",
      "  RO\t\t   82.14\t   76.67\t   98.31\n",
      "  RS\t\t   96.00\t   80.00\t   99.01\n",
      "  LR\t\t  100.00\t  100.00\t  100.00\n",
      "  BC\t\t  100.00\t  100.00\t  100.00\n",
      "  TC\t\t  100.00\t  100.00\t  100.00\n",
      "  MP\t\t   96.30\t   86.67\t   99.29\n",
      "  SA\t\t  100.00\t  100.00\t  100.00\n",
      "  P1\t\t  100.00\t  100.00\t  100.00\n",
      "  P2\t\t   80.56\t   96.67\t   98.87\n",
      "  NE\t\t   99.02\t   99.26\t   99.01\n"
     ]
    }
   ],
   "source": [
    "print_precision_recall_accuracy(pred_test, PD_RNN1.get_y_test())"
   ]
  },
  {
   "cell_type": "code",
   "execution_count": 135,
   "metadata": {
    "ExecuteTime": {
     "end_time": "2019-01-17T15:35:06.229747Z",
     "start_time": "2019-01-17T15:35:06.214746Z"
    }
   },
   "outputs": [
    {
     "name": "stdout",
     "output_type": "stream",
     "text": [
      "25 misclassified (709 test data points):\n",
      "RF classified as RO\n",
      "RF classified as RO\n",
      "RF classified as RO\n",
      "RF classified as RO\n",
      "RO classified as RF\n",
      "RO classified as RF\n",
      "RO classified as RF\n",
      "RO classified as RF\n",
      "RO classified as RF\n",
      "RO classified as RF\n",
      "RO classified as RF\n",
      "RS classified as P2\n",
      "RS classified as P2\n",
      "RS classified as P2\n",
      "RS classified as P2\n",
      "RS classified as P2\n",
      "RS classified as P2\n",
      "MP classified as NE\n",
      "MP classified as NE\n",
      "MP classified as NE\n",
      "MP classified as NE\n",
      "P2 classified as RS\n",
      "NE classified as P2\n",
      "NE classified as RO\n",
      "NE classified as MP\n"
     ]
    }
   ],
   "source": [
    "print_misclassified_data_points(pred_test, PD_RNN1.get_y_test())"
   ]
  },
  {
   "cell_type": "code",
   "execution_count": 136,
   "metadata": {
    "ExecuteTime": {
     "end_time": "2019-01-17T15:35:08.937902Z",
     "start_time": "2019-01-17T15:35:08.921901Z"
    }
   },
   "outputs": [
    {
     "data": {
      "text/plain": [
       "(709, 11)"
      ]
     },
     "execution_count": 136,
     "metadata": {},
     "output_type": "execute_result"
    }
   ],
   "source": [
    "np.shape(pred_prob_test)"
   ]
  },
  {
   "cell_type": "code",
   "execution_count": 137,
   "metadata": {
    "ExecuteTime": {
     "end_time": "2019-01-17T15:35:09.139913Z",
     "start_time": "2019-01-17T15:35:09.092911Z"
    }
   },
   "outputs": [
    {
     "data": {
      "text/plain": [
       "(34032, 11)"
      ]
     },
     "execution_count": 137,
     "metadata": {},
     "output_type": "execute_result"
    }
   ],
   "source": [
    "np.shape(pred_prob_test_all)"
   ]
  },
  {
   "cell_type": "code",
   "execution_count": 138,
   "metadata": {
    "ExecuteTime": {
     "end_time": "2019-01-17T15:35:09.361926Z",
     "start_time": "2019-01-17T15:35:09.349925Z"
    }
   },
   "outputs": [
    {
     "data": {
      "text/plain": [
       "48.0"
      ]
     },
     "execution_count": 138,
     "metadata": {},
     "output_type": "execute_result"
    }
   ],
   "source": [
    "34032 / 709"
   ]
  },
  {
   "cell_type": "code",
   "execution_count": 139,
   "metadata": {
    "ExecuteTime": {
     "end_time": "2019-01-17T15:35:09.988962Z",
     "start_time": "2019-01-17T15:35:09.982962Z"
    }
   },
   "outputs": [
    {
     "data": {
      "text/plain": [
       "array([5.65119572e-02, 1.83404784e-03, 9.50067362e-04, 1.09072025e-04,\n",
       "       9.99285112e-05, 4.17501506e-05, 2.51779838e-05, 2.72319066e-05,\n",
       "       3.06252878e-06, 8.31739101e-07, 2.23940879e-06, 1.88467075e-05,\n",
       "       1.07177213e-04, 4.63426870e-04, 4.00188845e-03, 1.63614303e-02,\n",
       "       1.02708474e-01, 2.22820058e-01, 3.76583487e-01, 5.33753157e-01,\n",
       "       6.47603631e-01, 8.50237161e-02, 8.50237161e-02, 8.50237161e-02,\n",
       "       8.50237161e-02, 8.50237161e-02, 8.50237161e-02, 8.50237161e-02,\n",
       "       8.50237161e-02, 8.50237161e-02, 8.50237161e-02, 8.50237161e-02,\n",
       "       8.50237161e-02, 8.50237161e-02, 8.50237161e-02, 8.50237161e-02,\n",
       "       8.50237161e-02, 8.50237161e-02, 8.50237161e-02, 8.50237161e-02,\n",
       "       8.50237161e-02, 8.50237161e-02, 8.50237161e-02, 8.50237161e-02,\n",
       "       8.50237161e-02, 8.50237161e-02, 8.50237161e-02, 8.50237161e-02],\n",
       "      dtype=float32)"
      ]
     },
     "execution_count": 139,
     "metadata": {},
     "output_type": "execute_result"
    }
   ],
   "source": [
    "pred_prob_test_all[0:48,0] # first 48 rows belong to the first data point"
   ]
  },
  {
   "cell_type": "code",
   "execution_count": 140,
   "metadata": {
    "ExecuteTime": {
     "end_time": "2019-01-17T15:35:12.137085Z",
     "start_time": "2019-01-17T15:35:12.126084Z"
    }
   },
   "outputs": [
    {
     "data": {
      "text/plain": [
       "21"
      ]
     },
     "execution_count": 140,
     "metadata": {},
     "output_type": "execute_result"
    }
   ],
   "source": [
    "PD_RNN1.get_seqlens_test()[0]"
   ]
  },
  {
   "cell_type": "code",
   "execution_count": 141,
   "metadata": {
    "ExecuteTime": {
     "end_time": "2019-01-17T15:35:12.339096Z",
     "start_time": "2019-01-17T15:35:12.296094Z"
    }
   },
   "outputs": [
    {
     "data": {
      "text/plain": [
       "0.64760363"
      ]
     },
     "execution_count": 141,
     "metadata": {},
     "output_type": "execute_result"
    }
   ],
   "source": [
    "pred_prob_test_all[PD_RNN1.get_seqlens_test()[0]-1,0]"
   ]
  },
  {
   "cell_type": "code",
   "execution_count": 142,
   "metadata": {
    "ExecuteTime": {
     "end_time": "2019-01-17T15:35:12.484105Z",
     "start_time": "2019-01-17T15:35:12.446102Z"
    }
   },
   "outputs": [
    {
     "data": {
      "text/plain": [
       "0.64760363"
      ]
     },
     "execution_count": 142,
     "metadata": {},
     "output_type": "execute_result"
    }
   ],
   "source": [
    "pred_prob_test[0,0]"
   ]
  },
  {
   "cell_type": "code",
   "execution_count": 143,
   "metadata": {
    "ExecuteTime": {
     "end_time": "2019-01-17T15:35:12.854126Z",
     "start_time": "2019-01-17T15:35:12.845125Z"
    }
   },
   "outputs": [
    {
     "data": {
      "text/plain": [
       "0"
      ]
     },
     "execution_count": 143,
     "metadata": {},
     "output_type": "execute_result"
    }
   ],
   "source": [
    "pred_test[0]"
   ]
  },
  {
   "cell_type": "code",
   "execution_count": null,
   "metadata": {},
   "outputs": [],
   "source": []
  },
  {
   "cell_type": "code",
   "execution_count": 144,
   "metadata": {
    "ExecuteTime": {
     "end_time": "2019-01-17T15:35:17.151372Z",
     "start_time": "2019-01-17T15:35:15.341268Z"
    }
   },
   "outputs": [
    {
     "name": "stdout",
     "output_type": "stream",
     "text": [
      "Predicted probabilities [%] for the different exercises:\n",
      "\n",
      "Ex. 0\tEx. 1\tEx. 2\tEx. 3\tEx. 4\tEx. 5\tEx. 6\tEx. 7\tEx. 8\tEx. 9\tEx. 10\tpred. class\n",
      "64.76\t35.07\t0.01\t0.00\t0.00\t0.00\t0.01\t0.00\t0.00\t0.12\t0.03\t--> 0\n",
      "90.24\t8.97\t0.03\t0.00\t0.00\t0.00\t0.01\t0.02\t0.01\t0.59\t0.14\t--> 0\n",
      "93.67\t5.32\t0.05\t0.00\t0.00\t0.00\t0.01\t0.01\t0.01\t0.73\t0.20\t--> 0\n",
      "42.33\t54.74\t0.02\t0.01\t0.01\t0.00\t0.02\t0.01\t0.00\t2.76\t0.09\t--> 1\n",
      "56.23\t42.65\t0.07\t0.00\t0.00\t0.00\t0.03\t0.03\t0.01\t0.84\t0.13\t--> 0\n",
      "95.51\t4.44\t0.00\t0.00\t0.00\t0.00\t0.00\t0.01\t0.00\t0.03\t0.01\t--> 0\n",
      "24.25\t57.11\t0.26\t0.00\t0.02\t0.00\t0.02\t0.05\t0.00\t15.34\t2.95\t--> 1\n",
      "83.29\t16.55\t0.01\t0.00\t0.00\t0.00\t0.01\t0.01\t0.00\t0.10\t0.02\t--> 0\n",
      "82.09\t17.68\t0.01\t0.00\t0.00\t0.00\t0.00\t0.01\t0.00\t0.17\t0.03\t--> 0\n",
      "86.14\t13.47\t0.01\t0.00\t0.00\t0.00\t0.00\t0.02\t0.01\t0.24\t0.10\t--> 0\n",
      "91.80\t6.47\t0.02\t0.00\t0.01\t0.00\t0.01\t0.01\t0.05\t0.89\t0.75\t--> 0\n",
      "87.18\t11.95\t0.01\t0.00\t0.01\t0.00\t0.02\t0.02\t0.01\t0.67\t0.13\t--> 0\n",
      "61.19\t38.55\t0.00\t0.00\t0.00\t0.00\t0.01\t0.02\t0.00\t0.16\t0.06\t--> 0\n",
      "90.28\t8.30\t0.01\t0.00\t0.01\t0.00\t0.00\t0.06\t0.00\t1.16\t0.18\t--> 0\n",
      "91.91\t7.32\t0.01\t0.00\t0.00\t0.00\t0.01\t0.01\t0.01\t0.52\t0.20\t--> 0\n",
      "83.33\t16.49\t0.01\t0.00\t0.00\t0.00\t0.01\t0.02\t0.00\t0.07\t0.07\t--> 0\n",
      "91.76\t8.13\t0.00\t0.00\t0.00\t0.00\t0.00\t0.01\t0.00\t0.07\t0.02\t--> 0\n",
      "82.01\t17.86\t0.01\t0.00\t0.00\t0.00\t0.01\t0.01\t0.00\t0.08\t0.02\t--> 0\n",
      "78.22\t21.64\t0.01\t0.00\t0.00\t0.00\t0.01\t0.00\t0.00\t0.08\t0.04\t--> 0\n",
      "56.12\t42.86\t0.03\t0.01\t0.01\t0.00\t0.02\t0.02\t0.01\t0.82\t0.10\t--> 0\n",
      "53.52\t44.87\t0.19\t0.03\t0.01\t0.00\t0.10\t0.11\t0.04\t0.24\t0.90\t--> 0\n",
      "74.66\t11.79\t0.17\t0.04\t0.01\t0.00\t0.10\t0.12\t0.10\t0.44\t12.57\t--> 0\n",
      "79.62\t19.62\t0.08\t0.01\t0.00\t0.00\t0.01\t0.03\t0.02\t0.30\t0.32\t--> 0\n",
      "78.41\t21.10\t0.03\t0.00\t0.00\t0.00\t0.03\t0.03\t0.01\t0.10\t0.28\t--> 0\n",
      "48.87\t30.01\t0.46\t0.26\t0.02\t0.00\t0.13\t0.30\t0.24\t7.80\t11.91\t--> 0\n",
      "93.79\t5.98\t0.00\t0.00\t0.00\t0.00\t0.00\t0.01\t0.00\t0.17\t0.04\t--> 0\n",
      "53.23\t44.58\t0.12\t0.01\t0.00\t0.00\t0.18\t0.08\t0.03\t0.59\t1.18\t--> 0\n",
      "26.12\t73.27\t0.03\t0.00\t0.00\t0.00\t0.05\t0.03\t0.00\t0.41\t0.07\t--> 1\n",
      "91.46\t8.32\t0.01\t0.00\t0.00\t0.00\t0.00\t0.01\t0.00\t0.17\t0.04\t--> 0\n",
      "48.78\t50.45\t0.07\t0.01\t0.01\t0.00\t0.03\t0.06\t0.03\t0.42\t0.12\t--> 1\n",
      "83.67\t16.08\t0.00\t0.00\t0.02\t0.00\t0.00\t0.03\t0.00\t0.15\t0.03\t--> 0\n",
      "88.51\t11.27\t0.01\t0.00\t0.01\t0.00\t0.00\t0.02\t0.00\t0.16\t0.01\t--> 0\n",
      "8.87\t90.86\t0.01\t0.00\t0.01\t0.00\t0.00\t0.00\t0.00\t0.22\t0.02\t--> 1\n",
      "47.46\t52.32\t0.02\t0.00\t0.00\t0.00\t0.01\t0.02\t0.00\t0.11\t0.05\t--> 1\n",
      "68.78\t31.06\t0.01\t0.00\t0.01\t0.00\t0.01\t0.01\t0.00\t0.09\t0.04\t--> 0\n",
      "81.67\t18.13\t0.00\t0.00\t0.00\t0.00\t0.00\t0.01\t0.00\t0.15\t0.04\t--> 0\n",
      "18.33\t80.71\t0.01\t0.00\t0.00\t0.00\t0.01\t0.01\t0.00\t0.72\t0.20\t--> 1\n",
      "80.09\t19.81\t0.01\t0.00\t0.01\t0.00\t0.01\t0.01\t0.00\t0.05\t0.01\t--> 0\n",
      "49.20\t49.83\t0.01\t0.00\t0.00\t0.00\t0.09\t0.05\t0.00\t0.78\t0.04\t--> 1\n",
      "19.61\t79.36\t0.05\t0.00\t0.00\t0.00\t0.02\t0.03\t0.00\t0.82\t0.11\t--> 1\n",
      "34.90\t64.76\t0.01\t0.00\t0.00\t0.00\t0.02\t0.02\t0.00\t0.24\t0.04\t--> 1\n",
      "7.17\t91.08\t0.05\t0.00\t0.00\t0.00\t0.01\t0.02\t0.00\t1.47\t0.19\t--> 1\n",
      "18.54\t80.97\t0.01\t0.00\t0.01\t0.00\t0.02\t0.01\t0.00\t0.42\t0.02\t--> 1\n",
      "45.44\t53.71\t0.02\t0.00\t0.00\t0.00\t0.02\t0.01\t0.00\t0.66\t0.12\t--> 1\n",
      "21.06\t78.53\t0.06\t0.00\t0.01\t0.00\t0.01\t0.01\t0.00\t0.26\t0.05\t--> 1\n",
      "58.46\t40.69\t0.02\t0.00\t0.01\t0.00\t0.01\t0.03\t0.01\t0.74\t0.04\t--> 0\n",
      "52.87\t45.06\t0.29\t0.04\t0.04\t0.00\t0.17\t0.11\t0.03\t0.69\t0.68\t--> 0\n",
      "26.67\t61.86\t0.45\t0.24\t0.04\t0.00\t1.97\t0.25\t0.20\t5.37\t2.94\t--> 1\n",
      "13.09\t86.03\t0.08\t0.01\t0.00\t0.00\t0.11\t0.04\t0.01\t0.31\t0.32\t--> 1\n",
      "20.05\t78.50\t0.09\t0.01\t0.00\t0.00\t0.14\t0.07\t0.02\t0.51\t0.61\t--> 1\n",
      "30.38\t63.45\t0.13\t0.01\t0.00\t0.00\t0.07\t0.05\t0.01\t4.92\t0.98\t--> 1\n",
      "16.46\t82.34\t0.11\t0.01\t0.00\t0.00\t0.21\t0.03\t0.02\t0.44\t0.37\t--> 1\n",
      "30.92\t68.54\t0.02\t0.00\t0.00\t0.00\t0.01\t0.02\t0.00\t0.40\t0.10\t--> 1\n",
      "14.77\t78.11\t0.09\t0.01\t0.01\t0.00\t0.06\t0.09\t0.01\t5.00\t1.85\t--> 1\n",
      "18.87\t79.08\t0.08\t0.01\t0.01\t0.00\t0.03\t0.03\t0.01\t1.42\t0.47\t--> 1\n",
      "30.18\t63.60\t0.11\t0.01\t0.00\t0.00\t0.21\t0.06\t0.01\t5.44\t0.38\t--> 1\n",
      "12.57\t85.44\t0.03\t0.00\t0.00\t0.00\t0.04\t0.03\t0.00\t1.82\t0.06\t--> 1\n",
      "25.65\t73.74\t0.01\t0.00\t0.00\t0.00\t0.01\t0.01\t0.00\t0.40\t0.17\t--> 1\n",
      "41.67\t58.07\t0.00\t0.00\t0.00\t0.00\t0.01\t0.01\t0.00\t0.20\t0.02\t--> 1\n",
      "37.27\t62.49\t0.01\t0.00\t0.00\t0.00\t0.01\t0.01\t0.00\t0.16\t0.05\t--> 1\n",
      "0.00\t0.01\t99.75\t0.01\t0.00\t0.00\t0.00\t0.00\t0.00\t0.20\t0.03\t--> 2\n",
      "0.01\t0.05\t98.94\t0.04\t0.00\t0.00\t0.00\t0.00\t0.00\t0.85\t0.11\t--> 2\n",
      "0.04\t0.08\t96.23\t0.23\t0.00\t0.00\t0.00\t0.00\t0.00\t3.28\t0.14\t--> 2\n",
      "0.56\t0.29\t77.50\t0.24\t0.00\t0.00\t0.00\t0.00\t0.02\t19.90\t1.49\t--> 2\n",
      "0.01\t0.01\t99.06\t0.20\t0.00\t0.00\t0.00\t0.00\t0.01\t0.64\t0.08\t--> 2\n",
      "0.01\t0.04\t99.87\t0.00\t0.00\t0.00\t0.00\t0.00\t0.00\t0.05\t0.03\t--> 2\n",
      "0.12\t0.15\t89.51\t0.05\t0.00\t0.00\t0.00\t0.00\t0.01\t9.07\t1.10\t--> 2\n",
      "0.01\t0.03\t98.11\t0.03\t0.00\t0.00\t0.00\t0.00\t0.00\t1.71\t0.11\t--> 2\n",
      "0.11\t0.53\t11.03\t2.17\t0.01\t0.00\t0.03\t0.00\t0.02\t85.02\t1.07\t--> 9\n",
      "0.04\t0.06\t88.25\t0.27\t0.00\t0.00\t0.00\t0.00\t0.00\t11.24\t0.12\t--> 2\n",
      "0.12\t0.41\t59.82\t0.73\t0.00\t0.01\t0.01\t0.00\t0.01\t37.18\t1.72\t--> 2\n",
      "0.00\t0.01\t99.96\t0.01\t0.00\t0.00\t0.00\t0.00\t0.00\t0.01\t0.01\t--> 2\n",
      "0.04\t0.15\t89.27\t0.28\t0.00\t0.00\t0.00\t0.00\t0.00\t10.09\t0.17\t--> 2\n",
      "0.00\t0.00\t99.85\t0.03\t0.00\t0.00\t0.00\t0.00\t0.00\t0.10\t0.01\t--> 2\n",
      "0.00\t0.01\t99.91\t0.00\t0.00\t0.00\t0.00\t0.00\t0.00\t0.07\t0.01\t--> 2\n",
      "0.08\t0.58\t0.10\t0.02\t0.00\t0.00\t0.00\t0.00\t0.00\t98.93\t0.30\t--> 9\n",
      "0.09\t0.37\t45.14\t0.05\t0.00\t0.00\t0.00\t0.00\t0.00\t53.81\t0.54\t--> 9\n",
      "0.02\t0.35\t86.29\t0.01\t0.00\t0.00\t0.00\t0.00\t0.00\t12.88\t0.45\t--> 2\n",
      "0.31\t0.33\t61.96\t0.52\t0.00\t0.00\t0.00\t0.00\t0.00\t34.79\t2.08\t--> 2\n",
      "0.01\t0.04\t99.31\t0.03\t0.00\t0.00\t0.00\t0.00\t0.00\t0.54\t0.05\t--> 2\n",
      "0.06\t0.08\t96.77\t0.14\t0.00\t0.00\t0.00\t0.00\t0.00\t2.75\t0.19\t--> 2\n",
      "0.00\t0.01\t99.91\t0.02\t0.00\t0.00\t0.00\t0.00\t0.00\t0.04\t0.01\t--> 2\n",
      "0.11\t0.54\t29.30\t0.05\t0.00\t0.00\t0.00\t0.00\t0.00\t68.87\t1.12\t--> 9\n",
      "0.03\t0.22\t69.92\t1.12\t0.00\t0.01\t0.01\t0.00\t0.01\t28.18\t0.51\t--> 2\n",
      "0.13\t0.58\t12.54\t0.54\t0.00\t0.00\t0.04\t0.00\t0.00\t84.70\t1.46\t--> 9\n",
      "0.09\t1.57\t76.49\t0.02\t0.00\t0.00\t0.00\t0.00\t0.00\t21.25\t0.57\t--> 2\n",
      "0.05\t0.31\t89.93\t0.05\t0.00\t0.01\t0.00\t0.00\t0.00\t9.30\t0.35\t--> 2\n",
      "0.21\t0.86\t15.10\t0.22\t0.00\t0.00\t0.01\t0.00\t0.00\t82.03\t1.56\t--> 9\n",
      "0.02\t0.05\t97.70\t0.06\t0.00\t0.00\t0.00\t0.00\t0.00\t2.04\t0.13\t--> 2\n",
      "0.00\t0.00\t99.96\t0.01\t0.00\t0.00\t0.00\t0.00\t0.00\t0.02\t0.01\t--> 2\n",
      "0.00\t0.00\t0.01\t99.92\t0.00\t0.00\t0.00\t0.00\t0.00\t0.03\t0.02\t--> 3\n",
      "0.00\t0.00\t0.02\t99.33\t0.00\t0.00\t0.01\t0.00\t0.00\t0.60\t0.05\t--> 3\n",
      "0.00\t0.00\t0.02\t99.81\t0.00\t0.00\t0.00\t0.00\t0.00\t0.13\t0.03\t--> 3\n",
      "0.00\t0.02\t0.05\t58.45\t0.00\t0.00\t0.01\t0.00\t0.00\t39.71\t1.75\t--> 3\n",
      "0.00\t0.00\t0.07\t99.80\t0.00\t0.00\t0.00\t0.00\t0.00\t0.09\t0.03\t--> 3\n",
      "0.00\t0.00\t0.05\t99.67\t0.00\t0.00\t0.00\t0.00\t0.00\t0.24\t0.03\t--> 3\n",
      "0.00\t0.00\t0.13\t99.64\t0.00\t0.00\t0.00\t0.00\t0.00\t0.14\t0.08\t--> 3\n",
      "0.00\t0.00\t0.05\t99.67\t0.00\t0.00\t0.01\t0.00\t0.00\t0.20\t0.06\t--> 3\n",
      "0.00\t0.00\t0.07\t99.60\t0.00\t0.00\t0.01\t0.00\t0.00\t0.26\t0.05\t--> 3\n",
      "0.00\t0.00\t0.17\t98.02\t0.00\t0.00\t0.02\t0.00\t0.00\t1.54\t0.24\t--> 3\n",
      "0.00\t0.00\t0.05\t99.82\t0.00\t0.00\t0.00\t0.00\t0.00\t0.10\t0.03\t--> 3\n",
      "0.00\t0.00\t0.07\t99.10\t0.00\t0.00\t0.03\t0.00\t0.00\t0.64\t0.16\t--> 3\n",
      "0.00\t0.00\t0.07\t99.24\t0.00\t0.00\t0.01\t0.00\t0.00\t0.60\t0.08\t--> 3\n",
      "0.00\t0.03\t0.22\t92.08\t0.00\t0.00\t0.14\t0.00\t0.00\t6.33\t1.19\t--> 3\n",
      "0.00\t0.00\t0.10\t98.94\t0.00\t0.00\t0.01\t0.00\t0.00\t0.78\t0.17\t--> 3\n",
      "0.00\t0.00\t0.03\t99.77\t0.00\t0.00\t0.00\t0.00\t0.00\t0.15\t0.04\t--> 3\n",
      "0.00\t0.00\t0.01\t99.94\t0.00\t0.00\t0.00\t0.00\t0.00\t0.03\t0.01\t--> 3\n",
      "0.00\t0.01\t0.11\t97.65\t0.00\t0.00\t0.00\t0.00\t0.00\t2.10\t0.13\t--> 3\n",
      "0.00\t0.00\t0.03\t99.90\t0.00\t0.00\t0.00\t0.00\t0.00\t0.04\t0.02\t--> 3\n",
      "0.00\t0.00\t0.02\t99.82\t0.00\t0.00\t0.00\t0.00\t0.00\t0.12\t0.04\t--> 3\n",
      "0.00\t0.00\t0.27\t97.85\t0.00\t0.00\t0.01\t0.00\t0.00\t1.76\t0.11\t--> 3\n",
      "0.00\t0.00\t0.07\t99.45\t0.00\t0.00\t0.01\t0.00\t0.00\t0.38\t0.09\t--> 3\n",
      "0.00\t0.00\t0.11\t99.43\t0.00\t0.00\t0.00\t0.00\t0.00\t0.40\t0.05\t--> 3\n",
      "0.00\t0.00\t0.05\t99.69\t0.00\t0.00\t0.00\t0.00\t0.00\t0.21\t0.04\t--> 3\n",
      "0.00\t0.00\t0.07\t99.39\t0.00\t0.00\t0.00\t0.00\t0.00\t0.49\t0.04\t--> 3\n",
      "0.00\t0.00\t0.05\t99.82\t0.00\t0.00\t0.00\t0.00\t0.00\t0.10\t0.02\t--> 3\n",
      "0.00\t0.00\t0.09\t99.14\t0.00\t0.00\t0.01\t0.00\t0.00\t0.43\t0.32\t--> 3\n",
      "0.00\t0.00\t0.06\t99.30\t0.00\t0.00\t0.00\t0.00\t0.00\t0.54\t0.09\t--> 3\n",
      "0.00\t0.00\t0.02\t99.67\t0.00\t0.00\t0.01\t0.00\t0.00\t0.24\t0.06\t--> 3\n",
      "0.00\t0.00\t0.03\t99.51\t0.00\t0.00\t0.00\t0.00\t0.00\t0.41\t0.05\t--> 3\n",
      "0.01\t0.01\t0.00\t0.00\t99.47\t0.00\t0.00\t0.50\t0.00\t0.01\t0.01\t--> 4\n",
      "0.03\t0.01\t0.00\t0.00\t99.54\t0.01\t0.00\t0.38\t0.00\t0.00\t0.03\t--> 4\n",
      "0.00\t0.01\t0.00\t0.00\t99.83\t0.00\t0.00\t0.15\t0.00\t0.00\t0.00\t--> 4\n",
      "0.05\t0.03\t0.00\t0.00\t99.67\t0.01\t0.00\t0.22\t0.00\t0.02\t0.01\t--> 4\n",
      "0.01\t0.01\t0.00\t0.00\t99.76\t0.00\t0.00\t0.21\t0.00\t0.00\t0.00\t--> 4\n",
      "0.02\t0.01\t0.00\t0.00\t98.55\t0.01\t0.00\t0.73\t0.02\t0.05\t0.61\t--> 4\n",
      "0.03\t0.02\t0.00\t0.00\t99.37\t0.00\t0.00\t0.54\t0.00\t0.01\t0.03\t--> 4\n",
      "0.01\t0.01\t0.00\t0.00\t99.79\t0.00\t0.00\t0.18\t0.00\t0.00\t0.00\t--> 4\n",
      "0.02\t0.01\t0.00\t0.00\t99.81\t0.00\t0.00\t0.15\t0.00\t0.00\t0.00\t--> 4\n",
      "0.00\t0.00\t0.00\t0.00\t99.90\t0.00\t0.00\t0.09\t0.00\t0.00\t0.00\t--> 4\n",
      "0.00\t0.00\t0.00\t0.00\t99.93\t0.00\t0.00\t0.04\t0.00\t0.02\t0.00\t--> 4\n",
      "0.04\t0.03\t0.00\t0.00\t99.77\t0.01\t0.00\t0.11\t0.00\t0.02\t0.01\t--> 4\n",
      "0.00\t0.00\t0.00\t0.00\t99.93\t0.00\t0.00\t0.06\t0.00\t0.01\t0.00\t--> 4\n",
      "0.01\t0.01\t0.00\t0.00\t99.71\t0.00\t0.00\t0.21\t0.00\t0.04\t0.03\t--> 4\n",
      "0.04\t0.02\t0.00\t0.00\t99.80\t0.00\t0.00\t0.12\t0.00\t0.01\t0.01\t--> 4\n",
      "0.30\t0.12\t0.04\t0.04\t87.75\t0.04\t0.04\t0.22\t0.13\t9.49\t1.83\t--> 4\n",
      "0.01\t0.01\t0.00\t0.00\t99.68\t0.00\t0.00\t0.29\t0.00\t0.00\t0.01\t--> 4\n",
      "0.14\t0.07\t0.01\t0.01\t99.26\t0.05\t0.02\t0.34\t0.01\t0.06\t0.03\t--> 4\n",
      "0.13\t0.07\t0.01\t0.02\t98.89\t0.08\t0.01\t0.61\t0.01\t0.04\t0.14\t--> 4\n",
      "0.07\t0.04\t0.00\t0.01\t99.66\t0.02\t0.01\t0.17\t0.00\t0.02\t0.01\t--> 4\n",
      "0.21\t0.17\t0.02\t0.05\t97.96\t0.27\t0.05\t0.98\t0.02\t0.09\t0.16\t--> 4\n",
      "0.05\t0.03\t0.00\t0.00\t99.68\t0.01\t0.00\t0.18\t0.00\t0.01\t0.02\t--> 4\n",
      "0.42\t0.20\t0.03\t0.04\t95.97\t0.29\t0.11\t2.44\t0.06\t0.18\t0.26\t--> 4\n",
      "0.01\t0.01\t0.00\t0.00\t99.88\t0.00\t0.00\t0.09\t0.00\t0.00\t0.01\t--> 4\n",
      "0.06\t0.02\t0.00\t0.00\t96.85\t0.02\t0.00\t2.78\t0.03\t0.06\t0.18\t--> 4\n",
      "0.04\t0.03\t0.00\t0.00\t99.70\t0.01\t0.00\t0.19\t0.00\t0.01\t0.01\t--> 4\n",
      "0.06\t0.03\t0.00\t0.00\t99.53\t0.01\t0.00\t0.34\t0.00\t0.01\t0.02\t--> 4\n",
      "0.03\t0.01\t0.00\t0.00\t99.84\t0.00\t0.00\t0.11\t0.00\t0.00\t0.00\t--> 4\n",
      "0.06\t0.05\t0.00\t0.00\t99.59\t0.01\t0.00\t0.25\t0.00\t0.01\t0.02\t--> 4\n",
      "0.08\t0.06\t0.00\t0.01\t99.38\t0.03\t0.00\t0.37\t0.00\t0.02\t0.04\t--> 4\n",
      "0.08\t0.08\t0.01\t0.01\t99.54\t0.03\t0.01\t0.18\t0.00\t0.04\t0.02\t--> 4\n",
      "0.00\t0.00\t0.09\t0.00\t0.00\t97.84\t0.00\t0.02\t1.97\t0.00\t0.07\t--> 5\n",
      "0.00\t0.00\t0.02\t0.00\t0.00\t99.96\t0.00\t0.00\t0.01\t0.00\t0.01\t--> 5\n",
      "0.00\t0.00\t0.04\t0.00\t0.00\t99.76\t0.00\t0.01\t0.13\t0.00\t0.05\t--> 5\n",
      "0.00\t0.00\t0.10\t0.00\t0.00\t99.78\t0.00\t0.02\t0.07\t0.00\t0.02\t--> 5\n",
      "0.00\t0.00\t0.05\t0.01\t0.00\t99.46\t0.00\t0.03\t0.23\t0.00\t0.21\t--> 5\n",
      "0.00\t0.00\t0.07\t0.01\t0.00\t99.47\t0.00\t0.03\t0.31\t0.00\t0.11\t--> 5\n",
      "0.00\t0.00\t0.06\t0.00\t0.04\t99.58\t0.04\t0.06\t0.15\t0.00\t0.07\t--> 5\n",
      "0.00\t0.00\t0.12\t0.01\t0.02\t99.40\t0.05\t0.12\t0.23\t0.00\t0.06\t--> 5\n",
      "0.00\t0.00\t0.02\t0.00\t0.01\t99.90\t0.02\t0.02\t0.03\t0.00\t0.01\t--> 5\n",
      "0.00\t0.00\t0.02\t0.00\t0.01\t99.90\t0.02\t0.01\t0.02\t0.00\t0.02\t--> 5\n",
      "0.00\t0.00\t0.12\t0.02\t0.09\t98.50\t0.21\t0.34\t0.14\t0.01\t0.56\t--> 5\n",
      "0.00\t0.00\t0.02\t0.01\t0.01\t99.36\t0.01\t0.01\t0.52\t0.00\t0.05\t--> 5\n",
      "0.00\t0.00\t0.08\t0.01\t0.02\t99.57\t0.06\t0.05\t0.14\t0.00\t0.07\t--> 5\n",
      "0.00\t0.00\t0.03\t0.00\t0.01\t99.80\t0.02\t0.03\t0.10\t0.00\t0.01\t--> 5\n",
      "0.00\t0.00\t0.05\t0.01\t0.04\t99.22\t0.02\t0.13\t0.27\t0.00\t0.24\t--> 5\n",
      "0.00\t0.00\t0.01\t0.00\t0.00\t99.76\t0.00\t0.00\t0.20\t0.00\t0.01\t--> 5\n",
      "0.00\t0.00\t0.08\t0.00\t0.00\t99.86\t0.00\t0.00\t0.05\t0.00\t0.01\t--> 5\n",
      "0.00\t0.00\t0.01\t0.00\t0.01\t99.94\t0.01\t0.01\t0.02\t0.00\t0.01\t--> 5\n",
      "0.00\t0.00\t0.05\t0.01\t0.02\t99.53\t0.01\t0.06\t0.24\t0.00\t0.08\t--> 5\n",
      "0.00\t0.00\t0.07\t0.01\t0.05\t98.62\t0.02\t0.26\t0.74\t0.00\t0.23\t--> 5\n",
      "0.00\t0.00\t0.08\t0.00\t0.01\t99.73\t0.05\t0.03\t0.08\t0.00\t0.01\t--> 5\n",
      "0.00\t0.00\t0.19\t0.03\t0.06\t99.16\t0.12\t0.08\t0.19\t0.00\t0.16\t--> 5\n",
      "0.01\t0.00\t0.17\t0.04\t0.14\t97.74\t0.19\t0.54\t0.32\t0.01\t0.82\t--> 5\n",
      "0.00\t0.00\t0.12\t0.01\t0.03\t99.43\t0.05\t0.09\t0.20\t0.00\t0.07\t--> 5\n",
      "0.01\t0.00\t0.28\t0.03\t0.07\t98.03\t0.13\t0.39\t0.15\t0.01\t0.91\t--> 5\n",
      "0.00\t0.00\t0.05\t0.00\t0.00\t99.88\t0.00\t0.00\t0.05\t0.00\t0.01\t--> 5\n",
      "0.00\t0.00\t0.01\t0.00\t0.01\t99.93\t0.01\t0.02\t0.01\t0.00\t0.01\t--> 5\n",
      "0.01\t0.00\t0.05\t0.09\t0.01\t76.56\t0.06\t0.11\t22.18\t0.00\t0.92\t--> 5\n",
      "0.00\t0.00\t0.00\t0.00\t0.01\t99.95\t0.01\t0.01\t0.01\t0.00\t0.02\t--> 5\n",
      "0.00\t0.00\t0.07\t0.01\t0.00\t99.61\t0.01\t0.02\t0.25\t0.00\t0.03\t--> 5\n",
      "0.27\t2.58\t0.00\t0.11\t0.00\t0.00\t34.45\t0.83\t0.01\t1.42\t60.33\t--> 10\n",
      "0.00\t0.04\t0.00\t0.04\t0.00\t0.02\t99.79\t0.10\t0.00\t0.00\t0.00\t--> 6\n",
      "0.01\t0.10\t0.00\t0.05\t0.00\t0.01\t99.39\t0.27\t0.00\t0.03\t0.14\t--> 6\n",
      "0.01\t0.04\t0.00\t0.97\t0.08\t0.03\t98.52\t0.19\t0.13\t0.02\t0.00\t--> 6\n",
      "0.39\t0.36\t0.13\t0.29\t0.05\t0.10\t97.69\t0.44\t0.54\t0.02\t0.00\t--> 6\n",
      "0.01\t0.00\t0.00\t1.70\t0.00\t2.45\t88.37\t3.06\t0.69\t0.02\t3.71\t--> 6\n",
      "0.04\t0.03\t0.00\t0.01\t0.00\t0.00\t85.24\t0.87\t0.01\t0.05\t13.75\t--> 6\n",
      "0.04\t0.08\t0.01\t0.02\t0.00\t0.01\t99.68\t0.04\t0.02\t0.10\t0.00\t--> 6\n",
      "0.10\t0.07\t0.01\t0.06\t0.03\t0.01\t99.15\t0.18\t0.33\t0.04\t0.02\t--> 6\n",
      "0.04\t0.01\t0.00\t0.00\t0.00\t0.00\t1.98\t0.22\t0.00\t0.16\t97.59\t--> 10\n",
      "0.02\t0.06\t0.02\t0.02\t0.00\t0.01\t99.80\t0.05\t0.01\t0.02\t0.00\t--> 6\n",
      "0.01\t0.03\t0.00\t0.03\t0.00\t0.00\t99.91\t0.01\t0.00\t0.00\t0.00\t--> 6\n",
      "0.00\t0.02\t0.00\t0.26\t0.00\t0.02\t99.68\t0.02\t0.00\t0.00\t0.00\t--> 6\n",
      "0.01\t0.04\t0.00\t0.03\t0.00\t0.01\t99.91\t0.01\t0.00\t0.01\t0.00\t--> 6\n",
      "0.00\t0.00\t0.00\t0.02\t0.00\t0.00\t0.08\t0.02\t0.01\t0.23\t99.63\t--> 10\n",
      "0.11\t0.58\t0.03\t0.03\t0.00\t0.00\t99.03\t0.02\t0.03\t0.09\t0.07\t--> 6\n",
      "0.02\t0.02\t0.00\t0.96\t0.00\t0.00\t76.07\t0.04\t0.10\t0.48\t22.30\t--> 6\n",
      "0.00\t0.00\t0.00\t0.50\t0.00\t0.08\t97.34\t0.36\t1.68\t0.00\t0.03\t--> 6\n",
      "0.00\t0.01\t0.01\t1.75\t0.01\t0.10\t97.96\t0.03\t0.12\t0.00\t0.00\t--> 6\n",
      "0.01\t0.00\t0.01\t2.30\t0.00\t0.00\t3.15\t0.01\t0.19\t0.05\t94.29\t--> 10\n",
      "0.00\t0.00\t0.00\t0.10\t0.00\t0.04\t99.75\t0.09\t0.02\t0.00\t0.00\t--> 6\n",
      "0.03\t0.08\t0.01\t0.05\t0.00\t0.05\t99.47\t0.27\t0.01\t0.03\t0.00\t--> 6\n",
      "0.03\t0.03\t0.00\t0.00\t0.00\t0.00\t99.66\t0.23\t0.02\t0.01\t0.01\t--> 6\n",
      "0.04\t0.16\t0.03\t0.40\t0.03\t0.10\t99.16\t0.04\t0.02\t0.01\t0.00\t--> 6\n",
      "0.02\t0.19\t0.06\t0.16\t0.21\t0.06\t98.75\t0.15\t0.03\t0.38\t0.00\t--> 6\n",
      "0.00\t0.03\t0.01\t0.84\t0.49\t0.57\t97.61\t0.27\t0.17\t0.01\t0.00\t--> 6\n",
      "0.01\t0.13\t0.00\t0.11\t0.01\t0.01\t99.62\t0.05\t0.01\t0.07\t0.00\t--> 6\n",
      "0.00\t0.03\t0.01\t0.04\t0.01\t0.11\t99.58\t0.19\t0.01\t0.02\t0.00\t--> 6\n",
      "0.00\t0.02\t0.00\t0.03\t0.00\t0.01\t99.87\t0.06\t0.00\t0.00\t0.00\t--> 6\n"
     ]
    },
    {
     "name": "stdout",
     "output_type": "stream",
     "text": [
      "0.02\t0.09\t0.00\t0.09\t0.01\t0.03\t99.36\t0.10\t0.28\t0.01\t0.00\t--> 6\n",
      "0.01\t0.00\t0.00\t0.00\t0.02\t0.00\t0.36\t96.10\t0.00\t0.11\t3.40\t--> 7\n",
      "0.01\t0.00\t0.00\t0.00\t0.02\t0.01\t0.12\t97.82\t0.00\t0.01\t1.98\t--> 7\n",
      "0.00\t0.00\t0.00\t0.00\t0.01\t0.00\t0.04\t99.84\t0.00\t0.00\t0.11\t--> 7\n",
      "0.00\t0.00\t0.00\t0.00\t0.00\t0.00\t0.05\t99.76\t0.00\t0.00\t0.19\t--> 7\n",
      "0.00\t0.00\t0.00\t0.00\t0.01\t0.00\t0.04\t99.86\t0.00\t0.00\t0.09\t--> 7\n",
      "0.00\t0.00\t0.00\t0.00\t0.06\t0.00\t0.03\t99.83\t0.00\t0.00\t0.08\t--> 7\n",
      "0.00\t0.00\t0.00\t0.00\t0.02\t0.00\t0.02\t99.51\t0.00\t0.00\t0.46\t--> 7\n",
      "0.00\t0.00\t0.00\t0.00\t0.01\t0.00\t0.09\t99.72\t0.00\t0.00\t0.18\t--> 7\n",
      "0.00\t0.00\t0.00\t0.00\t0.01\t0.00\t0.03\t99.88\t0.00\t0.00\t0.08\t--> 7\n",
      "0.00\t0.00\t0.00\t0.00\t0.01\t0.00\t0.03\t99.78\t0.00\t0.00\t0.18\t--> 7\n",
      "0.00\t0.00\t0.00\t0.00\t0.01\t0.00\t0.03\t99.76\t0.00\t0.00\t0.19\t--> 7\n",
      "0.00\t0.00\t0.00\t0.00\t0.03\t0.00\t0.03\t99.17\t0.00\t0.00\t0.76\t--> 7\n",
      "0.00\t0.00\t0.00\t0.00\t0.15\t0.02\t0.10\t99.13\t0.00\t0.02\t0.57\t--> 7\n",
      "0.00\t0.00\t0.00\t0.00\t0.02\t0.00\t0.04\t98.80\t0.00\t0.01\t1.13\t--> 7\n",
      "0.00\t0.00\t0.00\t0.00\t0.04\t0.00\t0.03\t99.49\t0.00\t0.00\t0.43\t--> 7\n",
      "0.00\t0.00\t0.00\t0.00\t0.01\t0.00\t0.18\t99.68\t0.00\t0.00\t0.13\t--> 7\n",
      "0.00\t0.00\t0.00\t0.00\t0.00\t0.00\t0.15\t99.34\t0.00\t0.01\t0.50\t--> 7\n",
      "0.00\t0.00\t0.00\t0.00\t0.00\t0.00\t0.16\t99.05\t0.00\t0.00\t0.78\t--> 7\n",
      "0.00\t0.00\t0.00\t0.00\t0.03\t0.00\t0.04\t99.82\t0.00\t0.00\t0.10\t--> 7\n",
      "0.00\t0.00\t0.00\t0.00\t0.02\t0.00\t0.04\t99.84\t0.00\t0.00\t0.10\t--> 7\n",
      "0.00\t0.00\t0.00\t0.00\t0.01\t0.00\t0.24\t98.91\t0.01\t0.01\t0.83\t--> 7\n",
      "0.00\t0.00\t0.00\t0.00\t0.01\t0.00\t0.19\t99.58\t0.00\t0.00\t0.21\t--> 7\n",
      "0.00\t0.00\t0.00\t0.00\t0.02\t0.00\t0.06\t99.56\t0.01\t0.01\t0.33\t--> 7\n",
      "0.00\t0.00\t0.00\t0.00\t0.01\t0.00\t0.18\t98.85\t0.00\t0.01\t0.95\t--> 7\n",
      "0.00\t0.00\t0.00\t0.00\t0.01\t0.00\t0.02\t99.84\t0.00\t0.00\t0.13\t--> 7\n",
      "0.01\t0.00\t0.00\t0.00\t0.09\t0.01\t0.09\t94.35\t0.01\t0.01\t5.44\t--> 7\n",
      "0.00\t0.00\t0.00\t0.00\t0.01\t0.00\t0.04\t99.74\t0.00\t0.00\t0.21\t--> 7\n",
      "0.00\t0.00\t0.00\t0.00\t0.00\t0.00\t0.20\t99.14\t0.00\t0.00\t0.66\t--> 7\n",
      "0.00\t0.00\t0.00\t0.00\t0.01\t0.00\t0.10\t99.37\t0.02\t0.01\t0.48\t--> 7\n",
      "0.00\t0.00\t0.00\t0.00\t0.01\t0.00\t0.03\t99.85\t0.00\t0.00\t0.11\t--> 7\n",
      "0.00\t0.00\t0.00\t0.00\t0.02\t0.00\t0.06\t99.74\t0.00\t0.00\t0.18\t--> 7\n",
      "0.00\t0.00\t0.00\t0.12\t0.00\t0.05\t0.06\t0.01\t99.41\t0.00\t0.35\t--> 8\n",
      "0.00\t0.00\t0.01\t0.06\t0.00\t0.02\t0.03\t0.00\t98.65\t0.01\t1.22\t--> 8\n",
      "0.05\t0.01\t0.07\t1.13\t0.00\t0.02\t2.07\t0.01\t90.80\t0.01\t5.84\t--> 8\n",
      "0.05\t0.01\t0.05\t0.25\t0.01\t0.06\t0.53\t0.02\t96.70\t0.01\t2.31\t--> 8\n",
      "0.01\t0.00\t0.11\t0.57\t0.00\t0.04\t0.29\t0.00\t97.43\t0.02\t1.53\t--> 8\n",
      "0.00\t0.00\t0.04\t1.30\t0.00\t1.85\t0.10\t0.04\t63.76\t0.01\t32.90\t--> 8\n",
      "0.00\t0.00\t0.00\t0.02\t0.00\t0.05\t0.02\t0.00\t99.87\t0.00\t0.04\t--> 8\n",
      "0.00\t0.00\t0.00\t0.01\t0.00\t0.02\t0.00\t0.00\t99.90\t0.00\t0.07\t--> 8\n",
      "0.00\t0.00\t0.00\t0.00\t0.00\t0.07\t0.00\t0.01\t99.87\t0.00\t0.04\t--> 8\n",
      "0.00\t0.00\t0.00\t0.01\t0.00\t0.08\t0.00\t0.00\t99.78\t0.00\t0.11\t--> 8\n",
      "0.02\t0.00\t0.02\t0.26\t0.01\t0.75\t0.04\t0.04\t94.37\t0.02\t4.49\t--> 8\n",
      "0.00\t0.00\t0.00\t0.01\t0.00\t0.01\t0.01\t0.00\t99.93\t0.00\t0.04\t--> 8\n",
      "0.00\t0.00\t0.00\t0.01\t0.00\t0.02\t0.01\t0.01\t99.92\t0.00\t0.03\t--> 8\n",
      "0.02\t0.00\t0.01\t0.02\t0.00\t0.02\t0.04\t0.01\t99.65\t0.00\t0.23\t--> 8\n",
      "0.00\t0.00\t0.00\t0.04\t0.00\t0.08\t0.06\t0.05\t96.34\t0.00\t3.41\t--> 8\n",
      "0.02\t0.00\t0.00\t0.09\t0.00\t0.00\t0.08\t0.00\t78.76\t0.00\t21.03\t--> 8\n",
      "0.06\t0.01\t0.04\t1.87\t0.00\t0.01\t0.93\t0.00\t72.27\t0.01\t24.81\t--> 8\n",
      "0.00\t0.00\t0.00\t0.02\t0.00\t0.02\t0.03\t0.00\t99.86\t0.00\t0.06\t--> 8\n",
      "0.00\t0.00\t0.04\t0.72\t0.00\t0.10\t0.04\t0.00\t97.72\t0.00\t1.38\t--> 8\n",
      "0.00\t0.00\t0.02\t0.29\t0.00\t0.04\t0.20\t0.00\t99.24\t0.00\t0.21\t--> 8\n",
      "0.00\t0.00\t0.00\t0.05\t0.00\t0.04\t0.01\t0.00\t99.32\t0.00\t0.56\t--> 8\n",
      "0.00\t0.00\t0.00\t0.01\t0.00\t0.01\t0.02\t0.00\t99.72\t0.00\t0.23\t--> 8\n",
      "0.00\t0.00\t0.01\t0.09\t0.01\t0.20\t0.01\t0.01\t98.85\t0.00\t0.82\t--> 8\n",
      "0.28\t0.02\t0.13\t0.14\t0.00\t0.12\t0.72\t0.17\t97.20\t0.01\t1.21\t--> 8\n",
      "0.01\t0.00\t0.01\t0.07\t0.02\t0.12\t0.04\t0.01\t99.28\t0.00\t0.46\t--> 8\n",
      "0.02\t0.00\t0.05\t0.22\t0.00\t0.13\t0.33\t0.07\t98.17\t0.00\t1.02\t--> 8\n",
      "0.00\t0.00\t0.00\t0.10\t0.01\t0.13\t0.05\t0.01\t99.52\t0.00\t0.17\t--> 8\n",
      "0.00\t0.00\t0.02\t0.27\t0.00\t0.00\t0.02\t0.00\t94.01\t0.00\t5.67\t--> 8\n",
      "0.00\t0.00\t0.00\t0.06\t0.00\t0.16\t0.01\t0.01\t98.56\t0.00\t1.19\t--> 8\n",
      "0.00\t0.00\t0.00\t0.05\t0.00\t0.01\t0.01\t0.00\t99.82\t0.00\t0.10\t--> 8\n",
      "0.03\t0.03\t0.11\t0.22\t0.00\t0.00\t0.01\t0.00\t0.00\t98.27\t1.34\t--> 9\n",
      "0.02\t0.04\t0.30\t0.15\t0.00\t0.00\t0.01\t0.00\t0.00\t98.43\t1.05\t--> 9\n",
      "0.03\t0.18\t0.44\t0.04\t0.00\t0.00\t0.01\t0.00\t0.00\t98.10\t1.20\t--> 9\n",
      "0.19\t0.52\t0.01\t0.58\t0.00\t0.00\t1.53\t0.02\t0.01\t74.09\t23.06\t--> 9\n",
      "0.01\t0.06\t0.03\t0.02\t0.00\t0.00\t0.00\t0.00\t0.00\t99.64\t0.25\t--> 9\n",
      "0.05\t0.12\t0.39\t0.16\t0.00\t0.00\t0.02\t0.00\t0.00\t97.73\t1.54\t--> 9\n",
      "0.03\t0.39\t72.28\t0.11\t0.00\t0.01\t0.02\t0.00\t0.00\t26.00\t1.15\t--> 2\n",
      "0.06\t0.27\t3.55\t12.61\t0.00\t0.01\t0.41\t0.00\t0.00\t77.94\t5.14\t--> 9\n",
      "0.41\t0.86\t25.16\t0.91\t0.01\t0.00\t0.22\t0.00\t0.03\t64.35\t8.03\t--> 9\n",
      "0.13\t0.45\t3.32\t0.26\t0.00\t0.00\t0.29\t0.00\t0.00\t84.46\t11.08\t--> 9\n",
      "0.15\t0.46\t0.45\t0.19\t0.01\t0.00\t0.15\t0.00\t0.00\t98.01\t0.57\t--> 9\n",
      "0.05\t0.63\t21.74\t0.14\t0.00\t0.00\t0.00\t0.00\t0.00\t76.38\t1.06\t--> 9\n",
      "0.07\t0.29\t0.37\t0.09\t0.00\t0.00\t0.04\t0.00\t0.00\t97.86\t1.27\t--> 9\n",
      "0.03\t0.16\t1.64\t0.18\t0.00\t0.00\t0.02\t0.00\t0.00\t97.26\t0.71\t--> 9\n",
      "0.02\t0.04\t2.68\t0.14\t0.00\t0.00\t0.01\t0.00\t0.00\t93.32\t3.79\t--> 9\n",
      "0.09\t0.35\t0.17\t2.17\t0.00\t0.01\t2.45\t0.02\t0.02\t86.07\t8.65\t--> 9\n",
      "0.04\t0.31\t0.01\t0.01\t0.00\t0.00\t0.01\t0.00\t0.00\t99.09\t0.53\t--> 9\n",
      "0.53\t0.49\t0.33\t0.57\t0.11\t0.01\t0.28\t0.08\t0.11\t93.95\t3.54\t--> 9\n",
      "0.11\t0.28\t0.21\t0.19\t0.00\t0.00\t0.15\t0.00\t0.00\t97.82\t1.24\t--> 9\n",
      "0.30\t0.47\t0.25\t0.18\t0.03\t0.00\t0.20\t0.03\t0.01\t94.62\t3.91\t--> 9\n",
      "0.09\t0.25\t0.02\t0.08\t0.00\t0.00\t0.05\t0.00\t0.00\t98.64\t0.85\t--> 9\n",
      "0.14\t0.38\t0.01\t0.07\t0.00\t0.00\t0.02\t0.00\t0.00\t98.45\t0.93\t--> 9\n",
      "0.03\t0.17\t0.07\t0.07\t0.00\t0.00\t0.03\t0.00\t0.00\t99.06\t0.56\t--> 9\n",
      "0.02\t0.21\t0.10\t0.10\t0.00\t0.00\t0.03\t0.00\t0.00\t98.75\t0.79\t--> 9\n",
      "0.08\t0.27\t0.05\t0.34\t0.00\t0.00\t0.21\t0.01\t0.00\t98.24\t0.80\t--> 9\n",
      "0.26\t0.50\t0.66\t0.80\t0.03\t0.00\t0.55\t0.01\t0.02\t91.93\t5.24\t--> 9\n",
      "0.17\t0.69\t5.00\t0.31\t0.01\t0.00\t0.11\t0.00\t0.01\t90.64\t3.07\t--> 9\n",
      "0.08\t0.33\t0.10\t0.26\t0.01\t0.00\t0.14\t0.01\t0.01\t96.39\t2.69\t--> 9\n",
      "0.02\t0.15\t0.41\t0.50\t0.00\t0.00\t0.03\t0.00\t0.00\t98.19\t0.70\t--> 9\n",
      "0.08\t0.45\t3.83\t0.15\t0.01\t0.00\t0.03\t0.00\t0.01\t93.36\t2.09\t--> 9\n",
      "0.01\t0.00\t0.00\t0.00\t0.00\t0.00\t0.00\t0.00\t0.00\t0.00\t99.98\t--> 10\n",
      "0.01\t0.00\t0.00\t0.00\t0.00\t0.00\t0.00\t0.00\t0.00\t0.00\t99.98\t--> 10\n",
      "0.01\t0.00\t0.00\t0.00\t0.00\t0.00\t0.00\t0.00\t0.00\t0.00\t99.98\t--> 10\n",
      "0.01\t0.00\t0.00\t0.00\t0.00\t0.00\t0.00\t0.00\t0.00\t0.00\t99.98\t--> 10\n",
      "0.01\t0.00\t0.00\t0.00\t0.00\t0.00\t0.00\t0.00\t0.00\t0.00\t99.98\t--> 10\n",
      "0.01\t0.00\t0.00\t0.00\t0.00\t0.00\t0.00\t0.00\t0.00\t0.00\t99.98\t--> 10\n",
      "0.01\t0.00\t0.00\t0.00\t0.00\t0.00\t0.00\t0.00\t0.00\t0.00\t99.98\t--> 10\n",
      "0.01\t0.00\t0.00\t0.00\t0.00\t0.00\t0.00\t0.00\t0.00\t0.00\t99.98\t--> 10\n",
      "0.01\t0.00\t0.00\t0.00\t0.00\t0.00\t0.00\t0.00\t0.00\t0.00\t99.98\t--> 10\n",
      "0.01\t0.00\t0.00\t0.00\t0.00\t0.00\t0.00\t0.00\t0.00\t0.00\t99.98\t--> 10\n",
      "0.01\t0.00\t0.00\t0.00\t0.00\t0.00\t0.00\t0.00\t0.00\t0.00\t99.98\t--> 10\n",
      "0.01\t0.00\t0.00\t0.00\t0.00\t0.00\t0.00\t0.00\t0.00\t0.00\t99.98\t--> 10\n",
      "0.01\t0.00\t0.00\t0.00\t0.00\t0.00\t0.00\t0.00\t0.00\t0.00\t99.98\t--> 10\n",
      "0.03\t0.00\t0.03\t0.00\t0.00\t0.01\t0.00\t0.00\t0.05\t0.05\t99.83\t--> 10\n",
      "0.01\t0.00\t0.00\t0.00\t0.00\t0.00\t0.00\t0.01\t0.02\t0.00\t99.95\t--> 10\n",
      "0.01\t0.00\t0.00\t0.00\t0.00\t0.00\t0.00\t0.00\t0.01\t0.01\t99.97\t--> 10\n",
      "0.02\t0.00\t0.00\t0.00\t0.00\t0.00\t0.00\t0.00\t0.00\t0.00\t99.98\t--> 10\n",
      "0.02\t0.00\t0.00\t0.00\t0.00\t0.00\t0.00\t0.01\t0.01\t0.02\t99.93\t--> 10\n",
      "0.00\t0.00\t0.00\t0.00\t0.00\t0.00\t0.00\t0.00\t0.01\t0.00\t99.98\t--> 10\n",
      "0.01\t0.00\t0.00\t0.00\t0.00\t0.00\t0.00\t0.03\t0.04\t0.00\t99.92\t--> 10\n",
      "0.00\t0.00\t0.00\t0.00\t0.00\t0.00\t0.00\t0.01\t0.01\t0.00\t99.98\t--> 10\n",
      "0.06\t0.02\t0.00\t0.00\t0.00\t0.01\t0.00\t0.01\t0.01\t0.04\t99.86\t--> 10\n",
      "0.01\t0.01\t0.00\t0.01\t0.00\t0.00\t0.02\t0.63\t0.00\t0.05\t99.25\t--> 10\n",
      "0.06\t0.00\t0.04\t0.00\t0.01\t0.01\t0.00\t0.03\t0.05\t0.01\t99.80\t--> 10\n",
      "0.31\t0.20\t0.01\t0.01\t0.00\t0.00\t0.04\t0.49\t0.01\t0.03\t98.90\t--> 10\n",
      "0.03\t0.01\t0.02\t0.01\t0.00\t0.01\t0.01\t0.05\t0.02\t0.04\t99.80\t--> 10\n",
      "0.04\t0.00\t0.00\t0.00\t0.00\t0.00\t0.00\t0.00\t0.09\t0.00\t99.85\t--> 10\n",
      "0.01\t0.00\t0.00\t0.00\t0.00\t0.00\t0.00\t0.00\t0.01\t0.01\t99.97\t--> 10\n",
      "0.00\t0.00\t0.01\t0.04\t0.06\t0.05\t0.00\t0.03\t0.03\t0.43\t99.36\t--> 10\n",
      "0.01\t0.00\t0.00\t0.00\t0.00\t0.00\t0.00\t0.00\t0.00\t0.01\t99.98\t--> 10\n",
      "0.00\t0.00\t0.00\t0.00\t0.00\t0.00\t0.00\t0.00\t0.00\t0.01\t99.98\t--> 10\n",
      "0.61\t0.53\t0.08\t0.07\t0.01\t0.01\t0.21\t1.41\t0.10\t10.38\t86.60\t--> 10\n",
      "0.01\t0.01\t0.02\t0.01\t0.00\t0.00\t0.00\t0.00\t0.01\t0.02\t99.93\t--> 10\n",
      "0.36\t0.22\t0.03\t0.45\t0.03\t0.01\t0.19\t0.48\t0.60\t1.50\t96.13\t--> 10\n",
      "0.01\t0.01\t0.00\t0.01\t0.00\t0.00\t0.00\t0.00\t0.00\t0.00\t99.96\t--> 10\n",
      "0.02\t0.01\t0.00\t0.00\t0.00\t0.00\t0.00\t0.00\t0.01\t0.01\t99.95\t--> 10\n",
      "0.00\t0.00\t0.00\t0.38\t0.07\t0.02\t0.00\t0.01\t0.38\t0.18\t98.95\t--> 10\n",
      "0.07\t0.03\t0.00\t0.02\t0.58\t0.09\t0.18\t31.61\t0.04\t0.05\t67.32\t--> 10\n",
      "0.03\t0.01\t0.04\t0.00\t0.00\t0.00\t0.00\t0.00\t0.02\t0.03\t99.87\t--> 10\n",
      "0.02\t0.01\t0.00\t0.00\t0.00\t0.00\t0.00\t0.00\t0.01\t0.01\t99.95\t--> 10\n",
      "0.01\t0.00\t0.00\t0.00\t0.00\t0.00\t0.00\t0.00\t0.02\t0.00\t99.96\t--> 10\n",
      "0.01\t0.00\t0.00\t0.00\t0.00\t0.00\t0.00\t0.00\t0.00\t0.01\t99.98\t--> 10\n",
      "0.00\t0.00\t0.02\t0.01\t0.01\t0.01\t0.00\t0.02\t0.01\t0.76\t99.15\t--> 10\n",
      "0.08\t0.01\t0.02\t0.03\t0.01\t0.03\t0.01\t0.10\t0.34\t0.10\t99.27\t--> 10\n",
      "0.04\t0.01\t0.01\t0.00\t0.00\t0.00\t0.00\t0.00\t0.03\t0.01\t99.92\t--> 10\n",
      "0.07\t0.00\t0.03\t0.00\t0.00\t0.01\t0.00\t0.02\t0.05\t0.00\t99.83\t--> 10\n",
      "0.00\t0.00\t0.00\t0.00\t0.00\t0.00\t0.00\t0.00\t0.01\t0.00\t99.98\t--> 10\n",
      "0.00\t0.00\t0.00\t0.01\t0.00\t0.00\t0.00\t0.00\t0.01\t0.01\t99.97\t--> 10\n",
      "0.00\t0.00\t0.00\t0.00\t0.00\t0.00\t0.00\t0.00\t0.00\t0.01\t99.98\t--> 10\n"
     ]
    },
    {
     "name": "stdout",
     "output_type": "stream",
     "text": [
      "0.00\t0.00\t0.00\t0.00\t0.00\t0.00\t0.00\t0.00\t0.00\t0.01\t99.98\t--> 10\n",
      "0.00\t0.00\t0.00\t0.00\t0.00\t0.00\t0.00\t0.00\t0.00\t0.00\t99.99\t--> 10\n",
      "0.01\t0.00\t0.00\t0.00\t0.00\t0.00\t0.00\t0.00\t0.00\t0.25\t99.73\t--> 10\n",
      "0.02\t0.00\t0.00\t0.00\t0.00\t0.00\t0.00\t0.00\t0.01\t0.00\t99.96\t--> 10\n",
      "0.10\t0.02\t0.00\t0.00\t0.00\t0.00\t0.00\t0.25\t0.01\t0.02\t99.60\t--> 10\n",
      "0.02\t0.01\t0.01\t0.03\t0.00\t0.01\t0.00\t0.00\t0.02\t0.05\t99.85\t--> 10\n",
      "0.01\t0.01\t0.00\t0.01\t0.00\t0.00\t0.00\t0.02\t0.01\t0.04\t99.90\t--> 10\n",
      "0.02\t0.01\t0.00\t0.12\t0.00\t0.00\t0.14\t0.05\t0.02\t0.14\t99.50\t--> 10\n",
      "0.00\t0.00\t0.00\t0.00\t0.01\t0.00\t0.00\t0.05\t0.05\t0.09\t99.78\t--> 10\n",
      "0.00\t0.00\t0.00\t0.00\t0.00\t0.00\t0.00\t0.00\t0.01\t0.04\t99.93\t--> 10\n",
      "0.00\t0.00\t0.00\t0.00\t0.00\t0.00\t0.00\t0.06\t0.02\t0.00\t99.91\t--> 10\n",
      "0.05\t0.02\t0.00\t0.00\t0.00\t0.00\t0.01\t0.20\t0.02\t0.70\t99.00\t--> 10\n",
      "0.01\t0.00\t0.00\t0.00\t0.00\t0.00\t0.00\t0.00\t0.04\t0.03\t99.90\t--> 10\n",
      "0.04\t0.02\t0.05\t0.00\t0.01\t0.03\t0.00\t0.01\t0.07\t0.07\t99.70\t--> 10\n",
      "0.01\t0.00\t0.00\t0.00\t0.00\t0.00\t0.00\t0.00\t0.00\t0.01\t99.98\t--> 10\n",
      "0.01\t0.01\t0.01\t0.02\t0.00\t0.00\t0.00\t0.01\t0.01\t0.00\t99.92\t--> 10\n",
      "0.01\t0.01\t0.00\t0.00\t0.00\t0.00\t0.00\t0.01\t0.00\t0.01\t99.96\t--> 10\n",
      "0.05\t0.01\t0.00\t0.03\t0.00\t0.01\t0.04\t0.14\t0.16\t0.02\t99.54\t--> 10\n",
      "0.01\t0.00\t0.00\t0.00\t0.00\t0.00\t0.00\t0.00\t0.00\t0.01\t99.98\t--> 10\n",
      "0.01\t0.00\t0.00\t0.00\t0.00\t0.00\t0.00\t0.00\t0.00\t0.01\t99.98\t--> 10\n",
      "0.01\t0.01\t0.01\t0.01\t0.00\t0.01\t0.00\t0.04\t0.00\t0.01\t99.89\t--> 10\n",
      "1.94\t0.18\t5.88\t0.28\t0.49\t34.08\t0.55\t2.29\t18.99\t0.30\t35.02\t--> 10\n",
      "1.71\t0.54\t1.69\t2.01\t0.36\t0.11\t0.59\t0.26\t1.26\t57.17\t34.30\t--> 9\n",
      "0.01\t0.01\t0.04\t0.00\t0.00\t0.01\t0.00\t0.01\t0.00\t0.01\t99.90\t--> 10\n",
      "0.24\t0.01\t0.00\t0.80\t0.02\t0.06\t0.09\t1.10\t30.88\t0.03\t66.76\t--> 10\n",
      "0.03\t0.02\t0.01\t0.01\t0.00\t0.02\t0.00\t0.02\t0.03\t0.05\t99.81\t--> 10\n",
      "0.03\t0.01\t0.00\t0.01\t0.00\t0.01\t0.00\t0.04\t0.02\t0.00\t99.89\t--> 10\n",
      "0.01\t0.00\t0.00\t0.00\t0.00\t0.00\t0.00\t0.00\t0.00\t0.01\t99.97\t--> 10\n",
      "0.10\t0.01\t0.00\t0.00\t0.00\t0.00\t0.00\t0.21\t0.03\t0.02\t99.63\t--> 10\n",
      "0.14\t0.07\t0.12\t0.01\t0.02\t0.02\t0.01\t0.17\t0.11\t0.56\t98.77\t--> 10\n",
      "0.00\t0.00\t0.00\t0.02\t0.00\t0.00\t0.00\t0.00\t0.16\t0.01\t99.80\t--> 10\n",
      "0.01\t0.00\t0.00\t0.02\t0.00\t0.00\t0.03\t0.03\t0.20\t0.01\t99.68\t--> 10\n",
      "0.08\t0.02\t0.00\t0.07\t0.01\t0.04\t0.03\t0.05\t0.15\t0.18\t99.37\t--> 10\n",
      "0.27\t0.06\t0.12\t0.01\t0.00\t0.01\t0.01\t0.07\t0.10\t0.47\t98.89\t--> 10\n",
      "0.05\t0.01\t0.05\t0.00\t0.00\t0.01\t0.00\t0.01\t0.01\t0.04\t99.82\t--> 10\n",
      "0.01\t0.00\t0.00\t0.00\t0.00\t0.00\t0.00\t0.07\t0.02\t0.03\t99.87\t--> 10\n",
      "0.00\t0.00\t0.00\t0.00\t0.00\t0.00\t0.00\t0.00\t0.01\t0.00\t99.98\t--> 10\n",
      "0.03\t0.01\t0.01\t0.00\t0.01\t0.01\t0.00\t0.02\t0.04\t0.04\t99.83\t--> 10\n",
      "0.06\t0.01\t0.00\t0.01\t0.01\t0.02\t0.00\t0.07\t0.46\t0.00\t99.35\t--> 10\n",
      "0.02\t0.00\t0.04\t0.00\t0.01\t0.02\t0.00\t0.01\t0.01\t0.08\t99.81\t--> 10\n",
      "0.03\t0.01\t0.08\t0.29\t0.00\t0.00\t0.06\t0.00\t2.82\t0.09\t96.62\t--> 10\n",
      "0.04\t0.01\t0.04\t0.00\t0.00\t0.01\t0.00\t0.00\t0.02\t0.04\t99.84\t--> 10\n",
      "0.03\t0.00\t0.00\t0.00\t0.00\t0.00\t0.00\t0.07\t0.05\t0.00\t99.85\t--> 10\n",
      "0.01\t0.00\t0.00\t0.00\t0.00\t0.00\t0.00\t0.00\t0.01\t0.02\t99.96\t--> 10\n",
      "0.01\t0.01\t0.00\t0.01\t0.05\t0.00\t0.02\t0.20\t0.05\t0.01\t99.65\t--> 10\n",
      "1.15\t0.49\t0.07\t0.01\t0.00\t0.00\t0.03\t0.07\t0.12\t3.10\t94.95\t--> 10\n",
      "0.01\t0.01\t0.02\t0.01\t0.00\t0.00\t0.00\t0.00\t0.01\t0.05\t99.90\t--> 10\n",
      "0.00\t0.01\t0.00\t0.00\t0.00\t0.00\t0.01\t0.05\t0.01\t0.02\t99.89\t--> 10\n",
      "0.00\t0.00\t0.00\t0.01\t0.00\t0.00\t0.00\t0.01\t0.02\t0.02\t99.93\t--> 10\n",
      "0.02\t0.01\t0.00\t0.04\t0.01\t0.02\t0.07\t0.45\t0.17\t0.32\t98.90\t--> 10\n",
      "0.03\t0.09\t0.00\t0.32\t0.00\t0.00\t0.36\t0.05\t0.01\t0.62\t98.52\t--> 10\n",
      "0.04\t0.02\t0.01\t0.00\t0.00\t0.00\t0.00\t0.00\t0.00\t0.05\t99.88\t--> 10\n",
      "0.04\t0.01\t0.01\t0.02\t0.00\t0.00\t0.00\t0.01\t0.11\t0.01\t99.80\t--> 10\n",
      "0.12\t0.01\t0.00\t0.00\t0.00\t0.00\t0.00\t0.05\t0.01\t0.00\t99.81\t--> 10\n",
      "0.19\t0.17\t0.00\t0.03\t0.00\t0.00\t0.28\t0.09\t0.06\t0.07\t99.10\t--> 10\n",
      "0.08\t0.06\t0.01\t0.04\t0.00\t0.00\t0.12\t0.04\t0.07\t0.12\t99.45\t--> 10\n",
      "0.09\t0.01\t0.00\t0.00\t0.00\t0.00\t0.00\t0.00\t0.01\t0.00\t99.89\t--> 10\n",
      "0.03\t0.00\t0.02\t0.00\t0.00\t0.02\t0.00\t0.01\t0.02\t0.13\t99.76\t--> 10\n",
      "0.01\t0.00\t0.00\t0.00\t0.00\t0.00\t0.00\t0.00\t0.00\t0.01\t99.97\t--> 10\n",
      "0.01\t0.00\t0.00\t0.00\t0.00\t0.00\t0.00\t0.00\t0.00\t0.01\t99.98\t--> 10\n",
      "0.01\t0.00\t0.00\t0.00\t0.00\t0.00\t0.00\t0.00\t0.00\t0.00\t99.98\t--> 10\n",
      "0.09\t0.23\t0.02\t0.06\t0.01\t0.02\t0.05\t0.12\t0.02\t0.11\t99.29\t--> 10\n",
      "0.02\t0.01\t0.02\t0.00\t0.00\t0.00\t0.00\t0.00\t0.02\t0.02\t99.92\t--> 10\n",
      "0.10\t0.02\t0.01\t0.00\t0.00\t0.00\t0.00\t0.00\t0.01\t0.01\t99.83\t--> 10\n",
      "0.11\t0.12\t0.00\t0.01\t0.00\t0.00\t0.02\t0.03\t0.00\t1.02\t98.67\t--> 10\n",
      "0.17\t0.02\t0.01\t0.02\t0.00\t0.01\t0.11\t0.36\t0.47\t0.11\t98.72\t--> 10\n",
      "0.04\t0.02\t0.13\t0.07\t0.01\t0.09\t0.01\t0.06\t0.02\t0.58\t98.97\t--> 10\n",
      "0.05\t0.01\t0.00\t0.00\t0.00\t0.01\t0.00\t0.02\t0.01\t0.00\t99.89\t--> 10\n",
      "0.02\t0.00\t0.00\t0.00\t0.00\t0.00\t0.00\t0.00\t0.01\t0.00\t99.97\t--> 10\n",
      "0.01\t0.01\t0.01\t0.00\t0.00\t0.01\t0.00\t0.01\t0.03\t0.05\t99.88\t--> 10\n",
      "0.01\t0.01\t0.00\t0.04\t0.00\t0.00\t0.00\t0.01\t0.04\t0.04\t99.85\t--> 10\n",
      "0.00\t0.00\t0.00\t0.00\t0.00\t0.00\t0.00\t0.00\t0.00\t0.02\t99.96\t--> 10\n",
      "0.00\t0.00\t0.00\t0.00\t0.00\t0.00\t0.00\t0.00\t0.00\t0.00\t99.99\t--> 10\n",
      "0.00\t0.00\t0.00\t0.00\t0.00\t0.00\t0.00\t0.00\t0.01\t0.00\t99.98\t--> 10\n",
      "0.00\t0.00\t0.00\t0.00\t0.00\t0.00\t0.00\t0.00\t0.00\t0.01\t99.98\t--> 10\n",
      "0.00\t0.00\t0.00\t0.00\t0.00\t0.00\t0.00\t0.00\t0.00\t0.01\t99.98\t--> 10\n",
      "0.00\t0.00\t0.00\t0.00\t0.00\t0.00\t0.00\t0.00\t0.00\t0.01\t99.98\t--> 10\n",
      "0.00\t0.00\t0.00\t0.00\t0.00\t0.00\t0.00\t0.00\t0.00\t0.01\t99.98\t--> 10\n",
      "0.00\t0.00\t0.00\t0.00\t0.00\t0.00\t0.00\t0.00\t0.00\t0.01\t99.98\t--> 10\n",
      "0.00\t0.00\t0.00\t0.00\t0.00\t0.00\t0.00\t0.00\t0.01\t0.01\t99.97\t--> 10\n",
      "0.00\t0.00\t0.00\t0.00\t0.00\t0.00\t0.00\t0.00\t0.00\t0.00\t99.98\t--> 10\n",
      "0.01\t0.03\t0.00\t0.01\t0.00\t0.01\t0.00\t0.07\t0.02\t0.07\t99.76\t--> 10\n",
      "0.07\t0.04\t0.12\t0.03\t0.02\t0.04\t0.01\t0.05\t0.03\t0.90\t98.69\t--> 10\n",
      "0.03\t0.02\t0.00\t0.00\t0.00\t0.02\t0.00\t0.04\t0.01\t0.00\t99.88\t--> 10\n",
      "0.21\t0.28\t0.09\t0.06\t0.01\t0.00\t0.14\t0.06\t0.07\t0.51\t98.56\t--> 10\n",
      "0.01\t0.00\t0.02\t0.01\t0.01\t0.05\t0.00\t0.03\t0.14\t0.02\t99.71\t--> 10\n",
      "0.04\t0.03\t0.22\t0.01\t0.03\t0.03\t0.00\t0.14\t0.02\t1.12\t98.36\t--> 10\n",
      "0.05\t0.13\t0.00\t0.03\t0.00\t0.00\t0.03\t0.03\t0.00\t7.07\t92.65\t--> 10\n",
      "0.05\t0.01\t0.08\t0.00\t0.00\t0.03\t0.00\t0.01\t0.01\t0.15\t99.65\t--> 10\n",
      "0.27\t0.07\t0.02\t0.00\t0.00\t0.00\t0.00\t0.18\t0.02\t0.10\t99.34\t--> 10\n",
      "0.07\t0.09\t0.18\t0.01\t0.01\t0.53\t0.01\t0.04\t0.07\t0.09\t98.90\t--> 10\n",
      "0.01\t0.00\t0.00\t0.01\t0.00\t0.00\t0.01\t0.15\t0.05\t0.03\t99.72\t--> 10\n",
      "0.01\t0.01\t0.00\t0.01\t0.00\t0.00\t0.00\t0.02\t0.01\t0.11\t99.82\t--> 10\n",
      "0.00\t0.00\t0.00\t0.00\t0.00\t0.00\t0.00\t0.00\t0.01\t0.00\t99.98\t--> 10\n",
      "0.00\t0.00\t0.00\t0.00\t0.00\t0.00\t0.00\t0.03\t0.00\t0.00\t99.96\t--> 10\n",
      "0.04\t0.00\t0.01\t0.00\t0.00\t0.00\t0.00\t0.00\t0.10\t0.02\t99.83\t--> 10\n",
      "0.02\t0.00\t0.00\t0.00\t0.00\t0.00\t0.00\t0.00\t0.01\t0.00\t99.96\t--> 10\n",
      "0.02\t0.01\t0.06\t0.00\t0.00\t0.01\t0.00\t0.01\t0.02\t0.08\t99.80\t--> 10\n",
      "0.00\t0.00\t0.00\t0.01\t0.00\t0.00\t0.02\t0.01\t0.02\t0.03\t99.91\t--> 10\n",
      "0.00\t0.00\t0.00\t0.00\t0.00\t0.00\t0.00\t0.00\t0.00\t0.00\t99.99\t--> 10\n",
      "0.00\t0.01\t0.00\t0.04\t0.00\t0.00\t0.00\t0.00\t0.01\t0.06\t99.87\t--> 10\n",
      "0.00\t0.00\t0.00\t0.00\t0.00\t0.00\t0.00\t0.00\t0.01\t0.01\t99.98\t--> 10\n",
      "0.01\t0.02\t0.00\t0.04\t0.01\t0.01\t0.04\t0.06\t0.05\t0.15\t99.60\t--> 10\n",
      "0.03\t0.05\t0.00\t0.29\t0.00\t0.00\t0.04\t0.00\t0.01\t7.15\t92.42\t--> 10\n",
      "0.01\t0.00\t0.00\t0.00\t0.00\t0.00\t0.00\t0.02\t0.00\t0.00\t99.96\t--> 10\n",
      "0.01\t0.00\t0.00\t0.00\t0.00\t0.00\t0.00\t0.00\t0.00\t0.00\t99.98\t--> 10\n",
      "0.01\t0.00\t0.00\t0.00\t0.00\t0.00\t0.00\t0.00\t0.00\t0.00\t99.98\t--> 10\n",
      "0.01\t0.00\t0.00\t0.00\t0.00\t0.00\t0.00\t0.00\t0.00\t0.00\t99.98\t--> 10\n",
      "0.01\t0.00\t0.00\t0.01\t0.00\t0.00\t0.00\t0.00\t0.19\t0.01\t99.77\t--> 10\n",
      "0.01\t0.01\t0.00\t0.01\t0.00\t0.00\t0.01\t0.02\t0.03\t0.01\t99.90\t--> 10\n",
      "0.00\t0.00\t0.00\t0.00\t0.00\t0.00\t0.00\t0.00\t0.01\t0.01\t99.98\t--> 10\n",
      "0.00\t0.00\t0.00\t0.00\t0.00\t0.00\t0.00\t0.03\t0.00\t0.00\t99.96\t--> 10\n",
      "0.05\t0.05\t0.05\t0.04\t0.00\t0.03\t0.06\t0.03\t0.27\t0.37\t99.06\t--> 10\n",
      "0.01\t0.00\t0.00\t0.00\t0.00\t0.00\t0.00\t0.02\t0.02\t0.00\t99.95\t--> 10\n",
      "0.00\t0.00\t0.00\t0.00\t0.00\t0.00\t0.00\t0.00\t0.00\t0.05\t99.94\t--> 10\n",
      "0.01\t0.00\t0.00\t0.00\t0.00\t0.00\t0.00\t0.00\t0.01\t0.03\t99.95\t--> 10\n",
      "0.02\t0.02\t0.08\t0.00\t0.00\t0.01\t0.00\t0.01\t0.02\t0.02\t99.82\t--> 10\n",
      "0.00\t0.00\t0.00\t0.00\t0.00\t0.00\t0.00\t0.01\t0.00\t0.01\t99.96\t--> 10\n",
      "0.79\t1.02\t0.14\t0.17\t0.05\t0.01\t0.21\t0.19\t0.25\t0.91\t96.27\t--> 10\n",
      "0.02\t0.01\t0.00\t0.02\t0.01\t0.01\t0.00\t0.07\t0.03\t0.06\t99.77\t--> 10\n",
      "0.06\t0.04\t0.01\t0.00\t0.01\t0.03\t0.00\t0.24\t0.00\t0.61\t98.99\t--> 10\n",
      "0.13\t0.02\t0.00\t0.02\t0.03\t0.01\t0.03\t0.96\t0.16\t0.01\t98.63\t--> 10\n",
      "0.01\t0.01\t0.00\t0.00\t0.00\t0.00\t0.00\t0.01\t0.00\t0.02\t99.95\t--> 10\n",
      "0.00\t0.00\t0.00\t0.00\t0.00\t0.00\t0.00\t0.00\t0.01\t0.01\t99.97\t--> 10\n",
      "0.02\t0.01\t0.00\t0.01\t0.00\t0.01\t0.00\t0.03\t0.08\t0.02\t99.81\t--> 10\n",
      "0.01\t0.00\t0.04\t0.00\t0.00\t0.03\t0.00\t0.01\t0.02\t0.02\t99.86\t--> 10\n",
      "0.01\t0.00\t0.00\t0.00\t0.00\t0.00\t0.00\t0.00\t0.01\t0.01\t99.95\t--> 10\n",
      "0.37\t0.04\t0.03\t0.00\t0.00\t0.01\t0.00\t0.07\t0.04\t0.09\t99.34\t--> 10\n",
      "0.01\t0.00\t0.00\t0.00\t0.00\t0.00\t0.00\t0.00\t0.01\t0.01\t99.97\t--> 10\n",
      "0.00\t0.00\t0.02\t0.00\t0.00\t0.00\t0.00\t0.01\t0.00\t0.60\t99.35\t--> 10\n",
      "0.00\t0.00\t0.00\t0.00\t0.00\t0.00\t0.00\t0.00\t0.00\t0.00\t99.99\t--> 10\n",
      "0.00\t0.00\t0.00\t0.00\t0.00\t0.00\t0.00\t0.00\t0.00\t0.01\t99.98\t--> 10\n",
      "0.00\t0.00\t0.00\t0.00\t0.00\t0.00\t0.00\t0.00\t0.00\t0.00\t99.99\t--> 10\n",
      "0.00\t0.00\t0.00\t0.00\t0.00\t0.00\t0.00\t0.00\t0.00\t0.01\t99.98\t--> 10\n",
      "0.00\t0.00\t0.00\t0.00\t0.00\t0.00\t0.00\t0.00\t0.00\t0.00\t99.99\t--> 10\n",
      "0.00\t0.00\t0.00\t0.01\t0.00\t0.00\t0.00\t0.02\t0.10\t0.01\t99.86\t--> 10\n",
      "0.02\t0.01\t0.00\t0.01\t0.00\t0.00\t0.00\t0.00\t0.01\t0.06\t99.89\t--> 10\n",
      "0.01\t0.00\t0.00\t0.00\t0.00\t0.00\t0.00\t0.01\t0.04\t0.00\t99.92\t--> 10\n",
      "0.01\t0.00\t0.01\t0.00\t0.01\t0.01\t0.00\t0.01\t0.02\t0.04\t99.90\t--> 10\n",
      "0.00\t0.00\t0.01\t0.05\t0.02\t0.06\t0.01\t0.03\t0.03\t0.68\t99.10\t--> 10\n",
      "0.19\t0.32\t0.03\t0.03\t0.00\t0.01\t0.44\t0.25\t0.02\t1.17\t97.54\t--> 10\n"
     ]
    },
    {
     "name": "stdout",
     "output_type": "stream",
     "text": [
      "0.02\t0.00\t0.00\t0.00\t0.00\t0.00\t0.00\t0.00\t0.01\t0.01\t99.94\t--> 10\n",
      "0.17\t0.03\t0.18\t0.01\t0.00\t0.01\t0.01\t0.02\t0.04\t0.03\t99.48\t--> 10\n",
      "0.01\t0.00\t0.00\t0.00\t0.01\t0.00\t0.00\t0.35\t0.05\t0.05\t99.53\t--> 10\n",
      "0.04\t0.01\t0.01\t0.00\t0.00\t0.01\t0.00\t0.05\t0.12\t0.05\t99.70\t--> 10\n",
      "0.04\t0.04\t0.01\t0.11\t0.01\t0.02\t0.10\t0.08\t0.21\t0.26\t99.10\t--> 10\n",
      "0.01\t0.00\t0.00\t0.00\t0.00\t0.00\t0.00\t0.00\t0.00\t0.00\t99.98\t--> 10\n",
      "0.05\t0.02\t0.03\t0.07\t0.02\t0.03\t0.08\t0.12\t0.15\t0.43\t99.02\t--> 10\n",
      "0.00\t0.00\t0.01\t0.00\t0.00\t0.01\t0.00\t0.01\t0.13\t0.05\t99.77\t--> 10\n",
      "0.02\t0.01\t0.00\t0.01\t0.01\t0.00\t0.02\t0.12\t0.00\t0.04\t99.77\t--> 10\n",
      "0.01\t0.01\t0.00\t0.01\t0.00\t0.00\t0.00\t0.03\t0.04\t0.11\t99.79\t--> 10\n",
      "0.05\t0.01\t0.02\t0.04\t0.01\t0.02\t0.01\t0.03\t0.28\t0.38\t99.14\t--> 10\n",
      "0.00\t0.00\t0.00\t0.00\t0.00\t0.00\t0.00\t0.00\t0.03\t0.00\t99.96\t--> 10\n",
      "0.00\t0.00\t0.00\t0.00\t0.00\t0.00\t0.00\t0.00\t0.00\t0.03\t99.96\t--> 10\n",
      "0.15\t0.08\t0.02\t0.00\t0.00\t0.02\t0.00\t0.01\t0.00\t0.19\t99.53\t--> 10\n",
      "0.09\t0.00\t0.01\t0.00\t0.11\t0.02\t0.00\t0.42\t0.22\t0.00\t99.13\t--> 10\n",
      "0.00\t0.00\t0.02\t0.01\t0.01\t0.03\t0.00\t0.02\t0.01\t0.47\t99.42\t--> 10\n",
      "0.00\t0.00\t0.00\t0.01\t0.00\t0.00\t0.01\t0.01\t0.00\t0.00\t99.96\t--> 10\n",
      "0.00\t0.00\t0.00\t0.00\t0.00\t0.00\t0.00\t0.00\t0.01\t0.01\t99.98\t--> 10\n",
      "0.02\t0.01\t0.00\t0.00\t0.00\t0.00\t0.00\t0.01\t0.04\t0.03\t99.89\t--> 10\n",
      "0.24\t0.06\t0.11\t0.00\t0.00\t0.01\t0.00\t0.06\t0.01\t0.03\t99.48\t--> 10\n",
      "0.01\t0.01\t0.00\t0.00\t0.00\t0.00\t0.00\t0.01\t0.00\t0.05\t99.92\t--> 10\n",
      "0.18\t0.01\t0.02\t0.02\t0.01\t0.01\t0.01\t0.02\t0.33\t0.25\t99.14\t--> 10\n",
      "0.01\t0.02\t0.00\t0.01\t0.00\t0.00\t0.00\t0.00\t0.00\t0.04\t99.92\t--> 10\n",
      "0.00\t0.00\t0.00\t0.00\t0.01\t0.00\t0.00\t0.03\t0.02\t0.00\t99.94\t--> 10\n",
      "0.02\t0.01\t0.01\t0.01\t0.00\t0.00\t0.00\t0.00\t0.02\t0.00\t99.93\t--> 10\n",
      "0.57\t0.14\t0.45\t1.97\t0.53\t0.11\t0.63\t0.12\t3.08\t6.00\t86.41\t--> 10\n",
      "0.15\t0.04\t0.06\t0.02\t0.03\t0.11\t0.03\t0.33\t0.23\t0.22\t98.79\t--> 10\n",
      "0.01\t0.00\t0.00\t0.00\t0.00\t0.00\t0.01\t0.14\t0.05\t0.01\t99.78\t--> 10\n",
      "0.01\t0.00\t0.00\t0.02\t0.00\t0.00\t0.04\t0.05\t0.02\t0.04\t99.82\t--> 10\n",
      "0.00\t0.00\t0.00\t0.00\t0.00\t0.00\t0.00\t0.00\t0.00\t0.01\t99.98\t--> 10\n",
      "0.00\t0.00\t0.00\t0.00\t0.00\t0.00\t0.00\t0.00\t0.00\t0.01\t99.98\t--> 10\n",
      "0.01\t0.00\t0.00\t0.00\t0.00\t0.00\t0.00\t0.00\t0.01\t0.01\t99.97\t--> 10\n",
      "0.02\t0.02\t0.00\t0.25\t0.00\t0.02\t1.43\t0.13\t0.06\t3.71\t94.37\t--> 10\n",
      "0.23\t0.12\t4.11\t0.20\t0.08\t0.38\t0.01\t0.03\t10.25\t4.29\t80.30\t--> 10\n",
      "0.05\t0.05\t0.00\t0.04\t0.00\t0.00\t0.13\t0.08\t0.01\t0.20\t99.44\t--> 10\n",
      "0.03\t0.01\t0.00\t0.01\t0.02\t0.01\t0.02\t0.14\t0.01\t0.01\t99.74\t--> 10\n",
      "0.14\t0.03\t0.05\t0.13\t0.01\t0.01\t0.05\t0.04\t0.59\t0.36\t98.58\t--> 10\n",
      "0.01\t0.01\t0.00\t0.00\t0.00\t0.00\t0.01\t0.07\t0.00\t0.01\t99.89\t--> 10\n",
      "0.01\t0.00\t0.00\t0.00\t0.00\t0.00\t0.00\t0.00\t0.00\t0.00\t99.98\t--> 10\n",
      "0.01\t0.00\t0.00\t0.00\t0.00\t0.00\t0.00\t0.00\t0.02\t0.00\t99.97\t--> 10\n",
      "0.01\t0.00\t0.00\t0.00\t0.00\t0.00\t0.00\t0.00\t0.00\t0.00\t99.98\t--> 10\n",
      "0.00\t0.00\t0.00\t0.00\t0.00\t0.00\t0.00\t0.00\t0.00\t0.01\t99.98\t--> 10\n",
      "0.00\t0.00\t0.00\t0.00\t0.00\t0.00\t0.00\t0.00\t0.00\t0.00\t99.98\t--> 10\n",
      "0.07\t0.02\t0.01\t0.00\t0.00\t0.01\t0.00\t0.01\t0.02\t0.08\t99.76\t--> 10\n",
      "0.02\t0.02\t0.13\t0.00\t0.00\t0.01\t0.00\t0.00\t0.02\t0.03\t99.77\t--> 10\n",
      "0.16\t0.04\t0.03\t0.15\t0.01\t0.01\t0.03\t0.03\t0.45\t0.25\t98.84\t--> 10\n",
      "0.02\t0.01\t0.16\t0.02\t0.02\t0.73\t0.01\t0.05\t0.30\t0.17\t98.52\t--> 10\n",
      "0.00\t0.00\t0.00\t0.00\t0.00\t0.00\t0.00\t0.00\t0.00\t0.00\t99.99\t--> 10\n",
      "0.00\t0.00\t0.00\t0.00\t0.00\t0.00\t0.00\t0.00\t0.00\t0.00\t99.98\t--> 10\n",
      "9.12\t80.66\t5.41\t0.01\t0.03\t0.00\t0.50\t0.02\t0.02\t3.01\t1.22\t--> 1\n",
      "0.08\t0.03\t0.04\t0.00\t0.01\t0.03\t0.00\t0.01\t0.05\t0.04\t99.70\t--> 10\n",
      "0.05\t0.01\t0.00\t0.00\t0.00\t0.00\t0.01\t0.08\t0.07\t0.02\t99.76\t--> 10\n",
      "0.03\t0.02\t0.15\t0.00\t0.01\t0.09\t0.00\t0.01\t0.05\t0.06\t99.58\t--> 10\n",
      "0.05\t0.02\t0.16\t0.00\t0.01\t0.06\t0.00\t0.07\t0.07\t0.15\t99.40\t--> 10\n",
      "0.06\t0.02\t0.00\t0.00\t0.00\t0.00\t0.00\t0.01\t0.02\t0.03\t99.85\t--> 10\n",
      "0.06\t0.00\t0.04\t0.00\t0.01\t0.02\t0.00\t0.01\t0.61\t0.00\t99.24\t--> 10\n",
      "0.02\t0.02\t0.00\t0.03\t0.00\t0.01\t0.00\t0.00\t0.02\t0.03\t99.87\t--> 10\n",
      "0.06\t0.02\t0.21\t0.00\t0.01\t0.06\t0.00\t0.01\t0.22\t0.08\t99.32\t--> 10\n",
      "0.01\t0.00\t0.05\t0.00\t0.00\t0.02\t0.00\t0.02\t0.02\t0.08\t99.79\t--> 10\n",
      "0.01\t0.00\t0.00\t0.00\t0.00\t0.00\t0.00\t0.00\t0.01\t0.01\t99.97\t--> 10\n",
      "0.00\t0.00\t0.00\t0.00\t0.00\t0.00\t0.00\t0.00\t0.00\t0.01\t99.98\t--> 10\n",
      "0.03\t0.01\t0.07\t0.00\t0.00\t0.01\t0.00\t0.03\t0.01\t0.02\t99.81\t--> 10\n",
      "0.03\t0.01\t0.04\t0.00\t0.00\t0.01\t0.00\t0.00\t0.02\t0.12\t99.76\t--> 10\n",
      "0.05\t0.01\t0.00\t0.00\t0.00\t0.00\t0.00\t0.24\t0.02\t0.00\t99.68\t--> 10\n",
      "0.02\t0.00\t0.01\t0.00\t0.00\t0.00\t0.00\t0.00\t0.02\t0.01\t99.93\t--> 10\n",
      "0.04\t0.01\t0.00\t0.00\t0.00\t0.01\t0.00\t0.01\t0.03\t0.04\t99.86\t--> 10\n",
      "0.01\t0.01\t0.01\t0.01\t0.00\t0.01\t0.00\t0.02\t0.00\t0.00\t99.93\t--> 10\n",
      "0.01\t0.00\t0.00\t0.00\t0.00\t0.00\t0.00\t0.00\t0.01\t0.00\t99.97\t--> 10\n",
      "0.00\t0.00\t0.00\t0.00\t0.00\t0.00\t0.00\t0.00\t0.00\t0.01\t99.98\t--> 10\n",
      "0.00\t0.00\t0.00\t0.00\t0.00\t0.00\t0.00\t0.00\t0.00\t0.01\t99.99\t--> 10\n",
      "0.00\t0.00\t0.00\t0.00\t0.00\t0.00\t0.00\t0.00\t0.00\t0.01\t99.98\t--> 10\n",
      "0.00\t0.00\t0.00\t0.00\t0.00\t0.00\t0.00\t0.00\t0.00\t0.01\t99.98\t--> 10\n",
      "0.00\t0.00\t0.00\t0.00\t0.00\t0.00\t0.00\t0.00\t0.00\t0.01\t99.99\t--> 10\n",
      "0.00\t0.00\t0.00\t0.00\t0.00\t0.00\t0.00\t0.00\t0.00\t0.00\t99.99\t--> 10\n",
      "0.01\t0.00\t0.00\t0.00\t0.00\t0.00\t0.00\t0.00\t0.02\t0.05\t99.92\t--> 10\n",
      "0.05\t0.02\t0.03\t0.00\t0.00\t0.00\t0.00\t0.01\t0.01\t0.04\t99.85\t--> 10\n",
      "0.02\t0.02\t0.01\t0.01\t0.00\t0.01\t0.00\t0.03\t0.01\t0.01\t99.87\t--> 10\n",
      "0.01\t0.00\t0.00\t0.00\t0.00\t0.00\t0.00\t0.00\t0.00\t0.01\t99.98\t--> 10\n",
      "0.00\t0.00\t0.00\t0.00\t0.00\t0.00\t0.00\t0.00\t0.03\t0.01\t99.95\t--> 10\n",
      "0.05\t0.10\t0.01\t0.34\t0.01\t0.02\t0.13\t0.15\t0.09\t0.20\t98.88\t--> 10\n",
      "0.08\t0.08\t0.01\t0.00\t0.00\t0.00\t0.00\t0.03\t0.01\t0.09\t99.69\t--> 10\n",
      "0.07\t0.10\t0.03\t0.12\t0.04\t0.01\t0.08\t0.13\t0.04\t0.63\t98.76\t--> 10\n",
      "0.01\t0.01\t0.00\t0.00\t0.02\t0.04\t0.03\t0.12\t0.02\t0.01\t99.74\t--> 10\n",
      "0.10\t0.03\t0.00\t0.02\t0.01\t0.00\t0.03\t0.87\t0.02\t0.03\t98.89\t--> 10\n",
      "0.01\t0.00\t0.01\t0.00\t0.00\t0.00\t0.00\t0.00\t0.02\t0.04\t99.93\t--> 10\n",
      "0.01\t0.00\t0.00\t0.00\t0.00\t0.00\t0.00\t0.02\t0.01\t0.00\t99.96\t--> 10\n",
      "0.02\t0.00\t0.00\t0.00\t0.00\t0.00\t0.00\t0.00\t0.01\t0.01\t99.95\t--> 10\n",
      "0.01\t0.00\t0.00\t0.00\t0.00\t0.00\t0.00\t0.02\t0.00\t0.00\t99.96\t--> 10\n",
      "0.01\t0.00\t0.00\t0.00\t0.00\t0.00\t0.00\t0.00\t0.02\t0.07\t99.90\t--> 10\n",
      "0.03\t0.01\t0.01\t0.00\t0.00\t0.00\t0.00\t0.02\t0.01\t0.10\t99.82\t--> 10\n",
      "0.00\t0.00\t0.00\t0.00\t0.00\t0.00\t0.00\t0.00\t0.00\t0.01\t99.98\t--> 10\n",
      "0.00\t0.00\t0.00\t0.01\t0.00\t0.00\t0.02\t0.01\t0.05\t0.01\t99.91\t--> 10\n",
      "0.38\t0.20\t0.03\t0.13\t0.02\t0.07\t0.20\t0.58\t0.12\t3.62\t94.66\t--> 10\n",
      "0.02\t0.01\t0.00\t0.47\t0.00\t0.00\t0.44\t0.07\t0.01\t0.38\t98.60\t--> 10\n",
      "7.41\t1.23\t0.10\t0.96\t4.16\t0.21\t2.19\t29.29\t11.15\t3.06\t40.25\t--> 10\n",
      "0.02\t0.01\t0.09\t0.00\t0.00\t0.06\t0.00\t0.01\t0.01\t0.06\t99.73\t--> 10\n",
      "0.20\t0.03\t0.00\t0.00\t0.00\t0.00\t0.00\t0.02\t0.03\t0.09\t99.62\t--> 10\n",
      "0.05\t0.01\t0.00\t0.02\t0.01\t0.01\t0.00\t0.05\t0.06\t0.01\t99.78\t--> 10\n",
      "0.06\t0.01\t0.00\t0.00\t0.01\t0.01\t0.00\t0.41\t0.08\t0.00\t99.43\t--> 10\n",
      "0.16\t0.02\t0.00\t0.01\t0.00\t0.01\t0.02\t0.13\t0.17\t0.01\t99.46\t--> 10\n",
      "0.03\t0.01\t0.03\t0.00\t0.00\t0.02\t0.00\t0.01\t0.05\t0.10\t99.76\t--> 10\n",
      "0.05\t0.01\t0.01\t0.00\t0.00\t0.00\t0.00\t0.01\t0.18\t0.03\t99.69\t--> 10\n",
      "0.07\t0.01\t0.00\t0.10\t0.02\t0.02\t0.03\t0.26\t0.19\t0.15\t99.14\t--> 10\n",
      "0.17\t0.15\t0.02\t0.05\t0.01\t0.04\t0.21\t0.33\t0.18\t0.09\t98.76\t--> 10\n",
      "0.02\t0.00\t0.01\t0.00\t0.00\t0.00\t0.00\t0.00\t0.09\t0.01\t99.86\t--> 10\n",
      "0.11\t0.04\t0.02\t0.00\t0.01\t0.03\t0.00\t0.05\t0.08\t0.01\t99.65\t--> 10\n",
      "0.03\t0.01\t0.00\t0.00\t0.01\t0.00\t0.00\t0.23\t0.02\t0.01\t99.69\t--> 10\n",
      "0.23\t0.09\t0.01\t0.00\t0.00\t0.00\t0.00\t0.02\t0.01\t1.13\t98.50\t--> 10\n",
      "0.02\t0.01\t0.00\t0.00\t0.00\t0.00\t0.00\t0.00\t0.01\t0.01\t99.96\t--> 10\n",
      "0.01\t0.00\t0.00\t0.00\t0.00\t0.00\t0.00\t0.01\t0.03\t0.12\t99.82\t--> 10\n",
      "0.00\t0.00\t0.00\t0.00\t0.00\t0.00\t0.00\t0.00\t0.00\t0.01\t99.97\t--> 10\n",
      "0.07\t0.05\t0.04\t0.01\t0.00\t0.14\t0.01\t0.03\t0.04\t0.19\t99.42\t--> 10\n",
      "0.53\t0.60\t3.34\t0.02\t0.01\t0.11\t0.03\t0.05\t0.13\t0.70\t94.48\t--> 10\n",
      "0.01\t0.00\t0.00\t0.00\t0.00\t0.00\t0.00\t0.01\t0.00\t0.00\t99.97\t--> 10\n",
      "0.01\t0.01\t0.01\t0.00\t0.00\t0.00\t0.00\t0.00\t0.02\t0.08\t99.86\t--> 10\n",
      "0.00\t0.00\t0.00\t0.00\t0.00\t0.00\t0.00\t0.00\t0.00\t0.01\t99.98\t--> 10\n",
      "0.06\t0.01\t0.01\t0.01\t0.01\t0.01\t0.00\t0.06\t0.07\t0.03\t99.74\t--> 10\n",
      "0.01\t0.00\t0.00\t0.00\t0.00\t0.00\t0.00\t0.01\t0.01\t0.01\t99.95\t--> 10\n",
      "0.00\t0.00\t0.00\t0.00\t0.01\t0.00\t0.00\t0.21\t0.05\t0.01\t99.72\t--> 10\n",
      "0.18\t0.12\t0.14\t0.01\t0.01\t0.14\t0.02\t0.11\t0.03\t0.36\t98.87\t--> 10\n",
      "0.13\t0.03\t0.02\t0.00\t0.00\t0.00\t0.00\t0.02\t0.10\t0.43\t99.24\t--> 10\n",
      "0.06\t0.01\t0.01\t0.00\t0.00\t0.01\t0.00\t0.01\t0.02\t0.01\t99.88\t--> 10\n",
      "0.07\t0.01\t0.00\t0.00\t0.00\t0.00\t0.00\t0.05\t0.03\t0.01\t99.83\t--> 10\n",
      "0.07\t0.02\t0.01\t0.00\t0.00\t0.00\t0.00\t0.00\t0.01\t0.02\t99.87\t--> 10\n",
      "0.66\t0.29\t0.05\t2.72\t0.79\t0.16\t0.35\t1.56\t0.74\t1.37\t91.31\t--> 10\n",
      "0.11\t0.03\t0.04\t0.02\t0.01\t0.09\t0.02\t0.06\t0.05\t0.55\t99.03\t--> 10\n",
      "0.00\t0.00\t0.00\t0.01\t0.00\t0.00\t0.00\t0.00\t0.08\t0.01\t99.90\t--> 10\n",
      "0.02\t0.02\t0.01\t0.01\t0.00\t0.03\t0.01\t0.03\t0.00\t0.23\t99.65\t--> 10\n",
      "0.02\t0.01\t0.07\t0.00\t0.01\t0.02\t0.00\t0.02\t0.03\t0.20\t99.62\t--> 10\n",
      "0.00\t0.00\t0.01\t0.00\t0.01\t0.02\t0.00\t0.01\t0.07\t0.03\t99.84\t--> 10\n",
      "0.03\t0.01\t0.03\t0.00\t0.00\t0.00\t0.00\t0.00\t0.03\t0.02\t99.89\t--> 10\n",
      "0.01\t0.00\t0.00\t0.00\t0.00\t0.00\t0.00\t0.00\t0.01\t0.01\t99.97\t--> 10\n",
      "0.01\t0.00\t0.00\t0.00\t0.00\t0.00\t0.00\t0.00\t0.01\t0.00\t99.98\t--> 10\n",
      "0.01\t0.00\t0.00\t0.00\t0.00\t0.00\t0.00\t0.00\t0.01\t0.01\t99.97\t--> 10\n",
      "0.03\t0.01\t0.00\t0.01\t0.00\t0.00\t0.00\t0.05\t0.05\t0.01\t99.86\t--> 10\n",
      "0.01\t0.00\t0.02\t0.00\t0.00\t0.02\t0.00\t0.01\t0.01\t0.08\t99.84\t--> 10\n",
      "0.02\t0.00\t0.00\t0.00\t0.00\t0.00\t0.00\t0.00\t0.01\t0.01\t99.96\t--> 10\n",
      "0.01\t0.00\t0.00\t0.00\t0.00\t0.00\t0.00\t0.00\t0.00\t0.00\t99.99\t--> 10\n",
      "0.01\t0.00\t0.00\t0.00\t0.00\t0.00\t0.00\t0.00\t0.00\t0.00\t99.98\t--> 10\n",
      "0.01\t0.00\t0.00\t0.00\t0.00\t0.00\t0.00\t0.00\t0.00\t0.00\t99.98\t--> 10\n",
      "0.01\t0.00\t0.00\t0.00\t0.00\t0.00\t0.00\t0.00\t0.00\t0.00\t99.98\t--> 10\n",
      "0.01\t0.00\t0.00\t0.00\t0.00\t0.00\t0.00\t0.00\t0.00\t0.00\t99.98\t--> 10\n",
      "0.09\t0.03\t0.20\t0.59\t0.00\t0.06\t0.10\t0.02\t0.35\t0.49\t98.07\t--> 10\n",
      "0.22\t0.07\t0.04\t0.17\t0.03\t0.16\t0.29\t0.50\t1.76\t0.10\t96.65\t--> 10\n",
      "0.12\t0.01\t0.00\t0.00\t0.00\t0.00\t0.00\t0.03\t0.02\t0.00\t99.82\t--> 10\n",
      "0.13\t0.19\t0.04\t0.13\t0.12\t0.09\t0.15\t0.92\t0.09\t0.92\t97.23\t--> 10\n",
      "0.06\t0.01\t0.12\t0.00\t0.00\t0.01\t0.00\t0.01\t0.04\t0.11\t99.65\t--> 10\n",
      "0.74\t0.36\t0.01\t2.47\t0.21\t0.10\t0.88\t2.04\t0.75\t1.23\t91.22\t--> 10\n",
      "0.01\t0.00\t0.00\t0.01\t0.00\t0.00\t0.00\t0.02\t0.09\t0.02\t99.85\t--> 10\n",
      "0.01\t0.00\t0.00\t0.00\t0.00\t0.00\t0.00\t0.00\t0.01\t0.00\t99.97\t--> 10\n",
      "0.07\t0.02\t0.07\t0.04\t0.00\t0.11\t0.02\t0.10\t0.16\t0.12\t99.29\t--> 10\n"
     ]
    },
    {
     "name": "stdout",
     "output_type": "stream",
     "text": [
      "0.02\t0.00\t0.00\t0.00\t0.00\t0.01\t0.00\t0.03\t0.28\t0.00\t99.65\t--> 10\n",
      "0.02\t0.01\t0.00\t0.01\t0.00\t0.00\t0.03\t0.03\t0.00\t0.18\t99.72\t--> 10\n",
      "0.01\t0.00\t0.00\t0.00\t0.00\t0.00\t0.42\t0.01\t0.00\t0.02\t99.54\t--> 10\n",
      "0.01\t0.00\t0.00\t0.00\t0.00\t0.00\t0.03\t0.00\t0.00\t0.01\t99.95\t--> 10\n",
      "0.04\t0.02\t0.14\t0.07\t0.01\t0.07\t0.12\t0.13\t0.42\t0.75\t98.24\t--> 10\n",
      "0.01\t0.00\t0.00\t0.00\t0.00\t0.00\t0.32\t0.03\t0.00\t0.01\t99.62\t--> 10\n",
      "0.03\t0.01\t0.00\t0.02\t0.00\t0.01\t0.02\t0.37\t0.22\t0.02\t99.29\t--> 10\n",
      "0.01\t0.00\t0.00\t0.00\t0.00\t0.00\t0.00\t0.05\t0.01\t0.00\t99.91\t--> 10\n",
      "0.23\t0.08\t1.04\t0.02\t0.00\t0.13\t0.01\t0.02\t0.09\t0.09\t98.30\t--> 10\n",
      "0.01\t0.00\t0.00\t0.02\t0.00\t0.00\t0.01\t0.01\t0.09\t0.03\t99.83\t--> 10\n",
      "1.26\t7.00\t0.10\t0.02\t0.01\t0.01\t2.97\t1.26\t0.07\t0.36\t86.94\t--> 10\n",
      "2.85\t1.09\t0.17\t8.86\t0.48\t5.23\t2.95\t6.99\t20.17\t0.63\t50.57\t--> 10\n",
      "0.01\t0.00\t0.00\t0.00\t0.00\t0.00\t0.00\t0.02\t0.03\t0.01\t99.92\t--> 10\n",
      "0.01\t0.01\t0.00\t0.01\t0.00\t0.01\t0.01\t0.02\t0.03\t0.03\t99.87\t--> 10\n",
      "0.00\t0.00\t0.00\t0.01\t0.00\t0.00\t0.01\t0.03\t0.01\t0.01\t99.93\t--> 10\n",
      "0.01\t0.00\t0.00\t0.01\t0.00\t0.00\t0.00\t0.02\t0.01\t0.02\t99.92\t--> 10\n",
      "0.05\t0.02\t0.00\t0.01\t0.00\t0.00\t0.02\t0.10\t0.00\t0.02\t99.77\t--> 10\n",
      "0.05\t0.01\t0.08\t0.02\t0.02\t0.11\t0.01\t0.10\t0.18\t0.21\t99.22\t--> 10\n",
      "0.03\t0.03\t0.05\t0.07\t0.02\t0.04\t0.01\t0.07\t0.01\t0.06\t99.63\t--> 10\n",
      "0.02\t0.01\t0.00\t0.00\t0.00\t0.00\t0.60\t0.03\t0.00\t0.04\t99.31\t--> 10\n",
      "0.00\t0.00\t0.00\t0.01\t0.00\t0.00\t0.48\t0.01\t0.01\t0.06\t99.44\t--> 10\n",
      "0.01\t0.00\t0.00\t0.03\t0.00\t0.00\t11.34\t6.50\t0.03\t0.35\t81.73\t--> 10\n",
      "3.29\t0.32\t3.66\t0.04\t0.06\t0.03\t0.00\t0.01\t2.64\t1.80\t88.14\t--> 10\n",
      "0.00\t0.00\t0.00\t0.07\t0.00\t0.00\t0.06\t0.00\t0.03\t0.04\t99.79\t--> 10\n",
      "0.09\t0.04\t0.00\t0.00\t0.00\t0.00\t0.85\t1.32\t0.00\t0.49\t97.21\t--> 10\n",
      "0.01\t0.00\t0.00\t0.00\t0.00\t0.00\t0.00\t0.00\t0.00\t0.00\t99.98\t--> 10\n",
      "0.00\t0.00\t0.00\t0.00\t0.00\t0.00\t0.00\t0.00\t0.00\t0.00\t99.98\t--> 10\n",
      "0.00\t0.00\t0.00\t0.00\t0.00\t0.00\t0.00\t0.00\t0.00\t0.01\t99.99\t--> 10\n",
      "0.00\t0.00\t0.00\t0.00\t0.00\t0.00\t0.00\t0.00\t0.00\t0.01\t99.99\t--> 10\n",
      "0.00\t0.00\t0.00\t0.00\t0.00\t0.00\t0.00\t0.00\t0.00\t0.01\t99.99\t--> 10\n",
      "0.00\t0.00\t0.00\t0.00\t0.00\t0.00\t0.00\t0.00\t0.03\t0.00\t99.96\t--> 10\n",
      "0.00\t0.00\t0.00\t0.00\t0.00\t0.00\t0.01\t0.00\t0.02\t0.02\t99.95\t--> 10\n",
      "0.01\t0.00\t0.00\t0.01\t0.00\t0.00\t0.01\t0.00\t0.03\t0.03\t99.91\t--> 10\n",
      "0.01\t0.00\t0.00\t0.01\t0.00\t0.01\t0.01\t0.01\t0.01\t0.03\t99.92\t--> 10\n",
      "0.01\t0.01\t0.00\t0.00\t0.00\t0.00\t1.13\t0.10\t0.00\t0.05\t98.70\t--> 10\n",
      "0.01\t0.00\t0.00\t0.00\t0.00\t0.00\t0.00\t0.00\t0.01\t0.00\t99.98\t--> 10\n",
      "0.00\t0.00\t0.00\t0.00\t0.00\t0.00\t0.00\t0.00\t0.00\t0.01\t99.98\t--> 10\n",
      "0.01\t0.00\t0.00\t0.00\t0.00\t0.00\t0.00\t0.00\t0.00\t0.01\t99.98\t--> 10\n",
      "0.01\t0.00\t0.00\t0.00\t0.00\t0.00\t0.00\t0.00\t0.00\t0.00\t99.98\t--> 10\n",
      "0.10\t0.04\t0.87\t0.02\t0.00\t0.02\t0.02\t0.04\t0.38\t0.25\t98.26\t--> 10\n",
      "0.05\t0.16\t0.02\t0.04\t0.03\t0.03\t0.09\t0.50\t0.03\t0.29\t98.76\t--> 10\n",
      "0.02\t0.01\t0.01\t0.11\t0.01\t0.01\t0.01\t0.02\t0.03\t0.01\t99.75\t--> 10\n",
      "0.01\t0.00\t0.00\t0.00\t0.00\t0.00\t0.05\t0.01\t0.00\t0.01\t99.91\t--> 10\n",
      "0.04\t0.07\t0.00\t0.47\t0.08\t0.09\t51.55\t10.23\t0.32\t0.49\t36.67\t--> 6\n",
      "0.10\t0.02\t0.00\t0.03\t0.01\t0.01\t0.03\t0.22\t0.07\t0.02\t99.49\t--> 10\n",
      "0.20\t0.17\t0.04\t0.01\t0.00\t0.00\t0.01\t0.06\t0.01\t2.02\t97.48\t--> 10\n",
      "0.27\t0.20\t0.09\t0.26\t0.01\t0.01\t0.16\t0.03\t0.01\t1.96\t97.00\t--> 10\n",
      "0.01\t0.01\t0.00\t0.00\t0.00\t0.00\t0.00\t0.06\t0.00\t0.01\t99.91\t--> 10\n",
      "0.01\t0.01\t0.00\t0.01\t0.00\t0.00\t0.00\t0.00\t0.01\t0.04\t99.92\t--> 10\n",
      "0.00\t0.00\t0.00\t0.00\t0.00\t0.00\t0.00\t0.00\t0.00\t0.00\t99.98\t--> 10\n",
      "0.27\t0.06\t1.54\t0.08\t0.00\t0.94\t0.00\t0.03\t0.26\t0.03\t96.80\t--> 10\n",
      "0.01\t0.00\t0.00\t0.00\t0.00\t0.00\t0.00\t0.00\t0.00\t0.00\t99.99\t--> 10\n",
      "0.01\t0.00\t0.00\t0.00\t0.00\t0.00\t0.00\t0.00\t0.00\t0.00\t99.98\t--> 10\n",
      "0.01\t0.00\t0.00\t0.00\t0.00\t0.00\t0.00\t0.00\t0.00\t0.00\t99.98\t--> 10\n",
      "0.01\t0.00\t0.00\t0.00\t0.00\t0.00\t0.00\t0.00\t0.00\t0.00\t99.98\t--> 10\n",
      "0.01\t0.00\t0.00\t0.00\t0.00\t0.00\t0.00\t0.00\t0.00\t0.00\t99.98\t--> 10\n",
      "0.01\t0.00\t0.00\t0.00\t0.00\t0.00\t0.00\t0.00\t0.00\t0.00\t99.98\t--> 10\n",
      "0.01\t0.00\t0.00\t0.00\t0.00\t0.00\t0.00\t0.00\t0.00\t0.00\t99.98\t--> 10\n",
      "0.01\t0.00\t0.00\t0.00\t0.00\t0.00\t0.00\t0.00\t0.00\t0.00\t99.98\t--> 10\n",
      "0.01\t0.00\t0.00\t0.00\t0.00\t0.00\t0.00\t0.00\t0.00\t0.00\t99.98\t--> 10\n",
      "0.01\t0.00\t0.00\t0.00\t0.00\t0.00\t0.00\t0.00\t0.00\t0.00\t99.98\t--> 10\n",
      "0.01\t0.00\t0.00\t0.00\t0.00\t0.00\t0.00\t0.00\t0.00\t0.00\t99.98\t--> 10\n",
      "0.01\t0.00\t0.00\t0.00\t0.00\t0.00\t0.00\t0.00\t0.00\t0.00\t99.98\t--> 10\n",
      "0.01\t0.00\t0.00\t0.00\t0.00\t0.00\t0.00\t0.00\t0.00\t0.00\t99.98\t--> 10\n",
      "0.01\t0.00\t0.00\t0.00\t0.00\t0.00\t0.00\t0.00\t0.00\t0.00\t99.98\t--> 10\n",
      "0.01\t0.00\t0.00\t0.00\t0.00\t0.00\t0.00\t0.00\t0.00\t0.00\t99.98\t--> 10\n"
     ]
    }
   ],
   "source": [
    "print('Predicted probabilities [%] for the different exercises:\\n')\n",
    "for jj in range(np.shape(pred_prob_test)[1]):\n",
    "    print('Ex. {:d}\\t'.format(jj), end='')\n",
    "print('pred. class')\n",
    "        \n",
    "for ii in range(np.shape(pred_prob_test)[0]):\n",
    "    for jj in range(np.shape(pred_prob_test)[1]):\n",
    "        print('{:.2f}\\t'.format(pred_prob_test[ii,jj]*100), end='')\n",
    "    print('--> {:d}'.format(np.argmax(pred_prob_test[ii,:])))\n",
    "    "
   ]
  },
  {
   "cell_type": "code",
   "execution_count": 145,
   "metadata": {
    "ExecuteTime": {
     "end_time": "2019-01-17T15:36:18.565884Z",
     "start_time": "2019-01-17T15:36:18.550883Z"
    }
   },
   "outputs": [
    {
     "data": {
      "text/plain": [
       "array([ 0,  0,  0,  1,  0,  0,  1,  0,  0,  0,  0,  0,  0,  0,  0,  0,  0,\n",
       "        0,  0,  0,  0,  0,  0,  0,  0,  0,  0,  1,  0,  1,  0,  0,  1,  1,\n",
       "        0,  0,  1,  0,  1,  1,  1,  1,  1,  1,  1,  0,  0,  1,  1,  1,  1,\n",
       "        1,  1,  1,  1,  1,  1,  1,  1,  1,  2,  2,  2,  2,  2,  2,  2,  2,\n",
       "        9,  2,  2,  2,  2,  2,  2,  9,  9,  2,  2,  2,  2,  2,  9,  2,  9,\n",
       "        2,  2,  9,  2,  2,  3,  3,  3,  3,  3,  3,  3,  3,  3,  3,  3,  3,\n",
       "        3,  3,  3,  3,  3,  3,  3,  3,  3,  3,  3,  3,  3,  3,  3,  3,  3,\n",
       "        3,  4,  4,  4,  4,  4,  4,  4,  4,  4,  4,  4,  4,  4,  4,  4,  4,\n",
       "        4,  4,  4,  4,  4,  4,  4,  4,  4,  4,  4,  4,  4,  4,  4,  5,  5,\n",
       "        5,  5,  5,  5,  5,  5,  5,  5,  5,  5,  5,  5,  5,  5,  5,  5,  5,\n",
       "        5,  5,  5,  5,  5,  5,  5,  5,  5,  5,  5, 10,  6,  6,  6,  6,  6,\n",
       "        6,  6,  6, 10,  6,  6,  6,  6, 10,  6,  6,  6,  6, 10,  6,  6,  6,\n",
       "        6,  6,  6,  6,  6,  6,  6,  7,  7,  7,  7,  7,  7,  7,  7,  7,  7,\n",
       "        7,  7,  7,  7,  7,  7,  7,  7,  7,  7,  7,  7,  7,  7,  7,  7,  7,\n",
       "        7,  7,  7,  7,  8,  8,  8,  8,  8,  8,  8,  8,  8,  8,  8,  8,  8,\n",
       "        8,  8,  8,  8,  8,  8,  8,  8,  8,  8,  8,  8,  8,  8,  8,  8,  8,\n",
       "        9,  9,  9,  9,  9,  9,  2,  9,  9,  9,  9,  9,  9,  9,  9,  9,  9,\n",
       "        9,  9,  9,  9,  9,  9,  9,  9,  9,  9,  9,  9,  9, 10, 10, 10, 10,\n",
       "       10, 10, 10, 10, 10, 10, 10, 10, 10, 10, 10, 10, 10, 10, 10, 10, 10,\n",
       "       10, 10, 10, 10, 10, 10, 10, 10, 10, 10, 10, 10, 10, 10, 10, 10, 10,\n",
       "       10, 10, 10, 10, 10, 10, 10, 10, 10, 10, 10, 10, 10, 10, 10, 10, 10,\n",
       "       10, 10, 10, 10, 10, 10, 10, 10, 10, 10, 10, 10, 10, 10, 10, 10,  9,\n",
       "       10, 10, 10, 10, 10, 10, 10, 10, 10, 10, 10, 10, 10, 10, 10, 10, 10,\n",
       "       10, 10, 10, 10, 10, 10, 10, 10, 10, 10, 10, 10, 10, 10, 10, 10, 10,\n",
       "       10, 10, 10, 10, 10, 10, 10, 10, 10, 10, 10, 10, 10, 10, 10, 10, 10,\n",
       "       10, 10, 10, 10, 10, 10, 10, 10, 10, 10, 10, 10, 10, 10, 10, 10, 10,\n",
       "       10, 10, 10, 10, 10, 10, 10, 10, 10, 10, 10, 10, 10, 10, 10, 10, 10,\n",
       "       10, 10, 10, 10, 10, 10, 10, 10, 10, 10, 10, 10, 10, 10, 10, 10, 10,\n",
       "       10, 10, 10, 10, 10, 10, 10, 10, 10, 10, 10, 10, 10, 10, 10, 10, 10,\n",
       "       10, 10, 10, 10, 10, 10, 10, 10, 10, 10, 10, 10, 10, 10, 10, 10, 10,\n",
       "       10, 10, 10, 10, 10, 10, 10, 10, 10, 10, 10, 10, 10, 10, 10, 10, 10,\n",
       "       10, 10, 10, 10, 10, 10, 10, 10, 10, 10, 10, 10, 10, 10,  1, 10, 10,\n",
       "       10, 10, 10, 10, 10, 10, 10, 10, 10, 10, 10, 10, 10, 10, 10, 10, 10,\n",
       "       10, 10, 10, 10, 10, 10, 10, 10, 10, 10, 10, 10, 10, 10, 10, 10, 10,\n",
       "       10, 10, 10, 10, 10, 10, 10, 10, 10, 10, 10, 10, 10, 10, 10, 10, 10,\n",
       "       10, 10, 10, 10, 10, 10, 10, 10, 10, 10, 10, 10, 10, 10, 10, 10, 10,\n",
       "       10, 10, 10, 10, 10, 10, 10, 10, 10, 10, 10, 10, 10, 10, 10, 10, 10,\n",
       "       10, 10, 10, 10, 10, 10, 10, 10, 10, 10, 10, 10, 10, 10, 10, 10, 10,\n",
       "       10, 10, 10, 10, 10, 10, 10, 10, 10, 10, 10, 10, 10, 10, 10, 10, 10,\n",
       "       10, 10, 10, 10, 10, 10, 10, 10, 10, 10, 10, 10, 10, 10, 10, 10, 10,\n",
       "       10, 10, 10, 10, 10, 10,  6, 10, 10, 10, 10, 10, 10, 10, 10, 10, 10,\n",
       "       10, 10, 10, 10, 10, 10, 10, 10, 10, 10, 10, 10], dtype=int64)"
      ]
     },
     "execution_count": 145,
     "metadata": {},
     "output_type": "execute_result"
    }
   ],
   "source": [
    "np.argmax(pred_prob_test, axis=1)"
   ]
  },
  {
   "cell_type": "code",
   "execution_count": null,
   "metadata": {},
   "outputs": [],
   "source": []
  },
  {
   "cell_type": "markdown",
   "metadata": {},
   "source": [
    "# Use saved model"
   ]
  },
  {
   "cell_type": "code",
   "execution_count": 39,
   "metadata": {
    "ExecuteTime": {
     "end_time": "2019-01-17T13:57:24.656484Z",
     "start_time": "2019-01-17T13:57:24.464473Z"
    }
   },
   "outputs": [
    {
     "data": {
      "text/plain": [
       "(709, 48, 6)"
      ]
     },
     "execution_count": 39,
     "metadata": {},
     "output_type": "execute_result"
    }
   ],
   "source": [
    "X_testing = PD_RNN1.get_X_test()\n",
    "np.shape(X_testing)"
   ]
  },
  {
   "cell_type": "code",
   "execution_count": 40,
   "metadata": {
    "ExecuteTime": {
     "end_time": "2019-01-17T13:57:24.776491Z",
     "start_time": "2019-01-17T13:57:24.660484Z"
    }
   },
   "outputs": [],
   "source": [
    "# all sequence lengths shall now have the maximum length (--> np.shape(X_testing)[1])\n",
    "seqlens_testing =  np.full(np.shape(X_testing)[0], np.shape(X_testing)[1], dtype=np.int)"
   ]
  },
  {
   "cell_type": "code",
   "execution_count": 73,
   "metadata": {
    "ExecuteTime": {
     "end_time": "2019-01-17T14:37:12.731074Z",
     "start_time": "2019-01-17T14:37:12.187043Z"
    }
   },
   "outputs": [
    {
     "name": "stdout",
     "output_type": "stream",
     "text": [
      "INFO:tensorflow:Restoring parameters from E:/TensorFlow_saved_models/final-RNN-model/RNN-model-1\n"
     ]
    }
   ],
   "source": [
    "with tf.Session() as sess:    \n",
    "    \n",
    "    #First let's load meta graph and restore weights\n",
    "    new_saver = tf.train.import_meta_graph('E:/TensorFlow_saved_models/final-RNN-model/RNN-model-1.meta')\n",
    "    new_saver.restore(sess, 'E:/TensorFlow_saved_models/final-RNN-model/RNN-model-1')\n",
    "\n",
    "    # Now, let's access and create placeholders variables and\n",
    "    # create feed-dict to feed new data\n",
    "    graph = tf.get_default_graph()\n",
    "    inputs = graph.get_tensor_by_name('data/inputs:0')\n",
    "    seqlens = graph.get_tensor_by_name('data/seqlens:0')\n",
    "\n",
    "    # Now, access the op that you want to run. \n",
    "    pred_prob_all_states = graph.get_tensor_by_name(\"evaluation/predicted_probabilities_all_states:0\")\n",
    "\n",
    "    pred_prob_testing = sess.run(pred_prob_all_states, feed_dict={inputs: X_testing,\n",
    "                                                                  seqlens: seqlens_testing})"
   ]
  },
  {
   "cell_type": "code",
   "execution_count": 74,
   "metadata": {
    "ExecuteTime": {
     "end_time": "2019-01-17T14:37:14.653184Z",
     "start_time": "2019-01-17T14:37:14.639183Z"
    }
   },
   "outputs": [
    {
     "data": {
      "text/plain": [
       "(34032, 11)"
      ]
     },
     "execution_count": 74,
     "metadata": {},
     "output_type": "execute_result"
    }
   ],
   "source": [
    "np.shape(pred_prob_testing)"
   ]
  },
  {
   "cell_type": "code",
   "execution_count": 75,
   "metadata": {
    "ExecuteTime": {
     "end_time": "2019-01-17T14:37:15.786249Z",
     "start_time": "2019-01-17T14:37:15.772248Z"
    }
   },
   "outputs": [
    {
     "data": {
      "text/plain": [
       "array([3.80499698e-02, 1.22200195e-02, 6.16567559e-04, 5.53880178e-04,\n",
       "       2.68821866e-04, 2.68907053e-04, 2.92652781e-04, 2.41929709e-04,\n",
       "       1.72525197e-05, 7.59619434e-06, 6.03745830e-05, 1.92052824e-03,\n",
       "       2.88428110e-03, 2.42483132e-02, 4.06622142e-02, 5.21443300e-02,\n",
       "       1.30178377e-01, 2.60882884e-01, 2.87981600e-01, 3.81555885e-01,\n",
       "       4.70835745e-01, 4.84242320e-01, 6.68820977e-01, 7.47421682e-01,\n",
       "       7.74842739e-01, 7.93977320e-01, 8.24031115e-01, 8.42602909e-01,\n",
       "       8.44010711e-01, 8.27647269e-01, 7.95118630e-01, 7.47814536e-01,\n",
       "       6.85760736e-01, 6.13145173e-01, 5.40846467e-01, 4.69742984e-01,\n",
       "       3.94828558e-01, 3.08708042e-01, 2.23187864e-01, 1.63251758e-01,\n",
       "       1.27370000e-01, 1.07733838e-01, 9.65530127e-02, 8.93531889e-02,\n",
       "       8.44954029e-02, 8.11119080e-02, 7.86744505e-02, 7.68852159e-02],\n",
       "      dtype=float32)"
      ]
     },
     "execution_count": 75,
     "metadata": {},
     "output_type": "execute_result"
    }
   ],
   "source": [
    "pred_prob_testing[0:48,0]"
   ]
  },
  {
   "cell_type": "code",
   "execution_count": 76,
   "metadata": {
    "ExecuteTime": {
     "end_time": "2019-01-17T14:37:17.878369Z",
     "start_time": "2019-01-17T14:37:17.866368Z"
    }
   },
   "outputs": [
    {
     "data": {
      "text/plain": [
       "array([3.80499698e-02, 1.22200195e-02, 6.16567559e-04, 5.53880178e-04,\n",
       "       2.68821866e-04, 2.68907053e-04, 2.92652781e-04, 2.41929709e-04,\n",
       "       1.72525197e-05, 7.59619434e-06, 6.03745830e-05, 1.92052824e-03,\n",
       "       2.88428110e-03, 2.42483132e-02, 4.06622142e-02, 5.21443300e-02,\n",
       "       1.30178377e-01, 2.60882884e-01, 2.87981600e-01, 3.81555885e-01,\n",
       "       4.70835745e-01, 8.63881186e-02, 8.63881186e-02, 8.63881186e-02,\n",
       "       8.63881186e-02, 8.63881186e-02, 8.63881186e-02, 8.63881186e-02,\n",
       "       8.63881186e-02, 8.63881186e-02, 8.63881186e-02, 8.63881186e-02,\n",
       "       8.63881186e-02, 8.63881186e-02, 8.63881186e-02, 8.63881186e-02,\n",
       "       8.63881186e-02, 8.63881186e-02, 8.63881186e-02, 8.63881186e-02,\n",
       "       8.63881186e-02, 8.63881186e-02, 8.63881186e-02, 8.63881186e-02,\n",
       "       8.63881186e-02, 8.63881186e-02, 8.63881186e-02, 8.63881186e-02],\n",
       "      dtype=float32)"
      ]
     },
     "execution_count": 76,
     "metadata": {},
     "output_type": "execute_result"
    }
   ],
   "source": [
    "pred_prob_test_all[0:48,0] "
   ]
  },
  {
   "cell_type": "code",
   "execution_count": 77,
   "metadata": {
    "ExecuteTime": {
     "end_time": "2019-01-17T14:37:18.645412Z",
     "start_time": "2019-01-17T14:37:18.632412Z"
    }
   },
   "outputs": [
    {
     "data": {
      "text/plain": [
       "0.47083575"
      ]
     },
     "execution_count": 77,
     "metadata": {},
     "output_type": "execute_result"
    }
   ],
   "source": [
    "pred_prob_testing[20,0]"
   ]
  },
  {
   "cell_type": "code",
   "execution_count": 78,
   "metadata": {
    "ExecuteTime": {
     "end_time": "2019-01-17T14:37:19.260448Z",
     "start_time": "2019-01-17T14:37:19.245447Z"
    }
   },
   "outputs": [
    {
     "data": {
      "text/plain": [
       "0.47083575"
      ]
     },
     "execution_count": 78,
     "metadata": {},
     "output_type": "execute_result"
    }
   ],
   "source": [
    "pred_prob_test_all[20,0] "
   ]
  },
  {
   "cell_type": "code",
   "execution_count": null,
   "metadata": {},
   "outputs": [],
   "source": []
  },
  {
   "cell_type": "code",
   "execution_count": null,
   "metadata": {},
   "outputs": [],
   "source": []
  },
  {
   "cell_type": "code",
   "execution_count": 79,
   "metadata": {
    "ExecuteTime": {
     "end_time": "2019-01-17T14:37:21.854596Z",
     "start_time": "2019-01-17T14:37:21.841595Z"
    }
   },
   "outputs": [
    {
     "data": {
      "text/plain": [
       "48"
      ]
     },
     "execution_count": 79,
     "metadata": {},
     "output_type": "execute_result"
    }
   ],
   "source": [
    "np.shape(X_testing)[1]"
   ]
  },
  {
   "cell_type": "code",
   "execution_count": 80,
   "metadata": {
    "ExecuteTime": {
     "end_time": "2019-01-17T14:37:22.438629Z",
     "start_time": "2019-01-17T14:37:22.433629Z"
    }
   },
   "outputs": [],
   "source": [
    "pred_prob_testing_reshape = np.reshape(pred_prob_testing, (-1, np.shape(X_testing)[1], 11))"
   ]
  },
  {
   "cell_type": "code",
   "execution_count": 82,
   "metadata": {
    "ExecuteTime": {
     "end_time": "2019-01-17T14:37:44.899914Z",
     "start_time": "2019-01-17T14:37:44.877913Z"
    }
   },
   "outputs": [
    {
     "data": {
      "text/plain": [
       "array([3.80499698e-02, 1.22200195e-02, 6.16567559e-04, 5.53880178e-04,\n",
       "       2.68821866e-04, 2.68907053e-04, 2.92652781e-04, 2.41929709e-04,\n",
       "       1.72525197e-05, 7.59619434e-06, 6.03745830e-05, 1.92052824e-03,\n",
       "       2.88428110e-03, 2.42483132e-02, 4.06622142e-02, 5.21443300e-02,\n",
       "       1.30178377e-01, 2.60882884e-01, 2.87981600e-01, 3.81555885e-01,\n",
       "       4.70835745e-01, 4.84242320e-01, 6.68820977e-01, 7.47421682e-01,\n",
       "       7.74842739e-01, 7.93977320e-01, 8.24031115e-01, 8.42602909e-01,\n",
       "       8.44010711e-01, 8.27647269e-01, 7.95118630e-01, 7.47814536e-01,\n",
       "       6.85760736e-01, 6.13145173e-01, 5.40846467e-01, 4.69742984e-01,\n",
       "       3.94828558e-01, 3.08708042e-01, 2.23187864e-01, 1.63251758e-01,\n",
       "       1.27370000e-01, 1.07733838e-01, 9.65530127e-02, 8.93531889e-02,\n",
       "       8.44954029e-02, 8.11119080e-02, 7.86744505e-02, 7.68852159e-02],\n",
       "      dtype=float32)"
      ]
     },
     "execution_count": 82,
     "metadata": {},
     "output_type": "execute_result"
    }
   ],
   "source": [
    "# probabilities of first data point, all time steps and first class (0: 'RF')\n",
    "pred_prob_testing_reshape[0,:,0]"
   ]
  },
  {
   "cell_type": "code",
   "execution_count": null,
   "metadata": {},
   "outputs": [],
   "source": []
  },
  {
   "cell_type": "code",
   "execution_count": null,
   "metadata": {},
   "outputs": [],
   "source": []
  },
  {
   "cell_type": "markdown",
   "metadata": {},
   "source": [
    "## Classification of a whole record"
   ]
  },
  {
   "cell_type": "code",
   "execution_count": 146,
   "metadata": {
    "ExecuteTime": {
     "end_time": "2019-01-17T15:36:34.778812Z",
     "start_time": "2019-01-17T15:36:33.354730Z"
    }
   },
   "outputs": [],
   "source": [
    "# define the test subject\n",
    "test_data_subject = 1\n",
    "\n",
    "test_subject_dir  = r'E:\\Physio_Data\\Subject_{:02}'.format(test_data_subject)\n",
    "test_subject_file = 'subject{:02}.csv'.format(test_data_subject)\n",
    "test_subject_path = os.path.join(test_subject_dir, test_subject_file)\n",
    "\n",
    "\n",
    "# signal names\n",
    "signal_abbrs = ['Acc','Gyr']\n",
    "\n",
    "# filter properties according to Crema\n",
    "cutoff = 10 # [Hz]\n",
    "order = 6 # butterworth order\n",
    "\n",
    "sampling_rate = 256 # [Hz]\n",
    "\n",
    "# get data from selected file\n",
    "sensor_data = fmpm.get_sensor_data(in_file=test_subject_path,\n",
    "                                   signals=signal_abbrs,\n",
    "                                   sampling_rate=sampling_rate)\n",
    "\n",
    "# filter data with butterworth filter and save to new dictionary\n",
    "sensor_data_filt = {}\n",
    "for signal in signal_abbrs:\n",
    "    sensor_data_filt[signal] = fmpm.butter_lowpass_filter(sensor_data[signal], \n",
    "                                                          cutoff=cutoff, \n",
    "                                                          fs=sampling_rate, \n",
    "                                                          order=order)"
   ]
  },
  {
   "cell_type": "markdown",
   "metadata": {},
   "source": [
    "### Down sampling"
   ]
  },
  {
   "cell_type": "code",
   "execution_count": 147,
   "metadata": {
    "ExecuteTime": {
     "end_time": "2019-01-17T15:36:38.655033Z",
     "start_time": "2019-01-17T15:36:38.631032Z"
    }
   },
   "outputs": [],
   "source": [
    "new_sampling_rate = 8 # [Hz]\n",
    "\n",
    "# sampling rate ratio of original and new sampling rate (e.g. if ratio = 32 --> take every 32nd index)\n",
    "sampling_rate_ratio = sampling_rate / new_sampling_rate\n",
    "\n",
    "\n",
    "# start and stop indices of current data point (current repetition block)\n",
    "start_idx = 0\n",
    "# all signal columns must have the same length\n",
    "stop_idx = len(sensor_data_filt[signal_abbrs[0]][:,0])\n",
    "\n",
    "# consider the new sampling rate for signal data selection\n",
    "new_indices = np.arange(start_idx, stop_idx, sampling_rate_ratio).round().astype(int)\n",
    "\n",
    "sensor_data_newHz = {}\n",
    "for signal in signal_abbrs:\n",
    "    sensor_data_newHz[signal] = sensor_data_filt[signal][new_indices,:]"
   ]
  },
  {
   "cell_type": "code",
   "execution_count": 148,
   "metadata": {
    "ExecuteTime": {
     "end_time": "2019-01-17T15:36:40.047113Z",
     "start_time": "2019-01-17T15:36:40.030112Z"
    }
   },
   "outputs": [
    {
     "data": {
      "text/plain": [
       "(16079, 3)"
      ]
     },
     "execution_count": 148,
     "metadata": {},
     "output_type": "execute_result"
    }
   ],
   "source": [
    "np.shape(sensor_data_newHz['Acc'])"
   ]
  },
  {
   "cell_type": "markdown",
   "metadata": {},
   "source": [
    "### Tensor with windowed data"
   ]
  },
  {
   "cell_type": "code",
   "execution_count": 149,
   "metadata": {
    "ExecuteTime": {
     "end_time": "2019-01-17T15:36:41.176178Z",
     "start_time": "2019-01-17T15:36:41.061171Z"
    }
   },
   "outputs": [
    {
     "data": {
      "text/plain": [
       "(16032, 48, 6)"
      ]
     },
     "execution_count": 149,
     "metadata": {},
     "output_type": "execute_result"
    }
   ],
   "source": [
    "max_seq_len = 48 # --> 6s * 8Hz\n",
    "num_signals = 6 # Acc, Gyr --> y, x, z\n",
    "\n",
    "data_len = np.shape(sensor_data_newHz['Acc'])[0]\n",
    "num_data_points = data_len - max_seq_len + 1 # number of data points after windowing\n",
    "\n",
    "Tensor_win = np.zeros((num_data_points, max_seq_len, num_signals))\n",
    "\n",
    "for ii in range(num_data_points):\n",
    "    Tensor_win[ii,:,0:3] = sensor_data_newHz['Acc'][ii:ii+max_seq_len, :] # corresponding acc. values \n",
    "    Tensor_win[ii,:,3:6] = sensor_data_newHz['Gyr'][ii:ii+max_seq_len, :] # corresponding ang. vel. values\n",
    "    \n",
    "np.shape(Tensor_win)"
   ]
  },
  {
   "cell_type": "markdown",
   "metadata": {},
   "source": [
    "### Predict probabilities with RNN"
   ]
  },
  {
   "cell_type": "code",
   "execution_count": 150,
   "metadata": {
    "ExecuteTime": {
     "end_time": "2019-01-17T15:36:50.093688Z",
     "start_time": "2019-01-17T15:36:43.665320Z"
    }
   },
   "outputs": [
    {
     "name": "stdout",
     "output_type": "stream",
     "text": [
      "INFO:tensorflow:Restoring parameters from E:/TensorFlow_saved_models/final-RNN-model/RNN-model-1\n"
     ]
    }
   ],
   "source": [
    "# all sequence lengths shall now have the maximum length (--> np.shape(Tensor_win)[1])\n",
    "seqlens_win =  np.full(np.shape(Tensor_win)[0], np.shape(Tensor_win)[1], dtype=np.int)\n",
    "\n",
    "with tf.Session() as sess:    \n",
    "    \n",
    "    #First let's load meta graph and restore weights\n",
    "    new_saver = tf.train.import_meta_graph('E:/TensorFlow_saved_models/final-RNN-model/RNN-model-1.meta')\n",
    "    new_saver.restore(sess, 'E:/TensorFlow_saved_models/final-RNN-model/RNN-model-1')\n",
    "\n",
    "    # Now, let's access and create placeholders variables and\n",
    "    # create feed-dict to feed new data\n",
    "    graph = tf.get_default_graph()\n",
    "    inputs = graph.get_tensor_by_name('data/inputs:0')\n",
    "    seqlens = graph.get_tensor_by_name('data/seqlens:0')\n",
    "\n",
    "    # Now, access the op that you want to run. \n",
    "    pred_prob_all_states = graph.get_tensor_by_name(\"evaluation/predicted_probabilities_all_states:0\")\n",
    "\n",
    "    pred_prob_win = sess.run(pred_prob_all_states, feed_dict={inputs: Tensor_win,\n",
    "                                                              seqlens: seqlens_win})"
   ]
  },
  {
   "cell_type": "code",
   "execution_count": 151,
   "metadata": {
    "ExecuteTime": {
     "end_time": "2019-01-17T15:36:51.874789Z",
     "start_time": "2019-01-17T15:36:51.867789Z"
    }
   },
   "outputs": [
    {
     "data": {
      "text/plain": [
       "(769536, 11)"
      ]
     },
     "execution_count": 151,
     "metadata": {},
     "output_type": "execute_result"
    }
   ],
   "source": [
    "np.shape(pred_prob_win)"
   ]
  },
  {
   "cell_type": "code",
   "execution_count": 152,
   "metadata": {
    "ExecuteTime": {
     "end_time": "2019-01-17T15:36:52.745839Z",
     "start_time": "2019-01-17T15:36:52.738839Z"
    }
   },
   "outputs": [],
   "source": [
    "ex_dict = {0:'RF',1:'RO',2:'RS',3:'LR',4:'BC',5:'TC',6:'MP',7:'SA',8:'P1',9:'P2',10:'NE'}\n",
    "\n",
    "pred_prob_win_dict = {}\n",
    "for ii in range(len(ex_dict)):\n",
    "    pred_prob_win_dict[ex_dict[ii]] = pred_prob_win[:,ii].reshape(-1,max_seq_len)"
   ]
  },
  {
   "cell_type": "code",
   "execution_count": 153,
   "metadata": {
    "ExecuteTime": {
     "end_time": "2019-01-17T15:36:53.740896Z",
     "start_time": "2019-01-17T15:36:53.721895Z"
    }
   },
   "outputs": [
    {
     "data": {
      "text/plain": [
       "(16032, 48)"
      ]
     },
     "execution_count": 153,
     "metadata": {},
     "output_type": "execute_result"
    }
   ],
   "source": [
    "np.shape(pred_prob_win_dict['RF'])"
   ]
  },
  {
   "cell_type": "markdown",
   "metadata": {},
   "source": [
    "### Plot the predicted probabilities"
   ]
  },
  {
   "cell_type": "code",
   "execution_count": 154,
   "metadata": {
    "ExecuteTime": {
     "end_time": "2019-01-17T15:37:20.582431Z",
     "start_time": "2019-01-17T15:37:20.543429Z"
    }
   },
   "outputs": [
    {
     "data": {
      "text/html": [
       "<div>\n",
       "<style>\n",
       "    .dataframe thead tr:only-child th {\n",
       "        text-align: right;\n",
       "    }\n",
       "\n",
       "    .dataframe thead th {\n",
       "        text-align: left;\n",
       "    }\n",
       "\n",
       "    .dataframe tbody tr th {\n",
       "        vertical-align: top;\n",
       "    }\n",
       "</style>\n",
       "<table border=\"1\" class=\"dataframe\">\n",
       "  <thead>\n",
       "    <tr style=\"text-align: right;\">\n",
       "      <th></th>\n",
       "      <th>0</th>\n",
       "      <th>1</th>\n",
       "      <th>2</th>\n",
       "      <th>3</th>\n",
       "      <th>4</th>\n",
       "      <th>5</th>\n",
       "      <th>6</th>\n",
       "      <th>7</th>\n",
       "      <th>8</th>\n",
       "      <th>9</th>\n",
       "    </tr>\n",
       "  </thead>\n",
       "  <tbody>\n",
       "    <tr>\n",
       "      <th>0</th>\n",
       "      <td>Raises Oblique</td>\n",
       "      <td>15</td>\n",
       "      <td>5</td>\n",
       "      <td>10</td>\n",
       "      <td>01:18.6</td>\n",
       "      <td>01:58.3</td>\n",
       "      <td>02:22.1</td>\n",
       "      <td>02:37.1</td>\n",
       "      <td>02:54.8</td>\n",
       "      <td>03:23.3</td>\n",
       "    </tr>\n",
       "    <tr>\n",
       "      <th>1</th>\n",
       "      <td>PNF Diagonal 2</td>\n",
       "      <td>10</td>\n",
       "      <td>5</td>\n",
       "      <td>15</td>\n",
       "      <td>04:27.1</td>\n",
       "      <td>04:54.3</td>\n",
       "      <td>05:24.5</td>\n",
       "      <td>05:38.9</td>\n",
       "      <td>06:25.8</td>\n",
       "      <td>07:05.1</td>\n",
       "    </tr>\n",
       "    <tr>\n",
       "      <th>2</th>\n",
       "      <td>Triceps Curls</td>\n",
       "      <td>15</td>\n",
       "      <td>5</td>\n",
       "      <td>10</td>\n",
       "      <td>07:32.3</td>\n",
       "      <td>08:14.8</td>\n",
       "      <td>08:49.5</td>\n",
       "      <td>09:04.9</td>\n",
       "      <td>09:46.1</td>\n",
       "      <td>10:12.6</td>\n",
       "    </tr>\n",
       "    <tr>\n",
       "      <th>3</th>\n",
       "      <td>Rotation Wrist</td>\n",
       "      <td>5</td>\n",
       "      <td>10</td>\n",
       "      <td>15</td>\n",
       "      <td>10:43.1</td>\n",
       "      <td>10:57.3</td>\n",
       "      <td>11:25.6</td>\n",
       "      <td>11:51.8</td>\n",
       "      <td>12:12.1</td>\n",
       "      <td>12:52.4</td>\n",
       "    </tr>\n",
       "    <tr>\n",
       "      <th>4</th>\n",
       "      <td>Raises Front</td>\n",
       "      <td>10</td>\n",
       "      <td>15</td>\n",
       "      <td>5</td>\n",
       "      <td>13:44.8</td>\n",
       "      <td>14:14</td>\n",
       "      <td>14:40.6</td>\n",
       "      <td>15:20</td>\n",
       "      <td>16:09.5</td>\n",
       "      <td>16:23.1</td>\n",
       "    </tr>\n",
       "    <tr>\n",
       "      <th>5</th>\n",
       "      <td>Biceps Curls</td>\n",
       "      <td>15</td>\n",
       "      <td>10</td>\n",
       "      <td>5</td>\n",
       "      <td>16:50.8</td>\n",
       "      <td>17:30.2</td>\n",
       "      <td>18:01.3</td>\n",
       "      <td>18:32.2</td>\n",
       "      <td>18:58.6</td>\n",
       "      <td>19:12</td>\n",
       "    </tr>\n",
       "    <tr>\n",
       "      <th>6</th>\n",
       "      <td>Raises Side</td>\n",
       "      <td>15</td>\n",
       "      <td>5</td>\n",
       "      <td>10</td>\n",
       "      <td>20:13</td>\n",
       "      <td>21:00.2</td>\n",
       "      <td>21:24.9</td>\n",
       "      <td>21:40.2</td>\n",
       "      <td>22:09.6</td>\n",
       "      <td>22:38.4</td>\n",
       "    </tr>\n",
       "    <tr>\n",
       "      <th>7</th>\n",
       "      <td>PNF Diagonal 1</td>\n",
       "      <td>10</td>\n",
       "      <td>15</td>\n",
       "      <td>5</td>\n",
       "      <td>23:43.9</td>\n",
       "      <td>24:15.9</td>\n",
       "      <td>24:42</td>\n",
       "      <td>25:25.1</td>\n",
       "      <td>25:48.7</td>\n",
       "      <td>26:04.6</td>\n",
       "    </tr>\n",
       "    <tr>\n",
       "      <th>8</th>\n",
       "      <td>Shoulder Adduct.</td>\n",
       "      <td>5</td>\n",
       "      <td>15</td>\n",
       "      <td>10</td>\n",
       "      <td>26:48.5</td>\n",
       "      <td>27:05.3</td>\n",
       "      <td>27:25.4</td>\n",
       "      <td>28:16.5</td>\n",
       "      <td>28:41.2</td>\n",
       "      <td>29:10.9</td>\n",
       "    </tr>\n",
       "    <tr>\n",
       "      <th>9</th>\n",
       "      <td>Military Press</td>\n",
       "      <td>15</td>\n",
       "      <td>10</td>\n",
       "      <td>5</td>\n",
       "      <td>29:45.6</td>\n",
       "      <td>30:37.4</td>\n",
       "      <td>31:14.6</td>\n",
       "      <td>31:47.3</td>\n",
       "      <td>32:13.6</td>\n",
       "      <td>32:28.1</td>\n",
       "    </tr>\n",
       "  </tbody>\n",
       "</table>\n",
       "</div>"
      ],
      "text/plain": [
       "                  0   1   2   3        4        5        6        7        8  \\\n",
       "0    Raises Oblique  15   5  10  01:18.6  01:58.3  02:22.1  02:37.1  02:54.8   \n",
       "1    PNF Diagonal 2  10   5  15  04:27.1  04:54.3  05:24.5  05:38.9  06:25.8   \n",
       "2     Triceps Curls  15   5  10  07:32.3  08:14.8  08:49.5  09:04.9  09:46.1   \n",
       "3    Rotation Wrist   5  10  15  10:43.1  10:57.3  11:25.6  11:51.8  12:12.1   \n",
       "4      Raises Front  10  15   5  13:44.8    14:14  14:40.6    15:20  16:09.5   \n",
       "5      Biceps Curls  15  10   5  16:50.8  17:30.2  18:01.3  18:32.2  18:58.6   \n",
       "6       Raises Side  15   5  10    20:13  21:00.2  21:24.9  21:40.2  22:09.6   \n",
       "7    PNF Diagonal 1  10  15   5  23:43.9  24:15.9    24:42  25:25.1  25:48.7   \n",
       "8  Shoulder Adduct.   5  15  10  26:48.5  27:05.3  27:25.4  28:16.5  28:41.2   \n",
       "9    Military Press  15  10   5  29:45.6  30:37.4  31:14.6  31:47.3  32:13.6   \n",
       "\n",
       "         9  \n",
       "0  03:23.3  \n",
       "1  07:05.1  \n",
       "2  10:12.6  \n",
       "3  12:52.4  \n",
       "4  16:23.1  \n",
       "5    19:12  \n",
       "6  22:38.4  \n",
       "7  26:04.6  \n",
       "8  29:10.9  \n",
       "9  32:28.1  "
      ]
     },
     "execution_count": 154,
     "metadata": {},
     "output_type": "execute_result"
    }
   ],
   "source": [
    "# loading the actual time ranges of the exercises of the test data for the subsequent plot \n",
    "# to compare with predicted values\n",
    "\n",
    "# select file with timetable (csv) of the test subject\n",
    "timetable_file_dir = r'E:\\Physio_Data\\Exercise_time_tables'\n",
    "timetable_file_name = 'Timetable_subject{:02}.txt'.format(test_data_subject)\n",
    "timetable_data_path = os.path.join(timetable_file_dir, timetable_file_name)\n",
    "\n",
    "# read in time table\n",
    "timetable_data = pd.read_csv(timetable_data_path, skiprows=0, sep='\\t', header=None)\n",
    "num_exercises = timetable_data.shape[0] # number of exercises\n",
    "timetable_data"
   ]
  },
  {
   "cell_type": "code",
   "execution_count": 155,
   "metadata": {
    "ExecuteTime": {
     "end_time": "2019-01-17T15:37:23.131577Z",
     "start_time": "2019-01-17T15:37:23.123577Z"
    }
   },
   "outputs": [],
   "source": [
    "# function to convert indices to time strings\n",
    "def indices_to_time(start_index, stop_index):\n",
    "    '''\n",
    "    Function convert indices to time string.\n",
    "    !! Global variables are used !!\n",
    "    \n",
    "    Parameters\n",
    "    ----------\n",
    "    start_index : int\n",
    "        \n",
    "    stop_index : int\n",
    "    \n",
    "    Returns\n",
    "    -------\n",
    "    str\n",
    "        String with start and stop time (e.g. '14:39.6 - 15:19.4').\n",
    "    '''\n",
    "    start_time_text = '{0:02}:{1:04.1f}'.format(int(start_index/new_sampling_rate/60), \n",
    "                                               (start_index/new_sampling_rate)%60)\n",
    "    stop_time_text = '{0:02}:{1:04.1f}'.format(int(stop_index/new_sampling_rate/60), \n",
    "                                               (stop_index/new_sampling_rate)%60)\n",
    "    return start_time_text + ' - ' + stop_time_text"
   ]
  },
  {
   "cell_type": "code",
   "execution_count": 156,
   "metadata": {
    "ExecuteTime": {
     "end_time": "2019-01-17T15:37:25.156693Z",
     "start_time": "2019-01-17T15:37:24.046630Z"
    }
   },
   "outputs": [
    {
     "name": "stdout",
     "output_type": "stream",
     "text": [
      "Using matplotlib backend: TkAgg\n"
     ]
    }
   ],
   "source": [
    "%matplotlib auto\n",
    "\n",
    "# text for current subject\n",
    "sub_text = 'Subject {}\\n'.format(test_data_subject)\n",
    "\n",
    "yticks = np.arange(0, max_seq_len)[::10]\n",
    "\n",
    "ylabels = np.arange(1, max_seq_len+1)/new_sampling_rate\n",
    "ylabels = ylabels[::10]\n",
    "\n",
    "fig, axis = plt.subplots(12,1,figsize=(18,9), sharex=True)\n",
    "\n",
    "# image color settings for RFC probabilities\n",
    "cmap = plt.cm.seismic\n",
    "vmin=0\n",
    "vmax=1\n",
    "\n",
    "exercise_abbrs = [ex_dict[ii] for ii in range(len(ex_dict))]\n",
    "\n",
    "for ax, ex in zip(axis, exercise_abbrs):\n",
    "    s = ax.imshow(pred_prob_win_dict[ex].transpose(), interpolation='nearest', \n",
    "                  aspect='auto', cmap=cmap, vmin=vmin, vmax=vmax)\n",
    "    ax.invert_yaxis()\n",
    "    ax.set_yticks(yticks)\n",
    "    ax.set_yticklabels(ylabels, fontsize=7)\n",
    "    ax.set_ylabel(ex, rotation=0, fontsize=13)\n",
    "    ax.yaxis.labelpad = 34\n",
    "    ax.xaxis.set_ticklabels([])\n",
    "\n",
    "    \n",
    "plt.gcf().text(0.09, 0.6, r'sequence length $[s]$', fontsize=10, rotation=90)\n",
    "# plt.gcf().text(0.078, 0.6, r'window length $[s]$', fontsize=10, rotation=90) # for half the window size\n",
    "\n",
    "#axis[-1].plot(range(num_start_points), np.zeros(num_start_points), 'k', alpha=0.0)\n",
    "formatter = FuncFormatter(lambda i, x: time.strftime('%M:%S', time.gmtime(i/new_sampling_rate)))\n",
    "axis[-1].xaxis.set_major_formatter(formatter)\n",
    "axis[-1].set_xlabel(r'time $[min:sec]$', fontsize=13)\n",
    "axis[-1].set_yticks([])\n",
    "axis[-1].set_ylim([0,1])\n",
    "\n",
    "fig.subplots_adjust(bottom=0.2, right=0.9) # make space for buttons and color bar\n",
    "cbar_ax = fig.add_axes([0.93, 0.255, 0.01, 0.625])\n",
    "fig.colorbar(s, cax=cbar_ax)\n",
    "\n",
    "# add slider for selections on the x axis\n",
    "Slider_shiftX_ax = plt.axes([0.125, 0.07, 0.775, 0.025])\n",
    "Slider_zoomX_ax = plt.axes([0.125, 0.035, 0.775, 0.025])\n",
    "\n",
    "axcolor = 'cornflowerblue'\n",
    "Slider_shiftX = Slider(Slider_shiftX_ax, 'time shift [%]', 0.0, 100.0, valinit=0, facecolor=axcolor)\n",
    "Slider_zoomX = Slider(Slider_zoomX_ax, 'time scale [%]', 0.1, 100.0, valinit=100, facecolor=axcolor)\n",
    "Slider_zoomX_ax.xaxis.set_visible(True)\n",
    "Slider_zoomX_ax.set_xticks(np.arange(0,105,5)) \n",
    "\n",
    "def updateX(val):\n",
    "    start_index = int(Slider_shiftX.val / 100 * num_data_points)\n",
    "    stop_index = start_index + Slider_zoomX.val / 100 * num_data_points\n",
    "    axis[-1].set_xlim((start_index, stop_index))\n",
    "    fig.suptitle('Predicted Probabilities ' + sub_text + indices_to_time(start_index, stop_index), fontsize=20)\n",
    "    plt.draw()\n",
    "\n",
    "Slider_shiftX.on_changed(updateX)\n",
    "Slider_zoomX.on_changed(updateX)\n",
    "\n",
    "# add button to reset view\n",
    "def resetX(val):\n",
    "    start_index = 0\n",
    "    stop_index = num_data_points\n",
    "    axis[-1].set_xlim((start_index, stop_index))\n",
    "    Slider_shiftX.reset()\n",
    "    Slider_zoomX.reset()\n",
    "    fig.suptitle('Predicted Probabilities ' + sub_text + indices_to_time(start_index, stop_index), fontsize=20)\n",
    "    plt.draw()\n",
    "\n",
    "Button_resetX_ax = plt.axes([0.85, 0.12, 0.05, 0.03])\n",
    "Button_resetX = Button(Button_resetX_ax, 'Reset view')\n",
    "Button_resetX.on_clicked(resetX)\n",
    "\n",
    "start_index = 0\n",
    "stop_index = num_data_points\n",
    "\n",
    "fig.suptitle('Predicted Probabilities ' + sub_text + indices_to_time(start_index, stop_index), fontsize=20)\n",
    "\n",
    "axis[-1].set_xlim(0, num_data_points)\n",
    "\n",
    "\n",
    "# Plotting the actual classes (exercises) on the last axis:\n",
    "\n",
    "# dictionary to get exercise abbreviations from exercise names in timetable\n",
    "exercise_names = {'Raises Front':'RF',\n",
    "                  'Raises Oblique':'RO',\n",
    "                  'Raises Side':'RS',\n",
    "                  'Rotation Wrist':'LR',\n",
    "                  'Biceps Curls':'BC',\n",
    "                  'Triceps Curls':'TC',\n",
    "                  'Military Press':'MP',\n",
    "                  'Shoulder Adduct.':'SA',\n",
    "                  'PNF Diagonal 1':'P1',\n",
    "                  'PNF Diagonal 2':'P2'}\n",
    "\n",
    "# going through all exercises in the timetable\n",
    "for ii, ex_name in enumerate(timetable_data.values[:,0]):\n",
    "    \n",
    "    # going through all repetition blocks in the timetable (5, 10 and 15 rep. blocks)\n",
    "    for rep_col, start_col, stop_col in zip([1,2,3],[4,6,8],[5,7,9]): # corresponding columns\n",
    "        rep_num = timetable_data.values[ii,rep_col]\n",
    "        left_border = fmpm.convert_time_format_to_index(timetable_data.values[ii,start_col], \n",
    "                                                        sampling_rate=new_sampling_rate)\n",
    "        right_border = fmpm.convert_time_format_to_index(timetable_data.values[ii,stop_col], \n",
    "                                                         sampling_rate=new_sampling_rate)\n",
    "        # mark the corresponding area\n",
    "        axis[-1].axvspan(left_border, right_border, color='y', alpha=0.3, lw=0)\n",
    "        # write text to the corresponding area\n",
    "        x_center = left_border + (right_border-left_border)/2 # x center of marked area\n",
    "        axis[-1].text(x_center, 0.5, str(rep_num) + '\\n' + exercise_names[ex_name], \n",
    "                      horizontalalignment='center', verticalalignment='center', fontsize=10, clip_on=True)\n",
    "        \n",
    "axis[-1].set_ylabel('Actual classes', rotation=0, fontsize=11)\n",
    "axis[-1].yaxis.labelpad = 50\n",
    "\n",
    "plt.show()"
   ]
  },
  {
   "cell_type": "code",
   "execution_count": null,
   "metadata": {},
   "outputs": [],
   "source": []
  },
  {
   "cell_type": "code",
   "execution_count": null,
   "metadata": {},
   "outputs": [],
   "source": []
  },
  {
   "cell_type": "code",
   "execution_count": null,
   "metadata": {},
   "outputs": [],
   "source": []
  }
 ],
 "metadata": {
  "kernelspec": {
   "display_name": "Python 3",
   "language": "python",
   "name": "python3"
  },
  "language_info": {
   "codemirror_mode": {
    "name": "ipython",
    "version": 3
   },
   "file_extension": ".py",
   "mimetype": "text/x-python",
   "name": "python",
   "nbconvert_exporter": "python",
   "pygments_lexer": "ipython3",
   "version": "3.6.2"
  },
  "toc": {
   "base_numbering": 1,
   "nav_menu": {},
   "number_sections": true,
   "sideBar": true,
   "skip_h1_title": false,
   "title_cell": "Table of Contents",
   "title_sidebar": "Contents",
   "toc_cell": false,
   "toc_position": {},
   "toc_section_display": true,
   "toc_window_display": true
  }
 },
 "nbformat": 4,
 "nbformat_minor": 2
}
