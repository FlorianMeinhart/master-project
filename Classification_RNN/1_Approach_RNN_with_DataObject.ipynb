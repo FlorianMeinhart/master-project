{
 "cells": [
  {
   "cell_type": "markdown",
   "metadata": {},
   "source": [
    "# First Approach - Recurrent Neural Network"
   ]
  },
  {
   "cell_type": "code",
   "execution_count": 1,
   "metadata": {
    "ExecuteTime": {
     "end_time": "2019-01-31T13:34:37.936477Z",
     "start_time": "2019-01-31T13:34:19.476422Z"
    }
   },
   "outputs": [],
   "source": [
    "from IPython.display import clear_output\n",
    "from pivottablejs import pivot_ui\n",
    "from datetime import datetime\n",
    "import matplotlib.pyplot as plt\n",
    "from matplotlib.ticker import FuncFormatter\n",
    "from matplotlib.widgets import Slider, TextBox, Button\n",
    "import sqlite3\n",
    "import time\n",
    "import pandas as pd\n",
    "import numpy as np\n",
    "import os\n",
    "\n",
    "import sys\n",
    "sys.path.append('..') # in order to import modules from my own package\n",
    "from packageMeinhart import functionsMasterProjectMeinhart as fmpm\n",
    "from packageMeinhart.functionsMasterProjectMeinhart import print_precision_recall_accuracy\n",
    "from packageMeinhart.functionsMasterProjectMeinhart import print_misclassified_data_points\n"
   ]
  },
  {
   "cell_type": "markdown",
   "metadata": {},
   "source": [
    "## Class to handle data for RNN"
   ]
  },
  {
   "cell_type": "code",
   "execution_count": 2,
   "metadata": {
    "ExecuteTime": {
     "end_time": "2019-01-31T13:34:37.976480Z",
     "start_time": "2019-01-31T13:34:37.940478Z"
    }
   },
   "outputs": [],
   "source": [
    "def load_data_from_database(data_base_path='DataBase_Physio_with_nonEx.db'):\n",
    "    '''\n",
    "    Function to load the following data from data base:\n",
    "        - subject IDs\n",
    "        - exercise abbreviations\n",
    "        - number of repetitions\n",
    "        - sequence numbers\n",
    "        - start times\n",
    "        - stop times\n",
    "        - csv-file name\n",
    "    \n",
    "    Parameters\n",
    "    ----------\n",
    "    data_base_path : string\n",
    "        Path to data base.\n",
    "    \n",
    "    Returns\n",
    "    -------\n",
    "    DataFrame\n",
    "        DataFrame with the listet information (see above).\n",
    "    '''\n",
    "    # Connect to an existing database\n",
    "    conn = sqlite3.connect(data_base_path)\n",
    "    cur = conn.cursor()\n",
    "\n",
    "    # sql command to extract data\n",
    "    query_sql = \"\"\"\n",
    "        SELECT e.subject_id,\n",
    "        p.abbreviation,\n",
    "        e.num_rep,\n",
    "        r.sequence_num,\n",
    "        r.start_time, r.stop_time,\n",
    "        e.csv_file\n",
    "        FROM subjects s\n",
    "        INNER JOIN exercises e\n",
    "        ON s.id = e.subject_id\n",
    "        INNER JOIN paradigms p\n",
    "        ON p.id = e.paradigm_id\n",
    "        INNER JOIN repetitions r\n",
    "        ON e.id = r.exercise_id\n",
    "        \"\"\"\n",
    "    \n",
    "    # get data from data base and close connection\n",
    "    all_data_points_df = pd.read_sql_query(query_sql, conn)\n",
    "    conn.close()\n",
    "    \n",
    "    return all_data_points_df"
   ]
  },
  {
   "cell_type": "code",
   "execution_count": 3,
   "metadata": {
    "ExecuteTime": {
     "end_time": "2019-01-31T13:34:38.107487Z",
     "start_time": "2019-01-31T13:34:37.981480Z"
    }
   },
   "outputs": [],
   "source": [
    "def select_data_points_from_df(all_data_points_df,\n",
    "                               subject_ids=-1,\n",
    "                               subject_ids_complementary=[],\n",
    "                               reps=-1,\n",
    "                               abbrs=-1,\n",
    "                               with_non_Ex=True,\n",
    "                               sub_id_key='subject_id',\n",
    "                               num_rep_key='num_rep',\n",
    "                               abbreviation_key='abbreviation'):\n",
    "    '''\n",
    "    Function to select data points from a DataFrame based on subject IDs,\n",
    "    number of repetitions and exercise abbreviations.\n",
    "    \n",
    "    Parameters\n",
    "    ----------\n",
    "    all_data_points_df : pandas DataFrame\n",
    "        DataFrame with all data points.\n",
    "    \n",
    "    subject_ids : int or list\n",
    "        Subject IDs to select (e.g. [1, 2, 3]).\n",
    "        --> default -1: Select all subjects.\n",
    "        \n",
    "    subject_ids_complementary : int or list\n",
    "        If subject_ids is -1 --> select only subjects not in subject_ids_complementary.\n",
    "        \n",
    "    reps : int or list\n",
    "        Repetition numbers to select (e.g. [5, 10]).\n",
    "        --> default -1: Select all repetitions.\n",
    "        \n",
    "    abbrs : int or list\n",
    "        Exercise abbreviations to select (e.g. ['RF', 'SA']).\n",
    "        --> default -1: Select all exercise abbreviations.\n",
    "    \n",
    "    with_non_Ex : boolean\n",
    "        If False --> omit non exercise data (data points with zero repetitions).\n",
    "        \n",
    "    sub_id_key : string\n",
    "        Key of the DataFrame for subject IDs.\n",
    "        \n",
    "    num_rep_key : string\n",
    "        Key of the DataFrame for repetition numbers.\n",
    "        \n",
    "    abbreviation_key : string\n",
    "        Key of the DataFrame for exercise abbreviations.\n",
    "    \n",
    "    Returns\n",
    "    -------\n",
    "    DataFrame\n",
    "        DataFrame with selected data points.\n",
    "    '''\n",
    "    \n",
    "    data_points_df = all_data_points_df.copy()\n",
    "    \n",
    "    # select the subject IDs\n",
    "    if subject_ids is -1 and subject_ids_complementary:\n",
    "        if not isinstance(subject_ids_complementary, list): # if not list --> make list\n",
    "            subject_ids_complementary = [subject_ids_complementary]\n",
    "        data_points_df = data_points_df.loc[~data_points_df[sub_id_key].isin(subject_ids_complementary)]\n",
    "        \n",
    "    elif subject_ids is not -1:\n",
    "        if not isinstance(subject_ids, list): # if not list --> make list\n",
    "            subject_ids = [subject_ids]\n",
    "        data_points_df = data_points_df.loc[data_points_df[sub_id_key].isin(subject_ids)]\n",
    "\n",
    "    # select the repetition numbers\n",
    "    if reps is not -1:\n",
    "        if not isinstance(reps, list): # if not list --> make list\n",
    "            reps = [reps]\n",
    "        if with_non_Ex is True:\n",
    "            reps.append(0) # zero repetitions correspond to non exercise data\n",
    "        data_points_df = data_points_df.loc[data_points_df[num_rep_key].isin(reps)]\n",
    "\n",
    "    elif with_non_Ex is False:\n",
    "        data_points_df = data_points_df.loc[data_points_df[num_rep_key] != 0]\n",
    "        \n",
    "    # select the exercise abbreviations\n",
    "    if abbrs is not -1:\n",
    "        if not isinstance(abbrs, list): # if not list --> make list\n",
    "            abbrs = [abbrs]\n",
    "        data_points_df = data_points_df.loc[data_points_df[abbreviation_key].isin(abbrs)]\n",
    "\n",
    "    return data_points_df"
   ]
  },
  {
   "cell_type": "code",
   "execution_count": 4,
   "metadata": {
    "ExecuteTime": {
     "end_time": "2019-01-31T13:34:38.296498Z",
     "start_time": "2019-01-31T13:34:38.111487Z"
    }
   },
   "outputs": [],
   "source": [
    "def print_progress_func(current_num, max_num, prev_prog, add_info=None):\n",
    "    '''\n",
    "    Function to print progress [%] in a loop.\n",
    "    \n",
    "    Parameters\n",
    "    ----------\n",
    "    current_num : int\n",
    "        Number of the current run in a loop.\n",
    "        \n",
    "    max_num : int\n",
    "        Maximum number of runs in a loop.\n",
    "        \n",
    "    prev_prog : int\n",
    "        Previous progress, to print only if necessary.\n",
    "        \n",
    "    add_info : str\n",
    "        Additional information to print instead of \"Progress\".\n",
    "    \n",
    "    Returns\n",
    "    -------\n",
    "    int\n",
    "        Previous progress, important for next run.\n",
    "    '''\n",
    "    new_prog = int(current_num/max_num*100)\n",
    "    \n",
    "    if new_prog > prev_prog:\n",
    "        clear_output(wait=True)\n",
    "        \n",
    "        if isinstance(add_info, str):\n",
    "            print(add_info + ' {:3d}%'.format(new_prog))\n",
    "        else:\n",
    "            print('Progress: {:3d}%'.format(new_prog))\n",
    "        \n",
    "    return new_prog"
   ]
  },
  {
   "cell_type": "code",
   "execution_count": 5,
   "metadata": {
    "ExecuteTime": {
     "end_time": "2019-01-31T13:34:38.772525Z",
     "start_time": "2019-01-31T13:34:38.300498Z"
    }
   },
   "outputs": [],
   "source": [
    "def generate_sequences_from_separate_repetitions(data_points_df,\n",
    "                   max_sequence_length=6,\n",
    "                   orig_sampling_rate=256,\n",
    "                   new_sampling_rate=8,\n",
    "                   cutoff=10,\n",
    "                   order=6,\n",
    "                   csv_data_dir='E:\\Physio_Data_Split_Ex_and_NonEx',\n",
    "                   csv_skiprows=0,\n",
    "                   csv_separator=',',\n",
    "                   signal_abbrs=['Acc','Gyr'],\n",
    "                   signal_orientations=['x','y','z'],\n",
    "                   labels_abbr2num_dict={'RF':0,'RO':1,'RS':2,'LR':3,'BC':4,'TC':5,'MP':6,'SA':7,'P1':8,'P2':9,'NE':10},\n",
    "                   abbreviation_key='abbreviation',\n",
    "                   start_time_key='start_time',\n",
    "                   stop_time_key='stop_time',\n",
    "                   csv_file_key='csv_file',\n",
    "                   print_progress=True,\n",
    "                   progress_info='Generate sequences...'):\n",
    "    '''\n",
    "    Function to generate sequences from separate repetitions, changing the sampling rate\n",
    "    and saving them to a tensor.\n",
    "    \n",
    "    Parameters\n",
    "    ----------\n",
    "    data_points_df : DataFrame\n",
    "        DataFrame with information about data points (see load_data_from_database()).\n",
    "        \n",
    "    max_sequence_length : int or float\n",
    "        Maximum sequence length to consider in seconds.\n",
    "        \n",
    "    orig_sampling_rate : int or float\n",
    "        Original sampling rate of the signals in Hz.\n",
    "        \n",
    "    new_sampling_rate : int or float\n",
    "        New sampling rate of the signals in Hz.\n",
    "        \n",
    "    cutoff : int or float\n",
    "        Cutoff frequency for filtering.\n",
    "    \n",
    "    order : int\n",
    "        Order of butterworth filter.\n",
    "        \n",
    "    csv_data_dir : string\n",
    "        Directory of signal data csv-files.\n",
    "        \n",
    "    csv_skiprows : int\n",
    "        Number of rows to skip for signal data csv-files.\n",
    "        \n",
    "    csv_separator : string\n",
    "        Separator for signal data csv-files.\n",
    "        \n",
    "    signal_abbrs : list of strings\n",
    "        Abbreviations of the signals (e.g. ['Acc','Gyr']).\n",
    "    \n",
    "    signal_orientations : list of strings\n",
    "        Orientations of the signals (e.g. ['x','y','z']).\n",
    "        \n",
    "    labels_abbr2num_dict : dict\n",
    "        Dictionary to convert exercise abbreviations to number (e.g. ={'RF':0,'RO':1,'RS':2, ... }).\n",
    "    \n",
    "    abbreviation_key : strings\n",
    "        Exercise abbreviation key for DataFrame which contains data base entries.\n",
    "        \n",
    "    start_time_key : strings\n",
    "        Start time key for DataFrame which contains data base entries.\n",
    "        \n",
    "    stop_time_key : strings\n",
    "        Stop time key for DataFrame which contains data base entries.\n",
    "        \n",
    "    csv_file_key : strings\n",
    "        csv-file key for DataFrame which contains data base entries.\n",
    "        \n",
    "    print_progress : boolean\n",
    "        If True --> print progress at signal sequences generation.\n",
    "        \n",
    "    progress_info : strings\n",
    "        Additional information to print with progress.\n",
    "        \n",
    "    \n",
    "    Returns\n",
    "    -------\n",
    "    X_all, y_all, seqlens_all\n",
    "        \n",
    "        X_all ... tensor with signal sequences (dimensions: [number of data points, \n",
    "                                                             max sequence length, \n",
    "                                                             number of signals])\n",
    "        y_all ... array with labels\n",
    "        seqlens_all ... array with sequence lengths\n",
    "    '''\n",
    "    \n",
    "    # max index of new sequences\n",
    "    max_sequ_index = max_sequence_length * new_sampling_rate\n",
    "    \n",
    "    # number of signals (Acc: x, y, z; Gyr: x, y, z --> 6 signals)\n",
    "    num_signals = len(signal_abbrs) * len(signal_orientations)\n",
    "    \n",
    "    # number to exercise-abbreviations dict\n",
    "    labels_num2abbr_dict = {num: abbr for abbr, num in labels_abbr2num_dict.items()}\n",
    "                                                   \n",
    "    # create array for labels\n",
    "    y_all = np.zeros(len(data_points_df), dtype=np.int8)\n",
    "    \n",
    "    # create tensor for sequences\n",
    "    X_all = np.zeros((len(data_points_df), max_sequ_index, num_signals))\n",
    "    \n",
    "    # create matrix for sequence lengths\n",
    "    seqlens_all = np.zeros(len(data_points_df), dtype=np.int)\n",
    "    \n",
    "    # sampling rate ratio of original and new sampling rate (e.g. if ratio = 32 --> take every 32nd index)\n",
    "    sampling_rate_ratio = orig_sampling_rate / new_sampling_rate\n",
    "\n",
    "    # location counter for the sequence tensor\n",
    "    loc_count = 0\n",
    "\n",
    "    # variables for progress printing\n",
    "    if print_progress:\n",
    "        prog_count = 0\n",
    "        max_count = len(data_points_df.csv_file.unique()) # number of unique csv-files\n",
    "        prev_progress = 0 # previous progress\n",
    "\n",
    "    # going through all csv-files (unique --> only once for each file)\n",
    "    for current_csv_file in data_points_df.csv_file.unique():\n",
    "\n",
    "        # join file path\n",
    "        file_path = os.path.join(csv_data_dir, current_csv_file)\n",
    "\n",
    "        # load the signal data of the current file\n",
    "        selected_data_df = pd.read_csv(file_path, skiprows=csv_skiprows, sep=csv_separator)\n",
    "        \n",
    "        # write data with selected signals to dict\n",
    "        selected_data = {}\n",
    "        for sig in signal_abbrs:\n",
    "            selected_data[sig] = selected_data_df.filter(regex=sig+'*').values\n",
    "            \n",
    "        # filter data with butterworth filter and save to new dictionary\n",
    "        selected_data_filt = {}\n",
    "        for sig in signal_abbrs:\n",
    "            selected_data_filt[sig] = fmpm.butter_lowpass_filter(selected_data[sig], \n",
    "                                                                 cutoff=cutoff, \n",
    "                                                                 fs=orig_sampling_rate, \n",
    "                                                                 order=order)\n",
    "    \n",
    "        # data frame with all repetitions of the current file\n",
    "        current_data_points = data_points_df.loc[data_points_df[csv_file_key] == current_csv_file]\n",
    "\n",
    "        # going through all repetitions of the current file\n",
    "        for ii in range(len(current_data_points)):\n",
    "            \n",
    "            # get start and stop indices of current data point (current repetition)\n",
    "            start_time = float(current_data_points.reset_index().loc[ii, start_time_key])\n",
    "            stop_time = float(current_data_points.reset_index().loc[ii, stop_time_key])\n",
    "            start_idx = round(start_time * orig_sampling_rate)\n",
    "            stop_idx = round(stop_time * orig_sampling_rate)\n",
    "\n",
    "            # consider the new sampling rate for signal data selection\n",
    "            new_indices = np.arange(start_idx, stop_idx, sampling_rate_ratio).round().astype(int)\n",
    "            \n",
    "            # check if array of new indices is longer than max_sequ_index\n",
    "            if len(new_indices) > max_sequ_index:\n",
    "                new_indices = new_indices[:max_sequ_index] # take only that much indices\n",
    "            \n",
    "            # add current sequences with new sampling rate\n",
    "            for kk, sig in enumerate(signal_abbrs):\n",
    "                for ll in range(len(signal_orientations)):\n",
    "                    # explanation: X_all[index_of_current_data_point, \n",
    "                    #                    select_all_until_length_of_new_signal_data, \n",
    "                    #                    index_of_current_signal (0...5)]\n",
    "                    X_all[loc_count,:len(new_indices),kk*len(signal_orientations)+ll] = \\\n",
    "                        selected_data_filt[sig][new_indices,ll]\n",
    "\n",
    "            # add current label\n",
    "            current_ex_abbr = current_data_points.reset_index().loc[ii,abbreviation_key]\n",
    "            y_all[loc_count] = labels_abbr2num_dict[current_ex_abbr]\n",
    "            \n",
    "            # add current sequence length\n",
    "            seqlens_all[loc_count] = len(new_indices)\n",
    "\n",
    "            loc_count += 1\n",
    "\n",
    "        # print progress of feauture generation\n",
    "        if print_progress:\n",
    "            prog_count += 1\n",
    "            prev_progress = print_progress_func(prog_count, max_count, prev_progress, add_info=progress_info)\n",
    "    \n",
    "    if print_progress:\n",
    "        clear_output()\n",
    "    \n",
    "    return X_all, y_all, seqlens_all"
   ]
  },
  {
   "cell_type": "code",
   "execution_count": 6,
   "metadata": {
    "ExecuteTime": {
     "end_time": "2019-01-31T13:34:39.182549Z",
     "start_time": "2019-01-31T13:34:38.775525Z"
    }
   },
   "outputs": [],
   "source": [
    "def generate_sequences_from_repetition_blocks(data_points_df,\n",
    "                   max_sequence_length=80,\n",
    "                   orig_sampling_rate=256,\n",
    "                   new_sampling_rate=8,\n",
    "                   cutoff=10,\n",
    "                   order=6,\n",
    "                   csv_data_dir='E:\\Physio_Data_Split_Ex_and_NonEx',\n",
    "                   csv_skiprows=0,\n",
    "                   csv_separator=',',\n",
    "                   signal_abbrs=['Acc','Gyr'],\n",
    "                   signal_orientations=['x','y','z'],\n",
    "                   labels_abbr2num_dict={'RF':0,'RO':1,'RS':2,'LR':3,'BC':4,'TC':5,'MP':6,'SA':7,'P1':8,'P2':9,'NE':10},\n",
    "                   abbreviation_key='abbreviation',\n",
    "                   csv_file_key='csv_file',\n",
    "                   print_progress=True,\n",
    "                   progress_info='Generate sequences...'):\n",
    "    '''\n",
    "    Function to generate sequences from whole repetition blocks, changing the sampling rate\n",
    "    and saving them to a tensor.\n",
    "    \n",
    "    Parameters\n",
    "    ----------\n",
    "    data_points_df : DataFrame\n",
    "        DataFrame with information about data points (see load_data_from_database()).\n",
    "        \n",
    "    max_sequence_length : int or float\n",
    "        Maximum sequence length to consider in seconds.\n",
    "        \n",
    "    orig_sampling_rate : int or float\n",
    "        Original sampling rate of the signals in Hz.\n",
    "        \n",
    "    new_sampling_rate : int or float\n",
    "        New sampling rate of the signals in Hz.\n",
    "        \n",
    "    cutoff : int or float\n",
    "        Cutoff frequency for filtering.\n",
    "    \n",
    "    order : int\n",
    "        Order of butterworth filter.\n",
    "        \n",
    "    csv_data_dir : string\n",
    "        Directory of signal data csv-files.\n",
    "        \n",
    "    csv_skiprows : int\n",
    "        Number of rows to skip for signal data csv-files.\n",
    "        \n",
    "    csv_separator : string\n",
    "        Separator for signal data csv-files.\n",
    "        \n",
    "    signal_abbrs : list of strings\n",
    "        Abbreviations of the signals (e.g. ['Acc','Gyr']).\n",
    "    \n",
    "    signal_orientations : list of strings\n",
    "        Orientations of the signals (e.g. ['x','y','z']).\n",
    "        \n",
    "    labels_abbr2num_dict : dict\n",
    "        Dictionary to convert exercise abbreviations to number (e.g. ={'RF':0,'RO':1,'RS':2, ... }).\n",
    "    \n",
    "    abbreviation_key : strings\n",
    "        Exercise abbreviation key for DataFrame which contains data base entries.\n",
    "        \n",
    "    csv_file_key : strings\n",
    "        csv-file key for DataFrame which contains data base entries.\n",
    "        \n",
    "    print_progress : boolean\n",
    "        If True --> print progress at signal sequences generation.\n",
    "        \n",
    "    progress_info : strings\n",
    "        Additional information to print with progress.\n",
    "        \n",
    "    \n",
    "    Returns\n",
    "    -------\n",
    "    X_all, y_all, seqlens_all\n",
    "        \n",
    "        X_all ... tensor with signal sequences (dimensions: [number of data points, \n",
    "                                                             max sequence length, \n",
    "                                                             number of signals])\n",
    "        y_all ... array with labels\n",
    "        seqlens_all ... array with sequence lengths\n",
    "    '''\n",
    "    \n",
    "    # max index of new sequences\n",
    "    max_sequ_index = max_sequence_length * new_sampling_rate\n",
    "    \n",
    "    # number of signals (Acc: x, y, z; Gyr: x, y, z --> 6 signals)\n",
    "    num_signals = len(signal_abbrs) * len(signal_orientations)\n",
    "    \n",
    "    # number to exercise-abbreviations dict\n",
    "    labels_num2abbr_dict = {num: abbr for abbr, num in labels_abbr2num_dict.items()}\n",
    "    \n",
    "    # every csv-file is one repetition block --> one data point\n",
    "    csv_files_unique = data_points_df.csv_file.unique()\n",
    "    \n",
    "    # create array for labels\n",
    "    y_all = np.zeros(len(csv_files_unique), dtype=np.int8)\n",
    "    \n",
    "    # create tensor for sequences\n",
    "    X_all = np.zeros((len(csv_files_unique), max_sequ_index, num_signals))\n",
    "    \n",
    "    # create matrix for sequence lengths\n",
    "    seqlens_all = np.zeros(len(csv_files_unique), dtype=np.int)\n",
    "    \n",
    "    # sampling rate ratio of original and new sampling rate (e.g. if ratio = 32 --> take every 32nd index)\n",
    "    sampling_rate_ratio = orig_sampling_rate / new_sampling_rate\n",
    "\n",
    "    # location counter for the sequence tensor\n",
    "    loc_count = 0\n",
    "\n",
    "    # variables for progress printing\n",
    "    if print_progress:\n",
    "        prog_count = 0\n",
    "        max_count = len(csv_files_unique) # number of unique csv-files\n",
    "        prev_progress = 0 # previous progress\n",
    "\n",
    "    # going through all csv-files (unique --> only once for each file)\n",
    "    for current_csv_file in csv_files_unique:\n",
    "\n",
    "        # join file path\n",
    "        file_path = os.path.join(csv_data_dir, current_csv_file)\n",
    "\n",
    "        # load the signal data of the current file\n",
    "        selected_data_df = pd.read_csv(file_path, skiprows=csv_skiprows, sep=csv_separator)\n",
    "        \n",
    "        # write data with selected signals to dict\n",
    "        selected_data = {}\n",
    "        for sig in signal_abbrs:\n",
    "            selected_data[sig] = selected_data_df.filter(regex=sig+'*').values\n",
    "            \n",
    "        # filter data with butterworth filter and save to new dictionary\n",
    "        selected_data_filt = {}\n",
    "        for sig in signal_abbrs:\n",
    "            selected_data_filt[sig] = fmpm.butter_lowpass_filter(selected_data[sig], \n",
    "                                                                 cutoff=cutoff, \n",
    "                                                                 fs=orig_sampling_rate, \n",
    "                                                                 order=order)\n",
    "            \n",
    "        # start and stop indices of current data point (current repetition block)\n",
    "        start_idx = 0\n",
    "        # all signal columns must have the same length\n",
    "        stop_idx = len(selected_data_filt[signal_abbrs[0]][:,0])\n",
    "\n",
    "        # consider the new sampling rate for signal data selection\n",
    "        new_indices = np.arange(start_idx, stop_idx, sampling_rate_ratio).round().astype(int)\n",
    "            \n",
    "        # check if array of new indices is longer than max_sequ_index\n",
    "        if len(new_indices) > max_sequ_index:\n",
    "            new_indices = new_indices[:max_sequ_index] # take only that much indices\n",
    "            \n",
    "        # add current sequences with new sampling rate\n",
    "        for kk, sig in enumerate(signal_abbrs):\n",
    "            for ll in range(len(signal_orientations)):\n",
    "                # explanation: X_all[index_of_current_data_point, \n",
    "                #                    select_all_until_length_of_new_signal_data, \n",
    "                #                    index_of_current_signal (0...5)]\n",
    "                X_all[loc_count,:len(new_indices),kk*len(signal_orientations)+ll] = \\\n",
    "                    selected_data_filt[sig][new_indices,ll]\n",
    "\n",
    "        # add current label\n",
    "        # data frame with all repetitions of the current file\n",
    "        current_data_points = data_points_df.loc[data_points_df[csv_file_key] == current_csv_file]\n",
    "        current_ex_abbr = current_data_points.reset_index().loc[0,abbreviation_key]\n",
    "        y_all[loc_count] = labels_abbr2num_dict[current_ex_abbr]\n",
    "            \n",
    "        # add current sequence length\n",
    "        seqlens_all[loc_count] = len(new_indices)\n",
    "\n",
    "        loc_count += 1\n",
    "\n",
    "        # print progress of feauture generation\n",
    "        if print_progress:\n",
    "            prog_count += 1\n",
    "            prev_progress = print_progress_func(prog_count, max_count, prev_progress, add_info=progress_info)\n",
    "    \n",
    "    if print_progress:\n",
    "        clear_output()\n",
    "    \n",
    "    return X_all, y_all, seqlens_all"
   ]
  },
  {
   "cell_type": "code",
   "execution_count": 7,
   "metadata": {
    "ExecuteTime": {
     "end_time": "2019-01-31T13:34:39.745581Z",
     "start_time": "2019-01-31T13:34:39.185549Z"
    }
   },
   "outputs": [],
   "source": [
    "class PhysioData_RNN():\n",
    "    '''\n",
    "    Class to handle signal data for RNN.\n",
    "    \n",
    "    Detailed description follows ...\n",
    "    \n",
    "    For now: look at docstrings of the following functions:\n",
    "        - load_data_from_database()\n",
    "        - select_data_points_from_df()\n",
    "        - generate_sequences_from_separate_repetitions()\n",
    "        - generate_sequences_from_repetition_blocks()\n",
    "    \n",
    "    '''\n",
    "    def __init__(self,\n",
    "                 test_subject_ids=-1,\n",
    "                 train_subject_ids=-1,\n",
    "                 test_rep_nums=-1,\n",
    "                 train_rep_nums=-1,\n",
    "                 test_ex_abbrs=-1,\n",
    "                 train_ex_abbrs=-1,\n",
    "                 with_non_Ex=True,\n",
    "                 max_sequence_length_testing=6,\n",
    "                 max_sequence_length_training=6,\n",
    "                 orig_sampling_rate=256,\n",
    "                 new_sampling_rate=8,\n",
    "                 whole_rep_blocks_as_data_points_for_testing=False,\n",
    "                 whole_rep_blocks_as_data_points_for_training=False,\n",
    "                 cutoff=10,\n",
    "                 order=6,\n",
    "                 csv_data_dir='E:\\Physio_Data_Split_Ex_and_NonEx',\n",
    "                 csv_skiprows=0,\n",
    "                 csv_separator=',',\n",
    "                 data_base_path='E:\\Physio_Data\\DataBase_Physio_with_nonEx.db',\n",
    "                 print_progress=True,\n",
    "                 signal_abbrs=['Acc','Gyr'],\n",
    "                 signal_orientations=['x','y','z'],\n",
    "                 labels_abbr2num_dict={'RF':0,'RO':1,'RS':2,'LR':3,'BC':4,'TC':5,'MP':6,'SA':7,'P1':8,'P2':9,'NE':10},\n",
    "                 sub_id_key='subject_id',\n",
    "                 num_rep_key='num_rep',\n",
    "                 abbreviation_key='abbreviation',\n",
    "                 start_time_key='start_time',\n",
    "                 stop_time_key='stop_time',\n",
    "                 csv_file_key='csv_file'):\n",
    "        \n",
    "        # load all data from data points\n",
    "        self.all_data_points_df = load_data_from_database(data_base_path)\n",
    "        \n",
    "        # load data points for testing\n",
    "        self.test_data_points_df =  select_data_points_from_df(self.all_data_points_df,\n",
    "                                                               subject_ids=test_subject_ids,\n",
    "                                                               subject_ids_complementary=[],\n",
    "                                                               reps=test_rep_nums,\n",
    "                                                               abbrs=test_ex_abbrs,\n",
    "                                                               with_non_Ex=with_non_Ex,\n",
    "                                                               sub_id_key=sub_id_key,\n",
    "                                                               num_rep_key=num_rep_key,\n",
    "                                                               abbreviation_key=abbreviation_key)\n",
    "        \n",
    "        # load data points for training\n",
    "        self.train_data_points_df = select_data_points_from_df(self.all_data_points_df,\n",
    "                                                               subject_ids=train_subject_ids,\n",
    "                                                               subject_ids_complementary=test_subject_ids,\n",
    "                                                               reps=train_rep_nums,\n",
    "                                                               abbrs=train_ex_abbrs,\n",
    "                                                               with_non_Ex=with_non_Ex,\n",
    "                                                               sub_id_key=sub_id_key,\n",
    "                                                               num_rep_key=num_rep_key,\n",
    "                                                               abbreviation_key=abbreviation_key)\n",
    "        \n",
    "        # take whole repetition blocks as data points for testing\n",
    "        if whole_rep_blocks_as_data_points_for_testing is True:\n",
    "            \n",
    "            # generate sequences for testing\n",
    "            self.X_test, self.y_test, self.seqlens_test = generate_sequences_from_repetition_blocks(\n",
    "                                                                   self.test_data_points_df,\n",
    "                                                                   max_sequence_length=max_sequence_length_testing,\n",
    "                                                                   orig_sampling_rate=orig_sampling_rate,\n",
    "                                                                   new_sampling_rate=new_sampling_rate,\n",
    "                                                                   cutoff=cutoff,\n",
    "                                                                   order=order,\n",
    "                                                                   csv_data_dir=csv_data_dir,\n",
    "                                                                   csv_skiprows=csv_skiprows,\n",
    "                                                                   csv_separator=csv_separator,\n",
    "                                                                   signal_abbrs=signal_abbrs,\n",
    "                                                                   signal_orientations=signal_orientations,\n",
    "                                                                   labels_abbr2num_dict=labels_abbr2num_dict,\n",
    "                                                                   abbreviation_key=abbreviation_key,\n",
    "                                                                   csv_file_key=csv_file_key,\n",
    "                                                                   print_progress=print_progress,\n",
    "                                                                   progress_info='Generate sequences for testing...')\n",
    "        \n",
    "        # take single repetitions as data points for testing\n",
    "        else:\n",
    "            \n",
    "            # generate sequences for testing\n",
    "            self.X_test, self.y_test, self.seqlens_test = generate_sequences_from_separate_repetitions(\n",
    "                                                                   self.test_data_points_df,\n",
    "                                                                   max_sequence_length=max_sequence_length_testing,\n",
    "                                                                   orig_sampling_rate=orig_sampling_rate,\n",
    "                                                                   new_sampling_rate=new_sampling_rate,\n",
    "                                                                   cutoff=cutoff,\n",
    "                                                                   order=order,\n",
    "                                                                   csv_data_dir=csv_data_dir,\n",
    "                                                                   csv_skiprows=csv_skiprows,\n",
    "                                                                   csv_separator=csv_separator,\n",
    "                                                                   signal_abbrs=signal_abbrs,\n",
    "                                                                   signal_orientations=signal_orientations,\n",
    "                                                                   labels_abbr2num_dict=labels_abbr2num_dict,\n",
    "                                                                   abbreviation_key=abbreviation_key,\n",
    "                                                                   start_time_key=start_time_key,\n",
    "                                                                   stop_time_key=stop_time_key,\n",
    "                                                                   csv_file_key=csv_file_key,\n",
    "                                                                   print_progress=print_progress,\n",
    "                                                                   progress_info='Generate sequences for testing...')\n",
    "            \n",
    "        # take whole repetition blocks as data points for training\n",
    "        if whole_rep_blocks_as_data_points_for_training is True:\n",
    "\n",
    "            # generate sequences for training\n",
    "            self.X_train, self.y_train, self.seqlens_train = generate_sequences_from_repetition_blocks(\n",
    "                                                                   self.train_data_points_df,\n",
    "                                                                   max_sequence_length=max_sequence_length_training,\n",
    "                                                                   orig_sampling_rate=orig_sampling_rate,\n",
    "                                                                   new_sampling_rate=new_sampling_rate,\n",
    "                                                                   cutoff=cutoff,\n",
    "                                                                   order=order,\n",
    "                                                                   csv_data_dir=csv_data_dir,\n",
    "                                                                   csv_skiprows=csv_skiprows,\n",
    "                                                                   csv_separator=csv_separator,\n",
    "                                                                   signal_abbrs=signal_abbrs,\n",
    "                                                                   signal_orientations=signal_orientations,\n",
    "                                                                   labels_abbr2num_dict=labels_abbr2num_dict,\n",
    "                                                                   abbreviation_key=abbreviation_key,\n",
    "                                                                   csv_file_key=csv_file_key,\n",
    "                                                                   print_progress=print_progress,\n",
    "                                                                   progress_info='Generate sequences for training...')\n",
    "            \n",
    "        # take single repetitions as data points for training\n",
    "        else:\n",
    "\n",
    "            # generate sequences for training\n",
    "            self.X_train, self.y_train, self.seqlens_train = generate_sequences_from_separate_repetitions(\n",
    "                                                                   self.train_data_points_df,\n",
    "                                                                   max_sequence_length=max_sequence_length_training,\n",
    "                                                                   orig_sampling_rate=orig_sampling_rate,\n",
    "                                                                   new_sampling_rate=new_sampling_rate,\n",
    "                                                                   cutoff=cutoff,\n",
    "                                                                   order=order,\n",
    "                                                                   csv_data_dir=csv_data_dir,\n",
    "                                                                   csv_skiprows=csv_skiprows,\n",
    "                                                                   csv_separator=csv_separator,\n",
    "                                                                   signal_abbrs=signal_abbrs,\n",
    "                                                                   signal_orientations=signal_orientations,\n",
    "                                                                   labels_abbr2num_dict=labels_abbr2num_dict,\n",
    "                                                                   abbreviation_key=abbreviation_key,\n",
    "                                                                   start_time_key=start_time_key,\n",
    "                                                                   stop_time_key=stop_time_key,\n",
    "                                                                   csv_file_key=csv_file_key,\n",
    "                                                                   print_progress=print_progress,\n",
    "                                                                   progress_info='Generate sequences for training...')\n",
    "    \n",
    "    \n",
    "    def get_train_batch(self, batch_size):\n",
    "        '''\n",
    "        Method to get batch with randomly selected training data.\n",
    "        \n",
    "        Parameters\n",
    "        ----------\n",
    "        batch_size : int\n",
    "            Number of data points in batch.\n",
    "\n",
    "        Returns\n",
    "        -------\n",
    "        X_train_batch, y_train_batch, seqlens_train_batch\n",
    "        '''\n",
    "        \n",
    "        instance_indices = list(range(len(self.y_train))) # list with all train indices\n",
    "        np.random.shuffle(instance_indices) # shuffle the train indices\n",
    "        batch_indices = instance_indices[:batch_size] # randomly select train indices\n",
    "    \n",
    "        # select batch data with corresponding indices\n",
    "        X_train_batch = np.array(self.X_train)[batch_indices]\n",
    "        y_train_batch = self.y_train[batch_indices]\n",
    "        seqlens_train_batch = np.array(self.seqlens_train)[batch_indices]\n",
    "\n",
    "        return X_train_batch, y_train_batch, seqlens_train_batch\n",
    "\n",
    "    \n",
    "    # methods to get data\n",
    "    def get_X_test(self):\n",
    "        return self.X_test\n",
    "    \n",
    "    def get_y_test(self):\n",
    "        return self.y_test\n",
    "    \n",
    "    def get_seqlens_test(self):\n",
    "        return self.seqlens_test\n",
    "    \n",
    "    def get_X_train(self):\n",
    "        return self.X_train\n",
    "    \n",
    "    def get_y_train(self):\n",
    "        return self.y_train\n",
    "    \n",
    "    def get_sequlens_train(self):\n",
    "        return self.sequlens_train\n",
    "    \n",
    "    \n",
    "    # methods to get data points (DataFrames)\n",
    "    def get_test_data_points(self):\n",
    "        return self.test_data_points_df\n",
    "    \n",
    "    def get_train_data_points(self):\n",
    "        return self.train_data_points_df\n",
    "    \n",
    "    def get_all_data_points(self):\n",
    "        return self.all_data_points_df\n"
   ]
  },
  {
   "cell_type": "markdown",
   "metadata": {},
   "source": [
    "### Create instance of the class *PhysioData_RNN*"
   ]
  },
  {
   "cell_type": "code",
   "execution_count": 8,
   "metadata": {
    "ExecuteTime": {
     "end_time": "2019-01-31T13:35:34.368705Z",
     "start_time": "2019-01-31T13:34:39.748581Z"
    }
   },
   "outputs": [],
   "source": [
    "PD_RNN1 = PhysioData_RNN(test_subject_ids=1,\n",
    "                         max_sequence_length_testing=6,\n",
    "                         max_sequence_length_training=6,\n",
    "                         whole_rep_blocks_as_data_points_for_testing=False,\n",
    "                         whole_rep_blocks_as_data_points_for_training=False)"
   ]
  },
  {
   "cell_type": "code",
   "execution_count": 9,
   "metadata": {
    "ExecuteTime": {
     "end_time": "2019-01-31T13:35:34.404707Z",
     "start_time": "2019-01-31T13:35:34.376706Z"
    }
   },
   "outputs": [
    {
     "data": {
      "text/plain": [
       "(709, 48, 6)"
      ]
     },
     "execution_count": 9,
     "metadata": {},
     "output_type": "execute_result"
    }
   ],
   "source": [
    "np.shape(PD_RNN1.get_X_test())"
   ]
  },
  {
   "cell_type": "code",
   "execution_count": 10,
   "metadata": {
    "ExecuteTime": {
     "end_time": "2019-01-31T13:35:34.554716Z",
     "start_time": "2019-01-31T13:35:34.409707Z"
    }
   },
   "outputs": [
    {
     "data": {
      "text/plain": [
       "(6120, 48, 6)"
      ]
     },
     "execution_count": 10,
     "metadata": {},
     "output_type": "execute_result"
    }
   ],
   "source": [
    "np.shape(PD_RNN1.get_X_train())"
   ]
  },
  {
   "cell_type": "code",
   "execution_count": 11,
   "metadata": {
    "ExecuteTime": {
     "end_time": "2019-01-31T13:35:34.712725Z",
     "start_time": "2019-01-31T13:35:34.559716Z"
    },
    "scrolled": true
   },
   "outputs": [
    {
     "data": {
      "text/plain": [
       "array([[-8.85008976e-01,  3.73013764e-01,  2.24020535e-01,\n",
       "         1.21751042e+01,  1.52829258e+00,  9.10124605e+00],\n",
       "       [-9.04367908e-01,  8.26654823e-01,  3.67851136e-01,\n",
       "        -1.01565373e+01,  5.38131320e+00,  7.39012265e+01],\n",
       "       [-1.01528357e+00,  1.07474501e+00,  3.88348309e-01,\n",
       "        -2.42753698e+01, -2.82604112e+01,  1.39737623e+02],\n",
       "       [-1.03430703e+00,  1.15137975e+00,  2.56821977e-01,\n",
       "         1.23076905e+01, -3.72862596e+01,  1.91338412e+02],\n",
       "       [-6.34748614e-01,  9.63927847e-01,  2.02384178e-01,\n",
       "        -7.54283377e+00, -3.91051296e+01,  1.58483358e+02],\n",
       "       [-2.93779369e-01,  7.57520082e-01,  2.75981183e-01,\n",
       "        -5.35511185e+00, -2.56590433e+01,  1.41178164e+02],\n",
       "       [ 1.04911864e-01,  5.41331501e-01,  2.45186189e-01,\n",
       "         4.44534291e+00, -1.63078708e+01,  1.13614763e+02],\n",
       "       [ 4.32216915e-01,  4.15494757e-01,  2.65919449e-01,\n",
       "         1.68503415e+00, -2.25416173e+00,  6.80021935e+01],\n",
       "       [ 6.11687397e-01,  4.31368824e-01,  2.80606846e-01,\n",
       "        -1.46211643e+01, -3.62546694e+00,  1.43849657e+01],\n",
       "       [ 6.21065955e-01,  5.10839768e-01,  3.34571072e-01,\n",
       "         2.23573633e+00,  1.75674248e+00, -4.89205622e-02],\n",
       "       [ 5.76487955e-01,  4.50268683e-01,  3.27837728e-01,\n",
       "        -1.50772590e+00,  2.06181750e+00, -1.68996313e+01],\n",
       "       [ 4.09856906e-01,  3.94621483e-01,  2.27177439e-01,\n",
       "         3.95772234e+00,  2.69890721e+00, -6.31377488e+01],\n",
       "       [ 1.60316970e-01,  5.17148631e-01,  2.94741576e-01,\n",
       "        -2.82360611e+01,  2.85425109e+01, -1.19222601e+02],\n",
       "       [-1.91762490e-01,  7.73961019e-01,  3.24831739e-01,\n",
       "         2.83235200e+01,  2.91210772e+01, -1.39990128e+02],\n",
       "       [-5.50248195e-01,  1.01577925e+00,  3.24931914e-01,\n",
       "         8.48018451e+00,  1.93014588e+01, -1.57620844e+02],\n",
       "       [-9.05278854e-01,  9.07200894e-01,  3.87678549e-01,\n",
       "        -2.45637713e+01,  2.33728910e+01, -1.54579808e+02],\n",
       "       [-1.06081757e+00,  8.50847948e-01,  3.23734638e-01,\n",
       "        -7.80314506e+00,  2.77927524e+01, -1.22591467e+02],\n",
       "       [-9.83693089e-01,  7.31427570e-01,  3.45395706e-01,\n",
       "         3.35026007e+01,  1.54412798e+01, -1.12633149e+02],\n",
       "       [-1.03250496e+00,  4.24830007e-01,  3.33556145e-01,\n",
       "        -1.44286634e+01,  2.42460802e+01, -4.55003833e+01],\n",
       "       [-8.73047459e-01,  3.91488597e-01,  2.36033804e-01,\n",
       "         2.69888523e+01,  8.09433261e+00, -1.69945675e+01],\n",
       "       [-9.44795597e-01,  2.54712710e-01,  2.17821080e-01,\n",
       "         5.63878809e+00,  2.21768665e+00, -3.30126554e+00],\n",
       "       [ 0.00000000e+00,  0.00000000e+00,  0.00000000e+00,\n",
       "         0.00000000e+00,  0.00000000e+00,  0.00000000e+00],\n",
       "       [ 0.00000000e+00,  0.00000000e+00,  0.00000000e+00,\n",
       "         0.00000000e+00,  0.00000000e+00,  0.00000000e+00],\n",
       "       [ 0.00000000e+00,  0.00000000e+00,  0.00000000e+00,\n",
       "         0.00000000e+00,  0.00000000e+00,  0.00000000e+00],\n",
       "       [ 0.00000000e+00,  0.00000000e+00,  0.00000000e+00,\n",
       "         0.00000000e+00,  0.00000000e+00,  0.00000000e+00],\n",
       "       [ 0.00000000e+00,  0.00000000e+00,  0.00000000e+00,\n",
       "         0.00000000e+00,  0.00000000e+00,  0.00000000e+00],\n",
       "       [ 0.00000000e+00,  0.00000000e+00,  0.00000000e+00,\n",
       "         0.00000000e+00,  0.00000000e+00,  0.00000000e+00],\n",
       "       [ 0.00000000e+00,  0.00000000e+00,  0.00000000e+00,\n",
       "         0.00000000e+00,  0.00000000e+00,  0.00000000e+00],\n",
       "       [ 0.00000000e+00,  0.00000000e+00,  0.00000000e+00,\n",
       "         0.00000000e+00,  0.00000000e+00,  0.00000000e+00],\n",
       "       [ 0.00000000e+00,  0.00000000e+00,  0.00000000e+00,\n",
       "         0.00000000e+00,  0.00000000e+00,  0.00000000e+00],\n",
       "       [ 0.00000000e+00,  0.00000000e+00,  0.00000000e+00,\n",
       "         0.00000000e+00,  0.00000000e+00,  0.00000000e+00],\n",
       "       [ 0.00000000e+00,  0.00000000e+00,  0.00000000e+00,\n",
       "         0.00000000e+00,  0.00000000e+00,  0.00000000e+00],\n",
       "       [ 0.00000000e+00,  0.00000000e+00,  0.00000000e+00,\n",
       "         0.00000000e+00,  0.00000000e+00,  0.00000000e+00],\n",
       "       [ 0.00000000e+00,  0.00000000e+00,  0.00000000e+00,\n",
       "         0.00000000e+00,  0.00000000e+00,  0.00000000e+00],\n",
       "       [ 0.00000000e+00,  0.00000000e+00,  0.00000000e+00,\n",
       "         0.00000000e+00,  0.00000000e+00,  0.00000000e+00],\n",
       "       [ 0.00000000e+00,  0.00000000e+00,  0.00000000e+00,\n",
       "         0.00000000e+00,  0.00000000e+00,  0.00000000e+00],\n",
       "       [ 0.00000000e+00,  0.00000000e+00,  0.00000000e+00,\n",
       "         0.00000000e+00,  0.00000000e+00,  0.00000000e+00],\n",
       "       [ 0.00000000e+00,  0.00000000e+00,  0.00000000e+00,\n",
       "         0.00000000e+00,  0.00000000e+00,  0.00000000e+00],\n",
       "       [ 0.00000000e+00,  0.00000000e+00,  0.00000000e+00,\n",
       "         0.00000000e+00,  0.00000000e+00,  0.00000000e+00],\n",
       "       [ 0.00000000e+00,  0.00000000e+00,  0.00000000e+00,\n",
       "         0.00000000e+00,  0.00000000e+00,  0.00000000e+00],\n",
       "       [ 0.00000000e+00,  0.00000000e+00,  0.00000000e+00,\n",
       "         0.00000000e+00,  0.00000000e+00,  0.00000000e+00],\n",
       "       [ 0.00000000e+00,  0.00000000e+00,  0.00000000e+00,\n",
       "         0.00000000e+00,  0.00000000e+00,  0.00000000e+00],\n",
       "       [ 0.00000000e+00,  0.00000000e+00,  0.00000000e+00,\n",
       "         0.00000000e+00,  0.00000000e+00,  0.00000000e+00],\n",
       "       [ 0.00000000e+00,  0.00000000e+00,  0.00000000e+00,\n",
       "         0.00000000e+00,  0.00000000e+00,  0.00000000e+00],\n",
       "       [ 0.00000000e+00,  0.00000000e+00,  0.00000000e+00,\n",
       "         0.00000000e+00,  0.00000000e+00,  0.00000000e+00],\n",
       "       [ 0.00000000e+00,  0.00000000e+00,  0.00000000e+00,\n",
       "         0.00000000e+00,  0.00000000e+00,  0.00000000e+00],\n",
       "       [ 0.00000000e+00,  0.00000000e+00,  0.00000000e+00,\n",
       "         0.00000000e+00,  0.00000000e+00,  0.00000000e+00],\n",
       "       [ 0.00000000e+00,  0.00000000e+00,  0.00000000e+00,\n",
       "         0.00000000e+00,  0.00000000e+00,  0.00000000e+00]])"
      ]
     },
     "execution_count": 11,
     "metadata": {},
     "output_type": "execute_result"
    }
   ],
   "source": [
    "PD_RNN1.get_X_test()[0]"
   ]
  },
  {
   "cell_type": "code",
   "execution_count": 12,
   "metadata": {
    "ExecuteTime": {
     "end_time": "2019-01-31T13:35:34.865734Z",
     "start_time": "2019-01-31T13:35:34.720725Z"
    }
   },
   "outputs": [
    {
     "data": {
      "text/plain": [
       "0"
      ]
     },
     "execution_count": 12,
     "metadata": {},
     "output_type": "execute_result"
    }
   ],
   "source": [
    "PD_RNN1.get_y_test()[0]"
   ]
  },
  {
   "cell_type": "code",
   "execution_count": 13,
   "metadata": {
    "ExecuteTime": {
     "end_time": "2019-01-31T13:35:34.998741Z",
     "start_time": "2019-01-31T13:35:34.874734Z"
    }
   },
   "outputs": [
    {
     "data": {
      "text/plain": [
       "21"
      ]
     },
     "execution_count": 13,
     "metadata": {},
     "output_type": "execute_result"
    }
   ],
   "source": [
    "PD_RNN1.get_seqlens_test()[0]"
   ]
  },
  {
   "cell_type": "code",
   "execution_count": 14,
   "metadata": {
    "ExecuteTime": {
     "end_time": "2019-01-31T13:35:35.148750Z",
     "start_time": "2019-01-31T13:35:35.004741Z"
    }
   },
   "outputs": [],
   "source": [
    "X_train_batch, y_train_batch, seqlens_train_batch = PD_RNN1.get_train_batch(batch_size=5)"
   ]
  },
  {
   "cell_type": "code",
   "execution_count": 15,
   "metadata": {
    "ExecuteTime": {
     "end_time": "2019-01-31T13:35:35.286758Z",
     "start_time": "2019-01-31T13:35:35.153750Z"
    }
   },
   "outputs": [
    {
     "data": {
      "text/plain": [
       "(5, 48, 6)"
      ]
     },
     "execution_count": 15,
     "metadata": {},
     "output_type": "execute_result"
    }
   ],
   "source": [
    "np.shape(X_train_batch)"
   ]
  },
  {
   "cell_type": "code",
   "execution_count": 16,
   "metadata": {
    "ExecuteTime": {
     "end_time": "2019-01-31T13:35:35.444767Z",
     "start_time": "2019-01-31T13:35:35.292758Z"
    }
   },
   "outputs": [
    {
     "data": {
      "text/plain": [
       "array([10, 10, 10, 10,  3], dtype=int8)"
      ]
     },
     "execution_count": 16,
     "metadata": {},
     "output_type": "execute_result"
    }
   ],
   "source": [
    "y_train_batch"
   ]
  },
  {
   "cell_type": "code",
   "execution_count": 17,
   "metadata": {
    "ExecuteTime": {
     "end_time": "2019-01-31T13:35:35.595775Z",
     "start_time": "2019-01-31T13:35:35.449767Z"
    }
   },
   "outputs": [
    {
     "data": {
      "text/plain": [
       "array([30, 20, 20, 26, 18])"
      ]
     },
     "execution_count": 17,
     "metadata": {},
     "output_type": "execute_result"
    }
   ],
   "source": [
    "seqlens_train_batch"
   ]
  },
  {
   "cell_type": "code",
   "execution_count": 18,
   "metadata": {
    "ExecuteTime": {
     "end_time": "2019-01-31T13:35:35.914794Z",
     "start_time": "2019-01-31T13:35:35.605776Z"
    }
   },
   "outputs": [
    {
     "data": {
      "image/png": "[encoded data removed]",
      "text/plain": [
       "<Figure size 432x288 with 1 Axes>"
      ]
     },
     "metadata": {},
     "output_type": "display_data"
    }
   ],
   "source": [
    "plt.plot(X_train_batch[0,:,:]);"
   ]
  },
  {
   "cell_type": "code",
   "execution_count": 19,
   "metadata": {
    "ExecuteTime": {
     "end_time": "2019-01-31T13:35:36.143807Z",
     "start_time": "2019-01-31T13:35:35.918794Z"
    }
   },
   "outputs": [
    {
     "data": {
      "image/png": "[encoded data removed]",
      "text/plain": [
       "<Figure size 432x288 with 1 Axes>"
      ]
     },
     "metadata": {},
     "output_type": "display_data"
    }
   ],
   "source": [
    "plt.plot(PD_RNN1.get_X_test()[0,:,:]);"
   ]
  },
  {
   "cell_type": "markdown",
   "metadata": {},
   "source": [
    "## Building a Recurrent Neural Network with *TensorFlow*"
   ]
  },
  {
   "cell_type": "code",
   "execution_count": 20,
   "metadata": {
    "ExecuteTime": {
     "end_time": "2019-01-31T13:35:46.279386Z",
     "start_time": "2019-01-31T13:35:36.147807Z"
    }
   },
   "outputs": [
    {
     "name": "stderr",
     "output_type": "stream",
     "text": [
      "E:\\Programme\\WinPython-64bit-3.6.2.0Qt5\\python-3.6.2.amd64\\lib\\site-packages\\h5py\\__init__.py:36: FutureWarning: Conversion of the second argument of issubdtype from `float` to `np.floating` is deprecated. In future, it will be treated as `np.float64 == np.dtype(float).type`.\n",
      "  from ._conv import register_converters as _register_converters\n"
     ]
    }
   ],
   "source": [
    "import tensorflow as tf"
   ]
  },
  {
   "cell_type": "code",
   "execution_count": 21,
   "metadata": {
    "ExecuteTime": {
     "end_time": "2019-01-31T13:35:46.313388Z",
     "start_time": "2019-01-31T13:35:46.284387Z"
    }
   },
   "outputs": [
    {
     "name": "stdout",
     "output_type": "stream",
     "text": [
      "tensorboard --logdir=E:\\Jupyter_Notebooks\\Master_Project_Meinhart_git\\logs\\RNN_with_summaries\n"
     ]
    }
   ],
   "source": [
    "# directory to save TensorBoard model summaries\n",
    "LOG_DIR_ALL = 'E:\\Jupyter_Notebooks\\Master_Project_Meinhart_git\\logs\\RNN_with_summaries'\n",
    "\n",
    "# run the command:\n",
    "print('tensorboard --logdir=' + LOG_DIR_ALL)\n",
    "\n",
    "#  --> open http://FlorianMeinhart:6006"
   ]
  },
  {
   "cell_type": "code",
   "execution_count": 22,
   "metadata": {
    "ExecuteTime": {
     "end_time": "2019-01-31T13:35:46.423395Z",
     "start_time": "2019-01-31T13:35:46.320389Z"
    }
   },
   "outputs": [],
   "source": [
    "# define parameters for RNN\n",
    "num_signals = 6 # number of signals (Acc: x, y, z; Gyr: x, y, z)\n",
    "num_classes = 11 # number of classes\n",
    "batch_size = 150 # number of data points for each batch\n",
    "time_steps = None # --> dynamic_rnn\n",
    "hidden_layer_size_rnn = 128 # number of neurons in the hidden layer of the RNN\n",
    "num_steps = 1501 # number of steps for training"
   ]
  },
  {
   "cell_type": "code",
   "execution_count": 23,
   "metadata": {
    "ExecuteTime": {
     "end_time": "2019-01-31T13:35:46.571403Z",
     "start_time": "2019-01-31T13:35:46.427395Z"
    }
   },
   "outputs": [],
   "source": [
    "# get time in order to append corresponding string to log directory\n",
    "now = datetime.now()\n",
    "LOG_DIR_TRAIN = LOG_DIR_ALL + now.strftime('\\%Y%m%d-%H%M%S' + '_train')\n",
    "LOG_DIR_TEST = LOG_DIR_ALL + now.strftime('\\%Y%m%d-%H%M%S' + '_test')"
   ]
  },
  {
   "cell_type": "code",
   "execution_count": 24,
   "metadata": {
    "ExecuteTime": {
     "end_time": "2019-01-31T13:35:48.075489Z",
     "start_time": "2019-01-31T13:35:46.574403Z"
    }
   },
   "outputs": [],
   "source": [
    "# create new tensorflow graph\n",
    "tf.reset_default_graph()\n",
    "\n",
    "with tf.name_scope('data'):\n",
    "    inputs = tf.placeholder(tf.float32, shape=[None, time_steps, num_signals], name='inputs')\n",
    "    labels = tf.placeholder(tf.int32, shape=[None, num_classes], name='labels')\n",
    "    seqlens = tf.placeholder(tf.int32, shape=[None], name='seqlens')\n",
    "\n",
    "with tf.name_scope('RNN_layer'):\n",
    "    rnn_cell = tf.nn.rnn_cell.BasicRNNCell(hidden_layer_size_rnn)\n",
    "    #rnn_cell = tf.nn.rnn_cell.BasicLSTMCell(hidden_layer_size_rnn)\n",
    "    outputs, states = tf.nn.dynamic_rnn(rnn_cell, inputs, sequence_length=seqlens, dtype=tf.float32)\n",
    "\n",
    "with tf.name_scope('linear_layer'):\n",
    "    W1 = tf.Variable(tf.truncated_normal([hidden_layer_size_rnn, num_classes], mean=0, stddev=0.1),\n",
    "                     name='weights_linear')\n",
    "    b1 = tf.Variable(tf.truncated_normal([num_classes], mean=0, stddev=0.1),\n",
    "                     name='biases_linear')\n",
    "    final_output = tf.matmul(states, W1) + b1\n",
    "    #final_output = tf.matmul(states[0], W1) + b1\n",
    "    \n",
    "    final_output_all_states = tf.matmul(tf.reshape(outputs, [-1, hidden_layer_size_rnn]), W1) + b1\n",
    "    \n",
    "    softmax = tf.nn.softmax_cross_entropy_with_logits_v2(logits=final_output, labels=labels)\n",
    "    cross_entropy = tf.reduce_mean(softmax)\n",
    "    tf.summary.scalar('cross_entropy', cross_entropy)\n",
    "\n",
    "\n",
    "train_step = tf.train.RMSPropOptimizer(0.001, 0.9).minimize(cross_entropy)\n",
    "#train_step = tf.train.AdamOptimizer(0.001).minimize(cross_entropy)\n",
    "\n",
    "with tf.name_scope('evaluation'):\n",
    "    correct_prediction = tf.equal(tf.argmax(labels,1), tf.argmax(final_output,1), name='correct_prediction')\n",
    "    accuracy = (tf.reduce_mean(tf.cast(correct_prediction, tf.float32)))*100\n",
    "    pred_prob = tf.nn.softmax(logits=final_output, name='predicted_probabilities')\n",
    "    pred_prob_all_states = tf.nn.softmax(logits=final_output_all_states, name='predicted_probabilities_all_states')\n",
    "    tf.summary.scalar('accuracy', accuracy)\n",
    "\n",
    "\n",
    "# merge summaries and create summary writers for training and testing\n",
    "merged = tf.summary.merge_all()\n",
    "train_writer = tf.summary.FileWriter(LOG_DIR_TRAIN)\n",
    "test_writer = tf.summary.FileWriter(LOG_DIR_TEST) "
   ]
  },
  {
   "cell_type": "code",
   "execution_count": 25,
   "metadata": {
    "ExecuteTime": {
     "end_time": "2019-01-31T13:35:48.116491Z",
     "start_time": "2019-01-31T13:35:48.084490Z"
    }
   },
   "outputs": [],
   "source": [
    "def one_hot(labels, num_classes):\n",
    "    '''\n",
    "    Convert lables to one-hot format.\n",
    "\n",
    "    Parameters\n",
    "    ----------\n",
    "    labels : array or list of integers\n",
    "        --> e.g. [0, 1, 4, 2, 0]\n",
    "        \n",
    "    num_classes : int\n",
    "        Number of classes.\n",
    "        (Has to be >= max(labels))\n",
    "\n",
    "    Returns\n",
    "    -------\n",
    "    matrix\n",
    "        Lables in one-hot format.\n",
    "    \n",
    "        --> e.g.\n",
    "              [[1., 0., 0., 0., 0.],\n",
    "               [0., 1., 0., 0., 0.],\n",
    "               [0., 0., 0., 0., 1.],\n",
    "               [0., 0., 1., 0., 0.],\n",
    "               [1., 0., 0., 0., 0.]]\n",
    "    '''\n",
    "    n = len(labels)\n",
    "    labels_one_hot = np.zeros((n, num_classes))\n",
    "    labels_one_hot[range(n), labels] = 1\n",
    "    return labels_one_hot"
   ]
  },
  {
   "cell_type": "code",
   "execution_count": 26,
   "metadata": {
    "ExecuteTime": {
     "end_time": "2019-01-31T13:38:22.997350Z",
     "start_time": "2019-01-31T13:35:48.132492Z"
    },
    "scrolled": false
   },
   "outputs": [
    {
     "name": "stdout",
     "output_type": "stream",
     "text": [
      "Accuracy at step 0\n",
      "\tTrain Set: 9.333\n",
      "\tTest Set:  6.347\n",
      "Accuracy at step 50\n",
      "\tTrain Set: 27.333\n",
      "\tTest Set:  22.144\n",
      "Accuracy at step 100\n",
      "\tTrain Set: 50.667\n",
      "\tTest Set:  53.032\n",
      "Accuracy at step 150\n",
      "\tTrain Set: 67.333\n",
      "\tTest Set:  65.021\n",
      "Accuracy at step 200\n",
      "\tTrain Set: 88.000\n",
      "\tTest Set:  77.574\n",
      "Accuracy at step 250\n",
      "\tTrain Set: 88.667\n",
      "\tTest Set:  79.831\n",
      "Accuracy at step 300\n",
      "\tTrain Set: 89.333\n",
      "\tTest Set:  86.178\n",
      "Accuracy at step 350\n",
      "\tTrain Set: 88.000\n",
      "\tTest Set:  84.767\n",
      "Accuracy at step 400\n",
      "\tTrain Set: 95.333\n",
      "\tTest Set:  89.563\n",
      "Accuracy at step 450\n",
      "\tTrain Set: 96.000\n",
      "\tTest Set:  91.396\n",
      "Accuracy at step 500\n",
      "\tTrain Set: 96.000\n",
      "\tTest Set:  91.819\n",
      "Accuracy at step 550\n",
      "\tTrain Set: 98.667\n",
      "\tTest Set:  94.781\n",
      "Accuracy at step 600\n",
      "\tTrain Set: 98.000\n",
      "\tTest Set:  92.243\n",
      "Accuracy at step 650\n",
      "\tTrain Set: 100.000\n",
      "\tTest Set:  94.358\n",
      "Accuracy at step 700\n",
      "\tTrain Set: 96.667\n",
      "\tTest Set:  94.076\n",
      "Accuracy at step 750\n",
      "\tTrain Set: 98.000\n",
      "\tTest Set:  93.653\n",
      "Accuracy at step 800\n",
      "\tTrain Set: 97.333\n",
      "\tTest Set:  95.487\n",
      "Accuracy at step 850\n",
      "\tTrain Set: 97.333\n",
      "\tTest Set:  95.487\n",
      "Accuracy at step 900\n",
      "\tTrain Set: 99.333\n",
      "\tTest Set:  95.769\n",
      "Accuracy at step 950\n",
      "\tTrain Set: 98.000\n",
      "\tTest Set:  96.756\n",
      "Accuracy at step 1000\n",
      "\tTrain Set: 98.667\n",
      "\tTest Set:  94.217\n",
      "Accuracy at step 1050\n",
      "\tTrain Set: 100.000\n",
      "\tTest Set:  96.474\n",
      "Accuracy at step 1100\n",
      "\tTrain Set: 100.000\n",
      "\tTest Set:  97.179\n",
      "Accuracy at step 1150\n",
      "\tTrain Set: 100.000\n",
      "\tTest Set:  96.756\n",
      "Accuracy at step 1200\n",
      "\tTrain Set: 98.667\n",
      "\tTest Set:  95.487\n",
      "Accuracy at step 1250\n",
      "\tTrain Set: 98.667\n",
      "\tTest Set:  95.346\n",
      "Accuracy at step 1300\n",
      "\tTrain Set: 99.333\n",
      "\tTest Set:  98.166\n",
      "Accuracy at step 1350\n",
      "\tTrain Set: 100.000\n",
      "\tTest Set:  97.602\n",
      "Accuracy at step 1400\n",
      "\tTrain Set: 100.000\n",
      "\tTest Set:  97.179\n",
      "Accuracy at step 1450\n",
      "\tTrain Set: 99.333\n",
      "\tTest Set:  98.449\n",
      "Accuracy at step 1500\n",
      "\tTrain Set: 99.333\n",
      "\tTest Set:  96.615\n"
     ]
    }
   ],
   "source": [
    "# open a session for the created graph\n",
    "with tf.Session() as sess:\n",
    "    sess.run(tf.global_variables_initializer())\n",
    "    train_writer.add_graph(sess.graph)\n",
    "    test_writer.add_graph(sess.graph)\n",
    "    \n",
    "    # get test labels in one-hot format\n",
    "    y_test_all_one_hot = one_hot(PD_RNN1.get_y_test(), num_classes)\n",
    "    \n",
    "    # get sequence tensor for testing and corresponding sequence lengths\n",
    "    X_test_all = PD_RNN1.get_X_test()\n",
    "    seqlens_test_all = PD_RNN1.get_seqlens_test()\n",
    "    \n",
    "    # train the RNN with a defined number of steps\n",
    "    for step in range(num_steps):\n",
    "        # get batch data\n",
    "        x_batch, y_batch, seqlens_batch = PD_RNN1.get_train_batch(batch_size)\n",
    "        \n",
    "        # get batch labels in one-hot format\n",
    "        y_batch_one_hot = one_hot(y_batch, num_classes)\n",
    "        \n",
    "        # run the session\n",
    "        sess.run(train_step, feed_dict={inputs:x_batch, labels:y_batch_one_hot, seqlens:seqlens_batch})\n",
    "        \n",
    "        # evaluate the RNN every 20 steps\n",
    "        if step % 50 == 0:\n",
    "            summary_train, accuracy_train = sess.run([merged, accuracy], \n",
    "                                                      feed_dict={inputs:x_batch, \n",
    "                                                                 labels:y_batch_one_hot, \n",
    "                                                                 seqlens:seqlens_batch})\n",
    "            print('Accuracy at step {}'.format(step))\n",
    "            print('\\tTrain Set: {:.3f}'.format(accuracy_train))\n",
    "            \n",
    "            # write to train summary\n",
    "            train_writer.add_summary(summary_train, step)\n",
    "    \n",
    "            summary_test, pred_prob_test, pred_prob_test_all, pred_test, accuracy_test = sess.run([merged, pred_prob,\n",
    "                                                        pred_prob_all_states, tf.argmax(final_output,1), accuracy],\n",
    "                                                        feed_dict={inputs:X_test_all, \n",
    "                                                                   labels:y_test_all_one_hot, \n",
    "                                                                   seqlens:seqlens_test_all})\n",
    "            # write to test summary\n",
    "            test_writer.add_summary(summary_test, step)\n",
    "    \n",
    "            print('\\tTest Set:  {:.3f}'.format(accuracy_test))\n",
    "    \n",
    "    outputs_RNN = sess.run(outputs, feed_dict={inputs:X_test_all, labels:y_test_all_one_hot, seqlens:seqlens_test_all})\n",
    "    \n",
    "    # Creates a saver.\n",
    "    saver = tf.train.Saver()\n",
    "    saver.save(sess, 'E:/TensorFlow_saved_models/final-RNN-model/RNN-model-1')\n",
    "    # Generates MetaGraphDef.\n",
    "    saver.export_meta_graph('E:/TensorFlow_saved_models/final-RNN-model/RNN-model-1.meta')\n"
   ]
  },
  {
   "cell_type": "code",
   "execution_count": 27,
   "metadata": {
    "ExecuteTime": {
     "end_time": "2019-01-31T13:38:23.020351Z",
     "start_time": "2019-01-31T13:38:23.003350Z"
    }
   },
   "outputs": [
    {
     "data": {
      "text/plain": [
       "(709, 48, 128)"
      ]
     },
     "execution_count": 27,
     "metadata": {},
     "output_type": "execute_result"
    }
   ],
   "source": [
    "np.shape(outputs_RNN)"
   ]
  },
  {
   "cell_type": "markdown",
   "metadata": {},
   "source": [
    "### Evaluate the results"
   ]
  },
  {
   "cell_type": "code",
   "execution_count": 28,
   "metadata": {
    "ExecuteTime": {
     "end_time": "2019-01-31T13:38:23.280366Z",
     "start_time": "2019-01-31T13:38:23.043353Z"
    }
   },
   "outputs": [
    {
     "name": "stdout",
     "output_type": "stream",
     "text": [
      "Exercise\tPrecision [%]\tRecall [%]\tAccuracy [%]\n",
      "  RF\t\t   70.00\t   93.33\t   98.03\n",
      "  RO\t\t   94.44\t   56.67\t   98.03\n",
      "  RS\t\t   96.67\t   96.67\t   99.72\n",
      "  LR\t\t   96.77\t  100.00\t   99.86\n",
      "  BC\t\t  100.00\t  100.00\t  100.00\n",
      "  TC\t\t   96.77\t  100.00\t   99.86\n",
      "  MP\t\t  100.00\t  100.00\t  100.00\n",
      "  SA\t\t   96.88\t  100.00\t   99.86\n",
      "  P1\t\t   93.75\t  100.00\t   99.72\n",
      "  P2\t\t   90.62\t   96.67\t   99.44\n",
      "  NE\t\t   99.50\t   98.28\t   98.73\n"
     ]
    }
   ],
   "source": [
    "print_precision_recall_accuracy(pred_test, PD_RNN1.get_y_test())"
   ]
  },
  {
   "cell_type": "code",
   "execution_count": 29,
   "metadata": {
    "ExecuteTime": {
     "end_time": "2019-01-31T13:38:23.339370Z",
     "start_time": "2019-01-31T13:38:23.285367Z"
    }
   },
   "outputs": [
    {
     "name": "stdout",
     "output_type": "stream",
     "text": [
      "24 misclassified (709 test data points):\n",
      "RF classified as NE\n",
      "RF classified as RO\n",
      "RO classified as RF\n",
      "RO classified as RF\n",
      "RO classified as RF\n",
      "RO classified as RF\n",
      "RO classified as RF\n",
      "RO classified as RF\n",
      "RO classified as RF\n",
      "RO classified as RF\n",
      "RO classified as NE\n",
      "RO classified as RF\n",
      "RO classified as RF\n",
      "RO classified as RF\n",
      "RO classified as RF\n",
      "RS classified as P2\n",
      "P2 classified as RS\n",
      "NE classified as TC\n",
      "NE classified as P2\n",
      "NE classified as P1\n",
      "NE classified as SA\n",
      "NE classified as P1\n",
      "NE classified as LR\n",
      "NE classified as P2\n"
     ]
    }
   ],
   "source": [
    "print_misclassified_data_points(pred_test, PD_RNN1.get_y_test())"
   ]
  },
  {
   "cell_type": "code",
   "execution_count": 30,
   "metadata": {
    "ExecuteTime": {
     "end_time": "2019-01-31T13:38:23.479378Z",
     "start_time": "2019-01-31T13:38:23.344370Z"
    }
   },
   "outputs": [
    {
     "data": {
      "text/plain": [
       "(709, 11)"
      ]
     },
     "execution_count": 30,
     "metadata": {},
     "output_type": "execute_result"
    }
   ],
   "source": [
    "np.shape(pred_prob_test)"
   ]
  },
  {
   "cell_type": "code",
   "execution_count": 31,
   "metadata": {
    "ExecuteTime": {
     "end_time": "2019-01-31T13:38:23.611385Z",
     "start_time": "2019-01-31T13:38:23.485378Z"
    }
   },
   "outputs": [
    {
     "data": {
      "text/plain": [
       "(34032, 11)"
      ]
     },
     "execution_count": 31,
     "metadata": {},
     "output_type": "execute_result"
    }
   ],
   "source": [
    "np.shape(pred_prob_test_all)"
   ]
  },
  {
   "cell_type": "code",
   "execution_count": 32,
   "metadata": {
    "ExecuteTime": {
     "end_time": "2019-01-31T13:38:23.748393Z",
     "start_time": "2019-01-31T13:38:23.624386Z"
    }
   },
   "outputs": [
    {
     "data": {
      "text/plain": [
       "48.0"
      ]
     },
     "execution_count": 32,
     "metadata": {},
     "output_type": "execute_result"
    }
   ],
   "source": [
    "34032 / 709"
   ]
  },
  {
   "cell_type": "code",
   "execution_count": 33,
   "metadata": {
    "ExecuteTime": {
     "end_time": "2019-01-31T13:38:23.898402Z",
     "start_time": "2019-01-31T13:38:23.757394Z"
    }
   },
   "outputs": [
    {
     "data": {
      "text/plain": [
       "array([4.7100175e-02, 8.2546368e-04, 2.3376574e-04, 2.4930680e-05,\n",
       "       6.7277701e-06, 4.7115932e-06, 3.2259763e-06, 1.7638398e-06,\n",
       "       9.8499342e-08, 8.9629539e-09, 1.6333107e-07, 1.4246034e-06,\n",
       "       3.4198263e-05, 3.9227665e-04, 4.0686196e-03, 1.6318576e-02,\n",
       "       6.8762310e-02, 3.3676946e-01, 8.0679190e-01, 8.9086550e-01,\n",
       "       9.9448580e-01, 8.3560601e-02, 8.3560601e-02, 8.3560601e-02,\n",
       "       8.3560601e-02, 8.3560601e-02, 8.3560601e-02, 8.3560601e-02,\n",
       "       8.3560601e-02, 8.3560601e-02, 8.3560601e-02, 8.3560601e-02,\n",
       "       8.3560601e-02, 8.3560601e-02, 8.3560601e-02, 8.3560601e-02,\n",
       "       8.3560601e-02, 8.3560601e-02, 8.3560601e-02, 8.3560601e-02,\n",
       "       8.3560601e-02, 8.3560601e-02, 8.3560601e-02, 8.3560601e-02,\n",
       "       8.3560601e-02, 8.3560601e-02, 8.3560601e-02, 8.3560601e-02],\n",
       "      dtype=float32)"
      ]
     },
     "execution_count": 33,
     "metadata": {},
     "output_type": "execute_result"
    }
   ],
   "source": [
    "pred_prob_test_all[0:48,0] # first 48 rows belong to the first data point"
   ]
  },
  {
   "cell_type": "code",
   "execution_count": 34,
   "metadata": {
    "ExecuteTime": {
     "end_time": "2019-01-31T13:38:24.049410Z",
     "start_time": "2019-01-31T13:38:23.910402Z"
    }
   },
   "outputs": [
    {
     "data": {
      "text/plain": [
       "21"
      ]
     },
     "execution_count": 34,
     "metadata": {},
     "output_type": "execute_result"
    }
   ],
   "source": [
    "PD_RNN1.get_seqlens_test()[0]"
   ]
  },
  {
   "cell_type": "code",
   "execution_count": 35,
   "metadata": {
    "ExecuteTime": {
     "end_time": "2019-01-31T13:38:24.181418Z",
     "start_time": "2019-01-31T13:38:24.069411Z"
    }
   },
   "outputs": [
    {
     "data": {
      "text/plain": [
       "0.9944858"
      ]
     },
     "execution_count": 35,
     "metadata": {},
     "output_type": "execute_result"
    }
   ],
   "source": [
    "pred_prob_test_all[PD_RNN1.get_seqlens_test()[0]-1,0]"
   ]
  },
  {
   "cell_type": "code",
   "execution_count": 36,
   "metadata": {
    "ExecuteTime": {
     "end_time": "2019-01-31T13:38:24.312425Z",
     "start_time": "2019-01-31T13:38:24.198419Z"
    }
   },
   "outputs": [
    {
     "data": {
      "text/plain": [
       "0.9944858"
      ]
     },
     "execution_count": 36,
     "metadata": {},
     "output_type": "execute_result"
    }
   ],
   "source": [
    "pred_prob_test[0,0]"
   ]
  },
  {
   "cell_type": "code",
   "execution_count": 37,
   "metadata": {
    "ExecuteTime": {
     "end_time": "2019-01-31T13:38:24.453433Z",
     "start_time": "2019-01-31T13:38:24.320426Z"
    }
   },
   "outputs": [
    {
     "data": {
      "text/plain": [
       "0"
      ]
     },
     "execution_count": 37,
     "metadata": {},
     "output_type": "execute_result"
    }
   ],
   "source": [
    "pred_test[0]"
   ]
  },
  {
   "cell_type": "code",
   "execution_count": null,
   "metadata": {},
   "outputs": [],
   "source": []
  },
  {
   "cell_type": "code",
   "execution_count": 38,
   "metadata": {
    "ExecuteTime": {
     "end_time": "2019-01-31T13:38:26.375543Z",
     "start_time": "2019-01-31T13:38:24.459434Z"
    }
   },
   "outputs": [
    {
     "name": "stdout",
     "output_type": "stream",
     "text": [
      "Predicted probabilities [%] for the different exercises:\n",
      "\n",
      "Ex. 0\tEx. 1\tEx. 2\tEx. 3\tEx. 4\tEx. 5\tEx. 6\tEx. 7\tEx. 8\tEx. 9\tEx. 10\tpred. class\n",
      "99.45\t0.49\t0.00\t0.00\t0.00\t0.00\t0.00\t0.00\t0.00\t0.00\t0.05\t--> 0\n",
      "96.02\t3.28\t0.01\t0.00\t0.02\t0.00\t0.00\t0.02\t0.00\t0.05\t0.59\t--> 0\n",
      "97.59\t1.58\t0.01\t0.00\t0.00\t0.00\t0.00\t0.00\t0.00\t0.01\t0.79\t--> 0\n",
      "90.57\t7.51\t0.02\t0.00\t0.00\t0.00\t0.00\t0.03\t0.00\t0.15\t1.71\t--> 0\n",
      "85.20\t14.07\t0.03\t0.00\t0.00\t0.00\t0.00\t0.10\t0.00\t0.17\t0.42\t--> 0\n",
      "99.60\t0.38\t0.00\t0.00\t0.00\t0.00\t0.00\t0.01\t0.00\t0.00\t0.01\t--> 0\n",
      "10.96\t4.04\t0.03\t0.00\t0.00\t0.00\t0.01\t0.00\t0.00\t0.10\t84.86\t--> 10\n",
      "98.52\t1.26\t0.00\t0.00\t0.00\t0.00\t0.00\t0.02\t0.00\t0.01\t0.19\t--> 0\n",
      "92.20\t7.23\t0.01\t0.00\t0.01\t0.00\t0.00\t0.06\t0.00\t0.07\t0.43\t--> 0\n",
      "97.95\t1.57\t0.01\t0.00\t0.00\t0.00\t0.00\t0.04\t0.00\t0.01\t0.42\t--> 0\n",
      "93.40\t0.75\t0.00\t0.00\t0.00\t0.00\t0.00\t0.05\t0.00\t0.01\t5.79\t--> 0\n",
      "93.45\t4.77\t0.01\t0.00\t0.01\t0.00\t0.00\t0.02\t0.00\t0.01\t1.74\t--> 0\n",
      "93.93\t5.69\t0.00\t0.00\t0.00\t0.00\t0.00\t0.02\t0.00\t0.01\t0.35\t--> 0\n",
      "89.78\t3.21\t0.00\t0.00\t0.00\t0.00\t0.00\t0.16\t0.00\t0.22\t6.62\t--> 0\n",
      "96.43\t2.90\t0.00\t0.00\t0.00\t0.00\t0.00\t0.03\t0.00\t0.03\t0.62\t--> 0\n",
      "98.26\t1.66\t0.00\t0.00\t0.00\t0.00\t0.00\t0.01\t0.00\t0.00\t0.07\t--> 0\n",
      "98.87\t1.05\t0.00\t0.00\t0.00\t0.00\t0.00\t0.01\t0.00\t0.01\t0.06\t--> 0\n",
      "98.77\t1.16\t0.00\t0.00\t0.00\t0.00\t0.00\t0.01\t0.00\t0.00\t0.06\t--> 0\n",
      "99.10\t0.77\t0.00\t0.00\t0.00\t0.00\t0.00\t0.01\t0.00\t0.00\t0.11\t--> 0\n",
      "90.89\t6.83\t0.02\t0.00\t0.01\t0.00\t0.00\t0.04\t0.00\t0.16\t2.06\t--> 0\n",
      "85.10\t3.20\t0.01\t0.00\t0.00\t0.00\t0.00\t0.21\t0.00\t0.05\t11.43\t--> 0\n",
      "86.56\t2.62\t0.04\t0.01\t0.02\t0.00\t0.00\t0.33\t0.01\t0.07\t10.33\t--> 0\n",
      "90.06\t5.79\t0.01\t0.00\t0.00\t0.00\t0.00\t0.10\t0.00\t0.09\t3.95\t--> 0\n",
      "97.66\t2.05\t0.00\t0.00\t0.00\t0.00\t0.00\t0.02\t0.00\t0.01\t0.26\t--> 0\n",
      "43.51\t22.13\t0.07\t0.01\t0.03\t0.00\t0.02\t1.47\t0.00\t1.33\t31.42\t--> 0\n",
      "98.68\t1.18\t0.00\t0.00\t0.00\t0.00\t0.00\t0.01\t0.00\t0.01\t0.11\t--> 0\n",
      "80.00\t18.14\t0.04\t0.00\t0.01\t0.00\t0.01\t0.13\t0.00\t0.15\t1.53\t--> 0\n",
      "23.10\t76.57\t0.02\t0.00\t0.01\t0.00\t0.00\t0.03\t0.00\t0.07\t0.19\t--> 1\n",
      "98.51\t1.30\t0.00\t0.00\t0.00\t0.00\t0.00\t0.01\t0.00\t0.01\t0.17\t--> 0\n",
      "93.02\t5.99\t0.01\t0.00\t0.01\t0.00\t0.00\t0.13\t0.00\t0.11\t0.72\t--> 0\n",
      "91.24\t7.93\t0.00\t0.00\t0.00\t0.00\t0.00\t0.03\t0.00\t0.01\t0.78\t--> 0\n",
      "74.32\t25.00\t0.00\t0.00\t0.01\t0.00\t0.00\t0.04\t0.00\t0.01\t0.61\t--> 0\n",
      "10.65\t89.18\t0.03\t0.00\t0.01\t0.00\t0.00\t0.00\t0.00\t0.02\t0.11\t--> 1\n",
      "79.32\t20.25\t0.00\t0.00\t0.01\t0.00\t0.00\t0.02\t0.00\t0.04\t0.36\t--> 0\n",
      "76.49\t22.28\t0.01\t0.00\t0.01\t0.00\t0.00\t0.01\t0.00\t0.04\t1.16\t--> 0\n",
      "97.27\t2.64\t0.00\t0.00\t0.00\t0.00\t0.00\t0.01\t0.00\t0.01\t0.06\t--> 0\n",
      "34.46\t62.42\t0.15\t0.00\t0.11\t0.00\t0.00\t0.05\t0.00\t0.89\t1.93\t--> 1\n",
      "85.73\t14.02\t0.01\t0.00\t0.04\t0.00\t0.00\t0.02\t0.00\t0.00\t0.19\t--> 0\n",
      "3.06\t96.77\t0.01\t0.00\t0.04\t0.00\t0.01\t0.01\t0.00\t0.03\t0.07\t--> 1\n",
      "27.64\t71.58\t0.07\t0.00\t0.04\t0.00\t0.01\t0.05\t0.00\t0.11\t0.49\t--> 1\n",
      "19.98\t79.87\t0.01\t0.00\t0.01\t0.00\t0.00\t0.01\t0.00\t0.02\t0.09\t--> 1\n",
      "1.97\t92.76\t0.17\t0.00\t0.09\t0.00\t0.08\t0.04\t0.00\t1.93\t2.96\t--> 1\n",
      "3.36\t96.21\t0.01\t0.00\t0.03\t0.00\t0.00\t0.00\t0.00\t0.07\t0.30\t--> 1\n",
      "45.63\t53.57\t0.02\t0.00\t0.01\t0.00\t0.01\t0.04\t0.00\t0.12\t0.60\t--> 1\n",
      "7.34\t91.73\t0.02\t0.00\t0.03\t0.00\t0.01\t0.02\t0.00\t0.08\t0.76\t--> 1\n",
      "77.62\t21.36\t0.02\t0.00\t0.02\t0.00\t0.00\t0.11\t0.00\t0.22\t0.65\t--> 0\n",
      "68.59\t24.68\t0.02\t0.00\t0.02\t0.00\t0.03\t0.39\t0.00\t0.38\t5.88\t--> 0\n",
      "6.59\t26.41\t1.05\t0.09\t0.32\t0.10\t2.54\t1.74\t0.00\t14.32\t46.83\t--> 10\n",
      "58.10\t40.50\t0.03\t0.00\t0.01\t0.00\t0.00\t0.06\t0.00\t0.09\t1.20\t--> 0\n",
      "20.67\t73.50\t0.07\t0.01\t0.08\t0.00\t0.06\t0.10\t0.00\t0.29\t5.22\t--> 1\n",
      "63.59\t33.80\t0.05\t0.01\t0.02\t0.00\t0.01\t0.20\t0.00\t0.99\t1.34\t--> 0\n",
      "15.85\t80.50\t0.04\t0.00\t0.06\t0.00\t0.04\t0.08\t0.00\t0.10\t3.32\t--> 1\n",
      "44.18\t55.57\t0.01\t0.00\t0.02\t0.00\t0.00\t0.01\t0.00\t0.02\t0.18\t--> 1\n",
      "27.58\t50.62\t0.18\t0.01\t0.06\t0.00\t0.04\t0.21\t0.00\t4.41\t16.89\t--> 1\n",
      "51.38\t38.38\t0.18\t0.00\t0.04\t0.00\t0.02\t0.26\t0.00\t1.30\t8.43\t--> 0\n",
      "31.18\t67.22\t0.04\t0.00\t0.01\t0.00\t0.01\t0.09\t0.00\t0.69\t0.77\t--> 1\n",
      "8.40\t90.80\t0.11\t0.00\t0.03\t0.00\t0.01\t0.01\t0.00\t0.43\t0.21\t--> 1\n",
      "80.24\t19.38\t0.01\t0.00\t0.01\t0.00\t0.00\t0.03\t0.00\t0.03\t0.31\t--> 0\n",
      "10.14\t89.61\t0.01\t0.00\t0.02\t0.00\t0.00\t0.01\t0.00\t0.01\t0.21\t--> 1\n",
      "20.79\t78.83\t0.01\t0.00\t0.02\t0.00\t0.01\t0.01\t0.00\t0.01\t0.33\t--> 1\n",
      "0.00\t0.00\t99.99\t0.00\t0.00\t0.00\t0.00\t0.00\t0.00\t0.00\t0.00\t--> 2\n",
      "0.00\t0.00\t99.91\t0.00\t0.00\t0.00\t0.00\t0.00\t0.00\t0.09\t0.00\t--> 2\n",
      "0.01\t0.02\t99.40\t0.30\t0.00\t0.00\t0.00\t0.00\t0.00\t0.27\t0.01\t--> 2\n",
      "0.05\t0.21\t83.54\t0.40\t0.00\t0.00\t0.01\t0.00\t0.01\t15.60\t0.18\t--> 2\n",
      "0.00\t0.01\t99.49\t0.10\t0.00\t0.00\t0.00\t0.00\t0.00\t0.38\t0.01\t--> 2\n",
      "0.00\t0.00\t99.99\t0.00\t0.00\t0.00\t0.00\t0.00\t0.00\t0.00\t0.00\t--> 2\n",
      "0.01\t0.00\t99.86\t0.02\t0.00\t0.00\t0.00\t0.00\t0.00\t0.09\t0.01\t--> 2\n",
      "0.00\t0.00\t99.98\t0.01\t0.00\t0.00\t0.00\t0.00\t0.00\t0.00\t0.00\t--> 2\n",
      "0.15\t0.31\t56.05\t23.28\t0.00\t0.00\t0.00\t0.00\t0.09\t19.61\t0.51\t--> 2\n",
      "0.01\t0.01\t96.57\t0.13\t0.00\t0.00\t0.00\t0.00\t0.00\t3.27\t0.01\t--> 2\n",
      "0.01\t0.03\t99.36\t0.01\t0.00\t0.00\t0.00\t0.00\t0.00\t0.58\t0.01\t--> 2\n",
      "0.00\t0.00\t99.99\t0.00\t0.00\t0.00\t0.00\t0.00\t0.00\t0.00\t0.00\t--> 2\n",
      "0.00\t0.01\t98.94\t0.04\t0.00\t0.00\t0.00\t0.00\t0.00\t1.00\t0.01\t--> 2\n",
      "0.00\t0.00\t99.87\t0.04\t0.00\t0.00\t0.00\t0.00\t0.00\t0.09\t0.00\t--> 2\n",
      "0.00\t0.00\t99.99\t0.00\t0.00\t0.00\t0.00\t0.00\t0.00\t0.00\t0.00\t--> 2\n",
      "0.00\t0.15\t0.25\t0.01\t0.00\t0.00\t0.00\t0.00\t0.00\t99.53\t0.05\t--> 9\n",
      "0.00\t0.00\t99.92\t0.00\t0.00\t0.00\t0.00\t0.00\t0.00\t0.07\t0.01\t--> 2\n",
      "0.00\t0.00\t99.99\t0.00\t0.00\t0.00\t0.00\t0.00\t0.00\t0.01\t0.00\t--> 2\n",
      "0.01\t0.02\t99.04\t0.31\t0.00\t0.00\t0.00\t0.00\t0.00\t0.62\t0.00\t--> 2\n",
      "0.00\t0.00\t99.95\t0.00\t0.00\t0.00\t0.00\t0.00\t0.00\t0.05\t0.00\t--> 2\n",
      "0.00\t0.01\t99.85\t0.02\t0.00\t0.00\t0.00\t0.00\t0.00\t0.12\t0.00\t--> 2\n",
      "0.00\t0.00\t99.92\t0.00\t0.00\t0.00\t0.00\t0.00\t0.00\t0.08\t0.00\t--> 2\n",
      "0.00\t0.02\t83.83\t0.01\t0.00\t0.00\t0.01\t0.00\t0.00\t16.12\t0.01\t--> 2\n",
      "0.01\t0.02\t98.89\t0.77\t0.00\t0.00\t0.00\t0.00\t0.00\t0.31\t0.00\t--> 2\n",
      "0.01\t0.02\t94.46\t0.79\t0.00\t0.00\t0.00\t0.00\t0.01\t4.66\t0.06\t--> 2\n",
      "0.00\t0.01\t99.93\t0.00\t0.00\t0.00\t0.00\t0.00\t0.00\t0.06\t0.00\t--> 2\n",
      "0.00\t0.00\t99.91\t0.00\t0.00\t0.00\t0.00\t0.00\t0.00\t0.07\t0.01\t--> 2\n",
      "0.01\t0.03\t99.18\t0.01\t0.00\t0.00\t0.00\t0.00\t0.00\t0.76\t0.02\t--> 2\n",
      "0.00\t0.00\t99.97\t0.00\t0.00\t0.00\t0.00\t0.00\t0.00\t0.02\t0.00\t--> 2\n",
      "0.00\t0.00\t99.99\t0.00\t0.00\t0.00\t0.00\t0.00\t0.00\t0.01\t0.00\t--> 2\n",
      "0.00\t0.00\t0.00\t99.97\t0.00\t0.00\t0.00\t0.00\t0.00\t0.02\t0.00\t--> 3\n",
      "0.00\t0.00\t0.00\t99.93\t0.00\t0.00\t0.00\t0.00\t0.00\t0.06\t0.00\t--> 3\n",
      "0.00\t0.00\t0.01\t99.93\t0.00\t0.00\t0.00\t0.00\t0.00\t0.05\t0.00\t--> 3\n",
      "0.00\t0.00\t0.22\t96.45\t0.00\t0.00\t0.02\t0.00\t0.02\t2.29\t0.99\t--> 3\n",
      "0.00\t0.00\t0.01\t99.95\t0.00\t0.00\t0.00\t0.00\t0.00\t0.03\t0.00\t--> 3\n",
      "0.00\t0.00\t0.00\t99.95\t0.00\t0.00\t0.00\t0.00\t0.00\t0.03\t0.01\t--> 3\n",
      "0.00\t0.00\t0.01\t99.92\t0.00\t0.00\t0.00\t0.00\t0.00\t0.05\t0.02\t--> 3\n",
      "0.00\t0.00\t0.01\t99.95\t0.00\t0.00\t0.00\t0.00\t0.00\t0.04\t0.01\t--> 3\n",
      "0.00\t0.00\t0.00\t99.93\t0.00\t0.00\t0.00\t0.00\t0.01\t0.04\t0.01\t--> 3\n",
      "0.00\t0.00\t0.13\t99.56\t0.00\t0.00\t0.00\t0.00\t0.00\t0.30\t0.01\t--> 3\n",
      "0.00\t0.00\t0.01\t99.94\t0.00\t0.00\t0.00\t0.00\t0.00\t0.04\t0.01\t--> 3\n",
      "0.00\t0.00\t0.01\t99.81\t0.00\t0.00\t0.00\t0.00\t0.00\t0.16\t0.01\t--> 3\n",
      "0.00\t0.00\t0.03\t99.80\t0.00\t0.00\t0.00\t0.00\t0.00\t0.15\t0.01\t--> 3\n",
      "0.00\t0.01\t0.10\t98.05\t0.00\t0.00\t0.01\t0.00\t0.00\t1.73\t0.10\t--> 3\n",
      "0.00\t0.00\t0.02\t99.52\t0.00\t0.00\t0.03\t0.00\t0.00\t0.37\t0.06\t--> 3\n",
      "0.00\t0.00\t0.02\t99.93\t0.00\t0.00\t0.00\t0.00\t0.00\t0.04\t0.00\t--> 3\n",
      "0.00\t0.00\t0.00\t99.96\t0.00\t0.00\t0.00\t0.00\t0.00\t0.02\t0.00\t--> 3\n",
      "0.00\t0.00\t0.00\t99.83\t0.00\t0.00\t0.01\t0.00\t0.00\t0.10\t0.05\t--> 3\n",
      "0.00\t0.00\t0.01\t99.96\t0.00\t0.00\t0.00\t0.00\t0.00\t0.02\t0.00\t--> 3\n",
      "0.00\t0.00\t0.00\t99.94\t0.00\t0.00\t0.00\t0.00\t0.00\t0.04\t0.01\t--> 3\n",
      "0.00\t0.00\t0.02\t99.75\t0.00\t0.00\t0.01\t0.00\t0.00\t0.18\t0.04\t--> 3\n",
      "0.00\t0.00\t0.05\t99.75\t0.00\t0.00\t0.00\t0.00\t0.00\t0.18\t0.01\t--> 3\n",
      "0.00\t0.00\t0.01\t99.91\t0.00\t0.00\t0.00\t0.00\t0.00\t0.07\t0.01\t--> 3\n",
      "0.00\t0.00\t0.02\t99.90\t0.00\t0.00\t0.00\t0.00\t0.00\t0.07\t0.01\t--> 3\n",
      "0.00\t0.00\t0.00\t99.92\t0.00\t0.00\t0.00\t0.00\t0.00\t0.06\t0.01\t--> 3\n",
      "0.00\t0.00\t0.02\t99.91\t0.00\t0.00\t0.00\t0.00\t0.00\t0.06\t0.01\t--> 3\n",
      "0.00\t0.00\t0.18\t95.02\t0.00\t0.01\t0.08\t0.00\t0.00\t2.38\t2.33\t--> 3\n",
      "0.00\t0.00\t0.01\t99.94\t0.00\t0.00\t0.00\t0.00\t0.00\t0.04\t0.01\t--> 3\n",
      "0.00\t0.00\t0.04\t99.79\t0.00\t0.00\t0.00\t0.00\t0.00\t0.15\t0.02\t--> 3\n",
      "0.00\t0.00\t0.01\t99.93\t0.00\t0.00\t0.00\t0.00\t0.00\t0.05\t0.00\t--> 3\n",
      "0.03\t0.01\t0.00\t0.00\t99.88\t0.00\t0.00\t0.08\t0.00\t0.00\t0.01\t--> 4\n",
      "0.02\t0.03\t0.00\t0.00\t99.62\t0.01\t0.00\t0.30\t0.00\t0.00\t0.01\t--> 4\n",
      "0.01\t0.01\t0.00\t0.00\t99.41\t0.01\t0.00\t0.55\t0.00\t0.00\t0.01\t--> 4\n",
      "0.01\t0.01\t0.00\t0.00\t99.89\t0.01\t0.00\t0.08\t0.00\t0.00\t0.00\t--> 4\n",
      "0.01\t0.01\t0.00\t0.00\t99.73\t0.00\t0.00\t0.24\t0.00\t0.00\t0.01\t--> 4\n",
      "0.33\t0.06\t0.00\t0.00\t98.63\t0.00\t0.00\t0.83\t0.00\t0.00\t0.14\t--> 4\n",
      "0.04\t0.04\t0.00\t0.00\t99.54\t0.00\t0.00\t0.32\t0.00\t0.00\t0.05\t--> 4\n",
      "0.01\t0.01\t0.00\t0.00\t99.57\t0.00\t0.00\t0.40\t0.00\t0.00\t0.01\t--> 4\n",
      "0.01\t0.01\t0.00\t0.00\t99.65\t0.00\t0.00\t0.32\t0.00\t0.00\t0.01\t--> 4\n",
      "0.02\t0.01\t0.00\t0.00\t99.89\t0.00\t0.00\t0.09\t0.00\t0.00\t0.00\t--> 4\n",
      "0.03\t0.07\t0.00\t0.00\t99.74\t0.00\t0.00\t0.08\t0.01\t0.05\t0.01\t--> 4\n",
      "0.02\t0.04\t0.00\t0.01\t99.72\t0.02\t0.00\t0.16\t0.01\t0.01\t0.01\t--> 4\n",
      "0.02\t0.04\t0.00\t0.00\t99.80\t0.00\t0.00\t0.10\t0.01\t0.02\t0.01\t--> 4\n",
      "0.02\t0.02\t0.00\t0.00\t99.92\t0.00\t0.00\t0.04\t0.00\t0.00\t0.00\t--> 4\n",
      "0.00\t0.01\t0.00\t0.00\t99.92\t0.00\t0.00\t0.06\t0.00\t0.00\t0.00\t--> 4\n",
      "0.78\t0.60\t0.15\t0.00\t98.24\t0.05\t0.00\t0.06\t0.11\t0.00\t0.00\t--> 4\n",
      "0.01\t0.01\t0.00\t0.00\t99.46\t0.00\t0.00\t0.49\t0.00\t0.00\t0.02\t--> 4\n",
      "0.01\t0.03\t0.01\t0.00\t99.83\t0.03\t0.00\t0.07\t0.00\t0.00\t0.00\t--> 4\n",
      "0.06\t0.11\t0.01\t0.02\t98.63\t0.09\t0.01\t0.95\t0.02\t0.01\t0.09\t--> 4\n",
      "0.01\t0.02\t0.00\t0.00\t99.81\t0.02\t0.00\t0.11\t0.01\t0.00\t0.00\t--> 4\n",
      "0.04\t0.13\t0.03\t0.03\t98.65\t0.22\t0.01\t0.83\t0.02\t0.01\t0.03\t--> 4\n",
      "0.02\t0.04\t0.00\t0.00\t99.58\t0.02\t0.00\t0.29\t0.01\t0.00\t0.02\t--> 4\n",
      "0.03\t0.14\t0.05\t0.04\t99.29\t0.12\t0.01\t0.16\t0.02\t0.03\t0.09\t--> 4\n",
      "0.00\t0.01\t0.00\t0.00\t99.84\t0.00\t0.00\t0.14\t0.00\t0.00\t0.00\t--> 4\n",
      "0.35\t0.08\t0.00\t0.00\t87.71\t0.15\t0.00\t10.51\t0.04\t0.00\t1.16\t--> 4\n",
      "0.02\t0.03\t0.00\t0.00\t99.29\t0.03\t0.00\t0.59\t0.01\t0.00\t0.03\t--> 4\n",
      "0.01\t0.02\t0.00\t0.00\t99.77\t0.01\t0.00\t0.18\t0.00\t0.00\t0.00\t--> 4\n",
      "0.01\t0.01\t0.00\t0.00\t99.89\t0.00\t0.00\t0.08\t0.00\t0.00\t0.00\t--> 4\n",
      "0.02\t0.03\t0.00\t0.00\t99.35\t0.03\t0.00\t0.55\t0.01\t0.00\t0.01\t--> 4\n",
      "0.06\t0.10\t0.01\t0.02\t97.80\t0.08\t0.01\t1.78\t0.02\t0.01\t0.11\t--> 4\n",
      "0.03\t0.09\t0.04\t0.03\t99.60\t0.05\t0.00\t0.09\t0.02\t0.02\t0.02\t--> 4\n",
      "0.00\t0.00\t0.00\t0.00\t0.00\t99.64\t0.01\t0.02\t0.30\t0.00\t0.02\t--> 5\n",
      "0.00\t0.00\t0.01\t0.00\t0.00\t99.99\t0.00\t0.00\t0.00\t0.00\t0.00\t--> 5\n",
      "0.00\t0.00\t0.01\t0.00\t0.00\t99.91\t0.00\t0.00\t0.07\t0.00\t0.00\t--> 5\n",
      "0.00\t0.00\t0.02\t0.00\t0.00\t99.96\t0.01\t0.00\t0.01\t0.00\t0.00\t--> 5\n",
      "0.00\t0.00\t0.01\t0.00\t0.00\t99.95\t0.00\t0.01\t0.03\t0.00\t0.01\t--> 5\n",
      "0.00\t0.00\t0.01\t0.00\t0.01\t99.76\t0.00\t0.00\t0.21\t0.00\t0.01\t--> 5\n",
      "0.00\t0.00\t0.01\t0.00\t0.05\t99.38\t0.10\t0.02\t0.43\t0.00\t0.02\t--> 5\n",
      "0.00\t0.00\t0.08\t0.02\t0.11\t98.60\t0.35\t0.06\t0.68\t0.00\t0.09\t--> 5\n",
      "0.00\t0.00\t0.00\t0.00\t0.01\t99.93\t0.02\t0.00\t0.04\t0.00\t0.00\t--> 5\n",
      "0.00\t0.00\t0.01\t0.00\t0.02\t99.80\t0.05\t0.01\t0.11\t0.00\t0.01\t--> 5\n",
      "0.00\t0.00\t0.02\t0.02\t0.11\t99.04\t0.52\t0.03\t0.18\t0.01\t0.06\t--> 5\n",
      "0.00\t0.00\t0.00\t0.00\t0.01\t99.24\t0.01\t0.00\t0.72\t0.00\t0.01\t--> 5\n",
      "0.00\t0.00\t0.02\t0.00\t0.05\t99.47\t0.06\t0.02\t0.31\t0.00\t0.06\t--> 5\n",
      "0.00\t0.00\t0.02\t0.00\t0.02\t99.53\t0.00\t0.01\t0.42\t0.00\t0.01\t--> 5\n",
      "0.00\t0.00\t0.01\t0.00\t0.03\t99.82\t0.02\t0.01\t0.08\t0.00\t0.03\t--> 5\n",
      "0.00\t0.00\t0.01\t0.00\t0.01\t99.92\t0.00\t0.00\t0.05\t0.00\t0.01\t--> 5\n",
      "0.00\t0.00\t0.08\t0.00\t0.01\t99.28\t0.03\t0.00\t0.59\t0.00\t0.00\t--> 5\n",
      "0.00\t0.00\t0.00\t0.00\t0.01\t99.94\t0.01\t0.00\t0.03\t0.00\t0.00\t--> 5\n",
      "0.00\t0.00\t0.01\t0.00\t0.00\t99.78\t0.00\t0.00\t0.20\t0.00\t0.01\t--> 5\n",
      "0.00\t0.00\t0.01\t0.00\t0.01\t99.33\t0.01\t0.01\t0.59\t0.00\t0.03\t--> 5\n",
      "0.00\t0.00\t0.02\t0.00\t0.01\t99.84\t0.02\t0.00\t0.10\t0.00\t0.00\t--> 5\n",
      "0.00\t0.00\t0.02\t0.00\t0.06\t99.39\t0.02\t0.04\t0.39\t0.00\t0.07\t--> 5\n",
      "0.00\t0.00\t0.02\t0.11\t0.53\t98.00\t0.67\t0.10\t0.42\t0.03\t0.11\t--> 5\n",
      "0.00\t0.00\t0.02\t0.01\t0.05\t99.02\t0.35\t0.06\t0.44\t0.00\t0.03\t--> 5\n",
      "0.00\t0.00\t0.02\t0.01\t0.06\t99.54\t0.17\t0.04\t0.05\t0.00\t0.12\t--> 5\n",
      "0.00\t0.00\t0.00\t0.00\t0.00\t99.90\t0.00\t0.00\t0.09\t0.00\t0.00\t--> 5\n",
      "0.00\t0.00\t0.00\t0.00\t0.00\t99.97\t0.01\t0.00\t0.02\t0.00\t0.00\t--> 5\n",
      "0.00\t0.00\t0.01\t0.00\t0.01\t99.35\t0.00\t0.01\t0.60\t0.00\t0.01\t--> 5\n",
      "0.00\t0.00\t0.00\t0.00\t0.00\t99.97\t0.02\t0.00\t0.01\t0.00\t0.00\t--> 5\n",
      "0.00\t0.00\t0.01\t0.00\t0.00\t99.74\t0.00\t0.00\t0.24\t0.00\t0.01\t--> 5\n",
      "0.00\t0.00\t0.00\t0.00\t0.00\t0.00\t98.12\t0.00\t0.00\t0.02\t1.86\t--> 6\n",
      "0.00\t0.00\t0.00\t0.00\t0.00\t0.00\t99.89\t0.00\t0.00\t0.00\t0.10\t--> 6\n",
      "0.00\t0.00\t0.00\t0.00\t0.00\t0.00\t98.89\t0.00\t0.00\t0.03\t1.07\t--> 6\n",
      "0.00\t0.00\t0.00\t0.00\t0.00\t0.03\t98.90\t0.02\t0.00\t0.00\t1.05\t--> 6\n",
      "0.01\t0.01\t0.00\t0.00\t0.00\t0.00\t97.23\t0.02\t0.00\t0.02\t2.72\t--> 6\n",
      "0.00\t0.00\t0.00\t0.10\t0.00\t0.11\t99.66\t0.01\t0.00\t0.00\t0.13\t--> 6\n",
      "0.00\t0.00\t0.00\t0.00\t0.00\t0.00\t99.74\t0.00\t0.00\t0.00\t0.26\t--> 6\n",
      "0.00\t0.00\t0.00\t0.00\t0.00\t0.00\t99.72\t0.00\t0.00\t0.00\t0.27\t--> 6\n",
      "0.00\t0.00\t0.00\t0.00\t0.00\t0.00\t99.52\t0.01\t0.00\t0.00\t0.47\t--> 6\n",
      "0.00\t0.00\t0.00\t0.00\t0.00\t0.00\t93.99\t0.14\t0.00\t0.00\t5.87\t--> 6\n",
      "0.00\t0.00\t0.00\t0.00\t0.00\t0.00\t99.88\t0.00\t0.00\t0.00\t0.11\t--> 6\n",
      "0.00\t0.00\t0.00\t0.00\t0.00\t0.00\t99.24\t0.00\t0.00\t0.00\t0.75\t--> 6\n",
      "0.00\t0.00\t0.00\t0.00\t0.00\t0.00\t99.70\t0.00\t0.00\t0.01\t0.29\t--> 6\n",
      "0.00\t0.00\t0.00\t0.00\t0.00\t0.00\t99.93\t0.00\t0.00\t0.00\t0.07\t--> 6\n",
      "0.00\t0.00\t0.00\t0.00\t0.00\t0.00\t98.56\t0.02\t0.00\t0.02\t1.39\t--> 6\n",
      "0.00\t0.00\t0.00\t0.00\t0.00\t0.00\t99.01\t0.00\t0.00\t0.00\t0.98\t--> 6\n",
      "0.00\t0.00\t0.00\t0.00\t0.00\t0.10\t98.35\t0.02\t0.00\t0.04\t1.48\t--> 6\n",
      "0.00\t0.00\t0.00\t0.01\t0.00\t0.31\t99.05\t0.01\t0.01\t0.00\t0.61\t--> 6\n",
      "0.00\t0.00\t0.01\t0.01\t0.00\t0.39\t98.73\t0.01\t0.00\t0.00\t0.85\t--> 6\n",
      "0.00\t0.00\t0.00\t0.01\t0.00\t0.03\t99.39\t0.01\t0.00\t0.00\t0.56\t--> 6\n",
      "0.00\t0.00\t0.00\t0.00\t0.00\t0.04\t99.36\t0.20\t0.00\t0.00\t0.40\t--> 6\n",
      "0.00\t0.00\t0.00\t0.00\t0.00\t0.00\t95.90\t0.01\t0.00\t0.00\t4.08\t--> 6\n",
      "0.00\t0.00\t0.00\t0.00\t0.00\t0.00\t99.87\t0.00\t0.00\t0.00\t0.13\t--> 6\n",
      "0.01\t0.01\t0.00\t0.00\t0.00\t0.00\t96.35\t0.01\t0.00\t0.07\t3.54\t--> 6\n",
      "0.00\t0.01\t0.00\t0.00\t0.00\t0.00\t97.16\t0.05\t0.00\t0.01\t2.76\t--> 6\n",
      "0.00\t0.00\t0.00\t0.00\t0.00\t2.04\t97.32\t0.46\t0.01\t0.00\t0.16\t--> 6\n",
      "0.00\t0.00\t0.00\t0.00\t0.00\t0.00\t99.80\t0.01\t0.00\t0.02\t0.17\t--> 6\n",
      "0.00\t0.00\t0.00\t0.00\t0.00\t0.04\t99.94\t0.00\t0.00\t0.00\t0.02\t--> 6\n",
      "0.00\t0.00\t0.00\t0.00\t0.00\t0.00\t99.88\t0.00\t0.00\t0.00\t0.12\t--> 6\n",
      "0.00\t0.00\t0.00\t0.90\t0.00\t0.22\t98.51\t0.01\t0.00\t0.01\t0.35\t--> 6\n",
      "0.00\t0.00\t0.00\t0.00\t0.00\t0.00\t0.00\t99.98\t0.00\t0.00\t0.01\t--> 7\n",
      "0.01\t0.00\t0.00\t0.00\t0.02\t0.00\t0.00\t99.93\t0.00\t0.00\t0.03\t--> 7\n",
      "0.01\t0.00\t0.00\t0.00\t0.00\t0.00\t0.00\t99.98\t0.00\t0.00\t0.01\t--> 7\n",
      "0.00\t0.00\t0.00\t0.00\t0.01\t0.00\t0.00\t99.98\t0.00\t0.00\t0.00\t--> 7\n",
      "0.01\t0.00\t0.00\t0.00\t0.00\t0.00\t0.00\t99.98\t0.00\t0.00\t0.00\t--> 7\n",
      "0.00\t0.00\t0.00\t0.00\t0.01\t0.00\t0.00\t99.98\t0.00\t0.00\t0.01\t--> 7\n",
      "0.01\t0.00\t0.00\t0.00\t0.00\t0.00\t0.00\t99.98\t0.00\t0.00\t0.01\t--> 7\n",
      "0.00\t0.00\t0.00\t0.00\t0.01\t0.00\t0.00\t99.97\t0.00\t0.00\t0.01\t--> 7\n",
      "0.00\t0.00\t0.00\t0.00\t0.00\t0.00\t0.00\t99.99\t0.00\t0.00\t0.00\t--> 7\n",
      "0.01\t0.00\t0.00\t0.00\t0.01\t0.00\t0.00\t99.98\t0.00\t0.00\t0.00\t--> 7\n",
      "0.00\t0.00\t0.00\t0.00\t0.00\t0.00\t0.00\t99.99\t0.00\t0.00\t0.01\t--> 7\n",
      "0.00\t0.00\t0.00\t0.00\t0.00\t0.00\t0.00\t99.98\t0.00\t0.00\t0.01\t--> 7\n",
      "0.00\t0.00\t0.00\t0.00\t0.00\t0.00\t0.00\t99.99\t0.00\t0.00\t0.00\t--> 7\n",
      "0.00\t0.00\t0.00\t0.00\t0.01\t0.00\t0.00\t99.97\t0.00\t0.00\t0.01\t--> 7\n",
      "0.01\t0.00\t0.00\t0.00\t0.01\t0.00\t0.00\t99.97\t0.00\t0.00\t0.01\t--> 7\n",
      "0.00\t0.00\t0.00\t0.00\t0.00\t0.00\t0.00\t99.98\t0.00\t0.00\t0.01\t--> 7\n",
      "0.00\t0.00\t0.00\t0.00\t0.00\t0.00\t0.00\t99.99\t0.00\t0.00\t0.01\t--> 7\n",
      "0.00\t0.00\t0.00\t0.00\t0.00\t0.00\t0.00\t99.99\t0.00\t0.00\t0.01\t--> 7\n",
      "0.01\t0.00\t0.00\t0.00\t0.00\t0.00\t0.00\t99.99\t0.00\t0.00\t0.00\t--> 7\n",
      "0.01\t0.00\t0.00\t0.00\t0.01\t0.00\t0.00\t99.97\t0.00\t0.00\t0.01\t--> 7\n",
      "0.01\t0.00\t0.00\t0.00\t0.00\t0.00\t0.00\t99.97\t0.00\t0.00\t0.02\t--> 7\n",
      "0.02\t0.00\t0.00\t0.00\t0.00\t0.00\t0.00\t99.97\t0.00\t0.00\t0.01\t--> 7\n",
      "0.04\t0.00\t0.00\t0.00\t0.00\t0.00\t0.00\t99.91\t0.00\t0.00\t0.04\t--> 7\n",
      "0.02\t0.00\t0.00\t0.00\t0.00\t0.00\t0.00\t99.97\t0.00\t0.00\t0.01\t--> 7\n"
     ]
    },
    {
     "name": "stdout",
     "output_type": "stream",
     "text": [
      "0.01\t0.00\t0.00\t0.00\t0.01\t0.00\t0.00\t99.98\t0.00\t0.00\t0.01\t--> 7\n",
      "1.15\t0.20\t0.00\t0.01\t0.23\t0.11\t0.34\t94.11\t0.01\t0.01\t3.83\t--> 7\n",
      "0.01\t0.00\t0.00\t0.00\t0.00\t0.00\t0.00\t99.91\t0.01\t0.00\t0.07\t--> 7\n",
      "0.00\t0.00\t0.00\t0.00\t0.00\t0.00\t0.00\t99.98\t0.01\t0.00\t0.01\t--> 7\n",
      "0.00\t0.00\t0.00\t0.00\t0.02\t0.00\t0.00\t99.96\t0.01\t0.00\t0.02\t--> 7\n",
      "0.01\t0.00\t0.00\t0.00\t0.00\t0.00\t0.00\t99.98\t0.00\t0.00\t0.00\t--> 7\n",
      "0.03\t0.00\t0.00\t0.00\t0.00\t0.00\t0.00\t99.94\t0.00\t0.00\t0.02\t--> 7\n",
      "0.00\t0.00\t0.00\t0.01\t0.00\t0.00\t0.00\t0.00\t99.98\t0.00\t0.00\t--> 8\n",
      "0.00\t0.00\t0.00\t0.01\t0.00\t0.00\t0.00\t0.00\t99.98\t0.00\t0.01\t--> 8\n",
      "0.00\t0.00\t0.00\t0.03\t0.00\t0.00\t0.00\t0.00\t99.94\t0.00\t0.02\t--> 8\n",
      "0.00\t0.00\t0.00\t0.06\t0.00\t0.01\t0.00\t0.00\t99.89\t0.00\t0.04\t--> 8\n",
      "0.00\t0.00\t0.00\t0.04\t0.00\t0.01\t0.00\t0.00\t99.94\t0.00\t0.01\t--> 8\n",
      "0.00\t0.00\t0.01\t0.65\t0.00\t0.01\t0.00\t0.00\t99.29\t0.01\t0.03\t--> 8\n",
      "0.00\t0.00\t0.00\t0.00\t0.00\t0.00\t0.00\t0.00\t100.00\t0.00\t0.00\t--> 8\n",
      "0.00\t0.00\t0.00\t0.01\t0.00\t0.00\t0.00\t0.00\t99.99\t0.00\t0.00\t--> 8\n",
      "0.00\t0.00\t0.00\t0.00\t0.00\t0.00\t0.00\t0.00\t99.99\t0.00\t0.00\t--> 8\n",
      "0.00\t0.00\t0.00\t0.02\t0.00\t0.02\t0.00\t0.00\t99.95\t0.00\t0.01\t--> 8\n",
      "0.00\t0.00\t0.08\t0.33\t0.01\t0.25\t0.00\t0.00\t99.21\t0.01\t0.11\t--> 8\n",
      "0.00\t0.00\t0.00\t0.00\t0.00\t0.00\t0.00\t0.00\t100.00\t0.00\t0.00\t--> 8\n",
      "0.00\t0.00\t0.00\t0.00\t0.00\t0.00\t0.00\t0.00\t100.00\t0.00\t0.00\t--> 8\n",
      "0.00\t0.00\t0.00\t0.02\t0.00\t0.00\t0.00\t0.00\t99.97\t0.00\t0.01\t--> 8\n",
      "0.00\t0.00\t0.00\t0.07\t0.00\t0.01\t0.00\t0.00\t99.91\t0.00\t0.01\t--> 8\n",
      "0.00\t0.00\t0.00\t0.02\t0.00\t0.00\t0.00\t0.00\t99.97\t0.00\t0.01\t--> 8\n",
      "0.00\t0.00\t0.00\t0.02\t0.00\t0.00\t0.00\t0.00\t99.93\t0.00\t0.04\t--> 8\n",
      "0.00\t0.00\t0.00\t0.01\t0.00\t0.00\t0.00\t0.00\t99.99\t0.00\t0.00\t--> 8\n",
      "0.00\t0.00\t0.01\t0.12\t0.00\t0.00\t0.00\t0.00\t99.82\t0.00\t0.05\t--> 8\n",
      "0.00\t0.00\t0.00\t0.03\t0.00\t0.00\t0.00\t0.00\t99.97\t0.00\t0.00\t--> 8\n",
      "0.00\t0.00\t0.00\t0.03\t0.00\t0.02\t0.00\t0.00\t99.94\t0.00\t0.01\t--> 8\n",
      "0.00\t0.00\t0.00\t0.01\t0.00\t0.00\t0.00\t0.00\t99.98\t0.00\t0.01\t--> 8\n",
      "0.00\t0.00\t0.02\t0.17\t0.00\t0.19\t0.00\t0.00\t99.52\t0.00\t0.10\t--> 8\n",
      "0.02\t0.00\t0.01\t0.93\t0.03\t0.04\t0.01\t0.04\t98.75\t0.00\t0.16\t--> 8\n",
      "0.00\t0.00\t0.00\t0.01\t0.00\t0.01\t0.00\t0.00\t99.97\t0.00\t0.01\t--> 8\n",
      "0.00\t0.00\t0.00\t0.04\t0.00\t0.02\t0.00\t0.00\t99.93\t0.00\t0.00\t--> 8\n",
      "0.00\t0.00\t0.00\t0.01\t0.00\t0.01\t0.00\t0.00\t99.97\t0.00\t0.01\t--> 8\n",
      "0.00\t0.00\t0.00\t0.08\t0.00\t0.00\t0.00\t0.00\t99.89\t0.00\t0.02\t--> 8\n",
      "0.00\t0.00\t0.00\t0.05\t0.00\t0.01\t0.00\t0.00\t99.94\t0.00\t0.01\t--> 8\n",
      "0.00\t0.00\t0.00\t0.03\t0.00\t0.00\t0.00\t0.00\t99.96\t0.00\t0.01\t--> 8\n",
      "0.00\t0.01\t0.20\t0.30\t0.00\t0.00\t0.01\t0.00\t0.00\t99.46\t0.01\t--> 9\n",
      "0.00\t0.01\t2.56\t1.22\t0.00\t0.00\t0.05\t0.00\t0.00\t96.11\t0.05\t--> 9\n",
      "0.00\t0.00\t0.43\t0.03\t0.00\t0.00\t0.07\t0.00\t0.00\t99.42\t0.04\t--> 9\n",
      "0.00\t0.01\t0.00\t0.78\t0.00\t0.00\t0.03\t0.00\t0.00\t99.02\t0.16\t--> 9\n",
      "0.00\t0.01\t0.05\t0.01\t0.00\t0.00\t0.01\t0.00\t0.00\t99.89\t0.03\t--> 9\n",
      "0.00\t0.01\t0.01\t0.55\t0.00\t0.00\t0.01\t0.00\t0.00\t99.36\t0.05\t--> 9\n",
      "0.02\t0.03\t51.27\t0.00\t0.00\t0.01\t0.12\t0.00\t0.00\t48.51\t0.04\t--> 2\n",
      "0.02\t0.07\t6.34\t7.96\t0.00\t0.00\t0.04\t0.00\t0.00\t85.51\t0.04\t--> 9\n",
      "0.01\t0.03\t9.96\t0.26\t0.00\t0.00\t0.04\t0.00\t0.01\t89.62\t0.06\t--> 9\n",
      "0.01\t0.04\t2.61\t0.03\t0.00\t0.00\t0.25\t0.00\t0.00\t96.58\t0.49\t--> 9\n",
      "0.00\t0.01\t0.01\t0.01\t0.00\t0.00\t0.01\t0.00\t0.00\t99.94\t0.02\t--> 9\n",
      "0.01\t0.25\t36.71\t0.07\t0.00\t0.00\t0.16\t0.00\t0.00\t62.26\t0.53\t--> 9\n",
      "0.01\t0.04\t0.26\t0.18\t0.00\t0.00\t0.04\t0.00\t0.00\t99.42\t0.05\t--> 9\n",
      "0.00\t0.00\t0.24\t0.01\t0.00\t0.00\t0.01\t0.00\t0.00\t99.72\t0.01\t--> 9\n",
      "0.00\t0.02\t16.35\t0.58\t0.00\t0.00\t0.09\t0.00\t0.00\t82.89\t0.07\t--> 9\n",
      "0.01\t0.03\t0.04\t0.27\t0.00\t0.00\t0.07\t0.00\t0.02\t99.33\t0.23\t--> 9\n",
      "0.00\t0.00\t0.01\t0.01\t0.00\t0.00\t0.00\t0.00\t0.00\t99.96\t0.01\t--> 9\n",
      "0.02\t0.10\t0.03\t0.12\t0.02\t0.00\t0.02\t0.00\t0.02\t99.39\t0.26\t--> 9\n",
      "0.00\t0.03\t0.04\t0.03\t0.00\t0.00\t0.12\t0.00\t0.00\t99.47\t0.32\t--> 9\n",
      "0.04\t0.13\t0.02\t0.20\t0.01\t0.00\t0.10\t0.00\t0.01\t99.37\t0.11\t--> 9\n",
      "0.00\t0.01\t0.00\t0.02\t0.00\t0.00\t0.00\t0.00\t0.00\t99.93\t0.04\t--> 9\n",
      "0.00\t0.01\t0.00\t0.11\t0.00\t0.00\t0.00\t0.00\t0.00\t99.85\t0.03\t--> 9\n",
      "0.00\t0.00\t0.00\t0.02\t0.00\t0.00\t0.00\t0.00\t0.00\t99.96\t0.01\t--> 9\n",
      "0.00\t0.00\t0.00\t0.01\t0.00\t0.00\t0.00\t0.00\t0.00\t99.96\t0.02\t--> 9\n",
      "0.00\t0.01\t0.01\t0.18\t0.00\t0.00\t0.01\t0.00\t0.00\t99.76\t0.02\t--> 9\n",
      "0.03\t0.07\t0.06\t0.22\t0.00\t0.00\t0.14\t0.00\t0.01\t99.25\t0.22\t--> 9\n",
      "0.00\t0.01\t0.51\t0.02\t0.00\t0.00\t0.07\t0.00\t0.00\t99.25\t0.15\t--> 9\n",
      "0.00\t0.02\t0.01\t0.12\t0.00\t0.00\t0.02\t0.00\t0.00\t99.74\t0.08\t--> 9\n",
      "0.00\t0.01\t0.12\t0.16\t0.00\t0.00\t0.01\t0.00\t0.00\t99.67\t0.03\t--> 9\n",
      "0.00\t0.03\t2.36\t0.02\t0.00\t0.00\t0.05\t0.00\t0.00\t97.49\t0.05\t--> 9\n",
      "0.00\t0.00\t0.00\t0.00\t0.00\t0.00\t0.00\t0.00\t0.00\t0.00\t100.00\t--> 10\n",
      "0.00\t0.00\t0.00\t0.00\t0.00\t0.00\t0.00\t0.00\t0.00\t0.00\t100.00\t--> 10\n",
      "0.00\t0.00\t0.00\t0.00\t0.00\t0.00\t0.00\t0.00\t0.00\t0.00\t100.00\t--> 10\n",
      "0.00\t0.00\t0.00\t0.00\t0.00\t0.00\t0.00\t0.00\t0.00\t0.00\t100.00\t--> 10\n",
      "0.00\t0.00\t0.00\t0.00\t0.00\t0.00\t0.00\t0.00\t0.00\t0.00\t100.00\t--> 10\n",
      "0.00\t0.00\t0.00\t0.00\t0.00\t0.00\t0.00\t0.00\t0.00\t0.00\t100.00\t--> 10\n",
      "0.00\t0.00\t0.00\t0.00\t0.00\t0.00\t0.00\t0.00\t0.00\t0.00\t100.00\t--> 10\n",
      "0.00\t0.00\t0.00\t0.00\t0.00\t0.00\t0.00\t0.00\t0.00\t0.00\t100.00\t--> 10\n",
      "0.00\t0.00\t0.00\t0.00\t0.00\t0.00\t0.00\t0.00\t0.00\t0.00\t100.00\t--> 10\n",
      "0.00\t0.00\t0.00\t0.00\t0.00\t0.00\t0.00\t0.00\t0.00\t0.00\t100.00\t--> 10\n",
      "0.00\t0.00\t0.00\t0.00\t0.00\t0.00\t0.00\t0.00\t0.00\t0.00\t100.00\t--> 10\n",
      "0.00\t0.00\t0.00\t0.00\t0.00\t0.00\t0.00\t0.00\t0.00\t0.00\t100.00\t--> 10\n",
      "0.00\t0.00\t0.00\t0.00\t0.00\t0.00\t0.00\t0.00\t0.00\t0.00\t100.00\t--> 10\n",
      "0.00\t0.00\t0.00\t0.00\t0.00\t0.00\t0.00\t0.00\t0.00\t0.00\t99.99\t--> 10\n",
      "0.01\t0.00\t0.00\t0.00\t0.00\t0.00\t2.10\t0.01\t0.00\t0.01\t97.87\t--> 10\n",
      "0.00\t0.00\t0.00\t0.00\t0.00\t0.00\t0.00\t0.00\t0.00\t0.00\t100.00\t--> 10\n",
      "0.00\t0.00\t0.00\t0.00\t0.00\t0.00\t0.00\t0.00\t0.00\t0.00\t100.00\t--> 10\n",
      "0.00\t0.00\t0.00\t0.00\t0.00\t0.00\t0.00\t0.00\t0.00\t0.00\t100.00\t--> 10\n",
      "0.00\t0.00\t0.00\t0.05\t0.00\t0.00\t0.00\t0.00\t0.33\t0.00\t99.62\t--> 10\n",
      "0.00\t0.00\t0.00\t0.00\t0.00\t0.00\t0.00\t0.00\t0.00\t0.00\t100.00\t--> 10\n",
      "0.00\t0.00\t0.00\t0.00\t0.00\t0.00\t0.00\t0.00\t0.01\t0.00\t99.99\t--> 10\n",
      "0.00\t0.00\t0.00\t0.00\t0.00\t0.00\t0.00\t0.00\t0.00\t0.00\t99.99\t--> 10\n",
      "0.00\t0.00\t0.00\t0.00\t0.00\t0.00\t0.00\t0.00\t0.00\t0.00\t99.99\t--> 10\n",
      "0.00\t0.00\t0.00\t0.00\t0.00\t0.00\t0.00\t0.00\t0.00\t0.00\t100.00\t--> 10\n",
      "0.05\t0.02\t0.00\t0.00\t0.00\t0.00\t0.00\t0.01\t0.00\t0.02\t99.91\t--> 10\n",
      "0.02\t0.03\t0.00\t0.02\t0.00\t0.00\t0.01\t0.02\t0.03\t0.01\t99.87\t--> 10\n",
      "0.00\t0.00\t0.00\t0.00\t0.00\t0.00\t0.00\t0.00\t0.00\t0.00\t100.00\t--> 10\n",
      "0.00\t0.00\t0.00\t0.00\t0.00\t0.00\t0.00\t0.00\t0.00\t0.00\t100.00\t--> 10\n",
      "0.00\t0.00\t0.01\t0.02\t0.00\t0.00\t0.03\t0.00\t0.34\t0.03\t99.56\t--> 10\n",
      "0.00\t0.00\t0.00\t0.00\t0.00\t0.00\t0.00\t0.00\t0.00\t0.00\t100.00\t--> 10\n",
      "0.00\t0.00\t0.00\t0.00\t0.00\t0.00\t0.00\t0.00\t0.00\t0.00\t100.00\t--> 10\n",
      "0.08\t0.16\t0.00\t0.00\t0.00\t0.00\t0.00\t0.02\t0.00\t0.06\t99.66\t--> 10\n",
      "0.00\t0.00\t0.00\t0.00\t0.00\t0.00\t0.01\t0.00\t0.00\t0.00\t99.98\t--> 10\n",
      "0.07\t0.09\t0.00\t0.30\t0.00\t0.00\t0.04\t0.03\t0.25\t0.11\t99.09\t--> 10\n",
      "0.00\t0.00\t0.00\t0.00\t0.00\t0.00\t0.00\t0.00\t0.00\t0.00\t100.00\t--> 10\n",
      "0.00\t0.00\t0.00\t0.00\t0.00\t0.00\t0.00\t0.00\t0.00\t0.00\t100.00\t--> 10\n",
      "0.00\t0.00\t0.01\t0.06\t0.00\t0.01\t0.04\t0.00\t49.18\t0.05\t50.66\t--> 10\n",
      "1.30\t0.06\t0.00\t0.00\t0.21\t0.04\t0.15\t11.88\t0.00\t0.03\t86.33\t--> 10\n",
      "0.00\t0.00\t0.00\t0.00\t0.00\t0.00\t0.00\t0.00\t0.00\t0.00\t100.00\t--> 10\n",
      "0.00\t0.00\t0.00\t0.00\t0.00\t0.00\t0.00\t0.00\t0.00\t0.00\t100.00\t--> 10\n",
      "0.00\t0.00\t0.00\t0.00\t0.00\t0.00\t0.00\t0.00\t0.00\t0.00\t100.00\t--> 10\n",
      "0.00\t0.00\t0.00\t0.00\t0.00\t0.00\t0.00\t0.00\t0.00\t0.00\t100.00\t--> 10\n",
      "0.00\t0.00\t0.01\t0.01\t0.00\t0.01\t0.02\t0.00\t0.02\t0.05\t99.89\t--> 10\n",
      "0.02\t0.04\t0.02\t0.01\t0.00\t0.04\t0.05\t0.01\t0.04\t0.22\t99.56\t--> 10\n",
      "0.00\t0.00\t0.00\t0.00\t0.00\t0.00\t0.00\t0.00\t0.00\t0.00\t100.00\t--> 10\n",
      "0.01\t0.00\t0.04\t0.00\t0.00\t0.00\t0.00\t0.00\t0.00\t0.00\t99.93\t--> 10\n",
      "0.00\t0.00\t0.00\t0.03\t0.00\t0.00\t0.00\t0.00\t0.26\t0.04\t99.66\t--> 10\n",
      "0.00\t0.00\t0.00\t0.00\t0.00\t0.00\t0.00\t0.00\t0.00\t0.00\t100.00\t--> 10\n",
      "0.00\t0.00\t0.00\t0.00\t0.00\t0.00\t0.00\t0.00\t0.00\t0.00\t100.00\t--> 10\n",
      "0.00\t0.00\t0.00\t0.00\t0.00\t0.00\t0.00\t0.00\t0.00\t0.00\t100.00\t--> 10\n",
      "0.00\t0.00\t0.00\t0.00\t0.00\t0.00\t0.00\t0.00\t0.00\t0.00\t100.00\t--> 10\n",
      "0.00\t0.00\t0.00\t0.00\t0.00\t0.00\t0.00\t0.00\t0.00\t0.00\t100.00\t--> 10\n",
      "0.00\t0.00\t0.00\t0.00\t0.00\t0.00\t0.00\t0.00\t0.00\t0.00\t100.00\t--> 10\n",
      "0.02\t0.01\t0.00\t0.00\t0.00\t0.00\t0.00\t0.00\t0.00\t0.01\t99.95\t--> 10\n",
      "0.00\t0.00\t0.00\t0.00\t0.00\t0.00\t0.00\t0.00\t0.00\t0.00\t99.98\t--> 10\n",
      "0.00\t0.00\t0.00\t0.01\t0.00\t0.00\t0.00\t0.00\t0.00\t0.01\t99.97\t--> 10\n",
      "0.01\t0.01\t0.00\t0.27\t0.00\t0.00\t0.00\t0.00\t0.06\t0.20\t99.45\t--> 10\n",
      "0.00\t0.00\t0.00\t0.00\t0.00\t0.00\t0.00\t0.00\t0.02\t0.00\t99.97\t--> 10\n",
      "0.00\t0.00\t0.00\t0.00\t0.00\t0.00\t0.00\t0.00\t0.00\t0.00\t100.00\t--> 10\n",
      "0.00\t0.00\t0.00\t0.01\t0.00\t0.00\t0.00\t0.00\t0.01\t0.01\t99.98\t--> 10\n",
      "0.00\t0.00\t0.00\t0.00\t0.00\t0.00\t0.00\t0.00\t0.00\t0.00\t99.99\t--> 10\n",
      "0.00\t0.00\t0.00\t0.00\t0.00\t0.00\t0.00\t0.00\t0.00\t0.00\t100.00\t--> 10\n",
      "0.00\t0.00\t0.00\t0.00\t0.00\t0.00\t0.00\t0.00\t0.00\t0.02\t99.97\t--> 10\n",
      "0.00\t0.00\t0.00\t0.00\t0.00\t0.00\t0.00\t0.00\t0.00\t0.00\t100.00\t--> 10\n",
      "0.02\t0.01\t0.01\t0.00\t0.00\t0.01\t0.02\t0.01\t0.01\t0.00\t99.90\t--> 10\n",
      "0.00\t0.00\t0.00\t0.00\t0.00\t0.00\t0.00\t0.00\t0.00\t0.00\t100.00\t--> 10\n",
      "0.03\t0.01\t0.00\t0.01\t0.00\t0.00\t0.00\t0.00\t0.02\t0.01\t99.91\t--> 10\n",
      "0.00\t0.00\t0.00\t0.00\t0.00\t0.00\t0.00\t0.00\t0.00\t0.00\t100.00\t--> 10\n",
      "0.00\t0.00\t0.00\t0.00\t0.00\t0.00\t0.00\t0.00\t0.00\t0.00\t100.00\t--> 10\n",
      "0.00\t0.00\t0.00\t0.00\t0.00\t0.00\t0.00\t0.00\t0.00\t0.00\t99.99\t--> 10\n",
      "0.05\t0.02\t2.33\t0.50\t2.15\t86.27\t0.42\t0.09\t6.62\t0.12\t1.44\t--> 5\n",
      "3.12\t3.20\t0.95\t1.65\t1.24\t0.79\t2.16\t1.46\t1.16\t82.33\t1.95\t--> 9\n",
      "0.00\t0.00\t0.00\t0.00\t0.00\t0.00\t0.00\t0.00\t0.00\t0.00\t99.99\t--> 10\n",
      "0.01\t0.00\t0.01\t0.16\t0.02\t0.04\t0.00\t0.02\t99.51\t0.00\t0.22\t--> 8\n",
      "0.00\t0.00\t0.00\t0.00\t0.00\t0.00\t0.00\t0.00\t0.00\t0.00\t100.00\t--> 10\n",
      "0.01\t0.01\t0.00\t0.00\t0.00\t0.00\t0.02\t0.01\t0.01\t0.01\t99.94\t--> 10\n",
      "0.00\t0.00\t0.00\t0.00\t0.00\t0.00\t0.00\t0.00\t0.00\t0.00\t100.00\t--> 10\n",
      "0.01\t0.00\t0.00\t0.00\t0.00\t0.00\t0.00\t0.00\t0.00\t0.00\t99.97\t--> 10\n",
      "0.08\t0.06\t0.06\t0.09\t0.07\t0.03\t0.02\t0.07\t0.64\t0.46\t98.44\t--> 10\n",
      "0.00\t0.00\t0.00\t0.00\t0.00\t0.00\t0.00\t0.00\t0.90\t0.01\t99.08\t--> 10\n",
      "0.00\t0.00\t0.00\t0.05\t0.00\t0.00\t0.00\t0.00\t0.40\t0.01\t99.52\t--> 10\n",
      "0.25\t0.08\t0.05\t1.46\t0.01\t0.13\t0.24\t0.02\t0.90\t4.66\t92.19\t--> 10\n",
      "0.03\t0.02\t0.03\t0.00\t0.00\t0.00\t0.01\t0.01\t0.00\t0.16\t99.74\t--> 10\n",
      "0.00\t0.00\t0.05\t0.00\t0.00\t0.01\t0.01\t0.00\t0.00\t0.00\t99.92\t--> 10\n",
      "0.00\t0.00\t0.00\t0.00\t0.00\t0.00\t0.00\t0.00\t0.00\t0.00\t100.00\t--> 10\n",
      "0.00\t0.00\t0.00\t0.00\t0.00\t0.00\t0.00\t0.00\t0.00\t0.00\t100.00\t--> 10\n",
      "0.00\t0.00\t0.00\t0.00\t0.00\t0.00\t0.00\t0.00\t0.00\t0.02\t99.96\t--> 10\n",
      "0.00\t0.00\t0.00\t0.02\t0.00\t0.00\t0.00\t0.00\t0.04\t0.00\t99.93\t--> 10\n",
      "0.00\t0.00\t0.03\t0.00\t0.00\t0.00\t0.00\t0.00\t0.00\t0.01\t99.95\t--> 10\n",
      "0.01\t0.00\t0.32\t0.10\t0.00\t0.01\t0.01\t0.00\t0.73\t0.14\t98.69\t--> 10\n",
      "0.00\t0.00\t0.00\t0.00\t0.00\t0.00\t0.00\t0.00\t0.00\t0.00\t100.00\t--> 10\n",
      "0.00\t0.00\t0.00\t0.01\t0.00\t0.00\t0.01\t0.00\t0.00\t0.00\t99.98\t--> 10\n",
      "0.00\t0.00\t0.00\t0.00\t0.00\t0.00\t0.00\t0.00\t0.00\t0.00\t100.00\t--> 10\n",
      "0.00\t0.00\t0.00\t0.00\t0.00\t0.00\t0.06\t0.12\t0.00\t0.00\t99.81\t--> 10\n",
      "0.00\t0.00\t0.00\t0.00\t0.00\t0.00\t0.00\t0.00\t0.00\t0.00\t99.99\t--> 10\n",
      "0.00\t0.00\t0.00\t0.00\t0.00\t0.00\t0.00\t0.00\t0.00\t0.01\t99.99\t--> 10\n",
      "0.00\t0.00\t0.00\t0.00\t0.00\t0.00\t0.01\t0.01\t0.00\t0.01\t99.96\t--> 10\n",
      "0.00\t0.00\t0.00\t0.00\t0.00\t0.00\t0.00\t0.00\t0.00\t0.00\t99.99\t--> 10\n",
      "0.04\t0.14\t0.00\t0.02\t0.01\t0.00\t0.04\t0.01\t0.34\t0.43\t98.97\t--> 10\n",
      "0.00\t0.01\t0.00\t0.17\t0.00\t0.00\t0.00\t0.00\t0.05\t0.06\t99.70\t--> 10\n",
      "0.01\t0.01\t0.01\t0.00\t0.00\t0.01\t0.02\t0.02\t0.00\t0.02\t99.90\t--> 10\n",
      "0.00\t0.00\t0.00\t0.00\t0.00\t0.00\t0.00\t0.01\t0.01\t0.00\t99.98\t--> 10\n",
      "1.34\t0.04\t0.00\t0.00\t0.02\t0.97\t0.64\t70.38\t0.00\t0.00\t26.61\t--> 7\n",
      "0.33\t0.08\t0.00\t0.00\t0.00\t0.00\t0.12\t0.05\t0.00\t0.01\t99.41\t--> 10\n",
      "0.03\t0.01\t0.00\t0.02\t0.00\t0.00\t0.01\t0.00\t0.03\t0.05\t99.84\t--> 10\n",
      "0.00\t0.00\t0.00\t0.00\t0.00\t0.00\t0.00\t0.00\t0.00\t0.00\t100.00\t--> 10\n",
      "0.00\t0.00\t0.00\t0.00\t0.00\t0.00\t0.00\t0.00\t0.00\t0.00\t100.00\t--> 10\n",
      "0.00\t0.00\t0.00\t0.00\t0.00\t0.00\t0.00\t0.00\t0.00\t0.00\t100.00\t--> 10\n",
      "0.00\t0.00\t0.00\t0.00\t0.00\t0.00\t0.00\t0.00\t0.00\t0.00\t100.00\t--> 10\n",
      "0.00\t0.00\t0.00\t0.00\t0.00\t0.00\t0.00\t0.00\t0.00\t0.00\t100.00\t--> 10\n",
      "0.02\t0.01\t0.00\t0.00\t0.00\t0.00\t0.00\t0.00\t0.01\t0.01\t99.94\t--> 10\n",
      "0.00\t0.00\t0.00\t0.00\t0.00\t0.00\t0.00\t0.00\t0.00\t0.00\t100.00\t--> 10\n",
      "0.00\t0.00\t0.00\t0.00\t0.00\t0.00\t0.00\t0.00\t0.00\t0.00\t100.00\t--> 10\n",
      "0.00\t0.00\t0.00\t0.00\t0.00\t0.00\t0.00\t0.00\t0.00\t0.11\t99.87\t--> 10\n",
      "1.04\t0.08\t0.05\t1.69\t0.02\t0.04\t0.25\t0.10\t11.58\t0.08\t85.07\t--> 10\n",
      "0.01\t0.03\t0.13\t0.03\t0.01\t0.07\t2.26\t0.03\t0.03\t0.73\t96.67\t--> 10\n",
      "0.01\t0.00\t0.00\t0.00\t0.00\t0.00\t0.00\t0.01\t0.00\t0.00\t99.98\t--> 10\n",
      "0.00\t0.00\t0.00\t0.00\t0.00\t0.00\t0.01\t0.00\t0.00\t0.00\t99.99\t--> 10\n",
      "0.00\t0.00\t0.00\t0.00\t0.00\t0.00\t0.00\t0.00\t0.00\t0.00\t100.00\t--> 10\n",
      "0.00\t0.00\t0.00\t0.00\t0.00\t0.00\t0.00\t0.00\t0.01\t0.00\t99.99\t--> 10\n",
      "0.00\t0.00\t0.00\t0.00\t0.00\t0.00\t0.00\t0.00\t0.00\t0.00\t100.00\t--> 10\n",
      "0.00\t0.00\t0.00\t0.00\t0.00\t0.00\t0.00\t0.00\t0.00\t0.00\t100.00\t--> 10\n",
      "0.00\t0.00\t0.00\t0.00\t0.00\t0.00\t0.00\t0.00\t0.00\t0.00\t100.00\t--> 10\n",
      "0.00\t0.00\t0.00\t0.00\t0.00\t0.00\t0.00\t0.00\t0.00\t0.00\t100.00\t--> 10\n",
      "0.00\t0.00\t0.00\t0.00\t0.00\t0.00\t0.00\t0.00\t0.00\t0.00\t100.00\t--> 10\n",
      "0.00\t0.00\t0.00\t0.00\t0.00\t0.00\t0.00\t0.00\t0.00\t0.00\t100.00\t--> 10\n",
      "0.00\t0.00\t0.00\t0.00\t0.00\t0.00\t0.00\t0.00\t0.00\t0.00\t100.00\t--> 10\n",
      "0.00\t0.00\t0.00\t0.00\t0.00\t0.00\t0.00\t0.00\t0.00\t0.00\t100.00\t--> 10\n",
      "0.00\t0.00\t0.00\t0.00\t0.00\t0.00\t0.00\t0.00\t0.00\t0.00\t100.00\t--> 10\n",
      "0.00\t0.00\t0.00\t0.00\t0.00\t0.00\t0.00\t0.00\t0.00\t0.00\t100.00\t--> 10\n",
      "0.01\t0.00\t0.00\t0.00\t0.00\t0.00\t0.00\t0.00\t0.00\t0.00\t99.98\t--> 10\n",
      "0.28\t0.15\t4.19\t0.43\t0.14\t0.32\t1.57\t0.64\t0.90\t10.53\t80.84\t--> 10\n",
      "0.01\t0.00\t0.00\t0.00\t0.00\t0.01\t0.01\t0.02\t0.00\t0.00\t99.95\t--> 10\n",
      "0.82\t0.67\t0.05\t0.03\t0.03\t0.03\t0.10\t0.05\t0.08\t0.40\t97.74\t--> 10\n",
      "0.00\t0.00\t0.01\t0.00\t0.00\t0.04\t0.01\t0.00\t0.01\t0.00\t99.93\t--> 10\n",
      "0.00\t0.00\t0.01\t0.00\t0.00\t0.00\t0.00\t0.00\t0.00\t0.04\t99.94\t--> 10\n",
      "0.00\t0.00\t0.00\t0.00\t0.00\t0.00\t0.02\t0.00\t0.00\t0.01\t99.97\t--> 10\n",
      "0.00\t0.00\t0.00\t0.00\t0.00\t0.00\t0.00\t0.00\t0.00\t0.01\t99.98\t--> 10\n",
      "0.00\t0.00\t0.00\t0.00\t0.00\t0.00\t0.00\t0.00\t0.00\t0.02\t99.98\t--> 10\n",
      "0.00\t0.00\t0.01\t0.00\t0.00\t0.05\t0.03\t0.00\t0.00\t0.00\t99.90\t--> 10\n",
      "0.12\t0.02\t0.03\t0.17\t0.01\t0.00\t0.03\t0.04\t2.38\t0.03\t97.18\t--> 10\n",
      "0.00\t0.01\t0.00\t0.04\t0.00\t0.01\t0.01\t0.01\t0.01\t0.06\t99.84\t--> 10\n",
      "0.00\t0.00\t0.00\t0.00\t0.00\t0.00\t0.00\t0.00\t0.03\t0.00\t99.96\t--> 10\n",
      "0.00\t0.00\t0.00\t0.00\t0.00\t0.00\t0.00\t0.00\t0.00\t0.00\t99.99\t--> 10\n",
      "0.00\t0.00\t0.00\t0.00\t0.00\t0.00\t0.00\t0.00\t0.00\t0.00\t100.00\t--> 10\n",
      "0.00\t0.00\t0.00\t0.00\t0.00\t0.00\t0.00\t0.00\t0.00\t0.00\t100.00\t--> 10\n",
      "0.00\t0.00\t0.00\t0.00\t0.00\t0.00\t0.00\t0.00\t0.00\t0.00\t100.00\t--> 10\n",
      "0.00\t0.00\t0.01\t2.28\t0.01\t0.28\t0.01\t0.02\t88.75\t0.05\t8.60\t--> 8\n",
      "0.00\t0.00\t0.00\t0.00\t0.00\t0.00\t0.00\t0.00\t0.00\t0.00\t100.00\t--> 10\n",
      "0.00\t0.00\t0.00\t0.00\t0.00\t0.00\t0.00\t0.00\t0.00\t0.00\t100.00\t--> 10\n",
      "0.00\t0.00\t0.00\t0.00\t0.00\t0.00\t0.00\t0.00\t0.00\t0.00\t100.00\t--> 10\n",
      "0.02\t0.00\t0.00\t0.00\t0.00\t0.00\t0.00\t0.00\t0.00\t0.01\t99.96\t--> 10\n",
      "0.00\t0.01\t0.00\t7.50\t0.00\t0.00\t0.01\t0.00\t0.01\t2.75\t89.73\t--> 10\n",
      "0.01\t0.00\t0.00\t0.00\t0.00\t0.00\t0.00\t0.00\t0.00\t0.01\t99.98\t--> 10\n",
      "0.00\t0.00\t0.00\t0.00\t0.00\t0.00\t0.00\t0.00\t0.00\t0.00\t100.00\t--> 10\n",
      "0.00\t0.00\t0.00\t0.00\t0.00\t0.00\t0.00\t0.00\t0.00\t0.00\t100.00\t--> 10\n",
      "0.00\t0.00\t0.00\t0.00\t0.00\t0.00\t0.00\t0.00\t0.00\t0.00\t100.00\t--> 10\n",
      "0.00\t0.00\t0.00\t0.00\t0.00\t0.00\t0.00\t0.00\t0.43\t0.00\t99.56\t--> 10\n",
      "0.00\t0.00\t0.00\t0.00\t0.00\t0.00\t0.00\t0.00\t0.00\t0.00\t99.99\t--> 10\n",
      "0.00\t0.00\t0.00\t0.00\t0.00\t0.00\t0.00\t0.00\t0.00\t0.00\t100.00\t--> 10\n",
      "0.00\t0.00\t0.00\t0.00\t0.00\t0.00\t0.00\t0.00\t0.00\t0.00\t99.99\t--> 10\n",
      "0.04\t0.06\t0.51\t0.05\t0.00\t0.15\t0.17\t0.01\t0.19\t0.46\t98.37\t--> 10\n",
      "0.00\t0.00\t0.00\t0.00\t0.00\t0.00\t0.00\t0.00\t0.00\t0.00\t100.00\t--> 10\n",
      "0.00\t0.00\t0.00\t0.00\t0.00\t0.00\t0.00\t0.00\t0.00\t0.00\t100.00\t--> 10\n",
      "0.00\t0.00\t0.00\t0.00\t0.00\t0.00\t0.00\t0.00\t0.00\t0.00\t100.00\t--> 10\n",
      "0.00\t0.00\t0.00\t0.00\t0.00\t0.00\t0.01\t0.00\t0.00\t0.00\t99.99\t--> 10\n",
      "0.00\t0.00\t0.00\t0.00\t0.00\t0.00\t0.00\t0.00\t0.00\t0.00\t100.00\t--> 10\n",
      "0.17\t0.09\t0.06\t0.08\t0.00\t0.00\t0.01\t0.00\t0.16\t0.02\t99.40\t--> 10\n",
      "0.01\t0.02\t0.01\t0.01\t0.00\t0.00\t0.00\t0.00\t0.01\t0.01\t99.93\t--> 10\n",
      "0.01\t0.00\t0.00\t0.00\t0.00\t0.00\t0.00\t0.01\t0.00\t0.02\t99.95\t--> 10\n",
      "0.11\t0.03\t0.00\t0.01\t0.02\t0.02\t0.01\t0.63\t0.34\t0.01\t98.83\t--> 10\n",
      "0.00\t0.00\t0.00\t0.00\t0.00\t0.00\t0.00\t0.00\t0.00\t0.00\t100.00\t--> 10\n",
      "0.00\t0.00\t0.00\t0.00\t0.00\t0.00\t0.00\t0.00\t0.00\t0.00\t100.00\t--> 10\n",
      "0.02\t0.00\t0.01\t0.02\t0.00\t0.00\t0.00\t0.00\t0.13\t0.01\t99.80\t--> 10\n",
      "0.00\t0.00\t0.31\t0.00\t0.00\t0.02\t0.02\t0.00\t0.00\t0.09\t99.55\t--> 10\n",
      "0.01\t0.00\t0.00\t0.00\t0.00\t0.00\t0.00\t0.00\t0.02\t0.00\t99.97\t--> 10\n",
      "0.00\t0.00\t0.00\t0.00\t0.00\t0.00\t0.00\t0.00\t0.00\t0.00\t100.00\t--> 10\n",
      "0.00\t0.00\t0.00\t0.00\t0.00\t0.00\t0.00\t0.00\t0.00\t0.00\t100.00\t--> 10\n",
      "0.00\t0.00\t0.01\t0.00\t0.00\t0.00\t0.01\t0.00\t0.00\t0.02\t99.95\t--> 10\n",
      "0.00\t0.00\t0.00\t0.00\t0.00\t0.00\t0.00\t0.00\t0.00\t0.00\t100.00\t--> 10\n",
      "0.00\t0.00\t0.00\t0.00\t0.00\t0.00\t0.00\t0.00\t0.00\t0.00\t100.00\t--> 10\n",
      "0.00\t0.00\t0.00\t0.00\t0.00\t0.00\t0.00\t0.00\t0.00\t0.00\t100.00\t--> 10\n",
      "0.00\t0.00\t0.00\t0.00\t0.00\t0.00\t0.00\t0.00\t0.00\t0.00\t100.00\t--> 10\n",
      "0.00\t0.00\t0.00\t0.00\t0.00\t0.00\t0.00\t0.00\t0.00\t0.00\t100.00\t--> 10\n",
      "0.00\t0.00\t0.00\t0.00\t0.00\t0.00\t0.00\t0.00\t0.00\t0.00\t99.99\t--> 10\n",
      "0.00\t0.00\t0.00\t0.00\t0.00\t0.00\t0.00\t0.00\t0.00\t0.00\t100.00\t--> 10\n",
      "0.01\t0.00\t0.00\t0.00\t0.00\t0.00\t0.00\t0.00\t0.01\t0.00\t99.97\t--> 10\n",
      "0.00\t0.00\t0.00\t0.00\t0.00\t0.00\t0.00\t0.00\t0.00\t0.00\t100.00\t--> 10\n",
      "0.00\t0.00\t0.00\t0.00\t0.00\t0.00\t0.02\t0.00\t0.05\t0.01\t99.91\t--> 10\n"
     ]
    },
    {
     "name": "stdout",
     "output_type": "stream",
     "text": [
      "0.10\t0.04\t0.00\t0.00\t0.00\t0.00\t0.05\t0.03\t0.00\t0.03\t99.74\t--> 10\n",
      "0.00\t0.00\t0.00\t0.00\t0.00\t0.00\t0.00\t0.00\t0.00\t0.00\t100.00\t--> 10\n",
      "0.03\t0.05\t0.06\t0.00\t0.00\t0.00\t0.04\t0.01\t0.00\t0.04\t99.76\t--> 10\n",
      "0.00\t0.00\t0.00\t0.00\t0.00\t0.00\t0.00\t0.00\t0.00\t0.00\t99.99\t--> 10\n",
      "0.00\t0.00\t0.00\t0.00\t0.00\t0.00\t0.00\t0.00\t0.00\t0.02\t99.96\t--> 10\n",
      "0.04\t0.06\t0.01\t0.09\t0.00\t0.01\t0.04\t0.04\t0.18\t0.71\t98.83\t--> 10\n",
      "0.00\t0.00\t0.00\t0.00\t0.00\t0.00\t0.00\t0.00\t0.00\t0.00\t100.00\t--> 10\n",
      "0.11\t0.13\t0.01\t0.01\t0.00\t0.01\t0.22\t0.03\t0.19\t1.56\t97.73\t--> 10\n",
      "0.00\t0.01\t0.23\t0.22\t0.00\t0.96\t0.11\t0.00\t6.21\t2.38\t89.86\t--> 10\n",
      "0.00\t0.01\t0.00\t0.01\t0.00\t0.00\t0.03\t0.00\t0.00\t0.00\t99.93\t--> 10\n",
      "0.00\t0.00\t0.00\t0.00\t0.00\t0.00\t0.00\t0.00\t0.01\t0.00\t99.98\t--> 10\n",
      "0.08\t0.12\t0.15\t0.81\t0.00\t0.06\t0.39\t0.00\t1.00\t0.99\t96.40\t--> 10\n",
      "0.00\t0.00\t0.00\t0.00\t0.00\t0.00\t0.00\t0.00\t0.04\t0.01\t99.94\t--> 10\n",
      "0.00\t0.00\t0.00\t0.00\t0.00\t0.00\t0.00\t0.00\t0.00\t0.00\t100.00\t--> 10\n",
      "0.00\t0.00\t0.00\t0.00\t0.00\t0.00\t0.00\t0.00\t0.00\t0.00\t99.99\t--> 10\n",
      "0.00\t0.00\t0.00\t0.00\t0.00\t0.00\t0.00\t0.00\t0.00\t0.00\t100.00\t--> 10\n",
      "0.00\t0.00\t0.01\t0.01\t0.00\t0.02\t0.03\t0.00\t0.06\t0.04\t99.84\t--> 10\n",
      "0.00\t0.00\t0.00\t0.01\t0.00\t0.00\t0.00\t0.01\t0.82\t0.00\t99.16\t--> 10\n",
      "0.00\t0.00\t0.00\t0.00\t0.00\t0.00\t0.00\t0.00\t0.00\t0.00\t100.00\t--> 10\n",
      "0.00\t0.00\t0.00\t0.00\t0.00\t0.00\t0.00\t0.00\t0.00\t0.01\t99.99\t--> 10\n",
      "0.07\t0.07\t0.00\t0.00\t0.00\t0.00\t0.05\t0.03\t0.00\t0.00\t99.77\t--> 10\n",
      "0.00\t0.00\t0.00\t0.00\t0.00\t0.00\t1.87\t0.01\t0.00\t0.42\t97.70\t--> 10\n",
      "0.07\t0.04\t0.02\t0.02\t0.01\t0.00\t0.08\t0.00\t0.09\t0.05\t99.61\t--> 10\n",
      "0.00\t0.00\t0.00\t0.00\t0.00\t0.00\t0.00\t0.00\t0.00\t0.00\t99.99\t--> 10\n",
      "0.00\t0.00\t0.00\t0.00\t0.00\t0.00\t0.00\t0.00\t0.00\t0.00\t100.00\t--> 10\n",
      "0.00\t0.00\t0.00\t0.00\t0.00\t0.00\t0.00\t0.00\t0.00\t0.00\t100.00\t--> 10\n",
      "0.16\t0.14\t0.10\t0.43\t0.00\t0.05\t0.71\t0.01\t1.41\t0.50\t96.49\t--> 10\n",
      "0.02\t0.11\t0.02\t0.13\t0.02\t0.04\t0.26\t0.00\t0.95\t0.06\t98.38\t--> 10\n",
      "0.01\t0.01\t0.00\t0.13\t0.00\t0.00\t0.02\t0.01\t0.26\t0.01\t99.55\t--> 10\n",
      "0.01\t0.00\t0.00\t0.00\t0.00\t0.00\t0.00\t0.00\t0.00\t0.00\t99.98\t--> 10\n",
      "0.00\t0.00\t0.00\t0.00\t0.00\t0.00\t0.00\t0.00\t0.00\t0.00\t100.00\t--> 10\n",
      "0.00\t0.00\t0.00\t0.00\t0.00\t0.00\t0.00\t0.00\t0.00\t0.00\t100.00\t--> 10\n",
      "0.00\t0.00\t0.00\t0.00\t0.00\t0.00\t0.00\t0.00\t0.00\t0.00\t100.00\t--> 10\n",
      "0.00\t0.00\t0.01\t0.56\t0.00\t0.05\t0.36\t0.00\t0.34\t0.81\t97.88\t--> 10\n",
      "0.05\t0.05\t6.72\t0.76\t0.00\t3.87\t1.48\t0.00\t6.88\t5.19\t74.99\t--> 10\n",
      "0.04\t0.03\t0.00\t0.10\t0.00\t0.00\t0.00\t0.00\t0.04\t0.10\t99.69\t--> 10\n",
      "0.01\t0.00\t0.00\t0.00\t0.00\t0.00\t0.00\t0.00\t0.00\t0.00\t99.97\t--> 10\n",
      "0.11\t0.03\t0.01\t0.02\t0.00\t0.01\t0.33\t0.01\t0.28\t0.13\t99.08\t--> 10\n",
      "0.01\t0.00\t0.00\t0.00\t0.00\t0.00\t0.00\t0.01\t0.00\t0.00\t99.98\t--> 10\n",
      "0.00\t0.00\t0.00\t0.00\t0.00\t0.00\t0.00\t0.00\t0.00\t0.00\t100.00\t--> 10\n",
      "0.00\t0.00\t0.00\t0.00\t0.00\t0.00\t0.00\t0.00\t0.00\t0.00\t100.00\t--> 10\n",
      "0.00\t0.00\t0.00\t0.00\t0.00\t0.00\t0.00\t0.00\t0.00\t0.00\t100.00\t--> 10\n",
      "0.00\t0.00\t0.00\t0.00\t0.00\t0.00\t0.00\t0.00\t0.00\t0.00\t100.00\t--> 10\n",
      "0.00\t0.00\t0.00\t0.00\t0.00\t0.00\t0.00\t0.00\t0.00\t0.00\t100.00\t--> 10\n",
      "0.00\t0.00\t0.00\t0.00\t0.00\t0.00\t0.00\t0.00\t0.00\t0.00\t99.99\t--> 10\n",
      "0.00\t0.00\t0.00\t0.00\t0.00\t0.00\t0.00\t0.00\t0.00\t0.00\t100.00\t--> 10\n",
      "0.05\t0.02\t0.01\t0.01\t0.00\t0.01\t0.10\t0.00\t0.17\t0.05\t99.58\t--> 10\n",
      "0.00\t0.00\t0.33\t0.02\t0.01\t1.30\t0.04\t0.00\t6.27\t0.38\t91.63\t--> 10\n",
      "0.00\t0.00\t0.00\t0.00\t0.00\t0.00\t0.00\t0.00\t0.00\t0.00\t100.00\t--> 10\n",
      "0.00\t0.00\t0.00\t0.00\t0.00\t0.00\t0.00\t0.00\t0.00\t0.00\t100.00\t--> 10\n",
      "1.92\t3.35\t0.72\t0.00\t0.00\t0.00\t0.04\t0.01\t0.00\t0.13\t93.83\t--> 10\n",
      "0.00\t0.00\t0.00\t0.00\t0.00\t0.00\t0.00\t0.00\t0.00\t0.01\t99.99\t--> 10\n",
      "0.02\t0.00\t0.00\t0.00\t0.00\t0.00\t0.00\t0.00\t0.04\t0.00\t99.92\t--> 10\n",
      "0.00\t0.00\t0.00\t0.00\t0.00\t0.00\t0.00\t0.00\t0.00\t0.00\t99.99\t--> 10\n",
      "0.00\t0.00\t0.01\t0.00\t0.00\t0.00\t0.00\t0.00\t0.00\t0.00\t99.99\t--> 10\n",
      "0.00\t0.00\t0.00\t0.00\t0.00\t0.00\t0.00\t0.00\t0.00\t0.00\t100.00\t--> 10\n",
      "0.01\t0.00\t0.01\t0.00\t0.00\t0.00\t0.00\t0.00\t0.03\t0.00\t99.95\t--> 10\n",
      "0.00\t0.00\t0.00\t0.00\t0.00\t0.00\t0.00\t0.00\t0.00\t0.02\t99.97\t--> 10\n",
      "0.00\t0.00\t2.76\t0.00\t0.00\t0.63\t0.02\t0.00\t0.46\t0.09\t96.03\t--> 10\n",
      "0.00\t0.00\t0.02\t0.00\t0.00\t0.00\t0.01\t0.00\t0.01\t0.15\t99.80\t--> 10\n",
      "0.00\t0.00\t0.00\t0.00\t0.00\t0.00\t0.00\t0.00\t0.00\t0.00\t100.00\t--> 10\n",
      "0.00\t0.00\t0.00\t0.00\t0.00\t0.00\t0.00\t0.00\t0.00\t0.00\t100.00\t--> 10\n",
      "0.01\t0.01\t0.00\t0.00\t0.00\t0.00\t0.00\t0.00\t0.00\t0.00\t99.98\t--> 10\n",
      "0.00\t0.00\t0.01\t0.00\t0.00\t0.00\t0.00\t0.00\t0.00\t0.00\t99.98\t--> 10\n",
      "0.00\t0.00\t0.00\t0.00\t0.00\t0.00\t0.00\t0.00\t0.00\t0.00\t99.99\t--> 10\n",
      "0.00\t0.00\t0.00\t0.00\t0.00\t0.00\t0.00\t0.00\t0.00\t0.00\t100.00\t--> 10\n",
      "0.00\t0.00\t0.00\t0.00\t0.00\t0.00\t0.00\t0.00\t0.00\t0.00\t100.00\t--> 10\n",
      "0.01\t0.00\t0.00\t0.00\t0.00\t0.00\t0.00\t0.00\t0.00\t0.00\t99.98\t--> 10\n",
      "0.00\t0.00\t0.00\t0.00\t0.00\t0.00\t0.00\t0.00\t0.00\t0.00\t100.00\t--> 10\n",
      "0.00\t0.00\t0.00\t0.00\t0.00\t0.00\t0.00\t0.00\t0.00\t0.00\t100.00\t--> 10\n",
      "0.00\t0.00\t0.00\t0.00\t0.00\t0.00\t0.00\t0.00\t0.00\t0.00\t100.00\t--> 10\n",
      "0.00\t0.00\t0.00\t0.00\t0.00\t0.00\t0.00\t0.00\t0.00\t0.00\t100.00\t--> 10\n",
      "0.00\t0.00\t0.00\t0.00\t0.00\t0.00\t0.00\t0.00\t0.00\t0.00\t100.00\t--> 10\n",
      "0.00\t0.00\t0.00\t0.00\t0.00\t0.00\t0.00\t0.00\t0.00\t0.00\t100.00\t--> 10\n",
      "0.00\t0.00\t0.00\t0.00\t0.00\t0.00\t0.00\t0.00\t0.00\t0.00\t100.00\t--> 10\n",
      "0.00\t0.00\t0.00\t0.00\t0.00\t0.00\t0.00\t0.00\t0.00\t0.00\t100.00\t--> 10\n",
      "0.00\t0.00\t0.00\t0.00\t0.00\t0.00\t0.00\t0.00\t0.00\t0.00\t100.00\t--> 10\n",
      "0.02\t0.02\t0.01\t0.01\t0.00\t0.01\t0.05\t0.02\t0.01\t0.01\t99.85\t--> 10\n",
      "0.00\t0.00\t0.00\t0.00\t0.00\t0.00\t0.00\t0.00\t0.00\t0.00\t100.00\t--> 10\n",
      "0.00\t0.00\t0.00\t0.00\t0.00\t0.00\t0.00\t0.00\t0.00\t0.00\t100.00\t--> 10\n",
      "0.11\t0.21\t0.11\t1.51\t0.15\t0.47\t0.05\t0.06\t24.67\t0.10\t72.55\t--> 10\n",
      "0.00\t0.00\t0.00\t0.00\t0.00\t0.00\t0.00\t0.00\t0.00\t0.00\t99.99\t--> 10\n",
      "0.10\t0.27\t0.03\t0.22\t0.10\t0.02\t0.10\t0.02\t0.19\t0.15\t98.83\t--> 10\n",
      "0.02\t0.01\t0.00\t0.00\t0.00\t0.01\t0.01\t0.01\t0.01\t0.01\t99.92\t--> 10\n",
      "0.40\t0.17\t0.01\t0.06\t0.08\t0.01\t0.02\t0.11\t0.05\t0.04\t99.06\t--> 10\n",
      "0.00\t0.00\t0.00\t0.00\t0.00\t0.00\t0.00\t0.00\t0.00\t0.00\t99.99\t--> 10\n",
      "0.00\t0.00\t0.00\t0.00\t0.00\t0.00\t0.00\t0.00\t0.00\t0.00\t100.00\t--> 10\n",
      "0.00\t0.00\t0.00\t0.00\t0.00\t0.00\t0.00\t0.00\t0.00\t0.00\t100.00\t--> 10\n",
      "0.01\t0.00\t0.00\t0.00\t0.00\t0.00\t0.00\t0.00\t0.00\t0.00\t99.97\t--> 10\n",
      "0.00\t0.00\t0.00\t0.00\t0.00\t0.00\t0.00\t0.00\t0.00\t0.00\t100.00\t--> 10\n",
      "0.25\t0.35\t0.19\t0.00\t0.02\t0.01\t0.00\t0.01\t0.00\t0.06\t99.12\t--> 10\n",
      "0.00\t0.00\t0.00\t0.00\t0.00\t0.00\t0.00\t0.00\t0.00\t0.00\t100.00\t--> 10\n",
      "0.01\t0.00\t0.00\t0.02\t0.00\t0.00\t20.92\t0.01\t0.01\t0.07\t78.96\t--> 10\n",
      "0.13\t0.08\t0.00\t0.00\t0.00\t0.01\t0.36\t0.08\t0.00\t0.24\t99.08\t--> 10\n",
      "0.02\t0.08\t0.02\t76.42\t0.00\t0.03\t2.20\t0.01\t2.56\t2.21\t16.45\t--> 3\n",
      "0.23\t0.16\t0.01\t0.41\t0.19\t0.05\t0.06\t2.78\t8.76\t0.67\t86.69\t--> 10\n",
      "0.00\t0.00\t0.00\t0.00\t0.00\t0.00\t0.00\t0.00\t0.00\t0.00\t99.99\t--> 10\n",
      "0.00\t0.00\t0.00\t0.00\t0.00\t0.00\t0.00\t0.00\t0.00\t0.00\t100.00\t--> 10\n",
      "0.00\t0.00\t0.00\t0.00\t0.00\t0.00\t0.00\t0.02\t0.01\t0.00\t99.95\t--> 10\n",
      "0.00\t0.00\t0.00\t0.00\t0.00\t0.00\t0.00\t0.00\t0.00\t0.00\t100.00\t--> 10\n",
      "0.00\t0.00\t0.00\t0.01\t0.00\t0.00\t0.00\t0.00\t0.14\t0.00\t99.83\t--> 10\n",
      "0.00\t0.00\t0.00\t0.00\t0.00\t0.00\t0.00\t0.00\t0.00\t0.00\t100.00\t--> 10\n",
      "0.00\t0.00\t0.00\t0.00\t0.00\t0.01\t0.01\t0.00\t0.07\t0.00\t99.91\t--> 10\n",
      "0.43\t0.22\t0.06\t1.53\t0.35\t1.77\t0.19\t0.36\t2.54\t0.08\t92.48\t--> 10\n",
      "0.01\t0.01\t0.00\t0.03\t0.00\t0.00\t0.00\t0.00\t0.09\t0.01\t99.86\t--> 10\n",
      "0.00\t0.01\t0.04\t0.08\t0.00\t0.00\t0.00\t0.00\t0.61\t0.11\t99.14\t--> 10\n",
      "0.01\t0.00\t0.01\t0.00\t0.00\t0.01\t0.00\t0.01\t0.00\t0.00\t99.96\t--> 10\n",
      "0.00\t0.00\t0.00\t0.00\t0.00\t0.00\t0.00\t0.00\t0.00\t0.00\t99.99\t--> 10\n",
      "0.18\t0.03\t0.00\t0.00\t0.00\t0.00\t0.01\t0.00\t0.00\t0.05\t99.72\t--> 10\n",
      "0.00\t0.00\t0.00\t0.00\t0.00\t0.00\t0.00\t0.00\t0.00\t0.00\t100.00\t--> 10\n",
      "0.00\t0.00\t0.00\t0.00\t0.00\t0.00\t0.00\t0.00\t0.01\t0.01\t99.98\t--> 10\n",
      "0.00\t0.00\t0.00\t0.00\t0.00\t0.00\t0.00\t0.00\t0.00\t0.00\t100.00\t--> 10\n",
      "0.39\t0.05\t0.04\t0.00\t0.00\t0.03\t0.45\t0.03\t0.00\t0.38\t98.63\t--> 10\n",
      "0.84\t1.52\t1.26\t0.01\t0.02\t0.05\t0.63\t0.06\t0.03\t2.56\t93.03\t--> 10\n",
      "0.00\t0.00\t0.00\t0.00\t0.00\t0.00\t0.00\t0.00\t0.00\t0.00\t100.00\t--> 10\n",
      "0.00\t0.00\t0.00\t0.00\t0.00\t0.00\t0.00\t0.00\t0.00\t0.00\t99.99\t--> 10\n",
      "0.00\t0.00\t0.00\t0.00\t0.00\t0.00\t0.00\t0.00\t0.00\t0.00\t100.00\t--> 10\n",
      "0.03\t0.00\t0.00\t0.01\t0.00\t0.00\t0.01\t0.00\t0.01\t0.00\t99.93\t--> 10\n",
      "0.00\t0.00\t0.01\t0.00\t0.00\t0.07\t0.03\t0.01\t0.04\t0.01\t99.82\t--> 10\n",
      "0.00\t0.00\t0.00\t0.00\t0.00\t0.00\t0.00\t0.00\t0.00\t0.00\t99.99\t--> 10\n",
      "0.15\t0.02\t0.02\t0.00\t0.00\t0.02\t0.28\t0.02\t0.00\t0.05\t99.44\t--> 10\n",
      "0.00\t0.00\t0.00\t0.00\t0.00\t0.00\t0.00\t0.00\t0.00\t0.03\t99.96\t--> 10\n",
      "0.00\t0.00\t0.00\t0.00\t0.00\t0.00\t0.00\t0.00\t0.01\t0.00\t99.98\t--> 10\n",
      "0.00\t0.00\t0.00\t0.00\t0.00\t0.00\t0.00\t0.00\t0.00\t0.00\t99.99\t--> 10\n",
      "0.00\t0.00\t0.00\t0.00\t0.00\t0.00\t0.00\t0.00\t0.00\t0.00\t100.00\t--> 10\n",
      "1.90\t0.35\t0.02\t0.70\t0.10\t0.22\t0.11\t0.79\t2.80\t0.03\t92.98\t--> 10\n",
      "0.06\t0.01\t0.03\t0.00\t0.00\t0.09\t0.11\t0.02\t0.01\t0.01\t99.67\t--> 10\n",
      "0.00\t0.00\t0.01\t0.00\t0.00\t0.00\t0.02\t0.00\t0.10\t0.01\t99.85\t--> 10\n",
      "0.01\t0.01\t0.00\t0.00\t0.00\t0.00\t0.01\t0.01\t0.00\t0.01\t99.94\t--> 10\n",
      "0.00\t0.00\t0.00\t0.00\t0.00\t0.01\t0.01\t0.00\t0.02\t0.01\t99.95\t--> 10\n",
      "0.00\t0.00\t0.01\t0.00\t0.00\t0.01\t0.00\t0.00\t0.00\t0.00\t99.97\t--> 10\n",
      "0.00\t0.00\t0.00\t0.00\t0.00\t0.00\t0.00\t0.00\t0.00\t0.00\t100.00\t--> 10\n",
      "0.00\t0.00\t0.00\t0.00\t0.00\t0.00\t0.00\t0.00\t0.00\t0.00\t100.00\t--> 10\n",
      "0.00\t0.00\t0.00\t0.00\t0.00\t0.00\t0.00\t0.00\t0.00\t0.00\t100.00\t--> 10\n",
      "0.00\t0.00\t0.00\t0.00\t0.00\t0.00\t0.00\t0.00\t0.00\t0.00\t100.00\t--> 10\n",
      "0.01\t0.00\t0.00\t0.01\t0.00\t0.00\t0.00\t0.00\t0.02\t0.01\t99.95\t--> 10\n",
      "0.00\t0.00\t0.01\t0.00\t0.00\t0.00\t0.00\t0.00\t0.00\t0.00\t99.98\t--> 10\n",
      "0.00\t0.00\t0.00\t0.00\t0.00\t0.00\t0.00\t0.00\t0.00\t0.00\t100.00\t--> 10\n",
      "0.00\t0.00\t0.00\t0.00\t0.00\t0.00\t0.00\t0.00\t0.00\t0.00\t100.00\t--> 10\n",
      "0.00\t0.00\t0.00\t0.00\t0.00\t0.00\t0.00\t0.00\t0.00\t0.00\t100.00\t--> 10\n",
      "0.00\t0.00\t0.00\t0.00\t0.00\t0.00\t0.00\t0.00\t0.00\t0.00\t100.00\t--> 10\n",
      "0.00\t0.00\t0.00\t0.00\t0.00\t0.00\t0.00\t0.00\t0.00\t0.00\t100.00\t--> 10\n",
      "0.00\t0.00\t0.00\t0.00\t0.00\t0.00\t0.00\t0.00\t0.00\t0.00\t100.00\t--> 10\n",
      "0.42\t0.40\t19.75\t0.76\t0.00\t0.33\t0.08\t0.00\t3.18\t4.19\t70.88\t--> 10\n",
      "0.09\t0.08\t0.08\t0.08\t0.01\t0.14\t0.02\t0.02\t0.25\t0.14\t99.10\t--> 10\n",
      "0.00\t0.00\t0.00\t0.00\t0.00\t0.00\t0.00\t0.00\t0.00\t0.00\t99.99\t--> 10\n",
      "0.12\t0.22\t0.00\t0.05\t0.02\t0.02\t0.01\t0.05\t0.22\t0.21\t99.06\t--> 10\n",
      "0.00\t0.00\t0.00\t0.00\t0.00\t0.00\t0.00\t0.00\t0.01\t0.01\t99.99\t--> 10\n",
      "0.40\t0.17\t0.01\t1.03\t0.17\t0.35\t0.08\t0.25\t5.28\t0.02\t92.24\t--> 10\n",
      "0.00\t0.00\t0.00\t0.01\t0.00\t0.00\t0.00\t0.00\t0.38\t0.01\t99.60\t--> 10\n",
      "0.00\t0.00\t0.00\t0.00\t0.00\t0.00\t0.00\t0.00\t0.00\t0.00\t100.00\t--> 10\n",
      "0.39\t0.25\t1.07\t0.02\t0.00\t0.08\t1.27\t0.03\t0.12\t1.26\t95.49\t--> 10\n",
      "0.01\t0.00\t0.00\t0.01\t0.00\t0.00\t0.00\t0.00\t0.07\t0.00\t99.89\t--> 10\n",
      "0.00\t0.00\t0.00\t0.00\t0.00\t0.01\t0.64\t0.00\t0.00\t0.00\t99.35\t--> 10\n",
      "0.00\t0.00\t0.00\t0.00\t0.00\t0.00\t0.01\t0.00\t0.00\t0.00\t99.99\t--> 10\n",
      "0.00\t0.00\t0.00\t0.00\t0.00\t0.00\t0.00\t0.00\t0.00\t0.00\t100.00\t--> 10\n",
      "0.00\t0.03\t0.03\t0.01\t0.00\t0.12\t0.60\t0.01\t0.06\t0.18\t98.95\t--> 10\n"
     ]
    },
    {
     "name": "stdout",
     "output_type": "stream",
     "text": [
      "0.00\t0.00\t0.00\t0.00\t0.00\t0.00\t0.00\t0.00\t0.00\t0.00\t100.00\t--> 10\n",
      "0.32\t0.02\t0.11\t0.10\t0.01\t0.07\t0.05\t0.10\t0.97\t0.02\t98.23\t--> 10\n",
      "0.00\t0.00\t0.00\t0.00\t0.00\t0.00\t0.00\t0.00\t0.00\t0.00\t99.99\t--> 10\n",
      "0.03\t0.09\t2.90\t0.07\t0.00\t0.12\t0.16\t0.00\t0.22\t1.49\t94.92\t--> 10\n",
      "0.02\t0.00\t0.01\t0.01\t0.00\t0.00\t0.00\t0.00\t0.07\t0.01\t99.88\t--> 10\n",
      "0.49\t0.06\t0.00\t0.00\t0.00\t0.00\t0.00\t0.05\t0.01\t0.01\t99.38\t--> 10\n",
      "0.04\t0.01\t0.00\t0.62\t0.00\t0.01\t0.02\t0.00\t0.13\t0.01\t99.16\t--> 10\n",
      "0.00\t0.00\t0.00\t0.00\t0.00\t0.00\t0.00\t0.00\t0.00\t0.00\t100.00\t--> 10\n",
      "0.00\t0.00\t0.00\t0.00\t0.00\t0.00\t0.01\t0.00\t0.00\t0.01\t99.98\t--> 10\n",
      "0.00\t0.00\t0.00\t0.05\t0.00\t0.00\t0.39\t0.00\t0.02\t0.10\t99.43\t--> 10\n",
      "0.00\t0.00\t0.00\t0.00\t0.00\t0.00\t0.00\t0.00\t0.00\t0.00\t99.99\t--> 10\n",
      "0.00\t0.00\t0.00\t0.01\t0.00\t0.00\t0.00\t0.00\t0.00\t0.00\t99.97\t--> 10\n",
      "0.08\t0.03\t0.02\t0.00\t0.01\t0.01\t0.07\t0.02\t0.01\t0.01\t99.75\t--> 10\n",
      "0.01\t0.02\t0.02\t0.01\t0.01\t0.00\t0.03\t0.00\t0.05\t0.15\t99.70\t--> 10\n",
      "0.00\t0.00\t0.00\t0.00\t0.00\t0.00\t1.17\t0.01\t0.00\t0.00\t98.82\t--> 10\n",
      "0.00\t0.00\t0.00\t0.00\t0.00\t0.00\t0.42\t0.01\t0.00\t0.00\t99.57\t--> 10\n",
      "0.00\t0.00\t0.00\t0.00\t0.00\t0.00\t24.50\t0.08\t0.00\t0.00\t75.42\t--> 10\n",
      "0.16\t0.08\t0.04\t0.00\t0.00\t0.00\t0.12\t0.00\t0.00\t0.60\t98.99\t--> 10\n",
      "0.00\t0.00\t0.00\t0.00\t0.00\t0.00\t0.01\t0.00\t0.00\t0.00\t99.98\t--> 10\n",
      "0.00\t0.00\t0.00\t0.00\t0.00\t0.00\t0.05\t0.00\t0.00\t0.01\t99.94\t--> 10\n",
      "0.00\t0.00\t0.00\t0.00\t0.00\t0.00\t0.00\t0.00\t0.00\t0.00\t100.00\t--> 10\n",
      "0.00\t0.00\t0.00\t0.00\t0.00\t0.00\t0.00\t0.00\t0.00\t0.00\t100.00\t--> 10\n",
      "0.00\t0.00\t0.00\t0.00\t0.00\t0.00\t0.00\t0.00\t0.00\t0.00\t100.00\t--> 10\n",
      "0.00\t0.00\t0.00\t0.00\t0.00\t0.00\t0.00\t0.00\t0.00\t0.00\t100.00\t--> 10\n",
      "0.00\t0.00\t0.00\t0.00\t0.00\t0.00\t0.00\t0.00\t0.00\t0.00\t100.00\t--> 10\n",
      "0.00\t0.00\t0.00\t0.00\t0.00\t0.00\t0.00\t0.00\t0.00\t0.00\t100.00\t--> 10\n",
      "0.00\t0.00\t0.00\t0.00\t0.00\t0.00\t0.00\t0.00\t0.02\t0.00\t99.98\t--> 10\n",
      "0.00\t0.01\t0.00\t0.00\t0.00\t0.00\t18.95\t0.02\t0.00\t0.20\t80.81\t--> 10\n",
      "0.00\t0.00\t0.00\t0.00\t0.00\t0.00\t0.05\t0.00\t0.01\t0.00\t99.93\t--> 10\n",
      "0.00\t0.00\t0.00\t0.00\t0.00\t0.00\t1.97\t0.27\t0.00\t0.00\t97.77\t--> 10\n",
      "0.00\t0.00\t0.00\t0.00\t0.00\t0.00\t0.00\t0.00\t0.00\t0.00\t100.00\t--> 10\n",
      "0.00\t0.00\t0.00\t0.00\t0.00\t0.00\t0.00\t0.00\t0.00\t0.00\t100.00\t--> 10\n",
      "0.00\t0.00\t0.00\t0.00\t0.00\t0.00\t0.00\t0.00\t0.00\t0.00\t100.00\t--> 10\n",
      "0.00\t0.00\t0.00\t0.00\t0.00\t0.00\t0.00\t0.00\t0.00\t0.00\t100.00\t--> 10\n",
      "0.10\t0.07\t0.07\t0.00\t0.00\t0.02\t0.16\t0.15\t0.12\t1.82\t97.48\t--> 10\n",
      "0.36\t0.35\t0.11\t0.03\t0.14\t0.25\t0.05\t0.29\t0.03\t0.04\t98.34\t--> 10\n",
      "0.05\t0.08\t0.14\t0.04\t0.25\t0.07\t0.06\t0.06\t0.42\t0.02\t98.82\t--> 10\n",
      "0.00\t0.00\t0.00\t0.00\t0.00\t0.00\t0.00\t0.00\t0.00\t0.00\t100.00\t--> 10\n",
      "0.00\t0.00\t0.00\t0.00\t0.00\t0.00\t35.81\t0.04\t0.00\t0.00\t64.14\t--> 10\n",
      "0.32\t0.06\t0.00\t0.24\t0.08\t0.02\t0.01\t0.37\t0.71\t0.03\t98.16\t--> 10\n",
      "0.00\t0.01\t0.00\t0.00\t0.00\t0.00\t0.02\t0.00\t0.00\t0.07\t99.89\t--> 10\n",
      "0.85\t1.57\t2.85\t0.06\t0.24\t0.14\t0.61\t0.08\t0.01\t55.39\t38.20\t--> 9\n",
      "0.00\t0.00\t0.00\t0.00\t0.00\t0.00\t0.01\t0.00\t0.00\t0.00\t99.98\t--> 10\n",
      "0.00\t0.00\t0.01\t0.00\t0.00\t0.00\t0.01\t0.00\t0.00\t0.01\t99.97\t--> 10\n",
      "0.00\t0.00\t0.00\t0.00\t0.00\t0.00\t0.00\t0.00\t0.00\t0.00\t100.00\t--> 10\n",
      "0.32\t0.14\t25.19\t0.01\t0.01\t0.10\t1.53\t0.06\t0.10\t8.48\t64.06\t--> 10\n",
      "0.00\t0.00\t0.00\t0.00\t0.00\t0.00\t0.00\t0.00\t0.00\t0.00\t100.00\t--> 10\n",
      "0.00\t0.00\t0.00\t0.00\t0.00\t0.00\t0.00\t0.00\t0.00\t0.00\t100.00\t--> 10\n",
      "0.00\t0.00\t0.00\t0.00\t0.00\t0.00\t0.00\t0.00\t0.00\t0.00\t100.00\t--> 10\n",
      "0.00\t0.00\t0.00\t0.00\t0.00\t0.00\t0.00\t0.00\t0.00\t0.00\t100.00\t--> 10\n",
      "0.00\t0.00\t0.00\t0.00\t0.00\t0.00\t0.00\t0.00\t0.00\t0.00\t100.00\t--> 10\n",
      "0.00\t0.00\t0.00\t0.00\t0.00\t0.00\t0.00\t0.00\t0.00\t0.00\t100.00\t--> 10\n",
      "0.00\t0.00\t0.00\t0.00\t0.00\t0.00\t0.00\t0.00\t0.00\t0.00\t100.00\t--> 10\n",
      "0.00\t0.00\t0.00\t0.00\t0.00\t0.00\t0.00\t0.00\t0.00\t0.00\t100.00\t--> 10\n",
      "0.00\t0.00\t0.00\t0.00\t0.00\t0.00\t0.00\t0.00\t0.00\t0.00\t100.00\t--> 10\n",
      "0.00\t0.00\t0.00\t0.00\t0.00\t0.00\t0.00\t0.00\t0.00\t0.00\t100.00\t--> 10\n",
      "0.00\t0.00\t0.00\t0.00\t0.00\t0.00\t0.00\t0.00\t0.00\t0.00\t100.00\t--> 10\n",
      "0.00\t0.00\t0.00\t0.00\t0.00\t0.00\t0.00\t0.00\t0.00\t0.00\t100.00\t--> 10\n",
      "0.00\t0.00\t0.00\t0.00\t0.00\t0.00\t0.00\t0.00\t0.00\t0.00\t100.00\t--> 10\n",
      "0.00\t0.00\t0.00\t0.00\t0.00\t0.00\t0.00\t0.00\t0.00\t0.00\t100.00\t--> 10\n",
      "0.00\t0.00\t0.00\t0.00\t0.00\t0.00\t0.00\t0.00\t0.00\t0.00\t100.00\t--> 10\n"
     ]
    }
   ],
   "source": [
    "print('Predicted probabilities [%] for the different exercises:\\n')\n",
    "for jj in range(np.shape(pred_prob_test)[1]):\n",
    "    print('Ex. {:d}\\t'.format(jj), end='')\n",
    "print('pred. class')\n",
    "        \n",
    "for ii in range(np.shape(pred_prob_test)[0]):\n",
    "    for jj in range(np.shape(pred_prob_test)[1]):\n",
    "        print('{:.2f}\\t'.format(pred_prob_test[ii,jj]*100), end='')\n",
    "    print('--> {:d}'.format(np.argmax(pred_prob_test[ii,:])))\n",
    "    "
   ]
  },
  {
   "cell_type": "code",
   "execution_count": 39,
   "metadata": {
    "ExecuteTime": {
     "end_time": "2019-01-31T13:38:26.407545Z",
     "start_time": "2019-01-31T13:38:26.378543Z"
    }
   },
   "outputs": [
    {
     "data": {
      "text/plain": [
       "array([ 0,  0,  0,  0,  0,  0, 10,  0,  0,  0,  0,  0,  0,  0,  0,  0,  0,\n",
       "        0,  0,  0,  0,  0,  0,  0,  0,  0,  0,  1,  0,  0,  0,  0,  1,  0,\n",
       "        0,  0,  1,  0,  1,  1,  1,  1,  1,  1,  1,  0,  0, 10,  0,  1,  0,\n",
       "        1,  1,  1,  0,  1,  1,  0,  1,  1,  2,  2,  2,  2,  2,  2,  2,  2,\n",
       "        2,  2,  2,  2,  2,  2,  2,  9,  2,  2,  2,  2,  2,  2,  2,  2,  2,\n",
       "        2,  2,  2,  2,  2,  3,  3,  3,  3,  3,  3,  3,  3,  3,  3,  3,  3,\n",
       "        3,  3,  3,  3,  3,  3,  3,  3,  3,  3,  3,  3,  3,  3,  3,  3,  3,\n",
       "        3,  4,  4,  4,  4,  4,  4,  4,  4,  4,  4,  4,  4,  4,  4,  4,  4,\n",
       "        4,  4,  4,  4,  4,  4,  4,  4,  4,  4,  4,  4,  4,  4,  4,  5,  5,\n",
       "        5,  5,  5,  5,  5,  5,  5,  5,  5,  5,  5,  5,  5,  5,  5,  5,  5,\n",
       "        5,  5,  5,  5,  5,  5,  5,  5,  5,  5,  5,  6,  6,  6,  6,  6,  6,\n",
       "        6,  6,  6,  6,  6,  6,  6,  6,  6,  6,  6,  6,  6,  6,  6,  6,  6,\n",
       "        6,  6,  6,  6,  6,  6,  6,  7,  7,  7,  7,  7,  7,  7,  7,  7,  7,\n",
       "        7,  7,  7,  7,  7,  7,  7,  7,  7,  7,  7,  7,  7,  7,  7,  7,  7,\n",
       "        7,  7,  7,  7,  8,  8,  8,  8,  8,  8,  8,  8,  8,  8,  8,  8,  8,\n",
       "        8,  8,  8,  8,  8,  8,  8,  8,  8,  8,  8,  8,  8,  8,  8,  8,  8,\n",
       "        9,  9,  9,  9,  9,  9,  2,  9,  9,  9,  9,  9,  9,  9,  9,  9,  9,\n",
       "        9,  9,  9,  9,  9,  9,  9,  9,  9,  9,  9,  9,  9, 10, 10, 10, 10,\n",
       "       10, 10, 10, 10, 10, 10, 10, 10, 10, 10, 10, 10, 10, 10, 10, 10, 10,\n",
       "       10, 10, 10, 10, 10, 10, 10, 10, 10, 10, 10, 10, 10, 10, 10, 10, 10,\n",
       "       10, 10, 10, 10, 10, 10, 10, 10, 10, 10, 10, 10, 10, 10, 10, 10, 10,\n",
       "       10, 10, 10, 10, 10, 10, 10, 10, 10, 10, 10, 10, 10, 10, 10,  5,  9,\n",
       "       10,  8, 10, 10, 10, 10, 10, 10, 10, 10, 10, 10, 10, 10, 10, 10, 10,\n",
       "       10, 10, 10, 10, 10, 10, 10, 10, 10, 10, 10, 10, 10,  7, 10, 10, 10,\n",
       "       10, 10, 10, 10, 10, 10, 10, 10, 10, 10, 10, 10, 10, 10, 10, 10, 10,\n",
       "       10, 10, 10, 10, 10, 10, 10, 10, 10, 10, 10, 10, 10, 10, 10, 10, 10,\n",
       "       10, 10, 10, 10, 10, 10, 10,  8, 10, 10, 10, 10, 10, 10, 10, 10, 10,\n",
       "       10, 10, 10, 10, 10, 10, 10, 10, 10, 10, 10, 10, 10, 10, 10, 10, 10,\n",
       "       10, 10, 10, 10, 10, 10, 10, 10, 10, 10, 10, 10, 10, 10, 10, 10, 10,\n",
       "       10, 10, 10, 10, 10, 10, 10, 10, 10, 10, 10, 10, 10, 10, 10, 10, 10,\n",
       "       10, 10, 10, 10, 10, 10, 10, 10, 10, 10, 10, 10, 10, 10, 10, 10, 10,\n",
       "       10, 10, 10, 10, 10, 10, 10, 10, 10, 10, 10, 10, 10, 10, 10, 10, 10,\n",
       "       10, 10, 10, 10, 10, 10, 10, 10, 10, 10, 10, 10, 10, 10, 10, 10, 10,\n",
       "       10, 10, 10, 10, 10, 10, 10, 10, 10, 10, 10, 10, 10, 10, 10, 10, 10,\n",
       "       10, 10, 10, 10, 10, 10, 10,  3, 10, 10, 10, 10, 10, 10, 10, 10, 10,\n",
       "       10, 10, 10, 10, 10, 10, 10, 10, 10, 10, 10, 10, 10, 10, 10, 10, 10,\n",
       "       10, 10, 10, 10, 10, 10, 10, 10, 10, 10, 10, 10, 10, 10, 10, 10, 10,\n",
       "       10, 10, 10, 10, 10, 10, 10, 10, 10, 10, 10, 10, 10, 10, 10, 10, 10,\n",
       "       10, 10, 10, 10, 10, 10, 10, 10, 10, 10, 10, 10, 10, 10, 10, 10, 10,\n",
       "       10, 10, 10, 10, 10, 10, 10, 10, 10, 10, 10, 10, 10, 10, 10, 10, 10,\n",
       "       10, 10, 10, 10, 10, 10, 10, 10, 10,  9, 10, 10, 10, 10, 10, 10, 10,\n",
       "       10, 10, 10, 10, 10, 10, 10, 10, 10, 10, 10, 10], dtype=int64)"
      ]
     },
     "execution_count": 39,
     "metadata": {},
     "output_type": "execute_result"
    }
   ],
   "source": [
    "np.argmax(pred_prob_test, axis=1)"
   ]
  },
  {
   "cell_type": "code",
   "execution_count": null,
   "metadata": {},
   "outputs": [],
   "source": []
  },
  {
   "cell_type": "markdown",
   "metadata": {},
   "source": [
    "# Use saved model"
   ]
  },
  {
   "cell_type": "code",
   "execution_count": 40,
   "metadata": {
    "ExecuteTime": {
     "end_time": "2019-01-31T13:38:26.561554Z",
     "start_time": "2019-01-31T13:38:26.414546Z"
    }
   },
   "outputs": [
    {
     "data": {
      "text/plain": [
       "(709, 48, 6)"
      ]
     },
     "execution_count": 40,
     "metadata": {},
     "output_type": "execute_result"
    }
   ],
   "source": [
    "X_testing = PD_RNN1.get_X_test()\n",
    "np.shape(X_testing)"
   ]
  },
  {
   "cell_type": "code",
   "execution_count": 41,
   "metadata": {
    "ExecuteTime": {
     "end_time": "2019-01-31T13:38:26.696562Z",
     "start_time": "2019-01-31T13:38:26.571555Z"
    }
   },
   "outputs": [],
   "source": [
    "# all sequence lengths shall now have the maximum length (--> np.shape(X_testing)[1])\n",
    "seqlens_testing =  np.full(np.shape(X_testing)[0], np.shape(X_testing)[1], dtype=np.int)"
   ]
  },
  {
   "cell_type": "code",
   "execution_count": 42,
   "metadata": {
    "ExecuteTime": {
     "end_time": "2019-01-31T13:38:27.496607Z",
     "start_time": "2019-01-31T13:38:26.714563Z"
    }
   },
   "outputs": [
    {
     "name": "stdout",
     "output_type": "stream",
     "text": [
      "INFO:tensorflow:Restoring parameters from E:/TensorFlow_saved_models/final-RNN-model/RNN-model-1\n"
     ]
    }
   ],
   "source": [
    "with tf.Session() as sess:    \n",
    "    \n",
    "    #First let's load meta graph and restore weights\n",
    "    new_saver = tf.train.import_meta_graph('E:/TensorFlow_saved_models/final-RNN-model/RNN-model-1.meta')\n",
    "    new_saver.restore(sess, 'E:/TensorFlow_saved_models/final-RNN-model/RNN-model-1')\n",
    "\n",
    "    # Now, let's access and create placeholders variables and\n",
    "    # create feed-dict to feed new data\n",
    "    graph = tf.get_default_graph()\n",
    "    inputs = graph.get_tensor_by_name('data/inputs:0')\n",
    "    seqlens = graph.get_tensor_by_name('data/seqlens:0')\n",
    "\n",
    "    # Now, access the op that you want to run. \n",
    "    pred_prob_all_states = graph.get_tensor_by_name(\"evaluation/predicted_probabilities_all_states:0\")\n",
    "\n",
    "    pred_prob_testing = sess.run(pred_prob_all_states, feed_dict={inputs: X_testing,\n",
    "                                                                  seqlens: seqlens_testing})"
   ]
  },
  {
   "cell_type": "code",
   "execution_count": 43,
   "metadata": {
    "ExecuteTime": {
     "end_time": "2019-01-31T13:38:27.508608Z",
     "start_time": "2019-01-31T13:38:27.499608Z"
    }
   },
   "outputs": [
    {
     "data": {
      "text/plain": [
       "(34032, 11)"
      ]
     },
     "execution_count": 43,
     "metadata": {},
     "output_type": "execute_result"
    }
   ],
   "source": [
    "np.shape(pred_prob_testing)"
   ]
  },
  {
   "cell_type": "code",
   "execution_count": 44,
   "metadata": {
    "ExecuteTime": {
     "end_time": "2019-01-31T13:38:27.671617Z",
     "start_time": "2019-01-31T13:38:27.515609Z"
    }
   },
   "outputs": [
    {
     "data": {
      "text/plain": [
       "array([4.7100175e-02, 8.2546368e-04, 2.3376574e-04, 2.4930680e-05,\n",
       "       6.7277701e-06, 4.7115932e-06, 3.2259763e-06, 1.7638398e-06,\n",
       "       9.8499342e-08, 8.9629539e-09, 1.6333107e-07, 1.4246034e-06,\n",
       "       3.4198263e-05, 3.9227665e-04, 4.0686196e-03, 1.6318576e-02,\n",
       "       6.8762310e-02, 3.3676946e-01, 8.0679190e-01, 8.9086550e-01,\n",
       "       9.9448580e-01, 9.8481363e-01, 9.8664397e-01, 9.7302383e-01,\n",
       "       8.4246141e-01, 3.0329368e-01, 2.2644596e-02, 5.7976920e-04,\n",
       "       1.6374212e-05, 1.7228225e-06, 6.1813921e-07, 4.3824133e-07,\n",
       "       4.1198408e-07, 4.0682934e-07, 4.0400934e-07, 4.0131556e-07,\n",
       "       3.9915903e-07, 3.9764646e-07, 3.9672565e-07, 3.9622122e-07,\n",
       "       3.9596739e-07, 3.9584506e-07, 3.9578768e-07, 3.9576051e-07,\n",
       "       3.9574766e-07, 3.9574090e-07, 3.9573825e-07, 3.9573635e-07],\n",
       "      dtype=float32)"
      ]
     },
     "execution_count": 44,
     "metadata": {},
     "output_type": "execute_result"
    }
   ],
   "source": [
    "pred_prob_testing[0:48,0]"
   ]
  },
  {
   "cell_type": "code",
   "execution_count": 45,
   "metadata": {
    "ExecuteTime": {
     "end_time": "2019-01-31T13:38:27.810625Z",
     "start_time": "2019-01-31T13:38:27.678618Z"
    }
   },
   "outputs": [
    {
     "data": {
      "text/plain": [
       "array([4.7100175e-02, 8.2546368e-04, 2.3376574e-04, 2.4930680e-05,\n",
       "       6.7277701e-06, 4.7115932e-06, 3.2259763e-06, 1.7638398e-06,\n",
       "       9.8499342e-08, 8.9629539e-09, 1.6333107e-07, 1.4246034e-06,\n",
       "       3.4198263e-05, 3.9227665e-04, 4.0686196e-03, 1.6318576e-02,\n",
       "       6.8762310e-02, 3.3676946e-01, 8.0679190e-01, 8.9086550e-01,\n",
       "       9.9448580e-01, 8.3560601e-02, 8.3560601e-02, 8.3560601e-02,\n",
       "       8.3560601e-02, 8.3560601e-02, 8.3560601e-02, 8.3560601e-02,\n",
       "       8.3560601e-02, 8.3560601e-02, 8.3560601e-02, 8.3560601e-02,\n",
       "       8.3560601e-02, 8.3560601e-02, 8.3560601e-02, 8.3560601e-02,\n",
       "       8.3560601e-02, 8.3560601e-02, 8.3560601e-02, 8.3560601e-02,\n",
       "       8.3560601e-02, 8.3560601e-02, 8.3560601e-02, 8.3560601e-02,\n",
       "       8.3560601e-02, 8.3560601e-02, 8.3560601e-02, 8.3560601e-02],\n",
       "      dtype=float32)"
      ]
     },
     "execution_count": 45,
     "metadata": {},
     "output_type": "execute_result"
    }
   ],
   "source": [
    "pred_prob_test_all[0:48,0] "
   ]
  },
  {
   "cell_type": "code",
   "execution_count": 46,
   "metadata": {
    "ExecuteTime": {
     "end_time": "2019-01-31T13:38:27.938633Z",
     "start_time": "2019-01-31T13:38:27.818626Z"
    }
   },
   "outputs": [
    {
     "data": {
      "text/plain": [
       "0.9944858"
      ]
     },
     "execution_count": 46,
     "metadata": {},
     "output_type": "execute_result"
    }
   ],
   "source": [
    "pred_prob_testing[20,0]"
   ]
  },
  {
   "cell_type": "code",
   "execution_count": 47,
   "metadata": {
    "ExecuteTime": {
     "end_time": "2019-01-31T13:38:28.077641Z",
     "start_time": "2019-01-31T13:38:27.949633Z"
    }
   },
   "outputs": [
    {
     "data": {
      "text/plain": [
       "0.9944858"
      ]
     },
     "execution_count": 47,
     "metadata": {},
     "output_type": "execute_result"
    }
   ],
   "source": [
    "pred_prob_test_all[20,0] "
   ]
  },
  {
   "cell_type": "code",
   "execution_count": null,
   "metadata": {},
   "outputs": [],
   "source": []
  },
  {
   "cell_type": "code",
   "execution_count": 48,
   "metadata": {
    "ExecuteTime": {
     "end_time": "2019-01-31T13:38:28.216649Z",
     "start_time": "2019-01-31T13:38:28.085641Z"
    }
   },
   "outputs": [
    {
     "data": {
      "text/plain": [
       "48"
      ]
     },
     "execution_count": 48,
     "metadata": {},
     "output_type": "execute_result"
    }
   ],
   "source": [
    "np.shape(X_testing)[1]"
   ]
  },
  {
   "cell_type": "code",
   "execution_count": 49,
   "metadata": {
    "ExecuteTime": {
     "end_time": "2019-01-31T13:38:28.352656Z",
     "start_time": "2019-01-31T13:38:28.227649Z"
    }
   },
   "outputs": [],
   "source": [
    "pred_prob_testing_reshape = np.reshape(pred_prob_testing, (-1, np.shape(X_testing)[1], 11))"
   ]
  },
  {
   "cell_type": "code",
   "execution_count": 50,
   "metadata": {
    "ExecuteTime": {
     "end_time": "2019-01-31T13:38:28.493664Z",
     "start_time": "2019-01-31T13:38:28.362657Z"
    }
   },
   "outputs": [
    {
     "data": {
      "text/plain": [
       "array([4.7100175e-02, 8.2546368e-04, 2.3376574e-04, 2.4930680e-05,\n",
       "       6.7277701e-06, 4.7115932e-06, 3.2259763e-06, 1.7638398e-06,\n",
       "       9.8499342e-08, 8.9629539e-09, 1.6333107e-07, 1.4246034e-06,\n",
       "       3.4198263e-05, 3.9227665e-04, 4.0686196e-03, 1.6318576e-02,\n",
       "       6.8762310e-02, 3.3676946e-01, 8.0679190e-01, 8.9086550e-01,\n",
       "       9.9448580e-01, 9.8481363e-01, 9.8664397e-01, 9.7302383e-01,\n",
       "       8.4246141e-01, 3.0329368e-01, 2.2644596e-02, 5.7976920e-04,\n",
       "       1.6374212e-05, 1.7228225e-06, 6.1813921e-07, 4.3824133e-07,\n",
       "       4.1198408e-07, 4.0682934e-07, 4.0400934e-07, 4.0131556e-07,\n",
       "       3.9915903e-07, 3.9764646e-07, 3.9672565e-07, 3.9622122e-07,\n",
       "       3.9596739e-07, 3.9584506e-07, 3.9578768e-07, 3.9576051e-07,\n",
       "       3.9574766e-07, 3.9574090e-07, 3.9573825e-07, 3.9573635e-07],\n",
       "      dtype=float32)"
      ]
     },
     "execution_count": 50,
     "metadata": {},
     "output_type": "execute_result"
    }
   ],
   "source": [
    "# probabilities of first data point, all time steps and first class (0: 'RF')\n",
    "pred_prob_testing_reshape[0,:,0]"
   ]
  },
  {
   "cell_type": "code",
   "execution_count": null,
   "metadata": {},
   "outputs": [],
   "source": []
  },
  {
   "cell_type": "code",
   "execution_count": null,
   "metadata": {},
   "outputs": [],
   "source": []
  },
  {
   "cell_type": "markdown",
   "metadata": {},
   "source": [
    "## Classification of a whole record"
   ]
  },
  {
   "cell_type": "code",
   "execution_count": 51,
   "metadata": {
    "ExecuteTime": {
     "end_time": "2019-01-31T13:38:30.340770Z",
     "start_time": "2019-01-31T13:38:28.506665Z"
    }
   },
   "outputs": [],
   "source": [
    "# define the test subject\n",
    "test_data_subject = 1\n",
    "\n",
    "test_subject_dir  = r'E:\\Physio_Data\\Subject_{:02}'.format(test_data_subject)\n",
    "test_subject_file = 'subject{:02}.csv'.format(test_data_subject)\n",
    "test_subject_path = os.path.join(test_subject_dir, test_subject_file)\n",
    "\n",
    "\n",
    "# signal names\n",
    "signal_abbrs = ['Acc','Gyr']\n",
    "\n",
    "# filter properties according to Crema\n",
    "cutoff = 10 # [Hz]\n",
    "order = 6 # butterworth order\n",
    "\n",
    "sampling_rate = 256 # [Hz]\n",
    "\n",
    "# get data from selected file\n",
    "sensor_data = fmpm.get_sensor_data(in_file=test_subject_path,\n",
    "                                   signals=signal_abbrs,\n",
    "                                   sampling_rate=sampling_rate)\n",
    "\n",
    "# filter data with butterworth filter and save to new dictionary\n",
    "sensor_data_filt = {}\n",
    "for signal in signal_abbrs:\n",
    "    sensor_data_filt[signal] = fmpm.butter_lowpass_filter(sensor_data[signal], \n",
    "                                                          cutoff=cutoff, \n",
    "                                                          fs=sampling_rate, \n",
    "                                                          order=order)"
   ]
  },
  {
   "cell_type": "markdown",
   "metadata": {},
   "source": [
    "### Down sampling"
   ]
  },
  {
   "cell_type": "code",
   "execution_count": 52,
   "metadata": {
    "ExecuteTime": {
     "end_time": "2019-01-31T13:38:30.361771Z",
     "start_time": "2019-01-31T13:38:30.344770Z"
    }
   },
   "outputs": [],
   "source": [
    "new_sampling_rate = 8 # [Hz]\n",
    "\n",
    "# sampling rate ratio of original and new sampling rate (e.g. if ratio = 32 --> take every 32nd index)\n",
    "sampling_rate_ratio = sampling_rate / new_sampling_rate\n",
    "\n",
    "\n",
    "# start and stop indices of current data point (current repetition block)\n",
    "start_idx = 0\n",
    "# all signal columns must have the same length\n",
    "stop_idx = len(sensor_data_filt[signal_abbrs[0]][:,0])\n",
    "\n",
    "# consider the new sampling rate for signal data selection\n",
    "new_indices = np.arange(start_idx, stop_idx, sampling_rate_ratio).round().astype(int)\n",
    "\n",
    "sensor_data_newHz = {}\n",
    "for signal in signal_abbrs:\n",
    "    sensor_data_newHz[signal] = sensor_data_filt[signal][new_indices,:]"
   ]
  },
  {
   "cell_type": "code",
   "execution_count": 53,
   "metadata": {
    "ExecuteTime": {
     "end_time": "2019-01-31T13:38:30.520780Z",
     "start_time": "2019-01-31T13:38:30.365772Z"
    }
   },
   "outputs": [
    {
     "data": {
      "text/plain": [
       "(16079, 3)"
      ]
     },
     "execution_count": 53,
     "metadata": {},
     "output_type": "execute_result"
    }
   ],
   "source": [
    "np.shape(sensor_data_newHz['Acc'])"
   ]
  },
  {
   "cell_type": "markdown",
   "metadata": {},
   "source": [
    "### Tensor with windowed data"
   ]
  },
  {
   "cell_type": "code",
   "execution_count": 54,
   "metadata": {
    "ExecuteTime": {
     "end_time": "2019-01-31T13:38:30.818797Z",
     "start_time": "2019-01-31T13:38:30.531781Z"
    }
   },
   "outputs": [
    {
     "data": {
      "text/plain": [
       "(16032, 48, 6)"
      ]
     },
     "execution_count": 54,
     "metadata": {},
     "output_type": "execute_result"
    }
   ],
   "source": [
    "max_seq_len = 48 # --> 6s * 8Hz\n",
    "num_signals = 6 # Acc, Gyr --> y, x, z\n",
    "\n",
    "data_len = np.shape(sensor_data_newHz['Acc'])[0]\n",
    "num_data_points = data_len - max_seq_len + 1 # number of data points after windowing\n",
    "\n",
    "Tensor_win = np.zeros((num_data_points, max_seq_len, num_signals))\n",
    "\n",
    "for ii in range(num_data_points):\n",
    "    Tensor_win[ii,:,0:3] = sensor_data_newHz['Acc'][ii:ii+max_seq_len, :] # corresponding acc. values \n",
    "    Tensor_win[ii,:,3:6] = sensor_data_newHz['Gyr'][ii:ii+max_seq_len, :] # corresponding ang. vel. values\n",
    "    \n",
    "np.shape(Tensor_win)"
   ]
  },
  {
   "cell_type": "markdown",
   "metadata": {},
   "source": [
    "### Predict probabilities with RNN"
   ]
  },
  {
   "cell_type": "code",
   "execution_count": 55,
   "metadata": {
    "ExecuteTime": {
     "end_time": "2019-01-31T13:38:37.289168Z",
     "start_time": "2019-01-31T13:38:30.823798Z"
    }
   },
   "outputs": [
    {
     "name": "stdout",
     "output_type": "stream",
     "text": [
      "INFO:tensorflow:Restoring parameters from E:/TensorFlow_saved_models/final-RNN-model/RNN-model-1\n"
     ]
    }
   ],
   "source": [
    "# all sequence lengths shall now have the maximum length (--> np.shape(Tensor_win)[1])\n",
    "seqlens_win =  np.full(np.shape(Tensor_win)[0], np.shape(Tensor_win)[1], dtype=np.int)\n",
    "\n",
    "with tf.Session() as sess:    \n",
    "    \n",
    "    #First let's load meta graph and restore weights\n",
    "    new_saver = tf.train.import_meta_graph('E:/TensorFlow_saved_models/final-RNN-model/RNN-model-1.meta')\n",
    "    new_saver.restore(sess, 'E:/TensorFlow_saved_models/final-RNN-model/RNN-model-1')\n",
    "\n",
    "    # Now, let's access and create placeholders variables and\n",
    "    # create feed-dict to feed new data\n",
    "    graph = tf.get_default_graph()\n",
    "    inputs = graph.get_tensor_by_name('data/inputs:0')\n",
    "    seqlens = graph.get_tensor_by_name('data/seqlens:0')\n",
    "\n",
    "    # Now, access the op that you want to run. \n",
    "    pred_prob_all_states = graph.get_tensor_by_name(\"evaluation/predicted_probabilities_all_states:0\")\n",
    "\n",
    "    pred_prob_win = sess.run(pred_prob_all_states, feed_dict={inputs: Tensor_win,\n",
    "                                                              seqlens: seqlens_win})"
   ]
  },
  {
   "cell_type": "code",
   "execution_count": 56,
   "metadata": {
    "ExecuteTime": {
     "end_time": "2019-01-31T13:38:37.321169Z",
     "start_time": "2019-01-31T13:38:37.294168Z"
    }
   },
   "outputs": [
    {
     "data": {
      "text/plain": [
       "(769536, 11)"
      ]
     },
     "execution_count": 56,
     "metadata": {},
     "output_type": "execute_result"
    }
   ],
   "source": [
    "np.shape(pred_prob_win)"
   ]
  },
  {
   "cell_type": "code",
   "execution_count": 57,
   "metadata": {
    "ExecuteTime": {
     "end_time": "2019-01-31T13:38:37.486179Z",
     "start_time": "2019-01-31T13:38:37.328170Z"
    }
   },
   "outputs": [],
   "source": [
    "ex_dict = {0:'RF',1:'RO',2:'RS',3:'LR',4:'BC',5:'TC',6:'MP',7:'SA',8:'P1',9:'P2',10:'NE'}\n",
    "\n",
    "pred_prob_win_dict = {}\n",
    "for ii in range(len(ex_dict)):\n",
    "    pred_prob_win_dict[ex_dict[ii]] = pred_prob_win[:,ii].reshape(-1,max_seq_len)"
   ]
  },
  {
   "cell_type": "code",
   "execution_count": 58,
   "metadata": {
    "ExecuteTime": {
     "end_time": "2019-01-31T13:38:37.626187Z",
     "start_time": "2019-01-31T13:38:37.492179Z"
    }
   },
   "outputs": [
    {
     "data": {
      "text/plain": [
       "(16032, 48)"
      ]
     },
     "execution_count": 58,
     "metadata": {},
     "output_type": "execute_result"
    }
   ],
   "source": [
    "np.shape(pred_prob_win_dict['RF'])"
   ]
  },
  {
   "cell_type": "markdown",
   "metadata": {},
   "source": [
    "### Plot the predicted probabilities"
   ]
  },
  {
   "cell_type": "code",
   "execution_count": 62,
   "metadata": {
    "ExecuteTime": {
     "end_time": "2019-01-31T17:27:11.452573Z",
     "start_time": "2019-01-31T17:27:11.075551Z"
    }
   },
   "outputs": [
    {
     "data": {
      "text/html": [
       "<div>\n",
       "<style>\n",
       "    .dataframe thead tr:only-child th {\n",
       "        text-align: right;\n",
       "    }\n",
       "\n",
       "    .dataframe thead th {\n",
       "        text-align: left;\n",
       "    }\n",
       "\n",
       "    .dataframe tbody tr th {\n",
       "        vertical-align: top;\n",
       "    }\n",
       "</style>\n",
       "<table border=\"1\" class=\"dataframe\">\n",
       "  <thead>\n",
       "    <tr style=\"text-align: right;\">\n",
       "      <th></th>\n",
       "      <th>0</th>\n",
       "      <th>1</th>\n",
       "      <th>2</th>\n",
       "      <th>3</th>\n",
       "      <th>4</th>\n",
       "      <th>5</th>\n",
       "      <th>6</th>\n",
       "      <th>7</th>\n",
       "      <th>8</th>\n",
       "      <th>9</th>\n",
       "    </tr>\n",
       "  </thead>\n",
       "  <tbody>\n",
       "    <tr>\n",
       "      <th>0</th>\n",
       "      <td>Raises Oblique</td>\n",
       "      <td>15</td>\n",
       "      <td>5</td>\n",
       "      <td>10</td>\n",
       "      <td>01:18.6</td>\n",
       "      <td>01:58.3</td>\n",
       "      <td>02:22.1</td>\n",
       "      <td>02:37.1</td>\n",
       "      <td>02:54.8</td>\n",
       "      <td>03:23.3</td>\n",
       "    </tr>\n",
       "    <tr>\n",
       "      <th>1</th>\n",
       "      <td>PNF Diagonal 2</td>\n",
       "      <td>10</td>\n",
       "      <td>5</td>\n",
       "      <td>15</td>\n",
       "      <td>04:27.1</td>\n",
       "      <td>04:54.3</td>\n",
       "      <td>05:24.5</td>\n",
       "      <td>05:38.9</td>\n",
       "      <td>06:25.8</td>\n",
       "      <td>07:05.1</td>\n",
       "    </tr>\n",
       "    <tr>\n",
       "      <th>2</th>\n",
       "      <td>Triceps Curls</td>\n",
       "      <td>15</td>\n",
       "      <td>5</td>\n",
       "      <td>10</td>\n",
       "      <td>07:32.3</td>\n",
       "      <td>08:14.8</td>\n",
       "      <td>08:49.5</td>\n",
       "      <td>09:04.9</td>\n",
       "      <td>09:46.1</td>\n",
       "      <td>10:12.6</td>\n",
       "    </tr>\n",
       "    <tr>\n",
       "      <th>3</th>\n",
       "      <td>Rotation Wrist</td>\n",
       "      <td>5</td>\n",
       "      <td>10</td>\n",
       "      <td>15</td>\n",
       "      <td>10:43.1</td>\n",
       "      <td>10:57.3</td>\n",
       "      <td>11:25.6</td>\n",
       "      <td>11:51.8</td>\n",
       "      <td>12:12.1</td>\n",
       "      <td>12:52.4</td>\n",
       "    </tr>\n",
       "    <tr>\n",
       "      <th>4</th>\n",
       "      <td>Raises Front</td>\n",
       "      <td>10</td>\n",
       "      <td>15</td>\n",
       "      <td>5</td>\n",
       "      <td>13:44.8</td>\n",
       "      <td>14:14</td>\n",
       "      <td>14:40.6</td>\n",
       "      <td>15:20</td>\n",
       "      <td>16:09.5</td>\n",
       "      <td>16:23.1</td>\n",
       "    </tr>\n",
       "    <tr>\n",
       "      <th>5</th>\n",
       "      <td>Biceps Curls</td>\n",
       "      <td>15</td>\n",
       "      <td>10</td>\n",
       "      <td>5</td>\n",
       "      <td>16:50.8</td>\n",
       "      <td>17:30.2</td>\n",
       "      <td>18:01.3</td>\n",
       "      <td>18:32.2</td>\n",
       "      <td>18:58.6</td>\n",
       "      <td>19:12</td>\n",
       "    </tr>\n",
       "    <tr>\n",
       "      <th>6</th>\n",
       "      <td>Raises Side</td>\n",
       "      <td>15</td>\n",
       "      <td>5</td>\n",
       "      <td>10</td>\n",
       "      <td>20:13</td>\n",
       "      <td>21:00.2</td>\n",
       "      <td>21:24.9</td>\n",
       "      <td>21:40.2</td>\n",
       "      <td>22:09.6</td>\n",
       "      <td>22:38.4</td>\n",
       "    </tr>\n",
       "    <tr>\n",
       "      <th>7</th>\n",
       "      <td>PNF Diagonal 1</td>\n",
       "      <td>10</td>\n",
       "      <td>15</td>\n",
       "      <td>5</td>\n",
       "      <td>23:43.9</td>\n",
       "      <td>24:15.9</td>\n",
       "      <td>24:42</td>\n",
       "      <td>25:25.1</td>\n",
       "      <td>25:48.7</td>\n",
       "      <td>26:04.6</td>\n",
       "    </tr>\n",
       "    <tr>\n",
       "      <th>8</th>\n",
       "      <td>Shoulder Adduct.</td>\n",
       "      <td>5</td>\n",
       "      <td>15</td>\n",
       "      <td>10</td>\n",
       "      <td>26:48.5</td>\n",
       "      <td>27:05.3</td>\n",
       "      <td>27:25.4</td>\n",
       "      <td>28:16.5</td>\n",
       "      <td>28:41.2</td>\n",
       "      <td>29:10.9</td>\n",
       "    </tr>\n",
       "    <tr>\n",
       "      <th>9</th>\n",
       "      <td>Military Press</td>\n",
       "      <td>15</td>\n",
       "      <td>10</td>\n",
       "      <td>5</td>\n",
       "      <td>29:45.6</td>\n",
       "      <td>30:37.4</td>\n",
       "      <td>31:14.6</td>\n",
       "      <td>31:47.3</td>\n",
       "      <td>32:13.6</td>\n",
       "      <td>32:28.1</td>\n",
       "    </tr>\n",
       "  </tbody>\n",
       "</table>\n",
       "</div>"
      ],
      "text/plain": [
       "                  0   1   2   3        4        5        6        7        8  \\\n",
       "0    Raises Oblique  15   5  10  01:18.6  01:58.3  02:22.1  02:37.1  02:54.8   \n",
       "1    PNF Diagonal 2  10   5  15  04:27.1  04:54.3  05:24.5  05:38.9  06:25.8   \n",
       "2     Triceps Curls  15   5  10  07:32.3  08:14.8  08:49.5  09:04.9  09:46.1   \n",
       "3    Rotation Wrist   5  10  15  10:43.1  10:57.3  11:25.6  11:51.8  12:12.1   \n",
       "4      Raises Front  10  15   5  13:44.8    14:14  14:40.6    15:20  16:09.5   \n",
       "5      Biceps Curls  15  10   5  16:50.8  17:30.2  18:01.3  18:32.2  18:58.6   \n",
       "6       Raises Side  15   5  10    20:13  21:00.2  21:24.9  21:40.2  22:09.6   \n",
       "7    PNF Diagonal 1  10  15   5  23:43.9  24:15.9    24:42  25:25.1  25:48.7   \n",
       "8  Shoulder Adduct.   5  15  10  26:48.5  27:05.3  27:25.4  28:16.5  28:41.2   \n",
       "9    Military Press  15  10   5  29:45.6  30:37.4  31:14.6  31:47.3  32:13.6   \n",
       "\n",
       "         9  \n",
       "0  03:23.3  \n",
       "1  07:05.1  \n",
       "2  10:12.6  \n",
       "3  12:52.4  \n",
       "4  16:23.1  \n",
       "5    19:12  \n",
       "6  22:38.4  \n",
       "7  26:04.6  \n",
       "8  29:10.9  \n",
       "9  32:28.1  "
      ]
     },
     "execution_count": 62,
     "metadata": {},
     "output_type": "execute_result"
    }
   ],
   "source": [
    "# loading the actual time ranges of the exercises of the test data for the subsequent plot \n",
    "# to compare with predicted values\n",
    "\n",
    "# select file with timetable (csv) of the test subject\n",
    "timetable_file_dir = r'E:\\Physio_Data\\Exercise_time_tables'\n",
    "timetable_file_name = 'Timetable_subject{:02}.txt'.format(test_data_subject)\n",
    "timetable_data_path = os.path.join(timetable_file_dir, timetable_file_name)\n",
    "\n",
    "# read in time table\n",
    "timetable_data = pd.read_csv(timetable_data_path, skiprows=0, sep='\\t', header=None)\n",
    "num_exercises = timetable_data.shape[0] # number of exercises\n",
    "timetable_data"
   ]
  },
  {
   "cell_type": "code",
   "execution_count": 60,
   "metadata": {
    "ExecuteTime": {
     "end_time": "2019-01-31T13:38:38.022209Z",
     "start_time": "2019-01-31T13:38:37.897202Z"
    }
   },
   "outputs": [],
   "source": [
    "# function to convert indices to time strings\n",
    "def indices_to_time(start_index, stop_index):\n",
    "    '''\n",
    "    Function convert indices to time string.\n",
    "    !! Global variables are used !!\n",
    "    \n",
    "    Parameters\n",
    "    ----------\n",
    "    start_index : int\n",
    "        \n",
    "    stop_index : int\n",
    "    \n",
    "    Returns\n",
    "    -------\n",
    "    str\n",
    "        String with start and stop time (e.g. '14:39.6 - 15:19.4').\n",
    "    '''\n",
    "    start_time_text = '{0:02}:{1:04.1f}'.format(int(start_index/new_sampling_rate/60), \n",
    "                                               (start_index/new_sampling_rate)%60)\n",
    "    stop_time_text = '{0:02}:{1:04.1f}'.format(int(stop_index/new_sampling_rate/60), \n",
    "                                               (stop_index/new_sampling_rate)%60)\n",
    "    return start_time_text + ' - ' + stop_time_text"
   ]
  },
  {
   "cell_type": "code",
   "execution_count": 63,
   "metadata": {
    "ExecuteTime": {
     "end_time": "2019-01-31T17:27:18.771991Z",
     "start_time": "2019-01-31T17:27:17.187901Z"
    }
   },
   "outputs": [
    {
     "name": "stdout",
     "output_type": "stream",
     "text": [
      "Using matplotlib backend: TkAgg\n"
     ]
    }
   ],
   "source": [
    "%matplotlib auto\n",
    "\n",
    "# text for current subject\n",
    "sub_text = 'Subject {}\\n'.format(test_data_subject)\n",
    "\n",
    "yticks = np.arange(0, max_seq_len)[::10]\n",
    "\n",
    "ylabels = np.arange(1, max_seq_len+1)/new_sampling_rate\n",
    "ylabels = ylabels[::10]\n",
    "\n",
    "fig, axis = plt.subplots(12,1,figsize=(18,9), sharex=True)\n",
    "\n",
    "# image color settings for RFC probabilities\n",
    "cmap = plt.cm.seismic\n",
    "vmin=0\n",
    "vmax=1\n",
    "\n",
    "exercise_abbrs = [ex_dict[ii] for ii in range(len(ex_dict))]\n",
    "\n",
    "for ax, ex in zip(axis, exercise_abbrs):\n",
    "    s = ax.imshow(pred_prob_win_dict[ex].transpose(), interpolation='nearest', \n",
    "                  aspect='auto', cmap=cmap, vmin=vmin, vmax=vmax)\n",
    "    ax.invert_yaxis()\n",
    "    ax.set_yticks(yticks)\n",
    "    ax.set_yticklabels(ylabels, fontsize=7)\n",
    "    ax.set_ylabel(ex, rotation=0, fontsize=13)\n",
    "    ax.yaxis.labelpad = 34\n",
    "    ax.xaxis.set_ticklabels([])\n",
    "\n",
    "    \n",
    "plt.gcf().text(0.09, 0.6, r'sequence length $[s]$', fontsize=10, rotation=90)\n",
    "# plt.gcf().text(0.078, 0.6, r'window length $[s]$', fontsize=10, rotation=90) # for half the window size\n",
    "\n",
    "#axis[-1].plot(range(num_start_points), np.zeros(num_start_points), 'k', alpha=0.0)\n",
    "formatter = FuncFormatter(lambda i, x: time.strftime('%M:%S', time.gmtime(i/new_sampling_rate)))\n",
    "axis[-1].xaxis.set_major_formatter(formatter)\n",
    "axis[-1].set_xlabel(r'time $[min:sec]$', fontsize=13)\n",
    "axis[-1].set_yticks([])\n",
    "axis[-1].set_ylim([0,1])\n",
    "\n",
    "fig.subplots_adjust(bottom=0.2, right=0.9) # make space for buttons and color bar\n",
    "cbar_ax = fig.add_axes([0.93, 0.255, 0.01, 0.625])\n",
    "fig.colorbar(s, cax=cbar_ax)\n",
    "\n",
    "# add slider for selections on the x axis\n",
    "Slider_shiftX_ax = plt.axes([0.125, 0.07, 0.775, 0.025])\n",
    "Slider_zoomX_ax = plt.axes([0.125, 0.035, 0.775, 0.025])\n",
    "\n",
    "axcolor = 'cornflowerblue'\n",
    "Slider_shiftX = Slider(Slider_shiftX_ax, 'time shift [%]', 0.0, 100.0, valinit=0, facecolor=axcolor)\n",
    "Slider_zoomX = Slider(Slider_zoomX_ax, 'time scale [%]', 0.1, 100.0, valinit=100, facecolor=axcolor)\n",
    "Slider_zoomX_ax.xaxis.set_visible(True)\n",
    "Slider_zoomX_ax.set_xticks(np.arange(0,105,5)) \n",
    "\n",
    "def updateX(val):\n",
    "    start_index = int(Slider_shiftX.val / 100 * num_data_points)\n",
    "    stop_index = start_index + Slider_zoomX.val / 100 * num_data_points\n",
    "    axis[-1].set_xlim((start_index, stop_index))\n",
    "    fig.suptitle('Predicted Probabilities ' + sub_text + indices_to_time(start_index, stop_index), fontsize=20)\n",
    "    plt.draw()\n",
    "\n",
    "Slider_shiftX.on_changed(updateX)\n",
    "Slider_zoomX.on_changed(updateX)\n",
    "\n",
    "# add button to reset view\n",
    "def resetX(val):\n",
    "    start_index = 0\n",
    "    stop_index = num_data_points\n",
    "    axis[-1].set_xlim((start_index, stop_index))\n",
    "    Slider_shiftX.reset()\n",
    "    Slider_zoomX.reset()\n",
    "    fig.suptitle('Predicted Probabilities ' + sub_text + indices_to_time(start_index, stop_index), fontsize=20)\n",
    "    plt.draw()\n",
    "\n",
    "Button_resetX_ax = plt.axes([0.85, 0.12, 0.05, 0.03])\n",
    "Button_resetX = Button(Button_resetX_ax, 'Reset view')\n",
    "Button_resetX.on_clicked(resetX)\n",
    "\n",
    "start_index = 0\n",
    "stop_index = num_data_points\n",
    "\n",
    "fig.suptitle('Predicted Probabilities ' + sub_text + indices_to_time(start_index, stop_index), fontsize=20)\n",
    "\n",
    "axis[-1].set_xlim(0, num_data_points)\n",
    "\n",
    "\n",
    "# Plotting the actual classes (exercises) on the last axis:\n",
    "\n",
    "# dictionary to get exercise abbreviations from exercise names in timetable\n",
    "exercise_names = {'Raises Front':'RF',\n",
    "                  'Raises Oblique':'RO',\n",
    "                  'Raises Side':'RS',\n",
    "                  'Rotation Wrist':'LR',\n",
    "                  'Biceps Curls':'BC',\n",
    "                  'Triceps Curls':'TC',\n",
    "                  'Military Press':'MP',\n",
    "                  'Shoulder Adduct.':'SA',\n",
    "                  'PNF Diagonal 1':'P1',\n",
    "                  'PNF Diagonal 2':'P2'}\n",
    "\n",
    "# going through all exercises in the timetable\n",
    "for ii, ex_name in enumerate(timetable_data.values[:,0]):\n",
    "    \n",
    "    # going through all repetition blocks in the timetable (5, 10 and 15 rep. blocks)\n",
    "    for rep_col, start_col, stop_col in zip([1,2,3],[4,6,8],[5,7,9]): # corresponding columns\n",
    "        rep_num = timetable_data.values[ii,rep_col]\n",
    "        left_border = fmpm.convert_time_format_to_index(timetable_data.values[ii,start_col], \n",
    "                                                        sampling_rate=new_sampling_rate)\n",
    "        right_border = fmpm.convert_time_format_to_index(timetable_data.values[ii,stop_col], \n",
    "                                                         sampling_rate=new_sampling_rate)\n",
    "        # mark the corresponding area\n",
    "        axis[-1].axvspan(left_border, right_border, color='y', alpha=0.3, lw=0)\n",
    "        # write text to the corresponding area\n",
    "        x_center = left_border + (right_border-left_border)/2 # x center of marked area\n",
    "        axis[-1].text(x_center, 0.5, str(rep_num) + '\\n' + exercise_names[ex_name], \n",
    "                      horizontalalignment='center', verticalalignment='center', fontsize=10, clip_on=True)\n",
    "        \n",
    "axis[-1].set_ylabel('Actual classes', rotation=0, fontsize=11)\n",
    "axis[-1].yaxis.labelpad = 50\n",
    "\n",
    "plt.show()"
   ]
  },
  {
   "cell_type": "code",
   "execution_count": null,
   "metadata": {},
   "outputs": [],
   "source": []
  },
  {
   "cell_type": "code",
   "execution_count": null,
   "metadata": {},
   "outputs": [],
   "source": []
  },
  {
   "cell_type": "code",
   "execution_count": null,
   "metadata": {},
   "outputs": [],
   "source": []
  }
 ],
 "metadata": {
  "kernelspec": {
   "display_name": "Python 3",
   "language": "python",
   "name": "python3"
  },
  "language_info": {
   "codemirror_mode": {
    "name": "ipython",
    "version": 3
   },
   "file_extension": ".py",
   "mimetype": "text/x-python",
   "name": "python",
   "nbconvert_exporter": "python",
   "pygments_lexer": "ipython3",
   "version": "3.6.2"
  },
  "toc": {
   "base_numbering": 1,
   "nav_menu": {},
   "number_sections": true,
   "sideBar": true,
   "skip_h1_title": false,
   "title_cell": "Table of Contents",
   "title_sidebar": "Contents",
   "toc_cell": false,
   "toc_position": {
    "height": "calc(100% - 180px)",
    "left": "10px",
    "top": "150px",
    "width": "282px"
   },
   "toc_section_display": true,
   "toc_window_display": false
  }
 },
 "nbformat": 4,
 "nbformat_minor": 2
}
