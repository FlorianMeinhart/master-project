{
 "cells": [
  {
   "cell_type": "markdown",
   "metadata": {
    "extensions": {
     "jupyter_dashboards": {
      "version": 1,
      "views": {
       "grid_default": {
        "col": 0,
        "height": 4,
        "hidden": false,
        "row": 0,
        "width": 4
       },
       "report_default": {
        "hidden": false
       }
      }
     }
    }
   },
   "source": [
    "# Evaluation Report - Section Means as Features\n",
    "\n",
    "The first cell provides a summary of selected parameters and the evaluation ($\\rightarrow$ executed after evaluation)."
   ]
  },
  {
   "cell_type": "code",
   "execution_count": 68,
   "metadata": {
    "ExecuteTime": {
     "end_time": "2019-02-05T00:56:51.167769Z",
     "start_time": "2019-02-05T00:56:51.050762Z"
    },
    "scrolled": false
   },
   "outputs": [
    {
     "name": "stdout",
     "output_type": "stream",
     "text": [
      "\n",
      "    Summary of Evaluation Report\n",
      "\n",
      "Test data set:\n",
      "\tSubject ID: \t1\n",
      "\tSamples: \t457\n",
      "\tRep. num.: \t5\n",
      "\tExercises: \t-1\n",
      "\tRotation axes: \t0\n",
      "\tRot. angles: \t0\n",
      "\tSNR: \t\tnone\n",
      "\n",
      "Train data set:\n",
      "\tSubject ID(s): \t1\n",
      "\tSamples: \t659\n",
      "\tRep. num.: \t[10, 15, 0]\n",
      "\tExercises: \t-1\n",
      "\tSNR: \t\tnone\n",
      "\n",
      "Number of sections to split each rep.: 10\n",
      "\n",
      "Dimensionality reduction: \tnone\n",
      "\n",
      "Windowing procedure:\n",
      "\tWin. start inc.: \t0.2 s\n",
      "\tWin. stretch inc.: \t0.2 s\n",
      "\tMin. win. length: \t1 s\n",
      "\tMax. win. length: \t5 s\n",
      "\tFilter order: \t\t6\n",
      "\tCutoff frequency: \t10 Hz\n",
      "\n",
      "Evaluation of probability matrices:\n",
      "\tMax. time betw. 2 rep.:\t6 s\n",
      "\tMin rep. per block: \t3\n",
      "\tProb. threshold: \t0.5\n",
      "\tFootprint length: \t3 s\n",
      "\n",
      "Machine Learning:\n",
      "\tModel: \tSVC\n",
      "\tParam. for grid search cross val.:\n",
      "\t\tclf__C: [0.5, 1, 2]\n",
      "\t\tclf__gamma: ['scale', 0.01, 0.03]\n",
      "\tBest parameters:\n",
      "\t\tclf__C: 2\n",
      "\t\tclf__gamma: 0.03\n",
      "\tBest score (gridsearchCV): \t98.79%\n",
      "\n",
      "\tScore on sep. test samples: \t99.12%\n",
      "\n",
      "\tExerc.\tPrec.\tRecall\tF1-Sc.\tSupport\n",
      "\tRF\t1.0000\t1.0000\t1.0000\t      5\n",
      "\tRO\t1.0000\t1.0000\t1.0000\t      5\n",
      "\tRS\t1.0000\t1.0000\t1.0000\t      5\n",
      "\tLR\t1.0000\t1.0000\t1.0000\t      5\n",
      "\tBC\t1.0000\t1.0000\t1.0000\t      5\n",
      "\tTC\t1.0000\t1.0000\t1.0000\t      5\n",
      "\tMP\t0.5556\t1.0000\t0.7143\t      5\n",
      "\tSA\t1.0000\t1.0000\t1.0000\t      5\n",
      "\tP1\t1.0000\t1.0000\t1.0000\t      5\n",
      "\tP2\t1.0000\t1.0000\t1.0000\t      5\n",
      "\tNE\t1.0000\t0.9902\t0.9951\t    407\n",
      "\ttotal\t0.9912\t0.9912\t0.9912\t    457\n"
     ]
    }
   ],
   "source": [
    "try:\n",
    "    print_eval_summary()\n",
    "except:\n",
    "    pass"
   ]
  },
  {
   "cell_type": "markdown",
   "metadata": {},
   "source": [
    "***\n",
    "***\n",
    "***\n",
    "***\n",
    "***"
   ]
  },
  {
   "cell_type": "markdown",
   "metadata": {},
   "source": [
    "***Save the notebook:***"
   ]
  },
  {
   "cell_type": "code",
   "execution_count": 71,
   "metadata": {
    "ExecuteTime": {
     "end_time": "2019-02-05T00:59:41.419507Z",
     "start_time": "2019-02-05T00:59:41.407506Z"
    }
   },
   "outputs": [
    {
     "data": {
      "application/javascript": [
       "IPython.notebook.save_notebook()"
      ],
      "text/plain": [
       "<IPython.core.display.Javascript object>"
      ]
     },
     "metadata": {},
     "output_type": "display_data"
    }
   ],
   "source": [
    "%%javascript\n",
    "IPython.notebook.save_notebook()"
   ]
  },
  {
   "cell_type": "markdown",
   "metadata": {},
   "source": [
    "***Convert the notebook to html:***\n",
    "\n",
    "(Executed in the end.)"
   ]
  },
  {
   "cell_type": "code",
   "execution_count": 72,
   "metadata": {
    "ExecuteTime": {
     "end_time": "2019-02-05T00:59:43.116604Z",
     "start_time": "2019-02-05T00:59:42.387562Z"
    }
   },
   "outputs": [],
   "source": [
    "try:\n",
    "    exporter = HTMLExporter()\n",
    "    output_notebook = nbformat.read('Evaluation_Report.ipynb', as_version=4)\n",
    "    output, resources = exporter.from_notebook_node(output_notebook)\n",
    "    codecs.open('Report_' + file_doc_string  + '.html', 'w', encoding='utf-8').write(output)\n",
    "except:\n",
    "    pass"
   ]
  },
  {
   "cell_type": "markdown",
   "metadata": {},
   "source": [
    "***\n",
    "***\n",
    "***\n",
    "***\n",
    "***\n",
    "***Import modules:***"
   ]
  },
  {
   "cell_type": "code",
   "execution_count": 4,
   "metadata": {
    "ExecuteTime": {
     "end_time": "2019-02-05T00:55:49.025215Z",
     "start_time": "2019-02-05T00:55:45.094990Z"
    },
    "extensions": {
     "jupyter_dashboards": {
      "version": 1,
      "views": {
       "grid_default": {
        "hidden": true
       },
       "report_default": {
        "hidden": true
       }
      }
     }
    }
   },
   "outputs": [],
   "source": [
    "import pandas as pd\n",
    "import numpy as np\n",
    "import datetime\n",
    "import timeit\n",
    "import time\n",
    "import os\n",
    "from nbconvert import HTMLExporter\n",
    "import codecs\n",
    "import nbformat\n",
    "from pivottablejs import pivot_ui\n",
    "\n",
    "import sys\n",
    "sys.path.append('..')  # in order to import modules from the package 'packageMeinhart'\n",
    "from packageMeinhart import PhysioDataHandler as PDH\n",
    "from packageMeinhart.functionsMasterProjectMeinhart import print_misclassified_data_points\n",
    "from packageMeinhart.functionsMasterProjectMeinhart import get_timetable_ex_dict\n",
    "\n",
    "# Modules for machine learning and evaluation\n",
    "from sklearn.linear_model import LogisticRegression\n",
    "from sklearn.ensemble import RandomForestClassifier\n",
    "from sklearn.svm import SVC\n",
    "from sklearn.decomposition import PCA\n",
    "from sklearn.discriminant_analysis import LinearDiscriminantAnalysis as LDA\n",
    "from sklearn.preprocessing import StandardScaler\n",
    "from sklearn.pipeline import Pipeline\n",
    "from sklearn.model_selection import GridSearchCV\n",
    "from sklearn.metrics import accuracy_score\n",
    "from sklearn.metrics import classification_report\n",
    "# StandardScaler raises the following warning:\n",
    "# --> DataConversionWarning: Data with input dtype object was converted to float64 by StandardScaler.\n",
    "# In order to ignore that:\n",
    "import warnings\n",
    "from sklearn.exceptions import DataConversionWarning\n",
    "warnings.filterwarnings(action='ignore', category=DataConversionWarning)"
   ]
  },
  {
   "cell_type": "code",
   "execution_count": 5,
   "metadata": {
    "ExecuteTime": {
     "end_time": "2019-02-05T00:55:49.051216Z",
     "start_time": "2019-02-05T00:55:49.031215Z"
    },
    "extensions": {
     "jupyter_dashboards": {
      "version": 1,
      "views": {
       "grid_default": {
        "hidden": true
       },
       "report_default": {
        "hidden": true
       }
      }
     }
    }
   },
   "outputs": [],
   "source": [
    "%matplotlib inline"
   ]
  },
  {
   "cell_type": "markdown",
   "metadata": {
    "extensions": {
     "jupyter_dashboards": {
      "version": 1,
      "views": {
       "grid_default": {
        "col": 8,
        "height": 4,
        "hidden": false,
        "row": 0,
        "width": 4
       },
       "report_default": {
        "hidden": false
       }
      }
     }
    }
   },
   "source": [
    "## Definition of Parameters"
   ]
  },
  {
   "cell_type": "markdown",
   "metadata": {
    "extensions": {
     "jupyter_dashboards": {
      "version": 1,
      "views": {
       "grid_default": {
        "col": 0,
        "height": 4,
        "hidden": false,
        "row": 4,
        "width": 4
       },
       "report_default": {
        "hidden": false
       }
      }
     }
    }
   },
   "source": [
    "### Number of Sections\n",
    "\n",
    "***Number of sections to split each exercise repetition:***"
   ]
  },
  {
   "cell_type": "code",
   "execution_count": 6,
   "metadata": {
    "ExecuteTime": {
     "end_time": "2019-02-05T00:55:49.270229Z",
     "start_time": "2019-02-05T00:55:49.056216Z"
    },
    "extensions": {
     "jupyter_dashboards": {
      "version": 1,
      "views": {
       "grid_default": {
        "hidden": true
       },
       "report_default": {
        "hidden": true
       }
      }
     }
    }
   },
   "outputs": [],
   "source": [
    "number_sections = 10"
   ]
  },
  {
   "cell_type": "markdown",
   "metadata": {
    "extensions": {
     "jupyter_dashboards": {
      "version": 1,
      "views": {
       "grid_default": {
        "col": 4,
        "height": 4,
        "hidden": false,
        "row": 4,
        "width": 4
       },
       "report_default": {
        "hidden": false
       }
      }
     }
    }
   },
   "source": [
    "### Test Subject\n",
    "\n",
    "***Select the test subject via ID:***"
   ]
  },
  {
   "cell_type": "code",
   "execution_count": 7,
   "metadata": {
    "ExecuteTime": {
     "end_time": "2019-02-05T00:55:49.402236Z",
     "start_time": "2019-02-05T00:55:49.274229Z"
    },
    "extensions": {
     "jupyter_dashboards": {
      "version": 1,
      "views": {
       "grid_default": {
        "hidden": true
       },
       "report_default": {
        "hidden": true
       }
      }
     }
    }
   },
   "outputs": [],
   "source": [
    "test_subject_id = 1"
   ]
  },
  {
   "cell_type": "markdown",
   "metadata": {},
   "source": [
    "### Training Subjects\n",
    "\n",
    "***Subjects (IDs) to consider for training:***\n",
    "\n",
    "Integer or list of integers.\n",
    "\n",
    "If all subjects except the test subject shall be considered for training, set parameter to -1."
   ]
  },
  {
   "cell_type": "code",
   "execution_count": 8,
   "metadata": {
    "ExecuteTime": {
     "end_time": "2019-02-05T00:55:49.541244Z",
     "start_time": "2019-02-05T00:55:49.407237Z"
    }
   },
   "outputs": [],
   "source": [
    "train_subject_ids = 1"
   ]
  },
  {
   "cell_type": "markdown",
   "metadata": {},
   "source": [
    "### Repetition Numbers\n",
    "\n",
    "***Repetition numbers of blocks for testing (of separated samples) or rather training:***\n",
    "\n",
    "Available repetition numbers: 5, 10, 15\n",
    "\n",
    "If more than on repetition number shall be selected, use a list (e.g. [5, 10]).\n",
    "\n",
    "If parameter is set to -1, all repetition numbers are selected."
   ]
  },
  {
   "cell_type": "code",
   "execution_count": 9,
   "metadata": {
    "ExecuteTime": {
     "end_time": "2019-02-05T00:55:49.710254Z",
     "start_time": "2019-02-05T00:55:49.548245Z"
    }
   },
   "outputs": [],
   "source": [
    "test_repetition_numbers = 5\n",
    "train_repetition_numbers = [10, 15]"
   ]
  },
  {
   "cell_type": "markdown",
   "metadata": {
    "ExecuteTime": {
     "end_time": "2019-01-21T18:32:15.550613Z",
     "start_time": "2019-01-21T18:32:15.521611Z"
    }
   },
   "source": [
    "### Exercises\n",
    "\n",
    "***Exercises for testing (of separated samples) or rather training:***\n",
    "    \n",
    "Available exercises: 'RF', 'RO', 'RS', 'LR', 'BC', 'TC', 'MP', 'SA', 'P1', 'P2', 'NE'\n",
    "    \n",
    "If more than on exercise shall be selected, use a list (e.g. ['RF', 'BC']).\n",
    "\n",
    "If parameter is set to -1, all exercises are selected."
   ]
  },
  {
   "cell_type": "code",
   "execution_count": 10,
   "metadata": {
    "ExecuteTime": {
     "end_time": "2019-02-05T00:55:49.856262Z",
     "start_time": "2019-02-05T00:55:49.714254Z"
    }
   },
   "outputs": [],
   "source": [
    "test_exercises = -1\n",
    "train_exercises = -1"
   ]
  },
  {
   "cell_type": "markdown",
   "metadata": {},
   "source": [
    "### Rotation Test Data\n",
    "\n",
    "***Axes and angles to rotate the test data:***\n",
    "    \n",
    "Available axes: 0, 1, 2 ($\\rightarrow$ x, y, z)\n",
    "\n",
    "Rotation angles must be given in degrees.\n",
    "    \n",
    "If sequence of rotations shall be applied, use lists (e.g. [0, 1] for axes and [20, 45] for angles).\n",
    "\n",
    "NOTE: Rotation is applied to separated test samples as well as to the whole record of the test subject."
   ]
  },
  {
   "cell_type": "code",
   "execution_count": 11,
   "metadata": {
    "ExecuteTime": {
     "end_time": "2019-02-05T00:55:50.000270Z",
     "start_time": "2019-02-05T00:55:49.862263Z"
    }
   },
   "outputs": [],
   "source": [
    "rot_axis_test_data = 0\n",
    "rot_angle_test_data = 0"
   ]
  },
  {
   "cell_type": "markdown",
   "metadata": {},
   "source": [
    "### Noise\n",
    "\n",
    "***Noise to be added to test and/or training data:***\n",
    "\n",
    "Additive White Gaussian Noise (AWGN) with a defined Signal to Noise Ratio (SNR) in decibel is used.\n",
    "\n",
    "The noise will then be calculated by means of the SNR with regard to each signal of a whole repetition block.\n",
    "\n",
    "NOTE: Noise is added to separated test samples as well as to the whole record of the test subject."
   ]
  },
  {
   "cell_type": "code",
   "execution_count": 12,
   "metadata": {
    "ExecuteTime": {
     "end_time": "2019-02-05T00:55:50.127278Z",
     "start_time": "2019-02-05T00:55:50.008271Z"
    }
   },
   "outputs": [],
   "source": [
    "add_noise_test_data = False\n",
    "add_noise_train_data = False\n",
    "snr_db = 10"
   ]
  },
  {
   "cell_type": "markdown",
   "metadata": {},
   "source": [
    "### PCA\n",
    "\n",
    "***Principal Component Analysis (PCA) for dimensionality reduction:***\n",
    "\n",
    "If used, project features to a smaller dimensional space.\n",
    "\n",
    "(Be aware that number of principal components has to be lower than number of features.)"
   ]
  },
  {
   "cell_type": "code",
   "execution_count": 13,
   "metadata": {
    "ExecuteTime": {
     "end_time": "2019-02-05T00:55:50.267286Z",
     "start_time": "2019-02-05T00:55:50.131278Z"
    }
   },
   "outputs": [],
   "source": [
    "use_PCA_for_dim_reduction = False\n",
    "number_principal_components = 20"
   ]
  },
  {
   "cell_type": "markdown",
   "metadata": {},
   "source": [
    "### LDA\n",
    "\n",
    "***Linear Discriminant Analysis (LDA) for dimensionality reduction:***\n",
    "\n",
    "Also LDA can be used to project features to a lower dimensional space.\n",
    "\n",
    "(Number of new features = number of classes - 1)"
   ]
  },
  {
   "cell_type": "code",
   "execution_count": 14,
   "metadata": {
    "ExecuteTime": {
     "end_time": "2019-02-05T00:55:50.422295Z",
     "start_time": "2019-02-05T00:55:50.273286Z"
    }
   },
   "outputs": [],
   "source": [
    "use_LDA_for_dim_reduction = False"
   ]
  },
  {
   "cell_type": "markdown",
   "metadata": {
    "extensions": {
     "jupyter_dashboards": {
      "version": 1,
      "views": {
       "grid_default": {
        "col": 8,
        "height": 4,
        "hidden": false,
        "row": 4,
        "width": 4
       },
       "report_default": {
        "hidden": false
       }
      }
     }
    }
   },
   "source": [
    "### Windowing Procedure\n",
    "\n",
    "***Parameters for windowing procedure:***"
   ]
  },
  {
   "cell_type": "markdown",
   "metadata": {},
   "source": [
    "Window start increment [s]:"
   ]
  },
  {
   "cell_type": "code",
   "execution_count": 15,
   "metadata": {
    "ExecuteTime": {
     "end_time": "2019-02-05T00:55:50.574303Z",
     "start_time": "2019-02-05T00:55:50.432295Z"
    }
   },
   "outputs": [],
   "source": [
    "win_start_inc = 0.2"
   ]
  },
  {
   "cell_type": "markdown",
   "metadata": {},
   "source": [
    "Window stretch increment [s]:"
   ]
  },
  {
   "cell_type": "code",
   "execution_count": 16,
   "metadata": {
    "ExecuteTime": {
     "end_time": "2019-02-05T00:55:50.712311Z",
     "start_time": "2019-02-05T00:55:50.583304Z"
    }
   },
   "outputs": [],
   "source": [
    "win_stretch_inc = 0.2"
   ]
  },
  {
   "cell_type": "markdown",
   "metadata": {},
   "source": [
    "Minimum window length [s]:"
   ]
  },
  {
   "cell_type": "code",
   "execution_count": 17,
   "metadata": {
    "ExecuteTime": {
     "end_time": "2019-02-05T00:55:50.861320Z",
     "start_time": "2019-02-05T00:55:50.717311Z"
    }
   },
   "outputs": [],
   "source": [
    "win_min_len = 1"
   ]
  },
  {
   "cell_type": "markdown",
   "metadata": {},
   "source": [
    "Maximum window length [s]:"
   ]
  },
  {
   "cell_type": "code",
   "execution_count": 18,
   "metadata": {
    "ExecuteTime": {
     "end_time": "2019-02-05T00:55:51.025329Z",
     "start_time": "2019-02-05T00:55:50.873320Z"
    }
   },
   "outputs": [],
   "source": [
    "win_max_len = 5"
   ]
  },
  {
   "cell_type": "markdown",
   "metadata": {},
   "source": [
    "Order of butterworth filter:"
   ]
  },
  {
   "cell_type": "code",
   "execution_count": 19,
   "metadata": {
    "ExecuteTime": {
     "end_time": "2019-02-05T00:55:51.185338Z",
     "start_time": "2019-02-05T00:55:51.035330Z"
    }
   },
   "outputs": [],
   "source": [
    "butterworth_order = 6"
   ]
  },
  {
   "cell_type": "markdown",
   "metadata": {},
   "source": [
    "Cutoff frequency of butterworth filter [Hz]:"
   ]
  },
  {
   "cell_type": "code",
   "execution_count": 20,
   "metadata": {
    "ExecuteTime": {
     "end_time": "2019-02-05T00:55:51.345347Z",
     "start_time": "2019-02-05T00:55:51.192339Z"
    }
   },
   "outputs": [],
   "source": [
    "butterworth_cutoff = 10"
   ]
  },
  {
   "cell_type": "markdown",
   "metadata": {
    "extensions": {
     "jupyter_dashboards": {
      "version": 1,
      "views": {
       "grid_default": {
        "col": 0,
        "height": 4,
        "hidden": false,
        "row": 8,
        "width": 4
       },
       "report_default": {
        "hidden": false
       }
      }
     }
    }
   },
   "source": [
    "### Probability Matrices\n",
    "\n",
    "***Parameters for the evaluation of probability matrices:***"
   ]
  },
  {
   "cell_type": "markdown",
   "metadata": {},
   "source": [
    "Maximum time between two peaks (repetitions) of the same repetition block [s]:"
   ]
  },
  {
   "cell_type": "code",
   "execution_count": 21,
   "metadata": {
    "ExecuteTime": {
     "end_time": "2019-02-05T00:55:51.495356Z",
     "start_time": "2019-02-05T00:55:51.351348Z"
    }
   },
   "outputs": [],
   "source": [
    "max_time_between_peaks = 6"
   ]
  },
  {
   "cell_type": "markdown",
   "metadata": {},
   "source": [
    "Minimum number of peaks (repetitions) per repetition block:"
   ]
  },
  {
   "cell_type": "code",
   "execution_count": 22,
   "metadata": {
    "ExecuteTime": {
     "end_time": "2019-02-05T00:55:51.645365Z",
     "start_time": "2019-02-05T00:55:51.501356Z"
    }
   },
   "outputs": [],
   "source": [
    "min_peaks_per_block = 3"
   ]
  },
  {
   "cell_type": "markdown",
   "metadata": {},
   "source": [
    "Probability threshold in order to accept peaks as exercise repetitions (0 ... 1):"
   ]
  },
  {
   "cell_type": "code",
   "execution_count": 23,
   "metadata": {
    "ExecuteTime": {
     "end_time": "2019-02-05T00:55:51.776372Z",
     "start_time": "2019-02-05T00:55:51.649365Z"
    }
   },
   "outputs": [],
   "source": [
    "threshold_prob = 0.5"
   ]
  },
  {
   "cell_type": "markdown",
   "metadata": {},
   "source": [
    "Length of the footprint for a maximum-filter in order to find peaks [s]:"
   ]
  },
  {
   "cell_type": "code",
   "execution_count": 24,
   "metadata": {
    "ExecuteTime": {
     "end_time": "2019-02-05T00:55:51.959383Z",
     "start_time": "2019-02-05T00:55:51.782372Z"
    }
   },
   "outputs": [],
   "source": [
    "footprint_length = 3"
   ]
  },
  {
   "cell_type": "markdown",
   "metadata": {},
   "source": [
    "Print individual repetition lengths [s] and predicted probabilities (if True):"
   ]
  },
  {
   "cell_type": "code",
   "execution_count": 25,
   "metadata": {
    "ExecuteTime": {
     "end_time": "2019-02-05T00:55:52.129392Z",
     "start_time": "2019-02-05T00:55:51.965383Z"
    }
   },
   "outputs": [],
   "source": [
    "print_rep_len_prob = False"
   ]
  },
  {
   "cell_type": "markdown",
   "metadata": {
    "extensions": {
     "jupyter_dashboards": {
      "version": 1,
      "views": {
       "grid_default": {
        "col": 4,
        "height": 6,
        "hidden": false,
        "row": 8,
        "width": null
       },
       "report_default": {
        "hidden": false
       }
      }
     }
    }
   },
   "source": [
    "### Plotting\n",
    "\n",
    "***Parameters for plotting of exercise repetition blocks:***\n",
    "\n",
    "Since it would be too much to plot all exercise repetition blocks, it can be chosen\n",
    "how many and which blocks shall be plotted. Therefore, the repetition blocks have to be present in a list of strings, where every string consists of the exercise abbreviation and the number of repetitions.\n",
    "\n",
    "Example: ['RF_5', 'RO_10', 'BC_15'] $\\rightarrow$ generates three plots\n",
    "\n",
    "The second parameter defines the time to plot before and after the selected block in seconds."
   ]
  },
  {
   "cell_type": "code",
   "execution_count": 26,
   "metadata": {
    "ExecuteTime": {
     "end_time": "2019-02-05T00:55:52.265400Z",
     "start_time": "2019-02-05T00:55:52.135393Z"
    },
    "extensions": {
     "jupyter_dashboards": {
      "version": 1,
      "views": {
       "grid_default": {
        "hidden": true
       },
       "report_default": {
        "hidden": true
       }
      }
     }
    }
   },
   "outputs": [],
   "source": [
    "plot_exercise_repetition_blocks = ['RF_5','RO_5','RS_5','LR_5','BC_5',\n",
    "                                   'TC_5','MP_5','SA_5','P1_5','P2_5']\n",
    "plot_time_offset_before_and_after = 3 # [s]"
   ]
  },
  {
   "cell_type": "markdown",
   "metadata": {
    "extensions": {
     "jupyter_dashboards": {
      "version": 1,
      "views": {
       "grid_default": {
        "col": 0,
        "height": 4,
        "hidden": false,
        "row": 12,
        "width": 4
       },
       "report_default": {
        "hidden": false
       }
      }
     }
    }
   },
   "source": [
    "### Whole Test Record\n",
    "\n",
    "***Directory and file-name of csv-file with whole record of the test subject:***"
   ]
  },
  {
   "cell_type": "code",
   "execution_count": 27,
   "metadata": {
    "ExecuteTime": {
     "end_time": "2019-02-05T00:55:52.401408Z",
     "start_time": "2019-02-05T00:55:52.272400Z"
    },
    "extensions": {
     "jupyter_dashboards": {
      "version": 1,
      "views": {
       "grid_default": {
        "hidden": true
       },
       "report_default": {
        "hidden": true
       }
      }
     }
    }
   },
   "outputs": [],
   "source": [
    "test_subject_dir  = 'E:\\Physio_Data\\Subject_{:02d}'.format(test_subject_id)\n",
    "test_subject_file = 'subject{:02d}.csv'.format(test_subject_id)"
   ]
  },
  {
   "cell_type": "markdown",
   "metadata": {
    "extensions": {
     "jupyter_dashboards": {
      "version": 1,
      "views": {
       "grid_default": {
        "col": 4,
        "height": 4,
        "hidden": false,
        "row": 14,
        "width": 4
       },
       "report_default": {
        "hidden": false
       }
      }
     }
    }
   },
   "source": [
    "### Timetables\n",
    "\n",
    "***Directory and file-name of timetable with the actual exercises:***"
   ]
  },
  {
   "cell_type": "code",
   "execution_count": 28,
   "metadata": {
    "ExecuteTime": {
     "end_time": "2019-02-05T00:55:52.549416Z",
     "start_time": "2019-02-05T00:55:52.404408Z"
    },
    "extensions": {
     "jupyter_dashboards": {
      "version": 1,
      "views": {
       "grid_default": {
        "hidden": true
       },
       "report_default": {
        "hidden": true
       }
      }
     }
    }
   },
   "outputs": [],
   "source": [
    "timetable_file_dir = 'E:\\Physio_Data\\Exercise_time_tables'\n",
    "timetable_file_name = 'Timetable_subject{:02d}.txt'.format(test_subject_id)"
   ]
  },
  {
   "cell_type": "markdown",
   "metadata": {
    "extensions": {
     "jupyter_dashboards": {
      "version": 1,
      "views": {
       "grid_default": {
        "col": 8,
        "height": 4,
        "hidden": false,
        "row": 14,
        "width": 4
       },
       "report_default": {
        "hidden": false
       }
      }
     }
    }
   },
   "source": [
    "### Separated csv-files & Database\n",
    "\n",
    "***Directory of separated csv-files (repetition blocks) and path of database with information regarding repetitions:***"
   ]
  },
  {
   "cell_type": "code",
   "execution_count": 29,
   "metadata": {
    "ExecuteTime": {
     "end_time": "2019-02-05T00:55:52.691424Z",
     "start_time": "2019-02-05T00:55:52.555417Z"
    },
    "extensions": {
     "jupyter_dashboards": {
      "version": 1,
      "views": {
       "grid_default": {
        "hidden": true
       },
       "report_default": {
        "hidden": true
       }
      }
     }
    }
   },
   "outputs": [],
   "source": [
    "separated_csv_data_dir='E:\\Physio_Data_Split_Ex_and_NonEx'\n",
    "database_path='E:\\Physio_Data\\DataBase_Physio_with_nonEx.db'"
   ]
  },
  {
   "cell_type": "markdown",
   "metadata": {
    "extensions": {
     "jupyter_dashboards": {
      "version": 1,
      "views": {
       "grid_default": {
        "col": 0,
        "height": 4,
        "hidden": false,
        "row": 16,
        "width": 4
       },
       "report_default": {
        "hidden": false
       }
      }
     }
    }
   },
   "source": [
    "### Sampling Rate\n",
    "\n",
    "***Sampling rate of recorded signals [Hz]:***"
   ]
  },
  {
   "cell_type": "code",
   "execution_count": 30,
   "metadata": {
    "ExecuteTime": {
     "end_time": "2019-02-05T00:55:52.831432Z",
     "start_time": "2019-02-05T00:55:52.696425Z"
    },
    "extensions": {
     "jupyter_dashboards": {
      "version": 1,
      "views": {
       "grid_default": {
        "hidden": true
       },
       "report_default": {
        "hidden": true
       }
      }
     }
    }
   },
   "outputs": [],
   "source": [
    "sampling_rate = 256 # [Hz]"
   ]
  },
  {
   "cell_type": "markdown",
   "metadata": {},
   "source": [
    "### Add Info\n",
    "\n",
    "***Additional information for the file-names to save:***\n",
    "\n",
    "Test subject ID, number of sections, ML model name and timestamp will automatically be used."
   ]
  },
  {
   "cell_type": "code",
   "execution_count": 31,
   "metadata": {
    "ExecuteTime": {
     "end_time": "2019-02-05T00:55:52.980441Z",
     "start_time": "2019-02-05T00:55:52.835433Z"
    }
   },
   "outputs": [],
   "source": [
    "add_info = 'oneSub'"
   ]
  },
  {
   "cell_type": "markdown",
   "metadata": {
    "extensions": {
     "jupyter_dashboards": {
      "version": 1,
      "views": {
       "grid_default": {
        "col": 4,
        "height": 7,
        "hidden": false,
        "row": 18,
        "width": null
       },
       "report_default": {
        "hidden": false
       }
      }
     }
    }
   },
   "source": [
    "## Definition of Machine Learning (ML) Classifier Model\n",
    "\n",
    "Choose one of the classifier models from below by setting the parameter ML_model_name\n",
    "to one of the following strings:\n",
    "\n",
    "* Logistic Regression:  'LogReg'\n",
    "* Linear Discriminant Analysis:  'LDA'\n",
    "* Support Vector Classifier:  'SVC'\n",
    "* Random Forest Classifier:  'RFC'"
   ]
  },
  {
   "cell_type": "code",
   "execution_count": 32,
   "metadata": {
    "ExecuteTime": {
     "end_time": "2019-02-05T00:55:53.121449Z",
     "start_time": "2019-02-05T00:55:52.985441Z"
    },
    "extensions": {
     "jupyter_dashboards": {
      "version": 1,
      "views": {
       "grid_default": {
        "hidden": true
       },
       "report_default": {
        "hidden": true
       }
      }
     }
    }
   },
   "outputs": [],
   "source": [
    "#ML_model_name = 'LogReg'\n",
    "#ML_model_name = 'LDA'\n",
    "ML_model_name = 'SVC'\n",
    "#ML_model_name = 'RFC'"
   ]
  },
  {
   "cell_type": "markdown",
   "metadata": {
    "extensions": {
     "jupyter_dashboards": {
      "version": 1,
      "views": {
       "grid_default": {
        "col": 0,
        "height": 9,
        "hidden": false,
        "row": 25,
        "width": 12
       },
       "report_default": {
        "hidden": false
       }
      }
     }
    }
   },
   "source": [
    "### Logistic Regression\n",
    "\n",
    "***Hyperparameters used for grid search cross validation:***\n",
    "\n",
    "* penalty : str, ‘l1’ or ‘l2’, default: ‘l2’\n",
    "\n",
    "    Used to specify the norm used in the penalization. The ‘newton-cg’, ‘sag’ and ‘lbfgs’ solvers support only l2 penalties.\n",
    "    \n",
    "    \n",
    "* C : float, default: 1.0\n",
    "\n",
    "    Inverse of regularization strength; must be a positive float. Like in support vector machines, smaller values specify stronger regularization.\n",
    "    \n",
    "(https://scikit-learn.org/stable/modules/generated/sklearn.linear_model.LogisticRegression.html)"
   ]
  },
  {
   "cell_type": "code",
   "execution_count": 33,
   "metadata": {
    "ExecuteTime": {
     "end_time": "2019-02-05T00:55:53.258457Z",
     "start_time": "2019-02-05T00:55:53.124449Z"
    },
    "extensions": {
     "jupyter_dashboards": {
      "version": 1,
      "views": {
       "grid_default": {
        "hidden": true
       },
       "report_default": {
        "hidden": true
       }
      }
     }
    }
   },
   "outputs": [],
   "source": [
    "if ML_model_name is 'LogReg':\n",
    "\n",
    "    ML_model = LogisticRegression(random_state=42, max_iter=1000, solver='liblinear', multi_class='ovr')\n",
    "\n",
    "    # hyperparameters for grid search cross validation\n",
    "    param_grid = {'clf__C': np.logspace(-2,2,5), \n",
    "                  'clf__penalty': ['l1','l2']}# l1 lasso l2 ridge"
   ]
  },
  {
   "cell_type": "markdown",
   "metadata": {
    "extensions": {
     "jupyter_dashboards": {
      "version": 1,
      "views": {
       "grid_default": {
        "col": 0,
        "height": 10,
        "hidden": false,
        "row": 34,
        "width": 12
       },
       "report_default": {
        "hidden": false
       }
      }
     }
    }
   },
   "source": [
    "### Linear Discriminant Analysis (LDA)\n",
    "\n",
    "***Hyperparameters used for grid search cross validation:***\n",
    "\n",
    "* Solver to use, possible values:\n",
    "\n",
    "    'svd': Singular value decomposition (default). Does not compute the covariance matrix, therefore this solver is recommended for data with a large number of features.\n",
    "    \n",
    "    'lsqr': Least squares solution.\n",
    "    \n",
    "    'eigen': Eigenvalue decomposition.\n",
    "    \n",
    "(https://scikit-learn.org/stable/modules/generated/sklearn.discriminant_analysis.LinearDiscriminantAnalysis.html)\n"
   ]
  },
  {
   "cell_type": "code",
   "execution_count": 34,
   "metadata": {
    "ExecuteTime": {
     "end_time": "2019-02-05T00:55:53.408465Z",
     "start_time": "2019-02-05T00:55:53.265457Z"
    },
    "extensions": {
     "jupyter_dashboards": {
      "version": 1,
      "views": {
       "grid_default": {
        "hidden": true
       },
       "report_default": {
        "hidden": true
       }
      }
     }
    }
   },
   "outputs": [],
   "source": [
    "if ML_model_name is 'LDA':\n",
    "\n",
    "    ML_model = LDA()\n",
    "\n",
    "    # hyperparameters for grid search cross validation\n",
    "    param_grid = {'clf__solver': ['svd', 'lsqr', 'eigen']}"
   ]
  },
  {
   "cell_type": "markdown",
   "metadata": {
    "extensions": {
     "jupyter_dashboards": {
      "version": 1,
      "views": {
       "grid_default": {
        "col": 0,
        "height": 15,
        "hidden": false,
        "row": 44,
        "width": 12
       },
       "report_default": {
        "hidden": false
       }
      }
     }
    }
   },
   "source": [
    "### Support Vector Classifier (SVC)\n",
    "\n",
    "***Hyperparameters used for grid search cross validation:***\n",
    "\n",
    "* C : float, optional (default=1.0)\n",
    "\n",
    "    Penalty parameter C of the error term.\n",
    "\n",
    "\n",
    "* gamma : float, optional (default=’auto’)\n",
    "\n",
    "    Kernel coefficient for ‘rbf’, ‘poly’ and ‘sigmoid’.\n",
    "\n",
    "    Current default is ‘auto’ which uses 1 / n_features, if gamma='scale' is passed then it uses 1 / (n_features * X.std()) as value of gamma. The current default of gamma, ‘auto’, will change to ‘scale’ in version 0.22. ‘auto_deprecated’, a deprecated version of ‘auto’ is used as a default indicating that no explicit value of gamma was passed.\n",
    "\n",
    "\n",
    "NOTE:\n",
    "* probability : boolean, optional (default=False)\n",
    "\n",
    "    Whether to enable probability estimates. This must be enabled prior to calling fit, and will slow down that method.\n",
    "\n",
    "(https://scikit-learn.org/stable/modules/generated/sklearn.svm.SVC.html)\n"
   ]
  },
  {
   "cell_type": "code",
   "execution_count": 35,
   "metadata": {
    "ExecuteTime": {
     "end_time": "2019-02-05T00:55:53.565474Z",
     "start_time": "2019-02-05T00:55:53.414466Z"
    },
    "extensions": {
     "jupyter_dashboards": {
      "version": 1,
      "views": {
       "grid_default": {
        "hidden": true
       },
       "report_default": {
        "hidden": true
       }
      }
     }
    }
   },
   "outputs": [],
   "source": [
    "if ML_model_name is 'SVC':\n",
    "\n",
    "    ML_model = SVC(probability=True)\n",
    "    \n",
    "    # hyperparameters for grid search cross validation\n",
    "    param_grid = {'clf__C': [0.5, 1, 2],\n",
    "                  'clf__gamma': ['scale', 0.01, 0.03]}"
   ]
  },
  {
   "cell_type": "markdown",
   "metadata": {
    "extensions": {
     "jupyter_dashboards": {
      "version": 1,
      "views": {
       "grid_default": {
        "col": 0,
        "height": 13,
        "hidden": false,
        "row": 59,
        "width": 12
       },
       "report_default": {
        "hidden": false
       }
      }
     }
    }
   },
   "source": [
    "### Random Forest Classifier (RFC)\n",
    "\n",
    "***Hyperparameters used for grid search cross validation:***\n",
    "\n",
    "* \tn_estimators : integer, optional (default=10)\n",
    "\n",
    "    The number of trees in the forest.\n",
    "\n",
    "    Changed in version 0.20: The default value of n_estimators will change from 10 in version 0.20 to 100 in version 0.22.\n",
    "    \n",
    "    \n",
    "* criterion : string, optional (default=”gini”)\n",
    "\n",
    "    The function to measure the quality of a split. Supported criteria are “gini” for the Gini impurity and “entropy” for the information gain. Note: this parameter is tree-specific.\n",
    "\n",
    "\n",
    "* max_depth : integer or None, optional (default=None)\n",
    "\n",
    "    The maximum depth of the tree. If None, then nodes are expanded until all leaves are pure or until all leaves contain less than min_samples_split samples.\n",
    "\n",
    "\n",
    "    \n",
    "(https://scikit-learn.org/stable/modules/generated/sklearn.ensemble.RandomForestClassifier.html)\n"
   ]
  },
  {
   "cell_type": "code",
   "execution_count": 36,
   "metadata": {
    "ExecuteTime": {
     "end_time": "2019-02-05T00:55:53.724483Z",
     "start_time": "2019-02-05T00:55:53.570475Z"
    },
    "extensions": {
     "jupyter_dashboards": {
      "version": 1,
      "views": {
       "grid_default": {
        "hidden": true
       },
       "report_default": {
        "hidden": true
       }
      }
     }
    }
   },
   "outputs": [],
   "source": [
    "if ML_model_name is 'RFC':\n",
    "\n",
    "    ML_model = RandomForestClassifier(n_jobs=-1, random_state=42)\n",
    "\n",
    "    # hyperparameters for grid search cross validation\n",
    "    param_grid = {'clf__n_estimators': [50,100,200],\n",
    "                  'clf__criterion': [\"gini\", 'entropy'],\n",
    "                  'clf__max_depth': [10, 50, 100]}"
   ]
  },
  {
   "cell_type": "markdown",
   "metadata": {},
   "source": [
    "***\n",
    "***\n",
    "***\n",
    "***\n",
    "***"
   ]
  },
  {
   "cell_type": "markdown",
   "metadata": {},
   "source": [
    "***Docstring with summary of parameters and ML model:***"
   ]
  },
  {
   "cell_type": "code",
   "execution_count": 37,
   "metadata": {
    "ExecuteTime": {
     "end_time": "2019-02-05T00:55:53.902494Z",
     "start_time": "2019-02-05T00:55:53.729484Z"
    }
   },
   "outputs": [
    {
     "data": {
      "text/plain": [
       "'TestSub1_NumSec10_SVC_oneSub_20190205_015553'"
      ]
     },
     "execution_count": 37,
     "metadata": {},
     "output_type": "execute_result"
    }
   ],
   "source": [
    "file_doc_string = 'TestSub{}_NumSec{}_{}_{}_{date:%Y%m%d_%H%M%S}'.format(test_subject_id,\n",
    "                                                         number_sections,\n",
    "                                                         ML_model_name,\n",
    "                                                         add_info,\n",
    "                                                         date=datetime.datetime.now())\n",
    "file_doc_string "
   ]
  },
  {
   "cell_type": "markdown",
   "metadata": {},
   "source": [
    "***Function to print cell execution time (for html format):***"
   ]
  },
  {
   "cell_type": "code",
   "execution_count": 38,
   "metadata": {
    "ExecuteTime": {
     "end_time": "2019-02-05T00:55:54.031501Z",
     "start_time": "2019-02-05T00:55:53.908494Z"
    }
   },
   "outputs": [],
   "source": [
    "def print_cell_exec_time(cell_start_time, info=''):\n",
    "    cell_execution_time = timeit.default_timer() - cell_start_time\n",
    "    print('{} -> execution time [min:sec]:  {}:{:.3f}'.format(info,\n",
    "                                                              int(cell_execution_time/60),\n",
    "                                                              cell_execution_time%60))"
   ]
  },
  {
   "cell_type": "markdown",
   "metadata": {},
   "source": [
    "Test it with 1.5 s sleeping:"
   ]
  },
  {
   "cell_type": "code",
   "execution_count": 39,
   "metadata": {
    "ExecuteTime": {
     "end_time": "2019-02-05T00:55:55.683596Z",
     "start_time": "2019-02-05T00:55:54.034501Z"
    }
   },
   "outputs": [
    {
     "name": "stdout",
     "output_type": "stream",
     "text": [
      "Test -> execution time [min:sec]:  0:1.500\n"
     ]
    }
   ],
   "source": [
    "ct = timeit.default_timer()\n",
    "time.sleep(1.5)\n",
    "print_cell_exec_time(ct, 'Test')"
   ]
  },
  {
   "cell_type": "markdown",
   "metadata": {
    "extensions": {
     "jupyter_dashboards": {
      "version": 1,
      "views": {
       "grid_default": {
        "col": 0,
        "height": 4,
        "hidden": false,
        "row": 72,
        "width": 12
       },
       "report_default": {
        "hidden": false
       }
      }
     }
    }
   },
   "source": [
    "## Loading Training and Test Samples"
   ]
  },
  {
   "cell_type": "code",
   "execution_count": 40,
   "metadata": {
    "ExecuteTime": {
     "end_time": "2019-02-05T00:56:04.063075Z",
     "start_time": "2019-02-05T00:55:55.691596Z"
    },
    "extensions": {
     "jupyter_dashboards": {
      "version": 1,
      "views": {
       "grid_default": {
        "hidden": true
       },
       "report_default": {
        "hidden": true
       }
      }
     }
    }
   },
   "outputs": [],
   "source": [
    "DataObj = PDH.PhysioData_SectionFeatures(num_sections=number_sections,\n",
    "                                         test_subject_ids=test_subject_id,\n",
    "                                         train_subject_ids=train_subject_ids,\n",
    "                                         test_rep_nums=test_repetition_numbers,\n",
    "                                         train_rep_nums=train_repetition_numbers,\n",
    "                                         test_ex_abbrs=test_exercises,\n",
    "                                         train_ex_abbrs=train_exercises,\n",
    "                                         rot_axis_test_data=rot_axis_test_data,\n",
    "                                         rot_angle_test_data=rot_angle_test_data,\n",
    "                                         add_noise_test_data=add_noise_test_data,\n",
    "                                         add_noise_train_data=add_noise_train_data,\n",
    "                                         snr_db=snr_db,\n",
    "                                         csv_data_dir=separated_csv_data_dir,\n",
    "                                         data_base_path=database_path,\n",
    "                                         sampling_rate=sampling_rate)"
   ]
  },
  {
   "cell_type": "markdown",
   "metadata": {
    "extensions": {
     "jupyter_dashboards": {
      "version": 1,
      "views": {
       "grid_default": {
        "col": 0,
        "height": 4,
        "hidden": false,
        "row": 20,
        "width": 4
       },
       "report_default": {
        "hidden": false
       }
      }
     }
    }
   },
   "source": [
    "***Load the start and stop times for each exercise repetition block of the test data:***"
   ]
  },
  {
   "cell_type": "code",
   "execution_count": 41,
   "metadata": {
    "ExecuteTime": {
     "end_time": "2019-02-05T00:56:04.114078Z",
     "start_time": "2019-02-05T00:56:04.073075Z"
    },
    "extensions": {
     "jupyter_dashboards": {
      "version": 1,
      "views": {
       "grid_default": {
        "hidden": true
       },
       "report_default": {
        "hidden": true
       }
      }
     }
    }
   },
   "outputs": [
    {
     "name": "stdout",
     "output_type": "stream",
     "text": [
      "16:09.5 - 16:23.1\n"
     ]
    }
   ],
   "source": [
    "timetable_ex_dict = get_timetable_ex_dict(timetable_file_dir, timetable_file_name)\n",
    "\n",
    "# Example:\n",
    "print(timetable_ex_dict['RF_5_start_time'] + ' - ' + timetable_ex_dict['RF_5_stop_time'])"
   ]
  },
  {
   "cell_type": "markdown",
   "metadata": {
    "extensions": {
     "jupyter_dashboards": {
      "version": 1,
      "views": {
       "grid_default": {
        "col": 0,
        "height": 4,
        "hidden": false,
        "row": 76,
        "width": 4
       },
       "report_default": {
        "hidden": false
       }
      }
     }
    }
   },
   "source": [
    "***Inspect loaded data for testing:***"
   ]
  },
  {
   "cell_type": "code",
   "execution_count": 42,
   "metadata": {
    "ExecuteTime": {
     "end_time": "2019-02-05T00:56:04.294088Z",
     "start_time": "2019-02-05T00:56:04.122078Z"
    },
    "extensions": {
     "jupyter_dashboards": {
      "version": 1,
      "views": {
       "grid_default": {
        "hidden": true
       },
       "report_default": {
        "hidden": true
       }
      }
     }
    }
   },
   "outputs": [
    {
     "data": {
      "text/html": [
       "\n",
       "        <iframe\n",
       "            width=\"100%\"\n",
       "            height=\"500\"\n",
       "            src=\"pivot_tables_html/TableTest_TestSub1_NumSec10_SVC_oneSub_20190205_015553.html\"\n",
       "            frameborder=\"0\"\n",
       "            allowfullscreen\n",
       "        ></iframe>\n",
       "        "
      ],
      "text/plain": [
       "<IPython.lib.display.IFrame at 0x1e511e48>"
      ]
     },
     "execution_count": 42,
     "metadata": {},
     "output_type": "execute_result"
    }
   ],
   "source": [
    "html_path = 'pivot_tables_html/TableTest_' + file_doc_string +'.html'\n",
    "pivot_ui(DataObj.get_test_data_points(), rows=['abbreviation'], cols=['subject_id', 'num_rep'], outfile_path=html_path)"
   ]
  },
  {
   "cell_type": "markdown",
   "metadata": {
    "extensions": {
     "jupyter_dashboards": {
      "version": 1,
      "views": {
       "grid_default": {
        "col": 4,
        "height": 4,
        "hidden": false,
        "row": 76,
        "width": 4
       },
       "report_default": {
        "hidden": false
       }
      }
     }
    }
   },
   "source": [
    "***Inspect loaded data for training:***"
   ]
  },
  {
   "cell_type": "code",
   "execution_count": 43,
   "metadata": {
    "ExecuteTime": {
     "end_time": "2019-02-05T00:56:04.497100Z",
     "start_time": "2019-02-05T00:56:04.299088Z"
    },
    "extensions": {
     "jupyter_dashboards": {
      "version": 1,
      "views": {
       "grid_default": {
        "hidden": true
       },
       "report_default": {
        "hidden": true
       }
      }
     }
    }
   },
   "outputs": [
    {
     "data": {
      "text/html": [
       "\n",
       "        <iframe\n",
       "            width=\"100%\"\n",
       "            height=\"500\"\n",
       "            src=\"pivot_tables_html/TableTrain_TestSub1_NumSec10_SVC_oneSub_20190205_015553.html\"\n",
       "            frameborder=\"0\"\n",
       "            allowfullscreen\n",
       "        ></iframe>\n",
       "        "
      ],
      "text/plain": [
       "<IPython.lib.display.IFrame at 0x1e5110f0>"
      ]
     },
     "execution_count": 43,
     "metadata": {},
     "output_type": "execute_result"
    }
   ],
   "source": [
    "html_path = 'pivot_tables_html/TableTrain_' + file_doc_string +'.html'\n",
    "pivot_ui(DataObj.get_train_data_points(), rows=['abbreviation'], cols=['subject_id', 'num_rep'], outfile_path=html_path)"
   ]
  },
  {
   "cell_type": "markdown",
   "metadata": {},
   "source": [
    "## Dimensionality Reduction\n",
    "\n",
    "First, save features and labels from object to own matrices:"
   ]
  },
  {
   "cell_type": "code",
   "execution_count": 44,
   "metadata": {
    "ExecuteTime": {
     "end_time": "2019-02-05T00:56:04.640108Z",
     "start_time": "2019-02-05T00:56:04.504100Z"
    }
   },
   "outputs": [],
   "source": [
    "X_train = DataObj.X_train()\n",
    "X_test = DataObj.X_test()\n",
    "\n",
    "y_train = DataObj.y_train()\n",
    "y_test = DataObj.y_test()"
   ]
  },
  {
   "cell_type": "markdown",
   "metadata": {},
   "source": [
    "### Principal Component Analysis (PCA)"
   ]
  },
  {
   "cell_type": "code",
   "execution_count": 45,
   "metadata": {
    "ExecuteTime": {
     "end_time": "2019-02-05T00:56:04.828119Z",
     "start_time": "2019-02-05T00:56:04.645108Z"
    }
   },
   "outputs": [],
   "source": [
    "if use_PCA_for_dim_reduction is True:\n",
    "    \n",
    "    # make pca model\n",
    "    pca = PCA(n_components=number_principal_components)\n",
    "\n",
    "    # create new features from PCA projections\n",
    "    ct = timeit.default_timer()\n",
    "    X_train = pca.fit_transform(DataObj.X_train())\n",
    "    print_cell_exec_time(ct, 'PCA train samples (fit and transform)')\n",
    "    \n",
    "    ct = timeit.default_timer()\n",
    "    X_test = pca.transform(DataObj.X_test())\n",
    "    print_cell_exec_time(ct, 'PCA test samples (transform)')\n",
    "    \n",
    "    print('Variance explained by the {} principal components:  {:.2f}%'.format(number_principal_components,\n",
    "                                                                        pca.explained_variance_ratio_.sum()*100))    \n",
    "    np.shape(X_test)"
   ]
  },
  {
   "cell_type": "markdown",
   "metadata": {},
   "source": [
    "### Linear Discriminat Analysis\n",
    "\n",
    "A fitted LDA model can also be used to reduce the dimensionality of the input by projecting it to the most discriminative directions ($\\rightarrow$ number of classes - 1)."
   ]
  },
  {
   "cell_type": "code",
   "execution_count": 46,
   "metadata": {
    "ExecuteTime": {
     "end_time": "2019-02-05T00:56:05.025130Z",
     "start_time": "2019-02-05T00:56:04.836119Z"
    }
   },
   "outputs": [],
   "source": [
    "if use_LDA_for_dim_reduction is True:\n",
    "    \n",
    "    # make lda model\n",
    "    lda = LDA()\n",
    "\n",
    "    # create new features from LDA projections\n",
    "    ct = timeit.default_timer()\n",
    "    X_train = lda.fit_transform(DataObj.X_train(), DataObj.y_train())\n",
    "    print_cell_exec_time(ct, 'LDA train samples (fit and transform)')\n",
    "    \n",
    "    ct = timeit.default_timer()\n",
    "    X_test = lda.transform(DataObj.X_test())\n",
    "    print_cell_exec_time(ct, 'LDA test samples (transform)')\n",
    "\n",
    "    np.shape(X_test)"
   ]
  },
  {
   "cell_type": "markdown",
   "metadata": {
    "extensions": {
     "jupyter_dashboards": {
      "version": 1,
      "views": {
       "grid_default": {
        "col": 8,
        "height": 4,
        "hidden": false,
        "row": 76,
        "width": 4
       },
       "report_default": {
        "hidden": false
       }
      }
     }
    }
   },
   "source": [
    "## ML Classifier Model"
   ]
  },
  {
   "cell_type": "markdown",
   "metadata": {
    "extensions": {
     "jupyter_dashboards": {
      "version": 1,
      "views": {
       "grid_default": {
        "col": 0,
        "height": 5,
        "hidden": false,
        "row": 80,
        "width": 12
       },
       "report_default": {
        "hidden": false
       }
      }
     }
    }
   },
   "source": [
    "***Create the selected model with input scaling:***\n",
    "\n",
    "Additionally, inputs are scaled, because many elements used in the objective function of a learning algorithm (such as the RBF kernel of Support Vector Machines or the L1 and L2 regularizers of linear models) assume that all features are centered around 0 and have variance in the same order.\n",
    "\n",
    "(see https://scikit-learn.org/stable/modules/generated/sklearn.preprocessing.StandardScaler.html)"
   ]
  },
  {
   "cell_type": "code",
   "execution_count": 47,
   "metadata": {
    "ExecuteTime": {
     "end_time": "2019-02-05T00:56:05.185139Z",
     "start_time": "2019-02-05T00:56:05.037131Z"
    },
    "extensions": {
     "jupyter_dashboards": {
      "version": 1,
      "views": {
       "grid_default": {
        "hidden": true
       },
       "report_default": {
        "hidden": true
       }
      }
     }
    }
   },
   "outputs": [],
   "source": [
    "pipe_elements = [('scale', StandardScaler()), ('clf', ML_model)]\n",
    "ML_model_pipe = Pipeline(pipe_elements)"
   ]
  },
  {
   "cell_type": "markdown",
   "metadata": {
    "extensions": {
     "jupyter_dashboards": {
      "version": 1,
      "views": {
       "grid_default": {
        "col": 0,
        "height": 4,
        "hidden": false,
        "row": 85,
        "width": 4
       },
       "report_default": {
        "hidden": false
       }
      }
     }
    }
   },
   "source": [
    "### Grid Search Cross Validation"
   ]
  },
  {
   "cell_type": "markdown",
   "metadata": {
    "extensions": {
     "jupyter_dashboards": {
      "version": 1,
      "views": {
       "grid_default": {
        "col": 4,
        "height": 4,
        "hidden": false,
        "row": 85,
        "width": 4
       },
       "report_default": {
        "hidden": false
       }
      }
     }
    }
   },
   "source": [
    "***Splitting strategy for grid search: stratified cross validation with three folds***"
   ]
  },
  {
   "cell_type": "code",
   "execution_count": 48,
   "metadata": {
    "ExecuteTime": {
     "end_time": "2019-02-05T00:56:05.342148Z",
     "start_time": "2019-02-05T00:56:05.197140Z"
    },
    "extensions": {
     "jupyter_dashboards": {
      "version": 1,
      "views": {
       "grid_default": {
        "hidden": true
       },
       "report_default": {
        "hidden": true
       }
      }
     }
    }
   },
   "outputs": [],
   "source": [
    "grid_search = GridSearchCV(ML_model_pipe, param_grid=param_grid, cv=3, scoring='accuracy', \n",
    "                           verbose=10, return_train_score=True, n_jobs=-1)"
   ]
  },
  {
   "cell_type": "markdown",
   "metadata": {
    "extensions": {
     "jupyter_dashboards": {
      "version": 1,
      "views": {
       "grid_default": {
        "col": 8,
        "height": 4,
        "hidden": false,
        "row": 85,
        "width": 4
       },
       "report_default": {
        "hidden": false
       }
      }
     }
    }
   },
   "source": [
    "***Apply grid search cross validation:***\n",
    "\n",
    "Run fit with all sets of parameters."
   ]
  },
  {
   "cell_type": "code",
   "execution_count": 49,
   "metadata": {
    "ExecuteTime": {
     "end_time": "2019-02-05T00:56:09.621393Z",
     "start_time": "2019-02-05T00:56:05.350148Z"
    },
    "extensions": {
     "jupyter_dashboards": {
      "version": 1,
      "views": {
       "grid_default": {
        "hidden": true
       },
       "report_default": {
        "hidden": true
       }
      }
     }
    },
    "scrolled": false
   },
   "outputs": [
    {
     "name": "stdout",
     "output_type": "stream",
     "text": [
      "Fitting 3 folds for each of 9 candidates, totalling 27 fits\n"
     ]
    },
    {
     "name": "stderr",
     "output_type": "stream",
     "text": [
      "[Parallel(n_jobs=-1)]: Using backend LokyBackend with 4 concurrent workers.\n",
      "[Parallel(n_jobs=-1)]: Done   5 tasks      | elapsed:    2.6s\n",
      "[Parallel(n_jobs=-1)]: Done  10 tasks      | elapsed:    2.9s\n",
      "[Parallel(n_jobs=-1)]: Done  17 tasks      | elapsed:    3.3s\n",
      "[Parallel(n_jobs=-1)]: Done  23 out of  27 | elapsed:    3.5s remaining:    0.5s\n",
      "[Parallel(n_jobs=-1)]: Done  27 out of  27 | elapsed:    3.8s finished\n",
      "E:\\Programme\\WinPython-64bit-3.6.2.0Qt5\\python-3.6.2.amd64\\lib\\site-packages\\sklearn\\model_selection\\_search.py:841: DeprecationWarning: The default of the `iid` parameter will change from True to False in version 0.22 and will be removed in 0.24. This will change numeric results when test-set sizes are unequal.\n",
      "  DeprecationWarning)\n"
     ]
    },
    {
     "name": "stdout",
     "output_type": "stream",
     "text": [
      "Grid search cross validation -> execution time [min:sec]:  0:4.133\n"
     ]
    }
   ],
   "source": [
    "ct = timeit.default_timer()\n",
    "grid_search.fit(X_train, DataObj.y_train())\n",
    "print_cell_exec_time(ct, 'Grid search cross validation')"
   ]
  },
  {
   "cell_type": "markdown",
   "metadata": {
    "extensions": {
     "jupyter_dashboards": {
      "version": 1,
      "views": {
       "grid_default": {
        "col": 0,
        "height": 4,
        "hidden": false,
        "row": 89,
        "width": 4
       },
       "report_default": {
        "hidden": false
       }
      }
     }
    }
   },
   "source": [
    "***Show the results of grid search cross validation:***"
   ]
  },
  {
   "cell_type": "code",
   "execution_count": 50,
   "metadata": {
    "ExecuteTime": {
     "end_time": "2019-02-05T00:56:09.687397Z",
     "start_time": "2019-02-05T00:56:09.629393Z"
    },
    "extensions": {
     "jupyter_dashboards": {
      "version": 1,
      "views": {
       "grid_default": {
        "hidden": true
       },
       "report_default": {
        "hidden": true
       }
      }
     }
    },
    "scrolled": false
   },
   "outputs": [
    {
     "data": {
      "text/html": [
       "<div>\n",
       "<style>\n",
       "    .dataframe thead tr:only-child th {\n",
       "        text-align: right;\n",
       "    }\n",
       "\n",
       "    .dataframe thead th {\n",
       "        text-align: left;\n",
       "    }\n",
       "\n",
       "    .dataframe tbody tr th {\n",
       "        vertical-align: top;\n",
       "    }\n",
       "</style>\n",
       "<table border=\"1\" class=\"dataframe\">\n",
       "  <thead>\n",
       "    <tr style=\"text-align: right;\">\n",
       "      <th></th>\n",
       "      <th>0</th>\n",
       "      <th>1</th>\n",
       "      <th>2</th>\n",
       "      <th>3</th>\n",
       "      <th>4</th>\n",
       "      <th>5</th>\n",
       "      <th>6</th>\n",
       "      <th>7</th>\n",
       "      <th>8</th>\n",
       "    </tr>\n",
       "  </thead>\n",
       "  <tbody>\n",
       "    <tr>\n",
       "      <th>mean_fit_time</th>\n",
       "      <td>0.143008</td>\n",
       "      <td>0.127007</td>\n",
       "      <td>0.227346</td>\n",
       "      <td>0.139008</td>\n",
       "      <td>0.113007</td>\n",
       "      <td>0.226013</td>\n",
       "      <td>0.127674</td>\n",
       "      <td>0.100006</td>\n",
       "      <td>0.193344</td>\n",
       "    </tr>\n",
       "    <tr>\n",
       "      <th>mean_score_time</th>\n",
       "      <td>0.00900038</td>\n",
       "      <td>0.0100007</td>\n",
       "      <td>0.00933393</td>\n",
       "      <td>0.0083336</td>\n",
       "      <td>0.00766706</td>\n",
       "      <td>0.00866723</td>\n",
       "      <td>0.00900062</td>\n",
       "      <td>0.0116673</td>\n",
       "      <td>0.00633367</td>\n",
       "    </tr>\n",
       "    <tr>\n",
       "      <th>mean_test_score</th>\n",
       "      <td>0.980273</td>\n",
       "      <td>0.977238</td>\n",
       "      <td>0.983308</td>\n",
       "      <td>0.978756</td>\n",
       "      <td>0.977238</td>\n",
       "      <td>0.986343</td>\n",
       "      <td>0.983308</td>\n",
       "      <td>0.980273</td>\n",
       "      <td>0.98786</td>\n",
       "    </tr>\n",
       "    <tr>\n",
       "      <th>mean_train_score</th>\n",
       "      <td>0.984786</td>\n",
       "      <td>0.983261</td>\n",
       "      <td>0.986326</td>\n",
       "      <td>0.987847</td>\n",
       "      <td>0.984786</td>\n",
       "      <td>0.989367</td>\n",
       "      <td>0.990123</td>\n",
       "      <td>0.988616</td>\n",
       "      <td>0.991635</td>\n",
       "    </tr>\n",
       "    <tr>\n",
       "      <th>param_clf__C</th>\n",
       "      <td>0.5</td>\n",
       "      <td>0.5</td>\n",
       "      <td>0.5</td>\n",
       "      <td>1</td>\n",
       "      <td>1</td>\n",
       "      <td>1</td>\n",
       "      <td>2</td>\n",
       "      <td>2</td>\n",
       "      <td>2</td>\n",
       "    </tr>\n",
       "    <tr>\n",
       "      <th>param_clf__gamma</th>\n",
       "      <td>scale</td>\n",
       "      <td>0.01</td>\n",
       "      <td>0.03</td>\n",
       "      <td>scale</td>\n",
       "      <td>0.01</td>\n",
       "      <td>0.03</td>\n",
       "      <td>scale</td>\n",
       "      <td>0.01</td>\n",
       "      <td>0.03</td>\n",
       "    </tr>\n",
       "    <tr>\n",
       "      <th>params</th>\n",
       "      <td>{'clf__C': 0.5, 'clf__gamma': 'scale'}</td>\n",
       "      <td>{'clf__C': 0.5, 'clf__gamma': 0.01}</td>\n",
       "      <td>{'clf__C': 0.5, 'clf__gamma': 0.03}</td>\n",
       "      <td>{'clf__C': 1, 'clf__gamma': 'scale'}</td>\n",
       "      <td>{'clf__C': 1, 'clf__gamma': 0.01}</td>\n",
       "      <td>{'clf__C': 1, 'clf__gamma': 0.03}</td>\n",
       "      <td>{'clf__C': 2, 'clf__gamma': 'scale'}</td>\n",
       "      <td>{'clf__C': 2, 'clf__gamma': 0.01}</td>\n",
       "      <td>{'clf__C': 2, 'clf__gamma': 0.03}</td>\n",
       "    </tr>\n",
       "    <tr>\n",
       "      <th>rank_test_score</th>\n",
       "      <td>5</td>\n",
       "      <td>8</td>\n",
       "      <td>3</td>\n",
       "      <td>7</td>\n",
       "      <td>8</td>\n",
       "      <td>2</td>\n",
       "      <td>3</td>\n",
       "      <td>5</td>\n",
       "      <td>1</td>\n",
       "    </tr>\n",
       "    <tr>\n",
       "      <th>split0_test_score</th>\n",
       "      <td>0.99115</td>\n",
       "      <td>0.986726</td>\n",
       "      <td>0.99115</td>\n",
       "      <td>0.986726</td>\n",
       "      <td>0.986726</td>\n",
       "      <td>0.99115</td>\n",
       "      <td>0.99115</td>\n",
       "      <td>0.982301</td>\n",
       "      <td>0.995575</td>\n",
       "    </tr>\n",
       "    <tr>\n",
       "      <th>split0_train_score</th>\n",
       "      <td>0.981524</td>\n",
       "      <td>0.979215</td>\n",
       "      <td>0.986143</td>\n",
       "      <td>0.988453</td>\n",
       "      <td>0.981524</td>\n",
       "      <td>0.990762</td>\n",
       "      <td>0.990762</td>\n",
       "      <td>0.990762</td>\n",
       "      <td>0.990762</td>\n",
       "    </tr>\n",
       "    <tr>\n",
       "      <th>split1_test_score</th>\n",
       "      <td>1</td>\n",
       "      <td>0.995413</td>\n",
       "      <td>1</td>\n",
       "      <td>1</td>\n",
       "      <td>0.995413</td>\n",
       "      <td>1</td>\n",
       "      <td>1</td>\n",
       "      <td>1</td>\n",
       "      <td>1</td>\n",
       "    </tr>\n",
       "    <tr>\n",
       "      <th>split1_train_score</th>\n",
       "      <td>0.979592</td>\n",
       "      <td>0.977324</td>\n",
       "      <td>0.979592</td>\n",
       "      <td>0.979592</td>\n",
       "      <td>0.979592</td>\n",
       "      <td>0.979592</td>\n",
       "      <td>0.981859</td>\n",
       "      <td>0.979592</td>\n",
       "      <td>0.986395</td>\n",
       "    </tr>\n",
       "    <tr>\n",
       "      <th>split2_test_score</th>\n",
       "      <td>0.948837</td>\n",
       "      <td>0.948837</td>\n",
       "      <td>0.95814</td>\n",
       "      <td>0.948837</td>\n",
       "      <td>0.948837</td>\n",
       "      <td>0.967442</td>\n",
       "      <td>0.95814</td>\n",
       "      <td>0.95814</td>\n",
       "      <td>0.967442</td>\n",
       "    </tr>\n",
       "    <tr>\n",
       "      <th>split2_train_score</th>\n",
       "      <td>0.993243</td>\n",
       "      <td>0.993243</td>\n",
       "      <td>0.993243</td>\n",
       "      <td>0.995495</td>\n",
       "      <td>0.993243</td>\n",
       "      <td>0.997748</td>\n",
       "      <td>0.997748</td>\n",
       "      <td>0.995495</td>\n",
       "      <td>0.997748</td>\n",
       "    </tr>\n",
       "    <tr>\n",
       "      <th>std_fit_time</th>\n",
       "      <td>0.00941697</td>\n",
       "      <td>0.00374177</td>\n",
       "      <td>0.0245008</td>\n",
       "      <td>0.0109855</td>\n",
       "      <td>0.0129623</td>\n",
       "      <td>0.0255096</td>\n",
       "      <td>0.00917779</td>\n",
       "      <td>0.00616484</td>\n",
       "      <td>0.00410971</td>\n",
       "    </tr>\n",
       "    <tr>\n",
       "      <th>std_score_time</th>\n",
       "      <td>1.12392e-07</td>\n",
       "      <td>0.00141428</td>\n",
       "      <td>0.000471483</td>\n",
       "      <td>0.000471427</td>\n",
       "      <td>0.00047137</td>\n",
       "      <td>0.000942909</td>\n",
       "      <td>0.00141422</td>\n",
       "      <td>0.00660003</td>\n",
       "      <td>0.000471483</td>\n",
       "    </tr>\n",
       "    <tr>\n",
       "      <th>std_test_score</th>\n",
       "      <td>0.0221747</td>\n",
       "      <td>0.0200823</td>\n",
       "      <td>0.0178865</td>\n",
       "      <td>0.0215201</td>\n",
       "      <td>0.0200823</td>\n",
       "      <td>0.0136448</td>\n",
       "      <td>0.0178865</td>\n",
       "      <td>0.0170286</td>\n",
       "      <td>0.0143242</td>\n",
       "    </tr>\n",
       "    <tr>\n",
       "      <th>std_train_score</th>\n",
       "      <td>0.00603168</td>\n",
       "      <td>0.00710075</td>\n",
       "      <td>0.00557466</td>\n",
       "      <td>0.00650677</td>\n",
       "      <td>0.00603168</td>\n",
       "      <td>0.00747746</td>\n",
       "      <td>0.00650211</td>\n",
       "      <td>0.00666755</td>\n",
       "      <td>0.00467582</td>\n",
       "    </tr>\n",
       "  </tbody>\n",
       "</table>\n",
       "</div>"
      ],
      "text/plain": [
       "                                                         0  \\\n",
       "mean_fit_time                                     0.143008   \n",
       "mean_score_time                                 0.00900038   \n",
       "mean_test_score                                   0.980273   \n",
       "mean_train_score                                  0.984786   \n",
       "param_clf__C                                           0.5   \n",
       "param_clf__gamma                                     scale   \n",
       "params              {'clf__C': 0.5, 'clf__gamma': 'scale'}   \n",
       "rank_test_score                                          5   \n",
       "split0_test_score                                  0.99115   \n",
       "split0_train_score                                0.981524   \n",
       "split1_test_score                                        1   \n",
       "split1_train_score                                0.979592   \n",
       "split2_test_score                                 0.948837   \n",
       "split2_train_score                                0.993243   \n",
       "std_fit_time                                    0.00941697   \n",
       "std_score_time                                 1.12392e-07   \n",
       "std_test_score                                   0.0221747   \n",
       "std_train_score                                 0.00603168   \n",
       "\n",
       "                                                      1  \\\n",
       "mean_fit_time                                  0.127007   \n",
       "mean_score_time                               0.0100007   \n",
       "mean_test_score                                0.977238   \n",
       "mean_train_score                               0.983261   \n",
       "param_clf__C                                        0.5   \n",
       "param_clf__gamma                                   0.01   \n",
       "params              {'clf__C': 0.5, 'clf__gamma': 0.01}   \n",
       "rank_test_score                                       8   \n",
       "split0_test_score                              0.986726   \n",
       "split0_train_score                             0.979215   \n",
       "split1_test_score                              0.995413   \n",
       "split1_train_score                             0.977324   \n",
       "split2_test_score                              0.948837   \n",
       "split2_train_score                             0.993243   \n",
       "std_fit_time                                 0.00374177   \n",
       "std_score_time                               0.00141428   \n",
       "std_test_score                                0.0200823   \n",
       "std_train_score                              0.00710075   \n",
       "\n",
       "                                                      2  \\\n",
       "mean_fit_time                                  0.227346   \n",
       "mean_score_time                              0.00933393   \n",
       "mean_test_score                                0.983308   \n",
       "mean_train_score                               0.986326   \n",
       "param_clf__C                                        0.5   \n",
       "param_clf__gamma                                   0.03   \n",
       "params              {'clf__C': 0.5, 'clf__gamma': 0.03}   \n",
       "rank_test_score                                       3   \n",
       "split0_test_score                               0.99115   \n",
       "split0_train_score                             0.986143   \n",
       "split1_test_score                                     1   \n",
       "split1_train_score                             0.979592   \n",
       "split2_test_score                               0.95814   \n",
       "split2_train_score                             0.993243   \n",
       "std_fit_time                                  0.0245008   \n",
       "std_score_time                              0.000471483   \n",
       "std_test_score                                0.0178865   \n",
       "std_train_score                              0.00557466   \n",
       "\n",
       "                                                       3  \\\n",
       "mean_fit_time                                   0.139008   \n",
       "mean_score_time                                0.0083336   \n",
       "mean_test_score                                 0.978756   \n",
       "mean_train_score                                0.987847   \n",
       "param_clf__C                                           1   \n",
       "param_clf__gamma                                   scale   \n",
       "params              {'clf__C': 1, 'clf__gamma': 'scale'}   \n",
       "rank_test_score                                        7   \n",
       "split0_test_score                               0.986726   \n",
       "split0_train_score                              0.988453   \n",
       "split1_test_score                                      1   \n",
       "split1_train_score                              0.979592   \n",
       "split2_test_score                               0.948837   \n",
       "split2_train_score                              0.995495   \n",
       "std_fit_time                                   0.0109855   \n",
       "std_score_time                               0.000471427   \n",
       "std_test_score                                 0.0215201   \n",
       "std_train_score                               0.00650677   \n",
       "\n",
       "                                                    4  \\\n",
       "mean_fit_time                                0.113007   \n",
       "mean_score_time                            0.00766706   \n",
       "mean_test_score                              0.977238   \n",
       "mean_train_score                             0.984786   \n",
       "param_clf__C                                        1   \n",
       "param_clf__gamma                                 0.01   \n",
       "params              {'clf__C': 1, 'clf__gamma': 0.01}   \n",
       "rank_test_score                                     8   \n",
       "split0_test_score                            0.986726   \n",
       "split0_train_score                           0.981524   \n",
       "split1_test_score                            0.995413   \n",
       "split1_train_score                           0.979592   \n",
       "split2_test_score                            0.948837   \n",
       "split2_train_score                           0.993243   \n",
       "std_fit_time                                0.0129623   \n",
       "std_score_time                             0.00047137   \n",
       "std_test_score                              0.0200823   \n",
       "std_train_score                            0.00603168   \n",
       "\n",
       "                                                    5  \\\n",
       "mean_fit_time                                0.226013   \n",
       "mean_score_time                            0.00866723   \n",
       "mean_test_score                              0.986343   \n",
       "mean_train_score                             0.989367   \n",
       "param_clf__C                                        1   \n",
       "param_clf__gamma                                 0.03   \n",
       "params              {'clf__C': 1, 'clf__gamma': 0.03}   \n",
       "rank_test_score                                     2   \n",
       "split0_test_score                             0.99115   \n",
       "split0_train_score                           0.990762   \n",
       "split1_test_score                                   1   \n",
       "split1_train_score                           0.979592   \n",
       "split2_test_score                            0.967442   \n",
       "split2_train_score                           0.997748   \n",
       "std_fit_time                                0.0255096   \n",
       "std_score_time                            0.000942909   \n",
       "std_test_score                              0.0136448   \n",
       "std_train_score                            0.00747746   \n",
       "\n",
       "                                                       6  \\\n",
       "mean_fit_time                                   0.127674   \n",
       "mean_score_time                               0.00900062   \n",
       "mean_test_score                                 0.983308   \n",
       "mean_train_score                                0.990123   \n",
       "param_clf__C                                           2   \n",
       "param_clf__gamma                                   scale   \n",
       "params              {'clf__C': 2, 'clf__gamma': 'scale'}   \n",
       "rank_test_score                                        3   \n",
       "split0_test_score                                0.99115   \n",
       "split0_train_score                              0.990762   \n",
       "split1_test_score                                      1   \n",
       "split1_train_score                              0.981859   \n",
       "split2_test_score                                0.95814   \n",
       "split2_train_score                              0.997748   \n",
       "std_fit_time                                  0.00917779   \n",
       "std_score_time                                0.00141422   \n",
       "std_test_score                                 0.0178865   \n",
       "std_train_score                               0.00650211   \n",
       "\n",
       "                                                    7  \\\n",
       "mean_fit_time                                0.100006   \n",
       "mean_score_time                             0.0116673   \n",
       "mean_test_score                              0.980273   \n",
       "mean_train_score                             0.988616   \n",
       "param_clf__C                                        2   \n",
       "param_clf__gamma                                 0.01   \n",
       "params              {'clf__C': 2, 'clf__gamma': 0.01}   \n",
       "rank_test_score                                     5   \n",
       "split0_test_score                            0.982301   \n",
       "split0_train_score                           0.990762   \n",
       "split1_test_score                                   1   \n",
       "split1_train_score                           0.979592   \n",
       "split2_test_score                             0.95814   \n",
       "split2_train_score                           0.995495   \n",
       "std_fit_time                               0.00616484   \n",
       "std_score_time                             0.00660003   \n",
       "std_test_score                              0.0170286   \n",
       "std_train_score                            0.00666755   \n",
       "\n",
       "                                                    8  \n",
       "mean_fit_time                                0.193344  \n",
       "mean_score_time                            0.00633367  \n",
       "mean_test_score                               0.98786  \n",
       "mean_train_score                             0.991635  \n",
       "param_clf__C                                        2  \n",
       "param_clf__gamma                                 0.03  \n",
       "params              {'clf__C': 2, 'clf__gamma': 0.03}  \n",
       "rank_test_score                                     1  \n",
       "split0_test_score                            0.995575  \n",
       "split0_train_score                           0.990762  \n",
       "split1_test_score                                   1  \n",
       "split1_train_score                           0.986395  \n",
       "split2_test_score                            0.967442  \n",
       "split2_train_score                           0.997748  \n",
       "std_fit_time                               0.00410971  \n",
       "std_score_time                            0.000471483  \n",
       "std_test_score                              0.0143242  \n",
       "std_train_score                            0.00467582  "
      ]
     },
     "execution_count": 50,
     "metadata": {},
     "output_type": "execute_result"
    }
   ],
   "source": [
    "pd.DataFrame(grid_search.cv_results_).T"
   ]
  },
  {
   "cell_type": "markdown",
   "metadata": {
    "extensions": {
     "jupyter_dashboards": {
      "version": 1,
      "views": {
       "grid_default": {
        "col": 4,
        "height": 4,
        "hidden": false,
        "row": 89,
        "width": 4
       },
       "report_default": {
        "hidden": false
       }
      }
     }
    }
   },
   "source": [
    "***Show best parameters:***"
   ]
  },
  {
   "cell_type": "code",
   "execution_count": 51,
   "metadata": {
    "ExecuteTime": {
     "end_time": "2019-02-05T00:56:09.846406Z",
     "start_time": "2019-02-05T00:56:09.696397Z"
    },
    "extensions": {
     "jupyter_dashboards": {
      "version": 1,
      "views": {
       "grid_default": {
        "hidden": true
       },
       "report_default": {
        "hidden": true
       }
      }
     }
    }
   },
   "outputs": [
    {
     "data": {
      "text/plain": [
       "{'clf__C': 2, 'clf__gamma': 0.03}"
      ]
     },
     "execution_count": 51,
     "metadata": {},
     "output_type": "execute_result"
    }
   ],
   "source": [
    "grid_search.best_params_"
   ]
  },
  {
   "cell_type": "markdown",
   "metadata": {
    "extensions": {
     "jupyter_dashboards": {
      "version": 1,
      "views": {
       "grid_default": {
        "col": 8,
        "height": 4,
        "hidden": false,
        "row": 89,
        "width": 4
       },
       "report_default": {
        "hidden": false
       }
      }
     }
    }
   },
   "source": [
    "***Show best score of cross validation (on training data):***\n",
    "\n",
    "Mean cross-validated score of the best estimator."
   ]
  },
  {
   "cell_type": "code",
   "execution_count": 52,
   "metadata": {
    "ExecuteTime": {
     "end_time": "2019-02-05T00:56:10.001414Z",
     "start_time": "2019-02-05T00:56:09.851406Z"
    },
    "extensions": {
     "jupyter_dashboards": {
      "version": 1,
      "views": {
       "grid_default": {
        "hidden": true
       },
       "report_default": {
        "hidden": true
       }
      }
     }
    }
   },
   "outputs": [
    {
     "name": "stdout",
     "output_type": "stream",
     "text": [
      "Accuracy: 98.79%\n"
     ]
    }
   ],
   "source": [
    "print('Accuracy: {:.2f}%'.format(grid_search.best_score_*100))"
   ]
  },
  {
   "cell_type": "markdown",
   "metadata": {
    "ExecuteTime": {
     "end_time": "2019-01-21T10:00:28.021374Z",
     "start_time": "2019-01-21T10:00:28.005373Z"
    },
    "extensions": {
     "jupyter_dashboards": {
      "version": 1,
      "views": {
       "grid_default": {
        "col": 0,
        "height": 4,
        "hidden": false,
        "row": 93,
        "width": 4
       },
       "report_default": {
        "hidden": false
       }
      }
     }
    }
   },
   "source": [
    "***Get estimator that was chosen by the search:***\n",
    "\n",
    "Estimator which gave highest score on the left out data."
   ]
  },
  {
   "cell_type": "code",
   "execution_count": 53,
   "metadata": {
    "ExecuteTime": {
     "end_time": "2019-02-05T00:56:10.120421Z",
     "start_time": "2019-02-05T00:56:10.008415Z"
    },
    "extensions": {
     "jupyter_dashboards": {
      "version": 1,
      "views": {
       "grid_default": {
        "hidden": true
       },
       "report_default": {
        "hidden": true
       }
      }
     }
    }
   },
   "outputs": [],
   "source": [
    "ML_model_best = grid_search.best_estimator_"
   ]
  },
  {
   "cell_type": "markdown",
   "metadata": {
    "extensions": {
     "jupyter_dashboards": {
      "version": 1,
      "views": {
       "grid_default": {
        "col": 0,
        "height": 7,
        "hidden": false,
        "row": 97,
        "width": 12
       },
       "report_default": {
        "hidden": false
       }
      }
     }
    }
   },
   "source": [
    "### Classification of Test Data (separated repetitions as samples)\n",
    "\n",
    "Now the (so far unseen) test samples are used, in order to check \n",
    "the performance of the generated ML model.\n",
    "\n",
    "At this point, it is important to keep in mind that the test samples were\n",
    "generated with information regarding start and stop times of the corresponding repetitions.\n",
    "Hence, the results of this section alone do not supply sufficient information for classification performance of new data, where start and stop times of the individual repetitions are not known.\n",
    "\n",
    "Nevertheless, it is a good point to start, because if classification on this samples does not work well,\n",
    "it is evident that classification of data without knowledge of start and stop times would even work much worse.\n",
    "And the actual goal is to classify data without knowledge of start and stop times of individual repetitions."
   ]
  },
  {
   "cell_type": "markdown",
   "metadata": {
    "extensions": {
     "jupyter_dashboards": {
      "version": 1,
      "views": {
       "grid_default": {
        "col": 4,
        "height": 4,
        "hidden": false,
        "row": 93,
        "width": 4
       },
       "report_default": {
        "hidden": false
       }
      }
     }
    }
   },
   "source": [
    "***Predict labels of the test data set:***"
   ]
  },
  {
   "cell_type": "code",
   "execution_count": 54,
   "metadata": {
    "ExecuteTime": {
     "end_time": "2019-02-05T00:56:10.292431Z",
     "start_time": "2019-02-05T00:56:10.129422Z"
    },
    "extensions": {
     "jupyter_dashboards": {
      "version": 1,
      "views": {
       "grid_default": {
        "hidden": true
       },
       "report_default": {
        "hidden": true
       }
      }
     }
    }
   },
   "outputs": [
    {
     "name": "stdout",
     "output_type": "stream",
     "text": [
      "Predict labels of sep. test samples -> execution time [min:sec]:  0:0.019\n"
     ]
    }
   ],
   "source": [
    "ct = timeit.default_timer()\n",
    "y_pred = ML_model_best.predict(X_test)\n",
    "print_cell_exec_time(ct, 'Predict labels of sep. test samples')"
   ]
  },
  {
   "cell_type": "markdown",
   "metadata": {
    "ExecuteTime": {
     "end_time": "2019-01-21T10:05:31.548735Z",
     "start_time": "2019-01-21T10:05:31.529734Z"
    },
    "extensions": {
     "jupyter_dashboards": {
      "version": 1,
      "views": {
       "grid_default": {
        "col": 8,
        "height": 4,
        "hidden": false,
        "row": 93,
        "width": 4
       },
       "report_default": {
        "hidden": false
       }
      }
     }
    }
   },
   "source": [
    "*** Show score:***"
   ]
  },
  {
   "cell_type": "code",
   "execution_count": 55,
   "metadata": {
    "ExecuteTime": {
     "end_time": "2019-02-05T00:56:10.413438Z",
     "start_time": "2019-02-05T00:56:10.298431Z"
    },
    "extensions": {
     "jupyter_dashboards": {
      "version": 1,
      "views": {
       "grid_default": {
        "hidden": true
       },
       "report_default": {
        "hidden": true
       }
      }
     }
    }
   },
   "outputs": [
    {
     "name": "stdout",
     "output_type": "stream",
     "text": [
      "Accuracy: 99.12%\n",
      "\n"
     ]
    }
   ],
   "source": [
    "print('Accuracy: {:.2f}%\\n'.format((accuracy_score(DataObj.y_test(), y_pred))*100))"
   ]
  },
  {
   "cell_type": "markdown",
   "metadata": {
    "extensions": {
     "jupyter_dashboards": {
      "version": 1,
      "views": {
       "grid_default": {
        "col": 0,
        "height": 4,
        "hidden": false,
        "row": 104,
        "width": null
       },
       "report_default": {
        "hidden": false
       }
      }
     }
    }
   },
   "source": [
    "***Show classification report:***\n",
    "\n",
    "$precision = \\frac{TP}{TP + FP} \\qquad recall = \\frac{TP}{TP + FN} \\qquad f{\\text-}score = \\frac{precision \\cdot recall}{precision + recall}$"
   ]
  },
  {
   "cell_type": "code",
   "execution_count": 56,
   "metadata": {
    "ExecuteTime": {
     "end_time": "2019-02-05T00:56:10.578447Z",
     "start_time": "2019-02-05T00:56:10.419438Z"
    },
    "extensions": {
     "jupyter_dashboards": {
      "version": 1,
      "views": {
       "grid_default": {
        "hidden": true
       },
       "report_default": {
        "hidden": true
       }
      }
     }
    }
   },
   "outputs": [
    {
     "data": {
      "text/html": [
       "<div>\n",
       "<style>\n",
       "    .dataframe thead tr:only-child th {\n",
       "        text-align: right;\n",
       "    }\n",
       "\n",
       "    .dataframe thead th {\n",
       "        text-align: left;\n",
       "    }\n",
       "\n",
       "    .dataframe tbody tr th {\n",
       "        vertical-align: top;\n",
       "    }\n",
       "</style>\n",
       "<table border=\"1\" class=\"dataframe\">\n",
       "  <thead>\n",
       "    <tr style=\"text-align: right;\">\n",
       "      <th></th>\n",
       "      <th>precision</th>\n",
       "      <th>recall</th>\n",
       "      <th>f1-score</th>\n",
       "      <th>support</th>\n",
       "    </tr>\n",
       "  </thead>\n",
       "  <tbody>\n",
       "    <tr>\n",
       "      <th>BC</th>\n",
       "      <td>1.000000</td>\n",
       "      <td>1.000000</td>\n",
       "      <td>1.000000</td>\n",
       "      <td>5</td>\n",
       "    </tr>\n",
       "    <tr>\n",
       "      <th>LR</th>\n",
       "      <td>1.000000</td>\n",
       "      <td>1.000000</td>\n",
       "      <td>1.000000</td>\n",
       "      <td>5</td>\n",
       "    </tr>\n",
       "    <tr>\n",
       "      <th>MP</th>\n",
       "      <td>0.555556</td>\n",
       "      <td>1.000000</td>\n",
       "      <td>0.714286</td>\n",
       "      <td>5</td>\n",
       "    </tr>\n",
       "    <tr>\n",
       "      <th>NE</th>\n",
       "      <td>1.000000</td>\n",
       "      <td>0.990172</td>\n",
       "      <td>0.995062</td>\n",
       "      <td>407</td>\n",
       "    </tr>\n",
       "    <tr>\n",
       "      <th>P1</th>\n",
       "      <td>1.000000</td>\n",
       "      <td>1.000000</td>\n",
       "      <td>1.000000</td>\n",
       "      <td>5</td>\n",
       "    </tr>\n",
       "    <tr>\n",
       "      <th>P2</th>\n",
       "      <td>1.000000</td>\n",
       "      <td>1.000000</td>\n",
       "      <td>1.000000</td>\n",
       "      <td>5</td>\n",
       "    </tr>\n",
       "    <tr>\n",
       "      <th>RF</th>\n",
       "      <td>1.000000</td>\n",
       "      <td>1.000000</td>\n",
       "      <td>1.000000</td>\n",
       "      <td>5</td>\n",
       "    </tr>\n",
       "    <tr>\n",
       "      <th>RO</th>\n",
       "      <td>1.000000</td>\n",
       "      <td>1.000000</td>\n",
       "      <td>1.000000</td>\n",
       "      <td>5</td>\n",
       "    </tr>\n",
       "    <tr>\n",
       "      <th>RS</th>\n",
       "      <td>1.000000</td>\n",
       "      <td>1.000000</td>\n",
       "      <td>1.000000</td>\n",
       "      <td>5</td>\n",
       "    </tr>\n",
       "    <tr>\n",
       "      <th>SA</th>\n",
       "      <td>1.000000</td>\n",
       "      <td>1.000000</td>\n",
       "      <td>1.000000</td>\n",
       "      <td>5</td>\n",
       "    </tr>\n",
       "    <tr>\n",
       "      <th>TC</th>\n",
       "      <td>1.000000</td>\n",
       "      <td>1.000000</td>\n",
       "      <td>1.000000</td>\n",
       "      <td>5</td>\n",
       "    </tr>\n",
       "    <tr>\n",
       "      <th>macro avg</th>\n",
       "      <td>0.959596</td>\n",
       "      <td>0.999107</td>\n",
       "      <td>0.973577</td>\n",
       "      <td>457</td>\n",
       "    </tr>\n",
       "    <tr>\n",
       "      <th>micro avg</th>\n",
       "      <td>0.991247</td>\n",
       "      <td>0.991247</td>\n",
       "      <td>0.991247</td>\n",
       "      <td>457</td>\n",
       "    </tr>\n",
       "    <tr>\n",
       "      <th>weighted avg</th>\n",
       "      <td>0.995137</td>\n",
       "      <td>0.991247</td>\n",
       "      <td>0.992476</td>\n",
       "      <td>457</td>\n",
       "    </tr>\n",
       "  </tbody>\n",
       "</table>\n",
       "</div>"
      ],
      "text/plain": [
       "              precision    recall  f1-score  support\n",
       "BC             1.000000  1.000000  1.000000        5\n",
       "LR             1.000000  1.000000  1.000000        5\n",
       "MP             0.555556  1.000000  0.714286        5\n",
       "NE             1.000000  0.990172  0.995062      407\n",
       "P1             1.000000  1.000000  1.000000        5\n",
       "P2             1.000000  1.000000  1.000000        5\n",
       "RF             1.000000  1.000000  1.000000        5\n",
       "RO             1.000000  1.000000  1.000000        5\n",
       "RS             1.000000  1.000000  1.000000        5\n",
       "SA             1.000000  1.000000  1.000000        5\n",
       "TC             1.000000  1.000000  1.000000        5\n",
       "macro avg      0.959596  0.999107  0.973577      457\n",
       "micro avg      0.991247  0.991247  0.991247      457\n",
       "weighted avg   0.995137  0.991247  0.992476      457"
      ]
     },
     "execution_count": 56,
     "metadata": {},
     "output_type": "execute_result"
    }
   ],
   "source": [
    "classif_report = classification_report(DataObj.y_test(), y_pred, labels=np.arange(0,11),\n",
    "                               target_names=['RF','RO','RS','LR','BC','TC','MP','SA','P1','P2','NE'],\n",
    "                               sample_weight=None, output_dict=True)\n",
    "pd.DataFrame.from_dict(classif_report, orient='index')"
   ]
  },
  {
   "cell_type": "markdown",
   "metadata": {
    "extensions": {
     "jupyter_dashboards": {
      "version": 1,
      "views": {
       "grid_default": {
        "col": 0,
        "height": 4,
        "hidden": false,
        "row": 108,
        "width": 4
       },
       "report_default": {
        "hidden": false
       }
      }
     }
    }
   },
   "source": [
    "***Show misclassified test samples:***"
   ]
  },
  {
   "cell_type": "code",
   "execution_count": 57,
   "metadata": {
    "ExecuteTime": {
     "end_time": "2019-02-05T00:56:10.706455Z",
     "start_time": "2019-02-05T00:56:10.583448Z"
    },
    "extensions": {
     "jupyter_dashboards": {
      "version": 1,
      "views": {
       "grid_default": {
        "hidden": true
       },
       "report_default": {
        "hidden": true
       }
      }
     }
    },
    "scrolled": true
   },
   "outputs": [
    {
     "name": "stdout",
     "output_type": "stream",
     "text": [
      "4 misclassified (457 test data points):\n",
      "NE classified as MP\n",
      "NE classified as MP\n",
      "NE classified as MP\n",
      "NE classified as MP\n"
     ]
    }
   ],
   "source": [
    "print_misclassified_data_points(y_pred, DataObj.y_test())"
   ]
  },
  {
   "cell_type": "markdown",
   "metadata": {
    "extensions": {
     "jupyter_dashboards": {
      "version": 1,
      "views": {
       "grid_default": {
        "col": 0,
        "height": 4,
        "hidden": false,
        "row": 112,
        "width": 12
       },
       "report_default": {
        "hidden": false
       }
      }
     }
    }
   },
   "source": [
    "### Classification of Test Data (whole record)\n",
    "\n",
    "Therefore, a certain windowing procedure is used in order to generate test samples."
   ]
  },
  {
   "cell_type": "code",
   "execution_count": 58,
   "metadata": {
    "ExecuteTime": {
     "end_time": "2019-02-05T00:56:22.001101Z",
     "start_time": "2019-02-05T00:56:10.711455Z"
    },
    "extensions": {
     "jupyter_dashboards": {
      "version": 1,
      "views": {
       "grid_default": {
        "hidden": true
       },
       "report_default": {
        "hidden": true
       }
      }
     }
    }
   },
   "outputs": [
    {
     "name": "stdout",
     "output_type": "stream",
     "text": [
      "Generate feature map... 100%\n"
     ]
    },
    {
     "data": {
      "text/plain": [
       "(210945, 60)"
      ]
     },
     "execution_count": 58,
     "metadata": {},
     "output_type": "execute_result"
    }
   ],
   "source": [
    "DataObject_WinProc = PDH.PhysioData_WindowingProcedure(test_subject_dir = test_subject_dir,\n",
    "                                                       test_subject_file = test_subject_file,\n",
    "                                                       number_sections = number_sections,\n",
    "                                                       sampling_rate = sampling_rate,\n",
    "                                                       cutoff = butterworth_cutoff,\n",
    "                                                       order = butterworth_order,\n",
    "                                                       win_start_inc = win_start_inc,\n",
    "                                                       win_stretch_inc = win_stretch_inc,\n",
    "                                                       win_min_len = win_min_len,\n",
    "                                                       win_max_len = win_max_len,\n",
    "                                                       rot_axis=rot_axis_test_data,\n",
    "                                                       rot_angle=rot_angle_test_data,\n",
    "                                                       add_noise=add_noise_test_data,\n",
    "                                                       target_snr_db=snr_db)\n",
    "np.shape(DataObject_WinProc.get_feature_map())"
   ]
  },
  {
   "cell_type": "markdown",
   "metadata": {
    "extensions": {
     "jupyter_dashboards": {
      "version": 1,
      "views": {
       "grid_default": {
        "col": 4,
        "height": 4,
        "hidden": false,
        "row": 108,
        "width": 4
       },
       "report_default": {
        "hidden": false
       }
      }
     }
    }
   },
   "source": [
    "***Predict probabilities of the generated samples:***\n",
    "\n",
    "(Also consider dimensionality reduction, if used.)"
   ]
  },
  {
   "cell_type": "code",
   "execution_count": 59,
   "metadata": {
    "ExecuteTime": {
     "end_time": "2019-02-05T00:56:22.013102Z",
     "start_time": "2019-02-05T00:56:22.006101Z"
    }
   },
   "outputs": [],
   "source": [
    "feature_map = DataObject_WinProc.get_feature_map()"
   ]
  },
  {
   "cell_type": "code",
   "execution_count": 60,
   "metadata": {
    "ExecuteTime": {
     "end_time": "2019-02-05T00:56:22.205112Z",
     "start_time": "2019-02-05T00:56:22.018102Z"
    },
    "extensions": {
     "jupyter_dashboards": {
      "version": 1,
      "views": {
       "grid_default": {
        "hidden": true
       },
       "report_default": {
        "hidden": true
       }
      }
     }
    }
   },
   "outputs": [
    {
     "name": "stdout",
     "output_type": "stream",
     "text": [
      "Dimensionality reduction of feature map -> execution time [min:sec]:  0:0.000\n"
     ]
    }
   ],
   "source": [
    "ct = timeit.default_timer()\n",
    "\n",
    "if use_PCA_for_dim_reduction is True:\n",
    "    feature_map = pca.transform(feature_map)\n",
    "    \n",
    "if use_LDA_for_dim_reduction is True:\n",
    "    feature_map = lda.transform(feature_map)\n",
    "    \n",
    "print_cell_exec_time(ct, 'Dimensionality reduction of feature map')"
   ]
  },
  {
   "cell_type": "code",
   "execution_count": 61,
   "metadata": {
    "ExecuteTime": {
     "end_time": "2019-02-05T00:56:31.307633Z",
     "start_time": "2019-02-05T00:56:22.211113Z"
    }
   },
   "outputs": [
    {
     "name": "stdout",
     "output_type": "stream",
     "text": [
      "Predict probabilities of feature map -> execution time [min:sec]:  0:8.966\n"
     ]
    },
    {
     "data": {
      "text/plain": [
       "(210945, 11)"
      ]
     },
     "execution_count": 61,
     "metadata": {},
     "output_type": "execute_result"
    }
   ],
   "source": [
    "ct = timeit.default_timer()\n",
    "pred_probs = ML_model_best.predict_proba(feature_map)\n",
    "print_cell_exec_time(ct, 'Predict probabilities of feature map')\n",
    "np.shape(pred_probs)"
   ]
  },
  {
   "cell_type": "markdown",
   "metadata": {
    "extensions": {
     "jupyter_dashboards": {
      "version": 1,
      "views": {
       "grid_default": {
        "col": 8,
        "height": 4,
        "hidden": false,
        "row": 108,
        "width": 4
       },
       "report_default": {
        "hidden": false
       }
      }
     }
    }
   },
   "source": [
    "***Evaluate the predicted probabilites:***"
   ]
  },
  {
   "cell_type": "code",
   "execution_count": 62,
   "metadata": {
    "ExecuteTime": {
     "end_time": "2019-02-05T00:56:32.664711Z",
     "start_time": "2019-02-05T00:56:31.312633Z"
    },
    "extensions": {
     "jupyter_dashboards": {
      "version": 1,
      "views": {
       "grid_default": {
        "hidden": true
       },
       "report_default": {
        "hidden": true
       }
      }
     }
    },
    "scrolled": false
   },
   "outputs": [
    {
     "name": "stdout",
     "output_type": "stream",
     "text": [
      "\n",
      "Exercise: RF\n",
      "Number of blocks: 3\n",
      "\n",
      "\tBlock #1:\n",
      "\t\tRepetitions: 10\n",
      "\t\tTime range: 13:44.2 - 14:13.6\n",
      "\tBlock #2:\n",
      "\t\tRepetitions: 15\n",
      "\t\tTime range: 14:39.8 - 15:19.2\n",
      "\tBlock #3:\n",
      "\t\tRepetitions: 5\n",
      "\t\tTime range: 16:08.6 - 16:22.2\n",
      "\n",
      "Exercise: RO\n",
      "Number of blocks: 3\n",
      "\n",
      "\tBlock #1:\n",
      "\t\tRepetitions: 15\n",
      "\t\tTime range: 01:17.4 - 01:57.0\n",
      "\tBlock #2:\n",
      "\t\tRepetitions: 5\n",
      "\t\tTime range: 02:20.8 - 02:35.8\n",
      "\tBlock #3:\n",
      "\t\tRepetitions: 10\n",
      "\t\tTime range: 02:54.0 - 03:22.6\n",
      "\n",
      "Exercise: RS\n",
      "Number of blocks: 3\n",
      "\n",
      "\tBlock #1:\n",
      "\t\tRepetitions: 15\n",
      "\t\tTime range: 20:12.2 - 20:59.6\n",
      "\tBlock #2:\n",
      "\t\tRepetitions: 5\n",
      "\t\tTime range: 21:24.0 - 21:39.4\n",
      "\tBlock #3:\n",
      "\t\tRepetitions: 10\n",
      "\t\tTime range: 22:08.8 - 22:37.2\n",
      "\n",
      "Exercise: LR\n",
      "Number of blocks: 3\n",
      "\n",
      "\tBlock #1:\n",
      "\t\tRepetitions: 5\n",
      "\t\tTime range: 10:42.4 - 10:56.0\n",
      "\tBlock #2:\n",
      "\t\tRepetitions: 10\n",
      "\t\tTime range: 11:24.6 - 11:51.0\n",
      "\tBlock #3:\n",
      "\t\tRepetitions: 15\n",
      "\t\tTime range: 12:11.4 - 12:51.4\n",
      "\n",
      "Exercise: BC\n",
      "Number of blocks: 3\n",
      "\n",
      "\tBlock #1:\n",
      "\t\tRepetitions: 15\n",
      "\t\tTime range: 16:49.8 - 17:29.2\n",
      "\tBlock #2:\n",
      "\t\tRepetitions: 11\n",
      "\t\tTime range: 18:00.4 - 18:31.4\n",
      "\tBlock #3:\n",
      "\t\tRepetitions: 5\n",
      "\t\tTime range: 18:57.8 - 19:11.2\n",
      "\n",
      "Exercise: TC\n",
      "Number of blocks: 3\n",
      "\n",
      "\tBlock #1:\n",
      "\t\tRepetitions: 15\n",
      "\t\tTime range: 07:31.2 - 08:13.8\n",
      "\tBlock #2:\n",
      "\t\tRepetitions: 5\n",
      "\t\tTime range: 08:48.6 - 09:03.6\n",
      "\tBlock #3:\n",
      "\t\tRepetitions: 10\n",
      "\t\tTime range: 09:45.0 - 10:11.8\n",
      "\n",
      "Exercise: MP\n",
      "Number of blocks: 3\n",
      "\n",
      "\tBlock #1:\n",
      "\t\tRepetitions: 17\n",
      "\t\tTime range: 29:41.4 - 30:34.0\n",
      "\tBlock #2:\n",
      "\t\tRepetitions: 11\n",
      "\t\tTime range: 31:13.4 - 31:46.8\n",
      "\tBlock #3:\n",
      "\t\tRepetitions: 6\n",
      "\t\tTime range: 32:10.8 - 32:27.6\n",
      "\n",
      "Exercise: SA\n",
      "Number of blocks: 3\n",
      "\n",
      "\tBlock #1:\n",
      "\t\tRepetitions: 5\n",
      "\t\tTime range: 26:47.6 - 27:04.4\n",
      "\tBlock #2:\n",
      "\t\tRepetitions: 16\n",
      "\t\tTime range: 27:24.4 - 28:15.6\n",
      "\tBlock #3:\n",
      "\t\tRepetitions: 10\n",
      "\t\tTime range: 28:40.2 - 29:10.2\n",
      "\n",
      "Exercise: P1\n",
      "Number of blocks: 3\n",
      "\n",
      "\tBlock #1:\n",
      "\t\tRepetitions: 10\n",
      "\t\tTime range: 23:42.6 - 24:14.8\n",
      "\tBlock #2:\n",
      "\t\tRepetitions: 15\n",
      "\t\tTime range: 24:41.0 - 25:24.6\n",
      "\tBlock #3:\n",
      "\t\tRepetitions: 5\n",
      "\t\tTime range: 25:47.6 - 26:02.6\n",
      "\n",
      "Exercise: P2\n",
      "Number of blocks: 3\n",
      "\n",
      "\tBlock #1:\n",
      "\t\tRepetitions: 10\n",
      "\t\tTime range: 04:26.2 - 04:53.4\n",
      "\tBlock #2:\n",
      "\t\tRepetitions: 5\n",
      "\t\tTime range: 05:23.6 - 05:37.8\n",
      "\tBlock #3:\n",
      "\t\tRepetitions: 15\n",
      "\t\tTime range: 06:24.6 - 07:04.4\n"
     ]
    }
   ],
   "source": [
    "DataObject_WinProc.evaluate_probability_matrix(pred_probabilities=pred_probs,\n",
    "                                               max_time_between_peaks=max_time_between_peaks,\n",
    "                                               min_peaks_per_block=min_peaks_per_block,\n",
    "                                               threshold_prob=threshold_prob,\n",
    "                                               footprint_length=footprint_length,\n",
    "                                               print_rep_len_prob=print_rep_len_prob)"
   ]
  },
  {
   "cell_type": "markdown",
   "metadata": {},
   "source": [
    "***Actual exercise timetable in order to compare results:***"
   ]
  },
  {
   "cell_type": "code",
   "execution_count": 63,
   "metadata": {
    "ExecuteTime": {
     "end_time": "2019-02-05T00:56:32.700713Z",
     "start_time": "2019-02-05T00:56:32.670711Z"
    },
    "scrolled": true
   },
   "outputs": [
    {
     "data": {
      "text/html": [
       "<div>\n",
       "<style>\n",
       "    .dataframe thead tr:only-child th {\n",
       "        text-align: right;\n",
       "    }\n",
       "\n",
       "    .dataframe thead th {\n",
       "        text-align: left;\n",
       "    }\n",
       "\n",
       "    .dataframe tbody tr th {\n",
       "        vertical-align: top;\n",
       "    }\n",
       "</style>\n",
       "<table border=\"1\" class=\"dataframe\">\n",
       "  <thead>\n",
       "    <tr style=\"text-align: right;\">\n",
       "      <th></th>\n",
       "      <th>0</th>\n",
       "      <th>1</th>\n",
       "      <th>2</th>\n",
       "      <th>3</th>\n",
       "      <th>4</th>\n",
       "      <th>5</th>\n",
       "      <th>6</th>\n",
       "      <th>7</th>\n",
       "      <th>8</th>\n",
       "      <th>9</th>\n",
       "    </tr>\n",
       "  </thead>\n",
       "  <tbody>\n",
       "    <tr>\n",
       "      <th>0</th>\n",
       "      <td>Raises Oblique</td>\n",
       "      <td>15</td>\n",
       "      <td>5</td>\n",
       "      <td>10</td>\n",
       "      <td>01:18.6</td>\n",
       "      <td>01:58.3</td>\n",
       "      <td>02:22.1</td>\n",
       "      <td>02:37.1</td>\n",
       "      <td>02:54.8</td>\n",
       "      <td>03:23.3</td>\n",
       "    </tr>\n",
       "    <tr>\n",
       "      <th>1</th>\n",
       "      <td>PNF Diagonal 2</td>\n",
       "      <td>10</td>\n",
       "      <td>5</td>\n",
       "      <td>15</td>\n",
       "      <td>04:27.1</td>\n",
       "      <td>04:54.3</td>\n",
       "      <td>05:24.5</td>\n",
       "      <td>05:38.9</td>\n",
       "      <td>06:25.8</td>\n",
       "      <td>07:05.1</td>\n",
       "    </tr>\n",
       "    <tr>\n",
       "      <th>2</th>\n",
       "      <td>Triceps Curls</td>\n",
       "      <td>15</td>\n",
       "      <td>5</td>\n",
       "      <td>10</td>\n",
       "      <td>07:32.3</td>\n",
       "      <td>08:14.8</td>\n",
       "      <td>08:49.5</td>\n",
       "      <td>09:04.9</td>\n",
       "      <td>09:46.1</td>\n",
       "      <td>10:12.6</td>\n",
       "    </tr>\n",
       "    <tr>\n",
       "      <th>3</th>\n",
       "      <td>Rotation Wrist</td>\n",
       "      <td>5</td>\n",
       "      <td>10</td>\n",
       "      <td>15</td>\n",
       "      <td>10:43.1</td>\n",
       "      <td>10:57.3</td>\n",
       "      <td>11:25.6</td>\n",
       "      <td>11:51.8</td>\n",
       "      <td>12:12.1</td>\n",
       "      <td>12:52.4</td>\n",
       "    </tr>\n",
       "    <tr>\n",
       "      <th>4</th>\n",
       "      <td>Raises Front</td>\n",
       "      <td>10</td>\n",
       "      <td>15</td>\n",
       "      <td>5</td>\n",
       "      <td>13:44.8</td>\n",
       "      <td>14:14</td>\n",
       "      <td>14:40.6</td>\n",
       "      <td>15:20</td>\n",
       "      <td>16:09.5</td>\n",
       "      <td>16:23.1</td>\n",
       "    </tr>\n",
       "    <tr>\n",
       "      <th>5</th>\n",
       "      <td>Biceps Curls</td>\n",
       "      <td>15</td>\n",
       "      <td>10</td>\n",
       "      <td>5</td>\n",
       "      <td>16:50.8</td>\n",
       "      <td>17:30.2</td>\n",
       "      <td>18:01.3</td>\n",
       "      <td>18:32.2</td>\n",
       "      <td>18:58.6</td>\n",
       "      <td>19:12</td>\n",
       "    </tr>\n",
       "    <tr>\n",
       "      <th>6</th>\n",
       "      <td>Raises Side</td>\n",
       "      <td>15</td>\n",
       "      <td>5</td>\n",
       "      <td>10</td>\n",
       "      <td>20:13</td>\n",
       "      <td>21:00.2</td>\n",
       "      <td>21:24.9</td>\n",
       "      <td>21:40.2</td>\n",
       "      <td>22:09.6</td>\n",
       "      <td>22:38.4</td>\n",
       "    </tr>\n",
       "    <tr>\n",
       "      <th>7</th>\n",
       "      <td>PNF Diagonal 1</td>\n",
       "      <td>10</td>\n",
       "      <td>15</td>\n",
       "      <td>5</td>\n",
       "      <td>23:43.9</td>\n",
       "      <td>24:15.9</td>\n",
       "      <td>24:42</td>\n",
       "      <td>25:25.1</td>\n",
       "      <td>25:48.7</td>\n",
       "      <td>26:04.6</td>\n",
       "    </tr>\n",
       "    <tr>\n",
       "      <th>8</th>\n",
       "      <td>Shoulder Adduct.</td>\n",
       "      <td>5</td>\n",
       "      <td>15</td>\n",
       "      <td>10</td>\n",
       "      <td>26:48.5</td>\n",
       "      <td>27:05.3</td>\n",
       "      <td>27:25.4</td>\n",
       "      <td>28:16.5</td>\n",
       "      <td>28:41.2</td>\n",
       "      <td>29:10.9</td>\n",
       "    </tr>\n",
       "    <tr>\n",
       "      <th>9</th>\n",
       "      <td>Military Press</td>\n",
       "      <td>15</td>\n",
       "      <td>10</td>\n",
       "      <td>5</td>\n",
       "      <td>29:45.6</td>\n",
       "      <td>30:37.4</td>\n",
       "      <td>31:14.6</td>\n",
       "      <td>31:47.3</td>\n",
       "      <td>32:13.6</td>\n",
       "      <td>32:28.1</td>\n",
       "    </tr>\n",
       "  </tbody>\n",
       "</table>\n",
       "</div>"
      ],
      "text/plain": [
       "                  0   1   2   3        4        5        6        7        8  \\\n",
       "0    Raises Oblique  15   5  10  01:18.6  01:58.3  02:22.1  02:37.1  02:54.8   \n",
       "1    PNF Diagonal 2  10   5  15  04:27.1  04:54.3  05:24.5  05:38.9  06:25.8   \n",
       "2     Triceps Curls  15   5  10  07:32.3  08:14.8  08:49.5  09:04.9  09:46.1   \n",
       "3    Rotation Wrist   5  10  15  10:43.1  10:57.3  11:25.6  11:51.8  12:12.1   \n",
       "4      Raises Front  10  15   5  13:44.8    14:14  14:40.6    15:20  16:09.5   \n",
       "5      Biceps Curls  15  10   5  16:50.8  17:30.2  18:01.3  18:32.2  18:58.6   \n",
       "6       Raises Side  15   5  10    20:13  21:00.2  21:24.9  21:40.2  22:09.6   \n",
       "7    PNF Diagonal 1  10  15   5  23:43.9  24:15.9    24:42  25:25.1  25:48.7   \n",
       "8  Shoulder Adduct.   5  15  10  26:48.5  27:05.3  27:25.4  28:16.5  28:41.2   \n",
       "9    Military Press  15  10   5  29:45.6  30:37.4  31:14.6  31:47.3  32:13.6   \n",
       "\n",
       "         9  \n",
       "0  03:23.3  \n",
       "1  07:05.1  \n",
       "2  10:12.6  \n",
       "3  12:52.4  \n",
       "4  16:23.1  \n",
       "5    19:12  \n",
       "6  22:38.4  \n",
       "7  26:04.6  \n",
       "8  29:10.9  \n",
       "9  32:28.1  "
      ]
     },
     "execution_count": 63,
     "metadata": {},
     "output_type": "execute_result"
    }
   ],
   "source": [
    "timetable_data_path = os.path.join(timetable_file_dir, timetable_file_name)\n",
    "timetable_data = pd.read_csv(timetable_data_path, skiprows=0, sep='\\t', header=None)\n",
    "timetable_data"
   ]
  },
  {
   "cell_type": "markdown",
   "metadata": {},
   "source": [
    "***Plot probability matrices of selected repetition blocks:***"
   ]
  },
  {
   "cell_type": "code",
   "execution_count": 64,
   "metadata": {
    "ExecuteTime": {
     "end_time": "2019-02-05T00:56:50.405725Z",
     "start_time": "2019-02-05T00:56:32.704713Z"
    },
    "extensions": {
     "jupyter_dashboards": {
      "version": 1,
      "views": {
       "grid_default": {
        "col": 0,
        "height": 68,
        "hidden": false,
        "row": 116,
        "width": 4
       },
       "report_default": {
        "hidden": false
       }
      }
     }
    },
    "scrolled": true
   },
   "outputs": [
    {
     "data": {
      "image/png": "[encoded data removed]",
      "text/plain": [
       "<Figure size 720x720 with 13 Axes>"
      ]
     },
     "metadata": {},
     "output_type": "display_data"
    },
    {
     "data": {
      "image/png": "[encoded data removed]",
      "text/plain": [
       "<Figure size 720x720 with 13 Axes>"
      ]
     },
     "metadata": {},
     "output_type": "display_data"
    },
    {
     "data": {
      "image/png": "[encoded data removed]",
      "text/plain": [
       "<Figure size 720x720 with 13 Axes>"
      ]
     },
     "metadata": {},
     "output_type": "display_data"
    },
    {
     "data": {
      "image/png": "[encoded data removed]",
      "text/plain": [
       "<Figure size 720x720 with 13 Axes>"
      ]
     },
     "metadata": {},
     "output_type": "display_data"
    },
    {
     "data": {
      "image/png": "[encoded data removed]",
      "text/plain": [
       "<Figure size 720x720 with 13 Axes>"
      ]
     },
     "metadata": {},
     "output_type": "display_data"
    },
    {
     "data": {
      "image/png": "[encoded data removed]",
      "text/plain": [
       "<Figure size 720x720 with 13 Axes>"
      ]
     },
     "metadata": {},
     "output_type": "display_data"
    },
    {
     "data": {
      "image/png": "[encoded data removed]",
      "text/plain": [
       "<Figure size 720x720 with 13 Axes>"
      ]
     },
     "metadata": {},
     "output_type": "display_data"
    },
    {
     "data": {
      "image/png": "[encoded data removed]",
      "text/plain": [
       "<Figure size 720x720 with 13 Axes>"
      ]
     },
     "metadata": {},
     "output_type": "display_data"
    },
    {
     "data": {
      "image/png": "[encoded data removed]",
      "text/plain": [
       "<Figure size 720x720 with 13 Axes>"
      ]
     },
     "metadata": {},
     "output_type": "display_data"
    },
    {
     "data": {
      "image/png": "[encoded data removed]",
      "text/plain": [
       "<Figure size 720x720 with 13 Axes>"
      ]
     },
     "metadata": {},
     "output_type": "display_data"
    }
   ],
   "source": [
    "for ex_rep_block in plot_exercise_repetition_blocks:\n",
    "    DataObject_WinProc.plot_probability_matrices_and_peaks(title_text='Probability Matrices Subject {}  ({})'.format(\n",
    "                                           test_subject_id, ML_model_name),\n",
    "                                           default_settings_smaller_plot=True,\n",
    "                                           plot_time_range=True,\n",
    "                                           start_time=timetable_ex_dict[ex_rep_block+'_start_time'],\n",
    "                                           stop_time=timetable_ex_dict[ex_rep_block+'_stop_time'],\n",
    "                                           time_offset_before_and_after=plot_time_offset_before_and_after,\n",
    "                                           plot_actual_classes=True,\n",
    "                                           timetable_file_dir=timetable_file_dir,\n",
    "                                           timetable_file_name=timetable_file_name)"
   ]
  },
  {
   "cell_type": "markdown",
   "metadata": {},
   "source": [
    "***\n",
    "***\n",
    "***\n",
    "***\n",
    "***"
   ]
  },
  {
   "cell_type": "markdown",
   "metadata": {},
   "source": [
    "***Plot and save figure:***"
   ]
  },
  {
   "cell_type": "code",
   "execution_count": 70,
   "metadata": {
    "ExecuteTime": {
     "end_time": "2019-02-05T00:58:26.197204Z",
     "start_time": "2019-02-05T00:58:24.917131Z"
    }
   },
   "outputs": [
    {
     "name": "stdout",
     "output_type": "stream",
     "text": [
      "Using matplotlib backend: TkAgg\n"
     ]
    },
    {
     "name": "stderr",
     "output_type": "stream",
     "text": [
      "C:\\Users\\Florian_Meinhart\\AppData\\Roaming\\Python\\Python36\\site-packages\\matplotlib\\figure.py:2366: UserWarning: This figure includes Axes that are not compatible with tight_layout, so results might be incorrect.\n",
      "  warnings.warn(\"This figure includes Axes that are not compatible \"\n"
     ]
    },
    {
     "name": "stdout",
     "output_type": "stream",
     "text": [
      "Figure already exists.\n"
     ]
    }
   ],
   "source": [
    "%matplotlib auto\n",
    "\n",
    "ex_rep_block_new = 'RO_5'\n",
    "add_info_fig_save = 'oneSub'\n",
    "DataObject_WinProc.plot_probability_matrices_and_peaks(title_text='Probability Matrices Subject {} ({})'.format(\n",
    "                                           test_subject_id, ML_model_name),\n",
    "                                           default_settings_smaller_plot=True,\n",
    "                                           plot_time_range=True,\n",
    "                                           start_time=timetable_ex_dict[ex_rep_block_new+'_start_time'],\n",
    "                                           stop_time=timetable_ex_dict[ex_rep_block_new+'_stop_time'],\n",
    "                                           time_offset_before_and_after=plot_time_offset_before_and_after,\n",
    "                                           plot_actual_classes=True,\n",
    "                                           timetable_file_dir=timetable_file_dir,\n",
    "                                           timetable_file_name=timetable_file_name)\n",
    "\n",
    "# change layout for saving\n",
    "plt.tight_layout(rect=(0.015, 0, 0.9, 0.9), pad=0.2)\n",
    "\n",
    "fig_save_name = 'TestSub{}_NumSec{}_{}_{}_{}.png'.format(test_subject_id,\n",
    "                                                    number_sections,\n",
    "                                                    ML_model_name,\n",
    "                                                    ex_rep_block_new,\n",
    "                                                    add_info_fig_save)\n",
    "\n",
    "fig_save_dir = r'C:\\Users\\Florian_Meinhart\\Desktop\\Plots_2nd_Approach'\n",
    "fig_save_path = os.path.join(fig_save_dir, fig_save_name)\n",
    "\n",
    "# Save the figure if it does not already exist:\n",
    "if not os.path.exists(fig_save_path):\n",
    "    plt.savefig(fig_save_path, dpi=200)\n",
    "    print('Figure saved.')\n",
    "else:\n",
    "    print('Figure already exists.')"
   ]
  },
  {
   "cell_type": "code",
   "execution_count": 65,
   "metadata": {
    "ExecuteTime": {
     "end_time": "2019-02-05T00:56:50.442728Z",
     "start_time": "2019-02-05T00:56:50.422726Z"
    }
   },
   "outputs": [],
   "source": [
    "plt.close()"
   ]
  },
  {
   "cell_type": "markdown",
   "metadata": {},
   "source": [
    "***\n",
    "***\n",
    "***\n",
    "***\n",
    "***"
   ]
  },
  {
   "cell_type": "markdown",
   "metadata": {},
   "source": [
    "## Function to Print Evaluation Summary"
   ]
  },
  {
   "cell_type": "code",
   "execution_count": 66,
   "metadata": {
    "ExecuteTime": {
     "end_time": "2019-02-05T00:56:50.855751Z",
     "start_time": "2019-02-05T00:56:50.456728Z"
    }
   },
   "outputs": [],
   "source": [
    "def print_eval_summary():\n",
    "    '''\n",
    "    Function to print evaluation summary.\n",
    "    \n",
    "    No parameters, no returns (global variables are used).\n",
    "    '''\n",
    "    \n",
    "    print('\\n    Summary of Evaluation Report\\n')\n",
    "\n",
    "    print('Test data set:')\n",
    "    print('\\tSubject ID: \\t{}'.format(test_subject_id))\n",
    "    print('\\tSamples: \\t{}'.format(np.shape(DataObj.X_test())[0]))\n",
    "    print('\\tRep. num.: \\t{}'.format(test_repetition_numbers))\n",
    "    print('\\tExercises: \\t{}'.format(test_exercises))\n",
    "    print('\\tRotation axes: \\t{}'.format(rot_axis_test_data))\n",
    "    print('\\tRot. angles: \\t{}'.format(rot_angle_test_data))\n",
    "    if add_noise_test_data:\n",
    "        print('\\tSNR: \\t\\t{} db'.format(snr_db))\n",
    "    else:\n",
    "        print('\\tSNR: \\t\\tnone')\n",
    "\n",
    "    print('\\nTrain data set:')\n",
    "    print('\\tSubject ID(s): \\t{}'.format(train_subject_ids))\n",
    "    print('\\tSamples: \\t{}'.format(np.shape(DataObj.X_train())[0]))\n",
    "    print('\\tRep. num.: \\t{}'.format(train_repetition_numbers))\n",
    "    print('\\tExercises: \\t{}'.format(train_exercises))\n",
    "    if add_noise_train_data:\n",
    "        print('\\tSNR: \\t{} db'.format(snr_db))\n",
    "    else:\n",
    "        print('\\tSNR: \\t\\tnone')\n",
    "\n",
    "    print('\\nNumber of sections to split each rep.: {}'.format(number_sections))\n",
    "\n",
    "    if use_PCA_for_dim_reduction is True:\n",
    "        print('\\nDimensionality reduction: \\tPCA ({} PCs)'.format(number_principal_components))\n",
    "    if use_LDA_for_dim_reduction is True:\n",
    "        print('\\nDimensionality reduction: \\tLDA')\n",
    "    if use_PCA_for_dim_reduction is False and use_LDA_for_dim_reduction is False:\n",
    "        print('\\nDimensionality reduction: \\tnone')\n",
    "\n",
    "    print('\\nWindowing procedure:')\n",
    "    print('\\tWin. start inc.: \\t{} s'.format(win_start_inc))\n",
    "    print('\\tWin. stretch inc.: \\t{} s'.format(win_stretch_inc))\n",
    "    print('\\tMin. win. length: \\t{} s'.format(win_min_len))\n",
    "    print('\\tMax. win. length: \\t{} s'.format(win_max_len))\n",
    "    print('\\tFilter order: \\t\\t{}'.format(butterworth_order))  \n",
    "    print('\\tCutoff frequency: \\t{} Hz'.format(butterworth_cutoff)) \n",
    "\n",
    "    print('\\nEvaluation of probability matrices:')\n",
    "    print('\\tMax. time betw. 2 rep.:\\t{} s'.format(max_time_between_peaks))\n",
    "    print('\\tMin rep. per block: \\t{}'.format(min_peaks_per_block))\n",
    "    print('\\tProb. threshold: \\t{}'.format(threshold_prob))\n",
    "    print('\\tFootprint length: \\t{} s'.format(footprint_length))\n",
    "\n",
    "    print('\\nMachine Learning:')\n",
    "    print('\\tModel: \\t{}'.format(ML_model_name))\n",
    "    print('\\tParam. for grid search cross val.:')\n",
    "    for param in param_grid:\n",
    "        print('\\t\\t{}: {}'.format(param, param_grid[param]))\n",
    "    print('\\tBest parameters:')    \n",
    "    for param in grid_search.best_params_:\n",
    "        print('\\t\\t{}: {}'.format(param, grid_search.best_params_[param]))\n",
    "    print('\\tBest score (gridsearchCV): \\t{:.2f}%'.format(grid_search.best_score_*100))\n",
    "    print('\\n\\tScore on sep. test samples: \\t{:.2f}%\\n'.format((accuracy_score(DataObj.y_test(), y_pred))*100))\n",
    "    print('\\tExerc.\\tPrec.\\tRecall\\tF1-Sc.\\tSupport')\n",
    "    for ex in ['RF','RO','RS','LR','BC','TC','MP','SA','P1','P2','NE']:\n",
    "        print('\\t{}\\t{:.4f}\\t{:.4f}\\t{:.4f}\\t{:7d}'.format(ex, classif_report[ex]['precision'], \n",
    "                                                          classif_report[ex]['recall'],\n",
    "                                                          classif_report[ex]['f1-score'], \n",
    "                                                          classif_report[ex]['support']))\n",
    "    print('\\t{}\\t{:.4f}\\t{:.4f}\\t{:.4f}\\t{:7d}'.format('total', classif_report['micro avg']['precision'], \n",
    "                                                          classif_report['micro avg']['recall'],\n",
    "                                                          classif_report['micro avg']['f1-score'], \n",
    "                                                          classif_report['micro avg']['support']))\n"
   ]
  },
  {
   "cell_type": "markdown",
   "metadata": {},
   "source": [
    "***Execute the cell with the evaluation summary:***\n",
    "\n",
    "(First cell with code $\\rightarrow$ see above.)"
   ]
  },
  {
   "cell_type": "code",
   "execution_count": 67,
   "metadata": {
    "ExecuteTime": {
     "end_time": "2019-02-05T00:56:51.029761Z",
     "start_time": "2019-02-05T00:56:50.867752Z"
    }
   },
   "outputs": [
    {
     "data": {
      "application/javascript": [
       "Jupyter.notebook.execute_cells([1])"
      ],
      "text/plain": [
       "<IPython.core.display.Javascript object>"
      ]
     },
     "metadata": {},
     "output_type": "display_data"
    }
   ],
   "source": [
    "%%javascript\n",
    "Jupyter.notebook.execute_cells([1])"
   ]
  }
 ],
 "metadata": {
  "extensions": {
   "jupyter_dashboards": {
    "activeView": "report_default",
    "version": 1,
    "views": {
     "grid_default": {
      "cellMargin": 10,
      "defaultCellHeight": 20,
      "maxColumns": 12,
      "name": "grid",
      "type": "grid"
     },
     "report_default": {
      "name": "report",
      "type": "report"
     }
    }
   }
  },
  "kernelspec": {
   "display_name": "Python 3",
   "language": "python",
   "name": "python3"
  },
  "language_info": {
   "codemirror_mode": {
    "name": "ipython",
    "version": 3
   },
   "file_extension": ".py",
   "mimetype": "text/x-python",
   "name": "python",
   "nbconvert_exporter": "python",
   "pygments_lexer": "ipython3",
   "version": "3.6.2"
  },
  "toc": {
   "base_numbering": 1,
   "nav_menu": {},
   "number_sections": true,
   "sideBar": true,
   "skip_h1_title": false,
   "title_cell": "Table of Contents",
   "title_sidebar": "Contents",
   "toc_cell": false,
   "toc_position": {
    "height": "calc(100% - 180px)",
    "left": "10px",
    "top": "150px",
    "width": "484px"
   },
   "toc_section_display": true,
   "toc_window_display": true
  }
 },
 "nbformat": 4,
 "nbformat_minor": 2
}
