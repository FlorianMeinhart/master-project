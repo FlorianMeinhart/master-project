{
 "cells": [
  {
   "cell_type": "markdown",
   "metadata": {
    "extensions": {
     "jupyter_dashboards": {
      "version": 1,
      "views": {
       "grid_default": {},
       "report_default": {
        "hidden": false
       }
      }
     }
    }
   },
   "source": [
    "# Classification with both Physio Data Classes"
   ]
  },
  {
   "cell_type": "code",
   "execution_count": 1,
   "metadata": {
    "ExecuteTime": {
     "end_time": "2019-01-20T20:16:59.688125Z",
     "start_time": "2019-01-20T20:16:57.269986Z"
    },
    "extensions": {
     "jupyter_dashboards": {
      "version": 1,
      "views": {
       "grid_default": {},
       "report_default": {
        "hidden": true
       }
      }
     }
    }
   },
   "outputs": [],
   "source": [
    "import pandas as pd\n",
    "import numpy as np\n",
    "from pivottablejs import pivot_ui\n",
    "\n",
    "import sys\n",
    "sys.path.append('..')  # in order to import modules from my own package\n",
    "from packageMeinhart import PhysioDataHandler as PDH\n",
    "from packageMeinhart.functionsMasterProjectMeinhart import print_precision_recall_accuracy\n",
    "from packageMeinhart.functionsMasterProjectMeinhart import print_misclassified_data_points\n",
    "\n",
    "# ML modules\n",
    "from sklearn.ensemble import RandomForestClassifier\n",
    "from sklearn.linear_model import LogisticRegression\n",
    "from sklearn.svm import SVC\n",
    "from sklearn.neural_network import MLPClassifier\n",
    "from sklearn.decomposition import PCA\n",
    "from sklearn.discriminant_analysis import LinearDiscriminantAnalysis as LDA\n",
    "from sklearn.preprocessing import StandardScaler\n",
    "from sklearn.ensemble import VotingClassifier\n",
    "from sklearn.metrics import accuracy_score\n",
    "from sklearn.pipeline import Pipeline\n",
    "from sklearn.pipeline import make_pipeline\n",
    "from sklearn.preprocessing import StandardScaler\n",
    "from sklearn.model_selection import GridSearchCV\n",
    "from sklearn.metrics import classification_report"
   ]
  },
  {
   "cell_type": "code",
   "execution_count": null,
   "metadata": {
    "extensions": {
     "jupyter_dashboards": {
      "version": 1,
      "views": {
       "grid_default": {},
       "report_default": {
        "hidden": true
       }
      }
     }
    }
   },
   "outputs": [],
   "source": []
  },
  {
   "cell_type": "code",
   "execution_count": 2,
   "metadata": {
    "ExecuteTime": {
     "end_time": "2019-01-20T20:17:53.253188Z",
     "start_time": "2019-01-20T20:16:59.691125Z"
    },
    "extensions": {
     "jupyter_dashboards": {
      "version": 1,
      "views": {
       "grid_default": {},
       "report_default": {
        "hidden": true
       }
      }
     }
    }
   },
   "outputs": [],
   "source": [
    "PD1 = PDH.PhysioData_SectionFeatures(num_sections=10,\n",
    "                                     test_subject_ids=1,\n",
    "                                     train_subject_ids=-1,\n",
    "                                     test_rep_nums=-1,\n",
    "                                     train_rep_nums=-1,\n",
    "                                     test_ex_abbrs=-1,\n",
    "                                     train_ex_abbrs=-1,\n",
    "                                     with_non_Ex=True,\n",
    "                                     rot_axis_test_data=0,\n",
    "                                     rot_angle_test_data=0,\n",
    "                                     add_noise_test_data=False,\n",
    "                                     add_noise_train_data=False,\n",
    "                                     snr_db=20,\n",
    "                                     csv_data_dir='E:\\Physio_Data_Split_Ex_and_NonEx',\n",
    "                                     csv_skiprows=0,\n",
    "                                     csv_separator=',',\n",
    "                                     data_base_path='E:\\Physio_Data\\DataBase_Physio_with_nonEx.db',\n",
    "                                     print_progress=True,\n",
    "                                     signal_abbrs=['Acc','Gyr'],\n",
    "                                     signal_orientations=['x','y','z'],\n",
    "                                     labels_abbr2num_dict={'RF':0,'RO':1,'RS':2,'LR':3,'BC':4,'TC':5,\n",
    "                                                           'MP':6,'SA':7,'P1':8,'P2':9,'NE':10},\n",
    "                                     sub_id_key='subject_id',\n",
    "                                     num_rep_key='num_rep',\n",
    "                                     abbreviation_key='abbreviation',\n",
    "                                     start_time_key='start_time',\n",
    "                                     stop_time_key='stop_time',\n",
    "                                     csv_file_key='csv_file',\n",
    "                                     sampling_rate=256)"
   ]
  },
  {
   "cell_type": "code",
   "execution_count": 3,
   "metadata": {
    "ExecuteTime": {
     "end_time": "2019-01-20T20:17:53.277190Z",
     "start_time": "2019-01-20T20:17:53.257189Z"
    },
    "extensions": {
     "jupyter_dashboards": {
      "version": 1,
      "views": {
       "grid_default": {},
       "report_default": {
        "hidden": false
       }
      }
     }
    }
   },
   "outputs": [
    {
     "data": {
      "text/html": [
       "\n",
       "        <iframe\n",
       "            width=\"100%\"\n",
       "            height=\"500\"\n",
       "            src=\"PD1_test.html\"\n",
       "            frameborder=\"0\"\n",
       "            allowfullscreen\n",
       "        ></iframe>\n",
       "        "
      ],
      "text/plain": [
       "<IPython.lib.display.IFrame at 0xec81da0>"
      ]
     },
     "execution_count": 3,
     "metadata": {},
     "output_type": "execute_result"
    }
   ],
   "source": [
    "pivot_ui(PD1.get_test_data_points(), \n",
    "         rows=['abbreviation'], \n",
    "         cols=['subject_id', 'num_rep'], \n",
    "         outfile_path=\"PD1_test.html\")"
   ]
  },
  {
   "cell_type": "code",
   "execution_count": 4,
   "metadata": {
    "ExecuteTime": {
     "end_time": "2019-01-20T20:17:53.822221Z",
     "start_time": "2019-01-20T20:17:53.285190Z"
    },
    "extensions": {
     "jupyter_dashboards": {
      "version": 1,
      "views": {
       "grid_default": {},
       "report_default": {
        "hidden": false
       }
      }
     }
    }
   },
   "outputs": [
    {
     "data": {
      "text/html": [
       "\n",
       "        <iframe\n",
       "            width=\"100%\"\n",
       "            height=\"500\"\n",
       "            src=\"PD1_train.html\"\n",
       "            frameborder=\"0\"\n",
       "            allowfullscreen\n",
       "        ></iframe>\n",
       "        "
      ],
      "text/plain": [
       "<IPython.lib.display.IFrame at 0xec816d8>"
      ]
     },
     "execution_count": 4,
     "metadata": {},
     "output_type": "execute_result"
    }
   ],
   "source": [
    "pivot_ui(PD1.get_train_data_points(), \n",
    "         rows=['abbreviation'], \n",
    "         cols=['subject_id', 'num_rep'], \n",
    "         outfile_path=\"PD1_train.html\")"
   ]
  },
  {
   "cell_type": "code",
   "execution_count": null,
   "metadata": {
    "extensions": {
     "jupyter_dashboards": {
      "version": 1,
      "views": {
       "grid_default": {},
       "report_default": {
        "hidden": true
       }
      }
     }
    }
   },
   "outputs": [],
   "source": []
  },
  {
   "cell_type": "code",
   "execution_count": null,
   "metadata": {
    "extensions": {
     "jupyter_dashboards": {
      "version": 1,
      "views": {
       "grid_default": {},
       "report_default": {
        "hidden": true
       }
      }
     }
    }
   },
   "outputs": [],
   "source": []
  },
  {
   "cell_type": "code",
   "execution_count": 5,
   "metadata": {
    "ExecuteTime": {
     "end_time": "2019-01-20T20:17:58.548491Z",
     "start_time": "2019-01-20T20:17:53.832222Z"
    },
    "extensions": {
     "jupyter_dashboards": {
      "version": 1,
      "views": {
       "grid_default": {},
       "report_default": {
        "hidden": true
       }
      }
     }
    }
   },
   "outputs": [],
   "source": [
    "# create ML model\n",
    "#ML_model = RandomForestClassifier(n_estimators=500, max_leaf_nodes=40, n_jobs=-1, random_state=42)\n",
    "ML_model = make_pipeline(StandardScaler(), SVC(random_state=42, probability=True)) # Support Vector Classifier with input scaling\n",
    "#ML_model = make_pipeline(StandardScaler(), LDA()) # Linear Discriminant Analysis with input scaling\n",
    "#ML_model = make_pipeline(StandardScaler(), LogisticRegression(random_state=42, \n",
    "#                                                              solver='lbfgs', \n",
    "#                                                              multi_class='multinomial',\n",
    "#                                                              max_iter=1000,\n",
    "#                                                              n_jobs=-1)) # Logistic Regression with input scaling\n",
    "#ML_model = make_pipeline(StandardScaler(), MLPClassifier(hidden_layer_sizes=(100), \n",
    "#                                                         activation='relu', \n",
    "#                                                         solver='adam', # 'adam''lbfgs'\n",
    "#                                                         alpha=0.2, \n",
    "#                                                         batch_size='auto', \n",
    "#                                                         learning_rate='constant', \n",
    "#                                                         learning_rate_init=0.001, \n",
    "#                                                         max_iter=500, \n",
    "#                                                         shuffle=True, \n",
    "#                                                         random_state=42))\n",
    "\n",
    "# train the model\n",
    "ML_model.fit(PD1.X_train(), PD1.y_train())\n",
    "\n",
    "# predict labels\n",
    "y_pred = ML_model.predict(PD1.X_test())"
   ]
  },
  {
   "cell_type": "code",
   "execution_count": 6,
   "metadata": {
    "ExecuteTime": {
     "end_time": "2019-01-20T20:17:58.601494Z",
     "start_time": "2019-01-20T20:17:58.551491Z"
    },
    "extensions": {
     "jupyter_dashboards": {
      "version": 1,
      "views": {
       "grid_default": {},
       "report_default": {
        "hidden": false
       }
      }
     }
    }
   },
   "outputs": [
    {
     "name": "stdout",
     "output_type": "stream",
     "text": [
      "Model: Pipeline\n",
      "\n",
      "Total Accuracy: 98.73%\n",
      "\n"
     ]
    },
    {
     "data": {
      "text/html": [
       "<div>\n",
       "<style>\n",
       "    .dataframe thead tr:only-child th {\n",
       "        text-align: right;\n",
       "    }\n",
       "\n",
       "    .dataframe thead th {\n",
       "        text-align: left;\n",
       "    }\n",
       "\n",
       "    .dataframe tbody tr th {\n",
       "        vertical-align: top;\n",
       "    }\n",
       "</style>\n",
       "<table border=\"1\" class=\"dataframe\">\n",
       "  <thead>\n",
       "    <tr style=\"text-align: right;\">\n",
       "      <th></th>\n",
       "      <th>precision</th>\n",
       "      <th>recall</th>\n",
       "      <th>f1-score</th>\n",
       "      <th>support</th>\n",
       "    </tr>\n",
       "  </thead>\n",
       "  <tbody>\n",
       "    <tr>\n",
       "      <th>BC</th>\n",
       "      <td>1.000000</td>\n",
       "      <td>1.000000</td>\n",
       "      <td>1.000000</td>\n",
       "      <td>31</td>\n",
       "    </tr>\n",
       "    <tr>\n",
       "      <th>LR</th>\n",
       "      <td>1.000000</td>\n",
       "      <td>1.000000</td>\n",
       "      <td>1.000000</td>\n",
       "      <td>30</td>\n",
       "    </tr>\n",
       "    <tr>\n",
       "      <th>MP</th>\n",
       "      <td>0.810811</td>\n",
       "      <td>1.000000</td>\n",
       "      <td>0.895522</td>\n",
       "      <td>30</td>\n",
       "    </tr>\n",
       "    <tr>\n",
       "      <th>NE</th>\n",
       "      <td>1.000000</td>\n",
       "      <td>0.980344</td>\n",
       "      <td>0.990074</td>\n",
       "      <td>407</td>\n",
       "    </tr>\n",
       "    <tr>\n",
       "      <th>P1</th>\n",
       "      <td>1.000000</td>\n",
       "      <td>1.000000</td>\n",
       "      <td>1.000000</td>\n",
       "      <td>30</td>\n",
       "    </tr>\n",
       "    <tr>\n",
       "      <th>P2</th>\n",
       "      <td>0.967742</td>\n",
       "      <td>1.000000</td>\n",
       "      <td>0.983607</td>\n",
       "      <td>30</td>\n",
       "    </tr>\n",
       "    <tr>\n",
       "      <th>RF</th>\n",
       "      <td>0.967742</td>\n",
       "      <td>1.000000</td>\n",
       "      <td>0.983607</td>\n",
       "      <td>30</td>\n",
       "    </tr>\n",
       "    <tr>\n",
       "      <th>RO</th>\n",
       "      <td>1.000000</td>\n",
       "      <td>0.966667</td>\n",
       "      <td>0.983051</td>\n",
       "      <td>30</td>\n",
       "    </tr>\n",
       "    <tr>\n",
       "      <th>RS</th>\n",
       "      <td>1.000000</td>\n",
       "      <td>1.000000</td>\n",
       "      <td>1.000000</td>\n",
       "      <td>30</td>\n",
       "    </tr>\n",
       "    <tr>\n",
       "      <th>SA</th>\n",
       "      <td>1.000000</td>\n",
       "      <td>1.000000</td>\n",
       "      <td>1.000000</td>\n",
       "      <td>31</td>\n",
       "    </tr>\n",
       "    <tr>\n",
       "      <th>TC</th>\n",
       "      <td>1.000000</td>\n",
       "      <td>1.000000</td>\n",
       "      <td>1.000000</td>\n",
       "      <td>30</td>\n",
       "    </tr>\n",
       "    <tr>\n",
       "      <th>macro avg</th>\n",
       "      <td>0.976936</td>\n",
       "      <td>0.995183</td>\n",
       "      <td>0.985078</td>\n",
       "      <td>709</td>\n",
       "    </tr>\n",
       "    <tr>\n",
       "      <th>micro avg</th>\n",
       "      <td>0.987306</td>\n",
       "      <td>0.987306</td>\n",
       "      <td>0.987306</td>\n",
       "      <td>709</td>\n",
       "    </tr>\n",
       "    <tr>\n",
       "      <th>weighted avg</th>\n",
       "      <td>0.989265</td>\n",
       "      <td>0.987306</td>\n",
       "      <td>0.987777</td>\n",
       "      <td>709</td>\n",
       "    </tr>\n",
       "  </tbody>\n",
       "</table>\n",
       "</div>"
      ],
      "text/plain": [
       "              precision    recall  f1-score  support\n",
       "BC             1.000000  1.000000  1.000000       31\n",
       "LR             1.000000  1.000000  1.000000       30\n",
       "MP             0.810811  1.000000  0.895522       30\n",
       "NE             1.000000  0.980344  0.990074      407\n",
       "P1             1.000000  1.000000  1.000000       30\n",
       "P2             0.967742  1.000000  0.983607       30\n",
       "RF             0.967742  1.000000  0.983607       30\n",
       "RO             1.000000  0.966667  0.983051       30\n",
       "RS             1.000000  1.000000  1.000000       30\n",
       "SA             1.000000  1.000000  1.000000       31\n",
       "TC             1.000000  1.000000  1.000000       30\n",
       "macro avg      0.976936  0.995183  0.985078      709\n",
       "micro avg      0.987306  0.987306  0.987306      709\n",
       "weighted avg   0.989265  0.987306  0.987777      709"
      ]
     },
     "metadata": {},
     "output_type": "display_data"
    },
    {
     "name": "stdout",
     "output_type": "stream",
     "text": [
      "\n",
      "9 misclassified (709 test data points):\n",
      "RO classified as RF\n",
      "NE classified as P2\n",
      "NE classified as MP\n",
      "NE classified as MP\n",
      "NE classified as MP\n",
      "NE classified as MP\n",
      "NE classified as MP\n",
      "NE classified as MP\n",
      "NE classified as MP\n"
     ]
    }
   ],
   "source": [
    "# show results\n",
    "print('Model: ' + type(ML_model).__name__ + '\\n')\n",
    "print('Total Accuracy: {:.2f}%\\n'.format((accuracy_score(PD1.y_test(), y_pred))*100))\n",
    "#print_precision_recall_accuracy(y_pred, PD1.y_test())\n",
    "report = classification_report(PD1.y_test(), y_pred, \n",
    "                               labels=np.arange(0,11),\n",
    "                               target_names=['RF','RO','RS','LR','BC','TC','MP','SA','P1','P2','NE'],\n",
    "                               sample_weight=None, output_dict=True)\n",
    "report_df = pd.DataFrame.from_dict(report, orient='index')\n",
    "display(report_df)\n",
    "print('')\n",
    "print_misclassified_data_points(y_pred, PD1.y_test())"
   ]
  },
  {
   "cell_type": "code",
   "execution_count": 7,
   "metadata": {
    "ExecuteTime": {
     "end_time": "2019-01-20T20:18:10.371168Z",
     "start_time": "2019-01-20T20:17:58.607495Z"
    },
    "extensions": {
     "jupyter_dashboards": {
      "version": 1,
      "views": {
       "grid_default": {},
       "report_default": {
        "hidden": false
       }
      }
     }
    }
   },
   "outputs": [
    {
     "name": "stdout",
     "output_type": "stream",
     "text": [
      "Generate feature map... 100%\n"
     ]
    },
    {
     "data": {
      "text/plain": [
       "(210945, 60)"
      ]
     },
     "execution_count": 7,
     "metadata": {},
     "output_type": "execute_result"
    }
   ],
   "source": [
    "PD1_wp = PDH.PhysioData_WindowingProcedure(test_subject_dir  = r'E:\\Physio_Data\\Subject_01',\n",
    "                                           test_subject_file = 'subject01.csv',\n",
    "                                           number_sections=10,\n",
    "                                           signal_abbrs=['Acc','Gyr'],\n",
    "                                           signal_orientations=['x','y','z'],\n",
    "                                           sampling_rate=256,\n",
    "                                           cutoff=10,\n",
    "                                           order=6,\n",
    "                                           win_start_inc=0.2,\n",
    "                                           win_stretch_inc=0.2,\n",
    "                                           win_min_len=1,\n",
    "                                           win_max_len=5,\n",
    "                                           win_start_min_sec='00:00.0', # '22:05.0'\n",
    "                                           win_last_start_min_sec=None, #'22:44.8',\n",
    "                                           print_progress=True,\n",
    "                                           progress_info='Generate feature map...',\n",
    "                                           rot_axis=0,\n",
    "                                           rot_angle=0,\n",
    "                                           add_noise=False,\n",
    "                                           target_snr_db=20,\n",
    "                                           csv_skiprows=0,\n",
    "                                           csv_separator=',',\n",
    "                                           exercise_abbrs=['RF','RO','RS','LR','BC','TC','MP','SA','P1','P2','NE'],\n",
    "                                           exercise_abbrs_peak_eval=['RF','RO','RS','LR','BC','TC','MP','SA','P1','P2'])\n",
    "\n",
    "np.shape(PD1_wp.get_feature_map())"
   ]
  },
  {
   "cell_type": "code",
   "execution_count": 8,
   "metadata": {
    "ExecuteTime": {
     "end_time": "2019-01-20T20:18:33.123469Z",
     "start_time": "2019-01-20T20:18:10.376168Z"
    },
    "extensions": {
     "jupyter_dashboards": {
      "version": 1,
      "views": {
       "grid_default": {},
       "report_default": {
        "hidden": false
       }
      }
     }
    }
   },
   "outputs": [
    {
     "data": {
      "text/plain": [
       "(210945, 11)"
      ]
     },
     "execution_count": 8,
     "metadata": {},
     "output_type": "execute_result"
    }
   ],
   "source": [
    "pred_probs = ML_model.predict_proba(PD1_wp.get_feature_map())\n",
    "np.shape(pred_probs)"
   ]
  },
  {
   "cell_type": "code",
   "execution_count": 9,
   "metadata": {
    "ExecuteTime": {
     "end_time": "2019-01-20T20:18:34.543550Z",
     "start_time": "2019-01-20T20:18:33.131469Z"
    },
    "extensions": {
     "jupyter_dashboards": {
      "version": 1,
      "views": {
       "grid_default": {},
       "report_default": {
        "hidden": false
       }
      }
     }
    },
    "scrolled": true
   },
   "outputs": [
    {
     "name": "stdout",
     "output_type": "stream",
     "text": [
      "\n",
      "Exercise: RF\n",
      "Number of blocks: 3\n",
      "\n",
      "\tBlock #1:\n",
      "\t\tRepetitions: 10\n",
      "\t\tTime range: 13:44.0 - 14:13.6\n",
      "\t\tRepetition lengths [s] and predicted prob.: \n",
      "\t\t\t  1\t3.00\t(0.988)\n",
      "\t\t\t  2\t3.20\t(0.988)\n",
      "\t\t\t  3\t3.00\t(0.993)\n",
      "\t\t\t  4\t2.80\t(0.986)\n",
      "\t\t\t  5\t3.00\t(0.993)\n",
      "\t\t\t  6\t3.00\t(0.988)\n",
      "\t\t\t  7\t3.00\t(0.992)\n",
      "\t\t\t  8\t3.20\t(0.991)\n",
      "\t\t\t  9\t3.40\t(0.983)\n",
      "\t\t\t 10\t3.20\t(0.985)\n",
      "\tBlock #2:\n",
      "\t\tRepetitions: 15\n",
      "\t\tTime range: 14:39.6 - 15:19.2\n",
      "\t\tRepetition lengths [s] and predicted prob.: \n",
      "\t\t\t  1\t2.80\t(0.986)\n",
      "\t\t\t  2\t3.00\t(0.990)\n",
      "\t\t\t  3\t2.80\t(0.992)\n",
      "\t\t\t  4\t3.00\t(0.991)\n",
      "\t\t\t  5\t2.80\t(0.988)\n",
      "\t\t\t  6\t2.60\t(0.991)\n",
      "\t\t\t  7\t3.00\t(0.989)\n",
      "\t\t\t  8\t3.00\t(0.990)\n",
      "\t\t\t  9\t2.80\t(0.988)\n",
      "\t\t\t 10\t2.60\t(0.989)\n",
      "\t\t\t 11\t2.60\t(0.988)\n",
      "\t\t\t 12\t2.80\t(0.990)\n",
      "\t\t\t 13\t2.80\t(0.987)\n",
      "\t\t\t 14\t2.80\t(0.987)\n",
      "\t\t\t 15\t2.80\t(0.992)\n",
      "\tBlock #3:\n",
      "\t\tRepetitions: 5\n",
      "\t\tTime range: 16:08.4 - 16:22.6\n",
      "\t\tRepetition lengths [s] and predicted prob.: \n",
      "\t\t\t  1\t3.00\t(0.987)\n",
      "\t\t\t  2\t3.00\t(0.988)\n",
      "\t\t\t  3\t3.00\t(0.993)\n",
      "\t\t\t  4\t2.80\t(0.985)\n",
      "\t\t\t  5\t3.20\t(0.992)\n",
      "\n",
      "Exercise: RO\n",
      "Number of blocks: 3\n",
      "\n",
      "\tBlock #1:\n",
      "\t\tRepetitions: 15\n",
      "\t\tTime range: 01:17.6 - 01:57.0\n",
      "\t\tRepetition lengths [s] and predicted prob.: \n",
      "\t\t\t  1\t2.60\t(0.960)\n",
      "\t\t\t  2\t2.80\t(0.910)\n",
      "\t\t\t  3\t2.80\t(0.980)\n",
      "\t\t\t  4\t2.80\t(0.978)\n",
      "\t\t\t  5\t2.40\t(0.980)\n",
      "\t\t\t  6\t3.00\t(0.970)\n",
      "\t\t\t  7\t2.40\t(0.986)\n",
      "\t\t\t  8\t2.80\t(0.982)\n",
      "\t\t\t  9\t2.60\t(0.979)\n",
      "\t\t\t 10\t3.00\t(0.964)\n",
      "\t\t\t 11\t2.60\t(0.982)\n",
      "\t\t\t 12\t2.80\t(0.984)\n",
      "\t\t\t 13\t2.60\t(0.984)\n",
      "\t\t\t 14\t2.40\t(0.976)\n",
      "\t\t\t 15\t2.40\t(0.976)\n",
      "\tBlock #2:\n",
      "\t\tRepetitions: 5\n",
      "\t\tTime range: 02:20.8 - 02:36.2\n",
      "\t\tRepetition lengths [s] and predicted prob.: \n",
      "\t\t\t  1\t3.00\t(0.981)\n",
      "\t\t\t  2\t2.60\t(0.973)\n",
      "\t\t\t  3\t2.60\t(0.954)\n",
      "\t\t\t  4\t2.80\t(0.962)\n",
      "\t\t\t  5\t3.00\t(0.983)\n",
      "\tBlock #3:\n",
      "\t\tRepetitions: 10\n",
      "\t\tTime range: 02:54.0 - 03:22.6\n",
      "\t\tRepetition lengths [s] and predicted prob.: \n",
      "\t\t\t  1\t2.80\t(0.953)\n",
      "\t\t\t  2\t2.60\t(0.960)\n",
      "\t\t\t  3\t2.60\t(0.985)\n",
      "\t\t\t  4\t2.80\t(0.985)\n",
      "\t\t\t  5\t2.80\t(0.991)\n",
      "\t\t\t  6\t2.60\t(0.989)\n",
      "\t\t\t  7\t2.60\t(0.987)\n",
      "\t\t\t  8\t2.80\t(0.981)\n",
      "\t\t\t  9\t2.80\t(0.989)\n",
      "\t\t\t 10\t3.00\t(0.987)\n",
      "\n",
      "Exercise: RS\n",
      "Number of blocks: 3\n",
      "\n",
      "\tBlock #1:\n",
      "\t\tRepetitions: 15\n",
      "\t\tTime range: 20:12.2 - 20:59.4\n",
      "\t\tRepetition lengths [s] and predicted prob.: \n",
      "\t\t\t  1\t3.40\t(0.979)\n",
      "\t\t\t  2\t3.00\t(0.982)\n",
      "\t\t\t  3\t3.00\t(0.986)\n",
      "\t\t\t  4\t3.20\t(0.988)\n",
      "\t\t\t  5\t3.00\t(0.988)\n",
      "\t\t\t  6\t3.00\t(0.989)\n",
      "\t\t\t  7\t3.20\t(0.980)\n",
      "\t\t\t  8\t3.20\t(0.990)\n",
      "\t\t\t  9\t3.00\t(0.985)\n",
      "\t\t\t 10\t3.40\t(0.975)\n",
      "\t\t\t 11\t2.80\t(0.987)\n",
      "\t\t\t 12\t3.00\t(0.985)\n",
      "\t\t\t 13\t3.00\t(0.988)\n",
      "\t\t\t 14\t3.20\t(0.986)\n",
      "\t\t\t 15\t3.20\t(0.986)\n",
      "\tBlock #2:\n",
      "\t\tRepetitions: 5\n",
      "\t\tTime range: 21:24.2 - 21:39.8\n",
      "\t\tRepetition lengths [s] and predicted prob.: \n",
      "\t\t\t  1\t2.60\t(0.991)\n",
      "\t\t\t  2\t3.20\t(0.986)\n",
      "\t\t\t  3\t3.00\t(0.990)\n",
      "\t\t\t  4\t3.00\t(0.989)\n",
      "\t\t\t  5\t3.60\t(0.984)\n",
      "\tBlock #3:\n",
      "\t\tRepetitions: 10\n",
      "\t\tTime range: 22:08.8 - 22:37.2\n",
      "\t\tRepetition lengths [s] and predicted prob.: \n",
      "\t\t\t  1\t2.80\t(0.987)\n",
      "\t\t\t  2\t2.60\t(0.989)\n",
      "\t\t\t  3\t2.80\t(0.987)\n",
      "\t\t\t  4\t3.00\t(0.986)\n",
      "\t\t\t  5\t3.00\t(0.986)\n",
      "\t\t\t  6\t2.80\t(0.988)\n",
      "\t\t\t  7\t3.20\t(0.986)\n",
      "\t\t\t  8\t2.80\t(0.988)\n",
      "\t\t\t  9\t3.00\t(0.977)\n",
      "\t\t\t 10\t2.80\t(0.992)\n",
      "\n",
      "Exercise: LR\n",
      "Number of blocks: 3\n",
      "\n",
      "\tBlock #1:\n",
      "\t\tRepetitions: 5\n",
      "\t\tTime range: 10:42.4 - 10:56.0\n",
      "\t\tRepetition lengths [s] and predicted prob.: \n",
      "\t\t\t  1\t2.20\t(0.991)\n",
      "\t\t\t  2\t2.40\t(0.989)\n",
      "\t\t\t  3\t2.80\t(0.989)\n",
      "\t\t\t  4\t2.60\t(0.989)\n",
      "\t\t\t  5\t2.60\t(0.992)\n",
      "\tBlock #2:\n",
      "\t\tRepetitions: 10\n",
      "\t\tTime range: 11:24.6 - 11:50.8\n",
      "\t\tRepetition lengths [s] and predicted prob.: \n",
      "\t\t\t  1\t2.20\t(0.989)\n",
      "\t\t\t  2\t2.60\t(0.982)\n",
      "\t\t\t  3\t2.60\t(0.988)\n",
      "\t\t\t  4\t3.00\t(0.982)\n",
      "\t\t\t  5\t3.00\t(0.985)\n",
      "\t\t\t  6\t2.60\t(0.990)\n",
      "\t\t\t  7\t2.60\t(0.987)\n",
      "\t\t\t  8\t2.40\t(0.981)\n",
      "\t\t\t  9\t2.60\t(0.983)\n",
      "\t\t\t 10\t2.80\t(0.973)\n",
      "\tBlock #3:\n",
      "\t\tRepetitions: 15\n",
      "\t\tTime range: 12:11.4 - 12:51.2\n",
      "\t\tRepetition lengths [s] and predicted prob.: \n",
      "\t\t\t  1\t2.20\t(0.991)\n",
      "\t\t\t  2\t2.40\t(0.990)\n",
      "\t\t\t  3\t2.60\t(0.986)\n",
      "\t\t\t  4\t2.40\t(0.987)\n",
      "\t\t\t  5\t2.20\t(0.981)\n",
      "\t\t\t  6\t2.80\t(0.985)\n",
      "\t\t\t  7\t3.00\t(0.978)\n",
      "\t\t\t  8\t2.40\t(0.988)\n",
      "\t\t\t  9\t2.40\t(0.989)\n",
      "\t\t\t 10\t2.60\t(0.988)\n",
      "\t\t\t 11\t2.60\t(0.984)\n",
      "\t\t\t 12\t2.40\t(0.981)\n",
      "\t\t\t 13\t2.40\t(0.987)\n",
      "\t\t\t 14\t2.40\t(0.989)\n",
      "\t\t\t 15\t2.60\t(0.984)\n",
      "\n",
      "Exercise: BC\n",
      "Number of blocks: 3\n",
      "\n",
      "\tBlock #1:\n",
      "\t\tRepetitions: 15\n",
      "\t\tTime range: 16:49.8 - 17:29.2\n",
      "\t\tRepetition lengths [s] and predicted prob.: \n",
      "\t\t\t  1\t2.40\t(0.989)\n",
      "\t\t\t  2\t2.60\t(0.994)\n",
      "\t\t\t  3\t2.60\t(0.992)\n",
      "\t\t\t  4\t2.60\t(0.993)\n",
      "\t\t\t  5\t2.60\t(0.992)\n",
      "\t\t\t  6\t2.60\t(0.991)\n",
      "\t\t\t  7\t2.40\t(0.990)\n",
      "\t\t\t  8\t2.80\t(0.993)\n",
      "\t\t\t  9\t2.60\t(0.992)\n",
      "\t\t\t 10\t2.80\t(0.993)\n",
      "\t\t\t 11\t2.60\t(0.991)\n",
      "\t\t\t 12\t2.60\t(0.992)\n",
      "\t\t\t 13\t2.60\t(0.992)\n",
      "\t\t\t 14\t2.80\t(0.993)\n",
      "\t\t\t 15\t2.60\t(0.990)\n",
      "\tBlock #2:\n",
      "\t\tRepetitions: 11\n",
      "\t\tTime range: 18:00.4 - 18:31.4\n",
      "\t\tRepetition lengths [s] and predicted prob.: \n",
      "\t\t\t  1\t2.60\t(0.989)\n",
      "\t\t\t  2\t2.60\t(0.993)\n",
      "\t\t\t  3\t2.80\t(0.993)\n",
      "\t\t\t  4\t3.00\t(0.992)\n",
      "\t\t\t  5\t2.80\t(0.990)\n",
      "\t\t\t  6\t2.80\t(0.992)\n",
      "\t\t\t  7\t2.80\t(0.991)\n",
      "\t\t\t  8\t2.40\t(0.991)\n",
      "\t\t\t  9\t2.80\t(0.992)\n",
      "\t\t\t 10\t2.80\t(0.994)\n",
      "\t\t\t 11\t2.80\t(0.990)\n",
      "\tBlock #3:\n",
      "\t\tRepetitions: 5\n",
      "\t\tTime range: 18:57.8 - 19:11.2\n",
      "\t\tRepetition lengths [s] and predicted prob.: \n",
      "\t\t\t  1\t2.40\t(0.990)\n",
      "\t\t\t  2\t2.40\t(0.990)\n",
      "\t\t\t  3\t2.60\t(0.977)\n",
      "\t\t\t  4\t3.00\t(0.993)\n",
      "\t\t\t  5\t3.00\t(0.991)\n",
      "\n",
      "Exercise: TC\n",
      "Number of blocks: 3\n",
      "\n",
      "\tBlock #1:\n",
      "\t\tRepetitions: 15\n",
      "\t\tTime range: 07:31.2 - 08:14.2\n",
      "\t\tRepetition lengths [s] and predicted prob.: \n",
      "\t\t\t  1\t2.60\t(0.992)\n",
      "\t\t\t  2\t2.60\t(0.990)\n",
      "\t\t\t  3\t2.80\t(0.993)\n",
      "\t\t\t  4\t2.60\t(0.991)\n",
      "\t\t\t  5\t2.80\t(0.990)\n",
      "\t\t\t  6\t3.00\t(0.993)\n",
      "\t\t\t  7\t3.00\t(0.985)\n",
      "\t\t\t  8\t2.80\t(0.993)\n",
      "\t\t\t  9\t2.80\t(0.992)\n",
      "\t\t\t 10\t3.00\t(0.986)\n",
      "\t\t\t 11\t3.00\t(0.993)\n",
      "\t\t\t 12\t2.80\t(0.992)\n",
      "\t\t\t 13\t3.20\t(0.981)\n",
      "\t\t\t 14\t3.20\t(0.993)\n",
      "\t\t\t 15\t3.40\t(0.989)\n",
      "\tBlock #2:\n",
      "\t\tRepetitions: 5\n",
      "\t\tTime range: 08:48.6 - 09:03.8\n",
      "\t\tRepetition lengths [s] and predicted prob.: \n",
      "\t\t\t  1\t2.60\t(0.989)\n",
      "\t\t\t  2\t2.40\t(0.987)\n",
      "\t\t\t  3\t2.80\t(0.992)\n",
      "\t\t\t  4\t2.80\t(0.989)\n",
      "\t\t\t  5\t3.40\t(0.990)\n",
      "\tBlock #3:\n",
      "\t\tRepetitions: 10\n",
      "\t\tTime range: 09:45.0 - 10:12.0\n",
      "\t\tRepetition lengths [s] and predicted prob.: \n",
      "\t\t\t  1\t2.60\t(0.980)\n",
      "\t\t\t  2\t2.60\t(0.977)\n",
      "\t\t\t  3\t2.60\t(0.988)\n",
      "\t\t\t  4\t2.60\t(0.985)\n",
      "\t\t\t  5\t2.40\t(0.963)\n",
      "\t\t\t  6\t2.20\t(0.984)\n",
      "\t\t\t  7\t2.60\t(0.992)\n",
      "\t\t\t  8\t3.00\t(0.993)\n",
      "\t\t\t  9\t3.20\t(0.989)\n",
      "\t\t\t 10\t3.60\t(0.993)\n",
      "\n",
      "Exercise: MP\n",
      "Number of blocks: 4\n",
      "\n",
      "\tBlock #1:\n",
      "\t\tRepetitions: 10\n",
      "\t\tTime range: 29:38.4 - 30:09.2\n",
      "\t\tRepetition lengths [s] and predicted prob.: \n",
      "\t\t\t  1\t2.60\t(0.953)\n",
      "\t\t\t  2\t5.00\t(0.963)\n",
      "\t\t\t  3\t3.00\t(0.968)\n",
      "\t\t\t  4\t1.60\t(0.966)\n",
      "\t\t\t  5\t2.20\t(0.965)\n",
      "\t\t\t  6\t1.40\t(0.967)\n",
      "\t\t\t  7\t1.40\t(0.965)\n",
      "\t\t\t  8\t1.20\t(0.960)\n",
      "\t\t\t  9\t1.20\t(0.975)\n",
      "\t\t\t 10\t1.60\t(0.976)\n",
      "\tBlock #2:\n",
      "\t\tRepetitions: 7\n",
      "\t\tTime range: 30:14.2 - 30:36.2\n",
      "\t\tRepetition lengths [s] and predicted prob.: \n",
      "\t\t\t  1\t1.00\t(0.969)\n",
      "\t\t\t  2\t1.00\t(0.965)\n",
      "\t\t\t  3\t1.60\t(0.962)\n",
      "\t\t\t  4\t1.20\t(0.967)\n",
      "\t\t\t  5\t2.80\t(0.961)\n",
      "\t\t\t  6\t1.00\t(0.961)\n",
      "\t\t\t  7\t1.40\t(0.937)\n",
      "\tBlock #3:\n",
      "\t\tRepetitions: 11\n",
      "\t\tTime range: 31:13.4 - 31:46.6\n",
      "\t\tRepetition lengths [s] and predicted prob.: \n",
      "\t\t\t  1\t1.40\t(0.946)\n",
      "\t\t\t  2\t1.00\t(0.969)\n",
      "\t\t\t  3\t4.60\t(0.935)\n",
      "\t\t\t  4\t2.60\t(0.916)\n",
      "\t\t\t  5\t3.40\t(0.913)\n",
      "\t\t\t  6\t1.00\t(0.934)\n",
      "\t\t\t  7\t5.00\t(0.891)\n",
      "\t\t\t  8\t1.00\t(0.929)\n",
      "\t\t\t  9\t1.40\t(0.910)\n",
      "\t\t\t 10\t1.20\t(0.917)\n",
      "\t\t\t 11\t1.20\t(0.931)\n",
      "\tBlock #4:\n",
      "\t\tRepetitions: 6\n",
      "\t\tTime range: 32:11.4 - 32:27.8\n",
      "\t\tRepetition lengths [s] and predicted prob.: \n",
      "\t\t\t  1\t3.60\t(0.953)\n",
      "\t\t\t  2\t1.00\t(0.966)\n",
      "\t\t\t  3\t1.40\t(0.937)\n",
      "\t\t\t  4\t1.40\t(0.953)\n",
      "\t\t\t  5\t2.00\t(0.954)\n",
      "\t\t\t  6\t1.40\t(0.924)\n",
      "\n",
      "Exercise: SA\n",
      "Number of blocks: 3\n",
      "\n",
      "\tBlock #1:\n",
      "\t\tRepetitions: 5\n",
      "\t\tTime range: 26:47.8 - 27:04.2\n",
      "\t\tRepetition lengths [s] and predicted prob.: \n",
      "\t\t\t  1\t2.60\t(0.990)\n",
      "\t\t\t  2\t2.40\t(0.993)\n",
      "\t\t\t  3\t3.20\t(0.989)\n",
      "\t\t\t  4\t3.20\t(0.994)\n",
      "\t\t\t  5\t3.20\t(0.992)\n",
      "\tBlock #2:\n",
      "\t\tRepetitions: 16\n",
      "\t\tTime range: 27:24.6 - 28:15.6\n",
      "\t\tRepetition lengths [s] and predicted prob.: \n",
      "\t\t\t  1\t2.40\t(0.992)\n",
      "\t\t\t  2\t2.60\t(0.992)\n",
      "\t\t\t  3\t3.20\t(0.991)\n",
      "\t\t\t  4\t3.00\t(0.993)\n",
      "\t\t\t  5\t3.20\t(0.990)\n",
      "\t\t\t  6\t3.20\t(0.987)\n",
      "\t\t\t  7\t3.00\t(0.992)\n",
      "\t\t\t  8\t2.80\t(0.991)\n",
      "\t\t\t  9\t3.00\t(0.995)\n",
      "\t\t\t 10\t2.80\t(0.992)\n",
      "\t\t\t 11\t3.00\t(0.992)\n",
      "\t\t\t 12\t3.20\t(0.993)\n",
      "\t\t\t 13\t3.40\t(0.990)\n",
      "\t\t\t 14\t3.00\t(0.989)\n",
      "\t\t\t 15\t3.20\t(0.989)\n",
      "\t\t\t 16\t3.00\t(0.992)\n",
      "\tBlock #3:\n",
      "\t\tRepetitions: 10\n",
      "\t\tTime range: 28:40.2 - 29:10.2\n",
      "\t\tRepetition lengths [s] and predicted prob.: \n",
      "\t\t\t  1\t2.80\t(0.991)\n",
      "\t\t\t  2\t3.20\t(0.993)\n",
      "\t\t\t  3\t2.60\t(0.992)\n",
      "\t\t\t  4\t3.00\t(0.991)\n",
      "\t\t\t  5\t2.60\t(0.992)\n",
      "\t\t\t  6\t2.80\t(0.994)\n",
      "\t\t\t  7\t3.00\t(0.986)\n",
      "\t\t\t  8\t3.40\t(0.983)\n",
      "\t\t\t  9\t3.00\t(0.988)\n",
      "\t\t\t 10\t3.00\t(0.991)\n",
      "\n",
      "Exercise: P1\n",
      "Number of blocks: 3\n",
      "\n",
      "\tBlock #1:\n",
      "\t\tRepetitions: 10\n",
      "\t\tTime range: 23:43.0 - 24:15.2\n",
      "\t\tRepetition lengths [s] and predicted prob.: \n",
      "\t\t\t  1\t2.80\t(0.994)\n",
      "\t\t\t  2\t3.20\t(0.996)\n",
      "\t\t\t  3\t3.00\t(0.997)\n",
      "\t\t\t  4\t3.40\t(0.996)\n",
      "\t\t\t  5\t2.80\t(0.995)\n",
      "\t\t\t  6\t2.60\t(0.989)\n",
      "\t\t\t  7\t2.60\t(0.995)\n",
      "\t\t\t  8\t2.80\t(0.997)\n",
      "\t\t\t  9\t3.20\t(0.995)\n",
      "\t\t\t 10\t2.60\t(0.994)\n",
      "\tBlock #2:\n",
      "\t\tRepetitions: 15\n",
      "\t\tTime range: 24:41.2 - 25:24.2\n",
      "\t\tRepetition lengths [s] and predicted prob.: \n",
      "\t\t\t  1\t2.60\t(0.995)\n",
      "\t\t\t  2\t3.00\t(0.993)\n",
      "\t\t\t  3\t2.80\t(0.995)\n",
      "\t\t\t  4\t2.60\t(0.993)\n",
      "\t\t\t  5\t2.80\t(0.994)\n",
      "\t\t\t  6\t2.60\t(0.982)\n",
      "\t\t\t  7\t2.00\t(0.964)\n",
      "\t\t\t  8\t3.20\t(0.985)\n",
      "\t\t\t  9\t2.80\t(0.992)\n",
      "\t\t\t 10\t2.80\t(0.991)\n",
      "\t\t\t 11\t3.00\t(0.989)\n",
      "\t\t\t 12\t2.00\t(0.992)\n",
      "\t\t\t 13\t2.40\t(0.993)\n",
      "\t\t\t 14\t2.80\t(0.990)\n",
      "\t\t\t 15\t2.80\t(0.995)\n",
      "\tBlock #3:\n",
      "\t\tRepetitions: 5\n",
      "\t\tTime range: 25:47.8 - 26:02.4\n",
      "\t\tRepetition lengths [s] and predicted prob.: \n",
      "\t\t\t  1\t2.80\t(0.991)\n",
      "\t\t\t  2\t2.60\t(0.992)\n",
      "\t\t\t  3\t2.80\t(0.992)\n",
      "\t\t\t  4\t2.60\t(0.989)\n",
      "\t\t\t  5\t2.40\t(0.983)\n",
      "\n",
      "Exercise: P2\n",
      "Number of blocks: 3\n",
      "\n",
      "\tBlock #1:\n",
      "\t\tRepetitions: 10\n",
      "\t\tTime range: 04:26.2 - 04:53.2\n",
      "\t\tRepetition lengths [s] and predicted prob.: \n",
      "\t\t\t  1\t2.60\t(0.990)\n",
      "\t\t\t  2\t2.60\t(0.984)\n",
      "\t\t\t  3\t2.60\t(0.973)\n",
      "\t\t\t  4\t3.00\t(0.974)\n",
      "\t\t\t  5\t2.60\t(0.981)\n",
      "\t\t\t  6\t3.00\t(0.980)\n",
      "\t\t\t  7\t2.20\t(0.979)\n",
      "\t\t\t  8\t2.40\t(0.982)\n",
      "\t\t\t  9\t2.60\t(0.989)\n",
      "\t\t\t 10\t2.60\t(0.982)\n",
      "\tBlock #2:\n",
      "\t\tRepetitions: 5\n",
      "\t\tTime range: 05:23.6 - 05:37.8\n",
      "\t\tRepetition lengths [s] and predicted prob.: \n",
      "\t\t\t  1\t2.60\t(0.986)\n",
      "\t\t\t  2\t2.80\t(0.989)\n",
      "\t\t\t  3\t2.60\t(0.979)\n",
      "\t\t\t  4\t2.80\t(0.984)\n",
      "\t\t\t  5\t2.80\t(0.991)\n",
      "\tBlock #3:\n",
      "\t\tRepetitions: 15\n",
      "\t\tTime range: 06:24.6 - 07:04.4\n",
      "\t\tRepetition lengths [s] and predicted prob.: \n",
      "\t\t\t  1\t2.40\t(0.972)\n",
      "\t\t\t  2\t2.40\t(0.986)\n",
      "\t\t\t  3\t2.60\t(0.970)\n",
      "\t\t\t  4\t3.00\t(0.985)\n",
      "\t\t\t  5\t2.60\t(0.987)\n",
      "\t\t\t  6\t2.20\t(0.976)\n",
      "\t\t\t  7\t2.40\t(0.990)\n",
      "\t\t\t  8\t2.40\t(0.991)\n",
      "\t\t\t  9\t3.00\t(0.974)\n",
      "\t\t\t 10\t3.20\t(0.977)\n",
      "\t\t\t 11\t2.60\t(0.966)\n",
      "\t\t\t 12\t2.20\t(0.982)\n",
      "\t\t\t 13\t2.40\t(0.985)\n",
      "\t\t\t 14\t2.40\t(0.981)\n",
      "\t\t\t 15\t2.80\t(0.983)\n"
     ]
    }
   ],
   "source": [
    "PD1_wp.evaluate_probability_matrix(pred_probabilities=pred_probs,\n",
    "                                   max_time_between_peaks=6,\n",
    "                                   min_peaks_per_block=3,\n",
    "                                   threshold_prob=0.6,\n",
    "                                   footprint_length=3,\n",
    "                                   print_rep_len_prob=True)"
   ]
  },
  {
   "cell_type": "code",
   "execution_count": 10,
   "metadata": {
    "ExecuteTime": {
     "end_time": "2019-01-20T20:18:36.598668Z",
     "start_time": "2019-01-20T20:18:34.547550Z"
    },
    "extensions": {
     "jupyter_dashboards": {
      "version": 1,
      "views": {
       "grid_default": {},
       "report_default": {
        "hidden": false
       }
      }
     }
    }
   },
   "outputs": [
    {
     "data": {
      "image/png": "[encoded data removed]",
      "text/plain": [
       "<Figure size 720x720 with 13 Axes>"
      ]
     },
     "metadata": {},
     "output_type": "display_data"
    }
   ],
   "source": [
    "%matplotlib inline\n",
    "PD1_wp.plot_probability_matrices_and_peaks(title_text='Predicted Probabilites Subject 1',\n",
    "                                           default_settings_smaller_plot=False,\n",
    "                                           figsize=(10,10),\n",
    "                                           cross_size=20,\n",
    "                                           cross_width=3,\n",
    "                                           fontsize_title=18,\n",
    "                                           yticks_step_in_s=2,\n",
    "                                           fontsize_yticks=10,\n",
    "                                           fontsize_ylabels_ex=16,\n",
    "                                           labelpad_ex=45,\n",
    "                                           fontsize_actual_classes=12,\n",
    "                                           fontsize_actual_classes_label=14,\n",
    "                                           labelpad_actual_classes=45,\n",
    "                                           fontsize_window_length=14,\n",
    "                                           xpos_window_length=0.065,\n",
    "                                           ypos_window_length=0.6,\n",
    "                                           fontsize_time_xlabel=14,\n",
    "                                           fontsize_time_xticks=12,\n",
    "                                           colorbar_position_x_y_length_heigth=[0.93, 0.175, 0.01, 0.705],\n",
    "                                           fontsize_colorbar_ticks=12,\n",
    "                                           interactive_plot=False,\n",
    "                                           plot_time_range=True,\n",
    "                                           start_time='02:15.0',\n",
    "                                           stop_time='02:40.0',\n",
    "                                           plot_actual_classes=True,\n",
    "                                           timetable_file_dir = r'E:\\Physio_Data\\Exercise_time_tables',\n",
    "                                           timetable_file_name = 'Timetable_subject01.txt')"
   ]
  },
  {
   "cell_type": "code",
   "execution_count": 13,
   "metadata": {
    "ExecuteTime": {
     "end_time": "2019-01-20T20:18:54.788708Z",
     "start_time": "2019-01-20T20:18:53.085611Z"
    }
   },
   "outputs": [
    {
     "data": {
      "image/png": "[encoded data removed]",
      "text/plain": [
       "<Figure size 720x720 with 13 Axes>"
      ]
     },
     "metadata": {},
     "output_type": "display_data"
    }
   ],
   "source": [
    "PD1_wp.plot_probability_matrices_and_peaks(title_text='Predicted Probabilites Subject 1',\n",
    "                                           default_settings_smaller_plot=True,\n",
    "                                           plot_time_range=True,\n",
    "                                           start_time='02:15.0',\n",
    "                                           stop_time='02:40.0',\n",
    "                                           plot_actual_classes=True,\n",
    "                                           timetable_file_dir = r'E:\\Physio_Data\\Exercise_time_tables',\n",
    "                                           timetable_file_name = 'Timetable_subject01.txt')"
   ]
  },
  {
   "cell_type": "code",
   "execution_count": null,
   "metadata": {
    "extensions": {
     "jupyter_dashboards": {
      "version": 1,
      "views": {
       "grid_default": {},
       "report_default": {
        "hidden": true
       }
      }
     }
    }
   },
   "outputs": [],
   "source": []
  },
  {
   "cell_type": "code",
   "execution_count": null,
   "metadata": {
    "extensions": {
     "jupyter_dashboards": {
      "version": 1,
      "views": {
       "grid_default": {},
       "report_default": {
        "hidden": true
       }
      }
     }
    }
   },
   "outputs": [],
   "source": []
  },
  {
   "cell_type": "code",
   "execution_count": null,
   "metadata": {
    "extensions": {
     "jupyter_dashboards": {
      "version": 1,
      "views": {
       "grid_default": {},
       "report_default": {
        "hidden": true
       }
      }
     }
    }
   },
   "outputs": [],
   "source": []
  }
 ],
 "metadata": {
  "extensions": {
   "jupyter_dashboards": {
    "activeView": "report_default",
    "version": 1,
    "views": {
     "grid_default": {
      "name": "grid",
      "type": "grid"
     },
     "report_default": {
      "name": "report",
      "type": "report"
     }
    }
   }
  },
  "kernelspec": {
   "display_name": "Python 3",
   "language": "python",
   "name": "python3"
  },
  "language_info": {
   "codemirror_mode": {
    "name": "ipython",
    "version": 3
   },
   "file_extension": ".py",
   "mimetype": "text/x-python",
   "name": "python",
   "nbconvert_exporter": "python",
   "pygments_lexer": "ipython3",
   "version": "3.6.2"
  },
  "toc": {
   "base_numbering": 1,
   "nav_menu": {},
   "number_sections": true,
   "sideBar": true,
   "skip_h1_title": false,
   "title_cell": "Table of Contents",
   "title_sidebar": "Contents",
   "toc_cell": false,
   "toc_position": {},
   "toc_section_display": true,
   "toc_window_display": false
  }
 },
 "nbformat": 4,
 "nbformat_minor": 2
}
