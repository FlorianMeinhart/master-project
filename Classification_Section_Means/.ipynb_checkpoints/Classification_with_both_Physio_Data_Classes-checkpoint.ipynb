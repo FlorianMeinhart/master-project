{
 "cells": [
  {
   "cell_type": "markdown",
   "metadata": {
    "extensions": {
     "jupyter_dashboards": {
      "version": 1,
      "views": {
       "grid_default": {},
       "report_default": {
        "hidden": false
       }
      }
     }
    }
   },
   "source": [
    "# Classification with both Physio Data Classes"
   ]
  },
  {
   "cell_type": "code",
   "execution_count": null,
   "metadata": {
    "ExecuteTime": {
     "end_time": "2019-01-20T15:03:40.608274Z",
     "start_time": "2019-01-20T15:03:38.567157Z"
    },
    "extensions": {
     "jupyter_dashboards": {
      "version": 1,
      "views": {
       "grid_default": {},
       "report_default": {
        "hidden": true
       }
      }
     }
    }
   },
   "outputs": [],
   "source": [
    "import pandas as pd\n",
    "import numpy as np\n",
    "from pivottablejs import pivot_ui\n",
    "\n",
    "import sys\n",
    "sys.path.append('..')  # in order to import modules from my own package\n",
    "from packageMeinhart import PhysioDataHandler as PDH\n",
    "from packageMeinhart.functionsMasterProjectMeinhart import print_precision_recall_accuracy\n",
    "from packageMeinhart.functionsMasterProjectMeinhart import print_misclassified_data_points\n",
    "\n",
    "# ML modules\n",
    "from sklearn.ensemble import RandomForestClassifier\n",
    "from sklearn.linear_model import LogisticRegression\n",
    "from sklearn.svm import SVC\n",
    "from sklearn.neural_network import MLPClassifier\n",
    "from sklearn.decomposition import PCA\n",
    "from sklearn.discriminant_analysis import LinearDiscriminantAnalysis as LDA\n",
    "from sklearn.preprocessing import StandardScaler\n",
    "from sklearn.ensemble import VotingClassifier\n",
    "from sklearn.metrics import accuracy_score\n",
    "from sklearn.pipeline import Pipeline\n",
    "from sklearn.pipeline import make_pipeline\n",
    "from sklearn.preprocessing import StandardScaler\n",
    "from sklearn.model_selection import GridSearchCV\n",
    "from sklearn.metrics import classification_report"
   ]
  },
  {
   "cell_type": "code",
   "execution_count": null,
   "metadata": {
    "extensions": {
     "jupyter_dashboards": {
      "version": 1,
      "views": {
       "grid_default": {},
       "report_default": {
        "hidden": true
       }
      }
     }
    }
   },
   "outputs": [],
   "source": []
  },
  {
   "cell_type": "code",
   "execution_count": null,
   "metadata": {
    "ExecuteTime": {
     "end_time": "2019-01-20T15:03:51.679907Z",
     "start_time": "2019-01-20T15:03:40.610274Z"
    },
    "extensions": {
     "jupyter_dashboards": {
      "version": 1,
      "views": {
       "grid_default": {},
       "report_default": {
        "hidden": true
       }
      }
     }
    }
   },
   "outputs": [],
   "source": [
    "PD1 = PDH.PhysioData_SectionFeatures(num_sections=10,\n",
    "                                     test_subject_ids=1,\n",
    "                                     train_subject_ids=2,\n",
    "                                     test_rep_nums=-1,\n",
    "                                     train_rep_nums=-1,\n",
    "                                     test_ex_abbrs=-1,\n",
    "                                     train_ex_abbrs=-1,\n",
    "                                     with_non_Ex=True,\n",
    "                                     rot_axis_test_data=0,\n",
    "                                     rot_angle_test_data=0,\n",
    "                                     add_noise_test_data=False,\n",
    "                                     add_noise_train_data=False,\n",
    "                                     snr_db=20,\n",
    "                                     csv_data_dir='E:\\Physio_Data_Split_Ex_and_NonEx',\n",
    "                                     csv_skiprows=0,\n",
    "                                     csv_separator=',',\n",
    "                                     data_base_path='E:\\Physio_Data\\DataBase_Physio_with_nonEx.db',\n",
    "                                     print_progress=True,\n",
    "                                     signal_abbrs=['Acc','Gyr'],\n",
    "                                     signal_orientations=['x','y','z'],\n",
    "                                     labels_abbr2num_dict={'RF':0,'RO':1,'RS':2,'LR':3,'BC':4,'TC':5,\n",
    "                                                           'MP':6,'SA':7,'P1':8,'P2':9,'NE':10},\n",
    "                                     sub_id_key='subject_id',\n",
    "                                     num_rep_key='num_rep',\n",
    "                                     abbreviation_key='abbreviation',\n",
    "                                     start_time_key='start_time',\n",
    "                                     stop_time_key='stop_time',\n",
    "                                     csv_file_key='csv_file',\n",
    "                                     sampling_rate=256)"
   ]
  },
  {
   "cell_type": "code",
   "execution_count": null,
   "metadata": {
    "ExecuteTime": {
     "end_time": "2019-01-20T15:03:51.708908Z",
     "start_time": "2019-01-20T15:03:51.682907Z"
    },
    "extensions": {
     "jupyter_dashboards": {
      "version": 1,
      "views": {
       "grid_default": {},
       "report_default": {
        "hidden": false
       }
      }
     }
    }
   },
   "outputs": [],
   "source": [
    "pivot_ui(PD1.get_test_data_points(), \n",
    "         rows=['abbreviation'], \n",
    "         cols=['subject_id', 'num_rep'], \n",
    "         outfile_path=\"PD1_test.html\")"
   ]
  },
  {
   "cell_type": "code",
   "execution_count": null,
   "metadata": {
    "ExecuteTime": {
     "end_time": "2019-01-20T15:03:51.955923Z",
     "start_time": "2019-01-20T15:03:51.713909Z"
    },
    "extensions": {
     "jupyter_dashboards": {
      "version": 1,
      "views": {
       "grid_default": {},
       "report_default": {
        "hidden": false
       }
      }
     }
    }
   },
   "outputs": [],
   "source": [
    "pivot_ui(PD1.get_train_data_points(), \n",
    "         rows=['abbreviation'], \n",
    "         cols=['subject_id', 'num_rep'], \n",
    "         outfile_path=\"PD1_train.html\")"
   ]
  },
  {
   "cell_type": "code",
   "execution_count": null,
   "metadata": {
    "extensions": {
     "jupyter_dashboards": {
      "version": 1,
      "views": {
       "grid_default": {},
       "report_default": {
        "hidden": true
       }
      }
     }
    }
   },
   "outputs": [],
   "source": []
  },
  {
   "cell_type": "code",
   "execution_count": null,
   "metadata": {
    "extensions": {
     "jupyter_dashboards": {
      "version": 1,
      "views": {
       "grid_default": {},
       "report_default": {
        "hidden": true
       }
      }
     }
    }
   },
   "outputs": [],
   "source": []
  },
  {
   "cell_type": "code",
   "execution_count": null,
   "metadata": {
    "ExecuteTime": {
     "end_time": "2019-01-20T15:03:52.294942Z",
     "start_time": "2019-01-20T15:03:51.964923Z"
    },
    "extensions": {
     "jupyter_dashboards": {
      "version": 1,
      "views": {
       "grid_default": {},
       "report_default": {
        "hidden": true
       }
      }
     }
    }
   },
   "outputs": [],
   "source": [
    "# create ML model\n",
    "#ML_model = RandomForestClassifier(n_estimators=500, max_leaf_nodes=40, n_jobs=-1, random_state=42)\n",
    "ML_model = make_pipeline(StandardScaler(), SVC(random_state=42, probability=True)) # Support Vector Classifier with input scaling\n",
    "#ML_model = make_pipeline(StandardScaler(), LDA()) # Linear Discriminant Analysis with input scaling\n",
    "#ML_model = make_pipeline(StandardScaler(), LogisticRegression(random_state=42, \n",
    "#                                                              solver='lbfgs', \n",
    "#                                                              multi_class='multinomial',\n",
    "#                                                              max_iter=1000,\n",
    "#                                                              n_jobs=-1)) # Logistic Regression with input scaling\n",
    "#ML_model = make_pipeline(StandardScaler(), MLPClassifier(hidden_layer_sizes=(100), \n",
    "#                                                         activation='relu', \n",
    "#                                                         solver='adam', # 'adam''lbfgs'\n",
    "#                                                         alpha=0.2, \n",
    "#                                                         batch_size='auto', \n",
    "#                                                         learning_rate='constant', \n",
    "#                                                         learning_rate_init=0.001, \n",
    "#                                                         max_iter=500, \n",
    "#                                                         shuffle=True, \n",
    "#                                                         random_state=42))\n",
    "\n",
    "# train the model\n",
    "ML_model.fit(PD1.X_train(), PD1.y_train())\n",
    "\n",
    "# predict labels\n",
    "y_pred = ML_model.predict(PD1.X_test())"
   ]
  },
  {
   "cell_type": "code",
   "execution_count": 12,
   "metadata": {
    "ExecuteTime": {
     "end_time": "2019-01-20T15:04:47.400094Z",
     "start_time": "2019-01-20T15:04:47.333090Z"
    },
    "extensions": {
     "jupyter_dashboards": {
      "version": 1,
      "views": {
       "grid_default": {},
       "report_default": {
        "hidden": false
       }
      }
     }
    }
   },
   "outputs": [
    {
     "name": "stdout",
     "output_type": "stream",
     "text": [
      "Model: Pipeline\n",
      "\n",
      "Total Accuracy: 95.35%\n",
      "\n"
     ]
    },
    {
     "data": {
      "text/html": [
       "<div>\n",
       "<style>\n",
       "    .dataframe thead tr:only-child th {\n",
       "        text-align: right;\n",
       "    }\n",
       "\n",
       "    .dataframe thead th {\n",
       "        text-align: left;\n",
       "    }\n",
       "\n",
       "    .dataframe tbody tr th {\n",
       "        vertical-align: top;\n",
       "    }\n",
       "</style>\n",
       "<table border=\"1\" class=\"dataframe\">\n",
       "  <thead>\n",
       "    <tr style=\"text-align: right;\">\n",
       "      <th></th>\n",
       "      <th>precision</th>\n",
       "      <th>recall</th>\n",
       "      <th>f1-score</th>\n",
       "      <th>support</th>\n",
       "    </tr>\n",
       "  </thead>\n",
       "  <tbody>\n",
       "    <tr>\n",
       "      <th>BC</th>\n",
       "      <td>1.000000</td>\n",
       "      <td>1.000000</td>\n",
       "      <td>1.000000</td>\n",
       "      <td>31</td>\n",
       "    </tr>\n",
       "    <tr>\n",
       "      <th>LR</th>\n",
       "      <td>1.000000</td>\n",
       "      <td>1.000000</td>\n",
       "      <td>1.000000</td>\n",
       "      <td>30</td>\n",
       "    </tr>\n",
       "    <tr>\n",
       "      <th>MP</th>\n",
       "      <td>0.810811</td>\n",
       "      <td>1.000000</td>\n",
       "      <td>0.895522</td>\n",
       "      <td>30</td>\n",
       "    </tr>\n",
       "    <tr>\n",
       "      <th>NE</th>\n",
       "      <td>0.995025</td>\n",
       "      <td>0.982801</td>\n",
       "      <td>0.988875</td>\n",
       "      <td>407</td>\n",
       "    </tr>\n",
       "    <tr>\n",
       "      <th>P1</th>\n",
       "      <td>1.000000</td>\n",
       "      <td>1.000000</td>\n",
       "      <td>1.000000</td>\n",
       "      <td>30</td>\n",
       "    </tr>\n",
       "    <tr>\n",
       "      <th>P2</th>\n",
       "      <td>1.000000</td>\n",
       "      <td>0.500000</td>\n",
       "      <td>0.666667</td>\n",
       "      <td>30</td>\n",
       "    </tr>\n",
       "    <tr>\n",
       "      <th>RF</th>\n",
       "      <td>0.731707</td>\n",
       "      <td>1.000000</td>\n",
       "      <td>0.845070</td>\n",
       "      <td>30</td>\n",
       "    </tr>\n",
       "    <tr>\n",
       "      <th>RO</th>\n",
       "      <td>1.000000</td>\n",
       "      <td>0.633333</td>\n",
       "      <td>0.775510</td>\n",
       "      <td>30</td>\n",
       "    </tr>\n",
       "    <tr>\n",
       "      <th>RS</th>\n",
       "      <td>0.697674</td>\n",
       "      <td>1.000000</td>\n",
       "      <td>0.821918</td>\n",
       "      <td>30</td>\n",
       "    </tr>\n",
       "    <tr>\n",
       "      <th>SA</th>\n",
       "      <td>1.000000</td>\n",
       "      <td>1.000000</td>\n",
       "      <td>1.000000</td>\n",
       "      <td>31</td>\n",
       "    </tr>\n",
       "    <tr>\n",
       "      <th>TC</th>\n",
       "      <td>1.000000</td>\n",
       "      <td>1.000000</td>\n",
       "      <td>1.000000</td>\n",
       "      <td>30</td>\n",
       "    </tr>\n",
       "    <tr>\n",
       "      <th>macro avg</th>\n",
       "      <td>0.930474</td>\n",
       "      <td>0.919649</td>\n",
       "      <td>0.908506</td>\n",
       "      <td>709</td>\n",
       "    </tr>\n",
       "    <tr>\n",
       "      <th>micro avg</th>\n",
       "      <td>0.953456</td>\n",
       "      <td>0.953456</td>\n",
       "      <td>0.953456</td>\n",
       "      <td>709</td>\n",
       "    </tr>\n",
       "    <tr>\n",
       "      <th>weighted avg</th>\n",
       "      <td>0.964994</td>\n",
       "      <td>0.953456</td>\n",
       "      <td>0.951499</td>\n",
       "      <td>709</td>\n",
       "    </tr>\n",
       "  </tbody>\n",
       "</table>\n",
       "</div>"
      ],
      "text/plain": [
       "              precision    recall  f1-score  support\n",
       "BC             1.000000  1.000000  1.000000       31\n",
       "LR             1.000000  1.000000  1.000000       30\n",
       "MP             0.810811  1.000000  0.895522       30\n",
       "NE             0.995025  0.982801  0.988875      407\n",
       "P1             1.000000  1.000000  1.000000       30\n",
       "P2             1.000000  0.500000  0.666667       30\n",
       "RF             0.731707  1.000000  0.845070       30\n",
       "RO             1.000000  0.633333  0.775510       30\n",
       "RS             0.697674  1.000000  0.821918       30\n",
       "SA             1.000000  1.000000  1.000000       31\n",
       "TC             1.000000  1.000000  1.000000       30\n",
       "macro avg      0.930474  0.919649  0.908506      709\n",
       "micro avg      0.953456  0.953456  0.953456      709\n",
       "weighted avg   0.964994  0.953456  0.951499      709"
      ]
     },
     "metadata": {},
     "output_type": "display_data"
    },
    {
     "name": "stdout",
     "output_type": "stream",
     "text": [
      "\n",
      "33 misclassified (709 test data points):\n",
      "RO classified as RF\n",
      "RO classified as RF\n",
      "RO classified as RF\n",
      "RO classified as RF\n",
      "RO classified as RF\n",
      "RO classified as RF\n",
      "RO classified as RF\n",
      "RO classified as RF\n",
      "RO classified as RF\n",
      "RO classified as RF\n",
      "RO classified as RF\n",
      "P2 classified as RS\n",
      "P2 classified as NE\n",
      "P2 classified as RS\n",
      "P2 classified as RS\n",
      "P2 classified as RS\n",
      "P2 classified as RS\n",
      "P2 classified as RS\n",
      "P2 classified as RS\n",
      "P2 classified as RS\n",
      "P2 classified as RS\n",
      "P2 classified as RS\n",
      "P2 classified as RS\n",
      "P2 classified as RS\n",
      "P2 classified as RS\n",
      "P2 classified as NE\n",
      "NE classified as MP\n",
      "NE classified as MP\n",
      "NE classified as MP\n",
      "NE classified as MP\n",
      "NE classified as MP\n",
      "NE classified as MP\n",
      "NE classified as MP\n"
     ]
    }
   ],
   "source": [
    "# show results\n",
    "print('Model: ' + type(ML_model).__name__ + '\\n')\n",
    "print('Total Accuracy: {:.2f}%\\n'.format((accuracy_score(PD1.y_test(), y_pred))*100))\n",
    "#print_precision_recall_accuracy(y_pred, PD1.y_test())\n",
    "report = classification_report(PD1.y_test(), y_pred, \n",
    "                               labels=np.arange(0,11),\n",
    "                               target_names=['RF','RO','RS','LR','BC','TC','MP','SA','P1','P2','NE'],\n",
    "                               sample_weight=None, output_dict=True)\n",
    "report_df = pd.DataFrame.from_dict(report, orient='index')\n",
    "display(report_df)\n",
    "print('')\n",
    "print_misclassified_data_points(y_pred, PD1.y_test())"
   ]
  },
  {
   "cell_type": "code",
   "execution_count": null,
   "metadata": {
    "ExecuteTime": {
     "end_time": "2019-01-20T15:03:56.795199Z",
     "start_time": "2019-01-20T15:03:52.371946Z"
    },
    "extensions": {
     "jupyter_dashboards": {
      "version": 1,
      "views": {
       "grid_default": {},
       "report_default": {
        "hidden": false
       }
      }
     }
    }
   },
   "outputs": [],
   "source": [
    "PD1_wp = PDH.PhysioData_WindowingProcedure(test_subject_dir  = r'E:\\Physio_Data\\Subject_01',\n",
    "                                           test_subject_file = 'subject01.csv',\n",
    "                                           number_sections=10,\n",
    "                                           signal_abbrs=['Acc','Gyr'],\n",
    "                                           signal_orientations=['x','y','z'],\n",
    "                                           sampling_rate=256,\n",
    "                                           cutoff=10,\n",
    "                                           order=6,\n",
    "                                           win_start_inc=0.2,\n",
    "                                           win_stretch_inc=0.2,\n",
    "                                           win_min_len=1,\n",
    "                                           win_max_len=5,\n",
    "                                           win_start_min_sec='00:00.0', # '22:05.0'\n",
    "                                           win_last_start_min_sec='05:00.0', #'22:44.8',\n",
    "                                           print_progress=True,\n",
    "                                           progress_info='Generate feature map...',\n",
    "                                           rot_axis=0,\n",
    "                                           rot_angle=0,\n",
    "                                           add_noise=False,\n",
    "                                           target_snr_db=20,\n",
    "                                           csv_skiprows=0,\n",
    "                                           csv_separator=',',\n",
    "                                           exercise_abbrs=['RF','RO','RS','LR','BC','TC','MP','SA','P1','P2','NE'],\n",
    "                                           exercise_abbrs_peak_eval=['RF','RO','RS','LR','BC','TC','MP','SA','P1','P2'])\n",
    "\n",
    "np.shape(PD1_wp.get_feature_map())"
   ]
  },
  {
   "cell_type": "code",
   "execution_count": null,
   "metadata": {
    "ExecuteTime": {
     "end_time": "2019-01-20T15:03:58.068272Z",
     "start_time": "2019-01-20T15:03:56.802200Z"
    },
    "extensions": {
     "jupyter_dashboards": {
      "version": 1,
      "views": {
       "grid_default": {},
       "report_default": {
        "hidden": false
       }
      }
     }
    }
   },
   "outputs": [],
   "source": [
    "pred_probs = ML_model.predict_proba(PD1_wp.get_feature_map())\n",
    "np.shape(pred_probs)"
   ]
  },
  {
   "cell_type": "code",
   "execution_count": null,
   "metadata": {
    "ExecuteTime": {
     "end_time": "2019-01-20T15:03:58.295285Z",
     "start_time": "2019-01-20T15:03:58.074273Z"
    },
    "extensions": {
     "jupyter_dashboards": {
      "version": 1,
      "views": {
       "grid_default": {},
       "report_default": {
        "hidden": false
       }
      }
     }
    },
    "scrolled": true
   },
   "outputs": [],
   "source": [
    "PD1_wp.evaluate_probability_matrix(pred_probabilities=pred_probs,\n",
    "                                   max_time_between_peaks=6,\n",
    "                                   min_peaks_per_block=3,\n",
    "                                   threshold_prob=0.6,\n",
    "                                   footprint_length=3,\n",
    "                                   print_rep_len_prob=True)"
   ]
  },
  {
   "cell_type": "code",
   "execution_count": null,
   "metadata": {
    "ExecuteTime": {
     "end_time": "2019-01-20T15:03:58.860317Z",
     "start_time": "2019-01-20T15:03:58.301286Z"
    },
    "extensions": {
     "jupyter_dashboards": {
      "version": 1,
      "views": {
       "grid_default": {},
       "report_default": {
        "hidden": false
       }
      }
     }
    }
   },
   "outputs": [],
   "source": [
    "%matplotlib auto\n",
    "PD1_wp.plot_probability_matrices_and_peaks(title_text='Predicted Probabilites Subject 1',\n",
    "                                           figsize=(10,8),\n",
    "                                           cross_size=10,\n",
    "                                           fontsize_title=20,\n",
    "                                           yticks_step_in_s=1.5,\n",
    "                                           fontsize_yticks=12,\n",
    "                                           fontsize_ylabels_ex=16,\n",
    "                                           labelpad_ex=45,\n",
    "                                           fontsize_actual_classes=12,\n",
    "                                           fontsize_actual_classes_label=12,\n",
    "                                           labelpad_actual_classes=50,\n",
    "                                           fontsize_window_length=16,\n",
    "                                           xpos_window_length=0.055,\n",
    "                                           ypos_window_length=0.6,\n",
    "                                           fontsize_time_xlabel=16,\n",
    "                                           fontsize_time_xticks=16,\n",
    "                                           colorbar_position_x_y_length_heigth=[0.93, 0.255, 0.01, 0.625],\n",
    "                                           fontsize_colorbar_ticks=12,\n",
    "                                           interactive_plot=False,\n",
    "                                           plot_time_range=True,\n",
    "                                           start_time='01:00.0',\n",
    "                                           stop_time='03:00.0',\n",
    "                                           plot_actual_classes=True,\n",
    "                                           timetable_file_dir = r'E:\\Physio_Data\\Exercise_time_tables',\n",
    "                                           timetable_file_name = 'Timetable_subject01.txt')"
   ]
  },
  {
   "cell_type": "code",
   "execution_count": null,
   "metadata": {
    "ExecuteTime": {
     "end_time": "2019-01-20T15:03:59.456352Z",
     "start_time": "2019-01-20T15:03:58.920321Z"
    },
    "extensions": {
     "jupyter_dashboards": {
      "version": 1,
      "views": {
       "grid_default": {},
       "report_default": {
        "hidden": true
       }
      }
     }
    }
   },
   "outputs": [],
   "source": [
    "PD1_wp.plot_probability_matrices_and_peaks(title_text='Predicted Probabilites Subject 1')"
   ]
  },
  {
   "cell_type": "code",
   "execution_count": null,
   "metadata": {
    "extensions": {
     "jupyter_dashboards": {
      "version": 1,
      "views": {
       "grid_default": {},
       "report_default": {
        "hidden": true
       }
      }
     }
    }
   },
   "outputs": [],
   "source": []
  },
  {
   "cell_type": "code",
   "execution_count": null,
   "metadata": {
    "extensions": {
     "jupyter_dashboards": {
      "version": 1,
      "views": {
       "grid_default": {},
       "report_default": {
        "hidden": true
       }
      }
     }
    }
   },
   "outputs": [],
   "source": []
  },
  {
   "cell_type": "code",
   "execution_count": null,
   "metadata": {
    "extensions": {
     "jupyter_dashboards": {
      "version": 1,
      "views": {
       "grid_default": {},
       "report_default": {
        "hidden": true
       }
      }
     }
    }
   },
   "outputs": [],
   "source": []
  }
 ],
 "metadata": {
  "extensions": {
   "jupyter_dashboards": {
    "activeView": "report_default",
    "version": 1,
    "views": {
     "grid_default": {
      "name": "grid",
      "type": "grid"
     },
     "report_default": {
      "name": "report",
      "type": "report"
     }
    }
   }
  },
  "kernelspec": {
   "display_name": "Python 3",
   "language": "python",
   "name": "python3"
  },
  "language_info": {
   "codemirror_mode": {
    "name": "ipython",
    "version": 3
   },
   "file_extension": ".py",
   "mimetype": "text/x-python",
   "name": "python",
   "nbconvert_exporter": "python",
   "pygments_lexer": "ipython3",
   "version": "3.6.2"
  },
  "toc": {
   "base_numbering": 1,
   "nav_menu": {},
   "number_sections": true,
   "sideBar": true,
   "skip_h1_title": false,
   "title_cell": "Table of Contents",
   "title_sidebar": "Contents",
   "toc_cell": false,
   "toc_position": {},
   "toc_section_display": true,
   "toc_window_display": false
  }
 },
 "nbformat": 4,
 "nbformat_minor": 2
}
