{
 "cells": [
  {
   "cell_type": "markdown",
   "metadata": {
    "extensions": {
     "jupyter_dashboards": {
      "version": 1,
      "views": {
       "grid_default": {
        "col": 0,
        "height": 4,
        "hidden": false,
        "row": 0,
        "width": 4
       },
       "report_default": {
        "hidden": false
       }
      }
     }
    }
   },
   "source": [
    "# Evaluation Report - Section Means as Features\n",
    "\n",
    "The first cell provides a summary of selected parameters and the evaluation ($\\rightarrow$ executed after evaluation)."
   ]
  },
  {
   "cell_type": "code",
   "execution_count": 66,
   "metadata": {
    "ExecuteTime": {
     "end_time": "2019-02-03T22:11:00.133113Z",
     "start_time": "2019-02-03T22:10:59.975104Z"
    },
    "scrolled": false
   },
   "outputs": [
    {
     "name": "stdout",
     "output_type": "stream",
     "text": [
      "\n",
      "    Summary of Evaluation Report\n",
      "\n",
      "Test data set:\n",
      "\tSubject ID: \t1\n",
      "\tSamples: \t709\n",
      "\tRep. num.: \t-1\n",
      "\tExercises: \t-1\n",
      "\tRotation axes: \t0\n",
      "\tRot. angles: \t0\n",
      "\tSNR: \t\tnone\n",
      "\n",
      "Train data set:\n",
      "\tSubject ID(s): \t-1\n",
      "\tSamples: \t6120\n",
      "\tRep. num.: \t-1\n",
      "\tExercises: \t-1\n",
      "\tSNR: \t\tnone\n",
      "\n",
      "Number of sections to split each rep.: 10\n",
      "\n",
      "Dimensionality reduction: \tnone\n",
      "\n",
      "Windowing procedure:\n",
      "\tWin. start inc.: \t0.2 s\n",
      "\tWin. stretch inc.: \t0.2 s\n",
      "\tMin. win. length: \t1 s\n",
      "\tMax. win. length: \t5 s\n",
      "\tFilter order: \t\t6\n",
      "\tCutoff frequency: \t10 Hz\n",
      "\n",
      "Evaluation of probability matrices:\n",
      "\tMax. time betw. 2 rep.:\t6 s\n",
      "\tMin rep. per block: \t3\n",
      "\tProb. threshold: \t0.5\n",
      "\tFootprint length: \t3 s\n",
      "\n",
      "Machine Learning:\n",
      "\tModel: \tLogReg\n",
      "\tParam. for grid search cross val.:\n",
      "\t\tclf__C: [1.e-02 1.e-01 1.e+00 1.e+01 1.e+02]\n",
      "\t\tclf__penalty: ['l1', 'l2']\n",
      "\tBest parameters:\n",
      "\t\tclf__C: 1.0\n",
      "\t\tclf__penalty: l1\n",
      "\tBest score (gridsearchCV): \t96.57%\n",
      "\n",
      "\tScore on sep. test samples: \t95.20%\n",
      "\n",
      "\tExerc.\tPrec.\tRecall\tF1-Sc.\tSupport\n",
      "\tRF\t0.7895\t1.0000\t0.8824\t     30\n",
      "\tRO\t0.9259\t0.8333\t0.8772\t     30\n",
      "\tRS\t1.0000\t1.0000\t1.0000\t     30\n",
      "\tLR\t1.0000\t0.8667\t0.9286\t     30\n",
      "\tBC\t0.9688\t1.0000\t0.9841\t     31\n",
      "\tTC\t0.9677\t1.0000\t0.9836\t     30\n",
      "\tMP\t0.7500\t1.0000\t0.8571\t     30\n",
      "\tSA\t0.9394\t1.0000\t0.9688\t     31\n",
      "\tP1\t0.9375\t1.0000\t0.9677\t     30\n",
      "\tP2\t0.8824\t1.0000\t0.9375\t     30\n",
      "\tNE\t0.9896\t0.9386\t0.9634\t    407\n",
      "\ttotal\t0.9520\t0.9520\t0.9520\t    709\n"
     ]
    }
   ],
   "source": [
    "try:\n",
    "    print_eval_summary()\n",
    "except:\n",
    "    pass"
   ]
  },
  {
   "cell_type": "markdown",
   "metadata": {},
   "source": [
    "***\n",
    "***\n",
    "***\n",
    "***\n",
    "***"
   ]
  },
  {
   "cell_type": "markdown",
   "metadata": {},
   "source": [
    "***Save the notebook:***"
   ]
  },
  {
   "cell_type": "code",
   "execution_count": 2,
   "metadata": {
    "ExecuteTime": {
     "end_time": "2019-02-03T22:07:24.241765Z",
     "start_time": "2019-02-03T22:07:24.029753Z"
    }
   },
   "outputs": [
    {
     "data": {
      "application/javascript": [
       "IPython.notebook.save_notebook()"
      ],
      "text/plain": [
       "<IPython.core.display.Javascript object>"
      ]
     },
     "metadata": {},
     "output_type": "display_data"
    }
   ],
   "source": [
    "%%javascript\n",
    "IPython.notebook.save_notebook()"
   ]
  },
  {
   "cell_type": "markdown",
   "metadata": {},
   "source": [
    "***Convert the notebook to html:***\n",
    "\n",
    "(Executed in the end.)"
   ]
  },
  {
   "cell_type": "code",
   "execution_count": 3,
   "metadata": {
    "ExecuteTime": {
     "end_time": "2019-02-03T22:07:24.379773Z",
     "start_time": "2019-02-03T22:07:24.247765Z"
    }
   },
   "outputs": [],
   "source": [
    "try:\n",
    "    exporter = HTMLExporter()\n",
    "    output_notebook = nbformat.read('Evaluation_Report.ipynb', as_version=4)\n",
    "    output, resources = exporter.from_notebook_node(output_notebook)\n",
    "    codecs.open('Report_' + file_doc_string  + '.html', 'w', encoding='utf-8').write(output)\n",
    "except:\n",
    "    pass"
   ]
  },
  {
   "cell_type": "markdown",
   "metadata": {},
   "source": [
    "***\n",
    "***\n",
    "***\n",
    "***\n",
    "***\n",
    "***Import modules:***"
   ]
  },
  {
   "cell_type": "code",
   "execution_count": 4,
   "metadata": {
    "ExecuteTime": {
     "end_time": "2019-02-03T22:07:46.911062Z",
     "start_time": "2019-02-03T22:07:24.384773Z"
    },
    "extensions": {
     "jupyter_dashboards": {
      "version": 1,
      "views": {
       "grid_default": {
        "hidden": true
       },
       "report_default": {
        "hidden": true
       }
      }
     }
    }
   },
   "outputs": [],
   "source": [
    "import pandas as pd\n",
    "import numpy as np\n",
    "import datetime\n",
    "import timeit\n",
    "import time\n",
    "import os\n",
    "from nbconvert import HTMLExporter\n",
    "import codecs\n",
    "import nbformat\n",
    "from pivottablejs import pivot_ui\n",
    "\n",
    "import sys\n",
    "sys.path.append('..')  # in order to import modules from the package 'packageMeinhart'\n",
    "from packageMeinhart import PhysioDataHandler as PDH\n",
    "from packageMeinhart.functionsMasterProjectMeinhart import print_misclassified_data_points\n",
    "from packageMeinhart.functionsMasterProjectMeinhart import get_timetable_ex_dict\n",
    "\n",
    "# Modules for machine learning and evaluation\n",
    "from sklearn.linear_model import LogisticRegression\n",
    "from sklearn.ensemble import RandomForestClassifier\n",
    "from sklearn.svm import SVC\n",
    "from sklearn.decomposition import PCA\n",
    "from sklearn.discriminant_analysis import LinearDiscriminantAnalysis as LDA\n",
    "from sklearn.preprocessing import StandardScaler\n",
    "from sklearn.pipeline import Pipeline\n",
    "from sklearn.model_selection import GridSearchCV\n",
    "from sklearn.metrics import accuracy_score\n",
    "from sklearn.metrics import classification_report\n",
    "# StandardScaler raises the following warning:\n",
    "# --> DataConversionWarning: Data with input dtype object was converted to float64 by StandardScaler.\n",
    "# In order to ignore that:\n",
    "import warnings\n",
    "from sklearn.exceptions import DataConversionWarning\n",
    "warnings.filterwarnings(action='ignore', category=DataConversionWarning)"
   ]
  },
  {
   "cell_type": "code",
   "execution_count": 5,
   "metadata": {
    "ExecuteTime": {
     "end_time": "2019-02-03T22:07:46.965065Z",
     "start_time": "2019-02-03T22:07:46.920062Z"
    },
    "extensions": {
     "jupyter_dashboards": {
      "version": 1,
      "views": {
       "grid_default": {
        "hidden": true
       },
       "report_default": {
        "hidden": true
       }
      }
     }
    }
   },
   "outputs": [],
   "source": [
    "%matplotlib inline"
   ]
  },
  {
   "cell_type": "markdown",
   "metadata": {
    "extensions": {
     "jupyter_dashboards": {
      "version": 1,
      "views": {
       "grid_default": {
        "col": 8,
        "height": 4,
        "hidden": false,
        "row": 0,
        "width": 4
       },
       "report_default": {
        "hidden": false
       }
      }
     }
    }
   },
   "source": [
    "## Definition of Parameters"
   ]
  },
  {
   "cell_type": "markdown",
   "metadata": {
    "extensions": {
     "jupyter_dashboards": {
      "version": 1,
      "views": {
       "grid_default": {
        "col": 0,
        "height": 4,
        "hidden": false,
        "row": 4,
        "width": 4
       },
       "report_default": {
        "hidden": false
       }
      }
     }
    }
   },
   "source": [
    "### Number of Sections\n",
    "\n",
    "***Number of sections to split each exercise repetition:***"
   ]
  },
  {
   "cell_type": "code",
   "execution_count": 6,
   "metadata": {
    "ExecuteTime": {
     "end_time": "2019-02-03T22:07:47.146075Z",
     "start_time": "2019-02-03T22:07:46.968065Z"
    },
    "extensions": {
     "jupyter_dashboards": {
      "version": 1,
      "views": {
       "grid_default": {
        "hidden": true
       },
       "report_default": {
        "hidden": true
       }
      }
     }
    }
   },
   "outputs": [],
   "source": [
    "number_sections = 10"
   ]
  },
  {
   "cell_type": "markdown",
   "metadata": {
    "extensions": {
     "jupyter_dashboards": {
      "version": 1,
      "views": {
       "grid_default": {
        "col": 4,
        "height": 4,
        "hidden": false,
        "row": 4,
        "width": 4
       },
       "report_default": {
        "hidden": false
       }
      }
     }
    }
   },
   "source": [
    "### Test Subject\n",
    "\n",
    "***Select the test subject via ID:***"
   ]
  },
  {
   "cell_type": "code",
   "execution_count": 7,
   "metadata": {
    "ExecuteTime": {
     "end_time": "2019-02-03T22:07:47.345087Z",
     "start_time": "2019-02-03T22:07:47.149075Z"
    },
    "extensions": {
     "jupyter_dashboards": {
      "version": 1,
      "views": {
       "grid_default": {
        "hidden": true
       },
       "report_default": {
        "hidden": true
       }
      }
     }
    }
   },
   "outputs": [],
   "source": [
    "test_subject_id = 1"
   ]
  },
  {
   "cell_type": "markdown",
   "metadata": {},
   "source": [
    "### Training Subjects\n",
    "\n",
    "***Subjects (IDs) to consider for training:***\n",
    "\n",
    "Integer or list of integers.\n",
    "\n",
    "If all subjects except the test subject shall be considered for training, set parameter to -1."
   ]
  },
  {
   "cell_type": "code",
   "execution_count": 8,
   "metadata": {
    "ExecuteTime": {
     "end_time": "2019-02-03T22:07:47.552098Z",
     "start_time": "2019-02-03T22:07:47.350087Z"
    }
   },
   "outputs": [],
   "source": [
    "train_subject_ids = -1"
   ]
  },
  {
   "cell_type": "markdown",
   "metadata": {},
   "source": [
    "### Repetition Numbers\n",
    "\n",
    "***Repetition numbers of blocks for testing (of separated samples) or rather training:***\n",
    "\n",
    "Available repetition numbers: 5, 10, 15\n",
    "\n",
    "If more than on repetition number shall be selected, use a list (e.g. [5, 10]).\n",
    "\n",
    "If parameter is set to -1, all repetition numbers are selected."
   ]
  },
  {
   "cell_type": "code",
   "execution_count": 9,
   "metadata": {
    "ExecuteTime": {
     "end_time": "2019-02-03T22:07:47.692106Z",
     "start_time": "2019-02-03T22:07:47.565099Z"
    }
   },
   "outputs": [],
   "source": [
    "test_repetition_numbers = -1\n",
    "train_repetition_numbers = -1"
   ]
  },
  {
   "cell_type": "markdown",
   "metadata": {
    "ExecuteTime": {
     "end_time": "2019-01-21T18:32:15.550613Z",
     "start_time": "2019-01-21T18:32:15.521611Z"
    }
   },
   "source": [
    "### Exercises\n",
    "\n",
    "***Exercises for testing (of separated samples) or rather training:***\n",
    "    \n",
    "Available exercises: 'RF', 'RO', 'RS', 'LR', 'BC', 'TC', 'MP', 'SA', 'P1', 'P2', 'NE'\n",
    "    \n",
    "If more than on exercise shall be selected, use a list (e.g. ['RF', 'BC']).\n",
    "\n",
    "If parameter is set to -1, all exercises are selected."
   ]
  },
  {
   "cell_type": "code",
   "execution_count": 10,
   "metadata": {
    "ExecuteTime": {
     "end_time": "2019-02-03T22:07:47.822114Z",
     "start_time": "2019-02-03T22:07:47.696107Z"
    }
   },
   "outputs": [],
   "source": [
    "test_exercises = -1\n",
    "train_exercises = -1"
   ]
  },
  {
   "cell_type": "markdown",
   "metadata": {},
   "source": [
    "### Rotation Test Data\n",
    "\n",
    "***Axes and angles to rotate the test data:***\n",
    "    \n",
    "Available axes: 0, 1, 2 ($\\rightarrow$ x, y, z)\n",
    "\n",
    "Rotation angles must be given in degrees.\n",
    "    \n",
    "If sequence of rotations shall be applied, use lists (e.g. [0, 1] for axes and [20, 45] for angles).\n",
    "\n",
    "NOTE: Rotation is applied to separated test samples as well as to the whole record of the test subject."
   ]
  },
  {
   "cell_type": "code",
   "execution_count": 11,
   "metadata": {
    "ExecuteTime": {
     "end_time": "2019-02-03T22:07:47.945121Z",
     "start_time": "2019-02-03T22:07:47.826114Z"
    }
   },
   "outputs": [],
   "source": [
    "rot_axis_test_data = 0\n",
    "rot_angle_test_data = 0"
   ]
  },
  {
   "cell_type": "markdown",
   "metadata": {},
   "source": [
    "### Noise\n",
    "\n",
    "***Noise to be added to test and/or training data:***\n",
    "\n",
    "Additive White Gaussian Noise (AWGN) with a defined Signal to Noise Ratio (SNR) in decibel is used.\n",
    "\n",
    "The noise will then be calculated by means of the SNR with regard to each signal of a whole repetition block.\n",
    "\n",
    "NOTE: Noise is added to separated test samples as well as to the whole record of the test subject."
   ]
  },
  {
   "cell_type": "code",
   "execution_count": 12,
   "metadata": {
    "ExecuteTime": {
     "end_time": "2019-02-03T22:07:48.102130Z",
     "start_time": "2019-02-03T22:07:47.950121Z"
    }
   },
   "outputs": [],
   "source": [
    "add_noise_test_data = False\n",
    "add_noise_train_data = False\n",
    "snr_db = 10"
   ]
  },
  {
   "cell_type": "markdown",
   "metadata": {},
   "source": [
    "### PCA\n",
    "\n",
    "***Principal Component Analysis (PCA) for dimensionality reduction:***\n",
    "\n",
    "If used, project features to a smaller dimensional space.\n",
    "\n",
    "(Be aware that number of principal components has to be lower than number of features.)"
   ]
  },
  {
   "cell_type": "code",
   "execution_count": 13,
   "metadata": {
    "ExecuteTime": {
     "end_time": "2019-02-03T22:07:48.302141Z",
     "start_time": "2019-02-03T22:07:48.106130Z"
    }
   },
   "outputs": [],
   "source": [
    "use_PCA_for_dim_reduction = False\n",
    "number_principal_components = 20"
   ]
  },
  {
   "cell_type": "markdown",
   "metadata": {},
   "source": [
    "### LDA\n",
    "\n",
    "***Linear Discriminant Analysis (LDA) for dimensionality reduction:***\n",
    "\n",
    "Also LDA can be used to project features to a lower dimensional space.\n",
    "\n",
    "(Number of new features = number of classes - 1)"
   ]
  },
  {
   "cell_type": "code",
   "execution_count": 14,
   "metadata": {
    "ExecuteTime": {
     "end_time": "2019-02-03T22:07:48.446149Z",
     "start_time": "2019-02-03T22:07:48.306141Z"
    }
   },
   "outputs": [],
   "source": [
    "use_LDA_for_dim_reduction = False"
   ]
  },
  {
   "cell_type": "markdown",
   "metadata": {
    "extensions": {
     "jupyter_dashboards": {
      "version": 1,
      "views": {
       "grid_default": {
        "col": 8,
        "height": 4,
        "hidden": false,
        "row": 4,
        "width": 4
       },
       "report_default": {
        "hidden": false
       }
      }
     }
    }
   },
   "source": [
    "### Windowing Procedure\n",
    "\n",
    "***Parameters for windowing procedure:***"
   ]
  },
  {
   "cell_type": "markdown",
   "metadata": {},
   "source": [
    "Window start increment [s]:"
   ]
  },
  {
   "cell_type": "code",
   "execution_count": 15,
   "metadata": {
    "ExecuteTime": {
     "end_time": "2019-02-03T22:07:48.583157Z",
     "start_time": "2019-02-03T22:07:48.450150Z"
    }
   },
   "outputs": [],
   "source": [
    "win_start_inc = 0.2"
   ]
  },
  {
   "cell_type": "markdown",
   "metadata": {},
   "source": [
    "Window stretch increment [s]:"
   ]
  },
  {
   "cell_type": "code",
   "execution_count": 16,
   "metadata": {
    "ExecuteTime": {
     "end_time": "2019-02-03T22:07:48.746167Z",
     "start_time": "2019-02-03T22:07:48.586158Z"
    }
   },
   "outputs": [],
   "source": [
    "win_stretch_inc = 0.2"
   ]
  },
  {
   "cell_type": "markdown",
   "metadata": {},
   "source": [
    "Minimum window length [s]:"
   ]
  },
  {
   "cell_type": "code",
   "execution_count": 17,
   "metadata": {
    "ExecuteTime": {
     "end_time": "2019-02-03T22:07:48.882174Z",
     "start_time": "2019-02-03T22:07:48.749167Z"
    }
   },
   "outputs": [],
   "source": [
    "win_min_len = 1"
   ]
  },
  {
   "cell_type": "markdown",
   "metadata": {},
   "source": [
    "Maximum window length [s]:"
   ]
  },
  {
   "cell_type": "code",
   "execution_count": 18,
   "metadata": {
    "ExecuteTime": {
     "end_time": "2019-02-03T22:07:49.013182Z",
     "start_time": "2019-02-03T22:07:48.897175Z"
    }
   },
   "outputs": [],
   "source": [
    "win_max_len = 5"
   ]
  },
  {
   "cell_type": "markdown",
   "metadata": {},
   "source": [
    "Order of butterworth filter:"
   ]
  },
  {
   "cell_type": "code",
   "execution_count": 19,
   "metadata": {
    "ExecuteTime": {
     "end_time": "2019-02-03T22:07:49.153190Z",
     "start_time": "2019-02-03T22:07:49.016182Z"
    }
   },
   "outputs": [],
   "source": [
    "butterworth_order = 6"
   ]
  },
  {
   "cell_type": "markdown",
   "metadata": {},
   "source": [
    "Cutoff frequency of butterworth filter [Hz]:"
   ]
  },
  {
   "cell_type": "code",
   "execution_count": 20,
   "metadata": {
    "ExecuteTime": {
     "end_time": "2019-02-03T22:07:49.302198Z",
     "start_time": "2019-02-03T22:07:49.163191Z"
    }
   },
   "outputs": [],
   "source": [
    "butterworth_cutoff = 10"
   ]
  },
  {
   "cell_type": "markdown",
   "metadata": {
    "extensions": {
     "jupyter_dashboards": {
      "version": 1,
      "views": {
       "grid_default": {
        "col": 0,
        "height": 4,
        "hidden": false,
        "row": 8,
        "width": 4
       },
       "report_default": {
        "hidden": false
       }
      }
     }
    }
   },
   "source": [
    "### Probability Matrices\n",
    "\n",
    "***Parameters for the evaluation of probability matrices:***"
   ]
  },
  {
   "cell_type": "markdown",
   "metadata": {},
   "source": [
    "Maximum time between two peaks (repetitions) of the same repetition block [s]:"
   ]
  },
  {
   "cell_type": "code",
   "execution_count": 21,
   "metadata": {
    "ExecuteTime": {
     "end_time": "2019-02-03T22:07:49.449207Z",
     "start_time": "2019-02-03T22:07:49.307199Z"
    }
   },
   "outputs": [],
   "source": [
    "max_time_between_peaks = 6"
   ]
  },
  {
   "cell_type": "markdown",
   "metadata": {},
   "source": [
    "Minimum number of peaks (repetitions) per repetition block:"
   ]
  },
  {
   "cell_type": "code",
   "execution_count": 22,
   "metadata": {
    "ExecuteTime": {
     "end_time": "2019-02-03T22:07:49.640218Z",
     "start_time": "2019-02-03T22:07:49.453207Z"
    }
   },
   "outputs": [],
   "source": [
    "min_peaks_per_block = 3"
   ]
  },
  {
   "cell_type": "markdown",
   "metadata": {},
   "source": [
    "Probability threshold in order to accept peaks as exercise repetitions (0 ... 1):"
   ]
  },
  {
   "cell_type": "code",
   "execution_count": 23,
   "metadata": {
    "ExecuteTime": {
     "end_time": "2019-02-03T22:07:49.787226Z",
     "start_time": "2019-02-03T22:07:49.650218Z"
    }
   },
   "outputs": [],
   "source": [
    "threshold_prob = 0.5"
   ]
  },
  {
   "cell_type": "markdown",
   "metadata": {},
   "source": [
    "Length of the footprint for a maximum-filter in order to find peaks [s]:"
   ]
  },
  {
   "cell_type": "code",
   "execution_count": 24,
   "metadata": {
    "ExecuteTime": {
     "end_time": "2019-02-03T22:07:49.937235Z",
     "start_time": "2019-02-03T22:07:49.798227Z"
    }
   },
   "outputs": [],
   "source": [
    "footprint_length = 3"
   ]
  },
  {
   "cell_type": "markdown",
   "metadata": {},
   "source": [
    "Print individual repetition lengths [s] and predicted probabilities (if True):"
   ]
  },
  {
   "cell_type": "code",
   "execution_count": 25,
   "metadata": {
    "ExecuteTime": {
     "end_time": "2019-02-03T22:07:50.079243Z",
     "start_time": "2019-02-03T22:07:49.947235Z"
    }
   },
   "outputs": [],
   "source": [
    "print_rep_len_prob = True"
   ]
  },
  {
   "cell_type": "markdown",
   "metadata": {
    "extensions": {
     "jupyter_dashboards": {
      "version": 1,
      "views": {
       "grid_default": {
        "col": 4,
        "height": 6,
        "hidden": false,
        "row": 8,
        "width": null
       },
       "report_default": {
        "hidden": false
       }
      }
     }
    }
   },
   "source": [
    "### Plotting\n",
    "\n",
    "***Parameters for plotting of exercise repetition blocks:***\n",
    "\n",
    "Since it would be too much to plot all exercise repetition blocks, it can be chosen\n",
    "how many and which blocks shall be plotted. Therefore, the repetition blocks have to be present in a list of strings, where every string consists of the exercise abbreviation and the number of repetitions.\n",
    "\n",
    "Example: ['RF_5', 'RO_10', 'BC_15'] $\\rightarrow$ generates three plots\n",
    "\n",
    "The second parameter defines the time to plot before and after the selected block in seconds."
   ]
  },
  {
   "cell_type": "code",
   "execution_count": 26,
   "metadata": {
    "ExecuteTime": {
     "end_time": "2019-02-03T22:07:50.216251Z",
     "start_time": "2019-02-03T22:07:50.083243Z"
    },
    "extensions": {
     "jupyter_dashboards": {
      "version": 1,
      "views": {
       "grid_default": {
        "hidden": true
       },
       "report_default": {
        "hidden": true
       }
      }
     }
    }
   },
   "outputs": [],
   "source": [
    "plot_exercise_repetition_blocks = ['RF_15','RO_5','RS_10','LR_15','BC_5',\n",
    "                                   'TC_10','MP_15','SA_5','P1_10','P2_15']\n",
    "plot_time_offset_before_and_after = 3 # [s]"
   ]
  },
  {
   "cell_type": "markdown",
   "metadata": {
    "extensions": {
     "jupyter_dashboards": {
      "version": 1,
      "views": {
       "grid_default": {
        "col": 0,
        "height": 4,
        "hidden": false,
        "row": 12,
        "width": 4
       },
       "report_default": {
        "hidden": false
       }
      }
     }
    }
   },
   "source": [
    "### Whole Test Record\n",
    "\n",
    "***Directory and file-name of csv-file with whole record of the test subject:***"
   ]
  },
  {
   "cell_type": "code",
   "execution_count": 27,
   "metadata": {
    "ExecuteTime": {
     "end_time": "2019-02-03T22:07:50.368259Z",
     "start_time": "2019-02-03T22:07:50.219251Z"
    },
    "extensions": {
     "jupyter_dashboards": {
      "version": 1,
      "views": {
       "grid_default": {
        "hidden": true
       },
       "report_default": {
        "hidden": true
       }
      }
     }
    }
   },
   "outputs": [],
   "source": [
    "test_subject_dir  = 'E:\\Physio_Data\\Subject_{:02d}'.format(test_subject_id)\n",
    "test_subject_file = 'subject{:02d}.csv'.format(test_subject_id)"
   ]
  },
  {
   "cell_type": "markdown",
   "metadata": {
    "extensions": {
     "jupyter_dashboards": {
      "version": 1,
      "views": {
       "grid_default": {
        "col": 4,
        "height": 4,
        "hidden": false,
        "row": 14,
        "width": 4
       },
       "report_default": {
        "hidden": false
       }
      }
     }
    }
   },
   "source": [
    "### Timetables\n",
    "\n",
    "***Directory and file-name of timetable with the actual exercises:***"
   ]
  },
  {
   "cell_type": "code",
   "execution_count": 28,
   "metadata": {
    "ExecuteTime": {
     "end_time": "2019-02-03T22:07:50.507267Z",
     "start_time": "2019-02-03T22:07:50.373260Z"
    },
    "extensions": {
     "jupyter_dashboards": {
      "version": 1,
      "views": {
       "grid_default": {
        "hidden": true
       },
       "report_default": {
        "hidden": true
       }
      }
     }
    }
   },
   "outputs": [],
   "source": [
    "timetable_file_dir = 'E:\\Physio_Data\\Exercise_time_tables'\n",
    "timetable_file_name = 'Timetable_subject{:02d}.txt'.format(test_subject_id)"
   ]
  },
  {
   "cell_type": "markdown",
   "metadata": {
    "extensions": {
     "jupyter_dashboards": {
      "version": 1,
      "views": {
       "grid_default": {
        "col": 8,
        "height": 4,
        "hidden": false,
        "row": 14,
        "width": 4
       },
       "report_default": {
        "hidden": false
       }
      }
     }
    }
   },
   "source": [
    "### Separated csv-files & Database\n",
    "\n",
    "***Directory of separated csv-files (repetition blocks) and path of database with information regarding repetitions:***"
   ]
  },
  {
   "cell_type": "code",
   "execution_count": 29,
   "metadata": {
    "ExecuteTime": {
     "end_time": "2019-02-03T22:07:50.654276Z",
     "start_time": "2019-02-03T22:07:50.511268Z"
    },
    "extensions": {
     "jupyter_dashboards": {
      "version": 1,
      "views": {
       "grid_default": {
        "hidden": true
       },
       "report_default": {
        "hidden": true
       }
      }
     }
    }
   },
   "outputs": [],
   "source": [
    "separated_csv_data_dir='E:\\Physio_Data_Split_Ex_and_NonEx'\n",
    "database_path='E:\\Physio_Data\\DataBase_Physio_with_nonEx.db'"
   ]
  },
  {
   "cell_type": "markdown",
   "metadata": {
    "extensions": {
     "jupyter_dashboards": {
      "version": 1,
      "views": {
       "grid_default": {
        "col": 0,
        "height": 4,
        "hidden": false,
        "row": 16,
        "width": 4
       },
       "report_default": {
        "hidden": false
       }
      }
     }
    }
   },
   "source": [
    "### Sampling Rate\n",
    "\n",
    "***Sampling rate of recorded signals [Hz]:***"
   ]
  },
  {
   "cell_type": "code",
   "execution_count": 30,
   "metadata": {
    "ExecuteTime": {
     "end_time": "2019-02-03T22:07:50.812285Z",
     "start_time": "2019-02-03T22:07:50.660276Z"
    },
    "extensions": {
     "jupyter_dashboards": {
      "version": 1,
      "views": {
       "grid_default": {
        "hidden": true
       },
       "report_default": {
        "hidden": true
       }
      }
     }
    }
   },
   "outputs": [],
   "source": [
    "sampling_rate = 256 # [Hz]"
   ]
  },
  {
   "cell_type": "markdown",
   "metadata": {},
   "source": [
    "### Add Info\n",
    "\n",
    "***Additional information for the file-names to save:***\n",
    "\n",
    "Test subject ID, number of sections, ML model name and timestamp will automatically be used."
   ]
  },
  {
   "cell_type": "code",
   "execution_count": 31,
   "metadata": {
    "ExecuteTime": {
     "end_time": "2019-02-03T22:07:50.968294Z",
     "start_time": "2019-02-03T22:07:50.818285Z"
    }
   },
   "outputs": [],
   "source": [
    "add_info = ''"
   ]
  },
  {
   "cell_type": "markdown",
   "metadata": {
    "extensions": {
     "jupyter_dashboards": {
      "version": 1,
      "views": {
       "grid_default": {
        "col": 4,
        "height": 7,
        "hidden": false,
        "row": 18,
        "width": null
       },
       "report_default": {
        "hidden": false
       }
      }
     }
    }
   },
   "source": [
    "## Definition of Machine Learning (ML) Classifier Model\n",
    "\n",
    "Choose one of the classifier models from below by setting the parameter ML_model_name\n",
    "to one of the following strings:\n",
    "\n",
    "* Logistic Regression:  'LogReg'\n",
    "* Linear Discriminant Analysis:  'LDA'\n",
    "* Support Vector Classifier:  'SVC'\n",
    "* Random Forest Classifier:  'RFC'"
   ]
  },
  {
   "cell_type": "code",
   "execution_count": 32,
   "metadata": {
    "ExecuteTime": {
     "end_time": "2019-02-03T22:07:51.113302Z",
     "start_time": "2019-02-03T22:07:50.975294Z"
    },
    "extensions": {
     "jupyter_dashboards": {
      "version": 1,
      "views": {
       "grid_default": {
        "hidden": true
       },
       "report_default": {
        "hidden": true
       }
      }
     }
    }
   },
   "outputs": [],
   "source": [
    "ML_model_name = 'LogReg'\n",
    "#ML_model_name = 'LDA'\n",
    "#ML_model_name = 'SVC'\n",
    "#ML_model_name = 'RFC'"
   ]
  },
  {
   "cell_type": "markdown",
   "metadata": {
    "extensions": {
     "jupyter_dashboards": {
      "version": 1,
      "views": {
       "grid_default": {
        "col": 0,
        "height": 9,
        "hidden": false,
        "row": 25,
        "width": 12
       },
       "report_default": {
        "hidden": false
       }
      }
     }
    }
   },
   "source": [
    "### Logistic Regression\n",
    "\n",
    "***Hyperparameters used for grid search cross validation:***\n",
    "\n",
    "* penalty : str, ‘l1’ or ‘l2’, default: ‘l2’\n",
    "\n",
    "    Used to specify the norm used in the penalization. The ‘newton-cg’, ‘sag’ and ‘lbfgs’ solvers support only l2 penalties.\n",
    "    \n",
    "    \n",
    "* C : float, default: 1.0\n",
    "\n",
    "    Inverse of regularization strength; must be a positive float. Like in support vector machines, smaller values specify stronger regularization.\n",
    "    \n",
    "(https://scikit-learn.org/stable/modules/generated/sklearn.linear_model.LogisticRegression.html)"
   ]
  },
  {
   "cell_type": "code",
   "execution_count": 33,
   "metadata": {
    "ExecuteTime": {
     "end_time": "2019-02-03T22:07:51.276311Z",
     "start_time": "2019-02-03T22:07:51.117302Z"
    },
    "extensions": {
     "jupyter_dashboards": {
      "version": 1,
      "views": {
       "grid_default": {
        "hidden": true
       },
       "report_default": {
        "hidden": true
       }
      }
     }
    }
   },
   "outputs": [],
   "source": [
    "if ML_model_name is 'LogReg':\n",
    "\n",
    "    ML_model = LogisticRegression(random_state=42, max_iter=1000, solver='liblinear', multi_class='ovr')\n",
    "\n",
    "    # hyperparameters for grid search cross validation\n",
    "    param_grid = {'clf__C': np.logspace(-2,2,5), \n",
    "                  'clf__penalty': ['l1','l2']}# l1 lasso l2 ridge"
   ]
  },
  {
   "cell_type": "markdown",
   "metadata": {
    "extensions": {
     "jupyter_dashboards": {
      "version": 1,
      "views": {
       "grid_default": {
        "col": 0,
        "height": 10,
        "hidden": false,
        "row": 34,
        "width": 12
       },
       "report_default": {
        "hidden": false
       }
      }
     }
    }
   },
   "source": [
    "### Linear Discriminant Analysis (LDA)\n",
    "\n",
    "***Hyperparameters used for grid search cross validation:***\n",
    "\n",
    "* Solver to use, possible values:\n",
    "\n",
    "    'svd': Singular value decomposition (default). Does not compute the covariance matrix, therefore this solver is recommended for data with a large number of features.\n",
    "    \n",
    "    'lsqr': Least squares solution.\n",
    "    \n",
    "    'eigen': Eigenvalue decomposition.\n",
    "    \n",
    "(https://scikit-learn.org/stable/modules/generated/sklearn.discriminant_analysis.LinearDiscriminantAnalysis.html)\n"
   ]
  },
  {
   "cell_type": "code",
   "execution_count": 34,
   "metadata": {
    "ExecuteTime": {
     "end_time": "2019-02-03T22:07:51.413319Z",
     "start_time": "2019-02-03T22:07:51.282312Z"
    },
    "extensions": {
     "jupyter_dashboards": {
      "version": 1,
      "views": {
       "grid_default": {
        "hidden": true
       },
       "report_default": {
        "hidden": true
       }
      }
     }
    }
   },
   "outputs": [],
   "source": [
    "if ML_model_name is 'LDA':\n",
    "\n",
    "    ML_model = LDA()\n",
    "\n",
    "    # hyperparameters for grid search cross validation\n",
    "    param_grid = {'clf__solver': ['svd', 'lsqr', 'eigen']}"
   ]
  },
  {
   "cell_type": "markdown",
   "metadata": {
    "extensions": {
     "jupyter_dashboards": {
      "version": 1,
      "views": {
       "grid_default": {
        "col": 0,
        "height": 15,
        "hidden": false,
        "row": 44,
        "width": 12
       },
       "report_default": {
        "hidden": false
       }
      }
     }
    }
   },
   "source": [
    "### Support Vector Classifier (SVC)\n",
    "\n",
    "***Hyperparameters used for grid search cross validation:***\n",
    "\n",
    "* C : float, optional (default=1.0)\n",
    "\n",
    "    Penalty parameter C of the error term.\n",
    "\n",
    "\n",
    "* gamma : float, optional (default=’auto’)\n",
    "\n",
    "    Kernel coefficient for ‘rbf’, ‘poly’ and ‘sigmoid’.\n",
    "\n",
    "    Current default is ‘auto’ which uses 1 / n_features, if gamma='scale' is passed then it uses 1 / (n_features * X.std()) as value of gamma. The current default of gamma, ‘auto’, will change to ‘scale’ in version 0.22. ‘auto_deprecated’, a deprecated version of ‘auto’ is used as a default indicating that no explicit value of gamma was passed.\n",
    "\n",
    "\n",
    "NOTE:\n",
    "* probability : boolean, optional (default=False)\n",
    "\n",
    "    Whether to enable probability estimates. This must be enabled prior to calling fit, and will slow down that method.\n",
    "\n",
    "(https://scikit-learn.org/stable/modules/generated/sklearn.svm.SVC.html)\n"
   ]
  },
  {
   "cell_type": "code",
   "execution_count": 35,
   "metadata": {
    "ExecuteTime": {
     "end_time": "2019-02-03T22:07:51.555327Z",
     "start_time": "2019-02-03T22:07:51.417319Z"
    },
    "extensions": {
     "jupyter_dashboards": {
      "version": 1,
      "views": {
       "grid_default": {
        "hidden": true
       },
       "report_default": {
        "hidden": true
       }
      }
     }
    }
   },
   "outputs": [],
   "source": [
    "if ML_model_name is 'SVC':\n",
    "\n",
    "    ML_model = SVC(probability=True)\n",
    "    \n",
    "    # hyperparameters for grid search cross validation\n",
    "    param_grid = {'clf__C': [0.5, 1, 2],\n",
    "                  'clf__gamma': ['scale', 0.01, 0.03]}"
   ]
  },
  {
   "cell_type": "markdown",
   "metadata": {
    "extensions": {
     "jupyter_dashboards": {
      "version": 1,
      "views": {
       "grid_default": {
        "col": 0,
        "height": 13,
        "hidden": false,
        "row": 59,
        "width": 12
       },
       "report_default": {
        "hidden": false
       }
      }
     }
    }
   },
   "source": [
    "### Random Forest Classifier (RFC)\n",
    "\n",
    "***Hyperparameters used for grid search cross validation:***\n",
    "\n",
    "* \tn_estimators : integer, optional (default=10)\n",
    "\n",
    "    The number of trees in the forest.\n",
    "\n",
    "    Changed in version 0.20: The default value of n_estimators will change from 10 in version 0.20 to 100 in version 0.22.\n",
    "    \n",
    "    \n",
    "* criterion : string, optional (default=”gini”)\n",
    "\n",
    "    The function to measure the quality of a split. Supported criteria are “gini” for the Gini impurity and “entropy” for the information gain. Note: this parameter is tree-specific.\n",
    "\n",
    "\n",
    "* max_depth : integer or None, optional (default=None)\n",
    "\n",
    "    The maximum depth of the tree. If None, then nodes are expanded until all leaves are pure or until all leaves contain less than min_samples_split samples.\n",
    "\n",
    "\n",
    "    \n",
    "(https://scikit-learn.org/stable/modules/generated/sklearn.ensemble.RandomForestClassifier.html)\n"
   ]
  },
  {
   "cell_type": "code",
   "execution_count": 36,
   "metadata": {
    "ExecuteTime": {
     "end_time": "2019-02-03T22:07:51.701336Z",
     "start_time": "2019-02-03T22:07:51.572328Z"
    },
    "extensions": {
     "jupyter_dashboards": {
      "version": 1,
      "views": {
       "grid_default": {
        "hidden": true
       },
       "report_default": {
        "hidden": true
       }
      }
     }
    }
   },
   "outputs": [],
   "source": [
    "if ML_model_name is 'RFC':\n",
    "\n",
    "    ML_model = RandomForestClassifier(n_jobs=-1, random_state=42)\n",
    "\n",
    "    # hyperparameters for grid search cross validation\n",
    "    param_grid = {'clf__n_estimators': [50,100,200],\n",
    "                  'clf__criterion': [\"gini\", 'entropy'],\n",
    "                  'clf__max_depth': [10, 50, 100]}"
   ]
  },
  {
   "cell_type": "markdown",
   "metadata": {},
   "source": [
    "***\n",
    "***\n",
    "***\n",
    "***\n",
    "***"
   ]
  },
  {
   "cell_type": "markdown",
   "metadata": {},
   "source": [
    "***Docstring with summary of parameters and ML model:***"
   ]
  },
  {
   "cell_type": "code",
   "execution_count": 37,
   "metadata": {
    "ExecuteTime": {
     "end_time": "2019-02-03T22:07:51.873346Z",
     "start_time": "2019-02-03T22:07:51.705336Z"
    }
   },
   "outputs": [
    {
     "data": {
      "text/plain": [
       "'TestSub1_NumSec10_LogReg__20190203_230751'"
      ]
     },
     "execution_count": 37,
     "metadata": {},
     "output_type": "execute_result"
    }
   ],
   "source": [
    "file_doc_string = 'TestSub{}_NumSec{}_{}_{}_{date:%Y%m%d_%H%M%S}'.format(test_subject_id,\n",
    "                                                         number_sections,\n",
    "                                                         ML_model_name,\n",
    "                                                         add_info,\n",
    "                                                         date=datetime.datetime.now())\n",
    "file_doc_string "
   ]
  },
  {
   "cell_type": "markdown",
   "metadata": {},
   "source": [
    "***Function to print cell execution time (for html format):***"
   ]
  },
  {
   "cell_type": "code",
   "execution_count": 38,
   "metadata": {
    "ExecuteTime": {
     "end_time": "2019-02-03T22:07:52.014354Z",
     "start_time": "2019-02-03T22:07:51.879346Z"
    }
   },
   "outputs": [],
   "source": [
    "def print_cell_exec_time(cell_start_time, info=''):\n",
    "    cell_execution_time = timeit.default_timer() - cell_start_time\n",
    "    print('{} -> execution time [min:sec]:  {}:{:.3f}'.format(info,\n",
    "                                                              int(cell_execution_time/60),\n",
    "                                                              cell_execution_time%60))"
   ]
  },
  {
   "cell_type": "markdown",
   "metadata": {},
   "source": [
    "Test it with 1.5 s sleeping:"
   ]
  },
  {
   "cell_type": "code",
   "execution_count": 39,
   "metadata": {
    "ExecuteTime": {
     "end_time": "2019-02-03T22:07:53.669448Z",
     "start_time": "2019-02-03T22:07:52.019354Z"
    }
   },
   "outputs": [
    {
     "name": "stdout",
     "output_type": "stream",
     "text": [
      "Test -> execution time [min:sec]:  0:1.499\n"
     ]
    }
   ],
   "source": [
    "ct = timeit.default_timer()\n",
    "time.sleep(1.5)\n",
    "print_cell_exec_time(ct, 'Test')"
   ]
  },
  {
   "cell_type": "markdown",
   "metadata": {
    "extensions": {
     "jupyter_dashboards": {
      "version": 1,
      "views": {
       "grid_default": {
        "col": 0,
        "height": 4,
        "hidden": false,
        "row": 72,
        "width": 12
       },
       "report_default": {
        "hidden": false
       }
      }
     }
    }
   },
   "source": [
    "## Loading Training and Test Samples"
   ]
  },
  {
   "cell_type": "code",
   "execution_count": 40,
   "metadata": {
    "ExecuteTime": {
     "end_time": "2019-02-03T22:08:47.321517Z",
     "start_time": "2019-02-03T22:07:53.688449Z"
    },
    "extensions": {
     "jupyter_dashboards": {
      "version": 1,
      "views": {
       "grid_default": {
        "hidden": true
       },
       "report_default": {
        "hidden": true
       }
      }
     }
    }
   },
   "outputs": [],
   "source": [
    "DataObj = PDH.PhysioData_SectionFeatures(num_sections=number_sections,\n",
    "                                         test_subject_ids=test_subject_id,\n",
    "                                         train_subject_ids=train_subject_ids,\n",
    "                                         test_rep_nums=test_repetition_numbers,\n",
    "                                         train_rep_nums=train_repetition_numbers,\n",
    "                                         test_ex_abbrs=test_exercises,\n",
    "                                         train_ex_abbrs=train_exercises,\n",
    "                                         rot_axis_test_data=rot_axis_test_data,\n",
    "                                         rot_angle_test_data=rot_angle_test_data,\n",
    "                                         add_noise_test_data=add_noise_test_data,\n",
    "                                         add_noise_train_data=add_noise_train_data,\n",
    "                                         snr_db=snr_db,\n",
    "                                         csv_data_dir=separated_csv_data_dir,\n",
    "                                         data_base_path=database_path,\n",
    "                                         sampling_rate=sampling_rate)"
   ]
  },
  {
   "cell_type": "markdown",
   "metadata": {
    "extensions": {
     "jupyter_dashboards": {
      "version": 1,
      "views": {
       "grid_default": {
        "col": 0,
        "height": 4,
        "hidden": false,
        "row": 20,
        "width": 4
       },
       "report_default": {
        "hidden": false
       }
      }
     }
    }
   },
   "source": [
    "***Load the start and stop times for each exercise repetition block of the test data:***"
   ]
  },
  {
   "cell_type": "code",
   "execution_count": 41,
   "metadata": {
    "ExecuteTime": {
     "end_time": "2019-02-03T22:08:47.493527Z",
     "start_time": "2019-02-03T22:08:47.331518Z"
    },
    "extensions": {
     "jupyter_dashboards": {
      "version": 1,
      "views": {
       "grid_default": {
        "hidden": true
       },
       "report_default": {
        "hidden": true
       }
      }
     }
    }
   },
   "outputs": [
    {
     "name": "stdout",
     "output_type": "stream",
     "text": [
      "16:09.5 - 16:23.1\n"
     ]
    }
   ],
   "source": [
    "timetable_ex_dict = get_timetable_ex_dict(timetable_file_dir, timetable_file_name)\n",
    "\n",
    "# Example:\n",
    "print(timetable_ex_dict['RF_5_start_time'] + ' - ' + timetable_ex_dict['RF_5_stop_time'])"
   ]
  },
  {
   "cell_type": "markdown",
   "metadata": {
    "extensions": {
     "jupyter_dashboards": {
      "version": 1,
      "views": {
       "grid_default": {
        "col": 0,
        "height": 4,
        "hidden": false,
        "row": 76,
        "width": 4
       },
       "report_default": {
        "hidden": false
       }
      }
     }
    }
   },
   "source": [
    "***Inspect loaded data for testing:***"
   ]
  },
  {
   "cell_type": "code",
   "execution_count": 42,
   "metadata": {
    "ExecuteTime": {
     "end_time": "2019-02-03T22:08:47.567531Z",
     "start_time": "2019-02-03T22:08:47.500527Z"
    },
    "extensions": {
     "jupyter_dashboards": {
      "version": 1,
      "views": {
       "grid_default": {
        "hidden": true
       },
       "report_default": {
        "hidden": true
       }
      }
     }
    }
   },
   "outputs": [
    {
     "data": {
      "text/html": [
       "\n",
       "        <iframe\n",
       "            width=\"100%\"\n",
       "            height=\"500\"\n",
       "            src=\"pivot_tables_html/TableTest_TestSub1_NumSec10_LogReg__20190203_230751.html\"\n",
       "            frameborder=\"0\"\n",
       "            allowfullscreen\n",
       "        ></iframe>\n",
       "        "
      ],
      "text/plain": [
       "<IPython.lib.display.IFrame at 0x1e65a390>"
      ]
     },
     "execution_count": 42,
     "metadata": {},
     "output_type": "execute_result"
    }
   ],
   "source": [
    "html_path = 'pivot_tables_html/TableTest_' + file_doc_string +'.html'\n",
    "pivot_ui(DataObj.get_test_data_points(), rows=['abbreviation'], cols=['subject_id', 'num_rep'], outfile_path=html_path)"
   ]
  },
  {
   "cell_type": "markdown",
   "metadata": {
    "extensions": {
     "jupyter_dashboards": {
      "version": 1,
      "views": {
       "grid_default": {
        "col": 4,
        "height": 4,
        "hidden": false,
        "row": 76,
        "width": 4
       },
       "report_default": {
        "hidden": false
       }
      }
     }
    }
   },
   "source": [
    "***Inspect loaded data for training:***"
   ]
  },
  {
   "cell_type": "code",
   "execution_count": 43,
   "metadata": {
    "ExecuteTime": {
     "end_time": "2019-02-03T22:08:47.832546Z",
     "start_time": "2019-02-03T22:08:47.576532Z"
    },
    "extensions": {
     "jupyter_dashboards": {
      "version": 1,
      "views": {
       "grid_default": {
        "hidden": true
       },
       "report_default": {
        "hidden": true
       }
      }
     }
    }
   },
   "outputs": [
    {
     "data": {
      "text/html": [
       "\n",
       "        <iframe\n",
       "            width=\"100%\"\n",
       "            height=\"500\"\n",
       "            src=\"pivot_tables_html/TableTrain_TestSub1_NumSec10_LogReg__20190203_230751.html\"\n",
       "            frameborder=\"0\"\n",
       "            allowfullscreen\n",
       "        ></iframe>\n",
       "        "
      ],
      "text/plain": [
       "<IPython.lib.display.IFrame at 0x1e65a4a8>"
      ]
     },
     "execution_count": 43,
     "metadata": {},
     "output_type": "execute_result"
    }
   ],
   "source": [
    "html_path = 'pivot_tables_html/TableTrain_' + file_doc_string +'.html'\n",
    "pivot_ui(DataObj.get_train_data_points(), rows=['abbreviation'], cols=['subject_id', 'num_rep'], outfile_path=html_path)"
   ]
  },
  {
   "cell_type": "markdown",
   "metadata": {},
   "source": [
    "## Dimensionality Reduction\n",
    "\n",
    "First, save features and labels from object to own matrices:"
   ]
  },
  {
   "cell_type": "code",
   "execution_count": 44,
   "metadata": {
    "ExecuteTime": {
     "end_time": "2019-02-03T22:08:47.958553Z",
     "start_time": "2019-02-03T22:08:47.837546Z"
    }
   },
   "outputs": [],
   "source": [
    "X_train = DataObj.X_train()\n",
    "X_test = DataObj.X_test()\n",
    "\n",
    "y_train = DataObj.y_train()\n",
    "y_test = DataObj.y_test()"
   ]
  },
  {
   "cell_type": "markdown",
   "metadata": {},
   "source": [
    "### Principal Component Analysis (PCA)"
   ]
  },
  {
   "cell_type": "code",
   "execution_count": 45,
   "metadata": {
    "ExecuteTime": {
     "end_time": "2019-02-03T22:08:48.154565Z",
     "start_time": "2019-02-03T22:08:47.971554Z"
    }
   },
   "outputs": [],
   "source": [
    "if use_PCA_for_dim_reduction is True:\n",
    "    \n",
    "    # make pca model\n",
    "    pca = PCA(n_components=number_principal_components)\n",
    "\n",
    "    # create new features from PCA projections\n",
    "    ct = timeit.default_timer()\n",
    "    X_train = pca.fit_transform(DataObj.X_train())\n",
    "    print_cell_exec_time(ct, 'PCA train samples (fit and transform)')\n",
    "    \n",
    "    ct = timeit.default_timer()\n",
    "    X_test = pca.transform(DataObj.X_test())\n",
    "    print_cell_exec_time(ct, 'PCA test samples (transform)')\n",
    "    \n",
    "    print('Variance explained by the {} principal components:  {:.2f}%'.format(number_principal_components,\n",
    "                                                                        pca.explained_variance_ratio_.sum()*100))    \n",
    "    np.shape(X_test)"
   ]
  },
  {
   "cell_type": "markdown",
   "metadata": {},
   "source": [
    "### Linear Discriminat Analysis\n",
    "\n",
    "A fitted LDA model can also be used to reduce the dimensionality of the input by projecting it to the most discriminative directions ($\\rightarrow$ number of classes - 1)."
   ]
  },
  {
   "cell_type": "code",
   "execution_count": 46,
   "metadata": {
    "ExecuteTime": {
     "end_time": "2019-02-03T22:08:48.301573Z",
     "start_time": "2019-02-03T22:08:48.164565Z"
    }
   },
   "outputs": [],
   "source": [
    "if use_LDA_for_dim_reduction is True:\n",
    "    \n",
    "    # make lda model\n",
    "    lda = LDA()\n",
    "\n",
    "    # create new features from LDA projections\n",
    "    ct = timeit.default_timer()\n",
    "    X_train = lda.fit_transform(DataObj.X_train(), DataObj.y_train())\n",
    "    print_cell_exec_time(ct, 'LDA train samples (fit and transform)')\n",
    "    \n",
    "    ct = timeit.default_timer()\n",
    "    X_test = lda.transform(DataObj.X_test())\n",
    "    print_cell_exec_time(ct, 'LDA test samples (transform)')\n",
    "\n",
    "    np.shape(X_test)"
   ]
  },
  {
   "cell_type": "markdown",
   "metadata": {
    "extensions": {
     "jupyter_dashboards": {
      "version": 1,
      "views": {
       "grid_default": {
        "col": 8,
        "height": 4,
        "hidden": false,
        "row": 76,
        "width": 4
       },
       "report_default": {
        "hidden": false
       }
      }
     }
    }
   },
   "source": [
    "## ML Classifier Model"
   ]
  },
  {
   "cell_type": "markdown",
   "metadata": {
    "extensions": {
     "jupyter_dashboards": {
      "version": 1,
      "views": {
       "grid_default": {
        "col": 0,
        "height": 5,
        "hidden": false,
        "row": 80,
        "width": 12
       },
       "report_default": {
        "hidden": false
       }
      }
     }
    }
   },
   "source": [
    "***Create the selected model with input scaling:***\n",
    "\n",
    "Additionally, inputs are scaled, because many elements used in the objective function of a learning algorithm (such as the RBF kernel of Support Vector Machines or the L1 and L2 regularizers of linear models) assume that all features are centered around 0 and have variance in the same order.\n",
    "\n",
    "(see https://scikit-learn.org/stable/modules/generated/sklearn.preprocessing.StandardScaler.html)"
   ]
  },
  {
   "cell_type": "code",
   "execution_count": 47,
   "metadata": {
    "ExecuteTime": {
     "end_time": "2019-02-03T22:08:48.448581Z",
     "start_time": "2019-02-03T22:08:48.310574Z"
    },
    "extensions": {
     "jupyter_dashboards": {
      "version": 1,
      "views": {
       "grid_default": {
        "hidden": true
       },
       "report_default": {
        "hidden": true
       }
      }
     }
    }
   },
   "outputs": [],
   "source": [
    "pipe_elements = [('scale', StandardScaler()), ('clf', ML_model)]\n",
    "ML_model_pipe = Pipeline(pipe_elements)"
   ]
  },
  {
   "cell_type": "markdown",
   "metadata": {
    "extensions": {
     "jupyter_dashboards": {
      "version": 1,
      "views": {
       "grid_default": {
        "col": 0,
        "height": 4,
        "hidden": false,
        "row": 85,
        "width": 4
       },
       "report_default": {
        "hidden": false
       }
      }
     }
    }
   },
   "source": [
    "### Grid Search Cross Validation"
   ]
  },
  {
   "cell_type": "markdown",
   "metadata": {
    "extensions": {
     "jupyter_dashboards": {
      "version": 1,
      "views": {
       "grid_default": {
        "col": 4,
        "height": 4,
        "hidden": false,
        "row": 85,
        "width": 4
       },
       "report_default": {
        "hidden": false
       }
      }
     }
    }
   },
   "source": [
    "***Splitting strategy for grid search: stratified cross validation with three folds***"
   ]
  },
  {
   "cell_type": "code",
   "execution_count": 48,
   "metadata": {
    "ExecuteTime": {
     "end_time": "2019-02-03T22:08:48.587589Z",
     "start_time": "2019-02-03T22:08:48.452582Z"
    },
    "extensions": {
     "jupyter_dashboards": {
      "version": 1,
      "views": {
       "grid_default": {
        "hidden": true
       },
       "report_default": {
        "hidden": true
       }
      }
     }
    }
   },
   "outputs": [],
   "source": [
    "grid_search = GridSearchCV(ML_model_pipe, param_grid=param_grid, cv=3, scoring='accuracy', \n",
    "                           verbose=10, return_train_score=True, n_jobs=-1)"
   ]
  },
  {
   "cell_type": "markdown",
   "metadata": {
    "extensions": {
     "jupyter_dashboards": {
      "version": 1,
      "views": {
       "grid_default": {
        "col": 8,
        "height": 4,
        "hidden": false,
        "row": 85,
        "width": 4
       },
       "report_default": {
        "hidden": false
       }
      }
     }
    }
   },
   "source": [
    "***Apply grid search cross validation:***\n",
    "\n",
    "Run fit with all sets of parameters."
   ]
  },
  {
   "cell_type": "code",
   "execution_count": 49,
   "metadata": {
    "ExecuteTime": {
     "end_time": "2019-02-03T22:10:25.450130Z",
     "start_time": "2019-02-03T22:08:48.593590Z"
    },
    "extensions": {
     "jupyter_dashboards": {
      "version": 1,
      "views": {
       "grid_default": {
        "hidden": true
       },
       "report_default": {
        "hidden": true
       }
      }
     }
    },
    "scrolled": false
   },
   "outputs": [
    {
     "name": "stdout",
     "output_type": "stream",
     "text": [
      "Fitting 3 folds for each of 10 candidates, totalling 30 fits\n"
     ]
    },
    {
     "name": "stderr",
     "output_type": "stream",
     "text": [
      "[Parallel(n_jobs=-1)]: Using backend LokyBackend with 4 concurrent workers.\n",
      "[Parallel(n_jobs=-1)]: Done   5 tasks      | elapsed:    4.5s\n",
      "[Parallel(n_jobs=-1)]: Done  10 tasks      | elapsed:    7.4s\n",
      "[Parallel(n_jobs=-1)]: Done  17 tasks      | elapsed:   16.7s\n",
      "[Parallel(n_jobs=-1)]: Done  27 out of  30 | elapsed:   58.2s remaining:    6.4s\n",
      "[Parallel(n_jobs=-1)]: Done  30 out of  30 | elapsed:  1.5min finished\n"
     ]
    },
    {
     "name": "stdout",
     "output_type": "stream",
     "text": [
      "Grid search cross validation -> execution time [min:sec]:  1:36.726\n"
     ]
    }
   ],
   "source": [
    "ct = timeit.default_timer()\n",
    "grid_search.fit(X_train, DataObj.y_train())\n",
    "print_cell_exec_time(ct, 'Grid search cross validation')"
   ]
  },
  {
   "cell_type": "markdown",
   "metadata": {
    "extensions": {
     "jupyter_dashboards": {
      "version": 1,
      "views": {
       "grid_default": {
        "col": 0,
        "height": 4,
        "hidden": false,
        "row": 89,
        "width": 4
       },
       "report_default": {
        "hidden": false
       }
      }
     }
    }
   },
   "source": [
    "***Show the results of grid search cross validation:***"
   ]
  },
  {
   "cell_type": "code",
   "execution_count": 74,
   "metadata": {
    "ExecuteTime": {
     "end_time": "2019-02-03T22:12:00.485565Z",
     "start_time": "2019-02-03T22:12:00.444563Z"
    },
    "extensions": {
     "jupyter_dashboards": {
      "version": 1,
      "views": {
       "grid_default": {
        "hidden": true
       },
       "report_default": {
        "hidden": true
       }
      }
     }
    },
    "scrolled": false
   },
   "outputs": [
    {
     "data": {
      "text/html": [
       "<div>\n",
       "<style>\n",
       "    .dataframe thead tr:only-child th {\n",
       "        text-align: right;\n",
       "    }\n",
       "\n",
       "    .dataframe thead th {\n",
       "        text-align: left;\n",
       "    }\n",
       "\n",
       "    .dataframe tbody tr th {\n",
       "        vertical-align: top;\n",
       "    }\n",
       "</style>\n",
       "<table border=\"1\" class=\"dataframe\">\n",
       "  <thead>\n",
       "    <tr style=\"text-align: right;\">\n",
       "      <th></th>\n",
       "      <th>0</th>\n",
       "      <th>1</th>\n",
       "      <th>2</th>\n",
       "      <th>3</th>\n",
       "      <th>4</th>\n",
       "      <th>5</th>\n",
       "      <th>6</th>\n",
       "      <th>7</th>\n",
       "      <th>8</th>\n",
       "      <th>9</th>\n",
       "    </tr>\n",
       "  </thead>\n",
       "  <tbody>\n",
       "    <tr>\n",
       "      <th>mean_fit_time</th>\n",
       "      <td>0.757043</td>\n",
       "      <td>1.32174</td>\n",
       "      <td>2.67915</td>\n",
       "      <td>1.7991</td>\n",
       "      <td>9.40687</td>\n",
       "      <td>2.34647</td>\n",
       "      <td>26.9782</td>\n",
       "      <td>3.57387</td>\n",
       "      <td>48.6978</td>\n",
       "      <td>4.51726</td>\n",
       "    </tr>\n",
       "    <tr>\n",
       "      <th>mean_score_time</th>\n",
       "      <td>0.0546698</td>\n",
       "      <td>0.0176677</td>\n",
       "      <td>0.0280015</td>\n",
       "      <td>0.0220012</td>\n",
       "      <td>0.0200012</td>\n",
       "      <td>0.0176678</td>\n",
       "      <td>0.0136675</td>\n",
       "      <td>0.0170008</td>\n",
       "      <td>0.00366672</td>\n",
       "      <td>0.0196677</td>\n",
       "    </tr>\n",
       "    <tr>\n",
       "      <th>mean_test_score</th>\n",
       "      <td>0.784314</td>\n",
       "      <td>0.891667</td>\n",
       "      <td>0.942157</td>\n",
       "      <td>0.942484</td>\n",
       "      <td>0.965686</td>\n",
       "      <td>0.955392</td>\n",
       "      <td>0.965196</td>\n",
       "      <td>0.960784</td>\n",
       "      <td>0.958007</td>\n",
       "      <td>0.960784</td>\n",
       "    </tr>\n",
       "    <tr>\n",
       "      <th>mean_train_score</th>\n",
       "      <td>0.796814</td>\n",
       "      <td>0.900246</td>\n",
       "      <td>0.954249</td>\n",
       "      <td>0.952778</td>\n",
       "      <td>0.978431</td>\n",
       "      <td>0.970997</td>\n",
       "      <td>0.989216</td>\n",
       "      <td>0.982108</td>\n",
       "      <td>0.992566</td>\n",
       "      <td>0.988807</td>\n",
       "    </tr>\n",
       "    <tr>\n",
       "      <th>param_clf__C</th>\n",
       "      <td>0.01</td>\n",
       "      <td>0.01</td>\n",
       "      <td>0.1</td>\n",
       "      <td>0.1</td>\n",
       "      <td>1</td>\n",
       "      <td>1</td>\n",
       "      <td>10</td>\n",
       "      <td>10</td>\n",
       "      <td>100</td>\n",
       "      <td>100</td>\n",
       "    </tr>\n",
       "    <tr>\n",
       "      <th>param_clf__penalty</th>\n",
       "      <td>l1</td>\n",
       "      <td>l2</td>\n",
       "      <td>l1</td>\n",
       "      <td>l2</td>\n",
       "      <td>l1</td>\n",
       "      <td>l2</td>\n",
       "      <td>l1</td>\n",
       "      <td>l2</td>\n",
       "      <td>l1</td>\n",
       "      <td>l2</td>\n",
       "    </tr>\n",
       "    <tr>\n",
       "      <th>params</th>\n",
       "      <td>{'clf__C': 0.01, 'clf__penalty': 'l1'}</td>\n",
       "      <td>{'clf__C': 0.01, 'clf__penalty': 'l2'}</td>\n",
       "      <td>{'clf__C': 0.1, 'clf__penalty': 'l1'}</td>\n",
       "      <td>{'clf__C': 0.1, 'clf__penalty': 'l2'}</td>\n",
       "      <td>{'clf__C': 1.0, 'clf__penalty': 'l1'}</td>\n",
       "      <td>{'clf__C': 1.0, 'clf__penalty': 'l2'}</td>\n",
       "      <td>{'clf__C': 10.0, 'clf__penalty': 'l1'}</td>\n",
       "      <td>{'clf__C': 10.0, 'clf__penalty': 'l2'}</td>\n",
       "      <td>{'clf__C': 100.0, 'clf__penalty': 'l1'}</td>\n",
       "      <td>{'clf__C': 100.0, 'clf__penalty': 'l2'}</td>\n",
       "    </tr>\n",
       "    <tr>\n",
       "      <th>rank_test_score</th>\n",
       "      <td>10</td>\n",
       "      <td>9</td>\n",
       "      <td>8</td>\n",
       "      <td>7</td>\n",
       "      <td>1</td>\n",
       "      <td>6</td>\n",
       "      <td>2</td>\n",
       "      <td>3</td>\n",
       "      <td>5</td>\n",
       "      <td>3</td>\n",
       "    </tr>\n",
       "    <tr>\n",
       "      <th>split0_test_score</th>\n",
       "      <td>0.774351</td>\n",
       "      <td>0.865884</td>\n",
       "      <td>0.924621</td>\n",
       "      <td>0.928536</td>\n",
       "      <td>0.961821</td>\n",
       "      <td>0.948605</td>\n",
       "      <td>0.969652</td>\n",
       "      <td>0.961331</td>\n",
       "      <td>0.958884</td>\n",
       "      <td>0.965737</td>\n",
       "    </tr>\n",
       "    <tr>\n",
       "      <th>split0_train_score</th>\n",
       "      <td>0.800343</td>\n",
       "      <td>0.901643</td>\n",
       "      <td>0.955359</td>\n",
       "      <td>0.954133</td>\n",
       "      <td>0.979397</td>\n",
       "      <td>0.972038</td>\n",
       "      <td>0.990189</td>\n",
       "      <td>0.983566</td>\n",
       "      <td>0.994604</td>\n",
       "      <td>0.989453</td>\n",
       "    </tr>\n",
       "    <tr>\n",
       "      <th>split1_test_score</th>\n",
       "      <td>0.789809</td>\n",
       "      <td>0.898089</td>\n",
       "      <td>0.943655</td>\n",
       "      <td>0.945125</td>\n",
       "      <td>0.971583</td>\n",
       "      <td>0.959824</td>\n",
       "      <td>0.964233</td>\n",
       "      <td>0.961783</td>\n",
       "      <td>0.959334</td>\n",
       "      <td>0.960804</td>\n",
       "    </tr>\n",
       "    <tr>\n",
       "      <th>split1_train_score</th>\n",
       "      <td>0.792106</td>\n",
       "      <td>0.89973</td>\n",
       "      <td>0.95342</td>\n",
       "      <td>0.950968</td>\n",
       "      <td>0.976465</td>\n",
       "      <td>0.9696</td>\n",
       "      <td>0.987742</td>\n",
       "      <td>0.980387</td>\n",
       "      <td>0.991419</td>\n",
       "      <td>0.987742</td>\n",
       "    </tr>\n",
       "    <tr>\n",
       "      <th>split2_test_score</th>\n",
       "      <td>0.788802</td>\n",
       "      <td>0.9111</td>\n",
       "      <td>0.958251</td>\n",
       "      <td>0.953831</td>\n",
       "      <td>0.963654</td>\n",
       "      <td>0.95776</td>\n",
       "      <td>0.96169</td>\n",
       "      <td>0.959234</td>\n",
       "      <td>0.955796</td>\n",
       "      <td>0.955796</td>\n",
       "    </tr>\n",
       "    <tr>\n",
       "      <th>split2_train_score</th>\n",
       "      <td>0.797992</td>\n",
       "      <td>0.899363</td>\n",
       "      <td>0.953967</td>\n",
       "      <td>0.953232</td>\n",
       "      <td>0.979432</td>\n",
       "      <td>0.971352</td>\n",
       "      <td>0.989716</td>\n",
       "      <td>0.98237</td>\n",
       "      <td>0.991675</td>\n",
       "      <td>0.989226</td>\n",
       "    </tr>\n",
       "    <tr>\n",
       "      <th>std_fit_time</th>\n",
       "      <td>0.0152544</td>\n",
       "      <td>0.0477545</td>\n",
       "      <td>0.175902</td>\n",
       "      <td>0.0885376</td>\n",
       "      <td>0.513844</td>\n",
       "      <td>0.0445172</td>\n",
       "      <td>2.12206</td>\n",
       "      <td>0.380422</td>\n",
       "      <td>8.88326</td>\n",
       "      <td>0.0685167</td>\n",
       "    </tr>\n",
       "    <tr>\n",
       "      <th>std_score_time</th>\n",
       "      <td>0.0196028</td>\n",
       "      <td>0.00946379</td>\n",
       "      <td>0.0148556</td>\n",
       "      <td>0.0190973</td>\n",
       "      <td>0.00927413</td>\n",
       "      <td>0.00946397</td>\n",
       "      <td>0.00579298</td>\n",
       "      <td>0.0155573</td>\n",
       "      <td>0.00124721</td>\n",
       "      <td>0.00821987</td>\n",
       "    </tr>\n",
       "    <tr>\n",
       "      <th>std_test_score</th>\n",
       "      <td>0.00706414</td>\n",
       "      <td>0.0190082</td>\n",
       "      <td>0.0137689</td>\n",
       "      <td>0.0104929</td>\n",
       "      <td>0.00423744</td>\n",
       "      <td>0.00487777</td>\n",
       "      <td>0.00332102</td>\n",
       "      <td>0.00111023</td>\n",
       "      <td>0.00157178</td>\n",
       "      <td>0.00405791</td>\n",
       "    </tr>\n",
       "    <tr>\n",
       "      <th>std_train_score</th>\n",
       "      <td>0.00346462</td>\n",
       "      <td>0.000999598</td>\n",
       "      <td>0.000816465</td>\n",
       "      <td>0.00133127</td>\n",
       "      <td>0.00139046</td>\n",
       "      <td>0.0010264</td>\n",
       "      <td>0.00105969</td>\n",
       "      <td>0.001311</td>\n",
       "      <td>0.00144472</td>\n",
       "      <td>0.00075876</td>\n",
       "    </tr>\n",
       "  </tbody>\n",
       "</table>\n",
       "</div>"
      ],
      "text/plain": [
       "                                                         0  \\\n",
       "mean_fit_time                                     0.757043   \n",
       "mean_score_time                                  0.0546698   \n",
       "mean_test_score                                   0.784314   \n",
       "mean_train_score                                  0.796814   \n",
       "param_clf__C                                          0.01   \n",
       "param_clf__penalty                                      l1   \n",
       "params              {'clf__C': 0.01, 'clf__penalty': 'l1'}   \n",
       "rank_test_score                                         10   \n",
       "split0_test_score                                 0.774351   \n",
       "split0_train_score                                0.800343   \n",
       "split1_test_score                                 0.789809   \n",
       "split1_train_score                                0.792106   \n",
       "split2_test_score                                 0.788802   \n",
       "split2_train_score                                0.797992   \n",
       "std_fit_time                                     0.0152544   \n",
       "std_score_time                                   0.0196028   \n",
       "std_test_score                                  0.00706414   \n",
       "std_train_score                                 0.00346462   \n",
       "\n",
       "                                                         1  \\\n",
       "mean_fit_time                                      1.32174   \n",
       "mean_score_time                                  0.0176677   \n",
       "mean_test_score                                   0.891667   \n",
       "mean_train_score                                  0.900246   \n",
       "param_clf__C                                          0.01   \n",
       "param_clf__penalty                                      l2   \n",
       "params              {'clf__C': 0.01, 'clf__penalty': 'l2'}   \n",
       "rank_test_score                                          9   \n",
       "split0_test_score                                 0.865884   \n",
       "split0_train_score                                0.901643   \n",
       "split1_test_score                                 0.898089   \n",
       "split1_train_score                                 0.89973   \n",
       "split2_test_score                                   0.9111   \n",
       "split2_train_score                                0.899363   \n",
       "std_fit_time                                     0.0477545   \n",
       "std_score_time                                  0.00946379   \n",
       "std_test_score                                   0.0190082   \n",
       "std_train_score                                0.000999598   \n",
       "\n",
       "                                                        2  \\\n",
       "mean_fit_time                                     2.67915   \n",
       "mean_score_time                                 0.0280015   \n",
       "mean_test_score                                  0.942157   \n",
       "mean_train_score                                 0.954249   \n",
       "param_clf__C                                          0.1   \n",
       "param_clf__penalty                                     l1   \n",
       "params              {'clf__C': 0.1, 'clf__penalty': 'l1'}   \n",
       "rank_test_score                                         8   \n",
       "split0_test_score                                0.924621   \n",
       "split0_train_score                               0.955359   \n",
       "split1_test_score                                0.943655   \n",
       "split1_train_score                                0.95342   \n",
       "split2_test_score                                0.958251   \n",
       "split2_train_score                               0.953967   \n",
       "std_fit_time                                     0.175902   \n",
       "std_score_time                                  0.0148556   \n",
       "std_test_score                                  0.0137689   \n",
       "std_train_score                               0.000816465   \n",
       "\n",
       "                                                        3  \\\n",
       "mean_fit_time                                      1.7991   \n",
       "mean_score_time                                 0.0220012   \n",
       "mean_test_score                                  0.942484   \n",
       "mean_train_score                                 0.952778   \n",
       "param_clf__C                                          0.1   \n",
       "param_clf__penalty                                     l2   \n",
       "params              {'clf__C': 0.1, 'clf__penalty': 'l2'}   \n",
       "rank_test_score                                         7   \n",
       "split0_test_score                                0.928536   \n",
       "split0_train_score                               0.954133   \n",
       "split1_test_score                                0.945125   \n",
       "split1_train_score                               0.950968   \n",
       "split2_test_score                                0.953831   \n",
       "split2_train_score                               0.953232   \n",
       "std_fit_time                                    0.0885376   \n",
       "std_score_time                                  0.0190973   \n",
       "std_test_score                                  0.0104929   \n",
       "std_train_score                                0.00133127   \n",
       "\n",
       "                                                        4  \\\n",
       "mean_fit_time                                     9.40687   \n",
       "mean_score_time                                 0.0200012   \n",
       "mean_test_score                                  0.965686   \n",
       "mean_train_score                                 0.978431   \n",
       "param_clf__C                                            1   \n",
       "param_clf__penalty                                     l1   \n",
       "params              {'clf__C': 1.0, 'clf__penalty': 'l1'}   \n",
       "rank_test_score                                         1   \n",
       "split0_test_score                                0.961821   \n",
       "split0_train_score                               0.979397   \n",
       "split1_test_score                                0.971583   \n",
       "split1_train_score                               0.976465   \n",
       "split2_test_score                                0.963654   \n",
       "split2_train_score                               0.979432   \n",
       "std_fit_time                                     0.513844   \n",
       "std_score_time                                 0.00927413   \n",
       "std_test_score                                 0.00423744   \n",
       "std_train_score                                0.00139046   \n",
       "\n",
       "                                                        5  \\\n",
       "mean_fit_time                                     2.34647   \n",
       "mean_score_time                                 0.0176678   \n",
       "mean_test_score                                  0.955392   \n",
       "mean_train_score                                 0.970997   \n",
       "param_clf__C                                            1   \n",
       "param_clf__penalty                                     l2   \n",
       "params              {'clf__C': 1.0, 'clf__penalty': 'l2'}   \n",
       "rank_test_score                                         6   \n",
       "split0_test_score                                0.948605   \n",
       "split0_train_score                               0.972038   \n",
       "split1_test_score                                0.959824   \n",
       "split1_train_score                                 0.9696   \n",
       "split2_test_score                                 0.95776   \n",
       "split2_train_score                               0.971352   \n",
       "std_fit_time                                    0.0445172   \n",
       "std_score_time                                 0.00946397   \n",
       "std_test_score                                 0.00487777   \n",
       "std_train_score                                 0.0010264   \n",
       "\n",
       "                                                         6  \\\n",
       "mean_fit_time                                      26.9782   \n",
       "mean_score_time                                  0.0136675   \n",
       "mean_test_score                                   0.965196   \n",
       "mean_train_score                                  0.989216   \n",
       "param_clf__C                                            10   \n",
       "param_clf__penalty                                      l1   \n",
       "params              {'clf__C': 10.0, 'clf__penalty': 'l1'}   \n",
       "rank_test_score                                          2   \n",
       "split0_test_score                                 0.969652   \n",
       "split0_train_score                                0.990189   \n",
       "split1_test_score                                 0.964233   \n",
       "split1_train_score                                0.987742   \n",
       "split2_test_score                                  0.96169   \n",
       "split2_train_score                                0.989716   \n",
       "std_fit_time                                       2.12206   \n",
       "std_score_time                                  0.00579298   \n",
       "std_test_score                                  0.00332102   \n",
       "std_train_score                                 0.00105969   \n",
       "\n",
       "                                                         7  \\\n",
       "mean_fit_time                                      3.57387   \n",
       "mean_score_time                                  0.0170008   \n",
       "mean_test_score                                   0.960784   \n",
       "mean_train_score                                  0.982108   \n",
       "param_clf__C                                            10   \n",
       "param_clf__penalty                                      l2   \n",
       "params              {'clf__C': 10.0, 'clf__penalty': 'l2'}   \n",
       "rank_test_score                                          3   \n",
       "split0_test_score                                 0.961331   \n",
       "split0_train_score                                0.983566   \n",
       "split1_test_score                                 0.961783   \n",
       "split1_train_score                                0.980387   \n",
       "split2_test_score                                 0.959234   \n",
       "split2_train_score                                 0.98237   \n",
       "std_fit_time                                      0.380422   \n",
       "std_score_time                                   0.0155573   \n",
       "std_test_score                                  0.00111023   \n",
       "std_train_score                                   0.001311   \n",
       "\n",
       "                                                          8  \\\n",
       "mean_fit_time                                       48.6978   \n",
       "mean_score_time                                  0.00366672   \n",
       "mean_test_score                                    0.958007   \n",
       "mean_train_score                                   0.992566   \n",
       "param_clf__C                                            100   \n",
       "param_clf__penalty                                       l1   \n",
       "params              {'clf__C': 100.0, 'clf__penalty': 'l1'}   \n",
       "rank_test_score                                           5   \n",
       "split0_test_score                                  0.958884   \n",
       "split0_train_score                                 0.994604   \n",
       "split1_test_score                                  0.959334   \n",
       "split1_train_score                                 0.991419   \n",
       "split2_test_score                                  0.955796   \n",
       "split2_train_score                                 0.991675   \n",
       "std_fit_time                                        8.88326   \n",
       "std_score_time                                   0.00124721   \n",
       "std_test_score                                   0.00157178   \n",
       "std_train_score                                  0.00144472   \n",
       "\n",
       "                                                          9  \n",
       "mean_fit_time                                       4.51726  \n",
       "mean_score_time                                   0.0196677  \n",
       "mean_test_score                                    0.960784  \n",
       "mean_train_score                                   0.988807  \n",
       "param_clf__C                                            100  \n",
       "param_clf__penalty                                       l2  \n",
       "params              {'clf__C': 100.0, 'clf__penalty': 'l2'}  \n",
       "rank_test_score                                           3  \n",
       "split0_test_score                                  0.965737  \n",
       "split0_train_score                                 0.989453  \n",
       "split1_test_score                                  0.960804  \n",
       "split1_train_score                                 0.987742  \n",
       "split2_test_score                                  0.955796  \n",
       "split2_train_score                                 0.989226  \n",
       "std_fit_time                                      0.0685167  \n",
       "std_score_time                                   0.00821987  \n",
       "std_test_score                                   0.00405791  \n",
       "std_train_score                                  0.00075876  "
      ]
     },
     "execution_count": 74,
     "metadata": {},
     "output_type": "execute_result"
    }
   ],
   "source": [
    "pd.DataFrame(grid_search.cv_results_).T"
   ]
  },
  {
   "cell_type": "markdown",
   "metadata": {
    "extensions": {
     "jupyter_dashboards": {
      "version": 1,
      "views": {
       "grid_default": {
        "col": 4,
        "height": 4,
        "hidden": false,
        "row": 89,
        "width": 4
       },
       "report_default": {
        "hidden": false
       }
      }
     }
    }
   },
   "source": [
    "***Show best parameters:***"
   ]
  },
  {
   "cell_type": "code",
   "execution_count": 51,
   "metadata": {
    "ExecuteTime": {
     "end_time": "2019-02-03T22:10:25.706144Z",
     "start_time": "2019-02-03T22:10:25.550135Z"
    },
    "extensions": {
     "jupyter_dashboards": {
      "version": 1,
      "views": {
       "grid_default": {
        "hidden": true
       },
       "report_default": {
        "hidden": true
       }
      }
     }
    }
   },
   "outputs": [
    {
     "data": {
      "text/plain": [
       "{'clf__C': 1.0, 'clf__penalty': 'l1'}"
      ]
     },
     "execution_count": 51,
     "metadata": {},
     "output_type": "execute_result"
    }
   ],
   "source": [
    "grid_search.best_params_"
   ]
  },
  {
   "cell_type": "markdown",
   "metadata": {
    "extensions": {
     "jupyter_dashboards": {
      "version": 1,
      "views": {
       "grid_default": {
        "col": 8,
        "height": 4,
        "hidden": false,
        "row": 89,
        "width": 4
       },
       "report_default": {
        "hidden": false
       }
      }
     }
    }
   },
   "source": [
    "***Show best score of cross validation (on training data):***\n",
    "\n",
    "Mean cross-validated score of the best estimator."
   ]
  },
  {
   "cell_type": "code",
   "execution_count": 52,
   "metadata": {
    "ExecuteTime": {
     "end_time": "2019-02-03T22:10:25.879154Z",
     "start_time": "2019-02-03T22:10:25.713145Z"
    },
    "extensions": {
     "jupyter_dashboards": {
      "version": 1,
      "views": {
       "grid_default": {
        "hidden": true
       },
       "report_default": {
        "hidden": true
       }
      }
     }
    }
   },
   "outputs": [
    {
     "name": "stdout",
     "output_type": "stream",
     "text": [
      "Accuracy: 96.57%\n"
     ]
    }
   ],
   "source": [
    "print('Accuracy: {:.2f}%'.format(grid_search.best_score_*100))"
   ]
  },
  {
   "cell_type": "markdown",
   "metadata": {
    "ExecuteTime": {
     "end_time": "2019-01-21T10:00:28.021374Z",
     "start_time": "2019-01-21T10:00:28.005373Z"
    },
    "extensions": {
     "jupyter_dashboards": {
      "version": 1,
      "views": {
       "grid_default": {
        "col": 0,
        "height": 4,
        "hidden": false,
        "row": 93,
        "width": 4
       },
       "report_default": {
        "hidden": false
       }
      }
     }
    }
   },
   "source": [
    "***Get estimator that was chosen by the search:***\n",
    "\n",
    "Estimator which gave highest score on the left out data."
   ]
  },
  {
   "cell_type": "code",
   "execution_count": 53,
   "metadata": {
    "ExecuteTime": {
     "end_time": "2019-02-03T22:10:26.040163Z",
     "start_time": "2019-02-03T22:10:25.886155Z"
    },
    "extensions": {
     "jupyter_dashboards": {
      "version": 1,
      "views": {
       "grid_default": {
        "hidden": true
       },
       "report_default": {
        "hidden": true
       }
      }
     }
    }
   },
   "outputs": [],
   "source": [
    "ML_model_best = grid_search.best_estimator_"
   ]
  },
  {
   "cell_type": "markdown",
   "metadata": {
    "extensions": {
     "jupyter_dashboards": {
      "version": 1,
      "views": {
       "grid_default": {
        "col": 0,
        "height": 7,
        "hidden": false,
        "row": 97,
        "width": 12
       },
       "report_default": {
        "hidden": false
       }
      }
     }
    }
   },
   "source": [
    "### Classification of Test Data (separated repetitions as samples)\n",
    "\n",
    "Now the (so far unseen) test samples are used, in order to check \n",
    "the performance of the generated ML model.\n",
    "\n",
    "At this point, it is important to keep in mind that the test samples were\n",
    "generated with information regarding start and stop times of the corresponding repetitions.\n",
    "Hence, the results of this section alone do not supply sufficient information for classification performance of new data, where start and stop times of the individual repetitions are not known.\n",
    "\n",
    "Nevertheless, it is a good point to start, because if classification on this samples does not work well,\n",
    "it is evident that classification of data without knowledge of start and stop times would even work much worse.\n",
    "And the actual goal is to classify data without knowledge of start and stop times of individual repetitions."
   ]
  },
  {
   "cell_type": "markdown",
   "metadata": {
    "extensions": {
     "jupyter_dashboards": {
      "version": 1,
      "views": {
       "grid_default": {
        "col": 4,
        "height": 4,
        "hidden": false,
        "row": 93,
        "width": 4
       },
       "report_default": {
        "hidden": false
       }
      }
     }
    }
   },
   "source": [
    "***Predict labels of the test data set:***"
   ]
  },
  {
   "cell_type": "code",
   "execution_count": 54,
   "metadata": {
    "ExecuteTime": {
     "end_time": "2019-02-03T22:10:26.191172Z",
     "start_time": "2019-02-03T22:10:26.044164Z"
    },
    "extensions": {
     "jupyter_dashboards": {
      "version": 1,
      "views": {
       "grid_default": {
        "hidden": true
       },
       "report_default": {
        "hidden": true
       }
      }
     }
    }
   },
   "outputs": [
    {
     "name": "stdout",
     "output_type": "stream",
     "text": [
      "Predict labels of sep. test samples -> execution time [min:sec]:  0:0.001\n"
     ]
    }
   ],
   "source": [
    "ct = timeit.default_timer()\n",
    "y_pred = ML_model_best.predict(X_test)\n",
    "print_cell_exec_time(ct, 'Predict labels of sep. test samples')"
   ]
  },
  {
   "cell_type": "markdown",
   "metadata": {
    "ExecuteTime": {
     "end_time": "2019-01-21T10:05:31.548735Z",
     "start_time": "2019-01-21T10:05:31.529734Z"
    },
    "extensions": {
     "jupyter_dashboards": {
      "version": 1,
      "views": {
       "grid_default": {
        "col": 8,
        "height": 4,
        "hidden": false,
        "row": 93,
        "width": 4
       },
       "report_default": {
        "hidden": false
       }
      }
     }
    }
   },
   "source": [
    "*** Show score:***"
   ]
  },
  {
   "cell_type": "code",
   "execution_count": 55,
   "metadata": {
    "ExecuteTime": {
     "end_time": "2019-02-03T22:10:26.341181Z",
     "start_time": "2019-02-03T22:10:26.204173Z"
    },
    "extensions": {
     "jupyter_dashboards": {
      "version": 1,
      "views": {
       "grid_default": {
        "hidden": true
       },
       "report_default": {
        "hidden": true
       }
      }
     }
    }
   },
   "outputs": [
    {
     "name": "stdout",
     "output_type": "stream",
     "text": [
      "Accuracy: 95.20%\n",
      "\n"
     ]
    }
   ],
   "source": [
    "print('Accuracy: {:.2f}%\\n'.format((accuracy_score(DataObj.y_test(), y_pred))*100))"
   ]
  },
  {
   "cell_type": "markdown",
   "metadata": {
    "extensions": {
     "jupyter_dashboards": {
      "version": 1,
      "views": {
       "grid_default": {
        "col": 0,
        "height": 4,
        "hidden": false,
        "row": 104,
        "width": null
       },
       "report_default": {
        "hidden": false
       }
      }
     }
    }
   },
   "source": [
    "***Show classification report:***\n",
    "\n",
    "$precision = \\frac{TP}{TP + FP} \\qquad recall = \\frac{TP}{TP + FN} \\qquad f{\\text-}score = \\frac{precision \\cdot recall}{precision + recall}$"
   ]
  },
  {
   "cell_type": "code",
   "execution_count": 56,
   "metadata": {
    "ExecuteTime": {
     "end_time": "2019-02-03T22:10:26.515191Z",
     "start_time": "2019-02-03T22:10:26.353181Z"
    },
    "extensions": {
     "jupyter_dashboards": {
      "version": 1,
      "views": {
       "grid_default": {
        "hidden": true
       },
       "report_default": {
        "hidden": true
       }
      }
     }
    }
   },
   "outputs": [
    {
     "data": {
      "text/html": [
       "<div>\n",
       "<style>\n",
       "    .dataframe thead tr:only-child th {\n",
       "        text-align: right;\n",
       "    }\n",
       "\n",
       "    .dataframe thead th {\n",
       "        text-align: left;\n",
       "    }\n",
       "\n",
       "    .dataframe tbody tr th {\n",
       "        vertical-align: top;\n",
       "    }\n",
       "</style>\n",
       "<table border=\"1\" class=\"dataframe\">\n",
       "  <thead>\n",
       "    <tr style=\"text-align: right;\">\n",
       "      <th></th>\n",
       "      <th>precision</th>\n",
       "      <th>recall</th>\n",
       "      <th>f1-score</th>\n",
       "      <th>support</th>\n",
       "    </tr>\n",
       "  </thead>\n",
       "  <tbody>\n",
       "    <tr>\n",
       "      <th>BC</th>\n",
       "      <td>0.968750</td>\n",
       "      <td>1.000000</td>\n",
       "      <td>0.984127</td>\n",
       "      <td>31</td>\n",
       "    </tr>\n",
       "    <tr>\n",
       "      <th>LR</th>\n",
       "      <td>1.000000</td>\n",
       "      <td>0.866667</td>\n",
       "      <td>0.928571</td>\n",
       "      <td>30</td>\n",
       "    </tr>\n",
       "    <tr>\n",
       "      <th>MP</th>\n",
       "      <td>0.750000</td>\n",
       "      <td>1.000000</td>\n",
       "      <td>0.857143</td>\n",
       "      <td>30</td>\n",
       "    </tr>\n",
       "    <tr>\n",
       "      <th>NE</th>\n",
       "      <td>0.989637</td>\n",
       "      <td>0.938575</td>\n",
       "      <td>0.963430</td>\n",
       "      <td>407</td>\n",
       "    </tr>\n",
       "    <tr>\n",
       "      <th>P1</th>\n",
       "      <td>0.937500</td>\n",
       "      <td>1.000000</td>\n",
       "      <td>0.967742</td>\n",
       "      <td>30</td>\n",
       "    </tr>\n",
       "    <tr>\n",
       "      <th>P2</th>\n",
       "      <td>0.882353</td>\n",
       "      <td>1.000000</td>\n",
       "      <td>0.937500</td>\n",
       "      <td>30</td>\n",
       "    </tr>\n",
       "    <tr>\n",
       "      <th>RF</th>\n",
       "      <td>0.789474</td>\n",
       "      <td>1.000000</td>\n",
       "      <td>0.882353</td>\n",
       "      <td>30</td>\n",
       "    </tr>\n",
       "    <tr>\n",
       "      <th>RO</th>\n",
       "      <td>0.925926</td>\n",
       "      <td>0.833333</td>\n",
       "      <td>0.877193</td>\n",
       "      <td>30</td>\n",
       "    </tr>\n",
       "    <tr>\n",
       "      <th>RS</th>\n",
       "      <td>1.000000</td>\n",
       "      <td>1.000000</td>\n",
       "      <td>1.000000</td>\n",
       "      <td>30</td>\n",
       "    </tr>\n",
       "    <tr>\n",
       "      <th>SA</th>\n",
       "      <td>0.939394</td>\n",
       "      <td>1.000000</td>\n",
       "      <td>0.968750</td>\n",
       "      <td>31</td>\n",
       "    </tr>\n",
       "    <tr>\n",
       "      <th>TC</th>\n",
       "      <td>0.967742</td>\n",
       "      <td>1.000000</td>\n",
       "      <td>0.983607</td>\n",
       "      <td>30</td>\n",
       "    </tr>\n",
       "    <tr>\n",
       "      <th>macro avg</th>\n",
       "      <td>0.922798</td>\n",
       "      <td>0.967143</td>\n",
       "      <td>0.940947</td>\n",
       "      <td>709</td>\n",
       "    </tr>\n",
       "    <tr>\n",
       "      <th>micro avg</th>\n",
       "      <td>0.952045</td>\n",
       "      <td>0.952045</td>\n",
       "      <td>0.952045</td>\n",
       "      <td>709</td>\n",
       "    </tr>\n",
       "    <tr>\n",
       "      <th>weighted avg</th>\n",
       "      <td>0.958427</td>\n",
       "      <td>0.952045</td>\n",
       "      <td>0.953002</td>\n",
       "      <td>709</td>\n",
       "    </tr>\n",
       "  </tbody>\n",
       "</table>\n",
       "</div>"
      ],
      "text/plain": [
       "              precision    recall  f1-score  support\n",
       "BC             0.968750  1.000000  0.984127       31\n",
       "LR             1.000000  0.866667  0.928571       30\n",
       "MP             0.750000  1.000000  0.857143       30\n",
       "NE             0.989637  0.938575  0.963430      407\n",
       "P1             0.937500  1.000000  0.967742       30\n",
       "P2             0.882353  1.000000  0.937500       30\n",
       "RF             0.789474  1.000000  0.882353       30\n",
       "RO             0.925926  0.833333  0.877193       30\n",
       "RS             1.000000  1.000000  1.000000       30\n",
       "SA             0.939394  1.000000  0.968750       31\n",
       "TC             0.967742  1.000000  0.983607       30\n",
       "macro avg      0.922798  0.967143  0.940947      709\n",
       "micro avg      0.952045  0.952045  0.952045      709\n",
       "weighted avg   0.958427  0.952045  0.953002      709"
      ]
     },
     "execution_count": 56,
     "metadata": {},
     "output_type": "execute_result"
    }
   ],
   "source": [
    "classif_report = classification_report(DataObj.y_test(), y_pred, labels=np.arange(0,11),\n",
    "                               target_names=['RF','RO','RS','LR','BC','TC','MP','SA','P1','P2','NE'],\n",
    "                               sample_weight=None, output_dict=True)\n",
    "pd.DataFrame.from_dict(classif_report, orient='index')"
   ]
  },
  {
   "cell_type": "markdown",
   "metadata": {
    "extensions": {
     "jupyter_dashboards": {
      "version": 1,
      "views": {
       "grid_default": {
        "col": 0,
        "height": 4,
        "hidden": false,
        "row": 108,
        "width": 4
       },
       "report_default": {
        "hidden": false
       }
      }
     }
    }
   },
   "source": [
    "***Show misclassified test samples:***"
   ]
  },
  {
   "cell_type": "code",
   "execution_count": 57,
   "metadata": {
    "ExecuteTime": {
     "end_time": "2019-02-03T22:10:26.671199Z",
     "start_time": "2019-02-03T22:10:26.520191Z"
    },
    "extensions": {
     "jupyter_dashboards": {
      "version": 1,
      "views": {
       "grid_default": {
        "hidden": true
       },
       "report_default": {
        "hidden": true
       }
      }
     }
    },
    "scrolled": false
   },
   "outputs": [
    {
     "name": "stdout",
     "output_type": "stream",
     "text": [
      "34 misclassified (709 test data points):\n",
      "RO classified as RF\n",
      "RO classified as RF\n",
      "RO classified as RF\n",
      "RO classified as RF\n",
      "RO classified as RF\n",
      "LR classified as NE\n",
      "LR classified as NE\n",
      "LR classified as NE\n",
      "LR classified as NE\n",
      "NE classified as SA\n",
      "NE classified as TC\n",
      "NE classified as MP\n",
      "NE classified as P2\n",
      "NE classified as BC\n",
      "NE classified as RO\n",
      "NE classified as RF\n",
      "NE classified as RO\n",
      "NE classified as P1\n",
      "NE classified as P1\n",
      "NE classified as RF\n",
      "NE classified as SA\n",
      "NE classified as RF\n",
      "NE classified as MP\n",
      "NE classified as MP\n",
      "NE classified as MP\n",
      "NE classified as MP\n",
      "NE classified as P2\n",
      "NE classified as MP\n",
      "NE classified as MP\n",
      "NE classified as MP\n",
      "NE classified as P2\n",
      "NE classified as MP\n",
      "NE classified as MP\n",
      "NE classified as P2\n"
     ]
    }
   ],
   "source": [
    "print_misclassified_data_points(y_pred, DataObj.y_test())"
   ]
  },
  {
   "cell_type": "markdown",
   "metadata": {
    "extensions": {
     "jupyter_dashboards": {
      "version": 1,
      "views": {
       "grid_default": {
        "col": 0,
        "height": 4,
        "hidden": false,
        "row": 112,
        "width": 12
       },
       "report_default": {
        "hidden": false
       }
      }
     }
    }
   },
   "source": [
    "### Classification of Test Data (whole record)\n",
    "\n",
    "Therefore, a certain windowing procedure is used in order to generate test samples."
   ]
  },
  {
   "cell_type": "code",
   "execution_count": 58,
   "metadata": {
    "ExecuteTime": {
     "end_time": "2019-02-03T22:10:39.564937Z",
     "start_time": "2019-02-03T22:10:26.676200Z"
    },
    "extensions": {
     "jupyter_dashboards": {
      "version": 1,
      "views": {
       "grid_default": {
        "hidden": true
       },
       "report_default": {
        "hidden": true
       }
      }
     }
    }
   },
   "outputs": [
    {
     "name": "stdout",
     "output_type": "stream",
     "text": [
      "Generate feature map... 100%\n"
     ]
    },
    {
     "data": {
      "text/plain": [
       "(210945, 60)"
      ]
     },
     "execution_count": 58,
     "metadata": {},
     "output_type": "execute_result"
    }
   ],
   "source": [
    "DataObject_WinProc = PDH.PhysioData_WindowingProcedure(test_subject_dir = test_subject_dir,\n",
    "                                                       test_subject_file = test_subject_file,\n",
    "                                                       number_sections = number_sections,\n",
    "                                                       sampling_rate = sampling_rate,\n",
    "                                                       cutoff = butterworth_cutoff,\n",
    "                                                       order = butterworth_order,\n",
    "                                                       win_start_inc = win_start_inc,\n",
    "                                                       win_stretch_inc = win_stretch_inc,\n",
    "                                                       win_min_len = win_min_len,\n",
    "                                                       win_max_len = win_max_len,\n",
    "                                                       rot_axis=rot_axis_test_data,\n",
    "                                                       rot_angle=rot_angle_test_data,\n",
    "                                                       add_noise=add_noise_test_data,\n",
    "                                                       target_snr_db=snr_db)\n",
    "np.shape(DataObject_WinProc.get_feature_map())"
   ]
  },
  {
   "cell_type": "markdown",
   "metadata": {
    "extensions": {
     "jupyter_dashboards": {
      "version": 1,
      "views": {
       "grid_default": {
        "col": 4,
        "height": 4,
        "hidden": false,
        "row": 108,
        "width": 4
       },
       "report_default": {
        "hidden": false
       }
      }
     }
    }
   },
   "source": [
    "***Predict probabilities of the generated samples:***\n",
    "\n",
    "(Also consider dimensionality reduction, if used.)"
   ]
  },
  {
   "cell_type": "code",
   "execution_count": 59,
   "metadata": {
    "ExecuteTime": {
     "end_time": "2019-02-03T22:10:39.583938Z",
     "start_time": "2019-02-03T22:10:39.569937Z"
    }
   },
   "outputs": [],
   "source": [
    "feature_map = DataObject_WinProc.get_feature_map()"
   ]
  },
  {
   "cell_type": "code",
   "execution_count": 60,
   "metadata": {
    "ExecuteTime": {
     "end_time": "2019-02-03T22:10:39.729946Z",
     "start_time": "2019-02-03T22:10:39.590938Z"
    },
    "extensions": {
     "jupyter_dashboards": {
      "version": 1,
      "views": {
       "grid_default": {
        "hidden": true
       },
       "report_default": {
        "hidden": true
       }
      }
     }
    }
   },
   "outputs": [
    {
     "name": "stdout",
     "output_type": "stream",
     "text": [
      "Dimensionality reduction of feature map -> execution time [min:sec]:  0:0.000\n"
     ]
    }
   ],
   "source": [
    "ct = timeit.default_timer()\n",
    "\n",
    "if use_PCA_for_dim_reduction is True:\n",
    "    feature_map = pca.transform(feature_map)\n",
    "    \n",
    "if use_LDA_for_dim_reduction is True:\n",
    "    feature_map = lda.transform(feature_map)\n",
    "    \n",
    "print_cell_exec_time(ct, 'Dimensionality reduction of feature map')"
   ]
  },
  {
   "cell_type": "code",
   "execution_count": 61,
   "metadata": {
    "ExecuteTime": {
     "end_time": "2019-02-03T22:10:40.303979Z",
     "start_time": "2019-02-03T22:10:39.733947Z"
    }
   },
   "outputs": [
    {
     "name": "stdout",
     "output_type": "stream",
     "text": [
      "Predict probabilities of feature map -> execution time [min:sec]:  0:0.405\n"
     ]
    },
    {
     "data": {
      "text/plain": [
       "(210945, 11)"
      ]
     },
     "execution_count": 61,
     "metadata": {},
     "output_type": "execute_result"
    }
   ],
   "source": [
    "ct = timeit.default_timer()\n",
    "pred_probs = ML_model_best.predict_proba(feature_map)\n",
    "print_cell_exec_time(ct, 'Predict probabilities of feature map')\n",
    "np.shape(pred_probs)"
   ]
  },
  {
   "cell_type": "markdown",
   "metadata": {
    "extensions": {
     "jupyter_dashboards": {
      "version": 1,
      "views": {
       "grid_default": {
        "col": 8,
        "height": 4,
        "hidden": false,
        "row": 108,
        "width": 4
       },
       "report_default": {
        "hidden": false
       }
      }
     }
    }
   },
   "source": [
    "***Evaluate the predicted probabilites:***"
   ]
  },
  {
   "cell_type": "code",
   "execution_count": 62,
   "metadata": {
    "ExecuteTime": {
     "end_time": "2019-02-03T22:10:41.828066Z",
     "start_time": "2019-02-03T22:10:40.307979Z"
    },
    "extensions": {
     "jupyter_dashboards": {
      "version": 1,
      "views": {
       "grid_default": {
        "hidden": true
       },
       "report_default": {
        "hidden": true
       }
      }
     }
    },
    "scrolled": true
   },
   "outputs": [
    {
     "name": "stdout",
     "output_type": "stream",
     "text": [
      "\n",
      "Exercise: RF\n",
      "Number of blocks: 8\n",
      "\n",
      "\tBlock #1:\n",
      "\t\tRepetitions: 10\n",
      "\t\tTime range: 02:05.8 - 02:39.0\n",
      "\t\tRepetition lengths [s] and predicted prob.: \n",
      "\t\t\t  1\t3.60\t(0.996)\n",
      "\t\t\t  2\t3.20\t(0.849)\n",
      "\t\t\t  3\t3.60\t(0.923)\n",
      "\t\t\t  4\t1.60\t(0.549)\n",
      "\t\t\t  5\t4.40\t(0.996)\n",
      "\t\t\t  6\t4.00\t(0.958)\n",
      "\t\t\t  7\t3.80\t(0.893)\n",
      "\t\t\t  8\t4.00\t(0.889)\n",
      "\t\t\t  9\t4.60\t(0.933)\n",
      "\t\t\t 10\t1.80\t(0.778)\n",
      "\tBlock #2:\n",
      "\t\tRepetitions: 3\n",
      "\t\tTime range: 08:23.2 - 08:32.6\n",
      "\t\tRepetition lengths [s] and predicted prob.: \n",
      "\t\t\t  1\t3.40\t(0.795)\n",
      "\t\t\t  2\t4.20\t(0.886)\n",
      "\t\t\t  3\t1.40\t(0.866)\n",
      "\tBlock #3:\n",
      "\t\tRepetitions: 5\n",
      "\t\tTime range: 13:12.8 - 13:33.0\n",
      "\t\tRepetition lengths [s] and predicted prob.: \n",
      "\t\t\t  1\t3.60\t(0.996)\n",
      "\t\t\t  2\t2.00\t(0.987)\n",
      "\t\t\t  3\t1.20\t(0.733)\n",
      "\t\t\t  4\t4.80\t(0.956)\n",
      "\t\t\t  5\t4.80\t(0.999)\n",
      "\tBlock #4:\n",
      "\t\tRepetitions: 13\n",
      "\t\tTime range: 13:35.0 - 14:18.0\n",
      "\t\tRepetition lengths [s] and predicted prob.: \n",
      "\t\t\t  1\t4.60\t(0.984)\n",
      "\t\t\t  2\t2.80\t(0.955)\n",
      "\t\t\t  3\t3.60\t(0.997)\n",
      "\t\t\t  4\t3.80\t(0.992)\n",
      "\t\t\t  5\t3.60\t(0.996)\n",
      "\t\t\t  6\t3.60\t(0.991)\n",
      "\t\t\t  7\t3.20\t(0.997)\n",
      "\t\t\t  8\t3.40\t(0.994)\n",
      "\t\t\t  9\t3.60\t(0.994)\n",
      "\t\t\t 10\t3.80\t(0.995)\n",
      "\t\t\t 11\t4.20\t(0.980)\n",
      "\t\t\t 12\t3.20\t(0.992)\n",
      "\t\t\t 13\t5.00\t(0.927)\n",
      "\tBlock #5:\n",
      "\t\tRepetitions: 18\n",
      "\t\tTime range: 14:39.6 - 15:29.4\n",
      "\t\tRepetition lengths [s] and predicted prob.: \n",
      "\t\t\t  1\t2.80\t(0.997)\n",
      "\t\t\t  2\t3.20\t(0.998)\n",
      "\t\t\t  3\t3.00\t(0.998)\n",
      "\t\t\t  4\t3.20\t(0.994)\n",
      "\t\t\t  5\t3.20\t(0.996)\n",
      "\t\t\t  6\t3.00\t(0.996)\n",
      "\t\t\t  7\t3.00\t(0.995)\n",
      "\t\t\t  8\t3.00\t(0.994)\n",
      "\t\t\t  9\t2.80\t(0.992)\n",
      "\t\t\t 10\t2.60\t(0.995)\n",
      "\t\t\t 11\t3.00\t(0.994)\n",
      "\t\t\t 12\t3.00\t(0.997)\n",
      "\t\t\t 13\t3.20\t(0.996)\n",
      "\t\t\t 14\t2.80\t(0.992)\n",
      "\t\t\t 15\t3.80\t(0.994)\n",
      "\t\t\t 16\t5.00\t(0.983)\n",
      "\t\t\t 17\t4.20\t(0.901)\n",
      "\t\t\t 18\t2.00\t(0.990)\n",
      "\tBlock #6:\n",
      "\t\tRepetitions: 6\n",
      "\t\tTime range: 16:08.0 - 16:23.6\n",
      "\t\tRepetition lengths [s] and predicted prob.: \n",
      "\t\t\t  1\t3.60\t(0.997)\n",
      "\t\t\t  2\t3.60\t(0.998)\n",
      "\t\t\t  3\t3.40\t(0.996)\n",
      "\t\t\t  4\t3.00\t(0.991)\n",
      "\t\t\t  5\t3.20\t(0.989)\n",
      "\t\t\t  6\t1.00\t(0.919)\n",
      "\tBlock #7:\n",
      "\t\tRepetitions: 4\n",
      "\t\tTime range: 19:33.6 - 19:51.0\n",
      "\t\tRepetition lengths [s] and predicted prob.: \n",
      "\t\t\t  1\t5.00\t(0.965)\n",
      "\t\t\t  2\t4.40\t(0.647)\n",
      "\t\t\t  3\t1.00\t(0.718)\n",
      "\t\t\t  4\t4.00\t(0.658)\n",
      "\tBlock #8:\n",
      "\t\tRepetitions: 3\n",
      "\t\tTime range: 22:56.6 - 23:06.2\n",
      "\t\tRepetition lengths [s] and predicted prob.: \n",
      "\t\t\t  1\t2.80\t(0.857)\n",
      "\t\t\t  2\t1.00\t(0.663)\n",
      "\t\t\t  3\t1.40\t(0.586)\n",
      "\n",
      "Exercise: RO\n",
      "Number of blocks: 2\n",
      "\n",
      "\tBlock #1:\n",
      "\t\tRepetitions: 15\n",
      "\t\tTime range: 01:17.2 - 01:57.8\n",
      "\t\tRepetition lengths [s] and predicted prob.: \n",
      "\t\t\t  1\t3.80\t(0.852)\n",
      "\t\t\t  2\t3.60\t(0.856)\n",
      "\t\t\t  3\t4.00\t(0.964)\n",
      "\t\t\t  4\t4.00\t(0.955)\n",
      "\t\t\t  5\t4.00\t(0.897)\n",
      "\t\t\t  6\t3.60\t(0.818)\n",
      "\t\t\t  7\t2.80\t(0.913)\n",
      "\t\t\t  8\t3.80\t(0.924)\n",
      "\t\t\t  9\t3.60\t(0.854)\n",
      "\t\t\t 10\t4.00\t(0.903)\n",
      "\t\t\t 11\t3.60\t(0.912)\n",
      "\t\t\t 12\t4.20\t(0.884)\n",
      "\t\t\t 13\t3.80\t(0.935)\n",
      "\t\t\t 14\t4.20\t(0.874)\n",
      "\t\t\t 15\t4.20\t(0.928)\n",
      "\tBlock #2:\n",
      "\t\tRepetitions: 11\n",
      "\t\tTime range: 02:48.8 - 03:23.2\n",
      "\t\tRepetition lengths [s] and predicted prob.: \n",
      "\t\t\t  1\t1.00\t(0.921)\n",
      "\t\t\t  2\t3.80\t(0.880)\n",
      "\t\t\t  3\t4.60\t(0.967)\n",
      "\t\t\t  4\t4.40\t(0.960)\n",
      "\t\t\t  5\t3.60\t(0.920)\n",
      "\t\t\t  6\t3.60\t(0.953)\n",
      "\t\t\t  7\t3.60\t(0.962)\n",
      "\t\t\t  8\t3.80\t(0.951)\n",
      "\t\t\t  9\t3.00\t(0.963)\n",
      "\t\t\t 10\t3.00\t(0.963)\n",
      "\t\t\t 11\t4.80\t(0.970)\n",
      "\n",
      "Exercise: RS\n",
      "Number of blocks: 4\n",
      "\n",
      "\tBlock #1:\n",
      "\t\tRepetitions: 3\n",
      "\t\tTime range: 00:32.0 - 00:39.6\n",
      "\t\tRepetition lengths [s] and predicted prob.: \n",
      "\t\t\t  1\t4.60\t(0.948)\n",
      "\t\t\t  2\t2.20\t(0.987)\n",
      "\t\t\t  3\t1.40\t(0.961)\n",
      "\tBlock #2:\n",
      "\t\tRepetitions: 15\n",
      "\t\tTime range: 20:12.2 - 20:59.6\n",
      "\t\tRepetition lengths [s] and predicted prob.: \n",
      "\t\t\t  1\t3.40\t(0.998)\n",
      "\t\t\t  2\t3.00\t(0.999)\n",
      "\t\t\t  3\t3.20\t(0.998)\n",
      "\t\t\t  4\t3.00\t(0.994)\n",
      "\t\t\t  5\t3.40\t(0.996)\n",
      "\t\t\t  6\t4.60\t(0.986)\n",
      "\t\t\t  7\t2.80\t(0.982)\n",
      "\t\t\t  8\t4.60\t(0.994)\n",
      "\t\t\t  9\t3.20\t(0.949)\n",
      "\t\t\t 10\t4.80\t(0.970)\n",
      "\t\t\t 11\t3.00\t(0.983)\n",
      "\t\t\t 12\t3.00\t(0.980)\n",
      "\t\t\t 13\t3.40\t(0.998)\n",
      "\t\t\t 14\t3.60\t(0.981)\n",
      "\t\t\t 15\t3.40\t(0.982)\n",
      "\tBlock #3:\n",
      "\t\tRepetitions: 5\n",
      "\t\tTime range: 21:24.0 - 21:39.6\n",
      "\t\tRepetition lengths [s] and predicted prob.: \n",
      "\t\t\t  1\t2.80\t(0.994)\n",
      "\t\t\t  2\t3.00\t(0.990)\n",
      "\t\t\t  3\t3.40\t(0.970)\n",
      "\t\t\t  4\t3.20\t(0.985)\n",
      "\t\t\t  5\t3.60\t(0.982)\n",
      "\tBlock #4:\n",
      "\t\tRepetitions: 10\n",
      "\t\tTime range: 22:09.0 - 22:37.6\n",
      "\t\tRepetition lengths [s] and predicted prob.: \n",
      "\t\t\t  1\t2.40\t(0.998)\n",
      "\t\t\t  2\t2.60\t(0.995)\n",
      "\t\t\t  3\t4.60\t(0.988)\n",
      "\t\t\t  4\t3.20\t(0.996)\n",
      "\t\t\t  5\t3.40\t(0.994)\n",
      "\t\t\t  6\t4.20\t(0.993)\n",
      "\t\t\t  7\t3.40\t(0.993)\n",
      "\t\t\t  8\t4.80\t(0.993)\n",
      "\t\t\t  9\t3.20\t(0.997)\n",
      "\t\t\t 10\t3.20\t(0.985)\n",
      "\n",
      "Exercise: LR\n",
      "Number of blocks: 4\n",
      "\n",
      "\tBlock #1:\n",
      "\t\tRepetitions: 4\n",
      "\t\tTime range: 03:58.6 - 04:11.2\n",
      "\t\tRepetition lengths [s] and predicted prob.: \n",
      "\t\t\t  1\t4.60\t(0.985)\n",
      "\t\t\t  2\t1.00\t(0.819)\n",
      "\t\t\t  3\t4.60\t(0.823)\n",
      "\t\t\t  4\t2.20\t(0.743)\n",
      "\tBlock #2:\n",
      "\t\tRepetitions: 6\n",
      "\t\tTime range: 10:36.6 - 10:56.4\n",
      "\t\tRepetition lengths [s] and predicted prob.: \n",
      "\t\t\t  1\t2.60\t(0.774)\n",
      "\t\t\t  2\t1.80\t(0.616)\n",
      "\t\t\t  3\t2.80\t(0.570)\n",
      "\t\t\t  4\t2.60\t(0.624)\n",
      "\t\t\t  5\t2.80\t(0.714)\n",
      "\t\t\t  6\t3.00\t(0.648)\n",
      "\tBlock #3:\n",
      "\t\tRepetitions: 13\n",
      "\t\tTime range: 11:14.8 - 11:51.2\n",
      "\t\tRepetition lengths [s] and predicted prob.: \n",
      "\t\t\t  1\t5.00\t(0.825)\n",
      "\t\t\t  2\t1.00\t(0.875)\n",
      "\t\t\t  3\t1.60\t(0.813)\n",
      "\t\t\t  4\t2.40\t(0.553)\n",
      "\t\t\t  5\t2.80\t(0.548)\n",
      "\t\t\t  6\t2.20\t(0.525)\n",
      "\t\t\t  7\t2.40\t(0.561)\n",
      "\t\t\t  8\t3.20\t(0.592)\n",
      "\t\t\t  9\t2.40\t(0.556)\n",
      "\t\t\t 10\t2.20\t(0.606)\n",
      "\t\t\t 11\t2.40\t(0.548)\n",
      "\t\t\t 12\t1.40\t(0.574)\n",
      "\t\t\t 13\t3.00\t(0.534)\n",
      "\tBlock #4:\n",
      "\t\tRepetitions: 15\n",
      "\t\tTime range: 12:05.8 - 12:51.4\n",
      "\t\tRepetition lengths [s] and predicted prob.: \n",
      "\t\t\t  1\t1.20\t(0.580)\n",
      "\t\t\t  2\t1.40\t(0.581)\n",
      "\t\t\t  3\t2.00\t(0.539)\n",
      "\t\t\t  4\t1.80\t(0.555)\n",
      "\t\t\t  5\t2.40\t(0.530)\n",
      "\t\t\t  6\t1.20\t(0.533)\n",
      "\t\t\t  7\t2.40\t(0.520)\n",
      "\t\t\t  8\t2.00\t(0.540)\n",
      "\t\t\t  9\t1.80\t(0.539)\n",
      "\t\t\t 10\t1.00\t(0.529)\n",
      "\t\t\t 11\t2.60\t(0.512)\n",
      "\t\t\t 12\t2.20\t(0.560)\n",
      "\t\t\t 13\t2.40\t(0.526)\n",
      "\t\t\t 14\t2.20\t(0.559)\n",
      "\t\t\t 15\t3.20\t(0.523)\n",
      "\n",
      "Exercise: BC\n",
      "Number of blocks: 3\n",
      "\n",
      "\tBlock #1:\n",
      "\t\tRepetitions: 15\n",
      "\t\tTime range: 16:49.6 - 17:30.0\n",
      "\t\tRepetition lengths [s] and predicted prob.: \n",
      "\t\t\t  1\t3.80\t(1.000)\n",
      "\t\t\t  2\t4.00\t(1.000)\n",
      "\t\t\t  3\t3.60\t(1.000)\n",
      "\t\t\t  4\t3.60\t(1.000)\n",
      "\t\t\t  5\t3.60\t(1.000)\n",
      "\t\t\t  6\t3.80\t(1.000)\n",
      "\t\t\t  7\t3.40\t(1.000)\n",
      "\t\t\t  8\t4.00\t(1.000)\n",
      "\t\t\t  9\t3.60\t(1.000)\n",
      "\t\t\t 10\t4.00\t(1.000)\n",
      "\t\t\t 11\t4.20\t(1.000)\n",
      "\t\t\t 12\t3.80\t(1.000)\n",
      "\t\t\t 13\t4.20\t(1.000)\n",
      "\t\t\t 14\t3.80\t(1.000)\n",
      "\t\t\t 15\t3.80\t(1.000)\n",
      "\tBlock #2:\n",
      "\t\tRepetitions: 11\n",
      "\t\tTime range: 18:00.2 - 18:32.2\n",
      "\t\tRepetition lengths [s] and predicted prob.: \n",
      "\t\t\t  1\t4.00\t(1.000)\n",
      "\t\t\t  2\t4.40\t(1.000)\n",
      "\t\t\t  3\t4.40\t(1.000)\n",
      "\t\t\t  4\t4.40\t(1.000)\n",
      "\t\t\t  5\t4.00\t(1.000)\n",
      "\t\t\t  6\t5.00\t(1.000)\n",
      "\t\t\t  7\t3.80\t(1.000)\n",
      "\t\t\t  8\t3.60\t(1.000)\n",
      "\t\t\t  9\t4.00\t(1.000)\n",
      "\t\t\t 10\t4.40\t(1.000)\n",
      "\t\t\t 11\t4.00\t(1.000)\n",
      "\tBlock #3:\n",
      "\t\tRepetitions: 5\n",
      "\t\tTime range: 18:57.6 - 19:12.2\n",
      "\t\tRepetition lengths [s] and predicted prob.: \n",
      "\t\t\t  1\t3.60\t(1.000)\n",
      "\t\t\t  2\t3.60\t(1.000)\n",
      "\t\t\t  3\t3.80\t(1.000)\n",
      "\t\t\t  4\t4.00\t(1.000)\n",
      "\t\t\t  5\t4.80\t(0.999)\n",
      "\n",
      "Exercise: TC\n",
      "Number of blocks: 3\n",
      "\n",
      "\tBlock #1:\n",
      "\t\tRepetitions: 17\n",
      "\t\tTime range: 07:26.4 - 08:17.8\n",
      "\t\tRepetition lengths [s] and predicted prob.: \n",
      "\t\t\t  1\t4.60\t(0.774)\n",
      "\t\t\t  2\t4.00\t(1.000)\n",
      "\t\t\t  3\t3.60\t(1.000)\n",
      "\t\t\t  4\t3.40\t(1.000)\n",
      "\t\t\t  5\t3.60\t(1.000)\n",
      "\t\t\t  6\t3.80\t(1.000)\n",
      "\t\t\t  7\t3.60\t(1.000)\n",
      "\t\t\t  8\t4.20\t(1.000)\n",
      "\t\t\t  9\t4.00\t(1.000)\n",
      "\t\t\t 10\t3.80\t(1.000)\n",
      "\t\t\t 11\t4.20\t(1.000)\n",
      "\t\t\t 12\t4.60\t(1.000)\n",
      "\t\t\t 13\t4.20\t(1.000)\n",
      "\t\t\t 14\t4.40\t(1.000)\n",
      "\t\t\t 15\t4.40\t(1.000)\n",
      "\t\t\t 16\t5.00\t(1.000)\n",
      "\t\t\t 17\t4.80\t(0.996)\n",
      "\tBlock #2:\n",
      "\t\tRepetitions: 7\n",
      "\t\tTime range: 08:42.8 - 09:07.2\n",
      "\t\tRepetition lengths [s] and predicted prob.: \n",
      "\t\t\t  1\t4.80\t(0.939)\n",
      "\t\t\t  2\t4.20\t(1.000)\n",
      "\t\t\t  3\t4.40\t(1.000)\n",
      "\t\t\t  4\t4.60\t(1.000)\n",
      "\t\t\t  5\t4.80\t(1.000)\n",
      "\t\t\t  6\t4.20\t(1.000)\n",
      "\t\t\t  7\t4.40\t(0.999)\n",
      "\tBlock #3:\n",
      "\t\tRepetitions: 11\n",
      "\t\tTime range: 09:44.6 - 10:15.6\n",
      "\t\tRepetition lengths [s] and predicted prob.: \n",
      "\t\t\t  1\t3.80\t(1.000)\n",
      "\t\t\t  2\t3.20\t(1.000)\n",
      "\t\t\t  3\t3.40\t(1.000)\n",
      "\t\t\t  4\t3.40\t(1.000)\n",
      "\t\t\t  5\t3.00\t(1.000)\n",
      "\t\t\t  6\t3.60\t(1.000)\n",
      "\t\t\t  7\t3.20\t(1.000)\n",
      "\t\t\t  8\t3.80\t(1.000)\n",
      "\t\t\t  9\t4.60\t(1.000)\n",
      "\t\t\t 10\t5.00\t(1.000)\n",
      "\t\t\t 11\t4.60\t(0.979)\n",
      "\n",
      "Exercise: MP\n",
      "Number of blocks: 4\n",
      "\n",
      "\tBlock #1:\n",
      "\t\tRepetitions: 5\n",
      "\t\tTime range: 29:40.8 - 29:55.0\n",
      "\t\tRepetition lengths [s] and predicted prob.: \n",
      "\t\t\t  1\t4.80\t(0.960)\n",
      "\t\t\t  2\t1.60\t(0.991)\n",
      "\t\t\t  3\t1.80\t(0.995)\n",
      "\t\t\t  4\t4.20\t(0.978)\n",
      "\t\t\t  5\t2.60\t(0.979)\n",
      "\tBlock #2:\n",
      "\t\tRepetitions: 12\n",
      "\t\tTime range: 29:58.6 - 30:38.8\n",
      "\t\tRepetition lengths [s] and predicted prob.: \n",
      "\t\t\t  1\t2.60\t(0.992)\n",
      "\t\t\t  2\t1.00\t(0.988)\n",
      "\t\t\t  3\t2.60\t(0.992)\n",
      "\t\t\t  4\t2.60\t(0.981)\n",
      "\t\t\t  5\t2.40\t(0.982)\n",
      "\t\t\t  6\t2.00\t(0.995)\n",
      "\t\t\t  7\t2.80\t(0.976)\n",
      "\t\t\t  8\t4.80\t(0.991)\n",
      "\t\t\t  9\t3.80\t(0.990)\n",
      "\t\t\t 10\t3.20\t(0.993)\n",
      "\t\t\t 11\t2.60\t(0.993)\n",
      "\t\t\t 12\t4.80\t(0.995)\n",
      "\tBlock #3:\n",
      "\t\tRepetitions: 11\n",
      "\t\tTime range: 31:14.6 - 31:48.0\n",
      "\t\tRepetition lengths [s] and predicted prob.: \n",
      "\t\t\t  1\t2.40\t(0.995)\n",
      "\t\t\t  2\t3.60\t(0.981)\n",
      "\t\t\t  3\t2.00\t(0.992)\n",
      "\t\t\t  4\t1.20\t(0.975)\n",
      "\t\t\t  5\t2.20\t(0.984)\n",
      "\t\t\t  6\t2.40\t(0.986)\n",
      "\t\t\t  7\t2.80\t(0.975)\n",
      "\t\t\t  8\t1.60\t(0.985)\n",
      "\t\t\t  9\t3.00\t(0.993)\n",
      "\t\t\t 10\t2.20\t(0.992)\n",
      "\t\t\t 11\t2.20\t(0.983)\n",
      "\tBlock #4:\n",
      "\t\tRepetitions: 8\n",
      "\t\tTime range: 32:06.4 - 32:28.8\n",
      "\t\tRepetition lengths [s] and predicted prob.: \n",
      "\t\t\t  1\t3.80\t(0.988)\n",
      "\t\t\t  2\t1.00\t(0.993)\n",
      "\t\t\t  3\t3.00\t(0.992)\n",
      "\t\t\t  4\t2.80\t(0.995)\n",
      "\t\t\t  5\t2.00\t(0.996)\n",
      "\t\t\t  6\t3.00\t(0.991)\n",
      "\t\t\t  7\t2.40\t(0.994)\n",
      "\t\t\t  8\t1.80\t(0.999)\n",
      "\n",
      "Exercise: SA\n",
      "Number of blocks: 5\n",
      "\n",
      "\tBlock #1:\n",
      "\t\tRepetitions: 5\n",
      "\t\tTime range: 21:47.4 - 22:04.4\n",
      "\t\tRepetition lengths [s] and predicted prob.: \n",
      "\t\t\t  1\t3.00\t(0.999)\n",
      "\t\t\t  2\t2.00\t(0.979)\n",
      "\t\t\t  3\t5.00\t(0.987)\n",
      "\t\t\t  4\t3.20\t(0.996)\n",
      "\t\t\t  5\t2.00\t(0.763)\n",
      "\tBlock #2:\n",
      "\t\tRepetitions: 9\n",
      "\t\tTime range: 26:45.8 - 27:14.8\n",
      "\t\tRepetition lengths [s] and predicted prob.: \n",
      "\t\t\t  1\t4.80\t(0.593)\n",
      "\t\t\t  2\t2.20\t(0.975)\n",
      "\t\t\t  3\t2.00\t(0.990)\n",
      "\t\t\t  4\t2.80\t(0.913)\n",
      "\t\t\t  5\t2.80\t(0.982)\n",
      "\t\t\t  6\t3.20\t(0.968)\n",
      "\t\t\t  7\t4.80\t(0.959)\n",
      "\t\t\t  8\t4.60\t(0.992)\n",
      "\t\t\t  9\t3.60\t(0.894)\n",
      "\tBlock #3:\n",
      "\t\tRepetitions: 19\n",
      "\t\tTime range: 27:18.2 - 28:20.0\n",
      "\t\tRepetition lengths [s] and predicted prob.: \n",
      "\t\t\t  1\t3.60\t(0.979)\n",
      "\t\t\t  2\t5.00\t(0.865)\n",
      "\t\t\t  3\t2.20\t(0.935)\n",
      "\t\t\t  4\t2.40\t(0.976)\n",
      "\t\t\t  5\t2.60\t(0.980)\n",
      "\t\t\t  6\t2.60\t(0.955)\n",
      "\t\t\t  7\t2.60\t(0.994)\n",
      "\t\t\t  8\t2.40\t(0.968)\n",
      "\t\t\t  9\t2.20\t(0.964)\n",
      "\t\t\t 10\t2.80\t(0.987)\n",
      "\t\t\t 11\t2.40\t(0.994)\n",
      "\t\t\t 12\t2.80\t(0.996)\n",
      "\t\t\t 13\t2.20\t(0.994)\n",
      "\t\t\t 14\t2.40\t(0.969)\n",
      "\t\t\t 15\t3.20\t(0.993)\n",
      "\t\t\t 16\t2.40\t(0.968)\n",
      "\t\t\t 17\t2.60\t(0.989)\n",
      "\t\t\t 18\t2.60\t(0.971)\n",
      "\t\t\t 19\t4.20\t(0.937)\n",
      "\tBlock #4:\n",
      "\t\tRepetitions: 14\n",
      "\t\tTime range: 28:34.6 - 29:18.6\n",
      "\t\tRepetition lengths [s] and predicted prob.: \n",
      "\t\t\t  1\t1.00\t(0.557)\n",
      "\t\t\t  2\t2.40\t(0.995)\n",
      "\t\t\t  3\t2.20\t(0.983)\n",
      "\t\t\t  4\t2.20\t(0.987)\n",
      "\t\t\t  5\t2.20\t(0.988)\n",
      "\t\t\t  6\t2.00\t(0.977)\n",
      "\t\t\t  7\t2.00\t(0.995)\n",
      "\t\t\t  8\t2.40\t(0.988)\n",
      "\t\t\t  9\t2.80\t(0.993)\n",
      "\t\t\t 10\t2.20\t(0.933)\n",
      "\t\t\t 11\t2.00\t(0.961)\n",
      "\t\t\t 12\t3.60\t(0.943)\n",
      "\t\t\t 13\t4.00\t(0.738)\n",
      "\t\t\t 14\t1.20\t(0.776)\n",
      "\tBlock #5:\n",
      "\t\tRepetitions: 3\n",
      "\t\tTime range: 32:28.0 - 32:41.8\n",
      "\t\tRepetition lengths [s] and predicted prob.: \n",
      "\t\t\t  1\t4.20\t(0.987)\n",
      "\t\t\t  2\t3.00\t(0.872)\n",
      "\t\t\t  3\t4.40\t(0.985)\n",
      "\n",
      "Exercise: P1\n",
      "Number of blocks: 5\n",
      "\n",
      "\tBlock #1:\n",
      "\t\tRepetitions: 6\n",
      "\t\tTime range: 15:47.0 - 16:05.2\n",
      "\t\tRepetition lengths [s] and predicted prob.: \n",
      "\t\t\t  1\t1.20\t(0.994)\n",
      "\t\t\t  2\t4.40\t(0.831)\n",
      "\t\t\t  3\t2.60\t(0.974)\n",
      "\t\t\t  4\t1.00\t(0.995)\n",
      "\t\t\t  5\t2.40\t(0.872)\n",
      "\t\t\t  6\t2.40\t(0.768)\n",
      "\tBlock #2:\n",
      "\t\tRepetitions: 4\n",
      "\t\tTime range: 16:32.2 - 16:41.8\n",
      "\t\tRepetition lengths [s] and predicted prob.: \n",
      "\t\t\t  1\t4.60\t(1.000)\n",
      "\t\t\t  2\t5.00\t(0.965)\n",
      "\t\t\t  3\t2.40\t(0.999)\n",
      "\t\t\t  4\t1.20\t(0.999)\n",
      "\tBlock #3:\n",
      "\t\tRepetitions: 11\n",
      "\t\tTime range: 23:43.0 - 24:21.2\n",
      "\t\tRepetition lengths [s] and predicted prob.: \n",
      "\t\t\t  1\t3.00\t(0.987)\n",
      "\t\t\t  2\t3.00\t(0.976)\n",
      "\t\t\t  3\t2.80\t(0.979)\n",
      "\t\t\t  4\t2.80\t(0.974)\n",
      "\t\t\t  5\t3.00\t(0.912)\n",
      "\t\t\t  6\t2.80\t(0.972)\n",
      "\t\t\t  7\t2.40\t(0.974)\n",
      "\t\t\t  8\t2.40\t(0.968)\n",
      "\t\t\t  9\t2.80\t(0.869)\n",
      "\t\t\t 10\t2.20\t(0.892)\n",
      "\t\t\t 11\t3.20\t(0.898)\n",
      "\tBlock #4:\n",
      "\t\tRepetitions: 16\n",
      "\t\tTime range: 24:41.4 - 25:26.6\n",
      "\t\tRepetition lengths [s] and predicted prob.: \n",
      "\t\t\t  1\t2.00\t(0.988)\n",
      "\t\t\t  2\t2.20\t(0.964)\n",
      "\t\t\t  3\t2.40\t(0.991)\n",
      "\t\t\t  4\t2.20\t(0.988)\n",
      "\t\t\t  5\t2.20\t(0.986)\n",
      "\t\t\t  6\t2.60\t(0.986)\n",
      "\t\t\t  7\t2.00\t(0.996)\n",
      "\t\t\t  8\t2.40\t(0.971)\n",
      "\t\t\t  9\t2.00\t(0.994)\n",
      "\t\t\t 10\t2.40\t(0.993)\n",
      "\t\t\t 11\t2.60\t(0.938)\n",
      "\t\t\t 12\t2.00\t(0.949)\n",
      "\t\t\t 13\t1.80\t(0.955)\n",
      "\t\t\t 14\t2.80\t(0.981)\n",
      "\t\t\t 15\t2.20\t(0.995)\n",
      "\t\t\t 16\t1.20\t(0.772)\n",
      "\tBlock #5:\n",
      "\t\tRepetitions: 8\n",
      "\t\tTime range: 25:40.2 - 26:04.8\n",
      "\t\tRepetition lengths [s] and predicted prob.: \n",
      "\t\t\t  1\t1.20\t(0.985)\n",
      "\t\t\t  2\t1.00\t(0.989)\n",
      "\t\t\t  3\t2.60\t(0.997)\n",
      "\t\t\t  4\t2.60\t(0.985)\n",
      "\t\t\t  5\t3.00\t(0.982)\n",
      "\t\t\t  6\t2.80\t(0.980)\n",
      "\t\t\t  7\t2.60\t(0.990)\n",
      "\t\t\t  8\t1.20\t(0.725)\n",
      "\n",
      "Exercise: P2\n",
      "Number of blocks: 8\n",
      "\n",
      "\tBlock #1:\n",
      "\t\tRepetitions: 3\n",
      "\t\tTime range: 00:50.8 - 00:57.8\n",
      "\t\tRepetition lengths [s] and predicted prob.: \n",
      "\t\t\t  1\t3.60\t(0.949)\n",
      "\t\t\t  2\t4.80\t(0.928)\n",
      "\t\t\t  3\t2.00\t(0.915)\n",
      "\tBlock #2:\n",
      "\t\tRepetitions: 10\n",
      "\t\tTime range: 04:25.4 - 04:54.2\n",
      "\t\tRepetition lengths [s] and predicted prob.: \n",
      "\t\t\t  1\t4.40\t(0.999)\n",
      "\t\t\t  2\t2.20\t(0.998)\n",
      "\t\t\t  3\t2.00\t(0.999)\n",
      "\t\t\t  4\t1.80\t(0.999)\n",
      "\t\t\t  5\t3.20\t(0.999)\n",
      "\t\t\t  6\t1.80\t(1.000)\n",
      "\t\t\t  7\t2.00\t(1.000)\n",
      "\t\t\t  8\t1.20\t(1.000)\n",
      "\t\t\t  9\t2.00\t(1.000)\n",
      "\t\t\t 10\t3.80\t(0.999)\n",
      "\tBlock #3:\n",
      "\t\tRepetitions: 7\n",
      "\t\tTime range: 05:12.8 - 05:39.0\n",
      "\t\tRepetition lengths [s] and predicted prob.: \n",
      "\t\t\t  1\t2.20\t(1.000)\n",
      "\t\t\t  2\t4.20\t(0.964)\n",
      "\t\t\t  3\t3.40\t(1.000)\n",
      "\t\t\t  4\t2.20\t(1.000)\n",
      "\t\t\t  5\t1.20\t(1.000)\n",
      "\t\t\t  6\t1.40\t(1.000)\n",
      "\t\t\t  7\t4.20\t(1.000)\n",
      "\tBlock #4:\n",
      "\t\tRepetitions: 18\n",
      "\t\tTime range: 06:24.6 - 07:21.6\n",
      "\t\tRepetition lengths [s] and predicted prob.: \n",
      "\t\t\t  1\t2.00\t(1.000)\n",
      "\t\t\t  2\t1.40\t(1.000)\n",
      "\t\t\t  3\t2.40\t(1.000)\n",
      "\t\t\t  4\t1.20\t(1.000)\n",
      "\t\t\t  5\t2.20\t(0.999)\n",
      "\t\t\t  6\t2.40\t(1.000)\n",
      "\t\t\t  7\t1.40\t(0.999)\n",
      "\t\t\t  8\t1.40\t(0.997)\n",
      "\t\t\t  9\t1.80\t(0.998)\n",
      "\t\t\t 10\t3.40\t(0.998)\n",
      "\t\t\t 11\t2.60\t(0.999)\n",
      "\t\t\t 12\t3.20\t(0.997)\n",
      "\t\t\t 13\t4.60\t(0.999)\n",
      "\t\t\t 14\t2.40\t(0.999)\n",
      "\t\t\t 15\t4.00\t(0.763)\n",
      "\t\t\t 16\t1.40\t(0.863)\n",
      "\t\t\t 17\t3.00\t(0.974)\n",
      "\t\t\t 18\t2.60\t(0.975)\n",
      "\tBlock #5:\n",
      "\t\tRepetitions: 3\n",
      "\t\tTime range: 09:36.8 - 09:42.6\n",
      "\t\tRepetition lengths [s] and predicted prob.: \n",
      "\t\t\t  1\t4.80\t(0.759)\n",
      "\t\t\t  2\t3.00\t(0.964)\n",
      "\t\t\t  3\t1.00\t(0.900)\n",
      "\tBlock #6:\n",
      "\t\tRepetitions: 5\n",
      "\t\tTime range: 29:21.2 - 29:40.6\n",
      "\t\tRepetition lengths [s] and predicted prob.: \n",
      "\t\t\t  1\t4.40\t(0.995)\n",
      "\t\t\t  2\t1.40\t(0.976)\n",
      "\t\t\t  3\t1.40\t(0.596)\n",
      "\t\t\t  4\t2.60\t(0.651)\n",
      "\t\t\t  5\t4.20\t(0.999)\n",
      "\tBlock #7:\n",
      "\t\tRepetitions: 3\n",
      "\t\tTime range: 30:36.0 - 30:47.4\n",
      "\t\tRepetition lengths [s] and predicted prob.: \n",
      "\t\t\t  1\t1.60\t(0.998)\n",
      "\t\t\t  2\t1.00\t(0.967)\n",
      "\t\t\t  3\t3.60\t(0.915)\n",
      "\tBlock #8:\n",
      "\t\tRepetitions: 3\n",
      "\t\tTime range: 31:06.6 - 31:12.6\n",
      "\t\tRepetition lengths [s] and predicted prob.: \n",
      "\t\t\t  1\t4.80\t(0.696)\n",
      "\t\t\t  2\t1.00\t(0.932)\n",
      "\t\t\t  3\t1.00\t(0.979)\n"
     ]
    }
   ],
   "source": [
    "DataObject_WinProc.evaluate_probability_matrix(pred_probabilities=pred_probs,\n",
    "                                               max_time_between_peaks=max_time_between_peaks,\n",
    "                                               min_peaks_per_block=min_peaks_per_block,\n",
    "                                               threshold_prob=threshold_prob,\n",
    "                                               footprint_length=footprint_length,\n",
    "                                               print_rep_len_prob=print_rep_len_prob)"
   ]
  },
  {
   "cell_type": "markdown",
   "metadata": {},
   "source": [
    "***Actual exercise timetable in order to compare results:***"
   ]
  },
  {
   "cell_type": "code",
   "execution_count": 77,
   "metadata": {
    "ExecuteTime": {
     "end_time": "2019-02-03T23:33:29.179183Z",
     "start_time": "2019-02-03T23:33:28.841163Z"
    }
   },
   "outputs": [
    {
     "data": {
      "text/html": [
       "<div>\n",
       "<style>\n",
       "    .dataframe thead tr:only-child th {\n",
       "        text-align: right;\n",
       "    }\n",
       "\n",
       "    .dataframe thead th {\n",
       "        text-align: left;\n",
       "    }\n",
       "\n",
       "    .dataframe tbody tr th {\n",
       "        vertical-align: top;\n",
       "    }\n",
       "</style>\n",
       "<table border=\"1\" class=\"dataframe\">\n",
       "  <thead>\n",
       "    <tr style=\"text-align: right;\">\n",
       "      <th></th>\n",
       "      <th>0</th>\n",
       "      <th>1</th>\n",
       "      <th>2</th>\n",
       "      <th>3</th>\n",
       "      <th>4</th>\n",
       "      <th>5</th>\n",
       "      <th>6</th>\n",
       "      <th>7</th>\n",
       "      <th>8</th>\n",
       "      <th>9</th>\n",
       "    </tr>\n",
       "  </thead>\n",
       "  <tbody>\n",
       "    <tr>\n",
       "      <th>0</th>\n",
       "      <td>Raises Oblique</td>\n",
       "      <td>15</td>\n",
       "      <td>5</td>\n",
       "      <td>10</td>\n",
       "      <td>01:18.6</td>\n",
       "      <td>01:58.3</td>\n",
       "      <td>02:22.1</td>\n",
       "      <td>02:37.1</td>\n",
       "      <td>02:54.8</td>\n",
       "      <td>03:23.3</td>\n",
       "    </tr>\n",
       "    <tr>\n",
       "      <th>1</th>\n",
       "      <td>PNF Diagonal 2</td>\n",
       "      <td>10</td>\n",
       "      <td>5</td>\n",
       "      <td>15</td>\n",
       "      <td>04:27.1</td>\n",
       "      <td>04:54.3</td>\n",
       "      <td>05:24.5</td>\n",
       "      <td>05:38.9</td>\n",
       "      <td>06:25.8</td>\n",
       "      <td>07:05.1</td>\n",
       "    </tr>\n",
       "    <tr>\n",
       "      <th>2</th>\n",
       "      <td>Triceps Curls</td>\n",
       "      <td>15</td>\n",
       "      <td>5</td>\n",
       "      <td>10</td>\n",
       "      <td>07:32.3</td>\n",
       "      <td>08:14.8</td>\n",
       "      <td>08:49.5</td>\n",
       "      <td>09:04.9</td>\n",
       "      <td>09:46.1</td>\n",
       "      <td>10:12.6</td>\n",
       "    </tr>\n",
       "    <tr>\n",
       "      <th>3</th>\n",
       "      <td>Rotation Wrist</td>\n",
       "      <td>5</td>\n",
       "      <td>10</td>\n",
       "      <td>15</td>\n",
       "      <td>10:43.1</td>\n",
       "      <td>10:57.3</td>\n",
       "      <td>11:25.6</td>\n",
       "      <td>11:51.8</td>\n",
       "      <td>12:12.1</td>\n",
       "      <td>12:52.4</td>\n",
       "    </tr>\n",
       "    <tr>\n",
       "      <th>4</th>\n",
       "      <td>Raises Front</td>\n",
       "      <td>10</td>\n",
       "      <td>15</td>\n",
       "      <td>5</td>\n",
       "      <td>13:44.8</td>\n",
       "      <td>14:14</td>\n",
       "      <td>14:40.6</td>\n",
       "      <td>15:20</td>\n",
       "      <td>16:09.5</td>\n",
       "      <td>16:23.1</td>\n",
       "    </tr>\n",
       "    <tr>\n",
       "      <th>5</th>\n",
       "      <td>Biceps Curls</td>\n",
       "      <td>15</td>\n",
       "      <td>10</td>\n",
       "      <td>5</td>\n",
       "      <td>16:50.8</td>\n",
       "      <td>17:30.2</td>\n",
       "      <td>18:01.3</td>\n",
       "      <td>18:32.2</td>\n",
       "      <td>18:58.6</td>\n",
       "      <td>19:12</td>\n",
       "    </tr>\n",
       "    <tr>\n",
       "      <th>6</th>\n",
       "      <td>Raises Side</td>\n",
       "      <td>15</td>\n",
       "      <td>5</td>\n",
       "      <td>10</td>\n",
       "      <td>20:13</td>\n",
       "      <td>21:00.2</td>\n",
       "      <td>21:24.9</td>\n",
       "      <td>21:40.2</td>\n",
       "      <td>22:09.6</td>\n",
       "      <td>22:38.4</td>\n",
       "    </tr>\n",
       "    <tr>\n",
       "      <th>7</th>\n",
       "      <td>PNF Diagonal 1</td>\n",
       "      <td>10</td>\n",
       "      <td>15</td>\n",
       "      <td>5</td>\n",
       "      <td>23:43.9</td>\n",
       "      <td>24:15.9</td>\n",
       "      <td>24:42</td>\n",
       "      <td>25:25.1</td>\n",
       "      <td>25:48.7</td>\n",
       "      <td>26:04.6</td>\n",
       "    </tr>\n",
       "    <tr>\n",
       "      <th>8</th>\n",
       "      <td>Shoulder Adduct.</td>\n",
       "      <td>5</td>\n",
       "      <td>15</td>\n",
       "      <td>10</td>\n",
       "      <td>26:48.5</td>\n",
       "      <td>27:05.3</td>\n",
       "      <td>27:25.4</td>\n",
       "      <td>28:16.5</td>\n",
       "      <td>28:41.2</td>\n",
       "      <td>29:10.9</td>\n",
       "    </tr>\n",
       "    <tr>\n",
       "      <th>9</th>\n",
       "      <td>Military Press</td>\n",
       "      <td>15</td>\n",
       "      <td>10</td>\n",
       "      <td>5</td>\n",
       "      <td>29:45.6</td>\n",
       "      <td>30:37.4</td>\n",
       "      <td>31:14.6</td>\n",
       "      <td>31:47.3</td>\n",
       "      <td>32:13.6</td>\n",
       "      <td>32:28.1</td>\n",
       "    </tr>\n",
       "  </tbody>\n",
       "</table>\n",
       "</div>"
      ],
      "text/plain": [
       "                  0   1   2   3        4        5        6        7        8  \\\n",
       "0    Raises Oblique  15   5  10  01:18.6  01:58.3  02:22.1  02:37.1  02:54.8   \n",
       "1    PNF Diagonal 2  10   5  15  04:27.1  04:54.3  05:24.5  05:38.9  06:25.8   \n",
       "2     Triceps Curls  15   5  10  07:32.3  08:14.8  08:49.5  09:04.9  09:46.1   \n",
       "3    Rotation Wrist   5  10  15  10:43.1  10:57.3  11:25.6  11:51.8  12:12.1   \n",
       "4      Raises Front  10  15   5  13:44.8    14:14  14:40.6    15:20  16:09.5   \n",
       "5      Biceps Curls  15  10   5  16:50.8  17:30.2  18:01.3  18:32.2  18:58.6   \n",
       "6       Raises Side  15   5  10    20:13  21:00.2  21:24.9  21:40.2  22:09.6   \n",
       "7    PNF Diagonal 1  10  15   5  23:43.9  24:15.9    24:42  25:25.1  25:48.7   \n",
       "8  Shoulder Adduct.   5  15  10  26:48.5  27:05.3  27:25.4  28:16.5  28:41.2   \n",
       "9    Military Press  15  10   5  29:45.6  30:37.4  31:14.6  31:47.3  32:13.6   \n",
       "\n",
       "         9  \n",
       "0  03:23.3  \n",
       "1  07:05.1  \n",
       "2  10:12.6  \n",
       "3  12:52.4  \n",
       "4  16:23.1  \n",
       "5    19:12  \n",
       "6  22:38.4  \n",
       "7  26:04.6  \n",
       "8  29:10.9  \n",
       "9  32:28.1  "
      ]
     },
     "execution_count": 77,
     "metadata": {},
     "output_type": "execute_result"
    }
   ],
   "source": [
    "timetable_data_path = os.path.join(timetable_file_dir, timetable_file_name)\n",
    "timetable_data = pd.read_csv(timetable_data_path, skiprows=0, sep='\\t', header=None)\n",
    "timetable_data"
   ]
  },
  {
   "cell_type": "markdown",
   "metadata": {},
   "source": [
    "***Plot probability matrices of selected repetition blocks:***"
   ]
  },
  {
   "cell_type": "code",
   "execution_count": 63,
   "metadata": {
    "ExecuteTime": {
     "end_time": "2019-02-03T22:10:59.413072Z",
     "start_time": "2019-02-03T22:10:41.833067Z"
    },
    "extensions": {
     "jupyter_dashboards": {
      "version": 1,
      "views": {
       "grid_default": {
        "col": 0,
        "height": 68,
        "hidden": false,
        "row": 116,
        "width": 4
       },
       "report_default": {
        "hidden": false
       }
      }
     }
    },
    "scrolled": true
   },
   "outputs": [
    {
     "data": {
      "image/png": "[encoded data removed]",
      "text/plain": [
       "<Figure size 720x720 with 13 Axes>"
      ]
     },
     "metadata": {},
     "output_type": "display_data"
    },
    {
     "data": {
      "image/png": "[encoded data removed]",
      "text/plain": [
       "<Figure size 720x720 with 13 Axes>"
      ]
     },
     "metadata": {},
     "output_type": "display_data"
    },
    {
     "data": {
      "image/png": "[encoded data removed]",
      "text/plain": [
       "<Figure size 720x720 with 13 Axes>"
      ]
     },
     "metadata": {},
     "output_type": "display_data"
    },
    {
     "data": {
      "image/png": "[encoded data removed]",
      "text/plain": [
       "<Figure size 720x720 with 13 Axes>"
      ]
     },
     "metadata": {},
     "output_type": "display_data"
    },
    {
     "data": {
      "image/png": "[encoded data removed]",
      "text/plain": [
       "<Figure size 720x720 with 13 Axes>"
      ]
     },
     "metadata": {},
     "output_type": "display_data"
    },
    {
     "data": {
      "image/png": "[encoded data removed]",
      "text/plain": [
       "<Figure size 720x720 with 13 Axes>"
      ]
     },
     "metadata": {},
     "output_type": "display_data"
    },
    {
     "data": {
      "image/png": "[encoded data removed]",
      "text/plain": [
       "<Figure size 720x720 with 13 Axes>"
      ]
     },
     "metadata": {},
     "output_type": "display_data"
    },
    {
     "data": {
      "image/png": "[encoded data removed]",
      "text/plain": [
       "<Figure size 720x720 with 13 Axes>"
      ]
     },
     "metadata": {},
     "output_type": "display_data"
    },
    {
     "data": {
      "image/png": "[encoded data removed]",
      "text/plain": [
       "<Figure size 720x720 with 13 Axes>"
      ]
     },
     "metadata": {},
     "output_type": "display_data"
    },
    {
     "data": {
      "image/png": "[encoded data removed]",
      "text/plain": [
       "<Figure size 720x720 with 13 Axes>"
      ]
     },
     "metadata": {},
     "output_type": "display_data"
    }
   ],
   "source": [
    "for ex_rep_block in plot_exercise_repetition_blocks:\n",
    "    DataObject_WinProc.plot_probability_matrices_and_peaks(title_text='Predicted Probabilites Subject {}  ({})'.format(\n",
    "                                           test_subject_id, ML_model_name),\n",
    "                                           default_settings_smaller_plot=True,\n",
    "                                           plot_time_range=True,\n",
    "                                           start_time=timetable_ex_dict[ex_rep_block+'_start_time'],\n",
    "                                           stop_time=timetable_ex_dict[ex_rep_block+'_stop_time'],\n",
    "                                           time_offset_before_and_after=plot_time_offset_before_and_after,\n",
    "                                           plot_actual_classes=True,\n",
    "                                           timetable_file_dir=timetable_file_dir,\n",
    "                                           timetable_file_name=timetable_file_name)"
   ]
  },
  {
   "cell_type": "markdown",
   "metadata": {},
   "source": [
    "***\n",
    "***\n",
    "***\n",
    "***\n",
    "***"
   ]
  },
  {
   "cell_type": "code",
   "execution_count": 82,
   "metadata": {
    "ExecuteTime": {
     "end_time": "2019-02-04T00:14:32.363069Z",
     "start_time": "2019-02-04T00:14:31.781035Z"
    },
    "deletable": false,
    "editable": false,
    "run_control": {
     "frozen": true
    }
   },
   "outputs": [
    {
     "name": "stdout",
     "output_type": "stream",
     "text": [
      "Using matplotlib backend: TkAgg\n"
     ]
    }
   ],
   "source": [
    "%matplotlib auto\n",
    "\n",
    "ex_rep_block_new = 'BC_15'\n",
    "\n",
    "DataObject_WinProc.plot_probability_matrices_and_peaks(title_text='Predicted Probabilites Subject {} ({})'.format(\n",
    "                                           test_subject_id, ML_model_name),\n",
    "                                           default_settings_smaller_plot=True,\n",
    "                                           plot_time_range=True,\n",
    "                                           start_time=timetable_ex_dict[ex_rep_block_new+'_start_time'],\n",
    "                                           stop_time=timetable_ex_dict[ex_rep_block_new+'_stop_time'],\n",
    "                                           time_offset_before_and_after=plot_time_offset_before_and_after,\n",
    "                                           plot_actual_classes=True,\n",
    "                                           timetable_file_dir=timetable_file_dir,\n",
    "                                           timetable_file_name=timetable_file_name)\n",
    "\n"
   ]
  },
  {
   "cell_type": "markdown",
   "metadata": {},
   "source": [
    "***\n",
    "***\n",
    "***\n",
    "***\n",
    "***"
   ]
  },
  {
   "cell_type": "markdown",
   "metadata": {},
   "source": [
    "## Function to Print Evaluation Summary"
   ]
  },
  {
   "cell_type": "code",
   "execution_count": 64,
   "metadata": {
    "ExecuteTime": {
     "end_time": "2019-02-03T22:10:59.790094Z",
     "start_time": "2019-02-03T22:10:59.416072Z"
    }
   },
   "outputs": [],
   "source": [
    "def print_eval_summary():\n",
    "    '''\n",
    "    Function to print evaluation summary.\n",
    "    \n",
    "    No parameters, no returns (global variables are used).\n",
    "    '''\n",
    "    \n",
    "    print('\\n    Summary of Evaluation Report\\n')\n",
    "\n",
    "    print('Test data set:')\n",
    "    print('\\tSubject ID: \\t{}'.format(test_subject_id))\n",
    "    print('\\tSamples: \\t{}'.format(np.shape(DataObj.X_test())[0]))\n",
    "    print('\\tRep. num.: \\t{}'.format(test_repetition_numbers))\n",
    "    print('\\tExercises: \\t{}'.format(test_exercises))\n",
    "    print('\\tRotation axes: \\t{}'.format(rot_axis_test_data))\n",
    "    print('\\tRot. angles: \\t{}'.format(rot_angle_test_data))\n",
    "    if add_noise_test_data:\n",
    "        print('\\tSNR: \\t\\t{} db'.format(snr_db))\n",
    "    else:\n",
    "        print('\\tSNR: \\t\\tnone')\n",
    "\n",
    "    print('\\nTrain data set:')\n",
    "    print('\\tSubject ID(s): \\t{}'.format(train_subject_ids))\n",
    "    print('\\tSamples: \\t{}'.format(np.shape(DataObj.X_train())[0]))\n",
    "    print('\\tRep. num.: \\t{}'.format(train_repetition_numbers))\n",
    "    print('\\tExercises: \\t{}'.format(train_exercises))\n",
    "    if add_noise_train_data:\n",
    "        print('\\tSNR: \\t{} db'.format(snr_db))\n",
    "    else:\n",
    "        print('\\tSNR: \\t\\tnone')\n",
    "\n",
    "    print('\\nNumber of sections to split each rep.: {}'.format(number_sections))\n",
    "\n",
    "    if use_PCA_for_dim_reduction is True:\n",
    "        print('\\nDimensionality reduction: \\tPCA ({} PCs)'.format(number_principal_components))\n",
    "    if use_LDA_for_dim_reduction is True:\n",
    "        print('\\nDimensionality reduction: \\tLDA')\n",
    "    if use_PCA_for_dim_reduction is False and use_LDA_for_dim_reduction is False:\n",
    "        print('\\nDimensionality reduction: \\tnone')\n",
    "\n",
    "    print('\\nWindowing procedure:')\n",
    "    print('\\tWin. start inc.: \\t{} s'.format(win_start_inc))\n",
    "    print('\\tWin. stretch inc.: \\t{} s'.format(win_stretch_inc))\n",
    "    print('\\tMin. win. length: \\t{} s'.format(win_min_len))\n",
    "    print('\\tMax. win. length: \\t{} s'.format(win_max_len))\n",
    "    print('\\tFilter order: \\t\\t{}'.format(butterworth_order))  \n",
    "    print('\\tCutoff frequency: \\t{} Hz'.format(butterworth_cutoff)) \n",
    "\n",
    "    print('\\nEvaluation of probability matrices:')\n",
    "    print('\\tMax. time betw. 2 rep.:\\t{} s'.format(max_time_between_peaks))\n",
    "    print('\\tMin rep. per block: \\t{}'.format(min_peaks_per_block))\n",
    "    print('\\tProb. threshold: \\t{}'.format(threshold_prob))\n",
    "    print('\\tFootprint length: \\t{} s'.format(footprint_length))\n",
    "\n",
    "    print('\\nMachine Learning:')\n",
    "    print('\\tModel: \\t{}'.format(ML_model_name))\n",
    "    print('\\tParam. for grid search cross val.:')\n",
    "    for param in param_grid:\n",
    "        print('\\t\\t{}: {}'.format(param, param_grid[param]))\n",
    "    print('\\tBest parameters:')    \n",
    "    for param in grid_search.best_params_:\n",
    "        print('\\t\\t{}: {}'.format(param, grid_search.best_params_[param]))\n",
    "    print('\\tBest score (gridsearchCV): \\t{:.2f}%'.format(grid_search.best_score_*100))\n",
    "    print('\\n\\tScore on sep. test samples: \\t{:.2f}%\\n'.format((accuracy_score(DataObj.y_test(), y_pred))*100))\n",
    "    print('\\tExerc.\\tPrec.\\tRecall\\tF1-Sc.\\tSupport')\n",
    "    for ex in ['RF','RO','RS','LR','BC','TC','MP','SA','P1','P2','NE']:\n",
    "        print('\\t{}\\t{:.4f}\\t{:.4f}\\t{:.4f}\\t{:7d}'.format(ex, classif_report[ex]['precision'], \n",
    "                                                          classif_report[ex]['recall'],\n",
    "                                                          classif_report[ex]['f1-score'], \n",
    "                                                          classif_report[ex]['support']))\n",
    "    print('\\t{}\\t{:.4f}\\t{:.4f}\\t{:.4f}\\t{:7d}'.format('total', classif_report['micro avg']['precision'], \n",
    "                                                          classif_report['micro avg']['recall'],\n",
    "                                                          classif_report['micro avg']['f1-score'], \n",
    "                                                          classif_report['micro avg']['support']))\n"
   ]
  },
  {
   "cell_type": "markdown",
   "metadata": {},
   "source": [
    "***Execute the cell with the evaluation summary:***\n",
    "\n",
    "(First cell with code $\\rightarrow$ see above.)"
   ]
  },
  {
   "cell_type": "code",
   "execution_count": 65,
   "metadata": {
    "ExecuteTime": {
     "end_time": "2019-02-03T22:10:59.962104Z",
     "start_time": "2019-02-03T22:10:59.794094Z"
    }
   },
   "outputs": [
    {
     "data": {
      "application/javascript": [
       "Jupyter.notebook.execute_cells([1])"
      ],
      "text/plain": [
       "<IPython.core.display.Javascript object>"
      ]
     },
     "metadata": {},
     "output_type": "display_data"
    }
   ],
   "source": [
    "%%javascript\n",
    "Jupyter.notebook.execute_cells([1])"
   ]
  }
 ],
 "metadata": {
  "extensions": {
   "jupyter_dashboards": {
    "activeView": "report_default",
    "version": 1,
    "views": {
     "grid_default": {
      "cellMargin": 10,
      "defaultCellHeight": 20,
      "maxColumns": 12,
      "name": "grid",
      "type": "grid"
     },
     "report_default": {
      "name": "report",
      "type": "report"
     }
    }
   }
  },
  "kernelspec": {
   "display_name": "Python 3",
   "language": "python",
   "name": "python3"
  },
  "language_info": {
   "codemirror_mode": {
    "name": "ipython",
    "version": 3
   },
   "file_extension": ".py",
   "mimetype": "text/x-python",
   "name": "python",
   "nbconvert_exporter": "python",
   "pygments_lexer": "ipython3",
   "version": "3.6.2"
  },
  "toc": {
   "base_numbering": 1,
   "nav_menu": {},
   "number_sections": true,
   "sideBar": true,
   "skip_h1_title": false,
   "title_cell": "Table of Contents",
   "title_sidebar": "Contents",
   "toc_cell": false,
   "toc_position": {
    "height": "calc(100% - 180px)",
    "left": "10px",
    "top": "150px",
    "width": "484px"
   },
   "toc_section_display": true,
   "toc_window_display": false
  }
 },
 "nbformat": 4,
 "nbformat_minor": 2
}
