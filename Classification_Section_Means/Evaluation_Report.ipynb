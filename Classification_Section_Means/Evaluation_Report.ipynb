{
 "cells": [
  {
   "cell_type": "markdown",
   "metadata": {
    "extensions": {
     "jupyter_dashboards": {
      "version": 1,
      "views": {
       "grid_default": {
        "col": 0,
        "height": 4,
        "hidden": false,
        "row": 0,
        "width": 4
       },
       "report_default": {
        "hidden": false
       }
      }
     }
    }
   },
   "source": [
    "# Evaluation Report - Section Means as Features\n",
    "\n",
    "The first cell provides a summary of selected parameters and the evaluation ($\\rightarrow$ executed after evaluation)."
   ]
  },
  {
   "cell_type": "code",
   "execution_count": 1,
   "metadata": {
    "ExecuteTime": {
     "end_time": "2019-02-07T10:33:26.447721Z",
     "start_time": "2019-02-07T10:33:26.437720Z"
    },
    "scrolled": false
   },
   "outputs": [],
   "source": [
    "try:\n",
    "    print_eval_summary()\n",
    "except:\n",
    "    pass"
   ]
  },
  {
   "cell_type": "markdown",
   "metadata": {},
   "source": [
    "***\n",
    "***\n",
    "***\n",
    "***\n",
    "***"
   ]
  },
  {
   "cell_type": "markdown",
   "metadata": {},
   "source": [
    "***Save the notebook:***"
   ]
  },
  {
   "cell_type": "code",
   "execution_count": 2,
   "metadata": {
    "ExecuteTime": {
     "end_time": "2019-02-07T10:33:26.590729Z",
     "start_time": "2019-02-07T10:33:26.462722Z"
    }
   },
   "outputs": [
    {
     "data": {
      "application/javascript": [
       "IPython.notebook.save_notebook()"
      ],
      "text/plain": [
       "<IPython.core.display.Javascript object>"
      ]
     },
     "metadata": {},
     "output_type": "display_data"
    }
   ],
   "source": [
    "%%javascript\n",
    "IPython.notebook.save_notebook()"
   ]
  },
  {
   "cell_type": "markdown",
   "metadata": {},
   "source": [
    "***Convert the notebook to html:***\n",
    "\n",
    "(Executed in the end.)"
   ]
  },
  {
   "cell_type": "code",
   "execution_count": 3,
   "metadata": {
    "ExecuteTime": {
     "end_time": "2019-02-07T10:33:26.756738Z",
     "start_time": "2019-02-07T10:33:26.602730Z"
    }
   },
   "outputs": [],
   "source": [
    "try:\n",
    "    exporter = HTMLExporter()\n",
    "    output_notebook = nbformat.read('Evaluation_Report.ipynb', as_version=4)\n",
    "    output, resources = exporter.from_notebook_node(output_notebook)\n",
    "    codecs.open('Report_' + file_doc_string  + '.html', 'w', encoding='utf-8').write(output)\n",
    "except:\n",
    "    pass"
   ]
  },
  {
   "cell_type": "markdown",
   "metadata": {},
   "source": [
    "***\n",
    "***\n",
    "***\n",
    "***\n",
    "***\n",
    "***Import modules:***"
   ]
  },
  {
   "cell_type": "code",
   "execution_count": 4,
   "metadata": {
    "ExecuteTime": {
     "end_time": "2019-02-07T10:33:30.653961Z",
     "start_time": "2019-02-07T10:33:26.762739Z"
    },
    "extensions": {
     "jupyter_dashboards": {
      "version": 1,
      "views": {
       "grid_default": {
        "hidden": true
       },
       "report_default": {
        "hidden": true
       }
      }
     }
    }
   },
   "outputs": [],
   "source": [
    "import pandas as pd\n",
    "import numpy as np\n",
    "import datetime\n",
    "import timeit\n",
    "import time\n",
    "import os\n",
    "from nbconvert import HTMLExporter\n",
    "import codecs\n",
    "import nbformat\n",
    "from pivottablejs import pivot_ui\n",
    "\n",
    "import sys\n",
    "sys.path.append('..')  # in order to import modules from the package 'packageMeinhart'\n",
    "from packageMeinhart import PhysioDataHandler as PDH\n",
    "from packageMeinhart.functionsMasterProjectMeinhart import print_misclassified_data_points\n",
    "from packageMeinhart.functionsMasterProjectMeinhart import get_timetable_ex_dict\n",
    "\n",
    "# Modules for machine learning and evaluation\n",
    "from sklearn.linear_model import LogisticRegression\n",
    "from sklearn.ensemble import RandomForestClassifier\n",
    "from sklearn.svm import SVC\n",
    "from sklearn.decomposition import PCA\n",
    "from sklearn.discriminant_analysis import LinearDiscriminantAnalysis as LDA\n",
    "from sklearn.preprocessing import StandardScaler\n",
    "from sklearn.pipeline import Pipeline\n",
    "from sklearn.model_selection import GridSearchCV\n",
    "from sklearn.metrics import accuracy_score\n",
    "from sklearn.metrics import classification_report\n",
    "# StandardScaler raises the following warning:\n",
    "# --> DataConversionWarning: Data with input dtype object was converted to float64 by StandardScaler.\n",
    "# In order to ignore that:\n",
    "import warnings\n",
    "from sklearn.exceptions import DataConversionWarning\n",
    "warnings.filterwarnings(action='ignore', category=DataConversionWarning)"
   ]
  },
  {
   "cell_type": "code",
   "execution_count": 5,
   "metadata": {
    "ExecuteTime": {
     "end_time": "2019-02-07T10:33:30.678963Z",
     "start_time": "2019-02-07T10:33:30.657962Z"
    },
    "extensions": {
     "jupyter_dashboards": {
      "version": 1,
      "views": {
       "grid_default": {
        "hidden": true
       },
       "report_default": {
        "hidden": true
       }
      }
     }
    }
   },
   "outputs": [],
   "source": [
    "%matplotlib inline"
   ]
  },
  {
   "cell_type": "markdown",
   "metadata": {
    "extensions": {
     "jupyter_dashboards": {
      "version": 1,
      "views": {
       "grid_default": {
        "col": 8,
        "height": 4,
        "hidden": false,
        "row": 0,
        "width": 4
       },
       "report_default": {
        "hidden": false
       }
      }
     }
    }
   },
   "source": [
    "## Definition of Parameters"
   ]
  },
  {
   "cell_type": "markdown",
   "metadata": {
    "extensions": {
     "jupyter_dashboards": {
      "version": 1,
      "views": {
       "grid_default": {
        "col": 0,
        "height": 4,
        "hidden": false,
        "row": 4,
        "width": 4
       },
       "report_default": {
        "hidden": false
       }
      }
     }
    }
   },
   "source": [
    "### Number of Sections\n",
    "\n",
    "***Number of sections to split each exercise repetition:***"
   ]
  },
  {
   "cell_type": "code",
   "execution_count": 6,
   "metadata": {
    "ExecuteTime": {
     "end_time": "2019-02-07T10:33:30.829971Z",
     "start_time": "2019-02-07T10:33:30.681963Z"
    },
    "extensions": {
     "jupyter_dashboards": {
      "version": 1,
      "views": {
       "grid_default": {
        "hidden": true
       },
       "report_default": {
        "hidden": true
       }
      }
     }
    }
   },
   "outputs": [],
   "source": [
    "number_sections = 10"
   ]
  },
  {
   "cell_type": "markdown",
   "metadata": {
    "extensions": {
     "jupyter_dashboards": {
      "version": 1,
      "views": {
       "grid_default": {
        "col": 4,
        "height": 4,
        "hidden": false,
        "row": 4,
        "width": 4
       },
       "report_default": {
        "hidden": false
       }
      }
     }
    }
   },
   "source": [
    "### Test Subject\n",
    "\n",
    "***Select the test subject via ID:***"
   ]
  },
  {
   "cell_type": "code",
   "execution_count": 7,
   "metadata": {
    "ExecuteTime": {
     "end_time": "2019-02-07T10:33:30.962979Z",
     "start_time": "2019-02-07T10:33:30.833972Z"
    },
    "extensions": {
     "jupyter_dashboards": {
      "version": 1,
      "views": {
       "grid_default": {
        "hidden": true
       },
       "report_default": {
        "hidden": true
       }
      }
     }
    }
   },
   "outputs": [],
   "source": [
    "test_subject_id = 1"
   ]
  },
  {
   "cell_type": "markdown",
   "metadata": {},
   "source": [
    "### Training Subjects\n",
    "\n",
    "***Subjects (IDs) to consider for training:***\n",
    "\n",
    "Integer or list of integers.\n",
    "\n",
    "If all subjects except the test subject shall be considered for training, set parameter to -1."
   ]
  },
  {
   "cell_type": "code",
   "execution_count": 8,
   "metadata": {
    "ExecuteTime": {
     "end_time": "2019-02-07T10:33:31.109987Z",
     "start_time": "2019-02-07T10:33:30.966979Z"
    }
   },
   "outputs": [],
   "source": [
    "train_subject_ids = -1"
   ]
  },
  {
   "cell_type": "markdown",
   "metadata": {},
   "source": [
    "### Repetition Numbers\n",
    "\n",
    "***Repetition numbers of blocks for testing (of separated samples) or rather training:***\n",
    "\n",
    "Available repetition numbers: 5, 10, 15\n",
    "\n",
    "If more than on repetition number shall be selected, use a list (e.g. [5, 10]).\n",
    "\n",
    "If parameter is set to -1, all repetition numbers are selected."
   ]
  },
  {
   "cell_type": "code",
   "execution_count": 9,
   "metadata": {
    "ExecuteTime": {
     "end_time": "2019-02-07T10:33:31.266996Z",
     "start_time": "2019-02-07T10:33:31.112988Z"
    }
   },
   "outputs": [],
   "source": [
    "test_repetition_numbers = -1\n",
    "train_repetition_numbers = -1"
   ]
  },
  {
   "cell_type": "markdown",
   "metadata": {
    "ExecuteTime": {
     "end_time": "2019-01-21T18:32:15.550613Z",
     "start_time": "2019-01-21T18:32:15.521611Z"
    }
   },
   "source": [
    "### Exercises\n",
    "\n",
    "***Exercises for testing (of separated samples) or rather training:***\n",
    "    \n",
    "Available exercises: 'RF', 'RO', 'RS', 'LR', 'BC', 'TC', 'MP', 'SA', 'P1', 'P2', 'NE'\n",
    "    \n",
    "If more than on exercise shall be selected, use a list (e.g. ['RF', 'BC']).\n",
    "\n",
    "If parameter is set to -1, all exercises are selected."
   ]
  },
  {
   "cell_type": "code",
   "execution_count": 10,
   "metadata": {
    "ExecuteTime": {
     "end_time": "2019-02-07T10:33:31.415005Z",
     "start_time": "2019-02-07T10:33:31.270997Z"
    }
   },
   "outputs": [],
   "source": [
    "test_exercises = -1\n",
    "train_exercises = -1"
   ]
  },
  {
   "cell_type": "markdown",
   "metadata": {},
   "source": [
    "### Rotation Test Data\n",
    "\n",
    "***Axes and angles to rotate the test data:***\n",
    "    \n",
    "Available axes: 0, 1, 2 ($\\rightarrow$ x, y, z)\n",
    "\n",
    "Rotation angles must be given in degrees.\n",
    "    \n",
    "If sequence of rotations shall be applied, use lists (e.g. [0, 1] for axes and [20, 45] for angles).\n",
    "\n",
    "NOTE: Rotation is applied to separated test samples as well as to the whole record of the test subject."
   ]
  },
  {
   "cell_type": "code",
   "execution_count": 11,
   "metadata": {
    "ExecuteTime": {
     "end_time": "2019-02-07T10:33:31.575014Z",
     "start_time": "2019-02-07T10:33:31.419005Z"
    }
   },
   "outputs": [],
   "source": [
    "rot_axis_test_data = 0\n",
    "rot_angle_test_data = 0"
   ]
  },
  {
   "cell_type": "markdown",
   "metadata": {},
   "source": [
    "### Noise\n",
    "\n",
    "***Noise to be added to test and/or training data:***\n",
    "\n",
    "Additive White Gaussian Noise (AWGN) with a defined Signal to Noise Ratio (SNR) in decibel is used.\n",
    "\n",
    "The noise will then be calculated by means of the SNR with regard to each signal of a whole repetition block.\n",
    "\n",
    "NOTE: Noise is added to separated test samples as well as to the whole record of the test subject."
   ]
  },
  {
   "cell_type": "code",
   "execution_count": 12,
   "metadata": {
    "ExecuteTime": {
     "end_time": "2019-02-07T10:33:31.728023Z",
     "start_time": "2019-02-07T10:33:31.585015Z"
    }
   },
   "outputs": [],
   "source": [
    "add_noise_test_data = False\n",
    "add_noise_train_data = False\n",
    "snr_db = 10"
   ]
  },
  {
   "cell_type": "markdown",
   "metadata": {},
   "source": [
    "### PCA\n",
    "\n",
    "***Principal Component Analysis (PCA) for dimensionality reduction:***\n",
    "\n",
    "If used, project features to a smaller dimensional space.\n",
    "\n",
    "(Be aware that number of principal components has to be lower than number of features.)"
   ]
  },
  {
   "cell_type": "code",
   "execution_count": 13,
   "metadata": {
    "ExecuteTime": {
     "end_time": "2019-02-07T10:33:31.891032Z",
     "start_time": "2019-02-07T10:33:31.731023Z"
    }
   },
   "outputs": [],
   "source": [
    "use_PCA_for_dim_reduction = False\n",
    "number_principal_components = 20"
   ]
  },
  {
   "cell_type": "markdown",
   "metadata": {},
   "source": [
    "### LDA\n",
    "\n",
    "***Linear Discriminant Analysis (LDA) for dimensionality reduction:***\n",
    "\n",
    "Also LDA can be used to project features to a lower dimensional space.\n",
    "\n",
    "(Number of new features = number of classes - 1)"
   ]
  },
  {
   "cell_type": "code",
   "execution_count": 14,
   "metadata": {
    "ExecuteTime": {
     "end_time": "2019-02-07T10:33:32.049041Z",
     "start_time": "2019-02-07T10:33:31.894032Z"
    }
   },
   "outputs": [],
   "source": [
    "use_LDA_for_dim_reduction = False"
   ]
  },
  {
   "cell_type": "markdown",
   "metadata": {
    "extensions": {
     "jupyter_dashboards": {
      "version": 1,
      "views": {
       "grid_default": {
        "col": 8,
        "height": 4,
        "hidden": false,
        "row": 4,
        "width": 4
       },
       "report_default": {
        "hidden": false
       }
      }
     }
    }
   },
   "source": [
    "### Windowing Procedure\n",
    "\n",
    "***Parameters for windowing procedure:***"
   ]
  },
  {
   "cell_type": "markdown",
   "metadata": {},
   "source": [
    "Window start increment [s]:"
   ]
  },
  {
   "cell_type": "code",
   "execution_count": 15,
   "metadata": {
    "ExecuteTime": {
     "end_time": "2019-02-07T10:33:32.182049Z",
     "start_time": "2019-02-07T10:33:32.052041Z"
    }
   },
   "outputs": [],
   "source": [
    "win_start_inc = 0.2"
   ]
  },
  {
   "cell_type": "markdown",
   "metadata": {},
   "source": [
    "Window stretch increment [s]:"
   ]
  },
  {
   "cell_type": "code",
   "execution_count": 16,
   "metadata": {
    "ExecuteTime": {
     "end_time": "2019-02-07T10:33:32.347058Z",
     "start_time": "2019-02-07T10:33:32.185049Z"
    }
   },
   "outputs": [],
   "source": [
    "win_stretch_inc = 0.2"
   ]
  },
  {
   "cell_type": "markdown",
   "metadata": {},
   "source": [
    "Minimum window length [s]:"
   ]
  },
  {
   "cell_type": "code",
   "execution_count": 17,
   "metadata": {
    "ExecuteTime": {
     "end_time": "2019-02-07T10:33:32.486066Z",
     "start_time": "2019-02-07T10:33:32.362059Z"
    }
   },
   "outputs": [],
   "source": [
    "win_min_len = 1"
   ]
  },
  {
   "cell_type": "markdown",
   "metadata": {},
   "source": [
    "Maximum window length [s]:"
   ]
  },
  {
   "cell_type": "code",
   "execution_count": 18,
   "metadata": {
    "ExecuteTime": {
     "end_time": "2019-02-07T10:33:32.620074Z",
     "start_time": "2019-02-07T10:33:32.490066Z"
    }
   },
   "outputs": [],
   "source": [
    "win_max_len = 5"
   ]
  },
  {
   "cell_type": "markdown",
   "metadata": {},
   "source": [
    "Order of butterworth filter:"
   ]
  },
  {
   "cell_type": "code",
   "execution_count": 19,
   "metadata": {
    "ExecuteTime": {
     "end_time": "2019-02-07T10:33:32.853087Z",
     "start_time": "2019-02-07T10:33:32.628074Z"
    }
   },
   "outputs": [],
   "source": [
    "butterworth_order = 6"
   ]
  },
  {
   "cell_type": "markdown",
   "metadata": {},
   "source": [
    "Cutoff frequency of butterworth filter [Hz]:"
   ]
  },
  {
   "cell_type": "code",
   "execution_count": 20,
   "metadata": {
    "ExecuteTime": {
     "end_time": "2019-02-07T10:33:33.025097Z",
     "start_time": "2019-02-07T10:33:32.861088Z"
    }
   },
   "outputs": [],
   "source": [
    "butterworth_cutoff = 10"
   ]
  },
  {
   "cell_type": "markdown",
   "metadata": {
    "extensions": {
     "jupyter_dashboards": {
      "version": 1,
      "views": {
       "grid_default": {
        "col": 0,
        "height": 4,
        "hidden": false,
        "row": 8,
        "width": 4
       },
       "report_default": {
        "hidden": false
       }
      }
     }
    }
   },
   "source": [
    "### Probability Matrices\n",
    "\n",
    "***Parameters for the evaluation of probability matrices:***"
   ]
  },
  {
   "cell_type": "markdown",
   "metadata": {},
   "source": [
    "Maximum time between two peaks (repetitions) of the same repetition block [s]:"
   ]
  },
  {
   "cell_type": "code",
   "execution_count": 21,
   "metadata": {
    "ExecuteTime": {
     "end_time": "2019-02-07T10:33:33.163105Z",
     "start_time": "2019-02-07T10:33:33.028097Z"
    }
   },
   "outputs": [],
   "source": [
    "max_time_between_peaks = 6"
   ]
  },
  {
   "cell_type": "markdown",
   "metadata": {},
   "source": [
    "Minimum number of peaks (repetitions) per repetition block:"
   ]
  },
  {
   "cell_type": "code",
   "execution_count": 22,
   "metadata": {
    "ExecuteTime": {
     "end_time": "2019-02-07T10:33:33.294112Z",
     "start_time": "2019-02-07T10:33:33.182106Z"
    }
   },
   "outputs": [],
   "source": [
    "min_peaks_per_block = 3"
   ]
  },
  {
   "cell_type": "markdown",
   "metadata": {},
   "source": [
    "Probability threshold in order to accept peaks as exercise repetitions (0 ... 1):"
   ]
  },
  {
   "cell_type": "code",
   "execution_count": 23,
   "metadata": {
    "ExecuteTime": {
     "end_time": "2019-02-07T10:33:33.418119Z",
     "start_time": "2019-02-07T10:33:33.297112Z"
    }
   },
   "outputs": [],
   "source": [
    "threshold_prob = 0.5"
   ]
  },
  {
   "cell_type": "markdown",
   "metadata": {},
   "source": [
    "Length of the footprint for a maximum-filter in order to find peaks [s]:"
   ]
  },
  {
   "cell_type": "code",
   "execution_count": 24,
   "metadata": {
    "ExecuteTime": {
     "end_time": "2019-02-07T10:33:33.542127Z",
     "start_time": "2019-02-07T10:33:33.421120Z"
    }
   },
   "outputs": [],
   "source": [
    "footprint_length = 3"
   ]
  },
  {
   "cell_type": "markdown",
   "metadata": {},
   "source": [
    "Print individual repetition lengths [s] and predicted probabilities (if True):"
   ]
  },
  {
   "cell_type": "code",
   "execution_count": 25,
   "metadata": {
    "ExecuteTime": {
     "end_time": "2019-02-07T10:33:33.702136Z",
     "start_time": "2019-02-07T10:33:33.556127Z"
    }
   },
   "outputs": [],
   "source": [
    "print_rep_len_prob = False"
   ]
  },
  {
   "cell_type": "markdown",
   "metadata": {
    "extensions": {
     "jupyter_dashboards": {
      "version": 1,
      "views": {
       "grid_default": {
        "col": 4,
        "height": 6,
        "hidden": false,
        "row": 8,
        "width": null
       },
       "report_default": {
        "hidden": false
       }
      }
     }
    }
   },
   "source": [
    "### Plotting\n",
    "\n",
    "***Parameters for plotting of exercise repetition blocks:***\n",
    "\n",
    "Since it would be too much to plot all exercise repetition blocks, it can be chosen\n",
    "how many and which blocks shall be plotted. Therefore, the repetition blocks have to be present in a list of strings, where every string consists of the exercise abbreviation and the number of repetitions.\n",
    "\n",
    "Example: ['RF_5', 'RO_10', 'BC_15'] $\\rightarrow$ generates three plots\n",
    "\n",
    "The second parameter defines the time to plot before and after the selected block in seconds."
   ]
  },
  {
   "cell_type": "code",
   "execution_count": 26,
   "metadata": {
    "ExecuteTime": {
     "end_time": "2019-02-07T10:33:33.844144Z",
     "start_time": "2019-02-07T10:33:33.707136Z"
    },
    "extensions": {
     "jupyter_dashboards": {
      "version": 1,
      "views": {
       "grid_default": {
        "hidden": true
       },
       "report_default": {
        "hidden": true
       }
      }
     }
    }
   },
   "outputs": [],
   "source": [
    "plot_exercise_repetition_blocks = ['RF_5','RO_5','RS_5','LR_5','BC_5',\n",
    "                                   'TC_5','MP_5','SA_5','P1_5','P2_5']\n",
    "plot_time_offset_before_and_after = 3 # [s]"
   ]
  },
  {
   "cell_type": "markdown",
   "metadata": {
    "extensions": {
     "jupyter_dashboards": {
      "version": 1,
      "views": {
       "grid_default": {
        "col": 0,
        "height": 4,
        "hidden": false,
        "row": 12,
        "width": 4
       },
       "report_default": {
        "hidden": false
       }
      }
     }
    }
   },
   "source": [
    "### Whole Test Record\n",
    "\n",
    "***Directory and file-name of csv-file with whole record of the test subject:***"
   ]
  },
  {
   "cell_type": "code",
   "execution_count": 27,
   "metadata": {
    "ExecuteTime": {
     "end_time": "2019-02-07T10:33:33.970151Z",
     "start_time": "2019-02-07T10:33:33.848144Z"
    },
    "extensions": {
     "jupyter_dashboards": {
      "version": 1,
      "views": {
       "grid_default": {
        "hidden": true
       },
       "report_default": {
        "hidden": true
       }
      }
     }
    }
   },
   "outputs": [],
   "source": [
    "test_subject_dir  = 'E:\\Physio_Data\\Subject_{:02d}'.format(test_subject_id)\n",
    "test_subject_file = 'subject{:02d}.csv'.format(test_subject_id)"
   ]
  },
  {
   "cell_type": "markdown",
   "metadata": {
    "extensions": {
     "jupyter_dashboards": {
      "version": 1,
      "views": {
       "grid_default": {
        "col": 4,
        "height": 4,
        "hidden": false,
        "row": 14,
        "width": 4
       },
       "report_default": {
        "hidden": false
       }
      }
     }
    }
   },
   "source": [
    "### Timetables\n",
    "\n",
    "***Directory and file-name of timetable with the actual exercises:***"
   ]
  },
  {
   "cell_type": "code",
   "execution_count": 28,
   "metadata": {
    "ExecuteTime": {
     "end_time": "2019-02-07T10:33:34.096158Z",
     "start_time": "2019-02-07T10:33:33.973151Z"
    },
    "extensions": {
     "jupyter_dashboards": {
      "version": 1,
      "views": {
       "grid_default": {
        "hidden": true
       },
       "report_default": {
        "hidden": true
       }
      }
     }
    }
   },
   "outputs": [],
   "source": [
    "timetable_file_dir = 'E:\\Physio_Data\\Exercise_time_tables'\n",
    "timetable_file_name = 'Timetable_subject{:02d}.txt'.format(test_subject_id)"
   ]
  },
  {
   "cell_type": "markdown",
   "metadata": {
    "extensions": {
     "jupyter_dashboards": {
      "version": 1,
      "views": {
       "grid_default": {
        "col": 8,
        "height": 4,
        "hidden": false,
        "row": 14,
        "width": 4
       },
       "report_default": {
        "hidden": false
       }
      }
     }
    }
   },
   "source": [
    "### Separated csv-files & Database\n",
    "\n",
    "***Directory of separated csv-files (repetition blocks) and path of database with information regarding repetitions:***"
   ]
  },
  {
   "cell_type": "code",
   "execution_count": 29,
   "metadata": {
    "ExecuteTime": {
     "end_time": "2019-02-07T10:33:34.218165Z",
     "start_time": "2019-02-07T10:33:34.100158Z"
    },
    "extensions": {
     "jupyter_dashboards": {
      "version": 1,
      "views": {
       "grid_default": {
        "hidden": true
       },
       "report_default": {
        "hidden": true
       }
      }
     }
    }
   },
   "outputs": [],
   "source": [
    "separated_csv_data_dir='E:\\Physio_Data_Split_Ex_and_NonEx'\n",
    "database_path='E:\\Physio_Data\\DataBase_Physio_with_nonEx.db'"
   ]
  },
  {
   "cell_type": "markdown",
   "metadata": {
    "extensions": {
     "jupyter_dashboards": {
      "version": 1,
      "views": {
       "grid_default": {
        "col": 0,
        "height": 4,
        "hidden": false,
        "row": 16,
        "width": 4
       },
       "report_default": {
        "hidden": false
       }
      }
     }
    }
   },
   "source": [
    "### Sampling Rate\n",
    "\n",
    "***Sampling rate of recorded signals [Hz]:***"
   ]
  },
  {
   "cell_type": "code",
   "execution_count": 30,
   "metadata": {
    "ExecuteTime": {
     "end_time": "2019-02-07T10:33:34.353173Z",
     "start_time": "2019-02-07T10:33:34.222165Z"
    },
    "extensions": {
     "jupyter_dashboards": {
      "version": 1,
      "views": {
       "grid_default": {
        "hidden": true
       },
       "report_default": {
        "hidden": true
       }
      }
     }
    }
   },
   "outputs": [],
   "source": [
    "sampling_rate = 256 # [Hz]"
   ]
  },
  {
   "cell_type": "markdown",
   "metadata": {},
   "source": [
    "### Add Info\n",
    "\n",
    "***Additional information for the file-names to save:***\n",
    "\n",
    "Test subject ID, number of sections, ML model name and timestamp will automatically be used."
   ]
  },
  {
   "cell_type": "code",
   "execution_count": 31,
   "metadata": {
    "ExecuteTime": {
     "end_time": "2019-02-07T10:33:34.482180Z",
     "start_time": "2019-02-07T10:33:34.357173Z"
    }
   },
   "outputs": [],
   "source": [
    "add_info = 'pca20'"
   ]
  },
  {
   "cell_type": "markdown",
   "metadata": {
    "extensions": {
     "jupyter_dashboards": {
      "version": 1,
      "views": {
       "grid_default": {
        "col": 4,
        "height": 7,
        "hidden": false,
        "row": 18,
        "width": null
       },
       "report_default": {
        "hidden": false
       }
      }
     }
    }
   },
   "source": [
    "## Definition of Machine Learning (ML) Classifier Model\n",
    "\n",
    "Choose one of the classifier models from below by setting the parameter ML_model_name\n",
    "to one of the following strings:\n",
    "\n",
    "* Logistic Regression:  'LogReg'\n",
    "* Linear Discriminant Analysis:  'LDA'\n",
    "* Support Vector Classifier:  'SVC'\n",
    "* Random Forest Classifier:  'RFC'"
   ]
  },
  {
   "cell_type": "code",
   "execution_count": 32,
   "metadata": {
    "ExecuteTime": {
     "end_time": "2019-02-07T10:33:34.614188Z",
     "start_time": "2019-02-07T10:33:34.485180Z"
    },
    "extensions": {
     "jupyter_dashboards": {
      "version": 1,
      "views": {
       "grid_default": {
        "hidden": true
       },
       "report_default": {
        "hidden": true
       }
      }
     }
    }
   },
   "outputs": [],
   "source": [
    "#ML_model_name = 'LogReg'\n",
    "ML_model_name = 'LDA'\n",
    "#ML_model_name = 'SVC'\n",
    "#ML_model_name = 'RFC'"
   ]
  },
  {
   "cell_type": "markdown",
   "metadata": {
    "extensions": {
     "jupyter_dashboards": {
      "version": 1,
      "views": {
       "grid_default": {
        "col": 0,
        "height": 9,
        "hidden": false,
        "row": 25,
        "width": 12
       },
       "report_default": {
        "hidden": false
       }
      }
     }
    }
   },
   "source": [
    "### Logistic Regression\n",
    "\n",
    "***Hyperparameters used for grid search cross validation:***\n",
    "\n",
    "* penalty : str, ‘l1’ or ‘l2’, default: ‘l2’\n",
    "\n",
    "    Used to specify the norm used in the penalization. The ‘newton-cg’, ‘sag’ and ‘lbfgs’ solvers support only l2 penalties.\n",
    "    \n",
    "    \n",
    "* C : float, default: 1.0\n",
    "\n",
    "    Inverse of regularization strength; must be a positive float. Like in support vector machines, smaller values specify stronger regularization.\n",
    "    \n",
    "(https://scikit-learn.org/stable/modules/generated/sklearn.linear_model.LogisticRegression.html)"
   ]
  },
  {
   "cell_type": "code",
   "execution_count": 33,
   "metadata": {
    "ExecuteTime": {
     "end_time": "2019-02-07T10:33:34.738195Z",
     "start_time": "2019-02-07T10:33:34.617188Z"
    },
    "extensions": {
     "jupyter_dashboards": {
      "version": 1,
      "views": {
       "grid_default": {
        "hidden": true
       },
       "report_default": {
        "hidden": true
       }
      }
     }
    }
   },
   "outputs": [],
   "source": [
    "if ML_model_name is 'LogReg':\n",
    "\n",
    "    ML_model = LogisticRegression(random_state=42, max_iter=1000, solver='liblinear', multi_class='ovr')\n",
    "\n",
    "    # hyperparameters for grid search cross validation\n",
    "    param_grid = {'clf__C': np.logspace(-2,2,5), \n",
    "                  'clf__penalty': ['l1','l2']}# l1 lasso l2 ridge"
   ]
  },
  {
   "cell_type": "markdown",
   "metadata": {
    "extensions": {
     "jupyter_dashboards": {
      "version": 1,
      "views": {
       "grid_default": {
        "col": 0,
        "height": 10,
        "hidden": false,
        "row": 34,
        "width": 12
       },
       "report_default": {
        "hidden": false
       }
      }
     }
    }
   },
   "source": [
    "### Linear Discriminant Analysis (LDA)\n",
    "\n",
    "***Hyperparameters used for grid search cross validation:***\n",
    "\n",
    "* Solver to use, possible values:\n",
    "\n",
    "    'svd': Singular value decomposition (default). Does not compute the covariance matrix, therefore this solver is recommended for data with a large number of features.\n",
    "    \n",
    "    'lsqr': Least squares solution.\n",
    "    \n",
    "    'eigen': Eigenvalue decomposition.\n",
    "    \n",
    "(https://scikit-learn.org/stable/modules/generated/sklearn.discriminant_analysis.LinearDiscriminantAnalysis.html)\n"
   ]
  },
  {
   "cell_type": "code",
   "execution_count": 34,
   "metadata": {
    "ExecuteTime": {
     "end_time": "2019-02-07T10:33:34.869202Z",
     "start_time": "2019-02-07T10:33:34.743195Z"
    },
    "extensions": {
     "jupyter_dashboards": {
      "version": 1,
      "views": {
       "grid_default": {
        "hidden": true
       },
       "report_default": {
        "hidden": true
       }
      }
     }
    }
   },
   "outputs": [],
   "source": [
    "if ML_model_name is 'LDA':\n",
    "\n",
    "    ML_model = LDA()\n",
    "\n",
    "    # hyperparameters for grid search cross validation\n",
    "    param_grid = {'clf__solver': ['svd', 'lsqr', 'eigen']}"
   ]
  },
  {
   "cell_type": "markdown",
   "metadata": {
    "extensions": {
     "jupyter_dashboards": {
      "version": 1,
      "views": {
       "grid_default": {
        "col": 0,
        "height": 15,
        "hidden": false,
        "row": 44,
        "width": 12
       },
       "report_default": {
        "hidden": false
       }
      }
     }
    }
   },
   "source": [
    "### Support Vector Classifier (SVC)\n",
    "\n",
    "***Hyperparameters used for grid search cross validation:***\n",
    "\n",
    "* C : float, optional (default=1.0)\n",
    "\n",
    "    Penalty parameter C of the error term.\n",
    "\n",
    "\n",
    "* gamma : float, optional (default=’auto’)\n",
    "\n",
    "    Kernel coefficient for ‘rbf’, ‘poly’ and ‘sigmoid’.\n",
    "\n",
    "    Current default is ‘auto’ which uses 1 / n_features, if gamma='scale' is passed then it uses 1 / (n_features * X.std()) as value of gamma. The current default of gamma, ‘auto’, will change to ‘scale’ in version 0.22. ‘auto_deprecated’, a deprecated version of ‘auto’ is used as a default indicating that no explicit value of gamma was passed.\n",
    "\n",
    "\n",
    "NOTE:\n",
    "* probability : boolean, optional (default=False)\n",
    "\n",
    "    Whether to enable probability estimates. This must be enabled prior to calling fit, and will slow down that method.\n",
    "\n",
    "(https://scikit-learn.org/stable/modules/generated/sklearn.svm.SVC.html)\n"
   ]
  },
  {
   "cell_type": "code",
   "execution_count": 35,
   "metadata": {
    "ExecuteTime": {
     "end_time": "2019-02-07T10:33:34.994210Z",
     "start_time": "2019-02-07T10:33:34.874203Z"
    },
    "extensions": {
     "jupyter_dashboards": {
      "version": 1,
      "views": {
       "grid_default": {
        "hidden": true
       },
       "report_default": {
        "hidden": true
       }
      }
     }
    }
   },
   "outputs": [],
   "source": [
    "if ML_model_name is 'SVC':\n",
    "\n",
    "    ML_model = SVC(probability=True)\n",
    "    \n",
    "    # hyperparameters for grid search cross validation\n",
    "    param_grid = {'clf__C': [0.5, 1, 2],\n",
    "                  'clf__gamma': ['scale', 0.01, 0.03]}"
   ]
  },
  {
   "cell_type": "markdown",
   "metadata": {
    "extensions": {
     "jupyter_dashboards": {
      "version": 1,
      "views": {
       "grid_default": {
        "col": 0,
        "height": 13,
        "hidden": false,
        "row": 59,
        "width": 12
       },
       "report_default": {
        "hidden": false
       }
      }
     }
    }
   },
   "source": [
    "### Random Forest Classifier (RFC)\n",
    "\n",
    "***Hyperparameters used for grid search cross validation:***\n",
    "\n",
    "* \tn_estimators : integer, optional (default=10)\n",
    "\n",
    "    The number of trees in the forest.\n",
    "\n",
    "    Changed in version 0.20: The default value of n_estimators will change from 10 in version 0.20 to 100 in version 0.22.\n",
    "    \n",
    "    \n",
    "* criterion : string, optional (default=”gini”)\n",
    "\n",
    "    The function to measure the quality of a split. Supported criteria are “gini” for the Gini impurity and “entropy” for the information gain. Note: this parameter is tree-specific.\n",
    "\n",
    "\n",
    "* max_depth : integer or None, optional (default=None)\n",
    "\n",
    "    The maximum depth of the tree. If None, then nodes are expanded until all leaves are pure or until all leaves contain less than min_samples_split samples.\n",
    "\n",
    "\n",
    "    \n",
    "(https://scikit-learn.org/stable/modules/generated/sklearn.ensemble.RandomForestClassifier.html)\n"
   ]
  },
  {
   "cell_type": "code",
   "execution_count": 36,
   "metadata": {
    "ExecuteTime": {
     "end_time": "2019-02-07T10:33:35.121217Z",
     "start_time": "2019-02-07T10:33:35.001210Z"
    },
    "extensions": {
     "jupyter_dashboards": {
      "version": 1,
      "views": {
       "grid_default": {
        "hidden": true
       },
       "report_default": {
        "hidden": true
       }
      }
     }
    }
   },
   "outputs": [],
   "source": [
    "if ML_model_name is 'RFC':\n",
    "\n",
    "    ML_model = RandomForestClassifier(n_jobs=-1, random_state=42)\n",
    "\n",
    "    # hyperparameters for grid search cross validation\n",
    "    param_grid = {'clf__n_estimators': [50,100,200],\n",
    "                  'clf__criterion': [\"gini\", 'entropy'],\n",
    "                  'clf__max_depth': [10, 50, 100]}"
   ]
  },
  {
   "cell_type": "markdown",
   "metadata": {},
   "source": [
    "***\n",
    "***\n",
    "***\n",
    "***\n",
    "***"
   ]
  },
  {
   "cell_type": "markdown",
   "metadata": {},
   "source": [
    "***Docstring with summary of parameters and ML model:***"
   ]
  },
  {
   "cell_type": "code",
   "execution_count": 37,
   "metadata": {
    "ExecuteTime": {
     "end_time": "2019-02-07T10:33:35.277226Z",
     "start_time": "2019-02-07T10:33:35.128217Z"
    }
   },
   "outputs": [
    {
     "data": {
      "text/plain": [
       "'TestSub1_NumSec10_LDA_pca20_20190207_113335'"
      ]
     },
     "execution_count": 37,
     "metadata": {},
     "output_type": "execute_result"
    }
   ],
   "source": [
    "file_doc_string = 'TestSub{}_NumSec{}_{}_{}_{date:%Y%m%d_%H%M%S}'.format(test_subject_id,\n",
    "                                                         number_sections,\n",
    "                                                         ML_model_name,\n",
    "                                                         add_info,\n",
    "                                                         date=datetime.datetime.now())\n",
    "file_doc_string "
   ]
  },
  {
   "cell_type": "markdown",
   "metadata": {},
   "source": [
    "***Function to print cell execution time (for html format):***"
   ]
  },
  {
   "cell_type": "code",
   "execution_count": 38,
   "metadata": {
    "ExecuteTime": {
     "end_time": "2019-02-07T10:33:35.398233Z",
     "start_time": "2019-02-07T10:33:35.285226Z"
    }
   },
   "outputs": [],
   "source": [
    "def print_cell_exec_time(cell_start_time, info=''):\n",
    "    cell_execution_time = timeit.default_timer() - cell_start_time\n",
    "    print('{} -> execution time [min:sec]:  {}:{:.3f}'.format(info,\n",
    "                                                              int(cell_execution_time/60),\n",
    "                                                              cell_execution_time%60))"
   ]
  },
  {
   "cell_type": "markdown",
   "metadata": {},
   "source": [
    "Test it with 1.5 s sleeping:"
   ]
  },
  {
   "cell_type": "code",
   "execution_count": 39,
   "metadata": {
    "ExecuteTime": {
     "end_time": "2019-02-07T10:33:37.045327Z",
     "start_time": "2019-02-07T10:33:35.401233Z"
    }
   },
   "outputs": [
    {
     "name": "stdout",
     "output_type": "stream",
     "text": [
      "Test -> execution time [min:sec]:  0:1.500\n"
     ]
    }
   ],
   "source": [
    "ct = timeit.default_timer()\n",
    "time.sleep(1.5)\n",
    "print_cell_exec_time(ct, 'Test')"
   ]
  },
  {
   "cell_type": "markdown",
   "metadata": {
    "extensions": {
     "jupyter_dashboards": {
      "version": 1,
      "views": {
       "grid_default": {
        "col": 0,
        "height": 4,
        "hidden": false,
        "row": 72,
        "width": 12
       },
       "report_default": {
        "hidden": false
       }
      }
     }
    }
   },
   "source": [
    "## Loading Training and Test Samples"
   ]
  },
  {
   "cell_type": "code",
   "execution_count": 40,
   "metadata": {
    "ExecuteTime": {
     "end_time": "2019-02-07T10:34:24.359033Z",
     "start_time": "2019-02-07T10:33:37.067328Z"
    },
    "extensions": {
     "jupyter_dashboards": {
      "version": 1,
      "views": {
       "grid_default": {
        "hidden": true
       },
       "report_default": {
        "hidden": true
       }
      }
     }
    }
   },
   "outputs": [],
   "source": [
    "DataObj = PDH.PhysioData_SectionFeatures(num_sections=number_sections,\n",
    "                                         test_subject_ids=test_subject_id,\n",
    "                                         train_subject_ids=train_subject_ids,\n",
    "                                         test_rep_nums=test_repetition_numbers,\n",
    "                                         train_rep_nums=train_repetition_numbers,\n",
    "                                         test_ex_abbrs=test_exercises,\n",
    "                                         train_ex_abbrs=train_exercises,\n",
    "                                         rot_axis_test_data=rot_axis_test_data,\n",
    "                                         rot_angle_test_data=rot_angle_test_data,\n",
    "                                         add_noise_test_data=add_noise_test_data,\n",
    "                                         add_noise_train_data=add_noise_train_data,\n",
    "                                         snr_db=snr_db,\n",
    "                                         csv_data_dir=separated_csv_data_dir,\n",
    "                                         data_base_path=database_path,\n",
    "                                         sampling_rate=sampling_rate)"
   ]
  },
  {
   "cell_type": "markdown",
   "metadata": {
    "extensions": {
     "jupyter_dashboards": {
      "version": 1,
      "views": {
       "grid_default": {
        "col": 0,
        "height": 4,
        "hidden": false,
        "row": 20,
        "width": 4
       },
       "report_default": {
        "hidden": false
       }
      }
     }
    }
   },
   "source": [
    "***Load the start and stop times for each exercise repetition block of the test data:***"
   ]
  },
  {
   "cell_type": "code",
   "execution_count": 41,
   "metadata": {
    "ExecuteTime": {
     "end_time": "2019-02-07T10:34:24.380034Z",
     "start_time": "2019-02-07T10:34:24.363033Z"
    },
    "extensions": {
     "jupyter_dashboards": {
      "version": 1,
      "views": {
       "grid_default": {
        "hidden": true
       },
       "report_default": {
        "hidden": true
       }
      }
     }
    }
   },
   "outputs": [
    {
     "name": "stdout",
     "output_type": "stream",
     "text": [
      "16:09.5 - 16:23.1\n"
     ]
    }
   ],
   "source": [
    "timetable_ex_dict = get_timetable_ex_dict(timetable_file_dir, timetable_file_name)\n",
    "\n",
    "# Example:\n",
    "print(timetable_ex_dict['RF_5_start_time'] + ' - ' + timetable_ex_dict['RF_5_stop_time'])"
   ]
  },
  {
   "cell_type": "markdown",
   "metadata": {
    "extensions": {
     "jupyter_dashboards": {
      "version": 1,
      "views": {
       "grid_default": {
        "col": 0,
        "height": 4,
        "hidden": false,
        "row": 76,
        "width": 4
       },
       "report_default": {
        "hidden": false
       }
      }
     }
    }
   },
   "source": [
    "***Inspect loaded data for testing:***"
   ]
  },
  {
   "cell_type": "code",
   "execution_count": 42,
   "metadata": {
    "ExecuteTime": {
     "end_time": "2019-02-07T10:34:24.464039Z",
     "start_time": "2019-02-07T10:34:24.384035Z"
    },
    "extensions": {
     "jupyter_dashboards": {
      "version": 1,
      "views": {
       "grid_default": {
        "hidden": true
       },
       "report_default": {
        "hidden": true
       }
      }
     }
    }
   },
   "outputs": [
    {
     "data": {
      "text/html": [
       "\n",
       "        <iframe\n",
       "            width=\"100%\"\n",
       "            height=\"500\"\n",
       "            src=\"pivot_tables_html/TableTest_TestSub1_NumSec10_LDA_pca20_20190207_113335.html\"\n",
       "            frameborder=\"0\"\n",
       "            allowfullscreen\n",
       "        ></iframe>\n",
       "        "
      ],
      "text/plain": [
       "<IPython.lib.display.IFrame at 0x1f0065c0>"
      ]
     },
     "execution_count": 42,
     "metadata": {},
     "output_type": "execute_result"
    }
   ],
   "source": [
    "html_path = 'pivot_tables_html/TableTest_' + file_doc_string +'.html'\n",
    "pivot_ui(DataObj.get_test_data_points(), rows=['abbreviation'], cols=['subject_id', 'num_rep'], outfile_path=html_path)"
   ]
  },
  {
   "cell_type": "markdown",
   "metadata": {
    "extensions": {
     "jupyter_dashboards": {
      "version": 1,
      "views": {
       "grid_default": {
        "col": 4,
        "height": 4,
        "hidden": false,
        "row": 76,
        "width": 4
       },
       "report_default": {
        "hidden": false
       }
      }
     }
    }
   },
   "source": [
    "***Inspect loaded data for training:***"
   ]
  },
  {
   "cell_type": "code",
   "execution_count": 43,
   "metadata": {
    "ExecuteTime": {
     "end_time": "2019-02-07T10:34:24.754056Z",
     "start_time": "2019-02-07T10:34:24.468039Z"
    },
    "extensions": {
     "jupyter_dashboards": {
      "version": 1,
      "views": {
       "grid_default": {
        "hidden": true
       },
       "report_default": {
        "hidden": true
       }
      }
     }
    }
   },
   "outputs": [
    {
     "data": {
      "text/html": [
       "\n",
       "        <iframe\n",
       "            width=\"100%\"\n",
       "            height=\"500\"\n",
       "            src=\"pivot_tables_html/TableTrain_TestSub1_NumSec10_LDA_pca20_20190207_113335.html\"\n",
       "            frameborder=\"0\"\n",
       "            allowfullscreen\n",
       "        ></iframe>\n",
       "        "
      ],
      "text/plain": [
       "<IPython.lib.display.IFrame at 0x1d03d668>"
      ]
     },
     "execution_count": 43,
     "metadata": {},
     "output_type": "execute_result"
    }
   ],
   "source": [
    "html_path = 'pivot_tables_html/TableTrain_' + file_doc_string +'.html'\n",
    "pivot_ui(DataObj.get_train_data_points(), rows=['abbreviation'], cols=['subject_id', 'num_rep'], outfile_path=html_path)"
   ]
  },
  {
   "cell_type": "markdown",
   "metadata": {},
   "source": [
    "## Dimensionality Reduction\n",
    "\n",
    "First, save features and labels from object to own matrices:"
   ]
  },
  {
   "cell_type": "code",
   "execution_count": 44,
   "metadata": {
    "ExecuteTime": {
     "end_time": "2019-02-07T10:34:24.894064Z",
     "start_time": "2019-02-07T10:34:24.767056Z"
    }
   },
   "outputs": [],
   "source": [
    "X_train = DataObj.X_train()\n",
    "X_test = DataObj.X_test()\n",
    "\n",
    "y_train = DataObj.y_train()\n",
    "y_test = DataObj.y_test()"
   ]
  },
  {
   "cell_type": "markdown",
   "metadata": {},
   "source": [
    "### Principal Component Analysis (PCA)"
   ]
  },
  {
   "cell_type": "code",
   "execution_count": 45,
   "metadata": {
    "ExecuteTime": {
     "end_time": "2019-02-07T10:34:25.118076Z",
     "start_time": "2019-02-07T10:34:24.908064Z"
    }
   },
   "outputs": [],
   "source": [
    "if use_PCA_for_dim_reduction is True:\n",
    "    \n",
    "    # make pca model\n",
    "    pca = PCA(n_components=number_principal_components)\n",
    "\n",
    "    # create new features from PCA projections\n",
    "    ct = timeit.default_timer()\n",
    "    X_train = pca.fit_transform(DataObj.X_train())\n",
    "    print_cell_exec_time(ct, 'PCA train samples (fit and transform)')\n",
    "    \n",
    "    ct = timeit.default_timer()\n",
    "    X_test = pca.transform(DataObj.X_test())\n",
    "    print_cell_exec_time(ct, 'PCA test samples (transform)')\n",
    "    \n",
    "    print('Variance explained by the {} principal components:  {:.2f}%'.format(number_principal_components,\n",
    "                                                                        pca.explained_variance_ratio_.sum()*100))    \n",
    "    np.shape(X_test)"
   ]
  },
  {
   "cell_type": "markdown",
   "metadata": {},
   "source": [
    "### Linear Discriminat Analysis\n",
    "\n",
    "A fitted LDA model can also be used to reduce the dimensionality of the input by projecting it to the most discriminative directions ($\\rightarrow$ number of classes - 1)."
   ]
  },
  {
   "cell_type": "code",
   "execution_count": 46,
   "metadata": {
    "ExecuteTime": {
     "end_time": "2019-02-07T10:34:25.315088Z",
     "start_time": "2019-02-07T10:34:25.129077Z"
    }
   },
   "outputs": [],
   "source": [
    "if use_LDA_for_dim_reduction is True:\n",
    "    \n",
    "    # make lda model\n",
    "    lda = LDA()\n",
    "\n",
    "    # create new features from LDA projections\n",
    "    ct = timeit.default_timer()\n",
    "    X_train = lda.fit_transform(DataObj.X_train(), DataObj.y_train())\n",
    "    print_cell_exec_time(ct, 'LDA train samples (fit and transform)')\n",
    "    \n",
    "    ct = timeit.default_timer()\n",
    "    X_test = lda.transform(DataObj.X_test())\n",
    "    print_cell_exec_time(ct, 'LDA test samples (transform)')\n",
    "\n",
    "    np.shape(X_test)"
   ]
  },
  {
   "cell_type": "markdown",
   "metadata": {
    "extensions": {
     "jupyter_dashboards": {
      "version": 1,
      "views": {
       "grid_default": {
        "col": 8,
        "height": 4,
        "hidden": false,
        "row": 76,
        "width": 4
       },
       "report_default": {
        "hidden": false
       }
      }
     }
    }
   },
   "source": [
    "## ML Classifier Model"
   ]
  },
  {
   "cell_type": "markdown",
   "metadata": {
    "extensions": {
     "jupyter_dashboards": {
      "version": 1,
      "views": {
       "grid_default": {
        "col": 0,
        "height": 5,
        "hidden": false,
        "row": 80,
        "width": 12
       },
       "report_default": {
        "hidden": false
       }
      }
     }
    }
   },
   "source": [
    "***Create the selected model with input scaling:***\n",
    "\n",
    "Additionally, inputs are scaled, because many elements used in the objective function of a learning algorithm (such as the RBF kernel of Support Vector Machines or the L1 and L2 regularizers of linear models) assume that all features are centered around 0 and have variance in the same order.\n",
    "\n",
    "(see https://scikit-learn.org/stable/modules/generated/sklearn.preprocessing.StandardScaler.html)"
   ]
  },
  {
   "cell_type": "code",
   "execution_count": 47,
   "metadata": {
    "ExecuteTime": {
     "end_time": "2019-02-07T10:34:25.458096Z",
     "start_time": "2019-02-07T10:34:25.328088Z"
    },
    "extensions": {
     "jupyter_dashboards": {
      "version": 1,
      "views": {
       "grid_default": {
        "hidden": true
       },
       "report_default": {
        "hidden": true
       }
      }
     }
    }
   },
   "outputs": [],
   "source": [
    "pipe_elements = [('scale', StandardScaler()), ('clf', ML_model)]\n",
    "ML_model_pipe = Pipeline(pipe_elements)"
   ]
  },
  {
   "cell_type": "markdown",
   "metadata": {
    "extensions": {
     "jupyter_dashboards": {
      "version": 1,
      "views": {
       "grid_default": {
        "col": 0,
        "height": 4,
        "hidden": false,
        "row": 85,
        "width": 4
       },
       "report_default": {
        "hidden": false
       }
      }
     }
    }
   },
   "source": [
    "### Grid Search Cross Validation"
   ]
  },
  {
   "cell_type": "markdown",
   "metadata": {
    "extensions": {
     "jupyter_dashboards": {
      "version": 1,
      "views": {
       "grid_default": {
        "col": 4,
        "height": 4,
        "hidden": false,
        "row": 85,
        "width": 4
       },
       "report_default": {
        "hidden": false
       }
      }
     }
    }
   },
   "source": [
    "***Splitting strategy for grid search: stratified cross validation with three folds***"
   ]
  },
  {
   "cell_type": "code",
   "execution_count": 48,
   "metadata": {
    "ExecuteTime": {
     "end_time": "2019-02-07T10:34:25.594104Z",
     "start_time": "2019-02-07T10:34:25.463096Z"
    },
    "extensions": {
     "jupyter_dashboards": {
      "version": 1,
      "views": {
       "grid_default": {
        "hidden": true
       },
       "report_default": {
        "hidden": true
       }
      }
     }
    }
   },
   "outputs": [],
   "source": [
    "grid_search = GridSearchCV(ML_model_pipe, param_grid=param_grid, cv=3, scoring='accuracy', \n",
    "                           verbose=10, return_train_score=True, n_jobs=-1)"
   ]
  },
  {
   "cell_type": "markdown",
   "metadata": {
    "extensions": {
     "jupyter_dashboards": {
      "version": 1,
      "views": {
       "grid_default": {
        "col": 8,
        "height": 4,
        "hidden": false,
        "row": 85,
        "width": 4
       },
       "report_default": {
        "hidden": false
       }
      }
     }
    }
   },
   "source": [
    "***Apply grid search cross validation:***\n",
    "\n",
    "Run fit with all sets of parameters."
   ]
  },
  {
   "cell_type": "code",
   "execution_count": 49,
   "metadata": {
    "ExecuteTime": {
     "end_time": "2019-02-07T10:34:29.019300Z",
     "start_time": "2019-02-07T10:34:25.605104Z"
    },
    "extensions": {
     "jupyter_dashboards": {
      "version": 1,
      "views": {
       "grid_default": {
        "hidden": true
       },
       "report_default": {
        "hidden": true
       }
      }
     }
    },
    "scrolled": false
   },
   "outputs": [
    {
     "name": "stdout",
     "output_type": "stream",
     "text": [
      "Fitting 3 folds for each of 3 candidates, totalling 9 fits\n"
     ]
    },
    {
     "name": "stderr",
     "output_type": "stream",
     "text": [
      "[Parallel(n_jobs=-1)]: Using backend LokyBackend with 4 concurrent workers.\n",
      "[Parallel(n_jobs=-1)]: Done   3 out of   9 | elapsed:    2.7s remaining:    5.6s\n",
      "[Parallel(n_jobs=-1)]: Done   4 out of   9 | elapsed:    2.8s remaining:    3.5s\n",
      "[Parallel(n_jobs=-1)]: Done   5 out of   9 | elapsed:    2.8s remaining:    2.2s\n"
     ]
    },
    {
     "name": "stdout",
     "output_type": "stream",
     "text": [
      "Grid search cross validation -> execution time [min:sec]:  0:3.286\n"
     ]
    },
    {
     "name": "stderr",
     "output_type": "stream",
     "text": [
      "[Parallel(n_jobs=-1)]: Done   6 out of   9 | elapsed:    3.0s remaining:    1.5s\n",
      "[Parallel(n_jobs=-1)]: Done   7 out of   9 | elapsed:    3.1s remaining:    0.8s\n",
      "[Parallel(n_jobs=-1)]: Done   9 out of   9 | elapsed:    3.1s remaining:    0.0s\n",
      "[Parallel(n_jobs=-1)]: Done   9 out of   9 | elapsed:    3.1s finished\n"
     ]
    }
   ],
   "source": [
    "ct = timeit.default_timer()\n",
    "grid_search.fit(X_train, DataObj.y_train())\n",
    "print_cell_exec_time(ct, 'Grid search cross validation')"
   ]
  },
  {
   "cell_type": "markdown",
   "metadata": {
    "extensions": {
     "jupyter_dashboards": {
      "version": 1,
      "views": {
       "grid_default": {
        "col": 0,
        "height": 4,
        "hidden": false,
        "row": 89,
        "width": 4
       },
       "report_default": {
        "hidden": false
       }
      }
     }
    }
   },
   "source": [
    "***Show the results of grid search cross validation:***"
   ]
  },
  {
   "cell_type": "code",
   "execution_count": 50,
   "metadata": {
    "ExecuteTime": {
     "end_time": "2019-02-07T10:34:29.064302Z",
     "start_time": "2019-02-07T10:34:29.025300Z"
    },
    "extensions": {
     "jupyter_dashboards": {
      "version": 1,
      "views": {
       "grid_default": {
        "hidden": true
       },
       "report_default": {
        "hidden": true
       }
      }
     }
    },
    "scrolled": true
   },
   "outputs": [
    {
     "data": {
      "text/html": [
       "<div>\n",
       "<style>\n",
       "    .dataframe thead tr:only-child th {\n",
       "        text-align: right;\n",
       "    }\n",
       "\n",
       "    .dataframe thead th {\n",
       "        text-align: left;\n",
       "    }\n",
       "\n",
       "    .dataframe tbody tr th {\n",
       "        vertical-align: top;\n",
       "    }\n",
       "</style>\n",
       "<table border=\"1\" class=\"dataframe\">\n",
       "  <thead>\n",
       "    <tr style=\"text-align: right;\">\n",
       "      <th></th>\n",
       "      <th>0</th>\n",
       "      <th>1</th>\n",
       "      <th>2</th>\n",
       "    </tr>\n",
       "  </thead>\n",
       "  <tbody>\n",
       "    <tr>\n",
       "      <th>mean_fit_time</th>\n",
       "      <td>0.204012</td>\n",
       "      <td>0.193011</td>\n",
       "      <td>0.213679</td>\n",
       "    </tr>\n",
       "    <tr>\n",
       "      <th>mean_score_time</th>\n",
       "      <td>0.0106672</td>\n",
       "      <td>0.0103339</td>\n",
       "      <td>0.0116675</td>\n",
       "    </tr>\n",
       "    <tr>\n",
       "      <th>mean_test_score</th>\n",
       "      <td>0.94232</td>\n",
       "      <td>0.942157</td>\n",
       "      <td>0.929085</td>\n",
       "    </tr>\n",
       "    <tr>\n",
       "      <th>mean_train_score</th>\n",
       "      <td>0.955475</td>\n",
       "      <td>0.955475</td>\n",
       "      <td>0.939788</td>\n",
       "    </tr>\n",
       "    <tr>\n",
       "      <th>param_clf__solver</th>\n",
       "      <td>svd</td>\n",
       "      <td>lsqr</td>\n",
       "      <td>eigen</td>\n",
       "    </tr>\n",
       "    <tr>\n",
       "      <th>params</th>\n",
       "      <td>{'clf__solver': 'svd'}</td>\n",
       "      <td>{'clf__solver': 'lsqr'}</td>\n",
       "      <td>{'clf__solver': 'eigen'}</td>\n",
       "    </tr>\n",
       "    <tr>\n",
       "      <th>rank_test_score</th>\n",
       "      <td>1</td>\n",
       "      <td>2</td>\n",
       "      <td>3</td>\n",
       "    </tr>\n",
       "    <tr>\n",
       "      <th>split0_test_score</th>\n",
       "      <td>0.941263</td>\n",
       "      <td>0.941263</td>\n",
       "      <td>0.896231</td>\n",
       "    </tr>\n",
       "    <tr>\n",
       "      <th>split0_train_score</th>\n",
       "      <td>0.961737</td>\n",
       "      <td>0.961737</td>\n",
       "      <td>0.94236</td>\n",
       "    </tr>\n",
       "    <tr>\n",
       "      <th>split1_test_score</th>\n",
       "      <td>0.940715</td>\n",
       "      <td>0.940715</td>\n",
       "      <td>0.937286</td>\n",
       "    </tr>\n",
       "    <tr>\n",
       "      <th>split1_train_score</th>\n",
       "      <td>0.950478</td>\n",
       "      <td>0.950478</td>\n",
       "      <td>0.937485</td>\n",
       "    </tr>\n",
       "    <tr>\n",
       "      <th>split2_test_score</th>\n",
       "      <td>0.94499</td>\n",
       "      <td>0.944499</td>\n",
       "      <td>0.953831</td>\n",
       "    </tr>\n",
       "    <tr>\n",
       "      <th>split2_train_score</th>\n",
       "      <td>0.954212</td>\n",
       "      <td>0.954212</td>\n",
       "      <td>0.93952</td>\n",
       "    </tr>\n",
       "    <tr>\n",
       "      <th>std_fit_time</th>\n",
       "      <td>0.0671803</td>\n",
       "      <td>0.0855893</td>\n",
       "      <td>0.0202386</td>\n",
       "    </tr>\n",
       "    <tr>\n",
       "      <th>std_score_time</th>\n",
       "      <td>0.00449716</td>\n",
       "      <td>0.00713405</td>\n",
       "      <td>0.00464297</td>\n",
       "    </tr>\n",
       "    <tr>\n",
       "      <th>std_test_score</th>\n",
       "      <td>0.00189836</td>\n",
       "      <td>0.00166877</td>\n",
       "      <td>0.0242172</td>\n",
       "    </tr>\n",
       "    <tr>\n",
       "      <th>std_train_score</th>\n",
       "      <td>0.00468234</td>\n",
       "      <td>0.00468234</td>\n",
       "      <td>0.00199917</td>\n",
       "    </tr>\n",
       "  </tbody>\n",
       "</table>\n",
       "</div>"
      ],
      "text/plain": [
       "                                         0                        1  \\\n",
       "mean_fit_time                     0.204012                 0.193011   \n",
       "mean_score_time                  0.0106672                0.0103339   \n",
       "mean_test_score                    0.94232                 0.942157   \n",
       "mean_train_score                  0.955475                 0.955475   \n",
       "param_clf__solver                      svd                     lsqr   \n",
       "params              {'clf__solver': 'svd'}  {'clf__solver': 'lsqr'}   \n",
       "rank_test_score                          1                        2   \n",
       "split0_test_score                 0.941263                 0.941263   \n",
       "split0_train_score                0.961737                 0.961737   \n",
       "split1_test_score                 0.940715                 0.940715   \n",
       "split1_train_score                0.950478                 0.950478   \n",
       "split2_test_score                  0.94499                 0.944499   \n",
       "split2_train_score                0.954212                 0.954212   \n",
       "std_fit_time                     0.0671803                0.0855893   \n",
       "std_score_time                  0.00449716               0.00713405   \n",
       "std_test_score                  0.00189836               0.00166877   \n",
       "std_train_score                 0.00468234               0.00468234   \n",
       "\n",
       "                                           2  \n",
       "mean_fit_time                       0.213679  \n",
       "mean_score_time                    0.0116675  \n",
       "mean_test_score                     0.929085  \n",
       "mean_train_score                    0.939788  \n",
       "param_clf__solver                      eigen  \n",
       "params              {'clf__solver': 'eigen'}  \n",
       "rank_test_score                            3  \n",
       "split0_test_score                   0.896231  \n",
       "split0_train_score                   0.94236  \n",
       "split1_test_score                   0.937286  \n",
       "split1_train_score                  0.937485  \n",
       "split2_test_score                   0.953831  \n",
       "split2_train_score                   0.93952  \n",
       "std_fit_time                       0.0202386  \n",
       "std_score_time                    0.00464297  \n",
       "std_test_score                     0.0242172  \n",
       "std_train_score                   0.00199917  "
      ]
     },
     "execution_count": 50,
     "metadata": {},
     "output_type": "execute_result"
    }
   ],
   "source": [
    "pd.DataFrame(grid_search.cv_results_).T"
   ]
  },
  {
   "cell_type": "markdown",
   "metadata": {
    "extensions": {
     "jupyter_dashboards": {
      "version": 1,
      "views": {
       "grid_default": {
        "col": 4,
        "height": 4,
        "hidden": false,
        "row": 89,
        "width": 4
       },
       "report_default": {
        "hidden": false
       }
      }
     }
    }
   },
   "source": [
    "***Show best parameters:***"
   ]
  },
  {
   "cell_type": "code",
   "execution_count": 51,
   "metadata": {
    "ExecuteTime": {
     "end_time": "2019-02-07T10:34:29.201310Z",
     "start_time": "2019-02-07T10:34:29.068302Z"
    },
    "extensions": {
     "jupyter_dashboards": {
      "version": 1,
      "views": {
       "grid_default": {
        "hidden": true
       },
       "report_default": {
        "hidden": true
       }
      }
     }
    }
   },
   "outputs": [
    {
     "data": {
      "text/plain": [
       "{'clf__solver': 'svd'}"
      ]
     },
     "execution_count": 51,
     "metadata": {},
     "output_type": "execute_result"
    }
   ],
   "source": [
    "grid_search.best_params_"
   ]
  },
  {
   "cell_type": "markdown",
   "metadata": {
    "extensions": {
     "jupyter_dashboards": {
      "version": 1,
      "views": {
       "grid_default": {
        "col": 8,
        "height": 4,
        "hidden": false,
        "row": 89,
        "width": 4
       },
       "report_default": {
        "hidden": false
       }
      }
     }
    }
   },
   "source": [
    "***Show best score of cross validation (on training data):***\n",
    "\n",
    "Mean cross-validated score of the best estimator."
   ]
  },
  {
   "cell_type": "code",
   "execution_count": 52,
   "metadata": {
    "ExecuteTime": {
     "end_time": "2019-02-07T10:34:29.336318Z",
     "start_time": "2019-02-07T10:34:29.210311Z"
    },
    "extensions": {
     "jupyter_dashboards": {
      "version": 1,
      "views": {
       "grid_default": {
        "hidden": true
       },
       "report_default": {
        "hidden": true
       }
      }
     }
    }
   },
   "outputs": [
    {
     "name": "stdout",
     "output_type": "stream",
     "text": [
      "Accuracy: 94.23%\n"
     ]
    }
   ],
   "source": [
    "print('Accuracy: {:.2f}%'.format(grid_search.best_score_*100))"
   ]
  },
  {
   "cell_type": "markdown",
   "metadata": {
    "ExecuteTime": {
     "end_time": "2019-01-21T10:00:28.021374Z",
     "start_time": "2019-01-21T10:00:28.005373Z"
    },
    "extensions": {
     "jupyter_dashboards": {
      "version": 1,
      "views": {
       "grid_default": {
        "col": 0,
        "height": 4,
        "hidden": false,
        "row": 93,
        "width": 4
       },
       "report_default": {
        "hidden": false
       }
      }
     }
    }
   },
   "source": [
    "***Get estimator that was chosen by the search:***\n",
    "\n",
    "Estimator which gave highest score on the left out data."
   ]
  },
  {
   "cell_type": "code",
   "execution_count": 53,
   "metadata": {
    "ExecuteTime": {
     "end_time": "2019-02-07T10:34:29.483326Z",
     "start_time": "2019-02-07T10:34:29.346318Z"
    },
    "extensions": {
     "jupyter_dashboards": {
      "version": 1,
      "views": {
       "grid_default": {
        "hidden": true
       },
       "report_default": {
        "hidden": true
       }
      }
     }
    }
   },
   "outputs": [],
   "source": [
    "ML_model_best = grid_search.best_estimator_"
   ]
  },
  {
   "cell_type": "code",
   "execution_count": 58,
   "metadata": {
    "ExecuteTime": {
     "end_time": "2019-02-07T10:38:04.535626Z",
     "start_time": "2019-02-07T10:38:04.393618Z"
    }
   },
   "outputs": [
    {
     "data": {
      "text/plain": [
       "Pipeline(memory=None,\n",
       "     steps=[('scale', StandardScaler(copy=True, with_mean=True, with_std=True)), ('clf', LinearDiscriminantAnalysis(n_components=None, priors=None, shrinkage=None,\n",
       "              solver='svd', store_covariance=False, tol=0.0001))])"
      ]
     },
     "execution_count": 58,
     "metadata": {},
     "output_type": "execute_result"
    }
   ],
   "source": [
    "# just to see how long is takes\n",
    "ML_model_best.fit(X_train, y_train)"
   ]
  },
  {
   "cell_type": "markdown",
   "metadata": {
    "extensions": {
     "jupyter_dashboards": {
      "version": 1,
      "views": {
       "grid_default": {
        "col": 0,
        "height": 7,
        "hidden": false,
        "row": 97,
        "width": 12
       },
       "report_default": {
        "hidden": false
       }
      }
     }
    }
   },
   "source": [
    "### Classification of Test Data (separated repetitions as samples)\n",
    "\n",
    "Now the (so far unseen) test samples are used, in order to check \n",
    "the performance of the generated ML model.\n",
    "\n",
    "At this point, it is important to keep in mind that the test samples were\n",
    "generated with information regarding start and stop times of the corresponding repetitions.\n",
    "Hence, the results of this section alone do not supply sufficient information for classification performance of new data, where start and stop times of the individual repetitions are not known.\n",
    "\n",
    "Nevertheless, it is a good point to start, because if classification on this samples does not work well,\n",
    "it is evident that classification of data without knowledge of start and stop times would even work much worse.\n",
    "And the actual goal is to classify data without knowledge of start and stop times of individual repetitions."
   ]
  },
  {
   "cell_type": "markdown",
   "metadata": {
    "extensions": {
     "jupyter_dashboards": {
      "version": 1,
      "views": {
       "grid_default": {
        "col": 4,
        "height": 4,
        "hidden": false,
        "row": 93,
        "width": 4
       },
       "report_default": {
        "hidden": false
       }
      }
     }
    }
   },
   "source": [
    "***Predict labels of the test data set:***"
   ]
  },
  {
   "cell_type": "code",
   "execution_count": null,
   "metadata": {
    "ExecuteTime": {
     "end_time": "2019-02-07T10:20:20.513132Z",
     "start_time": "2019-02-07T10:20:20.401126Z"
    },
    "extensions": {
     "jupyter_dashboards": {
      "version": 1,
      "views": {
       "grid_default": {
        "hidden": true
       },
       "report_default": {
        "hidden": true
       }
      }
     }
    }
   },
   "outputs": [],
   "source": [
    "ct = timeit.default_timer()\n",
    "y_pred = ML_model_best.predict(X_test)\n",
    "print_cell_exec_time(ct, 'Predict labels of sep. test samples')"
   ]
  },
  {
   "cell_type": "markdown",
   "metadata": {
    "ExecuteTime": {
     "end_time": "2019-01-21T10:05:31.548735Z",
     "start_time": "2019-01-21T10:05:31.529734Z"
    },
    "extensions": {
     "jupyter_dashboards": {
      "version": 1,
      "views": {
       "grid_default": {
        "col": 8,
        "height": 4,
        "hidden": false,
        "row": 93,
        "width": 4
       },
       "report_default": {
        "hidden": false
       }
      }
     }
    }
   },
   "source": [
    "*** Show score:***"
   ]
  },
  {
   "cell_type": "code",
   "execution_count": null,
   "metadata": {
    "ExecuteTime": {
     "end_time": "2019-02-07T10:20:20.601138Z",
     "start_time": "2019-02-07T10:20:20.520133Z"
    },
    "extensions": {
     "jupyter_dashboards": {
      "version": 1,
      "views": {
       "grid_default": {
        "hidden": true
       },
       "report_default": {
        "hidden": true
       }
      }
     }
    }
   },
   "outputs": [],
   "source": [
    "print('Accuracy: {:.2f}%\\n'.format((accuracy_score(DataObj.y_test(), y_pred))*100))"
   ]
  },
  {
   "cell_type": "markdown",
   "metadata": {
    "extensions": {
     "jupyter_dashboards": {
      "version": 1,
      "views": {
       "grid_default": {
        "col": 0,
        "height": 4,
        "hidden": false,
        "row": 104,
        "width": null
       },
       "report_default": {
        "hidden": false
       }
      }
     }
    }
   },
   "source": [
    "***Show classification report:***\n",
    "\n",
    "$precision = \\frac{TP}{TP + FP} \\qquad recall = \\frac{TP}{TP + FN} \\qquad f{\\text-}score = \\frac{precision \\cdot recall}{precision + recall}$"
   ]
  },
  {
   "cell_type": "code",
   "execution_count": null,
   "metadata": {
    "ExecuteTime": {
     "end_time": "2019-02-07T10:20:20.757146Z",
     "start_time": "2019-02-07T10:20:20.607138Z"
    },
    "extensions": {
     "jupyter_dashboards": {
      "version": 1,
      "views": {
       "grid_default": {
        "hidden": true
       },
       "report_default": {
        "hidden": true
       }
      }
     }
    }
   },
   "outputs": [],
   "source": [
    "classif_report = classification_report(DataObj.y_test(), y_pred, labels=np.arange(0,11),\n",
    "                               target_names=['RF','RO','RS','LR','BC','TC','MP','SA','P1','P2','NE'],\n",
    "                               sample_weight=None, output_dict=True)\n",
    "pd.DataFrame.from_dict(classif_report, orient='index')"
   ]
  },
  {
   "cell_type": "markdown",
   "metadata": {
    "extensions": {
     "jupyter_dashboards": {
      "version": 1,
      "views": {
       "grid_default": {
        "col": 0,
        "height": 4,
        "hidden": false,
        "row": 108,
        "width": 4
       },
       "report_default": {
        "hidden": false
       }
      }
     }
    }
   },
   "source": [
    "***Show misclassified test samples:***"
   ]
  },
  {
   "cell_type": "code",
   "execution_count": null,
   "metadata": {
    "ExecuteTime": {
     "end_time": "2019-02-07T10:20:20.913155Z",
     "start_time": "2019-02-07T10:20:20.762147Z"
    },
    "extensions": {
     "jupyter_dashboards": {
      "version": 1,
      "views": {
       "grid_default": {
        "hidden": true
       },
       "report_default": {
        "hidden": true
       }
      }
     }
    },
    "scrolled": true
   },
   "outputs": [],
   "source": [
    "print_misclassified_data_points(y_pred, DataObj.y_test())"
   ]
  },
  {
   "cell_type": "markdown",
   "metadata": {
    "extensions": {
     "jupyter_dashboards": {
      "version": 1,
      "views": {
       "grid_default": {
        "col": 0,
        "height": 4,
        "hidden": false,
        "row": 112,
        "width": 12
       },
       "report_default": {
        "hidden": false
       }
      }
     }
    }
   },
   "source": [
    "### Classification of Test Data (whole record)\n",
    "\n",
    "Therefore, a certain windowing procedure is used in order to generate test samples."
   ]
  },
  {
   "cell_type": "code",
   "execution_count": null,
   "metadata": {
    "ExecuteTime": {
     "end_time": "2019-02-07T10:20:32.338809Z",
     "start_time": "2019-02-07T10:20:20.921156Z"
    },
    "extensions": {
     "jupyter_dashboards": {
      "version": 1,
      "views": {
       "grid_default": {
        "hidden": true
       },
       "report_default": {
        "hidden": true
       }
      }
     }
    }
   },
   "outputs": [],
   "source": [
    "DataObject_WinProc = PDH.PhysioData_WindowingProcedure(test_subject_dir = test_subject_dir,\n",
    "                                                       test_subject_file = test_subject_file,\n",
    "                                                       number_sections = number_sections,\n",
    "                                                       sampling_rate = sampling_rate,\n",
    "                                                       cutoff = butterworth_cutoff,\n",
    "                                                       order = butterworth_order,\n",
    "                                                       win_start_inc = win_start_inc,\n",
    "                                                       win_stretch_inc = win_stretch_inc,\n",
    "                                                       win_min_len = win_min_len,\n",
    "                                                       win_max_len = win_max_len,\n",
    "                                                       rot_axis=rot_axis_test_data,\n",
    "                                                       rot_angle=rot_angle_test_data,\n",
    "                                                       add_noise=add_noise_test_data,\n",
    "                                                       target_snr_db=snr_db)\n",
    "np.shape(DataObject_WinProc.get_feature_map())"
   ]
  },
  {
   "cell_type": "markdown",
   "metadata": {
    "extensions": {
     "jupyter_dashboards": {
      "version": 1,
      "views": {
       "grid_default": {
        "col": 4,
        "height": 4,
        "hidden": false,
        "row": 108,
        "width": 4
       },
       "report_default": {
        "hidden": false
       }
      }
     }
    }
   },
   "source": [
    "***Predict probabilities of the generated samples:***\n",
    "\n",
    "(Also consider dimensionality reduction, if used.)"
   ]
  },
  {
   "cell_type": "code",
   "execution_count": null,
   "metadata": {
    "ExecuteTime": {
     "end_time": "2019-02-07T10:20:32.350810Z",
     "start_time": "2019-02-07T10:20:32.343809Z"
    }
   },
   "outputs": [],
   "source": [
    "feature_map = DataObject_WinProc.get_feature_map()"
   ]
  },
  {
   "cell_type": "code",
   "execution_count": null,
   "metadata": {
    "ExecuteTime": {
     "end_time": "2019-02-07T10:20:32.809836Z",
     "start_time": "2019-02-07T10:20:32.357810Z"
    },
    "extensions": {
     "jupyter_dashboards": {
      "version": 1,
      "views": {
       "grid_default": {
        "hidden": true
       },
       "report_default": {
        "hidden": true
       }
      }
     }
    }
   },
   "outputs": [],
   "source": [
    "ct = timeit.default_timer()\n",
    "\n",
    "if use_PCA_for_dim_reduction is True:\n",
    "    feature_map = pca.transform(feature_map)\n",
    "    \n",
    "if use_LDA_for_dim_reduction is True:\n",
    "    feature_map = lda.transform(feature_map)\n",
    "    \n",
    "print_cell_exec_time(ct, 'Dimensionality reduction of feature map')"
   ]
  },
  {
   "cell_type": "code",
   "execution_count": null,
   "metadata": {
    "ExecuteTime": {
     "end_time": "2019-02-07T10:20:55.702145Z",
     "start_time": "2019-02-07T10:20:32.815836Z"
    }
   },
   "outputs": [],
   "source": [
    "ct = timeit.default_timer()\n",
    "pred_probs = ML_model_best.predict_proba(feature_map)\n",
    "print_cell_exec_time(ct, 'Predict probabilities of feature map')\n",
    "np.shape(pred_probs)"
   ]
  },
  {
   "cell_type": "markdown",
   "metadata": {
    "extensions": {
     "jupyter_dashboards": {
      "version": 1,
      "views": {
       "grid_default": {
        "col": 8,
        "height": 4,
        "hidden": false,
        "row": 108,
        "width": 4
       },
       "report_default": {
        "hidden": false
       }
      }
     }
    }
   },
   "source": [
    "***Evaluate the predicted probabilites:***"
   ]
  },
  {
   "cell_type": "code",
   "execution_count": null,
   "metadata": {
    "ExecuteTime": {
     "end_time": "2019-02-07T10:20:57.100225Z",
     "start_time": "2019-02-07T10:20:55.708146Z"
    },
    "extensions": {
     "jupyter_dashboards": {
      "version": 1,
      "views": {
       "grid_default": {
        "hidden": true
       },
       "report_default": {
        "hidden": true
       }
      }
     }
    },
    "scrolled": false
   },
   "outputs": [],
   "source": [
    "DataObject_WinProc.evaluate_probability_matrix(pred_probabilities=pred_probs,\n",
    "                                               max_time_between_peaks=max_time_between_peaks,\n",
    "                                               min_peaks_per_block=min_peaks_per_block,\n",
    "                                               threshold_prob=threshold_prob,\n",
    "                                               footprint_length=footprint_length,\n",
    "                                               print_rep_len_prob=print_rep_len_prob)"
   ]
  },
  {
   "cell_type": "markdown",
   "metadata": {},
   "source": [
    "***Actual exercise timetable in order to compare results:***"
   ]
  },
  {
   "cell_type": "code",
   "execution_count": null,
   "metadata": {
    "ExecuteTime": {
     "start_time": "2019-02-07T10:18:43.743Z"
    },
    "scrolled": true
   },
   "outputs": [],
   "source": [
    "timetable_data_path = os.path.join(timetable_file_dir, timetable_file_name)\n",
    "timetable_data = pd.read_csv(timetable_data_path, skiprows=0, sep='\\t', header=None)\n",
    "timetable_data"
   ]
  },
  {
   "cell_type": "markdown",
   "metadata": {},
   "source": [
    "***Plot probability matrices of selected repetition blocks:***"
   ]
  },
  {
   "cell_type": "code",
   "execution_count": null,
   "metadata": {
    "ExecuteTime": {
     "start_time": "2019-02-07T10:18:43.757Z"
    },
    "extensions": {
     "jupyter_dashboards": {
      "version": 1,
      "views": {
       "grid_default": {
        "col": 0,
        "height": 68,
        "hidden": false,
        "row": 116,
        "width": 4
       },
       "report_default": {
        "hidden": false
       }
      }
     }
    },
    "scrolled": false
   },
   "outputs": [],
   "source": [
    "for ex_rep_block in plot_exercise_repetition_blocks:\n",
    "    DataObject_WinProc.plot_probability_matrices_and_peaks(title_text='Probability Matrices Subject {}  ({})'.format(\n",
    "                                           test_subject_id, ML_model_name),\n",
    "                                           default_settings_smaller_plot=True,\n",
    "                                           plot_time_range=True,\n",
    "                                           start_time=timetable_ex_dict[ex_rep_block+'_start_time'],\n",
    "                                           stop_time=timetable_ex_dict[ex_rep_block+'_stop_time'],\n",
    "                                           time_offset_before_and_after=plot_time_offset_before_and_after,\n",
    "                                           plot_actual_classes=True,\n",
    "                                           timetable_file_dir=timetable_file_dir,\n",
    "                                           timetable_file_name=timetable_file_name)"
   ]
  },
  {
   "cell_type": "markdown",
   "metadata": {},
   "source": [
    "***\n",
    "***\n",
    "***\n",
    "***\n",
    "***"
   ]
  },
  {
   "cell_type": "markdown",
   "metadata": {},
   "source": [
    "***Plot and save figure:***"
   ]
  },
  {
   "cell_type": "code",
   "execution_count": null,
   "metadata": {
    "ExecuteTime": {
     "end_time": "2019-02-05T10:53:44.879147Z",
     "start_time": "2019-02-05T10:53:43.073044Z"
    },
    "deletable": false,
    "editable": false,
    "run_control": {
     "frozen": true
    }
   },
   "outputs": [],
   "source": [
    "%matplotlib auto\n",
    "\n",
    "ex_rep_block_new = 'RO_15'\n",
    "add_info_fig_save = 'sec5'\n",
    "DataObject_WinProc.plot_probability_matrices_and_peaks(title_text='Probability Matrices Subject {} ({})'.format(\n",
    "                                           test_subject_id, ML_model_name),\n",
    "                                           default_settings_smaller_plot=True,\n",
    "                                           plot_time_range=True,\n",
    "                                           start_time=timetable_ex_dict[ex_rep_block_new+'_start_time'],\n",
    "                                           stop_time=timetable_ex_dict[ex_rep_block_new+'_stop_time'],\n",
    "                                           time_offset_before_and_after=plot_time_offset_before_and_after,\n",
    "                                           plot_actual_classes=True,\n",
    "                                           timetable_file_dir=timetable_file_dir,\n",
    "                                           timetable_file_name=timetable_file_name)\n",
    "\n",
    "# change layout for saving\n",
    "plt.tight_layout(rect=(0.015, 0, 0.9, 0.9), pad=0.2)\n",
    "\n",
    "fig_save_name = 'TestSub{}_NumSec{}_{}_{}_{}.png'.format(test_subject_id,\n",
    "                                                    number_sections,\n",
    "                                                    ML_model_name,\n",
    "                                                    ex_rep_block_new,\n",
    "                                                    add_info_fig_save)\n",
    "\n",
    "fig_save_dir = r'C:\\Users\\Florian_Meinhart\\Desktop\\Plots_2nd_Approach'\n",
    "fig_save_path = os.path.join(fig_save_dir, fig_save_name)\n",
    "\n",
    "# Save the figure if it does not already exist:\n",
    "if not os.path.exists(fig_save_path):\n",
    "    plt.savefig(fig_save_path, dpi=200)\n",
    "    print('Figure saved.')\n",
    "else:\n",
    "    print('Figure already exists.')"
   ]
  },
  {
   "cell_type": "code",
   "execution_count": null,
   "metadata": {
    "ExecuteTime": {
     "start_time": "2019-02-07T10:18:43.767Z"
    }
   },
   "outputs": [],
   "source": [
    "plt.close()"
   ]
  },
  {
   "cell_type": "markdown",
   "metadata": {},
   "source": [
    "***\n",
    "***\n",
    "***\n",
    "***\n",
    "***"
   ]
  },
  {
   "cell_type": "markdown",
   "metadata": {},
   "source": [
    "## Function to Print Evaluation Summary"
   ]
  },
  {
   "cell_type": "code",
   "execution_count": null,
   "metadata": {
    "ExecuteTime": {
     "start_time": "2019-02-07T10:18:43.784Z"
    }
   },
   "outputs": [],
   "source": [
    "def print_eval_summary():\n",
    "    '''\n",
    "    Function to print evaluation summary.\n",
    "    \n",
    "    No parameters, no returns (global variables are used).\n",
    "    '''\n",
    "    \n",
    "    print('\\n    Summary of Evaluation Report\\n')\n",
    "\n",
    "    print('Test data set:')\n",
    "    print('\\tSubject ID: \\t{}'.format(test_subject_id))\n",
    "    print('\\tSamples: \\t{}'.format(np.shape(DataObj.X_test())[0]))\n",
    "    print('\\tRep. num.: \\t{}'.format(test_repetition_numbers))\n",
    "    print('\\tExercises: \\t{}'.format(test_exercises))\n",
    "    print('\\tRotation axes: \\t{}'.format(rot_axis_test_data))\n",
    "    print('\\tRot. angles: \\t{}'.format(rot_angle_test_data))\n",
    "    if add_noise_test_data:\n",
    "        print('\\tSNR: \\t\\t{} db'.format(snr_db))\n",
    "    else:\n",
    "        print('\\tSNR: \\t\\tnone')\n",
    "\n",
    "    print('\\nTrain data set:')\n",
    "    print('\\tSubject ID(s): \\t{}'.format(train_subject_ids))\n",
    "    print('\\tSamples: \\t{}'.format(np.shape(DataObj.X_train())[0]))\n",
    "    print('\\tRep. num.: \\t{}'.format(train_repetition_numbers))\n",
    "    print('\\tExercises: \\t{}'.format(train_exercises))\n",
    "    if add_noise_train_data:\n",
    "        print('\\tSNR: \\t{} db'.format(snr_db))\n",
    "    else:\n",
    "        print('\\tSNR: \\t\\tnone')\n",
    "\n",
    "    print('\\nNumber of sections to split each rep.: {}'.format(number_sections))\n",
    "\n",
    "    if use_PCA_for_dim_reduction is True:\n",
    "        print('\\nDimensionality reduction: \\tPCA ({} PCs)'.format(number_principal_components))\n",
    "    if use_LDA_for_dim_reduction is True:\n",
    "        print('\\nDimensionality reduction: \\tLDA')\n",
    "    if use_PCA_for_dim_reduction is False and use_LDA_for_dim_reduction is False:\n",
    "        print('\\nDimensionality reduction: \\tnone')\n",
    "\n",
    "    print('\\nWindowing procedure:')\n",
    "    print('\\tWin. start inc.: \\t{} s'.format(win_start_inc))\n",
    "    print('\\tWin. stretch inc.: \\t{} s'.format(win_stretch_inc))\n",
    "    print('\\tMin. win. length: \\t{} s'.format(win_min_len))\n",
    "    print('\\tMax. win. length: \\t{} s'.format(win_max_len))\n",
    "    print('\\tFilter order: \\t\\t{}'.format(butterworth_order))  \n",
    "    print('\\tCutoff frequency: \\t{} Hz'.format(butterworth_cutoff)) \n",
    "\n",
    "    print('\\nEvaluation of probability matrices:')\n",
    "    print('\\tMax. time betw. 2 rep.:\\t{} s'.format(max_time_between_peaks))\n",
    "    print('\\tMin rep. per block: \\t{}'.format(min_peaks_per_block))\n",
    "    print('\\tProb. threshold: \\t{}'.format(threshold_prob))\n",
    "    print('\\tFootprint length: \\t{} s'.format(footprint_length))\n",
    "\n",
    "    print('\\nMachine Learning:')\n",
    "    print('\\tModel: \\t{}'.format(ML_model_name))\n",
    "    print('\\tParam. for grid search cross val.:')\n",
    "    for param in param_grid:\n",
    "        print('\\t\\t{}: {}'.format(param, param_grid[param]))\n",
    "    print('\\tBest parameters:')    \n",
    "    for param in grid_search.best_params_:\n",
    "        print('\\t\\t{}: {}'.format(param, grid_search.best_params_[param]))\n",
    "    print('\\tBest score (gridsearchCV): \\t{:.2f}%'.format(grid_search.best_score_*100))\n",
    "    print('\\n\\tScore on sep. test samples: \\t{:.2f}%\\n'.format((accuracy_score(DataObj.y_test(), y_pred))*100))\n",
    "    print('\\tExerc.\\tPrec.\\tRecall\\tF1-Sc.\\tSupport')\n",
    "    for ex in ['RF','RO','RS','LR','BC','TC','MP','SA','P1','P2','NE']:\n",
    "        print('\\t{}\\t{:.4f}\\t{:.4f}\\t{:.4f}\\t{:7d}'.format(ex, classif_report[ex]['precision'], \n",
    "                                                          classif_report[ex]['recall'],\n",
    "                                                          classif_report[ex]['f1-score'], \n",
    "                                                          classif_report[ex]['support']))\n",
    "    print('\\t{}\\t{:.4f}\\t{:.4f}\\t{:.4f}\\t{:7d}'.format('total', classif_report['micro avg']['precision'], \n",
    "                                                          classif_report['micro avg']['recall'],\n",
    "                                                          classif_report['micro avg']['f1-score'], \n",
    "                                                          classif_report['micro avg']['support']))\n"
   ]
  },
  {
   "cell_type": "markdown",
   "metadata": {},
   "source": [
    "***Execute the cell with the evaluation summary:***\n",
    "\n",
    "(First cell with code $\\rightarrow$ see above.)"
   ]
  },
  {
   "cell_type": "code",
   "execution_count": null,
   "metadata": {
    "ExecuteTime": {
     "start_time": "2019-02-07T10:18:43.793Z"
    }
   },
   "outputs": [],
   "source": [
    "%%javascript\n",
    "Jupyter.notebook.execute_cells([1])"
   ]
  }
 ],
 "metadata": {
  "extensions": {
   "jupyter_dashboards": {
    "activeView": "report_default",
    "version": 1,
    "views": {
     "grid_default": {
      "cellMargin": 10,
      "defaultCellHeight": 20,
      "maxColumns": 12,
      "name": "grid",
      "type": "grid"
     },
     "report_default": {
      "name": "report",
      "type": "report"
     }
    }
   }
  },
  "kernelspec": {
   "display_name": "Python 3",
   "language": "python",
   "name": "python3"
  },
  "language_info": {
   "codemirror_mode": {
    "name": "ipython",
    "version": 3
   },
   "file_extension": ".py",
   "mimetype": "text/x-python",
   "name": "python",
   "nbconvert_exporter": "python",
   "pygments_lexer": "ipython3",
   "version": "3.6.2"
  },
  "toc": {
   "base_numbering": 1,
   "nav_menu": {},
   "number_sections": true,
   "sideBar": true,
   "skip_h1_title": false,
   "title_cell": "Table of Contents",
   "title_sidebar": "Contents",
   "toc_cell": false,
   "toc_position": {
    "height": "calc(100% - 180px)",
    "left": "10px",
    "top": "150px",
    "width": "484px"
   },
   "toc_section_display": true,
   "toc_window_display": true
  }
 },
 "nbformat": 4,
 "nbformat_minor": 2
}
