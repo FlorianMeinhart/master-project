{
 "cells": [
  {
   "cell_type": "markdown",
   "metadata": {
    "extensions": {
     "jupyter_dashboards": {
      "version": 1,
      "views": {
       "grid_default": {
        "col": 0,
        "height": 4,
        "hidden": false,
        "row": 0,
        "width": 4
       },
       "report_default": {
        "hidden": false
       }
      }
     }
    }
   },
   "source": [
    "# Evaluation Report - Section Means as Features\n",
    "\n",
    "The first cell provides a summary of selected parameters and the evaluation ($\\rightarrow$ executed after evaluation)."
   ]
  },
  {
   "cell_type": "code",
   "execution_count": 66,
   "metadata": {
    "ExecuteTime": {
     "end_time": "2019-01-23T00:25:39.782769Z",
     "start_time": "2019-01-23T00:25:39.653762Z"
    }
   },
   "outputs": [
    {
     "name": "stdout",
     "output_type": "stream",
     "text": [
      "\n",
      "    Summary of Evaluation Report\n",
      "\n",
      "Test data set:\n",
      "\tSubject ID: \t1\n",
      "\tSamples: \t709\n",
      "\tRep. num.: \t-1\n",
      "\tExercises: \t-1\n",
      "\tRotation axes: \t0\n",
      "\tRot. angles: \t0\n",
      "\tSNR: \t\tnone\n",
      "\n",
      "Train data set:\n",
      "\tSubject ID(s): \t-1\n",
      "\tSamples: \t6120\n",
      "\tRep. num.: \t-1\n",
      "\tExercises: \t-1\n",
      "\tSNR: \t\tnone\n",
      "\n",
      "Number of sections to split each rep.: 10\n",
      "\n",
      "Dimensionality reduction: \tPCA (20 PCs)\n",
      "\n",
      "Eindowing procedure:\n",
      "\tWin. start inc.: \t0.2 s\n",
      "\tWin. stretch inc.: \t0.2 s\n",
      "\tMin. win. length: \t1 s\n",
      "\tMax. win. length: \t5 s\n",
      "\tFilter order: \t\t6\n",
      "\tCutoff frequency: \t10 Hz\n",
      "\n",
      "Evaluation of probability matrices:\n",
      "\tMax. time betw. 2 rep.:\t6 s\n",
      "\tMin rep. per block: \t3\n",
      "\tProb. threshold: \t0.5\n",
      "\tFootprint length: \t3 s\n",
      "\n",
      "Machine Learning:\n",
      "\tModel: \tRFC\n",
      "\tParam. for grid search cross val.:\n",
      "\t\tclf__n_estimators: [50, 100, 200]\n",
      "\t\tclf__criterion: ['gini', 'entropy']\n",
      "\t\tclf__max_depth: [10, 50, 100]\n",
      "\tBest parameters:\n",
      "\t\tclf__criterion: gini\n",
      "\t\tclf__max_depth: 50\n",
      "\t\tclf__n_estimators: 200\n",
      "\tBest score (gridsearchCV): \t93.38%\n",
      "\n",
      "\tScore on sep. test samples: \t87.73%\n",
      "\n",
      "\tExerc.\tPrec.\tRecall\tF1-Sc.\tSupport\n",
      "\tRF\t0.5833\t0.9333\t0.7179\t     30\n",
      "\tRO\t0.8333\t0.3333\t0.4762\t     30\n",
      "\tRS\t0.5135\t0.6333\t0.5672\t     30\n",
      "\tLR\t0.6842\t0.8667\t0.7647\t     30\n",
      "\tBC\t1.0000\t1.0000\t1.0000\t     31\n",
      "\tTC\t1.0000\t0.9333\t0.9655\t     30\n",
      "\tMP\t0.0000\t0.0000\t0.0000\t     30\n",
      "\tSA\t1.0000\t1.0000\t1.0000\t     31\n",
      "\tP1\t0.9677\t1.0000\t0.9836\t     30\n",
      "\tP2\t0.8750\t0.4667\t0.6087\t     30\n",
      "\tNE\t0.9268\t0.9951\t0.9597\t    407\n",
      "\ttotal\t0.8773\t0.8773\t0.8773\t    709\n"
     ]
    }
   ],
   "source": [
    "try:\n",
    "    print_eval_summary()\n",
    "except:\n",
    "    pass"
   ]
  },
  {
   "cell_type": "markdown",
   "metadata": {},
   "source": [
    "***\n",
    "***\n",
    "***\n",
    "***\n",
    "***"
   ]
  },
  {
   "cell_type": "markdown",
   "metadata": {},
   "source": [
    "***Save the notebook:***"
   ]
  },
  {
   "cell_type": "code",
   "execution_count": null,
   "metadata": {
    "ExecuteTime": {
     "start_time": "2019-01-23T00:26:23.274Z"
    }
   },
   "outputs": [],
   "source": [
    "%%javascript\n",
    "IPython.notebook.save_notebook()"
   ]
  },
  {
   "cell_type": "markdown",
   "metadata": {},
   "source": [
    "***Convert the notebook to html:***\n",
    "\n",
    "(Executed in the end.)"
   ]
  },
  {
   "cell_type": "code",
   "execution_count": null,
   "metadata": {
    "ExecuteTime": {
     "end_time": "2019-01-23T00:22:45.888823Z",
     "start_time": "2019-01-23T00:22:45.746815Z"
    }
   },
   "outputs": [],
   "source": [
    "try:\n",
    "    exporter = HTMLExporter()\n",
    "    output_notebook = nbformat.read('Evaluation_Report.ipynb', as_version=4)\n",
    "    output, resources = exporter.from_notebook_node(output_notebook)\n",
    "    codecs.open('Report_' + file_doc_string  + '.html', 'w', encoding='utf-8').write(output)\n",
    "except:\n",
    "    pass"
   ]
  },
  {
   "cell_type": "markdown",
   "metadata": {},
   "source": [
    "***\n",
    "***\n",
    "***\n",
    "***\n",
    "***\n",
    "***Import moduels:***"
   ]
  },
  {
   "cell_type": "code",
   "execution_count": null,
   "metadata": {
    "ExecuteTime": {
     "end_time": "2019-01-23T00:22:49.887052Z",
     "start_time": "2019-01-23T00:22:45.891823Z"
    },
    "extensions": {
     "jupyter_dashboards": {
      "version": 1,
      "views": {
       "grid_default": {
        "hidden": true
       },
       "report_default": {
        "hidden": true
       }
      }
     }
    }
   },
   "outputs": [],
   "source": [
    "import pandas as pd\n",
    "import numpy as np\n",
    "import datetime\n",
    "import timeit\n",
    "import time\n",
    "from nbconvert import HTMLExporter\n",
    "import codecs\n",
    "import nbformat\n",
    "from pivottablejs import pivot_ui\n",
    "\n",
    "import sys\n",
    "sys.path.append('..')  # in order to import modules from the package 'packageMeinhart'\n",
    "from packageMeinhart import PhysioDataHandler as PDH\n",
    "from packageMeinhart.functionsMasterProjectMeinhart import print_misclassified_data_points\n",
    "from packageMeinhart.functionsMasterProjectMeinhart import get_timetable_ex_dict\n",
    "\n",
    "# Modules for machine learning and evaluation\n",
    "from sklearn.linear_model import LogisticRegression\n",
    "from sklearn.ensemble import RandomForestClassifier\n",
    "from sklearn.svm import SVC\n",
    "from sklearn.decomposition import PCA\n",
    "from sklearn.discriminant_analysis import LinearDiscriminantAnalysis as LDA\n",
    "from sklearn.preprocessing import StandardScaler\n",
    "from sklearn.pipeline import Pipeline\n",
    "from sklearn.model_selection import GridSearchCV\n",
    "from sklearn.metrics import accuracy_score\n",
    "from sklearn.metrics import classification_report\n",
    "# StandardScaler raises the following warning:\n",
    "# --> DataConversionWarning: Data with input dtype object was converted to float64 by StandardScaler.\n",
    "# In order to ignore that:\n",
    "import warnings\n",
    "from sklearn.exceptions import DataConversionWarning\n",
    "warnings.filterwarnings(action='ignore', category=DataConversionWarning)"
   ]
  },
  {
   "cell_type": "code",
   "execution_count": null,
   "metadata": {
    "ExecuteTime": {
     "end_time": "2019-01-23T00:22:49.907053Z",
     "start_time": "2019-01-23T00:22:49.891052Z"
    },
    "extensions": {
     "jupyter_dashboards": {
      "version": 1,
      "views": {
       "grid_default": {
        "hidden": true
       },
       "report_default": {
        "hidden": true
       }
      }
     }
    }
   },
   "outputs": [],
   "source": [
    "%matplotlib inline"
   ]
  },
  {
   "cell_type": "markdown",
   "metadata": {
    "extensions": {
     "jupyter_dashboards": {
      "version": 1,
      "views": {
       "grid_default": {
        "col": 8,
        "height": 4,
        "hidden": false,
        "row": 0,
        "width": 4
       },
       "report_default": {
        "hidden": false
       }
      }
     }
    }
   },
   "source": [
    "## Definition of Parameters"
   ]
  },
  {
   "cell_type": "markdown",
   "metadata": {
    "extensions": {
     "jupyter_dashboards": {
      "version": 1,
      "views": {
       "grid_default": {
        "col": 0,
        "height": 4,
        "hidden": false,
        "row": 4,
        "width": 4
       },
       "report_default": {
        "hidden": false
       }
      }
     }
    }
   },
   "source": [
    "### Number of Sections\n",
    "\n",
    "***Number of sections to split each exercise repetition:***"
   ]
  },
  {
   "cell_type": "code",
   "execution_count": null,
   "metadata": {
    "ExecuteTime": {
     "end_time": "2019-01-23T00:22:50.045061Z",
     "start_time": "2019-01-23T00:22:49.916053Z"
    },
    "extensions": {
     "jupyter_dashboards": {
      "version": 1,
      "views": {
       "grid_default": {
        "hidden": true
       },
       "report_default": {
        "hidden": true
       }
      }
     }
    }
   },
   "outputs": [],
   "source": [
    "number_sections = 10"
   ]
  },
  {
   "cell_type": "markdown",
   "metadata": {
    "extensions": {
     "jupyter_dashboards": {
      "version": 1,
      "views": {
       "grid_default": {
        "col": 4,
        "height": 4,
        "hidden": false,
        "row": 4,
        "width": 4
       },
       "report_default": {
        "hidden": false
       }
      }
     }
    }
   },
   "source": [
    "### Test Subject\n",
    "\n",
    "***Select the test subject via ID:***"
   ]
  },
  {
   "cell_type": "code",
   "execution_count": null,
   "metadata": {
    "ExecuteTime": {
     "end_time": "2019-01-23T00:22:50.176068Z",
     "start_time": "2019-01-23T00:22:50.049061Z"
    },
    "extensions": {
     "jupyter_dashboards": {
      "version": 1,
      "views": {
       "grid_default": {
        "hidden": true
       },
       "report_default": {
        "hidden": true
       }
      }
     }
    }
   },
   "outputs": [],
   "source": [
    "test_subject_id = 1"
   ]
  },
  {
   "cell_type": "markdown",
   "metadata": {},
   "source": [
    "### Training Subjects\n",
    "\n",
    "***Subjects (IDs) to consider for training:***\n",
    "\n",
    "Integer or list of integers.\n",
    "\n",
    "If all subjects except the test subject shall be considered for training, set parameter to -1."
   ]
  },
  {
   "cell_type": "code",
   "execution_count": null,
   "metadata": {
    "ExecuteTime": {
     "end_time": "2019-01-23T00:22:50.292075Z",
     "start_time": "2019-01-23T00:22:50.182068Z"
    }
   },
   "outputs": [],
   "source": [
    "train_subject_ids = -1"
   ]
  },
  {
   "cell_type": "markdown",
   "metadata": {},
   "source": [
    "### Repetition Numbers\n",
    "\n",
    "***Repetition numbers of blocks for testing (of separated samples) or rather training:***\n",
    "\n",
    "Available repetition numbers: 5, 10, 15\n",
    "\n",
    "If more than on repetition number shall be selected, use a list (e.g. [5, 10]).\n",
    "\n",
    "If parameter is set to -1, all repetition numbers are selected."
   ]
  },
  {
   "cell_type": "code",
   "execution_count": null,
   "metadata": {
    "ExecuteTime": {
     "end_time": "2019-01-23T00:22:50.422082Z",
     "start_time": "2019-01-23T00:22:50.299075Z"
    }
   },
   "outputs": [],
   "source": [
    "test_repetition_numbers = -1\n",
    "train_repetition_numbers = -1"
   ]
  },
  {
   "cell_type": "markdown",
   "metadata": {
    "ExecuteTime": {
     "end_time": "2019-01-21T18:32:15.550613Z",
     "start_time": "2019-01-21T18:32:15.521611Z"
    }
   },
   "source": [
    "### Exercises\n",
    "\n",
    "***Exercises for testing (of separated samples) or rather training:***\n",
    "    \n",
    "Available exercises: 'RF', 'RO', 'RS', 'LR', 'BC', 'TC', 'MP', 'SA', 'P1', 'P2', 'NE'\n",
    "    \n",
    "If more than on exercise shall be selected, use a list (e.g. ['RF', 'BC']).\n",
    "\n",
    "If parameter is set to -1, all exercises are selected."
   ]
  },
  {
   "cell_type": "code",
   "execution_count": null,
   "metadata": {
    "ExecuteTime": {
     "end_time": "2019-01-23T00:22:50.554090Z",
     "start_time": "2019-01-23T00:22:50.428082Z"
    }
   },
   "outputs": [],
   "source": [
    "test_exercises = -1\n",
    "train_exercises = -1"
   ]
  },
  {
   "cell_type": "markdown",
   "metadata": {},
   "source": [
    "### Rotation Test Data\n",
    "\n",
    "***Axes and angles to rotate the test data:***\n",
    "    \n",
    "Available axes: 0, 1, 2 ($\\rightarrow$ x, y, z)\n",
    "\n",
    "Rotation angles must be given in degrees.\n",
    "    \n",
    "If sequence of rotations shall be applied, use lists (e.g. [0, 1] for axes and [20, 45] for angles).\n",
    "\n",
    "NOTE: Rotation is applied to separated test samples as well as to the whole record of the test subject."
   ]
  },
  {
   "cell_type": "code",
   "execution_count": null,
   "metadata": {
    "ExecuteTime": {
     "end_time": "2019-01-23T00:22:50.680097Z",
     "start_time": "2019-01-23T00:22:50.561090Z"
    }
   },
   "outputs": [],
   "source": [
    "rot_axis_test_data = 0\n",
    "rot_angle_test_data = 0"
   ]
  },
  {
   "cell_type": "markdown",
   "metadata": {},
   "source": [
    "### Noise\n",
    "\n",
    "***Noise to be added to test and/or training data:***\n",
    "\n",
    "Additive White Gaussian Noise (AWGN) with a defined Signal to Noise Ratio (SNR) in decibel is used.\n",
    "\n",
    "The noise will then be calculated by means of the SNR with regard to each signal of a whole repetition block.\n",
    "\n",
    "NOTE: Noise is added to separated test samples as well as to the whole record of the test subject."
   ]
  },
  {
   "cell_type": "code",
   "execution_count": null,
   "metadata": {
    "ExecuteTime": {
     "end_time": "2019-01-23T00:22:50.815105Z",
     "start_time": "2019-01-23T00:22:50.685097Z"
    }
   },
   "outputs": [],
   "source": [
    "add_noise_test_data = False\n",
    "add_noise_train_data = False\n",
    "snr_db = 10"
   ]
  },
  {
   "cell_type": "markdown",
   "metadata": {},
   "source": [
    "### PCA\n",
    "\n",
    "***Principal Component Analysis (PCA) for dimensionality reduction:***\n",
    "\n",
    "If used, project features to a lower dimensional space.\n",
    "\n",
    "(Be aware that number of principal components has to be lower than number of features.)"
   ]
  },
  {
   "cell_type": "code",
   "execution_count": null,
   "metadata": {
    "ExecuteTime": {
     "end_time": "2019-01-23T00:22:50.944112Z",
     "start_time": "2019-01-23T00:22:50.821105Z"
    }
   },
   "outputs": [],
   "source": [
    "use_PCA_for_dim_reduction = True\n",
    "number_principal_components = 20"
   ]
  },
  {
   "cell_type": "markdown",
   "metadata": {},
   "source": [
    "### LDA\n",
    "\n",
    "***Linear Discriminant Analysis (LDA) for dimensionality reduction:***\n",
    "\n",
    "Also LDA can be used to project features to a lower dimensional space.\n",
    "\n",
    "(Number of new features ... number of classes - 1)"
   ]
  },
  {
   "cell_type": "code",
   "execution_count": null,
   "metadata": {
    "ExecuteTime": {
     "end_time": "2019-01-23T00:22:51.077120Z",
     "start_time": "2019-01-23T00:22:50.948112Z"
    }
   },
   "outputs": [],
   "source": [
    "use_LDA_for_dim_reduction = False"
   ]
  },
  {
   "cell_type": "markdown",
   "metadata": {
    "extensions": {
     "jupyter_dashboards": {
      "version": 1,
      "views": {
       "grid_default": {
        "col": 8,
        "height": 4,
        "hidden": false,
        "row": 4,
        "width": 4
       },
       "report_default": {
        "hidden": false
       }
      }
     }
    }
   },
   "source": [
    "### Windowing Procedure\n",
    "\n",
    "***Parameters for windowing procedure:***"
   ]
  },
  {
   "cell_type": "markdown",
   "metadata": {},
   "source": [
    "Window start increment [s]:"
   ]
  },
  {
   "cell_type": "code",
   "execution_count": null,
   "metadata": {
    "ExecuteTime": {
     "end_time": "2019-01-23T00:22:51.217128Z",
     "start_time": "2019-01-23T00:22:51.083120Z"
    }
   },
   "outputs": [],
   "source": [
    "win_start_inc = 0.2"
   ]
  },
  {
   "cell_type": "markdown",
   "metadata": {},
   "source": [
    "Window stretch increment [s]:"
   ]
  },
  {
   "cell_type": "code",
   "execution_count": null,
   "metadata": {
    "ExecuteTime": {
     "end_time": "2019-01-23T00:22:51.348135Z",
     "start_time": "2019-01-23T00:22:51.221128Z"
    }
   },
   "outputs": [],
   "source": [
    "win_stretch_inc = 0.2"
   ]
  },
  {
   "cell_type": "markdown",
   "metadata": {},
   "source": [
    "Maximum window length [s]:"
   ]
  },
  {
   "cell_type": "code",
   "execution_count": null,
   "metadata": {
    "ExecuteTime": {
     "end_time": "2019-01-23T00:22:51.480143Z",
     "start_time": "2019-01-23T00:22:51.355136Z"
    }
   },
   "outputs": [],
   "source": [
    "win_min_len = 1"
   ]
  },
  {
   "cell_type": "markdown",
   "metadata": {},
   "source": [
    "Minimum window length [s]:"
   ]
  },
  {
   "cell_type": "code",
   "execution_count": null,
   "metadata": {
    "ExecuteTime": {
     "end_time": "2019-01-23T00:22:51.611150Z",
     "start_time": "2019-01-23T00:22:51.485143Z"
    }
   },
   "outputs": [],
   "source": [
    "win_max_len = 5"
   ]
  },
  {
   "cell_type": "markdown",
   "metadata": {},
   "source": [
    "Order of butterworth filter:"
   ]
  },
  {
   "cell_type": "code",
   "execution_count": null,
   "metadata": {
    "ExecuteTime": {
     "end_time": "2019-01-23T00:22:51.736157Z",
     "start_time": "2019-01-23T00:22:51.618151Z"
    }
   },
   "outputs": [],
   "source": [
    "butterworth_order = 6"
   ]
  },
  {
   "cell_type": "markdown",
   "metadata": {},
   "source": [
    "Cutoff frequency of butterworth filter [Hz]:"
   ]
  },
  {
   "cell_type": "code",
   "execution_count": null,
   "metadata": {
    "ExecuteTime": {
     "end_time": "2019-01-23T00:22:51.855164Z",
     "start_time": "2019-01-23T00:22:51.740158Z"
    }
   },
   "outputs": [],
   "source": [
    "butterworth_cutoff = 10"
   ]
  },
  {
   "cell_type": "markdown",
   "metadata": {
    "extensions": {
     "jupyter_dashboards": {
      "version": 1,
      "views": {
       "grid_default": {
        "col": 0,
        "height": 4,
        "hidden": false,
        "row": 8,
        "width": 4
       },
       "report_default": {
        "hidden": false
       }
      }
     }
    }
   },
   "source": [
    "### Probability Matrices\n",
    "\n",
    "***Parameters for the evaluation of probability matrices:***"
   ]
  },
  {
   "cell_type": "markdown",
   "metadata": {},
   "source": [
    "Maximum time between two peaks (repetitions) of the same repetition block [s]:"
   ]
  },
  {
   "cell_type": "code",
   "execution_count": null,
   "metadata": {
    "ExecuteTime": {
     "end_time": "2019-01-23T00:22:51.983171Z",
     "start_time": "2019-01-23T00:22:51.860164Z"
    }
   },
   "outputs": [],
   "source": [
    "max_time_between_peaks = 6"
   ]
  },
  {
   "cell_type": "markdown",
   "metadata": {},
   "source": [
    "Minimum number of peaks (repetitions) per repetition block:"
   ]
  },
  {
   "cell_type": "code",
   "execution_count": null,
   "metadata": {
    "ExecuteTime": {
     "end_time": "2019-01-23T00:22:52.108179Z",
     "start_time": "2019-01-23T00:22:51.988172Z"
    }
   },
   "outputs": [],
   "source": [
    "min_peaks_per_block = 3"
   ]
  },
  {
   "cell_type": "markdown",
   "metadata": {},
   "source": [
    "Probability threshold in order to accept peaks as exercise repetitions (0 ... 1):"
   ]
  },
  {
   "cell_type": "code",
   "execution_count": null,
   "metadata": {
    "ExecuteTime": {
     "end_time": "2019-01-23T00:22:52.239186Z",
     "start_time": "2019-01-23T00:22:52.115179Z"
    }
   },
   "outputs": [],
   "source": [
    "threshold_prob = 0.5"
   ]
  },
  {
   "cell_type": "markdown",
   "metadata": {},
   "source": [
    "Length of the footprint for a maximum-filter in order to find peaks [s]:"
   ]
  },
  {
   "cell_type": "code",
   "execution_count": null,
   "metadata": {
    "ExecuteTime": {
     "end_time": "2019-01-23T00:22:52.371194Z",
     "start_time": "2019-01-23T00:22:52.249187Z"
    }
   },
   "outputs": [],
   "source": [
    "footprint_length = 3"
   ]
  },
  {
   "cell_type": "markdown",
   "metadata": {},
   "source": [
    "Print individual repetition lengths [s] and predicted probabilities (if True):"
   ]
  },
  {
   "cell_type": "code",
   "execution_count": null,
   "metadata": {
    "ExecuteTime": {
     "end_time": "2019-01-23T00:22:52.486200Z",
     "start_time": "2019-01-23T00:22:52.378194Z"
    }
   },
   "outputs": [],
   "source": [
    "print_rep_len_prob = True"
   ]
  },
  {
   "cell_type": "markdown",
   "metadata": {
    "extensions": {
     "jupyter_dashboards": {
      "version": 1,
      "views": {
       "grid_default": {
        "col": 4,
        "height": 6,
        "hidden": false,
        "row": 8,
        "width": null
       },
       "report_default": {
        "hidden": false
       }
      }
     }
    }
   },
   "source": [
    "### Plotting\n",
    "\n",
    "***Parameters for plotting of exercise repetition blocks:***\n",
    "\n",
    "Since it would be too much to plot all exercise repetition blocks, it can be chosen\n",
    "how many and which blocks shall be plotted. Therefore, the repetition blocks have to be present in a list of strings, where every string consists of the exercise abbreviation and the number of repetitions.\n",
    "\n",
    "Example: ['RF_5', 'RO_10', 'BC_15'] $\\rightarrow$ generates three plots\n",
    "\n",
    "The second parameter defines the time to plot before and after the selected block in seconds."
   ]
  },
  {
   "cell_type": "code",
   "execution_count": null,
   "metadata": {
    "ExecuteTime": {
     "end_time": "2019-01-23T00:22:52.602207Z",
     "start_time": "2019-01-23T00:22:52.492201Z"
    },
    "extensions": {
     "jupyter_dashboards": {
      "version": 1,
      "views": {
       "grid_default": {
        "hidden": true
       },
       "report_default": {
        "hidden": true
       }
      }
     }
    }
   },
   "outputs": [],
   "source": [
    "plot_exercise_repetition_blocks = ['RF_15','RO_5','RS_10','LR_15','BC_5','TC_10','MP_15','SA_5','P1_10','P2_15']\n",
    "plot_time_offset_before_and_after = 3 # [s]"
   ]
  },
  {
   "cell_type": "markdown",
   "metadata": {
    "extensions": {
     "jupyter_dashboards": {
      "version": 1,
      "views": {
       "grid_default": {
        "col": 0,
        "height": 4,
        "hidden": false,
        "row": 12,
        "width": 4
       },
       "report_default": {
        "hidden": false
       }
      }
     }
    }
   },
   "source": [
    "### Whole Test Record\n",
    "\n",
    "***Directory and file-name of csv-file with whole record of the test subject:***"
   ]
  },
  {
   "cell_type": "code",
   "execution_count": null,
   "metadata": {
    "ExecuteTime": {
     "end_time": "2019-01-23T00:22:52.725214Z",
     "start_time": "2019-01-23T00:22:52.609207Z"
    },
    "extensions": {
     "jupyter_dashboards": {
      "version": 1,
      "views": {
       "grid_default": {
        "hidden": true
       },
       "report_default": {
        "hidden": true
       }
      }
     }
    }
   },
   "outputs": [],
   "source": [
    "test_subject_dir  = 'E:\\Physio_Data\\Subject_{:02d}'.format(test_subject_id)\n",
    "test_subject_file = 'subject{:02d}.csv'.format(test_subject_id)"
   ]
  },
  {
   "cell_type": "markdown",
   "metadata": {
    "extensions": {
     "jupyter_dashboards": {
      "version": 1,
      "views": {
       "grid_default": {
        "col": 4,
        "height": 4,
        "hidden": false,
        "row": 14,
        "width": 4
       },
       "report_default": {
        "hidden": false
       }
      }
     }
    }
   },
   "source": [
    "### Timetables\n",
    "\n",
    "***Directory and file-name of timetable with the actual exercises:***"
   ]
  },
  {
   "cell_type": "code",
   "execution_count": null,
   "metadata": {
    "ExecuteTime": {
     "end_time": "2019-01-23T00:22:52.850221Z",
     "start_time": "2019-01-23T00:22:52.731214Z"
    },
    "extensions": {
     "jupyter_dashboards": {
      "version": 1,
      "views": {
       "grid_default": {
        "hidden": true
       },
       "report_default": {
        "hidden": true
       }
      }
     }
    }
   },
   "outputs": [],
   "source": [
    "timetable_file_dir = 'E:\\Physio_Data\\Exercise_time_tables'\n",
    "timetable_file_name = 'Timetable_subject{:02d}.txt'.format(test_subject_id)"
   ]
  },
  {
   "cell_type": "markdown",
   "metadata": {
    "extensions": {
     "jupyter_dashboards": {
      "version": 1,
      "views": {
       "grid_default": {
        "col": 8,
        "height": 4,
        "hidden": false,
        "row": 14,
        "width": 4
       },
       "report_default": {
        "hidden": false
       }
      }
     }
    }
   },
   "source": [
    "### Separated csv-files & Database\n",
    "\n",
    "***Directory of separated csv-files (repetition blocks) and path of database with information regarding repetitions:***"
   ]
  },
  {
   "cell_type": "code",
   "execution_count": null,
   "metadata": {
    "ExecuteTime": {
     "end_time": "2019-01-23T00:22:52.982229Z",
     "start_time": "2019-01-23T00:22:52.858221Z"
    },
    "extensions": {
     "jupyter_dashboards": {
      "version": 1,
      "views": {
       "grid_default": {
        "hidden": true
       },
       "report_default": {
        "hidden": true
       }
      }
     }
    }
   },
   "outputs": [],
   "source": [
    "separated_csv_data_dir='E:\\Physio_Data_Split_Ex_and_NonEx'\n",
    "database_path='E:\\Physio_Data\\DataBase_Physio_with_nonEx.db'"
   ]
  },
  {
   "cell_type": "markdown",
   "metadata": {
    "extensions": {
     "jupyter_dashboards": {
      "version": 1,
      "views": {
       "grid_default": {
        "col": 0,
        "height": 4,
        "hidden": false,
        "row": 16,
        "width": 4
       },
       "report_default": {
        "hidden": false
       }
      }
     }
    }
   },
   "source": [
    "### Sampling Rate\n",
    "\n",
    "***Sampling rate of recorded signals [Hz]:***"
   ]
  },
  {
   "cell_type": "code",
   "execution_count": null,
   "metadata": {
    "ExecuteTime": {
     "end_time": "2019-01-23T00:22:53.104236Z",
     "start_time": "2019-01-23T00:22:52.987229Z"
    },
    "extensions": {
     "jupyter_dashboards": {
      "version": 1,
      "views": {
       "grid_default": {
        "hidden": true
       },
       "report_default": {
        "hidden": true
       }
      }
     }
    }
   },
   "outputs": [],
   "source": [
    "sampling_rate=256 # [Hz]"
   ]
  },
  {
   "cell_type": "markdown",
   "metadata": {},
   "source": [
    "### Add Info\n",
    "\n",
    "***Addition information for the file-names to save:***\n",
    "\n",
    "Test subject ID, number of sections, ML model name and timestamp will automatically be used."
   ]
  },
  {
   "cell_type": "code",
   "execution_count": null,
   "metadata": {
    "ExecuteTime": {
     "end_time": "2019-01-23T00:22:53.237243Z",
     "start_time": "2019-01-23T00:22:53.110236Z"
    }
   },
   "outputs": [],
   "source": [
    "add_info = 'PCA20'"
   ]
  },
  {
   "cell_type": "markdown",
   "metadata": {
    "extensions": {
     "jupyter_dashboards": {
      "version": 1,
      "views": {
       "grid_default": {
        "col": 4,
        "height": 7,
        "hidden": false,
        "row": 18,
        "width": null
       },
       "report_default": {
        "hidden": false
       }
      }
     }
    }
   },
   "source": [
    "## Definition of Machine Learning (ML) Classifier Model\n",
    "\n",
    "Choose one of the classifier models from below by setting the parameter ML_model_name\n",
    "to one of the following strings:\n",
    "\n",
    "* Logistic Regression:  'LogReg'\n",
    "* Linear Discriminant Analysis:  'LDA'\n",
    "* Support Vector Classifier:  'SVC'\n",
    "* Random Forest Classifier:  'RFC'"
   ]
  },
  {
   "cell_type": "code",
   "execution_count": null,
   "metadata": {
    "ExecuteTime": {
     "end_time": "2019-01-23T00:22:53.374251Z",
     "start_time": "2019-01-23T00:22:53.244244Z"
    },
    "extensions": {
     "jupyter_dashboards": {
      "version": 1,
      "views": {
       "grid_default": {
        "hidden": true
       },
       "report_default": {
        "hidden": true
       }
      }
     }
    }
   },
   "outputs": [],
   "source": [
    "#ML_model_name = 'LogReg'\n",
    "#ML_model_name = 'LDA'\n",
    "#ML_model_name = 'SVC'\n",
    "ML_model_name = 'RFC'"
   ]
  },
  {
   "cell_type": "markdown",
   "metadata": {
    "extensions": {
     "jupyter_dashboards": {
      "version": 1,
      "views": {
       "grid_default": {
        "col": 0,
        "height": 9,
        "hidden": false,
        "row": 25,
        "width": 12
       },
       "report_default": {
        "hidden": false
       }
      }
     }
    }
   },
   "source": [
    "### Logistic Regression\n",
    "\n",
    "***Hyperparameters used for grid search cross validation:***\n",
    "\n",
    "* penalty : str, ‘l1’ or ‘l2’, default: ‘l2’\n",
    "\n",
    "    Used to specify the norm used in the penalization. The ‘newton-cg’, ‘sag’ and ‘lbfgs’ solvers support only l2 penalties.\n",
    "    \n",
    "    \n",
    "* C : float, default: 1.0\n",
    "\n",
    "    Inverse of regularization strength; must be a positive float. Like in support vector machines, smaller values specify stronger regularization.\n",
    "    \n",
    "(https://scikit-learn.org/stable/modules/generated/sklearn.linear_model.LogisticRegression.html)"
   ]
  },
  {
   "cell_type": "code",
   "execution_count": null,
   "metadata": {
    "ExecuteTime": {
     "end_time": "2019-01-23T00:22:53.506259Z",
     "start_time": "2019-01-23T00:22:53.390252Z"
    },
    "extensions": {
     "jupyter_dashboards": {
      "version": 1,
      "views": {
       "grid_default": {
        "hidden": true
       },
       "report_default": {
        "hidden": true
       }
      }
     }
    }
   },
   "outputs": [],
   "source": [
    "if ML_model_name is 'LogReg':\n",
    "\n",
    "    ML_model = LogisticRegression(random_state=42, max_iter=1000, solver='liblinear', multi_class='ovr')\n",
    "\n",
    "    # hyperparameters for grid search cross validation\n",
    "    param_grid = {'clf__C': np.logspace(-2,2,5), \n",
    "                  'clf__penalty': ['l1','l2']}# l1 lasso l2 ridge"
   ]
  },
  {
   "cell_type": "markdown",
   "metadata": {
    "extensions": {
     "jupyter_dashboards": {
      "version": 1,
      "views": {
       "grid_default": {
        "col": 0,
        "height": 10,
        "hidden": false,
        "row": 34,
        "width": 12
       },
       "report_default": {
        "hidden": false
       }
      }
     }
    }
   },
   "source": [
    "### Linear Discriminant Analysis (LDA)\n",
    "\n",
    "***Hyperparameters used for grid search cross validation:***\n",
    "\n",
    "* Solver to use, possible values:\n",
    "\n",
    "    'svd': Singular value decomposition (default). Does not compute the covariance matrix, therefore this solver is recommended for data with a large number of features.\n",
    "    \n",
    "    'lsqr': Least squares solution.\n",
    "    \n",
    "    'eigen': Eigenvalue decomposition.\n",
    "    \n",
    "(https://scikit-learn.org/stable/modules/generated/sklearn.discriminant_analysis.LinearDiscriminantAnalysis.html)\n"
   ]
  },
  {
   "cell_type": "code",
   "execution_count": null,
   "metadata": {
    "ExecuteTime": {
     "end_time": "2019-01-23T00:22:53.632266Z",
     "start_time": "2019-01-23T00:22:53.510259Z"
    },
    "extensions": {
     "jupyter_dashboards": {
      "version": 1,
      "views": {
       "grid_default": {
        "hidden": true
       },
       "report_default": {
        "hidden": true
       }
      }
     }
    }
   },
   "outputs": [],
   "source": [
    "if ML_model_name is 'LDA':\n",
    "\n",
    "    ML_model = LDA()\n",
    "\n",
    "    # hyperparameters for grid search cross validation\n",
    "    param_grid = {'clf__solver': ['svd', 'lsqr', 'eigen']}"
   ]
  },
  {
   "cell_type": "markdown",
   "metadata": {
    "extensions": {
     "jupyter_dashboards": {
      "version": 1,
      "views": {
       "grid_default": {
        "col": 0,
        "height": 15,
        "hidden": false,
        "row": 44,
        "width": 12
       },
       "report_default": {
        "hidden": false
       }
      }
     }
    }
   },
   "source": [
    "### Support Vector Classifier (SVC)\n",
    "\n",
    "***Hyperparameters used for grid search cross validation:***\n",
    "\n",
    "* C : float, optional (default=1.0)\n",
    "\n",
    "    Penalty parameter C of the error term.\n",
    "\n",
    "\n",
    "* gamma : float, optional (default=’auto’)\n",
    "\n",
    "    Kernel coefficient for ‘rbf’, ‘poly’ and ‘sigmoid’.\n",
    "\n",
    "    Current default is ‘auto’ which uses 1 / n_features, if gamma='scale' is passed then it uses 1 / (n_features * X.std()) as value of gamma. The current default of gamma, ‘auto’, will change to ‘scale’ in version 0.22. ‘auto_deprecated’, a deprecated version of ‘auto’ is used as a default indicating that no explicit value of gamma was passed.\n",
    "\n",
    "\n",
    "NOTE:\n",
    "* probability : boolean, optional (default=False)\n",
    "\n",
    "    Whether to enable probability estimates. This must be enabled prior to calling fit, and will slow down that method.\n",
    "\n",
    "(https://scikit-learn.org/stable/modules/generated/sklearn.svm.SVC.html)\n"
   ]
  },
  {
   "cell_type": "code",
   "execution_count": null,
   "metadata": {
    "ExecuteTime": {
     "end_time": "2019-01-23T00:22:53.763273Z",
     "start_time": "2019-01-23T00:22:53.636266Z"
    },
    "extensions": {
     "jupyter_dashboards": {
      "version": 1,
      "views": {
       "grid_default": {
        "hidden": true
       },
       "report_default": {
        "hidden": true
       }
      }
     }
    }
   },
   "outputs": [],
   "source": [
    "if ML_model_name is 'SVC':\n",
    "\n",
    "    ML_model = SVC(probability=True)\n",
    "    \n",
    "    # hyperparameters for grid search cross validation\n",
    "    param_grid = {'clf__C': [0.5, 1, 2],\n",
    "                  'clf__gamma': ['scale', 0.01, 0.03]}"
   ]
  },
  {
   "cell_type": "markdown",
   "metadata": {
    "extensions": {
     "jupyter_dashboards": {
      "version": 1,
      "views": {
       "grid_default": {
        "col": 0,
        "height": 13,
        "hidden": false,
        "row": 59,
        "width": 12
       },
       "report_default": {
        "hidden": false
       }
      }
     }
    }
   },
   "source": [
    "### Random Forest Classifier (RFC)\n",
    "\n",
    "***Hyperparameters used for grid search cross validation:***\n",
    "\n",
    "* \tn_estimators : integer, optional (default=10)\n",
    "\n",
    "    The number of trees in the forest.\n",
    "\n",
    "    Changed in version 0.20: The default value of n_estimators will change from 10 in version 0.20 to 100 in version 0.22.\n",
    "    \n",
    "    \n",
    "* criterion : string, optional (default=”gini”)\n",
    "\n",
    "    The function to measure the quality of a split. Supported criteria are “gini” for the Gini impurity and “entropy” for the information gain. Note: this parameter is tree-specific.\n",
    "\n",
    "\n",
    "* max_depth : integer or None, optional (default=None)\n",
    "\n",
    "    The maximum depth of the tree. If None, then nodes are expanded until all leaves are pure or until all leaves contain less than min_samples_split samples.\n",
    "\n",
    "\n",
    "    \n",
    "(https://scikit-learn.org/stable/modules/generated/sklearn.ensemble.RandomForestClassifier.html)\n"
   ]
  },
  {
   "cell_type": "code",
   "execution_count": null,
   "metadata": {
    "ExecuteTime": {
     "end_time": "2019-01-23T00:22:53.913282Z",
     "start_time": "2019-01-23T00:22:53.769274Z"
    },
    "extensions": {
     "jupyter_dashboards": {
      "version": 1,
      "views": {
       "grid_default": {
        "hidden": true
       },
       "report_default": {
        "hidden": true
       }
      }
     }
    }
   },
   "outputs": [],
   "source": [
    "if ML_model_name is 'RFC':\n",
    "\n",
    "    ML_model = RandomForestClassifier(n_jobs=-1, random_state=42)\n",
    "\n",
    "    # hyperparameters for grid search cross validation\n",
    "    param_grid = {'clf__n_estimators': [50,100,200],\n",
    "                  'clf__criterion': [\"gini\", 'entropy'],\n",
    "                  'clf__max_depth': [10, 50, 100]}"
   ]
  },
  {
   "cell_type": "markdown",
   "metadata": {},
   "source": [
    "***\n",
    "***\n",
    "***\n",
    "***\n",
    "***"
   ]
  },
  {
   "cell_type": "markdown",
   "metadata": {},
   "source": [
    "***Docstring with summary of parameters and ML model:***"
   ]
  },
  {
   "cell_type": "code",
   "execution_count": null,
   "metadata": {
    "ExecuteTime": {
     "end_time": "2019-01-23T00:22:54.062290Z",
     "start_time": "2019-01-23T00:22:53.920282Z"
    }
   },
   "outputs": [],
   "source": [
    "file_doc_string = 'TestSub{}_NumSec{}_{}_{}_{date:%Y%m%d_%H%M%S}'.format(test_subject_id,\n",
    "                                                         number_sections,\n",
    "                                                         ML_model_name,\n",
    "                                                         add_info,\n",
    "                                                         date=datetime.datetime.now())\n",
    "file_doc_string "
   ]
  },
  {
   "cell_type": "markdown",
   "metadata": {},
   "source": [
    "***Function to print cell execution time (for html format):***"
   ]
  },
  {
   "cell_type": "code",
   "execution_count": null,
   "metadata": {
    "ExecuteTime": {
     "end_time": "2019-01-23T00:22:54.214299Z",
     "start_time": "2019-01-23T00:22:54.073291Z"
    }
   },
   "outputs": [],
   "source": [
    "def print_cell_exec_time(cell_start_time, info=''):\n",
    "    cell_execution_time = timeit.default_timer() - cell_start_time\n",
    "    print('{} -> execution time [min:sec]:  {}:{:.3f}'.format(info,\n",
    "                                                              int(cell_execution_time/60),\n",
    "                                                              cell_execution_time%60))"
   ]
  },
  {
   "cell_type": "markdown",
   "metadata": {},
   "source": [
    "Test it with 1.5 s sleeping:"
   ]
  },
  {
   "cell_type": "code",
   "execution_count": null,
   "metadata": {
    "ExecuteTime": {
     "end_time": "2019-01-23T00:22:55.895395Z",
     "start_time": "2019-01-23T00:22:54.218299Z"
    }
   },
   "outputs": [],
   "source": [
    "ct = timeit.default_timer()\n",
    "time.sleep(1.5)\n",
    "print_cell_exec_time(ct, 'Test')"
   ]
  },
  {
   "cell_type": "markdown",
   "metadata": {
    "extensions": {
     "jupyter_dashboards": {
      "version": 1,
      "views": {
       "grid_default": {
        "col": 0,
        "height": 4,
        "hidden": false,
        "row": 72,
        "width": 12
       },
       "report_default": {
        "hidden": false
       }
      }
     }
    }
   },
   "source": [
    "## Loading Training and Test Samples"
   ]
  },
  {
   "cell_type": "code",
   "execution_count": null,
   "metadata": {
    "ExecuteTime": {
     "end_time": "2019-01-23T00:23:43.092095Z",
     "start_time": "2019-01-23T00:22:55.912396Z"
    },
    "extensions": {
     "jupyter_dashboards": {
      "version": 1,
      "views": {
       "grid_default": {
        "hidden": true
       },
       "report_default": {
        "hidden": true
       }
      }
     }
    }
   },
   "outputs": [],
   "source": [
    "DataObj = PDH.PhysioData_SectionFeatures(num_sections=number_sections,\n",
    "                                         test_subject_ids=test_subject_id,\n",
    "                                         train_subject_ids=train_subject_ids,\n",
    "                                         test_rep_nums=test_repetition_numbers,\n",
    "                                         train_rep_nums=train_repetition_numbers,\n",
    "                                         test_ex_abbrs=test_exercises,\n",
    "                                         train_ex_abbrs=train_exercises,\n",
    "                                         rot_axis_test_data=rot_axis_test_data,\n",
    "                                         rot_angle_test_data=rot_angle_test_data,\n",
    "                                         add_noise_test_data=add_noise_test_data,\n",
    "                                         add_noise_train_data=add_noise_train_data,\n",
    "                                         snr_db=snr_db,\n",
    "                                         csv_data_dir=separated_csv_data_dir,\n",
    "                                         data_base_path=database_path,\n",
    "                                         sampling_rate=sampling_rate)"
   ]
  },
  {
   "cell_type": "markdown",
   "metadata": {
    "extensions": {
     "jupyter_dashboards": {
      "version": 1,
      "views": {
       "grid_default": {
        "col": 0,
        "height": 4,
        "hidden": false,
        "row": 20,
        "width": 4
       },
       "report_default": {
        "hidden": false
       }
      }
     }
    }
   },
   "source": [
    "***Load the start and stop times for each exercise repetition block of the test data:***"
   ]
  },
  {
   "cell_type": "code",
   "execution_count": null,
   "metadata": {
    "ExecuteTime": {
     "end_time": "2019-01-23T00:23:43.137097Z",
     "start_time": "2019-01-23T00:23:43.100095Z"
    },
    "extensions": {
     "jupyter_dashboards": {
      "version": 1,
      "views": {
       "grid_default": {
        "hidden": true
       },
       "report_default": {
        "hidden": true
       }
      }
     }
    }
   },
   "outputs": [],
   "source": [
    "timetable_ex_dict = get_timetable_ex_dict(timetable_file_dir, timetable_file_name)\n",
    "\n",
    "# Example:\n",
    "print(timetable_ex_dict['RF_5_start_time'] + ' - ' + timetable_ex_dict['RF_5_stop_time'])"
   ]
  },
  {
   "cell_type": "markdown",
   "metadata": {
    "extensions": {
     "jupyter_dashboards": {
      "version": 1,
      "views": {
       "grid_default": {
        "col": 0,
        "height": 4,
        "hidden": false,
        "row": 76,
        "width": 4
       },
       "report_default": {
        "hidden": false
       }
      }
     }
    }
   },
   "source": [
    "***Inspect loaded data for testing:***"
   ]
  },
  {
   "cell_type": "code",
   "execution_count": null,
   "metadata": {
    "ExecuteTime": {
     "end_time": "2019-01-23T00:23:43.316108Z",
     "start_time": "2019-01-23T00:23:43.154098Z"
    },
    "extensions": {
     "jupyter_dashboards": {
      "version": 1,
      "views": {
       "grid_default": {
        "hidden": true
       },
       "report_default": {
        "hidden": true
       }
      }
     }
    }
   },
   "outputs": [],
   "source": [
    "html_path = 'pivot_tables_html/TableTest_' + file_doc_string +'.html'\n",
    "pivot_ui(DataObj.get_test_data_points(), rows=['abbreviation'], cols=['subject_id', 'num_rep'], outfile_path=html_path)"
   ]
  },
  {
   "cell_type": "markdown",
   "metadata": {
    "extensions": {
     "jupyter_dashboards": {
      "version": 1,
      "views": {
       "grid_default": {
        "col": 4,
        "height": 4,
        "hidden": false,
        "row": 76,
        "width": 4
       },
       "report_default": {
        "hidden": false
       }
      }
     }
    }
   },
   "source": [
    "***Inspect loaded data for training:***"
   ]
  },
  {
   "cell_type": "code",
   "execution_count": null,
   "metadata": {
    "ExecuteTime": {
     "end_time": "2019-01-23T00:23:43.591123Z",
     "start_time": "2019-01-23T00:23:43.322108Z"
    },
    "extensions": {
     "jupyter_dashboards": {
      "version": 1,
      "views": {
       "grid_default": {
        "hidden": true
       },
       "report_default": {
        "hidden": true
       }
      }
     }
    }
   },
   "outputs": [],
   "source": [
    "html_path = 'pivot_tables_html/TableTrain_' + file_doc_string +'.html'\n",
    "pivot_ui(DataObj.get_train_data_points(), rows=['abbreviation'], cols=['subject_id', 'num_rep'], outfile_path=html_path)"
   ]
  },
  {
   "cell_type": "markdown",
   "metadata": {},
   "source": [
    "## Dimensionality Reduction\n",
    "\n",
    "First, save feature from object to own matrices:"
   ]
  },
  {
   "cell_type": "code",
   "execution_count": null,
   "metadata": {
    "ExecuteTime": {
     "end_time": "2019-01-23T00:23:43.678128Z",
     "start_time": "2019-01-23T00:23:43.596124Z"
    }
   },
   "outputs": [],
   "source": [
    "X_train = DataObj.X_train()\n",
    "X_test = DataObj.X_test()"
   ]
  },
  {
   "cell_type": "markdown",
   "metadata": {},
   "source": [
    "### Principal Component Analysis (PCA)"
   ]
  },
  {
   "cell_type": "code",
   "execution_count": null,
   "metadata": {
    "ExecuteTime": {
     "end_time": "2019-01-23T00:23:44.307164Z",
     "start_time": "2019-01-23T00:23:43.692129Z"
    }
   },
   "outputs": [],
   "source": [
    "if use_PCA_for_dim_reduction is True:\n",
    "    \n",
    "    # make pca model\n",
    "    pca = PCA(n_components=number_principal_components)\n",
    "\n",
    "    # create new features from PCA projections\n",
    "    ct = timeit.default_timer()\n",
    "    X_train = pca.fit_transform(DataObj.X_train())\n",
    "    print_cell_exec_time(ct, 'PCA train samples (fit and transform)')\n",
    "    \n",
    "    ct = timeit.default_timer()\n",
    "    X_test = pca.transform(DataObj.X_test())\n",
    "    print_cell_exec_time(ct, 'PCA test samples (transform)')\n",
    "    \n",
    "    print('Variance explained by the {} principal components:  {:.2f}%'.format(number_principal_components,\n",
    "                                                                        pca.explained_variance_ratio_.sum()*100))    \n",
    "    np.shape(X_test)"
   ]
  },
  {
   "cell_type": "markdown",
   "metadata": {},
   "source": [
    "### Linear Discriminat Analysis\n",
    "\n",
    "A fitted LDA model can also be used to reduce the dimensionality of the input by projecting it to the most discriminative directions ($\\rightarrow$ number of classes - 1)."
   ]
  },
  {
   "cell_type": "code",
   "execution_count": null,
   "metadata": {
    "ExecuteTime": {
     "end_time": "2019-01-23T00:23:44.335166Z",
     "start_time": "2019-01-23T00:23:44.314165Z"
    }
   },
   "outputs": [],
   "source": [
    "if use_LDA_for_dim_reduction is True:\n",
    "    \n",
    "    # make lda model\n",
    "    lda = LDA\n",
    "\n",
    "    # create new features from PCA projections\n",
    "    ct = timeit.default_timer()\n",
    "    X_train = lda.fit_transform(DataObj.X_train())\n",
    "    print_cell_exec_time(ct, 'LDA train samples (fit and transform)')\n",
    "    \n",
    "    ct = timeit.default_timer()\n",
    "    X_test = lda.transform(DataObj.X_test())\n",
    "    print_cell_exec_time(ct, 'LDA test samples (transform)')\n",
    "\n",
    "    np.shape(X_test)"
   ]
  },
  {
   "cell_type": "markdown",
   "metadata": {
    "extensions": {
     "jupyter_dashboards": {
      "version": 1,
      "views": {
       "grid_default": {
        "col": 8,
        "height": 4,
        "hidden": false,
        "row": 76,
        "width": 4
       },
       "report_default": {
        "hidden": false
       }
      }
     }
    }
   },
   "source": [
    "## ML Classifier Model"
   ]
  },
  {
   "cell_type": "markdown",
   "metadata": {
    "extensions": {
     "jupyter_dashboards": {
      "version": 1,
      "views": {
       "grid_default": {
        "col": 0,
        "height": 5,
        "hidden": false,
        "row": 80,
        "width": 12
       },
       "report_default": {
        "hidden": false
       }
      }
     }
    }
   },
   "source": [
    "***Create the selected model with input scaling:***\n",
    "\n",
    "Additionally, inputs are scaled, because many elements used in the objective function of a learning algorithm (such as the RBF kernel of Support Vector Machines or the L1 and L2 regularizers of linear models) assume that all features are centered around 0 and have variance in the same order.\n",
    "\n",
    "(see https://scikit-learn.org/stable/modules/generated/sklearn.preprocessing.StandardScaler.html)"
   ]
  },
  {
   "cell_type": "code",
   "execution_count": null,
   "metadata": {
    "ExecuteTime": {
     "end_time": "2019-01-23T00:23:44.513176Z",
     "start_time": "2019-01-23T00:23:44.340166Z"
    },
    "extensions": {
     "jupyter_dashboards": {
      "version": 1,
      "views": {
       "grid_default": {
        "hidden": true
       },
       "report_default": {
        "hidden": true
       }
      }
     }
    }
   },
   "outputs": [],
   "source": [
    "pipe_elements = [('scale', StandardScaler()), ('clf', ML_model)]\n",
    "ML_model_pipe = Pipeline(pipe_elements)"
   ]
  },
  {
   "cell_type": "markdown",
   "metadata": {
    "extensions": {
     "jupyter_dashboards": {
      "version": 1,
      "views": {
       "grid_default": {
        "col": 0,
        "height": 4,
        "hidden": false,
        "row": 85,
        "width": 4
       },
       "report_default": {
        "hidden": false
       }
      }
     }
    }
   },
   "source": [
    "### Grid Search Cross Validation"
   ]
  },
  {
   "cell_type": "markdown",
   "metadata": {
    "extensions": {
     "jupyter_dashboards": {
      "version": 1,
      "views": {
       "grid_default": {
        "col": 4,
        "height": 4,
        "hidden": false,
        "row": 85,
        "width": 4
       },
       "report_default": {
        "hidden": false
       }
      }
     }
    }
   },
   "source": [
    "***Splitting strategy for grid search: stratified cross validation with three folds***"
   ]
  },
  {
   "cell_type": "code",
   "execution_count": null,
   "metadata": {
    "ExecuteTime": {
     "end_time": "2019-01-23T00:23:44.644183Z",
     "start_time": "2019-01-23T00:23:44.523177Z"
    },
    "extensions": {
     "jupyter_dashboards": {
      "version": 1,
      "views": {
       "grid_default": {
        "hidden": true
       },
       "report_default": {
        "hidden": true
       }
      }
     }
    }
   },
   "outputs": [],
   "source": [
    "grid_search = GridSearchCV(ML_model_pipe, param_grid=param_grid, cv=3, scoring='accuracy', \n",
    "                           verbose=10, return_train_score=True, n_jobs=-1)"
   ]
  },
  {
   "cell_type": "markdown",
   "metadata": {
    "extensions": {
     "jupyter_dashboards": {
      "version": 1,
      "views": {
       "grid_default": {
        "col": 8,
        "height": 4,
        "hidden": false,
        "row": 85,
        "width": 4
       },
       "report_default": {
        "hidden": false
       }
      }
     }
    }
   },
   "source": [
    "***Apply grid search cross validation:***\n",
    "\n",
    "Run fit with all sets of parameters."
   ]
  },
  {
   "cell_type": "code",
   "execution_count": null,
   "metadata": {
    "ExecuteTime": {
     "end_time": "2019-01-23T00:25:04.105728Z",
     "start_time": "2019-01-23T00:23:44.651184Z"
    },
    "extensions": {
     "jupyter_dashboards": {
      "version": 1,
      "views": {
       "grid_default": {
        "hidden": true
       },
       "report_default": {
        "hidden": true
       }
      }
     }
    },
    "scrolled": false
   },
   "outputs": [],
   "source": [
    "ct = timeit.default_timer()\n",
    "grid_search.fit(X_train, DataObj.y_train())\n",
    "print_cell_exec_time(ct, 'Grid search cross validation')"
   ]
  },
  {
   "cell_type": "markdown",
   "metadata": {
    "extensions": {
     "jupyter_dashboards": {
      "version": 1,
      "views": {
       "grid_default": {
        "col": 0,
        "height": 4,
        "hidden": false,
        "row": 89,
        "width": 4
       },
       "report_default": {
        "hidden": false
       }
      }
     }
    }
   },
   "source": [
    "***Show the results of grid search cross validation:***"
   ]
  },
  {
   "cell_type": "code",
   "execution_count": null,
   "metadata": {
    "ExecuteTime": {
     "end_time": "2019-01-23T00:25:04.195734Z",
     "start_time": "2019-01-23T00:25:04.119729Z"
    },
    "extensions": {
     "jupyter_dashboards": {
      "version": 1,
      "views": {
       "grid_default": {
        "hidden": true
       },
       "report_default": {
        "hidden": true
       }
      }
     }
    },
    "scrolled": false
   },
   "outputs": [],
   "source": [
    "pd.DataFrame(grid_search.cv_results_)"
   ]
  },
  {
   "cell_type": "markdown",
   "metadata": {
    "extensions": {
     "jupyter_dashboards": {
      "version": 1,
      "views": {
       "grid_default": {
        "col": 4,
        "height": 4,
        "hidden": false,
        "row": 89,
        "width": 4
       },
       "report_default": {
        "hidden": false
       }
      }
     }
    }
   },
   "source": [
    "***Show best parameters:***"
   ]
  },
  {
   "cell_type": "code",
   "execution_count": null,
   "metadata": {
    "ExecuteTime": {
     "end_time": "2019-01-23T00:25:04.589756Z",
     "start_time": "2019-01-23T00:25:04.204734Z"
    },
    "extensions": {
     "jupyter_dashboards": {
      "version": 1,
      "views": {
       "grid_default": {
        "hidden": true
       },
       "report_default": {
        "hidden": true
       }
      }
     }
    }
   },
   "outputs": [],
   "source": [
    "grid_search.best_params_"
   ]
  },
  {
   "cell_type": "markdown",
   "metadata": {
    "extensions": {
     "jupyter_dashboards": {
      "version": 1,
      "views": {
       "grid_default": {
        "col": 8,
        "height": 4,
        "hidden": false,
        "row": 89,
        "width": 4
       },
       "report_default": {
        "hidden": false
       }
      }
     }
    }
   },
   "source": [
    "***Show best score of cross validation (on training data):***\n",
    "\n",
    "Mean cross-validated score of the best estimator."
   ]
  },
  {
   "cell_type": "code",
   "execution_count": null,
   "metadata": {
    "ExecuteTime": {
     "end_time": "2019-01-23T00:25:04.734764Z",
     "start_time": "2019-01-23T00:25:04.601757Z"
    },
    "extensions": {
     "jupyter_dashboards": {
      "version": 1,
      "views": {
       "grid_default": {
        "hidden": true
       },
       "report_default": {
        "hidden": true
       }
      }
     }
    }
   },
   "outputs": [],
   "source": [
    "print('Accuracy: {:.2f}%'.format(grid_search.best_score_*100))"
   ]
  },
  {
   "cell_type": "markdown",
   "metadata": {
    "ExecuteTime": {
     "end_time": "2019-01-21T10:00:28.021374Z",
     "start_time": "2019-01-21T10:00:28.005373Z"
    },
    "extensions": {
     "jupyter_dashboards": {
      "version": 1,
      "views": {
       "grid_default": {
        "col": 0,
        "height": 4,
        "hidden": false,
        "row": 93,
        "width": 4
       },
       "report_default": {
        "hidden": false
       }
      }
     }
    }
   },
   "source": [
    "***Get estimator that was chosen by the search:***\n",
    "\n",
    "Estimator which gave highest score on the left out data."
   ]
  },
  {
   "cell_type": "code",
   "execution_count": null,
   "metadata": {
    "ExecuteTime": {
     "end_time": "2019-01-23T00:25:04.880773Z",
     "start_time": "2019-01-23T00:25:04.739765Z"
    },
    "extensions": {
     "jupyter_dashboards": {
      "version": 1,
      "views": {
       "grid_default": {
        "hidden": true
       },
       "report_default": {
        "hidden": true
       }
      }
     }
    }
   },
   "outputs": [],
   "source": [
    "ML_model_best = grid_search.best_estimator_"
   ]
  },
  {
   "cell_type": "markdown",
   "metadata": {
    "extensions": {
     "jupyter_dashboards": {
      "version": 1,
      "views": {
       "grid_default": {
        "col": 0,
        "height": 7,
        "hidden": false,
        "row": 97,
        "width": 12
       },
       "report_default": {
        "hidden": false
       }
      }
     }
    }
   },
   "source": [
    "### Classification of Test Data (separated repetitions as samples)\n",
    "\n",
    "Now the (so far unseen) test samples are used, in order to check \n",
    "the performance of the generated ML model.\n",
    "\n",
    "At this point, it is important to keep in mind that the test samples were\n",
    "generated with information regarding start and stop times of the corresponding repetitions.\n",
    "Hence, the results of this section alone do not supply sufficient information for classification performance of new data, where start and stop times of the individual repetitions are not known.\n",
    "\n",
    "Nevertheless, it is a good point to start, because if classification on this samples does not work well,\n",
    "it is evident that classification of data without knowledge of start and stop times would even work much worse.\n",
    "And the actual goal is to classify data without knowledge of start and stop times of individual repetitions."
   ]
  },
  {
   "cell_type": "markdown",
   "metadata": {
    "extensions": {
     "jupyter_dashboards": {
      "version": 1,
      "views": {
       "grid_default": {
        "col": 4,
        "height": 4,
        "hidden": false,
        "row": 93,
        "width": 4
       },
       "report_default": {
        "hidden": false
       }
      }
     }
    }
   },
   "source": [
    "***Predict labels of the test data set:***"
   ]
  },
  {
   "cell_type": "code",
   "execution_count": null,
   "metadata": {
    "ExecuteTime": {
     "end_time": "2019-01-23T00:25:05.134787Z",
     "start_time": "2019-01-23T00:25:04.884773Z"
    },
    "extensions": {
     "jupyter_dashboards": {
      "version": 1,
      "views": {
       "grid_default": {
        "hidden": true
       },
       "report_default": {
        "hidden": true
       }
      }
     }
    }
   },
   "outputs": [],
   "source": [
    "ct = timeit.default_timer()\n",
    "y_pred = ML_model_best.predict(X_test)\n",
    "print_cell_exec_time(ct, 'Predict labels of sep. test samples')"
   ]
  },
  {
   "cell_type": "markdown",
   "metadata": {
    "ExecuteTime": {
     "end_time": "2019-01-21T10:05:31.548735Z",
     "start_time": "2019-01-21T10:05:31.529734Z"
    },
    "extensions": {
     "jupyter_dashboards": {
      "version": 1,
      "views": {
       "grid_default": {
        "col": 8,
        "height": 4,
        "hidden": false,
        "row": 93,
        "width": 4
       },
       "report_default": {
        "hidden": false
       }
      }
     }
    }
   },
   "source": [
    "*** Show score:***"
   ]
  },
  {
   "cell_type": "code",
   "execution_count": null,
   "metadata": {
    "ExecuteTime": {
     "end_time": "2019-01-23T00:25:05.197791Z",
     "start_time": "2019-01-23T00:25:05.138788Z"
    },
    "extensions": {
     "jupyter_dashboards": {
      "version": 1,
      "views": {
       "grid_default": {
        "hidden": true
       },
       "report_default": {
        "hidden": true
       }
      }
     }
    }
   },
   "outputs": [],
   "source": [
    "print('Accuracy: {:.2f}%\\n'.format((accuracy_score(DataObj.y_test(), y_pred))*100))"
   ]
  },
  {
   "cell_type": "markdown",
   "metadata": {
    "extensions": {
     "jupyter_dashboards": {
      "version": 1,
      "views": {
       "grid_default": {
        "col": 0,
        "height": 4,
        "hidden": false,
        "row": 104,
        "width": null
       },
       "report_default": {
        "hidden": false
       }
      }
     }
    }
   },
   "source": [
    "***Show classification report:***\n",
    "\n",
    "$precision = \\frac{TP}{TP + FP} \\qquad recall = \\frac{TP}{TP + FN} \\qquad f{\\text-}score = \\frac{precision \\cdot recall}{precision + recall}$"
   ]
  },
  {
   "cell_type": "code",
   "execution_count": null,
   "metadata": {
    "ExecuteTime": {
     "end_time": "2019-01-23T00:25:05.354800Z",
     "start_time": "2019-01-23T00:25:05.207791Z"
    },
    "extensions": {
     "jupyter_dashboards": {
      "version": 1,
      "views": {
       "grid_default": {
        "hidden": true
       },
       "report_default": {
        "hidden": true
       }
      }
     }
    }
   },
   "outputs": [],
   "source": [
    "classif_report = classification_report(DataObj.y_test(), y_pred, labels=np.arange(0,11),\n",
    "                               target_names=['RF','RO','RS','LR','BC','TC','MP','SA','P1','P2','NE'],\n",
    "                               sample_weight=None, output_dict=True)\n",
    "pd.DataFrame.from_dict(classif_report, orient='index')"
   ]
  },
  {
   "cell_type": "markdown",
   "metadata": {
    "extensions": {
     "jupyter_dashboards": {
      "version": 1,
      "views": {
       "grid_default": {
        "col": 0,
        "height": 4,
        "hidden": false,
        "row": 108,
        "width": 4
       },
       "report_default": {
        "hidden": false
       }
      }
     }
    }
   },
   "source": [
    "***Show misclassified test samples:***"
   ]
  },
  {
   "cell_type": "code",
   "execution_count": null,
   "metadata": {
    "ExecuteTime": {
     "end_time": "2019-01-23T00:25:05.517809Z",
     "start_time": "2019-01-23T00:25:05.365800Z"
    },
    "extensions": {
     "jupyter_dashboards": {
      "version": 1,
      "views": {
       "grid_default": {
        "hidden": true
       },
       "report_default": {
        "hidden": true
       }
      }
     }
    },
    "scrolled": false
   },
   "outputs": [],
   "source": [
    "print_misclassified_data_points(y_pred, DataObj.y_test())"
   ]
  },
  {
   "cell_type": "markdown",
   "metadata": {
    "extensions": {
     "jupyter_dashboards": {
      "version": 1,
      "views": {
       "grid_default": {
        "col": 0,
        "height": 4,
        "hidden": false,
        "row": 112,
        "width": 12
       },
       "report_default": {
        "hidden": false
       }
      }
     }
    }
   },
   "source": [
    "### Classification of Test Data (whole record)\n",
    "\n",
    "Therefore, a certain windowing procedure is used in order to generate test samples."
   ]
  },
  {
   "cell_type": "code",
   "execution_count": null,
   "metadata": {
    "ExecuteTime": {
     "end_time": "2019-01-23T00:25:16.817455Z",
     "start_time": "2019-01-23T00:25:05.523810Z"
    },
    "extensions": {
     "jupyter_dashboards": {
      "version": 1,
      "views": {
       "grid_default": {
        "hidden": true
       },
       "report_default": {
        "hidden": true
       }
      }
     }
    }
   },
   "outputs": [],
   "source": [
    "DataObject_WinProc = PDH.PhysioData_WindowingProcedure(test_subject_dir = test_subject_dir,\n",
    "                                                       test_subject_file = test_subject_file,\n",
    "                                                       number_sections = number_sections,\n",
    "                                                       sampling_rate = sampling_rate,\n",
    "                                                       cutoff = butterworth_cutoff,\n",
    "                                                       order = butterworth_order,\n",
    "                                                       win_start_inc = win_start_inc,\n",
    "                                                       win_stretch_inc = win_stretch_inc,\n",
    "                                                       win_min_len = win_min_len,\n",
    "                                                       win_max_len = win_max_len,\n",
    "                                                       rot_axis=rot_axis_test_data,\n",
    "                                                       rot_angle=rot_angle_test_data,\n",
    "                                                       add_noise=add_noise_test_data,\n",
    "                                                       target_snr_db=snr_db)\n",
    "np.shape(DataObject_WinProc.get_feature_map())"
   ]
  },
  {
   "cell_type": "markdown",
   "metadata": {
    "extensions": {
     "jupyter_dashboards": {
      "version": 1,
      "views": {
       "grid_default": {
        "col": 4,
        "height": 4,
        "hidden": false,
        "row": 108,
        "width": 4
       },
       "report_default": {
        "hidden": false
       }
      }
     }
    }
   },
   "source": [
    "***Predict probabilities of the generated samples:***\n",
    "\n",
    "(Also consider dimensionality reduction, if used.)"
   ]
  },
  {
   "cell_type": "code",
   "execution_count": null,
   "metadata": {
    "ExecuteTime": {
     "end_time": "2019-01-23T00:25:16.830456Z",
     "start_time": "2019-01-23T00:25:16.823456Z"
    }
   },
   "outputs": [],
   "source": [
    "feature_map = DataObject_WinProc.get_feature_map()"
   ]
  },
  {
   "cell_type": "code",
   "execution_count": null,
   "metadata": {
    "ExecuteTime": {
     "end_time": "2019-01-23T00:25:17.244480Z",
     "start_time": "2019-01-23T00:25:16.836457Z"
    },
    "extensions": {
     "jupyter_dashboards": {
      "version": 1,
      "views": {
       "grid_default": {
        "hidden": true
       },
       "report_default": {
        "hidden": true
       }
      }
     }
    }
   },
   "outputs": [],
   "source": [
    "ct = timeit.default_timer()\n",
    "\n",
    "if use_PCA_for_dim_reduction is True:\n",
    "    feature_map = pca.transform(feature_map)\n",
    "    \n",
    "if use_LDA_for_dim_reduction is True:\n",
    "    feature_map = lda.transform(feature_map)\n",
    "    \n",
    "print_cell_exec_time(ct, 'Dimensionality reduction of feature map')"
   ]
  },
  {
   "cell_type": "code",
   "execution_count": null,
   "metadata": {
    "ExecuteTime": {
     "end_time": "2019-01-23T00:25:22.353772Z",
     "start_time": "2019-01-23T00:25:17.248480Z"
    }
   },
   "outputs": [],
   "source": [
    "ct = timeit.default_timer()\n",
    "pred_probs = ML_model_best.predict_proba(feature_map)\n",
    "print_cell_exec_time(ct, 'Predict probabilities of feature map')\n",
    "np.shape(pred_probs)"
   ]
  },
  {
   "cell_type": "markdown",
   "metadata": {
    "extensions": {
     "jupyter_dashboards": {
      "version": 1,
      "views": {
       "grid_default": {
        "col": 8,
        "height": 4,
        "hidden": false,
        "row": 108,
        "width": 4
       },
       "report_default": {
        "hidden": false
       }
      }
     }
    }
   },
   "source": [
    "***Evaluate the predicted probabilites:***"
   ]
  },
  {
   "cell_type": "code",
   "execution_count": null,
   "metadata": {
    "ExecuteTime": {
     "end_time": "2019-01-23T00:25:23.735851Z",
     "start_time": "2019-01-23T00:25:22.360773Z"
    },
    "extensions": {
     "jupyter_dashboards": {
      "version": 1,
      "views": {
       "grid_default": {
        "hidden": true
       },
       "report_default": {
        "hidden": true
       }
      }
     }
    },
    "scrolled": true
   },
   "outputs": [],
   "source": [
    "DataObject_WinProc.evaluate_probability_matrix(pred_probabilities=pred_probs,\n",
    "                                               max_time_between_peaks=max_time_between_peaks,\n",
    "                                               min_peaks_per_block=min_peaks_per_block,\n",
    "                                               threshold_prob=threshold_prob,\n",
    "                                               footprint_length=footprint_length,\n",
    "                                               print_rep_len_prob=print_rep_len_prob)"
   ]
  },
  {
   "cell_type": "code",
   "execution_count": null,
   "metadata": {
    "ExecuteTime": {
     "end_time": "2019-01-23T00:25:39.231738Z",
     "start_time": "2019-01-23T00:25:23.739851Z"
    },
    "extensions": {
     "jupyter_dashboards": {
      "version": 1,
      "views": {
       "grid_default": {
        "col": 0,
        "height": 68,
        "hidden": false,
        "row": 116,
        "width": 4
       },
       "report_default": {
        "hidden": false
       }
      }
     }
    },
    "scrolled": true
   },
   "outputs": [],
   "source": [
    "for ex_rep_block in plot_exercise_repetition_blocks:\n",
    "    DataObject_WinProc.plot_probability_matrices_and_peaks(title_text='Predicted Probabilites Subject {}  ({})'.format(\n",
    "                                           test_subject_id, ML_model_name),\n",
    "                                           default_settings_smaller_plot=True,\n",
    "                                           plot_time_range=True,\n",
    "                                           start_time=timetable_ex_dict[ex_rep_block+'_start_time'],\n",
    "                                           stop_time=timetable_ex_dict[ex_rep_block+'_stop_time'],\n",
    "                                           time_offset_before_and_after=plot_time_offset_before_and_after,\n",
    "                                           plot_actual_classes=True,\n",
    "                                           timetable_file_dir=timetable_file_dir,\n",
    "                                           timetable_file_name=timetable_file_name)"
   ]
  },
  {
   "cell_type": "markdown",
   "metadata": {},
   "source": [
    "***\n",
    "***\n",
    "***\n",
    "***\n",
    "***"
   ]
  },
  {
   "cell_type": "markdown",
   "metadata": {},
   "source": [
    "## Function to Print Evaluation Summary"
   ]
  },
  {
   "cell_type": "code",
   "execution_count": null,
   "metadata": {
    "ExecuteTime": {
     "end_time": "2019-01-23T00:25:39.443750Z",
     "start_time": "2019-01-23T00:25:39.234738Z"
    }
   },
   "outputs": [],
   "source": [
    "def print_eval_summary():\n",
    "    '''\n",
    "    Function to print evaluation summary.\n",
    "    \n",
    "    No parameters, no returns (global variables are used).\n",
    "    '''\n",
    "    \n",
    "    print('\\n    Summary of Evaluation Report\\n')\n",
    "\n",
    "    print('Test data set:')\n",
    "    print('\\tSubject ID: \\t{}'.format(test_subject_id))\n",
    "    print('\\tSamples: \\t{}'.format(np.shape(DataObj.X_test())[0]))\n",
    "    print('\\tRep. num.: \\t{}'.format(test_repetition_numbers))\n",
    "    print('\\tExercises: \\t{}'.format(test_exercises))\n",
    "    print('\\tRotation axes: \\t{}'.format(rot_axis_test_data))\n",
    "    print('\\tRot. angles: \\t{}'.format(rot_angle_test_data))\n",
    "    if add_noise_test_data:\n",
    "        print('\\tSNR: \\t\\t{} db'.format(snr_db))\n",
    "    else:\n",
    "        print('\\tSNR: \\t\\tnone')\n",
    "\n",
    "    print('\\nTrain data set:')\n",
    "    print('\\tSubject ID(s): \\t{}'.format(train_subject_ids))\n",
    "    print('\\tSamples: \\t{}'.format(np.shape(DataObj.X_train())[0]))\n",
    "    print('\\tRep. num.: \\t{}'.format(train_repetition_numbers))\n",
    "    print('\\tExercises: \\t{}'.format(train_exercises))\n",
    "    if add_noise_train_data:\n",
    "        print('\\tSNR: \\t{} db'.format(snr_db))\n",
    "    else:\n",
    "        print('\\tSNR: \\t\\tnone')\n",
    "\n",
    "    print('\\nNumber of sections to split each rep.: {}'.format(number_sections))\n",
    "\n",
    "    if use_PCA_for_dim_reduction is True:\n",
    "        print('\\nDimensionality reduction: \\tPCA ({} PCs)'.format(number_principal_components))\n",
    "    if use_LDA_for_dim_reduction is True:\n",
    "        print('\\nDimensionality reduction: \\tLDA')\n",
    "    if use_PCA_for_dim_reduction is False and use_LDA_for_dim_reduction is False:\n",
    "        print('\\nDimensionality reduction: \\tnone')\n",
    "\n",
    "    print('\\nEindowing procedure:')\n",
    "    print('\\tWin. start inc.: \\t{} s'.format(win_start_inc))\n",
    "    print('\\tWin. stretch inc.: \\t{} s'.format(win_stretch_inc))\n",
    "    print('\\tMin. win. length: \\t{} s'.format(win_min_len))\n",
    "    print('\\tMax. win. length: \\t{} s'.format(win_max_len))\n",
    "    print('\\tFilter order: \\t\\t{}'.format(butterworth_order))  \n",
    "    print('\\tCutoff frequency: \\t{} Hz'.format(butterworth_cutoff)) \n",
    "\n",
    "    print('\\nEvaluation of probability matrices:')\n",
    "    print('\\tMax. time betw. 2 rep.:\\t{} s'.format(max_time_between_peaks))\n",
    "    print('\\tMin rep. per block: \\t{}'.format(min_peaks_per_block))\n",
    "    print('\\tProb. threshold: \\t{}'.format(threshold_prob))\n",
    "    print('\\tFootprint length: \\t{} s'.format(footprint_length))\n",
    "\n",
    "    print('\\nMachine Learning:')\n",
    "    print('\\tModel: \\t{}'.format(ML_model_name))\n",
    "    print('\\tParam. for grid search cross val.:')\n",
    "    for param in param_grid:\n",
    "        print('\\t\\t{}: {}'.format(param, param_grid[param]))\n",
    "    print('\\tBest parameters:')    \n",
    "    for param in grid_search.best_params_:\n",
    "        print('\\t\\t{}: {}'.format(param, grid_search.best_params_[param]))\n",
    "    print('\\tBest score (gridsearchCV): \\t{:.2f}%'.format(grid_search.best_score_*100))\n",
    "    print('\\n\\tScore on sep. test samples: \\t{:.2f}%\\n'.format((accuracy_score(DataObj.y_test(), y_pred))*100))\n",
    "    print('\\tExerc.\\tPrec.\\tRecall\\tF1-Sc.\\tSupport')\n",
    "    for ex in ['RF','RO','RS','LR','BC','TC','MP','SA','P1','P2','NE']:\n",
    "        print('\\t{}\\t{:.4f}\\t{:.4f}\\t{:.4f}\\t{:7d}'.format(ex, classif_report[ex]['precision'], \n",
    "                                                          classif_report[ex]['recall'],\n",
    "                                                          classif_report[ex]['f1-score'], \n",
    "                                                          classif_report[ex]['support']))\n",
    "    print('\\t{}\\t{:.4f}\\t{:.4f}\\t{:.4f}\\t{:7d}'.format('total', classif_report['micro avg']['precision'], \n",
    "                                                          classif_report['micro avg']['recall'],\n",
    "                                                          classif_report['micro avg']['f1-score'], \n",
    "                                                          classif_report['micro avg']['support']))\n"
   ]
  },
  {
   "cell_type": "markdown",
   "metadata": {},
   "source": [
    "***Execute the cell with the evaluation summary:***"
   ]
  },
  {
   "cell_type": "code",
   "execution_count": null,
   "metadata": {
    "ExecuteTime": {
     "end_time": "2019-01-23T00:25:39.625760Z",
     "start_time": "2019-01-23T00:25:39.446750Z"
    }
   },
   "outputs": [],
   "source": [
    "%%javascript\n",
    "Jupyter.notebook.execute_cells([1])"
   ]
  }
 ],
 "metadata": {
  "extensions": {
   "jupyter_dashboards": {
    "activeView": "report_default",
    "version": 1,
    "views": {
     "grid_default": {
      "cellMargin": 10,
      "defaultCellHeight": 20,
      "maxColumns": 12,
      "name": "grid",
      "type": "grid"
     },
     "report_default": {
      "name": "report",
      "type": "report"
     }
    }
   }
  },
  "kernelspec": {
   "display_name": "Python 3",
   "language": "python",
   "name": "python3"
  },
  "language_info": {
   "codemirror_mode": {
    "name": "ipython",
    "version": 3
   },
   "file_extension": ".py",
   "mimetype": "text/x-python",
   "name": "python",
   "nbconvert_exporter": "python",
   "pygments_lexer": "ipython3",
   "version": "3.6.2"
  },
  "toc": {
   "base_numbering": 1,
   "nav_menu": {},
   "number_sections": true,
   "sideBar": true,
   "skip_h1_title": false,
   "title_cell": "Table of Contents",
   "title_sidebar": "Contents",
   "toc_cell": false,
   "toc_position": {
    "height": "calc(100% - 180px)",
    "left": "10px",
    "top": "150px",
    "width": "307px"
   },
   "toc_section_display": true,
   "toc_window_display": true
  }
 },
 "nbformat": 4,
 "nbformat_minor": 2
}
